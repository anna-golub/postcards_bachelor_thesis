{
  "cells": [
    {
      "cell_type": "markdown",
      "source": [
        "# **Pipeline**"
      ],
      "metadata": {
        "id": "X-zpRSEbwRUB"
      }
    },
    {
      "cell_type": "markdown",
      "metadata": {
        "id": "PIkh6LXr8Sd7"
      },
      "source": [
        "# Читаем базы"
      ]
    },
    {
      "cell_type": "code",
      "execution_count": 1,
      "metadata": {
        "id": "910xkhDHQi6G"
      },
      "outputs": [],
      "source": [
        "import pandas as pd"
      ]
    },
    {
      "cell_type": "markdown",
      "metadata": {
        "id": "CLaATX0LSUn3"
      },
      "source": [
        "## База 1"
      ]
    },
    {
      "cell_type": "code",
      "execution_count": null,
      "metadata": {
        "id": "a5qe88L7QrP4"
      },
      "outputs": [],
      "source": [
        "base_1 = pd.ExcelFile('/content/drive/MyDrive/Системный Блок/пишу тебе/открытки базы/Расшифровка открыток (основная база).xlsx')\n",
        "base_1 = pd.read_excel(base_1, 'Открытки')\n",
        "base_1['Номер открытки'] = base_1['Номер открытки'].astype(int)\n",
        "base_1 = base_1[~(((base_1['Pic_url_1'].isna()) | (base_1['Pic_url_1'] == 0.0)) &\n",
        "                ((base_1['Pic_url_2'].isna()) | (base_1['Pic_url_2'] == 0.0)))\n",
        "                ]\n",
        "base_1.head()"
      ]
    },
    {
      "cell_type": "code",
      "execution_count": 10,
      "metadata": {
        "colab": {
          "base_uri": "https://localhost:8080/"
        },
        "id": "r4Vvoq2USr16",
        "outputId": "8e0c3de5-e2c8-4fe0-c4fa-d7859a789fe3"
      },
      "outputs": [
        {
          "output_type": "execute_result",
          "data": {
            "text/plain": [
              "(6031, 60)"
            ]
          },
          "metadata": {},
          "execution_count": 10
        }
      ],
      "source": [
        "base_1.shape"
      ]
    },
    {
      "cell_type": "code",
      "source": [
        "base_1[base_1['Статус (распределено, в процессе, завершено, проблема)'\n",
        "  ].isin(['Исключено', 0, 'Исключено/ трудный почерк'])].groupby(\n",
        "      ['Статус (распределено, в процессе, завершено, проблема)', 'Проблема']\n",
        "      )['Номер открытки'].count()"
      ],
      "metadata": {
        "colab": {
          "base_uri": "https://localhost:8080/"
        },
        "id": "XxhwmoZbCaPe",
        "outputId": "a7a173ee-2303-46c8-973f-a8b3c464e924"
      },
      "execution_count": 11,
      "outputs": [
        {
          "output_type": "execute_result",
          "data": {
            "text/plain": [
              "Статус (распределено, в процессе, завершено, проблема)  Проблема                        \n",
              "Исключено                                               Большие поля                        30\n",
              "                                                        Две стороны на одном изображении     6\n",
              "                                                        Отсутствует                          6\n",
              "                                                        Требуется поворот                    9\n",
              "Исключено/ трудный почерк                               Отсутствует                         10\n",
              "Name: Номер открытки, dtype: int64"
            ]
          },
          "metadata": {},
          "execution_count": 11
        }
      ]
    },
    {
      "cell_type": "code",
      "source": [
        "base_1[base_1['Статус (распределено, в процессе, завершено, проблема)'\n",
        "  ].isin(['Исключено', 0, 'Исключено/ трудный почерк'])\n",
        "  ]['Проблема'].isna().groupby(\n",
        "    base_1['Статус (распределено, в процессе, завершено, проблема)']\n",
        "    ).sum().astype(int).reset_index(name='count')"
      ],
      "metadata": {
        "colab": {
          "base_uri": "https://localhost:8080/",
          "height": 112
        },
        "id": "bTh9WFs2oXbI",
        "outputId": "1cd4a8b4-889b-411a-e5e1-b07ba3870979"
      },
      "execution_count": 12,
      "outputs": [
        {
          "output_type": "execute_result",
          "data": {
            "text/plain": [
              "  Статус (распределено, в процессе, завершено, проблема)  count\n",
              "0                                          Исключено          0\n",
              "1                          Исключено/ трудный почерк          0"
            ],
            "text/html": [
              "\n",
              "  <div id=\"df-37693996-6e51-4de8-995c-7f588437b941\">\n",
              "    <div class=\"colab-df-container\">\n",
              "      <div>\n",
              "<style scoped>\n",
              "    .dataframe tbody tr th:only-of-type {\n",
              "        vertical-align: middle;\n",
              "    }\n",
              "\n",
              "    .dataframe tbody tr th {\n",
              "        vertical-align: top;\n",
              "    }\n",
              "\n",
              "    .dataframe thead th {\n",
              "        text-align: right;\n",
              "    }\n",
              "</style>\n",
              "<table border=\"1\" class=\"dataframe\">\n",
              "  <thead>\n",
              "    <tr style=\"text-align: right;\">\n",
              "      <th></th>\n",
              "      <th>Статус (распределено, в процессе, завершено, проблема)</th>\n",
              "      <th>count</th>\n",
              "    </tr>\n",
              "  </thead>\n",
              "  <tbody>\n",
              "    <tr>\n",
              "      <th>0</th>\n",
              "      <td>Исключено</td>\n",
              "      <td>0</td>\n",
              "    </tr>\n",
              "    <tr>\n",
              "      <th>1</th>\n",
              "      <td>Исключено/ трудный почерк</td>\n",
              "      <td>0</td>\n",
              "    </tr>\n",
              "  </tbody>\n",
              "</table>\n",
              "</div>\n",
              "      <button class=\"colab-df-convert\" onclick=\"convertToInteractive('df-37693996-6e51-4de8-995c-7f588437b941')\"\n",
              "              title=\"Convert this dataframe to an interactive table.\"\n",
              "              style=\"display:none;\">\n",
              "        \n",
              "  <svg xmlns=\"http://www.w3.org/2000/svg\" height=\"24px\"viewBox=\"0 0 24 24\"\n",
              "       width=\"24px\">\n",
              "    <path d=\"M0 0h24v24H0V0z\" fill=\"none\"/>\n",
              "    <path d=\"M18.56 5.44l.94 2.06.94-2.06 2.06-.94-2.06-.94-.94-2.06-.94 2.06-2.06.94zm-11 1L8.5 8.5l.94-2.06 2.06-.94-2.06-.94L8.5 2.5l-.94 2.06-2.06.94zm10 10l.94 2.06.94-2.06 2.06-.94-2.06-.94-.94-2.06-.94 2.06-2.06.94z\"/><path d=\"M17.41 7.96l-1.37-1.37c-.4-.4-.92-.59-1.43-.59-.52 0-1.04.2-1.43.59L10.3 9.45l-7.72 7.72c-.78.78-.78 2.05 0 2.83L4 21.41c.39.39.9.59 1.41.59.51 0 1.02-.2 1.41-.59l7.78-7.78 2.81-2.81c.8-.78.8-2.07 0-2.86zM5.41 20L4 18.59l7.72-7.72 1.47 1.35L5.41 20z\"/>\n",
              "  </svg>\n",
              "      </button>\n",
              "      \n",
              "  <style>\n",
              "    .colab-df-container {\n",
              "      display:flex;\n",
              "      flex-wrap:wrap;\n",
              "      gap: 12px;\n",
              "    }\n",
              "\n",
              "    .colab-df-convert {\n",
              "      background-color: #E8F0FE;\n",
              "      border: none;\n",
              "      border-radius: 50%;\n",
              "      cursor: pointer;\n",
              "      display: none;\n",
              "      fill: #1967D2;\n",
              "      height: 32px;\n",
              "      padding: 0 0 0 0;\n",
              "      width: 32px;\n",
              "    }\n",
              "\n",
              "    .colab-df-convert:hover {\n",
              "      background-color: #E2EBFA;\n",
              "      box-shadow: 0px 1px 2px rgba(60, 64, 67, 0.3), 0px 1px 3px 1px rgba(60, 64, 67, 0.15);\n",
              "      fill: #174EA6;\n",
              "    }\n",
              "\n",
              "    [theme=dark] .colab-df-convert {\n",
              "      background-color: #3B4455;\n",
              "      fill: #D2E3FC;\n",
              "    }\n",
              "\n",
              "    [theme=dark] .colab-df-convert:hover {\n",
              "      background-color: #434B5C;\n",
              "      box-shadow: 0px 1px 3px 1px rgba(0, 0, 0, 0.15);\n",
              "      filter: drop-shadow(0px 1px 2px rgba(0, 0, 0, 0.3));\n",
              "      fill: #FFFFFF;\n",
              "    }\n",
              "  </style>\n",
              "\n",
              "      <script>\n",
              "        const buttonEl =\n",
              "          document.querySelector('#df-37693996-6e51-4de8-995c-7f588437b941 button.colab-df-convert');\n",
              "        buttonEl.style.display =\n",
              "          google.colab.kernel.accessAllowed ? 'block' : 'none';\n",
              "\n",
              "        async function convertToInteractive(key) {\n",
              "          const element = document.querySelector('#df-37693996-6e51-4de8-995c-7f588437b941');\n",
              "          const dataTable =\n",
              "            await google.colab.kernel.invokeFunction('convertToInteractive',\n",
              "                                                     [key], {});\n",
              "          if (!dataTable) return;\n",
              "\n",
              "          const docLinkHtml = 'Like what you see? Visit the ' +\n",
              "            '<a target=\"_blank\" href=https://colab.research.google.com/notebooks/data_table.ipynb>data table notebook</a>'\n",
              "            + ' to learn more about interactive tables.';\n",
              "          element.innerHTML = '';\n",
              "          dataTable['output_type'] = 'display_data';\n",
              "          await google.colab.output.renderOutput(dataTable, element);\n",
              "          const docLink = document.createElement('div');\n",
              "          docLink.innerHTML = docLinkHtml;\n",
              "          element.appendChild(docLink);\n",
              "        }\n",
              "      </script>\n",
              "    </div>\n",
              "  </div>\n",
              "  "
            ]
          },
          "metadata": {},
          "execution_count": 12
        }
      ]
    },
    {
      "cell_type": "markdown",
      "metadata": {
        "id": "szN-Q0vCSgzJ"
      },
      "source": [
        "## База 2"
      ]
    },
    {
      "cell_type": "code",
      "execution_count": null,
      "metadata": {
        "id": "sQ37LFP6SiCL"
      },
      "outputs": [],
      "source": [
        "base_2 = pd.ExcelFile('/content/drive/MyDrive/Системный Блок/пишу тебе/открытки базы/Расшифровка открыток 2 (Ярмарка проектов).xlsx')\n",
        "base_2 = pd.read_excel(base_2, 'Открытки')\n",
        "base_2['Номер открытки'] = base_2['Номер открытки'].astype(int)\n",
        "base_2.head()"
      ]
    },
    {
      "cell_type": "code",
      "execution_count": 5,
      "metadata": {
        "colab": {
          "base_uri": "https://localhost:8080/"
        },
        "id": "WSCUYuYQRia5",
        "outputId": "41f21833-4158-401e-e1c3-b5f43fc95fef"
      },
      "outputs": [
        {
          "output_type": "execute_result",
          "data": {
            "text/plain": [
              "(4968, 60)"
            ]
          },
          "metadata": {},
          "execution_count": 5
        }
      ],
      "source": [
        "base_2.shape"
      ]
    },
    {
      "cell_type": "markdown",
      "metadata": {
        "id": "uLHW4Gp-THbB"
      },
      "source": [
        "## База 3"
      ]
    },
    {
      "cell_type": "code",
      "execution_count": null,
      "metadata": {
        "id": "PuYWAHGUTG_C"
      },
      "outputs": [],
      "source": [
        "base_3 = pd.ExcelFile('/content/drive/MyDrive/Системный Блок/пишу тебе/открытки базы/Расшифровка открыток 3 (Ярмарка проектов).xlsx')\n",
        "base_3 = pd.read_excel(base_3, 'Открытки')\n",
        "base_3 = base_3[~base_3['Номер открытки'].isna()]\n",
        "base_3['Номер открытки'] = base_3['Номер открытки'].astype(int)\n",
        "base_3.head()"
      ]
    },
    {
      "cell_type": "code",
      "execution_count": 7,
      "metadata": {
        "colab": {
          "base_uri": "https://localhost:8080/"
        },
        "id": "D60kWjioT62V",
        "outputId": "7355d88d-d609-48cb-b888-52b426c58a0f"
      },
      "outputs": [
        {
          "output_type": "execute_result",
          "data": {
            "text/plain": [
              "(10453, 60)"
            ]
          },
          "metadata": {},
          "execution_count": 7
        }
      ],
      "source": [
        "base_3.shape"
      ]
    },
    {
      "cell_type": "markdown",
      "source": [
        "## База 4"
      ],
      "metadata": {
        "id": "mNjaHkiQU6yh"
      }
    },
    {
      "cell_type": "code",
      "source": [
        "base_4 = pd.ExcelFile('/content/drive/MyDrive/Системный Блок/пишу тебе/открытки базы/_Расшифровка открыток 4 (ярмарка проектов).xlsx')\n",
        "base_4 = pd.read_excel(base_4, 'Открытки')\n",
        "base_4 = base_4[~base_4['Номер открытки'].isna()]\n",
        "base_4['Номер открытки'] = base_4['Номер открытки'].astype(int)\n",
        "base_4 = base_4[~(((base_4['Pic_url_1'].isna()) | (base_4['Pic_url_1'] == 0.0)) &\n",
        "                ((base_4['Pic_url_2'].isna()) | (base_4['Pic_url_2'] == 0.0)))\n",
        "                ]\n",
        "base_4.head()"
      ],
      "metadata": {
        "id": "ojZ9BrJPU6Pe"
      },
      "execution_count": null,
      "outputs": []
    },
    {
      "cell_type": "code",
      "source": [
        "base_4.shape"
      ],
      "metadata": {
        "colab": {
          "base_uri": "https://localhost:8080/"
        },
        "id": "hIcz_-mnVL4H",
        "outputId": "965f9c53-6c6a-4cc7-dc71-60ba2b38930a"
      },
      "execution_count": 9,
      "outputs": [
        {
          "output_type": "execute_result",
          "data": {
            "text/plain": [
              "(10827, 60)"
            ]
          },
          "metadata": {},
          "execution_count": 9
        }
      ]
    },
    {
      "cell_type": "markdown",
      "metadata": {
        "id": "7uWvqj98VkvN"
      },
      "source": [
        "## Объединяем базы"
      ]
    },
    {
      "cell_type": "code",
      "execution_count": 34,
      "metadata": {
        "id": "trstgNbaVtuW"
      },
      "outputs": [],
      "source": [
        "base_1['base'] = 1\n",
        "base_2['base'] = 2\n",
        "base_3['base'] = 3\n",
        "base_4['base'] = 4"
      ]
    },
    {
      "cell_type": "code",
      "execution_count": 35,
      "metadata": {
        "colab": {
          "base_uri": "https://localhost:8080/"
        },
        "id": "cfHBmrpuUQja",
        "outputId": "d09d9a1e-e8ca-48e5-c344-3dcaa6cf3093"
      },
      "outputs": [
        {
          "output_type": "execute_result",
          "data": {
            "text/plain": [
              "(32279, 7)"
            ]
          },
          "metadata": {},
          "execution_count": 35
        }
      ],
      "source": [
        "df = pd.concat([base_1, base_2, base_3, base_4])\n",
        "df = df[['Номер открытки', 'Pic_url_1', 'Pic_url_2', 'base',\n",
        "         'Разрешение на публикацию',\n",
        "         'Статус (распределено, в процессе, завершено, проблема)',\n",
        "         'Проблема']]\n",
        "df.shape"
      ]
    },
    {
      "cell_type": "code",
      "execution_count": 36,
      "metadata": {
        "colab": {
          "base_uri": "https://localhost:8080/"
        },
        "id": "im3_kOIEVqI7",
        "outputId": "8ed1173f-8951-4507-bc86-4b5faa069561"
      },
      "outputs": [
        {
          "output_type": "execute_result",
          "data": {
            "text/plain": [
              "4    10827\n",
              "3    10453\n",
              "1     6031\n",
              "2     4968\n",
              "Name: base, dtype: int64"
            ]
          },
          "metadata": {},
          "execution_count": 36
        }
      ],
      "source": [
        "df['base'].value_counts()"
      ]
    },
    {
      "cell_type": "markdown",
      "source": [
        "## Добавляем информацию с прошлой итерации сжатия"
      ],
      "metadata": {
        "id": "A7p6c2AJvKmS"
      }
    },
    {
      "cell_type": "code",
      "source": [
        "prev_iter = pd.read_csv(\n",
        "    '/content/drive/MyDrive/Системный Блок/пишу тебе/сжатие изображений/df_postcards-resize-880pix.csv', \n",
        "    index_col=0)\n",
        "prev_iter = prev_iter[['Номер открытки', 'fullsize_filename_1', 'fullsize_filename_2',\n",
        "                      'resize_filename_1', 'resize_filename_2',\n",
        "                      'fullsize_readable_1', 'fullsize_readable_2',\n",
        "                      'resize_url_1', 'resize_url_2',\n",
        "                      'resize_file_size_1', 'resize_file_size_2']]\n",
        "prev_iter.head()"
      ],
      "metadata": {
        "id": "aKZKEA8mvQlb"
      },
      "execution_count": null,
      "outputs": []
    },
    {
      "cell_type": "code",
      "source": [
        "df = df.merge(prev_iter, on='Номер открытки', how='left')\n",
        "df.head()"
      ],
      "metadata": {
        "id": "igJtrc8BwUSe"
      },
      "execution_count": null,
      "outputs": []
    },
    {
      "cell_type": "code",
      "source": [
        "df.shape"
      ],
      "metadata": {
        "colab": {
          "base_uri": "https://localhost:8080/"
        },
        "id": "1HoRdK-1wpzh",
        "outputId": "3a32b243-3aec-4695-da58-d074fde74ce6"
      },
      "execution_count": 21,
      "outputs": [
        {
          "output_type": "execute_result",
          "data": {
            "text/plain": [
              "(32279, 17)"
            ]
          },
          "metadata": {},
          "execution_count": 21
        }
      ]
    },
    {
      "cell_type": "markdown",
      "metadata": {
        "id": "1wl79qMgBiTz"
      },
      "source": [
        "# Помечаем открытки, которые нужно сжать"
      ]
    },
    {
      "cell_type": "markdown",
      "metadata": {
        "id": "fi4WfPRmBx3M"
      },
      "source": [
        "* еще не сжимали - нет ссылок на сжатые изображения"
      ]
    },
    {
      "cell_type": "code",
      "execution_count": 39,
      "metadata": {
        "id": "4WL7LuMMBuNG"
      },
      "outputs": [],
      "source": [
        "df['needs_resize'] = df.apply(\n",
        "    lambda row: True if\n",
        "    # row['Разрешение на публикацию'] == 'Разрешаю публикацию' and\n",
        "    # row['Статус (распределено, в процессе, завершено, проблема)'] == 'Проверено' and\n",
        "    # row['Проблема'] == 'Отсутствует' and\n",
        "    (pd.isna(row['resize_url_1']) or pd.isna(row['resize_url_2']))\n",
        "    and row['base'] == 1\n",
        "    else False,\n",
        "    axis=1\n",
        ")"
      ]
    },
    {
      "cell_type": "code",
      "source": [
        "df.groupby('base')['needs_resize'].value_counts()"
      ],
      "metadata": {
        "id": "ly8hFwf9xC7S",
        "colab": {
          "base_uri": "https://localhost:8080/"
        },
        "outputId": "cbf4f10e-1c42-4969-f583-08d7aa915911"
      },
      "execution_count": 40,
      "outputs": [
        {
          "output_type": "execute_result",
          "data": {
            "text/plain": [
              "base  needs_resize\n",
              "1     True             4348\n",
              "      False            1683\n",
              "2     False            4968\n",
              "3     False           10453\n",
              "4     False           10827\n",
              "Name: needs_resize, dtype: int64"
            ]
          },
          "metadata": {},
          "execution_count": 40
        }
      ]
    },
    {
      "cell_type": "markdown",
      "metadata": {
        "id": "4oObtwwm6kVk"
      },
      "source": [
        "# Скачиваем исходники"
      ]
    },
    {
      "cell_type": "code",
      "execution_count": 26,
      "metadata": {
        "id": "GLBuS6hY61lE"
      },
      "outputs": [],
      "source": [
        "import requests\n",
        "import numpy as np\n",
        "import os\n",
        "from tqdm import tqdm"
      ]
    },
    {
      "cell_type": "code",
      "execution_count": 27,
      "metadata": {
        "id": "iy1NQYHH64tR"
      },
      "outputs": [],
      "source": [
        "# директория для исходников\n",
        "base_fullsize_dir = '/content/drive/MyDrive/Системный Блок/пишу тебе/сжатие изображений/images'\n",
        "os.makedirs(base_fullsize_dir, exist_ok=True)\n",
        "os.makedirs(base_fullsize_dir + '/base_1', exist_ok=True)\n",
        "os.makedirs(base_fullsize_dir + '/base_2', exist_ok=True)\n",
        "os.makedirs(base_fullsize_dir + '/base_3', exist_ok=True)\n",
        "os.makedirs(base_fullsize_dir + '/base_4', exist_ok=True)"
      ]
    },
    {
      "cell_type": "code",
      "execution_count": null,
      "metadata": {
        "id": "eadKTkxH7d6y"
      },
      "outputs": [],
      "source": [
        "# только на первой итерации сжатия\n",
        "# df['fullsize_filename_1'] = np.nan\n",
        "# df['fullsize_filename_2'] = np.nan"
      ]
    },
    {
      "cell_type": "code",
      "execution_count": 52,
      "metadata": {
        "id": "_54HG72L61lE",
        "colab": {
          "base_uri": "https://localhost:8080/"
        },
        "outputId": "c2bd0d77-f89c-40ab-cf20-a0db2a10d0d1"
      },
      "outputs": [
        {
          "output_type": "stream",
          "name": "stderr",
          "text": [
            "100%|██████████| 32279/32279 [00:49<00:00, 647.30it/s] \n"
          ]
        }
      ],
      "source": [
        "for ind, row in tqdm(df.iterrows(), total=df.shape[0]):\n",
        "  if not row['needs_resize']:\n",
        "    continue\n",
        "\n",
        "  url_1 = row['Pic_url_1']  # лицевая\n",
        "  if pd.isna(row['fullsize_filename_1']) and not pd.isna(url_1) and url_1 != 0.0: \n",
        "    filename_1 = f\"{base_fullsize_dir}/base_{row['base']}/{row['Номер открытки']}-1.jpg\"\n",
        "    pic_1_content = requests.get(url_1).content\n",
        "    with open (filename_1, 'wb') as pic_1_file:\n",
        "        pic_1_file.write(pic_1_content)\n",
        "    df.at[ind, 'fullsize_filename_1'] = filename_1\n",
        "\n",
        "  url_2 = row['Pic_url_2']  #оборот\n",
        "  if pd.isna(row['fullsize_filename_2']) and not pd.isna(url_2) and url_2 != 0.0: \n",
        "    filename_2 = f\"{base_fullsize_dir}/base_{row['base']}/{row['Номер открытки']}-2.jpg\"\n",
        "    pic_2_content = requests.get(url_2).content\n",
        "    with open (filename_2, 'wb') as pic_2_file:\n",
        "        pic_2_file.write(pic_2_content)\n",
        "    df.at[ind, 'fullsize_filename_2'] = filename_2"
      ]
    },
    {
      "cell_type": "code",
      "execution_count": null,
      "metadata": {
        "id": "yZfaMF-j8lJk"
      },
      "outputs": [],
      "source": [
        "df[df['needs_resize']].isna().sum()"
      ]
    },
    {
      "cell_type": "code",
      "source": [
        "df[df['needs_resize'] & df['fullsize_filename_2'].isna()]"
      ],
      "metadata": {
        "id": "0VgMUHrqgkWn"
      },
      "execution_count": null,
      "outputs": []
    },
    {
      "cell_type": "code",
      "source": [
        "df.to_csv('/content/drive/MyDrive/Системный Блок/пишу тебе/сжатие изображений/df_downloaded_fullsize.csv')"
      ],
      "metadata": {
        "id": "u-wPYVtcc-z4"
      },
      "execution_count": 36,
      "outputs": []
    },
    {
      "cell_type": "code",
      "source": [
        "df = pd.read_csv('/content/drive/MyDrive/Системный Блок/пишу тебе/сжатие изображений/df_downloaded_fullsize.csv', index_col=0)\n",
        "df.head()"
      ],
      "metadata": {
        "id": "vDO4S38ouE-E"
      },
      "execution_count": null,
      "outputs": []
    },
    {
      "cell_type": "markdown",
      "metadata": {
        "id": "psKEOdhk6meN"
      },
      "source": [
        "# Сжимаем изображения"
      ]
    },
    {
      "cell_type": "code",
      "execution_count": 45,
      "metadata": {
        "id": "kslg6ims9TtW"
      },
      "outputs": [],
      "source": [
        "import os\n",
        "from tqdm import tqdm\n",
        "import cv2\n",
        "import imutils"
      ]
    },
    {
      "cell_type": "markdown",
      "metadata": {
        "id": "QjEwQ_DU-4qY"
      },
      "source": [
        "Функция сжатия"
      ]
    },
    {
      "cell_type": "code",
      "execution_count": 46,
      "metadata": {
        "id": "XbOhiaOO9TtW"
      },
      "outputs": [],
      "source": [
        "resize_max_value = 880\n",
        "resize_min_value = 600\n",
        "\n",
        "def do_resize(img):\n",
        "  # print('orig shape:', img.shape[:2])\n",
        "  size_ratio = min(img.shape[0], img.shape[1]) / max(img.shape[0], img.shape[1])\n",
        "\n",
        "  # открытки стандартных размеров \n",
        "  if 0.5 < size_ratio < 0.8:\n",
        "    if img.shape[0] > img.shape[1]:\n",
        "      img = imutils.resize(img, height=resize_max_value)\n",
        "    else:\n",
        "      img = imutils.resize(img, width=resize_max_value)\n",
        "  \n",
        "  # нестандартные открытки \n",
        "  else: \n",
        "    if img.shape[0] > img.shape[1]:\n",
        "      img = imutils.resize(img, width=resize_min_value)\n",
        "    else:\n",
        "      img = imutils.resize(img, height=resize_min_value)\n",
        "    \n",
        "  # print('resized shape:', img.shape[:2])\n",
        "  return img"
      ]
    },
    {
      "cell_type": "code",
      "execution_count": null,
      "metadata": {
        "id": "X1W7FYJ89_wk"
      },
      "outputs": [],
      "source": [
        "# только при первой итерации сжатия\n",
        "# df['fullsize_readable_1'] = np.nan\n",
        "# df['fullsize_readable_2'] = np.nan\n",
        "# df['resize_filename_1'] = np.nan\n",
        "# df['resize_filename_2'] = np.nan\n",
        "# df['resize_file_size_1'] = np.nan\n",
        "# df['resize_file_size_2'] = np.nan"
      ]
    },
    {
      "cell_type": "code",
      "execution_count": 47,
      "metadata": {
        "id": "yWgFb4uI_soE"
      },
      "outputs": [],
      "source": [
        "# директория для сжатого\n",
        "base_resize_dir = '/content/drive/MyDrive/Системный Блок/пишу тебе/сжатие изображений/images-resize'\n",
        "os.makedirs(base_resize_dir + '/base_1', exist_ok=True)\n",
        "os.makedirs(base_resize_dir + '/base_2', exist_ok=True)\n",
        "os.makedirs(base_resize_dir + '/base_3', exist_ok=True)\n",
        "os.makedirs(base_resize_dir + '/base_4', exist_ok=True)"
      ]
    },
    {
      "cell_type": "code",
      "execution_count": 55,
      "metadata": {
        "id": "tPdrNqLO9LIt",
        "colab": {
          "base_uri": "https://localhost:8080/"
        },
        "outputId": "49f1198e-8146-433d-a067-d05ae8dbf643"
      },
      "outputs": [
        {
          "output_type": "stream",
          "name": "stderr",
          "text": [
            "100%|██████████| 32279/32279 [00:12<00:00, 2503.78it/s] \n"
          ]
        }
      ],
      "source": [
        "for ind, row in tqdm(df.iterrows(), total=df.shape[0]):\n",
        "  if not row['needs_resize']:\n",
        "    continue\n",
        "\n",
        "  if pd.isna(row['resize_filename_1']):\n",
        "    try:  # лицевая\n",
        "      img = cv2.imread(row['fullsize_filename_1'])\n",
        "      img = do_resize(img)\n",
        "      output_filename = f\"{base_resize_dir}/base_{row['base']}/{row['Номер открытки']}-1-resize.jpg\"\n",
        "      cv2.imwrite(output_filename, img)\n",
        "      output_file_size = os.path.getsize(output_filename)\n",
        "      df.at[ind, 'fullsize_readable_1'] = True\n",
        "      df.at[ind, 'resize_filename_1'] = output_filename\n",
        "      df.at[ind, 'resize_file_size_1'] = output_file_size\n",
        "    except:\n",
        "      # raise\n",
        "      df.at[ind, 'fullsize_readable_1'] = False\n",
        "\n",
        "  if pd.isna(row['resize_filename_2']):\n",
        "    try:  # оборот\n",
        "      img = cv2.imread(row['fullsize_filename_2'])\n",
        "      img = do_resize(img)\n",
        "      output_filename = f\"{base_resize_dir}/base_{row['base']}/{row['Номер открытки']}-2-resize.jpg\"\n",
        "      cv2.imwrite(output_filename, img)\n",
        "      output_file_size = os.path.getsize(output_filename)\n",
        "      df.at[ind, 'fullsize_readable_2'] = True\n",
        "      df.at[ind, 'resize_filename_2'] = output_filename\n",
        "      df.at[ind, 'resize_file_size_2'] = output_file_size\n",
        "    \n",
        "    except:\n",
        "      df.at[ind, 'fullsize_readable_2'] = False"
      ]
    },
    {
      "cell_type": "markdown",
      "source": [
        "Проверяем, что размер сжатого файла не превышает допустимый. Должно вывести 0"
      ],
      "metadata": {
        "id": "Eg1gm12f0om8"
      }
    },
    {
      "cell_type": "code",
      "source": [
        "threshold = 1e6  # 1 Mb\n",
        "df[\n",
        "    (df['resize_file_size_1'] > threshold) | \n",
        "   (df['resize_file_size_2'] > threshold)\n",
        "].shape"
      ],
      "metadata": {
        "colab": {
          "base_uri": "https://localhost:8080/"
        },
        "id": "paBDz11f0zfE",
        "outputId": "3a57e0d6-e7e7-499b-807d-730d4ee05168"
      },
      "execution_count": 56,
      "outputs": [
        {
          "output_type": "execute_result",
          "data": {
            "text/plain": [
              "(0, 18)"
            ]
          },
          "metadata": {},
          "execution_count": 56
        }
      ]
    },
    {
      "cell_type": "markdown",
      "metadata": {
        "id": "pl9Q160cFWn8"
      },
      "source": [
        "# Обработка исключений\n",
        "Смотрим nan'ы и догружаем вручную при возможности"
      ]
    },
    {
      "cell_type": "code",
      "execution_count": 57,
      "metadata": {
        "id": "wrzquhn-HHm0",
        "colab": {
          "base_uri": "https://localhost:8080/"
        },
        "outputId": "455018f1-034e-424b-a51b-e0b5bba46363"
      },
      "outputs": [
        {
          "output_type": "execute_result",
          "data": {
            "text/plain": [
              "Номер открытки                                               0\n",
              "Pic_url_1                                                    0\n",
              "Pic_url_2                                                    0\n",
              "base                                                         0\n",
              "Разрешение на публикацию                                     0\n",
              "Статус (распределено, в процессе, завершено, проблема)       0\n",
              "Проблема                                                     0\n",
              "fullsize_filename_1                                          0\n",
              "fullsize_filename_2                                          6\n",
              "resize_filename_1                                            0\n",
              "resize_filename_2                                            6\n",
              "fullsize_readable_1                                          0\n",
              "fullsize_readable_2                                          0\n",
              "resize_url_1                                              4348\n",
              "resize_url_2                                              4348\n",
              "resize_file_size_1                                        4334\n",
              "resize_file_size_2                                        4334\n",
              "needs_resize                                                 0\n",
              "dtype: int64"
            ]
          },
          "metadata": {},
          "execution_count": 57
        }
      ],
      "source": [
        "df[df['needs_resize']].isna().sum()"
      ]
    },
    {
      "cell_type": "code",
      "source": [
        "df[(df['needs_resize']) & (df['resize_filename_2'].isna())]"
      ],
      "metadata": {
        "id": "aGt4osg9iwlb",
        "colab": {
          "base_uri": "https://localhost:8080/",
          "height": 614
        },
        "outputId": "1463200a-9cde-4c26-c2cc-aa4a1a8531a8"
      },
      "execution_count": 59,
      "outputs": [
        {
          "output_type": "execute_result",
          "data": {
            "text/plain": [
              "      Номер открытки                                          Pic_url_1  \\\n",
              "24                94  https://forum.vgd.ru/file.php?fid=59976&key=17...   \n",
              "129              433  https://forum.vgd.ru/file.php?fid=189267&key=1...   \n",
              "477              966  https://forum.vgd.ru/file.php?fid=192315&key=3...   \n",
              "781             1649  https://forum.vgd.ru/file.php?fid=430279&key=1...   \n",
              "1018            2197  https://forum.vgd.ru/file.php?fid=59971&key=11...   \n",
              "1019            2199  https://forum.vgd.ru/file.php?fid=60371&key=16...   \n",
              "\n",
              "     Pic_url_2  base Разрешение на публикацию  \\\n",
              "24           0     1      Разрешаю публикацию   \n",
              "129          0     1      Разрешаю публикацию   \n",
              "477          0     1      Разрешаю публикацию   \n",
              "781          0     1      Разрешаю публикацию   \n",
              "1018         0     1      Разрешаю публикацию   \n",
              "1019         0     1      Разрешаю публикацию   \n",
              "\n",
              "     Статус (распределено, в процессе, завершено, проблема)  \\\n",
              "24                  Помощь модератора/ иностранный язык       \n",
              "129                 Помощь модератора/ иностранный язык       \n",
              "477                                           Исключено       \n",
              "781                                           Исключено       \n",
              "1018                                          Исключено       \n",
              "1019                                          Исключено       \n",
              "\n",
              "                              Проблема  \\\n",
              "24                         Отсутствует   \n",
              "129                        Отсутствует   \n",
              "477                       Большие поля   \n",
              "781                       Большие поля   \n",
              "1018  Две стороны на одном изображении   \n",
              "1019                      Большие поля   \n",
              "\n",
              "                                    fullsize_filename_1 fullsize_filename_2  \\\n",
              "24    /content/drive/MyDrive/Системный Блок/пишу те...                 NaN   \n",
              "129   /content/drive/MyDrive/Системный Блок/пишу те...                 NaN   \n",
              "477   /content/drive/MyDrive/Системный Блок/пишу те...                 NaN   \n",
              "781   /content/drive/MyDrive/Системный Блок/пишу те...                 NaN   \n",
              "1018  /content/drive/MyDrive/Системный Блок/пишу те...                 NaN   \n",
              "1019  /content/drive/MyDrive/Системный Блок/пишу те...                 NaN   \n",
              "\n",
              "                                      resize_filename_1 resize_filename_2  \\\n",
              "24    /content/drive/MyDrive/Системный Блок/пишу те...               NaN   \n",
              "129   /content/drive/MyDrive/Системный Блок/пишу те...               NaN   \n",
              "477   /content/drive/MyDrive/Системный Блок/пишу те...               NaN   \n",
              "781   /content/drive/MyDrive/Системный Блок/пишу те...               NaN   \n",
              "1018  /content/drive/MyDrive/Системный Блок/пишу те...               NaN   \n",
              "1019  /content/drive/MyDrive/Системный Блок/пишу те...               NaN   \n",
              "\n",
              "      fullsize_readable_1  fullsize_readable_2 resize_url_1 resize_url_2  \\\n",
              "24                   True                False          NaN          NaN   \n",
              "129                  True                False          NaN          NaN   \n",
              "477                  True                False          NaN          NaN   \n",
              "781                  True                False          NaN          NaN   \n",
              "1018                 True                False          NaN          NaN   \n",
              "1019                 True                False          NaN          NaN   \n",
              "\n",
              "      resize_file_size_1  resize_file_size_2  needs_resize  \n",
              "24                   NaN                 NaN          True  \n",
              "129                  NaN                 NaN          True  \n",
              "477                  NaN                 NaN          True  \n",
              "781                  NaN                 NaN          True  \n",
              "1018                 NaN                 NaN          True  \n",
              "1019                 NaN                 NaN          True  "
            ],
            "text/html": [
              "\n",
              "  <div id=\"df-20542929-7913-4474-bae6-07fe246bbb00\">\n",
              "    <div class=\"colab-df-container\">\n",
              "      <div>\n",
              "<style scoped>\n",
              "    .dataframe tbody tr th:only-of-type {\n",
              "        vertical-align: middle;\n",
              "    }\n",
              "\n",
              "    .dataframe tbody tr th {\n",
              "        vertical-align: top;\n",
              "    }\n",
              "\n",
              "    .dataframe thead th {\n",
              "        text-align: right;\n",
              "    }\n",
              "</style>\n",
              "<table border=\"1\" class=\"dataframe\">\n",
              "  <thead>\n",
              "    <tr style=\"text-align: right;\">\n",
              "      <th></th>\n",
              "      <th>Номер открытки</th>\n",
              "      <th>Pic_url_1</th>\n",
              "      <th>Pic_url_2</th>\n",
              "      <th>base</th>\n",
              "      <th>Разрешение на публикацию</th>\n",
              "      <th>Статус (распределено, в процессе, завершено, проблема)</th>\n",
              "      <th>Проблема</th>\n",
              "      <th>fullsize_filename_1</th>\n",
              "      <th>fullsize_filename_2</th>\n",
              "      <th>resize_filename_1</th>\n",
              "      <th>resize_filename_2</th>\n",
              "      <th>fullsize_readable_1</th>\n",
              "      <th>fullsize_readable_2</th>\n",
              "      <th>resize_url_1</th>\n",
              "      <th>resize_url_2</th>\n",
              "      <th>resize_file_size_1</th>\n",
              "      <th>resize_file_size_2</th>\n",
              "      <th>needs_resize</th>\n",
              "    </tr>\n",
              "  </thead>\n",
              "  <tbody>\n",
              "    <tr>\n",
              "      <th>24</th>\n",
              "      <td>94</td>\n",
              "      <td>https://forum.vgd.ru/file.php?fid=59976&amp;key=17...</td>\n",
              "      <td>0</td>\n",
              "      <td>1</td>\n",
              "      <td>Разрешаю публикацию</td>\n",
              "      <td>Помощь модератора/ иностранный язык</td>\n",
              "      <td>Отсутствует</td>\n",
              "      <td>/content/drive/MyDrive/Системный Блок/пишу те...</td>\n",
              "      <td>NaN</td>\n",
              "      <td>/content/drive/MyDrive/Системный Блок/пишу те...</td>\n",
              "      <td>NaN</td>\n",
              "      <td>True</td>\n",
              "      <td>False</td>\n",
              "      <td>NaN</td>\n",
              "      <td>NaN</td>\n",
              "      <td>NaN</td>\n",
              "      <td>NaN</td>\n",
              "      <td>True</td>\n",
              "    </tr>\n",
              "    <tr>\n",
              "      <th>129</th>\n",
              "      <td>433</td>\n",
              "      <td>https://forum.vgd.ru/file.php?fid=189267&amp;key=1...</td>\n",
              "      <td>0</td>\n",
              "      <td>1</td>\n",
              "      <td>Разрешаю публикацию</td>\n",
              "      <td>Помощь модератора/ иностранный язык</td>\n",
              "      <td>Отсутствует</td>\n",
              "      <td>/content/drive/MyDrive/Системный Блок/пишу те...</td>\n",
              "      <td>NaN</td>\n",
              "      <td>/content/drive/MyDrive/Системный Блок/пишу те...</td>\n",
              "      <td>NaN</td>\n",
              "      <td>True</td>\n",
              "      <td>False</td>\n",
              "      <td>NaN</td>\n",
              "      <td>NaN</td>\n",
              "      <td>NaN</td>\n",
              "      <td>NaN</td>\n",
              "      <td>True</td>\n",
              "    </tr>\n",
              "    <tr>\n",
              "      <th>477</th>\n",
              "      <td>966</td>\n",
              "      <td>https://forum.vgd.ru/file.php?fid=192315&amp;key=3...</td>\n",
              "      <td>0</td>\n",
              "      <td>1</td>\n",
              "      <td>Разрешаю публикацию</td>\n",
              "      <td>Исключено</td>\n",
              "      <td>Большие поля</td>\n",
              "      <td>/content/drive/MyDrive/Системный Блок/пишу те...</td>\n",
              "      <td>NaN</td>\n",
              "      <td>/content/drive/MyDrive/Системный Блок/пишу те...</td>\n",
              "      <td>NaN</td>\n",
              "      <td>True</td>\n",
              "      <td>False</td>\n",
              "      <td>NaN</td>\n",
              "      <td>NaN</td>\n",
              "      <td>NaN</td>\n",
              "      <td>NaN</td>\n",
              "      <td>True</td>\n",
              "    </tr>\n",
              "    <tr>\n",
              "      <th>781</th>\n",
              "      <td>1649</td>\n",
              "      <td>https://forum.vgd.ru/file.php?fid=430279&amp;key=1...</td>\n",
              "      <td>0</td>\n",
              "      <td>1</td>\n",
              "      <td>Разрешаю публикацию</td>\n",
              "      <td>Исключено</td>\n",
              "      <td>Большие поля</td>\n",
              "      <td>/content/drive/MyDrive/Системный Блок/пишу те...</td>\n",
              "      <td>NaN</td>\n",
              "      <td>/content/drive/MyDrive/Системный Блок/пишу те...</td>\n",
              "      <td>NaN</td>\n",
              "      <td>True</td>\n",
              "      <td>False</td>\n",
              "      <td>NaN</td>\n",
              "      <td>NaN</td>\n",
              "      <td>NaN</td>\n",
              "      <td>NaN</td>\n",
              "      <td>True</td>\n",
              "    </tr>\n",
              "    <tr>\n",
              "      <th>1018</th>\n",
              "      <td>2197</td>\n",
              "      <td>https://forum.vgd.ru/file.php?fid=59971&amp;key=11...</td>\n",
              "      <td>0</td>\n",
              "      <td>1</td>\n",
              "      <td>Разрешаю публикацию</td>\n",
              "      <td>Исключено</td>\n",
              "      <td>Две стороны на одном изображении</td>\n",
              "      <td>/content/drive/MyDrive/Системный Блок/пишу те...</td>\n",
              "      <td>NaN</td>\n",
              "      <td>/content/drive/MyDrive/Системный Блок/пишу те...</td>\n",
              "      <td>NaN</td>\n",
              "      <td>True</td>\n",
              "      <td>False</td>\n",
              "      <td>NaN</td>\n",
              "      <td>NaN</td>\n",
              "      <td>NaN</td>\n",
              "      <td>NaN</td>\n",
              "      <td>True</td>\n",
              "    </tr>\n",
              "    <tr>\n",
              "      <th>1019</th>\n",
              "      <td>2199</td>\n",
              "      <td>https://forum.vgd.ru/file.php?fid=60371&amp;key=16...</td>\n",
              "      <td>0</td>\n",
              "      <td>1</td>\n",
              "      <td>Разрешаю публикацию</td>\n",
              "      <td>Исключено</td>\n",
              "      <td>Большие поля</td>\n",
              "      <td>/content/drive/MyDrive/Системный Блок/пишу те...</td>\n",
              "      <td>NaN</td>\n",
              "      <td>/content/drive/MyDrive/Системный Блок/пишу те...</td>\n",
              "      <td>NaN</td>\n",
              "      <td>True</td>\n",
              "      <td>False</td>\n",
              "      <td>NaN</td>\n",
              "      <td>NaN</td>\n",
              "      <td>NaN</td>\n",
              "      <td>NaN</td>\n",
              "      <td>True</td>\n",
              "    </tr>\n",
              "  </tbody>\n",
              "</table>\n",
              "</div>\n",
              "      <button class=\"colab-df-convert\" onclick=\"convertToInteractive('df-20542929-7913-4474-bae6-07fe246bbb00')\"\n",
              "              title=\"Convert this dataframe to an interactive table.\"\n",
              "              style=\"display:none;\">\n",
              "        \n",
              "  <svg xmlns=\"http://www.w3.org/2000/svg\" height=\"24px\"viewBox=\"0 0 24 24\"\n",
              "       width=\"24px\">\n",
              "    <path d=\"M0 0h24v24H0V0z\" fill=\"none\"/>\n",
              "    <path d=\"M18.56 5.44l.94 2.06.94-2.06 2.06-.94-2.06-.94-.94-2.06-.94 2.06-2.06.94zm-11 1L8.5 8.5l.94-2.06 2.06-.94-2.06-.94L8.5 2.5l-.94 2.06-2.06.94zm10 10l.94 2.06.94-2.06 2.06-.94-2.06-.94-.94-2.06-.94 2.06-2.06.94z\"/><path d=\"M17.41 7.96l-1.37-1.37c-.4-.4-.92-.59-1.43-.59-.52 0-1.04.2-1.43.59L10.3 9.45l-7.72 7.72c-.78.78-.78 2.05 0 2.83L4 21.41c.39.39.9.59 1.41.59.51 0 1.02-.2 1.41-.59l7.78-7.78 2.81-2.81c.8-.78.8-2.07 0-2.86zM5.41 20L4 18.59l7.72-7.72 1.47 1.35L5.41 20z\"/>\n",
              "  </svg>\n",
              "      </button>\n",
              "      \n",
              "  <style>\n",
              "    .colab-df-container {\n",
              "      display:flex;\n",
              "      flex-wrap:wrap;\n",
              "      gap: 12px;\n",
              "    }\n",
              "\n",
              "    .colab-df-convert {\n",
              "      background-color: #E8F0FE;\n",
              "      border: none;\n",
              "      border-radius: 50%;\n",
              "      cursor: pointer;\n",
              "      display: none;\n",
              "      fill: #1967D2;\n",
              "      height: 32px;\n",
              "      padding: 0 0 0 0;\n",
              "      width: 32px;\n",
              "    }\n",
              "\n",
              "    .colab-df-convert:hover {\n",
              "      background-color: #E2EBFA;\n",
              "      box-shadow: 0px 1px 2px rgba(60, 64, 67, 0.3), 0px 1px 3px 1px rgba(60, 64, 67, 0.15);\n",
              "      fill: #174EA6;\n",
              "    }\n",
              "\n",
              "    [theme=dark] .colab-df-convert {\n",
              "      background-color: #3B4455;\n",
              "      fill: #D2E3FC;\n",
              "    }\n",
              "\n",
              "    [theme=dark] .colab-df-convert:hover {\n",
              "      background-color: #434B5C;\n",
              "      box-shadow: 0px 1px 3px 1px rgba(0, 0, 0, 0.15);\n",
              "      filter: drop-shadow(0px 1px 2px rgba(0, 0, 0, 0.3));\n",
              "      fill: #FFFFFF;\n",
              "    }\n",
              "  </style>\n",
              "\n",
              "      <script>\n",
              "        const buttonEl =\n",
              "          document.querySelector('#df-20542929-7913-4474-bae6-07fe246bbb00 button.colab-df-convert');\n",
              "        buttonEl.style.display =\n",
              "          google.colab.kernel.accessAllowed ? 'block' : 'none';\n",
              "\n",
              "        async function convertToInteractive(key) {\n",
              "          const element = document.querySelector('#df-20542929-7913-4474-bae6-07fe246bbb00');\n",
              "          const dataTable =\n",
              "            await google.colab.kernel.invokeFunction('convertToInteractive',\n",
              "                                                     [key], {});\n",
              "          if (!dataTable) return;\n",
              "\n",
              "          const docLinkHtml = 'Like what you see? Visit the ' +\n",
              "            '<a target=\"_blank\" href=https://colab.research.google.com/notebooks/data_table.ipynb>data table notebook</a>'\n",
              "            + ' to learn more about interactive tables.';\n",
              "          element.innerHTML = '';\n",
              "          dataTable['output_type'] = 'display_data';\n",
              "          await google.colab.output.renderOutput(dataTable, element);\n",
              "          const docLink = document.createElement('div');\n",
              "          docLink.innerHTML = docLinkHtml;\n",
              "          element.appendChild(docLink);\n",
              "        }\n",
              "      </script>\n",
              "    </div>\n",
              "  </div>\n",
              "  "
            ]
          },
          "metadata": {},
          "execution_count": 59
        }
      ]
    },
    {
      "cell_type": "code",
      "source": [
        "!ls '/content/drive/MyDrive/Системный Блок/пишу тебе/сжатие изображений/images/base_4' | grep 225881"
      ],
      "metadata": {
        "id": "HJwv5IhojkOP"
      },
      "execution_count": null,
      "outputs": []
    },
    {
      "cell_type": "code",
      "source": [
        "img = cv2.imread('/content/drive/MyDrive/Системный Блок/пишу тебе/сжатие изображений/images/base_4/225881-1.jpg')\n",
        "img.shape"
      ],
      "metadata": {
        "id": "2J2ixQz3jXP_"
      },
      "execution_count": null,
      "outputs": []
    },
    {
      "cell_type": "code",
      "source": [
        "os.path.getsize('/content/drive/MyDrive/Системный Блок/пишу тебе/сжатие изображений/images-resize/base_4/221178-2-resize.jpg')"
      ],
      "metadata": {
        "id": "5ebsd2D_-vOw"
      },
      "execution_count": null,
      "outputs": []
    },
    {
      "cell_type": "code",
      "source": [
        "df.to_csv('df_resize.csv')"
      ],
      "metadata": {
        "id": "x5MDnLOgjFNz"
      },
      "execution_count": 11,
      "outputs": []
    },
    {
      "cell_type": "markdown",
      "metadata": {
        "id": "dGyweMDd6ork"
      },
      "source": [
        "# Загружаем сжатые на s3"
      ]
    },
    {
      "cell_type": "markdown",
      "metadata": {
        "id": "Jl0SIb5XAyLZ"
      },
      "source": [
        "## Setup"
      ]
    },
    {
      "cell_type": "code",
      "execution_count": null,
      "metadata": {
        "id": "C4FYqPNSAyLZ"
      },
      "outputs": [],
      "source": [
        "!pip install --upgrade urllib3"
      ]
    },
    {
      "cell_type": "code",
      "execution_count": null,
      "metadata": {
        "id": "SPOQfcfZAyLa"
      },
      "outputs": [],
      "source": [
        "!pip install boto3"
      ]
    },
    {
      "cell_type": "code",
      "execution_count": 61,
      "metadata": {
        "id": "rFiFc7voAyLa"
      },
      "outputs": [],
      "source": [
        "import boto3\n",
        "from botocore.config import Config\n",
        "import os"
      ]
    },
    {
      "cell_type": "code",
      "execution_count": 62,
      "metadata": {
        "id": "2PYdrQnfAyLa"
      },
      "outputs": [],
      "source": [
        "def get_yandex_service(s3_cred_filename) -> boto3.session.Session.client:\n",
        "    yandex_session = boto3.session.Session()\n",
        "\n",
        "    yandex_config = Config(\n",
        "        region_name='ru-central1',\n",
        "    )\n",
        "\n",
        "    s3_credentials = dict()\n",
        "    with open(s3_cred_filename, 'r') as f:\n",
        "      for s in f:\n",
        "        s = s.strip().split(' ')\n",
        "        s3_credentials[s[0]] = s[1]\n",
        "\n",
        "    return yandex_session.client(\n",
        "        service_name='s3',\n",
        "        endpoint_url='https://storage.yandexcloud.net',\n",
        "        aws_access_key_id=s3_credentials['aws_access_key_id'],\n",
        "        aws_secret_access_key=s3_credentials['aws_secret_access_key'],\n",
        "        config=yandex_config\n",
        "    )"
      ]
    },
    {
      "cell_type": "code",
      "execution_count": 63,
      "metadata": {
        "id": "BfJYdV_UAyLa"
      },
      "outputs": [],
      "source": [
        "client = get_yandex_service('s3_cred_write.txt')"
      ]
    },
    {
      "cell_type": "markdown",
      "metadata": {
        "id": "JmlZaOIEAyLa"
      },
      "source": [
        "## Создаем бакет\n",
        "Только один раз, при первой итерации сжатия"
      ]
    },
    {
      "cell_type": "code",
      "execution_count": 64,
      "metadata": {
        "id": "hwA_KyyuAzrc"
      },
      "outputs": [],
      "source": [
        "bucket_name = 'postcards-resize-880pix'"
      ]
    },
    {
      "cell_type": "code",
      "execution_count": null,
      "metadata": {
        "id": "h_R93jIEAyLa"
      },
      "outputs": [],
      "source": [
        "# client.create_bucket(Bucket=bucket_name, ACL='public-read')"
      ]
    },
    {
      "cell_type": "markdown",
      "metadata": {
        "id": "XpKGtmKkFO_r"
      },
      "source": [
        "## Загружаем и сохраняем ссылки"
      ]
    },
    {
      "cell_type": "code",
      "execution_count": null,
      "metadata": {
        "id": "OTkNSMZYF4Hh"
      },
      "outputs": [],
      "source": [
        "# только на первой итерации сжатия\n",
        "# df['resize_url_1'] = np.nan\n",
        "# df['resize_url_2'] = np.nan"
      ]
    },
    {
      "cell_type": "code",
      "execution_count": 65,
      "metadata": {
        "id": "sJZoHOUbXxXc",
        "colab": {
          "base_uri": "https://localhost:8080/"
        },
        "outputId": "3952c4a3-0cd5-4ba5-a136-a5142dc01824"
      },
      "outputs": [
        {
          "output_type": "stream",
          "name": "stderr",
          "text": [
            "100%|██████████| 32279/32279 [1:37:07<00:00,  5.54it/s]   \n"
          ]
        }
      ],
      "source": [
        "for ind, row in tqdm(df.iterrows(), total=df.shape[0]):\n",
        "  if not row['needs_resize']:\n",
        "    continue\n",
        "\n",
        "  file_path = row['resize_filename_1']  # лицевая\n",
        "  if not pd.isna(file_path):\n",
        "    s3_filename = f\"{row['Номер открытки']}-1-resize.jpg\"\n",
        "    client.upload_file(file_path, bucket_name, s3_filename)\n",
        "    resize_url_1 = f'https://storage.yandexcloud.net/{bucket_name}/{s3_filename}'\n",
        "    df.at[ind, 'resize_url_1'] = resize_url_1\n",
        "\n",
        "  file_path = row['resize_filename_2']  # оборот\n",
        "  if not pd.isna(file_path):\n",
        "    s3_filename = f\"{row['Номер открытки']}-2-resize.jpg\"\n",
        "    client.upload_file(file_path, bucket_name, s3_filename)\n",
        "    resize_url_2 = f'https://storage.yandexcloud.net/{bucket_name}/{s3_filename}'\n",
        "    df.at[ind, 'resize_url_2'] = resize_url_2"
      ]
    },
    {
      "cell_type": "code",
      "execution_count": 66,
      "metadata": {
        "id": "N8IO5MkbHGMK",
        "colab": {
          "base_uri": "https://localhost:8080/"
        },
        "outputId": "7d347cea-67ef-4479-b5d3-0dc01fdd8275"
      },
      "outputs": [
        {
          "output_type": "execute_result",
          "data": {
            "text/plain": [
              "Номер открытки                                               0\n",
              "Pic_url_1                                                    0\n",
              "Pic_url_2                                                    0\n",
              "base                                                         0\n",
              "Разрешение на публикацию                                     0\n",
              "Статус (распределено, в процессе, завершено, проблема)       0\n",
              "Проблема                                                     0\n",
              "fullsize_filename_1                                          0\n",
              "fullsize_filename_2                                          6\n",
              "resize_filename_1                                            0\n",
              "resize_filename_2                                            6\n",
              "fullsize_readable_1                                          0\n",
              "fullsize_readable_2                                          0\n",
              "resize_url_1                                                 0\n",
              "resize_url_2                                                 6\n",
              "resize_file_size_1                                        4334\n",
              "resize_file_size_2                                        4334\n",
              "needs_resize                                                 0\n",
              "dtype: int64"
            ]
          },
          "metadata": {},
          "execution_count": 66
        }
      ],
      "source": [
        "df[df['needs_resize']].isna().sum()"
      ]
    },
    {
      "cell_type": "code",
      "source": [
        "with pd.option_context('display.max_colwidth', None):\n",
        "  display(df[(df['needs_resize']) & ((df['resize_url_1'].isna()) | \n",
        "                                             (df['resize_url_2'].isna()))])"
      ],
      "metadata": {
        "id": "W0goT2-Gx9UG"
      },
      "execution_count": null,
      "outputs": []
    },
    {
      "cell_type": "code",
      "execution_count": 67,
      "metadata": {
        "id": "Tmam1DslHP14"
      },
      "outputs": [],
      "source": [
        "df.to_csv(\n",
        "    '/content/drive/MyDrive/Системный Блок/пишу тебе/сжатие изображений/df_postcards-resize-880pix.csv'\n",
        "    )"
      ]
    },
    {
      "cell_type": "markdown",
      "metadata": {
        "id": "y8g3nrCcztFj"
      },
      "source": [
        "# Проверка ссылок на валидность\n",
        "Проверяем 150 случайных открыток, что ссылки на сжатые изображения возвращают читаемые файлы"
      ]
    },
    {
      "cell_type": "code",
      "execution_count": 68,
      "metadata": {
        "id": "yKWPNsh30hMw"
      },
      "outputs": [],
      "source": [
        "import requests\n",
        "import cv2\n",
        "from tqdm import tqdm"
      ]
    },
    {
      "cell_type": "code",
      "execution_count": 69,
      "metadata": {
        "id": "f1FUDDyOzwvf",
        "colab": {
          "base_uri": "https://localhost:8080/"
        },
        "outputId": "0051e0c5-a52b-45d3-a7e8-c0adc1952d3f"
      },
      "outputs": [
        {
          "output_type": "stream",
          "name": "stderr",
          "text": [
            "100%|██████████| 150/150 [05:04<00:00,  2.03s/it]\n"
          ]
        }
      ],
      "source": [
        "df_sample = df[df['needs_resize']].sample(n=150)\n",
        "\n",
        "for ind, row in tqdm(df_sample.iterrows(), total=df_sample.shape[0]):\n",
        "  if pd.isna(row['resize_url_1']):\n",
        "    continue\n",
        "  \n",
        "  pic_content = requests.get(row['resize_url_1']).content\n",
        "  with open ('pic_1.jpg', 'wb') as pic_file:\n",
        "      pic_file.write(pic_content)\n",
        "  try:\n",
        "    img = cv2.imread('pic_1.jpg')\n",
        "    img_shape = img.shape\n",
        "    # print(img_shape)\n",
        "  except:\n",
        "    with open('unreadable_images.txt', 'a') as exc_file:\n",
        "      exc_file.write(f\"ID = {row['ID']} pic 1\\n\")\n",
        "\n",
        "  pic_content = requests.get(row['resize_url_2']).content\n",
        "  with open ('pic_2.jpg', 'wb') as pic_file:\n",
        "      pic_file.write(pic_content)\n",
        "  try:\n",
        "    img = cv2.imread('pic_2.jpg')\n",
        "    img_shape = img.shape\n",
        "    # print(img_shape)\n",
        "  except:\n",
        "    with open('unreadable_images.txt', 'a') as exc_file:\n",
        "      exc_file.write(f\"ID = {row['ID']} pic 2\\n\")"
      ]
    },
    {
      "cell_type": "markdown",
      "source": [
        "# Заполняем пропущенные значения"
      ],
      "metadata": {
        "id": "2cBRrdZWP6R4"
      }
    },
    {
      "cell_type": "code",
      "source": [
        "df['resize_url_1'] = df['resize_url_1'].fillna('Исходник недоступен')\n",
        "df['resize_url_2'] = df['resize_url_2'].fillna('Исходник недоступен')"
      ],
      "metadata": {
        "id": "3ejW_EYtP9_2"
      },
      "execution_count": 71,
      "outputs": []
    },
    {
      "cell_type": "code",
      "source": [
        "df.isna().sum()"
      ],
      "metadata": {
        "colab": {
          "base_uri": "https://localhost:8080/"
        },
        "id": "H__FLsnMQGBg",
        "outputId": "c8478b67-956c-4735-b0cc-27163f183c87"
      },
      "execution_count": 72,
      "outputs": [
        {
          "output_type": "execute_result",
          "data": {
            "text/plain": [
              "Номер открытки                                               0\n",
              "Pic_url_1                                                    0\n",
              "Pic_url_2                                                    0\n",
              "base                                                         0\n",
              "Разрешение на публикацию                                     0\n",
              "Статус (распределено, в процессе, завершено, проблема)      40\n",
              "Проблема                                                   515\n",
              "fullsize_filename_1                                          0\n",
              "fullsize_filename_2                                          6\n",
              "resize_filename_1                                          358\n",
              "resize_filename_2                                          364\n",
              "fullsize_readable_1                                          0\n",
              "fullsize_readable_2                                          0\n",
              "resize_url_1                                                 0\n",
              "resize_url_2                                                 0\n",
              "resize_file_size_1                                        4692\n",
              "resize_file_size_2                                        4692\n",
              "needs_resize                                                 0\n",
              "dtype: int64"
            ]
          },
          "metadata": {},
          "execution_count": 72
        }
      ]
    },
    {
      "cell_type": "code",
      "source": [
        "df.to_csv(\n",
        "    '/content/drive/MyDrive/Системный Блок/пишу тебе/сжатие изображений/df_postcards-resize-880pix.csv'\n",
        "    )"
      ],
      "metadata": {
        "id": "htFofzTXP9JG"
      },
      "execution_count": 73,
      "outputs": []
    },
    {
      "cell_type": "markdown",
      "source": [
        "# **Устаревший код**"
      ],
      "metadata": {
        "id": "rTnk-MjIwIVk"
      }
    },
    {
      "cell_type": "markdown",
      "metadata": {
        "id": "hKRmmHCYIzKk"
      },
      "source": [
        "# База для уже обработанного"
      ]
    },
    {
      "cell_type": "code",
      "execution_count": null,
      "metadata": {
        "id": "jN2drR7MNHrf"
      },
      "outputs": [],
      "source": [
        "df = df[['Номер открытки', 'Pic_url_1', 'Pic_url_2', 'base',\n",
        "         'Разрешение на публикацию',\n",
        "         'Статус (распределено, в процессе, завершено, проблема)',\n",
        "         'Проблема']]"
      ]
    },
    {
      "cell_type": "code",
      "execution_count": null,
      "metadata": {
        "colab": {
          "base_uri": "https://localhost:8080/"
        },
        "id": "E33SqJV7Wlu3",
        "outputId": "820c95a6-dd25-4f71-9f31-d105a9135ccc"
      },
      "outputs": [
        {
          "output_type": "execute_result",
          "data": {
            "text/plain": [
              "(22678, 7)"
            ]
          },
          "metadata": {},
          "execution_count": 193
        }
      ],
      "source": [
        "df.shape"
      ]
    },
    {
      "cell_type": "code",
      "execution_count": null,
      "metadata": {
        "id": "PBxIgErXI4eE"
      },
      "outputs": [],
      "source": [
        "df['needs_resize'] = df.apply(\n",
        "    lambda row: True \n",
        "    if row['Разрешение на публикацию'] == 'Разрешаю публикацию' and\n",
        "    row['Статус (распределено, в процессе, завершено, проблема)'] == 'Проверено' and\n",
        "    row['Проблема'] == 'Отсутствует'\n",
        "    # and (pd.isna(row['resize_url_1']) or pd.isna(row['resize_url_2']))\n",
        "    else False,\n",
        "    axis=1\n",
        ")\n",
        "\n",
        "df['needs_resize'].value_counts()"
      ]
    },
    {
      "cell_type": "code",
      "execution_count": null,
      "metadata": {
        "id": "eND4NtoJKquh"
      },
      "outputs": [],
      "source": [
        "import os\n",
        "from tqdm import tqdm"
      ]
    },
    {
      "cell_type": "code",
      "execution_count": null,
      "metadata": {
        "id": "qwFUU8TrKESM"
      },
      "outputs": [],
      "source": [
        "base_dir_str = '/content/drive/MyDrive/Системный Блок/пишу тебе/сжатие изображений/images/'"
      ]
    },
    {
      "cell_type": "code",
      "execution_count": null,
      "metadata": {
        "id": "BqD-Uu1_KW5k"
      },
      "outputs": [],
      "source": [
        "base_dir = os.fsencode(base_dir_str)\n",
        "# dirs_done = ['base_1', 'base_2']\n",
        "fullsize_filename_1 = dict()\n",
        "fullsize_filename_2 = dict()\n",
        "\n",
        "for dr in os.listdir(base_dir):\n",
        "  sub_dir_str = os.fsdecode(dr)\n",
        "  # if sub_dir_str in dirs_done:\n",
        "  #   continue\n",
        "  sub_dir_str = base_dir_str + sub_dir_str\n",
        "  print(sub_dir_str)\n",
        "  sub_dir = os.fsencode(sub_dir_str)\n",
        "\n",
        "  for f in tqdm(os.listdir(sub_dir)):\n",
        "    filename = os.fsdecode(f)\n",
        "    if len(filename.split('-')) == 2:\n",
        "      # print(filename)\n",
        "      postcard_id = int(filename.split('-')[0])\n",
        "      pic = int(filename.split('.')[0].split('-')[1])\n",
        "      # print('filename =', filename, 'postcard_id =', postcard_id, 'pic =', pic)\n",
        "    elif len(filename.split('-')) == 3:\n",
        "      # print(filename)\n",
        "      postcard_id = int(filename.split('-')[1])\n",
        "      pic = int(filename.split('.')[0].split('-')[2])\n",
        "      # print('filename =', filename, 'postcard_id =', postcard_id, 'pic =', pic)\n",
        "    filename = f'{sub_dir_str}/{filename}'\n",
        "    # print(filename)\n",
        "    if pic == 1 and postcard_id not in fullsize_filename_1:\n",
        "      fullsize_filename_1[postcard_id] = filename\n",
        "    elif pic == 2 and postcard_id not in fullsize_filename_2:\n",
        "      fullsize_filename_2[postcard_id] = filename\n",
        "\n",
        "\n",
        "    # break\n",
        "\n",
        "  # break"
      ]
    },
    {
      "cell_type": "code",
      "execution_count": null,
      "metadata": {
        "colab": {
          "base_uri": "https://localhost:8080/"
        },
        "id": "Arq1RxzzLkK3",
        "outputId": "889bdc4a-ae99-4364-c6c5-ec90a045c30c"
      },
      "outputs": [
        {
          "output_type": "execute_result",
          "data": {
            "text/plain": [
              "22676"
            ]
          },
          "metadata": {},
          "execution_count": 179
        }
      ],
      "source": [
        "len(fullsize_filename_1)"
      ]
    },
    {
      "cell_type": "code",
      "execution_count": null,
      "metadata": {
        "colab": {
          "base_uri": "https://localhost:8080/"
        },
        "id": "-dve0B4GLl2B",
        "outputId": "eab59d26-ccf9-41d0-d9b5-b286d09aa9a7"
      },
      "outputs": [
        {
          "output_type": "execute_result",
          "data": {
            "text/plain": [
              "22461"
            ]
          },
          "metadata": {},
          "execution_count": 180
        }
      ],
      "source": [
        "len(fullsize_filename_2)"
      ]
    },
    {
      "cell_type": "code",
      "execution_count": null,
      "metadata": {
        "id": "YXj88vkeWtyC"
      },
      "outputs": [],
      "source": [
        "base_dir_str = '/content/drive/MyDrive/Системный Блок/пишу тебе/сжатие изображений/images-resize/'"
      ]
    },
    {
      "cell_type": "code",
      "execution_count": null,
      "metadata": {
        "id": "zlZD2iL4WtyD"
      },
      "outputs": [],
      "source": [
        "base_dir = os.fsencode(base_dir_str)\n",
        "# dirs_done = ['base_1', 'base_2']\n",
        "resize_filename_1 = dict()\n",
        "resize_filename_2 = dict()\n",
        "\n",
        "for dr in os.listdir(base_dir):\n",
        "  sub_dir_str = os.fsdecode(dr)\n",
        "  # if sub_dir_str in dirs_done:\n",
        "  #   continue\n",
        "  sub_dir_str = base_dir_str + sub_dir_str\n",
        "  print(sub_dir_str)\n",
        "  sub_dir = os.fsencode(sub_dir_str)\n",
        "\n",
        "  for f in tqdm(os.listdir(sub_dir)):\n",
        "    filename = os.fsdecode(f)\n",
        "    # print(filename)\n",
        "    if len(filename.split('-')) == 3:\n",
        "      # print(filename)\n",
        "      postcard_id = int(filename.split('-')[0])\n",
        "      pic = int(filename.split('.')[0].split('-')[1])\n",
        "      # print('filename =', filename, 'postcard_id =', postcard_id, 'pic =', pic)\n",
        "    elif len(filename.split('-')) == 4:\n",
        "      # print(filename)\n",
        "      postcard_id = int(filename.split('-')[1])\n",
        "      pic = int(filename.split('.')[0].split('-')[2])\n",
        "      # print('filename =', filename, 'postcard_id =', postcard_id, 'pic =', pic)\n",
        "    filename = f'{sub_dir_str}/{filename}'\n",
        "    # print(filename)\n",
        "    if pic == 1 and postcard_id not in resize_filename_1:\n",
        "      resize_filename_1[postcard_id] = filename\n",
        "    elif pic == 2 and postcard_id not in resize_filename_2:\n",
        "      resize_filename_2[postcard_id] = filename\n",
        "\n",
        "\n",
        "    # break\n",
        "\n",
        "  # break"
      ]
    },
    {
      "cell_type": "code",
      "execution_count": null,
      "metadata": {
        "colab": {
          "base_uri": "https://localhost:8080/"
        },
        "id": "Bl7CsxcmWtyD",
        "outputId": "a64c97e1-c347-44a3-b5ba-b3dad65d0dc5"
      },
      "outputs": [
        {
          "output_type": "execute_result",
          "data": {
            "text/plain": [
              "22649"
            ]
          },
          "metadata": {},
          "execution_count": 184
        }
      ],
      "source": [
        "len(resize_filename_1)"
      ]
    },
    {
      "cell_type": "code",
      "execution_count": null,
      "metadata": {
        "colab": {
          "base_uri": "https://localhost:8080/"
        },
        "id": "kld2ANDzWtyD",
        "outputId": "11b2efba-d31f-4421-c6ce-349c090305eb"
      },
      "outputs": [
        {
          "output_type": "execute_result",
          "data": {
            "text/plain": [
              "22433"
            ]
          },
          "metadata": {},
          "execution_count": 185
        }
      ],
      "source": [
        "len(resize_filename_2)"
      ]
    },
    {
      "cell_type": "code",
      "execution_count": null,
      "metadata": {
        "id": "Ssk2xvHeXvmQ"
      },
      "outputs": [],
      "source": [
        "fullsize_filename_1 = pd.DataFrame.from_dict(fullsize_filename_1, orient='index').reset_index().rename(\n",
        "    columns={'index': 'Номер открытки', 0: 'fullsize_filename_1'}\n",
        ")\n",
        "fullsize_filename_2 = pd.DataFrame.from_dict(fullsize_filename_2, orient='index').reset_index().rename(\n",
        "    columns={'index': 'Номер открытки', 0: 'fullsize_filename_2'}\n",
        ")"
      ]
    },
    {
      "cell_type": "code",
      "execution_count": null,
      "metadata": {
        "id": "qbGxthDxMRC1"
      },
      "outputs": [],
      "source": [
        "resize_filename_1 = pd.DataFrame.from_dict(resize_filename_1, orient='index').reset_index().rename(\n",
        "    columns={'index': 'Номер открытки', 0: 'resize_filename_1'}\n",
        ")\n",
        "resize_filename_2 = pd.DataFrame.from_dict(resize_filename_2, orient='index').reset_index().rename(\n",
        "    columns={'index': 'Номер открытки', 0: 'resize_filename_2'}\n",
        ")"
      ]
    },
    {
      "cell_type": "code",
      "execution_count": null,
      "metadata": {
        "colab": {
          "base_uri": "https://localhost:8080/"
        },
        "id": "T0XDGIuXX4zu",
        "outputId": "6ed04dba-2440-426c-c571-0cd557150f8f"
      },
      "outputs": [
        {
          "output_type": "execute_result",
          "data": {
            "text/plain": [
              "(22677, 5)"
            ]
          },
          "metadata": {},
          "execution_count": 188
        }
      ],
      "source": [
        "filename_df = fullsize_filename_1.merge(fullsize_filename_2, on='Номер открытки', how='outer').merge(\n",
        "    resize_filename_1, on='Номер открытки', how='outer'\n",
        ").merge(resize_filename_2, on='Номер открытки', how='outer')\n",
        "filename_df.shape"
      ]
    },
    {
      "cell_type": "code",
      "execution_count": null,
      "metadata": {
        "id": "pF0a6lrLYbbd"
      },
      "outputs": [],
      "source": [
        "filename_df.head()"
      ]
    },
    {
      "cell_type": "code",
      "execution_count": null,
      "metadata": {
        "id": "wP37EXiqMqUF"
      },
      "outputs": [],
      "source": [
        "df = df.merge(filename_df, on='Номер открытки', how='outer')\n",
        "df.head()"
      ]
    },
    {
      "cell_type": "code",
      "execution_count": null,
      "metadata": {
        "colab": {
          "base_uri": "https://localhost:8080/"
        },
        "id": "Xy37dGAzVnNv",
        "outputId": "5558e81e-7d79-454b-923c-680c3b6f0664"
      },
      "outputs": [
        {
          "output_type": "execute_result",
          "data": {
            "text/plain": [
              "(22678, 16)"
            ]
          },
          "metadata": {},
          "execution_count": 190
        }
      ],
      "source": [
        "df.shape"
      ]
    },
    {
      "cell_type": "code",
      "execution_count": null,
      "metadata": {
        "colab": {
          "base_uri": "https://localhost:8080/"
        },
        "id": "vTITrzfJSZ5i",
        "outputId": "23234022-90da-4b86-f595-d797cf0a5a62"
      },
      "outputs": [
        {
          "output_type": "execute_result",
          "data": {
            "text/plain": [
              "(11596, 12)"
            ]
          },
          "metadata": {},
          "execution_count": 200
        }
      ],
      "source": [
        "df[(df['needs_resize'] == True) & (~df['fullsize_filename_1'].isna()) & \n",
        "   (~df['fullsize_filename_2'].isna())].shape"
      ]
    },
    {
      "cell_type": "code",
      "execution_count": null,
      "metadata": {
        "id": "IdzJtWJmNsUE"
      },
      "outputs": [],
      "source": [
        "df.isna().sum()"
      ]
    },
    {
      "cell_type": "code",
      "execution_count": null,
      "metadata": {
        "id": "MR-ctALKML6T"
      },
      "outputs": [],
      "source": [
        "df['fullsize_readable_1'] = df['resize_filename_1'].apply(\n",
        "    lambda x: False if pd.isna(x) else True\n",
        ")\n",
        "df['fullsize_readable_2'] = df['resize_filename_2'].apply(\n",
        "    lambda x: False if pd.isna(x) else True\n",
        ")"
      ]
    },
    {
      "cell_type": "code",
      "execution_count": null,
      "metadata": {
        "id": "Ga0QedRzOtNR"
      },
      "outputs": [],
      "source": [
        "with pd.option_context('display.max_colwidth', None):\n",
        "  display(df[df['Номер открытки'] == 1037])"
      ]
    },
    {
      "cell_type": "code",
      "execution_count": null,
      "metadata": {
        "id": "cyv5IQGMPWH6"
      },
      "outputs": [],
      "source": [
        "import numpy as np"
      ]
    },
    {
      "cell_type": "code",
      "execution_count": null,
      "metadata": {
        "id": "MOv0efyuPPZg"
      },
      "outputs": [],
      "source": [
        "df.at[5314, 'fullsize_filename_1'] = np.nan\n",
        "# df.at[5314, 'fullsize_readable_1'] = False"
      ]
    },
    {
      "cell_type": "code",
      "execution_count": null,
      "metadata": {
        "id": "MUZhxofWPLSH"
      },
      "outputs": [],
      "source": [
        "import cv2"
      ]
    },
    {
      "cell_type": "code",
      "execution_count": null,
      "metadata": {
        "id": "-QgZnbZfQgKx"
      },
      "outputs": [],
      "source": [
        "df['resize_url_1'] = df.apply(\n",
        "    lambda row: f\"https://storage.yandexcloud.net/{bucket_name}/{row['Номер открытки']}-1-resize.jpg\"\n",
        "    if row['needs_resize'] and \n",
        "    not pd.isna(row['resize_filename_1']) and not pd.isna(row['resize_filename_2'])\n",
        "    else np.nan,\n",
        "    axis=1\n",
        "    )\n",
        "\n",
        "df['resize_url_2'] = df.apply(\n",
        "    lambda row: f\"https://storage.yandexcloud.net/{bucket_name}/{row['Номер открытки']}-2-resize.jpg\"\n",
        "    if row['needs_resize'] and \n",
        "    not pd.isna(row['resize_filename_1']) and not pd.isna(row['resize_filename_2'])\n",
        "    else np.nan,\n",
        "    axis=1\n",
        "    )"
      ]
    },
    {
      "cell_type": "code",
      "execution_count": null,
      "metadata": {
        "colab": {
          "base_uri": "https://localhost:8080/"
        },
        "id": "BeXVKPivR00W",
        "outputId": "3db6db9a-7c57-4d52-9e3b-db3ad0b42971"
      },
      "outputs": [
        {
          "output_type": "execute_result",
          "data": {
            "text/plain": [
              "(11595, 16)"
            ]
          },
          "metadata": {},
          "execution_count": 212
        }
      ],
      "source": [
        "df[(df['needs_resize']) & (~df['resize_url_1'].isna()) & (~df['resize_url_2'].isna())].shape"
      ]
    },
    {
      "cell_type": "code",
      "source": [
        "df.shape"
      ],
      "metadata": {
        "colab": {
          "base_uri": "https://localhost:8080/"
        },
        "id": "VzN9zzmWjpM5",
        "outputId": "7c4dad57-8464-4d54-da58-ddac2c09962d"
      },
      "execution_count": null,
      "outputs": [
        {
          "output_type": "execute_result",
          "data": {
            "text/plain": [
              "(22678, 16)"
            ]
          },
          "metadata": {},
          "execution_count": 214
        }
      ]
    },
    {
      "cell_type": "code",
      "source": [
        "df.to_csv('/content/drive/MyDrive/Системный Блок/пишу тебе/сжатие изображений/df_postcards-resize-880pix.csv')"
      ],
      "metadata": {
        "id": "nafYK96UfESf"
      },
      "execution_count": null,
      "outputs": []
    },
    {
      "cell_type": "code",
      "source": [
        "nan_ids = []\n",
        "with open('problematic_ids.txt', 'r') as f:\n",
        "  for s in f:\n",
        "    num = int(s.strip())\n",
        "    nan_ids.append(num)\n",
        "len(nan_ids)"
      ],
      "metadata": {
        "colab": {
          "base_uri": "https://localhost:8080/"
        },
        "id": "oehasOmfX4o_",
        "outputId": "e70ef5d2-9a31-44c4-a9ad-875ffe7881cd"
      },
      "execution_count": null,
      "outputs": [
        {
          "output_type": "execute_result",
          "data": {
            "text/plain": [
              "49"
            ]
          },
          "metadata": {},
          "execution_count": 3
        }
      ]
    },
    {
      "cell_type": "code",
      "source": [
        "import pandas as pd"
      ],
      "metadata": {
        "id": "OgvIECu7ZOnx"
      },
      "execution_count": null,
      "outputs": []
    },
    {
      "cell_type": "code",
      "source": [
        "df = pd.read_csv('/content/drive/MyDrive/Системный Блок/пишу тебе/сжатие изображений/df_postcards-resize-880pix.csv', index_col=0)\n",
        "df.head()"
      ],
      "metadata": {
        "id": "lWuvooPFZGYv"
      },
      "execution_count": null,
      "outputs": []
    },
    {
      "cell_type": "code",
      "source": [
        "import requests\n",
        "import cv2"
      ],
      "metadata": {
        "id": "xuwIdN1MapHf"
      },
      "execution_count": null,
      "outputs": []
    },
    {
      "cell_type": "code",
      "source": [
        "for ind, row in df.iterrows():\n",
        "  if row['Номер открытки'] not in nan_ids or not row['needs_resize']:\n",
        "    continue\n",
        "\n",
        "  print('ID =', row['Номер открытки'])\n",
        "  if pd.isna(row['resize_url_1']):\n",
        "    print('resize_url_1 = NaN')\n",
        "  else:\n",
        "    pic_content = requests.get(row['resize_url_1']).content\n",
        "    with open ('pic_1.jpg', 'wb') as pic_file:\n",
        "        pic_file.write(pic_content)\n",
        "    try:\n",
        "      img = cv2.imread('pic_1.jpg')\n",
        "      img_shape = img.shape\n",
        "      print('resize_url_1: valid')\n",
        "    except:\n",
        "      print('resize_url_1: invalid')\n",
        "\n",
        "  if pd.isna(row['resize_url_2']):\n",
        "    print('resize_url_2 = NaN')\n",
        "  else:\n",
        "    pic_content = requests.get(row['resize_url_2']).content\n",
        "    with open ('pic_2.jpg', 'wb') as pic_file:\n",
        "        pic_file.write(pic_content)\n",
        "    try:\n",
        "      img = cv2.imread('pic_2.jpg')\n",
        "      img_shape = img.shape\n",
        "      print('resize_url_2: valid')\n",
        "    except:\n",
        "      print('resize_url_2: invalid')\n",
        "\n",
        "  print()"
      ],
      "metadata": {
        "id": "3WHm7wONZzlq"
      },
      "execution_count": null,
      "outputs": []
    },
    {
      "cell_type": "code",
      "source": [
        "from tqdm import tqdm"
      ],
      "metadata": {
        "id": "n-HGw-XodwTd"
      },
      "execution_count": null,
      "outputs": []
    },
    {
      "cell_type": "code",
      "source": [
        "for ind, row in tqdm(df.iterrows(), total=df.shape[0]):\n",
        "  if row['Номер открытки'] not in nan_ids or not row['needs_resize']:\n",
        "    continue\n",
        "\n",
        "  file_path = row['resize_filename_1']  # лицевая\n",
        "  if not pd.isna(file_path):\n",
        "    s3_filename = f\"{row['Номер открытки']}-1-resize.jpg\"\n",
        "    # print(file_path)\n",
        "    # print(s3_filename)\n",
        "    client.upload_file(file_path, bucket_name, s3_filename)\n",
        "    resized_url_1 = f'https://storage.yandexcloud.net/{bucket_name}/{s3_filename}'\n",
        "    df.at[ind, 'resized_url_1'] = resized_url_1\n",
        "\n",
        "  file_path = row['resize_filename_2']  # оборот\n",
        "  if not pd.isna(file_path):\n",
        "    s3_filename = f\"{row['Номер открытки']}-2-resize.jpg\"\n",
        "    # print(file_path)\n",
        "    # print(s3_filename)\n",
        "    client.upload_file(file_path, bucket_name, s3_filename)\n",
        "    resized_url_2 = f'https://storage.yandexcloud.net/{bucket_name}/{s3_filename}'\n",
        "    df.at[ind, 'resized_url_2'] = resized_url_2"
      ],
      "metadata": {
        "colab": {
          "base_uri": "https://localhost:8080/"
        },
        "id": "ZjAIcTLka4H1",
        "outputId": "44d16d46-06e3-4c01-a98f-a0a328ac8a2d"
      },
      "execution_count": null,
      "outputs": [
        {
          "output_type": "stream",
          "name": "stderr",
          "text": [
            "100%|██████████| 22678/22678 [00:25<00:00, 881.73it/s]\n"
          ]
        }
      ]
    },
    {
      "cell_type": "markdown",
      "metadata": {
        "id": "1cBRqyzw2qnG"
      },
      "source": [
        "# Скачивание API s3"
      ]
    },
    {
      "cell_type": "markdown",
      "metadata": {
        "id": "EbIR3WxGx1Ap"
      },
      "source": [
        "## Setup"
      ]
    },
    {
      "cell_type": "code",
      "execution_count": null,
      "metadata": {
        "id": "vW8XrjHX3T8l"
      },
      "outputs": [],
      "source": [
        "!pip install --upgrade urllib3"
      ]
    },
    {
      "cell_type": "code",
      "execution_count": null,
      "metadata": {
        "id": "_FlOh0vJ2syn"
      },
      "outputs": [],
      "source": [
        "!pip install boto3"
      ]
    },
    {
      "cell_type": "code",
      "execution_count": null,
      "metadata": {
        "id": "jr5eqvy821Bl"
      },
      "outputs": [],
      "source": [
        "import boto3\n",
        "from botocore.config import Config\n",
        "import os"
      ]
    },
    {
      "cell_type": "code",
      "execution_count": null,
      "metadata": {
        "id": "gn99LPVa2r-v"
      },
      "outputs": [],
      "source": [
        "def get_yandex_service() -> boto3.session.Session.client:\n",
        "    yandex_session = boto3.session.Session()\n",
        "\n",
        "    yandex_config = Config(\n",
        "        region_name='ru-central1',\n",
        "    )\n",
        "\n",
        "    return yandex_session.client(\n",
        "        service_name='s3',\n",
        "        endpoint_url='https://storage.yandexcloud.net',\n",
        "        # aws_access_key_id=os.environ.get('AWS_ACCESS_KEY_ID'), \n",
        "        aws_access_key_id='YCAJE2yFulzqL6FBegC-HPkKZ',\n",
        "        # aws_secret_access_key=os.environ.get('AWS_SECRET_ACCESS_KEY'), \n",
        "        aws_secret_access_key='YCOy6fszsTIViwPd7SC6fo4Ol0mhWXatb5Q2Lvv-',\n",
        "        config=yandex_config\n",
        "    )"
      ]
    },
    {
      "cell_type": "code",
      "execution_count": null,
      "metadata": {
        "id": "73IuBHBIermA"
      },
      "outputs": [],
      "source": [
        "client = get_yandex_service()"
      ]
    },
    {
      "cell_type": "markdown",
      "metadata": {
        "id": "eqOBREVTx5fL"
      },
      "source": [
        "## Список бакетов"
      ]
    },
    {
      "cell_type": "code",
      "execution_count": null,
      "metadata": {
        "id": "q9GtO3USes3B"
      },
      "outputs": [],
      "source": [
        "bucket_list = client.list_buckets()['Buckets']\n",
        "bucket_list"
      ]
    },
    {
      "cell_type": "markdown",
      "metadata": {
        "id": "HQBvNXUJx_fE"
      },
      "source": [
        "## Скачиваем базы"
      ]
    },
    {
      "cell_type": "code",
      "execution_count": null,
      "metadata": {
        "id": "6tcp4Mbt4qt_"
      },
      "outputs": [],
      "source": [
        "import re"
      ]
    },
    {
      "cell_type": "code",
      "execution_count": null,
      "metadata": {
        "id": "iid2VgCM8BaE"
      },
      "outputs": [],
      "source": [
        "base_dir = '/content/drive/MyDrive/Системный Блок/пишу тебе/сжатие изображений/images'"
      ]
    },
    {
      "cell_type": "code",
      "execution_count": null,
      "metadata": {
        "id": "Eztu0XW-4Q2w"
      },
      "outputs": [],
      "source": [
        "def download(row):\n",
        "  try:\n",
        "    s = row['Pic_url_1'].split('/')\n",
        "    bucket_name = re.search('https://storage.yandexcloud.net/(.+?)/', url).group(1)\n",
        "    bucket_name = s[3]\n",
        "    # print('bucket_name =', bucket_name)\n",
        "    filename = '/'.join(s[4:]).replace('%20', ' ')\n",
        "    # print('filename =', filename)\n",
        "    filename_gdisk = f\"{base_dir}/{bucket_name}/{row['base']}-{row['Номер открытки']}-1.jpg\"\n",
        "    with open(filename_gdisk, 'wb') as f:\n",
        "      client.download_fileobj(bucket_name, filename, f)\n",
        "  except:\n",
        "    raise\n",
        "    # with open('exceptions.txt', 'a') as exc_file:\n",
        "      # exc_file.write(f\"ID = {row['Номер открытки']}\\n\")\n",
        "\n",
        "  try:\n",
        "    s = row['Pic_url_2'].split('/')\n",
        "    bucket_name = re.search('https://storage.yandexcloud.net/(.+?)/', url).group(1)\n",
        "    bucket_name = s[3]\n",
        "    # print('bucket_name =', bucket_name)\n",
        "    filename = '/'.join(s[4:]).replace('%20', ' ')\n",
        "    # print('filename =', filename)\n",
        "    filename_gdisk = f\"{base_dir}/{bucket_name}/{row['base']}-{row['Номер открытки']}-2.jpg\"\n",
        "    with open(filename_gdisk, 'wb') as f:\n",
        "      client.download_fileobj(bucket_name, filename, f)\n",
        "  except:\n",
        "    raise\n",
        "    # with open('exceptions.txt', 'a') as exc_file:\n",
        "      # exc_file.write(f\"ID = {row['Номер открытки']}\\n\")"
      ]
    },
    {
      "cell_type": "code",
      "execution_count": null,
      "metadata": {
        "id": "O20u0xfx7qtD"
      },
      "outputs": [],
      "source": [
        "for b in bucket_list:\n",
        "  os.mkdir(f\"{base_dir}/{b['Name']}\")"
      ]
    },
    {
      "cell_type": "code",
      "execution_count": null,
      "metadata": {
        "id": "MEf5nEpLI3Ys"
      },
      "outputs": [],
      "source": [
        "from tqdm import tqdm\n",
        "tqdm.pandas()"
      ]
    },
    {
      "cell_type": "code",
      "execution_count": null,
      "metadata": {
        "id": "xDrL50UAIt4B"
      },
      "outputs": [],
      "source": [
        "df.progress_apply(download, axis=1)"
      ]
    },
    {
      "cell_type": "markdown",
      "metadata": {
        "id": "M-xwNC52WuBa"
      },
      "source": [
        "# Сжатие при помощи Imagemagick"
      ]
    },
    {
      "cell_type": "code",
      "execution_count": null,
      "metadata": {
        "id": "kcEXHt5bWzx8"
      },
      "outputs": [],
      "source": [
        "def do_resize(filename_in, filename_out):\n",
        "  img = cv2.imread(filename_in)\n",
        "  print('before:', img.shape[:2])\n",
        "  subprocess.run(f'resize.sh {filename_in} {filename_out}', \n",
        "                      stdout=open(filename_out, \"w\"), \n",
        "                      shell=True)\n",
        "  img = cv2.imread(filename_out)\n",
        "  print('after:', img.shape[:2])\n",
        "  print()"
      ]
    },
    {
      "cell_type": "code",
      "execution_count": null,
      "metadata": {
        "id": "c8Bk78BrWvYg"
      },
      "outputs": [],
      "source": [
        "import subprocess"
      ]
    },
    {
      "cell_type": "code",
      "execution_count": null,
      "metadata": {
        "id": "mTYNQMGrbhTr"
      },
      "outputs": [],
      "source": [
        "filename_out = '3_resize.jpg'\n",
        "filename_in = '1_1.jpg'\n",
        "\n",
        "with open(filename_out, 'w') as fout:\n",
        "  subprocess.run(['resize.sh', filename_in, filename_out], \n",
        "                  stdout=subprocess.PIPE,\n",
        "                  stderr=subprocess.PIPE,\n",
        "                  universal_newlines=True,\n",
        "                  shell=True)"
      ]
    },
    {
      "cell_type": "code",
      "execution_count": null,
      "metadata": {
        "colab": {
          "base_uri": "https://localhost:8080/",
          "height": 35
        },
        "id": "D3srN3Bid81S",
        "outputId": "f7a18dca-a20f-448a-d224-5729fb5f9dd1"
      },
      "outputs": [
        {
          "data": {
            "application/vnd.google.colaboratory.intrinsic+json": {
              "type": "string"
            },
            "text/plain": [
              "''"
            ]
          },
          "execution_count": 137,
          "metadata": {},
          "output_type": "execute_result"
        }
      ],
      "source": [
        "# os.system(f'resize.sh {filename_in} {filename_out}')\n",
        "stream = os.popen(f'resize.sh {filename_in} {filename_out}')\n",
        "output = stream.read()\n",
        "output"
      ]
    },
    {
      "cell_type": "code",
      "execution_count": null,
      "metadata": {
        "id": "3P2xxRm8XEZk"
      },
      "outputs": [],
      "source": [
        "do_resize('1_1.jpg', '3_resize.jpg')"
      ]
    },
    {
      "cell_type": "markdown",
      "metadata": {
        "id": "WWXVnpDnrnLQ"
      },
      "source": [
        "# Ревизия"
      ]
    },
    {
      "cell_type": "code",
      "execution_count": null,
      "metadata": {
        "id": "7JwugasZrtcT"
      },
      "outputs": [],
      "source": [
        "import cv2\n",
        "import os\n",
        "from tqdm import tqdm\n",
        "import numpy as np\n",
        "import json\n",
        "import pandas as pd"
      ]
    },
    {
      "cell_type": "markdown",
      "metadata": {
        "id": "1yhMetv8XbHh"
      },
      "source": [
        "## До сжатия"
      ]
    },
    {
      "cell_type": "code",
      "execution_count": null,
      "metadata": {
        "id": "CCtLIdokXbHi"
      },
      "outputs": [],
      "source": [
        "base_dir_str = '/content/drive/MyDrive/Системный Блок/пишу тебе/сжатие изображений/images/'"
      ]
    },
    {
      "cell_type": "code",
      "execution_count": null,
      "metadata": {
        "id": "XQpdRaSYXbHj"
      },
      "outputs": [],
      "source": [
        "base_dir = os.fsencode(base_dir_str)\n",
        "dirs_done = ['base_1', 'base_2']\n",
        "revision_data = dict()\n",
        "    \n",
        "for dr in os.listdir(base_dir):\n",
        "  sub_dir_str = os.fsdecode(dr)\n",
        "  if sub_dir_str in dirs_done:\n",
        "    continue\n",
        "  sub_dir_str = base_dir_str + sub_dir_str\n",
        "  print(sub_dir_str)\n",
        "  sub_dir = os.fsencode(sub_dir_str)\n",
        "\n",
        "  count = 0\n",
        "  for f in tqdm(os.listdir(sub_dir)):\n",
        "    count += 1\n",
        "    # if count < 980:\n",
        "    #   continue\n",
        "    input_filename = os.fsdecode(f)\n",
        "    postcard_id = int(input_filename.split('-')[1])\n",
        "    pic = int(input_filename.split('.')[0].split('-')[2])\n",
        "    # print('postcard_id =', postcard_id, 'pic =', pic)\n",
        "    input_filename = f'{sub_dir_str}/{input_filename}'\n",
        "\n",
        "    if postcard_id not in revision_data:\n",
        "      revision_data[postcard_id] = {1: None, 2: None}\n",
        "\n",
        "    try:\n",
        "      img = cv2.imread(input_filename)\n",
        "      revision_data[postcard_id][pic] = {\n",
        "          'orig_filename': input_filename,\n",
        "          'orig_readable': True,\n",
        "          'orig_height': img.shape[0],\n",
        "          'orig_width': img.shape[1],\n",
        "          'orig_filesize': os.path.getsize(input_filename)\n",
        "      }\n",
        "    except:\n",
        "      # raise\n",
        "      revision_data[postcard_id][pic] = {\n",
        "          'orig_filename': input_filename,\n",
        "          'orig_readable': False,\n",
        "          'orig_height': np.nan,\n",
        "          'orig_width': np.nan,\n",
        "          'orig_filesize': os.path.getsize(input_filename)\n",
        "      }\n",
        "    # break\n",
        "  \n",
        "  # break"
      ]
    },
    {
      "cell_type": "code",
      "execution_count": null,
      "metadata": {
        "id": "WKN1cbqxXbHk"
      },
      "outputs": [],
      "source": [
        "with open('/content/drive/MyDrive/Системный Блок/пишу тебе/сжатие изображений/revision_orig_base_3.json', 'w') as fp:\n",
        "    json.dump(revision_data, fp)"
      ]
    },
    {
      "cell_type": "code",
      "execution_count": null,
      "metadata": {
        "id": "JVmYJ04jXbHk"
      },
      "outputs": [],
      "source": [
        "def get_revision_df(file_path):\n",
        "  with open(file_path, 'r') as json_file:\n",
        "    revision_data = json.loads(json_file.read())\n",
        "  \n",
        "  revision_new = dict()\n",
        "  for postcard_id in revision_data:\n",
        "\n",
        "    if revision_data[postcard_id]['1'] is None and revision_data[postcard_id]['2'] is None:\n",
        "      revision_new[postcard_id] = {\n",
        "        'orig_filename_1': '',\n",
        "          'orig_readable_1': '',\n",
        "          'orig_height_1': '',\n",
        "          'orig_width_1': '',\n",
        "          'orig_filesize_1': '',\n",
        "\n",
        "          'orig_filename_2': '',\n",
        "          'orig_readable_2': '',\n",
        "          'orig_height_2': '',\n",
        "          'orig_width_2': '',\n",
        "          'orig_filesize_2': '',\n",
        "    }\n",
        "    elif revision_data[postcard_id]['1'] is None:\n",
        "      revision_new[postcard_id] = {\n",
        "        'orig_filename_1': '',\n",
        "        'orig_readable_1': '',\n",
        "        'orig_height_1': '',\n",
        "        'orig_width_1': '',\n",
        "        'orig_filesize_1': '',\n",
        "\n",
        "        'orig_filename_2': revision_data[postcard_id]['2']['orig_filename'],\n",
        "        'orig_readable_2': revision_data[postcard_id]['2']['orig_readable'],\n",
        "        'orig_height_2': revision_data[postcard_id]['2']['orig_height'],\n",
        "        'orig_width_2': revision_data[postcard_id]['2']['orig_width'],\n",
        "        'orig_filesize_2': revision_data[postcard_id]['2']['orig_filesize'],\n",
        "    }\n",
        "    elif revision_data[postcard_id]['2'] is None:\n",
        "      revision_new[postcard_id] = {\n",
        "        'orig_filename_1': revision_data[postcard_id]['1']['orig_filename'],\n",
        "        'orig_readable_1': revision_data[postcard_id]['1']['orig_readable'],\n",
        "        'orig_height_1': revision_data[postcard_id]['1']['orig_height'],\n",
        "        'orig_width_1': revision_data[postcard_id]['1']['orig_width'],\n",
        "        'orig_filesize_1': revision_data[postcard_id]['1']['orig_filesize'],\n",
        "\n",
        "        'orig_filename_2': '',\n",
        "        'orig_readable_2': '',\n",
        "        'orig_height_2': '',\n",
        "        'orig_width_2': '',\n",
        "        'orig_filesize_2': '',\n",
        "    }\n",
        "    else:\n",
        "      revision_new[postcard_id] = {\n",
        "        'orig_filename_1': revision_data[postcard_id]['1']['orig_filename'],\n",
        "        'orig_readable_1': revision_data[postcard_id]['1']['orig_readable'],\n",
        "        'orig_height_1': revision_data[postcard_id]['1']['orig_height'],\n",
        "        'orig_width_1': revision_data[postcard_id]['1']['orig_width'],\n",
        "        'orig_filesize_1': revision_data[postcard_id]['1']['orig_filesize'],\n",
        "\n",
        "        'orig_filename_2': revision_data[postcard_id]['2']['orig_filename'],\n",
        "        'orig_readable_2': revision_data[postcard_id]['2']['orig_readable'],\n",
        "        'orig_height_2': revision_data[postcard_id]['2']['orig_height'],\n",
        "        'orig_width_2': revision_data[postcard_id]['2']['orig_width'],\n",
        "        'orig_filesize_2': revision_data[postcard_id]['2']['orig_filesize'],\n",
        "      }\n",
        "\n",
        "  df = pd.DataFrame.from_dict(revision_new, orient='index')\n",
        "  df = df.reset_index().rename(columns={'index': 'ID'})\n",
        "  return df"
      ]
    },
    {
      "cell_type": "code",
      "execution_count": null,
      "metadata": {
        "id": "HUUXXpXZXbHl"
      },
      "outputs": [],
      "source": [
        "revision_orig_df = pd.concat([\n",
        "    get_revision_df('/content/drive/MyDrive/Системный Блок/пишу тебе/сжатие изображений/revision_orig_base_1.json'),\n",
        "    get_revision_df('/content/drive/MyDrive/Системный Блок/пишу тебе/сжатие изображений/revision_orig_base_2.json'),\n",
        "    get_revision_df('/content/drive/MyDrive/Системный Блок/пишу тебе/сжатие изображений/revision_orig_base_3.json'),\n",
        "])"
      ]
    },
    {
      "cell_type": "code",
      "execution_count": null,
      "metadata": {
        "id": "849YvFgXXbHl"
      },
      "outputs": [],
      "source": [
        "revision_orig_df = revision_orig_df.replace('', np.nan)"
      ]
    },
    {
      "cell_type": "code",
      "execution_count": null,
      "metadata": {
        "id": "uXB8-awiXbHm"
      },
      "outputs": [],
      "source": [
        "revision_orig_df['ID'] = revision_orig_df['ID'].astype(int)\n",
        "revision_orig_df['orig_height_1'] = revision_orig_df['orig_height_1'].astype(float)\n",
        "revision_orig_df['orig_width_1'] = revision_orig_df['orig_width_1'].astype(float)\n",
        "revision_orig_df['orig_filesize_1'] = revision_orig_df['orig_filesize_1'].astype(float)\n",
        "revision_orig_df['orig_readable_1'] = revision_orig_df['orig_readable_1'].astype(bool)\n",
        "revision_orig_df['orig_height_2'] = revision_orig_df['orig_height_2'].astype(float)\n",
        "revision_orig_df['orig_width_2'] = revision_orig_df['orig_width_2'].astype(float)\n",
        "revision_orig_df['orig_filesize_2'] = revision_orig_df['orig_filesize_2'].astype(float)\n",
        "revision_orig_df['orig_readable_2'] = revision_orig_df['orig_readable_2'].astype(bool)"
      ]
    },
    {
      "cell_type": "code",
      "execution_count": null,
      "metadata": {
        "id": "MulZWbBhXbHm"
      },
      "outputs": [],
      "source": [
        "revision_orig_df.dtypes"
      ]
    },
    {
      "cell_type": "code",
      "execution_count": null,
      "metadata": {
        "id": "GfsLLsQcXbHm"
      },
      "outputs": [],
      "source": [
        "revision_orig_df = revision_orig_df.sort_values(by='ID').reset_index(drop=True)"
      ]
    },
    {
      "cell_type": "code",
      "execution_count": null,
      "metadata": {
        "id": "MqtEps8ZXbHn"
      },
      "outputs": [],
      "source": [
        "revision_orig_df.head()"
      ]
    },
    {
      "cell_type": "code",
      "execution_count": null,
      "metadata": {
        "colab": {
          "base_uri": "https://localhost:8080/"
        },
        "id": "1vXXv6-cXbHn",
        "outputId": "c0bf92e1-7d0d-41e2-a17f-a83eab51bbf6"
      },
      "outputs": [
        {
          "data": {
            "text/plain": [
              "(27645, 11)"
            ]
          },
          "execution_count": 53,
          "metadata": {},
          "output_type": "execute_result"
        }
      ],
      "source": [
        "revision_orig_df.shape"
      ]
    },
    {
      "cell_type": "code",
      "execution_count": null,
      "metadata": {
        "colab": {
          "base_uri": "https://localhost:8080/"
        },
        "id": "0z9b-eXDXbHo",
        "outputId": "8db5073a-5e8c-42e9-d558-da54e293a829"
      },
      "outputs": [
        {
          "data": {
            "text/plain": [
              "22677"
            ]
          },
          "execution_count": 54,
          "metadata": {},
          "output_type": "execute_result"
        }
      ],
      "source": [
        "revision_orig_df['ID'].nunique()"
      ]
    },
    {
      "cell_type": "code",
      "execution_count": null,
      "metadata": {
        "colab": {
          "base_uri": "https://localhost:8080/"
        },
        "id": "bxNRxO7bXbHo",
        "outputId": "0ddc7224-84dd-4ee4-fb4c-be7d1a8fa414"
      },
      "outputs": [
        {
          "data": {
            "text/plain": [
              "215419"
            ]
          },
          "execution_count": 55,
          "metadata": {},
          "output_type": "execute_result"
        }
      ],
      "source": [
        "revision_orig_df['ID'].max()"
      ]
    },
    {
      "cell_type": "code",
      "execution_count": null,
      "metadata": {
        "id": "dJYb2KSZXbHo"
      },
      "outputs": [],
      "source": [
        "revision_orig_df.isna().sum()"
      ]
    },
    {
      "cell_type": "code",
      "execution_count": null,
      "metadata": {
        "id": "PMBXac5LXbHo"
      },
      "outputs": [],
      "source": [
        "revision_orig_df.to_csv('/content/drive/MyDrive/Системный Блок/пишу тебе/сжатие изображений/revision_orig_df.csv')"
      ]
    },
    {
      "cell_type": "markdown",
      "metadata": {
        "id": "eKkzJ399UMCU"
      },
      "source": [
        "## После сжатия"
      ]
    },
    {
      "cell_type": "code",
      "execution_count": null,
      "metadata": {
        "id": "Zd3b0u29rtcU"
      },
      "outputs": [],
      "source": [
        "base_dir_str = '/content/drive/MyDrive/Системный Блок/пишу тебе/сжатие изображений/images-resize/'"
      ]
    },
    {
      "cell_type": "code",
      "execution_count": null,
      "metadata": {
        "id": "45OoXo7ortcU"
      },
      "outputs": [],
      "source": [
        "base_dir = os.fsencode(base_dir_str)\n",
        "dirs_done = ['base_1', 'base_2']\n",
        "revision_data = dict()\n",
        "    \n",
        "for dr in os.listdir(base_dir):\n",
        "  sub_dir_str = os.fsdecode(dr)\n",
        "  if sub_dir_str in dirs_done:\n",
        "    continue\n",
        "  sub_dir_str = base_dir_str + sub_dir_str\n",
        "  print(sub_dir_str)\n",
        "  sub_dir = os.fsencode(sub_dir_str)\n",
        "\n",
        "  count = 0\n",
        "  for f in tqdm(os.listdir(sub_dir)):\n",
        "    count += 1\n",
        "    # if count < 980:\n",
        "    #   continue\n",
        "    input_filename = os.fsdecode(f)\n",
        "    postcard_id = int(input_filename.split('-')[1])\n",
        "    pic = int(input_filename.split('.')[0].split('-')[2])\n",
        "    # print('postcard_id =', postcard_id, 'pic =', pic)\n",
        "    input_filename = f'{sub_dir_str}/{input_filename}'\n",
        "\n",
        "    if postcard_id not in revision_data:\n",
        "      revision_data[postcard_id] = {1: None, 2: None}\n",
        "\n",
        "    try:\n",
        "      img = cv2.imread(input_filename)\n",
        "      revision_data[postcard_id][pic] = {\n",
        "          'resize_filename': input_filename,\n",
        "          'resize_readable': True,\n",
        "          'resize_height': img.shape[0],\n",
        "          'resize_width': img.shape[1],\n",
        "          'resize_filesize': os.path.getsize(input_filename)\n",
        "      }\n",
        "    except:\n",
        "      # raise\n",
        "      revision_data[postcard_id][pic] = {\n",
        "          'resize_filename': input_filename,\n",
        "          'resize_readable': False,\n",
        "          'resize_height': np.nan,\n",
        "          'resize_width': np.nan,\n",
        "          'resize_filesize': os.path.getsize(input_filename)\n",
        "      }\n",
        "    # break\n",
        "  \n",
        "  # break"
      ]
    },
    {
      "cell_type": "code",
      "execution_count": null,
      "metadata": {
        "id": "6jEQ0M_MvxRa"
      },
      "outputs": [],
      "source": [
        "with open('/content/drive/MyDrive/Системный Блок/пишу тебе/сжатие изображений/revision_resize_base_3.json', 'w') as fp:\n",
        "    json.dump(revision_data, fp)"
      ]
    },
    {
      "cell_type": "code",
      "execution_count": null,
      "metadata": {
        "id": "ufg0bLSEcWun"
      },
      "outputs": [],
      "source": [
        "def get_revision_df(file_path):\n",
        "  with open(file_path, 'r') as json_file:\n",
        "    revision_data = json.loads(json_file.read())\n",
        "  \n",
        "  revision_new = dict()\n",
        "  for postcard_id in revision_data:\n",
        "\n",
        "    if revision_data[postcard_id]['1'] is None and revision_data[postcard_id]['2'] is None:\n",
        "      revision_new[postcard_id] = {\n",
        "        'resize_filename_1': '',\n",
        "          'resize_readable_1': '',\n",
        "          'resize_height_1': '',\n",
        "          'resize_width_1': '',\n",
        "          'resize_filesize_1': '',\n",
        "\n",
        "          'resize_filename_2': '',\n",
        "          'resize_readable_2': '',\n",
        "          'resize_height_2': '',\n",
        "          'resize_width_2': '',\n",
        "          'resize_filesize_2': '',\n",
        "    }\n",
        "    elif revision_data[postcard_id]['1'] is None:\n",
        "      revision_new[postcard_id] = {\n",
        "        'resize_filename_1': '',\n",
        "          'resize_readable_1': '',\n",
        "          'resize_height_1': '',\n",
        "          'resize_width_1': '',\n",
        "          'resize_filesize_1': '',\n",
        "\n",
        "          'resize_filename_2': revision_data[postcard_id]['2']['resize_filename'],\n",
        "          'resize_readable_2': revision_data[postcard_id]['2']['resize_readable'],\n",
        "          'resize_height_2': revision_data[postcard_id]['2']['resize_height'],\n",
        "          'resize_width_2': revision_data[postcard_id]['2']['resize_width'],\n",
        "          'resize_filesize_2': revision_data[postcard_id]['2']['resize_filesize'],\n",
        "    }\n",
        "    elif revision_data[postcard_id]['2'] is None:\n",
        "      revision_new[postcard_id] = {\n",
        "        'resize_filename_1': revision_data[postcard_id]['1']['resize_filename'],\n",
        "        'resize_readable_1': revision_data[postcard_id]['1']['resize_readable'],\n",
        "        'resize_height_1': revision_data[postcard_id]['1']['resize_height'],\n",
        "        'resize_width_1': revision_data[postcard_id]['1']['resize_width'],\n",
        "        'resize_filesize_1': revision_data[postcard_id]['1']['resize_filesize'],\n",
        "\n",
        "        'resize_filename_2': '',\n",
        "          'resize_readable_2': '',\n",
        "          'resize_height_2': '',\n",
        "          'resize_width_2': '',\n",
        "          'resize_filesize_2': '',\n",
        "    }\n",
        "    else:\n",
        "      revision_new[postcard_id] = {\n",
        "          'resize_filename_1': revision_data[postcard_id]['1']['resize_filename'],\n",
        "        'resize_readable_1': revision_data[postcard_id]['1']['resize_readable'],\n",
        "        'resize_height_1': revision_data[postcard_id]['1']['resize_height'],\n",
        "        'resize_width_1': revision_data[postcard_id]['1']['resize_width'],\n",
        "        'resize_filesize_1': revision_data[postcard_id]['1']['resize_filesize'],\n",
        "\n",
        "          'resize_filename_2': revision_data[postcard_id]['2']['resize_filename'],\n",
        "          'resize_readable_2': revision_data[postcard_id]['2']['resize_readable'],\n",
        "          'resize_height_2': revision_data[postcard_id]['2']['resize_height'],\n",
        "          'resize_width_2': revision_data[postcard_id]['2']['resize_width'],\n",
        "          'resize_filesize_2': revision_data[postcard_id]['2']['resize_filesize'],\n",
        "      }\n",
        "\n",
        "  df = pd.DataFrame.from_dict(revision_new, orient='index')\n",
        "  df = df.reset_index().rename(columns={'index': 'ID'})\n",
        "  return df"
      ]
    },
    {
      "cell_type": "code",
      "execution_count": null,
      "metadata": {
        "id": "EUpCKT_qff2R"
      },
      "outputs": [],
      "source": [
        "revision_resize_df = pd.concat([\n",
        "    get_revision_df('/content/drive/MyDrive/Системный Блок/пишу тебе/сжатие изображений/revision_resize_base_1.json'),\n",
        "    get_revision_df('/content/drive/MyDrive/Системный Блок/пишу тебе/сжатие изображений/revision_resize_base_2.json'),\n",
        "    get_revision_df('/content/drive/MyDrive/Системный Блок/пишу тебе/сжатие изображений/revision_resize_base_3.json'),\n",
        "])"
      ]
    },
    {
      "cell_type": "code",
      "execution_count": null,
      "metadata": {
        "id": "vqKstUNnhyJu"
      },
      "outputs": [],
      "source": [
        "revision_resize_df = revision_resize_df.replace('', np.nan)"
      ]
    },
    {
      "cell_type": "code",
      "execution_count": null,
      "metadata": {
        "id": "oykhhfkl0wW5"
      },
      "outputs": [],
      "source": [
        "revision_resize_df['ID'] = revision_resize_df['ID'].astype(int)\n",
        "revision_resize_df['resize_height_1'] = revision_resize_df['resize_height_1'].astype(float)\n",
        "revision_resize_df['resize_width_1'] = revision_resize_df['resize_width_1'].astype(float)\n",
        "revision_resize_df['resize_filesize_1'] = revision_resize_df['resize_filesize_1'].astype(float)\n",
        "revision_resize_df['resize_readable_1'] = revision_resize_df['resize_readable_1'].astype(bool)\n",
        "revision_resize_df['resize_height_2'] = revision_resize_df['resize_height_2'].astype(float)\n",
        "revision_resize_df['resize_width_2'] = revision_resize_df['resize_width_2'].astype(float)\n",
        "revision_resize_df['resize_filesize_2'] = revision_resize_df['resize_filesize_2'].astype(float)\n",
        "revision_resize_df['resize_readable_2'] = revision_resize_df['resize_readable_2'].astype(bool)"
      ]
    },
    {
      "cell_type": "code",
      "execution_count": null,
      "metadata": {
        "id": "GNKjh_Stg3Co"
      },
      "outputs": [],
      "source": [
        "revision_resize_df.dtypes"
      ]
    },
    {
      "cell_type": "code",
      "execution_count": null,
      "metadata": {
        "id": "oZdLuaQ2gk1c"
      },
      "outputs": [],
      "source": [
        "revision_resize_df = revision_resize_df.sort_values(by='ID').reset_index(drop=True)"
      ]
    },
    {
      "cell_type": "code",
      "execution_count": null,
      "metadata": {
        "id": "iF7ZuH17fx4C"
      },
      "outputs": [],
      "source": [
        "revision_resize_df.head()"
      ]
    },
    {
      "cell_type": "code",
      "execution_count": null,
      "metadata": {
        "colab": {
          "base_uri": "https://localhost:8080/"
        },
        "id": "49L6EJjofAfy",
        "outputId": "32348dc9-6444-401c-e15d-8b143f72d1cf"
      },
      "outputs": [
        {
          "data": {
            "text/plain": [
              "(27547, 11)"
            ]
          },
          "execution_count": 12,
          "metadata": {},
          "output_type": "execute_result"
        }
      ],
      "source": [
        "revision_resize_df.shape"
      ]
    },
    {
      "cell_type": "code",
      "execution_count": null,
      "metadata": {
        "colab": {
          "base_uri": "https://localhost:8080/"
        },
        "id": "6TbPV5qtfzWJ",
        "outputId": "2ba5d780-9804-4fb1-d193-ba888b64365e"
      },
      "outputs": [
        {
          "data": {
            "text/plain": [
              "22647"
            ]
          },
          "execution_count": 13,
          "metadata": {},
          "output_type": "execute_result"
        }
      ],
      "source": [
        "revision_resize_df['ID'].nunique()"
      ]
    },
    {
      "cell_type": "code",
      "execution_count": null,
      "metadata": {
        "colab": {
          "base_uri": "https://localhost:8080/"
        },
        "id": "SkiROH_PgxLQ",
        "outputId": "18161b42-7ece-4ac3-9ecf-5671d2d1ada6"
      },
      "outputs": [
        {
          "data": {
            "text/plain": [
              "215419"
            ]
          },
          "execution_count": 14,
          "metadata": {},
          "output_type": "execute_result"
        }
      ],
      "source": [
        "revision_resize_df['ID'].max()"
      ]
    },
    {
      "cell_type": "code",
      "execution_count": null,
      "metadata": {
        "id": "Juyfibdceujg"
      },
      "outputs": [],
      "source": [
        "revision_resize_df.isna().sum()"
      ]
    },
    {
      "cell_type": "code",
      "execution_count": null,
      "metadata": {
        "id": "laTsxvEuzfMO"
      },
      "outputs": [],
      "source": [
        "revision_resize_df.to_csv('/content/drive/MyDrive/Системный Блок/пишу тебе/сжатие изображений/revision_resize_df.csv')"
      ]
    },
    {
      "cell_type": "markdown",
      "metadata": {
        "id": "9Mr6V7n-ZuJt"
      },
      "source": [
        "## Объединяем данные"
      ]
    },
    {
      "cell_type": "code",
      "execution_count": null,
      "metadata": {
        "id": "SCCtsjyb2ZZ7"
      },
      "outputs": [],
      "source": [
        "revision_df = pd.read_csv('/content/drive/MyDrive/Системный Блок/пишу тебе/сжатие изображений/revision/revision_orig_df.csv', index_col=0)\n",
        "revision_df.head()"
      ]
    },
    {
      "cell_type": "code",
      "execution_count": null,
      "metadata": {
        "id": "IIqTxxlm2osN"
      },
      "outputs": [],
      "source": [
        "revision_df = revision_df.merge(\n",
        "    pd.read_csv(\n",
        "        '/content/drive/MyDrive/Системный Блок/пишу тебе/сжатие изображений/revision/revision_resize_df.csv', \n",
        "        index_col=0), \n",
        "    on='ID', how='outer')\n",
        "revision_df.head()"
      ]
    },
    {
      "cell_type": "code",
      "execution_count": null,
      "metadata": {
        "colab": {
          "base_uri": "https://localhost:8080/"
        },
        "id": "JqZp-ph121VY",
        "outputId": "b03b2579-089a-45f9-b9e1-b248b9455093"
      },
      "outputs": [
        {
          "output_type": "execute_result",
          "data": {
            "text/plain": [
              "(37445, 21)"
            ]
          },
          "metadata": {},
          "execution_count": 223
        }
      ],
      "source": [
        "revision_df.shape"
      ]
    },
    {
      "cell_type": "code",
      "execution_count": null,
      "metadata": {
        "id": "zvC9rQKU29rM"
      },
      "outputs": [],
      "source": [
        "revision_df.to_csv('/content/drive/MyDrive/Системный Блок/пишу тебе/сжатие изображений/revision_df_merged.csv')"
      ]
    },
    {
      "cell_type": "code",
      "execution_count": null,
      "metadata": {
        "id": "1PK8depHI7aW"
      },
      "outputs": [],
      "source": [
        "import pandas as pd"
      ]
    },
    {
      "cell_type": "code",
      "execution_count": null,
      "metadata": {
        "id": "-2BbjqutIySJ"
      },
      "outputs": [],
      "source": [
        "revision_df = pd.read_csv('/content/drive/MyDrive/Системный Блок/пишу тебе/сжатие изображений/revision/revision_df_merged.csv', index_col=0)\n",
        "revision_df.head()"
      ]
    },
    {
      "cell_type": "code",
      "execution_count": null,
      "metadata": {
        "colab": {
          "base_uri": "https://localhost:8080/"
        },
        "id": "72ZQ-XJm78c_",
        "outputId": "006fbfb6-0147-45c1-98b7-cd05b930829c"
      },
      "outputs": [
        {
          "data": {
            "text/plain": [
              "(22677, 21)"
            ]
          },
          "execution_count": 9,
          "metadata": {},
          "output_type": "execute_result"
        }
      ],
      "source": [
        "revision_df = revision_df.drop_duplicates(subset='ID')\n",
        "revision_df.shape"
      ]
    },
    {
      "cell_type": "markdown",
      "metadata": {
        "id": "h69ZO3KaHYTn"
      },
      "source": [
        "Merge с основной таблицей (базой открыток)"
      ]
    },
    {
      "cell_type": "code",
      "execution_count": null,
      "metadata": {
        "id": "85tI96CAsNfT"
      },
      "outputs": [],
      "source": [
        "df = df[['Номер открытки', 'Pic_url_1', 'Pic_url_2', 'base', \n",
        "         'Разрешение на публикацию', \n",
        "         'Статус (распределено, в процессе, завершено, проблема)', \n",
        "         'Проблема']]\n",
        "df = df.rename(columns={'Номер открытки': 'ID'})\n",
        "df.head()"
      ]
    },
    {
      "cell_type": "code",
      "execution_count": null,
      "metadata": {
        "colab": {
          "base_uri": "https://localhost:8080/"
        },
        "id": "O1UonMPxsLtu",
        "outputId": "204e130f-b702-4058-d261-aeb2d920a025"
      },
      "outputs": [
        {
          "data": {
            "text/plain": [
              "(22677, 7)"
            ]
          },
          "execution_count": 66,
          "metadata": {},
          "output_type": "execute_result"
        }
      ],
      "source": [
        "df.shape"
      ]
    },
    {
      "cell_type": "code",
      "execution_count": null,
      "metadata": {
        "id": "oBG7VumNHgNO"
      },
      "outputs": [],
      "source": [
        "revision_df = df.merge(revision_df, on='ID', how='outer')\n",
        "revision_df.head()"
      ]
    },
    {
      "cell_type": "code",
      "execution_count": null,
      "metadata": {
        "colab": {
          "base_uri": "https://localhost:8080/"
        },
        "id": "t3MQO0FvH1iG",
        "outputId": "970bbc96-a162-48c3-d826-7b9bd5ebb594"
      },
      "outputs": [
        {
          "data": {
            "text/plain": [
              "(22678, 27)"
            ]
          },
          "execution_count": 12,
          "metadata": {},
          "output_type": "execute_result"
        }
      ],
      "source": [
        "revision_df.shape"
      ]
    },
    {
      "cell_type": "markdown",
      "metadata": {
        "id": "y9wQDYqg3FEy"
      },
      "source": [
        "# Анализ ревизии"
      ]
    },
    {
      "cell_type": "markdown",
      "metadata": {
        "id": "HmhvgG3H3Jwd"
      },
      "source": [
        "## Размер сжатого файла"
      ]
    },
    {
      "cell_type": "markdown",
      "metadata": {
        "id": "R2P4Shqg3Mv8"
      },
      "source": [
        "Переводим в Мб"
      ]
    },
    {
      "cell_type": "code",
      "execution_count": null,
      "metadata": {
        "id": "3zskFf7h3G6I"
      },
      "outputs": [],
      "source": [
        "revision_df['resize_filesize_1'] = revision_df['resize_filesize_1'] / 1e6\n",
        "revision_df['resize_filesize_2'] = revision_df['resize_filesize_2'] / 1e6"
      ]
    },
    {
      "cell_type": "markdown",
      "metadata": {
        "id": "0h2Nf_Ut3lPc"
      },
      "source": [
        "Строим график распределения"
      ]
    },
    {
      "cell_type": "code",
      "execution_count": null,
      "metadata": {
        "id": "P-cXQHME3f04"
      },
      "outputs": [],
      "source": [
        "import matplotlib.pyplot as plt\n",
        "import seaborn as sns\n",
        "sns.set_theme()"
      ]
    },
    {
      "cell_type": "code",
      "execution_count": null,
      "metadata": {
        "colab": {
          "base_uri": "https://localhost:8080/",
          "height": 269
        },
        "id": "2gd0ED5N3rN_",
        "outputId": "6518f0ab-83bc-49d3-b478-b680b16fe9e6"
      },
      "outputs": [
        {
          "output_type": "display_data",
          "data": {
            "text/plain": [
              "<Figure size 432x288 with 1 Axes>"
            ],
            "image/png": "[encoded data removed]"
          },
          "metadata": {}
        }
      ],
      "source": [
        "resize_filesizes = revision_df['resize_filesize_1'].to_list() + \\\n",
        "  revision_df['resize_filesize_2'].to_list()\n",
        "sns.boxplot(y=resize_filesizes);\n",
        "plt.title('Resized image size (Mb)');"
      ]
    },
    {
      "cell_type": "markdown",
      "metadata": {
        "id": "xYaCHahf4DaM"
      },
      "source": [
        "Ограничению в 1 Мб удовлетворяет"
      ]
    },
    {
      "cell_type": "markdown",
      "metadata": {
        "id": "a1AqyfZb4fuD"
      },
      "source": [
        "## Открытки нестандартных размеров"
      ]
    },
    {
      "cell_type": "markdown",
      "metadata": {
        "id": "s8j29-zA4kHM"
      },
      "source": [
        "Считаем отношение длин сторон исходника (меньшая сторона к большей)"
      ]
    },
    {
      "cell_type": "code",
      "execution_count": null,
      "metadata": {
        "id": "rINyXb514FvZ"
      },
      "outputs": [],
      "source": [
        "revision_df['orig_ratio_1'] = revision_df.apply(\n",
        "    lambda row: min(row['orig_height_1'], row['orig_width_1']) / max(\n",
        "        row['orig_height_1'], row['orig_width_1']),\n",
        "    axis=1\n",
        ")\n",
        "revision_df['orig_ratio_2'] = revision_df.apply(\n",
        "    lambda row: min(row['orig_height_2'], row['orig_width_2']) / max(\n",
        "        row['orig_height_2'], row['orig_width_2']),\n",
        "    axis=1\n",
        ")"
      ]
    },
    {
      "cell_type": "markdown",
      "metadata": {
        "id": "5tRbOAwO6vZa"
      },
      "source": [
        "Строим график"
      ]
    },
    {
      "cell_type": "code",
      "execution_count": null,
      "metadata": {
        "colab": {
          "base_uri": "https://localhost:8080/",
          "height": 264
        },
        "id": "MF2cWhzW5K-m",
        "outputId": "f5224fdc-59f6-47b6-e5e6-93118d5743d2"
      },
      "outputs": [
        {
          "output_type": "display_data",
          "data": {
            "text/plain": [
              "<Figure size 432x288 with 1 Axes>"
            ],
            "image/png": "[encoded data removed]"
          },
          "metadata": {}
        }
      ],
      "source": [
        "orig_pix_ratios = revision_df['orig_ratio_1'].to_list() + revision_df['orig_ratio_1'].to_list()\n",
        "sns.boxplot(y=orig_pix_ratios);\n",
        "plt.title('Original image height-width ratio');"
      ]
    },
    {
      "cell_type": "markdown",
      "metadata": {
        "id": "LnZlyMr96xJI"
      },
      "source": [
        "Если отношение сторон **не** на отрезке [0.5; 0.8], то сжимаем так, чтобы меньшая сторона была 600 пикселей. Иначе применяем общий метод сжатия - бОльшая сторона до 880 пикселей из расчета получить 150 dpi."
      ]
    },
    {
      "cell_type": "code",
      "execution_count": null,
      "metadata": {
        "colab": {
          "base_uri": "https://localhost:8080/"
        },
        "id": "1y5WTJmr7TmN",
        "outputId": "e5e50b4d-43fa-4234-bc19-32439cc289e3"
      },
      "outputs": [
        {
          "data": {
            "text/plain": [
              "(451, 23)"
            ]
          },
          "execution_count": 70,
          "metadata": {},
          "output_type": "execute_result"
        }
      ],
      "source": [
        "revision_df[(revision_df['orig_ratio_1'] < 0.5) | (revision_df['orig_ratio_1'] > 0.8)].shape"
      ]
    },
    {
      "cell_type": "code",
      "execution_count": null,
      "metadata": {
        "colab": {
          "base_uri": "https://localhost:8080/"
        },
        "id": "S9E1wABB7wyZ",
        "outputId": "c4db6171-559b-4a39-a1dc-dd209c472d1b"
      },
      "outputs": [
        {
          "data": {
            "text/plain": [
              "(159, 23)"
            ]
          },
          "execution_count": 69,
          "metadata": {},
          "output_type": "execute_result"
        }
      ],
      "source": [
        "revision_df[(revision_df['orig_ratio_2'] < 0.5) | (revision_df['orig_ratio_2'] > 0.8)].shape"
      ]
    },
    {
      "cell_type": "markdown",
      "metadata": {
        "id": "Wj85k4nEFrOX"
      },
      "source": [
        "Заново сжимаем открытки нестандартного размера"
      ]
    },
    {
      "cell_type": "code",
      "execution_count": null,
      "metadata": {
        "id": "SJNHbXwTGcAU"
      },
      "outputs": [],
      "source": [
        "resize_max_value = 880\n",
        "resize_min_value = 600\n",
        "\n",
        "def do_resize(input_filename, output_filename):\n",
        "  # if 0.5 < size_ratio < 0.8:\n",
        "    # img = cv2.imread(input_filename)\n",
        "    # if img.shape[0] > img.shape[1]:\n",
        "    #   img = imutils.resize(img, height=resize_value)\n",
        "    # else:\n",
        "    #   img = imutils.resize(img, width=resize_value)\n",
        "    # cv2.imwrite(output_filename, img)\n",
        "  \n",
        "  img = cv2.imread(input_filename)\n",
        "  # print('orig shape:', img.shape[:2])\n",
        "  if img.shape[0] > img.shape[1]:\n",
        "    img = imutils.resize(img, width=resize_min_value)\n",
        "  else:\n",
        "    img = imutils.resize(img, height=resize_min_value)\n",
        "  cv2.imwrite(output_filename, img)\n",
        "  # print('resized shape:', img.shape[:2])\n",
        "  \n",
        "  output_file_size = os.path.getsize(output_filename) / 1e6\n",
        "  if output_file_size >= 1:\n",
        "    print('Resized image is too big:', input_filename)"
      ]
    },
    {
      "cell_type": "code",
      "execution_count": null,
      "metadata": {
        "colab": {
          "base_uri": "https://localhost:8080/"
        },
        "id": "fSkWsimMFysP",
        "outputId": "44351edb-3b96-4d33-82b3-c5f37ce42b56"
      },
      "outputs": [
        {
          "name": "stderr",
          "output_type": "stream",
          "text": [
            "100%|██████████| 22677/22677 [02:44<00:00, 137.71it/s]\n"
          ]
        }
      ],
      "source": [
        "for ind, row in tqdm(revision_df.iterrows(), total=revision_df.shape[0]):\n",
        "  if row['orig_ratio_1'] < 0.5 or row['orig_ratio_1'] > 0.8:\n",
        "    do_resize(row['orig_filename_1'], row['resize_filename_1'])\n",
        "  if row['orig_ratio_2'] < 0.5 or row['orig_ratio_2'] > 0.8:\n",
        "    do_resize(row['orig_filename_2'], row['resize_filename_2'])\n",
        "  # break"
      ]
    },
    {
      "cell_type": "markdown",
      "metadata": {
        "id": "gOBGuqE9_dt4"
      },
      "source": [
        "## Пропущенные значения"
      ]
    },
    {
      "cell_type": "code",
      "execution_count": null,
      "metadata": {
        "id": "vxUl8PMw_foF"
      },
      "outputs": [],
      "source": [
        "revision_df.isna().sum()"
      ]
    },
    {
      "cell_type": "code",
      "execution_count": null,
      "metadata": {
        "id": "ZwO8_K678GfE"
      },
      "outputs": [],
      "source": [
        "revision_df[revision_df.isna().any(axis=1)].to_csv('revision_df_rows_with_nan.csv')"
      ]
    },
    {
      "cell_type": "code",
      "execution_count": null,
      "metadata": {
        "id": "VhVTpdMg_qtZ"
      },
      "outputs": [],
      "source": [
        "revision_df[revision_df['orig_filename_1'].isna()]"
      ]
    },
    {
      "cell_type": "code",
      "execution_count": null,
      "metadata": {
        "id": "vxdU931DIPLp"
      },
      "outputs": [],
      "source": [
        "revision_df[revision_df['orig_height_1'].isna()]"
      ]
    }
  ],
  "metadata": {
    "colab": {
      "collapsed_sections": [
        "1cBRqyzw2qnG",
        "M-xwNC52WuBa"
      ],
      "toc_visible": true,
      "provenance": []
    },
    "kernelspec": {
      "display_name": "Python 3",
      "name": "python3"
    },
    "language_info": {
      "name": "python"
    }
  },
  "nbformat": 4,
  "nbformat_minor": 0
}