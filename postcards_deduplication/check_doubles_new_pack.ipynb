{
  "nbformat": 4,
  "nbformat_minor": 0,
  "metadata": {
    "colab": {
      "provenance": [],
      "collapsed_sections": [
        "PH7g4QOXe7dv"
      ],
      "toc_visible": true
    },
    "kernelspec": {
      "name": "python3",
      "display_name": "Python 3"
    },
    "language_info": {
      "name": "python"
    }
  },
  "cells": [
    {
      "cell_type": "markdown",
      "source": [
        "# Читаем базу"
      ],
      "metadata": {
        "id": "rWQHB9OfCrCM"
      }
    },
    {
      "cell_type": "code",
      "source": [
        "import pandas as pd"
      ],
      "metadata": {
        "id": "Wdub9J99CrnA"
      },
      "execution_count": 1,
      "outputs": []
    },
    {
      "cell_type": "code",
      "source": [
        "base_5 = pd.ExcelFile('/content/drive/MyDrive/Системный Блок/пишу тебе/открытки базы/_Расшифровка открыток 5 (ярмарка проектов).xlsx')\n",
        "base_5 = pd.read_excel(base_5, 'Открытки')\n",
        "base_5 = base_5.rename(columns={' ': 'Номер открытки'})\n",
        "base_5 = base_5[(~base_5['Pic_url_1'].isna()) & (~base_5['Номер открытки'].isna())]\n",
        "base_5['Номер открытки'] = base_5['Номер открытки'].astype(int)\n",
        "base_5 = base_5.sort_values(by='Номер открытки').reset_index().drop('index', axis=1)\n",
        "base_5.head()"
      ],
      "metadata": {
        "id": "2FkWettECrjg",
        "colab": {
          "base_uri": "https://localhost:8080/",
          "height": 733
        },
        "outputId": "362b5007-eb44-48ad-caf6-dd5927b6741f"
      },
      "execution_count": 2,
      "outputs": [
        {
          "output_type": "execute_result",
          "data": {
            "text/plain": [
              "   Номер открытки                                          Pic_url_1  \\\n",
              "0          215454  https://storage.yandexcloud.net/postcards-open...   \n",
              "1          215460  https://storage.yandexcloud.net/postcards-open...   \n",
              "2          215465  https://storage.yandexcloud.net/postcards-open...   \n",
              "3          215485  https://storage.yandexcloud.net/postcards-open...   \n",
              "4          215496  https://storage.yandexcloud.net/postcards-open...   \n",
              "\n",
              "                                           Pic_url_2 Разрешение на публикацию  \\\n",
              "0  https://storage.yandexcloud.net/postcards-open...      Разрешаю публикацию   \n",
              "1  https://storage.yandexcloud.net/postcards-open...      Разрешаю публикацию   \n",
              "2  https://storage.yandexcloud.net/postcards-open...      Разрешаю публикацию   \n",
              "3  https://storage.yandexcloud.net/postcards-open...      Разрешаю публикацию   \n",
              "4  https://storage.yandexcloud.net/postcards-open...      Разрешаю публикацию   \n",
              "\n",
              "              Источник Была ли открытка отправлена по почте  \\\n",
              "0  Найдено в интернете                                  NaN   \n",
              "1  Найдено в интернете                                  NaN   \n",
              "2  Найдено в интернете                                  NaN   \n",
              "3  Найдено в интернете                                  NaN   \n",
              "4  Найдено в интернете                                  NaN   \n",
              "\n",
              "  Название коллекции (если вы хотите подпись на сайте). Например, личная коллекция Василия Иванова.  \\\n",
              "0                                                NaN                                                  \n",
              "1                                                NaN                                                  \n",
              "2                                                NaN                                                  \n",
              "3                                                NaN                                                  \n",
              "4                                                NaN                                                  \n",
              "\n",
              "   Комментарий или метаинформация. Укажите тут любую метаинформацию про открытку, которую считаете важной. Например, какое-то знание или история, которую нельзя восстановить по тексту открытки.  \\\n",
              "0                                                NaN                                                                                                                                                \n",
              "1                                                NaN                                                                                                                                                \n",
              "2                                                NaN                                                                                                                                                \n",
              "3                                                NaN                                                                                                                                                \n",
              "4                                                NaN                                                                                                                                                \n",
              "\n",
              "  Заливщик                 Разметчик  ... Почему интересна Id поста на сайте  \\\n",
              "0      NaN                       NaN  ...              NaN               NaN   \n",
              "1      NaN        Лыкова Елена (ЯП6)  ...              NaN               NaN   \n",
              "2      NaN  Кулешова Екатерина (ЯП6)  ...              NaN               NaN   \n",
              "3      NaN     Рафаилова Алина (ЯП6)  ...              NaN               NaN   \n",
              "4      NaN                       NaN  ...              NaN               NaN   \n",
              "\n",
              "  Дата заливки Оценка Сгенерированные заголовки image_tag_1 image_tag_2  \\\n",
              "0          NaN      0                       NaN         NaN         NaN   \n",
              "1          NaN      5                       NaN         NaN         NaN   \n",
              "2          NaN      4                       NaN         NaN         NaN   \n",
              "3          NaN      5                       NaN         NaN         NaN   \n",
              "4          NaN      0                       NaN         NaN         NaN   \n",
              "\n",
              "  image_tag_3 image_tag_4 image_tag_5  \n",
              "0         NaN         NaN         NaN  \n",
              "1         NaN         NaN         NaN  \n",
              "2         NaN         NaN         NaN  \n",
              "3         NaN         NaN         NaN  \n",
              "4         NaN         NaN         NaN  \n",
              "\n",
              "[5 rows x 64 columns]"
            ],
            "text/html": [
              "\n",
              "  <div id=\"df-51c59f53-150a-443e-876c-7050bb5ffc9e\">\n",
              "    <div class=\"colab-df-container\">\n",
              "      <div>\n",
              "<style scoped>\n",
              "    .dataframe tbody tr th:only-of-type {\n",
              "        vertical-align: middle;\n",
              "    }\n",
              "\n",
              "    .dataframe tbody tr th {\n",
              "        vertical-align: top;\n",
              "    }\n",
              "\n",
              "    .dataframe thead th {\n",
              "        text-align: right;\n",
              "    }\n",
              "</style>\n",
              "<table border=\"1\" class=\"dataframe\">\n",
              "  <thead>\n",
              "    <tr style=\"text-align: right;\">\n",
              "      <th></th>\n",
              "      <th>Номер открытки</th>\n",
              "      <th>Pic_url_1</th>\n",
              "      <th>Pic_url_2</th>\n",
              "      <th>Разрешение на публикацию</th>\n",
              "      <th>Источник</th>\n",
              "      <th>Была ли открытка отправлена по почте</th>\n",
              "      <th>Название коллекции (если вы хотите подпись на сайте). Например, личная коллекция Василия Иванова.</th>\n",
              "      <th>Комментарий или метаинформация. Укажите тут любую метаинформацию про открытку, которую считаете важной. Например, какое-то знание или история, которую нельзя восстановить по тексту открытки.</th>\n",
              "      <th>Заливщик</th>\n",
              "      <th>Разметчик</th>\n",
              "      <th>...</th>\n",
              "      <th>Почему интересна</th>\n",
              "      <th>Id поста на сайте</th>\n",
              "      <th>Дата заливки</th>\n",
              "      <th>Оценка</th>\n",
              "      <th>Сгенерированные заголовки</th>\n",
              "      <th>image_tag_1</th>\n",
              "      <th>image_tag_2</th>\n",
              "      <th>image_tag_3</th>\n",
              "      <th>image_tag_4</th>\n",
              "      <th>image_tag_5</th>\n",
              "    </tr>\n",
              "  </thead>\n",
              "  <tbody>\n",
              "    <tr>\n",
              "      <th>0</th>\n",
              "      <td>215454</td>\n",
              "      <td>https://storage.yandexcloud.net/postcards-open...</td>\n",
              "      <td>https://storage.yandexcloud.net/postcards-open...</td>\n",
              "      <td>Разрешаю публикацию</td>\n",
              "      <td>Найдено в интернете</td>\n",
              "      <td>NaN</td>\n",
              "      <td>NaN</td>\n",
              "      <td>NaN</td>\n",
              "      <td>NaN</td>\n",
              "      <td>NaN</td>\n",
              "      <td>...</td>\n",
              "      <td>NaN</td>\n",
              "      <td>NaN</td>\n",
              "      <td>NaN</td>\n",
              "      <td>0</td>\n",
              "      <td>NaN</td>\n",
              "      <td>NaN</td>\n",
              "      <td>NaN</td>\n",
              "      <td>NaN</td>\n",
              "      <td>NaN</td>\n",
              "      <td>NaN</td>\n",
              "    </tr>\n",
              "    <tr>\n",
              "      <th>1</th>\n",
              "      <td>215460</td>\n",
              "      <td>https://storage.yandexcloud.net/postcards-open...</td>\n",
              "      <td>https://storage.yandexcloud.net/postcards-open...</td>\n",
              "      <td>Разрешаю публикацию</td>\n",
              "      <td>Найдено в интернете</td>\n",
              "      <td>NaN</td>\n",
              "      <td>NaN</td>\n",
              "      <td>NaN</td>\n",
              "      <td>NaN</td>\n",
              "      <td>Лыкова Елена (ЯП6)</td>\n",
              "      <td>...</td>\n",
              "      <td>NaN</td>\n",
              "      <td>NaN</td>\n",
              "      <td>NaN</td>\n",
              "      <td>5</td>\n",
              "      <td>NaN</td>\n",
              "      <td>NaN</td>\n",
              "      <td>NaN</td>\n",
              "      <td>NaN</td>\n",
              "      <td>NaN</td>\n",
              "      <td>NaN</td>\n",
              "    </tr>\n",
              "    <tr>\n",
              "      <th>2</th>\n",
              "      <td>215465</td>\n",
              "      <td>https://storage.yandexcloud.net/postcards-open...</td>\n",
              "      <td>https://storage.yandexcloud.net/postcards-open...</td>\n",
              "      <td>Разрешаю публикацию</td>\n",
              "      <td>Найдено в интернете</td>\n",
              "      <td>NaN</td>\n",
              "      <td>NaN</td>\n",
              "      <td>NaN</td>\n",
              "      <td>NaN</td>\n",
              "      <td>Кулешова Екатерина (ЯП6)</td>\n",
              "      <td>...</td>\n",
              "      <td>NaN</td>\n",
              "      <td>NaN</td>\n",
              "      <td>NaN</td>\n",
              "      <td>4</td>\n",
              "      <td>NaN</td>\n",
              "      <td>NaN</td>\n",
              "      <td>NaN</td>\n",
              "      <td>NaN</td>\n",
              "      <td>NaN</td>\n",
              "      <td>NaN</td>\n",
              "    </tr>\n",
              "    <tr>\n",
              "      <th>3</th>\n",
              "      <td>215485</td>\n",
              "      <td>https://storage.yandexcloud.net/postcards-open...</td>\n",
              "      <td>https://storage.yandexcloud.net/postcards-open...</td>\n",
              "      <td>Разрешаю публикацию</td>\n",
              "      <td>Найдено в интернете</td>\n",
              "      <td>NaN</td>\n",
              "      <td>NaN</td>\n",
              "      <td>NaN</td>\n",
              "      <td>NaN</td>\n",
              "      <td>Рафаилова Алина (ЯП6)</td>\n",
              "      <td>...</td>\n",
              "      <td>NaN</td>\n",
              "      <td>NaN</td>\n",
              "      <td>NaN</td>\n",
              "      <td>5</td>\n",
              "      <td>NaN</td>\n",
              "      <td>NaN</td>\n",
              "      <td>NaN</td>\n",
              "      <td>NaN</td>\n",
              "      <td>NaN</td>\n",
              "      <td>NaN</td>\n",
              "    </tr>\n",
              "    <tr>\n",
              "      <th>4</th>\n",
              "      <td>215496</td>\n",
              "      <td>https://storage.yandexcloud.net/postcards-open...</td>\n",
              "      <td>https://storage.yandexcloud.net/postcards-open...</td>\n",
              "      <td>Разрешаю публикацию</td>\n",
              "      <td>Найдено в интернете</td>\n",
              "      <td>NaN</td>\n",
              "      <td>NaN</td>\n",
              "      <td>NaN</td>\n",
              "      <td>NaN</td>\n",
              "      <td>NaN</td>\n",
              "      <td>...</td>\n",
              "      <td>NaN</td>\n",
              "      <td>NaN</td>\n",
              "      <td>NaN</td>\n",
              "      <td>0</td>\n",
              "      <td>NaN</td>\n",
              "      <td>NaN</td>\n",
              "      <td>NaN</td>\n",
              "      <td>NaN</td>\n",
              "      <td>NaN</td>\n",
              "      <td>NaN</td>\n",
              "    </tr>\n",
              "  </tbody>\n",
              "</table>\n",
              "<p>5 rows × 64 columns</p>\n",
              "</div>\n",
              "      <button class=\"colab-df-convert\" onclick=\"convertToInteractive('df-51c59f53-150a-443e-876c-7050bb5ffc9e')\"\n",
              "              title=\"Convert this dataframe to an interactive table.\"\n",
              "              style=\"display:none;\">\n",
              "        \n",
              "  <svg xmlns=\"http://www.w3.org/2000/svg\" height=\"24px\"viewBox=\"0 0 24 24\"\n",
              "       width=\"24px\">\n",
              "    <path d=\"M0 0h24v24H0V0z\" fill=\"none\"/>\n",
              "    <path d=\"M18.56 5.44l.94 2.06.94-2.06 2.06-.94-2.06-.94-.94-2.06-.94 2.06-2.06.94zm-11 1L8.5 8.5l.94-2.06 2.06-.94-2.06-.94L8.5 2.5l-.94 2.06-2.06.94zm10 10l.94 2.06.94-2.06 2.06-.94-2.06-.94-.94-2.06-.94 2.06-2.06.94z\"/><path d=\"M17.41 7.96l-1.37-1.37c-.4-.4-.92-.59-1.43-.59-.52 0-1.04.2-1.43.59L10.3 9.45l-7.72 7.72c-.78.78-.78 2.05 0 2.83L4 21.41c.39.39.9.59 1.41.59.51 0 1.02-.2 1.41-.59l7.78-7.78 2.81-2.81c.8-.78.8-2.07 0-2.86zM5.41 20L4 18.59l7.72-7.72 1.47 1.35L5.41 20z\"/>\n",
              "  </svg>\n",
              "      </button>\n",
              "      \n",
              "  <style>\n",
              "    .colab-df-container {\n",
              "      display:flex;\n",
              "      flex-wrap:wrap;\n",
              "      gap: 12px;\n",
              "    }\n",
              "\n",
              "    .colab-df-convert {\n",
              "      background-color: #E8F0FE;\n",
              "      border: none;\n",
              "      border-radius: 50%;\n",
              "      cursor: pointer;\n",
              "      display: none;\n",
              "      fill: #1967D2;\n",
              "      height: 32px;\n",
              "      padding: 0 0 0 0;\n",
              "      width: 32px;\n",
              "    }\n",
              "\n",
              "    .colab-df-convert:hover {\n",
              "      background-color: #E2EBFA;\n",
              "      box-shadow: 0px 1px 2px rgba(60, 64, 67, 0.3), 0px 1px 3px 1px rgba(60, 64, 67, 0.15);\n",
              "      fill: #174EA6;\n",
              "    }\n",
              "\n",
              "    [theme=dark] .colab-df-convert {\n",
              "      background-color: #3B4455;\n",
              "      fill: #D2E3FC;\n",
              "    }\n",
              "\n",
              "    [theme=dark] .colab-df-convert:hover {\n",
              "      background-color: #434B5C;\n",
              "      box-shadow: 0px 1px 3px 1px rgba(0, 0, 0, 0.15);\n",
              "      filter: drop-shadow(0px 1px 2px rgba(0, 0, 0, 0.3));\n",
              "      fill: #FFFFFF;\n",
              "    }\n",
              "  </style>\n",
              "\n",
              "      <script>\n",
              "        const buttonEl =\n",
              "          document.querySelector('#df-51c59f53-150a-443e-876c-7050bb5ffc9e button.colab-df-convert');\n",
              "        buttonEl.style.display =\n",
              "          google.colab.kernel.accessAllowed ? 'block' : 'none';\n",
              "\n",
              "        async function convertToInteractive(key) {\n",
              "          const element = document.querySelector('#df-51c59f53-150a-443e-876c-7050bb5ffc9e');\n",
              "          const dataTable =\n",
              "            await google.colab.kernel.invokeFunction('convertToInteractive',\n",
              "                                                     [key], {});\n",
              "          if (!dataTable) return;\n",
              "\n",
              "          const docLinkHtml = 'Like what you see? Visit the ' +\n",
              "            '<a target=\"_blank\" href=https://colab.research.google.com/notebooks/data_table.ipynb>data table notebook</a>'\n",
              "            + ' to learn more about interactive tables.';\n",
              "          element.innerHTML = '';\n",
              "          dataTable['output_type'] = 'display_data';\n",
              "          await google.colab.output.renderOutput(dataTable, element);\n",
              "          const docLink = document.createElement('div');\n",
              "          docLink.innerHTML = docLinkHtml;\n",
              "          element.appendChild(docLink);\n",
              "        }\n",
              "      </script>\n",
              "    </div>\n",
              "  </div>\n",
              "  "
            ]
          },
          "metadata": {},
          "execution_count": 2
        }
      ]
    },
    {
      "cell_type": "code",
      "execution_count": 3,
      "metadata": {
        "colab": {
          "base_uri": "https://localhost:8080/"
        },
        "id": "RG5wTZ5hCfWE",
        "outputId": "9bd2160f-0f9d-401e-f455-0f5f6a45942d"
      },
      "outputs": [
        {
          "output_type": "execute_result",
          "data": {
            "text/plain": [
              "(5299, 64)"
            ]
          },
          "metadata": {},
          "execution_count": 3
        }
      ],
      "source": [
        "base_5.shape"
      ]
    },
    {
      "cell_type": "markdown",
      "source": [
        "# Проверяем валидность ссылок на хранилище"
      ],
      "metadata": {
        "id": "WhtffZlLpWuN"
      }
    },
    {
      "cell_type": "code",
      "source": [
        "base_5['Статус (распределено, в процессе, завершено, проблема)'].value_counts()"
      ],
      "metadata": {
        "colab": {
          "base_uri": "https://localhost:8080/"
        },
        "id": "4H6OH5az1f3d",
        "outputId": "dc5e8fde-ee1f-4895-cc03-8af858af1c1a"
      },
      "execution_count": 4,
      "outputs": [
        {
          "output_type": "execute_result",
          "data": {
            "text/plain": [
              "Проверено                                                 2878\n",
              "Завершено                                                  855\n",
              "Ожидает проверки                                           774\n",
              "Распределено                                               352\n",
              "Готово к расшифровке                                       186\n",
              "Исключено/ дубликат                                        112\n",
              "В процессе                                                  51\n",
              "Помощь модератора/ иностранный язык                         34\n",
              "Помощь модератора/ не разобрать слова в тексте              33\n",
              "Исключено                                                   14\n",
              "Исключено/ трудный почерк                                    7\n",
              "Помощь модератора/ информация об изображении, открытке       2\n",
              "Name: Статус (распределено, в процессе, завершено, проблема), dtype: int64"
            ]
          },
          "metadata": {},
          "execution_count": 4
        }
      ]
    },
    {
      "cell_type": "markdown",
      "source": [
        "Добавляем данные с предыдущих проверок"
      ],
      "metadata": {
        "id": "DjGqHPLg6B-A"
      }
    },
    {
      "cell_type": "code",
      "source": [
        "url_validity_prev = pd.read_csv('/content/base_5_url_validity_28_05_2023.csv', index_col=0)\n",
        "base_5 = base_5.merge(url_validity_prev, on=['Номер открытки', 'Pic_url_1', 'Pic_url_2'], how='left')"
      ],
      "metadata": {
        "id": "k0LmK4Ql5_rP"
      },
      "execution_count": 7,
      "outputs": []
    },
    {
      "cell_type": "code",
      "source": [
        "base_5['Pic_url_1_valid'].value_counts()"
      ],
      "metadata": {
        "colab": {
          "base_uri": "https://localhost:8080/"
        },
        "id": "1dXNnluMgaui",
        "outputId": "6e1e16ee-fa91-4e66-c28e-64a0ef096043"
      },
      "execution_count": 8,
      "outputs": [
        {
          "output_type": "execute_result",
          "data": {
            "text/plain": [
              "True    1275\n",
              "Name: Pic_url_1_valid, dtype: int64"
            ]
          },
          "metadata": {},
          "execution_count": 8
        }
      ]
    },
    {
      "cell_type": "code",
      "source": [
        "base_5['Pic_url_2_valid'].value_counts()"
      ],
      "metadata": {
        "colab": {
          "base_uri": "https://localhost:8080/"
        },
        "id": "Sw2kMLbBgpC2",
        "outputId": "036610ab-4a36-411e-d16e-8cfdcbcc233c"
      },
      "execution_count": 9,
      "outputs": [
        {
          "output_type": "execute_result",
          "data": {
            "text/plain": [
              "True    1275\n",
              "Name: Pic_url_2_valid, dtype: int64"
            ]
          },
          "metadata": {},
          "execution_count": 9
        }
      ]
    },
    {
      "cell_type": "markdown",
      "source": [
        "Проверить нужно открытки со статусом \"Готово к расшифровке\" и \"Распределено\", если еще не проверялись"
      ],
      "metadata": {
        "id": "sjZ85pTzy_v3"
      }
    },
    {
      "cell_type": "code",
      "source": [
        "import requests\n",
        "import numpy as np\n",
        "from tqdm import tqdm\n",
        "tqdm.pandas()"
      ],
      "metadata": {
        "id": "ndHa9S89qYYs"
      },
      "execution_count": 5,
      "outputs": []
    },
    {
      "cell_type": "code",
      "source": [
        "def is_valid_url(url):\n",
        "  try:\n",
        "    response = requests.get(url)\n",
        "    return response.status_code == 200\n",
        "  except:\n",
        "    return False"
      ],
      "metadata": {
        "id": "bsuRxkmxpbAv"
      },
      "execution_count": 11,
      "outputs": []
    },
    {
      "cell_type": "code",
      "source": [
        "base_5['Pic_url_1_valid'] = base_5.progress_apply(\n",
        "    lambda row: is_valid_url(row['Pic_url_1']) \n",
        "    if pd.isna(row['Pic_url_1_valid']) and row[\n",
        "        'Статус (распределено, в процессе, завершено, проблема)'\n",
        "        ] in ['Распределено', 'Готово к расшифровке'] or not row['Pic_url_1_valid']\n",
        "    else row['Pic_url_1_valid'], \n",
        "    axis=1\n",
        ")\n",
        "\n",
        "base_5['Pic_url_2_valid'] = base_5.progress_apply(\n",
        "    lambda row: is_valid_url(row['Pic_url_2']) \n",
        "    if pd.isna(row['Pic_url_2_valid']) and row[\n",
        "        'Статус (распределено, в процессе, завершено, проблема)'\n",
        "        ] in ['Распределено', 'Готово к расшифровке'] or not row['Pic_url_2_valid']\n",
        "    else row['Pic_url_2_valid'], \n",
        "    axis=1\n",
        ")"
      ],
      "metadata": {
        "id": "B2Mnn5Xb60Pl",
        "colab": {
          "base_uri": "https://localhost:8080/"
        },
        "outputId": "8861895c-6353-4987-8c7b-b56cc33824c2"
      },
      "execution_count": 12,
      "outputs": [
        {
          "output_type": "stream",
          "name": "stderr",
          "text": [
            "100%|██████████| 4523/4523 [00:01<00:00, 3292.01it/s]\n",
            "100%|██████████| 4523/4523 [00:01<00:00, 3605.74it/s]\n"
          ]
        }
      ]
    },
    {
      "cell_type": "markdown",
      "source": [
        "Результат"
      ],
      "metadata": {
        "id": "z1BAXjIT60rD"
      }
    },
    {
      "cell_type": "code",
      "source": [
        "base_5['Pic_url_1_valid'].value_counts()"
      ],
      "metadata": {
        "colab": {
          "base_uri": "https://localhost:8080/"
        },
        "id": "GkLGSeApy6l8",
        "outputId": "f68038e8-ee6a-4d41-fc31-c627be2f9677"
      },
      "execution_count": 13,
      "outputs": [
        {
          "output_type": "execute_result",
          "data": {
            "text/plain": [
              "True    1276\n",
              "Name: Pic_url_1_valid, dtype: int64"
            ]
          },
          "metadata": {},
          "execution_count": 13
        }
      ]
    },
    {
      "cell_type": "code",
      "source": [
        "base_5['Pic_url_2_valid'].value_counts()"
      ],
      "metadata": {
        "colab": {
          "base_uri": "https://localhost:8080/"
        },
        "id": "WKxV50Ruy9uV",
        "outputId": "8a1e1ff2-2811-4932-ba55-ad5f7c683519"
      },
      "execution_count": 14,
      "outputs": [
        {
          "output_type": "execute_result",
          "data": {
            "text/plain": [
              "True    1276\n",
              "Name: Pic_url_2_valid, dtype: int64"
            ]
          },
          "metadata": {},
          "execution_count": 14
        }
      ]
    },
    {
      "cell_type": "code",
      "source": [
        "base_5[base_5['Pic_url_2_valid'] == False]"
      ],
      "metadata": {
        "id": "5B1wzaIqF5Nb"
      },
      "execution_count": null,
      "outputs": []
    },
    {
      "cell_type": "markdown",
      "source": [
        "Сохраняем"
      ],
      "metadata": {
        "id": "G3Ce-G3R63Uj"
      }
    },
    {
      "cell_type": "code",
      "source": [
        "base_5[[\n",
        "    'Номер открытки', 'Pic_url_1', 'Pic_url_2', 'Pic_url_1_valid','Pic_url_2_valid'\n",
        "    ]].to_csv('base_5_url_validity_28_05_2023.csv')"
      ],
      "metadata": {
        "id": "tJDXEGNm5EJp"
      },
      "execution_count": 16,
      "outputs": []
    },
    {
      "cell_type": "markdown",
      "source": [
        "# Считаем хеши открыток"
      ],
      "metadata": {
        "id": "e9pqudzuETnu"
      }
    },
    {
      "cell_type": "markdown",
      "source": [
        "Оставляем только новые открытки, которые были найдены в интернете и еще не проверены --- статус \"Ожидает проверки\""
      ],
      "metadata": {
        "id": "bjdzau_yu4GP"
      }
    },
    {
      "cell_type": "code",
      "source": [
        "base_5 = base_5[base_5['Статус (распределено, в процессе, завершено, проблема)'] == 'Ожидает проверки']\n",
        "base_5.shape"
      ],
      "metadata": {
        "colab": {
          "base_uri": "https://localhost:8080/"
        },
        "id": "C3N9SlVzuwFB",
        "outputId": "c5920930-5b8a-461c-9f85-367f493fbef6"
      },
      "execution_count": 6,
      "outputs": [
        {
          "output_type": "execute_result",
          "data": {
            "text/plain": [
              "(774, 64)"
            ]
          },
          "metadata": {},
          "execution_count": 6
        }
      ]
    },
    {
      "cell_type": "code",
      "source": [
        "!pip install imagehash"
      ],
      "metadata": {
        "colab": {
          "base_uri": "https://localhost:8080/"
        },
        "id": "9Kj2a7bXEwcB",
        "outputId": "afd8e408-7ddf-4bc3-e324-1eb0efc47582"
      },
      "execution_count": 7,
      "outputs": [
        {
          "output_type": "stream",
          "name": "stdout",
          "text": [
            "Looking in indexes: https://pypi.org/simple, https://us-python.pkg.dev/colab-wheels/public/simple/\n",
            "Collecting imagehash\n",
            "  Downloading ImageHash-4.3.1-py2.py3-none-any.whl (296 kB)\n",
            "\u001b[2K     \u001b[90m━━━━━━━━━━━━━━━━━━━━━━━━━━━━━━━━━━━━━━\u001b[0m \u001b[32m296.5/296.5 kB\u001b[0m \u001b[31m13.5 MB/s\u001b[0m eta \u001b[36m0:00:00\u001b[0m\n",
            "\u001b[?25hRequirement already satisfied: PyWavelets in /usr/local/lib/python3.10/dist-packages (from imagehash) (1.4.1)\n",
            "Requirement already satisfied: numpy in /usr/local/lib/python3.10/dist-packages (from imagehash) (1.22.4)\n",
            "Requirement already satisfied: pillow in /usr/local/lib/python3.10/dist-packages (from imagehash) (8.4.0)\n",
            "Requirement already satisfied: scipy in /usr/local/lib/python3.10/dist-packages (from imagehash) (1.10.1)\n",
            "Installing collected packages: imagehash\n",
            "Successfully installed imagehash-4.3.1\n"
          ]
        }
      ]
    },
    {
      "cell_type": "code",
      "source": [
        "from bs4 import BeautifulSoup\n",
        "import imagehash\n",
        "from PIL import Image"
      ],
      "metadata": {
        "id": "eKNpfy7yEXXH"
      },
      "execution_count": 8,
      "outputs": []
    },
    {
      "cell_type": "code",
      "source": [
        "def download(url_1, url_2):\n",
        "    pic_1_content = requests.get(url_1).content\n",
        "    pic_2_content = requests.get(url_2).content\n",
        "    \n",
        "    with open ('pic_1.jpg', 'wb') as pic_1_file:\n",
        "        pic_1_file.write(pic_1_content)\n",
        "    with open ('pic_2.jpg', 'wb') as pic_2_file:\n",
        "        pic_2_file.write(pic_2_content)"
      ],
      "metadata": {
        "id": "weKKpXdKEa6h"
      },
      "execution_count": 9,
      "outputs": []
    },
    {
      "cell_type": "code",
      "source": [
        "def get_hashes():\n",
        "    pic_1 = Image.open('pic_1.jpg')\n",
        "    hash_1 = imagehash.dhash(pic_1)\n",
        "    pic_2 = Image.open('pic_2.jpg')\n",
        "    hash_2 = imagehash.dhash(pic_2)\n",
        "    return str(hash_1), str(hash_2)"
      ],
      "metadata": {
        "id": "KdOOQ8irEa9y"
      },
      "execution_count": 10,
      "outputs": []
    },
    {
      "cell_type": "code",
      "source": [
        "def calculate(row):\n",
        "    url_1 = row['Pic_url_1']\n",
        "    url_2 = row['Pic_url_2']\n",
        "    # print(url_1, '\\n', url_2)\n",
        "\n",
        "    try:\n",
        "      download(url_1, url_2)\n",
        "      return get_hashes() \n",
        "    except:\n",
        "      # print(row['Номер открытки'])\n",
        "      # raise\n",
        "      return 'error', 'error'"
      ],
      "metadata": {
        "id": "NGVWtaAPEbAo"
      },
      "execution_count": 11,
      "outputs": []
    },
    {
      "cell_type": "code",
      "source": [
        "from tqdm import tqdm\n",
        "tqdm.pandas()"
      ],
      "metadata": {
        "id": "k8-jxichEbDq"
      },
      "execution_count": 12,
      "outputs": []
    },
    {
      "cell_type": "markdown",
      "source": [
        "Вычисление хешей (и попутная валидация ссылок)"
      ],
      "metadata": {
        "id": "35Yz8JLBTRjS"
      }
    },
    {
      "cell_type": "code",
      "source": [
        "base_5['calc_res'] = base_5.progress_apply(calculate, axis=1)"
      ],
      "metadata": {
        "colab": {
          "base_uri": "https://localhost:8080/"
        },
        "id": "g9pcjlQ5Em1H",
        "outputId": "820068f5-fb8d-458d-8636-33ce006ba311"
      },
      "execution_count": 13,
      "outputs": [
        {
          "output_type": "stream",
          "name": "stderr",
          "text": [
            "100%|██████████| 774/774 [08:39<00:00,  1.49it/s]\n"
          ]
        }
      ]
    },
    {
      "cell_type": "markdown",
      "source": [
        "Обработка результатов"
      ],
      "metadata": {
        "id": "yIHnpST1TTx4"
      }
    },
    {
      "cell_type": "code",
      "source": [
        "base_5['base'] = 5\n",
        "base_5 = base_5[['base', 'Номер открытки', 'Pic_url_1', 'Pic_url_2', 'calc_res']]\n",
        "base_5['hash_1'] = base_5['calc_res'].apply(lambda x: x[0])\n",
        "base_5['hash_2'] = base_5['calc_res'].apply(lambda x: x[1])\n",
        "base_5.head()"
      ],
      "metadata": {
        "colab": {
          "base_uri": "https://localhost:8080/",
          "height": 587
        },
        "id": "bOPNYFTBTGO4",
        "outputId": "f18ea911-a656-4ee4-b277-a5326c33ab72"
      },
      "execution_count": 14,
      "outputs": [
        {
          "output_type": "stream",
          "name": "stderr",
          "text": [
            "<ipython-input-14-35d703f382a1>:3: SettingWithCopyWarning: \n",
            "A value is trying to be set on a copy of a slice from a DataFrame.\n",
            "Try using .loc[row_indexer,col_indexer] = value instead\n",
            "\n",
            "See the caveats in the documentation: https://pandas.pydata.org/pandas-docs/stable/user_guide/indexing.html#returning-a-view-versus-a-copy\n",
            "  base_5['hash_1'] = base_5['calc_res'].apply(lambda x: x[0])\n",
            "<ipython-input-14-35d703f382a1>:4: SettingWithCopyWarning: \n",
            "A value is trying to be set on a copy of a slice from a DataFrame.\n",
            "Try using .loc[row_indexer,col_indexer] = value instead\n",
            "\n",
            "See the caveats in the documentation: https://pandas.pydata.org/pandas-docs/stable/user_guide/indexing.html#returning-a-view-versus-a-copy\n",
            "  base_5['hash_2'] = base_5['calc_res'].apply(lambda x: x[1])\n"
          ]
        },
        {
          "output_type": "execute_result",
          "data": {
            "text/plain": [
              "      base  Номер открытки                                          Pic_url_1  \\\n",
              "4523     5          229325  https://storage.yandexcloud.net/postcards-open...   \n",
              "4524     5          229326  https://storage.yandexcloud.net/postcards-open...   \n",
              "4525     5          229327  https://storage.yandexcloud.net/postcards-open...   \n",
              "4526     5          229328  https://storage.yandexcloud.net/postcards-open...   \n",
              "4527     5          229329  https://storage.yandexcloud.net/postcards-open...   \n",
              "\n",
              "                                              Pic_url_2  \\\n",
              "4523  https://storage.yandexcloud.net/postcards-open...   \n",
              "4524  https://storage.yandexcloud.net/postcards-open...   \n",
              "4525  https://storage.yandexcloud.net/postcards-open...   \n",
              "4526  https://storage.yandexcloud.net/postcards-open...   \n",
              "4527  https://storage.yandexcloud.net/postcards-open...   \n",
              "\n",
              "                                  calc_res            hash_1            hash_2  \n",
              "4523  (80b09898d6fcbafe, baa6b6a2aaa2b292)  80b09898d6fcbafe  baa6b6a2aaa2b292  \n",
              "4524  (9e96a6868686b288, 9ab2a282e682b282)  9e96a6868686b288  9ab2a282e682b282  \n",
              "4525  (b28a8e86baae8e9a, aeaef6c69292a6a2)  b28a8e86baae8e9a  aeaef6c69292a6a2  \n",
              "4526  (f4dcccced2c6eed0, cadad8d8d2e8d2f2)  f4dcccced2c6eed0  cadad8d8d2e8d2f2  \n",
              "4527  (e0a68ab09292c2a2, 9a9298a8acc8a2b4)  e0a68ab09292c2a2  9a9298a8acc8a2b4  "
            ],
            "text/html": [
              "\n",
              "  <div id=\"df-b7bd0ef7-9fad-4313-b0d1-6f213baf43b6\">\n",
              "    <div class=\"colab-df-container\">\n",
              "      <div>\n",
              "<style scoped>\n",
              "    .dataframe tbody tr th:only-of-type {\n",
              "        vertical-align: middle;\n",
              "    }\n",
              "\n",
              "    .dataframe tbody tr th {\n",
              "        vertical-align: top;\n",
              "    }\n",
              "\n",
              "    .dataframe thead th {\n",
              "        text-align: right;\n",
              "    }\n",
              "</style>\n",
              "<table border=\"1\" class=\"dataframe\">\n",
              "  <thead>\n",
              "    <tr style=\"text-align: right;\">\n",
              "      <th></th>\n",
              "      <th>base</th>\n",
              "      <th>Номер открытки</th>\n",
              "      <th>Pic_url_1</th>\n",
              "      <th>Pic_url_2</th>\n",
              "      <th>calc_res</th>\n",
              "      <th>hash_1</th>\n",
              "      <th>hash_2</th>\n",
              "    </tr>\n",
              "  </thead>\n",
              "  <tbody>\n",
              "    <tr>\n",
              "      <th>4523</th>\n",
              "      <td>5</td>\n",
              "      <td>229325</td>\n",
              "      <td>https://storage.yandexcloud.net/postcards-open...</td>\n",
              "      <td>https://storage.yandexcloud.net/postcards-open...</td>\n",
              "      <td>(80b09898d6fcbafe, baa6b6a2aaa2b292)</td>\n",
              "      <td>80b09898d6fcbafe</td>\n",
              "      <td>baa6b6a2aaa2b292</td>\n",
              "    </tr>\n",
              "    <tr>\n",
              "      <th>4524</th>\n",
              "      <td>5</td>\n",
              "      <td>229326</td>\n",
              "      <td>https://storage.yandexcloud.net/postcards-open...</td>\n",
              "      <td>https://storage.yandexcloud.net/postcards-open...</td>\n",
              "      <td>(9e96a6868686b288, 9ab2a282e682b282)</td>\n",
              "      <td>9e96a6868686b288</td>\n",
              "      <td>9ab2a282e682b282</td>\n",
              "    </tr>\n",
              "    <tr>\n",
              "      <th>4525</th>\n",
              "      <td>5</td>\n",
              "      <td>229327</td>\n",
              "      <td>https://storage.yandexcloud.net/postcards-open...</td>\n",
              "      <td>https://storage.yandexcloud.net/postcards-open...</td>\n",
              "      <td>(b28a8e86baae8e9a, aeaef6c69292a6a2)</td>\n",
              "      <td>b28a8e86baae8e9a</td>\n",
              "      <td>aeaef6c69292a6a2</td>\n",
              "    </tr>\n",
              "    <tr>\n",
              "      <th>4526</th>\n",
              "      <td>5</td>\n",
              "      <td>229328</td>\n",
              "      <td>https://storage.yandexcloud.net/postcards-open...</td>\n",
              "      <td>https://storage.yandexcloud.net/postcards-open...</td>\n",
              "      <td>(f4dcccced2c6eed0, cadad8d8d2e8d2f2)</td>\n",
              "      <td>f4dcccced2c6eed0</td>\n",
              "      <td>cadad8d8d2e8d2f2</td>\n",
              "    </tr>\n",
              "    <tr>\n",
              "      <th>4527</th>\n",
              "      <td>5</td>\n",
              "      <td>229329</td>\n",
              "      <td>https://storage.yandexcloud.net/postcards-open...</td>\n",
              "      <td>https://storage.yandexcloud.net/postcards-open...</td>\n",
              "      <td>(e0a68ab09292c2a2, 9a9298a8acc8a2b4)</td>\n",
              "      <td>e0a68ab09292c2a2</td>\n",
              "      <td>9a9298a8acc8a2b4</td>\n",
              "    </tr>\n",
              "  </tbody>\n",
              "</table>\n",
              "</div>\n",
              "      <button class=\"colab-df-convert\" onclick=\"convertToInteractive('df-b7bd0ef7-9fad-4313-b0d1-6f213baf43b6')\"\n",
              "              title=\"Convert this dataframe to an interactive table.\"\n",
              "              style=\"display:none;\">\n",
              "        \n",
              "  <svg xmlns=\"http://www.w3.org/2000/svg\" height=\"24px\"viewBox=\"0 0 24 24\"\n",
              "       width=\"24px\">\n",
              "    <path d=\"M0 0h24v24H0V0z\" fill=\"none\"/>\n",
              "    <path d=\"M18.56 5.44l.94 2.06.94-2.06 2.06-.94-2.06-.94-.94-2.06-.94 2.06-2.06.94zm-11 1L8.5 8.5l.94-2.06 2.06-.94-2.06-.94L8.5 2.5l-.94 2.06-2.06.94zm10 10l.94 2.06.94-2.06 2.06-.94-2.06-.94-.94-2.06-.94 2.06-2.06.94z\"/><path d=\"M17.41 7.96l-1.37-1.37c-.4-.4-.92-.59-1.43-.59-.52 0-1.04.2-1.43.59L10.3 9.45l-7.72 7.72c-.78.78-.78 2.05 0 2.83L4 21.41c.39.39.9.59 1.41.59.51 0 1.02-.2 1.41-.59l7.78-7.78 2.81-2.81c.8-.78.8-2.07 0-2.86zM5.41 20L4 18.59l7.72-7.72 1.47 1.35L5.41 20z\"/>\n",
              "  </svg>\n",
              "      </button>\n",
              "      \n",
              "  <style>\n",
              "    .colab-df-container {\n",
              "      display:flex;\n",
              "      flex-wrap:wrap;\n",
              "      gap: 12px;\n",
              "    }\n",
              "\n",
              "    .colab-df-convert {\n",
              "      background-color: #E8F0FE;\n",
              "      border: none;\n",
              "      border-radius: 50%;\n",
              "      cursor: pointer;\n",
              "      display: none;\n",
              "      fill: #1967D2;\n",
              "      height: 32px;\n",
              "      padding: 0 0 0 0;\n",
              "      width: 32px;\n",
              "    }\n",
              "\n",
              "    .colab-df-convert:hover {\n",
              "      background-color: #E2EBFA;\n",
              "      box-shadow: 0px 1px 2px rgba(60, 64, 67, 0.3), 0px 1px 3px 1px rgba(60, 64, 67, 0.15);\n",
              "      fill: #174EA6;\n",
              "    }\n",
              "\n",
              "    [theme=dark] .colab-df-convert {\n",
              "      background-color: #3B4455;\n",
              "      fill: #D2E3FC;\n",
              "    }\n",
              "\n",
              "    [theme=dark] .colab-df-convert:hover {\n",
              "      background-color: #434B5C;\n",
              "      box-shadow: 0px 1px 3px 1px rgba(0, 0, 0, 0.15);\n",
              "      filter: drop-shadow(0px 1px 2px rgba(0, 0, 0, 0.3));\n",
              "      fill: #FFFFFF;\n",
              "    }\n",
              "  </style>\n",
              "\n",
              "      <script>\n",
              "        const buttonEl =\n",
              "          document.querySelector('#df-b7bd0ef7-9fad-4313-b0d1-6f213baf43b6 button.colab-df-convert');\n",
              "        buttonEl.style.display =\n",
              "          google.colab.kernel.accessAllowed ? 'block' : 'none';\n",
              "\n",
              "        async function convertToInteractive(key) {\n",
              "          const element = document.querySelector('#df-b7bd0ef7-9fad-4313-b0d1-6f213baf43b6');\n",
              "          const dataTable =\n",
              "            await google.colab.kernel.invokeFunction('convertToInteractive',\n",
              "                                                     [key], {});\n",
              "          if (!dataTable) return;\n",
              "\n",
              "          const docLinkHtml = 'Like what you see? Visit the ' +\n",
              "            '<a target=\"_blank\" href=https://colab.research.google.com/notebooks/data_table.ipynb>data table notebook</a>'\n",
              "            + ' to learn more about interactive tables.';\n",
              "          element.innerHTML = '';\n",
              "          dataTable['output_type'] = 'display_data';\n",
              "          await google.colab.output.renderOutput(dataTable, element);\n",
              "          const docLink = document.createElement('div');\n",
              "          docLink.innerHTML = docLinkHtml;\n",
              "          element.appendChild(docLink);\n",
              "        }\n",
              "      </script>\n",
              "    </div>\n",
              "  </div>\n",
              "  "
            ]
          },
          "metadata": {},
          "execution_count": 14
        }
      ]
    },
    {
      "cell_type": "markdown",
      "source": [
        "Проверка, что посчитались все хеши"
      ],
      "metadata": {
        "id": "ji3zCAvxl75M"
      }
    },
    {
      "cell_type": "code",
      "source": [
        "base_5[['hash_1', 'hash_2']].isna().sum()"
      ],
      "metadata": {
        "colab": {
          "base_uri": "https://localhost:8080/"
        },
        "id": "IqxEb29gTfCk",
        "outputId": "124b151b-54ea-49c6-c879-065dd3c4d155"
      },
      "execution_count": 15,
      "outputs": [
        {
          "output_type": "execute_result",
          "data": {
            "text/plain": [
              "hash_1    0\n",
              "hash_2    0\n",
              "dtype: int64"
            ]
          },
          "metadata": {},
          "execution_count": 15
        }
      ]
    },
    {
      "cell_type": "code",
      "source": [
        "base_5[(base_5['hash_1'] == 'error') | (base_5['hash_2'] == 'error')]"
      ],
      "metadata": {
        "colab": {
          "base_uri": "https://localhost:8080/",
          "height": 49
        },
        "id": "DDdUSHziTnoq",
        "outputId": "b58963b4-fc97-49ba-c1d2-f4e069cb6ef2"
      },
      "execution_count": 16,
      "outputs": [
        {
          "output_type": "execute_result",
          "data": {
            "text/plain": [
              "Empty DataFrame\n",
              "Columns: [base, Номер открытки, Pic_url_1, Pic_url_2, calc_res, hash_1, hash_2]\n",
              "Index: []"
            ],
            "text/html": [
              "\n",
              "  <div id=\"df-87d8cc90-7a50-4f67-abfa-b8f18c0fcbc2\">\n",
              "    <div class=\"colab-df-container\">\n",
              "      <div>\n",
              "<style scoped>\n",
              "    .dataframe tbody tr th:only-of-type {\n",
              "        vertical-align: middle;\n",
              "    }\n",
              "\n",
              "    .dataframe tbody tr th {\n",
              "        vertical-align: top;\n",
              "    }\n",
              "\n",
              "    .dataframe thead th {\n",
              "        text-align: right;\n",
              "    }\n",
              "</style>\n",
              "<table border=\"1\" class=\"dataframe\">\n",
              "  <thead>\n",
              "    <tr style=\"text-align: right;\">\n",
              "      <th></th>\n",
              "      <th>base</th>\n",
              "      <th>Номер открытки</th>\n",
              "      <th>Pic_url_1</th>\n",
              "      <th>Pic_url_2</th>\n",
              "      <th>calc_res</th>\n",
              "      <th>hash_1</th>\n",
              "      <th>hash_2</th>\n",
              "    </tr>\n",
              "  </thead>\n",
              "  <tbody>\n",
              "  </tbody>\n",
              "</table>\n",
              "</div>\n",
              "      <button class=\"colab-df-convert\" onclick=\"convertToInteractive('df-87d8cc90-7a50-4f67-abfa-b8f18c0fcbc2')\"\n",
              "              title=\"Convert this dataframe to an interactive table.\"\n",
              "              style=\"display:none;\">\n",
              "        \n",
              "  <svg xmlns=\"http://www.w3.org/2000/svg\" height=\"24px\"viewBox=\"0 0 24 24\"\n",
              "       width=\"24px\">\n",
              "    <path d=\"M0 0h24v24H0V0z\" fill=\"none\"/>\n",
              "    <path d=\"M18.56 5.44l.94 2.06.94-2.06 2.06-.94-2.06-.94-.94-2.06-.94 2.06-2.06.94zm-11 1L8.5 8.5l.94-2.06 2.06-.94-2.06-.94L8.5 2.5l-.94 2.06-2.06.94zm10 10l.94 2.06.94-2.06 2.06-.94-2.06-.94-.94-2.06-.94 2.06-2.06.94z\"/><path d=\"M17.41 7.96l-1.37-1.37c-.4-.4-.92-.59-1.43-.59-.52 0-1.04.2-1.43.59L10.3 9.45l-7.72 7.72c-.78.78-.78 2.05 0 2.83L4 21.41c.39.39.9.59 1.41.59.51 0 1.02-.2 1.41-.59l7.78-7.78 2.81-2.81c.8-.78.8-2.07 0-2.86zM5.41 20L4 18.59l7.72-7.72 1.47 1.35L5.41 20z\"/>\n",
              "  </svg>\n",
              "      </button>\n",
              "      \n",
              "  <style>\n",
              "    .colab-df-container {\n",
              "      display:flex;\n",
              "      flex-wrap:wrap;\n",
              "      gap: 12px;\n",
              "    }\n",
              "\n",
              "    .colab-df-convert {\n",
              "      background-color: #E8F0FE;\n",
              "      border: none;\n",
              "      border-radius: 50%;\n",
              "      cursor: pointer;\n",
              "      display: none;\n",
              "      fill: #1967D2;\n",
              "      height: 32px;\n",
              "      padding: 0 0 0 0;\n",
              "      width: 32px;\n",
              "    }\n",
              "\n",
              "    .colab-df-convert:hover {\n",
              "      background-color: #E2EBFA;\n",
              "      box-shadow: 0px 1px 2px rgba(60, 64, 67, 0.3), 0px 1px 3px 1px rgba(60, 64, 67, 0.15);\n",
              "      fill: #174EA6;\n",
              "    }\n",
              "\n",
              "    [theme=dark] .colab-df-convert {\n",
              "      background-color: #3B4455;\n",
              "      fill: #D2E3FC;\n",
              "    }\n",
              "\n",
              "    [theme=dark] .colab-df-convert:hover {\n",
              "      background-color: #434B5C;\n",
              "      box-shadow: 0px 1px 3px 1px rgba(0, 0, 0, 0.15);\n",
              "      filter: drop-shadow(0px 1px 2px rgba(0, 0, 0, 0.3));\n",
              "      fill: #FFFFFF;\n",
              "    }\n",
              "  </style>\n",
              "\n",
              "      <script>\n",
              "        const buttonEl =\n",
              "          document.querySelector('#df-87d8cc90-7a50-4f67-abfa-b8f18c0fcbc2 button.colab-df-convert');\n",
              "        buttonEl.style.display =\n",
              "          google.colab.kernel.accessAllowed ? 'block' : 'none';\n",
              "\n",
              "        async function convertToInteractive(key) {\n",
              "          const element = document.querySelector('#df-87d8cc90-7a50-4f67-abfa-b8f18c0fcbc2');\n",
              "          const dataTable =\n",
              "            await google.colab.kernel.invokeFunction('convertToInteractive',\n",
              "                                                     [key], {});\n",
              "          if (!dataTable) return;\n",
              "\n",
              "          const docLinkHtml = 'Like what you see? Visit the ' +\n",
              "            '<a target=\"_blank\" href=https://colab.research.google.com/notebooks/data_table.ipynb>data table notebook</a>'\n",
              "            + ' to learn more about interactive tables.';\n",
              "          element.innerHTML = '';\n",
              "          dataTable['output_type'] = 'display_data';\n",
              "          await google.colab.output.renderOutput(dataTable, element);\n",
              "          const docLink = document.createElement('div');\n",
              "          docLink.innerHTML = docLinkHtml;\n",
              "          element.appendChild(docLink);\n",
              "        }\n",
              "      </script>\n",
              "    </div>\n",
              "  </div>\n",
              "  "
            ]
          },
          "metadata": {},
          "execution_count": 16
        }
      ]
    },
    {
      "cell_type": "markdown",
      "source": [
        "Приводим к виду одна строка = одна картинка"
      ],
      "metadata": {
        "id": "aKu3_mi5jPzh"
      }
    },
    {
      "cell_type": "code",
      "source": [
        "base_5 = base_5.drop('calc_res', axis=1)\n",
        "temp = base_5.copy()\n",
        "temp = temp.drop(['Pic_url_1', 'hash_1'], axis=1).rename(\n",
        "    columns={'Pic_url_2': 'Pic_url', 'hash_2': 'hash'})\n",
        "temp['Pic'] = 2\n",
        "base_5 = base_5.drop(['Pic_url_2', 'hash_2'], axis=1).rename(\n",
        "    columns={'Pic_url_1': 'Pic_url', 'hash_1': 'hash'})\n",
        "base_5['Pic'] = 1\n",
        "base_5 = pd.concat([base_5, temp])\n",
        "base_5.head()"
      ],
      "metadata": {
        "colab": {
          "base_uri": "https://localhost:8080/",
          "height": 206
        },
        "id": "yz3rAlJrjUYs",
        "outputId": "6d71de62-5ebb-41e0-d293-b29f2f7e55cd"
      },
      "execution_count": 17,
      "outputs": [
        {
          "output_type": "execute_result",
          "data": {
            "text/plain": [
              "      base  Номер открытки                                            Pic_url  \\\n",
              "4523     5          229325  https://storage.yandexcloud.net/postcards-open...   \n",
              "4524     5          229326  https://storage.yandexcloud.net/postcards-open...   \n",
              "4525     5          229327  https://storage.yandexcloud.net/postcards-open...   \n",
              "4526     5          229328  https://storage.yandexcloud.net/postcards-open...   \n",
              "4527     5          229329  https://storage.yandexcloud.net/postcards-open...   \n",
              "\n",
              "                  hash  Pic  \n",
              "4523  80b09898d6fcbafe    1  \n",
              "4524  9e96a6868686b288    1  \n",
              "4525  b28a8e86baae8e9a    1  \n",
              "4526  f4dcccced2c6eed0    1  \n",
              "4527  e0a68ab09292c2a2    1  "
            ],
            "text/html": [
              "\n",
              "  <div id=\"df-443f0143-543d-4550-8a16-35605b1fbf85\">\n",
              "    <div class=\"colab-df-container\">\n",
              "      <div>\n",
              "<style scoped>\n",
              "    .dataframe tbody tr th:only-of-type {\n",
              "        vertical-align: middle;\n",
              "    }\n",
              "\n",
              "    .dataframe tbody tr th {\n",
              "        vertical-align: top;\n",
              "    }\n",
              "\n",
              "    .dataframe thead th {\n",
              "        text-align: right;\n",
              "    }\n",
              "</style>\n",
              "<table border=\"1\" class=\"dataframe\">\n",
              "  <thead>\n",
              "    <tr style=\"text-align: right;\">\n",
              "      <th></th>\n",
              "      <th>base</th>\n",
              "      <th>Номер открытки</th>\n",
              "      <th>Pic_url</th>\n",
              "      <th>hash</th>\n",
              "      <th>Pic</th>\n",
              "    </tr>\n",
              "  </thead>\n",
              "  <tbody>\n",
              "    <tr>\n",
              "      <th>4523</th>\n",
              "      <td>5</td>\n",
              "      <td>229325</td>\n",
              "      <td>https://storage.yandexcloud.net/postcards-open...</td>\n",
              "      <td>80b09898d6fcbafe</td>\n",
              "      <td>1</td>\n",
              "    </tr>\n",
              "    <tr>\n",
              "      <th>4524</th>\n",
              "      <td>5</td>\n",
              "      <td>229326</td>\n",
              "      <td>https://storage.yandexcloud.net/postcards-open...</td>\n",
              "      <td>9e96a6868686b288</td>\n",
              "      <td>1</td>\n",
              "    </tr>\n",
              "    <tr>\n",
              "      <th>4525</th>\n",
              "      <td>5</td>\n",
              "      <td>229327</td>\n",
              "      <td>https://storage.yandexcloud.net/postcards-open...</td>\n",
              "      <td>b28a8e86baae8e9a</td>\n",
              "      <td>1</td>\n",
              "    </tr>\n",
              "    <tr>\n",
              "      <th>4526</th>\n",
              "      <td>5</td>\n",
              "      <td>229328</td>\n",
              "      <td>https://storage.yandexcloud.net/postcards-open...</td>\n",
              "      <td>f4dcccced2c6eed0</td>\n",
              "      <td>1</td>\n",
              "    </tr>\n",
              "    <tr>\n",
              "      <th>4527</th>\n",
              "      <td>5</td>\n",
              "      <td>229329</td>\n",
              "      <td>https://storage.yandexcloud.net/postcards-open...</td>\n",
              "      <td>e0a68ab09292c2a2</td>\n",
              "      <td>1</td>\n",
              "    </tr>\n",
              "  </tbody>\n",
              "</table>\n",
              "</div>\n",
              "      <button class=\"colab-df-convert\" onclick=\"convertToInteractive('df-443f0143-543d-4550-8a16-35605b1fbf85')\"\n",
              "              title=\"Convert this dataframe to an interactive table.\"\n",
              "              style=\"display:none;\">\n",
              "        \n",
              "  <svg xmlns=\"http://www.w3.org/2000/svg\" height=\"24px\"viewBox=\"0 0 24 24\"\n",
              "       width=\"24px\">\n",
              "    <path d=\"M0 0h24v24H0V0z\" fill=\"none\"/>\n",
              "    <path d=\"M18.56 5.44l.94 2.06.94-2.06 2.06-.94-2.06-.94-.94-2.06-.94 2.06-2.06.94zm-11 1L8.5 8.5l.94-2.06 2.06-.94-2.06-.94L8.5 2.5l-.94 2.06-2.06.94zm10 10l.94 2.06.94-2.06 2.06-.94-2.06-.94-.94-2.06-.94 2.06-2.06.94z\"/><path d=\"M17.41 7.96l-1.37-1.37c-.4-.4-.92-.59-1.43-.59-.52 0-1.04.2-1.43.59L10.3 9.45l-7.72 7.72c-.78.78-.78 2.05 0 2.83L4 21.41c.39.39.9.59 1.41.59.51 0 1.02-.2 1.41-.59l7.78-7.78 2.81-2.81c.8-.78.8-2.07 0-2.86zM5.41 20L4 18.59l7.72-7.72 1.47 1.35L5.41 20z\"/>\n",
              "  </svg>\n",
              "      </button>\n",
              "      \n",
              "  <style>\n",
              "    .colab-df-container {\n",
              "      display:flex;\n",
              "      flex-wrap:wrap;\n",
              "      gap: 12px;\n",
              "    }\n",
              "\n",
              "    .colab-df-convert {\n",
              "      background-color: #E8F0FE;\n",
              "      border: none;\n",
              "      border-radius: 50%;\n",
              "      cursor: pointer;\n",
              "      display: none;\n",
              "      fill: #1967D2;\n",
              "      height: 32px;\n",
              "      padding: 0 0 0 0;\n",
              "      width: 32px;\n",
              "    }\n",
              "\n",
              "    .colab-df-convert:hover {\n",
              "      background-color: #E2EBFA;\n",
              "      box-shadow: 0px 1px 2px rgba(60, 64, 67, 0.3), 0px 1px 3px 1px rgba(60, 64, 67, 0.15);\n",
              "      fill: #174EA6;\n",
              "    }\n",
              "\n",
              "    [theme=dark] .colab-df-convert {\n",
              "      background-color: #3B4455;\n",
              "      fill: #D2E3FC;\n",
              "    }\n",
              "\n",
              "    [theme=dark] .colab-df-convert:hover {\n",
              "      background-color: #434B5C;\n",
              "      box-shadow: 0px 1px 3px 1px rgba(0, 0, 0, 0.15);\n",
              "      filter: drop-shadow(0px 1px 2px rgba(0, 0, 0, 0.3));\n",
              "      fill: #FFFFFF;\n",
              "    }\n",
              "  </style>\n",
              "\n",
              "      <script>\n",
              "        const buttonEl =\n",
              "          document.querySelector('#df-443f0143-543d-4550-8a16-35605b1fbf85 button.colab-df-convert');\n",
              "        buttonEl.style.display =\n",
              "          google.colab.kernel.accessAllowed ? 'block' : 'none';\n",
              "\n",
              "        async function convertToInteractive(key) {\n",
              "          const element = document.querySelector('#df-443f0143-543d-4550-8a16-35605b1fbf85');\n",
              "          const dataTable =\n",
              "            await google.colab.kernel.invokeFunction('convertToInteractive',\n",
              "                                                     [key], {});\n",
              "          if (!dataTable) return;\n",
              "\n",
              "          const docLinkHtml = 'Like what you see? Visit the ' +\n",
              "            '<a target=\"_blank\" href=https://colab.research.google.com/notebooks/data_table.ipynb>data table notebook</a>'\n",
              "            + ' to learn more about interactive tables.';\n",
              "          element.innerHTML = '';\n",
              "          dataTable['output_type'] = 'display_data';\n",
              "          await google.colab.output.renderOutput(dataTable, element);\n",
              "          const docLink = document.createElement('div');\n",
              "          docLink.innerHTML = docLinkHtml;\n",
              "          element.appendChild(docLink);\n",
              "        }\n",
              "      </script>\n",
              "    </div>\n",
              "  </div>\n",
              "  "
            ]
          },
          "metadata": {},
          "execution_count": 17
        }
      ]
    },
    {
      "cell_type": "code",
      "source": [
        "base_5.shape"
      ],
      "metadata": {
        "colab": {
          "base_uri": "https://localhost:8080/"
        },
        "id": "uJSV3ihR8I0-",
        "outputId": "2889bb2f-c75b-472f-9d53-f0da22b6ef96"
      },
      "execution_count": 18,
      "outputs": [
        {
          "output_type": "execute_result",
          "data": {
            "text/plain": [
              "(1548, 5)"
            ]
          },
          "metadata": {},
          "execution_count": 18
        }
      ]
    },
    {
      "cell_type": "code",
      "source": [
        "base_5['Pic'].value_counts()"
      ],
      "metadata": {
        "colab": {
          "base_uri": "https://localhost:8080/"
        },
        "id": "kBvHc0GTj_Ca",
        "outputId": "b30e9267-b940-475b-f270-006b9a1d895f"
      },
      "execution_count": 19,
      "outputs": [
        {
          "output_type": "execute_result",
          "data": {
            "text/plain": [
              "1    774\n",
              "2    774\n",
              "Name: Pic, dtype: int64"
            ]
          },
          "metadata": {},
          "execution_count": 19
        }
      ]
    },
    {
      "cell_type": "markdown",
      "source": [
        "Сохраняем"
      ],
      "metadata": {
        "id": "yx2JgzCZkjZJ"
      }
    },
    {
      "cell_type": "code",
      "source": [
        "base_5.to_csv('base_5_hashes_5.csv')"
      ],
      "metadata": {
        "id": "zYltD4YXEm4b"
      },
      "execution_count": 20,
      "outputs": []
    },
    {
      "cell_type": "code",
      "source": [
        "base_5 = pd.read_csv('base_5_hashes_4.csv', index_col=0)\n",
        "base_5.head()"
      ],
      "metadata": {
        "colab": {
          "base_uri": "https://localhost:8080/",
          "height": 206
        },
        "id": "NEwXnHDRIKhx",
        "outputId": "33586d7b-3c4b-4c79-bafe-b52c3876ef99"
      },
      "execution_count": null,
      "outputs": [
        {
          "output_type": "execute_result",
          "data": {
            "text/plain": [
              "      base  Номер открытки                                            Pic_url  \\\n",
              "2145     5          226947  https://storage.yandexcloud.net/postcards-open...   \n",
              "2146     5          226948  https://storage.yandexcloud.net/postcards-open...   \n",
              "2147     5          226949  https://storage.yandexcloud.net/postcards-open...   \n",
              "2148     5          226950  https://storage.yandexcloud.net/postcards-open...   \n",
              "2149     5          226951  https://storage.yandexcloud.net/postcards-open...   \n",
              "\n",
              "                  hash  Pic  \n",
              "2145  f2fafca4b0babcc0    1  \n",
              "2146  ca8a8282ce96bab2    1  \n",
              "2147  cc221a2e2a22464a    1  \n",
              "2148  dedcdee2c6f4eec6    1  \n",
              "2149  c0968e8a8a828af0    1  "
            ],
            "text/html": [
              "\n",
              "  <div id=\"df-5a8113cc-b6f3-4812-95ee-0607296892f5\">\n",
              "    <div class=\"colab-df-container\">\n",
              "      <div>\n",
              "<style scoped>\n",
              "    .dataframe tbody tr th:only-of-type {\n",
              "        vertical-align: middle;\n",
              "    }\n",
              "\n",
              "    .dataframe tbody tr th {\n",
              "        vertical-align: top;\n",
              "    }\n",
              "\n",
              "    .dataframe thead th {\n",
              "        text-align: right;\n",
              "    }\n",
              "</style>\n",
              "<table border=\"1\" class=\"dataframe\">\n",
              "  <thead>\n",
              "    <tr style=\"text-align: right;\">\n",
              "      <th></th>\n",
              "      <th>base</th>\n",
              "      <th>Номер открытки</th>\n",
              "      <th>Pic_url</th>\n",
              "      <th>hash</th>\n",
              "      <th>Pic</th>\n",
              "    </tr>\n",
              "  </thead>\n",
              "  <tbody>\n",
              "    <tr>\n",
              "      <th>2145</th>\n",
              "      <td>5</td>\n",
              "      <td>226947</td>\n",
              "      <td>https://storage.yandexcloud.net/postcards-open...</td>\n",
              "      <td>f2fafca4b0babcc0</td>\n",
              "      <td>1</td>\n",
              "    </tr>\n",
              "    <tr>\n",
              "      <th>2146</th>\n",
              "      <td>5</td>\n",
              "      <td>226948</td>\n",
              "      <td>https://storage.yandexcloud.net/postcards-open...</td>\n",
              "      <td>ca8a8282ce96bab2</td>\n",
              "      <td>1</td>\n",
              "    </tr>\n",
              "    <tr>\n",
              "      <th>2147</th>\n",
              "      <td>5</td>\n",
              "      <td>226949</td>\n",
              "      <td>https://storage.yandexcloud.net/postcards-open...</td>\n",
              "      <td>cc221a2e2a22464a</td>\n",
              "      <td>1</td>\n",
              "    </tr>\n",
              "    <tr>\n",
              "      <th>2148</th>\n",
              "      <td>5</td>\n",
              "      <td>226950</td>\n",
              "      <td>https://storage.yandexcloud.net/postcards-open...</td>\n",
              "      <td>dedcdee2c6f4eec6</td>\n",
              "      <td>1</td>\n",
              "    </tr>\n",
              "    <tr>\n",
              "      <th>2149</th>\n",
              "      <td>5</td>\n",
              "      <td>226951</td>\n",
              "      <td>https://storage.yandexcloud.net/postcards-open...</td>\n",
              "      <td>c0968e8a8a828af0</td>\n",
              "      <td>1</td>\n",
              "    </tr>\n",
              "  </tbody>\n",
              "</table>\n",
              "</div>\n",
              "      <button class=\"colab-df-convert\" onclick=\"convertToInteractive('df-5a8113cc-b6f3-4812-95ee-0607296892f5')\"\n",
              "              title=\"Convert this dataframe to an interactive table.\"\n",
              "              style=\"display:none;\">\n",
              "        \n",
              "  <svg xmlns=\"http://www.w3.org/2000/svg\" height=\"24px\"viewBox=\"0 0 24 24\"\n",
              "       width=\"24px\">\n",
              "    <path d=\"M0 0h24v24H0V0z\" fill=\"none\"/>\n",
              "    <path d=\"M18.56 5.44l.94 2.06.94-2.06 2.06-.94-2.06-.94-.94-2.06-.94 2.06-2.06.94zm-11 1L8.5 8.5l.94-2.06 2.06-.94-2.06-.94L8.5 2.5l-.94 2.06-2.06.94zm10 10l.94 2.06.94-2.06 2.06-.94-2.06-.94-.94-2.06-.94 2.06-2.06.94z\"/><path d=\"M17.41 7.96l-1.37-1.37c-.4-.4-.92-.59-1.43-.59-.52 0-1.04.2-1.43.59L10.3 9.45l-7.72 7.72c-.78.78-.78 2.05 0 2.83L4 21.41c.39.39.9.59 1.41.59.51 0 1.02-.2 1.41-.59l7.78-7.78 2.81-2.81c.8-.78.8-2.07 0-2.86zM5.41 20L4 18.59l7.72-7.72 1.47 1.35L5.41 20z\"/>\n",
              "  </svg>\n",
              "      </button>\n",
              "      \n",
              "  <style>\n",
              "    .colab-df-container {\n",
              "      display:flex;\n",
              "      flex-wrap:wrap;\n",
              "      gap: 12px;\n",
              "    }\n",
              "\n",
              "    .colab-df-convert {\n",
              "      background-color: #E8F0FE;\n",
              "      border: none;\n",
              "      border-radius: 50%;\n",
              "      cursor: pointer;\n",
              "      display: none;\n",
              "      fill: #1967D2;\n",
              "      height: 32px;\n",
              "      padding: 0 0 0 0;\n",
              "      width: 32px;\n",
              "    }\n",
              "\n",
              "    .colab-df-convert:hover {\n",
              "      background-color: #E2EBFA;\n",
              "      box-shadow: 0px 1px 2px rgba(60, 64, 67, 0.3), 0px 1px 3px 1px rgba(60, 64, 67, 0.15);\n",
              "      fill: #174EA6;\n",
              "    }\n",
              "\n",
              "    [theme=dark] .colab-df-convert {\n",
              "      background-color: #3B4455;\n",
              "      fill: #D2E3FC;\n",
              "    }\n",
              "\n",
              "    [theme=dark] .colab-df-convert:hover {\n",
              "      background-color: #434B5C;\n",
              "      box-shadow: 0px 1px 3px 1px rgba(0, 0, 0, 0.15);\n",
              "      filter: drop-shadow(0px 1px 2px rgba(0, 0, 0, 0.3));\n",
              "      fill: #FFFFFF;\n",
              "    }\n",
              "  </style>\n",
              "\n",
              "      <script>\n",
              "        const buttonEl =\n",
              "          document.querySelector('#df-5a8113cc-b6f3-4812-95ee-0607296892f5 button.colab-df-convert');\n",
              "        buttonEl.style.display =\n",
              "          google.colab.kernel.accessAllowed ? 'block' : 'none';\n",
              "\n",
              "        async function convertToInteractive(key) {\n",
              "          const element = document.querySelector('#df-5a8113cc-b6f3-4812-95ee-0607296892f5');\n",
              "          const dataTable =\n",
              "            await google.colab.kernel.invokeFunction('convertToInteractive',\n",
              "                                                     [key], {});\n",
              "          if (!dataTable) return;\n",
              "\n",
              "          const docLinkHtml = 'Like what you see? Visit the ' +\n",
              "            '<a target=\"_blank\" href=https://colab.research.google.com/notebooks/data_table.ipynb>data table notebook</a>'\n",
              "            + ' to learn more about interactive tables.';\n",
              "          element.innerHTML = '';\n",
              "          dataTable['output_type'] = 'display_data';\n",
              "          await google.colab.output.renderOutput(dataTable, element);\n",
              "          const docLink = document.createElement('div');\n",
              "          docLink.innerHTML = docLinkHtml;\n",
              "          element.appendChild(docLink);\n",
              "        }\n",
              "      </script>\n",
              "    </div>\n",
              "  </div>\n",
              "  "
            ]
          },
          "metadata": {},
          "execution_count": 4
        }
      ]
    },
    {
      "cell_type": "code",
      "source": [
        "base_5.shape"
      ],
      "metadata": {
        "colab": {
          "base_uri": "https://localhost:8080/"
        },
        "id": "jCDtn5C0EbHB",
        "outputId": "25d2ab8a-2ae8-41e2-d301-5017e1b9cbcf"
      },
      "execution_count": 23,
      "outputs": [
        {
          "output_type": "execute_result",
          "data": {
            "text/plain": [
              "(1548, 5)"
            ]
          },
          "metadata": {},
          "execution_count": 23
        }
      ]
    },
    {
      "cell_type": "markdown",
      "source": [
        "# Добавляем данные с предыдущих итераций обработки"
      ],
      "metadata": {
        "id": "7VRw7zFtmOWN"
      }
    },
    {
      "cell_type": "code",
      "source": [
        "df = pd.concat(\n",
        "    [pd.read_csv('hash_database_full.csv', index_col=0),\n",
        "     pd.read_csv('base_5_hashes_4.csv', index_col=0).rename(columns={'Номер открытки': 'ID'}),\n",
        "     pd.read_csv('base_5_hashes_5.csv', index_col=0).rename(columns={'Номер открытки': 'ID'})\n",
        "    ])\n",
        "# df = pd.read_csv('hash_database_full.csv', index_col=0)\n",
        "# df = pd.concat([df, base_5.rename(columns={'Номер открытки': 'ID'})])\n",
        "df = df.reset_index().drop('index', axis=1)\n",
        "df.head()"
      ],
      "metadata": {
        "colab": {
          "base_uri": "https://localhost:8080/",
          "height": 206
        },
        "id": "aFWFEBU5mUuV",
        "outputId": "94d3eca6-86f0-4b85-a534-ad9a5dfcfdeb"
      },
      "execution_count": 21,
      "outputs": [
        {
          "output_type": "execute_result",
          "data": {
            "text/plain": [
              "   base  ID  Pic                                            Pic_url  \\\n",
              "0     1   0    1       https://forum.vgd.ru/file.php?fid=5476&key=0   \n",
              "1     1   2    1       https://forum.vgd.ru/file.php?fid=5492&key=0   \n",
              "2     1   3    1  https://forum.vgd.ru/file.php?fid=20890&key=19...   \n",
              "3     1   4    1  https://forum.vgd.ru/file.php?fid=20894&key=16...   \n",
              "4     1   5    1  https://forum.vgd.ru/file.php?fid=20895&key=90...   \n",
              "\n",
              "               hash  \n",
              "0  806969715521b059  \n",
              "1  f4d8cc0ca543d6b6  \n",
              "2  f1732b4d73511723  \n",
              "3  b292ced8b3f2f2f2  \n",
              "4  b8186ca4ae8a989a  "
            ],
            "text/html": [
              "\n",
              "  <div id=\"df-e4d7ca9f-d969-4045-8a21-31d9ae78eff6\">\n",
              "    <div class=\"colab-df-container\">\n",
              "      <div>\n",
              "<style scoped>\n",
              "    .dataframe tbody tr th:only-of-type {\n",
              "        vertical-align: middle;\n",
              "    }\n",
              "\n",
              "    .dataframe tbody tr th {\n",
              "        vertical-align: top;\n",
              "    }\n",
              "\n",
              "    .dataframe thead th {\n",
              "        text-align: right;\n",
              "    }\n",
              "</style>\n",
              "<table border=\"1\" class=\"dataframe\">\n",
              "  <thead>\n",
              "    <tr style=\"text-align: right;\">\n",
              "      <th></th>\n",
              "      <th>base</th>\n",
              "      <th>ID</th>\n",
              "      <th>Pic</th>\n",
              "      <th>Pic_url</th>\n",
              "      <th>hash</th>\n",
              "    </tr>\n",
              "  </thead>\n",
              "  <tbody>\n",
              "    <tr>\n",
              "      <th>0</th>\n",
              "      <td>1</td>\n",
              "      <td>0</td>\n",
              "      <td>1</td>\n",
              "      <td>https://forum.vgd.ru/file.php?fid=5476&amp;key=0</td>\n",
              "      <td>806969715521b059</td>\n",
              "    </tr>\n",
              "    <tr>\n",
              "      <th>1</th>\n",
              "      <td>1</td>\n",
              "      <td>2</td>\n",
              "      <td>1</td>\n",
              "      <td>https://forum.vgd.ru/file.php?fid=5492&amp;key=0</td>\n",
              "      <td>f4d8cc0ca543d6b6</td>\n",
              "    </tr>\n",
              "    <tr>\n",
              "      <th>2</th>\n",
              "      <td>1</td>\n",
              "      <td>3</td>\n",
              "      <td>1</td>\n",
              "      <td>https://forum.vgd.ru/file.php?fid=20890&amp;key=19...</td>\n",
              "      <td>f1732b4d73511723</td>\n",
              "    </tr>\n",
              "    <tr>\n",
              "      <th>3</th>\n",
              "      <td>1</td>\n",
              "      <td>4</td>\n",
              "      <td>1</td>\n",
              "      <td>https://forum.vgd.ru/file.php?fid=20894&amp;key=16...</td>\n",
              "      <td>b292ced8b3f2f2f2</td>\n",
              "    </tr>\n",
              "    <tr>\n",
              "      <th>4</th>\n",
              "      <td>1</td>\n",
              "      <td>5</td>\n",
              "      <td>1</td>\n",
              "      <td>https://forum.vgd.ru/file.php?fid=20895&amp;key=90...</td>\n",
              "      <td>b8186ca4ae8a989a</td>\n",
              "    </tr>\n",
              "  </tbody>\n",
              "</table>\n",
              "</div>\n",
              "      <button class=\"colab-df-convert\" onclick=\"convertToInteractive('df-e4d7ca9f-d969-4045-8a21-31d9ae78eff6')\"\n",
              "              title=\"Convert this dataframe to an interactive table.\"\n",
              "              style=\"display:none;\">\n",
              "        \n",
              "  <svg xmlns=\"http://www.w3.org/2000/svg\" height=\"24px\"viewBox=\"0 0 24 24\"\n",
              "       width=\"24px\">\n",
              "    <path d=\"M0 0h24v24H0V0z\" fill=\"none\"/>\n",
              "    <path d=\"M18.56 5.44l.94 2.06.94-2.06 2.06-.94-2.06-.94-.94-2.06-.94 2.06-2.06.94zm-11 1L8.5 8.5l.94-2.06 2.06-.94-2.06-.94L8.5 2.5l-.94 2.06-2.06.94zm10 10l.94 2.06.94-2.06 2.06-.94-2.06-.94-.94-2.06-.94 2.06-2.06.94z\"/><path d=\"M17.41 7.96l-1.37-1.37c-.4-.4-.92-.59-1.43-.59-.52 0-1.04.2-1.43.59L10.3 9.45l-7.72 7.72c-.78.78-.78 2.05 0 2.83L4 21.41c.39.39.9.59 1.41.59.51 0 1.02-.2 1.41-.59l7.78-7.78 2.81-2.81c.8-.78.8-2.07 0-2.86zM5.41 20L4 18.59l7.72-7.72 1.47 1.35L5.41 20z\"/>\n",
              "  </svg>\n",
              "      </button>\n",
              "      \n",
              "  <style>\n",
              "    .colab-df-container {\n",
              "      display:flex;\n",
              "      flex-wrap:wrap;\n",
              "      gap: 12px;\n",
              "    }\n",
              "\n",
              "    .colab-df-convert {\n",
              "      background-color: #E8F0FE;\n",
              "      border: none;\n",
              "      border-radius: 50%;\n",
              "      cursor: pointer;\n",
              "      display: none;\n",
              "      fill: #1967D2;\n",
              "      height: 32px;\n",
              "      padding: 0 0 0 0;\n",
              "      width: 32px;\n",
              "    }\n",
              "\n",
              "    .colab-df-convert:hover {\n",
              "      background-color: #E2EBFA;\n",
              "      box-shadow: 0px 1px 2px rgba(60, 64, 67, 0.3), 0px 1px 3px 1px rgba(60, 64, 67, 0.15);\n",
              "      fill: #174EA6;\n",
              "    }\n",
              "\n",
              "    [theme=dark] .colab-df-convert {\n",
              "      background-color: #3B4455;\n",
              "      fill: #D2E3FC;\n",
              "    }\n",
              "\n",
              "    [theme=dark] .colab-df-convert:hover {\n",
              "      background-color: #434B5C;\n",
              "      box-shadow: 0px 1px 3px 1px rgba(0, 0, 0, 0.15);\n",
              "      filter: drop-shadow(0px 1px 2px rgba(0, 0, 0, 0.3));\n",
              "      fill: #FFFFFF;\n",
              "    }\n",
              "  </style>\n",
              "\n",
              "      <script>\n",
              "        const buttonEl =\n",
              "          document.querySelector('#df-e4d7ca9f-d969-4045-8a21-31d9ae78eff6 button.colab-df-convert');\n",
              "        buttonEl.style.display =\n",
              "          google.colab.kernel.accessAllowed ? 'block' : 'none';\n",
              "\n",
              "        async function convertToInteractive(key) {\n",
              "          const element = document.querySelector('#df-e4d7ca9f-d969-4045-8a21-31d9ae78eff6');\n",
              "          const dataTable =\n",
              "            await google.colab.kernel.invokeFunction('convertToInteractive',\n",
              "                                                     [key], {});\n",
              "          if (!dataTable) return;\n",
              "\n",
              "          const docLinkHtml = 'Like what you see? Visit the ' +\n",
              "            '<a target=\"_blank\" href=https://colab.research.google.com/notebooks/data_table.ipynb>data table notebook</a>'\n",
              "            + ' to learn more about interactive tables.';\n",
              "          element.innerHTML = '';\n",
              "          dataTable['output_type'] = 'display_data';\n",
              "          await google.colab.output.renderOutput(dataTable, element);\n",
              "          const docLink = document.createElement('div');\n",
              "          docLink.innerHTML = docLinkHtml;\n",
              "          element.appendChild(docLink);\n",
              "        }\n",
              "      </script>\n",
              "    </div>\n",
              "  </div>\n",
              "  "
            ]
          },
          "metadata": {},
          "execution_count": 21
        }
      ]
    },
    {
      "cell_type": "code",
      "source": [
        "df.shape"
      ],
      "metadata": {
        "colab": {
          "base_uri": "https://localhost:8080/"
        },
        "id": "Z7wRVMqGnsfe",
        "outputId": "5bc90b6f-2824-474b-bcef-7aa482735c94"
      },
      "execution_count": 22,
      "outputs": [
        {
          "output_type": "execute_result",
          "data": {
            "text/plain": [
              "(68258, 5)"
            ]
          },
          "metadata": {},
          "execution_count": 22
        }
      ]
    },
    {
      "cell_type": "code",
      "source": [
        "df['base'].value_counts()"
      ],
      "metadata": {
        "colab": {
          "base_uri": "https://localhost:8080/"
        },
        "id": "J4jUiOhZmUzH",
        "outputId": "175b9443-115e-4219-c687-c5953240311e"
      },
      "execution_count": 25,
      "outputs": [
        {
          "output_type": "execute_result",
          "data": {
            "text/plain": [
              "3    20882\n",
              "4    18178\n",
              "1    14074\n",
              "2     9928\n",
              "5     5196\n",
              "Name: base, dtype: int64"
            ]
          },
          "metadata": {},
          "execution_count": 25
        }
      ]
    },
    {
      "cell_type": "code",
      "source": [
        "df['Pic'].value_counts()"
      ],
      "metadata": {
        "colab": {
          "base_uri": "https://localhost:8080/"
        },
        "id": "AiKchOZVnTom",
        "outputId": "1966f88f-cf72-46b5-b9d0-ba5e299bc03e"
      },
      "execution_count": null,
      "outputs": [
        {
          "output_type": "execute_result",
          "data": {
            "text/plain": [
              "1    32877\n",
              "2    32661\n",
              "Name: Pic, dtype: int64"
            ]
          },
          "metadata": {},
          "execution_count": 27
        }
      ]
    },
    {
      "cell_type": "markdown",
      "source": [
        "Есть даже одинаковые ссылки"
      ],
      "metadata": {
        "id": "FxlIiwavn9Gq"
      }
    },
    {
      "cell_type": "code",
      "source": [
        "df['Pic_url'].value_counts().sort_values(ascending=False)[:25]"
      ],
      "metadata": {
        "colab": {
          "base_uri": "https://localhost:8080/"
        },
        "id": "lWQFKbFhmU27",
        "outputId": "063ece72-9aee-4594-dd8a-c5720be97f30"
      },
      "execution_count": null,
      "outputs": [
        {
          "output_type": "execute_result",
          "data": {
            "text/plain": [
              "https://storage.yandexcloud.net/postcards-museums/detmuseum/alpy3.png                                      6\n",
              "https://storage.yandexcloud.net/postcards-museums/detmuseum/alpy1.png                                      4\n",
              "https://storage.yandexcloud.net/postcards-open-sources/conros1785.jpg                                      2\n",
              "https://storage.yandexcloud.net/postcards/1BOhnJB64qVnZAO0QFqIBCEICdZ1YHChZ                                2\n",
              "https://storage.yandexcloud.net/postcards-cropped/547_1.jpg                                                2\n",
              "https://storage.yandexcloud.net/postcards-open-sources/Auction-134.jpg                                     2\n",
              "https://storage.yandexcloud.net/postcards-open-sources/Auction-521.jpg                                     2\n",
              "https://storage.yandexcloud.net/postcards-open-sources/Delcampe-978.jpg                                    2\n",
              "https://storage.yandexcloud.net/postcards-open-sources/Delcampe-4449.jpg                                   2\n",
              "https://storage.yandexcloud.net/postcards-open-sources/conros1793.jpg                                      2\n",
              "https://storage.yandexcloud.net/postcards-open-sources/Delcampe-1078.jpg                                   2\n",
              "https://storage.yandexcloud.net/postcards-open-sources/conros1791.jpg                                      2\n",
              "https://storage.yandexcloud.net/postcards-open-sources/conros1787.jpg                                      2\n",
              "https://storage.yandexcloud.net/postcards-museums/501a63dbe44a88e3b323804803700b13_postcard8776pic1.jpg    2\n",
              "https://storage.yandexcloud.net/postcards-open-sources/conros1795.jpg                                      2\n",
              "https://storage.yandexcloud.net/postcards-cropped/553_1.jpg                                                2\n",
              "https://storage.yandexcloud.net/postcards/Khaustova (21).jpg                                               2\n",
              "https://storage.yandexcloud.net/postcards-open-sources/conros1789.jpg                                      2\n",
              "https://storage.yandexcloud.net/postcards/Khaustova (17).jpg                                               2\n",
              "https://storage.yandexcloud.net/postcards/Khaustova (15).jpg                                               2\n",
              "https://storage.yandexcloud.net/postcards-open-sources/Delcampe-1077.jpg                                   2\n",
              "https://forum.vgd.ru/file.php?fid=536459&key=1604423922                                                    2\n",
              "https://storage.yandexcloud.net/postcards-open-sources/Delcampe-2891.jpg                                   2\n",
              "https://storage.yandexcloud.net/postcards/Khaustova (19).jpg                                               2\n",
              "https://storage.yandexcloud.net/postcards-open-sources/conros1797.jpg                                      2\n",
              "Name: Pic_url, dtype: int64"
            ]
          },
          "metadata": {},
          "execution_count": 24
        }
      ]
    },
    {
      "cell_type": "code",
      "source": [
        "df.to_csv('hash_database_full.csv')"
      ],
      "metadata": {
        "id": "PcaRbhAaGJU5"
      },
      "execution_count": 26,
      "outputs": []
    },
    {
      "cell_type": "markdown",
      "source": [
        "# Ищем дубликаты"
      ],
      "metadata": {
        "id": "jme7SU2ki7bI"
      }
    },
    {
      "cell_type": "markdown",
      "source": [
        "Создаем ВК-дерево"
      ],
      "metadata": {
        "id": "93VH2ErWlebh"
      }
    },
    {
      "cell_type": "code",
      "source": [
        "from pybktree_imagehash import BKTree, hamming_distance\n",
        "import collections"
      ],
      "metadata": {
        "id": "Pg_AOhG-lJKB"
      },
      "execution_count": 27,
      "outputs": []
    },
    {
      "cell_type": "code",
      "source": [
        "Item = collections.namedtuple('Item', 'hash_value hash_db_index')"
      ],
      "metadata": {
        "id": "h6ZuJkFclU_b"
      },
      "execution_count": 28,
      "outputs": []
    },
    {
      "cell_type": "code",
      "source": [
        "def item_distance(x, y):\n",
        "  return hamming_distance(x.hash_value, y.hash_value)"
      ],
      "metadata": {
        "id": "KU6drVWLlVWi"
      },
      "execution_count": 29,
      "outputs": []
    },
    {
      "cell_type": "code",
      "source": [
        "tree = BKTree(item_distance, [Item(value, ind) for ind, value in enumerate(df['hash'].to_list())])\n",
        "sorted(tree)[:10]"
      ],
      "metadata": {
        "colab": {
          "base_uri": "https://localhost:8080/"
        },
        "id": "t6UEv9d2i-Z6",
        "outputId": "1a840432-555e-4cb5-a751-ca83d547c397"
      },
      "execution_count": 30,
      "outputs": [
        {
          "output_type": "execute_result",
          "data": {
            "text/plain": [
              "[Item(hash_value='0000000000000000', hash_db_index=18964),\n",
              " Item(hash_value='0000000000000000', hash_db_index=30732),\n",
              " Item(hash_value='0000000000000000', hash_db_index=30733),\n",
              " Item(hash_value='0000000000000000', hash_db_index=30736),\n",
              " Item(hash_value='0000000000000000', hash_db_index=30741),\n",
              " Item(hash_value='0000000000000000', hash_db_index=30747),\n",
              " Item(hash_value='0000000000000000', hash_db_index=30751),\n",
              " Item(hash_value='0000000000000000', hash_db_index=30757),\n",
              " Item(hash_value='0000000000000000', hash_db_index=30761),\n",
              " Item(hash_value='0000000000000000', hash_db_index=30763)]"
            ]
          },
          "metadata": {},
          "execution_count": 30
        }
      ]
    },
    {
      "cell_type": "markdown",
      "source": [
        "Ищем объекты на расстоянии до 3 (только по новым открыткам)"
      ],
      "metadata": {
        "id": "GaabuAd9omLr"
      }
    },
    {
      "cell_type": "code",
      "source": [
        "from tqdm import tqdm"
      ],
      "metadata": {
        "id": "zweaoRDKoITM"
      },
      "execution_count": 31,
      "outputs": []
    },
    {
      "cell_type": "code",
      "source": [
        "base_5_ids = base_5['Номер открытки'].to_list()\n",
        "df_to_search = df[(df['base'] == 5) & (df['ID'].isin(base_5_ids))]\n",
        "df_to_search.head()"
      ],
      "metadata": {
        "colab": {
          "base_uri": "https://localhost:8080/",
          "height": 206
        },
        "id": "jdh39nlvEzlS",
        "outputId": "c3dc829e-09cc-48bf-b398-2a7fdd6fbc08"
      },
      "execution_count": 32,
      "outputs": [
        {
          "output_type": "execute_result",
          "data": {
            "text/plain": [
              "       base      ID  Pic                                            Pic_url  \\\n",
              "66710     5  229325    1  https://storage.yandexcloud.net/postcards-open...   \n",
              "66711     5  229326    1  https://storage.yandexcloud.net/postcards-open...   \n",
              "66712     5  229327    1  https://storage.yandexcloud.net/postcards-open...   \n",
              "66713     5  229328    1  https://storage.yandexcloud.net/postcards-open...   \n",
              "66714     5  229329    1  https://storage.yandexcloud.net/postcards-open...   \n",
              "\n",
              "                   hash  \n",
              "66710  80b09898d6fcbafe  \n",
              "66711  9e96a6868686b288  \n",
              "66712  b28a8e86baae8e9a  \n",
              "66713  f4dcccced2c6eed0  \n",
              "66714  e0a68ab09292c2a2  "
            ],
            "text/html": [
              "\n",
              "  <div id=\"df-aa6e74a8-9563-41cd-86ec-b73d784c907a\">\n",
              "    <div class=\"colab-df-container\">\n",
              "      <div>\n",
              "<style scoped>\n",
              "    .dataframe tbody tr th:only-of-type {\n",
              "        vertical-align: middle;\n",
              "    }\n",
              "\n",
              "    .dataframe tbody tr th {\n",
              "        vertical-align: top;\n",
              "    }\n",
              "\n",
              "    .dataframe thead th {\n",
              "        text-align: right;\n",
              "    }\n",
              "</style>\n",
              "<table border=\"1\" class=\"dataframe\">\n",
              "  <thead>\n",
              "    <tr style=\"text-align: right;\">\n",
              "      <th></th>\n",
              "      <th>base</th>\n",
              "      <th>ID</th>\n",
              "      <th>Pic</th>\n",
              "      <th>Pic_url</th>\n",
              "      <th>hash</th>\n",
              "    </tr>\n",
              "  </thead>\n",
              "  <tbody>\n",
              "    <tr>\n",
              "      <th>66710</th>\n",
              "      <td>5</td>\n",
              "      <td>229325</td>\n",
              "      <td>1</td>\n",
              "      <td>https://storage.yandexcloud.net/postcards-open...</td>\n",
              "      <td>80b09898d6fcbafe</td>\n",
              "    </tr>\n",
              "    <tr>\n",
              "      <th>66711</th>\n",
              "      <td>5</td>\n",
              "      <td>229326</td>\n",
              "      <td>1</td>\n",
              "      <td>https://storage.yandexcloud.net/postcards-open...</td>\n",
              "      <td>9e96a6868686b288</td>\n",
              "    </tr>\n",
              "    <tr>\n",
              "      <th>66712</th>\n",
              "      <td>5</td>\n",
              "      <td>229327</td>\n",
              "      <td>1</td>\n",
              "      <td>https://storage.yandexcloud.net/postcards-open...</td>\n",
              "      <td>b28a8e86baae8e9a</td>\n",
              "    </tr>\n",
              "    <tr>\n",
              "      <th>66713</th>\n",
              "      <td>5</td>\n",
              "      <td>229328</td>\n",
              "      <td>1</td>\n",
              "      <td>https://storage.yandexcloud.net/postcards-open...</td>\n",
              "      <td>f4dcccced2c6eed0</td>\n",
              "    </tr>\n",
              "    <tr>\n",
              "      <th>66714</th>\n",
              "      <td>5</td>\n",
              "      <td>229329</td>\n",
              "      <td>1</td>\n",
              "      <td>https://storage.yandexcloud.net/postcards-open...</td>\n",
              "      <td>e0a68ab09292c2a2</td>\n",
              "    </tr>\n",
              "  </tbody>\n",
              "</table>\n",
              "</div>\n",
              "      <button class=\"colab-df-convert\" onclick=\"convertToInteractive('df-aa6e74a8-9563-41cd-86ec-b73d784c907a')\"\n",
              "              title=\"Convert this dataframe to an interactive table.\"\n",
              "              style=\"display:none;\">\n",
              "        \n",
              "  <svg xmlns=\"http://www.w3.org/2000/svg\" height=\"24px\"viewBox=\"0 0 24 24\"\n",
              "       width=\"24px\">\n",
              "    <path d=\"M0 0h24v24H0V0z\" fill=\"none\"/>\n",
              "    <path d=\"M18.56 5.44l.94 2.06.94-2.06 2.06-.94-2.06-.94-.94-2.06-.94 2.06-2.06.94zm-11 1L8.5 8.5l.94-2.06 2.06-.94-2.06-.94L8.5 2.5l-.94 2.06-2.06.94zm10 10l.94 2.06.94-2.06 2.06-.94-2.06-.94-.94-2.06-.94 2.06-2.06.94z\"/><path d=\"M17.41 7.96l-1.37-1.37c-.4-.4-.92-.59-1.43-.59-.52 0-1.04.2-1.43.59L10.3 9.45l-7.72 7.72c-.78.78-.78 2.05 0 2.83L4 21.41c.39.39.9.59 1.41.59.51 0 1.02-.2 1.41-.59l7.78-7.78 2.81-2.81c.8-.78.8-2.07 0-2.86zM5.41 20L4 18.59l7.72-7.72 1.47 1.35L5.41 20z\"/>\n",
              "  </svg>\n",
              "      </button>\n",
              "      \n",
              "  <style>\n",
              "    .colab-df-container {\n",
              "      display:flex;\n",
              "      flex-wrap:wrap;\n",
              "      gap: 12px;\n",
              "    }\n",
              "\n",
              "    .colab-df-convert {\n",
              "      background-color: #E8F0FE;\n",
              "      border: none;\n",
              "      border-radius: 50%;\n",
              "      cursor: pointer;\n",
              "      display: none;\n",
              "      fill: #1967D2;\n",
              "      height: 32px;\n",
              "      padding: 0 0 0 0;\n",
              "      width: 32px;\n",
              "    }\n",
              "\n",
              "    .colab-df-convert:hover {\n",
              "      background-color: #E2EBFA;\n",
              "      box-shadow: 0px 1px 2px rgba(60, 64, 67, 0.3), 0px 1px 3px 1px rgba(60, 64, 67, 0.15);\n",
              "      fill: #174EA6;\n",
              "    }\n",
              "\n",
              "    [theme=dark] .colab-df-convert {\n",
              "      background-color: #3B4455;\n",
              "      fill: #D2E3FC;\n",
              "    }\n",
              "\n",
              "    [theme=dark] .colab-df-convert:hover {\n",
              "      background-color: #434B5C;\n",
              "      box-shadow: 0px 1px 3px 1px rgba(0, 0, 0, 0.15);\n",
              "      filter: drop-shadow(0px 1px 2px rgba(0, 0, 0, 0.3));\n",
              "      fill: #FFFFFF;\n",
              "    }\n",
              "  </style>\n",
              "\n",
              "      <script>\n",
              "        const buttonEl =\n",
              "          document.querySelector('#df-aa6e74a8-9563-41cd-86ec-b73d784c907a button.colab-df-convert');\n",
              "        buttonEl.style.display =\n",
              "          google.colab.kernel.accessAllowed ? 'block' : 'none';\n",
              "\n",
              "        async function convertToInteractive(key) {\n",
              "          const element = document.querySelector('#df-aa6e74a8-9563-41cd-86ec-b73d784c907a');\n",
              "          const dataTable =\n",
              "            await google.colab.kernel.invokeFunction('convertToInteractive',\n",
              "                                                     [key], {});\n",
              "          if (!dataTable) return;\n",
              "\n",
              "          const docLinkHtml = 'Like what you see? Visit the ' +\n",
              "            '<a target=\"_blank\" href=https://colab.research.google.com/notebooks/data_table.ipynb>data table notebook</a>'\n",
              "            + ' to learn more about interactive tables.';\n",
              "          element.innerHTML = '';\n",
              "          dataTable['output_type'] = 'display_data';\n",
              "          await google.colab.output.renderOutput(dataTable, element);\n",
              "          const docLink = document.createElement('div');\n",
              "          docLink.innerHTML = docLinkHtml;\n",
              "          element.appendChild(docLink);\n",
              "        }\n",
              "      </script>\n",
              "    </div>\n",
              "  </div>\n",
              "  "
            ]
          },
          "metadata": {},
          "execution_count": 32
        }
      ]
    },
    {
      "cell_type": "code",
      "source": [
        "df_to_search.shape"
      ],
      "metadata": {
        "colab": {
          "base_uri": "https://localhost:8080/"
        },
        "id": "ff3EcWIiOy1-",
        "outputId": "b68c8be1-f509-4132-f402-77c3cd647170"
      },
      "execution_count": 33,
      "outputs": [
        {
          "output_type": "execute_result",
          "data": {
            "text/plain": [
              "(1548, 5)"
            ]
          },
          "metadata": {},
          "execution_count": 33
        }
      ]
    },
    {
      "cell_type": "code",
      "source": [
        "possible_doubles = []\n",
        "threshold = 3  # hamming distance threshold\n",
        "\n",
        "for ind, row in tqdm(df_to_search.iterrows(), total=df_to_search.shape[0]):\n",
        "    this_id = row.name\n",
        "    this_hash = row['hash']\n",
        "    search_results = sorted(tree.find(Item(this_hash, this_id), threshold))\n",
        "    possible_doubles += [(t[0], this_id, t[1].hash_db_index) for t in search_results \n",
        "                         if t[1].hash_db_index != this_id]  # not the picture itself"
      ],
      "metadata": {
        "colab": {
          "base_uri": "https://localhost:8080/"
        },
        "id": "GCnCxyk-k1Lm",
        "outputId": "f968016e-7540-439d-be7d-0cea8aee4abf"
      },
      "execution_count": 34,
      "outputs": [
        {
          "output_type": "stream",
          "name": "stderr",
          "text": [
            "100%|██████████| 1548/1548 [01:35<00:00, 16.21it/s]\n"
          ]
        }
      ]
    },
    {
      "cell_type": "code",
      "source": [
        "possible_doubles = pd.DataFrame(possible_doubles, columns=[\n",
        "    'hash_dist', 'hash_db_index_1', 'hash_db_index_2'])"
      ],
      "metadata": {
        "id": "V9xxeP2Ok1Ob"
      },
      "execution_count": 35,
      "outputs": []
    },
    {
      "cell_type": "code",
      "source": [
        "possible_doubles.head()"
      ],
      "metadata": {
        "colab": {
          "base_uri": "https://localhost:8080/",
          "height": 206
        },
        "id": "YNYZS5ms0xj2",
        "outputId": "3195bd68-d58c-4bd9-970a-c7a86fa04ef3"
      },
      "execution_count": 36,
      "outputs": [
        {
          "output_type": "execute_result",
          "data": {
            "text/plain": [
              "   hash_dist  hash_db_index_1  hash_db_index_2\n",
              "0          1            66762            50699\n",
              "1          3            66762            66790\n",
              "2          2            66763            53729\n",
              "3          3            66790            66762\n",
              "4          3            66798            67092"
            ],
            "text/html": [
              "\n",
              "  <div id=\"df-6a7a073f-f902-47f7-bb99-c1c9a46a5181\">\n",
              "    <div class=\"colab-df-container\">\n",
              "      <div>\n",
              "<style scoped>\n",
              "    .dataframe tbody tr th:only-of-type {\n",
              "        vertical-align: middle;\n",
              "    }\n",
              "\n",
              "    .dataframe tbody tr th {\n",
              "        vertical-align: top;\n",
              "    }\n",
              "\n",
              "    .dataframe thead th {\n",
              "        text-align: right;\n",
              "    }\n",
              "</style>\n",
              "<table border=\"1\" class=\"dataframe\">\n",
              "  <thead>\n",
              "    <tr style=\"text-align: right;\">\n",
              "      <th></th>\n",
              "      <th>hash_dist</th>\n",
              "      <th>hash_db_index_1</th>\n",
              "      <th>hash_db_index_2</th>\n",
              "    </tr>\n",
              "  </thead>\n",
              "  <tbody>\n",
              "    <tr>\n",
              "      <th>0</th>\n",
              "      <td>1</td>\n",
              "      <td>66762</td>\n",
              "      <td>50699</td>\n",
              "    </tr>\n",
              "    <tr>\n",
              "      <th>1</th>\n",
              "      <td>3</td>\n",
              "      <td>66762</td>\n",
              "      <td>66790</td>\n",
              "    </tr>\n",
              "    <tr>\n",
              "      <th>2</th>\n",
              "      <td>2</td>\n",
              "      <td>66763</td>\n",
              "      <td>53729</td>\n",
              "    </tr>\n",
              "    <tr>\n",
              "      <th>3</th>\n",
              "      <td>3</td>\n",
              "      <td>66790</td>\n",
              "      <td>66762</td>\n",
              "    </tr>\n",
              "    <tr>\n",
              "      <th>4</th>\n",
              "      <td>3</td>\n",
              "      <td>66798</td>\n",
              "      <td>67092</td>\n",
              "    </tr>\n",
              "  </tbody>\n",
              "</table>\n",
              "</div>\n",
              "      <button class=\"colab-df-convert\" onclick=\"convertToInteractive('df-6a7a073f-f902-47f7-bb99-c1c9a46a5181')\"\n",
              "              title=\"Convert this dataframe to an interactive table.\"\n",
              "              style=\"display:none;\">\n",
              "        \n",
              "  <svg xmlns=\"http://www.w3.org/2000/svg\" height=\"24px\"viewBox=\"0 0 24 24\"\n",
              "       width=\"24px\">\n",
              "    <path d=\"M0 0h24v24H0V0z\" fill=\"none\"/>\n",
              "    <path d=\"M18.56 5.44l.94 2.06.94-2.06 2.06-.94-2.06-.94-.94-2.06-.94 2.06-2.06.94zm-11 1L8.5 8.5l.94-2.06 2.06-.94-2.06-.94L8.5 2.5l-.94 2.06-2.06.94zm10 10l.94 2.06.94-2.06 2.06-.94-2.06-.94-.94-2.06-.94 2.06-2.06.94z\"/><path d=\"M17.41 7.96l-1.37-1.37c-.4-.4-.92-.59-1.43-.59-.52 0-1.04.2-1.43.59L10.3 9.45l-7.72 7.72c-.78.78-.78 2.05 0 2.83L4 21.41c.39.39.9.59 1.41.59.51 0 1.02-.2 1.41-.59l7.78-7.78 2.81-2.81c.8-.78.8-2.07 0-2.86zM5.41 20L4 18.59l7.72-7.72 1.47 1.35L5.41 20z\"/>\n",
              "  </svg>\n",
              "      </button>\n",
              "      \n",
              "  <style>\n",
              "    .colab-df-container {\n",
              "      display:flex;\n",
              "      flex-wrap:wrap;\n",
              "      gap: 12px;\n",
              "    }\n",
              "\n",
              "    .colab-df-convert {\n",
              "      background-color: #E8F0FE;\n",
              "      border: none;\n",
              "      border-radius: 50%;\n",
              "      cursor: pointer;\n",
              "      display: none;\n",
              "      fill: #1967D2;\n",
              "      height: 32px;\n",
              "      padding: 0 0 0 0;\n",
              "      width: 32px;\n",
              "    }\n",
              "\n",
              "    .colab-df-convert:hover {\n",
              "      background-color: #E2EBFA;\n",
              "      box-shadow: 0px 1px 2px rgba(60, 64, 67, 0.3), 0px 1px 3px 1px rgba(60, 64, 67, 0.15);\n",
              "      fill: #174EA6;\n",
              "    }\n",
              "\n",
              "    [theme=dark] .colab-df-convert {\n",
              "      background-color: #3B4455;\n",
              "      fill: #D2E3FC;\n",
              "    }\n",
              "\n",
              "    [theme=dark] .colab-df-convert:hover {\n",
              "      background-color: #434B5C;\n",
              "      box-shadow: 0px 1px 3px 1px rgba(0, 0, 0, 0.15);\n",
              "      filter: drop-shadow(0px 1px 2px rgba(0, 0, 0, 0.3));\n",
              "      fill: #FFFFFF;\n",
              "    }\n",
              "  </style>\n",
              "\n",
              "      <script>\n",
              "        const buttonEl =\n",
              "          document.querySelector('#df-6a7a073f-f902-47f7-bb99-c1c9a46a5181 button.colab-df-convert');\n",
              "        buttonEl.style.display =\n",
              "          google.colab.kernel.accessAllowed ? 'block' : 'none';\n",
              "\n",
              "        async function convertToInteractive(key) {\n",
              "          const element = document.querySelector('#df-6a7a073f-f902-47f7-bb99-c1c9a46a5181');\n",
              "          const dataTable =\n",
              "            await google.colab.kernel.invokeFunction('convertToInteractive',\n",
              "                                                     [key], {});\n",
              "          if (!dataTable) return;\n",
              "\n",
              "          const docLinkHtml = 'Like what you see? Visit the ' +\n",
              "            '<a target=\"_blank\" href=https://colab.research.google.com/notebooks/data_table.ipynb>data table notebook</a>'\n",
              "            + ' to learn more about interactive tables.';\n",
              "          element.innerHTML = '';\n",
              "          dataTable['output_type'] = 'display_data';\n",
              "          await google.colab.output.renderOutput(dataTable, element);\n",
              "          const docLink = document.createElement('div');\n",
              "          docLink.innerHTML = docLinkHtml;\n",
              "          element.appendChild(docLink);\n",
              "        }\n",
              "      </script>\n",
              "    </div>\n",
              "  </div>\n",
              "  "
            ]
          },
          "metadata": {},
          "execution_count": 36
        }
      ]
    },
    {
      "cell_type": "markdown",
      "source": [
        "# Чистим и дополняем таблицу дубликатов"
      ],
      "metadata": {
        "id": "ZLTV8Zm3oqfV"
      }
    },
    {
      "cell_type": "markdown",
      "source": [
        "Удаляем дублирующиеся пары (типа 13, 14 и 14, 13). Таким образом, base_2 всегда будет больше base_1 (см. ниже)"
      ],
      "metadata": {
        "id": "Z8Lp4BNYot4l"
      }
    },
    {
      "cell_type": "code",
      "source": [
        "possible_doubles['temp'] = possible_doubles.apply(\n",
        "    lambda row: (min(row['hash_db_index_1'], row['hash_db_index_2']), \n",
        "                 max(row['hash_db_index_1'], row['hash_db_index_2'])),\n",
        "    axis=1\n",
        ")\n",
        "possible_doubles['hash_db_index_1'] = possible_doubles['temp'].apply(lambda x: x[0])\n",
        "possible_doubles['hash_db_index_2'] = possible_doubles['temp'].apply(lambda x: x[1])\n",
        "possible_doubles = possible_doubles.drop('temp', axis=1)\n",
        "\n",
        "possible_doubles = possible_doubles.drop_duplicates().reset_index().drop('index', axis=1)"
      ],
      "metadata": {
        "id": "WkL2kgYooyYO"
      },
      "execution_count": 37,
      "outputs": []
    },
    {
      "cell_type": "code",
      "source": [
        "possible_doubles.head()"
      ],
      "metadata": {
        "colab": {
          "base_uri": "https://localhost:8080/",
          "height": 206
        },
        "id": "4Grz8IhNoybq",
        "outputId": "28a295f9-24f1-4cb0-a0ce-3bfb586c5e38"
      },
      "execution_count": 38,
      "outputs": [
        {
          "output_type": "execute_result",
          "data": {
            "text/plain": [
              "   hash_dist  hash_db_index_1  hash_db_index_2\n",
              "0          1            50699            66762\n",
              "1          3            66762            66790\n",
              "2          2            53729            66763\n",
              "3          3            66798            67092\n",
              "4          1            66876            66977"
            ],
            "text/html": [
              "\n",
              "  <div id=\"df-a61ce533-d603-47dd-8738-d17169b6bcf5\">\n",
              "    <div class=\"colab-df-container\">\n",
              "      <div>\n",
              "<style scoped>\n",
              "    .dataframe tbody tr th:only-of-type {\n",
              "        vertical-align: middle;\n",
              "    }\n",
              "\n",
              "    .dataframe tbody tr th {\n",
              "        vertical-align: top;\n",
              "    }\n",
              "\n",
              "    .dataframe thead th {\n",
              "        text-align: right;\n",
              "    }\n",
              "</style>\n",
              "<table border=\"1\" class=\"dataframe\">\n",
              "  <thead>\n",
              "    <tr style=\"text-align: right;\">\n",
              "      <th></th>\n",
              "      <th>hash_dist</th>\n",
              "      <th>hash_db_index_1</th>\n",
              "      <th>hash_db_index_2</th>\n",
              "    </tr>\n",
              "  </thead>\n",
              "  <tbody>\n",
              "    <tr>\n",
              "      <th>0</th>\n",
              "      <td>1</td>\n",
              "      <td>50699</td>\n",
              "      <td>66762</td>\n",
              "    </tr>\n",
              "    <tr>\n",
              "      <th>1</th>\n",
              "      <td>3</td>\n",
              "      <td>66762</td>\n",
              "      <td>66790</td>\n",
              "    </tr>\n",
              "    <tr>\n",
              "      <th>2</th>\n",
              "      <td>2</td>\n",
              "      <td>53729</td>\n",
              "      <td>66763</td>\n",
              "    </tr>\n",
              "    <tr>\n",
              "      <th>3</th>\n",
              "      <td>3</td>\n",
              "      <td>66798</td>\n",
              "      <td>67092</td>\n",
              "    </tr>\n",
              "    <tr>\n",
              "      <th>4</th>\n",
              "      <td>1</td>\n",
              "      <td>66876</td>\n",
              "      <td>66977</td>\n",
              "    </tr>\n",
              "  </tbody>\n",
              "</table>\n",
              "</div>\n",
              "      <button class=\"colab-df-convert\" onclick=\"convertToInteractive('df-a61ce533-d603-47dd-8738-d17169b6bcf5')\"\n",
              "              title=\"Convert this dataframe to an interactive table.\"\n",
              "              style=\"display:none;\">\n",
              "        \n",
              "  <svg xmlns=\"http://www.w3.org/2000/svg\" height=\"24px\"viewBox=\"0 0 24 24\"\n",
              "       width=\"24px\">\n",
              "    <path d=\"M0 0h24v24H0V0z\" fill=\"none\"/>\n",
              "    <path d=\"M18.56 5.44l.94 2.06.94-2.06 2.06-.94-2.06-.94-.94-2.06-.94 2.06-2.06.94zm-11 1L8.5 8.5l.94-2.06 2.06-.94-2.06-.94L8.5 2.5l-.94 2.06-2.06.94zm10 10l.94 2.06.94-2.06 2.06-.94-2.06-.94-.94-2.06-.94 2.06-2.06.94z\"/><path d=\"M17.41 7.96l-1.37-1.37c-.4-.4-.92-.59-1.43-.59-.52 0-1.04.2-1.43.59L10.3 9.45l-7.72 7.72c-.78.78-.78 2.05 0 2.83L4 21.41c.39.39.9.59 1.41.59.51 0 1.02-.2 1.41-.59l7.78-7.78 2.81-2.81c.8-.78.8-2.07 0-2.86zM5.41 20L4 18.59l7.72-7.72 1.47 1.35L5.41 20z\"/>\n",
              "  </svg>\n",
              "      </button>\n",
              "      \n",
              "  <style>\n",
              "    .colab-df-container {\n",
              "      display:flex;\n",
              "      flex-wrap:wrap;\n",
              "      gap: 12px;\n",
              "    }\n",
              "\n",
              "    .colab-df-convert {\n",
              "      background-color: #E8F0FE;\n",
              "      border: none;\n",
              "      border-radius: 50%;\n",
              "      cursor: pointer;\n",
              "      display: none;\n",
              "      fill: #1967D2;\n",
              "      height: 32px;\n",
              "      padding: 0 0 0 0;\n",
              "      width: 32px;\n",
              "    }\n",
              "\n",
              "    .colab-df-convert:hover {\n",
              "      background-color: #E2EBFA;\n",
              "      box-shadow: 0px 1px 2px rgba(60, 64, 67, 0.3), 0px 1px 3px 1px rgba(60, 64, 67, 0.15);\n",
              "      fill: #174EA6;\n",
              "    }\n",
              "\n",
              "    [theme=dark] .colab-df-convert {\n",
              "      background-color: #3B4455;\n",
              "      fill: #D2E3FC;\n",
              "    }\n",
              "\n",
              "    [theme=dark] .colab-df-convert:hover {\n",
              "      background-color: #434B5C;\n",
              "      box-shadow: 0px 1px 3px 1px rgba(0, 0, 0, 0.15);\n",
              "      filter: drop-shadow(0px 1px 2px rgba(0, 0, 0, 0.3));\n",
              "      fill: #FFFFFF;\n",
              "    }\n",
              "  </style>\n",
              "\n",
              "      <script>\n",
              "        const buttonEl =\n",
              "          document.querySelector('#df-a61ce533-d603-47dd-8738-d17169b6bcf5 button.colab-df-convert');\n",
              "        buttonEl.style.display =\n",
              "          google.colab.kernel.accessAllowed ? 'block' : 'none';\n",
              "\n",
              "        async function convertToInteractive(key) {\n",
              "          const element = document.querySelector('#df-a61ce533-d603-47dd-8738-d17169b6bcf5');\n",
              "          const dataTable =\n",
              "            await google.colab.kernel.invokeFunction('convertToInteractive',\n",
              "                                                     [key], {});\n",
              "          if (!dataTable) return;\n",
              "\n",
              "          const docLinkHtml = 'Like what you see? Visit the ' +\n",
              "            '<a target=\"_blank\" href=https://colab.research.google.com/notebooks/data_table.ipynb>data table notebook</a>'\n",
              "            + ' to learn more about interactive tables.';\n",
              "          element.innerHTML = '';\n",
              "          dataTable['output_type'] = 'display_data';\n",
              "          await google.colab.output.renderOutput(dataTable, element);\n",
              "          const docLink = document.createElement('div');\n",
              "          docLink.innerHTML = docLinkHtml;\n",
              "          element.appendChild(docLink);\n",
              "        }\n",
              "      </script>\n",
              "    </div>\n",
              "  </div>\n",
              "  "
            ]
          },
          "metadata": {},
          "execution_count": 38
        }
      ]
    },
    {
      "cell_type": "code",
      "source": [
        "possible_doubles.shape"
      ],
      "metadata": {
        "colab": {
          "base_uri": "https://localhost:8080/"
        },
        "id": "e1_DdKY4oyeQ",
        "outputId": "05ad8ee6-a90f-46b1-e3e3-fff9d073c472"
      },
      "execution_count": 39,
      "outputs": [
        {
          "output_type": "execute_result",
          "data": {
            "text/plain": [
              "(81, 3)"
            ]
          },
          "metadata": {},
          "execution_count": 39
        }
      ]
    },
    {
      "cell_type": "markdown",
      "source": [
        "Статистика по расстоянию"
      ],
      "metadata": {
        "id": "l-LhqD2Co47R"
      }
    },
    {
      "cell_type": "code",
      "source": [
        "possible_doubles['hash_dist'].value_counts()"
      ],
      "metadata": {
        "colab": {
          "base_uri": "https://localhost:8080/"
        },
        "id": "TE5j-zuloygb",
        "outputId": "bff3ea40-b24c-4329-8e7a-40e8ed5090e9"
      },
      "execution_count": 40,
      "outputs": [
        {
          "output_type": "execute_result",
          "data": {
            "text/plain": [
              "0    58\n",
              "3    12\n",
              "1     7\n",
              "2     4\n",
              "Name: hash_dist, dtype: int64"
            ]
          },
          "metadata": {},
          "execution_count": 40
        }
      ]
    },
    {
      "cell_type": "markdown",
      "source": [
        "Добавляем в таблицу данные об изображениях"
      ],
      "metadata": {
        "id": "3t47oamwpAD5"
      }
    },
    {
      "cell_type": "code",
      "source": [
        "possible_doubles['base_1'] = possible_doubles['hash_db_index_1'].apply(lambda x: df.iloc[x]['base'])\n",
        "possible_doubles['ID_1'] = possible_doubles['hash_db_index_1'].apply(lambda x: df.iloc[x]['ID'])\n",
        "possible_doubles['Pic_1'] = possible_doubles['hash_db_index_1'].apply(lambda x: df.iloc[x]['Pic'])\n",
        "\n",
        "possible_doubles['base_2'] = possible_doubles['hash_db_index_2'].apply(lambda x: df.iloc[x]['base'])\n",
        "possible_doubles['ID_2'] = possible_doubles['hash_db_index_2'].apply(lambda x: df.iloc[x]['ID'])\n",
        "possible_doubles['Pic_2'] = possible_doubles['hash_db_index_2'].apply(lambda x: df.iloc[x]['Pic'])\n",
        "\n",
        "possible_doubles = possible_doubles[['hash_dist', \n",
        "                                     'hash_db_index_1', 'base_1', 'ID_1', 'Pic_1', \n",
        "                                     'hash_db_index_2', 'base_2', 'ID_2', 'Pic_2', \n",
        "                                     ]]\n",
        "possible_doubles = possible_doubles.drop(['hash_db_index_1', 'hash_db_index_2'], axis=1)\n",
        "possible_doubles.head()"
      ],
      "metadata": {
        "colab": {
          "base_uri": "https://localhost:8080/",
          "height": 206
        },
        "id": "IA7_-UV5pDGq",
        "outputId": "2852c621-a425-4c34-89f7-ade62f14a06c"
      },
      "execution_count": 41,
      "outputs": [
        {
          "output_type": "execute_result",
          "data": {
            "text/plain": [
              "   hash_dist  base_1    ID_1  Pic_1  base_2    ID_2  Pic_2\n",
              "0          1       4  219139      1       5  229379      1\n",
              "1          3       5  229379      1       5  229407      1\n",
              "2          2       4  220412      1       5  229380      1\n",
              "3          3       5  229415      1       5  229709      1\n",
              "4          1       5  229493      1       5  229594      1"
            ],
            "text/html": [
              "\n",
              "  <div id=\"df-4c1a941d-0e56-448c-b567-ee6576facd8e\">\n",
              "    <div class=\"colab-df-container\">\n",
              "      <div>\n",
              "<style scoped>\n",
              "    .dataframe tbody tr th:only-of-type {\n",
              "        vertical-align: middle;\n",
              "    }\n",
              "\n",
              "    .dataframe tbody tr th {\n",
              "        vertical-align: top;\n",
              "    }\n",
              "\n",
              "    .dataframe thead th {\n",
              "        text-align: right;\n",
              "    }\n",
              "</style>\n",
              "<table border=\"1\" class=\"dataframe\">\n",
              "  <thead>\n",
              "    <tr style=\"text-align: right;\">\n",
              "      <th></th>\n",
              "      <th>hash_dist</th>\n",
              "      <th>base_1</th>\n",
              "      <th>ID_1</th>\n",
              "      <th>Pic_1</th>\n",
              "      <th>base_2</th>\n",
              "      <th>ID_2</th>\n",
              "      <th>Pic_2</th>\n",
              "    </tr>\n",
              "  </thead>\n",
              "  <tbody>\n",
              "    <tr>\n",
              "      <th>0</th>\n",
              "      <td>1</td>\n",
              "      <td>4</td>\n",
              "      <td>219139</td>\n",
              "      <td>1</td>\n",
              "      <td>5</td>\n",
              "      <td>229379</td>\n",
              "      <td>1</td>\n",
              "    </tr>\n",
              "    <tr>\n",
              "      <th>1</th>\n",
              "      <td>3</td>\n",
              "      <td>5</td>\n",
              "      <td>229379</td>\n",
              "      <td>1</td>\n",
              "      <td>5</td>\n",
              "      <td>229407</td>\n",
              "      <td>1</td>\n",
              "    </tr>\n",
              "    <tr>\n",
              "      <th>2</th>\n",
              "      <td>2</td>\n",
              "      <td>4</td>\n",
              "      <td>220412</td>\n",
              "      <td>1</td>\n",
              "      <td>5</td>\n",
              "      <td>229380</td>\n",
              "      <td>1</td>\n",
              "    </tr>\n",
              "    <tr>\n",
              "      <th>3</th>\n",
              "      <td>3</td>\n",
              "      <td>5</td>\n",
              "      <td>229415</td>\n",
              "      <td>1</td>\n",
              "      <td>5</td>\n",
              "      <td>229709</td>\n",
              "      <td>1</td>\n",
              "    </tr>\n",
              "    <tr>\n",
              "      <th>4</th>\n",
              "      <td>1</td>\n",
              "      <td>5</td>\n",
              "      <td>229493</td>\n",
              "      <td>1</td>\n",
              "      <td>5</td>\n",
              "      <td>229594</td>\n",
              "      <td>1</td>\n",
              "    </tr>\n",
              "  </tbody>\n",
              "</table>\n",
              "</div>\n",
              "      <button class=\"colab-df-convert\" onclick=\"convertToInteractive('df-4c1a941d-0e56-448c-b567-ee6576facd8e')\"\n",
              "              title=\"Convert this dataframe to an interactive table.\"\n",
              "              style=\"display:none;\">\n",
              "        \n",
              "  <svg xmlns=\"http://www.w3.org/2000/svg\" height=\"24px\"viewBox=\"0 0 24 24\"\n",
              "       width=\"24px\">\n",
              "    <path d=\"M0 0h24v24H0V0z\" fill=\"none\"/>\n",
              "    <path d=\"M18.56 5.44l.94 2.06.94-2.06 2.06-.94-2.06-.94-.94-2.06-.94 2.06-2.06.94zm-11 1L8.5 8.5l.94-2.06 2.06-.94-2.06-.94L8.5 2.5l-.94 2.06-2.06.94zm10 10l.94 2.06.94-2.06 2.06-.94-2.06-.94-.94-2.06-.94 2.06-2.06.94z\"/><path d=\"M17.41 7.96l-1.37-1.37c-.4-.4-.92-.59-1.43-.59-.52 0-1.04.2-1.43.59L10.3 9.45l-7.72 7.72c-.78.78-.78 2.05 0 2.83L4 21.41c.39.39.9.59 1.41.59.51 0 1.02-.2 1.41-.59l7.78-7.78 2.81-2.81c.8-.78.8-2.07 0-2.86zM5.41 20L4 18.59l7.72-7.72 1.47 1.35L5.41 20z\"/>\n",
              "  </svg>\n",
              "      </button>\n",
              "      \n",
              "  <style>\n",
              "    .colab-df-container {\n",
              "      display:flex;\n",
              "      flex-wrap:wrap;\n",
              "      gap: 12px;\n",
              "    }\n",
              "\n",
              "    .colab-df-convert {\n",
              "      background-color: #E8F0FE;\n",
              "      border: none;\n",
              "      border-radius: 50%;\n",
              "      cursor: pointer;\n",
              "      display: none;\n",
              "      fill: #1967D2;\n",
              "      height: 32px;\n",
              "      padding: 0 0 0 0;\n",
              "      width: 32px;\n",
              "    }\n",
              "\n",
              "    .colab-df-convert:hover {\n",
              "      background-color: #E2EBFA;\n",
              "      box-shadow: 0px 1px 2px rgba(60, 64, 67, 0.3), 0px 1px 3px 1px rgba(60, 64, 67, 0.15);\n",
              "      fill: #174EA6;\n",
              "    }\n",
              "\n",
              "    [theme=dark] .colab-df-convert {\n",
              "      background-color: #3B4455;\n",
              "      fill: #D2E3FC;\n",
              "    }\n",
              "\n",
              "    [theme=dark] .colab-df-convert:hover {\n",
              "      background-color: #434B5C;\n",
              "      box-shadow: 0px 1px 3px 1px rgba(0, 0, 0, 0.15);\n",
              "      filter: drop-shadow(0px 1px 2px rgba(0, 0, 0, 0.3));\n",
              "      fill: #FFFFFF;\n",
              "    }\n",
              "  </style>\n",
              "\n",
              "      <script>\n",
              "        const buttonEl =\n",
              "          document.querySelector('#df-4c1a941d-0e56-448c-b567-ee6576facd8e button.colab-df-convert');\n",
              "        buttonEl.style.display =\n",
              "          google.colab.kernel.accessAllowed ? 'block' : 'none';\n",
              "\n",
              "        async function convertToInteractive(key) {\n",
              "          const element = document.querySelector('#df-4c1a941d-0e56-448c-b567-ee6576facd8e');\n",
              "          const dataTable =\n",
              "            await google.colab.kernel.invokeFunction('convertToInteractive',\n",
              "                                                     [key], {});\n",
              "          if (!dataTable) return;\n",
              "\n",
              "          const docLinkHtml = 'Like what you see? Visit the ' +\n",
              "            '<a target=\"_blank\" href=https://colab.research.google.com/notebooks/data_table.ipynb>data table notebook</a>'\n",
              "            + ' to learn more about interactive tables.';\n",
              "          element.innerHTML = '';\n",
              "          dataTable['output_type'] = 'display_data';\n",
              "          await google.colab.output.renderOutput(dataTable, element);\n",
              "          const docLink = document.createElement('div');\n",
              "          docLink.innerHTML = docLinkHtml;\n",
              "          element.appendChild(docLink);\n",
              "        }\n",
              "      </script>\n",
              "    </div>\n",
              "  </div>\n",
              "  "
            ]
          },
          "metadata": {},
          "execution_count": 41
        }
      ]
    },
    {
      "cell_type": "markdown",
      "source": [
        "Статистика по базам"
      ],
      "metadata": {
        "id": "Rt-gBVS4pNis"
      }
    },
    {
      "cell_type": "code",
      "source": [
        "possible_doubles['base_1'].value_counts()"
      ],
      "metadata": {
        "colab": {
          "base_uri": "https://localhost:8080/"
        },
        "id": "P7g83uPHpPiE",
        "outputId": "d404f53c-fd06-4d28-cdee-6b3669531ec6"
      },
      "execution_count": 42,
      "outputs": [
        {
          "output_type": "execute_result",
          "data": {
            "text/plain": [
              "5    66\n",
              "4     7\n",
              "3     4\n",
              "2     4\n",
              "Name: base_1, dtype: int64"
            ]
          },
          "metadata": {},
          "execution_count": 42
        }
      ]
    },
    {
      "cell_type": "code",
      "source": [
        "possible_doubles['base_2'].value_counts()"
      ],
      "metadata": {
        "colab": {
          "base_uri": "https://localhost:8080/"
        },
        "id": "6ArngdgVpUMH",
        "outputId": "9db5488a-5e54-43d0-f1cb-993cb1653792"
      },
      "execution_count": 43,
      "outputs": [
        {
          "output_type": "execute_result",
          "data": {
            "text/plain": [
              "5    81\n",
              "Name: base_2, dtype: int64"
            ]
          },
          "metadata": {},
          "execution_count": 43
        }
      ]
    },
    {
      "cell_type": "markdown",
      "source": [
        "Добавляем ссылки на изображения"
      ],
      "metadata": {
        "id": "7D4EGivmLkv5"
      }
    },
    {
      "cell_type": "code",
      "source": [
        "possible_doubles['Pic_url_1_front'] = possible_doubles.apply(\n",
        "    lambda row: df[(df['base'] == row['base_1']) & (df['ID'] == row['ID_1']) & \n",
        "                   (df['Pic'] == 1)]['Pic_url'].iloc[0], \n",
        "                   axis=1\n",
        "    )\n",
        "possible_doubles['Pic_url_1_back'] = possible_doubles.apply(\n",
        "    lambda row: df[(df['base'] == row['base_1']) & (df['ID'] == row['ID_1']) & \n",
        "                   (df['Pic'] == 2)]['Pic_url'].iloc[0], \n",
        "    axis=1\n",
        "    )\n",
        "possible_doubles['Pic_url_2_front'] = possible_doubles.apply(\n",
        "    lambda row: df[(df['base'] == row['base_2']) & (df['ID'] == row['ID_2']) & \n",
        "                   (df['Pic'] == 1)]['Pic_url'].iloc[0], \n",
        "                   axis=1\n",
        "    )\n",
        "possible_doubles['Pic_url_2_back'] = possible_doubles.apply(\n",
        "    lambda row: df[(df['base'] == row['base_2']) & (df['ID'] == row['ID_2']) & \n",
        "                   (df['Pic'] == 2)]['Pic_url'].iloc[0], \n",
        "                   axis=1\n",
        "    )"
      ],
      "metadata": {
        "id": "xs-KVQYHLnHO"
      },
      "execution_count": 44,
      "outputs": []
    },
    {
      "cell_type": "code",
      "source": [
        "possible_doubles.isna().sum()"
      ],
      "metadata": {
        "colab": {
          "base_uri": "https://localhost:8080/"
        },
        "id": "4I9-EicGQG7F",
        "outputId": "aa8fd393-7912-4320-857f-3bbaeb4c4666"
      },
      "execution_count": 45,
      "outputs": [
        {
          "output_type": "execute_result",
          "data": {
            "text/plain": [
              "hash_dist          0\n",
              "base_1             0\n",
              "ID_1               0\n",
              "Pic_1              0\n",
              "base_2             0\n",
              "ID_2               0\n",
              "Pic_2              0\n",
              "Pic_url_1_front    0\n",
              "Pic_url_1_back     0\n",
              "Pic_url_2_front    0\n",
              "Pic_url_2_back     0\n",
              "dtype: int64"
            ]
          },
          "metadata": {},
          "execution_count": 45
        }
      ]
    },
    {
      "cell_type": "markdown",
      "source": [
        "# Проставляем статус \"Дубли\""
      ],
      "metadata": {
        "id": "HlLtI-xkt6t1"
      }
    },
    {
      "cell_type": "markdown",
      "source": [
        "Считаем дубликатами без проверки, если хотя бы одно из двух:\n",
        "* расстояние 0 (хеши совпадают полностью)\n",
        "* возможными дублями являются и лицевые, и оборотные стороны"
      ],
      "metadata": {
        "id": "TQ9MFQK2Q2cX"
      }
    },
    {
      "cell_type": "code",
      "source": [
        "possible_doubles_pics = possible_doubles.groupby(['ID_1', 'ID_2']).apply(\n",
        "    lambda x: True if x.shape[0] == 2 else False\n",
        ").reset_index(name='Pics')\n",
        "possible_doubles_pics.head()"
      ],
      "metadata": {
        "colab": {
          "base_uri": "https://localhost:8080/",
          "height": 206
        },
        "id": "J4dSLPsMuSYO",
        "outputId": "d97e0d75-c770-4061-9298-1ef3c29b5d0e"
      },
      "execution_count": 46,
      "outputs": [
        {
          "output_type": "execute_result",
          "data": {
            "text/plain": [
              "     ID_1    ID_2   Pics\n",
              "0  101256  229530  False\n",
              "1  104243  229512  False\n",
              "2  104654  229540  False\n",
              "3  104937  229716  False\n",
              "4  205343  229427  False"
            ],
            "text/html": [
              "\n",
              "  <div id=\"df-2d8386cc-b187-45ae-96a0-330ce470baf8\">\n",
              "    <div class=\"colab-df-container\">\n",
              "      <div>\n",
              "<style scoped>\n",
              "    .dataframe tbody tr th:only-of-type {\n",
              "        vertical-align: middle;\n",
              "    }\n",
              "\n",
              "    .dataframe tbody tr th {\n",
              "        vertical-align: top;\n",
              "    }\n",
              "\n",
              "    .dataframe thead th {\n",
              "        text-align: right;\n",
              "    }\n",
              "</style>\n",
              "<table border=\"1\" class=\"dataframe\">\n",
              "  <thead>\n",
              "    <tr style=\"text-align: right;\">\n",
              "      <th></th>\n",
              "      <th>ID_1</th>\n",
              "      <th>ID_2</th>\n",
              "      <th>Pics</th>\n",
              "    </tr>\n",
              "  </thead>\n",
              "  <tbody>\n",
              "    <tr>\n",
              "      <th>0</th>\n",
              "      <td>101256</td>\n",
              "      <td>229530</td>\n",
              "      <td>False</td>\n",
              "    </tr>\n",
              "    <tr>\n",
              "      <th>1</th>\n",
              "      <td>104243</td>\n",
              "      <td>229512</td>\n",
              "      <td>False</td>\n",
              "    </tr>\n",
              "    <tr>\n",
              "      <th>2</th>\n",
              "      <td>104654</td>\n",
              "      <td>229540</td>\n",
              "      <td>False</td>\n",
              "    </tr>\n",
              "    <tr>\n",
              "      <th>3</th>\n",
              "      <td>104937</td>\n",
              "      <td>229716</td>\n",
              "      <td>False</td>\n",
              "    </tr>\n",
              "    <tr>\n",
              "      <th>4</th>\n",
              "      <td>205343</td>\n",
              "      <td>229427</td>\n",
              "      <td>False</td>\n",
              "    </tr>\n",
              "  </tbody>\n",
              "</table>\n",
              "</div>\n",
              "      <button class=\"colab-df-convert\" onclick=\"convertToInteractive('df-2d8386cc-b187-45ae-96a0-330ce470baf8')\"\n",
              "              title=\"Convert this dataframe to an interactive table.\"\n",
              "              style=\"display:none;\">\n",
              "        \n",
              "  <svg xmlns=\"http://www.w3.org/2000/svg\" height=\"24px\"viewBox=\"0 0 24 24\"\n",
              "       width=\"24px\">\n",
              "    <path d=\"M0 0h24v24H0V0z\" fill=\"none\"/>\n",
              "    <path d=\"M18.56 5.44l.94 2.06.94-2.06 2.06-.94-2.06-.94-.94-2.06-.94 2.06-2.06.94zm-11 1L8.5 8.5l.94-2.06 2.06-.94-2.06-.94L8.5 2.5l-.94 2.06-2.06.94zm10 10l.94 2.06.94-2.06 2.06-.94-2.06-.94-.94-2.06-.94 2.06-2.06.94z\"/><path d=\"M17.41 7.96l-1.37-1.37c-.4-.4-.92-.59-1.43-.59-.52 0-1.04.2-1.43.59L10.3 9.45l-7.72 7.72c-.78.78-.78 2.05 0 2.83L4 21.41c.39.39.9.59 1.41.59.51 0 1.02-.2 1.41-.59l7.78-7.78 2.81-2.81c.8-.78.8-2.07 0-2.86zM5.41 20L4 18.59l7.72-7.72 1.47 1.35L5.41 20z\"/>\n",
              "  </svg>\n",
              "      </button>\n",
              "      \n",
              "  <style>\n",
              "    .colab-df-container {\n",
              "      display:flex;\n",
              "      flex-wrap:wrap;\n",
              "      gap: 12px;\n",
              "    }\n",
              "\n",
              "    .colab-df-convert {\n",
              "      background-color: #E8F0FE;\n",
              "      border: none;\n",
              "      border-radius: 50%;\n",
              "      cursor: pointer;\n",
              "      display: none;\n",
              "      fill: #1967D2;\n",
              "      height: 32px;\n",
              "      padding: 0 0 0 0;\n",
              "      width: 32px;\n",
              "    }\n",
              "\n",
              "    .colab-df-convert:hover {\n",
              "      background-color: #E2EBFA;\n",
              "      box-shadow: 0px 1px 2px rgba(60, 64, 67, 0.3), 0px 1px 3px 1px rgba(60, 64, 67, 0.15);\n",
              "      fill: #174EA6;\n",
              "    }\n",
              "\n",
              "    [theme=dark] .colab-df-convert {\n",
              "      background-color: #3B4455;\n",
              "      fill: #D2E3FC;\n",
              "    }\n",
              "\n",
              "    [theme=dark] .colab-df-convert:hover {\n",
              "      background-color: #434B5C;\n",
              "      box-shadow: 0px 1px 3px 1px rgba(0, 0, 0, 0.15);\n",
              "      filter: drop-shadow(0px 1px 2px rgba(0, 0, 0, 0.3));\n",
              "      fill: #FFFFFF;\n",
              "    }\n",
              "  </style>\n",
              "\n",
              "      <script>\n",
              "        const buttonEl =\n",
              "          document.querySelector('#df-2d8386cc-b187-45ae-96a0-330ce470baf8 button.colab-df-convert');\n",
              "        buttonEl.style.display =\n",
              "          google.colab.kernel.accessAllowed ? 'block' : 'none';\n",
              "\n",
              "        async function convertToInteractive(key) {\n",
              "          const element = document.querySelector('#df-2d8386cc-b187-45ae-96a0-330ce470baf8');\n",
              "          const dataTable =\n",
              "            await google.colab.kernel.invokeFunction('convertToInteractive',\n",
              "                                                     [key], {});\n",
              "          if (!dataTable) return;\n",
              "\n",
              "          const docLinkHtml = 'Like what you see? Visit the ' +\n",
              "            '<a target=\"_blank\" href=https://colab.research.google.com/notebooks/data_table.ipynb>data table notebook</a>'\n",
              "            + ' to learn more about interactive tables.';\n",
              "          element.innerHTML = '';\n",
              "          dataTable['output_type'] = 'display_data';\n",
              "          await google.colab.output.renderOutput(dataTable, element);\n",
              "          const docLink = document.createElement('div');\n",
              "          docLink.innerHTML = docLinkHtml;\n",
              "          element.appendChild(docLink);\n",
              "        }\n",
              "      </script>\n",
              "    </div>\n",
              "  </div>\n",
              "  "
            ]
          },
          "metadata": {},
          "execution_count": 46
        }
      ]
    },
    {
      "cell_type": "code",
      "source": [
        "possible_doubles = possible_doubles.merge(possible_doubles_pics,\n",
        "                       on=['ID_1', 'ID_2'], \n",
        "                       how='left')"
      ],
      "metadata": {
        "id": "g2tMQ83SvmOh"
      },
      "execution_count": 47,
      "outputs": []
    },
    {
      "cell_type": "code",
      "source": [
        "possible_doubles['Pics'].value_counts()"
      ],
      "metadata": {
        "colab": {
          "base_uri": "https://localhost:8080/"
        },
        "id": "HucSZA1HvZ-i",
        "outputId": "e4e9f36f-c5c7-4c39-8409-f95e59dfe1b5"
      },
      "execution_count": 48,
      "outputs": [
        {
          "output_type": "execute_result",
          "data": {
            "text/plain": [
              "True     56\n",
              "False    25\n",
              "Name: Pics, dtype: int64"
            ]
          },
          "metadata": {},
          "execution_count": 48
        }
      ]
    },
    {
      "cell_type": "code",
      "source": [
        "possible_doubles['Статус'] = possible_doubles.apply(\n",
        "    lambda row: 'Дубли' if row['hash_dist'] == 0 or row['Pics'] == True else '',\n",
        "    axis=1\n",
        ")"
      ],
      "metadata": {
        "id": "n-l3a7wYveCg"
      },
      "execution_count": 49,
      "outputs": []
    },
    {
      "cell_type": "code",
      "source": [
        "with pd.option_context('display.max_colwidth', None):\n",
        "    display(possible_doubles.head())"
      ],
      "metadata": {
        "colab": {
          "base_uri": "https://localhost:8080/",
          "height": 374
        },
        "id": "Snb_NiBQpfzj",
        "outputId": "9bbcafb6-264a-4a7d-c324-f4deb64d5eae"
      },
      "execution_count": null,
      "outputs": [
        {
          "output_type": "display_data",
          "data": {
            "text/plain": [
              "   hash_dist  base_1    ID_1  base_2    ID_2  \\\n",
              "0          0       3  207233       5  228556   \n",
              "1          0       5  228642       5  228647   \n",
              "2          0       5  228603       5  228604   \n",
              "3          0       5  228569       5  228572   \n",
              "4          0       5  228514       5  228515   \n",
              "\n",
              "                                                               Pic_url_1_front  \\\n",
              "0    https://storage.yandexcloud.net/postcards-open-sources/pugachev (155).jpg   \n",
              "1  https://storage.yandexcloud.net/postcards-open-sources/auction10 (1793).jpg   \n",
              "2  https://storage.yandexcloud.net/postcards-open-sources/auction10 (1715).jpg   \n",
              "3  https://storage.yandexcloud.net/postcards-open-sources/auction10 (1647).jpg   \n",
              "4  https://storage.yandexcloud.net/postcards-open-sources/auction10 (1537).jpg   \n",
              "\n",
              "                                                                Pic_url_1_back  \\\n",
              "0    https://storage.yandexcloud.net/postcards-open-sources/pugachev (156).jpg   \n",
              "1  https://storage.yandexcloud.net/postcards-open-sources/auction10 (1794).jpg   \n",
              "2  https://storage.yandexcloud.net/postcards-open-sources/auction10 (1716).jpg   \n",
              "3  https://storage.yandexcloud.net/postcards-open-sources/auction10 (1648).jpg   \n",
              "4  https://storage.yandexcloud.net/postcards-open-sources/auction10 (1538).jpg   \n",
              "\n",
              "                                                               Pic_url_2_front  \\\n",
              "0  https://storage.yandexcloud.net/postcards-open-sources/auction10 (1621).jpg   \n",
              "1  https://storage.yandexcloud.net/postcards-open-sources/auction10 (1803).jpg   \n",
              "2  https://storage.yandexcloud.net/postcards-open-sources/auction10 (1717).jpg   \n",
              "3  https://storage.yandexcloud.net/postcards-open-sources/auction10 (1653).jpg   \n",
              "4  https://storage.yandexcloud.net/postcards-open-sources/auction10 (1539).jpg   \n",
              "\n",
              "                                                                Pic_url_2_back  \\\n",
              "0  https://storage.yandexcloud.net/postcards-open-sources/auction10 (1622).jpg   \n",
              "1  https://storage.yandexcloud.net/postcards-open-sources/auction10 (1804).jpg   \n",
              "2  https://storage.yandexcloud.net/postcards-open-sources/auction10 (1718).jpg   \n",
              "3  https://storage.yandexcloud.net/postcards-open-sources/auction10 (1654).jpg   \n",
              "4  https://storage.yandexcloud.net/postcards-open-sources/auction10 (1540).jpg   \n",
              "\n",
              "  1 лицевая 2 лицевая 1 оборотная 2 оборотная Статус  \n",
              "0                                              Дубли  \n",
              "1                                              Дубли  \n",
              "2                                              Дубли  \n",
              "3                                              Дубли  \n",
              "4                                              Дубли  "
            ],
            "text/html": [
              "\n",
              "  <div id=\"df-fb591ee0-fd8d-40bb-b8ef-4a0b8a51c881\">\n",
              "    <div class=\"colab-df-container\">\n",
              "      <div>\n",
              "<style scoped>\n",
              "    .dataframe tbody tr th:only-of-type {\n",
              "        vertical-align: middle;\n",
              "    }\n",
              "\n",
              "    .dataframe tbody tr th {\n",
              "        vertical-align: top;\n",
              "    }\n",
              "\n",
              "    .dataframe thead th {\n",
              "        text-align: right;\n",
              "    }\n",
              "</style>\n",
              "<table border=\"1\" class=\"dataframe\">\n",
              "  <thead>\n",
              "    <tr style=\"text-align: right;\">\n",
              "      <th></th>\n",
              "      <th>hash_dist</th>\n",
              "      <th>base_1</th>\n",
              "      <th>ID_1</th>\n",
              "      <th>base_2</th>\n",
              "      <th>ID_2</th>\n",
              "      <th>Pic_url_1_front</th>\n",
              "      <th>Pic_url_1_back</th>\n",
              "      <th>Pic_url_2_front</th>\n",
              "      <th>Pic_url_2_back</th>\n",
              "      <th>1 лицевая</th>\n",
              "      <th>2 лицевая</th>\n",
              "      <th>1 оборотная</th>\n",
              "      <th>2 оборотная</th>\n",
              "      <th>Статус</th>\n",
              "    </tr>\n",
              "  </thead>\n",
              "  <tbody>\n",
              "    <tr>\n",
              "      <th>0</th>\n",
              "      <td>0</td>\n",
              "      <td>3</td>\n",
              "      <td>207233</td>\n",
              "      <td>5</td>\n",
              "      <td>228556</td>\n",
              "      <td>https://storage.yandexcloud.net/postcards-open-sources/pugachev (155).jpg</td>\n",
              "      <td>https://storage.yandexcloud.net/postcards-open-sources/pugachev (156).jpg</td>\n",
              "      <td>https://storage.yandexcloud.net/postcards-open-sources/auction10 (1621).jpg</td>\n",
              "      <td>https://storage.yandexcloud.net/postcards-open-sources/auction10 (1622).jpg</td>\n",
              "      <td></td>\n",
              "      <td></td>\n",
              "      <td></td>\n",
              "      <td></td>\n",
              "      <td>Дубли</td>\n",
              "    </tr>\n",
              "    <tr>\n",
              "      <th>1</th>\n",
              "      <td>0</td>\n",
              "      <td>5</td>\n",
              "      <td>228642</td>\n",
              "      <td>5</td>\n",
              "      <td>228647</td>\n",
              "      <td>https://storage.yandexcloud.net/postcards-open-sources/auction10 (1793).jpg</td>\n",
              "      <td>https://storage.yandexcloud.net/postcards-open-sources/auction10 (1794).jpg</td>\n",
              "      <td>https://storage.yandexcloud.net/postcards-open-sources/auction10 (1803).jpg</td>\n",
              "      <td>https://storage.yandexcloud.net/postcards-open-sources/auction10 (1804).jpg</td>\n",
              "      <td></td>\n",
              "      <td></td>\n",
              "      <td></td>\n",
              "      <td></td>\n",
              "      <td>Дубли</td>\n",
              "    </tr>\n",
              "    <tr>\n",
              "      <th>2</th>\n",
              "      <td>0</td>\n",
              "      <td>5</td>\n",
              "      <td>228603</td>\n",
              "      <td>5</td>\n",
              "      <td>228604</td>\n",
              "      <td>https://storage.yandexcloud.net/postcards-open-sources/auction10 (1715).jpg</td>\n",
              "      <td>https://storage.yandexcloud.net/postcards-open-sources/auction10 (1716).jpg</td>\n",
              "      <td>https://storage.yandexcloud.net/postcards-open-sources/auction10 (1717).jpg</td>\n",
              "      <td>https://storage.yandexcloud.net/postcards-open-sources/auction10 (1718).jpg</td>\n",
              "      <td></td>\n",
              "      <td></td>\n",
              "      <td></td>\n",
              "      <td></td>\n",
              "      <td>Дубли</td>\n",
              "    </tr>\n",
              "    <tr>\n",
              "      <th>3</th>\n",
              "      <td>0</td>\n",
              "      <td>5</td>\n",
              "      <td>228569</td>\n",
              "      <td>5</td>\n",
              "      <td>228572</td>\n",
              "      <td>https://storage.yandexcloud.net/postcards-open-sources/auction10 (1647).jpg</td>\n",
              "      <td>https://storage.yandexcloud.net/postcards-open-sources/auction10 (1648).jpg</td>\n",
              "      <td>https://storage.yandexcloud.net/postcards-open-sources/auction10 (1653).jpg</td>\n",
              "      <td>https://storage.yandexcloud.net/postcards-open-sources/auction10 (1654).jpg</td>\n",
              "      <td></td>\n",
              "      <td></td>\n",
              "      <td></td>\n",
              "      <td></td>\n",
              "      <td>Дубли</td>\n",
              "    </tr>\n",
              "    <tr>\n",
              "      <th>4</th>\n",
              "      <td>0</td>\n",
              "      <td>5</td>\n",
              "      <td>228514</td>\n",
              "      <td>5</td>\n",
              "      <td>228515</td>\n",
              "      <td>https://storage.yandexcloud.net/postcards-open-sources/auction10 (1537).jpg</td>\n",
              "      <td>https://storage.yandexcloud.net/postcards-open-sources/auction10 (1538).jpg</td>\n",
              "      <td>https://storage.yandexcloud.net/postcards-open-sources/auction10 (1539).jpg</td>\n",
              "      <td>https://storage.yandexcloud.net/postcards-open-sources/auction10 (1540).jpg</td>\n",
              "      <td></td>\n",
              "      <td></td>\n",
              "      <td></td>\n",
              "      <td></td>\n",
              "      <td>Дубли</td>\n",
              "    </tr>\n",
              "  </tbody>\n",
              "</table>\n",
              "</div>\n",
              "      <button class=\"colab-df-convert\" onclick=\"convertToInteractive('df-fb591ee0-fd8d-40bb-b8ef-4a0b8a51c881')\"\n",
              "              title=\"Convert this dataframe to an interactive table.\"\n",
              "              style=\"display:none;\">\n",
              "        \n",
              "  <svg xmlns=\"http://www.w3.org/2000/svg\" height=\"24px\"viewBox=\"0 0 24 24\"\n",
              "       width=\"24px\">\n",
              "    <path d=\"M0 0h24v24H0V0z\" fill=\"none\"/>\n",
              "    <path d=\"M18.56 5.44l.94 2.06.94-2.06 2.06-.94-2.06-.94-.94-2.06-.94 2.06-2.06.94zm-11 1L8.5 8.5l.94-2.06 2.06-.94-2.06-.94L8.5 2.5l-.94 2.06-2.06.94zm10 10l.94 2.06.94-2.06 2.06-.94-2.06-.94-.94-2.06-.94 2.06-2.06.94z\"/><path d=\"M17.41 7.96l-1.37-1.37c-.4-.4-.92-.59-1.43-.59-.52 0-1.04.2-1.43.59L10.3 9.45l-7.72 7.72c-.78.78-.78 2.05 0 2.83L4 21.41c.39.39.9.59 1.41.59.51 0 1.02-.2 1.41-.59l7.78-7.78 2.81-2.81c.8-.78.8-2.07 0-2.86zM5.41 20L4 18.59l7.72-7.72 1.47 1.35L5.41 20z\"/>\n",
              "  </svg>\n",
              "      </button>\n",
              "      \n",
              "  <style>\n",
              "    .colab-df-container {\n",
              "      display:flex;\n",
              "      flex-wrap:wrap;\n",
              "      gap: 12px;\n",
              "    }\n",
              "\n",
              "    .colab-df-convert {\n",
              "      background-color: #E8F0FE;\n",
              "      border: none;\n",
              "      border-radius: 50%;\n",
              "      cursor: pointer;\n",
              "      display: none;\n",
              "      fill: #1967D2;\n",
              "      height: 32px;\n",
              "      padding: 0 0 0 0;\n",
              "      width: 32px;\n",
              "    }\n",
              "\n",
              "    .colab-df-convert:hover {\n",
              "      background-color: #E2EBFA;\n",
              "      box-shadow: 0px 1px 2px rgba(60, 64, 67, 0.3), 0px 1px 3px 1px rgba(60, 64, 67, 0.15);\n",
              "      fill: #174EA6;\n",
              "    }\n",
              "\n",
              "    [theme=dark] .colab-df-convert {\n",
              "      background-color: #3B4455;\n",
              "      fill: #D2E3FC;\n",
              "    }\n",
              "\n",
              "    [theme=dark] .colab-df-convert:hover {\n",
              "      background-color: #434B5C;\n",
              "      box-shadow: 0px 1px 3px 1px rgba(0, 0, 0, 0.15);\n",
              "      filter: drop-shadow(0px 1px 2px rgba(0, 0, 0, 0.3));\n",
              "      fill: #FFFFFF;\n",
              "    }\n",
              "  </style>\n",
              "\n",
              "      <script>\n",
              "        const buttonEl =\n",
              "          document.querySelector('#df-fb591ee0-fd8d-40bb-b8ef-4a0b8a51c881 button.colab-df-convert');\n",
              "        buttonEl.style.display =\n",
              "          google.colab.kernel.accessAllowed ? 'block' : 'none';\n",
              "\n",
              "        async function convertToInteractive(key) {\n",
              "          const element = document.querySelector('#df-fb591ee0-fd8d-40bb-b8ef-4a0b8a51c881');\n",
              "          const dataTable =\n",
              "            await google.colab.kernel.invokeFunction('convertToInteractive',\n",
              "                                                     [key], {});\n",
              "          if (!dataTable) return;\n",
              "\n",
              "          const docLinkHtml = 'Like what you see? Visit the ' +\n",
              "            '<a target=\"_blank\" href=https://colab.research.google.com/notebooks/data_table.ipynb>data table notebook</a>'\n",
              "            + ' to learn more about interactive tables.';\n",
              "          element.innerHTML = '';\n",
              "          dataTable['output_type'] = 'display_data';\n",
              "          await google.colab.output.renderOutput(dataTable, element);\n",
              "          const docLink = document.createElement('div');\n",
              "          docLink.innerHTML = docLinkHtml;\n",
              "          element.appendChild(docLink);\n",
              "        }\n",
              "      </script>\n",
              "    </div>\n",
              "  </div>\n",
              "  "
            ]
          },
          "metadata": {}
        }
      ]
    },
    {
      "cell_type": "markdown",
      "source": [
        "Оставляем каждую пару открыток один раз"
      ],
      "metadata": {
        "id": "vqRwKvqvK4FI"
      }
    },
    {
      "cell_type": "code",
      "source": [
        "possible_doubles = possible_doubles.groupby(['ID_1', 'ID_2']).first().reset_index()"
      ],
      "metadata": {
        "id": "OKORtUniJuLE"
      },
      "execution_count": 50,
      "outputs": []
    },
    {
      "cell_type": "code",
      "source": [
        "possible_doubles['Статус'].value_counts()"
      ],
      "metadata": {
        "colab": {
          "base_uri": "https://localhost:8080/"
        },
        "id": "YqNuVJRBHwpl",
        "outputId": "7428f450-d8c3-42ae-f988-7ceaae9a67d9"
      },
      "execution_count": 51,
      "outputs": [
        {
          "output_type": "execute_result",
          "data": {
            "text/plain": [
              "Дубли    30\n",
              "         23\n",
              "Name: Статус, dtype: int64"
            ]
          },
          "metadata": {},
          "execution_count": 51
        }
      ]
    },
    {
      "cell_type": "code",
      "source": [
        "possible_doubles = possible_doubles.drop(['Pic_1', 'Pic_2', 'Pics'], axis=1)\n",
        "possible_doubles['1 лицевая'] = ''\n",
        "possible_doubles['2 лицевая'] = ''\n",
        "possible_doubles['1 оборотная'] = ''\n",
        "possible_doubles['2 оборотная'] = ''\n",
        "possible_doubles = possible_doubles[['hash_dist', 'base_1', 'ID_1', 'base_2', 'ID_2', 'Pic_url_1_front',\n",
        "       'Pic_url_1_back', 'Pic_url_2_front', 'Pic_url_2_back',\n",
        "       '1 лицевая', '2 лицевая', '1 оборотная', '2 оборотная', 'Статус']]"
      ],
      "metadata": {
        "id": "_w_Tz8WiHY42"
      },
      "execution_count": 52,
      "outputs": []
    },
    {
      "cell_type": "code",
      "source": [
        "possible_doubles.shape"
      ],
      "metadata": {
        "colab": {
          "base_uri": "https://localhost:8080/"
        },
        "id": "u8a2dPe7K8YD",
        "outputId": "38b8d65b-0782-46ba-f4a0-715ef175433a"
      },
      "execution_count": 53,
      "outputs": [
        {
          "output_type": "execute_result",
          "data": {
            "text/plain": [
              "(53, 14)"
            ]
          },
          "metadata": {},
          "execution_count": 53
        }
      ]
    },
    {
      "cell_type": "markdown",
      "source": [
        "Отсортируем по возрастанию расстояния"
      ],
      "metadata": {
        "id": "Jp5FtRKaN8BY"
      }
    },
    {
      "cell_type": "code",
      "source": [
        "possible_doubles = possible_doubles.sort_values(by='hash_dist').reset_index().drop('index', axis=1)"
      ],
      "metadata": {
        "id": "DUTry4qMN-7C"
      },
      "execution_count": 54,
      "outputs": []
    },
    {
      "cell_type": "code",
      "source": [
        "possible_doubles.to_csv('possible_doubles_base_5_5_prep.csv', index=False)"
      ],
      "metadata": {
        "id": "avdYBsK_ph5U"
      },
      "execution_count": 55,
      "outputs": []
    },
    {
      "cell_type": "markdown",
      "source": [
        "# Дубли проскочили проверку"
      ],
      "metadata": {
        "id": "BIhIjxv-Kl-t"
      }
    },
    {
      "cell_type": "markdown",
      "source": [
        "## 223952, 100565, 100598"
      ],
      "metadata": {
        "id": "8LKTmxm8KwzD"
      }
    },
    {
      "cell_type": "code",
      "source": [
        "df = pd.read_csv('hash_database_full.csv', index_col=0)\n",
        "df.head()"
      ],
      "metadata": {
        "colab": {
          "base_uri": "https://localhost:8080/",
          "height": 206
        },
        "id": "XDPFXztYMuWD",
        "outputId": "f69b0a62-bc83-4c77-87c4-324b8142c2c3"
      },
      "execution_count": null,
      "outputs": [
        {
          "output_type": "execute_result",
          "data": {
            "text/plain": [
              "   base  ID  Pic                                            Pic_url  \\\n",
              "0     1   0    1       https://forum.vgd.ru/file.php?fid=5476&key=0   \n",
              "1     1   2    1       https://forum.vgd.ru/file.php?fid=5492&key=0   \n",
              "2     1   3    1  https://forum.vgd.ru/file.php?fid=20890&key=19...   \n",
              "3     1   4    1  https://forum.vgd.ru/file.php?fid=20894&key=16...   \n",
              "4     1   5    1  https://forum.vgd.ru/file.php?fid=20895&key=90...   \n",
              "\n",
              "               hash  \n",
              "0  806969715521b059  \n",
              "1  f4d8cc0ca543d6b6  \n",
              "2  f1732b4d73511723  \n",
              "3  b292ced8b3f2f2f2  \n",
              "4  b8186ca4ae8a989a  "
            ],
            "text/html": [
              "\n",
              "  <div id=\"df-5cabdc32-e3eb-468a-8a03-a78e0236ffe1\">\n",
              "    <div class=\"colab-df-container\">\n",
              "      <div>\n",
              "<style scoped>\n",
              "    .dataframe tbody tr th:only-of-type {\n",
              "        vertical-align: middle;\n",
              "    }\n",
              "\n",
              "    .dataframe tbody tr th {\n",
              "        vertical-align: top;\n",
              "    }\n",
              "\n",
              "    .dataframe thead th {\n",
              "        text-align: right;\n",
              "    }\n",
              "</style>\n",
              "<table border=\"1\" class=\"dataframe\">\n",
              "  <thead>\n",
              "    <tr style=\"text-align: right;\">\n",
              "      <th></th>\n",
              "      <th>base</th>\n",
              "      <th>ID</th>\n",
              "      <th>Pic</th>\n",
              "      <th>Pic_url</th>\n",
              "      <th>hash</th>\n",
              "    </tr>\n",
              "  </thead>\n",
              "  <tbody>\n",
              "    <tr>\n",
              "      <th>0</th>\n",
              "      <td>1</td>\n",
              "      <td>0</td>\n",
              "      <td>1</td>\n",
              "      <td>https://forum.vgd.ru/file.php?fid=5476&amp;key=0</td>\n",
              "      <td>806969715521b059</td>\n",
              "    </tr>\n",
              "    <tr>\n",
              "      <th>1</th>\n",
              "      <td>1</td>\n",
              "      <td>2</td>\n",
              "      <td>1</td>\n",
              "      <td>https://forum.vgd.ru/file.php?fid=5492&amp;key=0</td>\n",
              "      <td>f4d8cc0ca543d6b6</td>\n",
              "    </tr>\n",
              "    <tr>\n",
              "      <th>2</th>\n",
              "      <td>1</td>\n",
              "      <td>3</td>\n",
              "      <td>1</td>\n",
              "      <td>https://forum.vgd.ru/file.php?fid=20890&amp;key=19...</td>\n",
              "      <td>f1732b4d73511723</td>\n",
              "    </tr>\n",
              "    <tr>\n",
              "      <th>3</th>\n",
              "      <td>1</td>\n",
              "      <td>4</td>\n",
              "      <td>1</td>\n",
              "      <td>https://forum.vgd.ru/file.php?fid=20894&amp;key=16...</td>\n",
              "      <td>b292ced8b3f2f2f2</td>\n",
              "    </tr>\n",
              "    <tr>\n",
              "      <th>4</th>\n",
              "      <td>1</td>\n",
              "      <td>5</td>\n",
              "      <td>1</td>\n",
              "      <td>https://forum.vgd.ru/file.php?fid=20895&amp;key=90...</td>\n",
              "      <td>b8186ca4ae8a989a</td>\n",
              "    </tr>\n",
              "  </tbody>\n",
              "</table>\n",
              "</div>\n",
              "      <button class=\"colab-df-convert\" onclick=\"convertToInteractive('df-5cabdc32-e3eb-468a-8a03-a78e0236ffe1')\"\n",
              "              title=\"Convert this dataframe to an interactive table.\"\n",
              "              style=\"display:none;\">\n",
              "        \n",
              "  <svg xmlns=\"http://www.w3.org/2000/svg\" height=\"24px\"viewBox=\"0 0 24 24\"\n",
              "       width=\"24px\">\n",
              "    <path d=\"M0 0h24v24H0V0z\" fill=\"none\"/>\n",
              "    <path d=\"M18.56 5.44l.94 2.06.94-2.06 2.06-.94-2.06-.94-.94-2.06-.94 2.06-2.06.94zm-11 1L8.5 8.5l.94-2.06 2.06-.94-2.06-.94L8.5 2.5l-.94 2.06-2.06.94zm10 10l.94 2.06.94-2.06 2.06-.94-2.06-.94-.94-2.06-.94 2.06-2.06.94z\"/><path d=\"M17.41 7.96l-1.37-1.37c-.4-.4-.92-.59-1.43-.59-.52 0-1.04.2-1.43.59L10.3 9.45l-7.72 7.72c-.78.78-.78 2.05 0 2.83L4 21.41c.39.39.9.59 1.41.59.51 0 1.02-.2 1.41-.59l7.78-7.78 2.81-2.81c.8-.78.8-2.07 0-2.86zM5.41 20L4 18.59l7.72-7.72 1.47 1.35L5.41 20z\"/>\n",
              "  </svg>\n",
              "      </button>\n",
              "      \n",
              "  <style>\n",
              "    .colab-df-container {\n",
              "      display:flex;\n",
              "      flex-wrap:wrap;\n",
              "      gap: 12px;\n",
              "    }\n",
              "\n",
              "    .colab-df-convert {\n",
              "      background-color: #E8F0FE;\n",
              "      border: none;\n",
              "      border-radius: 50%;\n",
              "      cursor: pointer;\n",
              "      display: none;\n",
              "      fill: #1967D2;\n",
              "      height: 32px;\n",
              "      padding: 0 0 0 0;\n",
              "      width: 32px;\n",
              "    }\n",
              "\n",
              "    .colab-df-convert:hover {\n",
              "      background-color: #E2EBFA;\n",
              "      box-shadow: 0px 1px 2px rgba(60, 64, 67, 0.3), 0px 1px 3px 1px rgba(60, 64, 67, 0.15);\n",
              "      fill: #174EA6;\n",
              "    }\n",
              "\n",
              "    [theme=dark] .colab-df-convert {\n",
              "      background-color: #3B4455;\n",
              "      fill: #D2E3FC;\n",
              "    }\n",
              "\n",
              "    [theme=dark] .colab-df-convert:hover {\n",
              "      background-color: #434B5C;\n",
              "      box-shadow: 0px 1px 3px 1px rgba(0, 0, 0, 0.15);\n",
              "      filter: drop-shadow(0px 1px 2px rgba(0, 0, 0, 0.3));\n",
              "      fill: #FFFFFF;\n",
              "    }\n",
              "  </style>\n",
              "\n",
              "      <script>\n",
              "        const buttonEl =\n",
              "          document.querySelector('#df-5cabdc32-e3eb-468a-8a03-a78e0236ffe1 button.colab-df-convert');\n",
              "        buttonEl.style.display =\n",
              "          google.colab.kernel.accessAllowed ? 'block' : 'none';\n",
              "\n",
              "        async function convertToInteractive(key) {\n",
              "          const element = document.querySelector('#df-5cabdc32-e3eb-468a-8a03-a78e0236ffe1');\n",
              "          const dataTable =\n",
              "            await google.colab.kernel.invokeFunction('convertToInteractive',\n",
              "                                                     [key], {});\n",
              "          if (!dataTable) return;\n",
              "\n",
              "          const docLinkHtml = 'Like what you see? Visit the ' +\n",
              "            '<a target=\"_blank\" href=https://colab.research.google.com/notebooks/data_table.ipynb>data table notebook</a>'\n",
              "            + ' to learn more about interactive tables.';\n",
              "          element.innerHTML = '';\n",
              "          dataTable['output_type'] = 'display_data';\n",
              "          await google.colab.output.renderOutput(dataTable, element);\n",
              "          const docLink = document.createElement('div');\n",
              "          docLink.innerHTML = docLinkHtml;\n",
              "          element.appendChild(docLink);\n",
              "        }\n",
              "      </script>\n",
              "    </div>\n",
              "  </div>\n",
              "  "
            ]
          },
          "metadata": {},
          "execution_count": 24
        }
      ]
    },
    {
      "cell_type": "code",
      "source": [
        "df.shape"
      ],
      "metadata": {
        "colab": {
          "base_uri": "https://localhost:8080/"
        },
        "id": "djL1YBA9M1Ol",
        "outputId": "91c23d1e-6caf-43ce-9355-25070c84f9e2"
      },
      "execution_count": null,
      "outputs": [
        {
          "output_type": "execute_result",
          "data": {
            "text/plain": [
              "(64960, 5)"
            ]
          },
          "metadata": {},
          "execution_count": 25
        }
      ]
    },
    {
      "cell_type": "code",
      "source": [
        "hashes_223952 = df[df['ID'] == 223952]['hash'].to_list()\n",
        "print(hashes_223952)\n",
        "hashes_223952 = [imagehash.hex_to_hash(v) for v in hashes_223952]"
      ],
      "metadata": {
        "colab": {
          "base_uri": "https://localhost:8080/"
        },
        "id": "TCeBqNh7KqBT",
        "outputId": "94710767-5c06-4408-836d-e7dcfd6142dc"
      },
      "execution_count": null,
      "outputs": [
        {
          "output_type": "stream",
          "name": "stdout",
          "text": [
            "['66e6b282a9e151e1', 'f0b8b8b2b2f2d2d2']\n"
          ]
        }
      ]
    },
    {
      "cell_type": "code",
      "source": [
        "hashes_100565 = df[df['ID'] == 100565]['hash'].to_list()\n",
        "print(hashes_100565)\n",
        "hashes_100565 = [imagehash.hex_to_hash(v) for v in hashes_100565]"
      ],
      "metadata": {
        "colab": {
          "base_uri": "https://localhost:8080/"
        },
        "id": "ynZ8eEw2LVMj",
        "outputId": "3e72d9bf-a77b-4c72-b1db-ab0d8971822f"
      },
      "execution_count": null,
      "outputs": [
        {
          "output_type": "stream",
          "name": "stdout",
          "text": [
            "['66e0b2ca0968d0d1', 'b1b9b9b2b2f2d2d2']\n"
          ]
        }
      ]
    },
    {
      "cell_type": "code",
      "source": [
        "hashes_100598 = df[df['ID'] == 100598]['hash'].to_list()\n",
        "print(hashes_100598)\n",
        "hashes_100598 = [imagehash.hex_to_hash(v) for v in hashes_100598]"
      ],
      "metadata": {
        "colab": {
          "base_uri": "https://localhost:8080/"
        },
        "id": "aOgaRv4UMV7s",
        "outputId": "8559de03-68a6-4971-d786-481ba49b98b6"
      },
      "execution_count": null,
      "outputs": [
        {
          "output_type": "stream",
          "name": "stdout",
          "text": [
            "['66c0b2cb0960d061', 'b0b999b232b29292']\n"
          ]
        }
      ]
    },
    {
      "cell_type": "code",
      "source": [
        "print(f\"\"\"\n",
        "Разница хешей\n",
        "100565 и 100598: лицевая {hashes_100565[0] - hashes_100598[0]}\n",
        "                 оборотная {hashes_100565[1] - hashes_100598[1]}\n",
        "223952 и 100565: лицевая {hashes_223952[0] - hashes_100565[0]} \n",
        "                 оборотная {hashes_223952[1] - hashes_100565[1]}\n",
        "223952 и 100598: лицевая {hashes_223952[0] - hashes_100598[0]}\n",
        "                 оборотная {hashes_223952[1] - hashes_100598[1]}\n",
        "\"\"\")"
      ],
      "metadata": {
        "colab": {
          "base_uri": "https://localhost:8080/"
        },
        "id": "Jwo88ieUNmT2",
        "outputId": "aa14d28c-511b-4454-d3d5-9c12a2c918e5"
      },
      "execution_count": null,
      "outputs": [
        {
          "output_type": "stream",
          "name": "stdout",
          "text": [
            "\n",
            "Разница хешей\n",
            "100565 и 100598: лицевая 6\n",
            "                 оборотная 6\n",
            "223952 и 100565: лицевая 13 \n",
            "                 оборотная 4\n",
            "223952 и 100598: лицевая 13\n",
            "                 оборотная 8\n",
            "\n"
          ]
        }
      ]
    },
    {
      "cell_type": "markdown",
      "source": [
        "## 223857 и 100634"
      ],
      "metadata": {
        "id": "VKrjXX7_OR_Z"
      }
    },
    {
      "cell_type": "code",
      "source": [
        "hashes_223857 = df[df['ID'] == 223857]['hash'].to_list()\n",
        "print(hashes_223857)\n",
        "hashes_223857 = [imagehash.hex_to_hash(v) for v in hashes_223857]"
      ],
      "metadata": {
        "colab": {
          "base_uri": "https://localhost:8080/"
        },
        "outputId": "a4d4c95c-3951-408c-f921-b40ce71c5c3c",
        "id": "lI-xUmMaOW79"
      },
      "execution_count": null,
      "outputs": [
        {
          "output_type": "stream",
          "name": "stdout",
          "text": [
            "['4e8e83878181d086', 'b8f2f2aaaaaab282']\n"
          ]
        }
      ]
    },
    {
      "cell_type": "code",
      "source": [
        "hashes_100634 = df[df['ID'] == 100634]['hash'].to_list()\n",
        "print(hashes_100634)\n",
        "hashes_100634 = [imagehash.hex_to_hash(v) for v in hashes_100634]"
      ],
      "metadata": {
        "colab": {
          "base_uri": "https://localhost:8080/"
        },
        "outputId": "96961a8e-d903-4a84-dd30-dc9baaf7e783",
        "id": "NoVz3PF9OW7-"
      },
      "execution_count": null,
      "outputs": [
        {
          "output_type": "stream",
          "name": "stdout",
          "text": [
            "['4f87838281009185', 'd6537becaaaa8892']\n"
          ]
        }
      ]
    },
    {
      "cell_type": "code",
      "source": [
        "print(f\"\"\"\n",
        "Разница хешей\n",
        "223857 и 100634: лицевая {hashes_223857[0] - hashes_100634[0]}\n",
        "                 оборотная {hashes_223857[1] - hashes_100634[1]}\n",
        "\"\"\")"
      ],
      "metadata": {
        "colab": {
          "base_uri": "https://localhost:8080/"
        },
        "id": "qce8PLvLOReQ",
        "outputId": "905a3bd3-4dd3-40bf-d3fc-cf5853f28a1c"
      },
      "execution_count": null,
      "outputs": [
        {
          "output_type": "stream",
          "name": "stdout",
          "text": [
            "\n",
            "Разница хешей\n",
            "223857 и 100634: лицевая 11\n",
            "                 оборотная 19\n",
            "\n"
          ]
        }
      ]
    },
    {
      "cell_type": "markdown",
      "source": [
        "## 223730 и 100952"
      ],
      "metadata": {
        "id": "1K7V69ZlOn5W"
      }
    },
    {
      "cell_type": "code",
      "source": [
        "hashes_223730 = df[df['ID'] == 223730]['hash'].to_list()\n",
        "print(hashes_223730)\n",
        "hashes_223730 = [imagehash.hex_to_hash(v) for v in hashes_223730]"
      ],
      "metadata": {
        "colab": {
          "base_uri": "https://localhost:8080/"
        },
        "outputId": "eafe7f76-0c74-445b-e329-819644f8a635",
        "id": "qY0sKj0jOn5X"
      },
      "execution_count": null,
      "outputs": [
        {
          "output_type": "stream",
          "name": "stdout",
          "text": [
            "['dca2b33232737666', 'a288b0b4e8a890f4']\n"
          ]
        }
      ]
    },
    {
      "cell_type": "code",
      "source": [
        "hashes_100952 = df[df['ID'] == 100952]['hash'].to_list()\n",
        "print(hashes_100952)\n",
        "hashes_100952 = [imagehash.hex_to_hash(v) for v in hashes_100952]"
      ],
      "metadata": {
        "colab": {
          "base_uri": "https://localhost:8080/"
        },
        "outputId": "37d54210-ff50-40b4-f7d3-03c0282266b2",
        "id": "wDFZWhiXOn5Y"
      },
      "execution_count": null,
      "outputs": [
        {
          "output_type": "stream",
          "name": "stdout",
          "text": [
            "['d46131336b737367', '8080302448094915']\n"
          ]
        }
      ]
    },
    {
      "cell_type": "code",
      "source": [
        "print(f\"\"\"\n",
        "Разница хешей\n",
        "223730 и 100952: лицевая {hashes_223730[0] - hashes_100952[0]}\n",
        "                 оборотная {hashes_223730[1] - hashes_100952[1]}\n",
        "\"\"\")"
      ],
      "metadata": {
        "colab": {
          "base_uri": "https://localhost:8080/"
        },
        "outputId": "c132c826-f234-4085-db41-c69e7fce3633",
        "id": "WBPckXbjOn5Y"
      },
      "execution_count": null,
      "outputs": [
        {
          "output_type": "stream",
          "name": "stdout",
          "text": [
            "\n",
            "Разница хешей\n",
            "223730 и 100952: лицевая 15\n",
            "                 оборотная 20\n",
            "\n"
          ]
        }
      ]
    },
    {
      "cell_type": "markdown",
      "source": [
        "## flying_ship_1"
      ],
      "metadata": {
        "id": "1nnopzmEYWKJ"
      }
    },
    {
      "cell_type": "code",
      "source": [
        "df = pd.read_csv('/content/delcampe_flying_ship_1.csv', index_col=0)\n",
        "with pd.option_context('display.max_colwidth', None):\n",
        "    display(df.head())"
      ],
      "metadata": {
        "colab": {
          "base_uri": "https://localhost:8080/",
          "height": 337
        },
        "id": "PfcJ2idwYraC",
        "outputId": "24ab692e-e562-47d2-804b-8c3c046c6c3a"
      },
      "execution_count": null,
      "outputs": [
        {
          "output_type": "display_data",
          "data": {
            "text/plain": [
              "                         ID  \\\n",
              "0  delcampe-flying_ship_1-0   \n",
              "1  delcampe-flying_ship_1-1   \n",
              "2  delcampe-flying_ship_1-2   \n",
              "3  delcampe-flying_ship_1-3   \n",
              "4  delcampe-flying_ship_1-4   \n",
              "\n",
              "                                                                                                                                                                                    url  \n",
              "0  https://delcampe.net/en_GB/collectables/postcards/congo-kinshasa-ex-zaire/belgian-congo-other/antique-postcard-1909s-africa-belgian-congo-missions-nun-with-children-1711036483.html  \n",
              "1                             https://delcampe.net/en_GB/collectables/postcards/madagascar/antique-postcard-1910s-africa-madagascar-some-lepers-from-ambohidratrimo-nun-1711036471.html  \n",
              "2               https://delcampe.net/en_GB/collectables/postcards/russia/tsarist-russia-postcard-1902-elizabeth-boehm-bem-writer-tolstoy-yasnaya-polyana-rural-children-1708590526.html  \n",
              "3         https://delcampe.net/en_GB/collectables/postcards/red-cross/rare-tsarist-russia-postcard-1914-artist-signed-bek-marmarcheva-red-cross-sister-of-mercy-nun-wwi-1708589620.html  \n",
              "4                            https://delcampe.net/en_GB/collectables/postcards/red-cross/rare-tsarist-russian-postcard-1915-by-makovsky-sister-of-mercy-white-angel-wwi-1708588687.html  "
            ],
            "text/html": [
              "\n",
              "  <div id=\"df-53c23534-1c50-4eb7-9be2-35f71b22dea6\">\n",
              "    <div class=\"colab-df-container\">\n",
              "      <div>\n",
              "<style scoped>\n",
              "    .dataframe tbody tr th:only-of-type {\n",
              "        vertical-align: middle;\n",
              "    }\n",
              "\n",
              "    .dataframe tbody tr th {\n",
              "        vertical-align: top;\n",
              "    }\n",
              "\n",
              "    .dataframe thead th {\n",
              "        text-align: right;\n",
              "    }\n",
              "</style>\n",
              "<table border=\"1\" class=\"dataframe\">\n",
              "  <thead>\n",
              "    <tr style=\"text-align: right;\">\n",
              "      <th></th>\n",
              "      <th>ID</th>\n",
              "      <th>url</th>\n",
              "    </tr>\n",
              "  </thead>\n",
              "  <tbody>\n",
              "    <tr>\n",
              "      <th>0</th>\n",
              "      <td>delcampe-flying_ship_1-0</td>\n",
              "      <td>https://delcampe.net/en_GB/collectables/postcards/congo-kinshasa-ex-zaire/belgian-congo-other/antique-postcard-1909s-africa-belgian-congo-missions-nun-with-children-1711036483.html</td>\n",
              "    </tr>\n",
              "    <tr>\n",
              "      <th>1</th>\n",
              "      <td>delcampe-flying_ship_1-1</td>\n",
              "      <td>https://delcampe.net/en_GB/collectables/postcards/madagascar/antique-postcard-1910s-africa-madagascar-some-lepers-from-ambohidratrimo-nun-1711036471.html</td>\n",
              "    </tr>\n",
              "    <tr>\n",
              "      <th>2</th>\n",
              "      <td>delcampe-flying_ship_1-2</td>\n",
              "      <td>https://delcampe.net/en_GB/collectables/postcards/russia/tsarist-russia-postcard-1902-elizabeth-boehm-bem-writer-tolstoy-yasnaya-polyana-rural-children-1708590526.html</td>\n",
              "    </tr>\n",
              "    <tr>\n",
              "      <th>3</th>\n",
              "      <td>delcampe-flying_ship_1-3</td>\n",
              "      <td>https://delcampe.net/en_GB/collectables/postcards/red-cross/rare-tsarist-russia-postcard-1914-artist-signed-bek-marmarcheva-red-cross-sister-of-mercy-nun-wwi-1708589620.html</td>\n",
              "    </tr>\n",
              "    <tr>\n",
              "      <th>4</th>\n",
              "      <td>delcampe-flying_ship_1-4</td>\n",
              "      <td>https://delcampe.net/en_GB/collectables/postcards/red-cross/rare-tsarist-russian-postcard-1915-by-makovsky-sister-of-mercy-white-angel-wwi-1708588687.html</td>\n",
              "    </tr>\n",
              "  </tbody>\n",
              "</table>\n",
              "</div>\n",
              "      <button class=\"colab-df-convert\" onclick=\"convertToInteractive('df-53c23534-1c50-4eb7-9be2-35f71b22dea6')\"\n",
              "              title=\"Convert this dataframe to an interactive table.\"\n",
              "              style=\"display:none;\">\n",
              "        \n",
              "  <svg xmlns=\"http://www.w3.org/2000/svg\" height=\"24px\"viewBox=\"0 0 24 24\"\n",
              "       width=\"24px\">\n",
              "    <path d=\"M0 0h24v24H0V0z\" fill=\"none\"/>\n",
              "    <path d=\"M18.56 5.44l.94 2.06.94-2.06 2.06-.94-2.06-.94-.94-2.06-.94 2.06-2.06.94zm-11 1L8.5 8.5l.94-2.06 2.06-.94-2.06-.94L8.5 2.5l-.94 2.06-2.06.94zm10 10l.94 2.06.94-2.06 2.06-.94-2.06-.94-.94-2.06-.94 2.06-2.06.94z\"/><path d=\"M17.41 7.96l-1.37-1.37c-.4-.4-.92-.59-1.43-.59-.52 0-1.04.2-1.43.59L10.3 9.45l-7.72 7.72c-.78.78-.78 2.05 0 2.83L4 21.41c.39.39.9.59 1.41.59.51 0 1.02-.2 1.41-.59l7.78-7.78 2.81-2.81c.8-.78.8-2.07 0-2.86zM5.41 20L4 18.59l7.72-7.72 1.47 1.35L5.41 20z\"/>\n",
              "  </svg>\n",
              "      </button>\n",
              "      \n",
              "  <style>\n",
              "    .colab-df-container {\n",
              "      display:flex;\n",
              "      flex-wrap:wrap;\n",
              "      gap: 12px;\n",
              "    }\n",
              "\n",
              "    .colab-df-convert {\n",
              "      background-color: #E8F0FE;\n",
              "      border: none;\n",
              "      border-radius: 50%;\n",
              "      cursor: pointer;\n",
              "      display: none;\n",
              "      fill: #1967D2;\n",
              "      height: 32px;\n",
              "      padding: 0 0 0 0;\n",
              "      width: 32px;\n",
              "    }\n",
              "\n",
              "    .colab-df-convert:hover {\n",
              "      background-color: #E2EBFA;\n",
              "      box-shadow: 0px 1px 2px rgba(60, 64, 67, 0.3), 0px 1px 3px 1px rgba(60, 64, 67, 0.15);\n",
              "      fill: #174EA6;\n",
              "    }\n",
              "\n",
              "    [theme=dark] .colab-df-convert {\n",
              "      background-color: #3B4455;\n",
              "      fill: #D2E3FC;\n",
              "    }\n",
              "\n",
              "    [theme=dark] .colab-df-convert:hover {\n",
              "      background-color: #434B5C;\n",
              "      box-shadow: 0px 1px 3px 1px rgba(0, 0, 0, 0.15);\n",
              "      filter: drop-shadow(0px 1px 2px rgba(0, 0, 0, 0.3));\n",
              "      fill: #FFFFFF;\n",
              "    }\n",
              "  </style>\n",
              "\n",
              "      <script>\n",
              "        const buttonEl =\n",
              "          document.querySelector('#df-53c23534-1c50-4eb7-9be2-35f71b22dea6 button.colab-df-convert');\n",
              "        buttonEl.style.display =\n",
              "          google.colab.kernel.accessAllowed ? 'block' : 'none';\n",
              "\n",
              "        async function convertToInteractive(key) {\n",
              "          const element = document.querySelector('#df-53c23534-1c50-4eb7-9be2-35f71b22dea6');\n",
              "          const dataTable =\n",
              "            await google.colab.kernel.invokeFunction('convertToInteractive',\n",
              "                                                     [key], {});\n",
              "          if (!dataTable) return;\n",
              "\n",
              "          const docLinkHtml = 'Like what you see? Visit the ' +\n",
              "            '<a target=\"_blank\" href=https://colab.research.google.com/notebooks/data_table.ipynb>data table notebook</a>'\n",
              "            + ' to learn more about interactive tables.';\n",
              "          element.innerHTML = '';\n",
              "          dataTable['output_type'] = 'display_data';\n",
              "          await google.colab.output.renderOutput(dataTable, element);\n",
              "          const docLink = document.createElement('div');\n",
              "          docLink.innerHTML = docLinkHtml;\n",
              "          element.appendChild(docLink);\n",
              "        }\n",
              "      </script>\n",
              "    </div>\n",
              "  </div>\n",
              "  "
            ]
          },
          "metadata": {}
        }
      ]
    },
    {
      "cell_type": "code",
      "source": [
        "df.shape"
      ],
      "metadata": {
        "colab": {
          "base_uri": "https://localhost:8080/"
        },
        "id": "LZc85t3ZZVH6",
        "outputId": "fd565182-a6d5-40df-9d7e-9ec6136c7d53"
      },
      "execution_count": null,
      "outputs": [
        {
          "output_type": "execute_result",
          "data": {
            "text/plain": [
              "(9600, 2)"
            ]
          },
          "metadata": {},
          "execution_count": 3
        }
      ]
    },
    {
      "cell_type": "code",
      "source": [
        "df['url_suffix'] = df['url'].apply(lambda x: x.split('/')[-1].replace('.html', ''))\n",
        "df['lot_name'] = df['url_suffix'].apply(lambda x: '-'.join(x.split('-')[:-1]))\n",
        "df['lot_number'] = df['url_suffix'].apply(lambda x: x.split('-')[-1])\n",
        "with pd.option_context('display.max_colwidth', None):\n",
        "    display(df.head())"
      ],
      "metadata": {
        "colab": {
          "base_uri": "https://localhost:8080/",
          "height": 912
        },
        "id": "VnJdhd25ZWzo",
        "outputId": "1a5a1738-2e51-48d2-a0ae-c5dcf03a5a5c"
      },
      "execution_count": null,
      "outputs": [
        {
          "output_type": "display_data",
          "data": {
            "text/plain": [
              "                         ID  \\\n",
              "0  delcampe-flying_ship_1-0   \n",
              "1  delcampe-flying_ship_1-1   \n",
              "2  delcampe-flying_ship_1-2   \n",
              "3  delcampe-flying_ship_1-3   \n",
              "4  delcampe-flying_ship_1-4   \n",
              "\n",
              "                                                                                                                                                                                    url  \\\n",
              "0  https://delcampe.net/en_GB/collectables/postcards/congo-kinshasa-ex-zaire/belgian-congo-other/antique-postcard-1909s-africa-belgian-congo-missions-nun-with-children-1711036483.html   \n",
              "1                             https://delcampe.net/en_GB/collectables/postcards/madagascar/antique-postcard-1910s-africa-madagascar-some-lepers-from-ambohidratrimo-nun-1711036471.html   \n",
              "2               https://delcampe.net/en_GB/collectables/postcards/russia/tsarist-russia-postcard-1902-elizabeth-boehm-bem-writer-tolstoy-yasnaya-polyana-rural-children-1708590526.html   \n",
              "3         https://delcampe.net/en_GB/collectables/postcards/red-cross/rare-tsarist-russia-postcard-1914-artist-signed-bek-marmarcheva-red-cross-sister-of-mercy-nun-wwi-1708589620.html   \n",
              "4                            https://delcampe.net/en_GB/collectables/postcards/red-cross/rare-tsarist-russian-postcard-1915-by-makovsky-sister-of-mercy-white-angel-wwi-1708588687.html   \n",
              "\n",
              "                                                                                            lot_name  \\\n",
              "0                             antique-postcard-1909s-africa-belgian-congo-missions-nun-with-children   \n",
              "1                       antique-postcard-1910s-africa-madagascar-some-lepers-from-ambohidratrimo-nun   \n",
              "2     tsarist-russia-postcard-1902-elizabeth-boehm-bem-writer-tolstoy-yasnaya-polyana-rural-children   \n",
              "3  rare-tsarist-russia-postcard-1914-artist-signed-bek-marmarcheva-red-cross-sister-of-mercy-nun-wwi   \n",
              "4                     rare-tsarist-russian-postcard-1915-by-makovsky-sister-of-mercy-white-angel-wwi   \n",
              "\n",
              "                                                                                                     url_suffix  \\\n",
              "0                             antique-postcard-1909s-africa-belgian-congo-missions-nun-with-children-1711036483   \n",
              "1                       antique-postcard-1910s-africa-madagascar-some-lepers-from-ambohidratrimo-nun-1711036471   \n",
              "2     tsarist-russia-postcard-1902-elizabeth-boehm-bem-writer-tolstoy-yasnaya-polyana-rural-children-1708590526   \n",
              "3  rare-tsarist-russia-postcard-1914-artist-signed-bek-marmarcheva-red-cross-sister-of-mercy-nun-wwi-1708589620   \n",
              "4                     rare-tsarist-russian-postcard-1915-by-makovsky-sister-of-mercy-white-angel-wwi-1708588687   \n",
              "\n",
              "   lot_number  \n",
              "0  1711036483  \n",
              "1  1711036471  \n",
              "2  1708590526  \n",
              "3  1708589620  \n",
              "4  1708588687  "
            ],
            "text/html": [
              "\n",
              "  <div id=\"df-6a00e8fb-b692-4a53-b622-eb06011f022d\">\n",
              "    <div class=\"colab-df-container\">\n",
              "      <div>\n",
              "<style scoped>\n",
              "    .dataframe tbody tr th:only-of-type {\n",
              "        vertical-align: middle;\n",
              "    }\n",
              "\n",
              "    .dataframe tbody tr th {\n",
              "        vertical-align: top;\n",
              "    }\n",
              "\n",
              "    .dataframe thead th {\n",
              "        text-align: right;\n",
              "    }\n",
              "</style>\n",
              "<table border=\"1\" class=\"dataframe\">\n",
              "  <thead>\n",
              "    <tr style=\"text-align: right;\">\n",
              "      <th></th>\n",
              "      <th>ID</th>\n",
              "      <th>url</th>\n",
              "      <th>lot_name</th>\n",
              "      <th>url_suffix</th>\n",
              "      <th>lot_number</th>\n",
              "    </tr>\n",
              "  </thead>\n",
              "  <tbody>\n",
              "    <tr>\n",
              "      <th>0</th>\n",
              "      <td>delcampe-flying_ship_1-0</td>\n",
              "      <td>https://delcampe.net/en_GB/collectables/postcards/congo-kinshasa-ex-zaire/belgian-congo-other/antique-postcard-1909s-africa-belgian-congo-missions-nun-with-children-1711036483.html</td>\n",
              "      <td>antique-postcard-1909s-africa-belgian-congo-missions-nun-with-children</td>\n",
              "      <td>antique-postcard-1909s-africa-belgian-congo-missions-nun-with-children-1711036483</td>\n",
              "      <td>1711036483</td>\n",
              "    </tr>\n",
              "    <tr>\n",
              "      <th>1</th>\n",
              "      <td>delcampe-flying_ship_1-1</td>\n",
              "      <td>https://delcampe.net/en_GB/collectables/postcards/madagascar/antique-postcard-1910s-africa-madagascar-some-lepers-from-ambohidratrimo-nun-1711036471.html</td>\n",
              "      <td>antique-postcard-1910s-africa-madagascar-some-lepers-from-ambohidratrimo-nun</td>\n",
              "      <td>antique-postcard-1910s-africa-madagascar-some-lepers-from-ambohidratrimo-nun-1711036471</td>\n",
              "      <td>1711036471</td>\n",
              "    </tr>\n",
              "    <tr>\n",
              "      <th>2</th>\n",
              "      <td>delcampe-flying_ship_1-2</td>\n",
              "      <td>https://delcampe.net/en_GB/collectables/postcards/russia/tsarist-russia-postcard-1902-elizabeth-boehm-bem-writer-tolstoy-yasnaya-polyana-rural-children-1708590526.html</td>\n",
              "      <td>tsarist-russia-postcard-1902-elizabeth-boehm-bem-writer-tolstoy-yasnaya-polyana-rural-children</td>\n",
              "      <td>tsarist-russia-postcard-1902-elizabeth-boehm-bem-writer-tolstoy-yasnaya-polyana-rural-children-1708590526</td>\n",
              "      <td>1708590526</td>\n",
              "    </tr>\n",
              "    <tr>\n",
              "      <th>3</th>\n",
              "      <td>delcampe-flying_ship_1-3</td>\n",
              "      <td>https://delcampe.net/en_GB/collectables/postcards/red-cross/rare-tsarist-russia-postcard-1914-artist-signed-bek-marmarcheva-red-cross-sister-of-mercy-nun-wwi-1708589620.html</td>\n",
              "      <td>rare-tsarist-russia-postcard-1914-artist-signed-bek-marmarcheva-red-cross-sister-of-mercy-nun-wwi</td>\n",
              "      <td>rare-tsarist-russia-postcard-1914-artist-signed-bek-marmarcheva-red-cross-sister-of-mercy-nun-wwi-1708589620</td>\n",
              "      <td>1708589620</td>\n",
              "    </tr>\n",
              "    <tr>\n",
              "      <th>4</th>\n",
              "      <td>delcampe-flying_ship_1-4</td>\n",
              "      <td>https://delcampe.net/en_GB/collectables/postcards/red-cross/rare-tsarist-russian-postcard-1915-by-makovsky-sister-of-mercy-white-angel-wwi-1708588687.html</td>\n",
              "      <td>rare-tsarist-russian-postcard-1915-by-makovsky-sister-of-mercy-white-angel-wwi</td>\n",
              "      <td>rare-tsarist-russian-postcard-1915-by-makovsky-sister-of-mercy-white-angel-wwi-1708588687</td>\n",
              "      <td>1708588687</td>\n",
              "    </tr>\n",
              "  </tbody>\n",
              "</table>\n",
              "</div>\n",
              "      <button class=\"colab-df-convert\" onclick=\"convertToInteractive('df-6a00e8fb-b692-4a53-b622-eb06011f022d')\"\n",
              "              title=\"Convert this dataframe to an interactive table.\"\n",
              "              style=\"display:none;\">\n",
              "        \n",
              "  <svg xmlns=\"http://www.w3.org/2000/svg\" height=\"24px\"viewBox=\"0 0 24 24\"\n",
              "       width=\"24px\">\n",
              "    <path d=\"M0 0h24v24H0V0z\" fill=\"none\"/>\n",
              "    <path d=\"M18.56 5.44l.94 2.06.94-2.06 2.06-.94-2.06-.94-.94-2.06-.94 2.06-2.06.94zm-11 1L8.5 8.5l.94-2.06 2.06-.94-2.06-.94L8.5 2.5l-.94 2.06-2.06.94zm10 10l.94 2.06.94-2.06 2.06-.94-2.06-.94-.94-2.06-.94 2.06-2.06.94z\"/><path d=\"M17.41 7.96l-1.37-1.37c-.4-.4-.92-.59-1.43-.59-.52 0-1.04.2-1.43.59L10.3 9.45l-7.72 7.72c-.78.78-.78 2.05 0 2.83L4 21.41c.39.39.9.59 1.41.59.51 0 1.02-.2 1.41-.59l7.78-7.78 2.81-2.81c.8-.78.8-2.07 0-2.86zM5.41 20L4 18.59l7.72-7.72 1.47 1.35L5.41 20z\"/>\n",
              "  </svg>\n",
              "      </button>\n",
              "      \n",
              "  <style>\n",
              "    .colab-df-container {\n",
              "      display:flex;\n",
              "      flex-wrap:wrap;\n",
              "      gap: 12px;\n",
              "    }\n",
              "\n",
              "    .colab-df-convert {\n",
              "      background-color: #E8F0FE;\n",
              "      border: none;\n",
              "      border-radius: 50%;\n",
              "      cursor: pointer;\n",
              "      display: none;\n",
              "      fill: #1967D2;\n",
              "      height: 32px;\n",
              "      padding: 0 0 0 0;\n",
              "      width: 32px;\n",
              "    }\n",
              "\n",
              "    .colab-df-convert:hover {\n",
              "      background-color: #E2EBFA;\n",
              "      box-shadow: 0px 1px 2px rgba(60, 64, 67, 0.3), 0px 1px 3px 1px rgba(60, 64, 67, 0.15);\n",
              "      fill: #174EA6;\n",
              "    }\n",
              "\n",
              "    [theme=dark] .colab-df-convert {\n",
              "      background-color: #3B4455;\n",
              "      fill: #D2E3FC;\n",
              "    }\n",
              "\n",
              "    [theme=dark] .colab-df-convert:hover {\n",
              "      background-color: #434B5C;\n",
              "      box-shadow: 0px 1px 3px 1px rgba(0, 0, 0, 0.15);\n",
              "      filter: drop-shadow(0px 1px 2px rgba(0, 0, 0, 0.3));\n",
              "      fill: #FFFFFF;\n",
              "    }\n",
              "  </style>\n",
              "\n",
              "      <script>\n",
              "        const buttonEl =\n",
              "          document.querySelector('#df-6a00e8fb-b692-4a53-b622-eb06011f022d button.colab-df-convert');\n",
              "        buttonEl.style.display =\n",
              "          google.colab.kernel.accessAllowed ? 'block' : 'none';\n",
              "\n",
              "        async function convertToInteractive(key) {\n",
              "          const element = document.querySelector('#df-6a00e8fb-b692-4a53-b622-eb06011f022d');\n",
              "          const dataTable =\n",
              "            await google.colab.kernel.invokeFunction('convertToInteractive',\n",
              "                                                     [key], {});\n",
              "          if (!dataTable) return;\n",
              "\n",
              "          const docLinkHtml = 'Like what you see? Visit the ' +\n",
              "            '<a target=\"_blank\" href=https://colab.research.google.com/notebooks/data_table.ipynb>data table notebook</a>'\n",
              "            + ' to learn more about interactive tables.';\n",
              "          element.innerHTML = '';\n",
              "          dataTable['output_type'] = 'display_data';\n",
              "          await google.colab.output.renderOutput(dataTable, element);\n",
              "          const docLink = document.createElement('div');\n",
              "          docLink.innerHTML = docLinkHtml;\n",
              "          element.appendChild(docLink);\n",
              "        }\n",
              "      </script>\n",
              "    </div>\n",
              "  </div>\n",
              "  "
            ]
          },
          "metadata": {}
        }
      ]
    },
    {
      "cell_type": "code",
      "source": [
        "df['lot_name'].nunique()"
      ],
      "metadata": {
        "colab": {
          "base_uri": "https://localhost:8080/"
        },
        "id": "V-7zEQZjaW7T",
        "outputId": "0675561c-1cbd-4694-b9c9-be1bdc297960"
      },
      "execution_count": null,
      "outputs": [
        {
          "output_type": "execute_result",
          "data": {
            "text/plain": [
              "9429"
            ]
          },
          "metadata": {},
          "execution_count": 8
        }
      ]
    },
    {
      "cell_type": "code",
      "source": [
        "df['lot_number'].nunique()"
      ],
      "metadata": {
        "colab": {
          "base_uri": "https://localhost:8080/"
        },
        "id": "Ccl7WFsjaaPI",
        "outputId": "761f0b22-f126-4491-a374-2dcd534e1bb7"
      },
      "execution_count": null,
      "outputs": [
        {
          "output_type": "execute_result",
          "data": {
            "text/plain": [
              "9600"
            ]
          },
          "metadata": {},
          "execution_count": 9
        }
      ]
    },
    {
      "cell_type": "code",
      "source": [
        "lot_name_count = df.groupby('lot_name')['ID'].count().sort_values(ascending=False).reset_index().rename(\n",
        "    columns={'ID': 'count'}\n",
        ")\n",
        "names_count_gt_1 = lot_name_count[lot_name_count['count'] > 1]['lot_name'].to_list()\n",
        "names_count_gt_1[:10]"
      ],
      "metadata": {
        "colab": {
          "base_uri": "https://localhost:8080/"
        },
        "id": "wHgdsSpnasCb",
        "outputId": "99a017d6-e3a3-4cad-a107-8c5027518a7e"
      },
      "execution_count": null,
      "outputs": [
        {
          "output_type": "execute_result",
          "data": {
            "text/plain": [
              "['vintage-russian-postcard-1963-1st-woman-pilot-cosmonaut-valentina-tereshkova-astronaut-space',\n",
              " 'tsarist-russia-kishinev-photo-postcard-1909s-russian-opera-singer-star-leonid-sobinov',\n",
              " 'tsarist-russia-zhabye-village-austria-hungary-postcard-1910s-artist-slasten-cossack-haidamaka-by-shevchenko',\n",
              " 'tsarist-russia-unused-postcard-1909s-russian-writer-leo-tolstoy-at-work-in-his-cabinet',\n",
              " 'tsarist-russia-postcard-1910s-grave-of-leo-tolstoy-in-yasnaya-polyana-artist-signed-i-gorelow',\n",
              " 'tsarist-russia-photo-postcard-1909s-mephistopheles-feodor-chaliapin-shalyapin-russian-opera-singer',\n",
              " 'vintage-ussr-russian-photo-postcard-1947-russian-ballet-star-galina-ulanova-in-giselle',\n",
              " 'vintage-russian-ussr-postcard-1955-by-uzbekov-soviet-sport-tv-football-fans-grandfather-and-grandson',\n",
              " 'tsarist-russia-postcard-1909s-great-russian-writer-anton-chekhov-anton-cehov',\n",
              " 'vintage-russian-postcard-1967-russian-folk-tale-rooster-with-scythe-sun-mushroom-artist-ershov']"
            ]
          },
          "metadata": {},
          "execution_count": 20
        }
      ]
    },
    {
      "cell_type": "code",
      "source": [
        "df[df['lot_name'].isin(names_count_gt_1)].to_csv('flying_ship_1_names_count_gt_1.csv')"
      ],
      "metadata": {
        "id": "jHGTGj3eif9q"
      },
      "execution_count": null,
      "outputs": []
    },
    {
      "cell_type": "code",
      "source": [
        "with pd.option_context('display.max_colwidth', None):\n",
        "    display(df[df['lot_name'] == \n",
        "    'vintage-russian-postcard-1963-1st-woman-pilot-cosmonaut-valentina-tereshkova-astronaut-space'])"
      ],
      "metadata": {
        "colab": {
          "base_uri": "https://localhost:8080/",
          "height": 913
        },
        "id": "cwWSCizAh-Hq",
        "outputId": "1957e58a-6d34-40b5-8668-42bf40450c5b"
      },
      "execution_count": null,
      "outputs": [
        {
          "output_type": "display_data",
          "data": {
            "text/plain": [
              "                               ID  \\\n",
              "2459  delcampe-flying_ship_1-2459   \n",
              "2460  delcampe-flying_ship_1-2460   \n",
              "2461  delcampe-flying_ship_1-2461   \n",
              "2462  delcampe-flying_ship_1-2462   \n",
              "\n",
              "                                                                                                                                                                                             url  \\\n",
              "2459  https://delcampe.net/en_GB/collectables/postcards/famous-people/famous-ladies/vintage-russian-postcard-1963-1st-woman-pilot-cosmonaut-valentina-tereshkova-astronaut-space-1463231129.html   \n",
              "2460  https://delcampe.net/en_GB/collectables/postcards/famous-people/famous-ladies/vintage-russian-postcard-1963-1st-woman-pilot-cosmonaut-valentina-tereshkova-astronaut-space-1463230562.html   \n",
              "2461  https://delcampe.net/en_GB/collectables/postcards/famous-people/famous-ladies/vintage-russian-postcard-1963-1st-woman-pilot-cosmonaut-valentina-tereshkova-astronaut-space-1463230070.html   \n",
              "2462  https://delcampe.net/en_GB/collectables/postcards/famous-people/famous-ladies/vintage-russian-postcard-1963-1st-woman-pilot-cosmonaut-valentina-tereshkova-astronaut-space-1463228303.html   \n",
              "\n",
              "                                                                                          lot_name  \\\n",
              "2459  vintage-russian-postcard-1963-1st-woman-pilot-cosmonaut-valentina-tereshkova-astronaut-space   \n",
              "2460  vintage-russian-postcard-1963-1st-woman-pilot-cosmonaut-valentina-tereshkova-astronaut-space   \n",
              "2461  vintage-russian-postcard-1963-1st-woman-pilot-cosmonaut-valentina-tereshkova-astronaut-space   \n",
              "2462  vintage-russian-postcard-1963-1st-woman-pilot-cosmonaut-valentina-tereshkova-astronaut-space   \n",
              "\n",
              "                                                                                                   url_suffix  \\\n",
              "2459  vintage-russian-postcard-1963-1st-woman-pilot-cosmonaut-valentina-tereshkova-astronaut-space-1463231129   \n",
              "2460  vintage-russian-postcard-1963-1st-woman-pilot-cosmonaut-valentina-tereshkova-astronaut-space-1463230562   \n",
              "2461  vintage-russian-postcard-1963-1st-woman-pilot-cosmonaut-valentina-tereshkova-astronaut-space-1463230070   \n",
              "2462  vintage-russian-postcard-1963-1st-woman-pilot-cosmonaut-valentina-tereshkova-astronaut-space-1463228303   \n",
              "\n",
              "      lot_number  \n",
              "2459  1463231129  \n",
              "2460  1463230562  \n",
              "2461  1463230070  \n",
              "2462  1463228303  "
            ],
            "text/html": [
              "\n",
              "  <div id=\"df-7867d6e1-858c-4545-920f-757f2dd20923\">\n",
              "    <div class=\"colab-df-container\">\n",
              "      <div>\n",
              "<style scoped>\n",
              "    .dataframe tbody tr th:only-of-type {\n",
              "        vertical-align: middle;\n",
              "    }\n",
              "\n",
              "    .dataframe tbody tr th {\n",
              "        vertical-align: top;\n",
              "    }\n",
              "\n",
              "    .dataframe thead th {\n",
              "        text-align: right;\n",
              "    }\n",
              "</style>\n",
              "<table border=\"1\" class=\"dataframe\">\n",
              "  <thead>\n",
              "    <tr style=\"text-align: right;\">\n",
              "      <th></th>\n",
              "      <th>ID</th>\n",
              "      <th>url</th>\n",
              "      <th>lot_name</th>\n",
              "      <th>url_suffix</th>\n",
              "      <th>lot_number</th>\n",
              "    </tr>\n",
              "  </thead>\n",
              "  <tbody>\n",
              "    <tr>\n",
              "      <th>2459</th>\n",
              "      <td>delcampe-flying_ship_1-2459</td>\n",
              "      <td>https://delcampe.net/en_GB/collectables/postcards/famous-people/famous-ladies/vintage-russian-postcard-1963-1st-woman-pilot-cosmonaut-valentina-tereshkova-astronaut-space-1463231129.html</td>\n",
              "      <td>vintage-russian-postcard-1963-1st-woman-pilot-cosmonaut-valentina-tereshkova-astronaut-space</td>\n",
              "      <td>vintage-russian-postcard-1963-1st-woman-pilot-cosmonaut-valentina-tereshkova-astronaut-space-1463231129</td>\n",
              "      <td>1463231129</td>\n",
              "    </tr>\n",
              "    <tr>\n",
              "      <th>2460</th>\n",
              "      <td>delcampe-flying_ship_1-2460</td>\n",
              "      <td>https://delcampe.net/en_GB/collectables/postcards/famous-people/famous-ladies/vintage-russian-postcard-1963-1st-woman-pilot-cosmonaut-valentina-tereshkova-astronaut-space-1463230562.html</td>\n",
              "      <td>vintage-russian-postcard-1963-1st-woman-pilot-cosmonaut-valentina-tereshkova-astronaut-space</td>\n",
              "      <td>vintage-russian-postcard-1963-1st-woman-pilot-cosmonaut-valentina-tereshkova-astronaut-space-1463230562</td>\n",
              "      <td>1463230562</td>\n",
              "    </tr>\n",
              "    <tr>\n",
              "      <th>2461</th>\n",
              "      <td>delcampe-flying_ship_1-2461</td>\n",
              "      <td>https://delcampe.net/en_GB/collectables/postcards/famous-people/famous-ladies/vintage-russian-postcard-1963-1st-woman-pilot-cosmonaut-valentina-tereshkova-astronaut-space-1463230070.html</td>\n",
              "      <td>vintage-russian-postcard-1963-1st-woman-pilot-cosmonaut-valentina-tereshkova-astronaut-space</td>\n",
              "      <td>vintage-russian-postcard-1963-1st-woman-pilot-cosmonaut-valentina-tereshkova-astronaut-space-1463230070</td>\n",
              "      <td>1463230070</td>\n",
              "    </tr>\n",
              "    <tr>\n",
              "      <th>2462</th>\n",
              "      <td>delcampe-flying_ship_1-2462</td>\n",
              "      <td>https://delcampe.net/en_GB/collectables/postcards/famous-people/famous-ladies/vintage-russian-postcard-1963-1st-woman-pilot-cosmonaut-valentina-tereshkova-astronaut-space-1463228303.html</td>\n",
              "      <td>vintage-russian-postcard-1963-1st-woman-pilot-cosmonaut-valentina-tereshkova-astronaut-space</td>\n",
              "      <td>vintage-russian-postcard-1963-1st-woman-pilot-cosmonaut-valentina-tereshkova-astronaut-space-1463228303</td>\n",
              "      <td>1463228303</td>\n",
              "    </tr>\n",
              "  </tbody>\n",
              "</table>\n",
              "</div>\n",
              "      <button class=\"colab-df-convert\" onclick=\"convertToInteractive('df-7867d6e1-858c-4545-920f-757f2dd20923')\"\n",
              "              title=\"Convert this dataframe to an interactive table.\"\n",
              "              style=\"display:none;\">\n",
              "        \n",
              "  <svg xmlns=\"http://www.w3.org/2000/svg\" height=\"24px\"viewBox=\"0 0 24 24\"\n",
              "       width=\"24px\">\n",
              "    <path d=\"M0 0h24v24H0V0z\" fill=\"none\"/>\n",
              "    <path d=\"M18.56 5.44l.94 2.06.94-2.06 2.06-.94-2.06-.94-.94-2.06-.94 2.06-2.06.94zm-11 1L8.5 8.5l.94-2.06 2.06-.94-2.06-.94L8.5 2.5l-.94 2.06-2.06.94zm10 10l.94 2.06.94-2.06 2.06-.94-2.06-.94-.94-2.06-.94 2.06-2.06.94z\"/><path d=\"M17.41 7.96l-1.37-1.37c-.4-.4-.92-.59-1.43-.59-.52 0-1.04.2-1.43.59L10.3 9.45l-7.72 7.72c-.78.78-.78 2.05 0 2.83L4 21.41c.39.39.9.59 1.41.59.51 0 1.02-.2 1.41-.59l7.78-7.78 2.81-2.81c.8-.78.8-2.07 0-2.86zM5.41 20L4 18.59l7.72-7.72 1.47 1.35L5.41 20z\"/>\n",
              "  </svg>\n",
              "      </button>\n",
              "      \n",
              "  <style>\n",
              "    .colab-df-container {\n",
              "      display:flex;\n",
              "      flex-wrap:wrap;\n",
              "      gap: 12px;\n",
              "    }\n",
              "\n",
              "    .colab-df-convert {\n",
              "      background-color: #E8F0FE;\n",
              "      border: none;\n",
              "      border-radius: 50%;\n",
              "      cursor: pointer;\n",
              "      display: none;\n",
              "      fill: #1967D2;\n",
              "      height: 32px;\n",
              "      padding: 0 0 0 0;\n",
              "      width: 32px;\n",
              "    }\n",
              "\n",
              "    .colab-df-convert:hover {\n",
              "      background-color: #E2EBFA;\n",
              "      box-shadow: 0px 1px 2px rgba(60, 64, 67, 0.3), 0px 1px 3px 1px rgba(60, 64, 67, 0.15);\n",
              "      fill: #174EA6;\n",
              "    }\n",
              "\n",
              "    [theme=dark] .colab-df-convert {\n",
              "      background-color: #3B4455;\n",
              "      fill: #D2E3FC;\n",
              "    }\n",
              "\n",
              "    [theme=dark] .colab-df-convert:hover {\n",
              "      background-color: #434B5C;\n",
              "      box-shadow: 0px 1px 3px 1px rgba(0, 0, 0, 0.15);\n",
              "      filter: drop-shadow(0px 1px 2px rgba(0, 0, 0, 0.3));\n",
              "      fill: #FFFFFF;\n",
              "    }\n",
              "  </style>\n",
              "\n",
              "      <script>\n",
              "        const buttonEl =\n",
              "          document.querySelector('#df-7867d6e1-858c-4545-920f-757f2dd20923 button.colab-df-convert');\n",
              "        buttonEl.style.display =\n",
              "          google.colab.kernel.accessAllowed ? 'block' : 'none';\n",
              "\n",
              "        async function convertToInteractive(key) {\n",
              "          const element = document.querySelector('#df-7867d6e1-858c-4545-920f-757f2dd20923');\n",
              "          const dataTable =\n",
              "            await google.colab.kernel.invokeFunction('convertToInteractive',\n",
              "                                                     [key], {});\n",
              "          if (!dataTable) return;\n",
              "\n",
              "          const docLinkHtml = 'Like what you see? Visit the ' +\n",
              "            '<a target=\"_blank\" href=https://colab.research.google.com/notebooks/data_table.ipynb>data table notebook</a>'\n",
              "            + ' to learn more about interactive tables.';\n",
              "          element.innerHTML = '';\n",
              "          dataTable['output_type'] = 'display_data';\n",
              "          await google.colab.output.renderOutput(dataTable, element);\n",
              "          const docLink = document.createElement('div');\n",
              "          docLink.innerHTML = docLinkHtml;\n",
              "          element.appendChild(docLink);\n",
              "        }\n",
              "      </script>\n",
              "    </div>\n",
              "  </div>\n",
              "  "
            ]
          },
          "metadata": {}
        }
      ]
    },
    {
      "cell_type": "markdown",
      "source": [
        "# Baseline метрики"
      ],
      "metadata": {
        "id": "beUJZ1Dg5AFj"
      }
    },
    {
      "cell_type": "markdown",
      "source": [
        "## Читаем данные"
      ],
      "metadata": {
        "id": "loBljbwaVNrQ"
      }
    },
    {
      "cell_type": "code",
      "source": [
        "labels_df = pd.concat([\n",
        "    pd.read_csv('/content/дублирование разметка база 4.csv'),\n",
        "    pd.read_csv('/content/дублирование разметка база 5.csv'),\n",
        "])\n",
        "labels_df = labels_df[~labels_df['hash_dist'].isna()]\n",
        "labels_df['hash_dist'] = labels_df['hash_dist'].astype(int)\n",
        "labels_df['base_1'] = labels_df['base_1'].astype(int)\n",
        "labels_df['ID_1'] = labels_df['ID_1'].astype(int)\n",
        "labels_df['base_2'] = labels_df['base_2'].astype(int)\n",
        "labels_df['ID_2'] = labels_df['ID_2'].astype(int)\n",
        "\n",
        "labels_df = labels_df[['base_1', 'ID_1', 'base_2', 'ID_2', 'Статус']].rename(\n",
        "    columns={'Статус': 'label'})\n",
        "\n",
        "labels_df.head()"
      ],
      "metadata": {
        "id": "fHKKmV1KiaDq",
        "colab": {
          "base_uri": "https://localhost:8080/",
          "height": 206
        },
        "outputId": "fca40662-83a8-42d8-e6ef-3d9a7a7b0579"
      },
      "execution_count": null,
      "outputs": [
        {
          "output_type": "execute_result",
          "data": {
            "text/plain": [
              "   base_1  ID_1  base_2    ID_2                    label\n",
              "0       1  1204       4  216471                    Дубли\n",
              "1       1  1205       4  216472                    Дубли\n",
              "2       1  2145       4  217037  Разные лицевая и оборот\n",
              "3       1  3103       4  217941                    Дубли\n",
              "4       1  3104       4  217977                    Дубли"
            ],
            "text/html": [
              "\n",
              "  <div id=\"df-fdd1a219-9591-4da3-8848-b700ebac5b8d\">\n",
              "    <div class=\"colab-df-container\">\n",
              "      <div>\n",
              "<style scoped>\n",
              "    .dataframe tbody tr th:only-of-type {\n",
              "        vertical-align: middle;\n",
              "    }\n",
              "\n",
              "    .dataframe tbody tr th {\n",
              "        vertical-align: top;\n",
              "    }\n",
              "\n",
              "    .dataframe thead th {\n",
              "        text-align: right;\n",
              "    }\n",
              "</style>\n",
              "<table border=\"1\" class=\"dataframe\">\n",
              "  <thead>\n",
              "    <tr style=\"text-align: right;\">\n",
              "      <th></th>\n",
              "      <th>base_1</th>\n",
              "      <th>ID_1</th>\n",
              "      <th>base_2</th>\n",
              "      <th>ID_2</th>\n",
              "      <th>label</th>\n",
              "    </tr>\n",
              "  </thead>\n",
              "  <tbody>\n",
              "    <tr>\n",
              "      <th>0</th>\n",
              "      <td>1</td>\n",
              "      <td>1204</td>\n",
              "      <td>4</td>\n",
              "      <td>216471</td>\n",
              "      <td>Дубли</td>\n",
              "    </tr>\n",
              "    <tr>\n",
              "      <th>1</th>\n",
              "      <td>1</td>\n",
              "      <td>1205</td>\n",
              "      <td>4</td>\n",
              "      <td>216472</td>\n",
              "      <td>Дубли</td>\n",
              "    </tr>\n",
              "    <tr>\n",
              "      <th>2</th>\n",
              "      <td>1</td>\n",
              "      <td>2145</td>\n",
              "      <td>4</td>\n",
              "      <td>217037</td>\n",
              "      <td>Разные лицевая и оборот</td>\n",
              "    </tr>\n",
              "    <tr>\n",
              "      <th>3</th>\n",
              "      <td>1</td>\n",
              "      <td>3103</td>\n",
              "      <td>4</td>\n",
              "      <td>217941</td>\n",
              "      <td>Дубли</td>\n",
              "    </tr>\n",
              "    <tr>\n",
              "      <th>4</th>\n",
              "      <td>1</td>\n",
              "      <td>3104</td>\n",
              "      <td>4</td>\n",
              "      <td>217977</td>\n",
              "      <td>Дубли</td>\n",
              "    </tr>\n",
              "  </tbody>\n",
              "</table>\n",
              "</div>\n",
              "      <button class=\"colab-df-convert\" onclick=\"convertToInteractive('df-fdd1a219-9591-4da3-8848-b700ebac5b8d')\"\n",
              "              title=\"Convert this dataframe to an interactive table.\"\n",
              "              style=\"display:none;\">\n",
              "        \n",
              "  <svg xmlns=\"http://www.w3.org/2000/svg\" height=\"24px\"viewBox=\"0 0 24 24\"\n",
              "       width=\"24px\">\n",
              "    <path d=\"M0 0h24v24H0V0z\" fill=\"none\"/>\n",
              "    <path d=\"M18.56 5.44l.94 2.06.94-2.06 2.06-.94-2.06-.94-.94-2.06-.94 2.06-2.06.94zm-11 1L8.5 8.5l.94-2.06 2.06-.94-2.06-.94L8.5 2.5l-.94 2.06-2.06.94zm10 10l.94 2.06.94-2.06 2.06-.94-2.06-.94-.94-2.06-.94 2.06-2.06.94z\"/><path d=\"M17.41 7.96l-1.37-1.37c-.4-.4-.92-.59-1.43-.59-.52 0-1.04.2-1.43.59L10.3 9.45l-7.72 7.72c-.78.78-.78 2.05 0 2.83L4 21.41c.39.39.9.59 1.41.59.51 0 1.02-.2 1.41-.59l7.78-7.78 2.81-2.81c.8-.78.8-2.07 0-2.86zM5.41 20L4 18.59l7.72-7.72 1.47 1.35L5.41 20z\"/>\n",
              "  </svg>\n",
              "      </button>\n",
              "      \n",
              "  <style>\n",
              "    .colab-df-container {\n",
              "      display:flex;\n",
              "      flex-wrap:wrap;\n",
              "      gap: 12px;\n",
              "    }\n",
              "\n",
              "    .colab-df-convert {\n",
              "      background-color: #E8F0FE;\n",
              "      border: none;\n",
              "      border-radius: 50%;\n",
              "      cursor: pointer;\n",
              "      display: none;\n",
              "      fill: #1967D2;\n",
              "      height: 32px;\n",
              "      padding: 0 0 0 0;\n",
              "      width: 32px;\n",
              "    }\n",
              "\n",
              "    .colab-df-convert:hover {\n",
              "      background-color: #E2EBFA;\n",
              "      box-shadow: 0px 1px 2px rgba(60, 64, 67, 0.3), 0px 1px 3px 1px rgba(60, 64, 67, 0.15);\n",
              "      fill: #174EA6;\n",
              "    }\n",
              "\n",
              "    [theme=dark] .colab-df-convert {\n",
              "      background-color: #3B4455;\n",
              "      fill: #D2E3FC;\n",
              "    }\n",
              "\n",
              "    [theme=dark] .colab-df-convert:hover {\n",
              "      background-color: #434B5C;\n",
              "      box-shadow: 0px 1px 3px 1px rgba(0, 0, 0, 0.15);\n",
              "      filter: drop-shadow(0px 1px 2px rgba(0, 0, 0, 0.3));\n",
              "      fill: #FFFFFF;\n",
              "    }\n",
              "  </style>\n",
              "\n",
              "      <script>\n",
              "        const buttonEl =\n",
              "          document.querySelector('#df-fdd1a219-9591-4da3-8848-b700ebac5b8d button.colab-df-convert');\n",
              "        buttonEl.style.display =\n",
              "          google.colab.kernel.accessAllowed ? 'block' : 'none';\n",
              "\n",
              "        async function convertToInteractive(key) {\n",
              "          const element = document.querySelector('#df-fdd1a219-9591-4da3-8848-b700ebac5b8d');\n",
              "          const dataTable =\n",
              "            await google.colab.kernel.invokeFunction('convertToInteractive',\n",
              "                                                     [key], {});\n",
              "          if (!dataTable) return;\n",
              "\n",
              "          const docLinkHtml = 'Like what you see? Visit the ' +\n",
              "            '<a target=\"_blank\" href=https://colab.research.google.com/notebooks/data_table.ipynb>data table notebook</a>'\n",
              "            + ' to learn more about interactive tables.';\n",
              "          element.innerHTML = '';\n",
              "          dataTable['output_type'] = 'display_data';\n",
              "          await google.colab.output.renderOutput(dataTable, element);\n",
              "          const docLink = document.createElement('div');\n",
              "          docLink.innerHTML = docLinkHtml;\n",
              "          element.appendChild(docLink);\n",
              "        }\n",
              "      </script>\n",
              "    </div>\n",
              "  </div>\n",
              "  "
            ]
          },
          "metadata": {},
          "execution_count": 5
        }
      ]
    },
    {
      "cell_type": "code",
      "source": [
        "labels_df.shape"
      ],
      "metadata": {
        "colab": {
          "base_uri": "https://localhost:8080/"
        },
        "id": "HsWR2JIJToRl",
        "outputId": "df954501-df65-41c5-a73e-780ae5840356"
      },
      "execution_count": null,
      "outputs": [
        {
          "output_type": "execute_result",
          "data": {
            "text/plain": [
              "(3538, 5)"
            ]
          },
          "metadata": {},
          "execution_count": 9
        }
      ]
    },
    {
      "cell_type": "code",
      "source": [
        "labels_df['label'] = labels_df['label'].replace(\n",
        "    'Лицевая совпадает, оборот отличается', 'Совпадает лицевая, оборот отличается')\n",
        "labels_df['label'].value_counts()"
      ],
      "metadata": {
        "colab": {
          "base_uri": "https://localhost:8080/"
        },
        "id": "pxhN1sEnTthK",
        "outputId": "7afbca1b-5aba-4db0-debc-ac58e5d8783f"
      },
      "execution_count": null,
      "outputs": [
        {
          "output_type": "execute_result",
          "data": {
            "text/plain": [
              "Дубли                                   1984\n",
              "Разные лицевая и оборот                 1368\n",
              "Совпадает лицевая, оборот отличается     186\n",
              "Name: label, dtype: int64"
            ]
          },
          "metadata": {},
          "execution_count": 6
        }
      ]
    },
    {
      "cell_type": "code",
      "source": [
        "hash_df = pd.read_csv('hash_database_full.csv', index_col=0)\n",
        "hash_df.head()"
      ],
      "metadata": {
        "colab": {
          "base_uri": "https://localhost:8080/",
          "height": 206
        },
        "id": "2fx2QNNq5c6w",
        "outputId": "c6df2036-bfec-4670-8b78-5bff57ed4413"
      },
      "execution_count": null,
      "outputs": [
        {
          "output_type": "execute_result",
          "data": {
            "text/plain": [
              "   base  ID  Pic                                            Pic_url  \\\n",
              "0     1   0    1       https://forum.vgd.ru/file.php?fid=5476&key=0   \n",
              "1     1   2    1       https://forum.vgd.ru/file.php?fid=5492&key=0   \n",
              "2     1   3    1  https://forum.vgd.ru/file.php?fid=20890&key=19...   \n",
              "3     1   4    1  https://forum.vgd.ru/file.php?fid=20894&key=16...   \n",
              "4     1   5    1  https://forum.vgd.ru/file.php?fid=20895&key=90...   \n",
              "\n",
              "               hash  \n",
              "0  806969715521b059  \n",
              "1  f4d8cc0ca543d6b6  \n",
              "2  f1732b4d73511723  \n",
              "3  b292ced8b3f2f2f2  \n",
              "4  b8186ca4ae8a989a  "
            ],
            "text/html": [
              "\n",
              "  <div id=\"df-93362481-9455-47b5-a142-520e672503f3\">\n",
              "    <div class=\"colab-df-container\">\n",
              "      <div>\n",
              "<style scoped>\n",
              "    .dataframe tbody tr th:only-of-type {\n",
              "        vertical-align: middle;\n",
              "    }\n",
              "\n",
              "    .dataframe tbody tr th {\n",
              "        vertical-align: top;\n",
              "    }\n",
              "\n",
              "    .dataframe thead th {\n",
              "        text-align: right;\n",
              "    }\n",
              "</style>\n",
              "<table border=\"1\" class=\"dataframe\">\n",
              "  <thead>\n",
              "    <tr style=\"text-align: right;\">\n",
              "      <th></th>\n",
              "      <th>base</th>\n",
              "      <th>ID</th>\n",
              "      <th>Pic</th>\n",
              "      <th>Pic_url</th>\n",
              "      <th>hash</th>\n",
              "    </tr>\n",
              "  </thead>\n",
              "  <tbody>\n",
              "    <tr>\n",
              "      <th>0</th>\n",
              "      <td>1</td>\n",
              "      <td>0</td>\n",
              "      <td>1</td>\n",
              "      <td>https://forum.vgd.ru/file.php?fid=5476&amp;key=0</td>\n",
              "      <td>806969715521b059</td>\n",
              "    </tr>\n",
              "    <tr>\n",
              "      <th>1</th>\n",
              "      <td>1</td>\n",
              "      <td>2</td>\n",
              "      <td>1</td>\n",
              "      <td>https://forum.vgd.ru/file.php?fid=5492&amp;key=0</td>\n",
              "      <td>f4d8cc0ca543d6b6</td>\n",
              "    </tr>\n",
              "    <tr>\n",
              "      <th>2</th>\n",
              "      <td>1</td>\n",
              "      <td>3</td>\n",
              "      <td>1</td>\n",
              "      <td>https://forum.vgd.ru/file.php?fid=20890&amp;key=19...</td>\n",
              "      <td>f1732b4d73511723</td>\n",
              "    </tr>\n",
              "    <tr>\n",
              "      <th>3</th>\n",
              "      <td>1</td>\n",
              "      <td>4</td>\n",
              "      <td>1</td>\n",
              "      <td>https://forum.vgd.ru/file.php?fid=20894&amp;key=16...</td>\n",
              "      <td>b292ced8b3f2f2f2</td>\n",
              "    </tr>\n",
              "    <tr>\n",
              "      <th>4</th>\n",
              "      <td>1</td>\n",
              "      <td>5</td>\n",
              "      <td>1</td>\n",
              "      <td>https://forum.vgd.ru/file.php?fid=20895&amp;key=90...</td>\n",
              "      <td>b8186ca4ae8a989a</td>\n",
              "    </tr>\n",
              "  </tbody>\n",
              "</table>\n",
              "</div>\n",
              "      <button class=\"colab-df-convert\" onclick=\"convertToInteractive('df-93362481-9455-47b5-a142-520e672503f3')\"\n",
              "              title=\"Convert this dataframe to an interactive table.\"\n",
              "              style=\"display:none;\">\n",
              "        \n",
              "  <svg xmlns=\"http://www.w3.org/2000/svg\" height=\"24px\"viewBox=\"0 0 24 24\"\n",
              "       width=\"24px\">\n",
              "    <path d=\"M0 0h24v24H0V0z\" fill=\"none\"/>\n",
              "    <path d=\"M18.56 5.44l.94 2.06.94-2.06 2.06-.94-2.06-.94-.94-2.06-.94 2.06-2.06.94zm-11 1L8.5 8.5l.94-2.06 2.06-.94-2.06-.94L8.5 2.5l-.94 2.06-2.06.94zm10 10l.94 2.06.94-2.06 2.06-.94-2.06-.94-.94-2.06-.94 2.06-2.06.94z\"/><path d=\"M17.41 7.96l-1.37-1.37c-.4-.4-.92-.59-1.43-.59-.52 0-1.04.2-1.43.59L10.3 9.45l-7.72 7.72c-.78.78-.78 2.05 0 2.83L4 21.41c.39.39.9.59 1.41.59.51 0 1.02-.2 1.41-.59l7.78-7.78 2.81-2.81c.8-.78.8-2.07 0-2.86zM5.41 20L4 18.59l7.72-7.72 1.47 1.35L5.41 20z\"/>\n",
              "  </svg>\n",
              "      </button>\n",
              "      \n",
              "  <style>\n",
              "    .colab-df-container {\n",
              "      display:flex;\n",
              "      flex-wrap:wrap;\n",
              "      gap: 12px;\n",
              "    }\n",
              "\n",
              "    .colab-df-convert {\n",
              "      background-color: #E8F0FE;\n",
              "      border: none;\n",
              "      border-radius: 50%;\n",
              "      cursor: pointer;\n",
              "      display: none;\n",
              "      fill: #1967D2;\n",
              "      height: 32px;\n",
              "      padding: 0 0 0 0;\n",
              "      width: 32px;\n",
              "    }\n",
              "\n",
              "    .colab-df-convert:hover {\n",
              "      background-color: #E2EBFA;\n",
              "      box-shadow: 0px 1px 2px rgba(60, 64, 67, 0.3), 0px 1px 3px 1px rgba(60, 64, 67, 0.15);\n",
              "      fill: #174EA6;\n",
              "    }\n",
              "\n",
              "    [theme=dark] .colab-df-convert {\n",
              "      background-color: #3B4455;\n",
              "      fill: #D2E3FC;\n",
              "    }\n",
              "\n",
              "    [theme=dark] .colab-df-convert:hover {\n",
              "      background-color: #434B5C;\n",
              "      box-shadow: 0px 1px 3px 1px rgba(0, 0, 0, 0.15);\n",
              "      filter: drop-shadow(0px 1px 2px rgba(0, 0, 0, 0.3));\n",
              "      fill: #FFFFFF;\n",
              "    }\n",
              "  </style>\n",
              "\n",
              "      <script>\n",
              "        const buttonEl =\n",
              "          document.querySelector('#df-93362481-9455-47b5-a142-520e672503f3 button.colab-df-convert');\n",
              "        buttonEl.style.display =\n",
              "          google.colab.kernel.accessAllowed ? 'block' : 'none';\n",
              "\n",
              "        async function convertToInteractive(key) {\n",
              "          const element = document.querySelector('#df-93362481-9455-47b5-a142-520e672503f3');\n",
              "          const dataTable =\n",
              "            await google.colab.kernel.invokeFunction('convertToInteractive',\n",
              "                                                     [key], {});\n",
              "          if (!dataTable) return;\n",
              "\n",
              "          const docLinkHtml = 'Like what you see? Visit the ' +\n",
              "            '<a target=\"_blank\" href=https://colab.research.google.com/notebooks/data_table.ipynb>data table notebook</a>'\n",
              "            + ' to learn more about interactive tables.';\n",
              "          element.innerHTML = '';\n",
              "          dataTable['output_type'] = 'display_data';\n",
              "          await google.colab.output.renderOutput(dataTable, element);\n",
              "          const docLink = document.createElement('div');\n",
              "          docLink.innerHTML = docLinkHtml;\n",
              "          element.appendChild(docLink);\n",
              "        }\n",
              "      </script>\n",
              "    </div>\n",
              "  </div>\n",
              "  "
            ]
          },
          "metadata": {},
          "execution_count": 7
        }
      ]
    },
    {
      "cell_type": "markdown",
      "source": [
        "Добавляем в таблицу разметки хеши лицевой и оборотной стороны"
      ],
      "metadata": {
        "id": "NKeUasmbVRpd"
      }
    },
    {
      "cell_type": "code",
      "source": [
        "# ID_1 Pic=1\n",
        "labels_df = labels_df.merge(\n",
        "    hash_df[hash_df['Pic'] == 1].rename(\n",
        "        columns={'ID': 'ID_1', 'base': 'base_1', 'hash': 'ID_1_Pic_1_hash'}\n",
        "        )[['base_1', 'ID_1', 'ID_1_Pic_1_hash']], \n",
        "    on=['base_1', 'ID_1'], how='left')\n",
        "\n",
        "# ID_1 Pic=2\n",
        "labels_df = labels_df.merge(\n",
        "    hash_df[hash_df['Pic'] == 2].rename(\n",
        "        columns={'ID': 'ID_1', 'base': 'base_1', 'hash': 'ID_1_Pic_2_hash'}\n",
        "        )[['base_1', 'ID_1', 'ID_1_Pic_2_hash']], \n",
        "    on=['base_1', 'ID_1'], how='left')\n",
        "\n",
        "# ID_2 Pic=1\n",
        "labels_df = labels_df.merge(\n",
        "    hash_df[hash_df['Pic'] == 1].rename(\n",
        "        columns={'ID': 'ID_2', 'base': 'base_2', 'hash': 'ID_2_Pic_1_hash'}\n",
        "        )[['base_2', 'ID_2', 'ID_2_Pic_1_hash']], \n",
        "    on=['base_2', 'ID_2'], how='left')\n",
        "\n",
        "# ID_2 Pic=2\n",
        "labels_df = labels_df.merge(\n",
        "    hash_df[hash_df['Pic'] == 2].rename(\n",
        "        columns={'ID': 'ID_2', 'base': 'base_2', 'hash': 'ID_2_Pic_2_hash'}\n",
        "        )[['base_2', 'ID_2', 'ID_2_Pic_2_hash']], \n",
        "    on=['base_2', 'ID_2'], how='left')"
      ],
      "metadata": {
        "id": "MVjJRWII5_78"
      },
      "execution_count": null,
      "outputs": []
    },
    {
      "cell_type": "code",
      "source": [
        "labels_df.head()"
      ],
      "metadata": {
        "colab": {
          "base_uri": "https://localhost:8080/",
          "height": 322
        },
        "id": "EN_EFnStWoWL",
        "outputId": "42c03c80-b001-4c57-9177-62dfab928b62"
      },
      "execution_count": null,
      "outputs": [
        {
          "output_type": "execute_result",
          "data": {
            "text/plain": [
              "   base_1  ID_1  base_2    ID_2                    label   ID_1_Pic_1_hash  \\\n",
              "0       1  1204       4  216471                    Дубли  19f179593171d1b1   \n",
              "1       1  1205       4  216472                    Дубли  f179717131716f71   \n",
              "2       1  2145       4  217037  Разные лицевая и оборот  4965312101010303   \n",
              "3       1  3103       4  217941                    Дубли  61511507094d6101   \n",
              "4       1  3104       4  217977                    Дубли  4d4dc94f47591945   \n",
              "\n",
              "    ID_1_Pic_2_hash   ID_2_Pic_1_hash   ID_2_Pic_2_hash  \n",
              "0  11971621f9e5ed4d  19f179593171d1b1  11971621f9e5ed4d  \n",
              "1  3565454765714f3f  f179717131716f71  3565454765714f3f  \n",
              "2  0000000000000000  0349333303070f03  0000000000000000  \n",
              "3  094165655151495d  61511507094d6101  094165655151495d  \n",
              "4  494f774949596945  4d4dc94f47591945  494f774949596945  "
            ],
            "text/html": [
              "\n",
              "  <div id=\"df-b4627da1-b227-4b0a-8727-8e5ec50f0472\">\n",
              "    <div class=\"colab-df-container\">\n",
              "      <div>\n",
              "<style scoped>\n",
              "    .dataframe tbody tr th:only-of-type {\n",
              "        vertical-align: middle;\n",
              "    }\n",
              "\n",
              "    .dataframe tbody tr th {\n",
              "        vertical-align: top;\n",
              "    }\n",
              "\n",
              "    .dataframe thead th {\n",
              "        text-align: right;\n",
              "    }\n",
              "</style>\n",
              "<table border=\"1\" class=\"dataframe\">\n",
              "  <thead>\n",
              "    <tr style=\"text-align: right;\">\n",
              "      <th></th>\n",
              "      <th>base_1</th>\n",
              "      <th>ID_1</th>\n",
              "      <th>base_2</th>\n",
              "      <th>ID_2</th>\n",
              "      <th>label</th>\n",
              "      <th>ID_1_Pic_1_hash</th>\n",
              "      <th>ID_1_Pic_2_hash</th>\n",
              "      <th>ID_2_Pic_1_hash</th>\n",
              "      <th>ID_2_Pic_2_hash</th>\n",
              "    </tr>\n",
              "  </thead>\n",
              "  <tbody>\n",
              "    <tr>\n",
              "      <th>0</th>\n",
              "      <td>1</td>\n",
              "      <td>1204</td>\n",
              "      <td>4</td>\n",
              "      <td>216471</td>\n",
              "      <td>Дубли</td>\n",
              "      <td>19f179593171d1b1</td>\n",
              "      <td>11971621f9e5ed4d</td>\n",
              "      <td>19f179593171d1b1</td>\n",
              "      <td>11971621f9e5ed4d</td>\n",
              "    </tr>\n",
              "    <tr>\n",
              "      <th>1</th>\n",
              "      <td>1</td>\n",
              "      <td>1205</td>\n",
              "      <td>4</td>\n",
              "      <td>216472</td>\n",
              "      <td>Дубли</td>\n",
              "      <td>f179717131716f71</td>\n",
              "      <td>3565454765714f3f</td>\n",
              "      <td>f179717131716f71</td>\n",
              "      <td>3565454765714f3f</td>\n",
              "    </tr>\n",
              "    <tr>\n",
              "      <th>2</th>\n",
              "      <td>1</td>\n",
              "      <td>2145</td>\n",
              "      <td>4</td>\n",
              "      <td>217037</td>\n",
              "      <td>Разные лицевая и оборот</td>\n",
              "      <td>4965312101010303</td>\n",
              "      <td>0000000000000000</td>\n",
              "      <td>0349333303070f03</td>\n",
              "      <td>0000000000000000</td>\n",
              "    </tr>\n",
              "    <tr>\n",
              "      <th>3</th>\n",
              "      <td>1</td>\n",
              "      <td>3103</td>\n",
              "      <td>4</td>\n",
              "      <td>217941</td>\n",
              "      <td>Дубли</td>\n",
              "      <td>61511507094d6101</td>\n",
              "      <td>094165655151495d</td>\n",
              "      <td>61511507094d6101</td>\n",
              "      <td>094165655151495d</td>\n",
              "    </tr>\n",
              "    <tr>\n",
              "      <th>4</th>\n",
              "      <td>1</td>\n",
              "      <td>3104</td>\n",
              "      <td>4</td>\n",
              "      <td>217977</td>\n",
              "      <td>Дубли</td>\n",
              "      <td>4d4dc94f47591945</td>\n",
              "      <td>494f774949596945</td>\n",
              "      <td>4d4dc94f47591945</td>\n",
              "      <td>494f774949596945</td>\n",
              "    </tr>\n",
              "  </tbody>\n",
              "</table>\n",
              "</div>\n",
              "      <button class=\"colab-df-convert\" onclick=\"convertToInteractive('df-b4627da1-b227-4b0a-8727-8e5ec50f0472')\"\n",
              "              title=\"Convert this dataframe to an interactive table.\"\n",
              "              style=\"display:none;\">\n",
              "        \n",
              "  <svg xmlns=\"http://www.w3.org/2000/svg\" height=\"24px\"viewBox=\"0 0 24 24\"\n",
              "       width=\"24px\">\n",
              "    <path d=\"M0 0h24v24H0V0z\" fill=\"none\"/>\n",
              "    <path d=\"M18.56 5.44l.94 2.06.94-2.06 2.06-.94-2.06-.94-.94-2.06-.94 2.06-2.06.94zm-11 1L8.5 8.5l.94-2.06 2.06-.94-2.06-.94L8.5 2.5l-.94 2.06-2.06.94zm10 10l.94 2.06.94-2.06 2.06-.94-2.06-.94-.94-2.06-.94 2.06-2.06.94z\"/><path d=\"M17.41 7.96l-1.37-1.37c-.4-.4-.92-.59-1.43-.59-.52 0-1.04.2-1.43.59L10.3 9.45l-7.72 7.72c-.78.78-.78 2.05 0 2.83L4 21.41c.39.39.9.59 1.41.59.51 0 1.02-.2 1.41-.59l7.78-7.78 2.81-2.81c.8-.78.8-2.07 0-2.86zM5.41 20L4 18.59l7.72-7.72 1.47 1.35L5.41 20z\"/>\n",
              "  </svg>\n",
              "      </button>\n",
              "      \n",
              "  <style>\n",
              "    .colab-df-container {\n",
              "      display:flex;\n",
              "      flex-wrap:wrap;\n",
              "      gap: 12px;\n",
              "    }\n",
              "\n",
              "    .colab-df-convert {\n",
              "      background-color: #E8F0FE;\n",
              "      border: none;\n",
              "      border-radius: 50%;\n",
              "      cursor: pointer;\n",
              "      display: none;\n",
              "      fill: #1967D2;\n",
              "      height: 32px;\n",
              "      padding: 0 0 0 0;\n",
              "      width: 32px;\n",
              "    }\n",
              "\n",
              "    .colab-df-convert:hover {\n",
              "      background-color: #E2EBFA;\n",
              "      box-shadow: 0px 1px 2px rgba(60, 64, 67, 0.3), 0px 1px 3px 1px rgba(60, 64, 67, 0.15);\n",
              "      fill: #174EA6;\n",
              "    }\n",
              "\n",
              "    [theme=dark] .colab-df-convert {\n",
              "      background-color: #3B4455;\n",
              "      fill: #D2E3FC;\n",
              "    }\n",
              "\n",
              "    [theme=dark] .colab-df-convert:hover {\n",
              "      background-color: #434B5C;\n",
              "      box-shadow: 0px 1px 3px 1px rgba(0, 0, 0, 0.15);\n",
              "      filter: drop-shadow(0px 1px 2px rgba(0, 0, 0, 0.3));\n",
              "      fill: #FFFFFF;\n",
              "    }\n",
              "  </style>\n",
              "\n",
              "      <script>\n",
              "        const buttonEl =\n",
              "          document.querySelector('#df-b4627da1-b227-4b0a-8727-8e5ec50f0472 button.colab-df-convert');\n",
              "        buttonEl.style.display =\n",
              "          google.colab.kernel.accessAllowed ? 'block' : 'none';\n",
              "\n",
              "        async function convertToInteractive(key) {\n",
              "          const element = document.querySelector('#df-b4627da1-b227-4b0a-8727-8e5ec50f0472');\n",
              "          const dataTable =\n",
              "            await google.colab.kernel.invokeFunction('convertToInteractive',\n",
              "                                                     [key], {});\n",
              "          if (!dataTable) return;\n",
              "\n",
              "          const docLinkHtml = 'Like what you see? Visit the ' +\n",
              "            '<a target=\"_blank\" href=https://colab.research.google.com/notebooks/data_table.ipynb>data table notebook</a>'\n",
              "            + ' to learn more about interactive tables.';\n",
              "          element.innerHTML = '';\n",
              "          dataTable['output_type'] = 'display_data';\n",
              "          await google.colab.output.renderOutput(dataTable, element);\n",
              "          const docLink = document.createElement('div');\n",
              "          docLink.innerHTML = docLinkHtml;\n",
              "          element.appendChild(docLink);\n",
              "        }\n",
              "      </script>\n",
              "    </div>\n",
              "  </div>\n",
              "  "
            ]
          },
          "metadata": {},
          "execution_count": 35
        }
      ]
    },
    {
      "cell_type": "code",
      "source": [
        "labels_df.isna().sum()"
      ],
      "metadata": {
        "colab": {
          "base_uri": "https://localhost:8080/"
        },
        "id": "2EEZ2-5uWtv1",
        "outputId": "eab5b641-2201-4128-e3b9-3da0140386bc"
      },
      "execution_count": null,
      "outputs": [
        {
          "output_type": "execute_result",
          "data": {
            "text/plain": [
              "base_1               0\n",
              "ID_1                 0\n",
              "base_2               0\n",
              "ID_2                 0\n",
              "label                0\n",
              "ID_1_Pic_1_hash     95\n",
              "ID_1_Pic_2_hash     96\n",
              "ID_2_Pic_1_hash    126\n",
              "ID_2_Pic_2_hash    126\n",
              "dtype: int64"
            ]
          },
          "metadata": {},
          "execution_count": 83
        }
      ]
    },
    {
      "cell_type": "markdown",
      "source": [
        "Исключаем строки, где хеш неизвестен"
      ],
      "metadata": {
        "id": "3Et_-2ESYGqf"
      }
    },
    {
      "cell_type": "code",
      "source": [
        "labels_df = labels_df[\n",
        "    ~(labels_df['ID_1_Pic_1_hash'].isna()) & \n",
        "    ~(labels_df['ID_1_Pic_2_hash'].isna()) &\n",
        "    ~(labels_df['ID_2_Pic_1_hash'].isna()) & \n",
        "    ~(labels_df['ID_2_Pic_2_hash'].isna())\n",
        "    ]\n",
        "labels_df.shape"
      ],
      "metadata": {
        "colab": {
          "base_uri": "https://localhost:8080/"
        },
        "id": "5fTNFj6sW2x6",
        "outputId": "9fb46d4d-0b8a-485c-dcbb-124b7967feb6"
      },
      "execution_count": null,
      "outputs": [
        {
          "output_type": "execute_result",
          "data": {
            "text/plain": [
              "(3342, 9)"
            ]
          },
          "metadata": {},
          "execution_count": 9
        }
      ]
    },
    {
      "cell_type": "markdown",
      "source": [
        "Добавляем попарные расстояния между хешами"
      ],
      "metadata": {
        "id": "T1MD_AU1alr8"
      }
    },
    {
      "cell_type": "code",
      "source": [
        "labels_df['hash_dist_pic_1'] = labels_df.apply(\n",
        "    lambda row: hamming_distance(row['ID_1_Pic_1_hash'], row['ID_2_Pic_1_hash']),\n",
        "    axis=1\n",
        ")\n",
        "\n",
        "labels_df['hash_dist_pic_2'] = labels_df.apply(\n",
        "    lambda row: hamming_distance(row['ID_1_Pic_2_hash'], row['ID_2_Pic_2_hash']),\n",
        "    axis=1\n",
        ")\n",
        "\n",
        "labels_df.head()"
      ],
      "metadata": {
        "colab": {
          "base_uri": "https://localhost:8080/",
          "height": 322
        },
        "id": "c1PMWw4napSh",
        "outputId": "f59c3887-8549-4770-c0d1-3bbc3b15378e"
      },
      "execution_count": null,
      "outputs": [
        {
          "output_type": "execute_result",
          "data": {
            "text/plain": [
              "   base_1  ID_1  base_2    ID_2                    label   ID_1_Pic_1_hash  \\\n",
              "0       1  1204       4  216471                    Дубли  19f179593171d1b1   \n",
              "1       1  1205       4  216472                    Дубли  f179717131716f71   \n",
              "2       1  2145       4  217037  Разные лицевая и оборот  4965312101010303   \n",
              "3       1  3103       4  217941                    Дубли  61511507094d6101   \n",
              "4       1  3104       4  217977                    Дубли  4d4dc94f47591945   \n",
              "\n",
              "    ID_1_Pic_2_hash   ID_2_Pic_1_hash   ID_2_Pic_2_hash  hash_dist_pic_1  \\\n",
              "0  11971621f9e5ed4d  19f179593171d1b1  11971621f9e5ed4d                0   \n",
              "1  3565454765714f3f  f179717131716f71  3565454765714f3f                0   \n",
              "2  0000000000000000  0349333303070f03  0000000000000000               14   \n",
              "3  094165655151495d  61511507094d6101  094165655151495d                0   \n",
              "4  494f774949596945  4d4dc94f47591945  494f774949596945                0   \n",
              "\n",
              "   hash_dist_pic_2  \n",
              "0                0  \n",
              "1                0  \n",
              "2                0  \n",
              "3                0  \n",
              "4                0  "
            ],
            "text/html": [
              "\n",
              "  <div id=\"df-09d68251-651e-4f99-898c-d2d5e8fc17e9\">\n",
              "    <div class=\"colab-df-container\">\n",
              "      <div>\n",
              "<style scoped>\n",
              "    .dataframe tbody tr th:only-of-type {\n",
              "        vertical-align: middle;\n",
              "    }\n",
              "\n",
              "    .dataframe tbody tr th {\n",
              "        vertical-align: top;\n",
              "    }\n",
              "\n",
              "    .dataframe thead th {\n",
              "        text-align: right;\n",
              "    }\n",
              "</style>\n",
              "<table border=\"1\" class=\"dataframe\">\n",
              "  <thead>\n",
              "    <tr style=\"text-align: right;\">\n",
              "      <th></th>\n",
              "      <th>base_1</th>\n",
              "      <th>ID_1</th>\n",
              "      <th>base_2</th>\n",
              "      <th>ID_2</th>\n",
              "      <th>label</th>\n",
              "      <th>ID_1_Pic_1_hash</th>\n",
              "      <th>ID_1_Pic_2_hash</th>\n",
              "      <th>ID_2_Pic_1_hash</th>\n",
              "      <th>ID_2_Pic_2_hash</th>\n",
              "      <th>hash_dist_pic_1</th>\n",
              "      <th>hash_dist_pic_2</th>\n",
              "    </tr>\n",
              "  </thead>\n",
              "  <tbody>\n",
              "    <tr>\n",
              "      <th>0</th>\n",
              "      <td>1</td>\n",
              "      <td>1204</td>\n",
              "      <td>4</td>\n",
              "      <td>216471</td>\n",
              "      <td>Дубли</td>\n",
              "      <td>19f179593171d1b1</td>\n",
              "      <td>11971621f9e5ed4d</td>\n",
              "      <td>19f179593171d1b1</td>\n",
              "      <td>11971621f9e5ed4d</td>\n",
              "      <td>0</td>\n",
              "      <td>0</td>\n",
              "    </tr>\n",
              "    <tr>\n",
              "      <th>1</th>\n",
              "      <td>1</td>\n",
              "      <td>1205</td>\n",
              "      <td>4</td>\n",
              "      <td>216472</td>\n",
              "      <td>Дубли</td>\n",
              "      <td>f179717131716f71</td>\n",
              "      <td>3565454765714f3f</td>\n",
              "      <td>f179717131716f71</td>\n",
              "      <td>3565454765714f3f</td>\n",
              "      <td>0</td>\n",
              "      <td>0</td>\n",
              "    </tr>\n",
              "    <tr>\n",
              "      <th>2</th>\n",
              "      <td>1</td>\n",
              "      <td>2145</td>\n",
              "      <td>4</td>\n",
              "      <td>217037</td>\n",
              "      <td>Разные лицевая и оборот</td>\n",
              "      <td>4965312101010303</td>\n",
              "      <td>0000000000000000</td>\n",
              "      <td>0349333303070f03</td>\n",
              "      <td>0000000000000000</td>\n",
              "      <td>14</td>\n",
              "      <td>0</td>\n",
              "    </tr>\n",
              "    <tr>\n",
              "      <th>3</th>\n",
              "      <td>1</td>\n",
              "      <td>3103</td>\n",
              "      <td>4</td>\n",
              "      <td>217941</td>\n",
              "      <td>Дубли</td>\n",
              "      <td>61511507094d6101</td>\n",
              "      <td>094165655151495d</td>\n",
              "      <td>61511507094d6101</td>\n",
              "      <td>094165655151495d</td>\n",
              "      <td>0</td>\n",
              "      <td>0</td>\n",
              "    </tr>\n",
              "    <tr>\n",
              "      <th>4</th>\n",
              "      <td>1</td>\n",
              "      <td>3104</td>\n",
              "      <td>4</td>\n",
              "      <td>217977</td>\n",
              "      <td>Дубли</td>\n",
              "      <td>4d4dc94f47591945</td>\n",
              "      <td>494f774949596945</td>\n",
              "      <td>4d4dc94f47591945</td>\n",
              "      <td>494f774949596945</td>\n",
              "      <td>0</td>\n",
              "      <td>0</td>\n",
              "    </tr>\n",
              "  </tbody>\n",
              "</table>\n",
              "</div>\n",
              "      <button class=\"colab-df-convert\" onclick=\"convertToInteractive('df-09d68251-651e-4f99-898c-d2d5e8fc17e9')\"\n",
              "              title=\"Convert this dataframe to an interactive table.\"\n",
              "              style=\"display:none;\">\n",
              "        \n",
              "  <svg xmlns=\"http://www.w3.org/2000/svg\" height=\"24px\"viewBox=\"0 0 24 24\"\n",
              "       width=\"24px\">\n",
              "    <path d=\"M0 0h24v24H0V0z\" fill=\"none\"/>\n",
              "    <path d=\"M18.56 5.44l.94 2.06.94-2.06 2.06-.94-2.06-.94-.94-2.06-.94 2.06-2.06.94zm-11 1L8.5 8.5l.94-2.06 2.06-.94-2.06-.94L8.5 2.5l-.94 2.06-2.06.94zm10 10l.94 2.06.94-2.06 2.06-.94-2.06-.94-.94-2.06-.94 2.06-2.06.94z\"/><path d=\"M17.41 7.96l-1.37-1.37c-.4-.4-.92-.59-1.43-.59-.52 0-1.04.2-1.43.59L10.3 9.45l-7.72 7.72c-.78.78-.78 2.05 0 2.83L4 21.41c.39.39.9.59 1.41.59.51 0 1.02-.2 1.41-.59l7.78-7.78 2.81-2.81c.8-.78.8-2.07 0-2.86zM5.41 20L4 18.59l7.72-7.72 1.47 1.35L5.41 20z\"/>\n",
              "  </svg>\n",
              "      </button>\n",
              "      \n",
              "  <style>\n",
              "    .colab-df-container {\n",
              "      display:flex;\n",
              "      flex-wrap:wrap;\n",
              "      gap: 12px;\n",
              "    }\n",
              "\n",
              "    .colab-df-convert {\n",
              "      background-color: #E8F0FE;\n",
              "      border: none;\n",
              "      border-radius: 50%;\n",
              "      cursor: pointer;\n",
              "      display: none;\n",
              "      fill: #1967D2;\n",
              "      height: 32px;\n",
              "      padding: 0 0 0 0;\n",
              "      width: 32px;\n",
              "    }\n",
              "\n",
              "    .colab-df-convert:hover {\n",
              "      background-color: #E2EBFA;\n",
              "      box-shadow: 0px 1px 2px rgba(60, 64, 67, 0.3), 0px 1px 3px 1px rgba(60, 64, 67, 0.15);\n",
              "      fill: #174EA6;\n",
              "    }\n",
              "\n",
              "    [theme=dark] .colab-df-convert {\n",
              "      background-color: #3B4455;\n",
              "      fill: #D2E3FC;\n",
              "    }\n",
              "\n",
              "    [theme=dark] .colab-df-convert:hover {\n",
              "      background-color: #434B5C;\n",
              "      box-shadow: 0px 1px 3px 1px rgba(0, 0, 0, 0.15);\n",
              "      filter: drop-shadow(0px 1px 2px rgba(0, 0, 0, 0.3));\n",
              "      fill: #FFFFFF;\n",
              "    }\n",
              "  </style>\n",
              "\n",
              "      <script>\n",
              "        const buttonEl =\n",
              "          document.querySelector('#df-09d68251-651e-4f99-898c-d2d5e8fc17e9 button.colab-df-convert');\n",
              "        buttonEl.style.display =\n",
              "          google.colab.kernel.accessAllowed ? 'block' : 'none';\n",
              "\n",
              "        async function convertToInteractive(key) {\n",
              "          const element = document.querySelector('#df-09d68251-651e-4f99-898c-d2d5e8fc17e9');\n",
              "          const dataTable =\n",
              "            await google.colab.kernel.invokeFunction('convertToInteractive',\n",
              "                                                     [key], {});\n",
              "          if (!dataTable) return;\n",
              "\n",
              "          const docLinkHtml = 'Like what you see? Visit the ' +\n",
              "            '<a target=\"_blank\" href=https://colab.research.google.com/notebooks/data_table.ipynb>data table notebook</a>'\n",
              "            + ' to learn more about interactive tables.';\n",
              "          element.innerHTML = '';\n",
              "          dataTable['output_type'] = 'display_data';\n",
              "          await google.colab.output.renderOutput(dataTable, element);\n",
              "          const docLink = document.createElement('div');\n",
              "          docLink.innerHTML = docLinkHtml;\n",
              "          element.appendChild(docLink);\n",
              "        }\n",
              "      </script>\n",
              "    </div>\n",
              "  </div>\n",
              "  "
            ]
          },
          "metadata": {},
          "execution_count": 10
        }
      ]
    },
    {
      "cell_type": "markdown",
      "source": [
        "## Добавляем разметку\n"
      ],
      "metadata": {
        "id": "7RpWMYpQcgd7"
      }
    },
    {
      "cell_type": "markdown",
      "source": [
        "Исключаем автоматическую разметку"
      ],
      "metadata": {
        "id": "ZQuC0UT2YfDD"
      }
    },
    {
      "cell_type": "code",
      "source": [
        "def is_auto_label(ID_2, base_2, hash_dist_pic_1, hash_dist_pic_2):\n",
        "  if ID_2 <= 220134 or base_2 == 5:\n",
        "    return False\n",
        "  if hash_dist_pic_1 == 0 or hash_dist_pic_2 == 0:\n",
        "    return True\n",
        "  if hash_dist_pic_1 <= 3 and hash_dist_pic_2 <= 3:\n",
        "    return True\n",
        "  return False"
      ],
      "metadata": {
        "id": "ZzUU71HHdX_2"
      },
      "execution_count": null,
      "outputs": []
    },
    {
      "cell_type": "code",
      "source": [
        "labels_df['auto_label'] = labels_df.apply(\n",
        "    lambda row: is_auto_label(row['ID_2'], row['base_2'], \n",
        "                              row['hash_dist_pic_1'], \n",
        "                              row['hash_dist_pic_2']),\n",
        "    axis=1\n",
        ")\n",
        "labels_df['auto_label'].value_counts()"
      ],
      "metadata": {
        "colab": {
          "base_uri": "https://localhost:8080/"
        },
        "id": "klVPW5aNeIMi",
        "outputId": "1ec6e90b-a262-440a-bedb-826c9cd84948"
      },
      "execution_count": null,
      "outputs": [
        {
          "output_type": "execute_result",
          "data": {
            "text/plain": [
              "False    2268\n",
              "True     1074\n",
              "Name: auto_label, dtype: int64"
            ]
          },
          "metadata": {},
          "execution_count": 15
        }
      ]
    },
    {
      "cell_type": "code",
      "source": [
        "labels_df = labels_df[~labels_df['auto_label']]\n",
        "labels_df.shape"
      ],
      "metadata": {
        "colab": {
          "base_uri": "https://localhost:8080/"
        },
        "id": "nL6XF59uefyz",
        "outputId": "f137fc4c-6bc6-4231-dfbc-ee500232896b"
      },
      "execution_count": null,
      "outputs": [
        {
          "output_type": "execute_result",
          "data": {
            "text/plain": [
              "(2268, 12)"
            ]
          },
          "metadata": {},
          "execution_count": 16
        }
      ]
    },
    {
      "cell_type": "markdown",
      "source": [
        "Переводим разметку в True/False для лицевой и оборотной стороны"
      ],
      "metadata": {
        "id": "SFLlPUfmgJP7"
      }
    },
    {
      "cell_type": "code",
      "source": [
        "labels_df['label'].value_counts()"
      ],
      "metadata": {
        "colab": {
          "base_uri": "https://localhost:8080/"
        },
        "id": "8QWK6st9gYZn",
        "outputId": "099bc1b7-5821-40b3-c4f2-9e7467b1b258"
      },
      "execution_count": null,
      "outputs": [
        {
          "output_type": "execute_result",
          "data": {
            "text/plain": [
              "Разные лицевая и оборот                 1244\n",
              "Дубли                                    857\n",
              "Совпадает лицевая, оборот отличается     167\n",
              "Name: label, dtype: int64"
            ]
          },
          "metadata": {},
          "execution_count": 89
        }
      ]
    },
    {
      "cell_type": "code",
      "source": [
        "labels_df['truth_pic_1'] = labels_df['label'].apply(\n",
        "    lambda x: x == 'Дубли' or x == 'Совпадает лицевая, оборот отличается'\n",
        ")\n",
        "labels_df['truth_pic_2'] = labels_df['label'].apply(\n",
        "    lambda x: x == 'Дубли'\n",
        ")\n",
        "labels_df['truth_postcard'] = labels_df['label'].apply(\n",
        "    lambda x: x == 'Дубли'\n",
        ")"
      ],
      "metadata": {
        "id": "Yf9iFi5tcmj6"
      },
      "execution_count": null,
      "outputs": []
    },
    {
      "cell_type": "markdown",
      "source": [
        "Добавляем столбец предсказаний"
      ],
      "metadata": {
        "id": "1SP_T4yIyEni"
      }
    },
    {
      "cell_type": "code",
      "source": [
        "labels_df['pred_pic_1'] = labels_df['hash_dist_pic_1'].apply(\n",
        "    lambda x: x <= 3\n",
        ")\n",
        "\n",
        "labels_df['pred_pic_2'] = labels_df['hash_dist_pic_2'].apply(\n",
        "    lambda x: x <= 3\n",
        ")\n",
        "\n",
        "labels_df['pred_postcard'] = labels_df.apply(\n",
        "    lambda row: row['hash_dist_pic_1'] <= 3 or row['hash_dist_pic_2'] <= 3,\n",
        "    axis=1\n",
        ")"
      ],
      "metadata": {
        "id": "eOHNM0s_fLny"
      },
      "execution_count": null,
      "outputs": []
    },
    {
      "cell_type": "code",
      "source": [
        "labels_df['pred_postcard'].value_counts()"
      ],
      "metadata": {
        "colab": {
          "base_uri": "https://localhost:8080/"
        },
        "id": "LzBr59E9gh9z",
        "outputId": "ce09fa17-6c2f-4c8b-a45c-0804b6b5cc3b"
      },
      "execution_count": null,
      "outputs": [
        {
          "output_type": "execute_result",
          "data": {
            "text/plain": [
              "True     2221\n",
              "False      47\n",
              "Name: pred_postcard, dtype: int64"
            ]
          },
          "metadata": {},
          "execution_count": 51
        }
      ]
    },
    {
      "cell_type": "markdown",
      "source": [
        "False есть из-за того, что кое-где лицевая сторона дублировала оборотную (с расстоянием 1), и это попало в таблицу, хотя не должно было"
      ],
      "metadata": {
        "id": "SOf7YDrliJM4"
      }
    },
    {
      "cell_type": "markdown",
      "source": [
        "Берем часть датасета, где вся разметка была ручной"
      ],
      "metadata": {
        "id": "_K_CoybrneFY"
      }
    },
    {
      "cell_type": "code",
      "source": [
        "hand_labels_df = labels_df[(labels_df['ID_2'] <= 220134) | (labels_df['base_2'] == 5)]\n",
        "hand_labels_df.shape"
      ],
      "metadata": {
        "colab": {
          "base_uri": "https://localhost:8080/"
        },
        "id": "LLOxg16aUwN6",
        "outputId": "11d7abaa-26f1-4684-d70e-eaaeb21cd8aa"
      },
      "execution_count": null,
      "outputs": [
        {
          "output_type": "execute_result",
          "data": {
            "text/plain": [
              "(1238, 17)"
            ]
          },
          "metadata": {},
          "execution_count": 13
        }
      ]
    },
    {
      "cell_type": "code",
      "source": [
        "hand_labels_df['pred_postcard'].value_counts()"
      ],
      "metadata": {
        "colab": {
          "base_uri": "https://localhost:8080/"
        },
        "id": "f_1bJE9bo4cA",
        "outputId": "ee438e00-9541-41e2-fc48-507525900122"
      },
      "execution_count": null,
      "outputs": [
        {
          "output_type": "execute_result",
          "data": {
            "text/plain": [
              "True     1224\n",
              "False      14\n",
              "Name: pred_postcard, dtype: int64"
            ]
          },
          "metadata": {},
          "execution_count": 18
        }
      ]
    },
    {
      "cell_type": "code",
      "source": [
        "1238 * 2"
      ],
      "metadata": {
        "colab": {
          "base_uri": "https://localhost:8080/"
        },
        "id": "G4exeO71jHDZ",
        "outputId": "a248f807-3888-45db-8507-c76601baa52e"
      },
      "execution_count": null,
      "outputs": [
        {
          "output_type": "execute_result",
          "data": {
            "text/plain": [
              "2476"
            ]
          },
          "metadata": {},
          "execution_count": 59
        }
      ]
    },
    {
      "cell_type": "markdown",
      "source": [
        "## Датасет"
      ],
      "metadata": {
        "id": "pqAFvedoglMA"
      }
    },
    {
      "cell_type": "markdown",
      "source": [
        "Ручная разметка"
      ],
      "metadata": {
        "id": "w4ioY5Np8jg3"
      }
    },
    {
      "cell_type": "code",
      "source": [
        "hand_labels_df = hand_labels_df[['base_1', 'ID_1', 'base_2', 'ID_2', \n",
        "                                 'ID_1_Pic_1_hash', 'ID_1_Pic_2_hash',\n",
        "                                 'ID_2_Pic_1_hash', 'ID_2_Pic_2_hash',\n",
        "                                 'hash_dist_pic_1', 'hash_dist_pic_2',\n",
        "                                 'truth_postcard', 'pred_postcard']]\n",
        "hand_labels_df['is_auto_labelled'] = False\n",
        "hand_labels_df.head()"
      ],
      "metadata": {
        "colab": {
          "base_uri": "https://localhost:8080/",
          "height": 376
        },
        "id": "j4ctjZJW5EdY",
        "outputId": "2192844a-a82e-4cb1-ee2d-59dd246fb82f"
      },
      "execution_count": 14,
      "outputs": [
        {
          "output_type": "stream",
          "name": "stderr",
          "text": [
            "<ipython-input-14-c8c7f23f104f>:6: SettingWithCopyWarning: \n",
            "A value is trying to be set on a copy of a slice from a DataFrame.\n",
            "Try using .loc[row_indexer,col_indexer] = value instead\n",
            "\n",
            "See the caveats in the documentation: https://pandas.pydata.org/pandas-docs/stable/user_guide/indexing.html#returning-a-view-versus-a-copy\n",
            "  hand_labels_df['is_auto_labelled'] = False\n"
          ]
        },
        {
          "output_type": "execute_result",
          "data": {
            "text/plain": [
              "   base_1  ID_1  base_2    ID_2   ID_1_Pic_1_hash   ID_1_Pic_2_hash  \\\n",
              "0       1  1204       4  216471  19f179593171d1b1  11971621f9e5ed4d   \n",
              "1       1  1205       4  216472  f179717131716f71  3565454765714f3f   \n",
              "2       1  2145       4  217037  4965312101010303  0000000000000000   \n",
              "3       1  3103       4  217941  61511507094d6101  094165655151495d   \n",
              "4       1  3104       4  217977  4d4dc94f47591945  494f774949596945   \n",
              "\n",
              "    ID_2_Pic_1_hash   ID_2_Pic_2_hash  hash_dist_pic_1  hash_dist_pic_2  \\\n",
              "0  19f179593171d1b1  11971621f9e5ed4d                0                0   \n",
              "1  f179717131716f71  3565454765714f3f                0                0   \n",
              "2  0349333303070f03  0000000000000000               14                0   \n",
              "3  61511507094d6101  094165655151495d                0                0   \n",
              "4  4d4dc94f47591945  494f774949596945                0                0   \n",
              "\n",
              "   truth_postcard  pred_postcard  is_auto_labelled  \n",
              "0            True           True             False  \n",
              "1            True           True             False  \n",
              "2           False           True             False  \n",
              "3            True           True             False  \n",
              "4            True           True             False  "
            ],
            "text/html": [
              "\n",
              "  <div id=\"df-0fc419ac-f944-4aa5-9eac-28e6e1e1e151\">\n",
              "    <div class=\"colab-df-container\">\n",
              "      <div>\n",
              "<style scoped>\n",
              "    .dataframe tbody tr th:only-of-type {\n",
              "        vertical-align: middle;\n",
              "    }\n",
              "\n",
              "    .dataframe tbody tr th {\n",
              "        vertical-align: top;\n",
              "    }\n",
              "\n",
              "    .dataframe thead th {\n",
              "        text-align: right;\n",
              "    }\n",
              "</style>\n",
              "<table border=\"1\" class=\"dataframe\">\n",
              "  <thead>\n",
              "    <tr style=\"text-align: right;\">\n",
              "      <th></th>\n",
              "      <th>base_1</th>\n",
              "      <th>ID_1</th>\n",
              "      <th>base_2</th>\n",
              "      <th>ID_2</th>\n",
              "      <th>ID_1_Pic_1_hash</th>\n",
              "      <th>ID_1_Pic_2_hash</th>\n",
              "      <th>ID_2_Pic_1_hash</th>\n",
              "      <th>ID_2_Pic_2_hash</th>\n",
              "      <th>hash_dist_pic_1</th>\n",
              "      <th>hash_dist_pic_2</th>\n",
              "      <th>truth_postcard</th>\n",
              "      <th>pred_postcard</th>\n",
              "      <th>is_auto_labelled</th>\n",
              "    </tr>\n",
              "  </thead>\n",
              "  <tbody>\n",
              "    <tr>\n",
              "      <th>0</th>\n",
              "      <td>1</td>\n",
              "      <td>1204</td>\n",
              "      <td>4</td>\n",
              "      <td>216471</td>\n",
              "      <td>19f179593171d1b1</td>\n",
              "      <td>11971621f9e5ed4d</td>\n",
              "      <td>19f179593171d1b1</td>\n",
              "      <td>11971621f9e5ed4d</td>\n",
              "      <td>0</td>\n",
              "      <td>0</td>\n",
              "      <td>True</td>\n",
              "      <td>True</td>\n",
              "      <td>False</td>\n",
              "    </tr>\n",
              "    <tr>\n",
              "      <th>1</th>\n",
              "      <td>1</td>\n",
              "      <td>1205</td>\n",
              "      <td>4</td>\n",
              "      <td>216472</td>\n",
              "      <td>f179717131716f71</td>\n",
              "      <td>3565454765714f3f</td>\n",
              "      <td>f179717131716f71</td>\n",
              "      <td>3565454765714f3f</td>\n",
              "      <td>0</td>\n",
              "      <td>0</td>\n",
              "      <td>True</td>\n",
              "      <td>True</td>\n",
              "      <td>False</td>\n",
              "    </tr>\n",
              "    <tr>\n",
              "      <th>2</th>\n",
              "      <td>1</td>\n",
              "      <td>2145</td>\n",
              "      <td>4</td>\n",
              "      <td>217037</td>\n",
              "      <td>4965312101010303</td>\n",
              "      <td>0000000000000000</td>\n",
              "      <td>0349333303070f03</td>\n",
              "      <td>0000000000000000</td>\n",
              "      <td>14</td>\n",
              "      <td>0</td>\n",
              "      <td>False</td>\n",
              "      <td>True</td>\n",
              "      <td>False</td>\n",
              "    </tr>\n",
              "    <tr>\n",
              "      <th>3</th>\n",
              "      <td>1</td>\n",
              "      <td>3103</td>\n",
              "      <td>4</td>\n",
              "      <td>217941</td>\n",
              "      <td>61511507094d6101</td>\n",
              "      <td>094165655151495d</td>\n",
              "      <td>61511507094d6101</td>\n",
              "      <td>094165655151495d</td>\n",
              "      <td>0</td>\n",
              "      <td>0</td>\n",
              "      <td>True</td>\n",
              "      <td>True</td>\n",
              "      <td>False</td>\n",
              "    </tr>\n",
              "    <tr>\n",
              "      <th>4</th>\n",
              "      <td>1</td>\n",
              "      <td>3104</td>\n",
              "      <td>4</td>\n",
              "      <td>217977</td>\n",
              "      <td>4d4dc94f47591945</td>\n",
              "      <td>494f774949596945</td>\n",
              "      <td>4d4dc94f47591945</td>\n",
              "      <td>494f774949596945</td>\n",
              "      <td>0</td>\n",
              "      <td>0</td>\n",
              "      <td>True</td>\n",
              "      <td>True</td>\n",
              "      <td>False</td>\n",
              "    </tr>\n",
              "  </tbody>\n",
              "</table>\n",
              "</div>\n",
              "      <button class=\"colab-df-convert\" onclick=\"convertToInteractive('df-0fc419ac-f944-4aa5-9eac-28e6e1e1e151')\"\n",
              "              title=\"Convert this dataframe to an interactive table.\"\n",
              "              style=\"display:none;\">\n",
              "        \n",
              "  <svg xmlns=\"http://www.w3.org/2000/svg\" height=\"24px\"viewBox=\"0 0 24 24\"\n",
              "       width=\"24px\">\n",
              "    <path d=\"M0 0h24v24H0V0z\" fill=\"none\"/>\n",
              "    <path d=\"M18.56 5.44l.94 2.06.94-2.06 2.06-.94-2.06-.94-.94-2.06-.94 2.06-2.06.94zm-11 1L8.5 8.5l.94-2.06 2.06-.94-2.06-.94L8.5 2.5l-.94 2.06-2.06.94zm10 10l.94 2.06.94-2.06 2.06-.94-2.06-.94-.94-2.06-.94 2.06-2.06.94z\"/><path d=\"M17.41 7.96l-1.37-1.37c-.4-.4-.92-.59-1.43-.59-.52 0-1.04.2-1.43.59L10.3 9.45l-7.72 7.72c-.78.78-.78 2.05 0 2.83L4 21.41c.39.39.9.59 1.41.59.51 0 1.02-.2 1.41-.59l7.78-7.78 2.81-2.81c.8-.78.8-2.07 0-2.86zM5.41 20L4 18.59l7.72-7.72 1.47 1.35L5.41 20z\"/>\n",
              "  </svg>\n",
              "      </button>\n",
              "      \n",
              "  <style>\n",
              "    .colab-df-container {\n",
              "      display:flex;\n",
              "      flex-wrap:wrap;\n",
              "      gap: 12px;\n",
              "    }\n",
              "\n",
              "    .colab-df-convert {\n",
              "      background-color: #E8F0FE;\n",
              "      border: none;\n",
              "      border-radius: 50%;\n",
              "      cursor: pointer;\n",
              "      display: none;\n",
              "      fill: #1967D2;\n",
              "      height: 32px;\n",
              "      padding: 0 0 0 0;\n",
              "      width: 32px;\n",
              "    }\n",
              "\n",
              "    .colab-df-convert:hover {\n",
              "      background-color: #E2EBFA;\n",
              "      box-shadow: 0px 1px 2px rgba(60, 64, 67, 0.3), 0px 1px 3px 1px rgba(60, 64, 67, 0.15);\n",
              "      fill: #174EA6;\n",
              "    }\n",
              "\n",
              "    [theme=dark] .colab-df-convert {\n",
              "      background-color: #3B4455;\n",
              "      fill: #D2E3FC;\n",
              "    }\n",
              "\n",
              "    [theme=dark] .colab-df-convert:hover {\n",
              "      background-color: #434B5C;\n",
              "      box-shadow: 0px 1px 3px 1px rgba(0, 0, 0, 0.15);\n",
              "      filter: drop-shadow(0px 1px 2px rgba(0, 0, 0, 0.3));\n",
              "      fill: #FFFFFF;\n",
              "    }\n",
              "  </style>\n",
              "\n",
              "      <script>\n",
              "        const buttonEl =\n",
              "          document.querySelector('#df-0fc419ac-f944-4aa5-9eac-28e6e1e1e151 button.colab-df-convert');\n",
              "        buttonEl.style.display =\n",
              "          google.colab.kernel.accessAllowed ? 'block' : 'none';\n",
              "\n",
              "        async function convertToInteractive(key) {\n",
              "          const element = document.querySelector('#df-0fc419ac-f944-4aa5-9eac-28e6e1e1e151');\n",
              "          const dataTable =\n",
              "            await google.colab.kernel.invokeFunction('convertToInteractive',\n",
              "                                                     [key], {});\n",
              "          if (!dataTable) return;\n",
              "\n",
              "          const docLinkHtml = 'Like what you see? Visit the ' +\n",
              "            '<a target=\"_blank\" href=https://colab.research.google.com/notebooks/data_table.ipynb>data table notebook</a>'\n",
              "            + ' to learn more about interactive tables.';\n",
              "          element.innerHTML = '';\n",
              "          dataTable['output_type'] = 'display_data';\n",
              "          await google.colab.output.renderOutput(dataTable, element);\n",
              "          const docLink = document.createElement('div');\n",
              "          docLink.innerHTML = docLinkHtml;\n",
              "          element.appendChild(docLink);\n",
              "        }\n",
              "      </script>\n",
              "    </div>\n",
              "  </div>\n",
              "  "
            ]
          },
          "metadata": {},
          "execution_count": 14
        }
      ]
    },
    {
      "cell_type": "code",
      "source": [
        "hand_labels_df.shape"
      ],
      "metadata": {
        "colab": {
          "base_uri": "https://localhost:8080/"
        },
        "id": "WkPmhgyV8oru",
        "outputId": "d99073e5-072c-4600-e619-ec962ae48581"
      },
      "execution_count": 15,
      "outputs": [
        {
          "output_type": "execute_result",
          "data": {
            "text/plain": [
              "(1238, 13)"
            ]
          },
          "metadata": {},
          "execution_count": 15
        }
      ]
    },
    {
      "cell_type": "markdown",
      "source": [
        "Добавляем еще рандомных пар до 10 000. Предполагается, что среди них дубликатов нет"
      ],
      "metadata": {
        "id": "yQtd13bP8rQQ"
      }
    },
    {
      "cell_type": "code",
      "source": [
        "auto_labels_pic_1 = hash_df[hash_df['Pic'] == 1][['base', 'ID', 'hash']]\n",
        "auto_labels_pic_1 = auto_labels_pic_1.rename(columns={\n",
        "    'base': 'base_1',\n",
        "    'ID': 'ID_1',\n",
        "    'hash': 'ID_1_Pic_1_hash'\n",
        "})\n",
        "\n",
        "auto_labels_pic_2 = hash_df[hash_df['Pic'] == 2][['base', 'ID', 'hash']]\n",
        "auto_labels_pic_2 = auto_labels_pic_2.rename(columns={\n",
        "    'base': 'base_1',\n",
        "    'ID': 'ID_1',\n",
        "    'hash': 'ID_1_Pic_2_hash'\n",
        "})\n",
        "\n",
        "auto_labels_1 = auto_labels_pic_1.merge(auto_labels_pic_2, on=['ID_1', 'base_1'], how='inner')\n",
        "auto_labels_1.head()"
      ],
      "metadata": {
        "colab": {
          "base_uri": "https://localhost:8080/",
          "height": 206
        },
        "id": "yG03nm5j9G8J",
        "outputId": "27eb64a0-9c4c-4ec3-ab7e-743d442bd820"
      },
      "execution_count": 16,
      "outputs": [
        {
          "output_type": "execute_result",
          "data": {
            "text/plain": [
              "   base_1  ID_1   ID_1_Pic_1_hash   ID_1_Pic_2_hash\n",
              "0       1    48  1086cf8d0f4b4301  6848c949965af3b0\n",
              "1       1    49  e8fcfeedfcded8bc  9a929292a292b296\n",
              "2       1    50  9d999b1d6d7d5667  40c4d49d4c1d0f03\n",
              "3       1    51  4145797d65416473  7571517539397967\n",
              "4       1    52  baba868672e080e0  b29692909899d9f8"
            ],
            "text/html": [
              "\n",
              "  <div id=\"df-ac808963-526f-4bbe-91dc-5161855f0743\">\n",
              "    <div class=\"colab-df-container\">\n",
              "      <div>\n",
              "<style scoped>\n",
              "    .dataframe tbody tr th:only-of-type {\n",
              "        vertical-align: middle;\n",
              "    }\n",
              "\n",
              "    .dataframe tbody tr th {\n",
              "        vertical-align: top;\n",
              "    }\n",
              "\n",
              "    .dataframe thead th {\n",
              "        text-align: right;\n",
              "    }\n",
              "</style>\n",
              "<table border=\"1\" class=\"dataframe\">\n",
              "  <thead>\n",
              "    <tr style=\"text-align: right;\">\n",
              "      <th></th>\n",
              "      <th>base_1</th>\n",
              "      <th>ID_1</th>\n",
              "      <th>ID_1_Pic_1_hash</th>\n",
              "      <th>ID_1_Pic_2_hash</th>\n",
              "    </tr>\n",
              "  </thead>\n",
              "  <tbody>\n",
              "    <tr>\n",
              "      <th>0</th>\n",
              "      <td>1</td>\n",
              "      <td>48</td>\n",
              "      <td>1086cf8d0f4b4301</td>\n",
              "      <td>6848c949965af3b0</td>\n",
              "    </tr>\n",
              "    <tr>\n",
              "      <th>1</th>\n",
              "      <td>1</td>\n",
              "      <td>49</td>\n",
              "      <td>e8fcfeedfcded8bc</td>\n",
              "      <td>9a929292a292b296</td>\n",
              "    </tr>\n",
              "    <tr>\n",
              "      <th>2</th>\n",
              "      <td>1</td>\n",
              "      <td>50</td>\n",
              "      <td>9d999b1d6d7d5667</td>\n",
              "      <td>40c4d49d4c1d0f03</td>\n",
              "    </tr>\n",
              "    <tr>\n",
              "      <th>3</th>\n",
              "      <td>1</td>\n",
              "      <td>51</td>\n",
              "      <td>4145797d65416473</td>\n",
              "      <td>7571517539397967</td>\n",
              "    </tr>\n",
              "    <tr>\n",
              "      <th>4</th>\n",
              "      <td>1</td>\n",
              "      <td>52</td>\n",
              "      <td>baba868672e080e0</td>\n",
              "      <td>b29692909899d9f8</td>\n",
              "    </tr>\n",
              "  </tbody>\n",
              "</table>\n",
              "</div>\n",
              "      <button class=\"colab-df-convert\" onclick=\"convertToInteractive('df-ac808963-526f-4bbe-91dc-5161855f0743')\"\n",
              "              title=\"Convert this dataframe to an interactive table.\"\n",
              "              style=\"display:none;\">\n",
              "        \n",
              "  <svg xmlns=\"http://www.w3.org/2000/svg\" height=\"24px\"viewBox=\"0 0 24 24\"\n",
              "       width=\"24px\">\n",
              "    <path d=\"M0 0h24v24H0V0z\" fill=\"none\"/>\n",
              "    <path d=\"M18.56 5.44l.94 2.06.94-2.06 2.06-.94-2.06-.94-.94-2.06-.94 2.06-2.06.94zm-11 1L8.5 8.5l.94-2.06 2.06-.94-2.06-.94L8.5 2.5l-.94 2.06-2.06.94zm10 10l.94 2.06.94-2.06 2.06-.94-2.06-.94-.94-2.06-.94 2.06-2.06.94z\"/><path d=\"M17.41 7.96l-1.37-1.37c-.4-.4-.92-.59-1.43-.59-.52 0-1.04.2-1.43.59L10.3 9.45l-7.72 7.72c-.78.78-.78 2.05 0 2.83L4 21.41c.39.39.9.59 1.41.59.51 0 1.02-.2 1.41-.59l7.78-7.78 2.81-2.81c.8-.78.8-2.07 0-2.86zM5.41 20L4 18.59l7.72-7.72 1.47 1.35L5.41 20z\"/>\n",
              "  </svg>\n",
              "      </button>\n",
              "      \n",
              "  <style>\n",
              "    .colab-df-container {\n",
              "      display:flex;\n",
              "      flex-wrap:wrap;\n",
              "      gap: 12px;\n",
              "    }\n",
              "\n",
              "    .colab-df-convert {\n",
              "      background-color: #E8F0FE;\n",
              "      border: none;\n",
              "      border-radius: 50%;\n",
              "      cursor: pointer;\n",
              "      display: none;\n",
              "      fill: #1967D2;\n",
              "      height: 32px;\n",
              "      padding: 0 0 0 0;\n",
              "      width: 32px;\n",
              "    }\n",
              "\n",
              "    .colab-df-convert:hover {\n",
              "      background-color: #E2EBFA;\n",
              "      box-shadow: 0px 1px 2px rgba(60, 64, 67, 0.3), 0px 1px 3px 1px rgba(60, 64, 67, 0.15);\n",
              "      fill: #174EA6;\n",
              "    }\n",
              "\n",
              "    [theme=dark] .colab-df-convert {\n",
              "      background-color: #3B4455;\n",
              "      fill: #D2E3FC;\n",
              "    }\n",
              "\n",
              "    [theme=dark] .colab-df-convert:hover {\n",
              "      background-color: #434B5C;\n",
              "      box-shadow: 0px 1px 3px 1px rgba(0, 0, 0, 0.15);\n",
              "      filter: drop-shadow(0px 1px 2px rgba(0, 0, 0, 0.3));\n",
              "      fill: #FFFFFF;\n",
              "    }\n",
              "  </style>\n",
              "\n",
              "      <script>\n",
              "        const buttonEl =\n",
              "          document.querySelector('#df-ac808963-526f-4bbe-91dc-5161855f0743 button.colab-df-convert');\n",
              "        buttonEl.style.display =\n",
              "          google.colab.kernel.accessAllowed ? 'block' : 'none';\n",
              "\n",
              "        async function convertToInteractive(key) {\n",
              "          const element = document.querySelector('#df-ac808963-526f-4bbe-91dc-5161855f0743');\n",
              "          const dataTable =\n",
              "            await google.colab.kernel.invokeFunction('convertToInteractive',\n",
              "                                                     [key], {});\n",
              "          if (!dataTable) return;\n",
              "\n",
              "          const docLinkHtml = 'Like what you see? Visit the ' +\n",
              "            '<a target=\"_blank\" href=https://colab.research.google.com/notebooks/data_table.ipynb>data table notebook</a>'\n",
              "            + ' to learn more about interactive tables.';\n",
              "          element.innerHTML = '';\n",
              "          dataTable['output_type'] = 'display_data';\n",
              "          await google.colab.output.renderOutput(dataTable, element);\n",
              "          const docLink = document.createElement('div');\n",
              "          docLink.innerHTML = docLinkHtml;\n",
              "          element.appendChild(docLink);\n",
              "        }\n",
              "      </script>\n",
              "    </div>\n",
              "  </div>\n",
              "  "
            ]
          },
          "metadata": {},
          "execution_count": 16
        }
      ]
    },
    {
      "cell_type": "code",
      "source": [
        "auto_labels_1.shape"
      ],
      "metadata": {
        "colab": {
          "base_uri": "https://localhost:8080/"
        },
        "id": "gKTEJbq8_ylT",
        "outputId": "b1c85809-4465-4137-8998-b79829ea2baf"
      },
      "execution_count": 17,
      "outputs": [
        {
          "output_type": "execute_result",
          "data": {
            "text/plain": [
              "(32663, 4)"
            ]
          },
          "metadata": {},
          "execution_count": 17
        }
      ]
    },
    {
      "cell_type": "code",
      "source": [
        "auto_labels_1 = auto_labels_1.sample(frac=1).reset_index(drop=True)"
      ],
      "metadata": {
        "id": "-pB32hV3HVrU"
      },
      "execution_count": 17,
      "outputs": []
    },
    {
      "cell_type": "code",
      "source": [
        "auto_labels_pic_1 = hash_df[hash_df['Pic'] == 1][['base', 'ID', 'hash']]\n",
        "auto_labels_pic_1 = auto_labels_pic_1.rename(columns={\n",
        "    'base': 'base_2',\n",
        "    'ID': 'ID_2',\n",
        "    'hash': 'ID_2_Pic_1_hash'\n",
        "})\n",
        "\n",
        "auto_labels_pic_2 = hash_df[hash_df['Pic'] == 2][['base', 'ID', 'hash']]\n",
        "auto_labels_pic_2 = auto_labels_pic_2.rename(columns={\n",
        "    'base': 'base_2',\n",
        "    'ID': 'ID_2',\n",
        "    'hash': 'ID_2_Pic_2_hash'\n",
        "})\n",
        "\n",
        "auto_labels_2 = auto_labels_pic_1.merge(auto_labels_pic_2, on=['ID_2', 'base_2'], how='inner')\n",
        "auto_labels_2.head()"
      ],
      "metadata": {
        "colab": {
          "base_uri": "https://localhost:8080/",
          "height": 206
        },
        "id": "m1nnh4DJ_aUo",
        "outputId": "fc2f0f5a-001f-4e16-c6a5-574175df1501"
      },
      "execution_count": 18,
      "outputs": [
        {
          "output_type": "execute_result",
          "data": {
            "text/plain": [
              "   base_2  ID_2   ID_2_Pic_1_hash   ID_2_Pic_2_hash\n",
              "0       1    48  1086cf8d0f4b4301  6848c949965af3b0\n",
              "1       1    49  e8fcfeedfcded8bc  9a929292a292b296\n",
              "2       1    50  9d999b1d6d7d5667  40c4d49d4c1d0f03\n",
              "3       1    51  4145797d65416473  7571517539397967\n",
              "4       1    52  baba868672e080e0  b29692909899d9f8"
            ],
            "text/html": [
              "\n",
              "  <div id=\"df-82ae45da-b1d4-4234-af43-99f0e4dd37a7\">\n",
              "    <div class=\"colab-df-container\">\n",
              "      <div>\n",
              "<style scoped>\n",
              "    .dataframe tbody tr th:only-of-type {\n",
              "        vertical-align: middle;\n",
              "    }\n",
              "\n",
              "    .dataframe tbody tr th {\n",
              "        vertical-align: top;\n",
              "    }\n",
              "\n",
              "    .dataframe thead th {\n",
              "        text-align: right;\n",
              "    }\n",
              "</style>\n",
              "<table border=\"1\" class=\"dataframe\">\n",
              "  <thead>\n",
              "    <tr style=\"text-align: right;\">\n",
              "      <th></th>\n",
              "      <th>base_2</th>\n",
              "      <th>ID_2</th>\n",
              "      <th>ID_2_Pic_1_hash</th>\n",
              "      <th>ID_2_Pic_2_hash</th>\n",
              "    </tr>\n",
              "  </thead>\n",
              "  <tbody>\n",
              "    <tr>\n",
              "      <th>0</th>\n",
              "      <td>1</td>\n",
              "      <td>48</td>\n",
              "      <td>1086cf8d0f4b4301</td>\n",
              "      <td>6848c949965af3b0</td>\n",
              "    </tr>\n",
              "    <tr>\n",
              "      <th>1</th>\n",
              "      <td>1</td>\n",
              "      <td>49</td>\n",
              "      <td>e8fcfeedfcded8bc</td>\n",
              "      <td>9a929292a292b296</td>\n",
              "    </tr>\n",
              "    <tr>\n",
              "      <th>2</th>\n",
              "      <td>1</td>\n",
              "      <td>50</td>\n",
              "      <td>9d999b1d6d7d5667</td>\n",
              "      <td>40c4d49d4c1d0f03</td>\n",
              "    </tr>\n",
              "    <tr>\n",
              "      <th>3</th>\n",
              "      <td>1</td>\n",
              "      <td>51</td>\n",
              "      <td>4145797d65416473</td>\n",
              "      <td>7571517539397967</td>\n",
              "    </tr>\n",
              "    <tr>\n",
              "      <th>4</th>\n",
              "      <td>1</td>\n",
              "      <td>52</td>\n",
              "      <td>baba868672e080e0</td>\n",
              "      <td>b29692909899d9f8</td>\n",
              "    </tr>\n",
              "  </tbody>\n",
              "</table>\n",
              "</div>\n",
              "      <button class=\"colab-df-convert\" onclick=\"convertToInteractive('df-82ae45da-b1d4-4234-af43-99f0e4dd37a7')\"\n",
              "              title=\"Convert this dataframe to an interactive table.\"\n",
              "              style=\"display:none;\">\n",
              "        \n",
              "  <svg xmlns=\"http://www.w3.org/2000/svg\" height=\"24px\"viewBox=\"0 0 24 24\"\n",
              "       width=\"24px\">\n",
              "    <path d=\"M0 0h24v24H0V0z\" fill=\"none\"/>\n",
              "    <path d=\"M18.56 5.44l.94 2.06.94-2.06 2.06-.94-2.06-.94-.94-2.06-.94 2.06-2.06.94zm-11 1L8.5 8.5l.94-2.06 2.06-.94-2.06-.94L8.5 2.5l-.94 2.06-2.06.94zm10 10l.94 2.06.94-2.06 2.06-.94-2.06-.94-.94-2.06-.94 2.06-2.06.94z\"/><path d=\"M17.41 7.96l-1.37-1.37c-.4-.4-.92-.59-1.43-.59-.52 0-1.04.2-1.43.59L10.3 9.45l-7.72 7.72c-.78.78-.78 2.05 0 2.83L4 21.41c.39.39.9.59 1.41.59.51 0 1.02-.2 1.41-.59l7.78-7.78 2.81-2.81c.8-.78.8-2.07 0-2.86zM5.41 20L4 18.59l7.72-7.72 1.47 1.35L5.41 20z\"/>\n",
              "  </svg>\n",
              "      </button>\n",
              "      \n",
              "  <style>\n",
              "    .colab-df-container {\n",
              "      display:flex;\n",
              "      flex-wrap:wrap;\n",
              "      gap: 12px;\n",
              "    }\n",
              "\n",
              "    .colab-df-convert {\n",
              "      background-color: #E8F0FE;\n",
              "      border: none;\n",
              "      border-radius: 50%;\n",
              "      cursor: pointer;\n",
              "      display: none;\n",
              "      fill: #1967D2;\n",
              "      height: 32px;\n",
              "      padding: 0 0 0 0;\n",
              "      width: 32px;\n",
              "    }\n",
              "\n",
              "    .colab-df-convert:hover {\n",
              "      background-color: #E2EBFA;\n",
              "      box-shadow: 0px 1px 2px rgba(60, 64, 67, 0.3), 0px 1px 3px 1px rgba(60, 64, 67, 0.15);\n",
              "      fill: #174EA6;\n",
              "    }\n",
              "\n",
              "    [theme=dark] .colab-df-convert {\n",
              "      background-color: #3B4455;\n",
              "      fill: #D2E3FC;\n",
              "    }\n",
              "\n",
              "    [theme=dark] .colab-df-convert:hover {\n",
              "      background-color: #434B5C;\n",
              "      box-shadow: 0px 1px 3px 1px rgba(0, 0, 0, 0.15);\n",
              "      filter: drop-shadow(0px 1px 2px rgba(0, 0, 0, 0.3));\n",
              "      fill: #FFFFFF;\n",
              "    }\n",
              "  </style>\n",
              "\n",
              "      <script>\n",
              "        const buttonEl =\n",
              "          document.querySelector('#df-82ae45da-b1d4-4234-af43-99f0e4dd37a7 button.colab-df-convert');\n",
              "        buttonEl.style.display =\n",
              "          google.colab.kernel.accessAllowed ? 'block' : 'none';\n",
              "\n",
              "        async function convertToInteractive(key) {\n",
              "          const element = document.querySelector('#df-82ae45da-b1d4-4234-af43-99f0e4dd37a7');\n",
              "          const dataTable =\n",
              "            await google.colab.kernel.invokeFunction('convertToInteractive',\n",
              "                                                     [key], {});\n",
              "          if (!dataTable) return;\n",
              "\n",
              "          const docLinkHtml = 'Like what you see? Visit the ' +\n",
              "            '<a target=\"_blank\" href=https://colab.research.google.com/notebooks/data_table.ipynb>data table notebook</a>'\n",
              "            + ' to learn more about interactive tables.';\n",
              "          element.innerHTML = '';\n",
              "          dataTable['output_type'] = 'display_data';\n",
              "          await google.colab.output.renderOutput(dataTable, element);\n",
              "          const docLink = document.createElement('div');\n",
              "          docLink.innerHTML = docLinkHtml;\n",
              "          element.appendChild(docLink);\n",
              "        }\n",
              "      </script>\n",
              "    </div>\n",
              "  </div>\n",
              "  "
            ]
          },
          "metadata": {},
          "execution_count": 18
        }
      ]
    },
    {
      "cell_type": "code",
      "source": [
        "auto_labels_2.shape"
      ],
      "metadata": {
        "colab": {
          "base_uri": "https://localhost:8080/"
        },
        "id": "9nNyg5s_ADqr",
        "outputId": "a05a0550-74fc-4193-a8b9-8bd78fe58293"
      },
      "execution_count": 20,
      "outputs": [
        {
          "output_type": "execute_result",
          "data": {
            "text/plain": [
              "(32663, 4)"
            ]
          },
          "metadata": {},
          "execution_count": 20
        }
      ]
    },
    {
      "cell_type": "code",
      "source": [
        "auto_labels_2 = auto_labels_2.sample(frac=1).reset_index(drop=True)"
      ],
      "metadata": {
        "id": "XuAg6VNxHceL"
      },
      "execution_count": 19,
      "outputs": []
    },
    {
      "cell_type": "code",
      "source": [
        "auto_labels_df = pd.concat([auto_labels_1, auto_labels_2], axis=1)\n",
        "auto_labels_df.head()"
      ],
      "metadata": {
        "colab": {
          "base_uri": "https://localhost:8080/",
          "height": 250
        },
        "id": "4YVFGpd9Hd-7",
        "outputId": "9c5f9d2e-d5a9-431d-f9fb-8a8db58cf64b"
      },
      "execution_count": 20,
      "outputs": [
        {
          "output_type": "execute_result",
          "data": {
            "text/plain": [
              "   base_1    ID_1   ID_1_Pic_1_hash   ID_1_Pic_2_hash  base_2    ID_2  \\\n",
              "0       3  209618  50308591130516ac  a4a4a4c9e9f1d653       3  210587   \n",
              "1       4  224199  6767715c0d614f4f  67677561535b7b6b       3  209864   \n",
              "2       4  220793  f2eafedac6fefefc  a4ac90a8b0a6f2ba       4  223435   \n",
              "3       1    2020  cc9c858595d7d732  05050800303061a2       3  214931   \n",
              "4       3  211213  240d0717090d1b00  fdf9fefdfcfcfcf7       2  103839   \n",
              "\n",
              "    ID_2_Pic_1_hash   ID_2_Pic_2_hash  \n",
              "0  909c9abcb0889b91  fe90928ea6969a80  \n",
              "1  5d7d365d4d253182  7a59796e5b6b4b01  \n",
              "2  92a28a8ee7436a8e  b0a0a8a0a4a2c280  \n",
              "3  f0383a7b3b5d1fd8  d8fbfefef77efcf8  \n",
              "4  94e092e2b89ab29a  cccc90d2a2b298b8  "
            ],
            "text/html": [
              "\n",
              "  <div id=\"df-28293682-75da-4555-9e1a-7b4ba364c694\">\n",
              "    <div class=\"colab-df-container\">\n",
              "      <div>\n",
              "<style scoped>\n",
              "    .dataframe tbody tr th:only-of-type {\n",
              "        vertical-align: middle;\n",
              "    }\n",
              "\n",
              "    .dataframe tbody tr th {\n",
              "        vertical-align: top;\n",
              "    }\n",
              "\n",
              "    .dataframe thead th {\n",
              "        text-align: right;\n",
              "    }\n",
              "</style>\n",
              "<table border=\"1\" class=\"dataframe\">\n",
              "  <thead>\n",
              "    <tr style=\"text-align: right;\">\n",
              "      <th></th>\n",
              "      <th>base_1</th>\n",
              "      <th>ID_1</th>\n",
              "      <th>ID_1_Pic_1_hash</th>\n",
              "      <th>ID_1_Pic_2_hash</th>\n",
              "      <th>base_2</th>\n",
              "      <th>ID_2</th>\n",
              "      <th>ID_2_Pic_1_hash</th>\n",
              "      <th>ID_2_Pic_2_hash</th>\n",
              "    </tr>\n",
              "  </thead>\n",
              "  <tbody>\n",
              "    <tr>\n",
              "      <th>0</th>\n",
              "      <td>3</td>\n",
              "      <td>209618</td>\n",
              "      <td>50308591130516ac</td>\n",
              "      <td>a4a4a4c9e9f1d653</td>\n",
              "      <td>3</td>\n",
              "      <td>210587</td>\n",
              "      <td>909c9abcb0889b91</td>\n",
              "      <td>fe90928ea6969a80</td>\n",
              "    </tr>\n",
              "    <tr>\n",
              "      <th>1</th>\n",
              "      <td>4</td>\n",
              "      <td>224199</td>\n",
              "      <td>6767715c0d614f4f</td>\n",
              "      <td>67677561535b7b6b</td>\n",
              "      <td>3</td>\n",
              "      <td>209864</td>\n",
              "      <td>5d7d365d4d253182</td>\n",
              "      <td>7a59796e5b6b4b01</td>\n",
              "    </tr>\n",
              "    <tr>\n",
              "      <th>2</th>\n",
              "      <td>4</td>\n",
              "      <td>220793</td>\n",
              "      <td>f2eafedac6fefefc</td>\n",
              "      <td>a4ac90a8b0a6f2ba</td>\n",
              "      <td>4</td>\n",
              "      <td>223435</td>\n",
              "      <td>92a28a8ee7436a8e</td>\n",
              "      <td>b0a0a8a0a4a2c280</td>\n",
              "    </tr>\n",
              "    <tr>\n",
              "      <th>3</th>\n",
              "      <td>1</td>\n",
              "      <td>2020</td>\n",
              "      <td>cc9c858595d7d732</td>\n",
              "      <td>05050800303061a2</td>\n",
              "      <td>3</td>\n",
              "      <td>214931</td>\n",
              "      <td>f0383a7b3b5d1fd8</td>\n",
              "      <td>d8fbfefef77efcf8</td>\n",
              "    </tr>\n",
              "    <tr>\n",
              "      <th>4</th>\n",
              "      <td>3</td>\n",
              "      <td>211213</td>\n",
              "      <td>240d0717090d1b00</td>\n",
              "      <td>fdf9fefdfcfcfcf7</td>\n",
              "      <td>2</td>\n",
              "      <td>103839</td>\n",
              "      <td>94e092e2b89ab29a</td>\n",
              "      <td>cccc90d2a2b298b8</td>\n",
              "    </tr>\n",
              "  </tbody>\n",
              "</table>\n",
              "</div>\n",
              "      <button class=\"colab-df-convert\" onclick=\"convertToInteractive('df-28293682-75da-4555-9e1a-7b4ba364c694')\"\n",
              "              title=\"Convert this dataframe to an interactive table.\"\n",
              "              style=\"display:none;\">\n",
              "        \n",
              "  <svg xmlns=\"http://www.w3.org/2000/svg\" height=\"24px\"viewBox=\"0 0 24 24\"\n",
              "       width=\"24px\">\n",
              "    <path d=\"M0 0h24v24H0V0z\" fill=\"none\"/>\n",
              "    <path d=\"M18.56 5.44l.94 2.06.94-2.06 2.06-.94-2.06-.94-.94-2.06-.94 2.06-2.06.94zm-11 1L8.5 8.5l.94-2.06 2.06-.94-2.06-.94L8.5 2.5l-.94 2.06-2.06.94zm10 10l.94 2.06.94-2.06 2.06-.94-2.06-.94-.94-2.06-.94 2.06-2.06.94z\"/><path d=\"M17.41 7.96l-1.37-1.37c-.4-.4-.92-.59-1.43-.59-.52 0-1.04.2-1.43.59L10.3 9.45l-7.72 7.72c-.78.78-.78 2.05 0 2.83L4 21.41c.39.39.9.59 1.41.59.51 0 1.02-.2 1.41-.59l7.78-7.78 2.81-2.81c.8-.78.8-2.07 0-2.86zM5.41 20L4 18.59l7.72-7.72 1.47 1.35L5.41 20z\"/>\n",
              "  </svg>\n",
              "      </button>\n",
              "      \n",
              "  <style>\n",
              "    .colab-df-container {\n",
              "      display:flex;\n",
              "      flex-wrap:wrap;\n",
              "      gap: 12px;\n",
              "    }\n",
              "\n",
              "    .colab-df-convert {\n",
              "      background-color: #E8F0FE;\n",
              "      border: none;\n",
              "      border-radius: 50%;\n",
              "      cursor: pointer;\n",
              "      display: none;\n",
              "      fill: #1967D2;\n",
              "      height: 32px;\n",
              "      padding: 0 0 0 0;\n",
              "      width: 32px;\n",
              "    }\n",
              "\n",
              "    .colab-df-convert:hover {\n",
              "      background-color: #E2EBFA;\n",
              "      box-shadow: 0px 1px 2px rgba(60, 64, 67, 0.3), 0px 1px 3px 1px rgba(60, 64, 67, 0.15);\n",
              "      fill: #174EA6;\n",
              "    }\n",
              "\n",
              "    [theme=dark] .colab-df-convert {\n",
              "      background-color: #3B4455;\n",
              "      fill: #D2E3FC;\n",
              "    }\n",
              "\n",
              "    [theme=dark] .colab-df-convert:hover {\n",
              "      background-color: #434B5C;\n",
              "      box-shadow: 0px 1px 3px 1px rgba(0, 0, 0, 0.15);\n",
              "      filter: drop-shadow(0px 1px 2px rgba(0, 0, 0, 0.3));\n",
              "      fill: #FFFFFF;\n",
              "    }\n",
              "  </style>\n",
              "\n",
              "      <script>\n",
              "        const buttonEl =\n",
              "          document.querySelector('#df-28293682-75da-4555-9e1a-7b4ba364c694 button.colab-df-convert');\n",
              "        buttonEl.style.display =\n",
              "          google.colab.kernel.accessAllowed ? 'block' : 'none';\n",
              "\n",
              "        async function convertToInteractive(key) {\n",
              "          const element = document.querySelector('#df-28293682-75da-4555-9e1a-7b4ba364c694');\n",
              "          const dataTable =\n",
              "            await google.colab.kernel.invokeFunction('convertToInteractive',\n",
              "                                                     [key], {});\n",
              "          if (!dataTable) return;\n",
              "\n",
              "          const docLinkHtml = 'Like what you see? Visit the ' +\n",
              "            '<a target=\"_blank\" href=https://colab.research.google.com/notebooks/data_table.ipynb>data table notebook</a>'\n",
              "            + ' to learn more about interactive tables.';\n",
              "          element.innerHTML = '';\n",
              "          dataTable['output_type'] = 'display_data';\n",
              "          await google.colab.output.renderOutput(dataTable, element);\n",
              "          const docLink = document.createElement('div');\n",
              "          docLink.innerHTML = docLinkHtml;\n",
              "          element.appendChild(docLink);\n",
              "        }\n",
              "      </script>\n",
              "    </div>\n",
              "  </div>\n",
              "  "
            ]
          },
          "metadata": {},
          "execution_count": 20
        }
      ]
    },
    {
      "cell_type": "code",
      "source": [
        "auto_labels_df['hash_dist_pic_1'] = auto_labels_df.apply(\n",
        "    lambda row: hamming_distance(row['ID_1_Pic_1_hash'], row['ID_2_Pic_1_hash']),\n",
        "    axis=1\n",
        ")\n",
        "\n",
        "auto_labels_df['hash_dist_pic_2'] = auto_labels_df.apply(\n",
        "    lambda row: hamming_distance(row['ID_1_Pic_2_hash'], row['ID_2_Pic_2_hash']),\n",
        "    axis=1\n",
        ")"
      ],
      "metadata": {
        "id": "NbJXqRNBIobV"
      },
      "execution_count": 21,
      "outputs": []
    },
    {
      "cell_type": "code",
      "source": [
        "auto_labels_df['truth_postcard'] = False\n",
        "auto_labels_df['pred_postcard'] = auto_labels_df.apply(\n",
        "    lambda row: row['hash_dist_pic_1'] <= 3 or row['hash_dist_pic_2'] <= 3,\n",
        "    axis=1\n",
        ")"
      ],
      "metadata": {
        "id": "58d8GuSiJA5d"
      },
      "execution_count": 22,
      "outputs": []
    },
    {
      "cell_type": "code",
      "source": [
        "auto_labels_df['pred_postcard'].value_counts()"
      ],
      "metadata": {
        "colab": {
          "base_uri": "https://localhost:8080/"
        },
        "id": "1CXiihqBI69Z",
        "outputId": "5ede7d9b-2df3-408f-93bc-201c4393cd22"
      },
      "execution_count": 23,
      "outputs": [
        {
          "output_type": "execute_result",
          "data": {
            "text/plain": [
              "False    32662\n",
              "True         1\n",
              "Name: pred_postcard, dtype: int64"
            ]
          },
          "metadata": {},
          "execution_count": 23
        }
      ]
    },
    {
      "cell_type": "code",
      "source": [
        "auto_labels_df = auto_labels_df[auto_labels_df['ID_1'] != auto_labels_df['ID_2']]\n",
        "auto_labels_df = auto_labels_df[auto_labels_df['pred_postcard'] == False]\n",
        "auto_labels_df.shape"
      ],
      "metadata": {
        "colab": {
          "base_uri": "https://localhost:8080/"
        },
        "id": "nN9xqLt3IA2e",
        "outputId": "f32777b9-94e2-49ec-8362-dd7807d0767f"
      },
      "execution_count": 24,
      "outputs": [
        {
          "output_type": "execute_result",
          "data": {
            "text/plain": [
              "(32662, 12)"
            ]
          },
          "metadata": {},
          "execution_count": 24
        }
      ]
    },
    {
      "cell_type": "code",
      "source": [
        "auto_labels_df['is_auto_labelled'] = True"
      ],
      "metadata": {
        "id": "sYUaSPs_INYX"
      },
      "execution_count": 25,
      "outputs": []
    },
    {
      "cell_type": "code",
      "source": [
        "labels_df = pd.concat([hand_labels_df, auto_labels_df])\n",
        "labels_df.isna().sum()"
      ],
      "metadata": {
        "colab": {
          "base_uri": "https://localhost:8080/"
        },
        "id": "5ghtboECIQr8",
        "outputId": "2babb9f7-c4ea-4c17-d22f-b5a988298e25"
      },
      "execution_count": 26,
      "outputs": [
        {
          "output_type": "execute_result",
          "data": {
            "text/plain": [
              "base_1              0\n",
              "ID_1                0\n",
              "base_2              0\n",
              "ID_2                0\n",
              "ID_1_Pic_1_hash     0\n",
              "ID_1_Pic_2_hash     0\n",
              "ID_2_Pic_1_hash     0\n",
              "ID_2_Pic_2_hash     0\n",
              "hash_dist_pic_1     0\n",
              "hash_dist_pic_2     0\n",
              "truth_postcard      0\n",
              "pred_postcard       0\n",
              "is_auto_labelled    0\n",
              "dtype: int64"
            ]
          },
          "metadata": {},
          "execution_count": 26
        }
      ]
    },
    {
      "cell_type": "code",
      "source": [
        "labels_df.head()"
      ],
      "metadata": {
        "colab": {
          "base_uri": "https://localhost:8080/",
          "height": 270
        },
        "id": "jSFVk9pgIe-6",
        "outputId": "62733d6e-9a6a-4849-a4a3-bff284e861e9"
      },
      "execution_count": 41,
      "outputs": [
        {
          "output_type": "execute_result",
          "data": {
            "text/plain": [
              "   base_1  ID_1  base_2    ID_2   ID_1_Pic_1_hash   ID_1_Pic_2_hash  \\\n",
              "0       1  1204       4  216471  19f179593171d1b1  11971621f9e5ed4d   \n",
              "1       1  1205       4  216472  f179717131716f71  3565454765714f3f   \n",
              "2       1  2145       4  217037  4965312101010303  0000000000000000   \n",
              "3       1  3103       4  217941  61511507094d6101  094165655151495d   \n",
              "4       1  3104       4  217977  4d4dc94f47591945  494f774949596945   \n",
              "\n",
              "    ID_2_Pic_1_hash   ID_2_Pic_2_hash  hash_dist_pic_1  hash_dist_pic_2  \\\n",
              "0  19f179593171d1b1  11971621f9e5ed4d                0                0   \n",
              "1  f179717131716f71  3565454765714f3f                0                0   \n",
              "2  0349333303070f03  0000000000000000               14                0   \n",
              "3  61511507094d6101  094165655151495d                0                0   \n",
              "4  4d4dc94f47591945  494f774949596945                0                0   \n",
              "\n",
              "   truth_postcard  pred_postcard  is_auto_labelled  \n",
              "0            True           True             False  \n",
              "1            True           True             False  \n",
              "2           False           True             False  \n",
              "3            True           True             False  \n",
              "4            True           True             False  "
            ],
            "text/html": [
              "\n",
              "  <div id=\"df-65d8500e-3f94-46c7-82bd-86bdeb8861e9\">\n",
              "    <div class=\"colab-df-container\">\n",
              "      <div>\n",
              "<style scoped>\n",
              "    .dataframe tbody tr th:only-of-type {\n",
              "        vertical-align: middle;\n",
              "    }\n",
              "\n",
              "    .dataframe tbody tr th {\n",
              "        vertical-align: top;\n",
              "    }\n",
              "\n",
              "    .dataframe thead th {\n",
              "        text-align: right;\n",
              "    }\n",
              "</style>\n",
              "<table border=\"1\" class=\"dataframe\">\n",
              "  <thead>\n",
              "    <tr style=\"text-align: right;\">\n",
              "      <th></th>\n",
              "      <th>base_1</th>\n",
              "      <th>ID_1</th>\n",
              "      <th>base_2</th>\n",
              "      <th>ID_2</th>\n",
              "      <th>ID_1_Pic_1_hash</th>\n",
              "      <th>ID_1_Pic_2_hash</th>\n",
              "      <th>ID_2_Pic_1_hash</th>\n",
              "      <th>ID_2_Pic_2_hash</th>\n",
              "      <th>hash_dist_pic_1</th>\n",
              "      <th>hash_dist_pic_2</th>\n",
              "      <th>truth_postcard</th>\n",
              "      <th>pred_postcard</th>\n",
              "      <th>is_auto_labelled</th>\n",
              "    </tr>\n",
              "  </thead>\n",
              "  <tbody>\n",
              "    <tr>\n",
              "      <th>0</th>\n",
              "      <td>1</td>\n",
              "      <td>1204</td>\n",
              "      <td>4</td>\n",
              "      <td>216471</td>\n",
              "      <td>19f179593171d1b1</td>\n",
              "      <td>11971621f9e5ed4d</td>\n",
              "      <td>19f179593171d1b1</td>\n",
              "      <td>11971621f9e5ed4d</td>\n",
              "      <td>0</td>\n",
              "      <td>0</td>\n",
              "      <td>True</td>\n",
              "      <td>True</td>\n",
              "      <td>False</td>\n",
              "    </tr>\n",
              "    <tr>\n",
              "      <th>1</th>\n",
              "      <td>1</td>\n",
              "      <td>1205</td>\n",
              "      <td>4</td>\n",
              "      <td>216472</td>\n",
              "      <td>f179717131716f71</td>\n",
              "      <td>3565454765714f3f</td>\n",
              "      <td>f179717131716f71</td>\n",
              "      <td>3565454765714f3f</td>\n",
              "      <td>0</td>\n",
              "      <td>0</td>\n",
              "      <td>True</td>\n",
              "      <td>True</td>\n",
              "      <td>False</td>\n",
              "    </tr>\n",
              "    <tr>\n",
              "      <th>2</th>\n",
              "      <td>1</td>\n",
              "      <td>2145</td>\n",
              "      <td>4</td>\n",
              "      <td>217037</td>\n",
              "      <td>4965312101010303</td>\n",
              "      <td>0000000000000000</td>\n",
              "      <td>0349333303070f03</td>\n",
              "      <td>0000000000000000</td>\n",
              "      <td>14</td>\n",
              "      <td>0</td>\n",
              "      <td>False</td>\n",
              "      <td>True</td>\n",
              "      <td>False</td>\n",
              "    </tr>\n",
              "    <tr>\n",
              "      <th>3</th>\n",
              "      <td>1</td>\n",
              "      <td>3103</td>\n",
              "      <td>4</td>\n",
              "      <td>217941</td>\n",
              "      <td>61511507094d6101</td>\n",
              "      <td>094165655151495d</td>\n",
              "      <td>61511507094d6101</td>\n",
              "      <td>094165655151495d</td>\n",
              "      <td>0</td>\n",
              "      <td>0</td>\n",
              "      <td>True</td>\n",
              "      <td>True</td>\n",
              "      <td>False</td>\n",
              "    </tr>\n",
              "    <tr>\n",
              "      <th>4</th>\n",
              "      <td>1</td>\n",
              "      <td>3104</td>\n",
              "      <td>4</td>\n",
              "      <td>217977</td>\n",
              "      <td>4d4dc94f47591945</td>\n",
              "      <td>494f774949596945</td>\n",
              "      <td>4d4dc94f47591945</td>\n",
              "      <td>494f774949596945</td>\n",
              "      <td>0</td>\n",
              "      <td>0</td>\n",
              "      <td>True</td>\n",
              "      <td>True</td>\n",
              "      <td>False</td>\n",
              "    </tr>\n",
              "  </tbody>\n",
              "</table>\n",
              "</div>\n",
              "      <button class=\"colab-df-convert\" onclick=\"convertToInteractive('df-65d8500e-3f94-46c7-82bd-86bdeb8861e9')\"\n",
              "              title=\"Convert this dataframe to an interactive table.\"\n",
              "              style=\"display:none;\">\n",
              "        \n",
              "  <svg xmlns=\"http://www.w3.org/2000/svg\" height=\"24px\"viewBox=\"0 0 24 24\"\n",
              "       width=\"24px\">\n",
              "    <path d=\"M0 0h24v24H0V0z\" fill=\"none\"/>\n",
              "    <path d=\"M18.56 5.44l.94 2.06.94-2.06 2.06-.94-2.06-.94-.94-2.06-.94 2.06-2.06.94zm-11 1L8.5 8.5l.94-2.06 2.06-.94-2.06-.94L8.5 2.5l-.94 2.06-2.06.94zm10 10l.94 2.06.94-2.06 2.06-.94-2.06-.94-.94-2.06-.94 2.06-2.06.94z\"/><path d=\"M17.41 7.96l-1.37-1.37c-.4-.4-.92-.59-1.43-.59-.52 0-1.04.2-1.43.59L10.3 9.45l-7.72 7.72c-.78.78-.78 2.05 0 2.83L4 21.41c.39.39.9.59 1.41.59.51 0 1.02-.2 1.41-.59l7.78-7.78 2.81-2.81c.8-.78.8-2.07 0-2.86zM5.41 20L4 18.59l7.72-7.72 1.47 1.35L5.41 20z\"/>\n",
              "  </svg>\n",
              "      </button>\n",
              "      \n",
              "  <style>\n",
              "    .colab-df-container {\n",
              "      display:flex;\n",
              "      flex-wrap:wrap;\n",
              "      gap: 12px;\n",
              "    }\n",
              "\n",
              "    .colab-df-convert {\n",
              "      background-color: #E8F0FE;\n",
              "      border: none;\n",
              "      border-radius: 50%;\n",
              "      cursor: pointer;\n",
              "      display: none;\n",
              "      fill: #1967D2;\n",
              "      height: 32px;\n",
              "      padding: 0 0 0 0;\n",
              "      width: 32px;\n",
              "    }\n",
              "\n",
              "    .colab-df-convert:hover {\n",
              "      background-color: #E2EBFA;\n",
              "      box-shadow: 0px 1px 2px rgba(60, 64, 67, 0.3), 0px 1px 3px 1px rgba(60, 64, 67, 0.15);\n",
              "      fill: #174EA6;\n",
              "    }\n",
              "\n",
              "    [theme=dark] .colab-df-convert {\n",
              "      background-color: #3B4455;\n",
              "      fill: #D2E3FC;\n",
              "    }\n",
              "\n",
              "    [theme=dark] .colab-df-convert:hover {\n",
              "      background-color: #434B5C;\n",
              "      box-shadow: 0px 1px 3px 1px rgba(0, 0, 0, 0.15);\n",
              "      filter: drop-shadow(0px 1px 2px rgba(0, 0, 0, 0.3));\n",
              "      fill: #FFFFFF;\n",
              "    }\n",
              "  </style>\n",
              "\n",
              "      <script>\n",
              "        const buttonEl =\n",
              "          document.querySelector('#df-65d8500e-3f94-46c7-82bd-86bdeb8861e9 button.colab-df-convert');\n",
              "        buttonEl.style.display =\n",
              "          google.colab.kernel.accessAllowed ? 'block' : 'none';\n",
              "\n",
              "        async function convertToInteractive(key) {\n",
              "          const element = document.querySelector('#df-65d8500e-3f94-46c7-82bd-86bdeb8861e9');\n",
              "          const dataTable =\n",
              "            await google.colab.kernel.invokeFunction('convertToInteractive',\n",
              "                                                     [key], {});\n",
              "          if (!dataTable) return;\n",
              "\n",
              "          const docLinkHtml = 'Like what you see? Visit the ' +\n",
              "            '<a target=\"_blank\" href=https://colab.research.google.com/notebooks/data_table.ipynb>data table notebook</a>'\n",
              "            + ' to learn more about interactive tables.';\n",
              "          element.innerHTML = '';\n",
              "          dataTable['output_type'] = 'display_data';\n",
              "          await google.colab.output.renderOutput(dataTable, element);\n",
              "          const docLink = document.createElement('div');\n",
              "          docLink.innerHTML = docLinkHtml;\n",
              "          element.appendChild(docLink);\n",
              "        }\n",
              "      </script>\n",
              "    </div>\n",
              "  </div>\n",
              "  "
            ]
          },
          "metadata": {},
          "execution_count": 41
        }
      ]
    },
    {
      "cell_type": "code",
      "source": [
        "labels_df = labels_df[labels_df['ID_1'] < labels_df['ID_2']]\n",
        "labels_df.shape"
      ],
      "metadata": {
        "colab": {
          "base_uri": "https://localhost:8080/"
        },
        "id": "gOjo-Y3VJw6j",
        "outputId": "0b95db10-449a-4a76-eb1e-fa3810fc7b19"
      },
      "execution_count": 27,
      "outputs": [
        {
          "output_type": "execute_result",
          "data": {
            "text/plain": [
              "(17647, 13)"
            ]
          },
          "metadata": {},
          "execution_count": 27
        }
      ]
    },
    {
      "cell_type": "code",
      "source": [
        "labels_df = labels_df.groupby(['ID_1', 'ID_2']).first().reset_index()\n",
        "labels_df.head()"
      ],
      "metadata": {
        "colab": {
          "base_uri": "https://localhost:8080/",
          "height": 270
        },
        "id": "ZMdy2AS-JogA",
        "outputId": "acbce397-9fe4-45e7-c45c-4fde7c67c231"
      },
      "execution_count": 28,
      "outputs": [
        {
          "output_type": "execute_result",
          "data": {
            "text/plain": [
              "   ID_1    ID_2  base_1  base_2   ID_1_Pic_1_hash   ID_1_Pic_2_hash  \\\n",
              "0    48  214178       1       3  1086cf8d0f4b4301  6848c949965af3b0   \n",
              "1    49  215364       1       3  e8fcfeedfcded8bc  9a929292a292b296   \n",
              "2    50  213030       1       3  9d999b1d6d7d5667  40c4d49d4c1d0f03   \n",
              "3    51  209950       1       3  4145797d65416473  7571517539397967   \n",
              "4    52  227115       1       5  baba868672e080e0  b29692909899d9f8   \n",
              "\n",
              "    ID_2_Pic_1_hash   ID_2_Pic_2_hash  hash_dist_pic_1  hash_dist_pic_2  \\\n",
              "0  da273363391b96f0  ece9f8fee2fe9ede               35               31   \n",
              "1  8b6b6b6b676d7bd3  8ca6a6a48c96b2b6               36               19   \n",
              "2  6061712b29030382  b5e5a2ba9a9294a0               38               36   \n",
              "3  b14d07267c7efaba  a5e59aa4b2ca0eae               34               35   \n",
              "4  f46e3ff5f1f2ea2e  aeeefdbfebe7f3f3               32               35   \n",
              "\n",
              "   truth_postcard  pred_postcard  is_auto_labelled  \n",
              "0           False          False              True  \n",
              "1           False          False              True  \n",
              "2           False          False              True  \n",
              "3           False          False              True  \n",
              "4           False          False              True  "
            ],
            "text/html": [
              "\n",
              "  <div id=\"df-27b35fb5-3b13-4061-9808-860dc3af87af\">\n",
              "    <div class=\"colab-df-container\">\n",
              "      <div>\n",
              "<style scoped>\n",
              "    .dataframe tbody tr th:only-of-type {\n",
              "        vertical-align: middle;\n",
              "    }\n",
              "\n",
              "    .dataframe tbody tr th {\n",
              "        vertical-align: top;\n",
              "    }\n",
              "\n",
              "    .dataframe thead th {\n",
              "        text-align: right;\n",
              "    }\n",
              "</style>\n",
              "<table border=\"1\" class=\"dataframe\">\n",
              "  <thead>\n",
              "    <tr style=\"text-align: right;\">\n",
              "      <th></th>\n",
              "      <th>ID_1</th>\n",
              "      <th>ID_2</th>\n",
              "      <th>base_1</th>\n",
              "      <th>base_2</th>\n",
              "      <th>ID_1_Pic_1_hash</th>\n",
              "      <th>ID_1_Pic_2_hash</th>\n",
              "      <th>ID_2_Pic_1_hash</th>\n",
              "      <th>ID_2_Pic_2_hash</th>\n",
              "      <th>hash_dist_pic_1</th>\n",
              "      <th>hash_dist_pic_2</th>\n",
              "      <th>truth_postcard</th>\n",
              "      <th>pred_postcard</th>\n",
              "      <th>is_auto_labelled</th>\n",
              "    </tr>\n",
              "  </thead>\n",
              "  <tbody>\n",
              "    <tr>\n",
              "      <th>0</th>\n",
              "      <td>48</td>\n",
              "      <td>214178</td>\n",
              "      <td>1</td>\n",
              "      <td>3</td>\n",
              "      <td>1086cf8d0f4b4301</td>\n",
              "      <td>6848c949965af3b0</td>\n",
              "      <td>da273363391b96f0</td>\n",
              "      <td>ece9f8fee2fe9ede</td>\n",
              "      <td>35</td>\n",
              "      <td>31</td>\n",
              "      <td>False</td>\n",
              "      <td>False</td>\n",
              "      <td>True</td>\n",
              "    </tr>\n",
              "    <tr>\n",
              "      <th>1</th>\n",
              "      <td>49</td>\n",
              "      <td>215364</td>\n",
              "      <td>1</td>\n",
              "      <td>3</td>\n",
              "      <td>e8fcfeedfcded8bc</td>\n",
              "      <td>9a929292a292b296</td>\n",
              "      <td>8b6b6b6b676d7bd3</td>\n",
              "      <td>8ca6a6a48c96b2b6</td>\n",
              "      <td>36</td>\n",
              "      <td>19</td>\n",
              "      <td>False</td>\n",
              "      <td>False</td>\n",
              "      <td>True</td>\n",
              "    </tr>\n",
              "    <tr>\n",
              "      <th>2</th>\n",
              "      <td>50</td>\n",
              "      <td>213030</td>\n",
              "      <td>1</td>\n",
              "      <td>3</td>\n",
              "      <td>9d999b1d6d7d5667</td>\n",
              "      <td>40c4d49d4c1d0f03</td>\n",
              "      <td>6061712b29030382</td>\n",
              "      <td>b5e5a2ba9a9294a0</td>\n",
              "      <td>38</td>\n",
              "      <td>36</td>\n",
              "      <td>False</td>\n",
              "      <td>False</td>\n",
              "      <td>True</td>\n",
              "    </tr>\n",
              "    <tr>\n",
              "      <th>3</th>\n",
              "      <td>51</td>\n",
              "      <td>209950</td>\n",
              "      <td>1</td>\n",
              "      <td>3</td>\n",
              "      <td>4145797d65416473</td>\n",
              "      <td>7571517539397967</td>\n",
              "      <td>b14d07267c7efaba</td>\n",
              "      <td>a5e59aa4b2ca0eae</td>\n",
              "      <td>34</td>\n",
              "      <td>35</td>\n",
              "      <td>False</td>\n",
              "      <td>False</td>\n",
              "      <td>True</td>\n",
              "    </tr>\n",
              "    <tr>\n",
              "      <th>4</th>\n",
              "      <td>52</td>\n",
              "      <td>227115</td>\n",
              "      <td>1</td>\n",
              "      <td>5</td>\n",
              "      <td>baba868672e080e0</td>\n",
              "      <td>b29692909899d9f8</td>\n",
              "      <td>f46e3ff5f1f2ea2e</td>\n",
              "      <td>aeeefdbfebe7f3f3</td>\n",
              "      <td>32</td>\n",
              "      <td>35</td>\n",
              "      <td>False</td>\n",
              "      <td>False</td>\n",
              "      <td>True</td>\n",
              "    </tr>\n",
              "  </tbody>\n",
              "</table>\n",
              "</div>\n",
              "      <button class=\"colab-df-convert\" onclick=\"convertToInteractive('df-27b35fb5-3b13-4061-9808-860dc3af87af')\"\n",
              "              title=\"Convert this dataframe to an interactive table.\"\n",
              "              style=\"display:none;\">\n",
              "        \n",
              "  <svg xmlns=\"http://www.w3.org/2000/svg\" height=\"24px\"viewBox=\"0 0 24 24\"\n",
              "       width=\"24px\">\n",
              "    <path d=\"M0 0h24v24H0V0z\" fill=\"none\"/>\n",
              "    <path d=\"M18.56 5.44l.94 2.06.94-2.06 2.06-.94-2.06-.94-.94-2.06-.94 2.06-2.06.94zm-11 1L8.5 8.5l.94-2.06 2.06-.94-2.06-.94L8.5 2.5l-.94 2.06-2.06.94zm10 10l.94 2.06.94-2.06 2.06-.94-2.06-.94-.94-2.06-.94 2.06-2.06.94z\"/><path d=\"M17.41 7.96l-1.37-1.37c-.4-.4-.92-.59-1.43-.59-.52 0-1.04.2-1.43.59L10.3 9.45l-7.72 7.72c-.78.78-.78 2.05 0 2.83L4 21.41c.39.39.9.59 1.41.59.51 0 1.02-.2 1.41-.59l7.78-7.78 2.81-2.81c.8-.78.8-2.07 0-2.86zM5.41 20L4 18.59l7.72-7.72 1.47 1.35L5.41 20z\"/>\n",
              "  </svg>\n",
              "      </button>\n",
              "      \n",
              "  <style>\n",
              "    .colab-df-container {\n",
              "      display:flex;\n",
              "      flex-wrap:wrap;\n",
              "      gap: 12px;\n",
              "    }\n",
              "\n",
              "    .colab-df-convert {\n",
              "      background-color: #E8F0FE;\n",
              "      border: none;\n",
              "      border-radius: 50%;\n",
              "      cursor: pointer;\n",
              "      display: none;\n",
              "      fill: #1967D2;\n",
              "      height: 32px;\n",
              "      padding: 0 0 0 0;\n",
              "      width: 32px;\n",
              "    }\n",
              "\n",
              "    .colab-df-convert:hover {\n",
              "      background-color: #E2EBFA;\n",
              "      box-shadow: 0px 1px 2px rgba(60, 64, 67, 0.3), 0px 1px 3px 1px rgba(60, 64, 67, 0.15);\n",
              "      fill: #174EA6;\n",
              "    }\n",
              "\n",
              "    [theme=dark] .colab-df-convert {\n",
              "      background-color: #3B4455;\n",
              "      fill: #D2E3FC;\n",
              "    }\n",
              "\n",
              "    [theme=dark] .colab-df-convert:hover {\n",
              "      background-color: #434B5C;\n",
              "      box-shadow: 0px 1px 3px 1px rgba(0, 0, 0, 0.15);\n",
              "      filter: drop-shadow(0px 1px 2px rgba(0, 0, 0, 0.3));\n",
              "      fill: #FFFFFF;\n",
              "    }\n",
              "  </style>\n",
              "\n",
              "      <script>\n",
              "        const buttonEl =\n",
              "          document.querySelector('#df-27b35fb5-3b13-4061-9808-860dc3af87af button.colab-df-convert');\n",
              "        buttonEl.style.display =\n",
              "          google.colab.kernel.accessAllowed ? 'block' : 'none';\n",
              "\n",
              "        async function convertToInteractive(key) {\n",
              "          const element = document.querySelector('#df-27b35fb5-3b13-4061-9808-860dc3af87af');\n",
              "          const dataTable =\n",
              "            await google.colab.kernel.invokeFunction('convertToInteractive',\n",
              "                                                     [key], {});\n",
              "          if (!dataTable) return;\n",
              "\n",
              "          const docLinkHtml = 'Like what you see? Visit the ' +\n",
              "            '<a target=\"_blank\" href=https://colab.research.google.com/notebooks/data_table.ipynb>data table notebook</a>'\n",
              "            + ' to learn more about interactive tables.';\n",
              "          element.innerHTML = '';\n",
              "          dataTable['output_type'] = 'display_data';\n",
              "          await google.colab.output.renderOutput(dataTable, element);\n",
              "          const docLink = document.createElement('div');\n",
              "          docLink.innerHTML = docLinkHtml;\n",
              "          element.appendChild(docLink);\n",
              "        }\n",
              "      </script>\n",
              "    </div>\n",
              "  </div>\n",
              "  "
            ]
          },
          "metadata": {},
          "execution_count": 28
        }
      ]
    },
    {
      "cell_type": "code",
      "source": [
        "labels_df.shape"
      ],
      "metadata": {
        "colab": {
          "base_uri": "https://localhost:8080/"
        },
        "id": "rqq0UCfOKAdB",
        "outputId": "13fed410-a713-4158-ef20-21b9d5a66040"
      },
      "execution_count": 29,
      "outputs": [
        {
          "output_type": "execute_result",
          "data": {
            "text/plain": [
              "(17647, 13)"
            ]
          },
          "metadata": {},
          "execution_count": 29
        }
      ]
    },
    {
      "cell_type": "code",
      "source": [
        "auto_labels_df = labels_df[labels_df['is_auto_labelled']]\n",
        "labels_df = pd.concat([\n",
        "    hand_labels_df, auto_labels_df.head(10000 - hand_labels_df.shape[0])\n",
        "])"
      ],
      "metadata": {
        "id": "6iv7k9THfTmW"
      },
      "execution_count": 30,
      "outputs": []
    },
    {
      "cell_type": "code",
      "source": [
        "labels_df['is_auto_labelled'].value_counts()"
      ],
      "metadata": {
        "colab": {
          "base_uri": "https://localhost:8080/"
        },
        "id": "g8nIYU7gfj5M",
        "outputId": "7043482f-649e-4cf4-bd9f-5b0bb8417d01"
      },
      "execution_count": 31,
      "outputs": [
        {
          "output_type": "execute_result",
          "data": {
            "text/plain": [
              "True     8762\n",
              "False    1238\n",
              "Name: is_auto_labelled, dtype: int64"
            ]
          },
          "metadata": {},
          "execution_count": 31
        }
      ]
    },
    {
      "cell_type": "code",
      "source": [
        "labels_df.to_csv('doubles_test_dataset.csv', index=False)"
      ],
      "metadata": {
        "id": "7V0u3k9h2LJ_"
      },
      "execution_count": 32,
      "outputs": []
    },
    {
      "cell_type": "code",
      "source": [
        "labels_df.groupby(['ID_1', 'ID_2']).size().sort_values(ascending=False)"
      ],
      "metadata": {
        "colab": {
          "base_uri": "https://localhost:8080/"
        },
        "id": "ZLfluSfQf_2i",
        "outputId": "7762555c-4b59-48ab-ec32-a32eba8a1ad5"
      },
      "execution_count": 33,
      "outputs": [
        {
          "output_type": "execute_result",
          "data": {
            "text/plain": [
              "ID_1    ID_2  \n",
              "48      214178    1\n",
              "100405  104796    1\n",
              "100395  102408    1\n",
              "100397  100755    1\n",
              "100399  214113    1\n",
              "                 ..\n",
              "3659    102715    1\n",
              "3660    103294    1\n",
              "3661    206907    1\n",
              "3662    211095    1\n",
              "228647  228656    1\n",
              "Length: 10000, dtype: int64"
            ]
          },
          "metadata": {},
          "execution_count": 33
        }
      ]
    },
    {
      "cell_type": "code",
      "source": [
        "labels_df[labels_df['is_auto_labelled']]['hash_dist_pic_1'].value_counts().reset_index().rename(\n",
        "    columns={'hash_dist_pic_1': 'count', 'index': 'hash_dist_pic_1'}\n",
        ").sort_values(by='hash_dist_pic_1')[:10]"
      ],
      "metadata": {
        "colab": {
          "base_uri": "https://localhost:8080/",
          "height": 363
        },
        "id": "uxDldrc-hePy",
        "outputId": "ca895e1d-b75c-433d-fa59-4b33075ae773"
      },
      "execution_count": 34,
      "outputs": [
        {
          "output_type": "execute_result",
          "data": {
            "text/plain": [
              "    hash_dist_pic_1  count\n",
              "39               10      1\n",
              "38               12      1\n",
              "35               13      4\n",
              "33               14      5\n",
              "34               15      5\n",
              "31               16      8\n",
              "29               17     22\n",
              "27               18     35\n",
              "25               19     43\n",
              "23               20     73"
            ],
            "text/html": [
              "\n",
              "  <div id=\"df-508031ac-8ec5-42ea-9b4f-533ff2505a2d\">\n",
              "    <div class=\"colab-df-container\">\n",
              "      <div>\n",
              "<style scoped>\n",
              "    .dataframe tbody tr th:only-of-type {\n",
              "        vertical-align: middle;\n",
              "    }\n",
              "\n",
              "    .dataframe tbody tr th {\n",
              "        vertical-align: top;\n",
              "    }\n",
              "\n",
              "    .dataframe thead th {\n",
              "        text-align: right;\n",
              "    }\n",
              "</style>\n",
              "<table border=\"1\" class=\"dataframe\">\n",
              "  <thead>\n",
              "    <tr style=\"text-align: right;\">\n",
              "      <th></th>\n",
              "      <th>hash_dist_pic_1</th>\n",
              "      <th>count</th>\n",
              "    </tr>\n",
              "  </thead>\n",
              "  <tbody>\n",
              "    <tr>\n",
              "      <th>39</th>\n",
              "      <td>10</td>\n",
              "      <td>1</td>\n",
              "    </tr>\n",
              "    <tr>\n",
              "      <th>38</th>\n",
              "      <td>12</td>\n",
              "      <td>1</td>\n",
              "    </tr>\n",
              "    <tr>\n",
              "      <th>35</th>\n",
              "      <td>13</td>\n",
              "      <td>4</td>\n",
              "    </tr>\n",
              "    <tr>\n",
              "      <th>33</th>\n",
              "      <td>14</td>\n",
              "      <td>5</td>\n",
              "    </tr>\n",
              "    <tr>\n",
              "      <th>34</th>\n",
              "      <td>15</td>\n",
              "      <td>5</td>\n",
              "    </tr>\n",
              "    <tr>\n",
              "      <th>31</th>\n",
              "      <td>16</td>\n",
              "      <td>8</td>\n",
              "    </tr>\n",
              "    <tr>\n",
              "      <th>29</th>\n",
              "      <td>17</td>\n",
              "      <td>22</td>\n",
              "    </tr>\n",
              "    <tr>\n",
              "      <th>27</th>\n",
              "      <td>18</td>\n",
              "      <td>35</td>\n",
              "    </tr>\n",
              "    <tr>\n",
              "      <th>25</th>\n",
              "      <td>19</td>\n",
              "      <td>43</td>\n",
              "    </tr>\n",
              "    <tr>\n",
              "      <th>23</th>\n",
              "      <td>20</td>\n",
              "      <td>73</td>\n",
              "    </tr>\n",
              "  </tbody>\n",
              "</table>\n",
              "</div>\n",
              "      <button class=\"colab-df-convert\" onclick=\"convertToInteractive('df-508031ac-8ec5-42ea-9b4f-533ff2505a2d')\"\n",
              "              title=\"Convert this dataframe to an interactive table.\"\n",
              "              style=\"display:none;\">\n",
              "        \n",
              "  <svg xmlns=\"http://www.w3.org/2000/svg\" height=\"24px\"viewBox=\"0 0 24 24\"\n",
              "       width=\"24px\">\n",
              "    <path d=\"M0 0h24v24H0V0z\" fill=\"none\"/>\n",
              "    <path d=\"M18.56 5.44l.94 2.06.94-2.06 2.06-.94-2.06-.94-.94-2.06-.94 2.06-2.06.94zm-11 1L8.5 8.5l.94-2.06 2.06-.94-2.06-.94L8.5 2.5l-.94 2.06-2.06.94zm10 10l.94 2.06.94-2.06 2.06-.94-2.06-.94-.94-2.06-.94 2.06-2.06.94z\"/><path d=\"M17.41 7.96l-1.37-1.37c-.4-.4-.92-.59-1.43-.59-.52 0-1.04.2-1.43.59L10.3 9.45l-7.72 7.72c-.78.78-.78 2.05 0 2.83L4 21.41c.39.39.9.59 1.41.59.51 0 1.02-.2 1.41-.59l7.78-7.78 2.81-2.81c.8-.78.8-2.07 0-2.86zM5.41 20L4 18.59l7.72-7.72 1.47 1.35L5.41 20z\"/>\n",
              "  </svg>\n",
              "      </button>\n",
              "      \n",
              "  <style>\n",
              "    .colab-df-container {\n",
              "      display:flex;\n",
              "      flex-wrap:wrap;\n",
              "      gap: 12px;\n",
              "    }\n",
              "\n",
              "    .colab-df-convert {\n",
              "      background-color: #E8F0FE;\n",
              "      border: none;\n",
              "      border-radius: 50%;\n",
              "      cursor: pointer;\n",
              "      display: none;\n",
              "      fill: #1967D2;\n",
              "      height: 32px;\n",
              "      padding: 0 0 0 0;\n",
              "      width: 32px;\n",
              "    }\n",
              "\n",
              "    .colab-df-convert:hover {\n",
              "      background-color: #E2EBFA;\n",
              "      box-shadow: 0px 1px 2px rgba(60, 64, 67, 0.3), 0px 1px 3px 1px rgba(60, 64, 67, 0.15);\n",
              "      fill: #174EA6;\n",
              "    }\n",
              "\n",
              "    [theme=dark] .colab-df-convert {\n",
              "      background-color: #3B4455;\n",
              "      fill: #D2E3FC;\n",
              "    }\n",
              "\n",
              "    [theme=dark] .colab-df-convert:hover {\n",
              "      background-color: #434B5C;\n",
              "      box-shadow: 0px 1px 3px 1px rgba(0, 0, 0, 0.15);\n",
              "      filter: drop-shadow(0px 1px 2px rgba(0, 0, 0, 0.3));\n",
              "      fill: #FFFFFF;\n",
              "    }\n",
              "  </style>\n",
              "\n",
              "      <script>\n",
              "        const buttonEl =\n",
              "          document.querySelector('#df-508031ac-8ec5-42ea-9b4f-533ff2505a2d button.colab-df-convert');\n",
              "        buttonEl.style.display =\n",
              "          google.colab.kernel.accessAllowed ? 'block' : 'none';\n",
              "\n",
              "        async function convertToInteractive(key) {\n",
              "          const element = document.querySelector('#df-508031ac-8ec5-42ea-9b4f-533ff2505a2d');\n",
              "          const dataTable =\n",
              "            await google.colab.kernel.invokeFunction('convertToInteractive',\n",
              "                                                     [key], {});\n",
              "          if (!dataTable) return;\n",
              "\n",
              "          const docLinkHtml = 'Like what you see? Visit the ' +\n",
              "            '<a target=\"_blank\" href=https://colab.research.google.com/notebooks/data_table.ipynb>data table notebook</a>'\n",
              "            + ' to learn more about interactive tables.';\n",
              "          element.innerHTML = '';\n",
              "          dataTable['output_type'] = 'display_data';\n",
              "          await google.colab.output.renderOutput(dataTable, element);\n",
              "          const docLink = document.createElement('div');\n",
              "          docLink.innerHTML = docLinkHtml;\n",
              "          element.appendChild(docLink);\n",
              "        }\n",
              "      </script>\n",
              "    </div>\n",
              "  </div>\n",
              "  "
            ]
          },
          "metadata": {},
          "execution_count": 34
        }
      ]
    },
    {
      "cell_type": "code",
      "source": [
        "labels_df[labels_df['is_auto_labelled']]['hash_dist_pic_2'].value_counts().reset_index().rename(\n",
        "    columns={'hash_dist_pic_2': 'count', 'index': 'hash_dist_pic_2'}\n",
        ").sort_values(by='hash_dist_pic_2')[:10]"
      ],
      "metadata": {
        "colab": {
          "base_uri": "https://localhost:8080/",
          "height": 363
        },
        "id": "5w02Y4Crh7VF",
        "outputId": "b48f2146-91dd-4a74-dc8f-579795c475db"
      },
      "execution_count": 35,
      "outputs": [
        {
          "output_type": "execute_result",
          "data": {
            "text/plain": [
              "    hash_dist_pic_2  count\n",
              "43                9      1\n",
              "44               10      1\n",
              "38               11      5\n",
              "36               12      5\n",
              "34               13     12\n",
              "32               14     18\n",
              "31               15     27\n",
              "29               16     41\n",
              "27               17     58\n",
              "24               18     87"
            ],
            "text/html": [
              "\n",
              "  <div id=\"df-1390afcc-3606-41b9-85de-3a2c24312329\">\n",
              "    <div class=\"colab-df-container\">\n",
              "      <div>\n",
              "<style scoped>\n",
              "    .dataframe tbody tr th:only-of-type {\n",
              "        vertical-align: middle;\n",
              "    }\n",
              "\n",
              "    .dataframe tbody tr th {\n",
              "        vertical-align: top;\n",
              "    }\n",
              "\n",
              "    .dataframe thead th {\n",
              "        text-align: right;\n",
              "    }\n",
              "</style>\n",
              "<table border=\"1\" class=\"dataframe\">\n",
              "  <thead>\n",
              "    <tr style=\"text-align: right;\">\n",
              "      <th></th>\n",
              "      <th>hash_dist_pic_2</th>\n",
              "      <th>count</th>\n",
              "    </tr>\n",
              "  </thead>\n",
              "  <tbody>\n",
              "    <tr>\n",
              "      <th>43</th>\n",
              "      <td>9</td>\n",
              "      <td>1</td>\n",
              "    </tr>\n",
              "    <tr>\n",
              "      <th>44</th>\n",
              "      <td>10</td>\n",
              "      <td>1</td>\n",
              "    </tr>\n",
              "    <tr>\n",
              "      <th>38</th>\n",
              "      <td>11</td>\n",
              "      <td>5</td>\n",
              "    </tr>\n",
              "    <tr>\n",
              "      <th>36</th>\n",
              "      <td>12</td>\n",
              "      <td>5</td>\n",
              "    </tr>\n",
              "    <tr>\n",
              "      <th>34</th>\n",
              "      <td>13</td>\n",
              "      <td>12</td>\n",
              "    </tr>\n",
              "    <tr>\n",
              "      <th>32</th>\n",
              "      <td>14</td>\n",
              "      <td>18</td>\n",
              "    </tr>\n",
              "    <tr>\n",
              "      <th>31</th>\n",
              "      <td>15</td>\n",
              "      <td>27</td>\n",
              "    </tr>\n",
              "    <tr>\n",
              "      <th>29</th>\n",
              "      <td>16</td>\n",
              "      <td>41</td>\n",
              "    </tr>\n",
              "    <tr>\n",
              "      <th>27</th>\n",
              "      <td>17</td>\n",
              "      <td>58</td>\n",
              "    </tr>\n",
              "    <tr>\n",
              "      <th>24</th>\n",
              "      <td>18</td>\n",
              "      <td>87</td>\n",
              "    </tr>\n",
              "  </tbody>\n",
              "</table>\n",
              "</div>\n",
              "      <button class=\"colab-df-convert\" onclick=\"convertToInteractive('df-1390afcc-3606-41b9-85de-3a2c24312329')\"\n",
              "              title=\"Convert this dataframe to an interactive table.\"\n",
              "              style=\"display:none;\">\n",
              "        \n",
              "  <svg xmlns=\"http://www.w3.org/2000/svg\" height=\"24px\"viewBox=\"0 0 24 24\"\n",
              "       width=\"24px\">\n",
              "    <path d=\"M0 0h24v24H0V0z\" fill=\"none\"/>\n",
              "    <path d=\"M18.56 5.44l.94 2.06.94-2.06 2.06-.94-2.06-.94-.94-2.06-.94 2.06-2.06.94zm-11 1L8.5 8.5l.94-2.06 2.06-.94-2.06-.94L8.5 2.5l-.94 2.06-2.06.94zm10 10l.94 2.06.94-2.06 2.06-.94-2.06-.94-.94-2.06-.94 2.06-2.06.94z\"/><path d=\"M17.41 7.96l-1.37-1.37c-.4-.4-.92-.59-1.43-.59-.52 0-1.04.2-1.43.59L10.3 9.45l-7.72 7.72c-.78.78-.78 2.05 0 2.83L4 21.41c.39.39.9.59 1.41.59.51 0 1.02-.2 1.41-.59l7.78-7.78 2.81-2.81c.8-.78.8-2.07 0-2.86zM5.41 20L4 18.59l7.72-7.72 1.47 1.35L5.41 20z\"/>\n",
              "  </svg>\n",
              "      </button>\n",
              "      \n",
              "  <style>\n",
              "    .colab-df-container {\n",
              "      display:flex;\n",
              "      flex-wrap:wrap;\n",
              "      gap: 12px;\n",
              "    }\n",
              "\n",
              "    .colab-df-convert {\n",
              "      background-color: #E8F0FE;\n",
              "      border: none;\n",
              "      border-radius: 50%;\n",
              "      cursor: pointer;\n",
              "      display: none;\n",
              "      fill: #1967D2;\n",
              "      height: 32px;\n",
              "      padding: 0 0 0 0;\n",
              "      width: 32px;\n",
              "    }\n",
              "\n",
              "    .colab-df-convert:hover {\n",
              "      background-color: #E2EBFA;\n",
              "      box-shadow: 0px 1px 2px rgba(60, 64, 67, 0.3), 0px 1px 3px 1px rgba(60, 64, 67, 0.15);\n",
              "      fill: #174EA6;\n",
              "    }\n",
              "\n",
              "    [theme=dark] .colab-df-convert {\n",
              "      background-color: #3B4455;\n",
              "      fill: #D2E3FC;\n",
              "    }\n",
              "\n",
              "    [theme=dark] .colab-df-convert:hover {\n",
              "      background-color: #434B5C;\n",
              "      box-shadow: 0px 1px 3px 1px rgba(0, 0, 0, 0.15);\n",
              "      filter: drop-shadow(0px 1px 2px rgba(0, 0, 0, 0.3));\n",
              "      fill: #FFFFFF;\n",
              "    }\n",
              "  </style>\n",
              "\n",
              "      <script>\n",
              "        const buttonEl =\n",
              "          document.querySelector('#df-1390afcc-3606-41b9-85de-3a2c24312329 button.colab-df-convert');\n",
              "        buttonEl.style.display =\n",
              "          google.colab.kernel.accessAllowed ? 'block' : 'none';\n",
              "\n",
              "        async function convertToInteractive(key) {\n",
              "          const element = document.querySelector('#df-1390afcc-3606-41b9-85de-3a2c24312329');\n",
              "          const dataTable =\n",
              "            await google.colab.kernel.invokeFunction('convertToInteractive',\n",
              "                                                     [key], {});\n",
              "          if (!dataTable) return;\n",
              "\n",
              "          const docLinkHtml = 'Like what you see? Visit the ' +\n",
              "            '<a target=\"_blank\" href=https://colab.research.google.com/notebooks/data_table.ipynb>data table notebook</a>'\n",
              "            + ' to learn more about interactive tables.';\n",
              "          element.innerHTML = '';\n",
              "          dataTable['output_type'] = 'display_data';\n",
              "          await google.colab.output.renderOutput(dataTable, element);\n",
              "          const docLink = document.createElement('div');\n",
              "          docLink.innerHTML = docLinkHtml;\n",
              "          element.appendChild(docLink);\n",
              "        }\n",
              "      </script>\n",
              "    </div>\n",
              "  </div>\n",
              "  "
            ]
          },
          "metadata": {},
          "execution_count": 35
        }
      ]
    },
    {
      "cell_type": "markdown",
      "source": [
        "## Расчет метрик"
      ],
      "metadata": {
        "id": "Miu8kZ8bgoQy"
      }
    },
    {
      "cell_type": "code",
      "source": [
        "from sklearn.metrics import classification_report, precision_score, recall_score, confusion_matrix"
      ],
      "metadata": {
        "id": "fp1epUjtg1cv"
      },
      "execution_count": 39,
      "outputs": []
    },
    {
      "cell_type": "code",
      "source": [
        "print(classification_report(labels_df['truth_postcard'], labels_df['pred_postcard']))"
      ],
      "metadata": {
        "colab": {
          "base_uri": "https://localhost:8080/"
        },
        "id": "DJh3UKfUhDbe",
        "outputId": "dd76a25a-cd07-4a04-a975-a75d5c3bacd5"
      },
      "execution_count": 37,
      "outputs": [
        {
          "output_type": "stream",
          "name": "stdout",
          "text": [
            "              precision    recall  f1-score   support\n",
            "\n",
            "       False       1.00      0.95      0.98      9202\n",
            "        True       0.64      0.99      0.78       798\n",
            "\n",
            "    accuracy                           0.96     10000\n",
            "   macro avg       0.82      0.97      0.88     10000\n",
            "weighted avg       0.97      0.96      0.96     10000\n",
            "\n"
          ]
        }
      ]
    },
    {
      "cell_type": "code",
      "source": [
        "print(\n",
        "f\"\"\"Точность (Precision): {precision_score(labels_df['truth_postcard'], labels_df['pred_postcard'])}\n",
        "Полнота (Recall): {recall_score(labels_df['truth_postcard'], labels_df['pred_postcard'])}\n",
        "\"\"\")"
      ],
      "metadata": {
        "colab": {
          "base_uri": "https://localhost:8080/"
        },
        "id": "JzYJjsSfiS15",
        "outputId": "57beb1ac-ddaf-438e-e415-18d8a60e9505"
      },
      "execution_count": 42,
      "outputs": [
        {
          "output_type": "stream",
          "name": "stdout",
          "text": [
            "Точность (Precision): 0.6446078431372549\n",
            "Полнота (Recall): 0.9887218045112782\n",
            "\n"
          ]
        }
      ]
    },
    {
      "cell_type": "code",
      "source": [
        "tn, fp, fn, tp = confusion_matrix(labels_df['truth_postcard'], labels_df['pred_postcard']).ravel()\n",
        "print(\n",
        "f\"\"\"1 1* (True Positive): {tp}\n",
        "1 0* (False Negative): {fn}\n",
        "0 1* (False Positive): {fp}\n",
        "0 0* (True Negative): {tn}\n",
        "\"\"\")"
      ],
      "metadata": {
        "colab": {
          "base_uri": "https://localhost:8080/"
        },
        "id": "gcwOw2vR2jyy",
        "outputId": "0a7a9da2-e7be-4e8d-8131-0eec8d7baed5"
      },
      "execution_count": 41,
      "outputs": [
        {
          "output_type": "stream",
          "name": "stdout",
          "text": [
            "1 1* (True Positive): 789\n",
            "1 0* (False Negative): 9\n",
            "0 1* (False Positive): 435\n",
            "0 0* (True Negative): 8767\n",
            "\n"
          ]
        }
      ]
    },
    {
      "cell_type": "markdown",
      "source": [
        "## Визуализации"
      ],
      "metadata": {
        "id": "9ICA7wDd237V"
      }
    },
    {
      "cell_type": "code",
      "source": [
        "import matplotlib.pyplot as plt\n",
        "import seaborn as sns\n",
        "import numpy as np\n",
        "sns.set_theme()"
      ],
      "metadata": {
        "id": "IyFGCV7lsvVc"
      },
      "execution_count": null,
      "outputs": []
    },
    {
      "cell_type": "code",
      "source": [
        "stats = pd.DataFrame(stats, columns=['pic', 'hash_dist', 'tp', 'fp'])\n",
        "stats['precision'] = stats['tp'] / (stats['tp'] + stats['fp'])\n",
        "stats['сторона'] = stats['pic'].replace(\n",
        "    {'front': 'лицевая', 'back': 'оборотная'}\n",
        ")\n",
        "stats"
      ],
      "metadata": {
        "colab": {
          "base_uri": "https://localhost:8080/",
          "height": 300
        },
        "id": "GaK_UtjGtVvA",
        "outputId": "bfdb52d9-e4e3-4fce-b964-6e1a6c260cb5"
      },
      "execution_count": null,
      "outputs": [
        {
          "output_type": "execute_result",
          "data": {
            "text/plain": [
              "     pic  hash_dist   tp   fp  precision    сторона\n",
              "0  front          0  535    0   1.000000    лицевая\n",
              "1  front          1  160    9   0.946746    лицевая\n",
              "2  front          2   90    1   0.989011    лицевая\n",
              "3  front          3  131    0   1.000000    лицевая\n",
              "4   back          0  423   11   0.974654  оборотная\n",
              "5   back          1  120   25   0.827586  оборотная\n",
              "6   back          2   96   71   0.574850  оборотная\n",
              "7   back          3   47  176   0.210762  оборотная"
            ],
            "text/html": [
              "\n",
              "  <div id=\"df-c5c24f8c-fe74-4fac-bb59-cb5500d6941c\">\n",
              "    <div class=\"colab-df-container\">\n",
              "      <div>\n",
              "<style scoped>\n",
              "    .dataframe tbody tr th:only-of-type {\n",
              "        vertical-align: middle;\n",
              "    }\n",
              "\n",
              "    .dataframe tbody tr th {\n",
              "        vertical-align: top;\n",
              "    }\n",
              "\n",
              "    .dataframe thead th {\n",
              "        text-align: right;\n",
              "    }\n",
              "</style>\n",
              "<table border=\"1\" class=\"dataframe\">\n",
              "  <thead>\n",
              "    <tr style=\"text-align: right;\">\n",
              "      <th></th>\n",
              "      <th>pic</th>\n",
              "      <th>hash_dist</th>\n",
              "      <th>tp</th>\n",
              "      <th>fp</th>\n",
              "      <th>precision</th>\n",
              "      <th>сторона</th>\n",
              "    </tr>\n",
              "  </thead>\n",
              "  <tbody>\n",
              "    <tr>\n",
              "      <th>0</th>\n",
              "      <td>front</td>\n",
              "      <td>0</td>\n",
              "      <td>535</td>\n",
              "      <td>0</td>\n",
              "      <td>1.000000</td>\n",
              "      <td>лицевая</td>\n",
              "    </tr>\n",
              "    <tr>\n",
              "      <th>1</th>\n",
              "      <td>front</td>\n",
              "      <td>1</td>\n",
              "      <td>160</td>\n",
              "      <td>9</td>\n",
              "      <td>0.946746</td>\n",
              "      <td>лицевая</td>\n",
              "    </tr>\n",
              "    <tr>\n",
              "      <th>2</th>\n",
              "      <td>front</td>\n",
              "      <td>2</td>\n",
              "      <td>90</td>\n",
              "      <td>1</td>\n",
              "      <td>0.989011</td>\n",
              "      <td>лицевая</td>\n",
              "    </tr>\n",
              "    <tr>\n",
              "      <th>3</th>\n",
              "      <td>front</td>\n",
              "      <td>3</td>\n",
              "      <td>131</td>\n",
              "      <td>0</td>\n",
              "      <td>1.000000</td>\n",
              "      <td>лицевая</td>\n",
              "    </tr>\n",
              "    <tr>\n",
              "      <th>4</th>\n",
              "      <td>back</td>\n",
              "      <td>0</td>\n",
              "      <td>423</td>\n",
              "      <td>11</td>\n",
              "      <td>0.974654</td>\n",
              "      <td>оборотная</td>\n",
              "    </tr>\n",
              "    <tr>\n",
              "      <th>5</th>\n",
              "      <td>back</td>\n",
              "      <td>1</td>\n",
              "      <td>120</td>\n",
              "      <td>25</td>\n",
              "      <td>0.827586</td>\n",
              "      <td>оборотная</td>\n",
              "    </tr>\n",
              "    <tr>\n",
              "      <th>6</th>\n",
              "      <td>back</td>\n",
              "      <td>2</td>\n",
              "      <td>96</td>\n",
              "      <td>71</td>\n",
              "      <td>0.574850</td>\n",
              "      <td>оборотная</td>\n",
              "    </tr>\n",
              "    <tr>\n",
              "      <th>7</th>\n",
              "      <td>back</td>\n",
              "      <td>3</td>\n",
              "      <td>47</td>\n",
              "      <td>176</td>\n",
              "      <td>0.210762</td>\n",
              "      <td>оборотная</td>\n",
              "    </tr>\n",
              "  </tbody>\n",
              "</table>\n",
              "</div>\n",
              "      <button class=\"colab-df-convert\" onclick=\"convertToInteractive('df-c5c24f8c-fe74-4fac-bb59-cb5500d6941c')\"\n",
              "              title=\"Convert this dataframe to an interactive table.\"\n",
              "              style=\"display:none;\">\n",
              "        \n",
              "  <svg xmlns=\"http://www.w3.org/2000/svg\" height=\"24px\"viewBox=\"0 0 24 24\"\n",
              "       width=\"24px\">\n",
              "    <path d=\"M0 0h24v24H0V0z\" fill=\"none\"/>\n",
              "    <path d=\"M18.56 5.44l.94 2.06.94-2.06 2.06-.94-2.06-.94-.94-2.06-.94 2.06-2.06.94zm-11 1L8.5 8.5l.94-2.06 2.06-.94-2.06-.94L8.5 2.5l-.94 2.06-2.06.94zm10 10l.94 2.06.94-2.06 2.06-.94-2.06-.94-.94-2.06-.94 2.06-2.06.94z\"/><path d=\"M17.41 7.96l-1.37-1.37c-.4-.4-.92-.59-1.43-.59-.52 0-1.04.2-1.43.59L10.3 9.45l-7.72 7.72c-.78.78-.78 2.05 0 2.83L4 21.41c.39.39.9.59 1.41.59.51 0 1.02-.2 1.41-.59l7.78-7.78 2.81-2.81c.8-.78.8-2.07 0-2.86zM5.41 20L4 18.59l7.72-7.72 1.47 1.35L5.41 20z\"/>\n",
              "  </svg>\n",
              "      </button>\n",
              "      \n",
              "  <style>\n",
              "    .colab-df-container {\n",
              "      display:flex;\n",
              "      flex-wrap:wrap;\n",
              "      gap: 12px;\n",
              "    }\n",
              "\n",
              "    .colab-df-convert {\n",
              "      background-color: #E8F0FE;\n",
              "      border: none;\n",
              "      border-radius: 50%;\n",
              "      cursor: pointer;\n",
              "      display: none;\n",
              "      fill: #1967D2;\n",
              "      height: 32px;\n",
              "      padding: 0 0 0 0;\n",
              "      width: 32px;\n",
              "    }\n",
              "\n",
              "    .colab-df-convert:hover {\n",
              "      background-color: #E2EBFA;\n",
              "      box-shadow: 0px 1px 2px rgba(60, 64, 67, 0.3), 0px 1px 3px 1px rgba(60, 64, 67, 0.15);\n",
              "      fill: #174EA6;\n",
              "    }\n",
              "\n",
              "    [theme=dark] .colab-df-convert {\n",
              "      background-color: #3B4455;\n",
              "      fill: #D2E3FC;\n",
              "    }\n",
              "\n",
              "    [theme=dark] .colab-df-convert:hover {\n",
              "      background-color: #434B5C;\n",
              "      box-shadow: 0px 1px 3px 1px rgba(0, 0, 0, 0.15);\n",
              "      filter: drop-shadow(0px 1px 2px rgba(0, 0, 0, 0.3));\n",
              "      fill: #FFFFFF;\n",
              "    }\n",
              "  </style>\n",
              "\n",
              "      <script>\n",
              "        const buttonEl =\n",
              "          document.querySelector('#df-c5c24f8c-fe74-4fac-bb59-cb5500d6941c button.colab-df-convert');\n",
              "        buttonEl.style.display =\n",
              "          google.colab.kernel.accessAllowed ? 'block' : 'none';\n",
              "\n",
              "        async function convertToInteractive(key) {\n",
              "          const element = document.querySelector('#df-c5c24f8c-fe74-4fac-bb59-cb5500d6941c');\n",
              "          const dataTable =\n",
              "            await google.colab.kernel.invokeFunction('convertToInteractive',\n",
              "                                                     [key], {});\n",
              "          if (!dataTable) return;\n",
              "\n",
              "          const docLinkHtml = 'Like what you see? Visit the ' +\n",
              "            '<a target=\"_blank\" href=https://colab.research.google.com/notebooks/data_table.ipynb>data table notebook</a>'\n",
              "            + ' to learn more about interactive tables.';\n",
              "          element.innerHTML = '';\n",
              "          dataTable['output_type'] = 'display_data';\n",
              "          await google.colab.output.renderOutput(dataTable, element);\n",
              "          const docLink = document.createElement('div');\n",
              "          docLink.innerHTML = docLinkHtml;\n",
              "          element.appendChild(docLink);\n",
              "        }\n",
              "      </script>\n",
              "    </div>\n",
              "  </div>\n",
              "  "
            ]
          },
          "metadata": {},
          "execution_count": 25
        }
      ]
    },
    {
      "cell_type": "code",
      "source": [
        "ax = sns.barplot(data=stats, x='hash_dist', y='precision', hue='сторона', \n",
        "            palette=['mediumturquoise', 'lightcoral']);\n",
        "plt.yticks(np.arange(0, 1.1, 0.1));\n",
        "plt.ylabel('Точность (precision)');\n",
        "plt.xlabel('Расстояние Хемминга');\n",
        "sns.move_legend(ax, \"upper left\", bbox_to_anchor=(1, 1));"
      ],
      "metadata": {
        "colab": {
          "base_uri": "https://localhost:8080/",
          "height": 458
        },
        "id": "mXoFBHwis0on",
        "outputId": "f7d57fc5-0636-4693-abbe-5883c5fd50f1"
      },
      "execution_count": null,
      "outputs": [
        {
          "output_type": "display_data",
          "data": {
            "text/plain": [
              "<Figure size 640x480 with 1 Axes>"
            ],
            "image/png": "[encoded data removed]"
          },
          "metadata": {}
        }
      ]
    },
    {
      "cell_type": "code",
      "source": [],
      "metadata": {
        "id": "lwx7Xg1h3x5F"
      },
      "execution_count": null,
      "outputs": []
    }
  ]
}