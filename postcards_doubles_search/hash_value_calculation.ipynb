{
 "cells": [
  {
   "cell_type": "code",
   "execution_count": 1,
   "metadata": {},
   "outputs": [],
   "source": [
    "import imagehash\n",
    "from PIL import Image"
   ]
  },
  {
   "cell_type": "code",
   "execution_count": 2,
   "metadata": {},
   "outputs": [],
   "source": [
    "import pandas as pd"
   ]
  },
  {
   "cell_type": "markdown",
   "metadata": {},
   "source": [
    "Считаем хеши всех фотографий в трех базах"
   ]
  },
  {
   "cell_type": "markdown",
   "metadata": {},
   "source": [
    "## База 3"
   ]
  },
  {
   "cell_type": "code",
   "execution_count": null,
   "metadata": {},
   "outputs": [],
   "source": [
    "df = pd.read_csv('data_prepped/base_3.csv', index_col=0)\n",
    "df.head()"
   ]
  },
  {
   "cell_type": "code",
   "execution_count": null,
   "metadata": {},
   "outputs": [],
   "source": [
    "df.columns"
   ]
  },
  {
   "cell_type": "code",
   "execution_count": null,
   "metadata": {},
   "outputs": [],
   "source": [
    "import requests\n",
    "from bs4 import BeautifulSoup"
   ]
  },
  {
   "cell_type": "code",
   "execution_count": null,
   "metadata": {},
   "outputs": [],
   "source": [
    "def download(url_1, url_2):\n",
    "    pic_1_content = requests.get(url_1).content\n",
    "    pic_2_content = requests.get(url_2).content\n",
    "    \n",
    "    with open ('pic_1.jpg', 'wb') as pic_1_file:\n",
    "        pic_1_file.write(pic_1_content)\n",
    "    with open ('pic_2.jpg', 'wb') as pic_2_file:\n",
    "        pic_2_file.write(pic_2_content)"
   ]
  },
  {
   "cell_type": "code",
   "execution_count": null,
   "metadata": {},
   "outputs": [],
   "source": [
    "def get_hashes():\n",
    "    pic_1 = Image.open('pic_1.jpg')\n",
    "    hash_1 = imagehash.dhash(pic_1)\n",
    "    pic_2 = Image.open('pic_2.jpg')\n",
    "    hash_2 = imagehash.dhash(pic_2)\n",
    "    return str(hash_1), str(hash_2)"
   ]
  },
  {
   "cell_type": "code",
   "execution_count": null,
   "metadata": {},
   "outputs": [],
   "source": [
    "def calculate(row):\n",
    "    url_1 = row['Pic_url_1']\n",
    "    url_2 = row['Pic_url_2']\n",
    "    \n",
    "    try:\n",
    "        download(url_1, url_2)\n",
    "        return get_hashes() \n",
    "    \n",
    "    except:\n",
    "        raise\n",
    "#         return 'error', 'error'"
   ]
  },
  {
   "cell_type": "code",
   "execution_count": null,
   "metadata": {},
   "outputs": [],
   "source": [
    "from tqdm import tqdm\n",
    "tqdm.pandas()"
   ]
  },
  {
   "cell_type": "code",
   "execution_count": null,
   "metadata": {},
   "outputs": [],
   "source": [
    "sample = df.head()\n",
    "sample['calc_res'] = sample.progress_apply(calculate, axis=1)\n",
    "sample"
   ]
  },
  {
   "cell_type": "code",
   "execution_count": null,
   "metadata": {},
   "outputs": [],
   "source": [
    "df['calc_res'] = df.progress_apply(calculate, axis=1)"
   ]
  },
  {
   "cell_type": "code",
   "execution_count": null,
   "metadata": {},
   "outputs": [],
   "source": [
    "df.to_csv('base_3_hashes.csv')"
   ]
  },
  {
   "cell_type": "markdown",
   "metadata": {},
   "source": [
    "## База 2"
   ]
  },
  {
   "cell_type": "code",
   "execution_count": null,
   "metadata": {},
   "outputs": [],
   "source": [
    "df = pd.read_csv('data_prepped/base_2.csv', index_col=0)\n",
    "df.head()"
   ]
  },
  {
   "cell_type": "code",
   "execution_count": null,
   "metadata": {},
   "outputs": [],
   "source": [
    "df['calc_res'] = df.progress_apply(calculate, axis=1)"
   ]
  },
  {
   "cell_type": "code",
   "execution_count": null,
   "metadata": {},
   "outputs": [],
   "source": [
    "df.to_csv('base_2_hashes.csv')"
   ]
  },
  {
   "cell_type": "markdown",
   "metadata": {},
   "source": [
    "## Обработка"
   ]
  },
  {
   "cell_type": "markdown",
   "metadata": {},
   "source": [
    "База 2"
   ]
  },
  {
   "cell_type": "code",
   "execution_count": null,
   "metadata": {},
   "outputs": [],
   "source": [
    "df2 = pd.read_csv('base_2_hashes.csv', index_col=0)\n",
    "df2.head()"
   ]
  },
  {
   "cell_type": "code",
   "execution_count": null,
   "metadata": {},
   "outputs": [],
   "source": [
    "df2['base'] = 2\n",
    "df2 = df2[['base', 'ID', 'Pic_url_1', 'Pic_url_2', 'calc_res']]\n",
    "df2.head()"
   ]
  },
  {
   "cell_type": "code",
   "execution_count": null,
   "metadata": {},
   "outputs": [],
   "source": [
    "import ast"
   ]
  },
  {
   "cell_type": "code",
   "execution_count": null,
   "metadata": {},
   "outputs": [],
   "source": [
    "df2['calc_res'] = df2['calc_res'].apply(ast.literal_eval)\n",
    "df2['hash_1'] = df2['calc_res'].apply(lambda x: x[0])\n",
    "df2['hash_2'] = df2['calc_res'].apply(lambda x: x[1])\n",
    "df2 = df2.drop('calc_res', axis=1)\n",
    "df2.head()"
   ]
  },
  {
   "cell_type": "markdown",
   "metadata": {},
   "source": [
    "6 случаев - ошибка скачивания (битые ссылки)"
   ]
  },
  {
   "cell_type": "code",
   "execution_count": null,
   "metadata": {},
   "outputs": [],
   "source": [
    "df2[df2['hash_1'] == 'error']"
   ]
  },
  {
   "cell_type": "code",
   "execution_count": null,
   "metadata": {},
   "outputs": [],
   "source": [
    "df2[df2['hash_1'] == 'error'].to_csv('base_2_download_error.csv')"
   ]
  },
  {
   "cell_type": "code",
   "execution_count": null,
   "metadata": {},
   "outputs": [],
   "source": [
    "df2 = df2[df2['hash_1'] != 'error']\n",
    "df2.shape"
   ]
  },
  {
   "cell_type": "markdown",
   "metadata": {},
   "source": [
    "База 3"
   ]
  },
  {
   "cell_type": "code",
   "execution_count": null,
   "metadata": {},
   "outputs": [],
   "source": [
    "df3 = pd.read_csv('base_3_hashes.csv', index_col=0)\n",
    "df3.head()"
   ]
  },
  {
   "cell_type": "code",
   "execution_count": null,
   "metadata": {},
   "outputs": [],
   "source": [
    "df3['base'] = 3\n",
    "df3 = df3[['base', 'ID', 'Pic_url_1', 'Pic_url_2', 'calc_res']]\n",
    "\n",
    "df3['calc_res'] = df3['calc_res'].apply(ast.literal_eval)\n",
    "df3['hash_1'] = df3['calc_res'].apply(lambda x: x[0])\n",
    "df3['hash_2'] = df3['calc_res'].apply(lambda x: x[1])\n",
    "df3 = df3.drop('calc_res', axis=1)\n",
    "\n",
    "df3.head()"
   ]
  },
  {
   "cell_type": "markdown",
   "metadata": {},
   "source": [
    "Ошибка скачивания"
   ]
  },
  {
   "cell_type": "code",
   "execution_count": null,
   "metadata": {},
   "outputs": [],
   "source": [
    "(df3['hash_1'] == 'error').sum()"
   ]
  },
  {
   "cell_type": "code",
   "execution_count": null,
   "metadata": {},
   "outputs": [],
   "source": [
    "df3[df3['hash_1'] == 'error']"
   ]
  },
  {
   "cell_type": "code",
   "execution_count": null,
   "metadata": {},
   "outputs": [],
   "source": [
    "df3[df3['hash_1'] == 'error'].to_csv('base_3_download_error.csv')"
   ]
  },
  {
   "cell_type": "code",
   "execution_count": null,
   "metadata": {},
   "outputs": [],
   "source": [
    "df3 = df3[df3['hash_1'] != 'error']\n",
    "df3.shape"
   ]
  },
  {
   "cell_type": "code",
   "execution_count": null,
   "metadata": {},
   "outputs": [],
   "source": [
    "df = df2.append(df3)\n",
    "df.head()"
   ]
  },
  {
   "cell_type": "code",
   "execution_count": null,
   "metadata": {},
   "outputs": [],
   "source": [
    "df.shape"
   ]
  },
  {
   "cell_type": "code",
   "execution_count": null,
   "metadata": {},
   "outputs": [],
   "source": [
    "df.to_csv('base_2_3_hashes.csv')"
   ]
  },
  {
   "cell_type": "markdown",
   "metadata": {},
   "source": [
    "## База 1 (основная база)"
   ]
  },
  {
   "cell_type": "code",
   "execution_count": null,
   "metadata": {},
   "outputs": [],
   "source": [
    "df = pd.read_csv('data_prepped/base_1.csv', index_col=0)\n",
    "df.head()"
   ]
  },
  {
   "cell_type": "code",
   "execution_count": null,
   "metadata": {},
   "outputs": [],
   "source": [
    "(df['Pic_url_2'] == '0.0').sum()"
   ]
  },
  {
   "cell_type": "code",
   "execution_count": null,
   "metadata": {},
   "outputs": [],
   "source": [
    "df.shape"
   ]
  },
  {
   "cell_type": "code",
   "execution_count": null,
   "metadata": {},
   "outputs": [],
   "source": [
    "def download(url):\n",
    "    content = requests.get(url).content\n",
    "    with open ('pic.jpg', 'wb') as pic_file:\n",
    "        pic_file.write(content)"
   ]
  },
  {
   "cell_type": "code",
   "execution_count": null,
   "metadata": {},
   "outputs": [],
   "source": [
    "def get_hash():\n",
    "    try:\n",
    "        pic = Image.open('pic.jpg')\n",
    "        hash_value = imagehash.dhash(pic)\n",
    "    except:\n",
    "        hash_value = 'hash_error'\n",
    "    return str(hash_value)"
   ]
  },
  {
   "cell_type": "code",
   "execution_count": null,
   "metadata": {},
   "outputs": [],
   "source": [
    "def calculate(row):\n",
    "    url_1 = row['Pic_url_1']\n",
    "    url_2 = row['Pic_url_2']\n",
    "    \n",
    "    try:\n",
    "        download(url_1)\n",
    "        res_1 = get_hash()\n",
    "    except:\n",
    "        res_1 = 'dwnld_error'\n",
    "    \n",
    "    if url_2 == '0.0':\n",
    "        res_2 = 'no_url'\n",
    "    else:\n",
    "        try:\n",
    "            download(url_2)\n",
    "            res_2 = get_hash()\n",
    "        except:\n",
    "            res_2 = 'dwnld_error'\n",
    "    \n",
    "    return res_1, res_2"
   ]
  },
  {
   "cell_type": "code",
   "execution_count": null,
   "metadata": {},
   "outputs": [],
   "source": [
    "sample = df.head()\n",
    "sample['calc_res'] = sample.progress_apply(calculate, axis=1)\n",
    "sample"
   ]
  },
  {
   "cell_type": "code",
   "execution_count": null,
   "metadata": {},
   "outputs": [],
   "source": [
    "df['calc_res'] = df.progress_apply(calculate, axis=1)"
   ]
  },
  {
   "cell_type": "code",
   "execution_count": null,
   "metadata": {},
   "outputs": [],
   "source": [
    "df.to_csv('base_1_hashes.csv')"
   ]
  },
  {
   "cell_type": "markdown",
   "metadata": {},
   "source": [
    "# Объединение в один датафрейм"
   ]
  },
  {
   "cell_type": "code",
   "execution_count": 18,
   "metadata": {},
   "outputs": [
    {
     "data": {
      "text/html": [
       "<div>\n",
       "<style scoped>\n",
       "    .dataframe tbody tr th:only-of-type {\n",
       "        vertical-align: middle;\n",
       "    }\n",
       "\n",
       "    .dataframe tbody tr th {\n",
       "        vertical-align: top;\n",
       "    }\n",
       "\n",
       "    .dataframe thead th {\n",
       "        text-align: right;\n",
       "    }\n",
       "</style>\n",
       "<table border=\"1\" class=\"dataframe\">\n",
       "  <thead>\n",
       "    <tr style=\"text-align: right;\">\n",
       "      <th></th>\n",
       "      <th>ID</th>\n",
       "      <th>Pic_url_1</th>\n",
       "      <th>Pic_url_2</th>\n",
       "      <th>calc_res</th>\n",
       "    </tr>\n",
       "  </thead>\n",
       "  <tbody>\n",
       "    <tr>\n",
       "      <th>0</th>\n",
       "      <td>0</td>\n",
       "      <td>https://forum.vgd.ru/file.php?fid=5476&amp;key=0</td>\n",
       "      <td>0.0</td>\n",
       "      <td>('806969715521b059', 'no_url')</td>\n",
       "    </tr>\n",
       "    <tr>\n",
       "      <th>2</th>\n",
       "      <td>2</td>\n",
       "      <td>https://forum.vgd.ru/file.php?fid=5492&amp;key=0</td>\n",
       "      <td>0.0</td>\n",
       "      <td>('f4d8cc0ca543d6b6', 'no_url')</td>\n",
       "    </tr>\n",
       "    <tr>\n",
       "      <th>3</th>\n",
       "      <td>3</td>\n",
       "      <td>https://forum.vgd.ru/file.php?fid=20890&amp;key=19...</td>\n",
       "      <td>0.0</td>\n",
       "      <td>('f1732b4d73511723', 'no_url')</td>\n",
       "    </tr>\n",
       "    <tr>\n",
       "      <th>4</th>\n",
       "      <td>4</td>\n",
       "      <td>https://forum.vgd.ru/file.php?fid=20894&amp;key=16...</td>\n",
       "      <td>0.0</td>\n",
       "      <td>('b292ced8b3f2f2f2', 'no_url')</td>\n",
       "    </tr>\n",
       "    <tr>\n",
       "      <th>5</th>\n",
       "      <td>5</td>\n",
       "      <td>https://forum.vgd.ru/file.php?fid=20895&amp;key=90...</td>\n",
       "      <td>0.0</td>\n",
       "      <td>('b8186ca4ae8a989a', 'no_url')</td>\n",
       "    </tr>\n",
       "  </tbody>\n",
       "</table>\n",
       "</div>"
      ],
      "text/plain": [
       "   ID                                          Pic_url_1 Pic_url_2  \\\n",
       "0   0       https://forum.vgd.ru/file.php?fid=5476&key=0       0.0   \n",
       "2   2       https://forum.vgd.ru/file.php?fid=5492&key=0       0.0   \n",
       "3   3  https://forum.vgd.ru/file.php?fid=20890&key=19...       0.0   \n",
       "4   4  https://forum.vgd.ru/file.php?fid=20894&key=16...       0.0   \n",
       "5   5  https://forum.vgd.ru/file.php?fid=20895&key=90...       0.0   \n",
       "\n",
       "                         calc_res  \n",
       "0  ('806969715521b059', 'no_url')  \n",
       "2  ('f4d8cc0ca543d6b6', 'no_url')  \n",
       "3  ('f1732b4d73511723', 'no_url')  \n",
       "4  ('b292ced8b3f2f2f2', 'no_url')  \n",
       "5  ('b8186ca4ae8a989a', 'no_url')  "
      ]
     },
     "execution_count": 18,
     "metadata": {},
     "output_type": "execute_result"
    }
   ],
   "source": [
    "df = pd.read_csv('hash_values/base_1_hashes.csv', index_col=0)\n",
    "df.head()"
   ]
  },
  {
   "cell_type": "code",
   "execution_count": 4,
   "metadata": {},
   "outputs": [],
   "source": [
    "import ast"
   ]
  },
  {
   "cell_type": "code",
   "execution_count": 19,
   "metadata": {},
   "outputs": [
    {
     "data": {
      "text/html": [
       "<div>\n",
       "<style scoped>\n",
       "    .dataframe tbody tr th:only-of-type {\n",
       "        vertical-align: middle;\n",
       "    }\n",
       "\n",
       "    .dataframe tbody tr th {\n",
       "        vertical-align: top;\n",
       "    }\n",
       "\n",
       "    .dataframe thead th {\n",
       "        text-align: right;\n",
       "    }\n",
       "</style>\n",
       "<table border=\"1\" class=\"dataframe\">\n",
       "  <thead>\n",
       "    <tr style=\"text-align: right;\">\n",
       "      <th></th>\n",
       "      <th>base</th>\n",
       "      <th>ID</th>\n",
       "      <th>Pic_url_1</th>\n",
       "      <th>Pic_url_2</th>\n",
       "      <th>hash_1</th>\n",
       "      <th>hash_2</th>\n",
       "    </tr>\n",
       "  </thead>\n",
       "  <tbody>\n",
       "    <tr>\n",
       "      <th>0</th>\n",
       "      <td>1</td>\n",
       "      <td>0</td>\n",
       "      <td>https://forum.vgd.ru/file.php?fid=5476&amp;key=0</td>\n",
       "      <td>0.0</td>\n",
       "      <td>806969715521b059</td>\n",
       "      <td>no_url</td>\n",
       "    </tr>\n",
       "    <tr>\n",
       "      <th>2</th>\n",
       "      <td>1</td>\n",
       "      <td>2</td>\n",
       "      <td>https://forum.vgd.ru/file.php?fid=5492&amp;key=0</td>\n",
       "      <td>0.0</td>\n",
       "      <td>f4d8cc0ca543d6b6</td>\n",
       "      <td>no_url</td>\n",
       "    </tr>\n",
       "    <tr>\n",
       "      <th>3</th>\n",
       "      <td>1</td>\n",
       "      <td>3</td>\n",
       "      <td>https://forum.vgd.ru/file.php?fid=20890&amp;key=19...</td>\n",
       "      <td>0.0</td>\n",
       "      <td>f1732b4d73511723</td>\n",
       "      <td>no_url</td>\n",
       "    </tr>\n",
       "    <tr>\n",
       "      <th>4</th>\n",
       "      <td>1</td>\n",
       "      <td>4</td>\n",
       "      <td>https://forum.vgd.ru/file.php?fid=20894&amp;key=16...</td>\n",
       "      <td>0.0</td>\n",
       "      <td>b292ced8b3f2f2f2</td>\n",
       "      <td>no_url</td>\n",
       "    </tr>\n",
       "    <tr>\n",
       "      <th>5</th>\n",
       "      <td>1</td>\n",
       "      <td>5</td>\n",
       "      <td>https://forum.vgd.ru/file.php?fid=20895&amp;key=90...</td>\n",
       "      <td>0.0</td>\n",
       "      <td>b8186ca4ae8a989a</td>\n",
       "      <td>no_url</td>\n",
       "    </tr>\n",
       "  </tbody>\n",
       "</table>\n",
       "</div>"
      ],
      "text/plain": [
       "   base  ID                                          Pic_url_1 Pic_url_2  \\\n",
       "0     1   0       https://forum.vgd.ru/file.php?fid=5476&key=0       0.0   \n",
       "2     1   2       https://forum.vgd.ru/file.php?fid=5492&key=0       0.0   \n",
       "3     1   3  https://forum.vgd.ru/file.php?fid=20890&key=19...       0.0   \n",
       "4     1   4  https://forum.vgd.ru/file.php?fid=20894&key=16...       0.0   \n",
       "5     1   5  https://forum.vgd.ru/file.php?fid=20895&key=90...       0.0   \n",
       "\n",
       "             hash_1  hash_2  \n",
       "0  806969715521b059  no_url  \n",
       "2  f4d8cc0ca543d6b6  no_url  \n",
       "3  f1732b4d73511723  no_url  \n",
       "4  b292ced8b3f2f2f2  no_url  \n",
       "5  b8186ca4ae8a989a  no_url  "
      ]
     },
     "execution_count": 19,
     "metadata": {},
     "output_type": "execute_result"
    }
   ],
   "source": [
    "df['base'] = 1\n",
    "df = df[['base', 'ID', 'Pic_url_1', 'Pic_url_2', 'calc_res']]\n",
    "\n",
    "df['calc_res'] = df['calc_res'].apply(ast.literal_eval)\n",
    "df['hash_1'] = df['calc_res'].apply(lambda x: x[0])\n",
    "df['hash_2'] = df['calc_res'].apply(lambda x: x[1])\n",
    "df = df.drop('calc_res', axis=1)\n",
    "\n",
    "df.head()"
   ]
  },
  {
   "cell_type": "markdown",
   "metadata": {},
   "source": [
    "Проверки"
   ]
  },
  {
   "cell_type": "code",
   "execution_count": null,
   "metadata": {},
   "outputs": [],
   "source": [
    "(df['hash_2'] == 'no_url').sum()"
   ]
  },
  {
   "cell_type": "code",
   "execution_count": null,
   "metadata": {},
   "outputs": [],
   "source": [
    "(df['hash_1'] == 'dwnld_error').sum()"
   ]
  },
  {
   "cell_type": "code",
   "execution_count": null,
   "metadata": {},
   "outputs": [],
   "source": [
    "df[(df['hash_1'] == 'dwnld_error') | (df['hash_2'] == 'dwnld_error')].shape"
   ]
  },
  {
   "cell_type": "code",
   "execution_count": null,
   "metadata": {},
   "outputs": [],
   "source": [
    "df[(df['hash_1'] == 'hash_error') | (df['hash_2'] == 'hash_error')].shape"
   ]
  },
  {
   "cell_type": "code",
   "execution_count": null,
   "metadata": {},
   "outputs": [],
   "source": [
    "df[((df['hash_1'] == 'dwnld_error') & ((df['hash_2'] == 'dwnld_error') | (df['hash_2'] == 'no_url')))\n",
    "  | ((df['hash_1'] == 'hash_error') & (df['hash_2'] == 'hash_error'))].shape"
   ]
  },
  {
   "cell_type": "code",
   "execution_count": null,
   "metadata": {},
   "outputs": [],
   "source": [
    "df[((df['hash_1'] == 'dwnld_error') & ((df['hash_2'] == 'dwnld_error') | (df['hash_2'] == 'no_url')))\n",
    "  | ((df['hash_1'] == 'hash_error') & (df['hash_2'] == 'hash_error'))].to_csv('base_1_download_error.csv')"
   ]
  },
  {
   "cell_type": "code",
   "execution_count": 20,
   "metadata": {},
   "outputs": [
    {
     "data": {
      "text/plain": [
       "(7147, 6)"
      ]
     },
     "execution_count": 20,
     "metadata": {},
     "output_type": "execute_result"
    }
   ],
   "source": [
    "df = df[~(((df['hash_1'] == 'dwnld_error') & ((df['hash_2'] == 'dwnld_error') | (df['hash_2'] == 'no_url')))\n",
    "  | ((df['hash_1'] == 'hash_error') & (df['hash_2'] == 'hash_error')))]\n",
    "df.shape"
   ]
  },
  {
   "cell_type": "markdown",
   "metadata": {},
   "source": [
    "Добавляем вторую и третью базу"
   ]
  },
  {
   "cell_type": "code",
   "execution_count": 21,
   "metadata": {},
   "outputs": [
    {
     "name": "stderr",
     "output_type": "stream",
     "text": [
      "C:\\Users\\811156\\AppData\\Local\\Temp\\ipykernel_17016\\2197507994.py:1: FutureWarning: The frame.append method is deprecated and will be removed from pandas in a future version. Use pandas.concat instead.\n",
      "  df = df.append(pd.read_csv('hash_values/base_2_3_hashes.csv', index_col=0))\n"
     ]
    },
    {
     "data": {
      "text/html": [
       "<div>\n",
       "<style scoped>\n",
       "    .dataframe tbody tr th:only-of-type {\n",
       "        vertical-align: middle;\n",
       "    }\n",
       "\n",
       "    .dataframe tbody tr th {\n",
       "        vertical-align: top;\n",
       "    }\n",
       "\n",
       "    .dataframe thead th {\n",
       "        text-align: right;\n",
       "    }\n",
       "</style>\n",
       "<table border=\"1\" class=\"dataframe\">\n",
       "  <thead>\n",
       "    <tr style=\"text-align: right;\">\n",
       "      <th></th>\n",
       "      <th>base</th>\n",
       "      <th>ID</th>\n",
       "      <th>Pic_url_1</th>\n",
       "      <th>Pic_url_2</th>\n",
       "      <th>hash_1</th>\n",
       "      <th>hash_2</th>\n",
       "    </tr>\n",
       "  </thead>\n",
       "  <tbody>\n",
       "    <tr>\n",
       "      <th>0</th>\n",
       "      <td>1</td>\n",
       "      <td>0</td>\n",
       "      <td>https://forum.vgd.ru/file.php?fid=5476&amp;key=0</td>\n",
       "      <td>0.0</td>\n",
       "      <td>806969715521b059</td>\n",
       "      <td>no_url</td>\n",
       "    </tr>\n",
       "    <tr>\n",
       "      <th>2</th>\n",
       "      <td>1</td>\n",
       "      <td>2</td>\n",
       "      <td>https://forum.vgd.ru/file.php?fid=5492&amp;key=0</td>\n",
       "      <td>0.0</td>\n",
       "      <td>f4d8cc0ca543d6b6</td>\n",
       "      <td>no_url</td>\n",
       "    </tr>\n",
       "    <tr>\n",
       "      <th>3</th>\n",
       "      <td>1</td>\n",
       "      <td>3</td>\n",
       "      <td>https://forum.vgd.ru/file.php?fid=20890&amp;key=19...</td>\n",
       "      <td>0.0</td>\n",
       "      <td>f1732b4d73511723</td>\n",
       "      <td>no_url</td>\n",
       "    </tr>\n",
       "    <tr>\n",
       "      <th>4</th>\n",
       "      <td>1</td>\n",
       "      <td>4</td>\n",
       "      <td>https://forum.vgd.ru/file.php?fid=20894&amp;key=16...</td>\n",
       "      <td>0.0</td>\n",
       "      <td>b292ced8b3f2f2f2</td>\n",
       "      <td>no_url</td>\n",
       "    </tr>\n",
       "    <tr>\n",
       "      <th>5</th>\n",
       "      <td>1</td>\n",
       "      <td>5</td>\n",
       "      <td>https://forum.vgd.ru/file.php?fid=20895&amp;key=90...</td>\n",
       "      <td>0.0</td>\n",
       "      <td>b8186ca4ae8a989a</td>\n",
       "      <td>no_url</td>\n",
       "    </tr>\n",
       "  </tbody>\n",
       "</table>\n",
       "</div>"
      ],
      "text/plain": [
       "   base  ID                                          Pic_url_1 Pic_url_2  \\\n",
       "0     1   0       https://forum.vgd.ru/file.php?fid=5476&key=0       0.0   \n",
       "2     1   2       https://forum.vgd.ru/file.php?fid=5492&key=0       0.0   \n",
       "3     1   3  https://forum.vgd.ru/file.php?fid=20890&key=19...       0.0   \n",
       "4     1   4  https://forum.vgd.ru/file.php?fid=20894&key=16...       0.0   \n",
       "5     1   5  https://forum.vgd.ru/file.php?fid=20895&key=90...       0.0   \n",
       "\n",
       "             hash_1  hash_2  \n",
       "0  806969715521b059  no_url  \n",
       "2  f4d8cc0ca543d6b6  no_url  \n",
       "3  f1732b4d73511723  no_url  \n",
       "4  b292ced8b3f2f2f2  no_url  \n",
       "5  b8186ca4ae8a989a  no_url  "
      ]
     },
     "execution_count": 21,
     "metadata": {},
     "output_type": "execute_result"
    }
   ],
   "source": [
    "df = df.append(pd.read_csv('hash_values/base_2_3_hashes.csv', index_col=0))\n",
    "df.head()"
   ]
  },
  {
   "cell_type": "code",
   "execution_count": 22,
   "metadata": {},
   "outputs": [
    {
     "data": {
      "text/plain": [
       "(17082, 6)"
      ]
     },
     "execution_count": 22,
     "metadata": {},
     "output_type": "execute_result"
    }
   ],
   "source": [
    "df.shape"
   ]
  },
  {
   "cell_type": "code",
   "execution_count": 23,
   "metadata": {},
   "outputs": [
    {
     "data": {
      "text/plain": [
       "base         0\n",
       "ID           0\n",
       "Pic_url_1    0\n",
       "Pic_url_2    0\n",
       "hash_1       0\n",
       "hash_2       0\n",
       "dtype: int64"
      ]
     },
     "execution_count": 23,
     "metadata": {},
     "output_type": "execute_result"
    }
   ],
   "source": [
    "df.isna().sum()"
   ]
  },
  {
   "cell_type": "code",
   "execution_count": 24,
   "metadata": {},
   "outputs": [
    {
     "data": {
      "text/plain": [
       "1    7147\n",
       "2    4970\n",
       "3    4965\n",
       "Name: base, dtype: int64"
      ]
     },
     "execution_count": 24,
     "metadata": {},
     "output_type": "execute_result"
    }
   ],
   "source": [
    "df['base'].value_counts()"
   ]
  },
  {
   "cell_type": "markdown",
   "metadata": {},
   "source": [
    "Разделяем лицевую и обратную сторону открытки на две разные строки"
   ]
  },
  {
   "cell_type": "code",
   "execution_count": 25,
   "metadata": {},
   "outputs": [
    {
     "name": "stderr",
     "output_type": "stream",
     "text": [
      "C:\\Users\\811156\\AppData\\Local\\Temp\\ipykernel_17016\\376422897.py:2: SettingWithCopyWarning: \n",
      "A value is trying to be set on a copy of a slice from a DataFrame.\n",
      "Try using .loc[row_indexer,col_indexer] = value instead\n",
      "\n",
      "See the caveats in the documentation: https://pandas.pydata.org/pandas-docs/stable/user_guide/indexing.html#returning-a-view-versus-a-copy\n",
      "  df_pic_1['Pic'] = 1\n"
     ]
    },
    {
     "data": {
      "text/html": [
       "<div>\n",
       "<style scoped>\n",
       "    .dataframe tbody tr th:only-of-type {\n",
       "        vertical-align: middle;\n",
       "    }\n",
       "\n",
       "    .dataframe tbody tr th {\n",
       "        vertical-align: top;\n",
       "    }\n",
       "\n",
       "    .dataframe thead th {\n",
       "        text-align: right;\n",
       "    }\n",
       "</style>\n",
       "<table border=\"1\" class=\"dataframe\">\n",
       "  <thead>\n",
       "    <tr style=\"text-align: right;\">\n",
       "      <th></th>\n",
       "      <th>base</th>\n",
       "      <th>ID</th>\n",
       "      <th>Pic</th>\n",
       "      <th>Pic_url</th>\n",
       "      <th>hash</th>\n",
       "    </tr>\n",
       "  </thead>\n",
       "  <tbody>\n",
       "    <tr>\n",
       "      <th>0</th>\n",
       "      <td>1</td>\n",
       "      <td>0</td>\n",
       "      <td>1</td>\n",
       "      <td>https://forum.vgd.ru/file.php?fid=5476&amp;key=0</td>\n",
       "      <td>806969715521b059</td>\n",
       "    </tr>\n",
       "    <tr>\n",
       "      <th>2</th>\n",
       "      <td>1</td>\n",
       "      <td>2</td>\n",
       "      <td>1</td>\n",
       "      <td>https://forum.vgd.ru/file.php?fid=5492&amp;key=0</td>\n",
       "      <td>f4d8cc0ca543d6b6</td>\n",
       "    </tr>\n",
       "    <tr>\n",
       "      <th>3</th>\n",
       "      <td>1</td>\n",
       "      <td>3</td>\n",
       "      <td>1</td>\n",
       "      <td>https://forum.vgd.ru/file.php?fid=20890&amp;key=19...</td>\n",
       "      <td>f1732b4d73511723</td>\n",
       "    </tr>\n",
       "    <tr>\n",
       "      <th>4</th>\n",
       "      <td>1</td>\n",
       "      <td>4</td>\n",
       "      <td>1</td>\n",
       "      <td>https://forum.vgd.ru/file.php?fid=20894&amp;key=16...</td>\n",
       "      <td>b292ced8b3f2f2f2</td>\n",
       "    </tr>\n",
       "    <tr>\n",
       "      <th>5</th>\n",
       "      <td>1</td>\n",
       "      <td>5</td>\n",
       "      <td>1</td>\n",
       "      <td>https://forum.vgd.ru/file.php?fid=20895&amp;key=90...</td>\n",
       "      <td>b8186ca4ae8a989a</td>\n",
       "    </tr>\n",
       "  </tbody>\n",
       "</table>\n",
       "</div>"
      ],
      "text/plain": [
       "   base  ID  Pic                                            Pic_url  \\\n",
       "0     1   0    1       https://forum.vgd.ru/file.php?fid=5476&key=0   \n",
       "2     1   2    1       https://forum.vgd.ru/file.php?fid=5492&key=0   \n",
       "3     1   3    1  https://forum.vgd.ru/file.php?fid=20890&key=19...   \n",
       "4     1   4    1  https://forum.vgd.ru/file.php?fid=20894&key=16...   \n",
       "5     1   5    1  https://forum.vgd.ru/file.php?fid=20895&key=90...   \n",
       "\n",
       "               hash  \n",
       "0  806969715521b059  \n",
       "2  f4d8cc0ca543d6b6  \n",
       "3  f1732b4d73511723  \n",
       "4  b292ced8b3f2f2f2  \n",
       "5  b8186ca4ae8a989a  "
      ]
     },
     "execution_count": 25,
     "metadata": {},
     "output_type": "execute_result"
    }
   ],
   "source": [
    "df_pic_1 = df[['base', 'ID', 'Pic_url_1', 'hash_1']]\n",
    "df_pic_1['Pic'] = 1\n",
    "df_pic_1 = df_pic_1.rename(columns={'Pic_url_1': 'Pic_url', 'hash_1': 'hash'})\n",
    "df_pic_1 = df_pic_1[['base', 'ID', 'Pic', 'Pic_url', 'hash']]\n",
    "df_pic_1.head()"
   ]
  },
  {
   "cell_type": "code",
   "execution_count": 26,
   "metadata": {},
   "outputs": [
    {
     "name": "stderr",
     "output_type": "stream",
     "text": [
      "C:\\Users\\811156\\AppData\\Local\\Temp\\ipykernel_17016\\799477740.py:2: SettingWithCopyWarning: \n",
      "A value is trying to be set on a copy of a slice from a DataFrame.\n",
      "Try using .loc[row_indexer,col_indexer] = value instead\n",
      "\n",
      "See the caveats in the documentation: https://pandas.pydata.org/pandas-docs/stable/user_guide/indexing.html#returning-a-view-versus-a-copy\n",
      "  df_pic_2['Pic'] = 2\n"
     ]
    },
    {
     "data": {
      "text/html": [
       "<div>\n",
       "<style scoped>\n",
       "    .dataframe tbody tr th:only-of-type {\n",
       "        vertical-align: middle;\n",
       "    }\n",
       "\n",
       "    .dataframe tbody tr th {\n",
       "        vertical-align: top;\n",
       "    }\n",
       "\n",
       "    .dataframe thead th {\n",
       "        text-align: right;\n",
       "    }\n",
       "</style>\n",
       "<table border=\"1\" class=\"dataframe\">\n",
       "  <thead>\n",
       "    <tr style=\"text-align: right;\">\n",
       "      <th></th>\n",
       "      <th>base</th>\n",
       "      <th>ID</th>\n",
       "      <th>Pic</th>\n",
       "      <th>Pic_url</th>\n",
       "      <th>hash</th>\n",
       "    </tr>\n",
       "  </thead>\n",
       "  <tbody>\n",
       "    <tr>\n",
       "      <th>0</th>\n",
       "      <td>1</td>\n",
       "      <td>0</td>\n",
       "      <td>2</td>\n",
       "      <td>0.0</td>\n",
       "      <td>no_url</td>\n",
       "    </tr>\n",
       "    <tr>\n",
       "      <th>2</th>\n",
       "      <td>1</td>\n",
       "      <td>2</td>\n",
       "      <td>2</td>\n",
       "      <td>0.0</td>\n",
       "      <td>no_url</td>\n",
       "    </tr>\n",
       "    <tr>\n",
       "      <th>3</th>\n",
       "      <td>1</td>\n",
       "      <td>3</td>\n",
       "      <td>2</td>\n",
       "      <td>0.0</td>\n",
       "      <td>no_url</td>\n",
       "    </tr>\n",
       "    <tr>\n",
       "      <th>4</th>\n",
       "      <td>1</td>\n",
       "      <td>4</td>\n",
       "      <td>2</td>\n",
       "      <td>0.0</td>\n",
       "      <td>no_url</td>\n",
       "    </tr>\n",
       "    <tr>\n",
       "      <th>5</th>\n",
       "      <td>1</td>\n",
       "      <td>5</td>\n",
       "      <td>2</td>\n",
       "      <td>0.0</td>\n",
       "      <td>no_url</td>\n",
       "    </tr>\n",
       "  </tbody>\n",
       "</table>\n",
       "</div>"
      ],
      "text/plain": [
       "   base  ID  Pic Pic_url    hash\n",
       "0     1   0    2     0.0  no_url\n",
       "2     1   2    2     0.0  no_url\n",
       "3     1   3    2     0.0  no_url\n",
       "4     1   4    2     0.0  no_url\n",
       "5     1   5    2     0.0  no_url"
      ]
     },
     "execution_count": 26,
     "metadata": {},
     "output_type": "execute_result"
    }
   ],
   "source": [
    "df_pic_2 = df[['base', 'ID', 'Pic_url_2', 'hash_2']]\n",
    "df_pic_2['Pic'] = 2\n",
    "df_pic_2 = df_pic_2.rename(columns={'Pic_url_2': 'Pic_url', 'hash_2': 'hash'})\n",
    "df_pic_2 = df_pic_2[['base', 'ID', 'Pic', 'Pic_url', 'hash']]\n",
    "df_pic_2.head()"
   ]
  },
  {
   "cell_type": "code",
   "execution_count": 27,
   "metadata": {},
   "outputs": [
    {
     "name": "stderr",
     "output_type": "stream",
     "text": [
      "C:\\Users\\811156\\AppData\\Local\\Temp\\ipykernel_17016\\2336499448.py:1: FutureWarning: The frame.append method is deprecated and will be removed from pandas in a future version. Use pandas.concat instead.\n",
      "  df = df_pic_1.append(df_pic_2)\n"
     ]
    },
    {
     "data": {
      "text/html": [
       "<div>\n",
       "<style scoped>\n",
       "    .dataframe tbody tr th:only-of-type {\n",
       "        vertical-align: middle;\n",
       "    }\n",
       "\n",
       "    .dataframe tbody tr th {\n",
       "        vertical-align: top;\n",
       "    }\n",
       "\n",
       "    .dataframe thead th {\n",
       "        text-align: right;\n",
       "    }\n",
       "</style>\n",
       "<table border=\"1\" class=\"dataframe\">\n",
       "  <thead>\n",
       "    <tr style=\"text-align: right;\">\n",
       "      <th></th>\n",
       "      <th>base</th>\n",
       "      <th>ID</th>\n",
       "      <th>Pic</th>\n",
       "      <th>Pic_url</th>\n",
       "      <th>hash</th>\n",
       "    </tr>\n",
       "  </thead>\n",
       "  <tbody>\n",
       "    <tr>\n",
       "      <th>0</th>\n",
       "      <td>1</td>\n",
       "      <td>0</td>\n",
       "      <td>1</td>\n",
       "      <td>https://forum.vgd.ru/file.php?fid=5476&amp;key=0</td>\n",
       "      <td>806969715521b059</td>\n",
       "    </tr>\n",
       "    <tr>\n",
       "      <th>2</th>\n",
       "      <td>1</td>\n",
       "      <td>2</td>\n",
       "      <td>1</td>\n",
       "      <td>https://forum.vgd.ru/file.php?fid=5492&amp;key=0</td>\n",
       "      <td>f4d8cc0ca543d6b6</td>\n",
       "    </tr>\n",
       "    <tr>\n",
       "      <th>3</th>\n",
       "      <td>1</td>\n",
       "      <td>3</td>\n",
       "      <td>1</td>\n",
       "      <td>https://forum.vgd.ru/file.php?fid=20890&amp;key=19...</td>\n",
       "      <td>f1732b4d73511723</td>\n",
       "    </tr>\n",
       "    <tr>\n",
       "      <th>4</th>\n",
       "      <td>1</td>\n",
       "      <td>4</td>\n",
       "      <td>1</td>\n",
       "      <td>https://forum.vgd.ru/file.php?fid=20894&amp;key=16...</td>\n",
       "      <td>b292ced8b3f2f2f2</td>\n",
       "    </tr>\n",
       "    <tr>\n",
       "      <th>5</th>\n",
       "      <td>1</td>\n",
       "      <td>5</td>\n",
       "      <td>1</td>\n",
       "      <td>https://forum.vgd.ru/file.php?fid=20895&amp;key=90...</td>\n",
       "      <td>b8186ca4ae8a989a</td>\n",
       "    </tr>\n",
       "  </tbody>\n",
       "</table>\n",
       "</div>"
      ],
      "text/plain": [
       "   base  ID  Pic                                            Pic_url  \\\n",
       "0     1   0    1       https://forum.vgd.ru/file.php?fid=5476&key=0   \n",
       "2     1   2    1       https://forum.vgd.ru/file.php?fid=5492&key=0   \n",
       "3     1   3    1  https://forum.vgd.ru/file.php?fid=20890&key=19...   \n",
       "4     1   4    1  https://forum.vgd.ru/file.php?fid=20894&key=16...   \n",
       "5     1   5    1  https://forum.vgd.ru/file.php?fid=20895&key=90...   \n",
       "\n",
       "               hash  \n",
       "0  806969715521b059  \n",
       "2  f4d8cc0ca543d6b6  \n",
       "3  f1732b4d73511723  \n",
       "4  b292ced8b3f2f2f2  \n",
       "5  b8186ca4ae8a989a  "
      ]
     },
     "execution_count": 27,
     "metadata": {},
     "output_type": "execute_result"
    }
   ],
   "source": [
    "df = df_pic_1.append(df_pic_2)\n",
    "df.head()"
   ]
  },
  {
   "cell_type": "code",
   "execution_count": 28,
   "metadata": {},
   "outputs": [
    {
     "data": {
      "text/plain": [
       "(34164, 5)"
      ]
     },
     "execution_count": 28,
     "metadata": {},
     "output_type": "execute_result"
    }
   ],
   "source": [
    "df.shape"
   ]
  },
  {
   "cell_type": "code",
   "execution_count": 29,
   "metadata": {},
   "outputs": [
    {
     "data": {
      "text/plain": [
       "(33932, 5)"
      ]
     },
     "execution_count": 29,
     "metadata": {},
     "output_type": "execute_result"
    }
   ],
   "source": [
    "df = df[~df['hash'].isin(['no_url', 'dwnld_error', 'hash_error', 'error'])]\n",
    "df.shape"
   ]
  },
  {
   "cell_type": "code",
   "execution_count": 30,
   "metadata": {},
   "outputs": [
    {
     "data": {
      "text/plain": [
       "1    14074\n",
       "3     9930\n",
       "2     9928\n",
       "Name: base, dtype: int64"
      ]
     },
     "execution_count": 30,
     "metadata": {},
     "output_type": "execute_result"
    }
   ],
   "source": [
    "df['base'].value_counts()"
   ]
  },
  {
   "cell_type": "code",
   "execution_count": 31,
   "metadata": {},
   "outputs": [],
   "source": [
    "df.to_csv('hash_values/hash_database_full_new.csv')"
   ]
  },
  {
   "cell_type": "markdown",
   "metadata": {},
   "source": [
    "## Поиск дублирования"
   ]
  },
  {
   "cell_type": "code",
   "execution_count": 15,
   "metadata": {},
   "outputs": [
    {
     "data": {
      "text/html": [
       "<div>\n",
       "<style scoped>\n",
       "    .dataframe tbody tr th:only-of-type {\n",
       "        vertical-align: middle;\n",
       "    }\n",
       "\n",
       "    .dataframe tbody tr th {\n",
       "        vertical-align: top;\n",
       "    }\n",
       "\n",
       "    .dataframe thead th {\n",
       "        text-align: right;\n",
       "    }\n",
       "</style>\n",
       "<table border=\"1\" class=\"dataframe\">\n",
       "  <thead>\n",
       "    <tr style=\"text-align: right;\">\n",
       "      <th></th>\n",
       "      <th>base</th>\n",
       "      <th>ID</th>\n",
       "      <th>Pic</th>\n",
       "      <th>Pic_url</th>\n",
       "      <th>hash</th>\n",
       "    </tr>\n",
       "  </thead>\n",
       "  <tbody>\n",
       "    <tr>\n",
       "      <th>0</th>\n",
       "      <td>1</td>\n",
       "      <td>0</td>\n",
       "      <td>1</td>\n",
       "      <td>https://forum.vgd.ru/file.php?fid=5476&amp;key=0</td>\n",
       "      <td>806969715521b059</td>\n",
       "    </tr>\n",
       "    <tr>\n",
       "      <th>1</th>\n",
       "      <td>1</td>\n",
       "      <td>2</td>\n",
       "      <td>1</td>\n",
       "      <td>https://forum.vgd.ru/file.php?fid=5492&amp;key=0</td>\n",
       "      <td>f4d8cc0ca543d6b6</td>\n",
       "    </tr>\n",
       "    <tr>\n",
       "      <th>2</th>\n",
       "      <td>1</td>\n",
       "      <td>3</td>\n",
       "      <td>1</td>\n",
       "      <td>https://forum.vgd.ru/file.php?fid=20890&amp;key=19...</td>\n",
       "      <td>f1732b4d73511723</td>\n",
       "    </tr>\n",
       "    <tr>\n",
       "      <th>3</th>\n",
       "      <td>1</td>\n",
       "      <td>4</td>\n",
       "      <td>1</td>\n",
       "      <td>https://forum.vgd.ru/file.php?fid=20894&amp;key=16...</td>\n",
       "      <td>b292ced8b3f2f2f2</td>\n",
       "    </tr>\n",
       "    <tr>\n",
       "      <th>4</th>\n",
       "      <td>1</td>\n",
       "      <td>5</td>\n",
       "      <td>1</td>\n",
       "      <td>https://forum.vgd.ru/file.php?fid=20895&amp;key=90...</td>\n",
       "      <td>b8186ca4ae8a989a</td>\n",
       "    </tr>\n",
       "  </tbody>\n",
       "</table>\n",
       "</div>"
      ],
      "text/plain": [
       "   base  ID  Pic                                            Pic_url  \\\n",
       "0     1   0    1       https://forum.vgd.ru/file.php?fid=5476&key=0   \n",
       "1     1   2    1       https://forum.vgd.ru/file.php?fid=5492&key=0   \n",
       "2     1   3    1  https://forum.vgd.ru/file.php?fid=20890&key=19...   \n",
       "3     1   4    1  https://forum.vgd.ru/file.php?fid=20894&key=16...   \n",
       "4     1   5    1  https://forum.vgd.ru/file.php?fid=20895&key=90...   \n",
       "\n",
       "               hash  \n",
       "0  806969715521b059  \n",
       "1  f4d8cc0ca543d6b6  \n",
       "2  f1732b4d73511723  \n",
       "3  b292ced8b3f2f2f2  \n",
       "4  b8186ca4ae8a989a  "
      ]
     },
     "execution_count": 15,
     "metadata": {},
     "output_type": "execute_result"
    }
   ],
   "source": [
    "df = pd.read_csv('hash_values/hash_database_full.csv', index_col=0)\n",
    "df = df.reset_index().drop('index', axis=1)\n",
    "df.head()"
   ]
  },
  {
   "cell_type": "code",
   "execution_count": 4,
   "metadata": {},
   "outputs": [
    {
     "data": {
      "text/plain": [
       "(44884, 5)"
      ]
     },
     "execution_count": 4,
     "metadata": {},
     "output_type": "execute_result"
    }
   ],
   "source": [
    "df.shape"
   ]
  },
  {
   "cell_type": "code",
   "execution_count": 5,
   "metadata": {},
   "outputs": [
    {
     "data": {
      "text/plain": [
       "3    20882\n",
       "1    14074\n",
       "2     9928\n",
       "Name: base, dtype: int64"
      ]
     },
     "execution_count": 5,
     "metadata": {},
     "output_type": "execute_result"
    }
   ],
   "source": [
    "df['base'].value_counts()"
   ]
  },
  {
   "cell_type": "code",
   "execution_count": 27,
   "metadata": {},
   "outputs": [
    {
     "data": {
      "text/plain": [
       "44029"
      ]
     },
     "execution_count": 27,
     "metadata": {},
     "output_type": "execute_result"
    }
   ],
   "source": [
    "df['hash'].nunique()"
   ]
  },
  {
   "cell_type": "code",
   "execution_count": 36,
   "metadata": {},
   "outputs": [
    {
     "data": {
      "text/plain": [
       "58646.628"
      ]
     },
     "execution_count": 36,
     "metadata": {},
     "output_type": "execute_result"
    }
   ],
   "source": [
    "44029 * (36 + 36 ** 2) / 1000"
   ]
  },
  {
   "cell_type": "code",
   "execution_count": 34,
   "metadata": {},
   "outputs": [
    {
     "data": {
      "text/plain": [
       "969254.406"
      ]
     },
     "execution_count": 34,
     "metadata": {},
     "output_type": "execute_result"
    }
   ],
   "source": [
    "44029 * (44029 - 1) // 2 / 1000"
   ]
  },
  {
   "cell_type": "markdown",
   "metadata": {},
   "source": [
    "Посчитаем, сколько раз встречается каждый хеш"
   ]
  },
  {
   "cell_type": "code",
   "execution_count": 16,
   "metadata": {},
   "outputs": [
    {
     "data": {
      "text/html": [
       "<div>\n",
       "<style scoped>\n",
       "    .dataframe tbody tr th:only-of-type {\n",
       "        vertical-align: middle;\n",
       "    }\n",
       "\n",
       "    .dataframe tbody tr th {\n",
       "        vertical-align: top;\n",
       "    }\n",
       "\n",
       "    .dataframe thead th {\n",
       "        text-align: right;\n",
       "    }\n",
       "</style>\n",
       "<table border=\"1\" class=\"dataframe\">\n",
       "  <thead>\n",
       "    <tr style=\"text-align: right;\">\n",
       "      <th></th>\n",
       "      <th>base</th>\n",
       "      <th>ID</th>\n",
       "      <th>Pic</th>\n",
       "      <th>Pic_url</th>\n",
       "      <th>hash</th>\n",
       "      <th>hash_count</th>\n",
       "    </tr>\n",
       "  </thead>\n",
       "  <tbody>\n",
       "    <tr>\n",
       "      <th>0</th>\n",
       "      <td>1</td>\n",
       "      <td>0</td>\n",
       "      <td>1</td>\n",
       "      <td>https://forum.vgd.ru/file.php?fid=5476&amp;key=0</td>\n",
       "      <td>806969715521b059</td>\n",
       "      <td>1</td>\n",
       "    </tr>\n",
       "    <tr>\n",
       "      <th>1</th>\n",
       "      <td>1</td>\n",
       "      <td>2</td>\n",
       "      <td>1</td>\n",
       "      <td>https://forum.vgd.ru/file.php?fid=5492&amp;key=0</td>\n",
       "      <td>f4d8cc0ca543d6b6</td>\n",
       "      <td>1</td>\n",
       "    </tr>\n",
       "    <tr>\n",
       "      <th>2</th>\n",
       "      <td>1</td>\n",
       "      <td>3</td>\n",
       "      <td>1</td>\n",
       "      <td>https://forum.vgd.ru/file.php?fid=20890&amp;key=19...</td>\n",
       "      <td>f1732b4d73511723</td>\n",
       "      <td>1</td>\n",
       "    </tr>\n",
       "    <tr>\n",
       "      <th>3</th>\n",
       "      <td>1</td>\n",
       "      <td>4</td>\n",
       "      <td>1</td>\n",
       "      <td>https://forum.vgd.ru/file.php?fid=20894&amp;key=16...</td>\n",
       "      <td>b292ced8b3f2f2f2</td>\n",
       "      <td>1</td>\n",
       "    </tr>\n",
       "    <tr>\n",
       "      <th>4</th>\n",
       "      <td>1</td>\n",
       "      <td>5</td>\n",
       "      <td>1</td>\n",
       "      <td>https://forum.vgd.ru/file.php?fid=20895&amp;key=90...</td>\n",
       "      <td>b8186ca4ae8a989a</td>\n",
       "      <td>1</td>\n",
       "    </tr>\n",
       "  </tbody>\n",
       "</table>\n",
       "</div>"
      ],
      "text/plain": [
       "   base  ID  Pic                                            Pic_url  \\\n",
       "0     1   0    1       https://forum.vgd.ru/file.php?fid=5476&key=0   \n",
       "1     1   2    1       https://forum.vgd.ru/file.php?fid=5492&key=0   \n",
       "2     1   3    1  https://forum.vgd.ru/file.php?fid=20890&key=19...   \n",
       "3     1   4    1  https://forum.vgd.ru/file.php?fid=20894&key=16...   \n",
       "4     1   5    1  https://forum.vgd.ru/file.php?fid=20895&key=90...   \n",
       "\n",
       "               hash  hash_count  \n",
       "0  806969715521b059           1  \n",
       "1  f4d8cc0ca543d6b6           1  \n",
       "2  f1732b4d73511723           1  \n",
       "3  b292ced8b3f2f2f2           1  \n",
       "4  b8186ca4ae8a989a           1  "
      ]
     },
     "execution_count": 16,
     "metadata": {},
     "output_type": "execute_result"
    }
   ],
   "source": [
    "df['hash_count'] = df.groupby('hash')['ID'].transform('count')\n",
    "df.head()"
   ]
  },
  {
   "cell_type": "markdown",
   "metadata": {},
   "source": [
    "Максимальный размер кластера фотографий с полностью совпадающими хешами"
   ]
  },
  {
   "cell_type": "code",
   "execution_count": 13,
   "metadata": {},
   "outputs": [
    {
     "data": {
      "text/plain": [
       "15"
      ]
     },
     "execution_count": 13,
     "metadata": {},
     "output_type": "execute_result"
    }
   ],
   "source": [
    "df['hash_count'].max()"
   ]
  },
  {
   "cell_type": "code",
   "execution_count": 17,
   "metadata": {},
   "outputs": [
    {
     "data": {
      "text/html": [
       "<div>\n",
       "<style scoped>\n",
       "    .dataframe tbody tr th:only-of-type {\n",
       "        vertical-align: middle;\n",
       "    }\n",
       "\n",
       "    .dataframe tbody tr th {\n",
       "        vertical-align: top;\n",
       "    }\n",
       "\n",
       "    .dataframe thead th {\n",
       "        text-align: right;\n",
       "    }\n",
       "</style>\n",
       "<table border=\"1\" class=\"dataframe\">\n",
       "  <thead>\n",
       "    <tr style=\"text-align: right;\">\n",
       "      <th></th>\n",
       "      <th>base</th>\n",
       "      <th>ID</th>\n",
       "      <th>Pic</th>\n",
       "      <th>Pic_url</th>\n",
       "      <th>hash</th>\n",
       "      <th>hash_count</th>\n",
       "    </tr>\n",
       "  </thead>\n",
       "  <tbody>\n",
       "    <tr>\n",
       "      <th>30686</th>\n",
       "      <td>3</td>\n",
       "      <td>6689</td>\n",
       "      <td>2</td>\n",
       "      <td>https://storage.yandexcloud.net/postcards/Ti4 ...</td>\n",
       "      <td>0001000000000000</td>\n",
       "      <td>15</td>\n",
       "    </tr>\n",
       "    <tr>\n",
       "      <th>30693</th>\n",
       "      <td>3</td>\n",
       "      <td>6696</td>\n",
       "      <td>2</td>\n",
       "      <td>https://storage.yandexcloud.net/postcards/Ti4 ...</td>\n",
       "      <td>0001000000000000</td>\n",
       "      <td>15</td>\n",
       "    </tr>\n",
       "    <tr>\n",
       "      <th>30725</th>\n",
       "      <td>3</td>\n",
       "      <td>6728</td>\n",
       "      <td>2</td>\n",
       "      <td>https://storage.yandexcloud.net/postcards/Ti4 ...</td>\n",
       "      <td>0001000000000000</td>\n",
       "      <td>15</td>\n",
       "    </tr>\n",
       "    <tr>\n",
       "      <th>30729</th>\n",
       "      <td>3</td>\n",
       "      <td>6732</td>\n",
       "      <td>2</td>\n",
       "      <td>https://storage.yandexcloud.net/postcards/Ti4 ...</td>\n",
       "      <td>0001000000000000</td>\n",
       "      <td>15</td>\n",
       "    </tr>\n",
       "    <tr>\n",
       "      <th>30734</th>\n",
       "      <td>3</td>\n",
       "      <td>6737</td>\n",
       "      <td>2</td>\n",
       "      <td>https://storage.yandexcloud.net/postcards/Ti4 ...</td>\n",
       "      <td>0001000000000000</td>\n",
       "      <td>15</td>\n",
       "    </tr>\n",
       "    <tr>\n",
       "      <th>30742</th>\n",
       "      <td>3</td>\n",
       "      <td>6745</td>\n",
       "      <td>2</td>\n",
       "      <td>https://storage.yandexcloud.net/postcards/Ti4 ...</td>\n",
       "      <td>0001000000000000</td>\n",
       "      <td>15</td>\n",
       "    </tr>\n",
       "    <tr>\n",
       "      <th>30745</th>\n",
       "      <td>3</td>\n",
       "      <td>6748</td>\n",
       "      <td>2</td>\n",
       "      <td>https://storage.yandexcloud.net/postcards/Ti4 ...</td>\n",
       "      <td>0001000000000000</td>\n",
       "      <td>15</td>\n",
       "    </tr>\n",
       "    <tr>\n",
       "      <th>30749</th>\n",
       "      <td>3</td>\n",
       "      <td>6752</td>\n",
       "      <td>2</td>\n",
       "      <td>https://storage.yandexcloud.net/postcards/Ti4 ...</td>\n",
       "      <td>0001000000000000</td>\n",
       "      <td>15</td>\n",
       "    </tr>\n",
       "    <tr>\n",
       "      <th>30750</th>\n",
       "      <td>3</td>\n",
       "      <td>6753</td>\n",
       "      <td>2</td>\n",
       "      <td>https://storage.yandexcloud.net/postcards/Ti4 ...</td>\n",
       "      <td>0001000000000000</td>\n",
       "      <td>15</td>\n",
       "    </tr>\n",
       "    <tr>\n",
       "      <th>30753</th>\n",
       "      <td>3</td>\n",
       "      <td>6756</td>\n",
       "      <td>2</td>\n",
       "      <td>https://storage.yandexcloud.net/postcards/Ti4 ...</td>\n",
       "      <td>0001000000000000</td>\n",
       "      <td>15</td>\n",
       "    </tr>\n",
       "    <tr>\n",
       "      <th>30754</th>\n",
       "      <td>3</td>\n",
       "      <td>6757</td>\n",
       "      <td>2</td>\n",
       "      <td>https://storage.yandexcloud.net/postcards/Ti4 ...</td>\n",
       "      <td>0001000000000000</td>\n",
       "      <td>15</td>\n",
       "    </tr>\n",
       "    <tr>\n",
       "      <th>30756</th>\n",
       "      <td>3</td>\n",
       "      <td>6759</td>\n",
       "      <td>2</td>\n",
       "      <td>https://storage.yandexcloud.net/postcards/Ti4 ...</td>\n",
       "      <td>0001000000000000</td>\n",
       "      <td>15</td>\n",
       "    </tr>\n",
       "    <tr>\n",
       "      <th>30758</th>\n",
       "      <td>3</td>\n",
       "      <td>6761</td>\n",
       "      <td>2</td>\n",
       "      <td>https://storage.yandexcloud.net/postcards/Ti4 ...</td>\n",
       "      <td>0001000000000000</td>\n",
       "      <td>15</td>\n",
       "    </tr>\n",
       "    <tr>\n",
       "      <th>30762</th>\n",
       "      <td>3</td>\n",
       "      <td>6765</td>\n",
       "      <td>2</td>\n",
       "      <td>https://storage.yandexcloud.net/postcards/Ti4 ...</td>\n",
       "      <td>0001000000000000</td>\n",
       "      <td>15</td>\n",
       "    </tr>\n",
       "    <tr>\n",
       "      <th>30764</th>\n",
       "      <td>3</td>\n",
       "      <td>6767</td>\n",
       "      <td>2</td>\n",
       "      <td>https://storage.yandexcloud.net/postcards/Ti4 ...</td>\n",
       "      <td>0001000000000000</td>\n",
       "      <td>15</td>\n",
       "    </tr>\n",
       "  </tbody>\n",
       "</table>\n",
       "</div>"
      ],
      "text/plain": [
       "       base    ID  Pic                                            Pic_url  \\\n",
       "30686     3  6689    2  https://storage.yandexcloud.net/postcards/Ti4 ...   \n",
       "30693     3  6696    2  https://storage.yandexcloud.net/postcards/Ti4 ...   \n",
       "30725     3  6728    2  https://storage.yandexcloud.net/postcards/Ti4 ...   \n",
       "30729     3  6732    2  https://storage.yandexcloud.net/postcards/Ti4 ...   \n",
       "30734     3  6737    2  https://storage.yandexcloud.net/postcards/Ti4 ...   \n",
       "30742     3  6745    2  https://storage.yandexcloud.net/postcards/Ti4 ...   \n",
       "30745     3  6748    2  https://storage.yandexcloud.net/postcards/Ti4 ...   \n",
       "30749     3  6752    2  https://storage.yandexcloud.net/postcards/Ti4 ...   \n",
       "30750     3  6753    2  https://storage.yandexcloud.net/postcards/Ti4 ...   \n",
       "30753     3  6756    2  https://storage.yandexcloud.net/postcards/Ti4 ...   \n",
       "30754     3  6757    2  https://storage.yandexcloud.net/postcards/Ti4 ...   \n",
       "30756     3  6759    2  https://storage.yandexcloud.net/postcards/Ti4 ...   \n",
       "30758     3  6761    2  https://storage.yandexcloud.net/postcards/Ti4 ...   \n",
       "30762     3  6765    2  https://storage.yandexcloud.net/postcards/Ti4 ...   \n",
       "30764     3  6767    2  https://storage.yandexcloud.net/postcards/Ti4 ...   \n",
       "\n",
       "                   hash  hash_count  \n",
       "30686  0001000000000000          15  \n",
       "30693  0001000000000000          15  \n",
       "30725  0001000000000000          15  \n",
       "30729  0001000000000000          15  \n",
       "30734  0001000000000000          15  \n",
       "30742  0001000000000000          15  \n",
       "30745  0001000000000000          15  \n",
       "30749  0001000000000000          15  \n",
       "30750  0001000000000000          15  \n",
       "30753  0001000000000000          15  \n",
       "30754  0001000000000000          15  \n",
       "30756  0001000000000000          15  \n",
       "30758  0001000000000000          15  \n",
       "30762  0001000000000000          15  \n",
       "30764  0001000000000000          15  "
      ]
     },
     "execution_count": 17,
     "metadata": {},
     "output_type": "execute_result"
    }
   ],
   "source": [
    "df[df['hash_count'] == df['hash_count'].max()]"
   ]
  },
  {
   "cell_type": "code",
   "execution_count": 23,
   "metadata": {},
   "outputs": [
    {
     "data": {
      "text/plain": [
       "'https://storage.yandexcloud.net/postcards/Ti4 (180).JPG'"
      ]
     },
     "execution_count": 23,
     "metadata": {},
     "output_type": "execute_result"
    }
   ],
   "source": [
    "df.iloc[30749]['Pic_url']"
   ]
  },
  {
   "cell_type": "markdown",
   "metadata": {},
   "source": [
    "Всего таких кластеров 787, в них суммарно входит 1642 фотографии"
   ]
  },
  {
   "cell_type": "code",
   "execution_count": 25,
   "metadata": {},
   "outputs": [
    {
     "data": {
      "text/plain": [
       "787"
      ]
     },
     "execution_count": 25,
     "metadata": {},
     "output_type": "execute_result"
    }
   ],
   "source": [
    "df[df['hash_count'] > 1]['hash'].nunique()"
   ]
  },
  {
   "cell_type": "code",
   "execution_count": 26,
   "metadata": {},
   "outputs": [
    {
     "data": {
      "text/plain": [
       "(1642, 6)"
      ]
     },
     "execution_count": 26,
     "metadata": {},
     "output_type": "execute_result"
    }
   ],
   "source": [
    "df[df['hash_count'] > 1].shape"
   ]
  },
  {
   "cell_type": "markdown",
   "metadata": {},
   "source": [
    "Для каждого хеша рассчитаем все хеши, расстояние до которых от данного составляет 1 или 2"
   ]
  },
  {
   "cell_type": "code",
   "execution_count": 37,
   "metadata": {},
   "outputs": [
    {
     "data": {
      "text/plain": [
       "44029"
      ]
     },
     "execution_count": 37,
     "metadata": {},
     "output_type": "execute_result"
    }
   ],
   "source": [
    "unique_hashes = list(df['hash'].unique())\n",
    "len(unique_hashes)"
   ]
  },
  {
   "cell_type": "code",
   "execution_count": 41,
   "metadata": {},
   "outputs": [
    {
     "data": {
      "text/plain": [
       "36"
      ]
     },
     "execution_count": 41,
     "metadata": {},
     "output_type": "execute_result"
    }
   ],
   "source": [
    "alphabet = 'abcdefghijklmnopqrstuwvxyz0123456789'\n",
    "len(alphabet)"
   ]
  },
  {
   "cell_type": "code",
   "execution_count": 42,
   "metadata": {},
   "outputs": [],
   "source": [
    "def get_hashes_at_dist_1(input_hash):\n",
    "    res = []\n",
    "    for i in range(16):\n",
    "        res += [input_hash[:i] + s + input_hash[i + 1:] for s in alphabet]\n",
    "    return res"
   ]
  },
  {
   "cell_type": "code",
   "execution_count": 46,
   "metadata": {},
   "outputs": [
    {
     "name": "stdout",
     "output_type": "stream",
     "text": [
      "806969715521b059\n",
      "b06969715521b059 2\n",
      "d06969715521b059 2\n",
      "e06969715521b059 2\n",
      "f06969715521b059 3\n"
     ]
    },
    {
     "ename": "ValueError",
     "evalue": "invalid literal for int() with base 16: 'g06969715521b059'",
     "output_type": "error",
     "traceback": [
      "\u001b[1;31m---------------------------------------------------------------------------\u001b[0m",
      "\u001b[1;31mValueError\u001b[0m                                Traceback (most recent call last)",
      "Input \u001b[1;32mIn [46]\u001b[0m, in \u001b[0;36m<module>\u001b[1;34m\u001b[0m\n\u001b[0;32m      3\u001b[0m \u001b[38;5;28mprint\u001b[39m(h)\n\u001b[0;32m      4\u001b[0m \u001b[38;5;28;01mfor\u001b[39;00m v \u001b[38;5;129;01min\u001b[39;00m res:\n\u001b[1;32m----> 5\u001b[0m     v \u001b[38;5;241m=\u001b[39m \u001b[43mimagehash\u001b[49m\u001b[38;5;241;43m.\u001b[39;49m\u001b[43mhex_to_hash\u001b[49m\u001b[43m(\u001b[49m\u001b[43mv\u001b[49m\u001b[43m)\u001b[49m\n\u001b[0;32m      6\u001b[0m     \u001b[38;5;28;01mif\u001b[39;00m h \u001b[38;5;241m-\u001b[39m v \u001b[38;5;241m!=\u001b[39m \u001b[38;5;241m1\u001b[39m:\n\u001b[0;32m      7\u001b[0m         \u001b[38;5;28mprint\u001b[39m(v, h \u001b[38;5;241m-\u001b[39m v)\n",
      "File \u001b[1;32m~\\AppData\\Local\\Programs\\Python\\Python39\\lib\\site-packages\\imagehash.py:136\u001b[0m, in \u001b[0;36mhex_to_hash\u001b[1;34m(hexstr)\u001b[0m\n\u001b[0;32m    134\u001b[0m hash_size \u001b[38;5;241m=\u001b[39m \u001b[38;5;28mint\u001b[39m(numpy\u001b[38;5;241m.\u001b[39msqrt(\u001b[38;5;28mlen\u001b[39m(hexstr)\u001b[38;5;241m*\u001b[39m\u001b[38;5;241m4\u001b[39m))\n\u001b[0;32m    135\u001b[0m \u001b[38;5;66;03m#assert hash_size == numpy.sqrt(len(hexstr)*4)\u001b[39;00m\n\u001b[1;32m--> 136\u001b[0m binary_array \u001b[38;5;241m=\u001b[39m \u001b[38;5;124m'\u001b[39m\u001b[38;5;124m{\u001b[39m\u001b[38;5;124m:0>\u001b[39m\u001b[38;5;132;01m{width}\u001b[39;00m\u001b[38;5;124mb}\u001b[39m\u001b[38;5;124m'\u001b[39m\u001b[38;5;241m.\u001b[39mformat(\u001b[38;5;28;43mint\u001b[39;49m\u001b[43m(\u001b[49m\u001b[43mhexstr\u001b[49m\u001b[43m,\u001b[49m\u001b[43m \u001b[49m\u001b[38;5;241;43m16\u001b[39;49m\u001b[43m)\u001b[49m, width \u001b[38;5;241m=\u001b[39m hash_size \u001b[38;5;241m*\u001b[39m hash_size)\n\u001b[0;32m    137\u001b[0m bit_rows \u001b[38;5;241m=\u001b[39m [binary_array[i:i\u001b[38;5;241m+\u001b[39mhash_size] \u001b[38;5;28;01mfor\u001b[39;00m i \u001b[38;5;129;01min\u001b[39;00m \u001b[38;5;28mrange\u001b[39m(\u001b[38;5;241m0\u001b[39m, \u001b[38;5;28mlen\u001b[39m(binary_array), hash_size)]\n\u001b[0;32m    138\u001b[0m hash_array \u001b[38;5;241m=\u001b[39m numpy\u001b[38;5;241m.\u001b[39marray([[\u001b[38;5;28mbool\u001b[39m(\u001b[38;5;28mint\u001b[39m(d)) \u001b[38;5;28;01mfor\u001b[39;00m d \u001b[38;5;129;01min\u001b[39;00m row] \u001b[38;5;28;01mfor\u001b[39;00m row \u001b[38;5;129;01min\u001b[39;00m bit_rows])\n",
      "\u001b[1;31mValueError\u001b[0m: invalid literal for int() with base 16: 'g06969715521b059'"
     ]
    }
   ],
   "source": [
    "res = get_hashes_at_dist_1('806969715521b059')\n",
    "h = imagehash.hex_to_hash('806969715521b059')\n",
    "print(h)\n",
    "for v in res:\n",
    "    v = imagehash.hex_to_hash(v)\n",
    "    if h - v != 1:\n",
    "        print(v, h - v)"
   ]
  },
  {
   "cell_type": "markdown",
   "metadata": {},
   "source": [
    "### Совпадающие хеши"
   ]
  },
  {
   "cell_type": "code",
   "execution_count": null,
   "metadata": {},
   "outputs": [],
   "source": [
    "df[df['hash_count'] > 1].sort_values(by='hash')"
   ]
  },
  {
   "cell_type": "code",
   "execution_count": null,
   "metadata": {},
   "outputs": [],
   "source": [
    "df[df['hash_count'] > 1].sort_values(by='hash').to_csv('full_hash_doubles.csv', sep=';')"
   ]
  },
  {
   "cell_type": "markdown",
   "metadata": {},
   "source": [
    "### Близкие хеши"
   ]
  },
  {
   "cell_type": "code",
   "execution_count": null,
   "metadata": {},
   "outputs": [],
   "source": [
    "df['hash'].nunique()"
   ]
  },
  {
   "cell_type": "code",
   "execution_count": null,
   "metadata": {},
   "outputs": [],
   "source": [
    "df['hash'].unique()"
   ]
  },
  {
   "cell_type": "markdown",
   "metadata": {},
   "source": [
    "Считаем расстояние между всеми парами"
   ]
  },
  {
   "cell_type": "code",
   "execution_count": null,
   "metadata": {},
   "outputs": [],
   "source": [
    "df = pd.read_csv('hash_database_full.csv', index_col=0)\n",
    "df.head()"
   ]
  },
  {
   "cell_type": "code",
   "execution_count": null,
   "metadata": {},
   "outputs": [],
   "source": [
    "import numpy as np"
   ]
  },
  {
   "cell_type": "code",
   "execution_count": null,
   "metadata": {},
   "outputs": [],
   "source": [
    "from tqdm import tqdm"
   ]
  },
  {
   "cell_type": "code",
   "execution_count": null,
   "metadata": {},
   "outputs": [],
   "source": [
    "n = df.shape[0]\n",
    "n"
   ]
  },
  {
   "cell_type": "code",
   "execution_count": null,
   "metadata": {},
   "outputs": [],
   "source": [
    "hash_distances = pd.read_csv('hash_distances.csv', index_col=0)\n",
    "hash_distances.head()"
   ]
  },
  {
   "cell_type": "code",
   "execution_count": null,
   "metadata": {},
   "outputs": [],
   "source": [
    "hash_distances = hash_distances.to_numpy()"
   ]
  },
  {
   "cell_type": "code",
   "execution_count": null,
   "metadata": {},
   "outputs": [],
   "source": [
    "for i in tqdm(range(n)):\n",
    "    if i < 206:\n",
    "        continue\n",
    "    \n",
    "    for j in range(n):\n",
    "        if not np.isnan(hash_distances[i, j]):\n",
    "            continue\n",
    "        if i == j:\n",
    "            hash_distances[i][j] = 0\n",
    "            continue\n",
    "            \n",
    "        hash_1 = imagehash.hex_to_hash(df.iloc[i]['hash'])\n",
    "        hash_2 = imagehash.hex_to_hash(df.iloc[j]['hash'])\n",
    "        hash_distances[i, j] = hash_1 - hash_2\n",
    "        hash_distances[j, i] = hash_1 - hash_2"
   ]
  },
  {
   "cell_type": "code",
   "execution_count": null,
   "metadata": {},
   "outputs": [],
   "source": [
    "pd.DataFrame(hash_distances).to_csv('hash_distances.csv')"
   ]
  },
  {
   "cell_type": "markdown",
   "metadata": {},
   "source": [
    "Результат - матрица n x n, где на пересечении столбцов i, j записано расстояние между хешами фотографий, индексы (!) которых в датафрейме `hash_database_full` равны i, j. Перестановка i, j местами не имеет значения  \n",
    "Анализ матрицы в тетрадке `doubles_search`"
   ]
  }
 ],
 "metadata": {
  "kernelspec": {
   "display_name": "Python 3 (ipykernel)",
   "language": "python",
   "name": "python3"
  },
  "language_info": {
   "codemirror_mode": {
    "name": "ipython",
    "version": 3
   },
   "file_extension": ".py",
   "mimetype": "text/x-python",
   "name": "python",
   "nbconvert_exporter": "python",
   "pygments_lexer": "ipython3",
   "version": "3.9.10"
  }
 },
 "nbformat": 4,
 "nbformat_minor": 1
}
