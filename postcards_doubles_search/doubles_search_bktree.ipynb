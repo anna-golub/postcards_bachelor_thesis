{
 "cells": [
  {
   "cell_type": "markdown",
   "id": "0d8ed80c",
   "metadata": {},
   "source": [
    "# Читаем датафрейм с хешами"
   ]
  },
  {
   "cell_type": "code",
   "execution_count": 1,
   "id": "8f1f4300",
   "metadata": {},
   "outputs": [],
   "source": [
    "import pandas as pd\n",
    "import imagehash"
   ]
  },
  {
   "cell_type": "code",
   "execution_count": 2,
   "id": "ca61221b",
   "metadata": {
    "scrolled": true
   },
   "outputs": [
    {
     "data": {
      "text/html": [
       "<div>\n",
       "<style scoped>\n",
       "    .dataframe tbody tr th:only-of-type {\n",
       "        vertical-align: middle;\n",
       "    }\n",
       "\n",
       "    .dataframe tbody tr th {\n",
       "        vertical-align: top;\n",
       "    }\n",
       "\n",
       "    .dataframe thead th {\n",
       "        text-align: right;\n",
       "    }\n",
       "</style>\n",
       "<table border=\"1\" class=\"dataframe\">\n",
       "  <thead>\n",
       "    <tr style=\"text-align: right;\">\n",
       "      <th></th>\n",
       "      <th>base</th>\n",
       "      <th>ID</th>\n",
       "      <th>Pic</th>\n",
       "      <th>Pic_url</th>\n",
       "      <th>hash</th>\n",
       "    </tr>\n",
       "  </thead>\n",
       "  <tbody>\n",
       "    <tr>\n",
       "      <th>0</th>\n",
       "      <td>1</td>\n",
       "      <td>0</td>\n",
       "      <td>1</td>\n",
       "      <td>https://forum.vgd.ru/file.php?fid=5476&amp;key=0</td>\n",
       "      <td>806969715521b059</td>\n",
       "    </tr>\n",
       "    <tr>\n",
       "      <th>1</th>\n",
       "      <td>1</td>\n",
       "      <td>2</td>\n",
       "      <td>1</td>\n",
       "      <td>https://forum.vgd.ru/file.php?fid=5492&amp;key=0</td>\n",
       "      <td>f4d8cc0ca543d6b6</td>\n",
       "    </tr>\n",
       "    <tr>\n",
       "      <th>2</th>\n",
       "      <td>1</td>\n",
       "      <td>3</td>\n",
       "      <td>1</td>\n",
       "      <td>https://forum.vgd.ru/file.php?fid=20890&amp;key=19...</td>\n",
       "      <td>f1732b4d73511723</td>\n",
       "    </tr>\n",
       "    <tr>\n",
       "      <th>3</th>\n",
       "      <td>1</td>\n",
       "      <td>4</td>\n",
       "      <td>1</td>\n",
       "      <td>https://forum.vgd.ru/file.php?fid=20894&amp;key=16...</td>\n",
       "      <td>b292ced8b3f2f2f2</td>\n",
       "    </tr>\n",
       "    <tr>\n",
       "      <th>4</th>\n",
       "      <td>1</td>\n",
       "      <td>5</td>\n",
       "      <td>1</td>\n",
       "      <td>https://forum.vgd.ru/file.php?fid=20895&amp;key=90...</td>\n",
       "      <td>b8186ca4ae8a989a</td>\n",
       "    </tr>\n",
       "  </tbody>\n",
       "</table>\n",
       "</div>"
      ],
      "text/plain": [
       "   base  ID  Pic                                            Pic_url  \\\n",
       "0     1   0    1       https://forum.vgd.ru/file.php?fid=5476&key=0   \n",
       "1     1   2    1       https://forum.vgd.ru/file.php?fid=5492&key=0   \n",
       "2     1   3    1  https://forum.vgd.ru/file.php?fid=20890&key=19...   \n",
       "3     1   4    1  https://forum.vgd.ru/file.php?fid=20894&key=16...   \n",
       "4     1   5    1  https://forum.vgd.ru/file.php?fid=20895&key=90...   \n",
       "\n",
       "               hash  \n",
       "0  806969715521b059  \n",
       "1  f4d8cc0ca543d6b6  \n",
       "2  f1732b4d73511723  \n",
       "3  b292ced8b3f2f2f2  \n",
       "4  b8186ca4ae8a989a  "
      ]
     },
     "execution_count": 2,
     "metadata": {},
     "output_type": "execute_result"
    }
   ],
   "source": [
    "df = pd.read_csv('hash_values/hash_database_full.csv', index_col=0)\n",
    "df = df.reset_index().drop('index', axis=1)\n",
    "# df['hash'] = df['hash'].apply(imagehash.hex_to_hash)\n",
    "df.head()"
   ]
  },
  {
   "cell_type": "code",
   "execution_count": 3,
   "id": "e664d23e",
   "metadata": {},
   "outputs": [
    {
     "data": {
      "text/plain": [
       "(44884, 5)"
      ]
     },
     "execution_count": 3,
     "metadata": {},
     "output_type": "execute_result"
    }
   ],
   "source": [
    "df.shape"
   ]
  },
  {
   "cell_type": "code",
   "execution_count": 4,
   "id": "6fe35aaf",
   "metadata": {},
   "outputs": [
    {
     "data": {
      "text/plain": [
       "3    20882\n",
       "1    14074\n",
       "2     9928\n",
       "Name: base, dtype: int64"
      ]
     },
     "execution_count": 4,
     "metadata": {},
     "output_type": "execute_result"
    }
   ],
   "source": [
    "df['base'].value_counts()"
   ]
  },
  {
   "cell_type": "markdown",
   "id": "877ba9fa",
   "metadata": {},
   "source": [
    "# BKTree\n",
    "## Пример"
   ]
  },
  {
   "cell_type": "code",
   "execution_count": 5,
   "id": "3dfc73c1",
   "metadata": {},
   "outputs": [],
   "source": [
    "from pybktree_imagehash import BKTree, hamming_distance"
   ]
  },
  {
   "cell_type": "code",
   "execution_count": 6,
   "id": "6cd7c37c",
   "metadata": {},
   "outputs": [
    {
     "ename": "TypeError",
     "evalue": "int() can't convert non-string with explicit base",
     "output_type": "error",
     "traceback": [
      "\u001B[1;31m---------------------------------------------------------------------------\u001B[0m",
      "\u001B[1;31mTypeError\u001B[0m                                 Traceback (most recent call last)",
      "Input \u001B[1;32mIn [6]\u001B[0m, in \u001B[0;36m<module>\u001B[1;34m\u001B[0m\n\u001B[1;32m----> 1\u001B[0m \u001B[43mhamming_distance\u001B[49m\u001B[43m(\u001B[49m\u001B[43mimagehash\u001B[49m\u001B[38;5;241;43m.\u001B[39;49m\u001B[43mhex_to_hash\u001B[49m\u001B[43m(\u001B[49m\u001B[38;5;124;43m'\u001B[39;49m\u001B[38;5;124;43m806969715521b059\u001B[39;49m\u001B[38;5;124;43m'\u001B[39;49m\u001B[43m)\u001B[49m\u001B[43m,\u001B[49m\u001B[43m \u001B[49m\u001B[43mimagehash\u001B[49m\u001B[38;5;241;43m.\u001B[39;49m\u001B[43mhex_to_hash\u001B[49m\u001B[43m(\u001B[49m\u001B[38;5;124;43m'\u001B[39;49m\u001B[38;5;124;43m806969715521b050\u001B[39;49m\u001B[38;5;124;43m'\u001B[39;49m\u001B[43m)\u001B[49m\u001B[43m)\u001B[49m\n",
      "File \u001B[1;32mC:\\nlp\\сбъ\\image_hashing\\pybktree_imagehash.py:25\u001B[0m, in \u001B[0;36mhamming_distance\u001B[1;34m(x, y)\u001B[0m\n\u001B[0;32m     20\u001B[0m \u001B[38;5;66;03m# return bin(x ^ y).count('1')\u001B[39;00m\n\u001B[0;32m     22\u001B[0m \u001B[38;5;124;03m\"\"\"\u001B[39;00m\n\u001B[0;32m     23\u001B[0m \u001B[38;5;124;03mReplacing this with customized distance calculation for imagehash hashes\u001B[39;00m\n\u001B[0;32m     24\u001B[0m \u001B[38;5;124;03m\"\"\"\u001B[39;00m\n\u001B[1;32m---> 25\u001B[0m \u001B[38;5;28;01mreturn\u001B[39;00m \u001B[43mimagehash\u001B[49m\u001B[38;5;241;43m.\u001B[39;49m\u001B[43mhex_to_hash\u001B[49m\u001B[43m(\u001B[49m\u001B[43mx\u001B[49m\u001B[43m)\u001B[49m \u001B[38;5;241m-\u001B[39m imagehash\u001B[38;5;241m.\u001B[39mhex_to_hash(y)\n",
      "File \u001B[1;32m~\\AppData\\Local\\Programs\\Python\\Python39\\lib\\site-packages\\imagehash.py:136\u001B[0m, in \u001B[0;36mhex_to_hash\u001B[1;34m(hexstr)\u001B[0m\n\u001B[0;32m    134\u001B[0m hash_size \u001B[38;5;241m=\u001B[39m \u001B[38;5;28mint\u001B[39m(numpy\u001B[38;5;241m.\u001B[39msqrt(\u001B[38;5;28mlen\u001B[39m(hexstr)\u001B[38;5;241m*\u001B[39m\u001B[38;5;241m4\u001B[39m))\n\u001B[0;32m    135\u001B[0m \u001B[38;5;66;03m#assert hash_size == numpy.sqrt(len(hexstr)*4)\u001B[39;00m\n\u001B[1;32m--> 136\u001B[0m binary_array \u001B[38;5;241m=\u001B[39m \u001B[38;5;124m'\u001B[39m\u001B[38;5;124m{\u001B[39m\u001B[38;5;124m:0>\u001B[39m\u001B[38;5;132;01m{width}\u001B[39;00m\u001B[38;5;124mb}\u001B[39m\u001B[38;5;124m'\u001B[39m\u001B[38;5;241m.\u001B[39mformat(\u001B[38;5;28;43mint\u001B[39;49m\u001B[43m(\u001B[49m\u001B[43mhexstr\u001B[49m\u001B[43m,\u001B[49m\u001B[43m \u001B[49m\u001B[38;5;241;43m16\u001B[39;49m\u001B[43m)\u001B[49m, width \u001B[38;5;241m=\u001B[39m hash_size \u001B[38;5;241m*\u001B[39m hash_size)\n\u001B[0;32m    137\u001B[0m bit_rows \u001B[38;5;241m=\u001B[39m [binary_array[i:i\u001B[38;5;241m+\u001B[39mhash_size] \u001B[38;5;28;01mfor\u001B[39;00m i \u001B[38;5;129;01min\u001B[39;00m \u001B[38;5;28mrange\u001B[39m(\u001B[38;5;241m0\u001B[39m, \u001B[38;5;28mlen\u001B[39m(binary_array), hash_size)]\n\u001B[0;32m    138\u001B[0m hash_array \u001B[38;5;241m=\u001B[39m numpy\u001B[38;5;241m.\u001B[39marray([[\u001B[38;5;28mbool\u001B[39m(\u001B[38;5;28mint\u001B[39m(d)) \u001B[38;5;28;01mfor\u001B[39;00m d \u001B[38;5;129;01min\u001B[39;00m row] \u001B[38;5;28;01mfor\u001B[39;00m row \u001B[38;5;129;01min\u001B[39;00m bit_rows])\n",
      "\u001B[1;31mTypeError\u001B[0m: int() can't convert non-string with explicit base"
     ]
    }
   ],
   "source": [
    "hamming_distance(imagehash.hex_to_hash('806969715521b059'), imagehash.hex_to_hash('806969715521b050'))"
   ]
  },
  {
   "cell_type": "code",
   "execution_count": null,
   "id": "36825729",
   "metadata": {},
   "outputs": [],
   "source": [
    "tree = BKTree(hamming_distance, ['806969715521b059', 'f4d8cc0ca543d6b6', \n",
    "                                                   'f1732b4d73511723', 'b292ced8b3f2f2f2'])\n",
    "# for item in tree:\n",
    "#     print(type(item))\n",
    "# tree = BKTree(hamming_distance, df.head()['hash'].to_list())\n",
    "tree.add('b8186ca4ae8a989a')       \n",
    "sorted(tree)             "
   ]
  },
  {
   "cell_type": "code",
   "execution_count": null,
   "id": "40bc143d",
   "metadata": {},
   "outputs": [],
   "source": [
    "sorted(tree.find('b8186ca4ae8a989b', 1))  # find elements at most 1 bit away from element 13"
   ]
  },
  {
   "cell_type": "code",
   "execution_count": null,
   "id": "9e86bf6e",
   "metadata": {},
   "outputs": [],
   "source": [
    "for item in tree:\n",
    "    print(item)\n",
    "    print(imagehash.hex_to_hash(item) - imagehash.hex_to_hash('b8186ca4ae8a989d'))\n",
    "#     print(type(item))"
   ]
  },
  {
   "cell_type": "code",
   "execution_count": null,
   "id": "2a0ac43e",
   "metadata": {},
   "outputs": [],
   "source": [
    "import collections\n",
    "Item = collections.namedtuple('Item', 'hash_value hash_db_index')"
   ]
  },
  {
   "cell_type": "code",
   "execution_count": null,
   "id": "f5150327",
   "metadata": {},
   "outputs": [],
   "source": [
    "def item_distance(x, y):\n",
    "     return hamming_distance(x.hash_value, y.hash_value)"
   ]
  },
  {
   "cell_type": "code",
   "execution_count": null,
   "id": "87553366",
   "metadata": {},
   "outputs": [],
   "source": [
    "tree = BKTree(item_distance, [Item('806969715521b059', '1'), Item('f4d8cc0ca543d6b6', '2'),\n",
    "                                           Item('f1732b4d73511723', '3'), Item('b8186ca4ae8a989a', '4')])\n",
    "tree.add(Item('b292ced8b3f2f2f2', '5'))\n",
    "sorted(tree)"
   ]
  },
  {
   "cell_type": "code",
   "execution_count": null,
   "id": "0df17a5a",
   "metadata": {},
   "outputs": [],
   "source": [
    "sorted(tree.find(Item('b8186ca4ae8a989b', '1'), 1))"
   ]
  },
  {
   "cell_type": "markdown",
   "id": "719ac39e",
   "metadata": {},
   "source": [
    "## Создаем дерево для сканов открыток"
   ]
  },
  {
   "cell_type": "code",
   "execution_count": null,
   "id": "8bb56f90",
   "metadata": {},
   "outputs": [],
   "source": [
    "tree = BKTree(item_distance, [Item(value, ind) for ind, value in enumerate(df['hash'].to_list())])\n",
    "sorted(tree)[:10]"
   ]
  },
  {
   "cell_type": "markdown",
   "id": "1185b251",
   "metadata": {},
   "source": [
    "## Поиск в дереве"
   ]
  },
  {
   "cell_type": "markdown",
   "id": "8d6333a4",
   "metadata": {},
   "source": [
    "Ищутся хеши на расстоянии **меньше либо равном 1** до данного"
   ]
  },
  {
   "cell_type": "code",
   "execution_count": null,
   "id": "11e134f4",
   "metadata": {},
   "outputs": [],
   "source": [
    "sorted(tree.find(Item('0000000000000000', 18964), 1))"
   ]
  },
  {
   "cell_type": "markdown",
   "id": "1d9e2dab",
   "metadata": {},
   "source": [
    "Составляем таблицу возможных дубликатов (расстояние <= 3)"
   ]
  },
  {
   "cell_type": "code",
   "execution_count": null,
   "id": "6d108aec",
   "metadata": {},
   "outputs": [],
   "source": [
    "from tqdm import tqdm"
   ]
  },
  {
   "cell_type": "code",
   "execution_count": null,
   "id": "6cf85756",
   "metadata": {},
   "outputs": [],
   "source": [
    "possible_doubles = []\n",
    "\n",
    "for ind, row in tqdm(df.iterrows(), total=df.shape[0]):\n",
    "    this_id = row.name\n",
    "    this_hash = row['hash']\n",
    "    search_results = sorted(tree.find(Item(this_hash, this_id), 3))\n",
    "    possible_doubles += [(t[0], this_id, t[1].hash_db_index) for t in search_results \n",
    "                         if t[1].hash_db_index != this_id]  # not the picture itself"
   ]
  },
  {
   "cell_type": "code",
   "execution_count": null,
   "id": "68048bcb",
   "metadata": {},
   "outputs": [],
   "source": [
    "possible_doubles = pd.DataFrame(possible_doubles, columns=['hash_dist', 'hash_db_index_1', 'hash_db_index_2'])\n",
    "possible_doubles.to_csv('possible_doubles.csv')"
   ]
  },
  {
   "cell_type": "code",
   "execution_count": null,
   "id": "d49869fd",
   "metadata": {},
   "outputs": [],
   "source": [
    "possible_doubles = pd.read_csv('possible_doubles.csv', index_col=0)\n",
    "possible_doubles.head()"
   ]
  },
  {
   "cell_type": "markdown",
   "id": "b899ff2b",
   "metadata": {},
   "source": [
    "## Чистим и дополняем таблицу"
   ]
  },
  {
   "cell_type": "markdown",
   "id": "9a51c0be",
   "metadata": {},
   "source": [
    "Удаляем дублирующиеся пары"
   ]
  },
  {
   "cell_type": "code",
   "execution_count": null,
   "id": "04633b20",
   "metadata": {},
   "outputs": [],
   "source": [
    "possible_doubles['temp'] = possible_doubles.apply(\n",
    "    lambda row: (min(row['hash_db_index_1'], row['hash_db_index_2']), max(row['hash_db_index_1'], row['hash_db_index_2'])),\n",
    "    axis=1\n",
    ")\n",
    "possible_doubles['hash_db_index_1'] = possible_doubles['temp'].apply(lambda x: x[0])\n",
    "possible_doubles['hash_db_index_2'] = possible_doubles['temp'].apply(lambda x: x[1])\n",
    "possible_doubles = possible_doubles.drop('temp', axis=1)\n",
    "\n",
    "possible_doubles = possible_doubles.drop_duplicates().reset_index().drop('index', axis=1)"
   ]
  },
  {
   "cell_type": "code",
   "execution_count": null,
   "id": "6cda0e8f",
   "metadata": {},
   "outputs": [],
   "source": [
    "possible_doubles.head()"
   ]
  },
  {
   "cell_type": "code",
   "execution_count": null,
   "id": "2e628880",
   "metadata": {},
   "outputs": [],
   "source": [
    "possible_doubles.shape"
   ]
  },
  {
   "cell_type": "code",
   "execution_count": null,
   "id": "a258b08f",
   "metadata": {},
   "outputs": [],
   "source": [
    "possible_doubles['hash_dist'].value_counts()"
   ]
  },
  {
   "cell_type": "code",
   "execution_count": null,
   "id": "d7cdba6b",
   "metadata": {},
   "outputs": [],
   "source": [
    "possible_doubles['hash_db_index_1'].nunique(), possible_doubles['hash_db_index_2'].nunique()"
   ]
  },
  {
   "cell_type": "markdown",
   "id": "bf757e36",
   "metadata": {},
   "source": [
    "Добавляем в таблицу данные об изображениях"
   ]
  },
  {
   "cell_type": "code",
   "execution_count": null,
   "id": "0b0534fc",
   "metadata": {},
   "outputs": [],
   "source": [
    "possible_doubles['base_1'] = possible_doubles['hash_db_index_1'].apply(lambda x: df.iloc[x]['base'])\n",
    "possible_doubles['ID_1'] = possible_doubles['hash_db_index_1'].apply(lambda x: df.iloc[x]['ID'])\n",
    "possible_doubles['Pic_1'] = possible_doubles['hash_db_index_1'].apply(lambda x: df.iloc[x]['Pic'])\n",
    "possible_doubles['Pic_url_1'] = possible_doubles['hash_db_index_1'].apply(lambda x: df.iloc[x]['Pic_url'])\n",
    "possible_doubles['hash_value_1'] = possible_doubles['hash_db_index_1'].apply(lambda x: df.iloc[x]['hash'])\n",
    "\n",
    "possible_doubles['base_2'] = possible_doubles['hash_db_index_2'].apply(lambda x: df.iloc[x]['base'])\n",
    "possible_doubles['ID_2'] = possible_doubles['hash_db_index_2'].apply(lambda x: df.iloc[x]['ID'])\n",
    "possible_doubles['Pic_2'] = possible_doubles['hash_db_index_2'].apply(lambda x: df.iloc[x]['Pic'])\n",
    "possible_doubles['Pic_url_2'] = possible_doubles['hash_db_index_2'].apply(lambda x: df.iloc[x]['Pic_url'])\n",
    "possible_doubles['hash_value_2'] = possible_doubles['hash_db_index_2'].apply(lambda x: df.iloc[x]['hash'])\n",
    "\n",
    "possible_doubles = possible_doubles[['hash_dist', \n",
    "                                     'hash_db_index_1', 'base_1', 'ID_1', 'Pic_1', 'Pic_url_1', 'hash_value_1',\n",
    "                                     'hash_db_index_2', 'base_2', 'ID_2', 'Pic_2', 'Pic_url_2', 'hash_value_2']]\n",
    "possible_doubles.head()"
   ]
  },
  {
   "cell_type": "markdown",
   "id": "20288927",
   "metadata": {},
   "source": [
    "Статистика по базам"
   ]
  },
  {
   "cell_type": "code",
   "execution_count": null,
   "id": "0f37fce4",
   "metadata": {},
   "outputs": [],
   "source": [
    "possible_doubles['base_1'].value_counts()"
   ]
  },
  {
   "cell_type": "code",
   "execution_count": null,
   "id": "059bfb04",
   "metadata": {},
   "outputs": [],
   "source": [
    "possible_doubles['base_2'].value_counts()"
   ]
  },
  {
   "cell_type": "markdown",
   "id": "b21b71c4",
   "metadata": {},
   "source": [
    "Случаи, когда возможные дубликаты в паре из разных баз"
   ]
  },
  {
   "cell_type": "code",
   "execution_count": null,
   "id": "f0ea415a",
   "metadata": {},
   "outputs": [],
   "source": [
    "possible_doubles[possible_doubles['base_1'] != possible_doubles['base_2']]"
   ]
  },
  {
   "cell_type": "markdown",
   "id": "898d6e88",
   "metadata": {},
   "source": [
    "Пример, когда хеши полностью совпадают"
   ]
  },
  {
   "cell_type": "code",
   "execution_count": null,
   "id": "af9ff523",
   "metadata": {},
   "outputs": [],
   "source": [
    "with pd.option_context('display.max_colwidth', None):\n",
    "    display(possible_doubles[possible_doubles['hash_dist'] == 0].head())"
   ]
  },
  {
   "cell_type": "code",
   "execution_count": null,
   "id": "55af3250",
   "metadata": {},
   "outputs": [],
   "source": [
    "possible_doubles.to_csv('possible_doubles_with_lookup_data.csv')"
   ]
  },
  {
   "cell_type": "markdown",
   "metadata": {},
   "source": [
    "Случаи, когда предположительно лицевая сторона одной открытки дублирует другую. Оставляем в таблице, потому что их немного и это может быть ошибка при загрузке (в базе случайно поменяли местами ссылки на лицевую и оборотную сторону)"
   ]
  },
  {
   "cell_type": "code",
   "execution_count": 5,
   "metadata": {},
   "outputs": [
    {
     "data": {
      "text/plain": [
       "(26, 13)"
      ]
     },
     "execution_count": 5,
     "metadata": {},
     "output_type": "execute_result"
    }
   ],
   "source": [
    "possible_doubles[possible_doubles['Pic_1'] != possible_doubles['Pic_2']].shape"
   ]
  },
  {
   "cell_type": "code",
   "execution_count": 6,
   "metadata": {},
   "outputs": [
    {
     "data": {
      "text/html": [
       "<div>\n",
       "<style scoped>\n",
       "    .dataframe tbody tr th:only-of-type {\n",
       "        vertical-align: middle;\n",
       "    }\n",
       "\n",
       "    .dataframe tbody tr th {\n",
       "        vertical-align: top;\n",
       "    }\n",
       "\n",
       "    .dataframe thead th {\n",
       "        text-align: right;\n",
       "    }\n",
       "</style>\n",
       "<table border=\"1\" class=\"dataframe\">\n",
       "  <thead>\n",
       "    <tr style=\"text-align: right;\">\n",
       "      <th></th>\n",
       "      <th>hash_dist</th>\n",
       "      <th>hash_db_index_1</th>\n",
       "      <th>base_1</th>\n",
       "      <th>ID_1</th>\n",
       "      <th>Pic_1</th>\n",
       "      <th>Pic_url_1</th>\n",
       "      <th>hash_value_1</th>\n",
       "      <th>hash_db_index_2</th>\n",
       "      <th>base_2</th>\n",
       "      <th>ID_2</th>\n",
       "      <th>Pic_2</th>\n",
       "      <th>Pic_url_2</th>\n",
       "      <th>hash_value_2</th>\n",
       "    </tr>\n",
       "  </thead>\n",
       "  <tbody>\n",
       "    <tr>\n",
       "      <th>4</th>\n",
       "      <td>0</td>\n",
       "      <td>104</td>\n",
       "      <td>1</td>\n",
       "      <td>105</td>\n",
       "      <td>1</td>\n",
       "      <td>https://forum.vgd.ru/file.php?fid=448884&amp;key=1...</td>\n",
       "      <td>c9e9eed11919c541</td>\n",
       "      <td>20311</td>\n",
       "      <td>1</td>\n",
       "      <td>3515</td>\n",
       "      <td>2</td>\n",
       "      <td>https://storage.yandexcloud.net/postcards-muse...</td>\n",
       "      <td>c9e9eed11919c541</td>\n",
       "    </tr>\n",
       "    <tr>\n",
       "      <th>19</th>\n",
       "      <td>2</td>\n",
       "      <td>775</td>\n",
       "      <td>1</td>\n",
       "      <td>791</td>\n",
       "      <td>1</td>\n",
       "      <td>https://forum.vgd.ru/file.php?fid=191244&amp;key=1...</td>\n",
       "      <td>7d3d75d7675f537f</td>\n",
       "      <td>17700</td>\n",
       "      <td>1</td>\n",
       "      <td>773</td>\n",
       "      <td>2</td>\n",
       "      <td>https://forum.vgd.ru/file.php?fid=191246&amp;key=5...</td>\n",
       "      <td>7d3d75d76557537f</td>\n",
       "    </tr>\n",
       "    <tr>\n",
       "      <th>29</th>\n",
       "      <td>1</td>\n",
       "      <td>1082</td>\n",
       "      <td>1</td>\n",
       "      <td>1106</td>\n",
       "      <td>1</td>\n",
       "      <td>https://forum.vgd.ru/file.php?fid=234804&amp;key=1...</td>\n",
       "      <td>9c1f4f671f5973b4</td>\n",
       "      <td>32842</td>\n",
       "      <td>3</td>\n",
       "      <td>8869</td>\n",
       "      <td>2</td>\n",
       "      <td>https://storage.yandexcloud.net/postcards-open...</td>\n",
       "      <td>9c1f4f671f5953b4</td>\n",
       "    </tr>\n",
       "    <tr>\n",
       "      <th>30</th>\n",
       "      <td>2</td>\n",
       "      <td>1085</td>\n",
       "      <td>1</td>\n",
       "      <td>1109</td>\n",
       "      <td>1</td>\n",
       "      <td>https://forum.vgd.ru/file.php?fid=234811&amp;key=1...</td>\n",
       "      <td>466bb5b3c8ccca60</td>\n",
       "      <td>32843</td>\n",
       "      <td>3</td>\n",
       "      <td>8870</td>\n",
       "      <td>2</td>\n",
       "      <td>https://storage.yandexcloud.net/postcards-open...</td>\n",
       "      <td>466bb4b1c8ccca60</td>\n",
       "    </tr>\n",
       "    <tr>\n",
       "      <th>73</th>\n",
       "      <td>2</td>\n",
       "      <td>2319</td>\n",
       "      <td>1</td>\n",
       "      <td>2376</td>\n",
       "      <td>1</td>\n",
       "      <td>https://storage.yandexcloud.net/postcards-new/...</td>\n",
       "      <td>f8f0f0f8f9f8f8f8</td>\n",
       "      <td>40696</td>\n",
       "      <td>3</td>\n",
       "      <td>11222</td>\n",
       "      <td>2</td>\n",
       "      <td>https://storage.yandexcloud.net/postcards-open...</td>\n",
       "      <td>f8f0f8f8f8f8f8f8</td>\n",
       "    </tr>\n",
       "  </tbody>\n",
       "</table>\n",
       "</div>"
      ],
      "text/plain": [
       "    hash_dist  hash_db_index_1  base_1  ID_1  Pic_1  \\\n",
       "4           0              104       1   105      1   \n",
       "19          2              775       1   791      1   \n",
       "29          1             1082       1  1106      1   \n",
       "30          2             1085       1  1109      1   \n",
       "73          2             2319       1  2376      1   \n",
       "\n",
       "                                            Pic_url_1      hash_value_1  \\\n",
       "4   https://forum.vgd.ru/file.php?fid=448884&key=1...  c9e9eed11919c541   \n",
       "19  https://forum.vgd.ru/file.php?fid=191244&key=1...  7d3d75d7675f537f   \n",
       "29  https://forum.vgd.ru/file.php?fid=234804&key=1...  9c1f4f671f5973b4   \n",
       "30  https://forum.vgd.ru/file.php?fid=234811&key=1...  466bb5b3c8ccca60   \n",
       "73  https://storage.yandexcloud.net/postcards-new/...  f8f0f0f8f9f8f8f8   \n",
       "\n",
       "    hash_db_index_2  base_2   ID_2  Pic_2  \\\n",
       "4             20311       1   3515      2   \n",
       "19            17700       1    773      2   \n",
       "29            32842       3   8869      2   \n",
       "30            32843       3   8870      2   \n",
       "73            40696       3  11222      2   \n",
       "\n",
       "                                            Pic_url_2      hash_value_2  \n",
       "4   https://storage.yandexcloud.net/postcards-muse...  c9e9eed11919c541  \n",
       "19  https://forum.vgd.ru/file.php?fid=191246&key=5...  7d3d75d76557537f  \n",
       "29  https://storage.yandexcloud.net/postcards-open...  9c1f4f671f5953b4  \n",
       "30  https://storage.yandexcloud.net/postcards-open...  466bb4b1c8ccca60  \n",
       "73  https://storage.yandexcloud.net/postcards-open...  f8f0f8f8f8f8f8f8  "
      ]
     },
     "execution_count": 6,
     "metadata": {},
     "output_type": "execute_result"
    }
   ],
   "source": [
    "possible_doubles[possible_doubles['Pic_1'] != possible_doubles['Pic_2']].head()"
   ]
  }
 ],
 "metadata": {
  "kernelspec": {
   "display_name": "Python 3",
   "language": "python",
   "name": "python3"
  },
  "language_info": {
   "codemirror_mode": {
    "name": "ipython",
    "version": 3
   },
   "file_extension": ".py",
   "mimetype": "text/x-python",
   "name": "python",
   "nbconvert_exporter": "python",
   "pygments_lexer": "ipython3",
   "version": "3.9.10"
  }
 },
 "nbformat": 4,
 "nbformat_minor": 5
}