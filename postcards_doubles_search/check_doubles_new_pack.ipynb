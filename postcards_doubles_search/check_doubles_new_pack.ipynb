{
  "nbformat": 4,
  "nbformat_minor": 0,
  "metadata": {
    "colab": {
      "provenance": [],
      "collapsed_sections": [
        "PH7g4QOXe7dv"
      ]
    },
    "kernelspec": {
      "name": "python3",
      "display_name": "Python 3"
    },
    "language_info": {
      "name": "python"
    }
  },
  "cells": [
    {
      "cell_type": "markdown",
      "source": [
        "# Читаем базу"
      ],
      "metadata": {
        "id": "rWQHB9OfCrCM"
      }
    },
    {
      "cell_type": "code",
      "source": [
        "import pandas as pd"
      ],
      "metadata": {
        "id": "Wdub9J99CrnA"
      },
      "execution_count": 1,
      "outputs": []
    },
    {
      "cell_type": "code",
      "source": [
        "base_5 = pd.ExcelFile('/content/drive/MyDrive/Системный Блок/пишу тебе/открытки базы/_Расшифровка открыток 5 (ярмарка проектов).xlsx')\n",
        "base_5 = pd.read_excel(base_5, 'Открытки')\n",
        "base_5 = base_5.rename(columns={'Unnamed: 0': 'Номер открытки'})\n",
        "base_5 = base_5[(~base_5['Pic_url_1'].isna()) & (~base_5['Номер открытки'].isna())]\n",
        "base_5['Номер открытки'] = base_5['Номер открытки'].astype(int)\n",
        "base_5 = base_5.sort_values(by='Номер открытки').reset_index().drop('index', axis=1)\n",
        "base_5.head()"
      ],
      "metadata": {
        "id": "2FkWettECrjg",
        "colab": {
          "base_uri": "https://localhost:8080/",
          "height": 733
        },
        "outputId": "3d152fdd-a7fa-40a9-85e5-9bd865b0f14a"
      },
      "execution_count": 79,
      "outputs": [
        {
          "output_type": "execute_result",
          "data": {
            "text/plain": [
              "   Номер открытки                                          Pic_url_1  \\\n",
              "0          215454  https://storage.yandexcloud.net/postcards-open...   \n",
              "1          215460  https://storage.yandexcloud.net/postcards-open...   \n",
              "2          215465  https://storage.yandexcloud.net/postcards-open...   \n",
              "3          215485  https://storage.yandexcloud.net/postcards-open...   \n",
              "4          215496  https://storage.yandexcloud.net/postcards-open...   \n",
              "\n",
              "                                           Pic_url_2 Разрешение на публикацию  \\\n",
              "0  https://storage.yandexcloud.net/postcards-open...      Разрешаю публикацию   \n",
              "1  https://storage.yandexcloud.net/postcards-open...      Разрешаю публикацию   \n",
              "2  https://storage.yandexcloud.net/postcards-open...      Разрешаю публикацию   \n",
              "3  https://storage.yandexcloud.net/postcards-open...      Разрешаю публикацию   \n",
              "4  https://storage.yandexcloud.net/postcards-open...      Разрешаю публикацию   \n",
              "\n",
              "              Источник Была ли открытка отправлена по почте  \\\n",
              "0  Найдено в интернете                                  NaN   \n",
              "1  Найдено в интернете                                  NaN   \n",
              "2  Найдено в интернете                                  NaN   \n",
              "3  Найдено в интернете                                  NaN   \n",
              "4  Найдено в интернете                                  NaN   \n",
              "\n",
              "  Название коллекции (если вы хотите подпись на сайте). Например, личная коллекция Василия Иванова.  \\\n",
              "0                                                NaN                                                  \n",
              "1                                                NaN                                                  \n",
              "2                                                NaN                                                  \n",
              "3                                                NaN                                                  \n",
              "4                                                NaN                                                  \n",
              "\n",
              "   Комментарий или метаинформация. Укажите тут любую метаинформацию про открытку, которую считаете важной. Например, какое-то знание или история, которую нельзя восстановить по тексту открытки.  \\\n",
              "0                                                NaN                                                                                                                                                \n",
              "1                                                NaN                                                                                                                                                \n",
              "2                                                NaN                                                                                                                                                \n",
              "3                                                NaN                                                                                                                                                \n",
              "4                                                NaN                                                                                                                                                \n",
              "\n",
              "  Заливщик                 Разметчик  ... Почему интересна Id поста на сайте  \\\n",
              "0      NaN                       NaN  ...              NaN               NaN   \n",
              "1      NaN        Лыкова Елена (ЯП6)  ...              NaN               NaN   \n",
              "2      NaN  Кулешова Екатерина (ЯП6)  ...              NaN               NaN   \n",
              "3      NaN     Рафаилова Алина (ЯП6)  ...              NaN               NaN   \n",
              "4      NaN                       NaN  ...              NaN               NaN   \n",
              "\n",
              "  Дата заливки Оценка Сгенерированные заголовки image_tag_1 image_tag_2  \\\n",
              "0          NaN    0.0                       NaN         NaN         NaN   \n",
              "1          NaN    5.0                       NaN         NaN         NaN   \n",
              "2          NaN    4.0                       NaN         NaN         NaN   \n",
              "3          NaN    5.0                       NaN         NaN         NaN   \n",
              "4          NaN    0.0                       NaN         NaN         NaN   \n",
              "\n",
              "  image_tag_3 image_tag_4 image_tag_5  \n",
              "0         NaN         NaN         NaN  \n",
              "1         NaN         NaN         NaN  \n",
              "2         NaN         NaN         NaN  \n",
              "3         NaN         NaN         NaN  \n",
              "4         NaN         NaN         NaN  \n",
              "\n",
              "[5 rows x 64 columns]"
            ],
            "text/html": [
              "\n",
              "  <div id=\"df-13cdb807-5468-4c31-b43e-32ff3771ca71\">\n",
              "    <div class=\"colab-df-container\">\n",
              "      <div>\n",
              "<style scoped>\n",
              "    .dataframe tbody tr th:only-of-type {\n",
              "        vertical-align: middle;\n",
              "    }\n",
              "\n",
              "    .dataframe tbody tr th {\n",
              "        vertical-align: top;\n",
              "    }\n",
              "\n",
              "    .dataframe thead th {\n",
              "        text-align: right;\n",
              "    }\n",
              "</style>\n",
              "<table border=\"1\" class=\"dataframe\">\n",
              "  <thead>\n",
              "    <tr style=\"text-align: right;\">\n",
              "      <th></th>\n",
              "      <th>Номер открытки</th>\n",
              "      <th>Pic_url_1</th>\n",
              "      <th>Pic_url_2</th>\n",
              "      <th>Разрешение на публикацию</th>\n",
              "      <th>Источник</th>\n",
              "      <th>Была ли открытка отправлена по почте</th>\n",
              "      <th>Название коллекции (если вы хотите подпись на сайте). Например, личная коллекция Василия Иванова.</th>\n",
              "      <th>Комментарий или метаинформация. Укажите тут любую метаинформацию про открытку, которую считаете важной. Например, какое-то знание или история, которую нельзя восстановить по тексту открытки.</th>\n",
              "      <th>Заливщик</th>\n",
              "      <th>Разметчик</th>\n",
              "      <th>...</th>\n",
              "      <th>Почему интересна</th>\n",
              "      <th>Id поста на сайте</th>\n",
              "      <th>Дата заливки</th>\n",
              "      <th>Оценка</th>\n",
              "      <th>Сгенерированные заголовки</th>\n",
              "      <th>image_tag_1</th>\n",
              "      <th>image_tag_2</th>\n",
              "      <th>image_tag_3</th>\n",
              "      <th>image_tag_4</th>\n",
              "      <th>image_tag_5</th>\n",
              "    </tr>\n",
              "  </thead>\n",
              "  <tbody>\n",
              "    <tr>\n",
              "      <th>0</th>\n",
              "      <td>215454</td>\n",
              "      <td>https://storage.yandexcloud.net/postcards-open...</td>\n",
              "      <td>https://storage.yandexcloud.net/postcards-open...</td>\n",
              "      <td>Разрешаю публикацию</td>\n",
              "      <td>Найдено в интернете</td>\n",
              "      <td>NaN</td>\n",
              "      <td>NaN</td>\n",
              "      <td>NaN</td>\n",
              "      <td>NaN</td>\n",
              "      <td>NaN</td>\n",
              "      <td>...</td>\n",
              "      <td>NaN</td>\n",
              "      <td>NaN</td>\n",
              "      <td>NaN</td>\n",
              "      <td>0.0</td>\n",
              "      <td>NaN</td>\n",
              "      <td>NaN</td>\n",
              "      <td>NaN</td>\n",
              "      <td>NaN</td>\n",
              "      <td>NaN</td>\n",
              "      <td>NaN</td>\n",
              "    </tr>\n",
              "    <tr>\n",
              "      <th>1</th>\n",
              "      <td>215460</td>\n",
              "      <td>https://storage.yandexcloud.net/postcards-open...</td>\n",
              "      <td>https://storage.yandexcloud.net/postcards-open...</td>\n",
              "      <td>Разрешаю публикацию</td>\n",
              "      <td>Найдено в интернете</td>\n",
              "      <td>NaN</td>\n",
              "      <td>NaN</td>\n",
              "      <td>NaN</td>\n",
              "      <td>NaN</td>\n",
              "      <td>Лыкова Елена (ЯП6)</td>\n",
              "      <td>...</td>\n",
              "      <td>NaN</td>\n",
              "      <td>NaN</td>\n",
              "      <td>NaN</td>\n",
              "      <td>5.0</td>\n",
              "      <td>NaN</td>\n",
              "      <td>NaN</td>\n",
              "      <td>NaN</td>\n",
              "      <td>NaN</td>\n",
              "      <td>NaN</td>\n",
              "      <td>NaN</td>\n",
              "    </tr>\n",
              "    <tr>\n",
              "      <th>2</th>\n",
              "      <td>215465</td>\n",
              "      <td>https://storage.yandexcloud.net/postcards-open...</td>\n",
              "      <td>https://storage.yandexcloud.net/postcards-open...</td>\n",
              "      <td>Разрешаю публикацию</td>\n",
              "      <td>Найдено в интернете</td>\n",
              "      <td>NaN</td>\n",
              "      <td>NaN</td>\n",
              "      <td>NaN</td>\n",
              "      <td>NaN</td>\n",
              "      <td>Кулешова Екатерина (ЯП6)</td>\n",
              "      <td>...</td>\n",
              "      <td>NaN</td>\n",
              "      <td>NaN</td>\n",
              "      <td>NaN</td>\n",
              "      <td>4.0</td>\n",
              "      <td>NaN</td>\n",
              "      <td>NaN</td>\n",
              "      <td>NaN</td>\n",
              "      <td>NaN</td>\n",
              "      <td>NaN</td>\n",
              "      <td>NaN</td>\n",
              "    </tr>\n",
              "    <tr>\n",
              "      <th>3</th>\n",
              "      <td>215485</td>\n",
              "      <td>https://storage.yandexcloud.net/postcards-open...</td>\n",
              "      <td>https://storage.yandexcloud.net/postcards-open...</td>\n",
              "      <td>Разрешаю публикацию</td>\n",
              "      <td>Найдено в интернете</td>\n",
              "      <td>NaN</td>\n",
              "      <td>NaN</td>\n",
              "      <td>NaN</td>\n",
              "      <td>NaN</td>\n",
              "      <td>Рафаилова Алина (ЯП6)</td>\n",
              "      <td>...</td>\n",
              "      <td>NaN</td>\n",
              "      <td>NaN</td>\n",
              "      <td>NaN</td>\n",
              "      <td>5.0</td>\n",
              "      <td>NaN</td>\n",
              "      <td>NaN</td>\n",
              "      <td>NaN</td>\n",
              "      <td>NaN</td>\n",
              "      <td>NaN</td>\n",
              "      <td>NaN</td>\n",
              "    </tr>\n",
              "    <tr>\n",
              "      <th>4</th>\n",
              "      <td>215496</td>\n",
              "      <td>https://storage.yandexcloud.net/postcards-open...</td>\n",
              "      <td>https://storage.yandexcloud.net/postcards-open...</td>\n",
              "      <td>Разрешаю публикацию</td>\n",
              "      <td>Найдено в интернете</td>\n",
              "      <td>NaN</td>\n",
              "      <td>NaN</td>\n",
              "      <td>NaN</td>\n",
              "      <td>NaN</td>\n",
              "      <td>NaN</td>\n",
              "      <td>...</td>\n",
              "      <td>NaN</td>\n",
              "      <td>NaN</td>\n",
              "      <td>NaN</td>\n",
              "      <td>0.0</td>\n",
              "      <td>NaN</td>\n",
              "      <td>NaN</td>\n",
              "      <td>NaN</td>\n",
              "      <td>NaN</td>\n",
              "      <td>NaN</td>\n",
              "      <td>NaN</td>\n",
              "    </tr>\n",
              "  </tbody>\n",
              "</table>\n",
              "<p>5 rows × 64 columns</p>\n",
              "</div>\n",
              "      <button class=\"colab-df-convert\" onclick=\"convertToInteractive('df-13cdb807-5468-4c31-b43e-32ff3771ca71')\"\n",
              "              title=\"Convert this dataframe to an interactive table.\"\n",
              "              style=\"display:none;\">\n",
              "        \n",
              "  <svg xmlns=\"http://www.w3.org/2000/svg\" height=\"24px\"viewBox=\"0 0 24 24\"\n",
              "       width=\"24px\">\n",
              "    <path d=\"M0 0h24v24H0V0z\" fill=\"none\"/>\n",
              "    <path d=\"M18.56 5.44l.94 2.06.94-2.06 2.06-.94-2.06-.94-.94-2.06-.94 2.06-2.06.94zm-11 1L8.5 8.5l.94-2.06 2.06-.94-2.06-.94L8.5 2.5l-.94 2.06-2.06.94zm10 10l.94 2.06.94-2.06 2.06-.94-2.06-.94-.94-2.06-.94 2.06-2.06.94z\"/><path d=\"M17.41 7.96l-1.37-1.37c-.4-.4-.92-.59-1.43-.59-.52 0-1.04.2-1.43.59L10.3 9.45l-7.72 7.72c-.78.78-.78 2.05 0 2.83L4 21.41c.39.39.9.59 1.41.59.51 0 1.02-.2 1.41-.59l7.78-7.78 2.81-2.81c.8-.78.8-2.07 0-2.86zM5.41 20L4 18.59l7.72-7.72 1.47 1.35L5.41 20z\"/>\n",
              "  </svg>\n",
              "      </button>\n",
              "      \n",
              "  <style>\n",
              "    .colab-df-container {\n",
              "      display:flex;\n",
              "      flex-wrap:wrap;\n",
              "      gap: 12px;\n",
              "    }\n",
              "\n",
              "    .colab-df-convert {\n",
              "      background-color: #E8F0FE;\n",
              "      border: none;\n",
              "      border-radius: 50%;\n",
              "      cursor: pointer;\n",
              "      display: none;\n",
              "      fill: #1967D2;\n",
              "      height: 32px;\n",
              "      padding: 0 0 0 0;\n",
              "      width: 32px;\n",
              "    }\n",
              "\n",
              "    .colab-df-convert:hover {\n",
              "      background-color: #E2EBFA;\n",
              "      box-shadow: 0px 1px 2px rgba(60, 64, 67, 0.3), 0px 1px 3px 1px rgba(60, 64, 67, 0.15);\n",
              "      fill: #174EA6;\n",
              "    }\n",
              "\n",
              "    [theme=dark] .colab-df-convert {\n",
              "      background-color: #3B4455;\n",
              "      fill: #D2E3FC;\n",
              "    }\n",
              "\n",
              "    [theme=dark] .colab-df-convert:hover {\n",
              "      background-color: #434B5C;\n",
              "      box-shadow: 0px 1px 3px 1px rgba(0, 0, 0, 0.15);\n",
              "      filter: drop-shadow(0px 1px 2px rgba(0, 0, 0, 0.3));\n",
              "      fill: #FFFFFF;\n",
              "    }\n",
              "  </style>\n",
              "\n",
              "      <script>\n",
              "        const buttonEl =\n",
              "          document.querySelector('#df-13cdb807-5468-4c31-b43e-32ff3771ca71 button.colab-df-convert');\n",
              "        buttonEl.style.display =\n",
              "          google.colab.kernel.accessAllowed ? 'block' : 'none';\n",
              "\n",
              "        async function convertToInteractive(key) {\n",
              "          const element = document.querySelector('#df-13cdb807-5468-4c31-b43e-32ff3771ca71');\n",
              "          const dataTable =\n",
              "            await google.colab.kernel.invokeFunction('convertToInteractive',\n",
              "                                                     [key], {});\n",
              "          if (!dataTable) return;\n",
              "\n",
              "          const docLinkHtml = 'Like what you see? Visit the ' +\n",
              "            '<a target=\"_blank\" href=https://colab.research.google.com/notebooks/data_table.ipynb>data table notebook</a>'\n",
              "            + ' to learn more about interactive tables.';\n",
              "          element.innerHTML = '';\n",
              "          dataTable['output_type'] = 'display_data';\n",
              "          await google.colab.output.renderOutput(dataTable, element);\n",
              "          const docLink = document.createElement('div');\n",
              "          docLink.innerHTML = docLinkHtml;\n",
              "          element.appendChild(docLink);\n",
              "        }\n",
              "      </script>\n",
              "    </div>\n",
              "  </div>\n",
              "  "
            ]
          },
          "metadata": {},
          "execution_count": 79
        }
      ]
    },
    {
      "cell_type": "code",
      "execution_count": 80,
      "metadata": {
        "colab": {
          "base_uri": "https://localhost:8080/"
        },
        "id": "RG5wTZ5hCfWE",
        "outputId": "478e6931-1bfb-4067-9137-0d6f99462593"
      },
      "outputs": [
        {
          "output_type": "execute_result",
          "data": {
            "text/plain": [
              "(3867, 64)"
            ]
          },
          "metadata": {},
          "execution_count": 80
        }
      ],
      "source": [
        "base_5.shape"
      ]
    },
    {
      "cell_type": "markdown",
      "source": [
        "# Проверяем валидность ссылок на хранилище"
      ],
      "metadata": {
        "id": "WhtffZlLpWuN"
      }
    },
    {
      "cell_type": "code",
      "source": [
        "base_5['Статус (распределено, в процессе, завершено, проблема)'].value_counts()"
      ],
      "metadata": {
        "colab": {
          "base_uri": "https://localhost:8080/"
        },
        "id": "4H6OH5az1f3d",
        "outputId": "cf84bb2e-5fb8-4568-ab93-3270f3606192"
      },
      "execution_count": 89,
      "outputs": [
        {
          "output_type": "execute_result",
          "data": {
            "text/plain": [
              "Проверено                                         1756\n",
              "Завершено                                          679\n",
              "Распределено                                       665\n",
              "Ожидает проверки                                   313\n",
              "Готово к расшифровке                               307\n",
              "Исключено/ дубликат                                 39\n",
              "Помощь модератора/ не разобрать слова в тексте      25\n",
              "Помощь модератора/ иностранный язык                 25\n",
              "В процессе                                          21\n",
              "Исключено                                           10\n",
              "Исключено/ трудный почерк                            6\n",
              "Name: Статус (распределено, в процессе, завершено, проблема), dtype: int64"
            ]
          },
          "metadata": {},
          "execution_count": 89
        }
      ]
    },
    {
      "cell_type": "markdown",
      "source": [
        "Добавляем данные с предыдущих проверок"
      ],
      "metadata": {
        "id": "DjGqHPLg6B-A"
      }
    },
    {
      "cell_type": "code",
      "source": [
        "url_validity_prev = pd.read_csv('base_5_url_validity.csv', index_col=0)\n",
        "base_5 = base_5.merge(url_validity_prev, on=['Номер открытки', 'Pic_url_1', 'Pic_url_2'], how='left')"
      ],
      "metadata": {
        "id": "k0LmK4Ql5_rP"
      },
      "execution_count": null,
      "outputs": []
    },
    {
      "cell_type": "markdown",
      "source": [
        "Проверить нужно открытки со статусом \"Готово к расшифровке\" и \"Распределено\", если еще не проверялись"
      ],
      "metadata": {
        "id": "sjZ85pTzy_v3"
      }
    },
    {
      "cell_type": "code",
      "source": [
        "import requests\n",
        "import numpy as np\n",
        "from tqdm import tqdm\n",
        "tqdm.pandas()"
      ],
      "metadata": {
        "id": "ndHa9S89qYYs"
      },
      "execution_count": 78,
      "outputs": []
    },
    {
      "cell_type": "code",
      "source": [
        "def is_valid_url(url):\n",
        "  if pd.isna(url):\n",
        "    return False\n",
        "  response = requests.get(url)\n",
        "  return response.status_code == 200"
      ],
      "metadata": {
        "id": "bsuRxkmxpbAv"
      },
      "execution_count": 93,
      "outputs": []
    },
    {
      "cell_type": "code",
      "source": [
        "base_5['Pic_url_1_valid'] = base_5.progress_apply(\n",
        "    lambda row: is_valid_url(row['Pic_url_1']) \n",
        "    if pd.isna(row['Pic_url_1_valid']) and row[\n",
        "        'Статус (распределено, в процессе, завершено, проблема)'\n",
        "        ].isin(['Распределено', 'Готово к расшифровке'])\n",
        "    else row['Pic_url_1_valid'], \n",
        "    axis=1\n",
        ")\n",
        "\n",
        "base_5['Pic_url_2_valid'] = base_5.progress_apply(\n",
        "    lambda row: is_valid_url(row['Pic_url_2']) \n",
        "    if pd.isna(row['Pic_url_2_valid']) and row[\n",
        "        'Статус (распределено, в процессе, завершено, проблема)'\n",
        "        ].isin(['Распределено', 'Готово к расшифровке'])\n",
        "    else row['Pic_url_2_valid'], \n",
        "    axis=1\n",
        ")"
      ],
      "metadata": {
        "id": "B2Mnn5Xb60Pl"
      },
      "execution_count": null,
      "outputs": []
    },
    {
      "cell_type": "markdown",
      "source": [
        "Результат"
      ],
      "metadata": {
        "id": "z1BAXjIT60rD"
      }
    },
    {
      "cell_type": "code",
      "source": [
        "base_5['Pic_url_1_valid'].value_counts()"
      ],
      "metadata": {
        "colab": {
          "base_uri": "https://localhost:8080/"
        },
        "id": "GkLGSeApy6l8",
        "outputId": "876a1adb-30bb-4da1-f17f-874b5cb21252"
      },
      "execution_count": 95,
      "outputs": [
        {
          "output_type": "execute_result",
          "data": {
            "text/plain": [
              "True    972\n",
              "Name: Pic_url_1_valid, dtype: int64"
            ]
          },
          "metadata": {},
          "execution_count": 95
        }
      ]
    },
    {
      "cell_type": "code",
      "source": [
        "base_5['Pic_url_2_valid'].value_counts()"
      ],
      "metadata": {
        "colab": {
          "base_uri": "https://localhost:8080/"
        },
        "id": "WKxV50Ruy9uV",
        "outputId": "79fb40d2-c122-47bd-b7a0-5e17ca04215d"
      },
      "execution_count": 96,
      "outputs": [
        {
          "output_type": "execute_result",
          "data": {
            "text/plain": [
              "True    971\n",
              "Name: Pic_url_2_valid, dtype: int64"
            ]
          },
          "metadata": {},
          "execution_count": 96
        }
      ]
    },
    {
      "cell_type": "code",
      "source": [
        "base_5[base_5['Pic_url_2'].isna()]"
      ],
      "metadata": {
        "colab": {
          "base_uri": "https://localhost:8080/",
          "height": 469
        },
        "id": "5B1wzaIqF5Nb",
        "outputId": "feb5a68d-ca8b-4323-f128-041144e11468"
      },
      "execution_count": 101,
      "outputs": [
        {
          "output_type": "execute_result",
          "data": {
            "text/plain": [
              "     Номер открытки                                          Pic_url_1  \\\n",
              "783          224212  https://storage.yandexcloud.net/postcards-open...   \n",
              "\n",
              "    Pic_url_2 Разрешение на публикацию             Источник  \\\n",
              "783       NaN      Разрешаю публикацию  Найдено в интернете   \n",
              "\n",
              "    Была ли открытка отправлена по почте  \\\n",
              "783                                  NaN   \n",
              "\n",
              "    Название коллекции (если вы хотите подпись на сайте). Например, личная коллекция Василия Иванова.  \\\n",
              "783                                                NaN                                                  \n",
              "\n",
              "     Комментарий или метаинформация. Укажите тут любую метаинформацию про открытку, которую считаете важной. Например, какое-то знание или история, которую нельзя восстановить по тексту открытки.  \\\n",
              "783                                                NaN                                                                                                                                                \n",
              "\n",
              "    Заливщик                Разметчик  ... Дата заливки Оценка  \\\n",
              "783      NaN  Лемешко Валентина (ЯП6)  ...          NaN    0.0   \n",
              "\n",
              "    Сгенерированные заголовки image_tag_1 image_tag_2 image_tag_3 image_tag_4  \\\n",
              "783                       NaN         NaN         NaN         NaN         NaN   \n",
              "\n",
              "    image_tag_5 Pic_url_1_valid Pic_url_2_valid  \n",
              "783         NaN            True             NaN  \n",
              "\n",
              "[1 rows x 66 columns]"
            ],
            "text/html": [
              "\n",
              "  <div id=\"df-60503f6f-3e33-4161-bff4-ea6091b0aeed\">\n",
              "    <div class=\"colab-df-container\">\n",
              "      <div>\n",
              "<style scoped>\n",
              "    .dataframe tbody tr th:only-of-type {\n",
              "        vertical-align: middle;\n",
              "    }\n",
              "\n",
              "    .dataframe tbody tr th {\n",
              "        vertical-align: top;\n",
              "    }\n",
              "\n",
              "    .dataframe thead th {\n",
              "        text-align: right;\n",
              "    }\n",
              "</style>\n",
              "<table border=\"1\" class=\"dataframe\">\n",
              "  <thead>\n",
              "    <tr style=\"text-align: right;\">\n",
              "      <th></th>\n",
              "      <th>Номер открытки</th>\n",
              "      <th>Pic_url_1</th>\n",
              "      <th>Pic_url_2</th>\n",
              "      <th>Разрешение на публикацию</th>\n",
              "      <th>Источник</th>\n",
              "      <th>Была ли открытка отправлена по почте</th>\n",
              "      <th>Название коллекции (если вы хотите подпись на сайте). Например, личная коллекция Василия Иванова.</th>\n",
              "      <th>Комментарий или метаинформация. Укажите тут любую метаинформацию про открытку, которую считаете важной. Например, какое-то знание или история, которую нельзя восстановить по тексту открытки.</th>\n",
              "      <th>Заливщик</th>\n",
              "      <th>Разметчик</th>\n",
              "      <th>...</th>\n",
              "      <th>Дата заливки</th>\n",
              "      <th>Оценка</th>\n",
              "      <th>Сгенерированные заголовки</th>\n",
              "      <th>image_tag_1</th>\n",
              "      <th>image_tag_2</th>\n",
              "      <th>image_tag_3</th>\n",
              "      <th>image_tag_4</th>\n",
              "      <th>image_tag_5</th>\n",
              "      <th>Pic_url_1_valid</th>\n",
              "      <th>Pic_url_2_valid</th>\n",
              "    </tr>\n",
              "  </thead>\n",
              "  <tbody>\n",
              "    <tr>\n",
              "      <th>783</th>\n",
              "      <td>224212</td>\n",
              "      <td>https://storage.yandexcloud.net/postcards-open...</td>\n",
              "      <td>NaN</td>\n",
              "      <td>Разрешаю публикацию</td>\n",
              "      <td>Найдено в интернете</td>\n",
              "      <td>NaN</td>\n",
              "      <td>NaN</td>\n",
              "      <td>NaN</td>\n",
              "      <td>NaN</td>\n",
              "      <td>Лемешко Валентина (ЯП6)</td>\n",
              "      <td>...</td>\n",
              "      <td>NaN</td>\n",
              "      <td>0.0</td>\n",
              "      <td>NaN</td>\n",
              "      <td>NaN</td>\n",
              "      <td>NaN</td>\n",
              "      <td>NaN</td>\n",
              "      <td>NaN</td>\n",
              "      <td>NaN</td>\n",
              "      <td>True</td>\n",
              "      <td>NaN</td>\n",
              "    </tr>\n",
              "  </tbody>\n",
              "</table>\n",
              "<p>1 rows × 66 columns</p>\n",
              "</div>\n",
              "      <button class=\"colab-df-convert\" onclick=\"convertToInteractive('df-60503f6f-3e33-4161-bff4-ea6091b0aeed')\"\n",
              "              title=\"Convert this dataframe to an interactive table.\"\n",
              "              style=\"display:none;\">\n",
              "        \n",
              "  <svg xmlns=\"http://www.w3.org/2000/svg\" height=\"24px\"viewBox=\"0 0 24 24\"\n",
              "       width=\"24px\">\n",
              "    <path d=\"M0 0h24v24H0V0z\" fill=\"none\"/>\n",
              "    <path d=\"M18.56 5.44l.94 2.06.94-2.06 2.06-.94-2.06-.94-.94-2.06-.94 2.06-2.06.94zm-11 1L8.5 8.5l.94-2.06 2.06-.94-2.06-.94L8.5 2.5l-.94 2.06-2.06.94zm10 10l.94 2.06.94-2.06 2.06-.94-2.06-.94-.94-2.06-.94 2.06-2.06.94z\"/><path d=\"M17.41 7.96l-1.37-1.37c-.4-.4-.92-.59-1.43-.59-.52 0-1.04.2-1.43.59L10.3 9.45l-7.72 7.72c-.78.78-.78 2.05 0 2.83L4 21.41c.39.39.9.59 1.41.59.51 0 1.02-.2 1.41-.59l7.78-7.78 2.81-2.81c.8-.78.8-2.07 0-2.86zM5.41 20L4 18.59l7.72-7.72 1.47 1.35L5.41 20z\"/>\n",
              "  </svg>\n",
              "      </button>\n",
              "      \n",
              "  <style>\n",
              "    .colab-df-container {\n",
              "      display:flex;\n",
              "      flex-wrap:wrap;\n",
              "      gap: 12px;\n",
              "    }\n",
              "\n",
              "    .colab-df-convert {\n",
              "      background-color: #E8F0FE;\n",
              "      border: none;\n",
              "      border-radius: 50%;\n",
              "      cursor: pointer;\n",
              "      display: none;\n",
              "      fill: #1967D2;\n",
              "      height: 32px;\n",
              "      padding: 0 0 0 0;\n",
              "      width: 32px;\n",
              "    }\n",
              "\n",
              "    .colab-df-convert:hover {\n",
              "      background-color: #E2EBFA;\n",
              "      box-shadow: 0px 1px 2px rgba(60, 64, 67, 0.3), 0px 1px 3px 1px rgba(60, 64, 67, 0.15);\n",
              "      fill: #174EA6;\n",
              "    }\n",
              "\n",
              "    [theme=dark] .colab-df-convert {\n",
              "      background-color: #3B4455;\n",
              "      fill: #D2E3FC;\n",
              "    }\n",
              "\n",
              "    [theme=dark] .colab-df-convert:hover {\n",
              "      background-color: #434B5C;\n",
              "      box-shadow: 0px 1px 3px 1px rgba(0, 0, 0, 0.15);\n",
              "      filter: drop-shadow(0px 1px 2px rgba(0, 0, 0, 0.3));\n",
              "      fill: #FFFFFF;\n",
              "    }\n",
              "  </style>\n",
              "\n",
              "      <script>\n",
              "        const buttonEl =\n",
              "          document.querySelector('#df-60503f6f-3e33-4161-bff4-ea6091b0aeed button.colab-df-convert');\n",
              "        buttonEl.style.display =\n",
              "          google.colab.kernel.accessAllowed ? 'block' : 'none';\n",
              "\n",
              "        async function convertToInteractive(key) {\n",
              "          const element = document.querySelector('#df-60503f6f-3e33-4161-bff4-ea6091b0aeed');\n",
              "          const dataTable =\n",
              "            await google.colab.kernel.invokeFunction('convertToInteractive',\n",
              "                                                     [key], {});\n",
              "          if (!dataTable) return;\n",
              "\n",
              "          const docLinkHtml = 'Like what you see? Visit the ' +\n",
              "            '<a target=\"_blank\" href=https://colab.research.google.com/notebooks/data_table.ipynb>data table notebook</a>'\n",
              "            + ' to learn more about interactive tables.';\n",
              "          element.innerHTML = '';\n",
              "          dataTable['output_type'] = 'display_data';\n",
              "          await google.colab.output.renderOutput(dataTable, element);\n",
              "          const docLink = document.createElement('div');\n",
              "          docLink.innerHTML = docLinkHtml;\n",
              "          element.appendChild(docLink);\n",
              "        }\n",
              "      </script>\n",
              "    </div>\n",
              "  </div>\n",
              "  "
            ]
          },
          "metadata": {},
          "execution_count": 101
        }
      ]
    },
    {
      "cell_type": "markdown",
      "source": [
        "Сохраняем"
      ],
      "metadata": {
        "id": "G3Ce-G3R63Uj"
      }
    },
    {
      "cell_type": "code",
      "source": [
        "base_5[[\n",
        "    'Номер открытки', 'Pic_url_1', 'Pic_url_2', 'Pic_url_1_valid','Pic_url_2_valid'\n",
        "    ]].to_csv('base_5_url_validity.csv')"
      ],
      "metadata": {
        "id": "tJDXEGNm5EJp"
      },
      "execution_count": 98,
      "outputs": []
    },
    {
      "cell_type": "markdown",
      "source": [
        "# Считаем хеши открыток"
      ],
      "metadata": {
        "id": "e9pqudzuETnu"
      }
    },
    {
      "cell_type": "markdown",
      "source": [
        "Оставляем только новые открытки, которые были найдены в интернете и еще не проверены --- статус \"Ожидает проверки\""
      ],
      "metadata": {
        "id": "bjdzau_yu4GP"
      }
    },
    {
      "cell_type": "code",
      "source": [
        "base_5 = base_5[base_5['Статус (распределено, в процессе, завершено, проблема)'] == 'Ожидает проверки']\n",
        "base_5.shape"
      ],
      "metadata": {
        "colab": {
          "base_uri": "https://localhost:8080/"
        },
        "id": "C3N9SlVzuwFB",
        "outputId": "52e997ac-2bf8-4069-c39f-47230df43d16"
      },
      "execution_count": 4,
      "outputs": [
        {
          "output_type": "execute_result",
          "data": {
            "text/plain": [
              "(313, 64)"
            ]
          },
          "metadata": {},
          "execution_count": 4
        }
      ]
    },
    {
      "cell_type": "code",
      "source": [
        "base_5[['Номер открытки', 'Статус (распределено, в процессе, завершено, проблема)']].head()"
      ],
      "metadata": {
        "colab": {
          "base_uri": "https://localhost:8080/",
          "height": 206
        },
        "id": "Tun8Sbw4wZI9",
        "outputId": "bf6a8996-4c03-44c2-acce-a0993f4c16b7"
      },
      "execution_count": 5,
      "outputs": [
        {
          "output_type": "execute_result",
          "data": {
            "text/plain": [
              "      Номер открытки Статус (распределено, в процессе, завершено, проблема)\n",
              "3554          228356                                   Ожидает проверки    \n",
              "3555          228357                                   Ожидает проверки    \n",
              "3556          228358                                   Ожидает проверки    \n",
              "3557          228359                                   Ожидает проверки    \n",
              "3558          228360                                   Ожидает проверки    "
            ],
            "text/html": [
              "\n",
              "  <div id=\"df-99705abb-1c29-4a7b-9d40-bac753f73707\">\n",
              "    <div class=\"colab-df-container\">\n",
              "      <div>\n",
              "<style scoped>\n",
              "    .dataframe tbody tr th:only-of-type {\n",
              "        vertical-align: middle;\n",
              "    }\n",
              "\n",
              "    .dataframe tbody tr th {\n",
              "        vertical-align: top;\n",
              "    }\n",
              "\n",
              "    .dataframe thead th {\n",
              "        text-align: right;\n",
              "    }\n",
              "</style>\n",
              "<table border=\"1\" class=\"dataframe\">\n",
              "  <thead>\n",
              "    <tr style=\"text-align: right;\">\n",
              "      <th></th>\n",
              "      <th>Номер открытки</th>\n",
              "      <th>Статус (распределено, в процессе, завершено, проблема)</th>\n",
              "    </tr>\n",
              "  </thead>\n",
              "  <tbody>\n",
              "    <tr>\n",
              "      <th>3554</th>\n",
              "      <td>228356</td>\n",
              "      <td>Ожидает проверки</td>\n",
              "    </tr>\n",
              "    <tr>\n",
              "      <th>3555</th>\n",
              "      <td>228357</td>\n",
              "      <td>Ожидает проверки</td>\n",
              "    </tr>\n",
              "    <tr>\n",
              "      <th>3556</th>\n",
              "      <td>228358</td>\n",
              "      <td>Ожидает проверки</td>\n",
              "    </tr>\n",
              "    <tr>\n",
              "      <th>3557</th>\n",
              "      <td>228359</td>\n",
              "      <td>Ожидает проверки</td>\n",
              "    </tr>\n",
              "    <tr>\n",
              "      <th>3558</th>\n",
              "      <td>228360</td>\n",
              "      <td>Ожидает проверки</td>\n",
              "    </tr>\n",
              "  </tbody>\n",
              "</table>\n",
              "</div>\n",
              "      <button class=\"colab-df-convert\" onclick=\"convertToInteractive('df-99705abb-1c29-4a7b-9d40-bac753f73707')\"\n",
              "              title=\"Convert this dataframe to an interactive table.\"\n",
              "              style=\"display:none;\">\n",
              "        \n",
              "  <svg xmlns=\"http://www.w3.org/2000/svg\" height=\"24px\"viewBox=\"0 0 24 24\"\n",
              "       width=\"24px\">\n",
              "    <path d=\"M0 0h24v24H0V0z\" fill=\"none\"/>\n",
              "    <path d=\"M18.56 5.44l.94 2.06.94-2.06 2.06-.94-2.06-.94-.94-2.06-.94 2.06-2.06.94zm-11 1L8.5 8.5l.94-2.06 2.06-.94-2.06-.94L8.5 2.5l-.94 2.06-2.06.94zm10 10l.94 2.06.94-2.06 2.06-.94-2.06-.94-.94-2.06-.94 2.06-2.06.94z\"/><path d=\"M17.41 7.96l-1.37-1.37c-.4-.4-.92-.59-1.43-.59-.52 0-1.04.2-1.43.59L10.3 9.45l-7.72 7.72c-.78.78-.78 2.05 0 2.83L4 21.41c.39.39.9.59 1.41.59.51 0 1.02-.2 1.41-.59l7.78-7.78 2.81-2.81c.8-.78.8-2.07 0-2.86zM5.41 20L4 18.59l7.72-7.72 1.47 1.35L5.41 20z\"/>\n",
              "  </svg>\n",
              "      </button>\n",
              "      \n",
              "  <style>\n",
              "    .colab-df-container {\n",
              "      display:flex;\n",
              "      flex-wrap:wrap;\n",
              "      gap: 12px;\n",
              "    }\n",
              "\n",
              "    .colab-df-convert {\n",
              "      background-color: #E8F0FE;\n",
              "      border: none;\n",
              "      border-radius: 50%;\n",
              "      cursor: pointer;\n",
              "      display: none;\n",
              "      fill: #1967D2;\n",
              "      height: 32px;\n",
              "      padding: 0 0 0 0;\n",
              "      width: 32px;\n",
              "    }\n",
              "\n",
              "    .colab-df-convert:hover {\n",
              "      background-color: #E2EBFA;\n",
              "      box-shadow: 0px 1px 2px rgba(60, 64, 67, 0.3), 0px 1px 3px 1px rgba(60, 64, 67, 0.15);\n",
              "      fill: #174EA6;\n",
              "    }\n",
              "\n",
              "    [theme=dark] .colab-df-convert {\n",
              "      background-color: #3B4455;\n",
              "      fill: #D2E3FC;\n",
              "    }\n",
              "\n",
              "    [theme=dark] .colab-df-convert:hover {\n",
              "      background-color: #434B5C;\n",
              "      box-shadow: 0px 1px 3px 1px rgba(0, 0, 0, 0.15);\n",
              "      filter: drop-shadow(0px 1px 2px rgba(0, 0, 0, 0.3));\n",
              "      fill: #FFFFFF;\n",
              "    }\n",
              "  </style>\n",
              "\n",
              "      <script>\n",
              "        const buttonEl =\n",
              "          document.querySelector('#df-99705abb-1c29-4a7b-9d40-bac753f73707 button.colab-df-convert');\n",
              "        buttonEl.style.display =\n",
              "          google.colab.kernel.accessAllowed ? 'block' : 'none';\n",
              "\n",
              "        async function convertToInteractive(key) {\n",
              "          const element = document.querySelector('#df-99705abb-1c29-4a7b-9d40-bac753f73707');\n",
              "          const dataTable =\n",
              "            await google.colab.kernel.invokeFunction('convertToInteractive',\n",
              "                                                     [key], {});\n",
              "          if (!dataTable) return;\n",
              "\n",
              "          const docLinkHtml = 'Like what you see? Visit the ' +\n",
              "            '<a target=\"_blank\" href=https://colab.research.google.com/notebooks/data_table.ipynb>data table notebook</a>'\n",
              "            + ' to learn more about interactive tables.';\n",
              "          element.innerHTML = '';\n",
              "          dataTable['output_type'] = 'display_data';\n",
              "          await google.colab.output.renderOutput(dataTable, element);\n",
              "          const docLink = document.createElement('div');\n",
              "          docLink.innerHTML = docLinkHtml;\n",
              "          element.appendChild(docLink);\n",
              "        }\n",
              "      </script>\n",
              "    </div>\n",
              "  </div>\n",
              "  "
            ]
          },
          "metadata": {},
          "execution_count": 5
        }
      ]
    },
    {
      "cell_type": "code",
      "source": [
        "!pip install imagehash"
      ],
      "metadata": {
        "colab": {
          "base_uri": "https://localhost:8080/"
        },
        "id": "9Kj2a7bXEwcB",
        "outputId": "e5aebe69-4b4d-4dd4-bb11-b730239c6263"
      },
      "execution_count": 6,
      "outputs": [
        {
          "output_type": "stream",
          "name": "stdout",
          "text": [
            "Looking in indexes: https://pypi.org/simple, https://us-python.pkg.dev/colab-wheels/public/simple/\n",
            "Collecting imagehash\n",
            "  Downloading ImageHash-4.3.1-py2.py3-none-any.whl (296 kB)\n",
            "\u001b[2K     \u001b[90m━━━━━━━━━━━━━━━━━━━━━━━━━━━━━━━━━━━━━━━\u001b[0m \u001b[32m296.5/296.5 kB\u001b[0m \u001b[31m5.7 MB/s\u001b[0m eta \u001b[36m0:00:00\u001b[0m\n",
            "\u001b[?25hRequirement already satisfied: PyWavelets in /usr/local/lib/python3.10/dist-packages (from imagehash) (1.4.1)\n",
            "Requirement already satisfied: numpy in /usr/local/lib/python3.10/dist-packages (from imagehash) (1.22.4)\n",
            "Requirement already satisfied: pillow in /usr/local/lib/python3.10/dist-packages (from imagehash) (8.4.0)\n",
            "Requirement already satisfied: scipy in /usr/local/lib/python3.10/dist-packages (from imagehash) (1.10.1)\n",
            "Installing collected packages: imagehash\n",
            "Successfully installed imagehash-4.3.1\n"
          ]
        }
      ]
    },
    {
      "cell_type": "code",
      "source": [
        "from bs4 import BeautifulSoup\n",
        "import imagehash\n",
        "from PIL import Image"
      ],
      "metadata": {
        "id": "eKNpfy7yEXXH"
      },
      "execution_count": 7,
      "outputs": []
    },
    {
      "cell_type": "code",
      "source": [
        "def download(url_1, url_2):\n",
        "    pic_1_content = requests.get(url_1).content\n",
        "    pic_2_content = requests.get(url_2).content\n",
        "    \n",
        "    with open ('pic_1.jpg', 'wb') as pic_1_file:\n",
        "        pic_1_file.write(pic_1_content)\n",
        "    with open ('pic_2.jpg', 'wb') as pic_2_file:\n",
        "        pic_2_file.write(pic_2_content)"
      ],
      "metadata": {
        "id": "weKKpXdKEa6h"
      },
      "execution_count": 8,
      "outputs": []
    },
    {
      "cell_type": "code",
      "source": [
        "def get_hashes():\n",
        "    pic_1 = Image.open('pic_1.jpg')\n",
        "    hash_1 = imagehash.dhash(pic_1)\n",
        "    pic_2 = Image.open('pic_2.jpg')\n",
        "    hash_2 = imagehash.dhash(pic_2)\n",
        "    return str(hash_1), str(hash_2)"
      ],
      "metadata": {
        "id": "KdOOQ8irEa9y"
      },
      "execution_count": 9,
      "outputs": []
    },
    {
      "cell_type": "code",
      "source": [
        "def calculate(row):\n",
        "    url_1 = row['Pic_url_1']\n",
        "    url_2 = row['Pic_url_2']\n",
        "    # print(url_1, '\\n', url_2)\n",
        "\n",
        "    try:\n",
        "      download(url_1, url_2)\n",
        "      return get_hashes() \n",
        "    except:\n",
        "      print(row['Номер открытки'])\n",
        "      raise\n",
        "      # return 'error', 'error'"
      ],
      "metadata": {
        "id": "NGVWtaAPEbAo"
      },
      "execution_count": 10,
      "outputs": []
    },
    {
      "cell_type": "code",
      "source": [
        "from tqdm import tqdm\n",
        "tqdm.pandas()"
      ],
      "metadata": {
        "id": "k8-jxichEbDq"
      },
      "execution_count": 11,
      "outputs": []
    },
    {
      "cell_type": "markdown",
      "source": [
        "Вычисление хешей"
      ],
      "metadata": {
        "id": "35Yz8JLBTRjS"
      }
    },
    {
      "cell_type": "code",
      "source": [
        "base_5['calc_res'] = base_5.progress_apply(calculate, axis=1)"
      ],
      "metadata": {
        "colab": {
          "base_uri": "https://localhost:8080/"
        },
        "id": "g9pcjlQ5Em1H",
        "outputId": "89408aa5-309d-4bb7-ba61-1d23328e7690"
      },
      "execution_count": 12,
      "outputs": [
        {
          "output_type": "stream",
          "name": "stderr",
          "text": [
            "100%|██████████| 313/313 [18:01<00:00,  3.46s/it]\n"
          ]
        }
      ]
    },
    {
      "cell_type": "markdown",
      "source": [
        "Обработка результатов"
      ],
      "metadata": {
        "id": "yIHnpST1TTx4"
      }
    },
    {
      "cell_type": "code",
      "source": [
        "base_5['base'] = 5\n",
        "base_5 = base_5[['base', 'Номер открытки', 'Pic_url_1', 'Pic_url_2', 'calc_res']]\n",
        "base_5['hash_1'] = base_5['calc_res'].apply(lambda x: x[0])\n",
        "base_5['hash_2'] = base_5['calc_res'].apply(lambda x: x[1])\n",
        "base_5.head()"
      ],
      "metadata": {
        "colab": {
          "base_uri": "https://localhost:8080/",
          "height": 587
        },
        "id": "bOPNYFTBTGO4",
        "outputId": "7ca40c07-76a0-472e-9770-cc91303524db"
      },
      "execution_count": 13,
      "outputs": [
        {
          "output_type": "stream",
          "name": "stderr",
          "text": [
            "<ipython-input-13-35d703f382a1>:3: SettingWithCopyWarning: \n",
            "A value is trying to be set on a copy of a slice from a DataFrame.\n",
            "Try using .loc[row_indexer,col_indexer] = value instead\n",
            "\n",
            "See the caveats in the documentation: https://pandas.pydata.org/pandas-docs/stable/user_guide/indexing.html#returning-a-view-versus-a-copy\n",
            "  base_5['hash_1'] = base_5['calc_res'].apply(lambda x: x[0])\n",
            "<ipython-input-13-35d703f382a1>:4: SettingWithCopyWarning: \n",
            "A value is trying to be set on a copy of a slice from a DataFrame.\n",
            "Try using .loc[row_indexer,col_indexer] = value instead\n",
            "\n",
            "See the caveats in the documentation: https://pandas.pydata.org/pandas-docs/stable/user_guide/indexing.html#returning-a-view-versus-a-copy\n",
            "  base_5['hash_2'] = base_5['calc_res'].apply(lambda x: x[1])\n"
          ]
        },
        {
          "output_type": "execute_result",
          "data": {
            "text/plain": [
              "      base  Номер открытки                                          Pic_url_1  \\\n",
              "3554     5          228356  https://storage.yandexcloud.net/postcards-open...   \n",
              "3555     5          228357  https://storage.yandexcloud.net/postcards-open...   \n",
              "3556     5          228358  https://storage.yandexcloud.net/postcards-open...   \n",
              "3557     5          228359  https://storage.yandexcloud.net/postcards-open...   \n",
              "3558     5          228360  https://storage.yandexcloud.net/postcards-open...   \n",
              "\n",
              "                                              Pic_url_2  \\\n",
              "3554  https://storage.yandexcloud.net/postcards-open...   \n",
              "3555  https://storage.yandexcloud.net/postcards-open...   \n",
              "3556  https://storage.yandexcloud.net/postcards-open...   \n",
              "3557  https://storage.yandexcloud.net/postcards-open...   \n",
              "3558  https://storage.yandexcloud.net/postcards-open...   \n",
              "\n",
              "                                  calc_res            hash_1            hash_2  \n",
              "3554  (90cce6f0a4ecd6b0, b089ca899adae0f2)  90cce6f0a4ecd6b0  b089ca899adae0f2  \n",
              "3555  (9a89828717139386, 9686aeaaa2aeaa8a)  9a89828717139386  9686aeaaa2aeaa8a  \n",
              "3556  (bea29c9c7991c78e, bed1e1e8e8a88a8a)  bea29c9c7991c78e  bed1e1e8e8a88a8a  \n",
              "3557  (e3e3e3d3a3e373f7, a4c1e1a998bcd8c8)  e3e3e3d3a3e373f7  a4c1e1a998bcd8c8  \n",
              "3558  (9ad0e0a33bb8fcbb, 989c989c98f4d6fa)  9ad0e0a33bb8fcbb  989c989c98f4d6fa  "
            ],
            "text/html": [
              "\n",
              "  <div id=\"df-6eeb5aab-b35e-4fa4-bbee-95c5aa4e5e48\">\n",
              "    <div class=\"colab-df-container\">\n",
              "      <div>\n",
              "<style scoped>\n",
              "    .dataframe tbody tr th:only-of-type {\n",
              "        vertical-align: middle;\n",
              "    }\n",
              "\n",
              "    .dataframe tbody tr th {\n",
              "        vertical-align: top;\n",
              "    }\n",
              "\n",
              "    .dataframe thead th {\n",
              "        text-align: right;\n",
              "    }\n",
              "</style>\n",
              "<table border=\"1\" class=\"dataframe\">\n",
              "  <thead>\n",
              "    <tr style=\"text-align: right;\">\n",
              "      <th></th>\n",
              "      <th>base</th>\n",
              "      <th>Номер открытки</th>\n",
              "      <th>Pic_url_1</th>\n",
              "      <th>Pic_url_2</th>\n",
              "      <th>calc_res</th>\n",
              "      <th>hash_1</th>\n",
              "      <th>hash_2</th>\n",
              "    </tr>\n",
              "  </thead>\n",
              "  <tbody>\n",
              "    <tr>\n",
              "      <th>3554</th>\n",
              "      <td>5</td>\n",
              "      <td>228356</td>\n",
              "      <td>https://storage.yandexcloud.net/postcards-open...</td>\n",
              "      <td>https://storage.yandexcloud.net/postcards-open...</td>\n",
              "      <td>(90cce6f0a4ecd6b0, b089ca899adae0f2)</td>\n",
              "      <td>90cce6f0a4ecd6b0</td>\n",
              "      <td>b089ca899adae0f2</td>\n",
              "    </tr>\n",
              "    <tr>\n",
              "      <th>3555</th>\n",
              "      <td>5</td>\n",
              "      <td>228357</td>\n",
              "      <td>https://storage.yandexcloud.net/postcards-open...</td>\n",
              "      <td>https://storage.yandexcloud.net/postcards-open...</td>\n",
              "      <td>(9a89828717139386, 9686aeaaa2aeaa8a)</td>\n",
              "      <td>9a89828717139386</td>\n",
              "      <td>9686aeaaa2aeaa8a</td>\n",
              "    </tr>\n",
              "    <tr>\n",
              "      <th>3556</th>\n",
              "      <td>5</td>\n",
              "      <td>228358</td>\n",
              "      <td>https://storage.yandexcloud.net/postcards-open...</td>\n",
              "      <td>https://storage.yandexcloud.net/postcards-open...</td>\n",
              "      <td>(bea29c9c7991c78e, bed1e1e8e8a88a8a)</td>\n",
              "      <td>bea29c9c7991c78e</td>\n",
              "      <td>bed1e1e8e8a88a8a</td>\n",
              "    </tr>\n",
              "    <tr>\n",
              "      <th>3557</th>\n",
              "      <td>5</td>\n",
              "      <td>228359</td>\n",
              "      <td>https://storage.yandexcloud.net/postcards-open...</td>\n",
              "      <td>https://storage.yandexcloud.net/postcards-open...</td>\n",
              "      <td>(e3e3e3d3a3e373f7, a4c1e1a998bcd8c8)</td>\n",
              "      <td>e3e3e3d3a3e373f7</td>\n",
              "      <td>a4c1e1a998bcd8c8</td>\n",
              "    </tr>\n",
              "    <tr>\n",
              "      <th>3558</th>\n",
              "      <td>5</td>\n",
              "      <td>228360</td>\n",
              "      <td>https://storage.yandexcloud.net/postcards-open...</td>\n",
              "      <td>https://storage.yandexcloud.net/postcards-open...</td>\n",
              "      <td>(9ad0e0a33bb8fcbb, 989c989c98f4d6fa)</td>\n",
              "      <td>9ad0e0a33bb8fcbb</td>\n",
              "      <td>989c989c98f4d6fa</td>\n",
              "    </tr>\n",
              "  </tbody>\n",
              "</table>\n",
              "</div>\n",
              "      <button class=\"colab-df-convert\" onclick=\"convertToInteractive('df-6eeb5aab-b35e-4fa4-bbee-95c5aa4e5e48')\"\n",
              "              title=\"Convert this dataframe to an interactive table.\"\n",
              "              style=\"display:none;\">\n",
              "        \n",
              "  <svg xmlns=\"http://www.w3.org/2000/svg\" height=\"24px\"viewBox=\"0 0 24 24\"\n",
              "       width=\"24px\">\n",
              "    <path d=\"M0 0h24v24H0V0z\" fill=\"none\"/>\n",
              "    <path d=\"M18.56 5.44l.94 2.06.94-2.06 2.06-.94-2.06-.94-.94-2.06-.94 2.06-2.06.94zm-11 1L8.5 8.5l.94-2.06 2.06-.94-2.06-.94L8.5 2.5l-.94 2.06-2.06.94zm10 10l.94 2.06.94-2.06 2.06-.94-2.06-.94-.94-2.06-.94 2.06-2.06.94z\"/><path d=\"M17.41 7.96l-1.37-1.37c-.4-.4-.92-.59-1.43-.59-.52 0-1.04.2-1.43.59L10.3 9.45l-7.72 7.72c-.78.78-.78 2.05 0 2.83L4 21.41c.39.39.9.59 1.41.59.51 0 1.02-.2 1.41-.59l7.78-7.78 2.81-2.81c.8-.78.8-2.07 0-2.86zM5.41 20L4 18.59l7.72-7.72 1.47 1.35L5.41 20z\"/>\n",
              "  </svg>\n",
              "      </button>\n",
              "      \n",
              "  <style>\n",
              "    .colab-df-container {\n",
              "      display:flex;\n",
              "      flex-wrap:wrap;\n",
              "      gap: 12px;\n",
              "    }\n",
              "\n",
              "    .colab-df-convert {\n",
              "      background-color: #E8F0FE;\n",
              "      border: none;\n",
              "      border-radius: 50%;\n",
              "      cursor: pointer;\n",
              "      display: none;\n",
              "      fill: #1967D2;\n",
              "      height: 32px;\n",
              "      padding: 0 0 0 0;\n",
              "      width: 32px;\n",
              "    }\n",
              "\n",
              "    .colab-df-convert:hover {\n",
              "      background-color: #E2EBFA;\n",
              "      box-shadow: 0px 1px 2px rgba(60, 64, 67, 0.3), 0px 1px 3px 1px rgba(60, 64, 67, 0.15);\n",
              "      fill: #174EA6;\n",
              "    }\n",
              "\n",
              "    [theme=dark] .colab-df-convert {\n",
              "      background-color: #3B4455;\n",
              "      fill: #D2E3FC;\n",
              "    }\n",
              "\n",
              "    [theme=dark] .colab-df-convert:hover {\n",
              "      background-color: #434B5C;\n",
              "      box-shadow: 0px 1px 3px 1px rgba(0, 0, 0, 0.15);\n",
              "      filter: drop-shadow(0px 1px 2px rgba(0, 0, 0, 0.3));\n",
              "      fill: #FFFFFF;\n",
              "    }\n",
              "  </style>\n",
              "\n",
              "      <script>\n",
              "        const buttonEl =\n",
              "          document.querySelector('#df-6eeb5aab-b35e-4fa4-bbee-95c5aa4e5e48 button.colab-df-convert');\n",
              "        buttonEl.style.display =\n",
              "          google.colab.kernel.accessAllowed ? 'block' : 'none';\n",
              "\n",
              "        async function convertToInteractive(key) {\n",
              "          const element = document.querySelector('#df-6eeb5aab-b35e-4fa4-bbee-95c5aa4e5e48');\n",
              "          const dataTable =\n",
              "            await google.colab.kernel.invokeFunction('convertToInteractive',\n",
              "                                                     [key], {});\n",
              "          if (!dataTable) return;\n",
              "\n",
              "          const docLinkHtml = 'Like what you see? Visit the ' +\n",
              "            '<a target=\"_blank\" href=https://colab.research.google.com/notebooks/data_table.ipynb>data table notebook</a>'\n",
              "            + ' to learn more about interactive tables.';\n",
              "          element.innerHTML = '';\n",
              "          dataTable['output_type'] = 'display_data';\n",
              "          await google.colab.output.renderOutput(dataTable, element);\n",
              "          const docLink = document.createElement('div');\n",
              "          docLink.innerHTML = docLinkHtml;\n",
              "          element.appendChild(docLink);\n",
              "        }\n",
              "      </script>\n",
              "    </div>\n",
              "  </div>\n",
              "  "
            ]
          },
          "metadata": {},
          "execution_count": 13
        }
      ]
    },
    {
      "cell_type": "markdown",
      "source": [
        "Проверка, что посчитались все хеши"
      ],
      "metadata": {
        "id": "ji3zCAvxl75M"
      }
    },
    {
      "cell_type": "code",
      "source": [
        "base_5[['hash_1', 'hash_2']].isna().sum()"
      ],
      "metadata": {
        "colab": {
          "base_uri": "https://localhost:8080/"
        },
        "id": "IqxEb29gTfCk",
        "outputId": "539966a4-9ddc-4460-909f-0691d189a2f4"
      },
      "execution_count": 14,
      "outputs": [
        {
          "output_type": "execute_result",
          "data": {
            "text/plain": [
              "hash_1    0\n",
              "hash_2    0\n",
              "dtype: int64"
            ]
          },
          "metadata": {},
          "execution_count": 14
        }
      ]
    },
    {
      "cell_type": "code",
      "source": [
        "base_5[(base_5['hash_1'] == 'error') | (base_5['hash_2'] == 'error')]"
      ],
      "metadata": {
        "colab": {
          "base_uri": "https://localhost:8080/",
          "height": 49
        },
        "id": "DDdUSHziTnoq",
        "outputId": "e8e4238f-a6e8-4ed5-e189-b3f5e71be211"
      },
      "execution_count": 15,
      "outputs": [
        {
          "output_type": "execute_result",
          "data": {
            "text/plain": [
              "Empty DataFrame\n",
              "Columns: [base, Номер открытки, Pic_url_1, Pic_url_2, calc_res, hash_1, hash_2]\n",
              "Index: []"
            ],
            "text/html": [
              "\n",
              "  <div id=\"df-f9222fc0-495d-4ec5-9453-9d5991d30fe8\">\n",
              "    <div class=\"colab-df-container\">\n",
              "      <div>\n",
              "<style scoped>\n",
              "    .dataframe tbody tr th:only-of-type {\n",
              "        vertical-align: middle;\n",
              "    }\n",
              "\n",
              "    .dataframe tbody tr th {\n",
              "        vertical-align: top;\n",
              "    }\n",
              "\n",
              "    .dataframe thead th {\n",
              "        text-align: right;\n",
              "    }\n",
              "</style>\n",
              "<table border=\"1\" class=\"dataframe\">\n",
              "  <thead>\n",
              "    <tr style=\"text-align: right;\">\n",
              "      <th></th>\n",
              "      <th>base</th>\n",
              "      <th>Номер открытки</th>\n",
              "      <th>Pic_url_1</th>\n",
              "      <th>Pic_url_2</th>\n",
              "      <th>calc_res</th>\n",
              "      <th>hash_1</th>\n",
              "      <th>hash_2</th>\n",
              "    </tr>\n",
              "  </thead>\n",
              "  <tbody>\n",
              "  </tbody>\n",
              "</table>\n",
              "</div>\n",
              "      <button class=\"colab-df-convert\" onclick=\"convertToInteractive('df-f9222fc0-495d-4ec5-9453-9d5991d30fe8')\"\n",
              "              title=\"Convert this dataframe to an interactive table.\"\n",
              "              style=\"display:none;\">\n",
              "        \n",
              "  <svg xmlns=\"http://www.w3.org/2000/svg\" height=\"24px\"viewBox=\"0 0 24 24\"\n",
              "       width=\"24px\">\n",
              "    <path d=\"M0 0h24v24H0V0z\" fill=\"none\"/>\n",
              "    <path d=\"M18.56 5.44l.94 2.06.94-2.06 2.06-.94-2.06-.94-.94-2.06-.94 2.06-2.06.94zm-11 1L8.5 8.5l.94-2.06 2.06-.94-2.06-.94L8.5 2.5l-.94 2.06-2.06.94zm10 10l.94 2.06.94-2.06 2.06-.94-2.06-.94-.94-2.06-.94 2.06-2.06.94z\"/><path d=\"M17.41 7.96l-1.37-1.37c-.4-.4-.92-.59-1.43-.59-.52 0-1.04.2-1.43.59L10.3 9.45l-7.72 7.72c-.78.78-.78 2.05 0 2.83L4 21.41c.39.39.9.59 1.41.59.51 0 1.02-.2 1.41-.59l7.78-7.78 2.81-2.81c.8-.78.8-2.07 0-2.86zM5.41 20L4 18.59l7.72-7.72 1.47 1.35L5.41 20z\"/>\n",
              "  </svg>\n",
              "      </button>\n",
              "      \n",
              "  <style>\n",
              "    .colab-df-container {\n",
              "      display:flex;\n",
              "      flex-wrap:wrap;\n",
              "      gap: 12px;\n",
              "    }\n",
              "\n",
              "    .colab-df-convert {\n",
              "      background-color: #E8F0FE;\n",
              "      border: none;\n",
              "      border-radius: 50%;\n",
              "      cursor: pointer;\n",
              "      display: none;\n",
              "      fill: #1967D2;\n",
              "      height: 32px;\n",
              "      padding: 0 0 0 0;\n",
              "      width: 32px;\n",
              "    }\n",
              "\n",
              "    .colab-df-convert:hover {\n",
              "      background-color: #E2EBFA;\n",
              "      box-shadow: 0px 1px 2px rgba(60, 64, 67, 0.3), 0px 1px 3px 1px rgba(60, 64, 67, 0.15);\n",
              "      fill: #174EA6;\n",
              "    }\n",
              "\n",
              "    [theme=dark] .colab-df-convert {\n",
              "      background-color: #3B4455;\n",
              "      fill: #D2E3FC;\n",
              "    }\n",
              "\n",
              "    [theme=dark] .colab-df-convert:hover {\n",
              "      background-color: #434B5C;\n",
              "      box-shadow: 0px 1px 3px 1px rgba(0, 0, 0, 0.15);\n",
              "      filter: drop-shadow(0px 1px 2px rgba(0, 0, 0, 0.3));\n",
              "      fill: #FFFFFF;\n",
              "    }\n",
              "  </style>\n",
              "\n",
              "      <script>\n",
              "        const buttonEl =\n",
              "          document.querySelector('#df-f9222fc0-495d-4ec5-9453-9d5991d30fe8 button.colab-df-convert');\n",
              "        buttonEl.style.display =\n",
              "          google.colab.kernel.accessAllowed ? 'block' : 'none';\n",
              "\n",
              "        async function convertToInteractive(key) {\n",
              "          const element = document.querySelector('#df-f9222fc0-495d-4ec5-9453-9d5991d30fe8');\n",
              "          const dataTable =\n",
              "            await google.colab.kernel.invokeFunction('convertToInteractive',\n",
              "                                                     [key], {});\n",
              "          if (!dataTable) return;\n",
              "\n",
              "          const docLinkHtml = 'Like what you see? Visit the ' +\n",
              "            '<a target=\"_blank\" href=https://colab.research.google.com/notebooks/data_table.ipynb>data table notebook</a>'\n",
              "            + ' to learn more about interactive tables.';\n",
              "          element.innerHTML = '';\n",
              "          dataTable['output_type'] = 'display_data';\n",
              "          await google.colab.output.renderOutput(dataTable, element);\n",
              "          const docLink = document.createElement('div');\n",
              "          docLink.innerHTML = docLinkHtml;\n",
              "          element.appendChild(docLink);\n",
              "        }\n",
              "      </script>\n",
              "    </div>\n",
              "  </div>\n",
              "  "
            ]
          },
          "metadata": {},
          "execution_count": 15
        }
      ]
    },
    {
      "cell_type": "markdown",
      "source": [
        "Приводим к виду одна строка = одна картинка"
      ],
      "metadata": {
        "id": "aKu3_mi5jPzh"
      }
    },
    {
      "cell_type": "code",
      "source": [
        "base_5 = base_5.drop('calc_res', axis=1)\n",
        "temp = base_5.copy()\n",
        "temp = temp.drop(['Pic_url_1', 'hash_1'], axis=1).rename(\n",
        "    columns={'Pic_url_2': 'Pic_url', 'hash_2': 'hash'})\n",
        "temp['Pic'] = 2\n",
        "base_5 = base_5.drop(['Pic_url_2', 'hash_2'], axis=1).rename(\n",
        "    columns={'Pic_url_1': 'Pic_url', 'hash_1': 'hash'})\n",
        "base_5['Pic'] = 1\n",
        "base_5 = pd.concat([base_5, temp])\n",
        "base_5.head()"
      ],
      "metadata": {
        "colab": {
          "base_uri": "https://localhost:8080/",
          "height": 206
        },
        "id": "yz3rAlJrjUYs",
        "outputId": "49f4ddd6-885a-4c01-ef0f-f2ac21b4ff7f"
      },
      "execution_count": 16,
      "outputs": [
        {
          "output_type": "execute_result",
          "data": {
            "text/plain": [
              "      base  Номер открытки                                            Pic_url  \\\n",
              "3554     5          228356  https://storage.yandexcloud.net/postcards-open...   \n",
              "3555     5          228357  https://storage.yandexcloud.net/postcards-open...   \n",
              "3556     5          228358  https://storage.yandexcloud.net/postcards-open...   \n",
              "3557     5          228359  https://storage.yandexcloud.net/postcards-open...   \n",
              "3558     5          228360  https://storage.yandexcloud.net/postcards-open...   \n",
              "\n",
              "                  hash  Pic  \n",
              "3554  90cce6f0a4ecd6b0    1  \n",
              "3555  9a89828717139386    1  \n",
              "3556  bea29c9c7991c78e    1  \n",
              "3557  e3e3e3d3a3e373f7    1  \n",
              "3558  9ad0e0a33bb8fcbb    1  "
            ],
            "text/html": [
              "\n",
              "  <div id=\"df-d9a8398b-c255-4488-8728-2775acfbb498\">\n",
              "    <div class=\"colab-df-container\">\n",
              "      <div>\n",
              "<style scoped>\n",
              "    .dataframe tbody tr th:only-of-type {\n",
              "        vertical-align: middle;\n",
              "    }\n",
              "\n",
              "    .dataframe tbody tr th {\n",
              "        vertical-align: top;\n",
              "    }\n",
              "\n",
              "    .dataframe thead th {\n",
              "        text-align: right;\n",
              "    }\n",
              "</style>\n",
              "<table border=\"1\" class=\"dataframe\">\n",
              "  <thead>\n",
              "    <tr style=\"text-align: right;\">\n",
              "      <th></th>\n",
              "      <th>base</th>\n",
              "      <th>Номер открытки</th>\n",
              "      <th>Pic_url</th>\n",
              "      <th>hash</th>\n",
              "      <th>Pic</th>\n",
              "    </tr>\n",
              "  </thead>\n",
              "  <tbody>\n",
              "    <tr>\n",
              "      <th>3554</th>\n",
              "      <td>5</td>\n",
              "      <td>228356</td>\n",
              "      <td>https://storage.yandexcloud.net/postcards-open...</td>\n",
              "      <td>90cce6f0a4ecd6b0</td>\n",
              "      <td>1</td>\n",
              "    </tr>\n",
              "    <tr>\n",
              "      <th>3555</th>\n",
              "      <td>5</td>\n",
              "      <td>228357</td>\n",
              "      <td>https://storage.yandexcloud.net/postcards-open...</td>\n",
              "      <td>9a89828717139386</td>\n",
              "      <td>1</td>\n",
              "    </tr>\n",
              "    <tr>\n",
              "      <th>3556</th>\n",
              "      <td>5</td>\n",
              "      <td>228358</td>\n",
              "      <td>https://storage.yandexcloud.net/postcards-open...</td>\n",
              "      <td>bea29c9c7991c78e</td>\n",
              "      <td>1</td>\n",
              "    </tr>\n",
              "    <tr>\n",
              "      <th>3557</th>\n",
              "      <td>5</td>\n",
              "      <td>228359</td>\n",
              "      <td>https://storage.yandexcloud.net/postcards-open...</td>\n",
              "      <td>e3e3e3d3a3e373f7</td>\n",
              "      <td>1</td>\n",
              "    </tr>\n",
              "    <tr>\n",
              "      <th>3558</th>\n",
              "      <td>5</td>\n",
              "      <td>228360</td>\n",
              "      <td>https://storage.yandexcloud.net/postcards-open...</td>\n",
              "      <td>9ad0e0a33bb8fcbb</td>\n",
              "      <td>1</td>\n",
              "    </tr>\n",
              "  </tbody>\n",
              "</table>\n",
              "</div>\n",
              "      <button class=\"colab-df-convert\" onclick=\"convertToInteractive('df-d9a8398b-c255-4488-8728-2775acfbb498')\"\n",
              "              title=\"Convert this dataframe to an interactive table.\"\n",
              "              style=\"display:none;\">\n",
              "        \n",
              "  <svg xmlns=\"http://www.w3.org/2000/svg\" height=\"24px\"viewBox=\"0 0 24 24\"\n",
              "       width=\"24px\">\n",
              "    <path d=\"M0 0h24v24H0V0z\" fill=\"none\"/>\n",
              "    <path d=\"M18.56 5.44l.94 2.06.94-2.06 2.06-.94-2.06-.94-.94-2.06-.94 2.06-2.06.94zm-11 1L8.5 8.5l.94-2.06 2.06-.94-2.06-.94L8.5 2.5l-.94 2.06-2.06.94zm10 10l.94 2.06.94-2.06 2.06-.94-2.06-.94-.94-2.06-.94 2.06-2.06.94z\"/><path d=\"M17.41 7.96l-1.37-1.37c-.4-.4-.92-.59-1.43-.59-.52 0-1.04.2-1.43.59L10.3 9.45l-7.72 7.72c-.78.78-.78 2.05 0 2.83L4 21.41c.39.39.9.59 1.41.59.51 0 1.02-.2 1.41-.59l7.78-7.78 2.81-2.81c.8-.78.8-2.07 0-2.86zM5.41 20L4 18.59l7.72-7.72 1.47 1.35L5.41 20z\"/>\n",
              "  </svg>\n",
              "      </button>\n",
              "      \n",
              "  <style>\n",
              "    .colab-df-container {\n",
              "      display:flex;\n",
              "      flex-wrap:wrap;\n",
              "      gap: 12px;\n",
              "    }\n",
              "\n",
              "    .colab-df-convert {\n",
              "      background-color: #E8F0FE;\n",
              "      border: none;\n",
              "      border-radius: 50%;\n",
              "      cursor: pointer;\n",
              "      display: none;\n",
              "      fill: #1967D2;\n",
              "      height: 32px;\n",
              "      padding: 0 0 0 0;\n",
              "      width: 32px;\n",
              "    }\n",
              "\n",
              "    .colab-df-convert:hover {\n",
              "      background-color: #E2EBFA;\n",
              "      box-shadow: 0px 1px 2px rgba(60, 64, 67, 0.3), 0px 1px 3px 1px rgba(60, 64, 67, 0.15);\n",
              "      fill: #174EA6;\n",
              "    }\n",
              "\n",
              "    [theme=dark] .colab-df-convert {\n",
              "      background-color: #3B4455;\n",
              "      fill: #D2E3FC;\n",
              "    }\n",
              "\n",
              "    [theme=dark] .colab-df-convert:hover {\n",
              "      background-color: #434B5C;\n",
              "      box-shadow: 0px 1px 3px 1px rgba(0, 0, 0, 0.15);\n",
              "      filter: drop-shadow(0px 1px 2px rgba(0, 0, 0, 0.3));\n",
              "      fill: #FFFFFF;\n",
              "    }\n",
              "  </style>\n",
              "\n",
              "      <script>\n",
              "        const buttonEl =\n",
              "          document.querySelector('#df-d9a8398b-c255-4488-8728-2775acfbb498 button.colab-df-convert');\n",
              "        buttonEl.style.display =\n",
              "          google.colab.kernel.accessAllowed ? 'block' : 'none';\n",
              "\n",
              "        async function convertToInteractive(key) {\n",
              "          const element = document.querySelector('#df-d9a8398b-c255-4488-8728-2775acfbb498');\n",
              "          const dataTable =\n",
              "            await google.colab.kernel.invokeFunction('convertToInteractive',\n",
              "                                                     [key], {});\n",
              "          if (!dataTable) return;\n",
              "\n",
              "          const docLinkHtml = 'Like what you see? Visit the ' +\n",
              "            '<a target=\"_blank\" href=https://colab.research.google.com/notebooks/data_table.ipynb>data table notebook</a>'\n",
              "            + ' to learn more about interactive tables.';\n",
              "          element.innerHTML = '';\n",
              "          dataTable['output_type'] = 'display_data';\n",
              "          await google.colab.output.renderOutput(dataTable, element);\n",
              "          const docLink = document.createElement('div');\n",
              "          docLink.innerHTML = docLinkHtml;\n",
              "          element.appendChild(docLink);\n",
              "        }\n",
              "      </script>\n",
              "    </div>\n",
              "  </div>\n",
              "  "
            ]
          },
          "metadata": {},
          "execution_count": 16
        }
      ]
    },
    {
      "cell_type": "code",
      "source": [
        "base_5.shape"
      ],
      "metadata": {
        "colab": {
          "base_uri": "https://localhost:8080/"
        },
        "id": "uJSV3ihR8I0-",
        "outputId": "b8836061-d5b1-4d43-becd-08aa1db8de23"
      },
      "execution_count": 17,
      "outputs": [
        {
          "output_type": "execute_result",
          "data": {
            "text/plain": [
              "(626, 5)"
            ]
          },
          "metadata": {},
          "execution_count": 17
        }
      ]
    },
    {
      "cell_type": "code",
      "source": [
        "base_5['Pic'].value_counts()"
      ],
      "metadata": {
        "colab": {
          "base_uri": "https://localhost:8080/"
        },
        "id": "kBvHc0GTj_Ca",
        "outputId": "a38c6704-6c04-48f9-f1f5-c4224375dd16"
      },
      "execution_count": 18,
      "outputs": [
        {
          "output_type": "execute_result",
          "data": {
            "text/plain": [
              "1    313\n",
              "2    313\n",
              "Name: Pic, dtype: int64"
            ]
          },
          "metadata": {},
          "execution_count": 18
        }
      ]
    },
    {
      "cell_type": "markdown",
      "source": [
        "Сохраняем"
      ],
      "metadata": {
        "id": "yx2JgzCZkjZJ"
      }
    },
    {
      "cell_type": "code",
      "source": [
        "base_5.to_csv('base_5_hashes_3.csv')"
      ],
      "metadata": {
        "id": "zYltD4YXEm4b"
      },
      "execution_count": 19,
      "outputs": []
    },
    {
      "cell_type": "code",
      "source": [
        "base_5 = pd.read_csv('base_5_hashes_1.csv', index_col=0)\n",
        "base_5.head()"
      ],
      "metadata": {
        "colab": {
          "base_uri": "https://localhost:8080/",
          "height": 206
        },
        "id": "NEwXnHDRIKhx",
        "outputId": "33586d7b-3c4b-4c79-bafe-b52c3876ef99"
      },
      "execution_count": null,
      "outputs": [
        {
          "output_type": "execute_result",
          "data": {
            "text/plain": [
              "      base  Номер открытки                                            Pic_url  \\\n",
              "2145     5          226947  https://storage.yandexcloud.net/postcards-open...   \n",
              "2146     5          226948  https://storage.yandexcloud.net/postcards-open...   \n",
              "2147     5          226949  https://storage.yandexcloud.net/postcards-open...   \n",
              "2148     5          226950  https://storage.yandexcloud.net/postcards-open...   \n",
              "2149     5          226951  https://storage.yandexcloud.net/postcards-open...   \n",
              "\n",
              "                  hash  Pic  \n",
              "2145  f2fafca4b0babcc0    1  \n",
              "2146  ca8a8282ce96bab2    1  \n",
              "2147  cc221a2e2a22464a    1  \n",
              "2148  dedcdee2c6f4eec6    1  \n",
              "2149  c0968e8a8a828af0    1  "
            ],
            "text/html": [
              "\n",
              "  <div id=\"df-5a8113cc-b6f3-4812-95ee-0607296892f5\">\n",
              "    <div class=\"colab-df-container\">\n",
              "      <div>\n",
              "<style scoped>\n",
              "    .dataframe tbody tr th:only-of-type {\n",
              "        vertical-align: middle;\n",
              "    }\n",
              "\n",
              "    .dataframe tbody tr th {\n",
              "        vertical-align: top;\n",
              "    }\n",
              "\n",
              "    .dataframe thead th {\n",
              "        text-align: right;\n",
              "    }\n",
              "</style>\n",
              "<table border=\"1\" class=\"dataframe\">\n",
              "  <thead>\n",
              "    <tr style=\"text-align: right;\">\n",
              "      <th></th>\n",
              "      <th>base</th>\n",
              "      <th>Номер открытки</th>\n",
              "      <th>Pic_url</th>\n",
              "      <th>hash</th>\n",
              "      <th>Pic</th>\n",
              "    </tr>\n",
              "  </thead>\n",
              "  <tbody>\n",
              "    <tr>\n",
              "      <th>2145</th>\n",
              "      <td>5</td>\n",
              "      <td>226947</td>\n",
              "      <td>https://storage.yandexcloud.net/postcards-open...</td>\n",
              "      <td>f2fafca4b0babcc0</td>\n",
              "      <td>1</td>\n",
              "    </tr>\n",
              "    <tr>\n",
              "      <th>2146</th>\n",
              "      <td>5</td>\n",
              "      <td>226948</td>\n",
              "      <td>https://storage.yandexcloud.net/postcards-open...</td>\n",
              "      <td>ca8a8282ce96bab2</td>\n",
              "      <td>1</td>\n",
              "    </tr>\n",
              "    <tr>\n",
              "      <th>2147</th>\n",
              "      <td>5</td>\n",
              "      <td>226949</td>\n",
              "      <td>https://storage.yandexcloud.net/postcards-open...</td>\n",
              "      <td>cc221a2e2a22464a</td>\n",
              "      <td>1</td>\n",
              "    </tr>\n",
              "    <tr>\n",
              "      <th>2148</th>\n",
              "      <td>5</td>\n",
              "      <td>226950</td>\n",
              "      <td>https://storage.yandexcloud.net/postcards-open...</td>\n",
              "      <td>dedcdee2c6f4eec6</td>\n",
              "      <td>1</td>\n",
              "    </tr>\n",
              "    <tr>\n",
              "      <th>2149</th>\n",
              "      <td>5</td>\n",
              "      <td>226951</td>\n",
              "      <td>https://storage.yandexcloud.net/postcards-open...</td>\n",
              "      <td>c0968e8a8a828af0</td>\n",
              "      <td>1</td>\n",
              "    </tr>\n",
              "  </tbody>\n",
              "</table>\n",
              "</div>\n",
              "      <button class=\"colab-df-convert\" onclick=\"convertToInteractive('df-5a8113cc-b6f3-4812-95ee-0607296892f5')\"\n",
              "              title=\"Convert this dataframe to an interactive table.\"\n",
              "              style=\"display:none;\">\n",
              "        \n",
              "  <svg xmlns=\"http://www.w3.org/2000/svg\" height=\"24px\"viewBox=\"0 0 24 24\"\n",
              "       width=\"24px\">\n",
              "    <path d=\"M0 0h24v24H0V0z\" fill=\"none\"/>\n",
              "    <path d=\"M18.56 5.44l.94 2.06.94-2.06 2.06-.94-2.06-.94-.94-2.06-.94 2.06-2.06.94zm-11 1L8.5 8.5l.94-2.06 2.06-.94-2.06-.94L8.5 2.5l-.94 2.06-2.06.94zm10 10l.94 2.06.94-2.06 2.06-.94-2.06-.94-.94-2.06-.94 2.06-2.06.94z\"/><path d=\"M17.41 7.96l-1.37-1.37c-.4-.4-.92-.59-1.43-.59-.52 0-1.04.2-1.43.59L10.3 9.45l-7.72 7.72c-.78.78-.78 2.05 0 2.83L4 21.41c.39.39.9.59 1.41.59.51 0 1.02-.2 1.41-.59l7.78-7.78 2.81-2.81c.8-.78.8-2.07 0-2.86zM5.41 20L4 18.59l7.72-7.72 1.47 1.35L5.41 20z\"/>\n",
              "  </svg>\n",
              "      </button>\n",
              "      \n",
              "  <style>\n",
              "    .colab-df-container {\n",
              "      display:flex;\n",
              "      flex-wrap:wrap;\n",
              "      gap: 12px;\n",
              "    }\n",
              "\n",
              "    .colab-df-convert {\n",
              "      background-color: #E8F0FE;\n",
              "      border: none;\n",
              "      border-radius: 50%;\n",
              "      cursor: pointer;\n",
              "      display: none;\n",
              "      fill: #1967D2;\n",
              "      height: 32px;\n",
              "      padding: 0 0 0 0;\n",
              "      width: 32px;\n",
              "    }\n",
              "\n",
              "    .colab-df-convert:hover {\n",
              "      background-color: #E2EBFA;\n",
              "      box-shadow: 0px 1px 2px rgba(60, 64, 67, 0.3), 0px 1px 3px 1px rgba(60, 64, 67, 0.15);\n",
              "      fill: #174EA6;\n",
              "    }\n",
              "\n",
              "    [theme=dark] .colab-df-convert {\n",
              "      background-color: #3B4455;\n",
              "      fill: #D2E3FC;\n",
              "    }\n",
              "\n",
              "    [theme=dark] .colab-df-convert:hover {\n",
              "      background-color: #434B5C;\n",
              "      box-shadow: 0px 1px 3px 1px rgba(0, 0, 0, 0.15);\n",
              "      filter: drop-shadow(0px 1px 2px rgba(0, 0, 0, 0.3));\n",
              "      fill: #FFFFFF;\n",
              "    }\n",
              "  </style>\n",
              "\n",
              "      <script>\n",
              "        const buttonEl =\n",
              "          document.querySelector('#df-5a8113cc-b6f3-4812-95ee-0607296892f5 button.colab-df-convert');\n",
              "        buttonEl.style.display =\n",
              "          google.colab.kernel.accessAllowed ? 'block' : 'none';\n",
              "\n",
              "        async function convertToInteractive(key) {\n",
              "          const element = document.querySelector('#df-5a8113cc-b6f3-4812-95ee-0607296892f5');\n",
              "          const dataTable =\n",
              "            await google.colab.kernel.invokeFunction('convertToInteractive',\n",
              "                                                     [key], {});\n",
              "          if (!dataTable) return;\n",
              "\n",
              "          const docLinkHtml = 'Like what you see? Visit the ' +\n",
              "            '<a target=\"_blank\" href=https://colab.research.google.com/notebooks/data_table.ipynb>data table notebook</a>'\n",
              "            + ' to learn more about interactive tables.';\n",
              "          element.innerHTML = '';\n",
              "          dataTable['output_type'] = 'display_data';\n",
              "          await google.colab.output.renderOutput(dataTable, element);\n",
              "          const docLink = document.createElement('div');\n",
              "          docLink.innerHTML = docLinkHtml;\n",
              "          element.appendChild(docLink);\n",
              "        }\n",
              "      </script>\n",
              "    </div>\n",
              "  </div>\n",
              "  "
            ]
          },
          "metadata": {},
          "execution_count": 4
        }
      ]
    },
    {
      "cell_type": "code",
      "source": [
        "base_5.shape"
      ],
      "metadata": {
        "colab": {
          "base_uri": "https://localhost:8080/"
        },
        "id": "jCDtn5C0EbHB",
        "outputId": "15530394-5ae4-4d9a-8327-7d62fd5df381"
      },
      "execution_count": null,
      "outputs": [
        {
          "output_type": "execute_result",
          "data": {
            "text/plain": [
              "(706, 5)"
            ]
          },
          "metadata": {},
          "execution_count": 119
        }
      ]
    },
    {
      "cell_type": "markdown",
      "source": [
        "# Добавляем данные с предыдущих итераций обработки"
      ],
      "metadata": {
        "id": "7VRw7zFtmOWN"
      }
    },
    {
      "cell_type": "code",
      "source": [
        "df = pd.concat(\n",
        "    [pd.read_csv('hash_database_full.csv', index_col=0),\n",
        "     pd.read_csv('base_5_hashes_3.csv', index_col=0).rename(columns={'Номер открытки': 'ID'})\n",
        "    ])\n",
        "# df = pd.read_csv('hash_database_full.csv', index_col=0)\n",
        "# df = pd.concat([df, base_5.rename(columns={'Номер открытки': 'ID'})])\n",
        "df = df.reset_index().drop('index', axis=1)\n",
        "df.head()"
      ],
      "metadata": {
        "colab": {
          "base_uri": "https://localhost:8080/",
          "height": 206
        },
        "id": "aFWFEBU5mUuV",
        "outputId": "ad39f661-ea97-42a0-bff9-7453ef0ffc96"
      },
      "execution_count": 24,
      "outputs": [
        {
          "output_type": "execute_result",
          "data": {
            "text/plain": [
              "   base  ID  Pic                                            Pic_url  \\\n",
              "0     1   0    1       https://forum.vgd.ru/file.php?fid=5476&key=0   \n",
              "1     1   2    1       https://forum.vgd.ru/file.php?fid=5492&key=0   \n",
              "2     1   3    1  https://forum.vgd.ru/file.php?fid=20890&key=19...   \n",
              "3     1   4    1  https://forum.vgd.ru/file.php?fid=20894&key=16...   \n",
              "4     1   5    1  https://forum.vgd.ru/file.php?fid=20895&key=90...   \n",
              "\n",
              "               hash  \n",
              "0  806969715521b059  \n",
              "1  f4d8cc0ca543d6b6  \n",
              "2  f1732b4d73511723  \n",
              "3  b292ced8b3f2f2f2  \n",
              "4  b8186ca4ae8a989a  "
            ],
            "text/html": [
              "\n",
              "  <div id=\"df-a923f187-57e0-4c2e-862a-067e6e82859a\">\n",
              "    <div class=\"colab-df-container\">\n",
              "      <div>\n",
              "<style scoped>\n",
              "    .dataframe tbody tr th:only-of-type {\n",
              "        vertical-align: middle;\n",
              "    }\n",
              "\n",
              "    .dataframe tbody tr th {\n",
              "        vertical-align: top;\n",
              "    }\n",
              "\n",
              "    .dataframe thead th {\n",
              "        text-align: right;\n",
              "    }\n",
              "</style>\n",
              "<table border=\"1\" class=\"dataframe\">\n",
              "  <thead>\n",
              "    <tr style=\"text-align: right;\">\n",
              "      <th></th>\n",
              "      <th>base</th>\n",
              "      <th>ID</th>\n",
              "      <th>Pic</th>\n",
              "      <th>Pic_url</th>\n",
              "      <th>hash</th>\n",
              "    </tr>\n",
              "  </thead>\n",
              "  <tbody>\n",
              "    <tr>\n",
              "      <th>0</th>\n",
              "      <td>1</td>\n",
              "      <td>0</td>\n",
              "      <td>1</td>\n",
              "      <td>https://forum.vgd.ru/file.php?fid=5476&amp;key=0</td>\n",
              "      <td>806969715521b059</td>\n",
              "    </tr>\n",
              "    <tr>\n",
              "      <th>1</th>\n",
              "      <td>1</td>\n",
              "      <td>2</td>\n",
              "      <td>1</td>\n",
              "      <td>https://forum.vgd.ru/file.php?fid=5492&amp;key=0</td>\n",
              "      <td>f4d8cc0ca543d6b6</td>\n",
              "    </tr>\n",
              "    <tr>\n",
              "      <th>2</th>\n",
              "      <td>1</td>\n",
              "      <td>3</td>\n",
              "      <td>1</td>\n",
              "      <td>https://forum.vgd.ru/file.php?fid=20890&amp;key=19...</td>\n",
              "      <td>f1732b4d73511723</td>\n",
              "    </tr>\n",
              "    <tr>\n",
              "      <th>3</th>\n",
              "      <td>1</td>\n",
              "      <td>4</td>\n",
              "      <td>1</td>\n",
              "      <td>https://forum.vgd.ru/file.php?fid=20894&amp;key=16...</td>\n",
              "      <td>b292ced8b3f2f2f2</td>\n",
              "    </tr>\n",
              "    <tr>\n",
              "      <th>4</th>\n",
              "      <td>1</td>\n",
              "      <td>5</td>\n",
              "      <td>1</td>\n",
              "      <td>https://forum.vgd.ru/file.php?fid=20895&amp;key=90...</td>\n",
              "      <td>b8186ca4ae8a989a</td>\n",
              "    </tr>\n",
              "  </tbody>\n",
              "</table>\n",
              "</div>\n",
              "      <button class=\"colab-df-convert\" onclick=\"convertToInteractive('df-a923f187-57e0-4c2e-862a-067e6e82859a')\"\n",
              "              title=\"Convert this dataframe to an interactive table.\"\n",
              "              style=\"display:none;\">\n",
              "        \n",
              "  <svg xmlns=\"http://www.w3.org/2000/svg\" height=\"24px\"viewBox=\"0 0 24 24\"\n",
              "       width=\"24px\">\n",
              "    <path d=\"M0 0h24v24H0V0z\" fill=\"none\"/>\n",
              "    <path d=\"M18.56 5.44l.94 2.06.94-2.06 2.06-.94-2.06-.94-.94-2.06-.94 2.06-2.06.94zm-11 1L8.5 8.5l.94-2.06 2.06-.94-2.06-.94L8.5 2.5l-.94 2.06-2.06.94zm10 10l.94 2.06.94-2.06 2.06-.94-2.06-.94-.94-2.06-.94 2.06-2.06.94z\"/><path d=\"M17.41 7.96l-1.37-1.37c-.4-.4-.92-.59-1.43-.59-.52 0-1.04.2-1.43.59L10.3 9.45l-7.72 7.72c-.78.78-.78 2.05 0 2.83L4 21.41c.39.39.9.59 1.41.59.51 0 1.02-.2 1.41-.59l7.78-7.78 2.81-2.81c.8-.78.8-2.07 0-2.86zM5.41 20L4 18.59l7.72-7.72 1.47 1.35L5.41 20z\"/>\n",
              "  </svg>\n",
              "      </button>\n",
              "      \n",
              "  <style>\n",
              "    .colab-df-container {\n",
              "      display:flex;\n",
              "      flex-wrap:wrap;\n",
              "      gap: 12px;\n",
              "    }\n",
              "\n",
              "    .colab-df-convert {\n",
              "      background-color: #E8F0FE;\n",
              "      border: none;\n",
              "      border-radius: 50%;\n",
              "      cursor: pointer;\n",
              "      display: none;\n",
              "      fill: #1967D2;\n",
              "      height: 32px;\n",
              "      padding: 0 0 0 0;\n",
              "      width: 32px;\n",
              "    }\n",
              "\n",
              "    .colab-df-convert:hover {\n",
              "      background-color: #E2EBFA;\n",
              "      box-shadow: 0px 1px 2px rgba(60, 64, 67, 0.3), 0px 1px 3px 1px rgba(60, 64, 67, 0.15);\n",
              "      fill: #174EA6;\n",
              "    }\n",
              "\n",
              "    [theme=dark] .colab-df-convert {\n",
              "      background-color: #3B4455;\n",
              "      fill: #D2E3FC;\n",
              "    }\n",
              "\n",
              "    [theme=dark] .colab-df-convert:hover {\n",
              "      background-color: #434B5C;\n",
              "      box-shadow: 0px 1px 3px 1px rgba(0, 0, 0, 0.15);\n",
              "      filter: drop-shadow(0px 1px 2px rgba(0, 0, 0, 0.3));\n",
              "      fill: #FFFFFF;\n",
              "    }\n",
              "  </style>\n",
              "\n",
              "      <script>\n",
              "        const buttonEl =\n",
              "          document.querySelector('#df-a923f187-57e0-4c2e-862a-067e6e82859a button.colab-df-convert');\n",
              "        buttonEl.style.display =\n",
              "          google.colab.kernel.accessAllowed ? 'block' : 'none';\n",
              "\n",
              "        async function convertToInteractive(key) {\n",
              "          const element = document.querySelector('#df-a923f187-57e0-4c2e-862a-067e6e82859a');\n",
              "          const dataTable =\n",
              "            await google.colab.kernel.invokeFunction('convertToInteractive',\n",
              "                                                     [key], {});\n",
              "          if (!dataTable) return;\n",
              "\n",
              "          const docLinkHtml = 'Like what you see? Visit the ' +\n",
              "            '<a target=\"_blank\" href=https://colab.research.google.com/notebooks/data_table.ipynb>data table notebook</a>'\n",
              "            + ' to learn more about interactive tables.';\n",
              "          element.innerHTML = '';\n",
              "          dataTable['output_type'] = 'display_data';\n",
              "          await google.colab.output.renderOutput(dataTable, element);\n",
              "          const docLink = document.createElement('div');\n",
              "          docLink.innerHTML = docLinkHtml;\n",
              "          element.appendChild(docLink);\n",
              "        }\n",
              "      </script>\n",
              "    </div>\n",
              "  </div>\n",
              "  "
            ]
          },
          "metadata": {},
          "execution_count": 24
        }
      ]
    },
    {
      "cell_type": "code",
      "source": [
        "df.shape"
      ],
      "metadata": {
        "colab": {
          "base_uri": "https://localhost:8080/"
        },
        "id": "Z7wRVMqGnsfe",
        "outputId": "02e176b4-f3e8-4a70-9bff-e8ccd9f3afbf"
      },
      "execution_count": 25,
      "outputs": [
        {
          "output_type": "execute_result",
          "data": {
            "text/plain": [
              "(65538, 5)"
            ]
          },
          "metadata": {},
          "execution_count": 25
        }
      ]
    },
    {
      "cell_type": "code",
      "source": [
        "df['base'].value_counts()"
      ],
      "metadata": {
        "colab": {
          "base_uri": "https://localhost:8080/"
        },
        "id": "J4jUiOhZmUzH",
        "outputId": "6a746ace-807c-40f5-bcfa-03aa6fc6c042"
      },
      "execution_count": 87,
      "outputs": [
        {
          "output_type": "execute_result",
          "data": {
            "text/plain": [
              "3    20882\n",
              "4    18178\n",
              "1    14074\n",
              "2     9928\n",
              "5     2476\n",
              "Name: base, dtype: int64"
            ]
          },
          "metadata": {},
          "execution_count": 87
        }
      ]
    },
    {
      "cell_type": "code",
      "source": [
        "df['Pic'].value_counts()"
      ],
      "metadata": {
        "colab": {
          "base_uri": "https://localhost:8080/"
        },
        "id": "AiKchOZVnTom",
        "outputId": "1966f88f-cf72-46b5-b9d0-ba5e299bc03e"
      },
      "execution_count": 27,
      "outputs": [
        {
          "output_type": "execute_result",
          "data": {
            "text/plain": [
              "1    32877\n",
              "2    32661\n",
              "Name: Pic, dtype: int64"
            ]
          },
          "metadata": {},
          "execution_count": 27
        }
      ]
    },
    {
      "cell_type": "markdown",
      "source": [
        "Есть даже одинаковые ссылки"
      ],
      "metadata": {
        "id": "FxlIiwavn9Gq"
      }
    },
    {
      "cell_type": "code",
      "source": [
        "df['Pic_url'].value_counts().sort_values(ascending=False)[:25]"
      ],
      "metadata": {
        "colab": {
          "base_uri": "https://localhost:8080/"
        },
        "id": "lWQFKbFhmU27",
        "outputId": "063ece72-9aee-4594-dd8a-c5720be97f30"
      },
      "execution_count": null,
      "outputs": [
        {
          "output_type": "execute_result",
          "data": {
            "text/plain": [
              "https://storage.yandexcloud.net/postcards-museums/detmuseum/alpy3.png                                      6\n",
              "https://storage.yandexcloud.net/postcards-museums/detmuseum/alpy1.png                                      4\n",
              "https://storage.yandexcloud.net/postcards-open-sources/conros1785.jpg                                      2\n",
              "https://storage.yandexcloud.net/postcards/1BOhnJB64qVnZAO0QFqIBCEICdZ1YHChZ                                2\n",
              "https://storage.yandexcloud.net/postcards-cropped/547_1.jpg                                                2\n",
              "https://storage.yandexcloud.net/postcards-open-sources/Auction-134.jpg                                     2\n",
              "https://storage.yandexcloud.net/postcards-open-sources/Auction-521.jpg                                     2\n",
              "https://storage.yandexcloud.net/postcards-open-sources/Delcampe-978.jpg                                    2\n",
              "https://storage.yandexcloud.net/postcards-open-sources/Delcampe-4449.jpg                                   2\n",
              "https://storage.yandexcloud.net/postcards-open-sources/conros1793.jpg                                      2\n",
              "https://storage.yandexcloud.net/postcards-open-sources/Delcampe-1078.jpg                                   2\n",
              "https://storage.yandexcloud.net/postcards-open-sources/conros1791.jpg                                      2\n",
              "https://storage.yandexcloud.net/postcards-open-sources/conros1787.jpg                                      2\n",
              "https://storage.yandexcloud.net/postcards-museums/501a63dbe44a88e3b323804803700b13_postcard8776pic1.jpg    2\n",
              "https://storage.yandexcloud.net/postcards-open-sources/conros1795.jpg                                      2\n",
              "https://storage.yandexcloud.net/postcards-cropped/553_1.jpg                                                2\n",
              "https://storage.yandexcloud.net/postcards/Khaustova (21).jpg                                               2\n",
              "https://storage.yandexcloud.net/postcards-open-sources/conros1789.jpg                                      2\n",
              "https://storage.yandexcloud.net/postcards/Khaustova (17).jpg                                               2\n",
              "https://storage.yandexcloud.net/postcards/Khaustova (15).jpg                                               2\n",
              "https://storage.yandexcloud.net/postcards-open-sources/Delcampe-1077.jpg                                   2\n",
              "https://forum.vgd.ru/file.php?fid=536459&key=1604423922                                                    2\n",
              "https://storage.yandexcloud.net/postcards-open-sources/Delcampe-2891.jpg                                   2\n",
              "https://storage.yandexcloud.net/postcards/Khaustova (19).jpg                                               2\n",
              "https://storage.yandexcloud.net/postcards-open-sources/conros1797.jpg                                      2\n",
              "Name: Pic_url, dtype: int64"
            ]
          },
          "metadata": {},
          "execution_count": 24
        }
      ]
    },
    {
      "cell_type": "code",
      "source": [
        "df.to_csv('hash_database_full.csv')"
      ],
      "metadata": {
        "id": "PcaRbhAaGJU5"
      },
      "execution_count": 88,
      "outputs": []
    },
    {
      "cell_type": "markdown",
      "source": [
        "# Ищем дубликаты"
      ],
      "metadata": {
        "id": "jme7SU2ki7bI"
      }
    },
    {
      "cell_type": "markdown",
      "source": [
        "Создаем ВК-дерево"
      ],
      "metadata": {
        "id": "93VH2ErWlebh"
      }
    },
    {
      "cell_type": "code",
      "source": [
        "from pybktree_imagehash import BKTree, hamming_distance\n",
        "import collections"
      ],
      "metadata": {
        "id": "Pg_AOhG-lJKB"
      },
      "execution_count": 30,
      "outputs": []
    },
    {
      "cell_type": "code",
      "source": [
        "Item = collections.namedtuple('Item', 'hash_value hash_db_index')"
      ],
      "metadata": {
        "id": "h6ZuJkFclU_b"
      },
      "execution_count": 31,
      "outputs": []
    },
    {
      "cell_type": "code",
      "source": [
        "def item_distance(x, y):\n",
        "  return hamming_distance(x.hash_value, y.hash_value)"
      ],
      "metadata": {
        "id": "KU6drVWLlVWi"
      },
      "execution_count": 32,
      "outputs": []
    },
    {
      "cell_type": "code",
      "source": [
        "tree = BKTree(item_distance, [Item(value, ind) for ind, value in enumerate(df['hash'].to_list())])\n",
        "sorted(tree)[:10]"
      ],
      "metadata": {
        "colab": {
          "base_uri": "https://localhost:8080/"
        },
        "id": "t6UEv9d2i-Z6",
        "outputId": "590f3e0a-92d5-4212-ce92-37cd468223c0"
      },
      "execution_count": 33,
      "outputs": [
        {
          "output_type": "execute_result",
          "data": {
            "text/plain": [
              "[Item(hash_value='0000000000000000', hash_db_index=18964),\n",
              " Item(hash_value='0000000000000000', hash_db_index=30732),\n",
              " Item(hash_value='0000000000000000', hash_db_index=30733),\n",
              " Item(hash_value='0000000000000000', hash_db_index=30736),\n",
              " Item(hash_value='0000000000000000', hash_db_index=30741),\n",
              " Item(hash_value='0000000000000000', hash_db_index=30747),\n",
              " Item(hash_value='0000000000000000', hash_db_index=30751),\n",
              " Item(hash_value='0000000000000000', hash_db_index=30757),\n",
              " Item(hash_value='0000000000000000', hash_db_index=30761),\n",
              " Item(hash_value='0000000000000000', hash_db_index=30763)]"
            ]
          },
          "metadata": {},
          "execution_count": 33
        }
      ]
    },
    {
      "cell_type": "markdown",
      "source": [
        "Ищем объекты на расстоянии до 3 (только по новым открыткам)"
      ],
      "metadata": {
        "id": "GaabuAd9omLr"
      }
    },
    {
      "cell_type": "code",
      "source": [
        "from tqdm import tqdm"
      ],
      "metadata": {
        "id": "zweaoRDKoITM"
      },
      "execution_count": 34,
      "outputs": []
    },
    {
      "cell_type": "code",
      "source": [
        "ID_start = base_5['Номер открытки'].min()\n",
        "base_5_ids = base_5['Номер открытки'].to_list()\n",
        "df_to_search = df[(df['base'] == 5) & (df['ID'].isin(base_5_ids))]\n",
        "df_to_search.head()"
      ],
      "metadata": {
        "colab": {
          "base_uri": "https://localhost:8080/",
          "height": 206
        },
        "id": "jdh39nlvEzlS",
        "outputId": "5a5af892-c918-428e-8bda-ea5b86abe6b1"
      },
      "execution_count": 35,
      "outputs": [
        {
          "output_type": "execute_result",
          "data": {
            "text/plain": [
              "       base      ID  Pic                                            Pic_url  \\\n",
              "64912     5  228356    1  https://storage.yandexcloud.net/postcards-open...   \n",
              "64913     5  228357    1  https://storage.yandexcloud.net/postcards-open...   \n",
              "64914     5  228358    1  https://storage.yandexcloud.net/postcards-open...   \n",
              "64915     5  228359    1  https://storage.yandexcloud.net/postcards-open...   \n",
              "64916     5  228360    1  https://storage.yandexcloud.net/postcards-open...   \n",
              "\n",
              "                   hash  \n",
              "64912  90cce6f0a4ecd6b0  \n",
              "64913  9a89828717139386  \n",
              "64914  bea29c9c7991c78e  \n",
              "64915  e3e3e3d3a3e373f7  \n",
              "64916  9ad0e0a33bb8fcbb  "
            ],
            "text/html": [
              "\n",
              "  <div id=\"df-cddceb63-abf7-4246-852b-1eca4d82a4e7\">\n",
              "    <div class=\"colab-df-container\">\n",
              "      <div>\n",
              "<style scoped>\n",
              "    .dataframe tbody tr th:only-of-type {\n",
              "        vertical-align: middle;\n",
              "    }\n",
              "\n",
              "    .dataframe tbody tr th {\n",
              "        vertical-align: top;\n",
              "    }\n",
              "\n",
              "    .dataframe thead th {\n",
              "        text-align: right;\n",
              "    }\n",
              "</style>\n",
              "<table border=\"1\" class=\"dataframe\">\n",
              "  <thead>\n",
              "    <tr style=\"text-align: right;\">\n",
              "      <th></th>\n",
              "      <th>base</th>\n",
              "      <th>ID</th>\n",
              "      <th>Pic</th>\n",
              "      <th>Pic_url</th>\n",
              "      <th>hash</th>\n",
              "    </tr>\n",
              "  </thead>\n",
              "  <tbody>\n",
              "    <tr>\n",
              "      <th>64912</th>\n",
              "      <td>5</td>\n",
              "      <td>228356</td>\n",
              "      <td>1</td>\n",
              "      <td>https://storage.yandexcloud.net/postcards-open...</td>\n",
              "      <td>90cce6f0a4ecd6b0</td>\n",
              "    </tr>\n",
              "    <tr>\n",
              "      <th>64913</th>\n",
              "      <td>5</td>\n",
              "      <td>228357</td>\n",
              "      <td>1</td>\n",
              "      <td>https://storage.yandexcloud.net/postcards-open...</td>\n",
              "      <td>9a89828717139386</td>\n",
              "    </tr>\n",
              "    <tr>\n",
              "      <th>64914</th>\n",
              "      <td>5</td>\n",
              "      <td>228358</td>\n",
              "      <td>1</td>\n",
              "      <td>https://storage.yandexcloud.net/postcards-open...</td>\n",
              "      <td>bea29c9c7991c78e</td>\n",
              "    </tr>\n",
              "    <tr>\n",
              "      <th>64915</th>\n",
              "      <td>5</td>\n",
              "      <td>228359</td>\n",
              "      <td>1</td>\n",
              "      <td>https://storage.yandexcloud.net/postcards-open...</td>\n",
              "      <td>e3e3e3d3a3e373f7</td>\n",
              "    </tr>\n",
              "    <tr>\n",
              "      <th>64916</th>\n",
              "      <td>5</td>\n",
              "      <td>228360</td>\n",
              "      <td>1</td>\n",
              "      <td>https://storage.yandexcloud.net/postcards-open...</td>\n",
              "      <td>9ad0e0a33bb8fcbb</td>\n",
              "    </tr>\n",
              "  </tbody>\n",
              "</table>\n",
              "</div>\n",
              "      <button class=\"colab-df-convert\" onclick=\"convertToInteractive('df-cddceb63-abf7-4246-852b-1eca4d82a4e7')\"\n",
              "              title=\"Convert this dataframe to an interactive table.\"\n",
              "              style=\"display:none;\">\n",
              "        \n",
              "  <svg xmlns=\"http://www.w3.org/2000/svg\" height=\"24px\"viewBox=\"0 0 24 24\"\n",
              "       width=\"24px\">\n",
              "    <path d=\"M0 0h24v24H0V0z\" fill=\"none\"/>\n",
              "    <path d=\"M18.56 5.44l.94 2.06.94-2.06 2.06-.94-2.06-.94-.94-2.06-.94 2.06-2.06.94zm-11 1L8.5 8.5l.94-2.06 2.06-.94-2.06-.94L8.5 2.5l-.94 2.06-2.06.94zm10 10l.94 2.06.94-2.06 2.06-.94-2.06-.94-.94-2.06-.94 2.06-2.06.94z\"/><path d=\"M17.41 7.96l-1.37-1.37c-.4-.4-.92-.59-1.43-.59-.52 0-1.04.2-1.43.59L10.3 9.45l-7.72 7.72c-.78.78-.78 2.05 0 2.83L4 21.41c.39.39.9.59 1.41.59.51 0 1.02-.2 1.41-.59l7.78-7.78 2.81-2.81c.8-.78.8-2.07 0-2.86zM5.41 20L4 18.59l7.72-7.72 1.47 1.35L5.41 20z\"/>\n",
              "  </svg>\n",
              "      </button>\n",
              "      \n",
              "  <style>\n",
              "    .colab-df-container {\n",
              "      display:flex;\n",
              "      flex-wrap:wrap;\n",
              "      gap: 12px;\n",
              "    }\n",
              "\n",
              "    .colab-df-convert {\n",
              "      background-color: #E8F0FE;\n",
              "      border: none;\n",
              "      border-radius: 50%;\n",
              "      cursor: pointer;\n",
              "      display: none;\n",
              "      fill: #1967D2;\n",
              "      height: 32px;\n",
              "      padding: 0 0 0 0;\n",
              "      width: 32px;\n",
              "    }\n",
              "\n",
              "    .colab-df-convert:hover {\n",
              "      background-color: #E2EBFA;\n",
              "      box-shadow: 0px 1px 2px rgba(60, 64, 67, 0.3), 0px 1px 3px 1px rgba(60, 64, 67, 0.15);\n",
              "      fill: #174EA6;\n",
              "    }\n",
              "\n",
              "    [theme=dark] .colab-df-convert {\n",
              "      background-color: #3B4455;\n",
              "      fill: #D2E3FC;\n",
              "    }\n",
              "\n",
              "    [theme=dark] .colab-df-convert:hover {\n",
              "      background-color: #434B5C;\n",
              "      box-shadow: 0px 1px 3px 1px rgba(0, 0, 0, 0.15);\n",
              "      filter: drop-shadow(0px 1px 2px rgba(0, 0, 0, 0.3));\n",
              "      fill: #FFFFFF;\n",
              "    }\n",
              "  </style>\n",
              "\n",
              "      <script>\n",
              "        const buttonEl =\n",
              "          document.querySelector('#df-cddceb63-abf7-4246-852b-1eca4d82a4e7 button.colab-df-convert');\n",
              "        buttonEl.style.display =\n",
              "          google.colab.kernel.accessAllowed ? 'block' : 'none';\n",
              "\n",
              "        async function convertToInteractive(key) {\n",
              "          const element = document.querySelector('#df-cddceb63-abf7-4246-852b-1eca4d82a4e7');\n",
              "          const dataTable =\n",
              "            await google.colab.kernel.invokeFunction('convertToInteractive',\n",
              "                                                     [key], {});\n",
              "          if (!dataTable) return;\n",
              "\n",
              "          const docLinkHtml = 'Like what you see? Visit the ' +\n",
              "            '<a target=\"_blank\" href=https://colab.research.google.com/notebooks/data_table.ipynb>data table notebook</a>'\n",
              "            + ' to learn more about interactive tables.';\n",
              "          element.innerHTML = '';\n",
              "          dataTable['output_type'] = 'display_data';\n",
              "          await google.colab.output.renderOutput(dataTable, element);\n",
              "          const docLink = document.createElement('div');\n",
              "          docLink.innerHTML = docLinkHtml;\n",
              "          element.appendChild(docLink);\n",
              "        }\n",
              "      </script>\n",
              "    </div>\n",
              "  </div>\n",
              "  "
            ]
          },
          "metadata": {},
          "execution_count": 35
        }
      ]
    },
    {
      "cell_type": "code",
      "source": [
        "df_to_search.shape"
      ],
      "metadata": {
        "colab": {
          "base_uri": "https://localhost:8080/"
        },
        "id": "ff3EcWIiOy1-",
        "outputId": "0abc8ea9-221c-494b-9891-6023e026dae0"
      },
      "execution_count": 36,
      "outputs": [
        {
          "output_type": "execute_result",
          "data": {
            "text/plain": [
              "(626, 5)"
            ]
          },
          "metadata": {},
          "execution_count": 36
        }
      ]
    },
    {
      "cell_type": "code",
      "source": [
        "possible_doubles = []\n",
        "threshold = 3  # hamming distance threshold\n",
        "\n",
        "for ind, row in tqdm(df_to_search.iterrows(), total=df_to_search.shape[0]):\n",
        "    this_id = row.name\n",
        "    this_hash = row['hash']\n",
        "    search_results = sorted(tree.find(Item(this_hash, this_id), threshold))\n",
        "    possible_doubles += [(t[0], this_id, t[1].hash_db_index) for t in search_results \n",
        "                         if t[1].hash_db_index != this_id]  # not the picture itself"
      ],
      "metadata": {
        "colab": {
          "base_uri": "https://localhost:8080/"
        },
        "id": "GCnCxyk-k1Lm",
        "outputId": "cfcfe128-9901-4dda-cbae-41781108b5d7"
      },
      "execution_count": 37,
      "outputs": [
        {
          "output_type": "stream",
          "name": "stderr",
          "text": [
            "100%|██████████| 626/626 [00:43<00:00, 14.35it/s]\n"
          ]
        }
      ]
    },
    {
      "cell_type": "code",
      "source": [
        "possible_doubles = pd.DataFrame(possible_doubles, columns=[\n",
        "    'hash_dist', 'hash_db_index_1', 'hash_db_index_2'])\n",
        "possible_doubles.to_csv('possible_doubles_base_5_3.csv')"
      ],
      "metadata": {
        "id": "V9xxeP2Ok1Ob"
      },
      "execution_count": 38,
      "outputs": []
    },
    {
      "cell_type": "markdown",
      "source": [
        "# Чистим и дополняем таблицу дубликатов"
      ],
      "metadata": {
        "id": "ZLTV8Zm3oqfV"
      }
    },
    {
      "cell_type": "code",
      "source": [
        "possible_doubles = pd.read_csv('possible_doubles_base_5_3.csv', index_col=0)\n",
        "possible_doubles.head()"
      ],
      "metadata": {
        "colab": {
          "base_uri": "https://localhost:8080/",
          "height": 206
        },
        "id": "YNYZS5ms0xj2",
        "outputId": "ecb02dc2-02ae-4eca-d5bc-74f7d7c1225f"
      },
      "execution_count": 58,
      "outputs": [
        {
          "output_type": "execute_result",
          "data": {
            "text/plain": [
              "   hash_dist  hash_db_index_1  hash_db_index_2\n",
              "0          3            64958            16370\n",
              "1          2            65007            33987\n",
              "2          3            65020            16505\n",
              "3          3            65029            16529\n",
              "4          3            65030            16149"
            ],
            "text/html": [
              "\n",
              "  <div id=\"df-5ce27796-c5db-42ea-b0ab-d6f140ac5db4\">\n",
              "    <div class=\"colab-df-container\">\n",
              "      <div>\n",
              "<style scoped>\n",
              "    .dataframe tbody tr th:only-of-type {\n",
              "        vertical-align: middle;\n",
              "    }\n",
              "\n",
              "    .dataframe tbody tr th {\n",
              "        vertical-align: top;\n",
              "    }\n",
              "\n",
              "    .dataframe thead th {\n",
              "        text-align: right;\n",
              "    }\n",
              "</style>\n",
              "<table border=\"1\" class=\"dataframe\">\n",
              "  <thead>\n",
              "    <tr style=\"text-align: right;\">\n",
              "      <th></th>\n",
              "      <th>hash_dist</th>\n",
              "      <th>hash_db_index_1</th>\n",
              "      <th>hash_db_index_2</th>\n",
              "    </tr>\n",
              "  </thead>\n",
              "  <tbody>\n",
              "    <tr>\n",
              "      <th>0</th>\n",
              "      <td>3</td>\n",
              "      <td>64958</td>\n",
              "      <td>16370</td>\n",
              "    </tr>\n",
              "    <tr>\n",
              "      <th>1</th>\n",
              "      <td>2</td>\n",
              "      <td>65007</td>\n",
              "      <td>33987</td>\n",
              "    </tr>\n",
              "    <tr>\n",
              "      <th>2</th>\n",
              "      <td>3</td>\n",
              "      <td>65020</td>\n",
              "      <td>16505</td>\n",
              "    </tr>\n",
              "    <tr>\n",
              "      <th>3</th>\n",
              "      <td>3</td>\n",
              "      <td>65029</td>\n",
              "      <td>16529</td>\n",
              "    </tr>\n",
              "    <tr>\n",
              "      <th>4</th>\n",
              "      <td>3</td>\n",
              "      <td>65030</td>\n",
              "      <td>16149</td>\n",
              "    </tr>\n",
              "  </tbody>\n",
              "</table>\n",
              "</div>\n",
              "      <button class=\"colab-df-convert\" onclick=\"convertToInteractive('df-5ce27796-c5db-42ea-b0ab-d6f140ac5db4')\"\n",
              "              title=\"Convert this dataframe to an interactive table.\"\n",
              "              style=\"display:none;\">\n",
              "        \n",
              "  <svg xmlns=\"http://www.w3.org/2000/svg\" height=\"24px\"viewBox=\"0 0 24 24\"\n",
              "       width=\"24px\">\n",
              "    <path d=\"M0 0h24v24H0V0z\" fill=\"none\"/>\n",
              "    <path d=\"M18.56 5.44l.94 2.06.94-2.06 2.06-.94-2.06-.94-.94-2.06-.94 2.06-2.06.94zm-11 1L8.5 8.5l.94-2.06 2.06-.94-2.06-.94L8.5 2.5l-.94 2.06-2.06.94zm10 10l.94 2.06.94-2.06 2.06-.94-2.06-.94-.94-2.06-.94 2.06-2.06.94z\"/><path d=\"M17.41 7.96l-1.37-1.37c-.4-.4-.92-.59-1.43-.59-.52 0-1.04.2-1.43.59L10.3 9.45l-7.72 7.72c-.78.78-.78 2.05 0 2.83L4 21.41c.39.39.9.59 1.41.59.51 0 1.02-.2 1.41-.59l7.78-7.78 2.81-2.81c.8-.78.8-2.07 0-2.86zM5.41 20L4 18.59l7.72-7.72 1.47 1.35L5.41 20z\"/>\n",
              "  </svg>\n",
              "      </button>\n",
              "      \n",
              "  <style>\n",
              "    .colab-df-container {\n",
              "      display:flex;\n",
              "      flex-wrap:wrap;\n",
              "      gap: 12px;\n",
              "    }\n",
              "\n",
              "    .colab-df-convert {\n",
              "      background-color: #E8F0FE;\n",
              "      border: none;\n",
              "      border-radius: 50%;\n",
              "      cursor: pointer;\n",
              "      display: none;\n",
              "      fill: #1967D2;\n",
              "      height: 32px;\n",
              "      padding: 0 0 0 0;\n",
              "      width: 32px;\n",
              "    }\n",
              "\n",
              "    .colab-df-convert:hover {\n",
              "      background-color: #E2EBFA;\n",
              "      box-shadow: 0px 1px 2px rgba(60, 64, 67, 0.3), 0px 1px 3px 1px rgba(60, 64, 67, 0.15);\n",
              "      fill: #174EA6;\n",
              "    }\n",
              "\n",
              "    [theme=dark] .colab-df-convert {\n",
              "      background-color: #3B4455;\n",
              "      fill: #D2E3FC;\n",
              "    }\n",
              "\n",
              "    [theme=dark] .colab-df-convert:hover {\n",
              "      background-color: #434B5C;\n",
              "      box-shadow: 0px 1px 3px 1px rgba(0, 0, 0, 0.15);\n",
              "      filter: drop-shadow(0px 1px 2px rgba(0, 0, 0, 0.3));\n",
              "      fill: #FFFFFF;\n",
              "    }\n",
              "  </style>\n",
              "\n",
              "      <script>\n",
              "        const buttonEl =\n",
              "          document.querySelector('#df-5ce27796-c5db-42ea-b0ab-d6f140ac5db4 button.colab-df-convert');\n",
              "        buttonEl.style.display =\n",
              "          google.colab.kernel.accessAllowed ? 'block' : 'none';\n",
              "\n",
              "        async function convertToInteractive(key) {\n",
              "          const element = document.querySelector('#df-5ce27796-c5db-42ea-b0ab-d6f140ac5db4');\n",
              "          const dataTable =\n",
              "            await google.colab.kernel.invokeFunction('convertToInteractive',\n",
              "                                                     [key], {});\n",
              "          if (!dataTable) return;\n",
              "\n",
              "          const docLinkHtml = 'Like what you see? Visit the ' +\n",
              "            '<a target=\"_blank\" href=https://colab.research.google.com/notebooks/data_table.ipynb>data table notebook</a>'\n",
              "            + ' to learn more about interactive tables.';\n",
              "          element.innerHTML = '';\n",
              "          dataTable['output_type'] = 'display_data';\n",
              "          await google.colab.output.renderOutput(dataTable, element);\n",
              "          const docLink = document.createElement('div');\n",
              "          docLink.innerHTML = docLinkHtml;\n",
              "          element.appendChild(docLink);\n",
              "        }\n",
              "      </script>\n",
              "    </div>\n",
              "  </div>\n",
              "  "
            ]
          },
          "metadata": {},
          "execution_count": 58
        }
      ]
    },
    {
      "cell_type": "markdown",
      "source": [
        "Удаляем дублирующиеся пары (типа 13, 14 и 14, 13). Таким образом, base_1 всегда будет больше base_2 (см. ниже)"
      ],
      "metadata": {
        "id": "Z8Lp4BNYot4l"
      }
    },
    {
      "cell_type": "code",
      "source": [
        "possible_doubles['temp'] = possible_doubles.apply(\n",
        "    lambda row: (min(row['hash_db_index_1'], row['hash_db_index_2']), \n",
        "                 max(row['hash_db_index_1'], row['hash_db_index_2'])),\n",
        "    axis=1\n",
        ")\n",
        "possible_doubles['hash_db_index_1'] = possible_doubles['temp'].apply(lambda x: x[0])\n",
        "possible_doubles['hash_db_index_2'] = possible_doubles['temp'].apply(lambda x: x[1])\n",
        "possible_doubles = possible_doubles.drop('temp', axis=1)\n",
        "\n",
        "possible_doubles = possible_doubles.drop_duplicates().reset_index().drop('index', axis=1)"
      ],
      "metadata": {
        "id": "WkL2kgYooyYO"
      },
      "execution_count": 59,
      "outputs": []
    },
    {
      "cell_type": "code",
      "source": [
        "possible_doubles.head()"
      ],
      "metadata": {
        "colab": {
          "base_uri": "https://localhost:8080/",
          "height": 206
        },
        "id": "4Grz8IhNoybq",
        "outputId": "f263c613-0d31-4d2a-cf31-6c22872f0e53"
      },
      "execution_count": 60,
      "outputs": [
        {
          "output_type": "execute_result",
          "data": {
            "text/plain": [
              "   hash_dist  hash_db_index_1  hash_db_index_2\n",
              "0          3            16370            64958\n",
              "1          2            33987            65007\n",
              "2          3            16505            65020\n",
              "3          3            16529            65029\n",
              "4          3            16149            65030"
            ],
            "text/html": [
              "\n",
              "  <div id=\"df-2ce83f8e-4b81-46ba-8306-b4098026e81a\">\n",
              "    <div class=\"colab-df-container\">\n",
              "      <div>\n",
              "<style scoped>\n",
              "    .dataframe tbody tr th:only-of-type {\n",
              "        vertical-align: middle;\n",
              "    }\n",
              "\n",
              "    .dataframe tbody tr th {\n",
              "        vertical-align: top;\n",
              "    }\n",
              "\n",
              "    .dataframe thead th {\n",
              "        text-align: right;\n",
              "    }\n",
              "</style>\n",
              "<table border=\"1\" class=\"dataframe\">\n",
              "  <thead>\n",
              "    <tr style=\"text-align: right;\">\n",
              "      <th></th>\n",
              "      <th>hash_dist</th>\n",
              "      <th>hash_db_index_1</th>\n",
              "      <th>hash_db_index_2</th>\n",
              "    </tr>\n",
              "  </thead>\n",
              "  <tbody>\n",
              "    <tr>\n",
              "      <th>0</th>\n",
              "      <td>3</td>\n",
              "      <td>16370</td>\n",
              "      <td>64958</td>\n",
              "    </tr>\n",
              "    <tr>\n",
              "      <th>1</th>\n",
              "      <td>2</td>\n",
              "      <td>33987</td>\n",
              "      <td>65007</td>\n",
              "    </tr>\n",
              "    <tr>\n",
              "      <th>2</th>\n",
              "      <td>3</td>\n",
              "      <td>16505</td>\n",
              "      <td>65020</td>\n",
              "    </tr>\n",
              "    <tr>\n",
              "      <th>3</th>\n",
              "      <td>3</td>\n",
              "      <td>16529</td>\n",
              "      <td>65029</td>\n",
              "    </tr>\n",
              "    <tr>\n",
              "      <th>4</th>\n",
              "      <td>3</td>\n",
              "      <td>16149</td>\n",
              "      <td>65030</td>\n",
              "    </tr>\n",
              "  </tbody>\n",
              "</table>\n",
              "</div>\n",
              "      <button class=\"colab-df-convert\" onclick=\"convertToInteractive('df-2ce83f8e-4b81-46ba-8306-b4098026e81a')\"\n",
              "              title=\"Convert this dataframe to an interactive table.\"\n",
              "              style=\"display:none;\">\n",
              "        \n",
              "  <svg xmlns=\"http://www.w3.org/2000/svg\" height=\"24px\"viewBox=\"0 0 24 24\"\n",
              "       width=\"24px\">\n",
              "    <path d=\"M0 0h24v24H0V0z\" fill=\"none\"/>\n",
              "    <path d=\"M18.56 5.44l.94 2.06.94-2.06 2.06-.94-2.06-.94-.94-2.06-.94 2.06-2.06.94zm-11 1L8.5 8.5l.94-2.06 2.06-.94-2.06-.94L8.5 2.5l-.94 2.06-2.06.94zm10 10l.94 2.06.94-2.06 2.06-.94-2.06-.94-.94-2.06-.94 2.06-2.06.94z\"/><path d=\"M17.41 7.96l-1.37-1.37c-.4-.4-.92-.59-1.43-.59-.52 0-1.04.2-1.43.59L10.3 9.45l-7.72 7.72c-.78.78-.78 2.05 0 2.83L4 21.41c.39.39.9.59 1.41.59.51 0 1.02-.2 1.41-.59l7.78-7.78 2.81-2.81c.8-.78.8-2.07 0-2.86zM5.41 20L4 18.59l7.72-7.72 1.47 1.35L5.41 20z\"/>\n",
              "  </svg>\n",
              "      </button>\n",
              "      \n",
              "  <style>\n",
              "    .colab-df-container {\n",
              "      display:flex;\n",
              "      flex-wrap:wrap;\n",
              "      gap: 12px;\n",
              "    }\n",
              "\n",
              "    .colab-df-convert {\n",
              "      background-color: #E8F0FE;\n",
              "      border: none;\n",
              "      border-radius: 50%;\n",
              "      cursor: pointer;\n",
              "      display: none;\n",
              "      fill: #1967D2;\n",
              "      height: 32px;\n",
              "      padding: 0 0 0 0;\n",
              "      width: 32px;\n",
              "    }\n",
              "\n",
              "    .colab-df-convert:hover {\n",
              "      background-color: #E2EBFA;\n",
              "      box-shadow: 0px 1px 2px rgba(60, 64, 67, 0.3), 0px 1px 3px 1px rgba(60, 64, 67, 0.15);\n",
              "      fill: #174EA6;\n",
              "    }\n",
              "\n",
              "    [theme=dark] .colab-df-convert {\n",
              "      background-color: #3B4455;\n",
              "      fill: #D2E3FC;\n",
              "    }\n",
              "\n",
              "    [theme=dark] .colab-df-convert:hover {\n",
              "      background-color: #434B5C;\n",
              "      box-shadow: 0px 1px 3px 1px rgba(0, 0, 0, 0.15);\n",
              "      filter: drop-shadow(0px 1px 2px rgba(0, 0, 0, 0.3));\n",
              "      fill: #FFFFFF;\n",
              "    }\n",
              "  </style>\n",
              "\n",
              "      <script>\n",
              "        const buttonEl =\n",
              "          document.querySelector('#df-2ce83f8e-4b81-46ba-8306-b4098026e81a button.colab-df-convert');\n",
              "        buttonEl.style.display =\n",
              "          google.colab.kernel.accessAllowed ? 'block' : 'none';\n",
              "\n",
              "        async function convertToInteractive(key) {\n",
              "          const element = document.querySelector('#df-2ce83f8e-4b81-46ba-8306-b4098026e81a');\n",
              "          const dataTable =\n",
              "            await google.colab.kernel.invokeFunction('convertToInteractive',\n",
              "                                                     [key], {});\n",
              "          if (!dataTable) return;\n",
              "\n",
              "          const docLinkHtml = 'Like what you see? Visit the ' +\n",
              "            '<a target=\"_blank\" href=https://colab.research.google.com/notebooks/data_table.ipynb>data table notebook</a>'\n",
              "            + ' to learn more about interactive tables.';\n",
              "          element.innerHTML = '';\n",
              "          dataTable['output_type'] = 'display_data';\n",
              "          await google.colab.output.renderOutput(dataTable, element);\n",
              "          const docLink = document.createElement('div');\n",
              "          docLink.innerHTML = docLinkHtml;\n",
              "          element.appendChild(docLink);\n",
              "        }\n",
              "      </script>\n",
              "    </div>\n",
              "  </div>\n",
              "  "
            ]
          },
          "metadata": {},
          "execution_count": 60
        }
      ]
    },
    {
      "cell_type": "code",
      "source": [
        "possible_doubles.shape"
      ],
      "metadata": {
        "colab": {
          "base_uri": "https://localhost:8080/"
        },
        "id": "e1_DdKY4oyeQ",
        "outputId": "03464c93-93e9-4298-8275-f9600e8d7b50"
      },
      "execution_count": 61,
      "outputs": [
        {
          "output_type": "execute_result",
          "data": {
            "text/plain": [
              "(56, 3)"
            ]
          },
          "metadata": {},
          "execution_count": 61
        }
      ]
    },
    {
      "cell_type": "markdown",
      "source": [
        "Статистика по расстоянию"
      ],
      "metadata": {
        "id": "l-LhqD2Co47R"
      }
    },
    {
      "cell_type": "code",
      "source": [
        "possible_doubles['hash_dist'].value_counts()"
      ],
      "metadata": {
        "colab": {
          "base_uri": "https://localhost:8080/"
        },
        "id": "TE5j-zuloygb",
        "outputId": "301750bd-edfe-4973-dd51-49227464e26f"
      },
      "execution_count": 44,
      "outputs": [
        {
          "output_type": "execute_result",
          "data": {
            "text/plain": [
              "0    24\n",
              "3    14\n",
              "1    11\n",
              "2     7\n",
              "Name: hash_dist, dtype: int64"
            ]
          },
          "metadata": {},
          "execution_count": 44
        }
      ]
    },
    {
      "cell_type": "markdown",
      "source": [
        "Добавляем в таблицу данные об изображениях"
      ],
      "metadata": {
        "id": "3t47oamwpAD5"
      }
    },
    {
      "cell_type": "code",
      "source": [
        "possible_doubles['base_1'] = possible_doubles['hash_db_index_1'].apply(lambda x: df.iloc[x]['base'])\n",
        "possible_doubles['ID_1'] = possible_doubles['hash_db_index_1'].apply(lambda x: df.iloc[x]['ID'])\n",
        "possible_doubles['Pic_1'] = possible_doubles['hash_db_index_1'].apply(lambda x: df.iloc[x]['Pic'])\n",
        "\n",
        "possible_doubles['base_2'] = possible_doubles['hash_db_index_2'].apply(lambda x: df.iloc[x]['base'])\n",
        "possible_doubles['ID_2'] = possible_doubles['hash_db_index_2'].apply(lambda x: df.iloc[x]['ID'])\n",
        "possible_doubles['Pic_2'] = possible_doubles['hash_db_index_2'].apply(lambda x: df.iloc[x]['Pic'])\n",
        "\n",
        "possible_doubles = possible_doubles[['hash_dist', \n",
        "                                     'hash_db_index_1', 'base_1', 'ID_1', 'Pic_1', \n",
        "                                     'hash_db_index_2', 'base_2', 'ID_2', 'Pic_2', \n",
        "                                     ]]\n",
        "possible_doubles = possible_doubles.drop(['hash_db_index_1', 'hash_db_index_2'], axis=1)\n",
        "possible_doubles.head()"
      ],
      "metadata": {
        "colab": {
          "base_uri": "https://localhost:8080/",
          "height": 206
        },
        "id": "IA7_-UV5pDGq",
        "outputId": "bf696864-0d07-4de2-e069-79cd298067b2"
      },
      "execution_count": 62,
      "outputs": [
        {
          "output_type": "execute_result",
          "data": {
            "text/plain": [
              "   hash_dist  base_1    ID_1  Pic_1  base_2    ID_2  Pic_2\n",
              "0          3       3  209315      1       5  228402      1\n",
              "1          2       3  209248      1       5  228451      1\n",
              "2          3       3  209450      1       5  228464      1\n",
              "3          3       3  209474      1       5  228473      1\n",
              "4          3       3  209034      1       5  228474      1"
            ],
            "text/html": [
              "\n",
              "  <div id=\"df-46372a0d-b480-4009-8b14-e1f77907ff43\">\n",
              "    <div class=\"colab-df-container\">\n",
              "      <div>\n",
              "<style scoped>\n",
              "    .dataframe tbody tr th:only-of-type {\n",
              "        vertical-align: middle;\n",
              "    }\n",
              "\n",
              "    .dataframe tbody tr th {\n",
              "        vertical-align: top;\n",
              "    }\n",
              "\n",
              "    .dataframe thead th {\n",
              "        text-align: right;\n",
              "    }\n",
              "</style>\n",
              "<table border=\"1\" class=\"dataframe\">\n",
              "  <thead>\n",
              "    <tr style=\"text-align: right;\">\n",
              "      <th></th>\n",
              "      <th>hash_dist</th>\n",
              "      <th>base_1</th>\n",
              "      <th>ID_1</th>\n",
              "      <th>Pic_1</th>\n",
              "      <th>base_2</th>\n",
              "      <th>ID_2</th>\n",
              "      <th>Pic_2</th>\n",
              "    </tr>\n",
              "  </thead>\n",
              "  <tbody>\n",
              "    <tr>\n",
              "      <th>0</th>\n",
              "      <td>3</td>\n",
              "      <td>3</td>\n",
              "      <td>209315</td>\n",
              "      <td>1</td>\n",
              "      <td>5</td>\n",
              "      <td>228402</td>\n",
              "      <td>1</td>\n",
              "    </tr>\n",
              "    <tr>\n",
              "      <th>1</th>\n",
              "      <td>2</td>\n",
              "      <td>3</td>\n",
              "      <td>209248</td>\n",
              "      <td>1</td>\n",
              "      <td>5</td>\n",
              "      <td>228451</td>\n",
              "      <td>1</td>\n",
              "    </tr>\n",
              "    <tr>\n",
              "      <th>2</th>\n",
              "      <td>3</td>\n",
              "      <td>3</td>\n",
              "      <td>209450</td>\n",
              "      <td>1</td>\n",
              "      <td>5</td>\n",
              "      <td>228464</td>\n",
              "      <td>1</td>\n",
              "    </tr>\n",
              "    <tr>\n",
              "      <th>3</th>\n",
              "      <td>3</td>\n",
              "      <td>3</td>\n",
              "      <td>209474</td>\n",
              "      <td>1</td>\n",
              "      <td>5</td>\n",
              "      <td>228473</td>\n",
              "      <td>1</td>\n",
              "    </tr>\n",
              "    <tr>\n",
              "      <th>4</th>\n",
              "      <td>3</td>\n",
              "      <td>3</td>\n",
              "      <td>209034</td>\n",
              "      <td>1</td>\n",
              "      <td>5</td>\n",
              "      <td>228474</td>\n",
              "      <td>1</td>\n",
              "    </tr>\n",
              "  </tbody>\n",
              "</table>\n",
              "</div>\n",
              "      <button class=\"colab-df-convert\" onclick=\"convertToInteractive('df-46372a0d-b480-4009-8b14-e1f77907ff43')\"\n",
              "              title=\"Convert this dataframe to an interactive table.\"\n",
              "              style=\"display:none;\">\n",
              "        \n",
              "  <svg xmlns=\"http://www.w3.org/2000/svg\" height=\"24px\"viewBox=\"0 0 24 24\"\n",
              "       width=\"24px\">\n",
              "    <path d=\"M0 0h24v24H0V0z\" fill=\"none\"/>\n",
              "    <path d=\"M18.56 5.44l.94 2.06.94-2.06 2.06-.94-2.06-.94-.94-2.06-.94 2.06-2.06.94zm-11 1L8.5 8.5l.94-2.06 2.06-.94-2.06-.94L8.5 2.5l-.94 2.06-2.06.94zm10 10l.94 2.06.94-2.06 2.06-.94-2.06-.94-.94-2.06-.94 2.06-2.06.94z\"/><path d=\"M17.41 7.96l-1.37-1.37c-.4-.4-.92-.59-1.43-.59-.52 0-1.04.2-1.43.59L10.3 9.45l-7.72 7.72c-.78.78-.78 2.05 0 2.83L4 21.41c.39.39.9.59 1.41.59.51 0 1.02-.2 1.41-.59l7.78-7.78 2.81-2.81c.8-.78.8-2.07 0-2.86zM5.41 20L4 18.59l7.72-7.72 1.47 1.35L5.41 20z\"/>\n",
              "  </svg>\n",
              "      </button>\n",
              "      \n",
              "  <style>\n",
              "    .colab-df-container {\n",
              "      display:flex;\n",
              "      flex-wrap:wrap;\n",
              "      gap: 12px;\n",
              "    }\n",
              "\n",
              "    .colab-df-convert {\n",
              "      background-color: #E8F0FE;\n",
              "      border: none;\n",
              "      border-radius: 50%;\n",
              "      cursor: pointer;\n",
              "      display: none;\n",
              "      fill: #1967D2;\n",
              "      height: 32px;\n",
              "      padding: 0 0 0 0;\n",
              "      width: 32px;\n",
              "    }\n",
              "\n",
              "    .colab-df-convert:hover {\n",
              "      background-color: #E2EBFA;\n",
              "      box-shadow: 0px 1px 2px rgba(60, 64, 67, 0.3), 0px 1px 3px 1px rgba(60, 64, 67, 0.15);\n",
              "      fill: #174EA6;\n",
              "    }\n",
              "\n",
              "    [theme=dark] .colab-df-convert {\n",
              "      background-color: #3B4455;\n",
              "      fill: #D2E3FC;\n",
              "    }\n",
              "\n",
              "    [theme=dark] .colab-df-convert:hover {\n",
              "      background-color: #434B5C;\n",
              "      box-shadow: 0px 1px 3px 1px rgba(0, 0, 0, 0.15);\n",
              "      filter: drop-shadow(0px 1px 2px rgba(0, 0, 0, 0.3));\n",
              "      fill: #FFFFFF;\n",
              "    }\n",
              "  </style>\n",
              "\n",
              "      <script>\n",
              "        const buttonEl =\n",
              "          document.querySelector('#df-46372a0d-b480-4009-8b14-e1f77907ff43 button.colab-df-convert');\n",
              "        buttonEl.style.display =\n",
              "          google.colab.kernel.accessAllowed ? 'block' : 'none';\n",
              "\n",
              "        async function convertToInteractive(key) {\n",
              "          const element = document.querySelector('#df-46372a0d-b480-4009-8b14-e1f77907ff43');\n",
              "          const dataTable =\n",
              "            await google.colab.kernel.invokeFunction('convertToInteractive',\n",
              "                                                     [key], {});\n",
              "          if (!dataTable) return;\n",
              "\n",
              "          const docLinkHtml = 'Like what you see? Visit the ' +\n",
              "            '<a target=\"_blank\" href=https://colab.research.google.com/notebooks/data_table.ipynb>data table notebook</a>'\n",
              "            + ' to learn more about interactive tables.';\n",
              "          element.innerHTML = '';\n",
              "          dataTable['output_type'] = 'display_data';\n",
              "          await google.colab.output.renderOutput(dataTable, element);\n",
              "          const docLink = document.createElement('div');\n",
              "          docLink.innerHTML = docLinkHtml;\n",
              "          element.appendChild(docLink);\n",
              "        }\n",
              "      </script>\n",
              "    </div>\n",
              "  </div>\n",
              "  "
            ]
          },
          "metadata": {},
          "execution_count": 62
        }
      ]
    },
    {
      "cell_type": "markdown",
      "source": [
        "Статистика по базам"
      ],
      "metadata": {
        "id": "Rt-gBVS4pNis"
      }
    },
    {
      "cell_type": "code",
      "source": [
        "possible_doubles['base_1'].value_counts()"
      ],
      "metadata": {
        "colab": {
          "base_uri": "https://localhost:8080/"
        },
        "id": "P7g83uPHpPiE",
        "outputId": "d39023fb-39c6-49ec-d8c2-f12446195019"
      },
      "execution_count": 46,
      "outputs": [
        {
          "output_type": "execute_result",
          "data": {
            "text/plain": [
              "3    39\n",
              "5    14\n",
              "4     3\n",
              "Name: base_1, dtype: int64"
            ]
          },
          "metadata": {},
          "execution_count": 46
        }
      ]
    },
    {
      "cell_type": "code",
      "source": [
        "possible_doubles['base_2'].value_counts()"
      ],
      "metadata": {
        "colab": {
          "base_uri": "https://localhost:8080/"
        },
        "id": "6ArngdgVpUMH",
        "outputId": "9cec1a72-d733-403d-d315-56a8ecdd6551"
      },
      "execution_count": 47,
      "outputs": [
        {
          "output_type": "execute_result",
          "data": {
            "text/plain": [
              "5    56\n",
              "Name: base_2, dtype: int64"
            ]
          },
          "metadata": {},
          "execution_count": 47
        }
      ]
    },
    {
      "cell_type": "markdown",
      "source": [
        "Добавляем ссылки на изображения"
      ],
      "metadata": {
        "id": "7D4EGivmLkv5"
      }
    },
    {
      "cell_type": "code",
      "source": [
        "possible_doubles['Pic_url_1_front'] = possible_doubles.apply(\n",
        "    lambda row: df[(df['base'] == row['base_1']) & (df['ID'] == row['ID_1']) & \n",
        "                   (df['Pic'] == 1)]['Pic_url'].iloc[0], \n",
        "                   axis=1\n",
        "    )\n",
        "possible_doubles['Pic_url_1_back'] = possible_doubles.apply(\n",
        "    lambda row: df[(df['base'] == row['base_1']) & (df['ID'] == row['ID_1']) & \n",
        "                   (df['Pic'] == 2)]['Pic_url'].iloc[0], \n",
        "    axis=1\n",
        "    )\n",
        "possible_doubles['Pic_url_2_front'] = possible_doubles.apply(\n",
        "    lambda row: df[(df['base'] == row['base_2']) & (df['ID'] == row['ID_2']) & \n",
        "                   (df['Pic'] == 1)]['Pic_url'].iloc[0], \n",
        "                   axis=1\n",
        "    )\n",
        "possible_doubles['Pic_url_2_back'] = possible_doubles.apply(\n",
        "    lambda row: df[(df['base'] == row['base_2']) & (df['ID'] == row['ID_2']) & \n",
        "                   (df['Pic'] == 2)]['Pic_url'].iloc[0], \n",
        "                   axis=1\n",
        "    )"
      ],
      "metadata": {
        "id": "xs-KVQYHLnHO"
      },
      "execution_count": 63,
      "outputs": []
    },
    {
      "cell_type": "code",
      "source": [
        "possible_doubles.isna().sum()"
      ],
      "metadata": {
        "colab": {
          "base_uri": "https://localhost:8080/"
        },
        "id": "4I9-EicGQG7F",
        "outputId": "73159043-9c17-4929-82ec-060c0093ab44"
      },
      "execution_count": 49,
      "outputs": [
        {
          "output_type": "execute_result",
          "data": {
            "text/plain": [
              "hash_dist          0\n",
              "base_1             0\n",
              "ID_1               0\n",
              "Pic_1              0\n",
              "base_2             0\n",
              "ID_2               0\n",
              "Pic_2              0\n",
              "Pic_url_1_front    0\n",
              "Pic_url_1_back     0\n",
              "Pic_url_2_front    0\n",
              "Pic_url_2_back     0\n",
              "dtype: int64"
            ]
          },
          "metadata": {},
          "execution_count": 49
        }
      ]
    },
    {
      "cell_type": "markdown",
      "source": [
        "# Проставляем статус \"Дубли\""
      ],
      "metadata": {
        "id": "HlLtI-xkt6t1"
      }
    },
    {
      "cell_type": "markdown",
      "source": [
        "Считаем дубликатами без проверки, если:\n",
        "* расстояние 0 (хеши совпадают полностью)\n",
        "* возможными дублями являются и лицевые, и оборотные стороны"
      ],
      "metadata": {
        "id": "TQ9MFQK2Q2cX"
      }
    },
    {
      "cell_type": "code",
      "source": [
        "possible_doubles_pics = possible_doubles.groupby(['ID_1', 'ID_2']).apply(\n",
        "    lambda x: True if x.shape[0] == 2 else False\n",
        ").reset_index(name='Pics')\n",
        "possible_doubles_pics.head()"
      ],
      "metadata": {
        "colab": {
          "base_uri": "https://localhost:8080/",
          "height": 206
        },
        "id": "J4dSLPsMuSYO",
        "outputId": "caa487d9-7621-4a9a-a0ad-965e3faea961"
      },
      "execution_count": 64,
      "outputs": [
        {
          "output_type": "execute_result",
          "data": {
            "text/plain": [
              "     ID_1    ID_2   Pics\n",
              "0  207233  228556  False\n",
              "1  207235  228608   True\n",
              "2  207236  228612   True\n",
              "3  208023  228544   True\n",
              "4  208045  228579   True"
            ],
            "text/html": [
              "\n",
              "  <div id=\"df-532a14c4-9cbc-4343-a7f9-77259e4af6d6\">\n",
              "    <div class=\"colab-df-container\">\n",
              "      <div>\n",
              "<style scoped>\n",
              "    .dataframe tbody tr th:only-of-type {\n",
              "        vertical-align: middle;\n",
              "    }\n",
              "\n",
              "    .dataframe tbody tr th {\n",
              "        vertical-align: top;\n",
              "    }\n",
              "\n",
              "    .dataframe thead th {\n",
              "        text-align: right;\n",
              "    }\n",
              "</style>\n",
              "<table border=\"1\" class=\"dataframe\">\n",
              "  <thead>\n",
              "    <tr style=\"text-align: right;\">\n",
              "      <th></th>\n",
              "      <th>ID_1</th>\n",
              "      <th>ID_2</th>\n",
              "      <th>Pics</th>\n",
              "    </tr>\n",
              "  </thead>\n",
              "  <tbody>\n",
              "    <tr>\n",
              "      <th>0</th>\n",
              "      <td>207233</td>\n",
              "      <td>228556</td>\n",
              "      <td>False</td>\n",
              "    </tr>\n",
              "    <tr>\n",
              "      <th>1</th>\n",
              "      <td>207235</td>\n",
              "      <td>228608</td>\n",
              "      <td>True</td>\n",
              "    </tr>\n",
              "    <tr>\n",
              "      <th>2</th>\n",
              "      <td>207236</td>\n",
              "      <td>228612</td>\n",
              "      <td>True</td>\n",
              "    </tr>\n",
              "    <tr>\n",
              "      <th>3</th>\n",
              "      <td>208023</td>\n",
              "      <td>228544</td>\n",
              "      <td>True</td>\n",
              "    </tr>\n",
              "    <tr>\n",
              "      <th>4</th>\n",
              "      <td>208045</td>\n",
              "      <td>228579</td>\n",
              "      <td>True</td>\n",
              "    </tr>\n",
              "  </tbody>\n",
              "</table>\n",
              "</div>\n",
              "      <button class=\"colab-df-convert\" onclick=\"convertToInteractive('df-532a14c4-9cbc-4343-a7f9-77259e4af6d6')\"\n",
              "              title=\"Convert this dataframe to an interactive table.\"\n",
              "              style=\"display:none;\">\n",
              "        \n",
              "  <svg xmlns=\"http://www.w3.org/2000/svg\" height=\"24px\"viewBox=\"0 0 24 24\"\n",
              "       width=\"24px\">\n",
              "    <path d=\"M0 0h24v24H0V0z\" fill=\"none\"/>\n",
              "    <path d=\"M18.56 5.44l.94 2.06.94-2.06 2.06-.94-2.06-.94-.94-2.06-.94 2.06-2.06.94zm-11 1L8.5 8.5l.94-2.06 2.06-.94-2.06-.94L8.5 2.5l-.94 2.06-2.06.94zm10 10l.94 2.06.94-2.06 2.06-.94-2.06-.94-.94-2.06-.94 2.06-2.06.94z\"/><path d=\"M17.41 7.96l-1.37-1.37c-.4-.4-.92-.59-1.43-.59-.52 0-1.04.2-1.43.59L10.3 9.45l-7.72 7.72c-.78.78-.78 2.05 0 2.83L4 21.41c.39.39.9.59 1.41.59.51 0 1.02-.2 1.41-.59l7.78-7.78 2.81-2.81c.8-.78.8-2.07 0-2.86zM5.41 20L4 18.59l7.72-7.72 1.47 1.35L5.41 20z\"/>\n",
              "  </svg>\n",
              "      </button>\n",
              "      \n",
              "  <style>\n",
              "    .colab-df-container {\n",
              "      display:flex;\n",
              "      flex-wrap:wrap;\n",
              "      gap: 12px;\n",
              "    }\n",
              "\n",
              "    .colab-df-convert {\n",
              "      background-color: #E8F0FE;\n",
              "      border: none;\n",
              "      border-radius: 50%;\n",
              "      cursor: pointer;\n",
              "      display: none;\n",
              "      fill: #1967D2;\n",
              "      height: 32px;\n",
              "      padding: 0 0 0 0;\n",
              "      width: 32px;\n",
              "    }\n",
              "\n",
              "    .colab-df-convert:hover {\n",
              "      background-color: #E2EBFA;\n",
              "      box-shadow: 0px 1px 2px rgba(60, 64, 67, 0.3), 0px 1px 3px 1px rgba(60, 64, 67, 0.15);\n",
              "      fill: #174EA6;\n",
              "    }\n",
              "\n",
              "    [theme=dark] .colab-df-convert {\n",
              "      background-color: #3B4455;\n",
              "      fill: #D2E3FC;\n",
              "    }\n",
              "\n",
              "    [theme=dark] .colab-df-convert:hover {\n",
              "      background-color: #434B5C;\n",
              "      box-shadow: 0px 1px 3px 1px rgba(0, 0, 0, 0.15);\n",
              "      filter: drop-shadow(0px 1px 2px rgba(0, 0, 0, 0.3));\n",
              "      fill: #FFFFFF;\n",
              "    }\n",
              "  </style>\n",
              "\n",
              "      <script>\n",
              "        const buttonEl =\n",
              "          document.querySelector('#df-532a14c4-9cbc-4343-a7f9-77259e4af6d6 button.colab-df-convert');\n",
              "        buttonEl.style.display =\n",
              "          google.colab.kernel.accessAllowed ? 'block' : 'none';\n",
              "\n",
              "        async function convertToInteractive(key) {\n",
              "          const element = document.querySelector('#df-532a14c4-9cbc-4343-a7f9-77259e4af6d6');\n",
              "          const dataTable =\n",
              "            await google.colab.kernel.invokeFunction('convertToInteractive',\n",
              "                                                     [key], {});\n",
              "          if (!dataTable) return;\n",
              "\n",
              "          const docLinkHtml = 'Like what you see? Visit the ' +\n",
              "            '<a target=\"_blank\" href=https://colab.research.google.com/notebooks/data_table.ipynb>data table notebook</a>'\n",
              "            + ' to learn more about interactive tables.';\n",
              "          element.innerHTML = '';\n",
              "          dataTable['output_type'] = 'display_data';\n",
              "          await google.colab.output.renderOutput(dataTable, element);\n",
              "          const docLink = document.createElement('div');\n",
              "          docLink.innerHTML = docLinkHtml;\n",
              "          element.appendChild(docLink);\n",
              "        }\n",
              "      </script>\n",
              "    </div>\n",
              "  </div>\n",
              "  "
            ]
          },
          "metadata": {},
          "execution_count": 64
        }
      ]
    },
    {
      "cell_type": "code",
      "source": [
        "possible_doubles = possible_doubles.merge(possible_doubles_pics,\n",
        "                       on=['ID_1', 'ID_2'], \n",
        "                       how='left')"
      ],
      "metadata": {
        "id": "g2tMQ83SvmOh"
      },
      "execution_count": 65,
      "outputs": []
    },
    {
      "cell_type": "code",
      "source": [
        "possible_doubles['Pics'].value_counts()"
      ],
      "metadata": {
        "colab": {
          "base_uri": "https://localhost:8080/"
        },
        "id": "HucSZA1HvZ-i",
        "outputId": "825b7714-8a5d-4f2b-89f4-c00fdb658c43"
      },
      "execution_count": 52,
      "outputs": [
        {
          "output_type": "execute_result",
          "data": {
            "text/plain": [
              "True     40\n",
              "False    16\n",
              "Name: Pics, dtype: int64"
            ]
          },
          "metadata": {},
          "execution_count": 52
        }
      ]
    },
    {
      "cell_type": "code",
      "source": [
        "possible_doubles['Статус'] = possible_doubles.apply(\n",
        "    lambda row: 'Дубли' if row['hash_dist'] == 0 or row['Pics'] == True else '',\n",
        "    axis=1\n",
        ")"
      ],
      "metadata": {
        "id": "n-l3a7wYveCg"
      },
      "execution_count": 66,
      "outputs": []
    },
    {
      "cell_type": "code",
      "source": [
        "with pd.option_context('display.max_colwidth', None):\n",
        "    display(possible_doubles.head())"
      ],
      "metadata": {
        "colab": {
          "base_uri": "https://localhost:8080/",
          "height": 374
        },
        "id": "Snb_NiBQpfzj",
        "outputId": "9bbcafb6-264a-4a7d-c324-f4deb64d5eae"
      },
      "execution_count": 71,
      "outputs": [
        {
          "output_type": "display_data",
          "data": {
            "text/plain": [
              "   hash_dist  base_1    ID_1  base_2    ID_2  \\\n",
              "0          0       3  207233       5  228556   \n",
              "1          0       5  228642       5  228647   \n",
              "2          0       5  228603       5  228604   \n",
              "3          0       5  228569       5  228572   \n",
              "4          0       5  228514       5  228515   \n",
              "\n",
              "                                                               Pic_url_1_front  \\\n",
              "0    https://storage.yandexcloud.net/postcards-open-sources/pugachev (155).jpg   \n",
              "1  https://storage.yandexcloud.net/postcards-open-sources/auction10 (1793).jpg   \n",
              "2  https://storage.yandexcloud.net/postcards-open-sources/auction10 (1715).jpg   \n",
              "3  https://storage.yandexcloud.net/postcards-open-sources/auction10 (1647).jpg   \n",
              "4  https://storage.yandexcloud.net/postcards-open-sources/auction10 (1537).jpg   \n",
              "\n",
              "                                                                Pic_url_1_back  \\\n",
              "0    https://storage.yandexcloud.net/postcards-open-sources/pugachev (156).jpg   \n",
              "1  https://storage.yandexcloud.net/postcards-open-sources/auction10 (1794).jpg   \n",
              "2  https://storage.yandexcloud.net/postcards-open-sources/auction10 (1716).jpg   \n",
              "3  https://storage.yandexcloud.net/postcards-open-sources/auction10 (1648).jpg   \n",
              "4  https://storage.yandexcloud.net/postcards-open-sources/auction10 (1538).jpg   \n",
              "\n",
              "                                                               Pic_url_2_front  \\\n",
              "0  https://storage.yandexcloud.net/postcards-open-sources/auction10 (1621).jpg   \n",
              "1  https://storage.yandexcloud.net/postcards-open-sources/auction10 (1803).jpg   \n",
              "2  https://storage.yandexcloud.net/postcards-open-sources/auction10 (1717).jpg   \n",
              "3  https://storage.yandexcloud.net/postcards-open-sources/auction10 (1653).jpg   \n",
              "4  https://storage.yandexcloud.net/postcards-open-sources/auction10 (1539).jpg   \n",
              "\n",
              "                                                                Pic_url_2_back  \\\n",
              "0  https://storage.yandexcloud.net/postcards-open-sources/auction10 (1622).jpg   \n",
              "1  https://storage.yandexcloud.net/postcards-open-sources/auction10 (1804).jpg   \n",
              "2  https://storage.yandexcloud.net/postcards-open-sources/auction10 (1718).jpg   \n",
              "3  https://storage.yandexcloud.net/postcards-open-sources/auction10 (1654).jpg   \n",
              "4  https://storage.yandexcloud.net/postcards-open-sources/auction10 (1540).jpg   \n",
              "\n",
              "  1 лицевая 2 лицевая 1 оборотная 2 оборотная Статус  \n",
              "0                                              Дубли  \n",
              "1                                              Дубли  \n",
              "2                                              Дубли  \n",
              "3                                              Дубли  \n",
              "4                                              Дубли  "
            ],
            "text/html": [
              "\n",
              "  <div id=\"df-fb591ee0-fd8d-40bb-b8ef-4a0b8a51c881\">\n",
              "    <div class=\"colab-df-container\">\n",
              "      <div>\n",
              "<style scoped>\n",
              "    .dataframe tbody tr th:only-of-type {\n",
              "        vertical-align: middle;\n",
              "    }\n",
              "\n",
              "    .dataframe tbody tr th {\n",
              "        vertical-align: top;\n",
              "    }\n",
              "\n",
              "    .dataframe thead th {\n",
              "        text-align: right;\n",
              "    }\n",
              "</style>\n",
              "<table border=\"1\" class=\"dataframe\">\n",
              "  <thead>\n",
              "    <tr style=\"text-align: right;\">\n",
              "      <th></th>\n",
              "      <th>hash_dist</th>\n",
              "      <th>base_1</th>\n",
              "      <th>ID_1</th>\n",
              "      <th>base_2</th>\n",
              "      <th>ID_2</th>\n",
              "      <th>Pic_url_1_front</th>\n",
              "      <th>Pic_url_1_back</th>\n",
              "      <th>Pic_url_2_front</th>\n",
              "      <th>Pic_url_2_back</th>\n",
              "      <th>1 лицевая</th>\n",
              "      <th>2 лицевая</th>\n",
              "      <th>1 оборотная</th>\n",
              "      <th>2 оборотная</th>\n",
              "      <th>Статус</th>\n",
              "    </tr>\n",
              "  </thead>\n",
              "  <tbody>\n",
              "    <tr>\n",
              "      <th>0</th>\n",
              "      <td>0</td>\n",
              "      <td>3</td>\n",
              "      <td>207233</td>\n",
              "      <td>5</td>\n",
              "      <td>228556</td>\n",
              "      <td>https://storage.yandexcloud.net/postcards-open-sources/pugachev (155).jpg</td>\n",
              "      <td>https://storage.yandexcloud.net/postcards-open-sources/pugachev (156).jpg</td>\n",
              "      <td>https://storage.yandexcloud.net/postcards-open-sources/auction10 (1621).jpg</td>\n",
              "      <td>https://storage.yandexcloud.net/postcards-open-sources/auction10 (1622).jpg</td>\n",
              "      <td></td>\n",
              "      <td></td>\n",
              "      <td></td>\n",
              "      <td></td>\n",
              "      <td>Дубли</td>\n",
              "    </tr>\n",
              "    <tr>\n",
              "      <th>1</th>\n",
              "      <td>0</td>\n",
              "      <td>5</td>\n",
              "      <td>228642</td>\n",
              "      <td>5</td>\n",
              "      <td>228647</td>\n",
              "      <td>https://storage.yandexcloud.net/postcards-open-sources/auction10 (1793).jpg</td>\n",
              "      <td>https://storage.yandexcloud.net/postcards-open-sources/auction10 (1794).jpg</td>\n",
              "      <td>https://storage.yandexcloud.net/postcards-open-sources/auction10 (1803).jpg</td>\n",
              "      <td>https://storage.yandexcloud.net/postcards-open-sources/auction10 (1804).jpg</td>\n",
              "      <td></td>\n",
              "      <td></td>\n",
              "      <td></td>\n",
              "      <td></td>\n",
              "      <td>Дубли</td>\n",
              "    </tr>\n",
              "    <tr>\n",
              "      <th>2</th>\n",
              "      <td>0</td>\n",
              "      <td>5</td>\n",
              "      <td>228603</td>\n",
              "      <td>5</td>\n",
              "      <td>228604</td>\n",
              "      <td>https://storage.yandexcloud.net/postcards-open-sources/auction10 (1715).jpg</td>\n",
              "      <td>https://storage.yandexcloud.net/postcards-open-sources/auction10 (1716).jpg</td>\n",
              "      <td>https://storage.yandexcloud.net/postcards-open-sources/auction10 (1717).jpg</td>\n",
              "      <td>https://storage.yandexcloud.net/postcards-open-sources/auction10 (1718).jpg</td>\n",
              "      <td></td>\n",
              "      <td></td>\n",
              "      <td></td>\n",
              "      <td></td>\n",
              "      <td>Дубли</td>\n",
              "    </tr>\n",
              "    <tr>\n",
              "      <th>3</th>\n",
              "      <td>0</td>\n",
              "      <td>5</td>\n",
              "      <td>228569</td>\n",
              "      <td>5</td>\n",
              "      <td>228572</td>\n",
              "      <td>https://storage.yandexcloud.net/postcards-open-sources/auction10 (1647).jpg</td>\n",
              "      <td>https://storage.yandexcloud.net/postcards-open-sources/auction10 (1648).jpg</td>\n",
              "      <td>https://storage.yandexcloud.net/postcards-open-sources/auction10 (1653).jpg</td>\n",
              "      <td>https://storage.yandexcloud.net/postcards-open-sources/auction10 (1654).jpg</td>\n",
              "      <td></td>\n",
              "      <td></td>\n",
              "      <td></td>\n",
              "      <td></td>\n",
              "      <td>Дубли</td>\n",
              "    </tr>\n",
              "    <tr>\n",
              "      <th>4</th>\n",
              "      <td>0</td>\n",
              "      <td>5</td>\n",
              "      <td>228514</td>\n",
              "      <td>5</td>\n",
              "      <td>228515</td>\n",
              "      <td>https://storage.yandexcloud.net/postcards-open-sources/auction10 (1537).jpg</td>\n",
              "      <td>https://storage.yandexcloud.net/postcards-open-sources/auction10 (1538).jpg</td>\n",
              "      <td>https://storage.yandexcloud.net/postcards-open-sources/auction10 (1539).jpg</td>\n",
              "      <td>https://storage.yandexcloud.net/postcards-open-sources/auction10 (1540).jpg</td>\n",
              "      <td></td>\n",
              "      <td></td>\n",
              "      <td></td>\n",
              "      <td></td>\n",
              "      <td>Дубли</td>\n",
              "    </tr>\n",
              "  </tbody>\n",
              "</table>\n",
              "</div>\n",
              "      <button class=\"colab-df-convert\" onclick=\"convertToInteractive('df-fb591ee0-fd8d-40bb-b8ef-4a0b8a51c881')\"\n",
              "              title=\"Convert this dataframe to an interactive table.\"\n",
              "              style=\"display:none;\">\n",
              "        \n",
              "  <svg xmlns=\"http://www.w3.org/2000/svg\" height=\"24px\"viewBox=\"0 0 24 24\"\n",
              "       width=\"24px\">\n",
              "    <path d=\"M0 0h24v24H0V0z\" fill=\"none\"/>\n",
              "    <path d=\"M18.56 5.44l.94 2.06.94-2.06 2.06-.94-2.06-.94-.94-2.06-.94 2.06-2.06.94zm-11 1L8.5 8.5l.94-2.06 2.06-.94-2.06-.94L8.5 2.5l-.94 2.06-2.06.94zm10 10l.94 2.06.94-2.06 2.06-.94-2.06-.94-.94-2.06-.94 2.06-2.06.94z\"/><path d=\"M17.41 7.96l-1.37-1.37c-.4-.4-.92-.59-1.43-.59-.52 0-1.04.2-1.43.59L10.3 9.45l-7.72 7.72c-.78.78-.78 2.05 0 2.83L4 21.41c.39.39.9.59 1.41.59.51 0 1.02-.2 1.41-.59l7.78-7.78 2.81-2.81c.8-.78.8-2.07 0-2.86zM5.41 20L4 18.59l7.72-7.72 1.47 1.35L5.41 20z\"/>\n",
              "  </svg>\n",
              "      </button>\n",
              "      \n",
              "  <style>\n",
              "    .colab-df-container {\n",
              "      display:flex;\n",
              "      flex-wrap:wrap;\n",
              "      gap: 12px;\n",
              "    }\n",
              "\n",
              "    .colab-df-convert {\n",
              "      background-color: #E8F0FE;\n",
              "      border: none;\n",
              "      border-radius: 50%;\n",
              "      cursor: pointer;\n",
              "      display: none;\n",
              "      fill: #1967D2;\n",
              "      height: 32px;\n",
              "      padding: 0 0 0 0;\n",
              "      width: 32px;\n",
              "    }\n",
              "\n",
              "    .colab-df-convert:hover {\n",
              "      background-color: #E2EBFA;\n",
              "      box-shadow: 0px 1px 2px rgba(60, 64, 67, 0.3), 0px 1px 3px 1px rgba(60, 64, 67, 0.15);\n",
              "      fill: #174EA6;\n",
              "    }\n",
              "\n",
              "    [theme=dark] .colab-df-convert {\n",
              "      background-color: #3B4455;\n",
              "      fill: #D2E3FC;\n",
              "    }\n",
              "\n",
              "    [theme=dark] .colab-df-convert:hover {\n",
              "      background-color: #434B5C;\n",
              "      box-shadow: 0px 1px 3px 1px rgba(0, 0, 0, 0.15);\n",
              "      filter: drop-shadow(0px 1px 2px rgba(0, 0, 0, 0.3));\n",
              "      fill: #FFFFFF;\n",
              "    }\n",
              "  </style>\n",
              "\n",
              "      <script>\n",
              "        const buttonEl =\n",
              "          document.querySelector('#df-fb591ee0-fd8d-40bb-b8ef-4a0b8a51c881 button.colab-df-convert');\n",
              "        buttonEl.style.display =\n",
              "          google.colab.kernel.accessAllowed ? 'block' : 'none';\n",
              "\n",
              "        async function convertToInteractive(key) {\n",
              "          const element = document.querySelector('#df-fb591ee0-fd8d-40bb-b8ef-4a0b8a51c881');\n",
              "          const dataTable =\n",
              "            await google.colab.kernel.invokeFunction('convertToInteractive',\n",
              "                                                     [key], {});\n",
              "          if (!dataTable) return;\n",
              "\n",
              "          const docLinkHtml = 'Like what you see? Visit the ' +\n",
              "            '<a target=\"_blank\" href=https://colab.research.google.com/notebooks/data_table.ipynb>data table notebook</a>'\n",
              "            + ' to learn more about interactive tables.';\n",
              "          element.innerHTML = '';\n",
              "          dataTable['output_type'] = 'display_data';\n",
              "          await google.colab.output.renderOutput(dataTable, element);\n",
              "          const docLink = document.createElement('div');\n",
              "          docLink.innerHTML = docLinkHtml;\n",
              "          element.appendChild(docLink);\n",
              "        }\n",
              "      </script>\n",
              "    </div>\n",
              "  </div>\n",
              "  "
            ]
          },
          "metadata": {}
        }
      ]
    },
    {
      "cell_type": "markdown",
      "source": [
        "Оставляем каждую пару открыток один раз"
      ],
      "metadata": {
        "id": "vqRwKvqvK4FI"
      }
    },
    {
      "cell_type": "code",
      "source": [
        "possible_doubles = possible_doubles.groupby(['ID_1', 'ID_2']).first().reset_index()"
      ],
      "metadata": {
        "id": "OKORtUniJuLE"
      },
      "execution_count": 67,
      "outputs": []
    },
    {
      "cell_type": "code",
      "source": [
        "possible_doubles['Статус'].value_counts()"
      ],
      "metadata": {
        "colab": {
          "base_uri": "https://localhost:8080/"
        },
        "id": "YqNuVJRBHwpl",
        "outputId": "dbebe382-b187-4168-ec5b-d5e36472b80a"
      },
      "execution_count": 55,
      "outputs": [
        {
          "output_type": "execute_result",
          "data": {
            "text/plain": [
              "Дубли    21\n",
              "         15\n",
              "Name: Статус, dtype: int64"
            ]
          },
          "metadata": {},
          "execution_count": 55
        }
      ]
    },
    {
      "cell_type": "code",
      "source": [
        "possible_doubles = possible_doubles.drop(['Pic_1', 'Pic_2', 'Pics'], axis=1)\n",
        "possible_doubles['1 лицевая'] = ''\n",
        "possible_doubles['2 лицевая'] = ''\n",
        "possible_doubles['1 оборотная'] = ''\n",
        "possible_doubles['2 оборотная'] = ''\n",
        "possible_doubles = possible_doubles[['hash_dist', 'base_1', 'ID_1', 'base_2', 'ID_2', 'Pic_url_1_front',\n",
        "       'Pic_url_1_back', 'Pic_url_2_front', 'Pic_url_2_back',\n",
        "       '1 лицевая', '2 лицевая', '1 оборотная', '2 оборотная', 'Статус']]"
      ],
      "metadata": {
        "id": "_w_Tz8WiHY42"
      },
      "execution_count": 68,
      "outputs": []
    },
    {
      "cell_type": "code",
      "source": [
        "possible_doubles.shape"
      ],
      "metadata": {
        "colab": {
          "base_uri": "https://localhost:8080/"
        },
        "id": "u8a2dPe7K8YD",
        "outputId": "e531a017-3970-4407-dcec-d192ac238586"
      },
      "execution_count": 57,
      "outputs": [
        {
          "output_type": "execute_result",
          "data": {
            "text/plain": [
              "(36, 14)"
            ]
          },
          "metadata": {},
          "execution_count": 57
        }
      ]
    },
    {
      "cell_type": "markdown",
      "source": [
        "Отсортируем по возрастанию расстояния"
      ],
      "metadata": {
        "id": "Jp5FtRKaN8BY"
      }
    },
    {
      "cell_type": "code",
      "source": [
        "possible_doubles = possible_doubles.sort_values(by='hash_dist').reset_index().drop('index', axis=1)"
      ],
      "metadata": {
        "id": "DUTry4qMN-7C"
      },
      "execution_count": 69,
      "outputs": []
    },
    {
      "cell_type": "code",
      "source": [
        "possible_doubles.to_csv('possible_doubles_base_5_3_prep.csv', index=False)"
      ],
      "metadata": {
        "id": "avdYBsK_ph5U"
      },
      "execution_count": 70,
      "outputs": []
    },
    {
      "cell_type": "markdown",
      "source": [
        "# Анализ статистики дублирования"
      ],
      "metadata": {
        "id": "PH7g4QOXe7dv"
      }
    },
    {
      "cell_type": "code",
      "source": [
        "import pandas as pd"
      ],
      "metadata": {
        "id": "B0Rbjy17e-uK"
      },
      "execution_count": null,
      "outputs": []
    },
    {
      "cell_type": "code",
      "source": [
        "confirmed_doubles = pd.read_csv('/content/Пишу тебе дублирование в базах - база 4 с новыми ID.csv')\n",
        "confirmed_doubles = confirmed_doubles[~confirmed_doubles['hash_dist'].isna()]\n",
        "\n",
        "confirmed_doubles['hash_dist'] = confirmed_doubles['hash_dist'].astype(int)\n",
        "confirmed_doubles['base_1'] = confirmed_doubles['base_1'].astype(int)\n",
        "confirmed_doubles['base_2'] = confirmed_doubles['base_2'].astype(int)\n",
        "confirmed_doubles['ID_1'] = confirmed_doubles['ID_1'].astype(int)\n",
        "confirmed_doubles['ID_2'] = confirmed_doubles['ID_2'].astype(int)\n",
        "\n",
        "# после этого при расст. 0 автоматически проставлялся статус \"дубли\"\n",
        "confirmed_doubles = confirmed_doubles[confirmed_doubles['ID_2'] <= 220134]\n",
        "\n",
        "confirmed_doubles.head()"
      ],
      "metadata": {
        "colab": {
          "base_uri": "https://localhost:8080/",
          "height": 391
        },
        "id": "nnEZ6Ip6fApM",
        "outputId": "db6d18bd-f1cf-46f2-d3d0-60fa5cf1542d"
      },
      "execution_count": null,
      "outputs": [
        {
          "output_type": "execute_result",
          "data": {
            "text/plain": [
              "   hash_dist  base_1  ID_1  base_2    ID_2  \\\n",
              "0          0       1  1204       4  216471   \n",
              "1          0       1  1205       4  216472   \n",
              "2          0       1  2145       4  217037   \n",
              "3          0       1  3103       4  217941   \n",
              "4          0       1  3104       4  217977   \n",
              "\n",
              "                                     Pic_url_1_front  \\\n",
              "0  https://forum.vgd.ru/file.php?fid=255674&key=2...   \n",
              "1  https://forum.vgd.ru/file.php?fid=255676&key=1...   \n",
              "2  https://storage.yandexcloud.net/postcards-new/...   \n",
              "3  https://storage.yandexcloud.net/postcards-open...   \n",
              "4  https://storage.yandexcloud.net/postcards-open...   \n",
              "\n",
              "                                      Pic_url_1_back  \\\n",
              "0  https://forum.vgd.ru/file.php?fid=255675&key=1...   \n",
              "1  https://forum.vgd.ru/file.php?fid=255677&key=1...   \n",
              "2  https://storage.yandexcloud.net/postcards-new/...   \n",
              "3  https://storage.yandexcloud.net/postcards-open...   \n",
              "4  https://storage.yandexcloud.net/postcards-open...   \n",
              "\n",
              "                                     Pic_url_2_front  \\\n",
              "0  https://storage.yandexcloud.net/postcards-open...   \n",
              "1  https://storage.yandexcloud.net/postcards-open...   \n",
              "2  https://storage.yandexcloud.net/postcards-open...   \n",
              "3  https://storage.yandexcloud.net/postcards-open...   \n",
              "4  https://storage.yandexcloud.net/postcards-open...   \n",
              "\n",
              "                                      Pic_url_2_back  \\\n",
              "0  https://storage.yandexcloud.net/postcards-open...   \n",
              "1  https://storage.yandexcloud.net/postcards-open...   \n",
              "2  https://storage.yandexcloud.net/postcards-open...   \n",
              "3  https://storage.yandexcloud.net/postcards-open...   \n",
              "4  https://storage.yandexcloud.net/postcards-open...   \n",
              "\n",
              "                                           1 лицевая  \\\n",
              "0  https://forum.vgd.ru/file.php?fid=255674&key=2...   \n",
              "1  https://forum.vgd.ru/file.php?fid=255676&key=1...   \n",
              "2  https://storage.yandexcloud.net/postcards-new/...   \n",
              "3  https://storage.yandexcloud.net/postcards-open...   \n",
              "4  https://storage.yandexcloud.net/postcards-open...   \n",
              "\n",
              "                                           2 лицевая  \\\n",
              "0  https://storage.yandexcloud.net/postcards-open...   \n",
              "1  https://storage.yandexcloud.net/postcards-open...   \n",
              "2  https://storage.yandexcloud.net/postcards-open...   \n",
              "3  https://storage.yandexcloud.net/postcards-open...   \n",
              "4  https://storage.yandexcloud.net/postcards-open...   \n",
              "\n",
              "                                         1 оборотная  \\\n",
              "0  https://forum.vgd.ru/file.php?fid=255675&key=1...   \n",
              "1  https://forum.vgd.ru/file.php?fid=255677&key=1...   \n",
              "2  https://storage.yandexcloud.net/postcards-new/...   \n",
              "3  https://storage.yandexcloud.net/postcards-open...   \n",
              "4  https://storage.yandexcloud.net/postcards-open...   \n",
              "\n",
              "                                         2 оборотная                   Статус  \\\n",
              "0  https://storage.yandexcloud.net/postcards-open...                    Дубли   \n",
              "1  https://storage.yandexcloud.net/postcards-open...                    Дубли   \n",
              "2  https://storage.yandexcloud.net/postcards-open...  Разные лицевая и оборот   \n",
              "3  https://storage.yandexcloud.net/postcards-open...                    Дубли   \n",
              "4  https://storage.yandexcloud.net/postcards-open...                    Дубли   \n",
              "\n",
              "  Комментарий  \n",
              "0         NaN  \n",
              "1         NaN  \n",
              "2         NaN  \n",
              "3         NaN  \n",
              "4         NaN  "
            ],
            "text/html": [
              "\n",
              "  <div id=\"df-ba37d4de-22ce-4679-a634-944a26a3cbd1\">\n",
              "    <div class=\"colab-df-container\">\n",
              "      <div>\n",
              "<style scoped>\n",
              "    .dataframe tbody tr th:only-of-type {\n",
              "        vertical-align: middle;\n",
              "    }\n",
              "\n",
              "    .dataframe tbody tr th {\n",
              "        vertical-align: top;\n",
              "    }\n",
              "\n",
              "    .dataframe thead th {\n",
              "        text-align: right;\n",
              "    }\n",
              "</style>\n",
              "<table border=\"1\" class=\"dataframe\">\n",
              "  <thead>\n",
              "    <tr style=\"text-align: right;\">\n",
              "      <th></th>\n",
              "      <th>hash_dist</th>\n",
              "      <th>base_1</th>\n",
              "      <th>ID_1</th>\n",
              "      <th>base_2</th>\n",
              "      <th>ID_2</th>\n",
              "      <th>Pic_url_1_front</th>\n",
              "      <th>Pic_url_1_back</th>\n",
              "      <th>Pic_url_2_front</th>\n",
              "      <th>Pic_url_2_back</th>\n",
              "      <th>1 лицевая</th>\n",
              "      <th>2 лицевая</th>\n",
              "      <th>1 оборотная</th>\n",
              "      <th>2 оборотная</th>\n",
              "      <th>Статус</th>\n",
              "      <th>Комментарий</th>\n",
              "    </tr>\n",
              "  </thead>\n",
              "  <tbody>\n",
              "    <tr>\n",
              "      <th>0</th>\n",
              "      <td>0</td>\n",
              "      <td>1</td>\n",
              "      <td>1204</td>\n",
              "      <td>4</td>\n",
              "      <td>216471</td>\n",
              "      <td>https://forum.vgd.ru/file.php?fid=255674&amp;key=2...</td>\n",
              "      <td>https://forum.vgd.ru/file.php?fid=255675&amp;key=1...</td>\n",
              "      <td>https://storage.yandexcloud.net/postcards-open...</td>\n",
              "      <td>https://storage.yandexcloud.net/postcards-open...</td>\n",
              "      <td>https://forum.vgd.ru/file.php?fid=255674&amp;key=2...</td>\n",
              "      <td>https://storage.yandexcloud.net/postcards-open...</td>\n",
              "      <td>https://forum.vgd.ru/file.php?fid=255675&amp;key=1...</td>\n",
              "      <td>https://storage.yandexcloud.net/postcards-open...</td>\n",
              "      <td>Дубли</td>\n",
              "      <td>NaN</td>\n",
              "    </tr>\n",
              "    <tr>\n",
              "      <th>1</th>\n",
              "      <td>0</td>\n",
              "      <td>1</td>\n",
              "      <td>1205</td>\n",
              "      <td>4</td>\n",
              "      <td>216472</td>\n",
              "      <td>https://forum.vgd.ru/file.php?fid=255676&amp;key=1...</td>\n",
              "      <td>https://forum.vgd.ru/file.php?fid=255677&amp;key=1...</td>\n",
              "      <td>https://storage.yandexcloud.net/postcards-open...</td>\n",
              "      <td>https://storage.yandexcloud.net/postcards-open...</td>\n",
              "      <td>https://forum.vgd.ru/file.php?fid=255676&amp;key=1...</td>\n",
              "      <td>https://storage.yandexcloud.net/postcards-open...</td>\n",
              "      <td>https://forum.vgd.ru/file.php?fid=255677&amp;key=1...</td>\n",
              "      <td>https://storage.yandexcloud.net/postcards-open...</td>\n",
              "      <td>Дубли</td>\n",
              "      <td>NaN</td>\n",
              "    </tr>\n",
              "    <tr>\n",
              "      <th>2</th>\n",
              "      <td>0</td>\n",
              "      <td>1</td>\n",
              "      <td>2145</td>\n",
              "      <td>4</td>\n",
              "      <td>217037</td>\n",
              "      <td>https://storage.yandexcloud.net/postcards-new/...</td>\n",
              "      <td>https://storage.yandexcloud.net/postcards-new/...</td>\n",
              "      <td>https://storage.yandexcloud.net/postcards-open...</td>\n",
              "      <td>https://storage.yandexcloud.net/postcards-open...</td>\n",
              "      <td>https://storage.yandexcloud.net/postcards-new/...</td>\n",
              "      <td>https://storage.yandexcloud.net/postcards-open...</td>\n",
              "      <td>https://storage.yandexcloud.net/postcards-new/...</td>\n",
              "      <td>https://storage.yandexcloud.net/postcards-open...</td>\n",
              "      <td>Разные лицевая и оборот</td>\n",
              "      <td>NaN</td>\n",
              "    </tr>\n",
              "    <tr>\n",
              "      <th>3</th>\n",
              "      <td>0</td>\n",
              "      <td>1</td>\n",
              "      <td>3103</td>\n",
              "      <td>4</td>\n",
              "      <td>217941</td>\n",
              "      <td>https://storage.yandexcloud.net/postcards-open...</td>\n",
              "      <td>https://storage.yandexcloud.net/postcards-open...</td>\n",
              "      <td>https://storage.yandexcloud.net/postcards-open...</td>\n",
              "      <td>https://storage.yandexcloud.net/postcards-open...</td>\n",
              "      <td>https://storage.yandexcloud.net/postcards-open...</td>\n",
              "      <td>https://storage.yandexcloud.net/postcards-open...</td>\n",
              "      <td>https://storage.yandexcloud.net/postcards-open...</td>\n",
              "      <td>https://storage.yandexcloud.net/postcards-open...</td>\n",
              "      <td>Дубли</td>\n",
              "      <td>NaN</td>\n",
              "    </tr>\n",
              "    <tr>\n",
              "      <th>4</th>\n",
              "      <td>0</td>\n",
              "      <td>1</td>\n",
              "      <td>3104</td>\n",
              "      <td>4</td>\n",
              "      <td>217977</td>\n",
              "      <td>https://storage.yandexcloud.net/postcards-open...</td>\n",
              "      <td>https://storage.yandexcloud.net/postcards-open...</td>\n",
              "      <td>https://storage.yandexcloud.net/postcards-open...</td>\n",
              "      <td>https://storage.yandexcloud.net/postcards-open...</td>\n",
              "      <td>https://storage.yandexcloud.net/postcards-open...</td>\n",
              "      <td>https://storage.yandexcloud.net/postcards-open...</td>\n",
              "      <td>https://storage.yandexcloud.net/postcards-open...</td>\n",
              "      <td>https://storage.yandexcloud.net/postcards-open...</td>\n",
              "      <td>Дубли</td>\n",
              "      <td>NaN</td>\n",
              "    </tr>\n",
              "  </tbody>\n",
              "</table>\n",
              "</div>\n",
              "      <button class=\"colab-df-convert\" onclick=\"convertToInteractive('df-ba37d4de-22ce-4679-a634-944a26a3cbd1')\"\n",
              "              title=\"Convert this dataframe to an interactive table.\"\n",
              "              style=\"display:none;\">\n",
              "        \n",
              "  <svg xmlns=\"http://www.w3.org/2000/svg\" height=\"24px\"viewBox=\"0 0 24 24\"\n",
              "       width=\"24px\">\n",
              "    <path d=\"M0 0h24v24H0V0z\" fill=\"none\"/>\n",
              "    <path d=\"M18.56 5.44l.94 2.06.94-2.06 2.06-.94-2.06-.94-.94-2.06-.94 2.06-2.06.94zm-11 1L8.5 8.5l.94-2.06 2.06-.94-2.06-.94L8.5 2.5l-.94 2.06-2.06.94zm10 10l.94 2.06.94-2.06 2.06-.94-2.06-.94-.94-2.06-.94 2.06-2.06.94z\"/><path d=\"M17.41 7.96l-1.37-1.37c-.4-.4-.92-.59-1.43-.59-.52 0-1.04.2-1.43.59L10.3 9.45l-7.72 7.72c-.78.78-.78 2.05 0 2.83L4 21.41c.39.39.9.59 1.41.59.51 0 1.02-.2 1.41-.59l7.78-7.78 2.81-2.81c.8-.78.8-2.07 0-2.86zM5.41 20L4 18.59l7.72-7.72 1.47 1.35L5.41 20z\"/>\n",
              "  </svg>\n",
              "      </button>\n",
              "      \n",
              "  <style>\n",
              "    .colab-df-container {\n",
              "      display:flex;\n",
              "      flex-wrap:wrap;\n",
              "      gap: 12px;\n",
              "    }\n",
              "\n",
              "    .colab-df-convert {\n",
              "      background-color: #E8F0FE;\n",
              "      border: none;\n",
              "      border-radius: 50%;\n",
              "      cursor: pointer;\n",
              "      display: none;\n",
              "      fill: #1967D2;\n",
              "      height: 32px;\n",
              "      padding: 0 0 0 0;\n",
              "      width: 32px;\n",
              "    }\n",
              "\n",
              "    .colab-df-convert:hover {\n",
              "      background-color: #E2EBFA;\n",
              "      box-shadow: 0px 1px 2px rgba(60, 64, 67, 0.3), 0px 1px 3px 1px rgba(60, 64, 67, 0.15);\n",
              "      fill: #174EA6;\n",
              "    }\n",
              "\n",
              "    [theme=dark] .colab-df-convert {\n",
              "      background-color: #3B4455;\n",
              "      fill: #D2E3FC;\n",
              "    }\n",
              "\n",
              "    [theme=dark] .colab-df-convert:hover {\n",
              "      background-color: #434B5C;\n",
              "      box-shadow: 0px 1px 3px 1px rgba(0, 0, 0, 0.15);\n",
              "      filter: drop-shadow(0px 1px 2px rgba(0, 0, 0, 0.3));\n",
              "      fill: #FFFFFF;\n",
              "    }\n",
              "  </style>\n",
              "\n",
              "      <script>\n",
              "        const buttonEl =\n",
              "          document.querySelector('#df-ba37d4de-22ce-4679-a634-944a26a3cbd1 button.colab-df-convert');\n",
              "        buttonEl.style.display =\n",
              "          google.colab.kernel.accessAllowed ? 'block' : 'none';\n",
              "\n",
              "        async function convertToInteractive(key) {\n",
              "          const element = document.querySelector('#df-ba37d4de-22ce-4679-a634-944a26a3cbd1');\n",
              "          const dataTable =\n",
              "            await google.colab.kernel.invokeFunction('convertToInteractive',\n",
              "                                                     [key], {});\n",
              "          if (!dataTable) return;\n",
              "\n",
              "          const docLinkHtml = 'Like what you see? Visit the ' +\n",
              "            '<a target=\"_blank\" href=https://colab.research.google.com/notebooks/data_table.ipynb>data table notebook</a>'\n",
              "            + ' to learn more about interactive tables.';\n",
              "          element.innerHTML = '';\n",
              "          dataTable['output_type'] = 'display_data';\n",
              "          await google.colab.output.renderOutput(dataTable, element);\n",
              "          const docLink = document.createElement('div');\n",
              "          docLink.innerHTML = docLinkHtml;\n",
              "          element.appendChild(docLink);\n",
              "        }\n",
              "      </script>\n",
              "    </div>\n",
              "  </div>\n",
              "  "
            ]
          },
          "metadata": {},
          "execution_count": 111
        }
      ]
    },
    {
      "cell_type": "code",
      "source": [
        "df.shape"
      ],
      "metadata": {
        "colab": {
          "base_uri": "https://localhost:8080/"
        },
        "id": "uQAMwYUifPMI",
        "outputId": "90c935de-7058-4b67-adca-a7cdf8cdf298"
      },
      "execution_count": null,
      "outputs": [
        {
          "output_type": "execute_result",
          "data": {
            "text/plain": [
              "(1112, 15)"
            ]
          },
          "metadata": {},
          "execution_count": 13
        }
      ]
    },
    {
      "cell_type": "code",
      "source": [
        "df.isna().sum()"
      ],
      "metadata": {
        "colab": {
          "base_uri": "https://localhost:8080/"
        },
        "id": "ezPqMDzqfJm3",
        "outputId": "392e1e87-052f-4a2c-959b-f9dcd3c7dcaa"
      },
      "execution_count": null,
      "outputs": [
        {
          "output_type": "execute_result",
          "data": {
            "text/plain": [
              "hash_dist             0\n",
              "base_1                0\n",
              "ID_1                  0\n",
              "base_2                0\n",
              "ID_2                  0\n",
              "Pic_url_1_front       0\n",
              "Pic_url_1_back        1\n",
              "Pic_url_2_front       0\n",
              "Pic_url_2_back        0\n",
              "1 лицевая             0\n",
              "2 лицевая             0\n",
              "1 оборотная           1\n",
              "2 оборотная           0\n",
              "Статус                0\n",
              "Комментарий        1111\n",
              "dtype: int64"
            ]
          },
          "metadata": {},
          "execution_count": 14
        }
      ]
    },
    {
      "cell_type": "code",
      "source": [
        "df['Статус'].value_counts(normalize=True)"
      ],
      "metadata": {
        "colab": {
          "base_uri": "https://localhost:8080/"
        },
        "id": "vQiQDEy2fvZg",
        "outputId": "901d7a1d-42fa-4d4a-ecc7-bf7967598aee"
      },
      "execution_count": null,
      "outputs": [
        {
          "output_type": "execute_result",
          "data": {
            "text/plain": [
              "Дубли                                   0.665468\n",
              "Разные лицевая и оборот                 0.192446\n",
              "Совпадает лицевая, оборот отличается    0.142086\n",
              "Name: Статус, dtype: float64"
            ]
          },
          "metadata": {},
          "execution_count": 15
        }
      ]
    },
    {
      "cell_type": "code",
      "source": [
        "import matplotlib.pyplot as plt\n",
        "import seaborn as sns"
      ],
      "metadata": {
        "id": "9J0PKivWhAXS"
      },
      "execution_count": null,
      "outputs": []
    },
    {
      "cell_type": "code",
      "source": [
        "sns.set_theme()"
      ],
      "metadata": {
        "id": "7TAQtXcRhSV3"
      },
      "execution_count": null,
      "outputs": []
    },
    {
      "cell_type": "code",
      "source": [
        "hash_dist_status = df.groupby('hash_dist')['Статус'].value_counts(\n",
        "    normalize=True).reset_index(name='percentage') \n",
        "hash_dist_status"
      ],
      "metadata": {
        "colab": {
          "base_uri": "https://localhost:8080/",
          "height": 425
        },
        "id": "3CS_tsfShaf6",
        "outputId": "0c6d0fc0-bdba-4339-a64c-7d3e65a5fb9f"
      },
      "execution_count": null,
      "outputs": [
        {
          "output_type": "execute_result",
          "data": {
            "text/plain": [
              "    hash_dist                                Статус  percentage\n",
              "0           0                                 Дубли    0.960526\n",
              "1           0               Разные лицевая и оборот    0.024436\n",
              "2           0  Совпадает лицевая, оборот отличается    0.015038\n",
              "3           1                                 Дубли    0.792135\n",
              "4           1               Разные лицевая и оборот    0.123596\n",
              "5           1  Совпадает лицевая, оборот отличается    0.084270\n",
              "6           2                                 Дубли    0.368421\n",
              "7           2               Разные лицевая и оборот    0.368421\n",
              "8           2  Совпадает лицевая, оборот отличается    0.263158\n",
              "9           3               Разные лицевая и оборот    0.492000\n",
              "10          3  Совпадает лицевая, оборот отличается    0.380000\n",
              "11          3                                 Дубли    0.128000"
            ],
            "text/html": [
              "\n",
              "  <div id=\"df-ddad4014-893d-4cc7-b342-976f9c437c41\">\n",
              "    <div class=\"colab-df-container\">\n",
              "      <div>\n",
              "<style scoped>\n",
              "    .dataframe tbody tr th:only-of-type {\n",
              "        vertical-align: middle;\n",
              "    }\n",
              "\n",
              "    .dataframe tbody tr th {\n",
              "        vertical-align: top;\n",
              "    }\n",
              "\n",
              "    .dataframe thead th {\n",
              "        text-align: right;\n",
              "    }\n",
              "</style>\n",
              "<table border=\"1\" class=\"dataframe\">\n",
              "  <thead>\n",
              "    <tr style=\"text-align: right;\">\n",
              "      <th></th>\n",
              "      <th>hash_dist</th>\n",
              "      <th>Статус</th>\n",
              "      <th>percentage</th>\n",
              "    </tr>\n",
              "  </thead>\n",
              "  <tbody>\n",
              "    <tr>\n",
              "      <th>0</th>\n",
              "      <td>0</td>\n",
              "      <td>Дубли</td>\n",
              "      <td>0.960526</td>\n",
              "    </tr>\n",
              "    <tr>\n",
              "      <th>1</th>\n",
              "      <td>0</td>\n",
              "      <td>Разные лицевая и оборот</td>\n",
              "      <td>0.024436</td>\n",
              "    </tr>\n",
              "    <tr>\n",
              "      <th>2</th>\n",
              "      <td>0</td>\n",
              "      <td>Совпадает лицевая, оборот отличается</td>\n",
              "      <td>0.015038</td>\n",
              "    </tr>\n",
              "    <tr>\n",
              "      <th>3</th>\n",
              "      <td>1</td>\n",
              "      <td>Дубли</td>\n",
              "      <td>0.792135</td>\n",
              "    </tr>\n",
              "    <tr>\n",
              "      <th>4</th>\n",
              "      <td>1</td>\n",
              "      <td>Разные лицевая и оборот</td>\n",
              "      <td>0.123596</td>\n",
              "    </tr>\n",
              "    <tr>\n",
              "      <th>5</th>\n",
              "      <td>1</td>\n",
              "      <td>Совпадает лицевая, оборот отличается</td>\n",
              "      <td>0.084270</td>\n",
              "    </tr>\n",
              "    <tr>\n",
              "      <th>6</th>\n",
              "      <td>2</td>\n",
              "      <td>Дубли</td>\n",
              "      <td>0.368421</td>\n",
              "    </tr>\n",
              "    <tr>\n",
              "      <th>7</th>\n",
              "      <td>2</td>\n",
              "      <td>Разные лицевая и оборот</td>\n",
              "      <td>0.368421</td>\n",
              "    </tr>\n",
              "    <tr>\n",
              "      <th>8</th>\n",
              "      <td>2</td>\n",
              "      <td>Совпадает лицевая, оборот отличается</td>\n",
              "      <td>0.263158</td>\n",
              "    </tr>\n",
              "    <tr>\n",
              "      <th>9</th>\n",
              "      <td>3</td>\n",
              "      <td>Разные лицевая и оборот</td>\n",
              "      <td>0.492000</td>\n",
              "    </tr>\n",
              "    <tr>\n",
              "      <th>10</th>\n",
              "      <td>3</td>\n",
              "      <td>Совпадает лицевая, оборот отличается</td>\n",
              "      <td>0.380000</td>\n",
              "    </tr>\n",
              "    <tr>\n",
              "      <th>11</th>\n",
              "      <td>3</td>\n",
              "      <td>Дубли</td>\n",
              "      <td>0.128000</td>\n",
              "    </tr>\n",
              "  </tbody>\n",
              "</table>\n",
              "</div>\n",
              "      <button class=\"colab-df-convert\" onclick=\"convertToInteractive('df-ddad4014-893d-4cc7-b342-976f9c437c41')\"\n",
              "              title=\"Convert this dataframe to an interactive table.\"\n",
              "              style=\"display:none;\">\n",
              "        \n",
              "  <svg xmlns=\"http://www.w3.org/2000/svg\" height=\"24px\"viewBox=\"0 0 24 24\"\n",
              "       width=\"24px\">\n",
              "    <path d=\"M0 0h24v24H0V0z\" fill=\"none\"/>\n",
              "    <path d=\"M18.56 5.44l.94 2.06.94-2.06 2.06-.94-2.06-.94-.94-2.06-.94 2.06-2.06.94zm-11 1L8.5 8.5l.94-2.06 2.06-.94-2.06-.94L8.5 2.5l-.94 2.06-2.06.94zm10 10l.94 2.06.94-2.06 2.06-.94-2.06-.94-.94-2.06-.94 2.06-2.06.94z\"/><path d=\"M17.41 7.96l-1.37-1.37c-.4-.4-.92-.59-1.43-.59-.52 0-1.04.2-1.43.59L10.3 9.45l-7.72 7.72c-.78.78-.78 2.05 0 2.83L4 21.41c.39.39.9.59 1.41.59.51 0 1.02-.2 1.41-.59l7.78-7.78 2.81-2.81c.8-.78.8-2.07 0-2.86zM5.41 20L4 18.59l7.72-7.72 1.47 1.35L5.41 20z\"/>\n",
              "  </svg>\n",
              "      </button>\n",
              "      \n",
              "  <style>\n",
              "    .colab-df-container {\n",
              "      display:flex;\n",
              "      flex-wrap:wrap;\n",
              "      gap: 12px;\n",
              "    }\n",
              "\n",
              "    .colab-df-convert {\n",
              "      background-color: #E8F0FE;\n",
              "      border: none;\n",
              "      border-radius: 50%;\n",
              "      cursor: pointer;\n",
              "      display: none;\n",
              "      fill: #1967D2;\n",
              "      height: 32px;\n",
              "      padding: 0 0 0 0;\n",
              "      width: 32px;\n",
              "    }\n",
              "\n",
              "    .colab-df-convert:hover {\n",
              "      background-color: #E2EBFA;\n",
              "      box-shadow: 0px 1px 2px rgba(60, 64, 67, 0.3), 0px 1px 3px 1px rgba(60, 64, 67, 0.15);\n",
              "      fill: #174EA6;\n",
              "    }\n",
              "\n",
              "    [theme=dark] .colab-df-convert {\n",
              "      background-color: #3B4455;\n",
              "      fill: #D2E3FC;\n",
              "    }\n",
              "\n",
              "    [theme=dark] .colab-df-convert:hover {\n",
              "      background-color: #434B5C;\n",
              "      box-shadow: 0px 1px 3px 1px rgba(0, 0, 0, 0.15);\n",
              "      filter: drop-shadow(0px 1px 2px rgba(0, 0, 0, 0.3));\n",
              "      fill: #FFFFFF;\n",
              "    }\n",
              "  </style>\n",
              "\n",
              "      <script>\n",
              "        const buttonEl =\n",
              "          document.querySelector('#df-ddad4014-893d-4cc7-b342-976f9c437c41 button.colab-df-convert');\n",
              "        buttonEl.style.display =\n",
              "          google.colab.kernel.accessAllowed ? 'block' : 'none';\n",
              "\n",
              "        async function convertToInteractive(key) {\n",
              "          const element = document.querySelector('#df-ddad4014-893d-4cc7-b342-976f9c437c41');\n",
              "          const dataTable =\n",
              "            await google.colab.kernel.invokeFunction('convertToInteractive',\n",
              "                                                     [key], {});\n",
              "          if (!dataTable) return;\n",
              "\n",
              "          const docLinkHtml = 'Like what you see? Visit the ' +\n",
              "            '<a target=\"_blank\" href=https://colab.research.google.com/notebooks/data_table.ipynb>data table notebook</a>'\n",
              "            + ' to learn more about interactive tables.';\n",
              "          element.innerHTML = '';\n",
              "          dataTable['output_type'] = 'display_data';\n",
              "          await google.colab.output.renderOutput(dataTable, element);\n",
              "          const docLink = document.createElement('div');\n",
              "          docLink.innerHTML = docLinkHtml;\n",
              "          element.appendChild(docLink);\n",
              "        }\n",
              "      </script>\n",
              "    </div>\n",
              "  </div>\n",
              "  "
            ]
          },
          "metadata": {},
          "execution_count": 41
        }
      ]
    },
    {
      "cell_type": "code",
      "source": [
        "import numpy as np"
      ],
      "metadata": {
        "id": "Y0z6-AOKmOhl"
      },
      "execution_count": null,
      "outputs": []
    },
    {
      "cell_type": "code",
      "source": [
        "sns.catplot(\n",
        "    data=hash_dist_status, kind=\"bar\",\n",
        "    x=\"hash_dist\", y=\"percentage\", hue=\"Статус\"\n",
        "    # errorbar=\"sd\", palette=\"dark\", alpha=.6, height=6\n",
        ");\n",
        "plt.yticks(np.arange(0, 1.1, 0.1));"
      ],
      "metadata": {
        "colab": {
          "base_uri": "https://localhost:8080/",
          "height": 365
        },
        "id": "S1SnYRryhUDN",
        "outputId": "dbb03382-d187-40be-afa4-dc0033e61aae"
      },
      "execution_count": null,
      "outputs": [
        {
          "output_type": "display_data",
          "data": {
            "text/plain": [
              "<Figure size 631.975x360 with 1 Axes>"
            ],
            "image/png": "[encoded data removed]"
          },
          "metadata": {}
        }
      ]
    },
    {
      "cell_type": "code",
      "source": [
        "sns.countplot(data=df, x='hash_dist');"
      ],
      "metadata": {
        "colab": {
          "base_uri": "https://localhost:8080/",
          "height": 285
        },
        "id": "37JTMoScm2G3",
        "outputId": "b6a024a3-d675-4f71-9ca1-3e36b6864630"
      },
      "execution_count": null,
      "outputs": [
        {
          "output_type": "display_data",
          "data": {
            "text/plain": [
              "<Figure size 432x288 with 1 Axes>"
            ],
            "image/png": "[encoded data removed]"
          },
          "metadata": {}
        }
      ]
    },
    {
      "cell_type": "code",
      "source": [
        "possible_doubles = pd.read_csv('possible_doubles_base_4_till_220134.csv', index_col=0)\n",
        "possible_doubles.head()"
      ],
      "metadata": {
        "colab": {
          "base_uri": "https://localhost:8080/",
          "height": 206
        },
        "outputId": "ef59c2c1-a82c-41b8-e489-b6a268efaba5",
        "id": "qdPC8_Bm1XRX"
      },
      "execution_count": null,
      "outputs": [
        {
          "output_type": "execute_result",
          "data": {
            "text/plain": [
              "   hash_dist  hash_db_index_1  hash_db_index_2\n",
              "0          0            44884            12109\n",
              "1          0            44885            12110\n",
              "2          1            45008            11474\n",
              "3          3            45044            52114\n",
              "4          3            45046            45055"
            ],
            "text/html": [
              "\n",
              "  <div id=\"df-a0bf521d-422c-42e4-bfd9-9e9ac8071471\">\n",
              "    <div class=\"colab-df-container\">\n",
              "      <div>\n",
              "<style scoped>\n",
              "    .dataframe tbody tr th:only-of-type {\n",
              "        vertical-align: middle;\n",
              "    }\n",
              "\n",
              "    .dataframe tbody tr th {\n",
              "        vertical-align: top;\n",
              "    }\n",
              "\n",
              "    .dataframe thead th {\n",
              "        text-align: right;\n",
              "    }\n",
              "</style>\n",
              "<table border=\"1\" class=\"dataframe\">\n",
              "  <thead>\n",
              "    <tr style=\"text-align: right;\">\n",
              "      <th></th>\n",
              "      <th>hash_dist</th>\n",
              "      <th>hash_db_index_1</th>\n",
              "      <th>hash_db_index_2</th>\n",
              "    </tr>\n",
              "  </thead>\n",
              "  <tbody>\n",
              "    <tr>\n",
              "      <th>0</th>\n",
              "      <td>0</td>\n",
              "      <td>44884</td>\n",
              "      <td>12109</td>\n",
              "    </tr>\n",
              "    <tr>\n",
              "      <th>1</th>\n",
              "      <td>0</td>\n",
              "      <td>44885</td>\n",
              "      <td>12110</td>\n",
              "    </tr>\n",
              "    <tr>\n",
              "      <th>2</th>\n",
              "      <td>1</td>\n",
              "      <td>45008</td>\n",
              "      <td>11474</td>\n",
              "    </tr>\n",
              "    <tr>\n",
              "      <th>3</th>\n",
              "      <td>3</td>\n",
              "      <td>45044</td>\n",
              "      <td>52114</td>\n",
              "    </tr>\n",
              "    <tr>\n",
              "      <th>4</th>\n",
              "      <td>3</td>\n",
              "      <td>45046</td>\n",
              "      <td>45055</td>\n",
              "    </tr>\n",
              "  </tbody>\n",
              "</table>\n",
              "</div>\n",
              "      <button class=\"colab-df-convert\" onclick=\"convertToInteractive('df-a0bf521d-422c-42e4-bfd9-9e9ac8071471')\"\n",
              "              title=\"Convert this dataframe to an interactive table.\"\n",
              "              style=\"display:none;\">\n",
              "        \n",
              "  <svg xmlns=\"http://www.w3.org/2000/svg\" height=\"24px\"viewBox=\"0 0 24 24\"\n",
              "       width=\"24px\">\n",
              "    <path d=\"M0 0h24v24H0V0z\" fill=\"none\"/>\n",
              "    <path d=\"M18.56 5.44l.94 2.06.94-2.06 2.06-.94-2.06-.94-.94-2.06-.94 2.06-2.06.94zm-11 1L8.5 8.5l.94-2.06 2.06-.94-2.06-.94L8.5 2.5l-.94 2.06-2.06.94zm10 10l.94 2.06.94-2.06 2.06-.94-2.06-.94-.94-2.06-.94 2.06-2.06.94z\"/><path d=\"M17.41 7.96l-1.37-1.37c-.4-.4-.92-.59-1.43-.59-.52 0-1.04.2-1.43.59L10.3 9.45l-7.72 7.72c-.78.78-.78 2.05 0 2.83L4 21.41c.39.39.9.59 1.41.59.51 0 1.02-.2 1.41-.59l7.78-7.78 2.81-2.81c.8-.78.8-2.07 0-2.86zM5.41 20L4 18.59l7.72-7.72 1.47 1.35L5.41 20z\"/>\n",
              "  </svg>\n",
              "      </button>\n",
              "      \n",
              "  <style>\n",
              "    .colab-df-container {\n",
              "      display:flex;\n",
              "      flex-wrap:wrap;\n",
              "      gap: 12px;\n",
              "    }\n",
              "\n",
              "    .colab-df-convert {\n",
              "      background-color: #E8F0FE;\n",
              "      border: none;\n",
              "      border-radius: 50%;\n",
              "      cursor: pointer;\n",
              "      display: none;\n",
              "      fill: #1967D2;\n",
              "      height: 32px;\n",
              "      padding: 0 0 0 0;\n",
              "      width: 32px;\n",
              "    }\n",
              "\n",
              "    .colab-df-convert:hover {\n",
              "      background-color: #E2EBFA;\n",
              "      box-shadow: 0px 1px 2px rgba(60, 64, 67, 0.3), 0px 1px 3px 1px rgba(60, 64, 67, 0.15);\n",
              "      fill: #174EA6;\n",
              "    }\n",
              "\n",
              "    [theme=dark] .colab-df-convert {\n",
              "      background-color: #3B4455;\n",
              "      fill: #D2E3FC;\n",
              "    }\n",
              "\n",
              "    [theme=dark] .colab-df-convert:hover {\n",
              "      background-color: #434B5C;\n",
              "      box-shadow: 0px 1px 3px 1px rgba(0, 0, 0, 0.15);\n",
              "      filter: drop-shadow(0px 1px 2px rgba(0, 0, 0, 0.3));\n",
              "      fill: #FFFFFF;\n",
              "    }\n",
              "  </style>\n",
              "\n",
              "      <script>\n",
              "        const buttonEl =\n",
              "          document.querySelector('#df-a0bf521d-422c-42e4-bfd9-9e9ac8071471 button.colab-df-convert');\n",
              "        buttonEl.style.display =\n",
              "          google.colab.kernel.accessAllowed ? 'block' : 'none';\n",
              "\n",
              "        async function convertToInteractive(key) {\n",
              "          const element = document.querySelector('#df-a0bf521d-422c-42e4-bfd9-9e9ac8071471');\n",
              "          const dataTable =\n",
              "            await google.colab.kernel.invokeFunction('convertToInteractive',\n",
              "                                                     [key], {});\n",
              "          if (!dataTable) return;\n",
              "\n",
              "          const docLinkHtml = 'Like what you see? Visit the ' +\n",
              "            '<a target=\"_blank\" href=https://colab.research.google.com/notebooks/data_table.ipynb>data table notebook</a>'\n",
              "            + ' to learn more about interactive tables.';\n",
              "          element.innerHTML = '';\n",
              "          dataTable['output_type'] = 'display_data';\n",
              "          await google.colab.output.renderOutput(dataTable, element);\n",
              "          const docLink = document.createElement('div');\n",
              "          docLink.innerHTML = docLinkHtml;\n",
              "          element.appendChild(docLink);\n",
              "        }\n",
              "      </script>\n",
              "    </div>\n",
              "  </div>\n",
              "  "
            ]
          },
          "metadata": {},
          "execution_count": 112
        }
      ]
    },
    {
      "cell_type": "markdown",
      "source": [
        "Сортируем дублирующиеся пары (типа 13, 14 и 14, 13). Таким образом, base_1 всегда будет больше base_2 (см. ниже)"
      ],
      "metadata": {
        "id": "HJexxYQd1XRb"
      }
    },
    {
      "cell_type": "code",
      "source": [
        "possible_doubles['temp'] = possible_doubles.apply(\n",
        "    lambda row: (min(row['hash_db_index_1'], row['hash_db_index_2']), \n",
        "                 max(row['hash_db_index_1'], row['hash_db_index_2'])),\n",
        "    axis=1\n",
        ")\n",
        "possible_doubles['hash_db_index_1'] = possible_doubles['temp'].apply(lambda x: x[0])\n",
        "possible_doubles['hash_db_index_2'] = possible_doubles['temp'].apply(lambda x: x[1])\n",
        "possible_doubles = possible_doubles.drop('temp', axis=1)\n",
        "\n",
        "possible_doubles = possible_doubles.drop_duplicates().reset_index().drop('index', axis=1)"
      ],
      "metadata": {
        "id": "tXjN8g321XRb"
      },
      "execution_count": null,
      "outputs": []
    },
    {
      "cell_type": "code",
      "source": [
        "possible_doubles['base_1'] = possible_doubles['hash_db_index_1'].apply(lambda x: df.iloc[x]['base'])\n",
        "possible_doubles['ID_1'] = possible_doubles['hash_db_index_1'].apply(lambda x: df.iloc[x]['ID'])\n",
        "possible_doubles['Pic_1'] = possible_doubles['hash_db_index_1'].apply(lambda x: df.iloc[x]['Pic'])\n",
        "\n",
        "possible_doubles['base_2'] = possible_doubles['hash_db_index_2'].apply(lambda x: df.iloc[x]['base'])\n",
        "possible_doubles['ID_2'] = possible_doubles['hash_db_index_2'].apply(lambda x: df.iloc[x]['ID'])\n",
        "possible_doubles['Pic_2'] = possible_doubles['hash_db_index_2'].apply(lambda x: df.iloc[x]['Pic'])\n",
        "\n",
        "possible_doubles = possible_doubles[['hash_dist', \n",
        "                                     'hash_db_index_1', 'base_1', 'ID_1', 'Pic_1', \n",
        "                                     'hash_db_index_2', 'base_2', 'ID_2', 'Pic_2', \n",
        "                                     ]]\n",
        "possible_doubles = possible_doubles.drop(['hash_db_index_1', 'hash_db_index_2'], axis=1)\n",
        "possible_doubles.head()"
      ],
      "metadata": {
        "colab": {
          "base_uri": "https://localhost:8080/",
          "height": 206
        },
        "id": "B_-KBbEv1onz",
        "outputId": "2a19b995-0877-48bf-caa1-ce31e1f13ea5"
      },
      "execution_count": null,
      "outputs": [
        {
          "output_type": "execute_result",
          "data": {
            "text/plain": [
              "   hash_dist  base_1    ID_1  Pic_1  base_2    ID_2  Pic_2\n",
              "0          0       3  205028      1       4  205028      1\n",
              "1          0       3  205096      1       4  205096      1\n",
              "2          1       2  104334      1       4  215542      1\n",
              "3          3       4  215578      1       4  220034      1\n",
              "4          3       4  215580      1       4  215589      1"
            ],
            "text/html": [
              "\n",
              "  <div id=\"df-132b3002-5c56-4689-912c-8d6989a314cf\">\n",
              "    <div class=\"colab-df-container\">\n",
              "      <div>\n",
              "<style scoped>\n",
              "    .dataframe tbody tr th:only-of-type {\n",
              "        vertical-align: middle;\n",
              "    }\n",
              "\n",
              "    .dataframe tbody tr th {\n",
              "        vertical-align: top;\n",
              "    }\n",
              "\n",
              "    .dataframe thead th {\n",
              "        text-align: right;\n",
              "    }\n",
              "</style>\n",
              "<table border=\"1\" class=\"dataframe\">\n",
              "  <thead>\n",
              "    <tr style=\"text-align: right;\">\n",
              "      <th></th>\n",
              "      <th>hash_dist</th>\n",
              "      <th>base_1</th>\n",
              "      <th>ID_1</th>\n",
              "      <th>Pic_1</th>\n",
              "      <th>base_2</th>\n",
              "      <th>ID_2</th>\n",
              "      <th>Pic_2</th>\n",
              "    </tr>\n",
              "  </thead>\n",
              "  <tbody>\n",
              "    <tr>\n",
              "      <th>0</th>\n",
              "      <td>0</td>\n",
              "      <td>3</td>\n",
              "      <td>205028</td>\n",
              "      <td>1</td>\n",
              "      <td>4</td>\n",
              "      <td>205028</td>\n",
              "      <td>1</td>\n",
              "    </tr>\n",
              "    <tr>\n",
              "      <th>1</th>\n",
              "      <td>0</td>\n",
              "      <td>3</td>\n",
              "      <td>205096</td>\n",
              "      <td>1</td>\n",
              "      <td>4</td>\n",
              "      <td>205096</td>\n",
              "      <td>1</td>\n",
              "    </tr>\n",
              "    <tr>\n",
              "      <th>2</th>\n",
              "      <td>1</td>\n",
              "      <td>2</td>\n",
              "      <td>104334</td>\n",
              "      <td>1</td>\n",
              "      <td>4</td>\n",
              "      <td>215542</td>\n",
              "      <td>1</td>\n",
              "    </tr>\n",
              "    <tr>\n",
              "      <th>3</th>\n",
              "      <td>3</td>\n",
              "      <td>4</td>\n",
              "      <td>215578</td>\n",
              "      <td>1</td>\n",
              "      <td>4</td>\n",
              "      <td>220034</td>\n",
              "      <td>1</td>\n",
              "    </tr>\n",
              "    <tr>\n",
              "      <th>4</th>\n",
              "      <td>3</td>\n",
              "      <td>4</td>\n",
              "      <td>215580</td>\n",
              "      <td>1</td>\n",
              "      <td>4</td>\n",
              "      <td>215589</td>\n",
              "      <td>1</td>\n",
              "    </tr>\n",
              "  </tbody>\n",
              "</table>\n",
              "</div>\n",
              "      <button class=\"colab-df-convert\" onclick=\"convertToInteractive('df-132b3002-5c56-4689-912c-8d6989a314cf')\"\n",
              "              title=\"Convert this dataframe to an interactive table.\"\n",
              "              style=\"display:none;\">\n",
              "        \n",
              "  <svg xmlns=\"http://www.w3.org/2000/svg\" height=\"24px\"viewBox=\"0 0 24 24\"\n",
              "       width=\"24px\">\n",
              "    <path d=\"M0 0h24v24H0V0z\" fill=\"none\"/>\n",
              "    <path d=\"M18.56 5.44l.94 2.06.94-2.06 2.06-.94-2.06-.94-.94-2.06-.94 2.06-2.06.94zm-11 1L8.5 8.5l.94-2.06 2.06-.94-2.06-.94L8.5 2.5l-.94 2.06-2.06.94zm10 10l.94 2.06.94-2.06 2.06-.94-2.06-.94-.94-2.06-.94 2.06-2.06.94z\"/><path d=\"M17.41 7.96l-1.37-1.37c-.4-.4-.92-.59-1.43-.59-.52 0-1.04.2-1.43.59L10.3 9.45l-7.72 7.72c-.78.78-.78 2.05 0 2.83L4 21.41c.39.39.9.59 1.41.59.51 0 1.02-.2 1.41-.59l7.78-7.78 2.81-2.81c.8-.78.8-2.07 0-2.86zM5.41 20L4 18.59l7.72-7.72 1.47 1.35L5.41 20z\"/>\n",
              "  </svg>\n",
              "      </button>\n",
              "      \n",
              "  <style>\n",
              "    .colab-df-container {\n",
              "      display:flex;\n",
              "      flex-wrap:wrap;\n",
              "      gap: 12px;\n",
              "    }\n",
              "\n",
              "    .colab-df-convert {\n",
              "      background-color: #E8F0FE;\n",
              "      border: none;\n",
              "      border-radius: 50%;\n",
              "      cursor: pointer;\n",
              "      display: none;\n",
              "      fill: #1967D2;\n",
              "      height: 32px;\n",
              "      padding: 0 0 0 0;\n",
              "      width: 32px;\n",
              "    }\n",
              "\n",
              "    .colab-df-convert:hover {\n",
              "      background-color: #E2EBFA;\n",
              "      box-shadow: 0px 1px 2px rgba(60, 64, 67, 0.3), 0px 1px 3px 1px rgba(60, 64, 67, 0.15);\n",
              "      fill: #174EA6;\n",
              "    }\n",
              "\n",
              "    [theme=dark] .colab-df-convert {\n",
              "      background-color: #3B4455;\n",
              "      fill: #D2E3FC;\n",
              "    }\n",
              "\n",
              "    [theme=dark] .colab-df-convert:hover {\n",
              "      background-color: #434B5C;\n",
              "      box-shadow: 0px 1px 3px 1px rgba(0, 0, 0, 0.15);\n",
              "      filter: drop-shadow(0px 1px 2px rgba(0, 0, 0, 0.3));\n",
              "      fill: #FFFFFF;\n",
              "    }\n",
              "  </style>\n",
              "\n",
              "      <script>\n",
              "        const buttonEl =\n",
              "          document.querySelector('#df-132b3002-5c56-4689-912c-8d6989a314cf button.colab-df-convert');\n",
              "        buttonEl.style.display =\n",
              "          google.colab.kernel.accessAllowed ? 'block' : 'none';\n",
              "\n",
              "        async function convertToInteractive(key) {\n",
              "          const element = document.querySelector('#df-132b3002-5c56-4689-912c-8d6989a314cf');\n",
              "          const dataTable =\n",
              "            await google.colab.kernel.invokeFunction('convertToInteractive',\n",
              "                                                     [key], {});\n",
              "          if (!dataTable) return;\n",
              "\n",
              "          const docLinkHtml = 'Like what you see? Visit the ' +\n",
              "            '<a target=\"_blank\" href=https://colab.research.google.com/notebooks/data_table.ipynb>data table notebook</a>'\n",
              "            + ' to learn more about interactive tables.';\n",
              "          element.innerHTML = '';\n",
              "          dataTable['output_type'] = 'display_data';\n",
              "          await google.colab.output.renderOutput(dataTable, element);\n",
              "          const docLink = document.createElement('div');\n",
              "          docLink.innerHTML = docLinkHtml;\n",
              "          element.appendChild(docLink);\n",
              "        }\n",
              "      </script>\n",
              "    </div>\n",
              "  </div>\n",
              "  "
            ]
          },
          "metadata": {},
          "execution_count": 114
        }
      ]
    },
    {
      "cell_type": "code",
      "source": [
        "possible_doubles.shape"
      ],
      "metadata": {
        "colab": {
          "base_uri": "https://localhost:8080/"
        },
        "id": "urY7RaRBBFwY",
        "outputId": "a73ea905-22f0-4de7-9b13-9ac2b80ff5e7"
      },
      "execution_count": null,
      "outputs": [
        {
          "output_type": "execute_result",
          "data": {
            "text/plain": [
              "(1749, 7)"
            ]
          },
          "metadata": {},
          "execution_count": 101
        }
      ]
    },
    {
      "cell_type": "code",
      "source": [
        "confirmed_doubles = possible_doubles.merge(\n",
        "    confirmed_doubles[['base_1', 'ID_1', 'base_2', 'ID_2', 'Статус']], \n",
        "    on=['base_1', 'ID_1', 'base_2', 'ID_2'],\n",
        "    how='right')\n",
        "confirmed_doubles.head()"
      ],
      "metadata": {
        "colab": {
          "base_uri": "https://localhost:8080/",
          "height": 206
        },
        "id": "L2d0ensUBIKE",
        "outputId": "58006596-ccf3-41f5-fb8b-cdda9727c08a"
      },
      "execution_count": null,
      "outputs": [
        {
          "output_type": "execute_result",
          "data": {
            "text/plain": [
              "   hash_dist  base_1  ID_1  Pic_1  base_2    ID_2  Pic_2  \\\n",
              "0          0       1  1204      1       4  216471      1   \n",
              "1          0       1  1204      2       4  216471      2   \n",
              "2          0       1  1205      1       4  216472      1   \n",
              "3          0       1  1205      2       4  216472      2   \n",
              "4          0       1  2145      2       4  217037      2   \n",
              "\n",
              "                    Статус  \n",
              "0                    Дубли  \n",
              "1                    Дубли  \n",
              "2                    Дубли  \n",
              "3                    Дубли  \n",
              "4  Разные лицевая и оборот  "
            ],
            "text/html": [
              "\n",
              "  <div id=\"df-83276505-a973-466f-b7a7-fa9d20b52166\">\n",
              "    <div class=\"colab-df-container\">\n",
              "      <div>\n",
              "<style scoped>\n",
              "    .dataframe tbody tr th:only-of-type {\n",
              "        vertical-align: middle;\n",
              "    }\n",
              "\n",
              "    .dataframe tbody tr th {\n",
              "        vertical-align: top;\n",
              "    }\n",
              "\n",
              "    .dataframe thead th {\n",
              "        text-align: right;\n",
              "    }\n",
              "</style>\n",
              "<table border=\"1\" class=\"dataframe\">\n",
              "  <thead>\n",
              "    <tr style=\"text-align: right;\">\n",
              "      <th></th>\n",
              "      <th>hash_dist</th>\n",
              "      <th>base_1</th>\n",
              "      <th>ID_1</th>\n",
              "      <th>Pic_1</th>\n",
              "      <th>base_2</th>\n",
              "      <th>ID_2</th>\n",
              "      <th>Pic_2</th>\n",
              "      <th>Статус</th>\n",
              "    </tr>\n",
              "  </thead>\n",
              "  <tbody>\n",
              "    <tr>\n",
              "      <th>0</th>\n",
              "      <td>0</td>\n",
              "      <td>1</td>\n",
              "      <td>1204</td>\n",
              "      <td>1</td>\n",
              "      <td>4</td>\n",
              "      <td>216471</td>\n",
              "      <td>1</td>\n",
              "      <td>Дубли</td>\n",
              "    </tr>\n",
              "    <tr>\n",
              "      <th>1</th>\n",
              "      <td>0</td>\n",
              "      <td>1</td>\n",
              "      <td>1204</td>\n",
              "      <td>2</td>\n",
              "      <td>4</td>\n",
              "      <td>216471</td>\n",
              "      <td>2</td>\n",
              "      <td>Дубли</td>\n",
              "    </tr>\n",
              "    <tr>\n",
              "      <th>2</th>\n",
              "      <td>0</td>\n",
              "      <td>1</td>\n",
              "      <td>1205</td>\n",
              "      <td>1</td>\n",
              "      <td>4</td>\n",
              "      <td>216472</td>\n",
              "      <td>1</td>\n",
              "      <td>Дубли</td>\n",
              "    </tr>\n",
              "    <tr>\n",
              "      <th>3</th>\n",
              "      <td>0</td>\n",
              "      <td>1</td>\n",
              "      <td>1205</td>\n",
              "      <td>2</td>\n",
              "      <td>4</td>\n",
              "      <td>216472</td>\n",
              "      <td>2</td>\n",
              "      <td>Дубли</td>\n",
              "    </tr>\n",
              "    <tr>\n",
              "      <th>4</th>\n",
              "      <td>0</td>\n",
              "      <td>1</td>\n",
              "      <td>2145</td>\n",
              "      <td>2</td>\n",
              "      <td>4</td>\n",
              "      <td>217037</td>\n",
              "      <td>2</td>\n",
              "      <td>Разные лицевая и оборот</td>\n",
              "    </tr>\n",
              "  </tbody>\n",
              "</table>\n",
              "</div>\n",
              "      <button class=\"colab-df-convert\" onclick=\"convertToInteractive('df-83276505-a973-466f-b7a7-fa9d20b52166')\"\n",
              "              title=\"Convert this dataframe to an interactive table.\"\n",
              "              style=\"display:none;\">\n",
              "        \n",
              "  <svg xmlns=\"http://www.w3.org/2000/svg\" height=\"24px\"viewBox=\"0 0 24 24\"\n",
              "       width=\"24px\">\n",
              "    <path d=\"M0 0h24v24H0V0z\" fill=\"none\"/>\n",
              "    <path d=\"M18.56 5.44l.94 2.06.94-2.06 2.06-.94-2.06-.94-.94-2.06-.94 2.06-2.06.94zm-11 1L8.5 8.5l.94-2.06 2.06-.94-2.06-.94L8.5 2.5l-.94 2.06-2.06.94zm10 10l.94 2.06.94-2.06 2.06-.94-2.06-.94-.94-2.06-.94 2.06-2.06.94z\"/><path d=\"M17.41 7.96l-1.37-1.37c-.4-.4-.92-.59-1.43-.59-.52 0-1.04.2-1.43.59L10.3 9.45l-7.72 7.72c-.78.78-.78 2.05 0 2.83L4 21.41c.39.39.9.59 1.41.59.51 0 1.02-.2 1.41-.59l7.78-7.78 2.81-2.81c.8-.78.8-2.07 0-2.86zM5.41 20L4 18.59l7.72-7.72 1.47 1.35L5.41 20z\"/>\n",
              "  </svg>\n",
              "      </button>\n",
              "      \n",
              "  <style>\n",
              "    .colab-df-container {\n",
              "      display:flex;\n",
              "      flex-wrap:wrap;\n",
              "      gap: 12px;\n",
              "    }\n",
              "\n",
              "    .colab-df-convert {\n",
              "      background-color: #E8F0FE;\n",
              "      border: none;\n",
              "      border-radius: 50%;\n",
              "      cursor: pointer;\n",
              "      display: none;\n",
              "      fill: #1967D2;\n",
              "      height: 32px;\n",
              "      padding: 0 0 0 0;\n",
              "      width: 32px;\n",
              "    }\n",
              "\n",
              "    .colab-df-convert:hover {\n",
              "      background-color: #E2EBFA;\n",
              "      box-shadow: 0px 1px 2px rgba(60, 64, 67, 0.3), 0px 1px 3px 1px rgba(60, 64, 67, 0.15);\n",
              "      fill: #174EA6;\n",
              "    }\n",
              "\n",
              "    [theme=dark] .colab-df-convert {\n",
              "      background-color: #3B4455;\n",
              "      fill: #D2E3FC;\n",
              "    }\n",
              "\n",
              "    [theme=dark] .colab-df-convert:hover {\n",
              "      background-color: #434B5C;\n",
              "      box-shadow: 0px 1px 3px 1px rgba(0, 0, 0, 0.15);\n",
              "      filter: drop-shadow(0px 1px 2px rgba(0, 0, 0, 0.3));\n",
              "      fill: #FFFFFF;\n",
              "    }\n",
              "  </style>\n",
              "\n",
              "      <script>\n",
              "        const buttonEl =\n",
              "          document.querySelector('#df-83276505-a973-466f-b7a7-fa9d20b52166 button.colab-df-convert');\n",
              "        buttonEl.style.display =\n",
              "          google.colab.kernel.accessAllowed ? 'block' : 'none';\n",
              "\n",
              "        async function convertToInteractive(key) {\n",
              "          const element = document.querySelector('#df-83276505-a973-466f-b7a7-fa9d20b52166');\n",
              "          const dataTable =\n",
              "            await google.colab.kernel.invokeFunction('convertToInteractive',\n",
              "                                                     [key], {});\n",
              "          if (!dataTable) return;\n",
              "\n",
              "          const docLinkHtml = 'Like what you see? Visit the ' +\n",
              "            '<a target=\"_blank\" href=https://colab.research.google.com/notebooks/data_table.ipynb>data table notebook</a>'\n",
              "            + ' to learn more about interactive tables.';\n",
              "          element.innerHTML = '';\n",
              "          dataTable['output_type'] = 'display_data';\n",
              "          await google.colab.output.renderOutput(dataTable, element);\n",
              "          const docLink = document.createElement('div');\n",
              "          docLink.innerHTML = docLinkHtml;\n",
              "          element.appendChild(docLink);\n",
              "        }\n",
              "      </script>\n",
              "    </div>\n",
              "  </div>\n",
              "  "
            ]
          },
          "metadata": {},
          "execution_count": 115
        }
      ]
    },
    {
      "cell_type": "code",
      "source": [
        "confirmed_doubles.shape"
      ],
      "metadata": {
        "colab": {
          "base_uri": "https://localhost:8080/"
        },
        "id": "EkhIgmwFDX-3",
        "outputId": "4db19a68-e332-4f9c-c873-7c1181c61334"
      },
      "execution_count": null,
      "outputs": [
        {
          "output_type": "execute_result",
          "data": {
            "text/plain": [
              "(1749, 8)"
            ]
          },
          "metadata": {},
          "execution_count": 116
        }
      ]
    },
    {
      "cell_type": "code",
      "source": [
        "(confirmed_doubles['Pic_1'] != confirmed_doubles['Pic_2']).sum()"
      ],
      "metadata": {
        "colab": {
          "base_uri": "https://localhost:8080/"
        },
        "id": "_oZA1iHPJq9K",
        "outputId": "f930f5d8-48d2-484f-bfb1-d32ec7779061"
      },
      "execution_count": null,
      "outputs": [
        {
          "output_type": "execute_result",
          "data": {
            "text/plain": [
              "14"
            ]
          },
          "metadata": {},
          "execution_count": 146
        }
      ]
    },
    {
      "cell_type": "code",
      "source": [
        "pic_status = confirmed_doubles.groupby(['ID_1', 'ID_2', 'Статус']).apply(\n",
        "    lambda x: 'both' if x.shape[0] == 2 else x['Pic_1'].to_list()[0]\n",
        ").reset_index(name='Pics')\n",
        "pic_status.head()"
      ],
      "metadata": {
        "colab": {
          "base_uri": "https://localhost:8080/",
          "height": 206
        },
        "id": "EBI-cjtmIA0C",
        "outputId": "3f07d80a-2ace-46b1-f0b3-9cc4b220b85a"
      },
      "execution_count": null,
      "outputs": [
        {
          "output_type": "execute_result",
          "data": {
            "text/plain": [
              "   ID_1    ID_2                   Статус Pics\n",
              "0   358  215611  Разные лицевая и оборот    2\n",
              "1   359  215611  Разные лицевая и оборот    2\n",
              "2   366  217037  Разные лицевая и оборот    2\n",
              "3   371  217037  Разные лицевая и оборот    2\n",
              "4   414  217037  Разные лицевая и оборот    2"
            ],
            "text/html": [
              "\n",
              "  <div id=\"df-6fadc9bf-49e3-4de2-ad28-bb836db04ef1\">\n",
              "    <div class=\"colab-df-container\">\n",
              "      <div>\n",
              "<style scoped>\n",
              "    .dataframe tbody tr th:only-of-type {\n",
              "        vertical-align: middle;\n",
              "    }\n",
              "\n",
              "    .dataframe tbody tr th {\n",
              "        vertical-align: top;\n",
              "    }\n",
              "\n",
              "    .dataframe thead th {\n",
              "        text-align: right;\n",
              "    }\n",
              "</style>\n",
              "<table border=\"1\" class=\"dataframe\">\n",
              "  <thead>\n",
              "    <tr style=\"text-align: right;\">\n",
              "      <th></th>\n",
              "      <th>ID_1</th>\n",
              "      <th>ID_2</th>\n",
              "      <th>Статус</th>\n",
              "      <th>Pics</th>\n",
              "    </tr>\n",
              "  </thead>\n",
              "  <tbody>\n",
              "    <tr>\n",
              "      <th>0</th>\n",
              "      <td>358</td>\n",
              "      <td>215611</td>\n",
              "      <td>Разные лицевая и оборот</td>\n",
              "      <td>2</td>\n",
              "    </tr>\n",
              "    <tr>\n",
              "      <th>1</th>\n",
              "      <td>359</td>\n",
              "      <td>215611</td>\n",
              "      <td>Разные лицевая и оборот</td>\n",
              "      <td>2</td>\n",
              "    </tr>\n",
              "    <tr>\n",
              "      <th>2</th>\n",
              "      <td>366</td>\n",
              "      <td>217037</td>\n",
              "      <td>Разные лицевая и оборот</td>\n",
              "      <td>2</td>\n",
              "    </tr>\n",
              "    <tr>\n",
              "      <th>3</th>\n",
              "      <td>371</td>\n",
              "      <td>217037</td>\n",
              "      <td>Разные лицевая и оборот</td>\n",
              "      <td>2</td>\n",
              "    </tr>\n",
              "    <tr>\n",
              "      <th>4</th>\n",
              "      <td>414</td>\n",
              "      <td>217037</td>\n",
              "      <td>Разные лицевая и оборот</td>\n",
              "      <td>2</td>\n",
              "    </tr>\n",
              "  </tbody>\n",
              "</table>\n",
              "</div>\n",
              "      <button class=\"colab-df-convert\" onclick=\"convertToInteractive('df-6fadc9bf-49e3-4de2-ad28-bb836db04ef1')\"\n",
              "              title=\"Convert this dataframe to an interactive table.\"\n",
              "              style=\"display:none;\">\n",
              "        \n",
              "  <svg xmlns=\"http://www.w3.org/2000/svg\" height=\"24px\"viewBox=\"0 0 24 24\"\n",
              "       width=\"24px\">\n",
              "    <path d=\"M0 0h24v24H0V0z\" fill=\"none\"/>\n",
              "    <path d=\"M18.56 5.44l.94 2.06.94-2.06 2.06-.94-2.06-.94-.94-2.06-.94 2.06-2.06.94zm-11 1L8.5 8.5l.94-2.06 2.06-.94-2.06-.94L8.5 2.5l-.94 2.06-2.06.94zm10 10l.94 2.06.94-2.06 2.06-.94-2.06-.94-.94-2.06-.94 2.06-2.06.94z\"/><path d=\"M17.41 7.96l-1.37-1.37c-.4-.4-.92-.59-1.43-.59-.52 0-1.04.2-1.43.59L10.3 9.45l-7.72 7.72c-.78.78-.78 2.05 0 2.83L4 21.41c.39.39.9.59 1.41.59.51 0 1.02-.2 1.41-.59l7.78-7.78 2.81-2.81c.8-.78.8-2.07 0-2.86zM5.41 20L4 18.59l7.72-7.72 1.47 1.35L5.41 20z\"/>\n",
              "  </svg>\n",
              "      </button>\n",
              "      \n",
              "  <style>\n",
              "    .colab-df-container {\n",
              "      display:flex;\n",
              "      flex-wrap:wrap;\n",
              "      gap: 12px;\n",
              "    }\n",
              "\n",
              "    .colab-df-convert {\n",
              "      background-color: #E8F0FE;\n",
              "      border: none;\n",
              "      border-radius: 50%;\n",
              "      cursor: pointer;\n",
              "      display: none;\n",
              "      fill: #1967D2;\n",
              "      height: 32px;\n",
              "      padding: 0 0 0 0;\n",
              "      width: 32px;\n",
              "    }\n",
              "\n",
              "    .colab-df-convert:hover {\n",
              "      background-color: #E2EBFA;\n",
              "      box-shadow: 0px 1px 2px rgba(60, 64, 67, 0.3), 0px 1px 3px 1px rgba(60, 64, 67, 0.15);\n",
              "      fill: #174EA6;\n",
              "    }\n",
              "\n",
              "    [theme=dark] .colab-df-convert {\n",
              "      background-color: #3B4455;\n",
              "      fill: #D2E3FC;\n",
              "    }\n",
              "\n",
              "    [theme=dark] .colab-df-convert:hover {\n",
              "      background-color: #434B5C;\n",
              "      box-shadow: 0px 1px 3px 1px rgba(0, 0, 0, 0.15);\n",
              "      filter: drop-shadow(0px 1px 2px rgba(0, 0, 0, 0.3));\n",
              "      fill: #FFFFFF;\n",
              "    }\n",
              "  </style>\n",
              "\n",
              "      <script>\n",
              "        const buttonEl =\n",
              "          document.querySelector('#df-6fadc9bf-49e3-4de2-ad28-bb836db04ef1 button.colab-df-convert');\n",
              "        buttonEl.style.display =\n",
              "          google.colab.kernel.accessAllowed ? 'block' : 'none';\n",
              "\n",
              "        async function convertToInteractive(key) {\n",
              "          const element = document.querySelector('#df-6fadc9bf-49e3-4de2-ad28-bb836db04ef1');\n",
              "          const dataTable =\n",
              "            await google.colab.kernel.invokeFunction('convertToInteractive',\n",
              "                                                     [key], {});\n",
              "          if (!dataTable) return;\n",
              "\n",
              "          const docLinkHtml = 'Like what you see? Visit the ' +\n",
              "            '<a target=\"_blank\" href=https://colab.research.google.com/notebooks/data_table.ipynb>data table notebook</a>'\n",
              "            + ' to learn more about interactive tables.';\n",
              "          element.innerHTML = '';\n",
              "          dataTable['output_type'] = 'display_data';\n",
              "          await google.colab.output.renderOutput(dataTable, element);\n",
              "          const docLink = document.createElement('div');\n",
              "          docLink.innerHTML = docLinkHtml;\n",
              "          element.appendChild(docLink);\n",
              "        }\n",
              "      </script>\n",
              "    </div>\n",
              "  </div>\n",
              "  "
            ]
          },
          "metadata": {},
          "execution_count": 147
        }
      ]
    },
    {
      "cell_type": "code",
      "source": [
        "pic_status.shape"
      ],
      "metadata": {
        "colab": {
          "base_uri": "https://localhost:8080/"
        },
        "id": "cFCGFyl9JChD",
        "outputId": "b495e10e-35ca-4d50-ca0c-e42ecd9b626d"
      },
      "execution_count": null,
      "outputs": [
        {
          "output_type": "execute_result",
          "data": {
            "text/plain": [
              "(1112, 4)"
            ]
          },
          "metadata": {},
          "execution_count": 148
        }
      ]
    },
    {
      "cell_type": "code",
      "source": [
        "pic_status['Pics'].value_counts()"
      ],
      "metadata": {
        "colab": {
          "base_uri": "https://localhost:8080/"
        },
        "id": "f1mNPzsTJPD6",
        "outputId": "62b1e4ed-2d13-479b-bdb5-aa1efbbfb25c"
      },
      "execution_count": null,
      "outputs": [
        {
          "output_type": "execute_result",
          "data": {
            "text/plain": [
              "both    637\n",
              "1       253\n",
              "2       222\n",
              "Name: Pics, dtype: int64"
            ]
          },
          "metadata": {},
          "execution_count": 149
        }
      ]
    },
    {
      "cell_type": "code",
      "source": [
        "pic_status = pic_status.groupby('Pics')['Статус'].value_counts(\n",
        "    normalize=True).reset_index(name='percentage') \n",
        "# pic_status['Pics'] = pic_status.apply(\n",
        "#     lambda row: str(min(row['Pic_1'], row['Pic_2'])) + str(max(row['Pic_1'], row['Pic_2'])), \n",
        "#     axis=1)\n",
        "pic_status"
      ],
      "metadata": {
        "colab": {
          "base_uri": "https://localhost:8080/",
          "height": 269
        },
        "outputId": "faa067c9-d2b3-41af-e8b2-70e6f5956614",
        "id": "CbAccgSgF-7f"
      },
      "execution_count": null,
      "outputs": [
        {
          "output_type": "execute_result",
          "data": {
            "text/plain": [
              "   Pics                                Статус  percentage\n",
              "0     1  Совпадает лицевая, оборот отличается    0.620553\n",
              "1     1                                 Дубли    0.351779\n",
              "2     1               Разные лицевая и оборот    0.027668\n",
              "3     2               Разные лицевая и оборот    0.932432\n",
              "4     2                                 Дубли    0.063063\n",
              "5     2  Совпадает лицевая, оборот отличается    0.004505\n",
              "6  both                                 Дубли    1.000000"
            ],
            "text/html": [
              "\n",
              "  <div id=\"df-aaa04f38-d65e-4ecf-9d0b-c4bf0e81a193\">\n",
              "    <div class=\"colab-df-container\">\n",
              "      <div>\n",
              "<style scoped>\n",
              "    .dataframe tbody tr th:only-of-type {\n",
              "        vertical-align: middle;\n",
              "    }\n",
              "\n",
              "    .dataframe tbody tr th {\n",
              "        vertical-align: top;\n",
              "    }\n",
              "\n",
              "    .dataframe thead th {\n",
              "        text-align: right;\n",
              "    }\n",
              "</style>\n",
              "<table border=\"1\" class=\"dataframe\">\n",
              "  <thead>\n",
              "    <tr style=\"text-align: right;\">\n",
              "      <th></th>\n",
              "      <th>Pics</th>\n",
              "      <th>Статус</th>\n",
              "      <th>percentage</th>\n",
              "    </tr>\n",
              "  </thead>\n",
              "  <tbody>\n",
              "    <tr>\n",
              "      <th>0</th>\n",
              "      <td>1</td>\n",
              "      <td>Совпадает лицевая, оборот отличается</td>\n",
              "      <td>0.620553</td>\n",
              "    </tr>\n",
              "    <tr>\n",
              "      <th>1</th>\n",
              "      <td>1</td>\n",
              "      <td>Дубли</td>\n",
              "      <td>0.351779</td>\n",
              "    </tr>\n",
              "    <tr>\n",
              "      <th>2</th>\n",
              "      <td>1</td>\n",
              "      <td>Разные лицевая и оборот</td>\n",
              "      <td>0.027668</td>\n",
              "    </tr>\n",
              "    <tr>\n",
              "      <th>3</th>\n",
              "      <td>2</td>\n",
              "      <td>Разные лицевая и оборот</td>\n",
              "      <td>0.932432</td>\n",
              "    </tr>\n",
              "    <tr>\n",
              "      <th>4</th>\n",
              "      <td>2</td>\n",
              "      <td>Дубли</td>\n",
              "      <td>0.063063</td>\n",
              "    </tr>\n",
              "    <tr>\n",
              "      <th>5</th>\n",
              "      <td>2</td>\n",
              "      <td>Совпадает лицевая, оборот отличается</td>\n",
              "      <td>0.004505</td>\n",
              "    </tr>\n",
              "    <tr>\n",
              "      <th>6</th>\n",
              "      <td>both</td>\n",
              "      <td>Дубли</td>\n",
              "      <td>1.000000</td>\n",
              "    </tr>\n",
              "  </tbody>\n",
              "</table>\n",
              "</div>\n",
              "      <button class=\"colab-df-convert\" onclick=\"convertToInteractive('df-aaa04f38-d65e-4ecf-9d0b-c4bf0e81a193')\"\n",
              "              title=\"Convert this dataframe to an interactive table.\"\n",
              "              style=\"display:none;\">\n",
              "        \n",
              "  <svg xmlns=\"http://www.w3.org/2000/svg\" height=\"24px\"viewBox=\"0 0 24 24\"\n",
              "       width=\"24px\">\n",
              "    <path d=\"M0 0h24v24H0V0z\" fill=\"none\"/>\n",
              "    <path d=\"M18.56 5.44l.94 2.06.94-2.06 2.06-.94-2.06-.94-.94-2.06-.94 2.06-2.06.94zm-11 1L8.5 8.5l.94-2.06 2.06-.94-2.06-.94L8.5 2.5l-.94 2.06-2.06.94zm10 10l.94 2.06.94-2.06 2.06-.94-2.06-.94-.94-2.06-.94 2.06-2.06.94z\"/><path d=\"M17.41 7.96l-1.37-1.37c-.4-.4-.92-.59-1.43-.59-.52 0-1.04.2-1.43.59L10.3 9.45l-7.72 7.72c-.78.78-.78 2.05 0 2.83L4 21.41c.39.39.9.59 1.41.59.51 0 1.02-.2 1.41-.59l7.78-7.78 2.81-2.81c.8-.78.8-2.07 0-2.86zM5.41 20L4 18.59l7.72-7.72 1.47 1.35L5.41 20z\"/>\n",
              "  </svg>\n",
              "      </button>\n",
              "      \n",
              "  <style>\n",
              "    .colab-df-container {\n",
              "      display:flex;\n",
              "      flex-wrap:wrap;\n",
              "      gap: 12px;\n",
              "    }\n",
              "\n",
              "    .colab-df-convert {\n",
              "      background-color: #E8F0FE;\n",
              "      border: none;\n",
              "      border-radius: 50%;\n",
              "      cursor: pointer;\n",
              "      display: none;\n",
              "      fill: #1967D2;\n",
              "      height: 32px;\n",
              "      padding: 0 0 0 0;\n",
              "      width: 32px;\n",
              "    }\n",
              "\n",
              "    .colab-df-convert:hover {\n",
              "      background-color: #E2EBFA;\n",
              "      box-shadow: 0px 1px 2px rgba(60, 64, 67, 0.3), 0px 1px 3px 1px rgba(60, 64, 67, 0.15);\n",
              "      fill: #174EA6;\n",
              "    }\n",
              "\n",
              "    [theme=dark] .colab-df-convert {\n",
              "      background-color: #3B4455;\n",
              "      fill: #D2E3FC;\n",
              "    }\n",
              "\n",
              "    [theme=dark] .colab-df-convert:hover {\n",
              "      background-color: #434B5C;\n",
              "      box-shadow: 0px 1px 3px 1px rgba(0, 0, 0, 0.15);\n",
              "      filter: drop-shadow(0px 1px 2px rgba(0, 0, 0, 0.3));\n",
              "      fill: #FFFFFF;\n",
              "    }\n",
              "  </style>\n",
              "\n",
              "      <script>\n",
              "        const buttonEl =\n",
              "          document.querySelector('#df-aaa04f38-d65e-4ecf-9d0b-c4bf0e81a193 button.colab-df-convert');\n",
              "        buttonEl.style.display =\n",
              "          google.colab.kernel.accessAllowed ? 'block' : 'none';\n",
              "\n",
              "        async function convertToInteractive(key) {\n",
              "          const element = document.querySelector('#df-aaa04f38-d65e-4ecf-9d0b-c4bf0e81a193');\n",
              "          const dataTable =\n",
              "            await google.colab.kernel.invokeFunction('convertToInteractive',\n",
              "                                                     [key], {});\n",
              "          if (!dataTable) return;\n",
              "\n",
              "          const docLinkHtml = 'Like what you see? Visit the ' +\n",
              "            '<a target=\"_blank\" href=https://colab.research.google.com/notebooks/data_table.ipynb>data table notebook</a>'\n",
              "            + ' to learn more about interactive tables.';\n",
              "          element.innerHTML = '';\n",
              "          dataTable['output_type'] = 'display_data';\n",
              "          await google.colab.output.renderOutput(dataTable, element);\n",
              "          const docLink = document.createElement('div');\n",
              "          docLink.innerHTML = docLinkHtml;\n",
              "          element.appendChild(docLink);\n",
              "        }\n",
              "      </script>\n",
              "    </div>\n",
              "  </div>\n",
              "  "
            ]
          },
          "metadata": {},
          "execution_count": 150
        }
      ]
    },
    {
      "cell_type": "code",
      "source": [
        "pic_status = pic_status.sort_values(by='Статус')"
      ],
      "metadata": {
        "id": "4IHl8GWvKCWJ"
      },
      "execution_count": null,
      "outputs": []
    },
    {
      "cell_type": "code",
      "source": [
        "sns.catplot(\n",
        "    data=pic_status, kind=\"bar\",\n",
        "    x=\"Pics\", y=\"percentage\", hue=\"Статус\"\n",
        "    # errorbar=\"sd\", palette=\"dark\", alpha=.6, height=6\n",
        ");\n",
        "# plt.yticks(np.arange(0, 1.1, 0.1));"
      ],
      "metadata": {
        "colab": {
          "base_uri": "https://localhost:8080/",
          "height": 365
        },
        "outputId": "63502b2a-88e8-4f80-f64f-8fa21ba44ba0",
        "id": "aTVRWsR0F-7l"
      },
      "execution_count": null,
      "outputs": [
        {
          "output_type": "display_data",
          "data": {
            "text/plain": [
              "<Figure size 631.975x360 with 1 Axes>"
            ],
            "image/png": "[encoded data removed]"
          },
          "metadata": {}
        }
      ]
    },
    {
      "cell_type": "markdown",
      "source": [
        "# Дубли проскочили проверку"
      ],
      "metadata": {
        "id": "BIhIjxv-Kl-t"
      }
    },
    {
      "cell_type": "markdown",
      "source": [
        "## 223952, 100565, 100598"
      ],
      "metadata": {
        "id": "8LKTmxm8KwzD"
      }
    },
    {
      "cell_type": "code",
      "source": [
        "df = pd.read_csv('hash_database_full.csv', index_col=0)\n",
        "df.head()"
      ],
      "metadata": {
        "colab": {
          "base_uri": "https://localhost:8080/",
          "height": 206
        },
        "id": "XDPFXztYMuWD",
        "outputId": "f69b0a62-bc83-4c77-87c4-324b8142c2c3"
      },
      "execution_count": null,
      "outputs": [
        {
          "output_type": "execute_result",
          "data": {
            "text/plain": [
              "   base  ID  Pic                                            Pic_url  \\\n",
              "0     1   0    1       https://forum.vgd.ru/file.php?fid=5476&key=0   \n",
              "1     1   2    1       https://forum.vgd.ru/file.php?fid=5492&key=0   \n",
              "2     1   3    1  https://forum.vgd.ru/file.php?fid=20890&key=19...   \n",
              "3     1   4    1  https://forum.vgd.ru/file.php?fid=20894&key=16...   \n",
              "4     1   5    1  https://forum.vgd.ru/file.php?fid=20895&key=90...   \n",
              "\n",
              "               hash  \n",
              "0  806969715521b059  \n",
              "1  f4d8cc0ca543d6b6  \n",
              "2  f1732b4d73511723  \n",
              "3  b292ced8b3f2f2f2  \n",
              "4  b8186ca4ae8a989a  "
            ],
            "text/html": [
              "\n",
              "  <div id=\"df-5cabdc32-e3eb-468a-8a03-a78e0236ffe1\">\n",
              "    <div class=\"colab-df-container\">\n",
              "      <div>\n",
              "<style scoped>\n",
              "    .dataframe tbody tr th:only-of-type {\n",
              "        vertical-align: middle;\n",
              "    }\n",
              "\n",
              "    .dataframe tbody tr th {\n",
              "        vertical-align: top;\n",
              "    }\n",
              "\n",
              "    .dataframe thead th {\n",
              "        text-align: right;\n",
              "    }\n",
              "</style>\n",
              "<table border=\"1\" class=\"dataframe\">\n",
              "  <thead>\n",
              "    <tr style=\"text-align: right;\">\n",
              "      <th></th>\n",
              "      <th>base</th>\n",
              "      <th>ID</th>\n",
              "      <th>Pic</th>\n",
              "      <th>Pic_url</th>\n",
              "      <th>hash</th>\n",
              "    </tr>\n",
              "  </thead>\n",
              "  <tbody>\n",
              "    <tr>\n",
              "      <th>0</th>\n",
              "      <td>1</td>\n",
              "      <td>0</td>\n",
              "      <td>1</td>\n",
              "      <td>https://forum.vgd.ru/file.php?fid=5476&amp;key=0</td>\n",
              "      <td>806969715521b059</td>\n",
              "    </tr>\n",
              "    <tr>\n",
              "      <th>1</th>\n",
              "      <td>1</td>\n",
              "      <td>2</td>\n",
              "      <td>1</td>\n",
              "      <td>https://forum.vgd.ru/file.php?fid=5492&amp;key=0</td>\n",
              "      <td>f4d8cc0ca543d6b6</td>\n",
              "    </tr>\n",
              "    <tr>\n",
              "      <th>2</th>\n",
              "      <td>1</td>\n",
              "      <td>3</td>\n",
              "      <td>1</td>\n",
              "      <td>https://forum.vgd.ru/file.php?fid=20890&amp;key=19...</td>\n",
              "      <td>f1732b4d73511723</td>\n",
              "    </tr>\n",
              "    <tr>\n",
              "      <th>3</th>\n",
              "      <td>1</td>\n",
              "      <td>4</td>\n",
              "      <td>1</td>\n",
              "      <td>https://forum.vgd.ru/file.php?fid=20894&amp;key=16...</td>\n",
              "      <td>b292ced8b3f2f2f2</td>\n",
              "    </tr>\n",
              "    <tr>\n",
              "      <th>4</th>\n",
              "      <td>1</td>\n",
              "      <td>5</td>\n",
              "      <td>1</td>\n",
              "      <td>https://forum.vgd.ru/file.php?fid=20895&amp;key=90...</td>\n",
              "      <td>b8186ca4ae8a989a</td>\n",
              "    </tr>\n",
              "  </tbody>\n",
              "</table>\n",
              "</div>\n",
              "      <button class=\"colab-df-convert\" onclick=\"convertToInteractive('df-5cabdc32-e3eb-468a-8a03-a78e0236ffe1')\"\n",
              "              title=\"Convert this dataframe to an interactive table.\"\n",
              "              style=\"display:none;\">\n",
              "        \n",
              "  <svg xmlns=\"http://www.w3.org/2000/svg\" height=\"24px\"viewBox=\"0 0 24 24\"\n",
              "       width=\"24px\">\n",
              "    <path d=\"M0 0h24v24H0V0z\" fill=\"none\"/>\n",
              "    <path d=\"M18.56 5.44l.94 2.06.94-2.06 2.06-.94-2.06-.94-.94-2.06-.94 2.06-2.06.94zm-11 1L8.5 8.5l.94-2.06 2.06-.94-2.06-.94L8.5 2.5l-.94 2.06-2.06.94zm10 10l.94 2.06.94-2.06 2.06-.94-2.06-.94-.94-2.06-.94 2.06-2.06.94z\"/><path d=\"M17.41 7.96l-1.37-1.37c-.4-.4-.92-.59-1.43-.59-.52 0-1.04.2-1.43.59L10.3 9.45l-7.72 7.72c-.78.78-.78 2.05 0 2.83L4 21.41c.39.39.9.59 1.41.59.51 0 1.02-.2 1.41-.59l7.78-7.78 2.81-2.81c.8-.78.8-2.07 0-2.86zM5.41 20L4 18.59l7.72-7.72 1.47 1.35L5.41 20z\"/>\n",
              "  </svg>\n",
              "      </button>\n",
              "      \n",
              "  <style>\n",
              "    .colab-df-container {\n",
              "      display:flex;\n",
              "      flex-wrap:wrap;\n",
              "      gap: 12px;\n",
              "    }\n",
              "\n",
              "    .colab-df-convert {\n",
              "      background-color: #E8F0FE;\n",
              "      border: none;\n",
              "      border-radius: 50%;\n",
              "      cursor: pointer;\n",
              "      display: none;\n",
              "      fill: #1967D2;\n",
              "      height: 32px;\n",
              "      padding: 0 0 0 0;\n",
              "      width: 32px;\n",
              "    }\n",
              "\n",
              "    .colab-df-convert:hover {\n",
              "      background-color: #E2EBFA;\n",
              "      box-shadow: 0px 1px 2px rgba(60, 64, 67, 0.3), 0px 1px 3px 1px rgba(60, 64, 67, 0.15);\n",
              "      fill: #174EA6;\n",
              "    }\n",
              "\n",
              "    [theme=dark] .colab-df-convert {\n",
              "      background-color: #3B4455;\n",
              "      fill: #D2E3FC;\n",
              "    }\n",
              "\n",
              "    [theme=dark] .colab-df-convert:hover {\n",
              "      background-color: #434B5C;\n",
              "      box-shadow: 0px 1px 3px 1px rgba(0, 0, 0, 0.15);\n",
              "      filter: drop-shadow(0px 1px 2px rgba(0, 0, 0, 0.3));\n",
              "      fill: #FFFFFF;\n",
              "    }\n",
              "  </style>\n",
              "\n",
              "      <script>\n",
              "        const buttonEl =\n",
              "          document.querySelector('#df-5cabdc32-e3eb-468a-8a03-a78e0236ffe1 button.colab-df-convert');\n",
              "        buttonEl.style.display =\n",
              "          google.colab.kernel.accessAllowed ? 'block' : 'none';\n",
              "\n",
              "        async function convertToInteractive(key) {\n",
              "          const element = document.querySelector('#df-5cabdc32-e3eb-468a-8a03-a78e0236ffe1');\n",
              "          const dataTable =\n",
              "            await google.colab.kernel.invokeFunction('convertToInteractive',\n",
              "                                                     [key], {});\n",
              "          if (!dataTable) return;\n",
              "\n",
              "          const docLinkHtml = 'Like what you see? Visit the ' +\n",
              "            '<a target=\"_blank\" href=https://colab.research.google.com/notebooks/data_table.ipynb>data table notebook</a>'\n",
              "            + ' to learn more about interactive tables.';\n",
              "          element.innerHTML = '';\n",
              "          dataTable['output_type'] = 'display_data';\n",
              "          await google.colab.output.renderOutput(dataTable, element);\n",
              "          const docLink = document.createElement('div');\n",
              "          docLink.innerHTML = docLinkHtml;\n",
              "          element.appendChild(docLink);\n",
              "        }\n",
              "      </script>\n",
              "    </div>\n",
              "  </div>\n",
              "  "
            ]
          },
          "metadata": {},
          "execution_count": 24
        }
      ]
    },
    {
      "cell_type": "code",
      "source": [
        "df.shape"
      ],
      "metadata": {
        "colab": {
          "base_uri": "https://localhost:8080/"
        },
        "id": "djL1YBA9M1Ol",
        "outputId": "91c23d1e-6caf-43ce-9355-25070c84f9e2"
      },
      "execution_count": null,
      "outputs": [
        {
          "output_type": "execute_result",
          "data": {
            "text/plain": [
              "(64960, 5)"
            ]
          },
          "metadata": {},
          "execution_count": 25
        }
      ]
    },
    {
      "cell_type": "code",
      "source": [
        "hashes_223952 = df[df['ID'] == 223952]['hash'].to_list()\n",
        "print(hashes_223952)\n",
        "hashes_223952 = [imagehash.hex_to_hash(v) for v in hashes_223952]"
      ],
      "metadata": {
        "colab": {
          "base_uri": "https://localhost:8080/"
        },
        "id": "TCeBqNh7KqBT",
        "outputId": "94710767-5c06-4408-836d-e7dcfd6142dc"
      },
      "execution_count": null,
      "outputs": [
        {
          "output_type": "stream",
          "name": "stdout",
          "text": [
            "['66e6b282a9e151e1', 'f0b8b8b2b2f2d2d2']\n"
          ]
        }
      ]
    },
    {
      "cell_type": "code",
      "source": [
        "hashes_100565 = df[df['ID'] == 100565]['hash'].to_list()\n",
        "print(hashes_100565)\n",
        "hashes_100565 = [imagehash.hex_to_hash(v) for v in hashes_100565]"
      ],
      "metadata": {
        "colab": {
          "base_uri": "https://localhost:8080/"
        },
        "id": "ynZ8eEw2LVMj",
        "outputId": "3e72d9bf-a77b-4c72-b1db-ab0d8971822f"
      },
      "execution_count": null,
      "outputs": [
        {
          "output_type": "stream",
          "name": "stdout",
          "text": [
            "['66e0b2ca0968d0d1', 'b1b9b9b2b2f2d2d2']\n"
          ]
        }
      ]
    },
    {
      "cell_type": "code",
      "source": [
        "hashes_100598 = df[df['ID'] == 100598]['hash'].to_list()\n",
        "print(hashes_100598)\n",
        "hashes_100598 = [imagehash.hex_to_hash(v) for v in hashes_100598]"
      ],
      "metadata": {
        "colab": {
          "base_uri": "https://localhost:8080/"
        },
        "id": "aOgaRv4UMV7s",
        "outputId": "8559de03-68a6-4971-d786-481ba49b98b6"
      },
      "execution_count": null,
      "outputs": [
        {
          "output_type": "stream",
          "name": "stdout",
          "text": [
            "['66c0b2cb0960d061', 'b0b999b232b29292']\n"
          ]
        }
      ]
    },
    {
      "cell_type": "code",
      "source": [
        "print(f\"\"\"\n",
        "Разница хешей\n",
        "100565 и 100598: лицевая {hashes_100565[0] - hashes_100598[0]}\n",
        "                 оборотная {hashes_100565[1] - hashes_100598[1]}\n",
        "223952 и 100565: лицевая {hashes_223952[0] - hashes_100565[0]} \n",
        "                 оборотная {hashes_223952[1] - hashes_100565[1]}\n",
        "223952 и 100598: лицевая {hashes_223952[0] - hashes_100598[0]}\n",
        "                 оборотная {hashes_223952[1] - hashes_100598[1]}\n",
        "\"\"\")"
      ],
      "metadata": {
        "colab": {
          "base_uri": "https://localhost:8080/"
        },
        "id": "Jwo88ieUNmT2",
        "outputId": "aa14d28c-511b-4454-d3d5-9c12a2c918e5"
      },
      "execution_count": null,
      "outputs": [
        {
          "output_type": "stream",
          "name": "stdout",
          "text": [
            "\n",
            "Разница хешей\n",
            "100565 и 100598: лицевая 6\n",
            "                 оборотная 6\n",
            "223952 и 100565: лицевая 13 \n",
            "                 оборотная 4\n",
            "223952 и 100598: лицевая 13\n",
            "                 оборотная 8\n",
            "\n"
          ]
        }
      ]
    },
    {
      "cell_type": "markdown",
      "source": [
        "## 223857 и 100634"
      ],
      "metadata": {
        "id": "VKrjXX7_OR_Z"
      }
    },
    {
      "cell_type": "code",
      "source": [
        "hashes_223857 = df[df['ID'] == 223857]['hash'].to_list()\n",
        "print(hashes_223857)\n",
        "hashes_223857 = [imagehash.hex_to_hash(v) for v in hashes_223857]"
      ],
      "metadata": {
        "colab": {
          "base_uri": "https://localhost:8080/"
        },
        "outputId": "a4d4c95c-3951-408c-f921-b40ce71c5c3c",
        "id": "lI-xUmMaOW79"
      },
      "execution_count": null,
      "outputs": [
        {
          "output_type": "stream",
          "name": "stdout",
          "text": [
            "['4e8e83878181d086', 'b8f2f2aaaaaab282']\n"
          ]
        }
      ]
    },
    {
      "cell_type": "code",
      "source": [
        "hashes_100634 = df[df['ID'] == 100634]['hash'].to_list()\n",
        "print(hashes_100634)\n",
        "hashes_100634 = [imagehash.hex_to_hash(v) for v in hashes_100634]"
      ],
      "metadata": {
        "colab": {
          "base_uri": "https://localhost:8080/"
        },
        "outputId": "96961a8e-d903-4a84-dd30-dc9baaf7e783",
        "id": "NoVz3PF9OW7-"
      },
      "execution_count": null,
      "outputs": [
        {
          "output_type": "stream",
          "name": "stdout",
          "text": [
            "['4f87838281009185', 'd6537becaaaa8892']\n"
          ]
        }
      ]
    },
    {
      "cell_type": "code",
      "source": [
        "print(f\"\"\"\n",
        "Разница хешей\n",
        "223857 и 100634: лицевая {hashes_223857[0] - hashes_100634[0]}\n",
        "                 оборотная {hashes_223857[1] - hashes_100634[1]}\n",
        "\"\"\")"
      ],
      "metadata": {
        "colab": {
          "base_uri": "https://localhost:8080/"
        },
        "id": "qce8PLvLOReQ",
        "outputId": "905a3bd3-4dd3-40bf-d3fc-cf5853f28a1c"
      },
      "execution_count": null,
      "outputs": [
        {
          "output_type": "stream",
          "name": "stdout",
          "text": [
            "\n",
            "Разница хешей\n",
            "223857 и 100634: лицевая 11\n",
            "                 оборотная 19\n",
            "\n"
          ]
        }
      ]
    },
    {
      "cell_type": "markdown",
      "source": [
        "## 223730 и 100952"
      ],
      "metadata": {
        "id": "1K7V69ZlOn5W"
      }
    },
    {
      "cell_type": "code",
      "source": [
        "hashes_223730 = df[df['ID'] == 223730]['hash'].to_list()\n",
        "print(hashes_223730)\n",
        "hashes_223730 = [imagehash.hex_to_hash(v) for v in hashes_223730]"
      ],
      "metadata": {
        "colab": {
          "base_uri": "https://localhost:8080/"
        },
        "outputId": "eafe7f76-0c74-445b-e329-819644f8a635",
        "id": "qY0sKj0jOn5X"
      },
      "execution_count": null,
      "outputs": [
        {
          "output_type": "stream",
          "name": "stdout",
          "text": [
            "['dca2b33232737666', 'a288b0b4e8a890f4']\n"
          ]
        }
      ]
    },
    {
      "cell_type": "code",
      "source": [
        "hashes_100952 = df[df['ID'] == 100952]['hash'].to_list()\n",
        "print(hashes_100952)\n",
        "hashes_100952 = [imagehash.hex_to_hash(v) for v in hashes_100952]"
      ],
      "metadata": {
        "colab": {
          "base_uri": "https://localhost:8080/"
        },
        "outputId": "37d54210-ff50-40b4-f7d3-03c0282266b2",
        "id": "wDFZWhiXOn5Y"
      },
      "execution_count": null,
      "outputs": [
        {
          "output_type": "stream",
          "name": "stdout",
          "text": [
            "['d46131336b737367', '8080302448094915']\n"
          ]
        }
      ]
    },
    {
      "cell_type": "code",
      "source": [
        "print(f\"\"\"\n",
        "Разница хешей\n",
        "223730 и 100952: лицевая {hashes_223730[0] - hashes_100952[0]}\n",
        "                 оборотная {hashes_223730[1] - hashes_100952[1]}\n",
        "\"\"\")"
      ],
      "metadata": {
        "colab": {
          "base_uri": "https://localhost:8080/"
        },
        "outputId": "c132c826-f234-4085-db41-c69e7fce3633",
        "id": "WBPckXbjOn5Y"
      },
      "execution_count": null,
      "outputs": [
        {
          "output_type": "stream",
          "name": "stdout",
          "text": [
            "\n",
            "Разница хешей\n",
            "223730 и 100952: лицевая 15\n",
            "                 оборотная 20\n",
            "\n"
          ]
        }
      ]
    },
    {
      "cell_type": "markdown",
      "source": [
        "## flying_ship_1"
      ],
      "metadata": {
        "id": "1nnopzmEYWKJ"
      }
    },
    {
      "cell_type": "code",
      "source": [
        "df = pd.read_csv('/content/delcampe_flying_ship_1.csv', index_col=0)\n",
        "with pd.option_context('display.max_colwidth', None):\n",
        "    display(df.head())"
      ],
      "metadata": {
        "colab": {
          "base_uri": "https://localhost:8080/",
          "height": 337
        },
        "id": "PfcJ2idwYraC",
        "outputId": "24ab692e-e562-47d2-804b-8c3c046c6c3a"
      },
      "execution_count": null,
      "outputs": [
        {
          "output_type": "display_data",
          "data": {
            "text/plain": [
              "                         ID  \\\n",
              "0  delcampe-flying_ship_1-0   \n",
              "1  delcampe-flying_ship_1-1   \n",
              "2  delcampe-flying_ship_1-2   \n",
              "3  delcampe-flying_ship_1-3   \n",
              "4  delcampe-flying_ship_1-4   \n",
              "\n",
              "                                                                                                                                                                                    url  \n",
              "0  https://delcampe.net/en_GB/collectables/postcards/congo-kinshasa-ex-zaire/belgian-congo-other/antique-postcard-1909s-africa-belgian-congo-missions-nun-with-children-1711036483.html  \n",
              "1                             https://delcampe.net/en_GB/collectables/postcards/madagascar/antique-postcard-1910s-africa-madagascar-some-lepers-from-ambohidratrimo-nun-1711036471.html  \n",
              "2               https://delcampe.net/en_GB/collectables/postcards/russia/tsarist-russia-postcard-1902-elizabeth-boehm-bem-writer-tolstoy-yasnaya-polyana-rural-children-1708590526.html  \n",
              "3         https://delcampe.net/en_GB/collectables/postcards/red-cross/rare-tsarist-russia-postcard-1914-artist-signed-bek-marmarcheva-red-cross-sister-of-mercy-nun-wwi-1708589620.html  \n",
              "4                            https://delcampe.net/en_GB/collectables/postcards/red-cross/rare-tsarist-russian-postcard-1915-by-makovsky-sister-of-mercy-white-angel-wwi-1708588687.html  "
            ],
            "text/html": [
              "\n",
              "  <div id=\"df-53c23534-1c50-4eb7-9be2-35f71b22dea6\">\n",
              "    <div class=\"colab-df-container\">\n",
              "      <div>\n",
              "<style scoped>\n",
              "    .dataframe tbody tr th:only-of-type {\n",
              "        vertical-align: middle;\n",
              "    }\n",
              "\n",
              "    .dataframe tbody tr th {\n",
              "        vertical-align: top;\n",
              "    }\n",
              "\n",
              "    .dataframe thead th {\n",
              "        text-align: right;\n",
              "    }\n",
              "</style>\n",
              "<table border=\"1\" class=\"dataframe\">\n",
              "  <thead>\n",
              "    <tr style=\"text-align: right;\">\n",
              "      <th></th>\n",
              "      <th>ID</th>\n",
              "      <th>url</th>\n",
              "    </tr>\n",
              "  </thead>\n",
              "  <tbody>\n",
              "    <tr>\n",
              "      <th>0</th>\n",
              "      <td>delcampe-flying_ship_1-0</td>\n",
              "      <td>https://delcampe.net/en_GB/collectables/postcards/congo-kinshasa-ex-zaire/belgian-congo-other/antique-postcard-1909s-africa-belgian-congo-missions-nun-with-children-1711036483.html</td>\n",
              "    </tr>\n",
              "    <tr>\n",
              "      <th>1</th>\n",
              "      <td>delcampe-flying_ship_1-1</td>\n",
              "      <td>https://delcampe.net/en_GB/collectables/postcards/madagascar/antique-postcard-1910s-africa-madagascar-some-lepers-from-ambohidratrimo-nun-1711036471.html</td>\n",
              "    </tr>\n",
              "    <tr>\n",
              "      <th>2</th>\n",
              "      <td>delcampe-flying_ship_1-2</td>\n",
              "      <td>https://delcampe.net/en_GB/collectables/postcards/russia/tsarist-russia-postcard-1902-elizabeth-boehm-bem-writer-tolstoy-yasnaya-polyana-rural-children-1708590526.html</td>\n",
              "    </tr>\n",
              "    <tr>\n",
              "      <th>3</th>\n",
              "      <td>delcampe-flying_ship_1-3</td>\n",
              "      <td>https://delcampe.net/en_GB/collectables/postcards/red-cross/rare-tsarist-russia-postcard-1914-artist-signed-bek-marmarcheva-red-cross-sister-of-mercy-nun-wwi-1708589620.html</td>\n",
              "    </tr>\n",
              "    <tr>\n",
              "      <th>4</th>\n",
              "      <td>delcampe-flying_ship_1-4</td>\n",
              "      <td>https://delcampe.net/en_GB/collectables/postcards/red-cross/rare-tsarist-russian-postcard-1915-by-makovsky-sister-of-mercy-white-angel-wwi-1708588687.html</td>\n",
              "    </tr>\n",
              "  </tbody>\n",
              "</table>\n",
              "</div>\n",
              "      <button class=\"colab-df-convert\" onclick=\"convertToInteractive('df-53c23534-1c50-4eb7-9be2-35f71b22dea6')\"\n",
              "              title=\"Convert this dataframe to an interactive table.\"\n",
              "              style=\"display:none;\">\n",
              "        \n",
              "  <svg xmlns=\"http://www.w3.org/2000/svg\" height=\"24px\"viewBox=\"0 0 24 24\"\n",
              "       width=\"24px\">\n",
              "    <path d=\"M0 0h24v24H0V0z\" fill=\"none\"/>\n",
              "    <path d=\"M18.56 5.44l.94 2.06.94-2.06 2.06-.94-2.06-.94-.94-2.06-.94 2.06-2.06.94zm-11 1L8.5 8.5l.94-2.06 2.06-.94-2.06-.94L8.5 2.5l-.94 2.06-2.06.94zm10 10l.94 2.06.94-2.06 2.06-.94-2.06-.94-.94-2.06-.94 2.06-2.06.94z\"/><path d=\"M17.41 7.96l-1.37-1.37c-.4-.4-.92-.59-1.43-.59-.52 0-1.04.2-1.43.59L10.3 9.45l-7.72 7.72c-.78.78-.78 2.05 0 2.83L4 21.41c.39.39.9.59 1.41.59.51 0 1.02-.2 1.41-.59l7.78-7.78 2.81-2.81c.8-.78.8-2.07 0-2.86zM5.41 20L4 18.59l7.72-7.72 1.47 1.35L5.41 20z\"/>\n",
              "  </svg>\n",
              "      </button>\n",
              "      \n",
              "  <style>\n",
              "    .colab-df-container {\n",
              "      display:flex;\n",
              "      flex-wrap:wrap;\n",
              "      gap: 12px;\n",
              "    }\n",
              "\n",
              "    .colab-df-convert {\n",
              "      background-color: #E8F0FE;\n",
              "      border: none;\n",
              "      border-radius: 50%;\n",
              "      cursor: pointer;\n",
              "      display: none;\n",
              "      fill: #1967D2;\n",
              "      height: 32px;\n",
              "      padding: 0 0 0 0;\n",
              "      width: 32px;\n",
              "    }\n",
              "\n",
              "    .colab-df-convert:hover {\n",
              "      background-color: #E2EBFA;\n",
              "      box-shadow: 0px 1px 2px rgba(60, 64, 67, 0.3), 0px 1px 3px 1px rgba(60, 64, 67, 0.15);\n",
              "      fill: #174EA6;\n",
              "    }\n",
              "\n",
              "    [theme=dark] .colab-df-convert {\n",
              "      background-color: #3B4455;\n",
              "      fill: #D2E3FC;\n",
              "    }\n",
              "\n",
              "    [theme=dark] .colab-df-convert:hover {\n",
              "      background-color: #434B5C;\n",
              "      box-shadow: 0px 1px 3px 1px rgba(0, 0, 0, 0.15);\n",
              "      filter: drop-shadow(0px 1px 2px rgba(0, 0, 0, 0.3));\n",
              "      fill: #FFFFFF;\n",
              "    }\n",
              "  </style>\n",
              "\n",
              "      <script>\n",
              "        const buttonEl =\n",
              "          document.querySelector('#df-53c23534-1c50-4eb7-9be2-35f71b22dea6 button.colab-df-convert');\n",
              "        buttonEl.style.display =\n",
              "          google.colab.kernel.accessAllowed ? 'block' : 'none';\n",
              "\n",
              "        async function convertToInteractive(key) {\n",
              "          const element = document.querySelector('#df-53c23534-1c50-4eb7-9be2-35f71b22dea6');\n",
              "          const dataTable =\n",
              "            await google.colab.kernel.invokeFunction('convertToInteractive',\n",
              "                                                     [key], {});\n",
              "          if (!dataTable) return;\n",
              "\n",
              "          const docLinkHtml = 'Like what you see? Visit the ' +\n",
              "            '<a target=\"_blank\" href=https://colab.research.google.com/notebooks/data_table.ipynb>data table notebook</a>'\n",
              "            + ' to learn more about interactive tables.';\n",
              "          element.innerHTML = '';\n",
              "          dataTable['output_type'] = 'display_data';\n",
              "          await google.colab.output.renderOutput(dataTable, element);\n",
              "          const docLink = document.createElement('div');\n",
              "          docLink.innerHTML = docLinkHtml;\n",
              "          element.appendChild(docLink);\n",
              "        }\n",
              "      </script>\n",
              "    </div>\n",
              "  </div>\n",
              "  "
            ]
          },
          "metadata": {}
        }
      ]
    },
    {
      "cell_type": "code",
      "source": [
        "df.shape"
      ],
      "metadata": {
        "colab": {
          "base_uri": "https://localhost:8080/"
        },
        "id": "LZc85t3ZZVH6",
        "outputId": "fd565182-a6d5-40df-9d7e-9ec6136c7d53"
      },
      "execution_count": null,
      "outputs": [
        {
          "output_type": "execute_result",
          "data": {
            "text/plain": [
              "(9600, 2)"
            ]
          },
          "metadata": {},
          "execution_count": 3
        }
      ]
    },
    {
      "cell_type": "code",
      "source": [
        "df['url_suffix'] = df['url'].apply(lambda x: x.split('/')[-1].replace('.html', ''))\n",
        "df['lot_name'] = df['url_suffix'].apply(lambda x: '-'.join(x.split('-')[:-1]))\n",
        "df['lot_number'] = df['url_suffix'].apply(lambda x: x.split('-')[-1])\n",
        "with pd.option_context('display.max_colwidth', None):\n",
        "    display(df.head())"
      ],
      "metadata": {
        "colab": {
          "base_uri": "https://localhost:8080/",
          "height": 912
        },
        "id": "VnJdhd25ZWzo",
        "outputId": "1a5a1738-2e51-48d2-a0ae-c5dcf03a5a5c"
      },
      "execution_count": null,
      "outputs": [
        {
          "output_type": "display_data",
          "data": {
            "text/plain": [
              "                         ID  \\\n",
              "0  delcampe-flying_ship_1-0   \n",
              "1  delcampe-flying_ship_1-1   \n",
              "2  delcampe-flying_ship_1-2   \n",
              "3  delcampe-flying_ship_1-3   \n",
              "4  delcampe-flying_ship_1-4   \n",
              "\n",
              "                                                                                                                                                                                    url  \\\n",
              "0  https://delcampe.net/en_GB/collectables/postcards/congo-kinshasa-ex-zaire/belgian-congo-other/antique-postcard-1909s-africa-belgian-congo-missions-nun-with-children-1711036483.html   \n",
              "1                             https://delcampe.net/en_GB/collectables/postcards/madagascar/antique-postcard-1910s-africa-madagascar-some-lepers-from-ambohidratrimo-nun-1711036471.html   \n",
              "2               https://delcampe.net/en_GB/collectables/postcards/russia/tsarist-russia-postcard-1902-elizabeth-boehm-bem-writer-tolstoy-yasnaya-polyana-rural-children-1708590526.html   \n",
              "3         https://delcampe.net/en_GB/collectables/postcards/red-cross/rare-tsarist-russia-postcard-1914-artist-signed-bek-marmarcheva-red-cross-sister-of-mercy-nun-wwi-1708589620.html   \n",
              "4                            https://delcampe.net/en_GB/collectables/postcards/red-cross/rare-tsarist-russian-postcard-1915-by-makovsky-sister-of-mercy-white-angel-wwi-1708588687.html   \n",
              "\n",
              "                                                                                            lot_name  \\\n",
              "0                             antique-postcard-1909s-africa-belgian-congo-missions-nun-with-children   \n",
              "1                       antique-postcard-1910s-africa-madagascar-some-lepers-from-ambohidratrimo-nun   \n",
              "2     tsarist-russia-postcard-1902-elizabeth-boehm-bem-writer-tolstoy-yasnaya-polyana-rural-children   \n",
              "3  rare-tsarist-russia-postcard-1914-artist-signed-bek-marmarcheva-red-cross-sister-of-mercy-nun-wwi   \n",
              "4                     rare-tsarist-russian-postcard-1915-by-makovsky-sister-of-mercy-white-angel-wwi   \n",
              "\n",
              "                                                                                                     url_suffix  \\\n",
              "0                             antique-postcard-1909s-africa-belgian-congo-missions-nun-with-children-1711036483   \n",
              "1                       antique-postcard-1910s-africa-madagascar-some-lepers-from-ambohidratrimo-nun-1711036471   \n",
              "2     tsarist-russia-postcard-1902-elizabeth-boehm-bem-writer-tolstoy-yasnaya-polyana-rural-children-1708590526   \n",
              "3  rare-tsarist-russia-postcard-1914-artist-signed-bek-marmarcheva-red-cross-sister-of-mercy-nun-wwi-1708589620   \n",
              "4                     rare-tsarist-russian-postcard-1915-by-makovsky-sister-of-mercy-white-angel-wwi-1708588687   \n",
              "\n",
              "   lot_number  \n",
              "0  1711036483  \n",
              "1  1711036471  \n",
              "2  1708590526  \n",
              "3  1708589620  \n",
              "4  1708588687  "
            ],
            "text/html": [
              "\n",
              "  <div id=\"df-6a00e8fb-b692-4a53-b622-eb06011f022d\">\n",
              "    <div class=\"colab-df-container\">\n",
              "      <div>\n",
              "<style scoped>\n",
              "    .dataframe tbody tr th:only-of-type {\n",
              "        vertical-align: middle;\n",
              "    }\n",
              "\n",
              "    .dataframe tbody tr th {\n",
              "        vertical-align: top;\n",
              "    }\n",
              "\n",
              "    .dataframe thead th {\n",
              "        text-align: right;\n",
              "    }\n",
              "</style>\n",
              "<table border=\"1\" class=\"dataframe\">\n",
              "  <thead>\n",
              "    <tr style=\"text-align: right;\">\n",
              "      <th></th>\n",
              "      <th>ID</th>\n",
              "      <th>url</th>\n",
              "      <th>lot_name</th>\n",
              "      <th>url_suffix</th>\n",
              "      <th>lot_number</th>\n",
              "    </tr>\n",
              "  </thead>\n",
              "  <tbody>\n",
              "    <tr>\n",
              "      <th>0</th>\n",
              "      <td>delcampe-flying_ship_1-0</td>\n",
              "      <td>https://delcampe.net/en_GB/collectables/postcards/congo-kinshasa-ex-zaire/belgian-congo-other/antique-postcard-1909s-africa-belgian-congo-missions-nun-with-children-1711036483.html</td>\n",
              "      <td>antique-postcard-1909s-africa-belgian-congo-missions-nun-with-children</td>\n",
              "      <td>antique-postcard-1909s-africa-belgian-congo-missions-nun-with-children-1711036483</td>\n",
              "      <td>1711036483</td>\n",
              "    </tr>\n",
              "    <tr>\n",
              "      <th>1</th>\n",
              "      <td>delcampe-flying_ship_1-1</td>\n",
              "      <td>https://delcampe.net/en_GB/collectables/postcards/madagascar/antique-postcard-1910s-africa-madagascar-some-lepers-from-ambohidratrimo-nun-1711036471.html</td>\n",
              "      <td>antique-postcard-1910s-africa-madagascar-some-lepers-from-ambohidratrimo-nun</td>\n",
              "      <td>antique-postcard-1910s-africa-madagascar-some-lepers-from-ambohidratrimo-nun-1711036471</td>\n",
              "      <td>1711036471</td>\n",
              "    </tr>\n",
              "    <tr>\n",
              "      <th>2</th>\n",
              "      <td>delcampe-flying_ship_1-2</td>\n",
              "      <td>https://delcampe.net/en_GB/collectables/postcards/russia/tsarist-russia-postcard-1902-elizabeth-boehm-bem-writer-tolstoy-yasnaya-polyana-rural-children-1708590526.html</td>\n",
              "      <td>tsarist-russia-postcard-1902-elizabeth-boehm-bem-writer-tolstoy-yasnaya-polyana-rural-children</td>\n",
              "      <td>tsarist-russia-postcard-1902-elizabeth-boehm-bem-writer-tolstoy-yasnaya-polyana-rural-children-1708590526</td>\n",
              "      <td>1708590526</td>\n",
              "    </tr>\n",
              "    <tr>\n",
              "      <th>3</th>\n",
              "      <td>delcampe-flying_ship_1-3</td>\n",
              "      <td>https://delcampe.net/en_GB/collectables/postcards/red-cross/rare-tsarist-russia-postcard-1914-artist-signed-bek-marmarcheva-red-cross-sister-of-mercy-nun-wwi-1708589620.html</td>\n",
              "      <td>rare-tsarist-russia-postcard-1914-artist-signed-bek-marmarcheva-red-cross-sister-of-mercy-nun-wwi</td>\n",
              "      <td>rare-tsarist-russia-postcard-1914-artist-signed-bek-marmarcheva-red-cross-sister-of-mercy-nun-wwi-1708589620</td>\n",
              "      <td>1708589620</td>\n",
              "    </tr>\n",
              "    <tr>\n",
              "      <th>4</th>\n",
              "      <td>delcampe-flying_ship_1-4</td>\n",
              "      <td>https://delcampe.net/en_GB/collectables/postcards/red-cross/rare-tsarist-russian-postcard-1915-by-makovsky-sister-of-mercy-white-angel-wwi-1708588687.html</td>\n",
              "      <td>rare-tsarist-russian-postcard-1915-by-makovsky-sister-of-mercy-white-angel-wwi</td>\n",
              "      <td>rare-tsarist-russian-postcard-1915-by-makovsky-sister-of-mercy-white-angel-wwi-1708588687</td>\n",
              "      <td>1708588687</td>\n",
              "    </tr>\n",
              "  </tbody>\n",
              "</table>\n",
              "</div>\n",
              "      <button class=\"colab-df-convert\" onclick=\"convertToInteractive('df-6a00e8fb-b692-4a53-b622-eb06011f022d')\"\n",
              "              title=\"Convert this dataframe to an interactive table.\"\n",
              "              style=\"display:none;\">\n",
              "        \n",
              "  <svg xmlns=\"http://www.w3.org/2000/svg\" height=\"24px\"viewBox=\"0 0 24 24\"\n",
              "       width=\"24px\">\n",
              "    <path d=\"M0 0h24v24H0V0z\" fill=\"none\"/>\n",
              "    <path d=\"M18.56 5.44l.94 2.06.94-2.06 2.06-.94-2.06-.94-.94-2.06-.94 2.06-2.06.94zm-11 1L8.5 8.5l.94-2.06 2.06-.94-2.06-.94L8.5 2.5l-.94 2.06-2.06.94zm10 10l.94 2.06.94-2.06 2.06-.94-2.06-.94-.94-2.06-.94 2.06-2.06.94z\"/><path d=\"M17.41 7.96l-1.37-1.37c-.4-.4-.92-.59-1.43-.59-.52 0-1.04.2-1.43.59L10.3 9.45l-7.72 7.72c-.78.78-.78 2.05 0 2.83L4 21.41c.39.39.9.59 1.41.59.51 0 1.02-.2 1.41-.59l7.78-7.78 2.81-2.81c.8-.78.8-2.07 0-2.86zM5.41 20L4 18.59l7.72-7.72 1.47 1.35L5.41 20z\"/>\n",
              "  </svg>\n",
              "      </button>\n",
              "      \n",
              "  <style>\n",
              "    .colab-df-container {\n",
              "      display:flex;\n",
              "      flex-wrap:wrap;\n",
              "      gap: 12px;\n",
              "    }\n",
              "\n",
              "    .colab-df-convert {\n",
              "      background-color: #E8F0FE;\n",
              "      border: none;\n",
              "      border-radius: 50%;\n",
              "      cursor: pointer;\n",
              "      display: none;\n",
              "      fill: #1967D2;\n",
              "      height: 32px;\n",
              "      padding: 0 0 0 0;\n",
              "      width: 32px;\n",
              "    }\n",
              "\n",
              "    .colab-df-convert:hover {\n",
              "      background-color: #E2EBFA;\n",
              "      box-shadow: 0px 1px 2px rgba(60, 64, 67, 0.3), 0px 1px 3px 1px rgba(60, 64, 67, 0.15);\n",
              "      fill: #174EA6;\n",
              "    }\n",
              "\n",
              "    [theme=dark] .colab-df-convert {\n",
              "      background-color: #3B4455;\n",
              "      fill: #D2E3FC;\n",
              "    }\n",
              "\n",
              "    [theme=dark] .colab-df-convert:hover {\n",
              "      background-color: #434B5C;\n",
              "      box-shadow: 0px 1px 3px 1px rgba(0, 0, 0, 0.15);\n",
              "      filter: drop-shadow(0px 1px 2px rgba(0, 0, 0, 0.3));\n",
              "      fill: #FFFFFF;\n",
              "    }\n",
              "  </style>\n",
              "\n",
              "      <script>\n",
              "        const buttonEl =\n",
              "          document.querySelector('#df-6a00e8fb-b692-4a53-b622-eb06011f022d button.colab-df-convert');\n",
              "        buttonEl.style.display =\n",
              "          google.colab.kernel.accessAllowed ? 'block' : 'none';\n",
              "\n",
              "        async function convertToInteractive(key) {\n",
              "          const element = document.querySelector('#df-6a00e8fb-b692-4a53-b622-eb06011f022d');\n",
              "          const dataTable =\n",
              "            await google.colab.kernel.invokeFunction('convertToInteractive',\n",
              "                                                     [key], {});\n",
              "          if (!dataTable) return;\n",
              "\n",
              "          const docLinkHtml = 'Like what you see? Visit the ' +\n",
              "            '<a target=\"_blank\" href=https://colab.research.google.com/notebooks/data_table.ipynb>data table notebook</a>'\n",
              "            + ' to learn more about interactive tables.';\n",
              "          element.innerHTML = '';\n",
              "          dataTable['output_type'] = 'display_data';\n",
              "          await google.colab.output.renderOutput(dataTable, element);\n",
              "          const docLink = document.createElement('div');\n",
              "          docLink.innerHTML = docLinkHtml;\n",
              "          element.appendChild(docLink);\n",
              "        }\n",
              "      </script>\n",
              "    </div>\n",
              "  </div>\n",
              "  "
            ]
          },
          "metadata": {}
        }
      ]
    },
    {
      "cell_type": "code",
      "source": [
        "df['lot_name'].nunique()"
      ],
      "metadata": {
        "colab": {
          "base_uri": "https://localhost:8080/"
        },
        "id": "V-7zEQZjaW7T",
        "outputId": "0675561c-1cbd-4694-b9c9-be1bdc297960"
      },
      "execution_count": null,
      "outputs": [
        {
          "output_type": "execute_result",
          "data": {
            "text/plain": [
              "9429"
            ]
          },
          "metadata": {},
          "execution_count": 8
        }
      ]
    },
    {
      "cell_type": "code",
      "source": [
        "df['lot_number'].nunique()"
      ],
      "metadata": {
        "colab": {
          "base_uri": "https://localhost:8080/"
        },
        "id": "Ccl7WFsjaaPI",
        "outputId": "761f0b22-f126-4491-a374-2dcd534e1bb7"
      },
      "execution_count": null,
      "outputs": [
        {
          "output_type": "execute_result",
          "data": {
            "text/plain": [
              "9600"
            ]
          },
          "metadata": {},
          "execution_count": 9
        }
      ]
    },
    {
      "cell_type": "code",
      "source": [
        "lot_name_count = df.groupby('lot_name')['ID'].count().sort_values(ascending=False).reset_index().rename(\n",
        "    columns={'ID': 'count'}\n",
        ")\n",
        "names_count_gt_1 = lot_name_count[lot_name_count['count'] > 1]['lot_name'].to_list()\n",
        "names_count_gt_1[:10]"
      ],
      "metadata": {
        "colab": {
          "base_uri": "https://localhost:8080/"
        },
        "id": "wHgdsSpnasCb",
        "outputId": "99a017d6-e3a3-4cad-a107-8c5027518a7e"
      },
      "execution_count": null,
      "outputs": [
        {
          "output_type": "execute_result",
          "data": {
            "text/plain": [
              "['vintage-russian-postcard-1963-1st-woman-pilot-cosmonaut-valentina-tereshkova-astronaut-space',\n",
              " 'tsarist-russia-kishinev-photo-postcard-1909s-russian-opera-singer-star-leonid-sobinov',\n",
              " 'tsarist-russia-zhabye-village-austria-hungary-postcard-1910s-artist-slasten-cossack-haidamaka-by-shevchenko',\n",
              " 'tsarist-russia-unused-postcard-1909s-russian-writer-leo-tolstoy-at-work-in-his-cabinet',\n",
              " 'tsarist-russia-postcard-1910s-grave-of-leo-tolstoy-in-yasnaya-polyana-artist-signed-i-gorelow',\n",
              " 'tsarist-russia-photo-postcard-1909s-mephistopheles-feodor-chaliapin-shalyapin-russian-opera-singer',\n",
              " 'vintage-ussr-russian-photo-postcard-1947-russian-ballet-star-galina-ulanova-in-giselle',\n",
              " 'vintage-russian-ussr-postcard-1955-by-uzbekov-soviet-sport-tv-football-fans-grandfather-and-grandson',\n",
              " 'tsarist-russia-postcard-1909s-great-russian-writer-anton-chekhov-anton-cehov',\n",
              " 'vintage-russian-postcard-1967-russian-folk-tale-rooster-with-scythe-sun-mushroom-artist-ershov']"
            ]
          },
          "metadata": {},
          "execution_count": 20
        }
      ]
    },
    {
      "cell_type": "code",
      "source": [
        "df[df['lot_name'].isin(names_count_gt_1)].to_csv('flying_ship_1_names_count_gt_1.csv')"
      ],
      "metadata": {
        "id": "jHGTGj3eif9q"
      },
      "execution_count": null,
      "outputs": []
    },
    {
      "cell_type": "code",
      "source": [
        "with pd.option_context('display.max_colwidth', None):\n",
        "    display(df[df['lot_name'] == \n",
        "    'vintage-russian-postcard-1963-1st-woman-pilot-cosmonaut-valentina-tereshkova-astronaut-space'])"
      ],
      "metadata": {
        "colab": {
          "base_uri": "https://localhost:8080/",
          "height": 913
        },
        "id": "cwWSCizAh-Hq",
        "outputId": "1957e58a-6d34-40b5-8668-42bf40450c5b"
      },
      "execution_count": null,
      "outputs": [
        {
          "output_type": "display_data",
          "data": {
            "text/plain": [
              "                               ID  \\\n",
              "2459  delcampe-flying_ship_1-2459   \n",
              "2460  delcampe-flying_ship_1-2460   \n",
              "2461  delcampe-flying_ship_1-2461   \n",
              "2462  delcampe-flying_ship_1-2462   \n",
              "\n",
              "                                                                                                                                                                                             url  \\\n",
              "2459  https://delcampe.net/en_GB/collectables/postcards/famous-people/famous-ladies/vintage-russian-postcard-1963-1st-woman-pilot-cosmonaut-valentina-tereshkova-astronaut-space-1463231129.html   \n",
              "2460  https://delcampe.net/en_GB/collectables/postcards/famous-people/famous-ladies/vintage-russian-postcard-1963-1st-woman-pilot-cosmonaut-valentina-tereshkova-astronaut-space-1463230562.html   \n",
              "2461  https://delcampe.net/en_GB/collectables/postcards/famous-people/famous-ladies/vintage-russian-postcard-1963-1st-woman-pilot-cosmonaut-valentina-tereshkova-astronaut-space-1463230070.html   \n",
              "2462  https://delcampe.net/en_GB/collectables/postcards/famous-people/famous-ladies/vintage-russian-postcard-1963-1st-woman-pilot-cosmonaut-valentina-tereshkova-astronaut-space-1463228303.html   \n",
              "\n",
              "                                                                                          lot_name  \\\n",
              "2459  vintage-russian-postcard-1963-1st-woman-pilot-cosmonaut-valentina-tereshkova-astronaut-space   \n",
              "2460  vintage-russian-postcard-1963-1st-woman-pilot-cosmonaut-valentina-tereshkova-astronaut-space   \n",
              "2461  vintage-russian-postcard-1963-1st-woman-pilot-cosmonaut-valentina-tereshkova-astronaut-space   \n",
              "2462  vintage-russian-postcard-1963-1st-woman-pilot-cosmonaut-valentina-tereshkova-astronaut-space   \n",
              "\n",
              "                                                                                                   url_suffix  \\\n",
              "2459  vintage-russian-postcard-1963-1st-woman-pilot-cosmonaut-valentina-tereshkova-astronaut-space-1463231129   \n",
              "2460  vintage-russian-postcard-1963-1st-woman-pilot-cosmonaut-valentina-tereshkova-astronaut-space-1463230562   \n",
              "2461  vintage-russian-postcard-1963-1st-woman-pilot-cosmonaut-valentina-tereshkova-astronaut-space-1463230070   \n",
              "2462  vintage-russian-postcard-1963-1st-woman-pilot-cosmonaut-valentina-tereshkova-astronaut-space-1463228303   \n",
              "\n",
              "      lot_number  \n",
              "2459  1463231129  \n",
              "2460  1463230562  \n",
              "2461  1463230070  \n",
              "2462  1463228303  "
            ],
            "text/html": [
              "\n",
              "  <div id=\"df-7867d6e1-858c-4545-920f-757f2dd20923\">\n",
              "    <div class=\"colab-df-container\">\n",
              "      <div>\n",
              "<style scoped>\n",
              "    .dataframe tbody tr th:only-of-type {\n",
              "        vertical-align: middle;\n",
              "    }\n",
              "\n",
              "    .dataframe tbody tr th {\n",
              "        vertical-align: top;\n",
              "    }\n",
              "\n",
              "    .dataframe thead th {\n",
              "        text-align: right;\n",
              "    }\n",
              "</style>\n",
              "<table border=\"1\" class=\"dataframe\">\n",
              "  <thead>\n",
              "    <tr style=\"text-align: right;\">\n",
              "      <th></th>\n",
              "      <th>ID</th>\n",
              "      <th>url</th>\n",
              "      <th>lot_name</th>\n",
              "      <th>url_suffix</th>\n",
              "      <th>lot_number</th>\n",
              "    </tr>\n",
              "  </thead>\n",
              "  <tbody>\n",
              "    <tr>\n",
              "      <th>2459</th>\n",
              "      <td>delcampe-flying_ship_1-2459</td>\n",
              "      <td>https://delcampe.net/en_GB/collectables/postcards/famous-people/famous-ladies/vintage-russian-postcard-1963-1st-woman-pilot-cosmonaut-valentina-tereshkova-astronaut-space-1463231129.html</td>\n",
              "      <td>vintage-russian-postcard-1963-1st-woman-pilot-cosmonaut-valentina-tereshkova-astronaut-space</td>\n",
              "      <td>vintage-russian-postcard-1963-1st-woman-pilot-cosmonaut-valentina-tereshkova-astronaut-space-1463231129</td>\n",
              "      <td>1463231129</td>\n",
              "    </tr>\n",
              "    <tr>\n",
              "      <th>2460</th>\n",
              "      <td>delcampe-flying_ship_1-2460</td>\n",
              "      <td>https://delcampe.net/en_GB/collectables/postcards/famous-people/famous-ladies/vintage-russian-postcard-1963-1st-woman-pilot-cosmonaut-valentina-tereshkova-astronaut-space-1463230562.html</td>\n",
              "      <td>vintage-russian-postcard-1963-1st-woman-pilot-cosmonaut-valentina-tereshkova-astronaut-space</td>\n",
              "      <td>vintage-russian-postcard-1963-1st-woman-pilot-cosmonaut-valentina-tereshkova-astronaut-space-1463230562</td>\n",
              "      <td>1463230562</td>\n",
              "    </tr>\n",
              "    <tr>\n",
              "      <th>2461</th>\n",
              "      <td>delcampe-flying_ship_1-2461</td>\n",
              "      <td>https://delcampe.net/en_GB/collectables/postcards/famous-people/famous-ladies/vintage-russian-postcard-1963-1st-woman-pilot-cosmonaut-valentina-tereshkova-astronaut-space-1463230070.html</td>\n",
              "      <td>vintage-russian-postcard-1963-1st-woman-pilot-cosmonaut-valentina-tereshkova-astronaut-space</td>\n",
              "      <td>vintage-russian-postcard-1963-1st-woman-pilot-cosmonaut-valentina-tereshkova-astronaut-space-1463230070</td>\n",
              "      <td>1463230070</td>\n",
              "    </tr>\n",
              "    <tr>\n",
              "      <th>2462</th>\n",
              "      <td>delcampe-flying_ship_1-2462</td>\n",
              "      <td>https://delcampe.net/en_GB/collectables/postcards/famous-people/famous-ladies/vintage-russian-postcard-1963-1st-woman-pilot-cosmonaut-valentina-tereshkova-astronaut-space-1463228303.html</td>\n",
              "      <td>vintage-russian-postcard-1963-1st-woman-pilot-cosmonaut-valentina-tereshkova-astronaut-space</td>\n",
              "      <td>vintage-russian-postcard-1963-1st-woman-pilot-cosmonaut-valentina-tereshkova-astronaut-space-1463228303</td>\n",
              "      <td>1463228303</td>\n",
              "    </tr>\n",
              "  </tbody>\n",
              "</table>\n",
              "</div>\n",
              "      <button class=\"colab-df-convert\" onclick=\"convertToInteractive('df-7867d6e1-858c-4545-920f-757f2dd20923')\"\n",
              "              title=\"Convert this dataframe to an interactive table.\"\n",
              "              style=\"display:none;\">\n",
              "        \n",
              "  <svg xmlns=\"http://www.w3.org/2000/svg\" height=\"24px\"viewBox=\"0 0 24 24\"\n",
              "       width=\"24px\">\n",
              "    <path d=\"M0 0h24v24H0V0z\" fill=\"none\"/>\n",
              "    <path d=\"M18.56 5.44l.94 2.06.94-2.06 2.06-.94-2.06-.94-.94-2.06-.94 2.06-2.06.94zm-11 1L8.5 8.5l.94-2.06 2.06-.94-2.06-.94L8.5 2.5l-.94 2.06-2.06.94zm10 10l.94 2.06.94-2.06 2.06-.94-2.06-.94-.94-2.06-.94 2.06-2.06.94z\"/><path d=\"M17.41 7.96l-1.37-1.37c-.4-.4-.92-.59-1.43-.59-.52 0-1.04.2-1.43.59L10.3 9.45l-7.72 7.72c-.78.78-.78 2.05 0 2.83L4 21.41c.39.39.9.59 1.41.59.51 0 1.02-.2 1.41-.59l7.78-7.78 2.81-2.81c.8-.78.8-2.07 0-2.86zM5.41 20L4 18.59l7.72-7.72 1.47 1.35L5.41 20z\"/>\n",
              "  </svg>\n",
              "      </button>\n",
              "      \n",
              "  <style>\n",
              "    .colab-df-container {\n",
              "      display:flex;\n",
              "      flex-wrap:wrap;\n",
              "      gap: 12px;\n",
              "    }\n",
              "\n",
              "    .colab-df-convert {\n",
              "      background-color: #E8F0FE;\n",
              "      border: none;\n",
              "      border-radius: 50%;\n",
              "      cursor: pointer;\n",
              "      display: none;\n",
              "      fill: #1967D2;\n",
              "      height: 32px;\n",
              "      padding: 0 0 0 0;\n",
              "      width: 32px;\n",
              "    }\n",
              "\n",
              "    .colab-df-convert:hover {\n",
              "      background-color: #E2EBFA;\n",
              "      box-shadow: 0px 1px 2px rgba(60, 64, 67, 0.3), 0px 1px 3px 1px rgba(60, 64, 67, 0.15);\n",
              "      fill: #174EA6;\n",
              "    }\n",
              "\n",
              "    [theme=dark] .colab-df-convert {\n",
              "      background-color: #3B4455;\n",
              "      fill: #D2E3FC;\n",
              "    }\n",
              "\n",
              "    [theme=dark] .colab-df-convert:hover {\n",
              "      background-color: #434B5C;\n",
              "      box-shadow: 0px 1px 3px 1px rgba(0, 0, 0, 0.15);\n",
              "      filter: drop-shadow(0px 1px 2px rgba(0, 0, 0, 0.3));\n",
              "      fill: #FFFFFF;\n",
              "    }\n",
              "  </style>\n",
              "\n",
              "      <script>\n",
              "        const buttonEl =\n",
              "          document.querySelector('#df-7867d6e1-858c-4545-920f-757f2dd20923 button.colab-df-convert');\n",
              "        buttonEl.style.display =\n",
              "          google.colab.kernel.accessAllowed ? 'block' : 'none';\n",
              "\n",
              "        async function convertToInteractive(key) {\n",
              "          const element = document.querySelector('#df-7867d6e1-858c-4545-920f-757f2dd20923');\n",
              "          const dataTable =\n",
              "            await google.colab.kernel.invokeFunction('convertToInteractive',\n",
              "                                                     [key], {});\n",
              "          if (!dataTable) return;\n",
              "\n",
              "          const docLinkHtml = 'Like what you see? Visit the ' +\n",
              "            '<a target=\"_blank\" href=https://colab.research.google.com/notebooks/data_table.ipynb>data table notebook</a>'\n",
              "            + ' to learn more about interactive tables.';\n",
              "          element.innerHTML = '';\n",
              "          dataTable['output_type'] = 'display_data';\n",
              "          await google.colab.output.renderOutput(dataTable, element);\n",
              "          const docLink = document.createElement('div');\n",
              "          docLink.innerHTML = docLinkHtml;\n",
              "          element.appendChild(docLink);\n",
              "        }\n",
              "      </script>\n",
              "    </div>\n",
              "  </div>\n",
              "  "
            ]
          },
          "metadata": {}
        }
      ]
    },
    {
      "cell_type": "code",
      "source": [],
      "metadata": {
        "id": "fHKKmV1KiaDq"
      },
      "execution_count": null,
      "outputs": []
    }
  ]
}