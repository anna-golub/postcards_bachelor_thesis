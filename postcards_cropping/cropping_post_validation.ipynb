{
  "cells": [
    {
      "cell_type": "markdown",
      "source": [
        "# Ревизия \n",
        "Что уже обрезано и что еще нет (после ЯП 5, март 2023)"
      ],
      "metadata": {
        "id": "1ThJOR93Nmh6"
      }
    },
    {
      "cell_type": "markdown",
      "source": [
        "## Сводим данные"
      ],
      "metadata": {
        "id": "Z0HPusr_SE7D"
      }
    },
    {
      "cell_type": "code",
      "execution_count": 2,
      "metadata": {
        "id": "910xkhDHQi6G"
      },
      "outputs": [],
      "source": [
        "import pandas as pd"
      ]
    },
    {
      "cell_type": "code",
      "execution_count": 2,
      "metadata": {
        "id": "a5qe88L7QrP4"
      },
      "outputs": [],
      "source": [
        "xls = pd.ExcelFile('/content/Обрезка открыток рабочая таблица для волонтеров 2.xlsx')"
      ]
    },
    {
      "cell_type": "code",
      "source": [
        "base_1_opencv = pd.read_excel(xls, 'База 1 метод OpenCV')\n",
        "base_1_opencv['base'] = 1\n",
        "base_1_rembg = pd.read_excel(xls, 'База 1 метод rembg')\n",
        "base_1_rembg['base'] = 1\n",
        "base_1_alg = pd.read_excel(xls, 'База 1 метод algorithm')\n",
        "base_1_alg['base'] = 1\n",
        "base_1_alg.head()"
      ],
      "metadata": {
        "id": "y93TG-DfPif-"
      },
      "execution_count": null,
      "outputs": []
    },
    {
      "cell_type": "code",
      "source": [
        "base_2_opencv = pd.read_excel(xls, 'База 2 метод OpenCV')\n",
        "base_2_opencv['ID'] = base_2_opencv['ID'] + 100000\n",
        "base_2_opencv['base'] = 2\n",
        "base_2_rembg = pd.read_excel(xls, 'База 2 метод rembg')\n",
        "base_2_rembg['ID'] = base_2_rembg['ID'] + 100000\n",
        "base_2_rembg['base'] = 2\n",
        "base_2_alg = pd.read_excel(xls, 'База 2 метод algorithm')\n",
        "base_2_alg['ID'] = base_2_alg['ID'] + 100000\n",
        "base_2_alg['base'] = 2"
      ],
      "metadata": {
        "id": "Hofw_jAtNxK7"
      },
      "execution_count": null,
      "outputs": []
    },
    {
      "cell_type": "code",
      "source": [
        "base_2_opencv.dtypes"
      ],
      "metadata": {
        "colab": {
          "base_uri": "https://localhost:8080/"
        },
        "id": "G9Zkul6NQfA1",
        "outputId": "9f98c803-fc95-45e3-dbad-baf4f7904873"
      },
      "execution_count": null,
      "outputs": [
        {
          "output_type": "execute_result",
          "data": {
            "text/plain": [
              "ID                     int64\n",
              "Pic                    int64\n",
              "Комментарий          float64\n",
              "Название файла        object\n",
              "Результат обрезки     object\n",
              "Статус               float64\n",
              "dtype: object"
            ]
          },
          "metadata": {},
          "execution_count": 5
        }
      ]
    },
    {
      "cell_type": "code",
      "source": [
        "base_3_opencv = pd.read_excel(xls, 'База 3 метод OpenCV')\n",
        "base_3_opencv['ID'] = base_3_opencv['ID'] + 200000\n",
        "base_3_opencv['base'] = 3\n",
        "base_3_rembg = pd.read_excel(xls, 'База 3 метод rembg')\n",
        "base_3_rembg['ID'] = base_3_rembg['ID'] + 200000\n",
        "base_3_rembg['base'] = 3\n",
        "base_3_alg = pd.read_excel(xls, 'База 3 метод algorithm')\n",
        "base_3_alg['ID'] = base_3_alg['ID'] + 200000\n",
        "base_3_alg['base'] = 3"
      ],
      "metadata": {
        "id": "vxxqiHQEQxW4"
      },
      "execution_count": null,
      "outputs": []
    },
    {
      "cell_type": "code",
      "source": [
        "base_3_rembg.head()"
      ],
      "metadata": {
        "colab": {
          "base_uri": "https://localhost:8080/",
          "height": 206
        },
        "id": "abgSES_RRCQR",
        "outputId": "cd3c9d30-5ff2-494b-b383-5e8534477ad5"
      },
      "execution_count": null,
      "outputs": [
        {
          "output_type": "execute_result",
          "data": {
            "text/plain": [
              "       ID  Pic Название файла Результат обрезки  Статус  Комментарий  base\n",
              "0  204975    1     4975-1.jpg   4975-1-crop.jpg     NaN          NaN     3\n",
              "1  204987    1     4987-1.jpg   4987-1-crop.jpg     NaN          NaN     3\n",
              "2  205016    1     5016-1.jpg   5016-1-crop.jpg     NaN          NaN     3\n",
              "3  205110    2     5110-2.jpg   5110-2-crop.jpg     NaN          NaN     3\n",
              "4  205110    1     5110-1.jpg   5110-1-crop.jpg     NaN          NaN     3"
            ],
            "text/html": [
              "\n",
              "  <div id=\"df-9c0d6f52-3bb8-454d-b11e-5bf81692dd38\">\n",
              "    <div class=\"colab-df-container\">\n",
              "      <div>\n",
              "<style scoped>\n",
              "    .dataframe tbody tr th:only-of-type {\n",
              "        vertical-align: middle;\n",
              "    }\n",
              "\n",
              "    .dataframe tbody tr th {\n",
              "        vertical-align: top;\n",
              "    }\n",
              "\n",
              "    .dataframe thead th {\n",
              "        text-align: right;\n",
              "    }\n",
              "</style>\n",
              "<table border=\"1\" class=\"dataframe\">\n",
              "  <thead>\n",
              "    <tr style=\"text-align: right;\">\n",
              "      <th></th>\n",
              "      <th>ID</th>\n",
              "      <th>Pic</th>\n",
              "      <th>Название файла</th>\n",
              "      <th>Результат обрезки</th>\n",
              "      <th>Статус</th>\n",
              "      <th>Комментарий</th>\n",
              "      <th>base</th>\n",
              "    </tr>\n",
              "  </thead>\n",
              "  <tbody>\n",
              "    <tr>\n",
              "      <th>0</th>\n",
              "      <td>204975</td>\n",
              "      <td>1</td>\n",
              "      <td>4975-1.jpg</td>\n",
              "      <td>4975-1-crop.jpg</td>\n",
              "      <td>NaN</td>\n",
              "      <td>NaN</td>\n",
              "      <td>3</td>\n",
              "    </tr>\n",
              "    <tr>\n",
              "      <th>1</th>\n",
              "      <td>204987</td>\n",
              "      <td>1</td>\n",
              "      <td>4987-1.jpg</td>\n",
              "      <td>4987-1-crop.jpg</td>\n",
              "      <td>NaN</td>\n",
              "      <td>NaN</td>\n",
              "      <td>3</td>\n",
              "    </tr>\n",
              "    <tr>\n",
              "      <th>2</th>\n",
              "      <td>205016</td>\n",
              "      <td>1</td>\n",
              "      <td>5016-1.jpg</td>\n",
              "      <td>5016-1-crop.jpg</td>\n",
              "      <td>NaN</td>\n",
              "      <td>NaN</td>\n",
              "      <td>3</td>\n",
              "    </tr>\n",
              "    <tr>\n",
              "      <th>3</th>\n",
              "      <td>205110</td>\n",
              "      <td>2</td>\n",
              "      <td>5110-2.jpg</td>\n",
              "      <td>5110-2-crop.jpg</td>\n",
              "      <td>NaN</td>\n",
              "      <td>NaN</td>\n",
              "      <td>3</td>\n",
              "    </tr>\n",
              "    <tr>\n",
              "      <th>4</th>\n",
              "      <td>205110</td>\n",
              "      <td>1</td>\n",
              "      <td>5110-1.jpg</td>\n",
              "      <td>5110-1-crop.jpg</td>\n",
              "      <td>NaN</td>\n",
              "      <td>NaN</td>\n",
              "      <td>3</td>\n",
              "    </tr>\n",
              "  </tbody>\n",
              "</table>\n",
              "</div>\n",
              "      <button class=\"colab-df-convert\" onclick=\"convertToInteractive('df-9c0d6f52-3bb8-454d-b11e-5bf81692dd38')\"\n",
              "              title=\"Convert this dataframe to an interactive table.\"\n",
              "              style=\"display:none;\">\n",
              "        \n",
              "  <svg xmlns=\"http://www.w3.org/2000/svg\" height=\"24px\"viewBox=\"0 0 24 24\"\n",
              "       width=\"24px\">\n",
              "    <path d=\"M0 0h24v24H0V0z\" fill=\"none\"/>\n",
              "    <path d=\"M18.56 5.44l.94 2.06.94-2.06 2.06-.94-2.06-.94-.94-2.06-.94 2.06-2.06.94zm-11 1L8.5 8.5l.94-2.06 2.06-.94-2.06-.94L8.5 2.5l-.94 2.06-2.06.94zm10 10l.94 2.06.94-2.06 2.06-.94-2.06-.94-.94-2.06-.94 2.06-2.06.94z\"/><path d=\"M17.41 7.96l-1.37-1.37c-.4-.4-.92-.59-1.43-.59-.52 0-1.04.2-1.43.59L10.3 9.45l-7.72 7.72c-.78.78-.78 2.05 0 2.83L4 21.41c.39.39.9.59 1.41.59.51 0 1.02-.2 1.41-.59l7.78-7.78 2.81-2.81c.8-.78.8-2.07 0-2.86zM5.41 20L4 18.59l7.72-7.72 1.47 1.35L5.41 20z\"/>\n",
              "  </svg>\n",
              "      </button>\n",
              "      \n",
              "  <style>\n",
              "    .colab-df-container {\n",
              "      display:flex;\n",
              "      flex-wrap:wrap;\n",
              "      gap: 12px;\n",
              "    }\n",
              "\n",
              "    .colab-df-convert {\n",
              "      background-color: #E8F0FE;\n",
              "      border: none;\n",
              "      border-radius: 50%;\n",
              "      cursor: pointer;\n",
              "      display: none;\n",
              "      fill: #1967D2;\n",
              "      height: 32px;\n",
              "      padding: 0 0 0 0;\n",
              "      width: 32px;\n",
              "    }\n",
              "\n",
              "    .colab-df-convert:hover {\n",
              "      background-color: #E2EBFA;\n",
              "      box-shadow: 0px 1px 2px rgba(60, 64, 67, 0.3), 0px 1px 3px 1px rgba(60, 64, 67, 0.15);\n",
              "      fill: #174EA6;\n",
              "    }\n",
              "\n",
              "    [theme=dark] .colab-df-convert {\n",
              "      background-color: #3B4455;\n",
              "      fill: #D2E3FC;\n",
              "    }\n",
              "\n",
              "    [theme=dark] .colab-df-convert:hover {\n",
              "      background-color: #434B5C;\n",
              "      box-shadow: 0px 1px 3px 1px rgba(0, 0, 0, 0.15);\n",
              "      filter: drop-shadow(0px 1px 2px rgba(0, 0, 0, 0.3));\n",
              "      fill: #FFFFFF;\n",
              "    }\n",
              "  </style>\n",
              "\n",
              "      <script>\n",
              "        const buttonEl =\n",
              "          document.querySelector('#df-9c0d6f52-3bb8-454d-b11e-5bf81692dd38 button.colab-df-convert');\n",
              "        buttonEl.style.display =\n",
              "          google.colab.kernel.accessAllowed ? 'block' : 'none';\n",
              "\n",
              "        async function convertToInteractive(key) {\n",
              "          const element = document.querySelector('#df-9c0d6f52-3bb8-454d-b11e-5bf81692dd38');\n",
              "          const dataTable =\n",
              "            await google.colab.kernel.invokeFunction('convertToInteractive',\n",
              "                                                     [key], {});\n",
              "          if (!dataTable) return;\n",
              "\n",
              "          const docLinkHtml = 'Like what you see? Visit the ' +\n",
              "            '<a target=\"_blank\" href=https://colab.research.google.com/notebooks/data_table.ipynb>data table notebook</a>'\n",
              "            + ' to learn more about interactive tables.';\n",
              "          element.innerHTML = '';\n",
              "          dataTable['output_type'] = 'display_data';\n",
              "          await google.colab.output.renderOutput(dataTable, element);\n",
              "          const docLink = document.createElement('div');\n",
              "          docLink.innerHTML = docLinkHtml;\n",
              "          element.appendChild(docLink);\n",
              "        }\n",
              "      </script>\n",
              "    </div>\n",
              "  </div>\n",
              "  "
            ]
          },
          "metadata": {},
          "execution_count": 16
        }
      ]
    },
    {
      "cell_type": "code",
      "source": [
        "df = pd.concat([\n",
        "    base_1_opencv, base_1_rembg, base_1_alg,\n",
        "    base_2_opencv, base_2_rembg, base_2_alg,\n",
        "    base_3_opencv, base_3_rembg, base_3_alg,\n",
        "])\n",
        "df = df[['ID', 'base', 'Pic', 'Название файла', 'Результат обрезки', 'Статус', 'Комментарий']]\n",
        "df.head()"
      ],
      "metadata": {
        "colab": {
          "base_uri": "https://localhost:8080/",
          "height": 206
        },
        "id": "u5yUqv04RHA6",
        "outputId": "480d61fc-3d66-4854-8390-01c26fcf053d"
      },
      "execution_count": null,
      "outputs": [
        {
          "output_type": "execute_result",
          "data": {
            "text/plain": [
              "     ID  base  Pic Название файла Результат обрезки  Статус  Комментарий\n",
              "0   966     1    1      966-1.jpg   1649-1-crop.jpg     NaN          NaN\n",
              "1  1649     1    1     1649-1.jpg   2102-2-crop.jpg     NaN          NaN\n",
              "2  2102     1    2     2102-2.jpg   2150-1-crop.jpg     NaN          NaN\n",
              "3  2150     1    1     2150-1.jpg   2150-2-crop.jpg     NaN          NaN\n",
              "4  2150     1    2     2150-2.jpg   2180-1-crop.jpg     NaN          NaN"
            ],
            "text/html": [
              "\n",
              "  <div id=\"df-e499e598-81b5-4a7d-8a82-b2d2a5acb68b\">\n",
              "    <div class=\"colab-df-container\">\n",
              "      <div>\n",
              "<style scoped>\n",
              "    .dataframe tbody tr th:only-of-type {\n",
              "        vertical-align: middle;\n",
              "    }\n",
              "\n",
              "    .dataframe tbody tr th {\n",
              "        vertical-align: top;\n",
              "    }\n",
              "\n",
              "    .dataframe thead th {\n",
              "        text-align: right;\n",
              "    }\n",
              "</style>\n",
              "<table border=\"1\" class=\"dataframe\">\n",
              "  <thead>\n",
              "    <tr style=\"text-align: right;\">\n",
              "      <th></th>\n",
              "      <th>ID</th>\n",
              "      <th>base</th>\n",
              "      <th>Pic</th>\n",
              "      <th>Название файла</th>\n",
              "      <th>Результат обрезки</th>\n",
              "      <th>Статус</th>\n",
              "      <th>Комментарий</th>\n",
              "    </tr>\n",
              "  </thead>\n",
              "  <tbody>\n",
              "    <tr>\n",
              "      <th>0</th>\n",
              "      <td>966</td>\n",
              "      <td>1</td>\n",
              "      <td>1</td>\n",
              "      <td>966-1.jpg</td>\n",
              "      <td>1649-1-crop.jpg</td>\n",
              "      <td>NaN</td>\n",
              "      <td>NaN</td>\n",
              "    </tr>\n",
              "    <tr>\n",
              "      <th>1</th>\n",
              "      <td>1649</td>\n",
              "      <td>1</td>\n",
              "      <td>1</td>\n",
              "      <td>1649-1.jpg</td>\n",
              "      <td>2102-2-crop.jpg</td>\n",
              "      <td>NaN</td>\n",
              "      <td>NaN</td>\n",
              "    </tr>\n",
              "    <tr>\n",
              "      <th>2</th>\n",
              "      <td>2102</td>\n",
              "      <td>1</td>\n",
              "      <td>2</td>\n",
              "      <td>2102-2.jpg</td>\n",
              "      <td>2150-1-crop.jpg</td>\n",
              "      <td>NaN</td>\n",
              "      <td>NaN</td>\n",
              "    </tr>\n",
              "    <tr>\n",
              "      <th>3</th>\n",
              "      <td>2150</td>\n",
              "      <td>1</td>\n",
              "      <td>1</td>\n",
              "      <td>2150-1.jpg</td>\n",
              "      <td>2150-2-crop.jpg</td>\n",
              "      <td>NaN</td>\n",
              "      <td>NaN</td>\n",
              "    </tr>\n",
              "    <tr>\n",
              "      <th>4</th>\n",
              "      <td>2150</td>\n",
              "      <td>1</td>\n",
              "      <td>2</td>\n",
              "      <td>2150-2.jpg</td>\n",
              "      <td>2180-1-crop.jpg</td>\n",
              "      <td>NaN</td>\n",
              "      <td>NaN</td>\n",
              "    </tr>\n",
              "  </tbody>\n",
              "</table>\n",
              "</div>\n",
              "      <button class=\"colab-df-convert\" onclick=\"convertToInteractive('df-e499e598-81b5-4a7d-8a82-b2d2a5acb68b')\"\n",
              "              title=\"Convert this dataframe to an interactive table.\"\n",
              "              style=\"display:none;\">\n",
              "        \n",
              "  <svg xmlns=\"http://www.w3.org/2000/svg\" height=\"24px\"viewBox=\"0 0 24 24\"\n",
              "       width=\"24px\">\n",
              "    <path d=\"M0 0h24v24H0V0z\" fill=\"none\"/>\n",
              "    <path d=\"M18.56 5.44l.94 2.06.94-2.06 2.06-.94-2.06-.94-.94-2.06-.94 2.06-2.06.94zm-11 1L8.5 8.5l.94-2.06 2.06-.94-2.06-.94L8.5 2.5l-.94 2.06-2.06.94zm10 10l.94 2.06.94-2.06 2.06-.94-2.06-.94-.94-2.06-.94 2.06-2.06.94z\"/><path d=\"M17.41 7.96l-1.37-1.37c-.4-.4-.92-.59-1.43-.59-.52 0-1.04.2-1.43.59L10.3 9.45l-7.72 7.72c-.78.78-.78 2.05 0 2.83L4 21.41c.39.39.9.59 1.41.59.51 0 1.02-.2 1.41-.59l7.78-7.78 2.81-2.81c.8-.78.8-2.07 0-2.86zM5.41 20L4 18.59l7.72-7.72 1.47 1.35L5.41 20z\"/>\n",
              "  </svg>\n",
              "      </button>\n",
              "      \n",
              "  <style>\n",
              "    .colab-df-container {\n",
              "      display:flex;\n",
              "      flex-wrap:wrap;\n",
              "      gap: 12px;\n",
              "    }\n",
              "\n",
              "    .colab-df-convert {\n",
              "      background-color: #E8F0FE;\n",
              "      border: none;\n",
              "      border-radius: 50%;\n",
              "      cursor: pointer;\n",
              "      display: none;\n",
              "      fill: #1967D2;\n",
              "      height: 32px;\n",
              "      padding: 0 0 0 0;\n",
              "      width: 32px;\n",
              "    }\n",
              "\n",
              "    .colab-df-convert:hover {\n",
              "      background-color: #E2EBFA;\n",
              "      box-shadow: 0px 1px 2px rgba(60, 64, 67, 0.3), 0px 1px 3px 1px rgba(60, 64, 67, 0.15);\n",
              "      fill: #174EA6;\n",
              "    }\n",
              "\n",
              "    [theme=dark] .colab-df-convert {\n",
              "      background-color: #3B4455;\n",
              "      fill: #D2E3FC;\n",
              "    }\n",
              "\n",
              "    [theme=dark] .colab-df-convert:hover {\n",
              "      background-color: #434B5C;\n",
              "      box-shadow: 0px 1px 3px 1px rgba(0, 0, 0, 0.15);\n",
              "      filter: drop-shadow(0px 1px 2px rgba(0, 0, 0, 0.3));\n",
              "      fill: #FFFFFF;\n",
              "    }\n",
              "  </style>\n",
              "\n",
              "      <script>\n",
              "        const buttonEl =\n",
              "          document.querySelector('#df-e499e598-81b5-4a7d-8a82-b2d2a5acb68b button.colab-df-convert');\n",
              "        buttonEl.style.display =\n",
              "          google.colab.kernel.accessAllowed ? 'block' : 'none';\n",
              "\n",
              "        async function convertToInteractive(key) {\n",
              "          const element = document.querySelector('#df-e499e598-81b5-4a7d-8a82-b2d2a5acb68b');\n",
              "          const dataTable =\n",
              "            await google.colab.kernel.invokeFunction('convertToInteractive',\n",
              "                                                     [key], {});\n",
              "          if (!dataTable) return;\n",
              "\n",
              "          const docLinkHtml = 'Like what you see? Visit the ' +\n",
              "            '<a target=\"_blank\" href=https://colab.research.google.com/notebooks/data_table.ipynb>data table notebook</a>'\n",
              "            + ' to learn more about interactive tables.';\n",
              "          element.innerHTML = '';\n",
              "          dataTable['output_type'] = 'display_data';\n",
              "          await google.colab.output.renderOutput(dataTable, element);\n",
              "          const docLink = document.createElement('div');\n",
              "          docLink.innerHTML = docLinkHtml;\n",
              "          element.appendChild(docLink);\n",
              "        }\n",
              "      </script>\n",
              "    </div>\n",
              "  </div>\n",
              "  "
            ]
          },
          "metadata": {},
          "execution_count": 6
        }
      ]
    },
    {
      "cell_type": "code",
      "source": [
        "df.shape"
      ],
      "metadata": {
        "colab": {
          "base_uri": "https://localhost:8080/"
        },
        "id": "kycz1E6ORTFB",
        "outputId": "9a3c6dfd-9cb6-4533-9faf-3f6065409586"
      },
      "execution_count": null,
      "outputs": [
        {
          "output_type": "execute_result",
          "data": {
            "text/plain": [
              "(10519, 7)"
            ]
          },
          "metadata": {},
          "execution_count": 7
        }
      ]
    },
    {
      "cell_type": "markdown",
      "source": [
        "## Какие открытки были обрезаны"
      ],
      "metadata": {
        "id": "nhY24PDASCEM"
      }
    },
    {
      "cell_type": "code",
      "source": [
        "df['ID'].nunique()"
      ],
      "metadata": {
        "colab": {
          "base_uri": "https://localhost:8080/"
        },
        "id": "VsNYS_QORVgd",
        "outputId": "81f5f317-ca01-4ce3-842d-7797a2159a9e"
      },
      "execution_count": null,
      "outputs": [
        {
          "output_type": "execute_result",
          "data": {
            "text/plain": [
              "3088"
            ]
          },
          "metadata": {},
          "execution_count": 20
        }
      ]
    },
    {
      "cell_type": "code",
      "source": [
        "ids_cropped = df.groupby('ID')['base'].first().reset_index()\n",
        "ids_cropped.head()"
      ],
      "metadata": {
        "colab": {
          "base_uri": "https://localhost:8080/",
          "height": 206
        },
        "id": "eY9gCzd8SrBb",
        "outputId": "bf03f56c-32ec-4228-ab13-e980aa17338e"
      },
      "execution_count": null,
      "outputs": [
        {
          "output_type": "execute_result",
          "data": {
            "text/plain": [
              "     ID  base\n",
              "0   952     1\n",
              "1   966     1\n",
              "2  1024     1\n",
              "3  1649     1\n",
              "4  2102     1"
            ],
            "text/html": [
              "\n",
              "  <div id=\"df-f0fcfe73-ad73-4c29-919f-9e36f9f8fced\">\n",
              "    <div class=\"colab-df-container\">\n",
              "      <div>\n",
              "<style scoped>\n",
              "    .dataframe tbody tr th:only-of-type {\n",
              "        vertical-align: middle;\n",
              "    }\n",
              "\n",
              "    .dataframe tbody tr th {\n",
              "        vertical-align: top;\n",
              "    }\n",
              "\n",
              "    .dataframe thead th {\n",
              "        text-align: right;\n",
              "    }\n",
              "</style>\n",
              "<table border=\"1\" class=\"dataframe\">\n",
              "  <thead>\n",
              "    <tr style=\"text-align: right;\">\n",
              "      <th></th>\n",
              "      <th>ID</th>\n",
              "      <th>base</th>\n",
              "    </tr>\n",
              "  </thead>\n",
              "  <tbody>\n",
              "    <tr>\n",
              "      <th>0</th>\n",
              "      <td>952</td>\n",
              "      <td>1</td>\n",
              "    </tr>\n",
              "    <tr>\n",
              "      <th>1</th>\n",
              "      <td>966</td>\n",
              "      <td>1</td>\n",
              "    </tr>\n",
              "    <tr>\n",
              "      <th>2</th>\n",
              "      <td>1024</td>\n",
              "      <td>1</td>\n",
              "    </tr>\n",
              "    <tr>\n",
              "      <th>3</th>\n",
              "      <td>1649</td>\n",
              "      <td>1</td>\n",
              "    </tr>\n",
              "    <tr>\n",
              "      <th>4</th>\n",
              "      <td>2102</td>\n",
              "      <td>1</td>\n",
              "    </tr>\n",
              "  </tbody>\n",
              "</table>\n",
              "</div>\n",
              "      <button class=\"colab-df-convert\" onclick=\"convertToInteractive('df-f0fcfe73-ad73-4c29-919f-9e36f9f8fced')\"\n",
              "              title=\"Convert this dataframe to an interactive table.\"\n",
              "              style=\"display:none;\">\n",
              "        \n",
              "  <svg xmlns=\"http://www.w3.org/2000/svg\" height=\"24px\"viewBox=\"0 0 24 24\"\n",
              "       width=\"24px\">\n",
              "    <path d=\"M0 0h24v24H0V0z\" fill=\"none\"/>\n",
              "    <path d=\"M18.56 5.44l.94 2.06.94-2.06 2.06-.94-2.06-.94-.94-2.06-.94 2.06-2.06.94zm-11 1L8.5 8.5l.94-2.06 2.06-.94-2.06-.94L8.5 2.5l-.94 2.06-2.06.94zm10 10l.94 2.06.94-2.06 2.06-.94-2.06-.94-.94-2.06-.94 2.06-2.06.94z\"/><path d=\"M17.41 7.96l-1.37-1.37c-.4-.4-.92-.59-1.43-.59-.52 0-1.04.2-1.43.59L10.3 9.45l-7.72 7.72c-.78.78-.78 2.05 0 2.83L4 21.41c.39.39.9.59 1.41.59.51 0 1.02-.2 1.41-.59l7.78-7.78 2.81-2.81c.8-.78.8-2.07 0-2.86zM5.41 20L4 18.59l7.72-7.72 1.47 1.35L5.41 20z\"/>\n",
              "  </svg>\n",
              "      </button>\n",
              "      \n",
              "  <style>\n",
              "    .colab-df-container {\n",
              "      display:flex;\n",
              "      flex-wrap:wrap;\n",
              "      gap: 12px;\n",
              "    }\n",
              "\n",
              "    .colab-df-convert {\n",
              "      background-color: #E8F0FE;\n",
              "      border: none;\n",
              "      border-radius: 50%;\n",
              "      cursor: pointer;\n",
              "      display: none;\n",
              "      fill: #1967D2;\n",
              "      height: 32px;\n",
              "      padding: 0 0 0 0;\n",
              "      width: 32px;\n",
              "    }\n",
              "\n",
              "    .colab-df-convert:hover {\n",
              "      background-color: #E2EBFA;\n",
              "      box-shadow: 0px 1px 2px rgba(60, 64, 67, 0.3), 0px 1px 3px 1px rgba(60, 64, 67, 0.15);\n",
              "      fill: #174EA6;\n",
              "    }\n",
              "\n",
              "    [theme=dark] .colab-df-convert {\n",
              "      background-color: #3B4455;\n",
              "      fill: #D2E3FC;\n",
              "    }\n",
              "\n",
              "    [theme=dark] .colab-df-convert:hover {\n",
              "      background-color: #434B5C;\n",
              "      box-shadow: 0px 1px 3px 1px rgba(0, 0, 0, 0.15);\n",
              "      filter: drop-shadow(0px 1px 2px rgba(0, 0, 0, 0.3));\n",
              "      fill: #FFFFFF;\n",
              "    }\n",
              "  </style>\n",
              "\n",
              "      <script>\n",
              "        const buttonEl =\n",
              "          document.querySelector('#df-f0fcfe73-ad73-4c29-919f-9e36f9f8fced button.colab-df-convert');\n",
              "        buttonEl.style.display =\n",
              "          google.colab.kernel.accessAllowed ? 'block' : 'none';\n",
              "\n",
              "        async function convertToInteractive(key) {\n",
              "          const element = document.querySelector('#df-f0fcfe73-ad73-4c29-919f-9e36f9f8fced');\n",
              "          const dataTable =\n",
              "            await google.colab.kernel.invokeFunction('convertToInteractive',\n",
              "                                                     [key], {});\n",
              "          if (!dataTable) return;\n",
              "\n",
              "          const docLinkHtml = 'Like what you see? Visit the ' +\n",
              "            '<a target=\"_blank\" href=https://colab.research.google.com/notebooks/data_table.ipynb>data table notebook</a>'\n",
              "            + ' to learn more about interactive tables.';\n",
              "          element.innerHTML = '';\n",
              "          dataTable['output_type'] = 'display_data';\n",
              "          await google.colab.output.renderOutput(dataTable, element);\n",
              "          const docLink = document.createElement('div');\n",
              "          docLink.innerHTML = docLinkHtml;\n",
              "          element.appendChild(docLink);\n",
              "        }\n",
              "      </script>\n",
              "    </div>\n",
              "  </div>\n",
              "  "
            ]
          },
          "metadata": {},
          "execution_count": 13
        }
      ]
    },
    {
      "cell_type": "code",
      "source": [
        "ids_cropped['base'].value_counts()"
      ],
      "metadata": {
        "colab": {
          "base_uri": "https://localhost:8080/"
        },
        "id": "_0I4ubnsR7X5",
        "outputId": "524310e3-5ebf-482b-f529-0809508f90c6"
      },
      "execution_count": null,
      "outputs": [
        {
          "output_type": "execute_result",
          "data": {
            "text/plain": [
              "3    2584\n",
              "2     349\n",
              "1     155\n",
              "Name: base, dtype: int64"
            ]
          },
          "metadata": {},
          "execution_count": 14
        }
      ]
    },
    {
      "cell_type": "markdown",
      "source": [
        "## Какие открытки требуется обрезать \n",
        "Текущее состояние баз"
      ],
      "metadata": {
        "id": "Wg052JGtTi60"
      }
    },
    {
      "cell_type": "markdown",
      "source": [
        "### База 1 --- все уже обрезано"
      ],
      "metadata": {
        "id": "mAW0mitoT-Ch"
      }
    },
    {
      "cell_type": "code",
      "execution_count": null,
      "metadata": {
        "colab": {
          "base_uri": "https://localhost:8080/",
          "height": 646
        },
        "outputId": "5377cc20-135d-425a-d195-67964f02ad35",
        "id": "sA9A1l2yTrwR"
      },
      "outputs": [
        {
          "output_type": "execute_result",
          "data": {
            "text/plain": [
              "   Номер открытки                                          Pic_url_1  \\\n",
              "0               0       https://forum.vgd.ru/file.php?fid=5476&key=0   \n",
              "1               1       https://forum.vgd.ru/file.php?fid=5491&key=0   \n",
              "2               2       https://forum.vgd.ru/file.php?fid=5492&key=0   \n",
              "3               3  https://forum.vgd.ru/file.php?fid=20890&key=19...   \n",
              "4               4  https://forum.vgd.ru/file.php?fid=20894&key=16...   \n",
              "\n",
              "  Pic_url_2 Разрешение на публикацию   Источник  \\\n",
              "0       0.0      Разрешаю публикацию  Форум VGD   \n",
              "1       NaN      Разрешаю публикацию  Форум VGD   \n",
              "2       0.0      Разрешаю публикацию  Форум VGD   \n",
              "3       0.0      Разрешаю публикацию  Форум VGD   \n",
              "4       0.0      Разрешаю публикацию  Форум VGD   \n",
              "\n",
              "  Была ли открытка отправлена по почте  \\\n",
              "0                                   Да   \n",
              "1                              Не знаю   \n",
              "2                              Не знаю   \n",
              "3                              Не знаю   \n",
              "4                              Не знаю   \n",
              "\n",
              "  Название коллекции (если вы хотите подпись на сайте). Например, личная коллекция Василия Иванова.  \\\n",
              "0                                                NaN                                                  \n",
              "1                                                NaN                                                  \n",
              "2                                                NaN                                                  \n",
              "3                                                NaN                                                  \n",
              "4                                                NaN                                                  \n",
              "\n",
              "  Комментарий или метаинформация. Укажите тут любую метаинформацию про открытку, которую считаете важной. Например, какое-то знание или история, которую нельзя восстановить по тексту открытки.  \\\n",
              "0                                                NaN                                                                                                                                               \n",
              "1                                                NaN                                                                                                                                               \n",
              "2                                                NaN                                                                                                                                               \n",
              "3                                                NaN                                                                                                                                               \n",
              "4                                                NaN                                                                                                                                               \n",
              "\n",
              "  Заливщик Разметчик  ... Тег_3 Тег_4 Тег_5 Тег_6 Тег_7  \\\n",
              "0      NaN       NaN  ...   NaN   NaN   NaN   NaN   NaN   \n",
              "1      NaN       NaN  ...   NaN   NaN   NaN   NaN   NaN   \n",
              "2      NaN       NaN  ...   NaN   NaN   NaN   NaN   NaN   \n",
              "3      NaN       NaN  ...   NaN   NaN   NaN   NaN   NaN   \n",
              "4      NaN       NaN  ...   NaN   NaN   NaN   NaN   NaN   \n",
              "\n",
              "  Интересна ли для медиа/исследователей Почему интересна Id поста на сайте  \\\n",
              "0                                   NaN              NaN               NaN   \n",
              "1                                   NaN              NaN               NaN   \n",
              "2                                   NaN              NaN               NaN   \n",
              "3                                   NaN              NaN               NaN   \n",
              "4                                   NaN              NaN               NaN   \n",
              "\n",
              "  Дата заливки Оценка  \n",
              "0          NaN    NaN  \n",
              "1          NaN    NaN  \n",
              "2          NaN    NaN  \n",
              "3          NaN    NaN  \n",
              "4          NaN    NaN  \n",
              "\n",
              "[5 rows x 58 columns]"
            ],
            "text/html": [
              "\n",
              "  <div id=\"df-0fd64b21-96ce-4302-9d8b-5de7fef3944f\">\n",
              "    <div class=\"colab-df-container\">\n",
              "      <div>\n",
              "<style scoped>\n",
              "    .dataframe tbody tr th:only-of-type {\n",
              "        vertical-align: middle;\n",
              "    }\n",
              "\n",
              "    .dataframe tbody tr th {\n",
              "        vertical-align: top;\n",
              "    }\n",
              "\n",
              "    .dataframe thead th {\n",
              "        text-align: right;\n",
              "    }\n",
              "</style>\n",
              "<table border=\"1\" class=\"dataframe\">\n",
              "  <thead>\n",
              "    <tr style=\"text-align: right;\">\n",
              "      <th></th>\n",
              "      <th>Номер открытки</th>\n",
              "      <th>Pic_url_1</th>\n",
              "      <th>Pic_url_2</th>\n",
              "      <th>Разрешение на публикацию</th>\n",
              "      <th>Источник</th>\n",
              "      <th>Была ли открытка отправлена по почте</th>\n",
              "      <th>Название коллекции (если вы хотите подпись на сайте). Например, личная коллекция Василия Иванова.</th>\n",
              "      <th>Комментарий или метаинформация. Укажите тут любую метаинформацию про открытку, которую считаете важной. Например, какое-то знание или история, которую нельзя восстановить по тексту открытки.</th>\n",
              "      <th>Заливщик</th>\n",
              "      <th>Разметчик</th>\n",
              "      <th>...</th>\n",
              "      <th>Тег_3</th>\n",
              "      <th>Тег_4</th>\n",
              "      <th>Тег_5</th>\n",
              "      <th>Тег_6</th>\n",
              "      <th>Тег_7</th>\n",
              "      <th>Интересна ли для медиа/исследователей</th>\n",
              "      <th>Почему интересна</th>\n",
              "      <th>Id поста на сайте</th>\n",
              "      <th>Дата заливки</th>\n",
              "      <th>Оценка</th>\n",
              "    </tr>\n",
              "  </thead>\n",
              "  <tbody>\n",
              "    <tr>\n",
              "      <th>0</th>\n",
              "      <td>0</td>\n",
              "      <td>https://forum.vgd.ru/file.php?fid=5476&amp;key=0</td>\n",
              "      <td>0.0</td>\n",
              "      <td>Разрешаю публикацию</td>\n",
              "      <td>Форум VGD</td>\n",
              "      <td>Да</td>\n",
              "      <td>NaN</td>\n",
              "      <td>NaN</td>\n",
              "      <td>NaN</td>\n",
              "      <td>NaN</td>\n",
              "      <td>...</td>\n",
              "      <td>NaN</td>\n",
              "      <td>NaN</td>\n",
              "      <td>NaN</td>\n",
              "      <td>NaN</td>\n",
              "      <td>NaN</td>\n",
              "      <td>NaN</td>\n",
              "      <td>NaN</td>\n",
              "      <td>NaN</td>\n",
              "      <td>NaN</td>\n",
              "      <td>NaN</td>\n",
              "    </tr>\n",
              "    <tr>\n",
              "      <th>1</th>\n",
              "      <td>1</td>\n",
              "      <td>https://forum.vgd.ru/file.php?fid=5491&amp;key=0</td>\n",
              "      <td>NaN</td>\n",
              "      <td>Разрешаю публикацию</td>\n",
              "      <td>Форум VGD</td>\n",
              "      <td>Не знаю</td>\n",
              "      <td>NaN</td>\n",
              "      <td>NaN</td>\n",
              "      <td>NaN</td>\n",
              "      <td>NaN</td>\n",
              "      <td>...</td>\n",
              "      <td>NaN</td>\n",
              "      <td>NaN</td>\n",
              "      <td>NaN</td>\n",
              "      <td>NaN</td>\n",
              "      <td>NaN</td>\n",
              "      <td>NaN</td>\n",
              "      <td>NaN</td>\n",
              "      <td>NaN</td>\n",
              "      <td>NaN</td>\n",
              "      <td>NaN</td>\n",
              "    </tr>\n",
              "    <tr>\n",
              "      <th>2</th>\n",
              "      <td>2</td>\n",
              "      <td>https://forum.vgd.ru/file.php?fid=5492&amp;key=0</td>\n",
              "      <td>0.0</td>\n",
              "      <td>Разрешаю публикацию</td>\n",
              "      <td>Форум VGD</td>\n",
              "      <td>Не знаю</td>\n",
              "      <td>NaN</td>\n",
              "      <td>NaN</td>\n",
              "      <td>NaN</td>\n",
              "      <td>NaN</td>\n",
              "      <td>...</td>\n",
              "      <td>NaN</td>\n",
              "      <td>NaN</td>\n",
              "      <td>NaN</td>\n",
              "      <td>NaN</td>\n",
              "      <td>NaN</td>\n",
              "      <td>NaN</td>\n",
              "      <td>NaN</td>\n",
              "      <td>NaN</td>\n",
              "      <td>NaN</td>\n",
              "      <td>NaN</td>\n",
              "    </tr>\n",
              "    <tr>\n",
              "      <th>3</th>\n",
              "      <td>3</td>\n",
              "      <td>https://forum.vgd.ru/file.php?fid=20890&amp;key=19...</td>\n",
              "      <td>0.0</td>\n",
              "      <td>Разрешаю публикацию</td>\n",
              "      <td>Форум VGD</td>\n",
              "      <td>Не знаю</td>\n",
              "      <td>NaN</td>\n",
              "      <td>NaN</td>\n",
              "      <td>NaN</td>\n",
              "      <td>NaN</td>\n",
              "      <td>...</td>\n",
              "      <td>NaN</td>\n",
              "      <td>NaN</td>\n",
              "      <td>NaN</td>\n",
              "      <td>NaN</td>\n",
              "      <td>NaN</td>\n",
              "      <td>NaN</td>\n",
              "      <td>NaN</td>\n",
              "      <td>NaN</td>\n",
              "      <td>NaN</td>\n",
              "      <td>NaN</td>\n",
              "    </tr>\n",
              "    <tr>\n",
              "      <th>4</th>\n",
              "      <td>4</td>\n",
              "      <td>https://forum.vgd.ru/file.php?fid=20894&amp;key=16...</td>\n",
              "      <td>0.0</td>\n",
              "      <td>Разрешаю публикацию</td>\n",
              "      <td>Форум VGD</td>\n",
              "      <td>Не знаю</td>\n",
              "      <td>NaN</td>\n",
              "      <td>NaN</td>\n",
              "      <td>NaN</td>\n",
              "      <td>NaN</td>\n",
              "      <td>...</td>\n",
              "      <td>NaN</td>\n",
              "      <td>NaN</td>\n",
              "      <td>NaN</td>\n",
              "      <td>NaN</td>\n",
              "      <td>NaN</td>\n",
              "      <td>NaN</td>\n",
              "      <td>NaN</td>\n",
              "      <td>NaN</td>\n",
              "      <td>NaN</td>\n",
              "      <td>NaN</td>\n",
              "    </tr>\n",
              "  </tbody>\n",
              "</table>\n",
              "<p>5 rows × 58 columns</p>\n",
              "</div>\n",
              "      <button class=\"colab-df-convert\" onclick=\"convertToInteractive('df-0fd64b21-96ce-4302-9d8b-5de7fef3944f')\"\n",
              "              title=\"Convert this dataframe to an interactive table.\"\n",
              "              style=\"display:none;\">\n",
              "        \n",
              "  <svg xmlns=\"http://www.w3.org/2000/svg\" height=\"24px\"viewBox=\"0 0 24 24\"\n",
              "       width=\"24px\">\n",
              "    <path d=\"M0 0h24v24H0V0z\" fill=\"none\"/>\n",
              "    <path d=\"M18.56 5.44l.94 2.06.94-2.06 2.06-.94-2.06-.94-.94-2.06-.94 2.06-2.06.94zm-11 1L8.5 8.5l.94-2.06 2.06-.94-2.06-.94L8.5 2.5l-.94 2.06-2.06.94zm10 10l.94 2.06.94-2.06 2.06-.94-2.06-.94-.94-2.06-.94 2.06-2.06.94z\"/><path d=\"M17.41 7.96l-1.37-1.37c-.4-.4-.92-.59-1.43-.59-.52 0-1.04.2-1.43.59L10.3 9.45l-7.72 7.72c-.78.78-.78 2.05 0 2.83L4 21.41c.39.39.9.59 1.41.59.51 0 1.02-.2 1.41-.59l7.78-7.78 2.81-2.81c.8-.78.8-2.07 0-2.86zM5.41 20L4 18.59l7.72-7.72 1.47 1.35L5.41 20z\"/>\n",
              "  </svg>\n",
              "      </button>\n",
              "      \n",
              "  <style>\n",
              "    .colab-df-container {\n",
              "      display:flex;\n",
              "      flex-wrap:wrap;\n",
              "      gap: 12px;\n",
              "    }\n",
              "\n",
              "    .colab-df-convert {\n",
              "      background-color: #E8F0FE;\n",
              "      border: none;\n",
              "      border-radius: 50%;\n",
              "      cursor: pointer;\n",
              "      display: none;\n",
              "      fill: #1967D2;\n",
              "      height: 32px;\n",
              "      padding: 0 0 0 0;\n",
              "      width: 32px;\n",
              "    }\n",
              "\n",
              "    .colab-df-convert:hover {\n",
              "      background-color: #E2EBFA;\n",
              "      box-shadow: 0px 1px 2px rgba(60, 64, 67, 0.3), 0px 1px 3px 1px rgba(60, 64, 67, 0.15);\n",
              "      fill: #174EA6;\n",
              "    }\n",
              "\n",
              "    [theme=dark] .colab-df-convert {\n",
              "      background-color: #3B4455;\n",
              "      fill: #D2E3FC;\n",
              "    }\n",
              "\n",
              "    [theme=dark] .colab-df-convert:hover {\n",
              "      background-color: #434B5C;\n",
              "      box-shadow: 0px 1px 3px 1px rgba(0, 0, 0, 0.15);\n",
              "      filter: drop-shadow(0px 1px 2px rgba(0, 0, 0, 0.3));\n",
              "      fill: #FFFFFF;\n",
              "    }\n",
              "  </style>\n",
              "\n",
              "      <script>\n",
              "        const buttonEl =\n",
              "          document.querySelector('#df-0fd64b21-96ce-4302-9d8b-5de7fef3944f button.colab-df-convert');\n",
              "        buttonEl.style.display =\n",
              "          google.colab.kernel.accessAllowed ? 'block' : 'none';\n",
              "\n",
              "        async function convertToInteractive(key) {\n",
              "          const element = document.querySelector('#df-0fd64b21-96ce-4302-9d8b-5de7fef3944f');\n",
              "          const dataTable =\n",
              "            await google.colab.kernel.invokeFunction('convertToInteractive',\n",
              "                                                     [key], {});\n",
              "          if (!dataTable) return;\n",
              "\n",
              "          const docLinkHtml = 'Like what you see? Visit the ' +\n",
              "            '<a target=\"_blank\" href=https://colab.research.google.com/notebooks/data_table.ipynb>data table notebook</a>'\n",
              "            + ' to learn more about interactive tables.';\n",
              "          element.innerHTML = '';\n",
              "          dataTable['output_type'] = 'display_data';\n",
              "          await google.colab.output.renderOutput(dataTable, element);\n",
              "          const docLink = document.createElement('div');\n",
              "          docLink.innerHTML = docLinkHtml;\n",
              "          element.appendChild(docLink);\n",
              "        }\n",
              "      </script>\n",
              "    </div>\n",
              "  </div>\n",
              "  "
            ]
          },
          "metadata": {},
          "execution_count": 28
        }
      ],
      "source": [
        "base_1 = pd.ExcelFile('/content/drive/MyDrive/Системный Блок/пишу тебе/открытки базы/Расшифровка открыток (основная база).xlsx')\n",
        "base_1 = pd.read_excel(base_1, 'Открытки')\n",
        "base_1['Номер открытки'] = base_1['Номер открытки'].astype(int)\n",
        "base_1.head()"
      ]
    },
    {
      "cell_type": "code",
      "source": [
        "base_1['Проблема'].value_counts()"
      ],
      "metadata": {
        "colab": {
          "base_uri": "https://localhost:8080/"
        },
        "id": "2fSTRNaLTwl4",
        "outputId": "4264868e-b180-4141-d757-a5016af97c35"
      },
      "execution_count": null,
      "outputs": [
        {
          "output_type": "execute_result",
          "data": {
            "text/plain": [
              "Отсутствует                         5587\n",
              "Вотермарка                           962\n",
              "Большие поля                         155\n",
              "Низкое качество                       35\n",
              "Скрыть информацию                     24\n",
              "Требуется поворот                     20\n",
              "Нет текста                            14\n",
              "Две стороны на одном изображении       6\n",
              "Name: Проблема, dtype: int64"
            ]
          },
          "metadata": {},
          "execution_count": 30
        }
      ]
    },
    {
      "cell_type": "markdown",
      "source": [
        "Результатов обрезки должно быть (один результат == 1 скан)"
      ],
      "metadata": {
        "id": "RXSO_VWTybF9"
      }
    },
    {
      "cell_type": "code",
      "source": [
        "155 * 2"
      ],
      "metadata": {
        "colab": {
          "base_uri": "https://localhost:8080/"
        },
        "id": "9LlI9E-hyYW5",
        "outputId": "63813bc5-aa9e-4126-d1e1-0792835e8219"
      },
      "execution_count": 132,
      "outputs": [
        {
          "output_type": "execute_result",
          "data": {
            "text/plain": [
              "310"
            ]
          },
          "metadata": {},
          "execution_count": 132
        }
      ]
    },
    {
      "cell_type": "markdown",
      "source": [
        "### База 2"
      ],
      "metadata": {
        "id": "UNqKTkrbX419"
      }
    },
    {
      "cell_type": "code",
      "source": [
        "base_2 = pd.ExcelFile('/content/drive/MyDrive/Системный Блок/пишу тебе/открытки базы/Расшифровка открыток 2 (Ярмарка проектов).xlsx')\n",
        "base_2 = pd.read_excel(base_2, 'Открытки')\n",
        "base_2['Номер открытки'] = base_2['Номер открытки'].astype(int)\n",
        "base_2.head()"
      ],
      "metadata": {
        "colab": {
          "base_uri": "https://localhost:8080/",
          "height": 994
        },
        "id": "oM4ipj1hTnqZ",
        "outputId": "ad13df45-9970-4793-ace6-a01f7450c18e"
      },
      "execution_count": null,
      "outputs": [
        {
          "output_type": "execute_result",
          "data": {
            "text/plain": [
              "   Номер открытки                                          Pic_url_1  \\\n",
              "0          100001  https://storage.yandexcloud.net/postcards-open...   \n",
              "1          100002  https://storage.yandexcloud.net/postcards-open...   \n",
              "2          100003  https://storage.yandexcloud.net/postcards-open...   \n",
              "3          100004  https://storage.yandexcloud.net/postcards-open...   \n",
              "4          100005  https://storage.yandexcloud.net/postcards-open...   \n",
              "\n",
              "                                           Pic_url_2 Разрешение на публикацию  \\\n",
              "0  https://storage.yandexcloud.net/postcards-open...      Разрешаю публикацию   \n",
              "1  https://storage.yandexcloud.net/postcards-open...      Разрешаю публикацию   \n",
              "2  https://storage.yandexcloud.net/postcards-open...      Разрешаю публикацию   \n",
              "3  https://storage.yandexcloud.net/postcards-open...      Разрешаю публикацию   \n",
              "4  https://storage.yandexcloud.net/postcards-open...      Разрешаю публикацию   \n",
              "\n",
              "              Источник Была ли открытка отправлена по почте  \\\n",
              "0  Найдено в интернете                                  NaN   \n",
              "1  Найдено в интернете                                  NaN   \n",
              "2  Найдено в интернете                                  NaN   \n",
              "3  Найдено в интернете                                  NaN   \n",
              "4  Найдено в интернете                                  NaN   \n",
              "\n",
              "  Название коллекции (если вы хотите подпись на сайте). Например, личная коллекция Василия Иванова.  \\\n",
              "0                                                NaN                                                  \n",
              "1                                                NaN                                                  \n",
              "2                                                NaN                                                  \n",
              "3                                                NaN                                                  \n",
              "4                                                NaN                                                  \n",
              "\n",
              "  Комментарий или метаинформация. Укажите тут любую метаинформацию про открытку, которую считаете важной. Например, какое-то знание или история, которую нельзя восстановить по тексту открытки.  \\\n",
              "0                                                NaN                                                                                                                                               \n",
              "1                                                NaN                                                                                                                                               \n",
              "2                                                NaN                                                                                                                                               \n",
              "3                                                NaN                                                                                                                                               \n",
              "4                                                NaN                                                                                                                                               \n",
              "\n",
              "   Заливщик                 Разметчик  ...                   Тег_3  \\\n",
              "0       NaN  Атрощенко Екатерина (ЯП)  ...            Письма семье   \n",
              "1       NaN         Зыкова Мария (ЯП)  ...  Благодарность в тексте   \n",
              "2       NaN         Залян Эдуард (ЯП)  ...                     NaN   \n",
              "3       NaN      Никитина Полина (ЯП)  ...     Загадочная открытка   \n",
              "4       NaN        Кошкина Мария (ЯП)  ...                     NaN   \n",
              "\n",
              "              Тег_4   Тег_5 Тег_6 Тег_7 Интересна ли для медиа/исследователей  \\\n",
              "0               NaN     NaN   NaN   NaN                                   NaN   \n",
              "1  Поцелуи из писем  Деньги   NaN   NaN                                   NaN   \n",
              "2               NaN     NaN   NaN   NaN                                   NaN   \n",
              "3               NaN     NaN   NaN   NaN                                   NaN   \n",
              "4               NaN     NaN   NaN   NaN                                   NaN   \n",
              "\n",
              "  Почему интересна Id поста на сайте  \\\n",
              "0              NaN           26789.0   \n",
              "1              NaN           26786.0   \n",
              "2              NaN           26807.0   \n",
              "3              NaN           26788.0   \n",
              "4              NaN           26804.0   \n",
              "\n",
              "                                        Дата заливки Оценка  \n",
              "0  Thu Aug 25 2022 15:04:40 GMT-0400 (Восточная А...      5  \n",
              "1  Thu Aug 25 2022 15:04:40 GMT-0400 (Восточная А...      4  \n",
              "2  Thu Aug 25 2022 15:04:40 GMT-0400 (Восточная А...      5  \n",
              "3  Thu Aug 25 2022 15:04:40 GMT-0400 (Восточная А...      4  \n",
              "4  Thu Aug 25 2022 15:04:40 GMT-0400 (Восточная А...      5  \n",
              "\n",
              "[5 rows x 58 columns]"
            ],
            "text/html": [
              "\n",
              "  <div id=\"df-203fc53d-2d22-4245-94e0-0b55eb034155\">\n",
              "    <div class=\"colab-df-container\">\n",
              "      <div>\n",
              "<style scoped>\n",
              "    .dataframe tbody tr th:only-of-type {\n",
              "        vertical-align: middle;\n",
              "    }\n",
              "\n",
              "    .dataframe tbody tr th {\n",
              "        vertical-align: top;\n",
              "    }\n",
              "\n",
              "    .dataframe thead th {\n",
              "        text-align: right;\n",
              "    }\n",
              "</style>\n",
              "<table border=\"1\" class=\"dataframe\">\n",
              "  <thead>\n",
              "    <tr style=\"text-align: right;\">\n",
              "      <th></th>\n",
              "      <th>Номер открытки</th>\n",
              "      <th>Pic_url_1</th>\n",
              "      <th>Pic_url_2</th>\n",
              "      <th>Разрешение на публикацию</th>\n",
              "      <th>Источник</th>\n",
              "      <th>Была ли открытка отправлена по почте</th>\n",
              "      <th>Название коллекции (если вы хотите подпись на сайте). Например, личная коллекция Василия Иванова.</th>\n",
              "      <th>Комментарий или метаинформация. Укажите тут любую метаинформацию про открытку, которую считаете важной. Например, какое-то знание или история, которую нельзя восстановить по тексту открытки.</th>\n",
              "      <th>Заливщик</th>\n",
              "      <th>Разметчик</th>\n",
              "      <th>...</th>\n",
              "      <th>Тег_3</th>\n",
              "      <th>Тег_4</th>\n",
              "      <th>Тег_5</th>\n",
              "      <th>Тег_6</th>\n",
              "      <th>Тег_7</th>\n",
              "      <th>Интересна ли для медиа/исследователей</th>\n",
              "      <th>Почему интересна</th>\n",
              "      <th>Id поста на сайте</th>\n",
              "      <th>Дата заливки</th>\n",
              "      <th>Оценка</th>\n",
              "    </tr>\n",
              "  </thead>\n",
              "  <tbody>\n",
              "    <tr>\n",
              "      <th>0</th>\n",
              "      <td>100001</td>\n",
              "      <td>https://storage.yandexcloud.net/postcards-open...</td>\n",
              "      <td>https://storage.yandexcloud.net/postcards-open...</td>\n",
              "      <td>Разрешаю публикацию</td>\n",
              "      <td>Найдено в интернете</td>\n",
              "      <td>NaN</td>\n",
              "      <td>NaN</td>\n",
              "      <td>NaN</td>\n",
              "      <td>NaN</td>\n",
              "      <td>Атрощенко Екатерина (ЯП)</td>\n",
              "      <td>...</td>\n",
              "      <td>Письма семье</td>\n",
              "      <td>NaN</td>\n",
              "      <td>NaN</td>\n",
              "      <td>NaN</td>\n",
              "      <td>NaN</td>\n",
              "      <td>NaN</td>\n",
              "      <td>NaN</td>\n",
              "      <td>26789.0</td>\n",
              "      <td>Thu Aug 25 2022 15:04:40 GMT-0400 (Восточная А...</td>\n",
              "      <td>5</td>\n",
              "    </tr>\n",
              "    <tr>\n",
              "      <th>1</th>\n",
              "      <td>100002</td>\n",
              "      <td>https://storage.yandexcloud.net/postcards-open...</td>\n",
              "      <td>https://storage.yandexcloud.net/postcards-open...</td>\n",
              "      <td>Разрешаю публикацию</td>\n",
              "      <td>Найдено в интернете</td>\n",
              "      <td>NaN</td>\n",
              "      <td>NaN</td>\n",
              "      <td>NaN</td>\n",
              "      <td>NaN</td>\n",
              "      <td>Зыкова Мария (ЯП)</td>\n",
              "      <td>...</td>\n",
              "      <td>Благодарность в тексте</td>\n",
              "      <td>Поцелуи из писем</td>\n",
              "      <td>Деньги</td>\n",
              "      <td>NaN</td>\n",
              "      <td>NaN</td>\n",
              "      <td>NaN</td>\n",
              "      <td>NaN</td>\n",
              "      <td>26786.0</td>\n",
              "      <td>Thu Aug 25 2022 15:04:40 GMT-0400 (Восточная А...</td>\n",
              "      <td>4</td>\n",
              "    </tr>\n",
              "    <tr>\n",
              "      <th>2</th>\n",
              "      <td>100003</td>\n",
              "      <td>https://storage.yandexcloud.net/postcards-open...</td>\n",
              "      <td>https://storage.yandexcloud.net/postcards-open...</td>\n",
              "      <td>Разрешаю публикацию</td>\n",
              "      <td>Найдено в интернете</td>\n",
              "      <td>NaN</td>\n",
              "      <td>NaN</td>\n",
              "      <td>NaN</td>\n",
              "      <td>NaN</td>\n",
              "      <td>Залян Эдуард (ЯП)</td>\n",
              "      <td>...</td>\n",
              "      <td>NaN</td>\n",
              "      <td>NaN</td>\n",
              "      <td>NaN</td>\n",
              "      <td>NaN</td>\n",
              "      <td>NaN</td>\n",
              "      <td>NaN</td>\n",
              "      <td>NaN</td>\n",
              "      <td>26807.0</td>\n",
              "      <td>Thu Aug 25 2022 15:04:40 GMT-0400 (Восточная А...</td>\n",
              "      <td>5</td>\n",
              "    </tr>\n",
              "    <tr>\n",
              "      <th>3</th>\n",
              "      <td>100004</td>\n",
              "      <td>https://storage.yandexcloud.net/postcards-open...</td>\n",
              "      <td>https://storage.yandexcloud.net/postcards-open...</td>\n",
              "      <td>Разрешаю публикацию</td>\n",
              "      <td>Найдено в интернете</td>\n",
              "      <td>NaN</td>\n",
              "      <td>NaN</td>\n",
              "      <td>NaN</td>\n",
              "      <td>NaN</td>\n",
              "      <td>Никитина Полина (ЯП)</td>\n",
              "      <td>...</td>\n",
              "      <td>Загадочная открытка</td>\n",
              "      <td>NaN</td>\n",
              "      <td>NaN</td>\n",
              "      <td>NaN</td>\n",
              "      <td>NaN</td>\n",
              "      <td>NaN</td>\n",
              "      <td>NaN</td>\n",
              "      <td>26788.0</td>\n",
              "      <td>Thu Aug 25 2022 15:04:40 GMT-0400 (Восточная А...</td>\n",
              "      <td>4</td>\n",
              "    </tr>\n",
              "    <tr>\n",
              "      <th>4</th>\n",
              "      <td>100005</td>\n",
              "      <td>https://storage.yandexcloud.net/postcards-open...</td>\n",
              "      <td>https://storage.yandexcloud.net/postcards-open...</td>\n",
              "      <td>Разрешаю публикацию</td>\n",
              "      <td>Найдено в интернете</td>\n",
              "      <td>NaN</td>\n",
              "      <td>NaN</td>\n",
              "      <td>NaN</td>\n",
              "      <td>NaN</td>\n",
              "      <td>Кошкина Мария (ЯП)</td>\n",
              "      <td>...</td>\n",
              "      <td>NaN</td>\n",
              "      <td>NaN</td>\n",
              "      <td>NaN</td>\n",
              "      <td>NaN</td>\n",
              "      <td>NaN</td>\n",
              "      <td>NaN</td>\n",
              "      <td>NaN</td>\n",
              "      <td>26804.0</td>\n",
              "      <td>Thu Aug 25 2022 15:04:40 GMT-0400 (Восточная А...</td>\n",
              "      <td>5</td>\n",
              "    </tr>\n",
              "  </tbody>\n",
              "</table>\n",
              "<p>5 rows × 58 columns</p>\n",
              "</div>\n",
              "      <button class=\"colab-df-convert\" onclick=\"convertToInteractive('df-203fc53d-2d22-4245-94e0-0b55eb034155')\"\n",
              "              title=\"Convert this dataframe to an interactive table.\"\n",
              "              style=\"display:none;\">\n",
              "        \n",
              "  <svg xmlns=\"http://www.w3.org/2000/svg\" height=\"24px\"viewBox=\"0 0 24 24\"\n",
              "       width=\"24px\">\n",
              "    <path d=\"M0 0h24v24H0V0z\" fill=\"none\"/>\n",
              "    <path d=\"M18.56 5.44l.94 2.06.94-2.06 2.06-.94-2.06-.94-.94-2.06-.94 2.06-2.06.94zm-11 1L8.5 8.5l.94-2.06 2.06-.94-2.06-.94L8.5 2.5l-.94 2.06-2.06.94zm10 10l.94 2.06.94-2.06 2.06-.94-2.06-.94-.94-2.06-.94 2.06-2.06.94z\"/><path d=\"M17.41 7.96l-1.37-1.37c-.4-.4-.92-.59-1.43-.59-.52 0-1.04.2-1.43.59L10.3 9.45l-7.72 7.72c-.78.78-.78 2.05 0 2.83L4 21.41c.39.39.9.59 1.41.59.51 0 1.02-.2 1.41-.59l7.78-7.78 2.81-2.81c.8-.78.8-2.07 0-2.86zM5.41 20L4 18.59l7.72-7.72 1.47 1.35L5.41 20z\"/>\n",
              "  </svg>\n",
              "      </button>\n",
              "      \n",
              "  <style>\n",
              "    .colab-df-container {\n",
              "      display:flex;\n",
              "      flex-wrap:wrap;\n",
              "      gap: 12px;\n",
              "    }\n",
              "\n",
              "    .colab-df-convert {\n",
              "      background-color: #E8F0FE;\n",
              "      border: none;\n",
              "      border-radius: 50%;\n",
              "      cursor: pointer;\n",
              "      display: none;\n",
              "      fill: #1967D2;\n",
              "      height: 32px;\n",
              "      padding: 0 0 0 0;\n",
              "      width: 32px;\n",
              "    }\n",
              "\n",
              "    .colab-df-convert:hover {\n",
              "      background-color: #E2EBFA;\n",
              "      box-shadow: 0px 1px 2px rgba(60, 64, 67, 0.3), 0px 1px 3px 1px rgba(60, 64, 67, 0.15);\n",
              "      fill: #174EA6;\n",
              "    }\n",
              "\n",
              "    [theme=dark] .colab-df-convert {\n",
              "      background-color: #3B4455;\n",
              "      fill: #D2E3FC;\n",
              "    }\n",
              "\n",
              "    [theme=dark] .colab-df-convert:hover {\n",
              "      background-color: #434B5C;\n",
              "      box-shadow: 0px 1px 3px 1px rgba(0, 0, 0, 0.15);\n",
              "      filter: drop-shadow(0px 1px 2px rgba(0, 0, 0, 0.3));\n",
              "      fill: #FFFFFF;\n",
              "    }\n",
              "  </style>\n",
              "\n",
              "      <script>\n",
              "        const buttonEl =\n",
              "          document.querySelector('#df-203fc53d-2d22-4245-94e0-0b55eb034155 button.colab-df-convert');\n",
              "        buttonEl.style.display =\n",
              "          google.colab.kernel.accessAllowed ? 'block' : 'none';\n",
              "\n",
              "        async function convertToInteractive(key) {\n",
              "          const element = document.querySelector('#df-203fc53d-2d22-4245-94e0-0b55eb034155');\n",
              "          const dataTable =\n",
              "            await google.colab.kernel.invokeFunction('convertToInteractive',\n",
              "                                                     [key], {});\n",
              "          if (!dataTable) return;\n",
              "\n",
              "          const docLinkHtml = 'Like what you see? Visit the ' +\n",
              "            '<a target=\"_blank\" href=https://colab.research.google.com/notebooks/data_table.ipynb>data table notebook</a>'\n",
              "            + ' to learn more about interactive tables.';\n",
              "          element.innerHTML = '';\n",
              "          dataTable['output_type'] = 'display_data';\n",
              "          await google.colab.output.renderOutput(dataTable, element);\n",
              "          const docLink = document.createElement('div');\n",
              "          docLink.innerHTML = docLinkHtml;\n",
              "          element.appendChild(docLink);\n",
              "        }\n",
              "      </script>\n",
              "    </div>\n",
              "  </div>\n",
              "  "
            ]
          },
          "metadata": {},
          "execution_count": 8
        }
      ]
    },
    {
      "cell_type": "code",
      "source": [
        "base_2['Проблема'].value_counts()"
      ],
      "metadata": {
        "colab": {
          "base_uri": "https://localhost:8080/"
        },
        "id": "yR4mL415X8WP",
        "outputId": "37a32601-25eb-4a10-e028-87d68d28736f"
      },
      "execution_count": null,
      "outputs": [
        {
          "output_type": "execute_result",
          "data": {
            "text/plain": [
              "Отсутствует                         4488\n",
              "Большие поля (обе)                   220\n",
              "Большие поля (лицевая)                84\n",
              "Низкое качество                       83\n",
              "Требуется поворот                     33\n",
              "Нет текста                            15\n",
              "Большие поля (оборотная)              12\n",
              "трудный почерк                         2\n",
              "Две стороны на одном изображении       1\n",
              "Скрыть информацию                      1\n",
              "Name: Проблема, dtype: int64"
            ]
          },
          "metadata": {},
          "execution_count": 9
        }
      ]
    },
    {
      "cell_type": "markdown",
      "source": [
        "Результатов обрезки должно быть"
      ],
      "metadata": {
        "id": "npbBfhV7ymk0"
      }
    },
    {
      "cell_type": "code",
      "source": [
        "220 * 2 + 84 + 12"
      ],
      "metadata": {
        "colab": {
          "base_uri": "https://localhost:8080/"
        },
        "id": "94UkhbP4yLyv",
        "outputId": "8c7367e5-633b-4ff9-b360-60700ffa48d6"
      },
      "execution_count": 133,
      "outputs": [
        {
          "output_type": "execute_result",
          "data": {
            "text/plain": [
              "536"
            ]
          },
          "metadata": {},
          "execution_count": 133
        }
      ]
    },
    {
      "cell_type": "markdown",
      "source": [
        "### База 3"
      ],
      "metadata": {
        "id": "ocAEsMWhYfYA"
      }
    },
    {
      "cell_type": "code",
      "source": [
        "base_3 = pd.ExcelFile('/content/drive/MyDrive/Системный Блок/пишу тебе/открытки базы/Расшифровка открыток 3 (Ярмарка проектов).xlsx')\n",
        "base_3 = pd.read_excel(base_3, 'Открытки')\n",
        "base_3 = base_3[~base_3['Номер открытки'].isna()]\n",
        "base_3['Номер открытки'] = base_3['Номер открытки'].astype(int)\n",
        "base_3.head()"
      ],
      "metadata": {
        "colab": {
          "base_uri": "https://localhost:8080/",
          "height": 751
        },
        "id": "dmZr9I7dYjze",
        "outputId": "2a6a083c-ccd9-4d7a-ec78-b599d2f9b040"
      },
      "execution_count": null,
      "outputs": [
        {
          "output_type": "execute_result",
          "data": {
            "text/plain": [
              "   Номер открытки                                          Pic_url_1  \\\n",
              "0          205028  https://storage.yandexcloud.net/postcards-open...   \n",
              "1          205096  https://storage.yandexcloud.net/postcards-open...   \n",
              "2          204980  https://storage.yandexcloud.net/postcards-open...   \n",
              "3          205038  https://storage.yandexcloud.net/postcards-open...   \n",
              "4          205073  https://storage.yandexcloud.net/postcards-open...   \n",
              "\n",
              "                                           Pic_url_2 Разрешение на публикацию  \\\n",
              "0  https://storage.yandexcloud.net/postcards-open...      Разрешаю публикацию   \n",
              "1  https://storage.yandexcloud.net/postcards-open...      Разрешаю публикацию   \n",
              "2  https://storage.yandexcloud.net/postcards-open...      Разрешаю публикацию   \n",
              "3  https://storage.yandexcloud.net/postcards-open...      Разрешаю публикацию   \n",
              "4  https://storage.yandexcloud.net/postcards-open...      Разрешаю публикацию   \n",
              "\n",
              "              Источник Была ли открытка отправлена по почте  \\\n",
              "0  Найдено в интернете                                  NaN   \n",
              "1  Найдено в интернете                                  NaN   \n",
              "2  Найдено в интернете                                  NaN   \n",
              "3  Найдено в интернете                                  NaN   \n",
              "4  Найдено в интернете                                  NaN   \n",
              "\n",
              "  Название коллекции (если вы хотите подпись на сайте). Например, личная коллекция Василия Иванова.  \\\n",
              "0                                                NaN                                                  \n",
              "1                                                NaN                                                  \n",
              "2                                                NaN                                                  \n",
              "3                                                NaN                                                  \n",
              "4                                                NaN                                                  \n",
              "\n",
              "  Комментарий или метаинформация. Укажите тут любую метаинформацию про открытку, которую считаете важной. Например, какое-то знание или история, которую нельзя восстановить по тексту открытки.  \\\n",
              "0                                                NaN                                                                                                                                               \n",
              "1                                                NaN                                                                                                                                               \n",
              "2                                                NaN                                                                                                                                               \n",
              "3                                                NaN                                                                                                                                               \n",
              "4                                                NaN                                                                                                                                               \n",
              "\n",
              "   Заливщик                           Разметчик  ...            Тег_3  \\\n",
              "0       NaN                       Анна Макарова  ...              NaN   \n",
              "1       NaN                       Анна Макарова  ...     Письма семье   \n",
              "2       NaN        Бачинина Яна (ЯП4, 09-10.22)  ...       Социальное   \n",
              "3       NaN        Бачинина Яна (ЯП4, 09-10.22)  ...  Письма от семьи   \n",
              "4       NaN  Бенедиктова Полина (ЯП4, 09-10.22)  ...          Просьба   \n",
              "\n",
              "              Тег_4                Тег_5         Тег_6           Тег_7  \\\n",
              "0               NaN                  NaN           NaN             NaN   \n",
              "1  Написано о детях                  NaN           NaN             NaN   \n",
              "2         Житейское  Загадочная открытка           NaN             NaN   \n",
              "3         Житейское              Новости  Дурные вести           пасха   \n",
              "4         Житейское          Письма отцу           NaN  Из путешествия   \n",
              "\n",
              "  Интересна ли для медиа/исследователей Почему интересна Id поста на сайте  \\\n",
              "0                                   NaN              NaN               NaN   \n",
              "1                                   NaN              NaN               NaN   \n",
              "2                                   NaN              NaN               NaN   \n",
              "3                                   NaN              NaN               NaN   \n",
              "4                                   NaN              NaN               NaN   \n",
              "\n",
              "  Дата заливки Оценка  \n",
              "0          NaN      0  \n",
              "1          NaN      0  \n",
              "2          NaN      5  \n",
              "3          NaN      4  \n",
              "4          NaN      4  \n",
              "\n",
              "[5 rows x 58 columns]"
            ],
            "text/html": [
              "\n",
              "  <div id=\"df-8870247b-5dd5-4733-b94f-d3cb2b55f61c\">\n",
              "    <div class=\"colab-df-container\">\n",
              "      <div>\n",
              "<style scoped>\n",
              "    .dataframe tbody tr th:only-of-type {\n",
              "        vertical-align: middle;\n",
              "    }\n",
              "\n",
              "    .dataframe tbody tr th {\n",
              "        vertical-align: top;\n",
              "    }\n",
              "\n",
              "    .dataframe thead th {\n",
              "        text-align: right;\n",
              "    }\n",
              "</style>\n",
              "<table border=\"1\" class=\"dataframe\">\n",
              "  <thead>\n",
              "    <tr style=\"text-align: right;\">\n",
              "      <th></th>\n",
              "      <th>Номер открытки</th>\n",
              "      <th>Pic_url_1</th>\n",
              "      <th>Pic_url_2</th>\n",
              "      <th>Разрешение на публикацию</th>\n",
              "      <th>Источник</th>\n",
              "      <th>Была ли открытка отправлена по почте</th>\n",
              "      <th>Название коллекции (если вы хотите подпись на сайте). Например, личная коллекция Василия Иванова.</th>\n",
              "      <th>Комментарий или метаинформация. Укажите тут любую метаинформацию про открытку, которую считаете важной. Например, какое-то знание или история, которую нельзя восстановить по тексту открытки.</th>\n",
              "      <th>Заливщик</th>\n",
              "      <th>Разметчик</th>\n",
              "      <th>...</th>\n",
              "      <th>Тег_3</th>\n",
              "      <th>Тег_4</th>\n",
              "      <th>Тег_5</th>\n",
              "      <th>Тег_6</th>\n",
              "      <th>Тег_7</th>\n",
              "      <th>Интересна ли для медиа/исследователей</th>\n",
              "      <th>Почему интересна</th>\n",
              "      <th>Id поста на сайте</th>\n",
              "      <th>Дата заливки</th>\n",
              "      <th>Оценка</th>\n",
              "    </tr>\n",
              "  </thead>\n",
              "  <tbody>\n",
              "    <tr>\n",
              "      <th>0</th>\n",
              "      <td>205028</td>\n",
              "      <td>https://storage.yandexcloud.net/postcards-open...</td>\n",
              "      <td>https://storage.yandexcloud.net/postcards-open...</td>\n",
              "      <td>Разрешаю публикацию</td>\n",
              "      <td>Найдено в интернете</td>\n",
              "      <td>NaN</td>\n",
              "      <td>NaN</td>\n",
              "      <td>NaN</td>\n",
              "      <td>NaN</td>\n",
              "      <td>Анна Макарова</td>\n",
              "      <td>...</td>\n",
              "      <td>NaN</td>\n",
              "      <td>NaN</td>\n",
              "      <td>NaN</td>\n",
              "      <td>NaN</td>\n",
              "      <td>NaN</td>\n",
              "      <td>NaN</td>\n",
              "      <td>NaN</td>\n",
              "      <td>NaN</td>\n",
              "      <td>NaN</td>\n",
              "      <td>0</td>\n",
              "    </tr>\n",
              "    <tr>\n",
              "      <th>1</th>\n",
              "      <td>205096</td>\n",
              "      <td>https://storage.yandexcloud.net/postcards-open...</td>\n",
              "      <td>https://storage.yandexcloud.net/postcards-open...</td>\n",
              "      <td>Разрешаю публикацию</td>\n",
              "      <td>Найдено в интернете</td>\n",
              "      <td>NaN</td>\n",
              "      <td>NaN</td>\n",
              "      <td>NaN</td>\n",
              "      <td>NaN</td>\n",
              "      <td>Анна Макарова</td>\n",
              "      <td>...</td>\n",
              "      <td>Письма семье</td>\n",
              "      <td>Написано о детях</td>\n",
              "      <td>NaN</td>\n",
              "      <td>NaN</td>\n",
              "      <td>NaN</td>\n",
              "      <td>NaN</td>\n",
              "      <td>NaN</td>\n",
              "      <td>NaN</td>\n",
              "      <td>NaN</td>\n",
              "      <td>0</td>\n",
              "    </tr>\n",
              "    <tr>\n",
              "      <th>2</th>\n",
              "      <td>204980</td>\n",
              "      <td>https://storage.yandexcloud.net/postcards-open...</td>\n",
              "      <td>https://storage.yandexcloud.net/postcards-open...</td>\n",
              "      <td>Разрешаю публикацию</td>\n",
              "      <td>Найдено в интернете</td>\n",
              "      <td>NaN</td>\n",
              "      <td>NaN</td>\n",
              "      <td>NaN</td>\n",
              "      <td>NaN</td>\n",
              "      <td>Бачинина Яна (ЯП4, 09-10.22)</td>\n",
              "      <td>...</td>\n",
              "      <td>Социальное</td>\n",
              "      <td>Житейское</td>\n",
              "      <td>Загадочная открытка</td>\n",
              "      <td>NaN</td>\n",
              "      <td>NaN</td>\n",
              "      <td>NaN</td>\n",
              "      <td>NaN</td>\n",
              "      <td>NaN</td>\n",
              "      <td>NaN</td>\n",
              "      <td>5</td>\n",
              "    </tr>\n",
              "    <tr>\n",
              "      <th>3</th>\n",
              "      <td>205038</td>\n",
              "      <td>https://storage.yandexcloud.net/postcards-open...</td>\n",
              "      <td>https://storage.yandexcloud.net/postcards-open...</td>\n",
              "      <td>Разрешаю публикацию</td>\n",
              "      <td>Найдено в интернете</td>\n",
              "      <td>NaN</td>\n",
              "      <td>NaN</td>\n",
              "      <td>NaN</td>\n",
              "      <td>NaN</td>\n",
              "      <td>Бачинина Яна (ЯП4, 09-10.22)</td>\n",
              "      <td>...</td>\n",
              "      <td>Письма от семьи</td>\n",
              "      <td>Житейское</td>\n",
              "      <td>Новости</td>\n",
              "      <td>Дурные вести</td>\n",
              "      <td>пасха</td>\n",
              "      <td>NaN</td>\n",
              "      <td>NaN</td>\n",
              "      <td>NaN</td>\n",
              "      <td>NaN</td>\n",
              "      <td>4</td>\n",
              "    </tr>\n",
              "    <tr>\n",
              "      <th>4</th>\n",
              "      <td>205073</td>\n",
              "      <td>https://storage.yandexcloud.net/postcards-open...</td>\n",
              "      <td>https://storage.yandexcloud.net/postcards-open...</td>\n",
              "      <td>Разрешаю публикацию</td>\n",
              "      <td>Найдено в интернете</td>\n",
              "      <td>NaN</td>\n",
              "      <td>NaN</td>\n",
              "      <td>NaN</td>\n",
              "      <td>NaN</td>\n",
              "      <td>Бенедиктова Полина (ЯП4, 09-10.22)</td>\n",
              "      <td>...</td>\n",
              "      <td>Просьба</td>\n",
              "      <td>Житейское</td>\n",
              "      <td>Письма отцу</td>\n",
              "      <td>NaN</td>\n",
              "      <td>Из путешествия</td>\n",
              "      <td>NaN</td>\n",
              "      <td>NaN</td>\n",
              "      <td>NaN</td>\n",
              "      <td>NaN</td>\n",
              "      <td>4</td>\n",
              "    </tr>\n",
              "  </tbody>\n",
              "</table>\n",
              "<p>5 rows × 58 columns</p>\n",
              "</div>\n",
              "      <button class=\"colab-df-convert\" onclick=\"convertToInteractive('df-8870247b-5dd5-4733-b94f-d3cb2b55f61c')\"\n",
              "              title=\"Convert this dataframe to an interactive table.\"\n",
              "              style=\"display:none;\">\n",
              "        \n",
              "  <svg xmlns=\"http://www.w3.org/2000/svg\" height=\"24px\"viewBox=\"0 0 24 24\"\n",
              "       width=\"24px\">\n",
              "    <path d=\"M0 0h24v24H0V0z\" fill=\"none\"/>\n",
              "    <path d=\"M18.56 5.44l.94 2.06.94-2.06 2.06-.94-2.06-.94-.94-2.06-.94 2.06-2.06.94zm-11 1L8.5 8.5l.94-2.06 2.06-.94-2.06-.94L8.5 2.5l-.94 2.06-2.06.94zm10 10l.94 2.06.94-2.06 2.06-.94-2.06-.94-.94-2.06-.94 2.06-2.06.94z\"/><path d=\"M17.41 7.96l-1.37-1.37c-.4-.4-.92-.59-1.43-.59-.52 0-1.04.2-1.43.59L10.3 9.45l-7.72 7.72c-.78.78-.78 2.05 0 2.83L4 21.41c.39.39.9.59 1.41.59.51 0 1.02-.2 1.41-.59l7.78-7.78 2.81-2.81c.8-.78.8-2.07 0-2.86zM5.41 20L4 18.59l7.72-7.72 1.47 1.35L5.41 20z\"/>\n",
              "  </svg>\n",
              "      </button>\n",
              "      \n",
              "  <style>\n",
              "    .colab-df-container {\n",
              "      display:flex;\n",
              "      flex-wrap:wrap;\n",
              "      gap: 12px;\n",
              "    }\n",
              "\n",
              "    .colab-df-convert {\n",
              "      background-color: #E8F0FE;\n",
              "      border: none;\n",
              "      border-radius: 50%;\n",
              "      cursor: pointer;\n",
              "      display: none;\n",
              "      fill: #1967D2;\n",
              "      height: 32px;\n",
              "      padding: 0 0 0 0;\n",
              "      width: 32px;\n",
              "    }\n",
              "\n",
              "    .colab-df-convert:hover {\n",
              "      background-color: #E2EBFA;\n",
              "      box-shadow: 0px 1px 2px rgba(60, 64, 67, 0.3), 0px 1px 3px 1px rgba(60, 64, 67, 0.15);\n",
              "      fill: #174EA6;\n",
              "    }\n",
              "\n",
              "    [theme=dark] .colab-df-convert {\n",
              "      background-color: #3B4455;\n",
              "      fill: #D2E3FC;\n",
              "    }\n",
              "\n",
              "    [theme=dark] .colab-df-convert:hover {\n",
              "      background-color: #434B5C;\n",
              "      box-shadow: 0px 1px 3px 1px rgba(0, 0, 0, 0.15);\n",
              "      filter: drop-shadow(0px 1px 2px rgba(0, 0, 0, 0.3));\n",
              "      fill: #FFFFFF;\n",
              "    }\n",
              "  </style>\n",
              "\n",
              "      <script>\n",
              "        const buttonEl =\n",
              "          document.querySelector('#df-8870247b-5dd5-4733-b94f-d3cb2b55f61c button.colab-df-convert');\n",
              "        buttonEl.style.display =\n",
              "          google.colab.kernel.accessAllowed ? 'block' : 'none';\n",
              "\n",
              "        async function convertToInteractive(key) {\n",
              "          const element = document.querySelector('#df-8870247b-5dd5-4733-b94f-d3cb2b55f61c');\n",
              "          const dataTable =\n",
              "            await google.colab.kernel.invokeFunction('convertToInteractive',\n",
              "                                                     [key], {});\n",
              "          if (!dataTable) return;\n",
              "\n",
              "          const docLinkHtml = 'Like what you see? Visit the ' +\n",
              "            '<a target=\"_blank\" href=https://colab.research.google.com/notebooks/data_table.ipynb>data table notebook</a>'\n",
              "            + ' to learn more about interactive tables.';\n",
              "          element.innerHTML = '';\n",
              "          dataTable['output_type'] = 'display_data';\n",
              "          await google.colab.output.renderOutput(dataTable, element);\n",
              "          const docLink = document.createElement('div');\n",
              "          docLink.innerHTML = docLinkHtml;\n",
              "          element.appendChild(docLink);\n",
              "        }\n",
              "      </script>\n",
              "    </div>\n",
              "  </div>\n",
              "  "
            ]
          },
          "metadata": {},
          "execution_count": 33
        }
      ]
    },
    {
      "cell_type": "code",
      "source": [
        "base_3['Проблема'].value_counts()"
      ],
      "metadata": {
        "colab": {
          "base_uri": "https://localhost:8080/"
        },
        "id": "TKxsxQTYYmYj",
        "outputId": "fb8ae396-d472-4fa3-cc67-19eef3472179"
      },
      "execution_count": null,
      "outputs": [
        {
          "output_type": "execute_result",
          "data": {
            "text/plain": [
              "Отсутствует                         7683\n",
              "Большие поля (обе)                  2596\n",
              "Низкое качество                       94\n",
              "Требуется поворот                     18\n",
              "Нет текста                            11\n",
              "Большие поля (оборотная)               4\n",
              "Обрезать небольшую полоску снизу       1\n",
              "Большие поля (лицевая)                 1\n",
              "Скрыть информацию                      1\n",
              "Две стороны на одном изображении       1\n",
              "иностранный язык                       1\n",
              "Name: Проблема, dtype: int64"
            ]
          },
          "metadata": {},
          "execution_count": 34
        }
      ]
    },
    {
      "cell_type": "markdown",
      "source": [
        "Результатов обрезки должно быть"
      ],
      "metadata": {
        "id": "NYlq1ubZyqjb"
      }
    },
    {
      "cell_type": "code",
      "source": [
        "2596 * 2 + 4 + 1"
      ],
      "metadata": {
        "colab": {
          "base_uri": "https://localhost:8080/"
        },
        "outputId": "628daeec-cc3f-4304-dd8c-03bc0032e542",
        "id": "uRgcWovlyqjc"
      },
      "execution_count": 134,
      "outputs": [
        {
          "output_type": "execute_result",
          "data": {
            "text/plain": [
              "5197"
            ]
          },
          "metadata": {},
          "execution_count": 134
        }
      ]
    },
    {
      "cell_type": "markdown",
      "source": [
        "# Готово к заливке"
      ],
      "metadata": {
        "id": "-7zB3fE4rWFh"
      }
    },
    {
      "cell_type": "code",
      "source": [
        "xls = pd.ExcelFile('/content/Обрезка открыток рабочая таблица для волонтеров.xlsx')\n",
        "df = pd.read_excel(xls, 'Рабочая таблица - iter-1 заморо')\n",
        "df = df.drop(['Исполнитель', 'Исходник ссылка', 'Результат ссылка', 'ID'], axis=1)\n",
        "df = df.rename(columns={'ID_base': 'ID'})\n",
        "df['ID'] = df.apply(\n",
        "    lambda row: row['ID'] if row['base'] == 1\n",
        "    else row['ID'] + 100000 if row['base'] == 2\n",
        "    else row['ID'] + 200000,\n",
        "    axis=1\n",
        ")\n",
        "df = df[['ID', 'base', 'Pic', 'crop_method', \n",
        "                           'Статус', 'Комментарий',\n",
        "                           'Исходный файл', 'Результат файл', \n",
        "                           'orig_url', 'crop_url']]\n",
        "df.head()"
      ],
      "metadata": {
        "colab": {
          "base_uri": "https://localhost:8080/",
          "height": 374
        },
        "id": "UTFvEV7WrTyM",
        "outputId": "5963f392-f510-4088-e5d6-290929fc49f9"
      },
      "execution_count": 17,
      "outputs": [
        {
          "output_type": "execute_result",
          "data": {
            "text/plain": [
              "     ID  base  Pic  crop_method   Статус Комментарий Исходный файл  \\\n",
              "0   966     1    1            1  Успешно         NaN     966-1.jpg   \n",
              "1  1649     1    1            1  Успешно         NaN    1649-1.jpg   \n",
              "2  2102     1    2            1  Успешно         NaN    2102-2.jpg   \n",
              "3  2150     1    1            1   Провал         NaN    2150-1.jpg   \n",
              "4  2150     1    2            1  Успешно         NaN    2150-2.jpg   \n",
              "\n",
              "    Результат файл                                           orig_url  \\\n",
              "0   966-1-crop.jpg  https://drive.google.com/file/d/1K3OGHzPrRrXGK...   \n",
              "1  1649-1-crop.jpg  https://drive.google.com/file/d/1JytFE-ZFLc-5m...   \n",
              "2  2102-2-crop.jpg  https://drive.google.com/file/d/1Bo376PzwjDIB3...   \n",
              "3  2150-1-crop.jpg  https://drive.google.com/file/d/1RY42_tRcLbfal...   \n",
              "4  2150-2-crop.jpg  https://drive.google.com/file/d/1qHJRb7j5epjCA...   \n",
              "\n",
              "                                            crop_url  \n",
              "0  https://drive.google.com/file/d/1bSheoBv5eRFy6...  \n",
              "1  https://drive.google.com/file/d/1OP7kN7hi53hyi...  \n",
              "2  https://drive.google.com/file/d/1stSTPt9VAH89H...  \n",
              "3  https://drive.google.com/file/d/1ISqwH6Ya9l__3...  \n",
              "4  https://drive.google.com/file/d/1xQ2nEYMjSm3CH...  "
            ],
            "text/html": [
              "\n",
              "  <div id=\"df-7ca549e0-dcf9-4041-9155-1053ad1ee1e5\">\n",
              "    <div class=\"colab-df-container\">\n",
              "      <div>\n",
              "<style scoped>\n",
              "    .dataframe tbody tr th:only-of-type {\n",
              "        vertical-align: middle;\n",
              "    }\n",
              "\n",
              "    .dataframe tbody tr th {\n",
              "        vertical-align: top;\n",
              "    }\n",
              "\n",
              "    .dataframe thead th {\n",
              "        text-align: right;\n",
              "    }\n",
              "</style>\n",
              "<table border=\"1\" class=\"dataframe\">\n",
              "  <thead>\n",
              "    <tr style=\"text-align: right;\">\n",
              "      <th></th>\n",
              "      <th>ID</th>\n",
              "      <th>base</th>\n",
              "      <th>Pic</th>\n",
              "      <th>crop_method</th>\n",
              "      <th>Статус</th>\n",
              "      <th>Комментарий</th>\n",
              "      <th>Исходный файл</th>\n",
              "      <th>Результат файл</th>\n",
              "      <th>orig_url</th>\n",
              "      <th>crop_url</th>\n",
              "    </tr>\n",
              "  </thead>\n",
              "  <tbody>\n",
              "    <tr>\n",
              "      <th>0</th>\n",
              "      <td>966</td>\n",
              "      <td>1</td>\n",
              "      <td>1</td>\n",
              "      <td>1</td>\n",
              "      <td>Успешно</td>\n",
              "      <td>NaN</td>\n",
              "      <td>966-1.jpg</td>\n",
              "      <td>966-1-crop.jpg</td>\n",
              "      <td>https://drive.google.com/file/d/1K3OGHzPrRrXGK...</td>\n",
              "      <td>https://drive.google.com/file/d/1bSheoBv5eRFy6...</td>\n",
              "    </tr>\n",
              "    <tr>\n",
              "      <th>1</th>\n",
              "      <td>1649</td>\n",
              "      <td>1</td>\n",
              "      <td>1</td>\n",
              "      <td>1</td>\n",
              "      <td>Успешно</td>\n",
              "      <td>NaN</td>\n",
              "      <td>1649-1.jpg</td>\n",
              "      <td>1649-1-crop.jpg</td>\n",
              "      <td>https://drive.google.com/file/d/1JytFE-ZFLc-5m...</td>\n",
              "      <td>https://drive.google.com/file/d/1OP7kN7hi53hyi...</td>\n",
              "    </tr>\n",
              "    <tr>\n",
              "      <th>2</th>\n",
              "      <td>2102</td>\n",
              "      <td>1</td>\n",
              "      <td>2</td>\n",
              "      <td>1</td>\n",
              "      <td>Успешно</td>\n",
              "      <td>NaN</td>\n",
              "      <td>2102-2.jpg</td>\n",
              "      <td>2102-2-crop.jpg</td>\n",
              "      <td>https://drive.google.com/file/d/1Bo376PzwjDIB3...</td>\n",
              "      <td>https://drive.google.com/file/d/1stSTPt9VAH89H...</td>\n",
              "    </tr>\n",
              "    <tr>\n",
              "      <th>3</th>\n",
              "      <td>2150</td>\n",
              "      <td>1</td>\n",
              "      <td>1</td>\n",
              "      <td>1</td>\n",
              "      <td>Провал</td>\n",
              "      <td>NaN</td>\n",
              "      <td>2150-1.jpg</td>\n",
              "      <td>2150-1-crop.jpg</td>\n",
              "      <td>https://drive.google.com/file/d/1RY42_tRcLbfal...</td>\n",
              "      <td>https://drive.google.com/file/d/1ISqwH6Ya9l__3...</td>\n",
              "    </tr>\n",
              "    <tr>\n",
              "      <th>4</th>\n",
              "      <td>2150</td>\n",
              "      <td>1</td>\n",
              "      <td>2</td>\n",
              "      <td>1</td>\n",
              "      <td>Успешно</td>\n",
              "      <td>NaN</td>\n",
              "      <td>2150-2.jpg</td>\n",
              "      <td>2150-2-crop.jpg</td>\n",
              "      <td>https://drive.google.com/file/d/1qHJRb7j5epjCA...</td>\n",
              "      <td>https://drive.google.com/file/d/1xQ2nEYMjSm3CH...</td>\n",
              "    </tr>\n",
              "  </tbody>\n",
              "</table>\n",
              "</div>\n",
              "      <button class=\"colab-df-convert\" onclick=\"convertToInteractive('df-7ca549e0-dcf9-4041-9155-1053ad1ee1e5')\"\n",
              "              title=\"Convert this dataframe to an interactive table.\"\n",
              "              style=\"display:none;\">\n",
              "        \n",
              "  <svg xmlns=\"http://www.w3.org/2000/svg\" height=\"24px\"viewBox=\"0 0 24 24\"\n",
              "       width=\"24px\">\n",
              "    <path d=\"M0 0h24v24H0V0z\" fill=\"none\"/>\n",
              "    <path d=\"M18.56 5.44l.94 2.06.94-2.06 2.06-.94-2.06-.94-.94-2.06-.94 2.06-2.06.94zm-11 1L8.5 8.5l.94-2.06 2.06-.94-2.06-.94L8.5 2.5l-.94 2.06-2.06.94zm10 10l.94 2.06.94-2.06 2.06-.94-2.06-.94-.94-2.06-.94 2.06-2.06.94z\"/><path d=\"M17.41 7.96l-1.37-1.37c-.4-.4-.92-.59-1.43-.59-.52 0-1.04.2-1.43.59L10.3 9.45l-7.72 7.72c-.78.78-.78 2.05 0 2.83L4 21.41c.39.39.9.59 1.41.59.51 0 1.02-.2 1.41-.59l7.78-7.78 2.81-2.81c.8-.78.8-2.07 0-2.86zM5.41 20L4 18.59l7.72-7.72 1.47 1.35L5.41 20z\"/>\n",
              "  </svg>\n",
              "      </button>\n",
              "      \n",
              "  <style>\n",
              "    .colab-df-container {\n",
              "      display:flex;\n",
              "      flex-wrap:wrap;\n",
              "      gap: 12px;\n",
              "    }\n",
              "\n",
              "    .colab-df-convert {\n",
              "      background-color: #E8F0FE;\n",
              "      border: none;\n",
              "      border-radius: 50%;\n",
              "      cursor: pointer;\n",
              "      display: none;\n",
              "      fill: #1967D2;\n",
              "      height: 32px;\n",
              "      padding: 0 0 0 0;\n",
              "      width: 32px;\n",
              "    }\n",
              "\n",
              "    .colab-df-convert:hover {\n",
              "      background-color: #E2EBFA;\n",
              "      box-shadow: 0px 1px 2px rgba(60, 64, 67, 0.3), 0px 1px 3px 1px rgba(60, 64, 67, 0.15);\n",
              "      fill: #174EA6;\n",
              "    }\n",
              "\n",
              "    [theme=dark] .colab-df-convert {\n",
              "      background-color: #3B4455;\n",
              "      fill: #D2E3FC;\n",
              "    }\n",
              "\n",
              "    [theme=dark] .colab-df-convert:hover {\n",
              "      background-color: #434B5C;\n",
              "      box-shadow: 0px 1px 3px 1px rgba(0, 0, 0, 0.15);\n",
              "      filter: drop-shadow(0px 1px 2px rgba(0, 0, 0, 0.3));\n",
              "      fill: #FFFFFF;\n",
              "    }\n",
              "  </style>\n",
              "\n",
              "      <script>\n",
              "        const buttonEl =\n",
              "          document.querySelector('#df-7ca549e0-dcf9-4041-9155-1053ad1ee1e5 button.colab-df-convert');\n",
              "        buttonEl.style.display =\n",
              "          google.colab.kernel.accessAllowed ? 'block' : 'none';\n",
              "\n",
              "        async function convertToInteractive(key) {\n",
              "          const element = document.querySelector('#df-7ca549e0-dcf9-4041-9155-1053ad1ee1e5');\n",
              "          const dataTable =\n",
              "            await google.colab.kernel.invokeFunction('convertToInteractive',\n",
              "                                                     [key], {});\n",
              "          if (!dataTable) return;\n",
              "\n",
              "          const docLinkHtml = 'Like what you see? Visit the ' +\n",
              "            '<a target=\"_blank\" href=https://colab.research.google.com/notebooks/data_table.ipynb>data table notebook</a>'\n",
              "            + ' to learn more about interactive tables.';\n",
              "          element.innerHTML = '';\n",
              "          dataTable['output_type'] = 'display_data';\n",
              "          await google.colab.output.renderOutput(dataTable, element);\n",
              "          const docLink = document.createElement('div');\n",
              "          docLink.innerHTML = docLinkHtml;\n",
              "          element.appendChild(docLink);\n",
              "        }\n",
              "      </script>\n",
              "    </div>\n",
              "  </div>\n",
              "  "
            ]
          },
          "metadata": {},
          "execution_count": 17
        }
      ]
    },
    {
      "cell_type": "markdown",
      "source": [
        "Обработка статуса"
      ],
      "metadata": {
        "id": "DHztoeNwt2E1"
      }
    },
    {
      "cell_type": "code",
      "source": [
        "df['Статус'] = df.apply(\n",
        "    lambda row: 'Обрезка не требовалась' \n",
        "    if row['Статус'] == 'Не знаю' and \n",
        "    (row['Комментарий'] == 'Обезка не требовалась'\n",
        "    # or row['Комментарий'] == 'Не понятно, какая из открыток должна была быть выведена'\n",
        "     )\n",
        "    else row['Статус'],\n",
        "    axis=1\n",
        ")"
      ],
      "metadata": {
        "id": "vA6xyplit2E1"
      },
      "execution_count": 18,
      "outputs": []
    },
    {
      "cell_type": "code",
      "source": [
        "df['Статус'] = df['Статус'].apply(\n",
        "    lambda x: '0 - Успешно' if x == 'Успешно' \n",
        "    else '1 - Обрезка не требовалась' if x == 'Обрезка не требовалась'\n",
        "    else '2 - Провал' if x == 'Провал'\n",
        "    else '3 - Не знаю' if x == 'Не знаю'\n",
        "    else '4 - Ожидает проверки'\n",
        "    )\n",
        "df['Статус'].value_counts()"
      ],
      "metadata": {
        "colab": {
          "base_uri": "https://localhost:8080/"
        },
        "id": "FBHMvMWWt669",
        "outputId": "42f5810a-05e5-4a85-83ef-49f8e9978f5f"
      },
      "execution_count": 19,
      "outputs": [
        {
          "output_type": "execute_result",
          "data": {
            "text/plain": [
              "4 - Ожидает проверки          8584\n",
              "0 - Успешно                   1147\n",
              "2 - Провал                     747\n",
              "1 - Обрезка не требовалась      41\n",
              "Name: Статус, dtype: int64"
            ]
          },
          "metadata": {},
          "execution_count": 19
        }
      ]
    },
    {
      "cell_type": "markdown",
      "source": [
        "Обработка метода:\n",
        "* rembg - самая аккуратная обрезка (если сработал успешно)\n",
        "* OpenCV - второй \n",
        "* алгоритм - третий"
      ],
      "metadata": {
        "id": "_9r2LmXfvUsv"
      }
    },
    {
      "cell_type": "code",
      "source": [
        "df['crop_method'] = df['crop_method'].apply(\n",
        "    lambda x: '0 - rembg' if x == 2\n",
        "    else '1 - OpenCV' if x == 1\n",
        "    else '2 - алгоритм' if x == 3\n",
        "    else x\n",
        "    )\n",
        "df['crop_method'].value_counts()"
      ],
      "metadata": {
        "colab": {
          "base_uri": "https://localhost:8080/"
        },
        "id": "RsP7vRE_vUSU",
        "outputId": "88452c11-afb7-439d-8357-6b41427aa3fc"
      },
      "execution_count": 20,
      "outputs": [
        {
          "output_type": "execute_result",
          "data": {
            "text/plain": [
              "1 - OpenCV      6061\n",
              "0 - rembg       2229\n",
              "2 - алгоритм    2229\n",
              "Name: crop_method, dtype: int64"
            ]
          },
          "metadata": {},
          "execution_count": 20
        }
      ]
    },
    {
      "cell_type": "markdown",
      "source": [
        "Отбираем лучший результат для каждого скана (открытка: лицевая + оборотная сторона). Приоритет дается статусу и, во вторую очередь, методу обрезки (см. порядок приоритета выше)"
      ],
      "metadata": {
        "id": "uA9x3P-XwObo"
      }
    },
    {
      "cell_type": "code",
      "source": [
        "best_result = df.sort_values(by='crop_method').sort_values(by='Статус').groupby(\n",
        "    ['ID', 'Pic']).first().reset_index()\n",
        "best_result.head()"
      ],
      "metadata": {
        "colab": {
          "base_uri": "https://localhost:8080/",
          "height": 374
        },
        "id": "I2tyThFMuTZf",
        "outputId": "2a477787-fa37-4a2f-8f07-92ff6e02ada7"
      },
      "execution_count": 52,
      "outputs": [
        {
          "output_type": "execute_result",
          "data": {
            "text/plain": [
              "     ID  Pic  base crop_method       Статус Комментарий Исходный файл  \\\n",
              "0   952    1     1   0 - rembg  0 - Успешно        None     952-1.jpg   \n",
              "1   952    2     1  1 - OpenCV   2 - Провал        None     952-2.jpg   \n",
              "2   966    1     1  1 - OpenCV  0 - Успешно        None     966-1.jpg   \n",
              "3  1024    1     1  1 - OpenCV   2 - Провал        None    1024-1.jpg   \n",
              "4  1024    2     1  1 - OpenCV   2 - Провал        None    1024-2.jpg   \n",
              "\n",
              "    Результат файл                                           orig_url  \\\n",
              "0   952-1-crop.jpg  https://drive.google.com/file/d/18eaZWWYoVCDRp...   \n",
              "1   952-2-crop.jpg  https://drive.google.com/file/d/1xvRweyDXAgBrR...   \n",
              "2   966-1-crop.jpg  https://drive.google.com/file/d/1K3OGHzPrRrXGK...   \n",
              "3  1024-1-crop.jpg  https://drive.google.com/file/d/1nEdXKp9xzP69M...   \n",
              "4  1024-2-crop.jpg  https://drive.google.com/file/d/11j2grWVDH75-y...   \n",
              "\n",
              "                                            crop_url  \n",
              "0  https://drive.google.com/file/d/1qe0dBJqGsp_K1...  \n",
              "1  https://drive.google.com/file/d/1fqsIlzHGfE0_F...  \n",
              "2  https://drive.google.com/file/d/1bSheoBv5eRFy6...  \n",
              "3  https://drive.google.com/file/d/1kxGnC7x2E24bD...  \n",
              "4  https://drive.google.com/file/d/1HZNWSAtgwVZ6b...  "
            ],
            "text/html": [
              "\n",
              "  <div id=\"df-c6184dd9-acb1-4d4b-8f3b-b2fcfa90a538\">\n",
              "    <div class=\"colab-df-container\">\n",
              "      <div>\n",
              "<style scoped>\n",
              "    .dataframe tbody tr th:only-of-type {\n",
              "        vertical-align: middle;\n",
              "    }\n",
              "\n",
              "    .dataframe tbody tr th {\n",
              "        vertical-align: top;\n",
              "    }\n",
              "\n",
              "    .dataframe thead th {\n",
              "        text-align: right;\n",
              "    }\n",
              "</style>\n",
              "<table border=\"1\" class=\"dataframe\">\n",
              "  <thead>\n",
              "    <tr style=\"text-align: right;\">\n",
              "      <th></th>\n",
              "      <th>ID</th>\n",
              "      <th>Pic</th>\n",
              "      <th>base</th>\n",
              "      <th>crop_method</th>\n",
              "      <th>Статус</th>\n",
              "      <th>Комментарий</th>\n",
              "      <th>Исходный файл</th>\n",
              "      <th>Результат файл</th>\n",
              "      <th>orig_url</th>\n",
              "      <th>crop_url</th>\n",
              "    </tr>\n",
              "  </thead>\n",
              "  <tbody>\n",
              "    <tr>\n",
              "      <th>0</th>\n",
              "      <td>952</td>\n",
              "      <td>1</td>\n",
              "      <td>1</td>\n",
              "      <td>0 - rembg</td>\n",
              "      <td>0 - Успешно</td>\n",
              "      <td>None</td>\n",
              "      <td>952-1.jpg</td>\n",
              "      <td>952-1-crop.jpg</td>\n",
              "      <td>https://drive.google.com/file/d/18eaZWWYoVCDRp...</td>\n",
              "      <td>https://drive.google.com/file/d/1qe0dBJqGsp_K1...</td>\n",
              "    </tr>\n",
              "    <tr>\n",
              "      <th>1</th>\n",
              "      <td>952</td>\n",
              "      <td>2</td>\n",
              "      <td>1</td>\n",
              "      <td>1 - OpenCV</td>\n",
              "      <td>2 - Провал</td>\n",
              "      <td>None</td>\n",
              "      <td>952-2.jpg</td>\n",
              "      <td>952-2-crop.jpg</td>\n",
              "      <td>https://drive.google.com/file/d/1xvRweyDXAgBrR...</td>\n",
              "      <td>https://drive.google.com/file/d/1fqsIlzHGfE0_F...</td>\n",
              "    </tr>\n",
              "    <tr>\n",
              "      <th>2</th>\n",
              "      <td>966</td>\n",
              "      <td>1</td>\n",
              "      <td>1</td>\n",
              "      <td>1 - OpenCV</td>\n",
              "      <td>0 - Успешно</td>\n",
              "      <td>None</td>\n",
              "      <td>966-1.jpg</td>\n",
              "      <td>966-1-crop.jpg</td>\n",
              "      <td>https://drive.google.com/file/d/1K3OGHzPrRrXGK...</td>\n",
              "      <td>https://drive.google.com/file/d/1bSheoBv5eRFy6...</td>\n",
              "    </tr>\n",
              "    <tr>\n",
              "      <th>3</th>\n",
              "      <td>1024</td>\n",
              "      <td>1</td>\n",
              "      <td>1</td>\n",
              "      <td>1 - OpenCV</td>\n",
              "      <td>2 - Провал</td>\n",
              "      <td>None</td>\n",
              "      <td>1024-1.jpg</td>\n",
              "      <td>1024-1-crop.jpg</td>\n",
              "      <td>https://drive.google.com/file/d/1nEdXKp9xzP69M...</td>\n",
              "      <td>https://drive.google.com/file/d/1kxGnC7x2E24bD...</td>\n",
              "    </tr>\n",
              "    <tr>\n",
              "      <th>4</th>\n",
              "      <td>1024</td>\n",
              "      <td>2</td>\n",
              "      <td>1</td>\n",
              "      <td>1 - OpenCV</td>\n",
              "      <td>2 - Провал</td>\n",
              "      <td>None</td>\n",
              "      <td>1024-2.jpg</td>\n",
              "      <td>1024-2-crop.jpg</td>\n",
              "      <td>https://drive.google.com/file/d/11j2grWVDH75-y...</td>\n",
              "      <td>https://drive.google.com/file/d/1HZNWSAtgwVZ6b...</td>\n",
              "    </tr>\n",
              "  </tbody>\n",
              "</table>\n",
              "</div>\n",
              "      <button class=\"colab-df-convert\" onclick=\"convertToInteractive('df-c6184dd9-acb1-4d4b-8f3b-b2fcfa90a538')\"\n",
              "              title=\"Convert this dataframe to an interactive table.\"\n",
              "              style=\"display:none;\">\n",
              "        \n",
              "  <svg xmlns=\"http://www.w3.org/2000/svg\" height=\"24px\"viewBox=\"0 0 24 24\"\n",
              "       width=\"24px\">\n",
              "    <path d=\"M0 0h24v24H0V0z\" fill=\"none\"/>\n",
              "    <path d=\"M18.56 5.44l.94 2.06.94-2.06 2.06-.94-2.06-.94-.94-2.06-.94 2.06-2.06.94zm-11 1L8.5 8.5l.94-2.06 2.06-.94-2.06-.94L8.5 2.5l-.94 2.06-2.06.94zm10 10l.94 2.06.94-2.06 2.06-.94-2.06-.94-.94-2.06-.94 2.06-2.06.94z\"/><path d=\"M17.41 7.96l-1.37-1.37c-.4-.4-.92-.59-1.43-.59-.52 0-1.04.2-1.43.59L10.3 9.45l-7.72 7.72c-.78.78-.78 2.05 0 2.83L4 21.41c.39.39.9.59 1.41.59.51 0 1.02-.2 1.41-.59l7.78-7.78 2.81-2.81c.8-.78.8-2.07 0-2.86zM5.41 20L4 18.59l7.72-7.72 1.47 1.35L5.41 20z\"/>\n",
              "  </svg>\n",
              "      </button>\n",
              "      \n",
              "  <style>\n",
              "    .colab-df-container {\n",
              "      display:flex;\n",
              "      flex-wrap:wrap;\n",
              "      gap: 12px;\n",
              "    }\n",
              "\n",
              "    .colab-df-convert {\n",
              "      background-color: #E8F0FE;\n",
              "      border: none;\n",
              "      border-radius: 50%;\n",
              "      cursor: pointer;\n",
              "      display: none;\n",
              "      fill: #1967D2;\n",
              "      height: 32px;\n",
              "      padding: 0 0 0 0;\n",
              "      width: 32px;\n",
              "    }\n",
              "\n",
              "    .colab-df-convert:hover {\n",
              "      background-color: #E2EBFA;\n",
              "      box-shadow: 0px 1px 2px rgba(60, 64, 67, 0.3), 0px 1px 3px 1px rgba(60, 64, 67, 0.15);\n",
              "      fill: #174EA6;\n",
              "    }\n",
              "\n",
              "    [theme=dark] .colab-df-convert {\n",
              "      background-color: #3B4455;\n",
              "      fill: #D2E3FC;\n",
              "    }\n",
              "\n",
              "    [theme=dark] .colab-df-convert:hover {\n",
              "      background-color: #434B5C;\n",
              "      box-shadow: 0px 1px 3px 1px rgba(0, 0, 0, 0.15);\n",
              "      filter: drop-shadow(0px 1px 2px rgba(0, 0, 0, 0.3));\n",
              "      fill: #FFFFFF;\n",
              "    }\n",
              "  </style>\n",
              "\n",
              "      <script>\n",
              "        const buttonEl =\n",
              "          document.querySelector('#df-c6184dd9-acb1-4d4b-8f3b-b2fcfa90a538 button.colab-df-convert');\n",
              "        buttonEl.style.display =\n",
              "          google.colab.kernel.accessAllowed ? 'block' : 'none';\n",
              "\n",
              "        async function convertToInteractive(key) {\n",
              "          const element = document.querySelector('#df-c6184dd9-acb1-4d4b-8f3b-b2fcfa90a538');\n",
              "          const dataTable =\n",
              "            await google.colab.kernel.invokeFunction('convertToInteractive',\n",
              "                                                     [key], {});\n",
              "          if (!dataTable) return;\n",
              "\n",
              "          const docLinkHtml = 'Like what you see? Visit the ' +\n",
              "            '<a target=\"_blank\" href=https://colab.research.google.com/notebooks/data_table.ipynb>data table notebook</a>'\n",
              "            + ' to learn more about interactive tables.';\n",
              "          element.innerHTML = '';\n",
              "          dataTable['output_type'] = 'display_data';\n",
              "          await google.colab.output.renderOutput(dataTable, element);\n",
              "          const docLink = document.createElement('div');\n",
              "          docLink.innerHTML = docLinkHtml;\n",
              "          element.appendChild(docLink);\n",
              "        }\n",
              "      </script>\n",
              "    </div>\n",
              "  </div>\n",
              "  "
            ]
          },
          "metadata": {},
          "execution_count": 52
        }
      ]
    },
    {
      "cell_type": "code",
      "source": [
        "best_result.shape"
      ],
      "metadata": {
        "colab": {
          "base_uri": "https://localhost:8080/"
        },
        "id": "VmB8cSUywMzg",
        "outputId": "31860279-071f-438d-9f4b-7a02f74fc30a"
      },
      "execution_count": 53,
      "outputs": [
        {
          "output_type": "execute_result",
          "data": {
            "text/plain": [
              "(6061, 10)"
            ]
          },
          "metadata": {},
          "execution_count": 53
        }
      ]
    },
    {
      "cell_type": "markdown",
      "source": [
        "Отбираем сканы, у которых лучшим статусом оказался \"Успешно\" или \"Обрезка не требовалась\". Они готовы к заливке"
      ],
      "metadata": {
        "id": "BsZPX_S3wjwJ"
      }
    },
    {
      "cell_type": "code",
      "source": [
        "upload_ready = best_result[best_result['Статус'].isin(['0 - Успешно', '1 - Обрезка не требовалась'])]\n",
        "upload_ready.shape"
      ],
      "metadata": {
        "colab": {
          "base_uri": "https://localhost:8080/"
        },
        "id": "gLVW0ZV1wrPc",
        "outputId": "aa8b422a-a9f6-4bfe-e240-135a2639077d"
      },
      "execution_count": 54,
      "outputs": [
        {
          "output_type": "execute_result",
          "data": {
            "text/plain": [
              "(1187, 10)"
            ]
          },
          "metadata": {},
          "execution_count": 54
        }
      ]
    },
    {
      "cell_type": "code",
      "source": [
        "upload_ready['crop_method'].value_counts()"
      ],
      "metadata": {
        "colab": {
          "base_uri": "https://localhost:8080/"
        },
        "id": "_5UJUG0erC6E",
        "outputId": "a7d438b1-ff08-4f43-c1cd-0940afa2ef7d"
      },
      "execution_count": 55,
      "outputs": [
        {
          "output_type": "execute_result",
          "data": {
            "text/plain": [
              "2 - алгоритм    732\n",
              "1 - OpenCV      291\n",
              "0 - rembg       164\n",
              "Name: crop_method, dtype: int64"
            ]
          },
          "metadata": {},
          "execution_count": 55
        }
      ]
    },
    {
      "cell_type": "code",
      "source": [
        "upload_ready['base'].value_counts()"
      ],
      "metadata": {
        "colab": {
          "base_uri": "https://localhost:8080/"
        },
        "id": "gShgncjIwxXg",
        "outputId": "a8b78b5c-06b7-4c4f-9bcc-ca5fec06f10b"
      },
      "execution_count": 56,
      "outputs": [
        {
          "output_type": "execute_result",
          "data": {
            "text/plain": [
              "3    739\n",
              "1    246\n",
              "2    202\n",
              "Name: base, dtype: int64"
            ]
          },
          "metadata": {},
          "execution_count": 56
        }
      ]
    },
    {
      "cell_type": "markdown",
      "source": [
        "# Rembg - обрезка прозрачных полей"
      ],
      "metadata": {
        "id": "huo22UUn0N2X"
      }
    },
    {
      "cell_type": "code",
      "source": [
        "with pd.option_context('display.max_colwidth', None):\n",
        "    display(upload_ready[(upload_ready['Статус'] == '0 - Успешно') & \n",
        "                         (upload_ready['crop_method'] == '0 - rembg')])"
      ],
      "metadata": {
        "id": "5HpPD5zt0R_M"
      },
      "execution_count": null,
      "outputs": []
    },
    {
      "cell_type": "code",
      "source": [
        "import cv2\n",
        "from google.colab.patches import cv2_imshow"
      ],
      "metadata": {
        "id": "ew6m42Yn0vh8"
      },
      "execution_count": 65,
      "outputs": []
    },
    {
      "cell_type": "code",
      "source": [
        "img = cv2.imread('/content/drive/MyDrive/Системный Блок/пишу тебе/обрезка/pictures/База 2/rembg/2316-2-crop.jpg')\n",
        "cv2_imshow(img)"
      ],
      "metadata": {
        "id": "u1jA2iYV1G2R"
      },
      "execution_count": null,
      "outputs": []
    },
    {
      "cell_type": "code",
      "source": [
        "img.shape"
      ],
      "metadata": {
        "colab": {
          "base_uri": "https://localhost:8080/"
        },
        "id": "UufW2L-i1Z8O",
        "outputId": "2c83823a-5efa-4ac6-c35f-1e96531a362f"
      },
      "execution_count": 229,
      "outputs": [
        {
          "output_type": "execute_result",
          "data": {
            "text/plain": [
              "(768, 1024, 3)"
            ]
          },
          "metadata": {},
          "execution_count": 229
        }
      ]
    },
    {
      "cell_type": "code",
      "source": [
        "def after_crop_rembg(img, color_threshold=5000, margin_gap=5):\n",
        "  upper_bound = 0\n",
        "  while True:\n",
        "    if img[upper_bound, :, 0].sum() > color_threshold or \\\n",
        "    img[upper_bound, :, 1].sum() > color_threshold or \\\n",
        "    img[upper_bound, :, 2].sum() > color_threshold:\n",
        "      # print(upper_bound)\n",
        "      break\n",
        "    else:\n",
        "      upper_bound += 1\n",
        "  upper_bound = max(0, upper_bound - margin_gap)\n",
        "\n",
        "  lower_bound = img.shape[0] - 1\n",
        "  while True:\n",
        "    if img[lower_bound, :, 0].sum() > color_threshold or \\\n",
        "    img[lower_bound, :, 1].sum() > color_threshold or \\\n",
        "    img[lower_bound, :, 2].sum() > color_threshold:\n",
        "      # print(lower_bound)\n",
        "      break\n",
        "    else:\n",
        "      lower_bound -= 1\n",
        "  lower_bound = min(img.shape[0] - 1, lower_bound + margin_gap)\n",
        "\n",
        "  left_bound = 0\n",
        "  while True:\n",
        "    if img[:, left_bound, 0].sum() > color_threshold or \\\n",
        "    img[:, left_bound, 1].sum() > color_threshold or \\\n",
        "    img[:, left_bound, 2].sum() > color_threshold:\n",
        "      # print(left_bound)\n",
        "      break\n",
        "    else:\n",
        "      left_bound += 1\n",
        "  left_bound = max(0, left_bound - margin_gap)\n",
        "\n",
        "  right_bound = img.shape[1] - 1\n",
        "  while True:\n",
        "    if img[:, right_bound, 0].sum() > color_threshold or \\\n",
        "    img[:, right_bound, 1].sum() > color_threshold or \\\n",
        "    img[:, right_bound, 2].sum() > color_threshold:\n",
        "      # print(right_bound)\n",
        "      break\n",
        "    else:\n",
        "      right_bound -= 1\n",
        "  right_bound = min(img.shape[1] - 1, right_bound + margin_gap)\n",
        "\n",
        "  img = img[upper_bound : lower_bound, left_bound : right_bound, :]\n",
        "  return img"
      ],
      "metadata": {
        "id": "VgmETdFvDSXI"
      },
      "execution_count": 59,
      "outputs": []
    },
    {
      "cell_type": "code",
      "source": [
        "img.shape"
      ],
      "metadata": {
        "colab": {
          "base_uri": "https://localhost:8080/"
        },
        "id": "ehPVlsBpTp96",
        "outputId": "d820da4f-86b2-4b23-9d05-61b005e0bbc5"
      },
      "execution_count": 226,
      "outputs": [
        {
          "output_type": "execute_result",
          "data": {
            "text/plain": [
              "(726, 940, 3)"
            ]
          },
          "metadata": {},
          "execution_count": 226
        }
      ]
    },
    {
      "cell_type": "code",
      "source": [
        "img[:, img.shape[1] - 1, 2].sum()"
      ],
      "metadata": {
        "colab": {
          "base_uri": "https://localhost:8080/"
        },
        "id": "30HMJLu7TsQs",
        "outputId": "8c293980-981b-478a-f22a-a7f5a6b28465"
      },
      "execution_count": 262,
      "outputs": [
        {
          "output_type": "execute_result",
          "data": {
            "text/plain": [
              "21028"
            ]
          },
          "metadata": {},
          "execution_count": 262
        }
      ]
    },
    {
      "cell_type": "code",
      "source": [
        "img = after_crop_rembg(img)\n",
        "cv2_imshow(img)"
      ],
      "metadata": {
        "colab": {
          "base_uri": "https://localhost:8080/",
          "height": 769
        },
        "id": "TlBP1A_XEUq9",
        "outputId": "a8209e2e-62b6-4b2c-d1d3-1cd468aad73b"
      },
      "execution_count": 269,
      "outputs": [
        {
          "output_type": "display_data",
          "data": {
            "text/plain": [
              "<PIL.Image.Image image mode=RGB size=491x752 at 0x7F7B95521B20>"
            ],
            "image/png": "[encoded data removed]"
          },
          "metadata": {}
        }
      ]
    },
    {
      "cell_type": "code",
      "source": [
        "upper_bound = 0\n",
        "img[upper_bound, :, 0].any()"
      ],
      "metadata": {
        "colab": {
          "base_uri": "https://localhost:8080/"
        },
        "id": "cy-mW-axDw08",
        "outputId": "894a3e0d-b2a3-40ce-f8ae-64027d81a2d1"
      },
      "execution_count": 153,
      "outputs": [
        {
          "output_type": "execute_result",
          "data": {
            "text/plain": [
              "False"
            ]
          },
          "metadata": {},
          "execution_count": 153
        }
      ]
    },
    {
      "cell_type": "code",
      "source": [
        "base_dir = '/content/drive/MyDrive/Системный Блок/пишу тебе/обрезка/pictures'"
      ],
      "metadata": {
        "id": "IOHyvtm0HBw6"
      },
      "execution_count": 60,
      "outputs": []
    },
    {
      "cell_type": "code",
      "source": [
        "import numpy as np\n",
        "from tqdm import tqdm"
      ],
      "metadata": {
        "id": "zoHdvwWuJbTq"
      },
      "execution_count": 62,
      "outputs": []
    },
    {
      "cell_type": "code",
      "source": [
        "upload_ready['rembg_after_crop'] = np.nan"
      ],
      "metadata": {
        "id": "GpRy4tG5JVwa"
      },
      "execution_count": null,
      "outputs": []
    },
    {
      "cell_type": "code",
      "source": [
        "for ind, row in tqdm(upload_ready.iterrows(), total=upload_ready.shape[0]):\n",
        "  if row['crop_method'] == '0 - rembg':\n",
        "    crop_path = f\"{base_dir}/База {row['base']}/crop-rembg/{row['Результат файл']}\"\n",
        "    # print(crop_path)\n",
        "    img = cv2.imread(crop_path)\n",
        "    img = after_crop_rembg(img)\n",
        "    after_crop_path = f\"{base_dir}/rembg-after-crop/{row['ID']}-{row['Pic']}-rembg-after-crop.jpg\"\n",
        "    # print(after_crop_path)\n",
        "    cv2.imwrite(after_crop_path, img)\n",
        "    upload_ready.loc[ind, 'rembg_after_crop'] = f\"{row['ID']}-{row['Pic']}-rembg-after-crop.jpg\"\n",
        "    # break"
      ],
      "metadata": {
        "colab": {
          "base_uri": "https://localhost:8080/"
        },
        "id": "EHjgKk2KHI1B",
        "outputId": "2c05849b-d83d-4590-c3fd-406dd573ac17"
      },
      "execution_count": 67,
      "outputs": [
        {
          "output_type": "stream",
          "name": "stderr",
          "text": [
            "100%|██████████| 1187/1187 [03:24<00:00,  5.81it/s]\n"
          ]
        }
      ]
    },
    {
      "cell_type": "code",
      "source": [
        "upload_ready.to_csv('/content/drive/MyDrive/Системный Блок/пишу тебе/обрезка/upload_ready_iter_1.csv')"
      ],
      "metadata": {
        "id": "3CK0GtBgufV_"
      },
      "execution_count": 68,
      "outputs": []
    },
    {
      "cell_type": "markdown",
      "source": [
        "# Анализ результатов обрезки"
      ],
      "metadata": {
        "id": "XWNWcmvp93Fe"
      }
    },
    {
      "cell_type": "markdown",
      "source": [
        "## Автоматическая валидация обрезки OpenCV"
      ],
      "metadata": {
        "id": "xcDeUI__96mc"
      }
    },
    {
      "cell_type": "markdown",
      "source": [
        "Восстановим, какие сканы были успешно обрезаны OpenCV в соответствии с автоматической проверкой результата"
      ],
      "metadata": {
        "id": "z-bY3Lth-GK9"
      }
    },
    {
      "cell_type": "code",
      "execution_count": 3,
      "metadata": {
        "id": "_Ey40uaR-GK9"
      },
      "outputs": [],
      "source": [
        "xls = pd.ExcelFile('/content/Обрезка открыток метаинформация.xlsx')"
      ]
    },
    {
      "cell_type": "code",
      "source": [
        "xls.sheet_names"
      ],
      "metadata": {
        "colab": {
          "base_uri": "https://localhost:8080/"
        },
        "id": "YMX03Rdu-Wgt",
        "outputId": "27197903-f7ec-433d-90b0-e5fd366992b1"
      },
      "execution_count": 5,
      "outputs": [
        {
          "output_type": "execute_result",
          "data": {
            "text/plain": [
              "['База 1 cut-success',\n",
              " 'База 1 cut-fail',\n",
              " 'База 2 cut-success',\n",
              " 'База 2 cut-fail',\n",
              " 'База 3 cut-success',\n",
              " 'База 3 cut-fail']"
            ]
          },
          "metadata": {},
          "execution_count": 5
        }
      ]
    },
    {
      "cell_type": "code",
      "source": [
        "base_1_opencv_success = pd.read_excel(xls, 'База 1 cut-success')\n",
        "base_1_opencv_success['base'] = 1\n",
        "base_1_opencv_success['opencv_status_auto'] = 'success'\n",
        "\n",
        "base_1_opencv_fail = pd.read_excel(xls, 'База 1 cut-fail')\n",
        "base_1_opencv_fail['base'] = 1\n",
        "base_1_opencv_fail['opencv_status_auto'] = 'fail'\n",
        "\n",
        "base_2_opencv_success = pd.read_excel(xls, 'База 2 cut-success')\n",
        "base_2_opencv_success['base'] = 2\n",
        "base_2_opencv_success['ID'] = base_2_opencv_success['ID'] + 100000\n",
        "base_2_opencv_success['opencv_status_auto'] = 'success'\n",
        "\n",
        "base_2_opencv_fail = pd.read_excel(xls, 'База 2 cut-fail')\n",
        "base_2_opencv_fail['base'] = 2\n",
        "base_2_opencv_fail['ID'] = base_2_opencv_fail['ID'] + 100000\n",
        "base_2_opencv_fail['opencv_status_auto'] = 'fail'\n",
        "\n",
        "base_3_opencv_success = pd.read_excel(xls, 'База 3 cut-success')\n",
        "base_3_opencv_success['base'] = 3\n",
        "base_3_opencv_success['ID'] = base_3_opencv_success['ID'] + 200000\n",
        "base_3_opencv_success['opencv_status_auto'] = 'success'\n",
        "\n",
        "base_3_opencv_fail = pd.read_excel(xls, 'База 3 cut-fail')\n",
        "base_3_opencv_fail['base'] = 3\n",
        "base_3_opencv_fail['ID'] = base_3_opencv_fail['ID'] + 200000\n",
        "base_3_opencv_fail['opencv_status_auto'] = 'fail'\n",
        "\n",
        "opencv_status_auto_df = pd.concat([\n",
        "    base_1_opencv_success[['ID', 'Pic', 'base', 'opencv_status_auto']],\n",
        "    base_1_opencv_fail[['ID', 'Pic', 'base', 'opencv_status_auto']],\n",
        "    base_2_opencv_success[['ID', 'Pic', 'base', 'opencv_status_auto']],\n",
        "    base_2_opencv_fail[['ID', 'Pic', 'base', 'opencv_status_auto']],\n",
        "    base_3_opencv_success[['ID', 'Pic', 'base', 'opencv_status_auto']],\n",
        "    base_3_opencv_fail[['ID', 'Pic', 'base', 'opencv_status_auto']],\n",
        "])\n",
        "opencv_status_auto_df.head()"
      ],
      "metadata": {
        "colab": {
          "base_uri": "https://localhost:8080/",
          "height": 206
        },
        "outputId": "074e4063-eb1d-4511-a1c1-eaa106eca5d1",
        "id": "868xIgAl-GK9"
      },
      "execution_count": 7,
      "outputs": [
        {
          "output_type": "execute_result",
          "data": {
            "text/plain": [
              "     ID  Pic  base opencv_status_auto\n",
              "0   966    1     1            success\n",
              "1  1649    1     1            success\n",
              "2  2102    2     1            success\n",
              "3  2150    1     1            success\n",
              "4  2150    2     1            success"
            ],
            "text/html": [
              "\n",
              "  <div id=\"df-7e2c3941-cd9c-49d7-bf7c-7699f4874b9d\">\n",
              "    <div class=\"colab-df-container\">\n",
              "      <div>\n",
              "<style scoped>\n",
              "    .dataframe tbody tr th:only-of-type {\n",
              "        vertical-align: middle;\n",
              "    }\n",
              "\n",
              "    .dataframe tbody tr th {\n",
              "        vertical-align: top;\n",
              "    }\n",
              "\n",
              "    .dataframe thead th {\n",
              "        text-align: right;\n",
              "    }\n",
              "</style>\n",
              "<table border=\"1\" class=\"dataframe\">\n",
              "  <thead>\n",
              "    <tr style=\"text-align: right;\">\n",
              "      <th></th>\n",
              "      <th>ID</th>\n",
              "      <th>Pic</th>\n",
              "      <th>base</th>\n",
              "      <th>opencv_status_auto</th>\n",
              "    </tr>\n",
              "  </thead>\n",
              "  <tbody>\n",
              "    <tr>\n",
              "      <th>0</th>\n",
              "      <td>966</td>\n",
              "      <td>1</td>\n",
              "      <td>1</td>\n",
              "      <td>success</td>\n",
              "    </tr>\n",
              "    <tr>\n",
              "      <th>1</th>\n",
              "      <td>1649</td>\n",
              "      <td>1</td>\n",
              "      <td>1</td>\n",
              "      <td>success</td>\n",
              "    </tr>\n",
              "    <tr>\n",
              "      <th>2</th>\n",
              "      <td>2102</td>\n",
              "      <td>2</td>\n",
              "      <td>1</td>\n",
              "      <td>success</td>\n",
              "    </tr>\n",
              "    <tr>\n",
              "      <th>3</th>\n",
              "      <td>2150</td>\n",
              "      <td>1</td>\n",
              "      <td>1</td>\n",
              "      <td>success</td>\n",
              "    </tr>\n",
              "    <tr>\n",
              "      <th>4</th>\n",
              "      <td>2150</td>\n",
              "      <td>2</td>\n",
              "      <td>1</td>\n",
              "      <td>success</td>\n",
              "    </tr>\n",
              "  </tbody>\n",
              "</table>\n",
              "</div>\n",
              "      <button class=\"colab-df-convert\" onclick=\"convertToInteractive('df-7e2c3941-cd9c-49d7-bf7c-7699f4874b9d')\"\n",
              "              title=\"Convert this dataframe to an interactive table.\"\n",
              "              style=\"display:none;\">\n",
              "        \n",
              "  <svg xmlns=\"http://www.w3.org/2000/svg\" height=\"24px\"viewBox=\"0 0 24 24\"\n",
              "       width=\"24px\">\n",
              "    <path d=\"M0 0h24v24H0V0z\" fill=\"none\"/>\n",
              "    <path d=\"M18.56 5.44l.94 2.06.94-2.06 2.06-.94-2.06-.94-.94-2.06-.94 2.06-2.06.94zm-11 1L8.5 8.5l.94-2.06 2.06-.94-2.06-.94L8.5 2.5l-.94 2.06-2.06.94zm10 10l.94 2.06.94-2.06 2.06-.94-2.06-.94-.94-2.06-.94 2.06-2.06.94z\"/><path d=\"M17.41 7.96l-1.37-1.37c-.4-.4-.92-.59-1.43-.59-.52 0-1.04.2-1.43.59L10.3 9.45l-7.72 7.72c-.78.78-.78 2.05 0 2.83L4 21.41c.39.39.9.59 1.41.59.51 0 1.02-.2 1.41-.59l7.78-7.78 2.81-2.81c.8-.78.8-2.07 0-2.86zM5.41 20L4 18.59l7.72-7.72 1.47 1.35L5.41 20z\"/>\n",
              "  </svg>\n",
              "      </button>\n",
              "      \n",
              "  <style>\n",
              "    .colab-df-container {\n",
              "      display:flex;\n",
              "      flex-wrap:wrap;\n",
              "      gap: 12px;\n",
              "    }\n",
              "\n",
              "    .colab-df-convert {\n",
              "      background-color: #E8F0FE;\n",
              "      border: none;\n",
              "      border-radius: 50%;\n",
              "      cursor: pointer;\n",
              "      display: none;\n",
              "      fill: #1967D2;\n",
              "      height: 32px;\n",
              "      padding: 0 0 0 0;\n",
              "      width: 32px;\n",
              "    }\n",
              "\n",
              "    .colab-df-convert:hover {\n",
              "      background-color: #E2EBFA;\n",
              "      box-shadow: 0px 1px 2px rgba(60, 64, 67, 0.3), 0px 1px 3px 1px rgba(60, 64, 67, 0.15);\n",
              "      fill: #174EA6;\n",
              "    }\n",
              "\n",
              "    [theme=dark] .colab-df-convert {\n",
              "      background-color: #3B4455;\n",
              "      fill: #D2E3FC;\n",
              "    }\n",
              "\n",
              "    [theme=dark] .colab-df-convert:hover {\n",
              "      background-color: #434B5C;\n",
              "      box-shadow: 0px 1px 3px 1px rgba(0, 0, 0, 0.15);\n",
              "      filter: drop-shadow(0px 1px 2px rgba(0, 0, 0, 0.3));\n",
              "      fill: #FFFFFF;\n",
              "    }\n",
              "  </style>\n",
              "\n",
              "      <script>\n",
              "        const buttonEl =\n",
              "          document.querySelector('#df-7e2c3941-cd9c-49d7-bf7c-7699f4874b9d button.colab-df-convert');\n",
              "        buttonEl.style.display =\n",
              "          google.colab.kernel.accessAllowed ? 'block' : 'none';\n",
              "\n",
              "        async function convertToInteractive(key) {\n",
              "          const element = document.querySelector('#df-7e2c3941-cd9c-49d7-bf7c-7699f4874b9d');\n",
              "          const dataTable =\n",
              "            await google.colab.kernel.invokeFunction('convertToInteractive',\n",
              "                                                     [key], {});\n",
              "          if (!dataTable) return;\n",
              "\n",
              "          const docLinkHtml = 'Like what you see? Visit the ' +\n",
              "            '<a target=\"_blank\" href=https://colab.research.google.com/notebooks/data_table.ipynb>data table notebook</a>'\n",
              "            + ' to learn more about interactive tables.';\n",
              "          element.innerHTML = '';\n",
              "          dataTable['output_type'] = 'display_data';\n",
              "          await google.colab.output.renderOutput(dataTable, element);\n",
              "          const docLink = document.createElement('div');\n",
              "          docLink.innerHTML = docLinkHtml;\n",
              "          element.appendChild(docLink);\n",
              "        }\n",
              "      </script>\n",
              "    </div>\n",
              "  </div>\n",
              "  "
            ]
          },
          "metadata": {},
          "execution_count": 7
        }
      ]
    },
    {
      "cell_type": "markdown",
      "source": [
        "Статистика: на 6061 примере 63% автоматически классифицированы как успешная обрезка и 37% - как провальная"
      ],
      "metadata": {
        "id": "K_AnlzyyAQbm"
      }
    },
    {
      "cell_type": "code",
      "source": [
        "opencv_status_auto_df.shape"
      ],
      "metadata": {
        "colab": {
          "base_uri": "https://localhost:8080/"
        },
        "id": "c49fwKYxAHbe",
        "outputId": "03217101-7d3a-49c6-dadd-f2a35b0f094d"
      },
      "execution_count": 10,
      "outputs": [
        {
          "output_type": "execute_result",
          "data": {
            "text/plain": [
              "(6061, 4)"
            ]
          },
          "metadata": {},
          "execution_count": 10
        }
      ]
    },
    {
      "cell_type": "code",
      "source": [
        "opencv_status_auto_df['opencv_status_auto'].value_counts(normalize=True)"
      ],
      "metadata": {
        "colab": {
          "base_uri": "https://localhost:8080/"
        },
        "id": "w60gOVfT9-yk",
        "outputId": "add01368-8f3d-4ae9-a6e7-2d654bf8244a"
      },
      "execution_count": 9,
      "outputs": [
        {
          "output_type": "execute_result",
          "data": {
            "text/plain": [
              "success    0.632239\n",
              "fail       0.367761\n",
              "Name: opencv_status_auto, dtype: float64"
            ]
          },
          "metadata": {},
          "execution_count": 9
        }
      ]
    },
    {
      "cell_type": "markdown",
      "source": [
        "## OpenCV-success - ручная валидация\n",
        "Сколько из этих 63% действительно были обрезаны удачно?"
      ],
      "metadata": {
        "id": "nFyXXfH3AdRo"
      }
    },
    {
      "cell_type": "markdown",
      "source": [
        "Соединяем таблицу с автоматическими статусами и таблицу с ручной разметкой"
      ],
      "metadata": {
        "id": "mjx0sC4SBwpz"
      }
    },
    {
      "cell_type": "code",
      "source": [
        "df = df.merge(opencv_status_auto_df, on=['ID', 'Pic', 'base'], how='left')\n",
        "df.shape"
      ],
      "metadata": {
        "colab": {
          "base_uri": "https://localhost:8080/"
        },
        "outputId": "a114ad33-5eb8-4d06-e655-edb04ae4a7f2",
        "id": "OSy9ZFSTBwp0"
      },
      "execution_count": 21,
      "outputs": [
        {
          "output_type": "execute_result",
          "data": {
            "text/plain": [
              "(10519, 11)"
            ]
          },
          "metadata": {},
          "execution_count": 21
        }
      ]
    },
    {
      "cell_type": "code",
      "source": [
        "df.head()"
      ],
      "metadata": {
        "colab": {
          "base_uri": "https://localhost:8080/",
          "height": 374
        },
        "id": "e90AdyGzAqQR",
        "outputId": "c687a411-843a-4203-aaa1-7616fbcafe5c"
      },
      "execution_count": 22,
      "outputs": [
        {
          "output_type": "execute_result",
          "data": {
            "text/plain": [
              "     ID  base  Pic crop_method       Статус Комментарий Исходный файл  \\\n",
              "0   966     1    1  1 - OpenCV  0 - Успешно         NaN     966-1.jpg   \n",
              "1  1649     1    1  1 - OpenCV  0 - Успешно         NaN    1649-1.jpg   \n",
              "2  2102     1    2  1 - OpenCV  0 - Успешно         NaN    2102-2.jpg   \n",
              "3  2150     1    1  1 - OpenCV   2 - Провал         NaN    2150-1.jpg   \n",
              "4  2150     1    2  1 - OpenCV  0 - Успешно         NaN    2150-2.jpg   \n",
              "\n",
              "    Результат файл                                           orig_url  \\\n",
              "0   966-1-crop.jpg  https://drive.google.com/file/d/1K3OGHzPrRrXGK...   \n",
              "1  1649-1-crop.jpg  https://drive.google.com/file/d/1JytFE-ZFLc-5m...   \n",
              "2  2102-2-crop.jpg  https://drive.google.com/file/d/1Bo376PzwjDIB3...   \n",
              "3  2150-1-crop.jpg  https://drive.google.com/file/d/1RY42_tRcLbfal...   \n",
              "4  2150-2-crop.jpg  https://drive.google.com/file/d/1qHJRb7j5epjCA...   \n",
              "\n",
              "                                            crop_url opencv_status_auto  \n",
              "0  https://drive.google.com/file/d/1bSheoBv5eRFy6...            success  \n",
              "1  https://drive.google.com/file/d/1OP7kN7hi53hyi...            success  \n",
              "2  https://drive.google.com/file/d/1stSTPt9VAH89H...            success  \n",
              "3  https://drive.google.com/file/d/1ISqwH6Ya9l__3...            success  \n",
              "4  https://drive.google.com/file/d/1xQ2nEYMjSm3CH...            success  "
            ],
            "text/html": [
              "\n",
              "  <div id=\"df-9f95bd30-f80c-4b27-abe0-a38328eebdd7\">\n",
              "    <div class=\"colab-df-container\">\n",
              "      <div>\n",
              "<style scoped>\n",
              "    .dataframe tbody tr th:only-of-type {\n",
              "        vertical-align: middle;\n",
              "    }\n",
              "\n",
              "    .dataframe tbody tr th {\n",
              "        vertical-align: top;\n",
              "    }\n",
              "\n",
              "    .dataframe thead th {\n",
              "        text-align: right;\n",
              "    }\n",
              "</style>\n",
              "<table border=\"1\" class=\"dataframe\">\n",
              "  <thead>\n",
              "    <tr style=\"text-align: right;\">\n",
              "      <th></th>\n",
              "      <th>ID</th>\n",
              "      <th>base</th>\n",
              "      <th>Pic</th>\n",
              "      <th>crop_method</th>\n",
              "      <th>Статус</th>\n",
              "      <th>Комментарий</th>\n",
              "      <th>Исходный файл</th>\n",
              "      <th>Результат файл</th>\n",
              "      <th>orig_url</th>\n",
              "      <th>crop_url</th>\n",
              "      <th>opencv_status_auto</th>\n",
              "    </tr>\n",
              "  </thead>\n",
              "  <tbody>\n",
              "    <tr>\n",
              "      <th>0</th>\n",
              "      <td>966</td>\n",
              "      <td>1</td>\n",
              "      <td>1</td>\n",
              "      <td>1 - OpenCV</td>\n",
              "      <td>0 - Успешно</td>\n",
              "      <td>NaN</td>\n",
              "      <td>966-1.jpg</td>\n",
              "      <td>966-1-crop.jpg</td>\n",
              "      <td>https://drive.google.com/file/d/1K3OGHzPrRrXGK...</td>\n",
              "      <td>https://drive.google.com/file/d/1bSheoBv5eRFy6...</td>\n",
              "      <td>success</td>\n",
              "    </tr>\n",
              "    <tr>\n",
              "      <th>1</th>\n",
              "      <td>1649</td>\n",
              "      <td>1</td>\n",
              "      <td>1</td>\n",
              "      <td>1 - OpenCV</td>\n",
              "      <td>0 - Успешно</td>\n",
              "      <td>NaN</td>\n",
              "      <td>1649-1.jpg</td>\n",
              "      <td>1649-1-crop.jpg</td>\n",
              "      <td>https://drive.google.com/file/d/1JytFE-ZFLc-5m...</td>\n",
              "      <td>https://drive.google.com/file/d/1OP7kN7hi53hyi...</td>\n",
              "      <td>success</td>\n",
              "    </tr>\n",
              "    <tr>\n",
              "      <th>2</th>\n",
              "      <td>2102</td>\n",
              "      <td>1</td>\n",
              "      <td>2</td>\n",
              "      <td>1 - OpenCV</td>\n",
              "      <td>0 - Успешно</td>\n",
              "      <td>NaN</td>\n",
              "      <td>2102-2.jpg</td>\n",
              "      <td>2102-2-crop.jpg</td>\n",
              "      <td>https://drive.google.com/file/d/1Bo376PzwjDIB3...</td>\n",
              "      <td>https://drive.google.com/file/d/1stSTPt9VAH89H...</td>\n",
              "      <td>success</td>\n",
              "    </tr>\n",
              "    <tr>\n",
              "      <th>3</th>\n",
              "      <td>2150</td>\n",
              "      <td>1</td>\n",
              "      <td>1</td>\n",
              "      <td>1 - OpenCV</td>\n",
              "      <td>2 - Провал</td>\n",
              "      <td>NaN</td>\n",
              "      <td>2150-1.jpg</td>\n",
              "      <td>2150-1-crop.jpg</td>\n",
              "      <td>https://drive.google.com/file/d/1RY42_tRcLbfal...</td>\n",
              "      <td>https://drive.google.com/file/d/1ISqwH6Ya9l__3...</td>\n",
              "      <td>success</td>\n",
              "    </tr>\n",
              "    <tr>\n",
              "      <th>4</th>\n",
              "      <td>2150</td>\n",
              "      <td>1</td>\n",
              "      <td>2</td>\n",
              "      <td>1 - OpenCV</td>\n",
              "      <td>0 - Успешно</td>\n",
              "      <td>NaN</td>\n",
              "      <td>2150-2.jpg</td>\n",
              "      <td>2150-2-crop.jpg</td>\n",
              "      <td>https://drive.google.com/file/d/1qHJRb7j5epjCA...</td>\n",
              "      <td>https://drive.google.com/file/d/1xQ2nEYMjSm3CH...</td>\n",
              "      <td>success</td>\n",
              "    </tr>\n",
              "  </tbody>\n",
              "</table>\n",
              "</div>\n",
              "      <button class=\"colab-df-convert\" onclick=\"convertToInteractive('df-9f95bd30-f80c-4b27-abe0-a38328eebdd7')\"\n",
              "              title=\"Convert this dataframe to an interactive table.\"\n",
              "              style=\"display:none;\">\n",
              "        \n",
              "  <svg xmlns=\"http://www.w3.org/2000/svg\" height=\"24px\"viewBox=\"0 0 24 24\"\n",
              "       width=\"24px\">\n",
              "    <path d=\"M0 0h24v24H0V0z\" fill=\"none\"/>\n",
              "    <path d=\"M18.56 5.44l.94 2.06.94-2.06 2.06-.94-2.06-.94-.94-2.06-.94 2.06-2.06.94zm-11 1L8.5 8.5l.94-2.06 2.06-.94-2.06-.94L8.5 2.5l-.94 2.06-2.06.94zm10 10l.94 2.06.94-2.06 2.06-.94-2.06-.94-.94-2.06-.94 2.06-2.06.94z\"/><path d=\"M17.41 7.96l-1.37-1.37c-.4-.4-.92-.59-1.43-.59-.52 0-1.04.2-1.43.59L10.3 9.45l-7.72 7.72c-.78.78-.78 2.05 0 2.83L4 21.41c.39.39.9.59 1.41.59.51 0 1.02-.2 1.41-.59l7.78-7.78 2.81-2.81c.8-.78.8-2.07 0-2.86zM5.41 20L4 18.59l7.72-7.72 1.47 1.35L5.41 20z\"/>\n",
              "  </svg>\n",
              "      </button>\n",
              "      \n",
              "  <style>\n",
              "    .colab-df-container {\n",
              "      display:flex;\n",
              "      flex-wrap:wrap;\n",
              "      gap: 12px;\n",
              "    }\n",
              "\n",
              "    .colab-df-convert {\n",
              "      background-color: #E8F0FE;\n",
              "      border: none;\n",
              "      border-radius: 50%;\n",
              "      cursor: pointer;\n",
              "      display: none;\n",
              "      fill: #1967D2;\n",
              "      height: 32px;\n",
              "      padding: 0 0 0 0;\n",
              "      width: 32px;\n",
              "    }\n",
              "\n",
              "    .colab-df-convert:hover {\n",
              "      background-color: #E2EBFA;\n",
              "      box-shadow: 0px 1px 2px rgba(60, 64, 67, 0.3), 0px 1px 3px 1px rgba(60, 64, 67, 0.15);\n",
              "      fill: #174EA6;\n",
              "    }\n",
              "\n",
              "    [theme=dark] .colab-df-convert {\n",
              "      background-color: #3B4455;\n",
              "      fill: #D2E3FC;\n",
              "    }\n",
              "\n",
              "    [theme=dark] .colab-df-convert:hover {\n",
              "      background-color: #434B5C;\n",
              "      box-shadow: 0px 1px 3px 1px rgba(0, 0, 0, 0.15);\n",
              "      filter: drop-shadow(0px 1px 2px rgba(0, 0, 0, 0.3));\n",
              "      fill: #FFFFFF;\n",
              "    }\n",
              "  </style>\n",
              "\n",
              "      <script>\n",
              "        const buttonEl =\n",
              "          document.querySelector('#df-9f95bd30-f80c-4b27-abe0-a38328eebdd7 button.colab-df-convert');\n",
              "        buttonEl.style.display =\n",
              "          google.colab.kernel.accessAllowed ? 'block' : 'none';\n",
              "\n",
              "        async function convertToInteractive(key) {\n",
              "          const element = document.querySelector('#df-9f95bd30-f80c-4b27-abe0-a38328eebdd7');\n",
              "          const dataTable =\n",
              "            await google.colab.kernel.invokeFunction('convertToInteractive',\n",
              "                                                     [key], {});\n",
              "          if (!dataTable) return;\n",
              "\n",
              "          const docLinkHtml = 'Like what you see? Visit the ' +\n",
              "            '<a target=\"_blank\" href=https://colab.research.google.com/notebooks/data_table.ipynb>data table notebook</a>'\n",
              "            + ' to learn more about interactive tables.';\n",
              "          element.innerHTML = '';\n",
              "          dataTable['output_type'] = 'display_data';\n",
              "          await google.colab.output.renderOutput(dataTable, element);\n",
              "          const docLink = document.createElement('div');\n",
              "          docLink.innerHTML = docLinkHtml;\n",
              "          element.appendChild(docLink);\n",
              "        }\n",
              "      </script>\n",
              "    </div>\n",
              "  </div>\n",
              "  "
            ]
          },
          "metadata": {},
          "execution_count": 22
        }
      ]
    },
    {
      "cell_type": "markdown",
      "source": [
        "Статистика: на 338 примерах \n",
        "* ручная валидация подтвердила успешность 85% результатов, автоматически классифицированных как успешные\n",
        "* остальные 15%, автоматически классифицированных как успешные, на самом деле оказались неудачными"
      ],
      "metadata": {
        "id": "VTi6ix_ZDaij"
      }
    },
    {
      "cell_type": "code",
      "source": [
        "df[\n",
        "    (df['crop_method'] == '1 - OpenCV') & \n",
        "   (df['Статус'].isin(['0 - Успешно', '2 - Провал'])) &\n",
        "   (df['opencv_status_auto'] == 'success')\n",
        "   ].shape"
      ],
      "metadata": {
        "colab": {
          "base_uri": "https://localhost:8080/"
        },
        "id": "Jg5-Z-WMC7TQ",
        "outputId": "d9287062-020c-4d0f-aa2c-0d9743818bf5"
      },
      "execution_count": 37,
      "outputs": [
        {
          "output_type": "execute_result",
          "data": {
            "text/plain": [
              "(338, 11)"
            ]
          },
          "metadata": {},
          "execution_count": 37
        }
      ]
    },
    {
      "cell_type": "code",
      "source": [
        "df[(df['crop_method'] == '1 - OpenCV') & \n",
        "   (df['Статус'].isin(['0 - Успешно', '2 - Провал'])) &\n",
        "   (df['opencv_status_auto'] == 'success')\n",
        "   ].groupby(['opencv_status_auto'])['Статус'].value_counts(normalize=True)"
      ],
      "metadata": {
        "colab": {
          "base_uri": "https://localhost:8080/"
        },
        "id": "wYoH8RxWB_XY",
        "outputId": "1751734c-dbc5-4d9e-a062-a4b1387a0a2b"
      },
      "execution_count": 38,
      "outputs": [
        {
          "output_type": "execute_result",
          "data": {
            "text/plain": [
              "opencv_status_auto  Статус     \n",
              "success             0 - Успешно    0.852071\n",
              "                    2 - Провал     0.147929\n",
              "Name: Статус, dtype: float64"
            ]
          },
          "metadata": {},
          "execution_count": 38
        }
      ]
    },
    {
      "cell_type": "markdown",
      "source": [
        "## OpenCV-fail - ручная валидация"
      ],
      "metadata": {
        "id": "YOu_3QHwGR4Z"
      }
    },
    {
      "cell_type": "markdown",
      "source": [
        "При этом, если автоматически результат был классифицирован как провальный, он в самом деле провальный с точностью 99% (218 примеров)"
      ],
      "metadata": {
        "id": "DWJTaajfFJWZ"
      }
    },
    {
      "cell_type": "code",
      "source": [
        "df[(df['crop_method'] == '1 - OpenCV') & \n",
        "   (df['Статус'].isin(['0 - Успешно', '2 - Провал'])) &\n",
        "   (df['opencv_status_auto'] == 'fail')\n",
        "   ].shape"
      ],
      "metadata": {
        "colab": {
          "base_uri": "https://localhost:8080/"
        },
        "id": "0TpNozYAFfeT",
        "outputId": "c854ff20-4f0f-4fb0-dab3-7f6a2c0f5e50"
      },
      "execution_count": 43,
      "outputs": [
        {
          "output_type": "execute_result",
          "data": {
            "text/plain": [
              "(218, 11)"
            ]
          },
          "metadata": {},
          "execution_count": 43
        }
      ]
    },
    {
      "cell_type": "code",
      "source": [
        "df[(df['crop_method'] == '1 - OpenCV') & \n",
        "   (df['Статус'].isin(['0 - Успешно', '2 - Провал'])) &\n",
        "   (df['opencv_status_auto'] == 'fail')\n",
        "   ].groupby(['opencv_status_auto'])['Статус'].value_counts(normalize=True)"
      ],
      "metadata": {
        "colab": {
          "base_uri": "https://localhost:8080/"
        },
        "id": "i-tCKVEBFULZ",
        "outputId": "59f805b4-e15d-49dc-d017-d85596790cca"
      },
      "execution_count": 41,
      "outputs": [
        {
          "output_type": "execute_result",
          "data": {
            "text/plain": [
              "opencv_status_auto  Статус     \n",
              "fail                2 - Провал     0.990826\n",
              "                    0 - Успешно    0.009174\n",
              "Name: Статус, dtype: float64"
            ]
          },
          "metadata": {},
          "execution_count": 41
        }
      ]
    },
    {
      "cell_type": "markdown",
      "source": [
        "## Алгоритм Ильи Т - ручная валидация\n",
        "Насколько успешен алгоритмический подход?"
      ],
      "metadata": {
        "id": "svdwLe1IEKwv"
      }
    },
    {
      "cell_type": "markdown",
      "source": [
        "На 1031 примере 67% успешно, 33% - провал"
      ],
      "metadata": {
        "id": "tqHRkMSKE8NE"
      }
    },
    {
      "cell_type": "code",
      "source": [
        "df[(df['crop_method'] == '2 - алгоритм') & \n",
        "   (df['Статус'].isin(['0 - Успешно', '2 - Провал']))\n",
        "   ].shape"
      ],
      "metadata": {
        "colab": {
          "base_uri": "https://localhost:8080/"
        },
        "id": "ofWva6XkEjF3",
        "outputId": "d560cc4a-51a4-4bff-b9e1-7b8e7a925054"
      },
      "execution_count": 39,
      "outputs": [
        {
          "output_type": "execute_result",
          "data": {
            "text/plain": [
              "(1031, 11)"
            ]
          },
          "metadata": {},
          "execution_count": 39
        }
      ]
    },
    {
      "cell_type": "code",
      "source": [
        "df[(df['crop_method'] == '2 - алгоритм') & \n",
        "   (df['Статус'].isin(['0 - Успешно', '2 - Провал']))\n",
        "   ]['Статус'].value_counts(normalize=True)"
      ],
      "metadata": {
        "colab": {
          "base_uri": "https://localhost:8080/"
        },
        "id": "nziHShyQEOlX",
        "outputId": "19be45e3-ea87-4423-bfa8-9776937fc805"
      },
      "execution_count": 40,
      "outputs": [
        {
          "output_type": "execute_result",
          "data": {
            "text/plain": [
              "0 - Успешно    0.672163\n",
              "2 - Провал     0.327837\n",
              "Name: Статус, dtype: float64"
            ]
          },
          "metadata": {},
          "execution_count": 40
        }
      ]
    },
    {
      "cell_type": "markdown",
      "source": [
        "## rembg - ручная валидация\n",
        "Насколько успешен rembg?"
      ],
      "metadata": {
        "id": "iHtpJk0aFlE7"
      }
    },
    {
      "cell_type": "markdown",
      "source": [
        "На 307 примерах 53% успешно, 47% - провал"
      ],
      "metadata": {
        "id": "rLB4m6vmFlE7"
      }
    },
    {
      "cell_type": "code",
      "source": [
        "df[(df['crop_method'] == '0 - rembg') & \n",
        "   (df['Статус'].isin(['0 - Успешно', '2 - Провал']))\n",
        "   ].shape"
      ],
      "metadata": {
        "colab": {
          "base_uri": "https://localhost:8080/"
        },
        "outputId": "63222363-51cc-4516-807b-96921c4c8922",
        "id": "U7Z3YGGzFlE8"
      },
      "execution_count": 44,
      "outputs": [
        {
          "output_type": "execute_result",
          "data": {
            "text/plain": [
              "(307, 11)"
            ]
          },
          "metadata": {},
          "execution_count": 44
        }
      ]
    },
    {
      "cell_type": "code",
      "source": [
        "df[(df['crop_method'] == '0 - rembg') & \n",
        "   (df['Статус'].isin(['0 - Успешно', '2 - Провал']))\n",
        "   ]['Статус'].value_counts(normalize=True)"
      ],
      "metadata": {
        "colab": {
          "base_uri": "https://localhost:8080/"
        },
        "outputId": "2512960c-bcb4-4d16-f323-840f29833ed9",
        "id": "2xRnbPpNFlE8"
      },
      "execution_count": 45,
      "outputs": [
        {
          "output_type": "execute_result",
          "data": {
            "text/plain": [
              "0 - Успешно    0.534202\n",
              "2 - Провал     0.465798\n",
              "Name: Статус, dtype: float64"
            ]
          },
          "metadata": {},
          "execution_count": 45
        }
      ]
    },
    {
      "cell_type": "markdown",
      "source": [
        "## Обрезка лицевой и оборотной стороны"
      ],
      "metadata": {
        "id": "0wXUv4grGVBm"
      }
    },
    {
      "cell_type": "code",
      "source": [
        "opencv_status_auto_df.groupby('Pic')['opencv_status_auto'].value_counts(normalize=True)"
      ],
      "metadata": {
        "colab": {
          "base_uri": "https://localhost:8080/"
        },
        "id": "5RN86sfVI4a5",
        "outputId": "51f2ebf4-11d5-466e-a2c3-1ddddae330da"
      },
      "execution_count": 49,
      "outputs": [
        {
          "output_type": "execute_result",
          "data": {
            "text/plain": [
              "Pic  opencv_status_auto\n",
              "1    success               0.597585\n",
              "     fail                  0.402415\n",
              "2    success               0.667668\n",
              "     fail                  0.332332\n",
              "Name: opencv_status_auto, dtype: float64"
            ]
          },
          "metadata": {},
          "execution_count": 49
        }
      ]
    },
    {
      "cell_type": "code",
      "source": [
        "df[(df['crop_method'] == '1 - OpenCV') & \n",
        "   (df['Статус'].isin(['0 - Успешно', '2 - Провал']))\n",
        "   ].groupby(['opencv_status_auto', 'Pic'])['Статус'].value_counts(normalize=True)"
      ],
      "metadata": {
        "colab": {
          "base_uri": "https://localhost:8080/"
        },
        "id": "VUfBFy5CGc3Y",
        "outputId": "65aec567-eea3-4e17-ca0d-fd3bec7fde20"
      },
      "execution_count": 46,
      "outputs": [
        {
          "output_type": "execute_result",
          "data": {
            "text/plain": [
              "opencv_status_auto  Pic  Статус     \n",
              "fail                1    2 - Провал     1.000000\n",
              "                    2    2 - Провал     0.980583\n",
              "                         0 - Успешно    0.019417\n",
              "success             1    0 - Успешно    0.891566\n",
              "                         2 - Провал     0.108434\n",
              "                    2    0 - Успешно    0.813953\n",
              "                         2 - Провал     0.186047\n",
              "Name: Статус, dtype: float64"
            ]
          },
          "metadata": {},
          "execution_count": 46
        }
      ]
    },
    {
      "cell_type": "code",
      "source": [
        "df[(df['crop_method'] == '2 - алгоритм') & \n",
        "   (df['Статус'].isin(['0 - Успешно', '2 - Провал']))\n",
        "   ].groupby('Pic')['Статус'].value_counts(normalize=True)"
      ],
      "metadata": {
        "colab": {
          "base_uri": "https://localhost:8080/"
        },
        "id": "y3i26B15Guzm",
        "outputId": "2edfa677-5875-4960-8e67-551f51a26a20"
      },
      "execution_count": 47,
      "outputs": [
        {
          "output_type": "execute_result",
          "data": {
            "text/plain": [
              "Pic  Статус     \n",
              "1    0 - Успешно    0.814882\n",
              "     2 - Провал     0.185118\n",
              "2    0 - Успешно    0.508333\n",
              "     2 - Провал     0.491667\n",
              "Name: Статус, dtype: float64"
            ]
          },
          "metadata": {},
          "execution_count": 47
        }
      ]
    },
    {
      "cell_type": "code",
      "source": [
        "df[(df['crop_method'] == '0 - rembg') & \n",
        "   (df['Статус'].isin(['0 - Успешно', '2 - Провал']))\n",
        "   ].groupby('Pic')['Статус'].value_counts(normalize=True)"
      ],
      "metadata": {
        "colab": {
          "base_uri": "https://localhost:8080/"
        },
        "id": "qr6NTAfKG4XM",
        "outputId": "80fcb29f-e3a2-4418-c91d-461af4f4fdf1"
      },
      "execution_count": 48,
      "outputs": [
        {
          "output_type": "execute_result",
          "data": {
            "text/plain": [
              "Pic  Статус     \n",
              "1    2 - Провал     0.570755\n",
              "     0 - Успешно    0.429245\n",
              "2    0 - Успешно    0.768421\n",
              "     2 - Провал     0.231579\n",
              "Name: Статус, dtype: float64"
            ]
          },
          "metadata": {},
          "execution_count": 48
        }
      ]
    },
    {
      "cell_type": "markdown",
      "source": [
        "# Заливка результатов обрезки"
      ],
      "metadata": {
        "id": "cCTA-OXdcpm-"
      }
    }
  ],
  "metadata": {
    "colab": {
      "provenance": [],
      "collapsed_sections": [
        "P0U-GjzJJULC",
        "qly8Vqt-jeTu",
        "KH8MgpG2GZUB",
        "lNj0XBRdSmjy",
        "9HxP_0-AmzFV",
        "OaEJFYH8DFAP",
        "vXADmdy2fdrS"
      ],
      "toc_visible": true
    },
    "kernelspec": {
      "display_name": "Python 3",
      "name": "python3"
    },
    "language_info": {
      "name": "python"
    }
  },
  "nbformat": 4,
  "nbformat_minor": 0
}