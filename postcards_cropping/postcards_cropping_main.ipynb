{
 "cells": [
  {
   "cell_type": "markdown",
   "metadata": {},
   "source": [
    "# Обрезка полей: обработка баз открыток"
   ]
  },
  {
   "cell_type": "markdown",
   "metadata": {},
   "source": [
    "## Алгоритм\n",
    "\n",
    "Используется три метода:\n",
    "* **OpenCV** - сканнер документов на основе `OpenCV`\n",
    "* **rembg** - библиотека для удаления фона с изображений \n",
    "* **алгоритмический подход** - разработан специально для обрезки открыток\n",
    "\n",
    "Подробнее о методах с примерами работы - в специальных ноутбуках.\n",
    "\n",
    "Метод OpenCV можно рассматривать как основной, а другие два метода - как вспомогательные.  \n",
    "Обрезка происходит так:\n",
    "1. Сначала все сканы обрезаются с помощью OpenCV. \n",
    "2. Затем программа автоматически разделяет результаты обрезки на успешные и провальные. Успешные результаты сохраняются в директорию `cut-success`, а провальные - в директорию `cut-fail`.\n",
    "3. После этого сканы, на которых OpenCV не сработал, обрезаются заново с помощью rembg и алгоритмического подхода. Результаты также сохраняются в директорию `cut-fail`."
   ]
  },
  {
   "cell_type": "markdown",
   "metadata": {},
   "source": [
    "# Функции"
   ]
  },
  {
   "cell_type": "code",
   "execution_count": 14,
   "metadata": {
    "id": "N2YpcPuySqCl"
   },
   "outputs": [],
   "source": [
    "from tqdm import tqdm\n",
    "import requests\n",
    "import os\n",
    "import traceback"
   ]
  },
  {
   "cell_type": "markdown",
   "metadata": {
    "id": "twTdYrTKru2I"
   },
   "source": [
    "Функция для скачивания изображения из хранилища"
   ]
  },
  {
   "cell_type": "code",
   "execution_count": 16,
   "metadata": {
    "id": "in76QZ42SqCk"
   },
   "outputs": [],
   "source": [
    "def download(url, filename):\n",
    "    photo_content = requests.get(url).content\n",
    "    with open(filename, 'wb') as photo_file:\n",
    "        photo_file.write(photo_content)"
   ]
  },
  {
   "cell_type": "markdown",
   "metadata": {},
   "source": [
    "Функция для генерации названий файлов с результатами обрезки"
   ]
  },
  {
   "cell_type": "code",
   "execution_count": 37,
   "metadata": {},
   "outputs": [],
   "source": [
    "def get_output_filenames(input_filename):\n",
    "    name, extension = input_filename.split('.')\n",
    "    opencv_filename = name + '-cut-opencv.' + extension\n",
    "    rembg_filename = name + '-cut-rembg.' + extension\n",
    "    alg_filename = name + '-cut-alg.' + extension\n",
    "    return opencv_filename, rembg_filename, alg_filename"
   ]
  },
  {
   "cell_type": "markdown",
   "metadata": {},
   "source": [
    "Импорты функций из скриптов"
   ]
  },
  {
   "cell_type": "code",
   "execution_count": 18,
   "metadata": {},
   "outputs": [],
   "source": [
    "from crop_rembg import crop_rembg\n",
    "from crop_opencv import crop_opencv\n",
    "from crop_algorithmic import crop_algorithmic"
   ]
  },
  {
   "cell_type": "markdown",
   "metadata": {
    "id": "iaM257ZLryZj"
   },
   "source": [
    "\"Верховная\" функция:\n",
    "1. Скачивает изображение\n",
    "2. Обрезает OpenCV\n",
    "3. Кладет в нужную директорию (успешная / провальная обрезка)\n",
    "4. Если обрезка провальная, добавляет варианты обрезки rembg и алгоритмом Ильи\n",
    "\n",
    "Исключения записываются в `exceptions.txt`."
   ]
  },
  {
   "cell_type": "code",
   "execution_count": 50,
   "metadata": {
    "id": "JJBCgTuRhxqN"
   },
   "outputs": [],
   "source": [
    "def process_image(\n",
    "    input_filename, \n",
    "    download_url,\n",
    "    main_folder='pictures/', \n",
    "    success_subfolder='cut-success/', \n",
    "    fail_subfolder='cut-fail/'\n",
    "    ):\n",
    "\n",
    "    try:\n",
    "        # download from storage\n",
    "        download(download_url, main_folder + input_filename)\n",
    "        # generate output filenames\n",
    "        opencv_filename, rembg_filename, alg_filename = get_output_filenames(input_filename)\n",
    "        \n",
    "        # crop with OpenCV\n",
    "        crop_successful = crop_opencv(main_folder + input_filename, main_folder + opencv_filename)\n",
    "        \n",
    "        # crop successful\n",
    "        if crop_successful:\n",
    "            # move files to successful crop subfolder\n",
    "            os.rename(main_folder + input_filename, main_folder + success_subfolder + input_filename)\n",
    "            os.rename(main_folder + opencv_filename, main_folder + success_subfolder + opencv_filename)\n",
    "            return\n",
    "        \n",
    "        # crop failed\n",
    "        # move files to failed crop subfolder\n",
    "        os.rename(main_folder + input_filename, main_folder + fail_subfolder + input_filename)\n",
    "        os.rename(main_folder + opencv_filename, main_folder + fail_subfolder + opencv_filename)\n",
    "        # crop with rembg and algorithmic approach \n",
    "        # and save outputs to failed crop subfolder\n",
    "        crop_rembg(main_folder + fail_subfolder + input_filename, main_folder + fail_subfolder + rembg_filename)\n",
    "        crop_algorithmic(main_folder + fail_subfolder + input_filename, main_folder + fail_subfolder + alg_filename)\n",
    "  \n",
    "    except:\n",
    "#         raise\n",
    "        with open('exceptions.txt', 'a') as exceptions_file:\n",
    "            exceptions_file.write('input_filename: ' + input_filename + '\\n')\n",
    "            exceptions_file.write(traceback.format_exc() + '\\n\\n\\n')"
   ]
  },
  {
   "cell_type": "markdown",
   "metadata": {
    "id": "A6D3YsR4LffO"
   },
   "source": [
    "# Обработка баз"
   ]
  },
  {
   "cell_type": "markdown",
   "metadata": {
    "id": "VUTxpOha5eZc"
   },
   "source": [
    "## База 1\n",
    "Чтение данных"
   ]
  },
  {
   "cell_type": "code",
   "execution_count": 15,
   "metadata": {
    "id": "m_Njl33m3qgx"
   },
   "outputs": [],
   "source": [
    "import pandas as pd"
   ]
  },
  {
   "cell_type": "code",
   "execution_count": 16,
   "metadata": {
    "colab": {
     "base_uri": "https://localhost:8080/",
     "height": 647
    },
    "id": "iNkBl2AK3sTC",
    "outputId": "0c2ec1e9-006c-40d8-ab0b-39329784413a"
   },
   "outputs": [
    {
     "data": {
      "text/html": [
       "<div>\n",
       "<style scoped>\n",
       "    .dataframe tbody tr th:only-of-type {\n",
       "        vertical-align: middle;\n",
       "    }\n",
       "\n",
       "    .dataframe tbody tr th {\n",
       "        vertical-align: top;\n",
       "    }\n",
       "\n",
       "    .dataframe thead th {\n",
       "        text-align: right;\n",
       "    }\n",
       "</style>\n",
       "<table border=\"1\" class=\"dataframe\">\n",
       "  <thead>\n",
       "    <tr style=\"text-align: right;\">\n",
       "      <th></th>\n",
       "      <th>ID</th>\n",
       "      <th>Pic_url_1</th>\n",
       "      <th>Pic_url_2</th>\n",
       "      <th>Разрешение на публикацию</th>\n",
       "      <th>Источник</th>\n",
       "      <th>Была ли открытка отправлена по почте</th>\n",
       "      <th>Название коллекции (если вы хотите подпись на сайте). Например, личная коллекция Василия Иванова.</th>\n",
       "      <th>Комментарий или метаинформация. Укажите тут любую метаинформацию про открытку, которую считаете важной. Например, какое-то знание или история, которую нельзя восстановить по тексту открытки.</th>\n",
       "      <th>Заливщик</th>\n",
       "      <th>Разметчик</th>\n",
       "      <th>...</th>\n",
       "      <th>Тег_3</th>\n",
       "      <th>Тег_4</th>\n",
       "      <th>Тег_5</th>\n",
       "      <th>Тег_6</th>\n",
       "      <th>Тег_7</th>\n",
       "      <th>Интересна ли для медиа/исследователей</th>\n",
       "      <th>Почему интересна</th>\n",
       "      <th>Id поста на сайте</th>\n",
       "      <th>Дата заливки</th>\n",
       "      <th>Оценка</th>\n",
       "    </tr>\n",
       "  </thead>\n",
       "  <tbody>\n",
       "    <tr>\n",
       "      <th>0</th>\n",
       "      <td>0</td>\n",
       "      <td>https://forum.vgd.ru/file.php?fid=5476&amp;key=0</td>\n",
       "      <td>0.0</td>\n",
       "      <td>Разрешаю публикацию</td>\n",
       "      <td>Форум VGD</td>\n",
       "      <td>Да</td>\n",
       "      <td>NaN</td>\n",
       "      <td>NaN</td>\n",
       "      <td>NaN</td>\n",
       "      <td>NaN</td>\n",
       "      <td>...</td>\n",
       "      <td>NaN</td>\n",
       "      <td>NaN</td>\n",
       "      <td>NaN</td>\n",
       "      <td>NaN</td>\n",
       "      <td>NaN</td>\n",
       "      <td>NaN</td>\n",
       "      <td>NaN</td>\n",
       "      <td>NaN</td>\n",
       "      <td>NaN</td>\n",
       "      <td>NaN</td>\n",
       "    </tr>\n",
       "    <tr>\n",
       "      <th>1</th>\n",
       "      <td>1</td>\n",
       "      <td>https://forum.vgd.ru/file.php?fid=5491&amp;key=0</td>\n",
       "      <td>NaN</td>\n",
       "      <td>Разрешаю публикацию</td>\n",
       "      <td>Форум VGD</td>\n",
       "      <td>Не знаю</td>\n",
       "      <td>NaN</td>\n",
       "      <td>NaN</td>\n",
       "      <td>NaN</td>\n",
       "      <td>NaN</td>\n",
       "      <td>...</td>\n",
       "      <td>NaN</td>\n",
       "      <td>NaN</td>\n",
       "      <td>NaN</td>\n",
       "      <td>NaN</td>\n",
       "      <td>NaN</td>\n",
       "      <td>NaN</td>\n",
       "      <td>NaN</td>\n",
       "      <td>NaN</td>\n",
       "      <td>NaN</td>\n",
       "      <td>NaN</td>\n",
       "    </tr>\n",
       "    <tr>\n",
       "      <th>2</th>\n",
       "      <td>2</td>\n",
       "      <td>https://forum.vgd.ru/file.php?fid=5492&amp;key=0</td>\n",
       "      <td>0.0</td>\n",
       "      <td>Разрешаю публикацию</td>\n",
       "      <td>Форум VGD</td>\n",
       "      <td>Не знаю</td>\n",
       "      <td>NaN</td>\n",
       "      <td>NaN</td>\n",
       "      <td>NaN</td>\n",
       "      <td>NaN</td>\n",
       "      <td>...</td>\n",
       "      <td>NaN</td>\n",
       "      <td>NaN</td>\n",
       "      <td>NaN</td>\n",
       "      <td>NaN</td>\n",
       "      <td>NaN</td>\n",
       "      <td>NaN</td>\n",
       "      <td>NaN</td>\n",
       "      <td>NaN</td>\n",
       "      <td>NaN</td>\n",
       "      <td>NaN</td>\n",
       "    </tr>\n",
       "    <tr>\n",
       "      <th>3</th>\n",
       "      <td>3</td>\n",
       "      <td>https://forum.vgd.ru/file.php?fid=20890&amp;key=19...</td>\n",
       "      <td>0.0</td>\n",
       "      <td>Разрешаю публикацию</td>\n",
       "      <td>Форум VGD</td>\n",
       "      <td>Не знаю</td>\n",
       "      <td>NaN</td>\n",
       "      <td>NaN</td>\n",
       "      <td>NaN</td>\n",
       "      <td>NaN</td>\n",
       "      <td>...</td>\n",
       "      <td>NaN</td>\n",
       "      <td>NaN</td>\n",
       "      <td>NaN</td>\n",
       "      <td>NaN</td>\n",
       "      <td>NaN</td>\n",
       "      <td>NaN</td>\n",
       "      <td>NaN</td>\n",
       "      <td>NaN</td>\n",
       "      <td>NaN</td>\n",
       "      <td>NaN</td>\n",
       "    </tr>\n",
       "    <tr>\n",
       "      <th>4</th>\n",
       "      <td>4</td>\n",
       "      <td>https://forum.vgd.ru/file.php?fid=20894&amp;key=16...</td>\n",
       "      <td>0.0</td>\n",
       "      <td>Разрешаю публикацию</td>\n",
       "      <td>Форум VGD</td>\n",
       "      <td>Не знаю</td>\n",
       "      <td>NaN</td>\n",
       "      <td>NaN</td>\n",
       "      <td>NaN</td>\n",
       "      <td>NaN</td>\n",
       "      <td>...</td>\n",
       "      <td>NaN</td>\n",
       "      <td>NaN</td>\n",
       "      <td>NaN</td>\n",
       "      <td>NaN</td>\n",
       "      <td>NaN</td>\n",
       "      <td>NaN</td>\n",
       "      <td>NaN</td>\n",
       "      <td>NaN</td>\n",
       "      <td>NaN</td>\n",
       "      <td>NaN</td>\n",
       "    </tr>\n",
       "  </tbody>\n",
       "</table>\n",
       "<p>5 rows × 58 columns</p>\n",
       "</div>"
      ],
      "text/plain": [
       "   ID                                          Pic_url_1 Pic_url_2  \\\n",
       "0   0       https://forum.vgd.ru/file.php?fid=5476&key=0       0.0   \n",
       "1   1       https://forum.vgd.ru/file.php?fid=5491&key=0       NaN   \n",
       "2   2       https://forum.vgd.ru/file.php?fid=5492&key=0       0.0   \n",
       "3   3  https://forum.vgd.ru/file.php?fid=20890&key=19...       0.0   \n",
       "4   4  https://forum.vgd.ru/file.php?fid=20894&key=16...       0.0   \n",
       "\n",
       "  Разрешение на публикацию   Источник Была ли открытка отправлена по почте  \\\n",
       "0      Разрешаю публикацию  Форум VGD                                   Да   \n",
       "1      Разрешаю публикацию  Форум VGD                              Не знаю   \n",
       "2      Разрешаю публикацию  Форум VGD                              Не знаю   \n",
       "3      Разрешаю публикацию  Форум VGD                              Не знаю   \n",
       "4      Разрешаю публикацию  Форум VGD                              Не знаю   \n",
       "\n",
       "  Название коллекции (если вы хотите подпись на сайте). Например, личная коллекция Василия Иванова.  \\\n",
       "0                                                NaN                                                  \n",
       "1                                                NaN                                                  \n",
       "2                                                NaN                                                  \n",
       "3                                                NaN                                                  \n",
       "4                                                NaN                                                  \n",
       "\n",
       "  Комментарий или метаинформация. Укажите тут любую метаинформацию про открытку, которую считаете важной. Например, какое-то знание или история, которую нельзя восстановить по тексту открытки.  \\\n",
       "0                                                NaN                                                                                                                                               \n",
       "1                                                NaN                                                                                                                                               \n",
       "2                                                NaN                                                                                                                                               \n",
       "3                                                NaN                                                                                                                                               \n",
       "4                                                NaN                                                                                                                                               \n",
       "\n",
       "   Заливщик Разметчик  ... Тег_3 Тег_4 Тег_5 Тег_6 Тег_7  \\\n",
       "0       NaN       NaN  ...   NaN   NaN   NaN   NaN   NaN   \n",
       "1       NaN       NaN  ...   NaN   NaN   NaN   NaN   NaN   \n",
       "2       NaN       NaN  ...   NaN   NaN   NaN   NaN   NaN   \n",
       "3       NaN       NaN  ...   NaN   NaN   NaN   NaN   NaN   \n",
       "4       NaN       NaN  ...   NaN   NaN   NaN   NaN   NaN   \n",
       "\n",
       "  Интересна ли для медиа/исследователей Почему интересна Id поста на сайте  \\\n",
       "0                                   NaN              NaN               NaN   \n",
       "1                                   NaN              NaN               NaN   \n",
       "2                                   NaN              NaN               NaN   \n",
       "3                                   NaN              NaN               NaN   \n",
       "4                                   NaN              NaN               NaN   \n",
       "\n",
       "  Дата заливки Оценка  \n",
       "0          NaN    NaN  \n",
       "1          NaN    NaN  \n",
       "2          NaN    NaN  \n",
       "3          NaN    NaN  \n",
       "4          NaN    NaN  \n",
       "\n",
       "[5 rows x 58 columns]"
      ]
     },
     "execution_count": 16,
     "metadata": {},
     "output_type": "execute_result"
    }
   ],
   "source": [
    "df = pd.read_excel('db/Расшифровка открыток (основная база).xlsx')\n",
    "df = df.rename(columns={' ': 'ID'})\n",
    "df['ID'] = df['ID'].astype(int)\n",
    "df.head()"
   ]
  },
  {
   "cell_type": "code",
   "execution_count": 17,
   "metadata": {
    "colab": {
     "base_uri": "https://localhost:8080/"
    },
    "id": "0wiHXVSw4q45",
    "outputId": "732efd7d-85c4-46c6-a801-f7345bfec8d4"
   },
   "outputs": [
    {
     "data": {
      "text/plain": [
       "(7485, 58)"
      ]
     },
     "execution_count": 17,
     "metadata": {},
     "output_type": "execute_result"
    }
   ],
   "source": [
    "df.shape"
   ]
  },
  {
   "cell_type": "code",
   "execution_count": 18,
   "metadata": {
    "colab": {
     "base_uri": "https://localhost:8080/"
    },
    "id": "P0-kGqXukPoC",
    "outputId": "e6919890-d56b-4a36-959a-fd6358337203"
   },
   "outputs": [
    {
     "data": {
      "text/plain": [
       "Отсутствует                         5581\n",
       "Вотермарка                           962\n",
       "Большие поля                         155\n",
       "Низкое качество                       35\n",
       "Скрыть информацию                     24\n",
       "Требуется поворот                     21\n",
       "Нет текста                            14\n",
       "Две стороны на одном изображении       6\n",
       "Name: Проблема, dtype: int64"
      ]
     },
     "execution_count": 18,
     "metadata": {},
     "output_type": "execute_result"
    }
   ],
   "source": [
    "df['Проблема'].value_counts()"
   ]
  },
  {
   "cell_type": "markdown",
   "metadata": {
    "id": "qoqa5YTxrltj"
   },
   "source": [
    "Оставляем строки с проблемой \"Большие поля\""
   ]
  },
  {
   "cell_type": "code",
   "execution_count": 19,
   "metadata": {
    "colab": {
     "base_uri": "https://localhost:8080/"
    },
    "id": "pokoe3y74stI",
    "outputId": "e2836377-00aa-48c5-8ab1-eaa3cf8e932e"
   },
   "outputs": [
    {
     "data": {
      "text/plain": [
       "(155, 58)"
      ]
     },
     "execution_count": 19,
     "metadata": {},
     "output_type": "execute_result"
    }
   ],
   "source": [
    "df = df[df['Проблема'] == 'Большие поля']\n",
    "df.shape"
   ]
  },
  {
   "cell_type": "code",
   "execution_count": 20,
   "metadata": {
    "colab": {
     "base_uri": "https://localhost:8080/"
    },
    "id": "jg8Ffuy-47t4",
    "outputId": "f678d30e-d01e-4e69-99c0-cfebb7fa2bb8"
   },
   "outputs": [
    {
     "data": {
      "text/plain": [
       "Готово к расшифровке                   109\n",
       "Исключено                               30\n",
       "Завершено                                8\n",
       "Проверено                                6\n",
       "В процессе                               1\n",
       "Помощь модератора/ иностранный язык      1\n",
       "Name: Статус (распределено, в процессе, завершено, проблема), dtype: int64"
      ]
     },
     "execution_count": 20,
     "metadata": {},
     "output_type": "execute_result"
    }
   ],
   "source": [
    "df['Статус (распределено, в процессе, завершено, проблема)'].value_counts()"
   ]
  },
  {
   "cell_type": "markdown",
   "metadata": {},
   "source": [
    "Убираем из рассмотрения уже исключенные открытки"
   ]
  },
  {
   "cell_type": "code",
   "execution_count": 21,
   "metadata": {
    "colab": {
     "base_uri": "https://localhost:8080/"
    },
    "id": "IeFJOxqD5O5Q",
    "outputId": "eb531a20-f418-4c15-f065-de75c09733c5"
   },
   "outputs": [
    {
     "data": {
      "text/plain": [
       "(125, 58)"
      ]
     },
     "execution_count": 21,
     "metadata": {},
     "output_type": "execute_result"
    }
   ],
   "source": [
    "df = df[df['Статус (распределено, в процессе, завершено, проблема)'] != 'Исключено']\n",
    "df.shape"
   ]
  },
  {
   "cell_type": "markdown",
   "metadata": {
    "id": "CWRYPEoxsA1s"
   },
   "source": [
    "Запуск обрезки"
   ]
  },
  {
   "cell_type": "code",
   "execution_count": 69,
   "metadata": {
    "colab": {
     "base_uri": "https://localhost:8080/"
    },
    "id": "dnz8bSPxj_WV",
    "outputId": "22e0d1b5-79aa-479f-e0bc-9275311f91e8"
   },
   "outputs": [
    {
     "name": "stderr",
     "output_type": "stream",
     "text": [
      "100%|██████████| 155/155 [1:12:33<00:00, 28.09s/it] \n"
     ]
    }
   ],
   "source": [
    "for ind, row in tqdm(df.iterrows(), total=df.shape[0]):\n",
    "  postcard_id = row['ID']\n",
    "\n",
    "  filename_1 = str(postcard_id) + '-1.jpg'\n",
    "  filename_2 = str(postcard_id) + '-2.jpg'\n",
    "  filename_1_cut = str(postcard_id) + '-1-cut.jpg'\n",
    "  filename_2_cut = str(postcard_id) + '-2-cut.jpg'\n",
    "\n",
    "  process_image(filename_1, filename_1_cut, row['Pic_url_1'])\n",
    "  process_image(filename_2, filename_2_cut, row['Pic_url_2'])"
   ]
  },
  {
   "cell_type": "markdown",
   "metadata": {
    "id": "w0Kx7a49sD8H"
   },
   "source": [
    "Упаковка результатов в архив"
   ]
  },
  {
   "cell_type": "code",
   "execution_count": null,
   "metadata": {
    "id": "SJzdkx0NSqCm"
   },
   "outputs": [],
   "source": [
    "!zip -r /content/pictures.zip /content/pictures"
   ]
  },
  {
   "cell_type": "markdown",
   "metadata": {
    "id": "BHstvKuyxRi0"
   },
   "source": [
    "## База 2\n",
    "Чтение данных"
   ]
  },
  {
   "cell_type": "code",
   "execution_count": 71,
   "metadata": {
    "colab": {
     "base_uri": "https://localhost:8080/",
     "height": 994
    },
    "id": "gpfc_yJYxTLQ",
    "outputId": "f88b7013-9bfe-4408-d182-66bce52c7775"
   },
   "outputs": [
    {
     "data": {
      "text/html": [
       "\n",
       "  <div id=\"df-d164028d-b0cb-464d-9903-b2cd85d483af\">\n",
       "    <div class=\"colab-df-container\">\n",
       "      <div>\n",
       "<style scoped>\n",
       "    .dataframe tbody tr th:only-of-type {\n",
       "        vertical-align: middle;\n",
       "    }\n",
       "\n",
       "    .dataframe tbody tr th {\n",
       "        vertical-align: top;\n",
       "    }\n",
       "\n",
       "    .dataframe thead th {\n",
       "        text-align: right;\n",
       "    }\n",
       "</style>\n",
       "<table border=\"1\" class=\"dataframe\">\n",
       "  <thead>\n",
       "    <tr style=\"text-align: right;\">\n",
       "      <th></th>\n",
       "      <th>ID</th>\n",
       "      <th>Pic_url_1</th>\n",
       "      <th>Pic_url_2</th>\n",
       "      <th>Разрешение на публикацию</th>\n",
       "      <th>Источник</th>\n",
       "      <th>Была ли открытка отправлена по почте</th>\n",
       "      <th>Название коллекции (если вы хотите подпись на сайте). Например, личная коллекция Василия Иванова.</th>\n",
       "      <th>Комментарий или метаинформация. Укажите тут любую метаинформацию про открытку, которую считаете важной. Например, какое-то знание или история, которую нельзя восстановить по тексту открытки.</th>\n",
       "      <th>Заливщик</th>\n",
       "      <th>Разметчик</th>\n",
       "      <th>...</th>\n",
       "      <th>Тег_3</th>\n",
       "      <th>Тег_4</th>\n",
       "      <th>Тег_5</th>\n",
       "      <th>Тег_6</th>\n",
       "      <th>Тег_7</th>\n",
       "      <th>Интересна ли для медиа/исследователей</th>\n",
       "      <th>Почему интересна</th>\n",
       "      <th>Id поста на сайте</th>\n",
       "      <th>Дата заливки</th>\n",
       "      <th>Оценка</th>\n",
       "    </tr>\n",
       "  </thead>\n",
       "  <tbody>\n",
       "    <tr>\n",
       "      <th>0</th>\n",
       "      <td>1</td>\n",
       "      <td>https://storage.yandexcloud.net/postcards-open...</td>\n",
       "      <td>https://storage.yandexcloud.net/postcards-open...</td>\n",
       "      <td>Разрешаю публикацию</td>\n",
       "      <td>Найдено в интернете</td>\n",
       "      <td>NaN</td>\n",
       "      <td>NaN</td>\n",
       "      <td>NaN</td>\n",
       "      <td>NaN</td>\n",
       "      <td>Атрощенко Екатерина (ЯП)</td>\n",
       "      <td>...</td>\n",
       "      <td>Письма семье</td>\n",
       "      <td>NaN</td>\n",
       "      <td>NaN</td>\n",
       "      <td>NaN</td>\n",
       "      <td>NaN</td>\n",
       "      <td>NaN</td>\n",
       "      <td>NaN</td>\n",
       "      <td>26789.0</td>\n",
       "      <td>Thu Aug 25 2022 15:04:40 GMT-0400 (Восточная А...</td>\n",
       "      <td>5</td>\n",
       "    </tr>\n",
       "    <tr>\n",
       "      <th>1</th>\n",
       "      <td>2</td>\n",
       "      <td>https://storage.yandexcloud.net/postcards-open...</td>\n",
       "      <td>https://storage.yandexcloud.net/postcards-open...</td>\n",
       "      <td>Разрешаю публикацию</td>\n",
       "      <td>Найдено в интернете</td>\n",
       "      <td>NaN</td>\n",
       "      <td>NaN</td>\n",
       "      <td>NaN</td>\n",
       "      <td>NaN</td>\n",
       "      <td>Зыкова Мария (ЯП)</td>\n",
       "      <td>...</td>\n",
       "      <td>Благодарность в тексте</td>\n",
       "      <td>Поцелуи из писем</td>\n",
       "      <td>Деньги</td>\n",
       "      <td>NaN</td>\n",
       "      <td>NaN</td>\n",
       "      <td>NaN</td>\n",
       "      <td>NaN</td>\n",
       "      <td>26786.0</td>\n",
       "      <td>Thu Aug 25 2022 15:04:40 GMT-0400 (Восточная А...</td>\n",
       "      <td>4</td>\n",
       "    </tr>\n",
       "    <tr>\n",
       "      <th>2</th>\n",
       "      <td>3</td>\n",
       "      <td>https://storage.yandexcloud.net/postcards-open...</td>\n",
       "      <td>https://storage.yandexcloud.net/postcards-open...</td>\n",
       "      <td>Разрешаю публикацию</td>\n",
       "      <td>Найдено в интернете</td>\n",
       "      <td>NaN</td>\n",
       "      <td>NaN</td>\n",
       "      <td>NaN</td>\n",
       "      <td>NaN</td>\n",
       "      <td>Залян Эдуард (ЯП)</td>\n",
       "      <td>...</td>\n",
       "      <td>NaN</td>\n",
       "      <td>NaN</td>\n",
       "      <td>NaN</td>\n",
       "      <td>NaN</td>\n",
       "      <td>NaN</td>\n",
       "      <td>NaN</td>\n",
       "      <td>NaN</td>\n",
       "      <td>26807.0</td>\n",
       "      <td>Thu Aug 25 2022 15:04:40 GMT-0400 (Восточная А...</td>\n",
       "      <td>5</td>\n",
       "    </tr>\n",
       "    <tr>\n",
       "      <th>3</th>\n",
       "      <td>4</td>\n",
       "      <td>https://storage.yandexcloud.net/postcards-open...</td>\n",
       "      <td>https://storage.yandexcloud.net/postcards-open...</td>\n",
       "      <td>Разрешаю публикацию</td>\n",
       "      <td>Найдено в интернете</td>\n",
       "      <td>NaN</td>\n",
       "      <td>NaN</td>\n",
       "      <td>NaN</td>\n",
       "      <td>NaN</td>\n",
       "      <td>Никитина Полина (ЯП)</td>\n",
       "      <td>...</td>\n",
       "      <td>Загадочная открытка</td>\n",
       "      <td>NaN</td>\n",
       "      <td>NaN</td>\n",
       "      <td>NaN</td>\n",
       "      <td>NaN</td>\n",
       "      <td>NaN</td>\n",
       "      <td>NaN</td>\n",
       "      <td>26788.0</td>\n",
       "      <td>Thu Aug 25 2022 15:04:40 GMT-0400 (Восточная А...</td>\n",
       "      <td>4</td>\n",
       "    </tr>\n",
       "    <tr>\n",
       "      <th>4</th>\n",
       "      <td>5</td>\n",
       "      <td>https://storage.yandexcloud.net/postcards-open...</td>\n",
       "      <td>https://storage.yandexcloud.net/postcards-open...</td>\n",
       "      <td>Разрешаю публикацию</td>\n",
       "      <td>Найдено в интернете</td>\n",
       "      <td>NaN</td>\n",
       "      <td>NaN</td>\n",
       "      <td>NaN</td>\n",
       "      <td>NaN</td>\n",
       "      <td>Кошкина Мария (ЯП)</td>\n",
       "      <td>...</td>\n",
       "      <td>NaN</td>\n",
       "      <td>NaN</td>\n",
       "      <td>NaN</td>\n",
       "      <td>NaN</td>\n",
       "      <td>NaN</td>\n",
       "      <td>NaN</td>\n",
       "      <td>NaN</td>\n",
       "      <td>26804.0</td>\n",
       "      <td>Thu Aug 25 2022 15:04:40 GMT-0400 (Восточная А...</td>\n",
       "      <td>5</td>\n",
       "    </tr>\n",
       "  </tbody>\n",
       "</table>\n",
       "<p>5 rows × 58 columns</p>\n",
       "</div>\n",
       "      <button class=\"colab-df-convert\" onclick=\"convertToInteractive('df-d164028d-b0cb-464d-9903-b2cd85d483af')\"\n",
       "              title=\"Convert this dataframe to an interactive table.\"\n",
       "              style=\"display:none;\">\n",
       "        \n",
       "  <svg xmlns=\"http://www.w3.org/2000/svg\" height=\"24px\"viewBox=\"0 0 24 24\"\n",
       "       width=\"24px\">\n",
       "    <path d=\"M0 0h24v24H0V0z\" fill=\"none\"/>\n",
       "    <path d=\"M18.56 5.44l.94 2.06.94-2.06 2.06-.94-2.06-.94-.94-2.06-.94 2.06-2.06.94zm-11 1L8.5 8.5l.94-2.06 2.06-.94-2.06-.94L8.5 2.5l-.94 2.06-2.06.94zm10 10l.94 2.06.94-2.06 2.06-.94-2.06-.94-.94-2.06-.94 2.06-2.06.94z\"/><path d=\"M17.41 7.96l-1.37-1.37c-.4-.4-.92-.59-1.43-.59-.52 0-1.04.2-1.43.59L10.3 9.45l-7.72 7.72c-.78.78-.78 2.05 0 2.83L4 21.41c.39.39.9.59 1.41.59.51 0 1.02-.2 1.41-.59l7.78-7.78 2.81-2.81c.8-.78.8-2.07 0-2.86zM5.41 20L4 18.59l7.72-7.72 1.47 1.35L5.41 20z\"/>\n",
       "  </svg>\n",
       "      </button>\n",
       "      \n",
       "  <style>\n",
       "    .colab-df-container {\n",
       "      display:flex;\n",
       "      flex-wrap:wrap;\n",
       "      gap: 12px;\n",
       "    }\n",
       "\n",
       "    .colab-df-convert {\n",
       "      background-color: #E8F0FE;\n",
       "      border: none;\n",
       "      border-radius: 50%;\n",
       "      cursor: pointer;\n",
       "      display: none;\n",
       "      fill: #1967D2;\n",
       "      height: 32px;\n",
       "      padding: 0 0 0 0;\n",
       "      width: 32px;\n",
       "    }\n",
       "\n",
       "    .colab-df-convert:hover {\n",
       "      background-color: #E2EBFA;\n",
       "      box-shadow: 0px 1px 2px rgba(60, 64, 67, 0.3), 0px 1px 3px 1px rgba(60, 64, 67, 0.15);\n",
       "      fill: #174EA6;\n",
       "    }\n",
       "\n",
       "    [theme=dark] .colab-df-convert {\n",
       "      background-color: #3B4455;\n",
       "      fill: #D2E3FC;\n",
       "    }\n",
       "\n",
       "    [theme=dark] .colab-df-convert:hover {\n",
       "      background-color: #434B5C;\n",
       "      box-shadow: 0px 1px 3px 1px rgba(0, 0, 0, 0.15);\n",
       "      filter: drop-shadow(0px 1px 2px rgba(0, 0, 0, 0.3));\n",
       "      fill: #FFFFFF;\n",
       "    }\n",
       "  </style>\n",
       "\n",
       "      <script>\n",
       "        const buttonEl =\n",
       "          document.querySelector('#df-d164028d-b0cb-464d-9903-b2cd85d483af button.colab-df-convert');\n",
       "        buttonEl.style.display =\n",
       "          google.colab.kernel.accessAllowed ? 'block' : 'none';\n",
       "\n",
       "        async function convertToInteractive(key) {\n",
       "          const element = document.querySelector('#df-d164028d-b0cb-464d-9903-b2cd85d483af');\n",
       "          const dataTable =\n",
       "            await google.colab.kernel.invokeFunction('convertToInteractive',\n",
       "                                                     [key], {});\n",
       "          if (!dataTable) return;\n",
       "\n",
       "          const docLinkHtml = 'Like what you see? Visit the ' +\n",
       "            '<a target=\"_blank\" href=https://colab.research.google.com/notebooks/data_table.ipynb>data table notebook</a>'\n",
       "            + ' to learn more about interactive tables.';\n",
       "          element.innerHTML = '';\n",
       "          dataTable['output_type'] = 'display_data';\n",
       "          await google.colab.output.renderOutput(dataTable, element);\n",
       "          const docLink = document.createElement('div');\n",
       "          docLink.innerHTML = docLinkHtml;\n",
       "          element.appendChild(docLink);\n",
       "        }\n",
       "      </script>\n",
       "    </div>\n",
       "  </div>\n",
       "  "
      ],
      "text/plain": [
       "   ID                                          Pic_url_1  \\\n",
       "0   1  https://storage.yandexcloud.net/postcards-open...   \n",
       "1   2  https://storage.yandexcloud.net/postcards-open...   \n",
       "2   3  https://storage.yandexcloud.net/postcards-open...   \n",
       "3   4  https://storage.yandexcloud.net/postcards-open...   \n",
       "4   5  https://storage.yandexcloud.net/postcards-open...   \n",
       "\n",
       "                                           Pic_url_2 Разрешение на публикацию  \\\n",
       "0  https://storage.yandexcloud.net/postcards-open...      Разрешаю публикацию   \n",
       "1  https://storage.yandexcloud.net/postcards-open...      Разрешаю публикацию   \n",
       "2  https://storage.yandexcloud.net/postcards-open...      Разрешаю публикацию   \n",
       "3  https://storage.yandexcloud.net/postcards-open...      Разрешаю публикацию   \n",
       "4  https://storage.yandexcloud.net/postcards-open...      Разрешаю публикацию   \n",
       "\n",
       "              Источник Была ли открытка отправлена по почте  \\\n",
       "0  Найдено в интернете                                  NaN   \n",
       "1  Найдено в интернете                                  NaN   \n",
       "2  Найдено в интернете                                  NaN   \n",
       "3  Найдено в интернете                                  NaN   \n",
       "4  Найдено в интернете                                  NaN   \n",
       "\n",
       "  Название коллекции (если вы хотите подпись на сайте). Например, личная коллекция Василия Иванова.  \\\n",
       "0                                                NaN                                                  \n",
       "1                                                NaN                                                  \n",
       "2                                                NaN                                                  \n",
       "3                                                NaN                                                  \n",
       "4                                                NaN                                                  \n",
       "\n",
       "  Комментарий или метаинформация. Укажите тут любую метаинформацию про открытку, которую считаете важной. Например, какое-то знание или история, которую нельзя восстановить по тексту открытки.  \\\n",
       "0                                                NaN                                                                                                                                               \n",
       "1                                                NaN                                                                                                                                               \n",
       "2                                                NaN                                                                                                                                               \n",
       "3                                                NaN                                                                                                                                               \n",
       "4                                                NaN                                                                                                                                               \n",
       "\n",
       "   Заливщик                 Разметчик  ...                   Тег_3  \\\n",
       "0       NaN  Атрощенко Екатерина (ЯП)  ...            Письма семье   \n",
       "1       NaN         Зыкова Мария (ЯП)  ...  Благодарность в тексте   \n",
       "2       NaN         Залян Эдуард (ЯП)  ...                     NaN   \n",
       "3       NaN      Никитина Полина (ЯП)  ...     Загадочная открытка   \n",
       "4       NaN        Кошкина Мария (ЯП)  ...                     NaN   \n",
       "\n",
       "              Тег_4   Тег_5 Тег_6 Тег_7 Интересна ли для медиа/исследователей  \\\n",
       "0               NaN     NaN   NaN   NaN                                   NaN   \n",
       "1  Поцелуи из писем  Деньги   NaN   NaN                                   NaN   \n",
       "2               NaN     NaN   NaN   NaN                                   NaN   \n",
       "3               NaN     NaN   NaN   NaN                                   NaN   \n",
       "4               NaN     NaN   NaN   NaN                                   NaN   \n",
       "\n",
       "  Почему интересна Id поста на сайте  \\\n",
       "0              NaN           26789.0   \n",
       "1              NaN           26786.0   \n",
       "2              NaN           26807.0   \n",
       "3              NaN           26788.0   \n",
       "4              NaN           26804.0   \n",
       "\n",
       "                                        Дата заливки Оценка  \n",
       "0  Thu Aug 25 2022 15:04:40 GMT-0400 (Восточная А...      5  \n",
       "1  Thu Aug 25 2022 15:04:40 GMT-0400 (Восточная А...      4  \n",
       "2  Thu Aug 25 2022 15:04:40 GMT-0400 (Восточная А...      5  \n",
       "3  Thu Aug 25 2022 15:04:40 GMT-0400 (Восточная А...      4  \n",
       "4  Thu Aug 25 2022 15:04:40 GMT-0400 (Восточная А...      5  \n",
       "\n",
       "[5 rows x 58 columns]"
      ]
     },
     "execution_count": 71,
     "metadata": {},
     "output_type": "execute_result"
    }
   ],
   "source": [
    "xls = pd.ExcelFile('/content/drive/MyDrive/Системный Блок/пишу тебе/открытки базы/Расшифровка открыток 2 (Ярмарка проектов).xlsx')\n",
    "df = pd.read_excel(xls, 'Открытки')\n",
    "df = df.rename(columns={'Unnamed: 0': 'ID'})\n",
    "df['ID'] = df['ID'].astype(int)\n",
    "df.head()"
   ]
  },
  {
   "cell_type": "code",
   "execution_count": 101,
   "metadata": {
    "colab": {
     "base_uri": "https://localhost:8080/"
    },
    "id": "P9gz-cd7yhB1",
    "outputId": "45de1781-a973-4dc2-8bdc-9bd83be56667"
   },
   "outputs": [
    {
     "data": {
      "text/plain": [
       "(4968, 58)"
      ]
     },
     "execution_count": 101,
     "metadata": {},
     "output_type": "execute_result"
    }
   ],
   "source": [
    "df.shape"
   ]
  },
  {
   "cell_type": "code",
   "execution_count": 72,
   "metadata": {
    "colab": {
     "base_uri": "https://localhost:8080/"
    },
    "id": "wzX7NybJyihv",
    "outputId": "bf84b39a-933a-42a9-ea55-2a57e2774bfd"
   },
   "outputs": [
    {
     "data": {
      "text/plain": [
       "Отсутствует                         4490\n",
       "Большие поля (обе)                   219\n",
       "Низкое качество                       84\n",
       "Большие поля (лицевая)                84\n",
       "Требуется поворот                     33\n",
       "Нет текста                            15\n",
       "Большие поля (оборотная)              12\n",
       "Две стороны на одном изображении       1\n",
       "Скрыть информацию                      1\n",
       "Name: Проблема, dtype: int64"
      ]
     },
     "execution_count": 72,
     "metadata": {},
     "output_type": "execute_result"
    }
   ],
   "source": [
    "df['Проблема'].value_counts()"
   ]
  },
  {
   "cell_type": "markdown",
   "metadata": {},
   "source": [
    "Отбираем открытки с проблемой \"Большие поля\""
   ]
  },
  {
   "cell_type": "code",
   "execution_count": 74,
   "metadata": {
    "colab": {
     "base_uri": "https://localhost:8080/"
    },
    "id": "ra11LKTEyqEt",
    "outputId": "972dfada-ec33-4950-8580-ab8febdc1f1b"
   },
   "outputs": [
    {
     "data": {
      "text/plain": [
       "(315, 58)"
      ]
     },
     "execution_count": 74,
     "metadata": {},
     "output_type": "execute_result"
    }
   ],
   "source": [
    "df = df[df['Проблема'].isin(('Большие поля (обе)', \n",
    "                             'Большие поля (лицевая)', 'Большие поля (оборотная)'))]\n",
    "df.shape"
   ]
  },
  {
   "cell_type": "code",
   "execution_count": 75,
   "metadata": {
    "colab": {
     "base_uri": "https://localhost:8080/"
    },
    "id": "pzM7vCDZyqEv",
    "outputId": "36a04853-11be-42e7-9170-551293bb8f8d"
   },
   "outputs": [
    {
     "data": {
      "text/plain": [
       "Проверено                                         247\n",
       "Завершено                                          30\n",
       "Готово к расшифровке                               18\n",
       "Распределено                                       11\n",
       "Помощь модератора/ не разобрать слова в тексте      5\n",
       "Исключено/ трудный почерк                           2\n",
       "Исключено                                           1\n",
       "Помощь модератора/ иностранный язык                 1\n",
       "Name: Статус (распределено, в процессе, завершено, проблема), dtype: int64"
      ]
     },
     "execution_count": 75,
     "metadata": {},
     "output_type": "execute_result"
    }
   ],
   "source": [
    "df['Статус (распределено, в процессе, завершено, проблема)'].value_counts()"
   ]
  },
  {
   "cell_type": "markdown",
   "metadata": {},
   "source": [
    "Выкидываем уже исключенные"
   ]
  },
  {
   "cell_type": "code",
   "execution_count": 76,
   "metadata": {
    "colab": {
     "base_uri": "https://localhost:8080/"
    },
    "id": "T8TYsEJSyqEw",
    "outputId": "c904fd72-a41e-4e2f-9f4c-c3992be38670"
   },
   "outputs": [
    {
     "data": {
      "text/plain": [
       "(312, 58)"
      ]
     },
     "execution_count": 76,
     "metadata": {},
     "output_type": "execute_result"
    }
   ],
   "source": [
    "df = df[~df['Статус (распределено, в процессе, завершено, проблема)'].isin((\n",
    "    'Исключено/ трудный почерк', 'Исключено'))]\n",
    "df.shape"
   ]
  },
  {
   "cell_type": "markdown",
   "metadata": {
    "id": "XOPtmYV7zemb"
   },
   "source": [
    "Запуск обрезки"
   ]
  },
  {
   "cell_type": "code",
   "execution_count": 77,
   "metadata": {
    "colab": {
     "base_uri": "https://localhost:8080/"
    },
    "id": "xtMw8DlezYxl",
    "outputId": "fe9fb609-d04d-4ce4-ede7-ceaaccd57a14"
   },
   "outputs": [
    {
     "name": "stderr",
     "output_type": "stream",
     "text": [
      "100%|██████████| 312/312 [1:19:56<00:00, 15.37s/it]\n"
     ]
    }
   ],
   "source": [
    "for ind, row in tqdm(df.iterrows(), total=df.shape[0]):\n",
    "  postcard_id = row['ID']\n",
    "  \n",
    "  if row['Проблема'] in ('Большие поля (лицевая)', 'Большие поля (обе)'):\n",
    "    filename_1 = str(postcard_id) + '-1.jpg'\n",
    "    filename_1_cut = str(postcard_id) + '-1-cut.jpg'\n",
    "    process_image(filename_1, filename_1_cut, row['Pic_url_1'])\n",
    "  \n",
    "  if row['Проблема'] in ('Большие поля (оборотная)', 'Большие поля (обе)'):\n",
    "    filename_2 = str(postcard_id) + '-2.jpg'\n",
    "    filename_2_cut = str(postcard_id) + '-2-cut.jpg'\n",
    "    process_image(filename_2, filename_2_cut, row['Pic_url_2'])"
   ]
  },
  {
   "cell_type": "code",
   "execution_count": null,
   "metadata": {
    "id": "rF-GN5TFzYxn"
   },
   "outputs": [],
   "source": [
    "!zip -r /content/pictures.zip /content/pictures"
   ]
  },
  {
   "cell_type": "markdown",
   "metadata": {
    "id": "IwnUYHPDDADH"
   },
   "source": [
    "## База 3\n",
    "Чтение данных"
   ]
  },
  {
   "cell_type": "code",
   "execution_count": 31,
   "metadata": {
    "id": "nQf8AE0TDFAI"
   },
   "outputs": [
    {
     "data": {
      "text/html": [
       "<div>\n",
       "<style scoped>\n",
       "    .dataframe tbody tr th:only-of-type {\n",
       "        vertical-align: middle;\n",
       "    }\n",
       "\n",
       "    .dataframe tbody tr th {\n",
       "        vertical-align: top;\n",
       "    }\n",
       "\n",
       "    .dataframe thead th {\n",
       "        text-align: right;\n",
       "    }\n",
       "</style>\n",
       "<table border=\"1\" class=\"dataframe\">\n",
       "  <thead>\n",
       "    <tr style=\"text-align: right;\">\n",
       "      <th></th>\n",
       "      <th>ID</th>\n",
       "      <th>Pic_url_1</th>\n",
       "      <th>Pic_url_2</th>\n",
       "      <th>Разрешение на публикацию</th>\n",
       "      <th>Источник</th>\n",
       "      <th>Была ли открытка отправлена по почте</th>\n",
       "      <th>Название коллекции (если вы хотите подпись на сайте). Например, коллекция Василия Иванова.</th>\n",
       "      <th>Комментарий или метаинформация. Укажите тут любую метаинформацию про открытку, которую считаете важной. Например, какое-то знание или история, которую нельзя восстановить по тексту открытки.</th>\n",
       "      <th>Заливщик</th>\n",
       "      <th>Разметчик</th>\n",
       "      <th>...</th>\n",
       "      <th>Тег_3</th>\n",
       "      <th>Тег_4</th>\n",
       "      <th>Тег_5</th>\n",
       "      <th>Тег_6</th>\n",
       "      <th>Тег_7</th>\n",
       "      <th>Интересна ли для медиа/исследователей</th>\n",
       "      <th>Почему интересна</th>\n",
       "      <th>Id поста на сайте</th>\n",
       "      <th>Дата заливки</th>\n",
       "      <th>Оценка</th>\n",
       "    </tr>\n",
       "  </thead>\n",
       "  <tbody>\n",
       "    <tr>\n",
       "      <th>0</th>\n",
       "      <td>5028</td>\n",
       "      <td>https://storage.yandexcloud.net/postcards-open...</td>\n",
       "      <td>https://storage.yandexcloud.net/postcards-open...</td>\n",
       "      <td>Разрешаю публикацию</td>\n",
       "      <td>Найдено в интернете</td>\n",
       "      <td>NaN</td>\n",
       "      <td>NaN</td>\n",
       "      <td>NaN</td>\n",
       "      <td>NaN</td>\n",
       "      <td>Анна Макарова</td>\n",
       "      <td>...</td>\n",
       "      <td>NaN</td>\n",
       "      <td>NaN</td>\n",
       "      <td>NaN</td>\n",
       "      <td>NaN</td>\n",
       "      <td>NaN</td>\n",
       "      <td>NaN</td>\n",
       "      <td>NaN</td>\n",
       "      <td>NaN</td>\n",
       "      <td>NaN</td>\n",
       "      <td>0</td>\n",
       "    </tr>\n",
       "    <tr>\n",
       "      <th>1</th>\n",
       "      <td>5096</td>\n",
       "      <td>https://storage.yandexcloud.net/postcards-open...</td>\n",
       "      <td>https://storage.yandexcloud.net/postcards-open...</td>\n",
       "      <td>Разрешаю публикацию</td>\n",
       "      <td>Найдено в интернете</td>\n",
       "      <td>NaN</td>\n",
       "      <td>NaN</td>\n",
       "      <td>NaN</td>\n",
       "      <td>NaN</td>\n",
       "      <td>Анна Макарова</td>\n",
       "      <td>...</td>\n",
       "      <td>Письма семье</td>\n",
       "      <td>Написано о детях</td>\n",
       "      <td>NaN</td>\n",
       "      <td>NaN</td>\n",
       "      <td>NaN</td>\n",
       "      <td>NaN</td>\n",
       "      <td>NaN</td>\n",
       "      <td>NaN</td>\n",
       "      <td>NaN</td>\n",
       "      <td>0</td>\n",
       "    </tr>\n",
       "    <tr>\n",
       "      <th>2</th>\n",
       "      <td>4980</td>\n",
       "      <td>https://storage.yandexcloud.net/postcards-open...</td>\n",
       "      <td>https://storage.yandexcloud.net/postcards-open...</td>\n",
       "      <td>Разрешаю публикацию</td>\n",
       "      <td>Найдено в интернете</td>\n",
       "      <td>NaN</td>\n",
       "      <td>NaN</td>\n",
       "      <td>NaN</td>\n",
       "      <td>NaN</td>\n",
       "      <td>Бачинина Яна (ЯП4, 09-10.22)</td>\n",
       "      <td>...</td>\n",
       "      <td>Социальное</td>\n",
       "      <td>Житейское</td>\n",
       "      <td>Загадочная открытка</td>\n",
       "      <td>NaN</td>\n",
       "      <td>NaN</td>\n",
       "      <td>NaN</td>\n",
       "      <td>NaN</td>\n",
       "      <td>NaN</td>\n",
       "      <td>NaN</td>\n",
       "      <td>5</td>\n",
       "    </tr>\n",
       "    <tr>\n",
       "      <th>3</th>\n",
       "      <td>5038</td>\n",
       "      <td>https://storage.yandexcloud.net/postcards-open...</td>\n",
       "      <td>https://storage.yandexcloud.net/postcards-open...</td>\n",
       "      <td>Разрешаю публикацию</td>\n",
       "      <td>Найдено в интернете</td>\n",
       "      <td>NaN</td>\n",
       "      <td>NaN</td>\n",
       "      <td>NaN</td>\n",
       "      <td>NaN</td>\n",
       "      <td>Бачинина Яна (ЯП4, 09-10.22)</td>\n",
       "      <td>...</td>\n",
       "      <td>Письма от семьи</td>\n",
       "      <td>Житейское</td>\n",
       "      <td>Новости</td>\n",
       "      <td>Дурные вести</td>\n",
       "      <td>пасха</td>\n",
       "      <td>NaN</td>\n",
       "      <td>NaN</td>\n",
       "      <td>NaN</td>\n",
       "      <td>NaN</td>\n",
       "      <td>4</td>\n",
       "    </tr>\n",
       "    <tr>\n",
       "      <th>4</th>\n",
       "      <td>5073</td>\n",
       "      <td>https://storage.yandexcloud.net/postcards-open...</td>\n",
       "      <td>https://storage.yandexcloud.net/postcards-open...</td>\n",
       "      <td>Разрешаю публикацию</td>\n",
       "      <td>Найдено в интернете</td>\n",
       "      <td>NaN</td>\n",
       "      <td>NaN</td>\n",
       "      <td>NaN</td>\n",
       "      <td>NaN</td>\n",
       "      <td>Бенедиктова Полина (ЯП4, 09-10.22)</td>\n",
       "      <td>...</td>\n",
       "      <td>Просьба</td>\n",
       "      <td>Житейское</td>\n",
       "      <td>Письма отцу</td>\n",
       "      <td>NaN</td>\n",
       "      <td>Из путешествия</td>\n",
       "      <td>NaN</td>\n",
       "      <td>NaN</td>\n",
       "      <td>NaN</td>\n",
       "      <td>NaN</td>\n",
       "      <td>4</td>\n",
       "    </tr>\n",
       "  </tbody>\n",
       "</table>\n",
       "<p>5 rows × 58 columns</p>\n",
       "</div>"
      ],
      "text/plain": [
       "     ID                                          Pic_url_1  \\\n",
       "0  5028  https://storage.yandexcloud.net/postcards-open...   \n",
       "1  5096  https://storage.yandexcloud.net/postcards-open...   \n",
       "2  4980  https://storage.yandexcloud.net/postcards-open...   \n",
       "3  5038  https://storage.yandexcloud.net/postcards-open...   \n",
       "4  5073  https://storage.yandexcloud.net/postcards-open...   \n",
       "\n",
       "                                           Pic_url_2 Разрешение на публикацию  \\\n",
       "0  https://storage.yandexcloud.net/postcards-open...      Разрешаю публикацию   \n",
       "1  https://storage.yandexcloud.net/postcards-open...      Разрешаю публикацию   \n",
       "2  https://storage.yandexcloud.net/postcards-open...      Разрешаю публикацию   \n",
       "3  https://storage.yandexcloud.net/postcards-open...      Разрешаю публикацию   \n",
       "4  https://storage.yandexcloud.net/postcards-open...      Разрешаю публикацию   \n",
       "\n",
       "              Источник Была ли открытка отправлена по почте  \\\n",
       "0  Найдено в интернете                                  NaN   \n",
       "1  Найдено в интернете                                  NaN   \n",
       "2  Найдено в интернете                                  NaN   \n",
       "3  Найдено в интернете                                  NaN   \n",
       "4  Найдено в интернете                                  NaN   \n",
       "\n",
       "  Название коллекции (если вы хотите подпись на сайте). Например, коллекция Василия Иванова.  \\\n",
       "0                                                NaN                                           \n",
       "1                                                NaN                                           \n",
       "2                                                NaN                                           \n",
       "3                                                NaN                                           \n",
       "4                                                NaN                                           \n",
       "\n",
       "  Комментарий или метаинформация. Укажите тут любую метаинформацию про открытку, которую считаете важной. Например, какое-то знание или история, которую нельзя восстановить по тексту открытки.  \\\n",
       "0                                                NaN                                                                                                                                               \n",
       "1                                                NaN                                                                                                                                               \n",
       "2                                                NaN                                                                                                                                               \n",
       "3                                                NaN                                                                                                                                               \n",
       "4                                                NaN                                                                                                                                               \n",
       "\n",
       "   Заливщик                           Разметчик  ...            Тег_3  \\\n",
       "0       NaN                       Анна Макарова  ...              NaN   \n",
       "1       NaN                       Анна Макарова  ...     Письма семье   \n",
       "2       NaN        Бачинина Яна (ЯП4, 09-10.22)  ...       Социальное   \n",
       "3       NaN        Бачинина Яна (ЯП4, 09-10.22)  ...  Письма от семьи   \n",
       "4       NaN  Бенедиктова Полина (ЯП4, 09-10.22)  ...          Просьба   \n",
       "\n",
       "              Тег_4                Тег_5         Тег_6           Тег_7  \\\n",
       "0               NaN                  NaN           NaN             NaN   \n",
       "1  Написано о детях                  NaN           NaN             NaN   \n",
       "2         Житейское  Загадочная открытка           NaN             NaN   \n",
       "3         Житейское              Новости  Дурные вести           пасха   \n",
       "4         Житейское          Письма отцу           NaN  Из путешествия   \n",
       "\n",
       "  Интересна ли для медиа/исследователей Почему интересна Id поста на сайте  \\\n",
       "0                                   NaN              NaN               NaN   \n",
       "1                                   NaN              NaN               NaN   \n",
       "2                                   NaN              NaN               NaN   \n",
       "3                                   NaN              NaN               NaN   \n",
       "4                                   NaN              NaN               NaN   \n",
       "\n",
       "  Дата заливки Оценка  \n",
       "0          NaN      0  \n",
       "1          NaN      0  \n",
       "2          NaN      5  \n",
       "3          NaN      4  \n",
       "4          NaN      4  \n",
       "\n",
       "[5 rows x 58 columns]"
      ]
     },
     "execution_count": 31,
     "metadata": {},
     "output_type": "execute_result"
    }
   ],
   "source": [
    "xls = pd.ExcelFile('db/Расшифровка открыток 3 (Ярмарка проектов).xlsx')\n",
    "df = pd.read_excel(xls, 'Открытки')\n",
    "df = df.rename(columns={'Unnamed: 0': 'ID'})\n",
    "df = df[~df['ID'].isna()]\n",
    "df['ID'] = df['ID'].astype(int)\n",
    "df.head()"
   ]
  },
  {
   "cell_type": "code",
   "execution_count": 32,
   "metadata": {},
   "outputs": [
    {
     "data": {
      "text/plain": [
       "(10453, 58)"
      ]
     },
     "execution_count": 32,
     "metadata": {},
     "output_type": "execute_result"
    }
   ],
   "source": [
    "df.shape"
   ]
  },
  {
   "cell_type": "code",
   "execution_count": 33,
   "metadata": {
    "id": "QGbLfsNXDFAM"
   },
   "outputs": [
    {
     "data": {
      "text/plain": [
       "Отсутствует                         7698\n",
       "Большие поля (обе)                  2589\n",
       "Низкое качество                       99\n",
       "Нет текста                             9\n",
       "Требуется поворот                      7\n",
       "Большие поля (оборотная)               4\n",
       "Обрезать небольшую полоску снизу       1\n",
       "Большие поля (лицевая)                 1\n",
       "Скрыть информацию                      1\n",
       "Две стороны на одном изображении       1\n",
       "иностранный язык                       1\n",
       "Name: Проблема, dtype: int64"
      ]
     },
     "execution_count": 33,
     "metadata": {},
     "output_type": "execute_result"
    }
   ],
   "source": [
    "df['Проблема'].value_counts()"
   ]
  },
  {
   "cell_type": "markdown",
   "metadata": {},
   "source": [
    "Отбираем открытки с проблемой \"Большие поля\""
   ]
  },
  {
   "cell_type": "code",
   "execution_count": 34,
   "metadata": {
    "id": "p6Z0nuZ-DFAN"
   },
   "outputs": [
    {
     "data": {
      "text/plain": [
       "(2594, 58)"
      ]
     },
     "execution_count": 34,
     "metadata": {},
     "output_type": "execute_result"
    }
   ],
   "source": [
    "df = df[df['Проблема'].isin(['Большие поля (обе)', 'Большие поля (оборотная)', 'Большие поля (лицевая)'])]\n",
    "df.shape"
   ]
  },
  {
   "cell_type": "code",
   "execution_count": 35,
   "metadata": {
    "id": "OmSOVJIZDFAO"
   },
   "outputs": [
    {
     "data": {
      "text/plain": [
       "Завершено                                                 1468\n",
       "Проверено                                                  886\n",
       "Распределено                                               208\n",
       "Помощь модератора/ не разобрать слова в тексте              12\n",
       "Исключено                                                    8\n",
       "Помощь модератора/ иностранный язык                          4\n",
       "В процессе                                                   4\n",
       "Исключено/ трудный почерк                                    2\n",
       "Помощь модератора/ информация об изображении, открытке       1\n",
       "Готово к расшифровке                                         1\n",
       "Name: Статус (распределено, в процессе, завершено, проблема), dtype: int64"
      ]
     },
     "execution_count": 35,
     "metadata": {},
     "output_type": "execute_result"
    }
   ],
   "source": [
    "df['Статус (распределено, в процессе, завершено, проблема)'].value_counts()"
   ]
  },
  {
   "cell_type": "markdown",
   "metadata": {},
   "source": [
    "Выкидываем уже исключенные"
   ]
  },
  {
   "cell_type": "code",
   "execution_count": 36,
   "metadata": {
    "id": "Fli4zcJ4DFAO"
   },
   "outputs": [
    {
     "data": {
      "text/plain": [
       "(2584, 58)"
      ]
     },
     "execution_count": 36,
     "metadata": {},
     "output_type": "execute_result"
    }
   ],
   "source": [
    "df = df[~df['Статус (распределено, в процессе, завершено, проблема)'].isin(['Исключено', 'Исключено/ трудный почерк'])]\n",
    "df.shape"
   ]
  },
  {
   "cell_type": "markdown",
   "metadata": {
    "id": "OaEJFYH8DFAP"
   },
   "source": [
    "Запуск обрезки"
   ]
  },
  {
   "cell_type": "code",
   "execution_count": 51,
   "metadata": {},
   "outputs": [
    {
     "name": "stderr",
     "output_type": "stream",
     "text": [
      "100%|██████████| 2584/2584 [13:02:35<00:00, 18.17s/it]    \n"
     ]
    }
   ],
   "source": [
    "for ind, row in tqdm(df.iterrows(), total=df.shape[0]):\n",
    "    postcard_id = row['ID']\n",
    "\n",
    "    if row['Проблема'] in ('Большие поля (лицевая)', 'Большие поля (обе)'):\n",
    "        filename_front = str(postcard_id) + '-1.jpg'\n",
    "        process_image(filename_front, row['Pic_url_1'], main_folder='pictures 3/')\n",
    "\n",
    "    if row['Проблема'] in ('Большие поля (оборотная)', 'Большие поля (обе)'):\n",
    "        filename_back = str(postcard_id) + '-2.jpg'\n",
    "        process_image(filename_back, row['Pic_url_2'], main_folder='pictures 3/')"
   ]
  },
  {
   "cell_type": "markdown",
   "metadata": {},
   "source": [
    "# Таблица с метаинформацией\n",
    "Создаем таблицу с информацией о результатах обрезки  \n",
    "https://docs.google.com/spreadsheets/d/1kOEF__dBfsv2DG-IQid1o9KWkIzNUfk5/edit?usp=sharing&ouid=109949538838834877697&rtpof=true&sd=true\n",
    "\n",
    "Инструкция для ручной корректировки данных  \n",
    "https://docs.google.com/document/d/1ZZGgGRIv78tdaEh5h00GI_tuZ5vckQJWoGe9tmDNGgM/edit?usp=sharing"
   ]
  },
  {
   "cell_type": "markdown",
   "metadata": {},
   "source": [
    "## Функции"
   ]
  },
  {
   "cell_type": "markdown",
   "metadata": {},
   "source": [
    "Лист о директории cut-success"
   ]
  },
  {
   "cell_type": "code",
   "execution_count": 91,
   "metadata": {},
   "outputs": [],
   "source": [
    "def get_cut_success_df(directory_str):\n",
    "    directory = os.fsencode(directory_str)\n",
    "    orig = True\n",
    "    df_cut_success = []\n",
    "\n",
    "    for file in os.listdir(directory):\n",
    "        filename = os.fsdecode(file)\n",
    "        if orig:\n",
    "            name, extension = filename.split('.')\n",
    "            name = name.split('-')\n",
    "            postcard_id, pic = int(name[0]), int(name[1])\n",
    "            cur_item = [postcard_id, pic, filename]\n",
    "        else:\n",
    "            cur_item.append(filename)\n",
    "            df_cut_success.append(tuple(cur_item))    \n",
    "        orig = not orig\n",
    "    \n",
    "    df_cut_success = pd.DataFrame(df_cut_success, columns=['ID', 'Pic', 'crop_opencv', 'orig_file'])\n",
    "    df_cut_success = df_cut_success[['ID', 'Pic', 'orig_file', 'crop_opencv']]\n",
    "    df_cut_success['opencv_status'] = 'success'\n",
    "    df_cut_success['comments'] = ''\n",
    "    df_cut_success = df_cut_success.sort_values(by='ID')\n",
    "    return df_cut_success"
   ]
  },
  {
   "cell_type": "markdown",
   "metadata": {},
   "source": [
    "Лист о директории cut-fail"
   ]
  },
  {
   "cell_type": "code",
   "execution_count": 92,
   "metadata": {},
   "outputs": [],
   "source": [
    "def get_cut_fail_df(directory_str):\n",
    "    directory = os.fsencode(directory_str)\n",
    "    df_cut_fail = []\n",
    "\n",
    "    for file in os.listdir(directory):\n",
    "        filename = os.fsdecode(file)\n",
    "        name, extension = filename.split('.')\n",
    "        name = name.split('-')\n",
    "        postcard_id, pic = int(name[0]), int(name[1])\n",
    "        if name[-1] == 'alg':\n",
    "            cur_item = [postcard_id, pic, filename]\n",
    "        elif name[-1] == 'opencv':\n",
    "            cur_item.append(filename)\n",
    "        elif name[-1] == 'rembg':\n",
    "            cur_item.append(filename)\n",
    "        else:\n",
    "            cur_item.append(filename)\n",
    "            df_cut_fail.append(tuple(cur_item)) \n",
    "            \n",
    "    df_cut_fail = pd.DataFrame(df_cut_fail, \n",
    "                               columns=['ID', 'Pic', 'crop_alg', 'crop_opencv', 'crop_rembg', 'orig_file'])\n",
    "    df_cut_fail = df_cut_fail[['ID', 'Pic', 'orig_file', 'crop_opencv', 'crop_rembg', 'crop_alg']]\n",
    "    df_cut_fail['crop_result'] = 'rembg'\n",
    "    df_cut_fail['comments'] = ''\n",
    "    df_cut_fail = df_cut_fail.sort_values(by='ID')\n",
    "    return df_cut_fail"
   ]
  },
  {
   "cell_type": "markdown",
   "metadata": {},
   "source": [
    "## База 1"
   ]
  },
  {
   "cell_type": "markdown",
   "metadata": {},
   "source": [
    "Переименовываем файлы (добавляем хвост -opencv) --- ***исторический код, при использовании верховной функции `process_image` не нужен***"
   ]
  },
  {
   "cell_type": "code",
   "execution_count": 60,
   "metadata": {},
   "outputs": [],
   "source": [
    "directory = os.fsencode('pictures 1/cut-success/')\n",
    "for file in os.listdir(directory):\n",
    "    old_filename = os.fsdecode(file)\n",
    "    if old_filename.endswith('-cut.jpg'):\n",
    "        new_filename = old_filename.split('.')[0] + '-opencv.' + old_filename.split('.')[1]\n",
    "        os.rename('pictures 1/cut-success/' + old_filename, 'pictures 1/cut-success/' + new_filename)"
   ]
  },
  {
   "cell_type": "code",
   "execution_count": 32,
   "metadata": {},
   "outputs": [],
   "source": [
    "directory = os.fsencode('pictures 1/cut-fail/')\n",
    "for file in os.listdir(directory):\n",
    "    old_filename = os.fsdecode(file)\n",
    "    if old_filename.endswith('-cut.jpg'):\n",
    "        new_filename = old_filename.split('.')[0] + '-opencv.' + old_filename.split('.')[1]\n",
    "        os.rename('pictures 1/cut-fail/' + old_filename, 'pictures 1/cut-fail/' + new_filename)"
   ]
  },
  {
   "cell_type": "markdown",
   "metadata": {},
   "source": [
    "Генерируем лист cut-success"
   ]
  },
  {
   "cell_type": "code",
   "execution_count": 93,
   "metadata": {},
   "outputs": [
    {
     "data": {
      "text/html": [
       "<div>\n",
       "<style scoped>\n",
       "    .dataframe tbody tr th:only-of-type {\n",
       "        vertical-align: middle;\n",
       "    }\n",
       "\n",
       "    .dataframe tbody tr th {\n",
       "        vertical-align: top;\n",
       "    }\n",
       "\n",
       "    .dataframe thead th {\n",
       "        text-align: right;\n",
       "    }\n",
       "</style>\n",
       "<table border=\"1\" class=\"dataframe\">\n",
       "  <thead>\n",
       "    <tr style=\"text-align: right;\">\n",
       "      <th></th>\n",
       "      <th>ID</th>\n",
       "      <th>Pic</th>\n",
       "      <th>orig_file</th>\n",
       "      <th>crop_opencv</th>\n",
       "      <th>opencv_status</th>\n",
       "      <th>comments</th>\n",
       "    </tr>\n",
       "  </thead>\n",
       "  <tbody>\n",
       "    <tr>\n",
       "      <th>250</th>\n",
       "      <td>966</td>\n",
       "      <td>1</td>\n",
       "      <td>966-1.jpg</td>\n",
       "      <td>966-1-cut-opencv.jpg</td>\n",
       "      <td>success</td>\n",
       "      <td></td>\n",
       "    </tr>\n",
       "    <tr>\n",
       "      <th>0</th>\n",
       "      <td>1649</td>\n",
       "      <td>1</td>\n",
       "      <td>1649-1.jpg</td>\n",
       "      <td>1649-1-cut-opencv.jpg</td>\n",
       "      <td>success</td>\n",
       "      <td></td>\n",
       "    </tr>\n",
       "    <tr>\n",
       "      <th>1</th>\n",
       "      <td>2102</td>\n",
       "      <td>2</td>\n",
       "      <td>2102-2.jpg</td>\n",
       "      <td>2102-2-cut-opencv.jpg</td>\n",
       "      <td>success</td>\n",
       "      <td></td>\n",
       "    </tr>\n",
       "    <tr>\n",
       "      <th>2</th>\n",
       "      <td>2150</td>\n",
       "      <td>1</td>\n",
       "      <td>2150-1.jpg</td>\n",
       "      <td>2150-1-cut-opencv.jpg</td>\n",
       "      <td>success</td>\n",
       "      <td></td>\n",
       "    </tr>\n",
       "    <tr>\n",
       "      <th>3</th>\n",
       "      <td>2150</td>\n",
       "      <td>2</td>\n",
       "      <td>2150-2.jpg</td>\n",
       "      <td>2150-2-cut-opencv.jpg</td>\n",
       "      <td>success</td>\n",
       "      <td></td>\n",
       "    </tr>\n",
       "  </tbody>\n",
       "</table>\n",
       "</div>"
      ],
      "text/plain": [
       "       ID  Pic   orig_file            crop_opencv opencv_status comments\n",
       "250   966    1   966-1.jpg   966-1-cut-opencv.jpg       success         \n",
       "0    1649    1  1649-1.jpg  1649-1-cut-opencv.jpg       success         \n",
       "1    2102    2  2102-2.jpg  2102-2-cut-opencv.jpg       success         \n",
       "2    2150    1  2150-1.jpg  2150-1-cut-opencv.jpg       success         \n",
       "3    2150    2  2150-2.jpg  2150-2-cut-opencv.jpg       success         "
      ]
     },
     "execution_count": 93,
     "metadata": {},
     "output_type": "execute_result"
    }
   ],
   "source": [
    "base_1_cut_success = get_cut_success_df('pictures 1/cut-success/')\n",
    "base_1_cut_success.head()"
   ]
  },
  {
   "cell_type": "code",
   "execution_count": 96,
   "metadata": {},
   "outputs": [
    {
     "data": {
      "text/plain": [
       "(251, 6)"
      ]
     },
     "execution_count": 96,
     "metadata": {},
     "output_type": "execute_result"
    }
   ],
   "source": [
    "base_1_cut_success.shape"
   ]
  },
  {
   "cell_type": "code",
   "execution_count": 97,
   "metadata": {
    "scrolled": true
   },
   "outputs": [
    {
     "data": {
      "text/plain": [
       "251"
      ]
     },
     "execution_count": 97,
     "metadata": {},
     "output_type": "execute_result"
    }
   ],
   "source": [
    "base_1_cut_success['orig_file'].nunique()"
   ]
  },
  {
   "cell_type": "markdown",
   "metadata": {},
   "source": [
    "Генерируем лист cut-fail"
   ]
  },
  {
   "cell_type": "code",
   "execution_count": 98,
   "metadata": {},
   "outputs": [
    {
     "data": {
      "text/html": [
       "<div>\n",
       "<style scoped>\n",
       "    .dataframe tbody tr th:only-of-type {\n",
       "        vertical-align: middle;\n",
       "    }\n",
       "\n",
       "    .dataframe tbody tr th {\n",
       "        vertical-align: top;\n",
       "    }\n",
       "\n",
       "    .dataframe thead th {\n",
       "        text-align: right;\n",
       "    }\n",
       "</style>\n",
       "<table border=\"1\" class=\"dataframe\">\n",
       "  <thead>\n",
       "    <tr style=\"text-align: right;\">\n",
       "      <th></th>\n",
       "      <th>ID</th>\n",
       "      <th>Pic</th>\n",
       "      <th>orig_file</th>\n",
       "      <th>crop_opencv</th>\n",
       "      <th>crop_rembg</th>\n",
       "      <th>crop_alg</th>\n",
       "      <th>crop_result</th>\n",
       "      <th>comments</th>\n",
       "    </tr>\n",
       "  </thead>\n",
       "  <tbody>\n",
       "    <tr>\n",
       "      <th>55</th>\n",
       "      <td>952</td>\n",
       "      <td>2</td>\n",
       "      <td>952-2.jpg</td>\n",
       "      <td>952-2-cut-opencv.jpg</td>\n",
       "      <td>952-2-cut-rembg.jpg</td>\n",
       "      <td>952-2-cut-alg.jpg</td>\n",
       "      <td>rembg</td>\n",
       "      <td></td>\n",
       "    </tr>\n",
       "    <tr>\n",
       "      <th>54</th>\n",
       "      <td>952</td>\n",
       "      <td>1</td>\n",
       "      <td>952-1.jpg</td>\n",
       "      <td>952-1-cut-opencv.jpg</td>\n",
       "      <td>952-1-cut-rembg.jpg</td>\n",
       "      <td>952-1-cut-alg.jpg</td>\n",
       "      <td>rembg</td>\n",
       "      <td></td>\n",
       "    </tr>\n",
       "    <tr>\n",
       "      <th>0</th>\n",
       "      <td>1024</td>\n",
       "      <td>1</td>\n",
       "      <td>1024-1.jpg</td>\n",
       "      <td>1024-1-cut-opencv.jpg</td>\n",
       "      <td>1024-1-cut-rembg.jpg</td>\n",
       "      <td>1024-1-cut-alg.jpg</td>\n",
       "      <td>rembg</td>\n",
       "      <td></td>\n",
       "    </tr>\n",
       "    <tr>\n",
       "      <th>1</th>\n",
       "      <td>1024</td>\n",
       "      <td>2</td>\n",
       "      <td>1024-2.jpg</td>\n",
       "      <td>1024-2-cut-opencv.jpg</td>\n",
       "      <td>1024-2-cut-rembg.jpg</td>\n",
       "      <td>1024-2-cut-alg.jpg</td>\n",
       "      <td>rembg</td>\n",
       "      <td></td>\n",
       "    </tr>\n",
       "    <tr>\n",
       "      <th>2</th>\n",
       "      <td>2102</td>\n",
       "      <td>1</td>\n",
       "      <td>2102-1.jpg</td>\n",
       "      <td>2102-1-cut-opencv.jpg</td>\n",
       "      <td>2102-1-cut-rembg.jpg</td>\n",
       "      <td>2102-1-cut-alg.jpg</td>\n",
       "      <td>rembg</td>\n",
       "      <td></td>\n",
       "    </tr>\n",
       "  </tbody>\n",
       "</table>\n",
       "</div>"
      ],
      "text/plain": [
       "      ID  Pic   orig_file            crop_opencv            crop_rembg  \\\n",
       "55   952    2   952-2.jpg   952-2-cut-opencv.jpg   952-2-cut-rembg.jpg   \n",
       "54   952    1   952-1.jpg   952-1-cut-opencv.jpg   952-1-cut-rembg.jpg   \n",
       "0   1024    1  1024-1.jpg  1024-1-cut-opencv.jpg  1024-1-cut-rembg.jpg   \n",
       "1   1024    2  1024-2.jpg  1024-2-cut-opencv.jpg  1024-2-cut-rembg.jpg   \n",
       "2   2102    1  2102-1.jpg  2102-1-cut-opencv.jpg  2102-1-cut-rembg.jpg   \n",
       "\n",
       "              crop_alg crop_result comments  \n",
       "55   952-2-cut-alg.jpg       rembg           \n",
       "54   952-1-cut-alg.jpg       rembg           \n",
       "0   1024-1-cut-alg.jpg       rembg           \n",
       "1   1024-2-cut-alg.jpg       rembg           \n",
       "2   2102-1-cut-alg.jpg       rembg           "
      ]
     },
     "execution_count": 98,
     "metadata": {},
     "output_type": "execute_result"
    }
   ],
   "source": [
    "base_1_cut_fail = get_cut_fail_df('pictures 1/cut-fail/')\n",
    "base_1_cut_fail.head()"
   ]
  },
  {
   "cell_type": "code",
   "execution_count": 99,
   "metadata": {},
   "outputs": [
    {
     "data": {
      "text/plain": [
       "(56, 8)"
      ]
     },
     "execution_count": 99,
     "metadata": {},
     "output_type": "execute_result"
    }
   ],
   "source": [
    "base_1_cut_fail.shape"
   ]
  },
  {
   "cell_type": "markdown",
   "metadata": {},
   "source": [
    "## База 2"
   ]
  },
  {
   "cell_type": "markdown",
   "metadata": {},
   "source": [
    "Переименовываем файлы (добавляем хвост -opencv) --- ***исторический код, при использовании верховной функции `process_image` не нужен***"
   ]
  },
  {
   "cell_type": "code",
   "execution_count": 81,
   "metadata": {},
   "outputs": [],
   "source": [
    "directory = os.fsencode('pictures 2/cut-success/')\n",
    "for file in os.listdir(directory):\n",
    "    old_filename = os.fsdecode(file)\n",
    "    if old_filename.endswith('-cut.jpg'):\n",
    "        new_filename = old_filename.split('.')[0] + '-opencv.' + old_filename.split('.')[1]\n",
    "        os.rename('pictures 2/cut-success/' + old_filename, 'pictures 2/cut-success/' + new_filename)"
   ]
  },
  {
   "cell_type": "code",
   "execution_count": 82,
   "metadata": {},
   "outputs": [],
   "source": [
    "directory = os.fsencode('pictures 2/cut-fail/')\n",
    "for file in os.listdir(directory):\n",
    "    old_filename = os.fsdecode(file)\n",
    "    if old_filename.endswith('-cut.jpg'):\n",
    "        new_filename = old_filename.split('.')[0] + '-opencv.' + old_filename.split('.')[1]\n",
    "        os.rename('pictures 2/cut-fail/' + old_filename, 'pictures 2/cut-fail/' + new_filename)"
   ]
  },
  {
   "cell_type": "markdown",
   "metadata": {},
   "source": [
    "Генерируем лист cut-success"
   ]
  },
  {
   "cell_type": "code",
   "execution_count": 101,
   "metadata": {},
   "outputs": [
    {
     "data": {
      "text/html": [
       "<div>\n",
       "<style scoped>\n",
       "    .dataframe tbody tr th:only-of-type {\n",
       "        vertical-align: middle;\n",
       "    }\n",
       "\n",
       "    .dataframe tbody tr th {\n",
       "        vertical-align: top;\n",
       "    }\n",
       "\n",
       "    .dataframe thead th {\n",
       "        text-align: right;\n",
       "    }\n",
       "</style>\n",
       "<table border=\"1\" class=\"dataframe\">\n",
       "  <thead>\n",
       "    <tr style=\"text-align: right;\">\n",
       "      <th></th>\n",
       "      <th>ID</th>\n",
       "      <th>Pic</th>\n",
       "      <th>orig_file</th>\n",
       "      <th>crop_opencv</th>\n",
       "      <th>opencv_status</th>\n",
       "      <th>comments</th>\n",
       "    </tr>\n",
       "  </thead>\n",
       "  <tbody>\n",
       "    <tr>\n",
       "      <th>263</th>\n",
       "      <td>57</td>\n",
       "      <td>1</td>\n",
       "      <td>57-1.jpg</td>\n",
       "      <td>57-1-cut-opencv.jpg</td>\n",
       "      <td>success</td>\n",
       "      <td></td>\n",
       "    </tr>\n",
       "    <tr>\n",
       "      <th>264</th>\n",
       "      <td>57</td>\n",
       "      <td>2</td>\n",
       "      <td>57-2.jpg</td>\n",
       "      <td>57-2-cut-opencv.jpg</td>\n",
       "      <td>success</td>\n",
       "      <td></td>\n",
       "    </tr>\n",
       "    <tr>\n",
       "      <th>6</th>\n",
       "      <td>148</td>\n",
       "      <td>1</td>\n",
       "      <td>148-1.jpg</td>\n",
       "      <td>148-1-cut-opencv.jpg</td>\n",
       "      <td>success</td>\n",
       "      <td></td>\n",
       "    </tr>\n",
       "    <tr>\n",
       "      <th>7</th>\n",
       "      <td>148</td>\n",
       "      <td>2</td>\n",
       "      <td>148-2.jpg</td>\n",
       "      <td>148-2-cut-opencv.jpg</td>\n",
       "      <td>success</td>\n",
       "      <td></td>\n",
       "    </tr>\n",
       "    <tr>\n",
       "      <th>9</th>\n",
       "      <td>177</td>\n",
       "      <td>2</td>\n",
       "      <td>177-2.jpg</td>\n",
       "      <td>177-2-cut-opencv.jpg</td>\n",
       "      <td>success</td>\n",
       "      <td></td>\n",
       "    </tr>\n",
       "  </tbody>\n",
       "</table>\n",
       "</div>"
      ],
      "text/plain": [
       "      ID  Pic  orig_file           crop_opencv opencv_status comments\n",
       "263   57    1   57-1.jpg   57-1-cut-opencv.jpg       success         \n",
       "264   57    2   57-2.jpg   57-2-cut-opencv.jpg       success         \n",
       "6    148    1  148-1.jpg  148-1-cut-opencv.jpg       success         \n",
       "7    148    2  148-2.jpg  148-2-cut-opencv.jpg       success         \n",
       "9    177    2  177-2.jpg  177-2-cut-opencv.jpg       success         "
      ]
     },
     "execution_count": 101,
     "metadata": {},
     "output_type": "execute_result"
    }
   ],
   "source": [
    "base_2_cut_success = get_cut_success_df('pictures 2/cut-success/')\n",
    "base_2_cut_success.head()"
   ]
  },
  {
   "cell_type": "code",
   "execution_count": 102,
   "metadata": {},
   "outputs": [
    {
     "data": {
      "text/plain": [
       "(325, 6)"
      ]
     },
     "execution_count": 102,
     "metadata": {},
     "output_type": "execute_result"
    }
   ],
   "source": [
    "base_2_cut_success.shape"
   ]
  },
  {
   "cell_type": "markdown",
   "metadata": {},
   "source": [
    "Генерируем лист cut-fail"
   ]
  },
  {
   "cell_type": "code",
   "execution_count": 103,
   "metadata": {
    "scrolled": true
   },
   "outputs": [
    {
     "data": {
      "text/html": [
       "<div>\n",
       "<style scoped>\n",
       "    .dataframe tbody tr th:only-of-type {\n",
       "        vertical-align: middle;\n",
       "    }\n",
       "\n",
       "    .dataframe tbody tr th {\n",
       "        vertical-align: top;\n",
       "    }\n",
       "\n",
       "    .dataframe thead th {\n",
       "        text-align: right;\n",
       "    }\n",
       "</style>\n",
       "<table border=\"1\" class=\"dataframe\">\n",
       "  <thead>\n",
       "    <tr style=\"text-align: right;\">\n",
       "      <th></th>\n",
       "      <th>ID</th>\n",
       "      <th>Pic</th>\n",
       "      <th>orig_file</th>\n",
       "      <th>crop_opencv</th>\n",
       "      <th>crop_rembg</th>\n",
       "      <th>crop_alg</th>\n",
       "      <th>crop_result</th>\n",
       "      <th>comments</th>\n",
       "    </tr>\n",
       "  </thead>\n",
       "  <tbody>\n",
       "    <tr>\n",
       "      <th>31</th>\n",
       "      <td>177</td>\n",
       "      <td>1</td>\n",
       "      <td>177-1.jpg</td>\n",
       "      <td>177-1-cut-opencv.jpg</td>\n",
       "      <td>177-1-cut-rembg.jpg</td>\n",
       "      <td>177-1-cut-alg.jpg</td>\n",
       "      <td>rembg</td>\n",
       "      <td></td>\n",
       "    </tr>\n",
       "    <tr>\n",
       "      <th>32</th>\n",
       "      <td>182</td>\n",
       "      <td>1</td>\n",
       "      <td>182-1.jpg</td>\n",
       "      <td>182-1-cut-opencv.jpg</td>\n",
       "      <td>182-1-cut-rembg.jpg</td>\n",
       "      <td>182-1-cut-alg.jpg</td>\n",
       "      <td>rembg</td>\n",
       "      <td></td>\n",
       "    </tr>\n",
       "    <tr>\n",
       "      <th>34</th>\n",
       "      <td>198</td>\n",
       "      <td>1</td>\n",
       "      <td>198-1.jpg</td>\n",
       "      <td>198-1-cut-opencv.jpg</td>\n",
       "      <td>198-1-cut-rembg.jpg</td>\n",
       "      <td>198-1-cut-alg.jpg</td>\n",
       "      <td>rembg</td>\n",
       "      <td></td>\n",
       "    </tr>\n",
       "    <tr>\n",
       "      <th>35</th>\n",
       "      <td>207</td>\n",
       "      <td>1</td>\n",
       "      <td>207-1.jpg</td>\n",
       "      <td>207-1-cut-opencv.jpg</td>\n",
       "      <td>207-1-cut-rembg.jpg</td>\n",
       "      <td>207-1-cut-alg.jpg</td>\n",
       "      <td>rembg</td>\n",
       "      <td></td>\n",
       "    </tr>\n",
       "    <tr>\n",
       "      <th>36</th>\n",
       "      <td>209</td>\n",
       "      <td>1</td>\n",
       "      <td>209-1.jpg</td>\n",
       "      <td>209-1-cut-opencv.jpg</td>\n",
       "      <td>209-1-cut-rembg.jpg</td>\n",
       "      <td>209-1-cut-alg.jpg</td>\n",
       "      <td>rembg</td>\n",
       "      <td></td>\n",
       "    </tr>\n",
       "  </tbody>\n",
       "</table>\n",
       "</div>"
      ],
      "text/plain": [
       "     ID  Pic  orig_file           crop_opencv           crop_rembg  \\\n",
       "31  177    1  177-1.jpg  177-1-cut-opencv.jpg  177-1-cut-rembg.jpg   \n",
       "32  182    1  182-1.jpg  182-1-cut-opencv.jpg  182-1-cut-rembg.jpg   \n",
       "34  198    1  198-1.jpg  198-1-cut-opencv.jpg  198-1-cut-rembg.jpg   \n",
       "35  207    1  207-1.jpg  207-1-cut-opencv.jpg  207-1-cut-rembg.jpg   \n",
       "36  209    1  209-1.jpg  209-1-cut-opencv.jpg  209-1-cut-rembg.jpg   \n",
       "\n",
       "             crop_alg crop_result comments  \n",
       "31  177-1-cut-alg.jpg       rembg           \n",
       "32  182-1-cut-alg.jpg       rembg           \n",
       "34  198-1-cut-alg.jpg       rembg           \n",
       "35  207-1-cut-alg.jpg       rembg           \n",
       "36  209-1-cut-alg.jpg       rembg           "
      ]
     },
     "execution_count": 103,
     "metadata": {},
     "output_type": "execute_result"
    }
   ],
   "source": [
    "base_2_cut_fail = get_cut_fail_df('pictures 2/cut-fail/')\n",
    "base_2_cut_fail.head()"
   ]
  },
  {
   "cell_type": "code",
   "execution_count": 104,
   "metadata": {
    "scrolled": true
   },
   "outputs": [
    {
     "data": {
      "text/plain": [
       "(266, 8)"
      ]
     },
     "execution_count": 104,
     "metadata": {},
     "output_type": "execute_result"
    }
   ],
   "source": [
    "base_2_cut_fail.shape"
   ]
  },
  {
   "cell_type": "markdown",
   "metadata": {},
   "source": [
    "## База 3"
   ]
  },
  {
   "cell_type": "markdown",
   "metadata": {},
   "source": [
    "Генерируем лист cut-success"
   ]
  },
  {
   "cell_type": "code",
   "execution_count": 105,
   "metadata": {},
   "outputs": [
    {
     "data": {
      "text/html": [
       "<div>\n",
       "<style scoped>\n",
       "    .dataframe tbody tr th:only-of-type {\n",
       "        vertical-align: middle;\n",
       "    }\n",
       "\n",
       "    .dataframe tbody tr th {\n",
       "        vertical-align: top;\n",
       "    }\n",
       "\n",
       "    .dataframe thead th {\n",
       "        text-align: right;\n",
       "    }\n",
       "</style>\n",
       "<table border=\"1\" class=\"dataframe\">\n",
       "  <thead>\n",
       "    <tr style=\"text-align: right;\">\n",
       "      <th></th>\n",
       "      <th>ID</th>\n",
       "      <th>Pic</th>\n",
       "      <th>orig_file</th>\n",
       "      <th>crop_opencv</th>\n",
       "      <th>opencv_status</th>\n",
       "      <th>comments</th>\n",
       "    </tr>\n",
       "  </thead>\n",
       "  <tbody>\n",
       "    <tr>\n",
       "      <th>3232</th>\n",
       "      <td>4974</td>\n",
       "      <td>2</td>\n",
       "      <td>4974-2.jpg</td>\n",
       "      <td>4974-2-cut-opencv.jpg</td>\n",
       "      <td>success</td>\n",
       "      <td></td>\n",
       "    </tr>\n",
       "    <tr>\n",
       "      <th>3231</th>\n",
       "      <td>4974</td>\n",
       "      <td>1</td>\n",
       "      <td>4974-1.jpg</td>\n",
       "      <td>4974-1-cut-opencv.jpg</td>\n",
       "      <td>success</td>\n",
       "      <td></td>\n",
       "    </tr>\n",
       "    <tr>\n",
       "      <th>3233</th>\n",
       "      <td>4975</td>\n",
       "      <td>2</td>\n",
       "      <td>4975-2.jpg</td>\n",
       "      <td>4975-2-cut-opencv.jpg</td>\n",
       "      <td>success</td>\n",
       "      <td></td>\n",
       "    </tr>\n",
       "    <tr>\n",
       "      <th>3234</th>\n",
       "      <td>4977</td>\n",
       "      <td>1</td>\n",
       "      <td>4977-1.jpg</td>\n",
       "      <td>4977-1-cut-opencv.jpg</td>\n",
       "      <td>success</td>\n",
       "      <td></td>\n",
       "    </tr>\n",
       "    <tr>\n",
       "      <th>3235</th>\n",
       "      <td>4977</td>\n",
       "      <td>2</td>\n",
       "      <td>4977-2.jpg</td>\n",
       "      <td>4977-2-cut-opencv.jpg</td>\n",
       "      <td>success</td>\n",
       "      <td></td>\n",
       "    </tr>\n",
       "  </tbody>\n",
       "</table>\n",
       "</div>"
      ],
      "text/plain": [
       "        ID  Pic   orig_file            crop_opencv opencv_status comments\n",
       "3232  4974    2  4974-2.jpg  4974-2-cut-opencv.jpg       success         \n",
       "3231  4974    1  4974-1.jpg  4974-1-cut-opencv.jpg       success         \n",
       "3233  4975    2  4975-2.jpg  4975-2-cut-opencv.jpg       success         \n",
       "3234  4977    1  4977-1.jpg  4977-1-cut-opencv.jpg       success         \n",
       "3235  4977    2  4977-2.jpg  4977-2-cut-opencv.jpg       success         "
      ]
     },
     "execution_count": 105,
     "metadata": {},
     "output_type": "execute_result"
    }
   ],
   "source": [
    "base_3_cut_success = get_cut_success_df('pictures 3/cut-success/')\n",
    "base_3_cut_success.head()"
   ]
  },
  {
   "cell_type": "code",
   "execution_count": 107,
   "metadata": {},
   "outputs": [
    {
     "data": {
      "text/plain": [
       "(3256, 6)"
      ]
     },
     "execution_count": 107,
     "metadata": {},
     "output_type": "execute_result"
    }
   ],
   "source": [
    "base_3_cut_success.shape"
   ]
  },
  {
   "cell_type": "markdown",
   "metadata": {},
   "source": [
    "Генерируем лист cut-fail"
   ]
  },
  {
   "cell_type": "code",
   "execution_count": 108,
   "metadata": {
    "scrolled": true
   },
   "outputs": [
    {
     "data": {
      "text/html": [
       "<div>\n",
       "<style scoped>\n",
       "    .dataframe tbody tr th:only-of-type {\n",
       "        vertical-align: middle;\n",
       "    }\n",
       "\n",
       "    .dataframe tbody tr th {\n",
       "        vertical-align: top;\n",
       "    }\n",
       "\n",
       "    .dataframe thead th {\n",
       "        text-align: right;\n",
       "    }\n",
       "</style>\n",
       "<table border=\"1\" class=\"dataframe\">\n",
       "  <thead>\n",
       "    <tr style=\"text-align: right;\">\n",
       "      <th></th>\n",
       "      <th>ID</th>\n",
       "      <th>Pic</th>\n",
       "      <th>orig_file</th>\n",
       "      <th>crop_opencv</th>\n",
       "      <th>crop_rembg</th>\n",
       "      <th>crop_alg</th>\n",
       "      <th>crop_result</th>\n",
       "      <th>comments</th>\n",
       "    </tr>\n",
       "  </thead>\n",
       "  <tbody>\n",
       "    <tr>\n",
       "      <th>1896</th>\n",
       "      <td>4975</td>\n",
       "      <td>1</td>\n",
       "      <td>4975-1.jpg</td>\n",
       "      <td>4975-1-cut-opencv.jpg</td>\n",
       "      <td>4975-1-cut-rembg.jpg</td>\n",
       "      <td>4975-1-cut-alg.jpg</td>\n",
       "      <td>rembg</td>\n",
       "      <td></td>\n",
       "    </tr>\n",
       "    <tr>\n",
       "      <th>1897</th>\n",
       "      <td>4987</td>\n",
       "      <td>1</td>\n",
       "      <td>4987-1.jpg</td>\n",
       "      <td>4987-1-cut-opencv.jpg</td>\n",
       "      <td>4987-1-cut-rembg.jpg</td>\n",
       "      <td>4987-1-cut-alg.jpg</td>\n",
       "      <td>rembg</td>\n",
       "      <td></td>\n",
       "    </tr>\n",
       "    <tr>\n",
       "      <th>1898</th>\n",
       "      <td>5016</td>\n",
       "      <td>1</td>\n",
       "      <td>5016-1.jpg</td>\n",
       "      <td>5016-1-cut-opencv.jpg</td>\n",
       "      <td>5016-1-cut-rembg.jpg</td>\n",
       "      <td>5016-1-cut-alg.jpg</td>\n",
       "      <td>rembg</td>\n",
       "      <td></td>\n",
       "    </tr>\n",
       "    <tr>\n",
       "      <th>1900</th>\n",
       "      <td>5110</td>\n",
       "      <td>2</td>\n",
       "      <td>5110-2.jpg</td>\n",
       "      <td>5110-2-cut-opencv.jpg</td>\n",
       "      <td>5110-2-cut-rembg.jpg</td>\n",
       "      <td>5110-2-cut-alg.jpg</td>\n",
       "      <td>rembg</td>\n",
       "      <td></td>\n",
       "    </tr>\n",
       "    <tr>\n",
       "      <th>1899</th>\n",
       "      <td>5110</td>\n",
       "      <td>1</td>\n",
       "      <td>5110-1.jpg</td>\n",
       "      <td>5110-1-cut-opencv.jpg</td>\n",
       "      <td>5110-1-cut-rembg.jpg</td>\n",
       "      <td>5110-1-cut-alg.jpg</td>\n",
       "      <td>rembg</td>\n",
       "      <td></td>\n",
       "    </tr>\n",
       "  </tbody>\n",
       "</table>\n",
       "</div>"
      ],
      "text/plain": [
       "        ID  Pic   orig_file            crop_opencv            crop_rembg  \\\n",
       "1896  4975    1  4975-1.jpg  4975-1-cut-opencv.jpg  4975-1-cut-rembg.jpg   \n",
       "1897  4987    1  4987-1.jpg  4987-1-cut-opencv.jpg  4987-1-cut-rembg.jpg   \n",
       "1898  5016    1  5016-1.jpg  5016-1-cut-opencv.jpg  5016-1-cut-rembg.jpg   \n",
       "1900  5110    2  5110-2.jpg  5110-2-cut-opencv.jpg  5110-2-cut-rembg.jpg   \n",
       "1899  5110    1  5110-1.jpg  5110-1-cut-opencv.jpg  5110-1-cut-rembg.jpg   \n",
       "\n",
       "                crop_alg crop_result comments  \n",
       "1896  4975-1-cut-alg.jpg       rembg           \n",
       "1897  4987-1-cut-alg.jpg       rembg           \n",
       "1898  5016-1-cut-alg.jpg       rembg           \n",
       "1900  5110-2-cut-alg.jpg       rembg           \n",
       "1899  5110-1-cut-alg.jpg       rembg           "
      ]
     },
     "execution_count": 108,
     "metadata": {},
     "output_type": "execute_result"
    }
   ],
   "source": [
    "base_3_cut_fail = get_cut_fail_df('pictures 3/cut-fail/')\n",
    "base_3_cut_fail.head()"
   ]
  },
  {
   "cell_type": "code",
   "execution_count": 109,
   "metadata": {
    "scrolled": true
   },
   "outputs": [
    {
     "data": {
      "text/plain": [
       "(1907, 8)"
      ]
     },
     "execution_count": 109,
     "metadata": {},
     "output_type": "execute_result"
    }
   ],
   "source": [
    "base_3_cut_fail.shape"
   ]
  },
  {
   "cell_type": "markdown",
   "metadata": {},
   "source": [
    "## Собираем единый файл excel"
   ]
  },
  {
   "cell_type": "code",
   "execution_count": 112,
   "metadata": {},
   "outputs": [],
   "source": [
    "writer = pd.ExcelWriter('Обрезка открыток метаинформация.xlsx', engine='openpyxl')\n",
    "base_1_cut_success.to_excel(writer, sheet_name='База 1 cut-success', index=False)\n",
    "base_1_cut_fail.to_excel(writer, sheet_name='База 1 cut-fail', index=False)\n",
    "base_2_cut_success.to_excel(writer, sheet_name='База 2 cut-success', index=False)\n",
    "base_2_cut_fail.to_excel(writer, sheet_name='База 2 cut-fail', index=False)\n",
    "base_3_cut_success.to_excel(writer, sheet_name='База 3 cut-success', index=False)\n",
    "base_3_cut_fail.to_excel(writer, sheet_name='База 3 cut-fail', index=False)\n",
    "writer.save()"
   ]
  },
  {
   "cell_type": "markdown",
   "metadata": {},
   "source": [
    "# Рабочие таблицы для волонтеров\n",
    "Задача:\n",
    "* привести все директории к виду исходник - вариант обрезки\n",
    "* переименовать файлы в директориях: 477-1.jpg, 477-1-crop.jpg"
   ]
  },
  {
   "cell_type": "markdown",
   "metadata": {},
   "source": [
    "## Обработка директории cut-success"
   ]
  },
  {
   "cell_type": "code",
   "execution_count": 99,
   "metadata": {},
   "outputs": [],
   "source": [
    "import os\n",
    "import pandas as pd\n",
    "import shutil"
   ]
  },
  {
   "cell_type": "code",
   "execution_count": 65,
   "metadata": {},
   "outputs": [],
   "source": [
    "def cut_success_to_crop_opencv(cut_success_dir_str, crop_opencv_dir_str):\n",
    "    cut_success_dir = os.fsencode(cut_success_dir_str)\n",
    "    df_crop_opencv = []\n",
    "\n",
    "    for file in reversed(sorted(os.listdir(cut_success_dir))):\n",
    "        filename = os.fsdecode(file)\n",
    "        if '-cut-opencv' in filename:\n",
    "            new_filename = '-crop'.join(filename.split('-cut-opencv'))\n",
    "            os.rename(cut_success_dir_str + filename, crop_opencv_dir_str + new_filename)\n",
    "            cur_item.append(new_filename)\n",
    "            df_crop_opencv.append(tuple(cur_item))\n",
    "        else:\n",
    "            os.rename(cut_success_dir_str + filename, crop_opencv_dir_str + filename)\n",
    "            name, extension = filename.split('.')\n",
    "            name = name.split('-')\n",
    "            postcard_id, pic = int(name[0]), int(name[1])\n",
    "            cur_item = [postcard_id, pic, filename]\n",
    "    \n",
    "    df_crop_opencv = pd.DataFrame(df_crop_opencv, columns=['ID', 'Pic', 'Название файла', 'Результат обрезки'])\n",
    "    df_crop_opencv['Статус'] = ''\n",
    "    df_crop_opencv['Комментарий'] = ''\n",
    "    df_crop_opencv = df_crop_opencv.sort_values(by='ID')\n",
    "    return df_crop_opencv"
   ]
  },
  {
   "cell_type": "code",
   "execution_count": 73,
   "metadata": {},
   "outputs": [
    {
     "data": {
      "text/html": [
       "<div>\n",
       "<style scoped>\n",
       "    .dataframe tbody tr th:only-of-type {\n",
       "        vertical-align: middle;\n",
       "    }\n",
       "\n",
       "    .dataframe tbody tr th {\n",
       "        vertical-align: top;\n",
       "    }\n",
       "\n",
       "    .dataframe thead th {\n",
       "        text-align: right;\n",
       "    }\n",
       "</style>\n",
       "<table border=\"1\" class=\"dataframe\">\n",
       "  <thead>\n",
       "    <tr style=\"text-align: right;\">\n",
       "      <th></th>\n",
       "      <th>ID</th>\n",
       "      <th>Pic</th>\n",
       "      <th>Название файла</th>\n",
       "      <th>Результат обрезки</th>\n",
       "      <th>Статус</th>\n",
       "      <th>Комментарий</th>\n",
       "    </tr>\n",
       "  </thead>\n",
       "  <tbody>\n",
       "    <tr>\n",
       "      <th>0</th>\n",
       "      <td>966</td>\n",
       "      <td>1</td>\n",
       "      <td>966-1.jpg</td>\n",
       "      <td>1649-1-crop.jpg</td>\n",
       "      <td></td>\n",
       "      <td></td>\n",
       "    </tr>\n",
       "    <tr>\n",
       "      <th>1</th>\n",
       "      <td>1649</td>\n",
       "      <td>1</td>\n",
       "      <td>1649-1.jpg</td>\n",
       "      <td>2102-2-crop.jpg</td>\n",
       "      <td></td>\n",
       "      <td></td>\n",
       "    </tr>\n",
       "    <tr>\n",
       "      <th>2</th>\n",
       "      <td>2102</td>\n",
       "      <td>2</td>\n",
       "      <td>2102-2.jpg</td>\n",
       "      <td>2150-1-crop.jpg</td>\n",
       "      <td></td>\n",
       "      <td></td>\n",
       "    </tr>\n",
       "    <tr>\n",
       "      <th>3</th>\n",
       "      <td>2150</td>\n",
       "      <td>1</td>\n",
       "      <td>2150-1.jpg</td>\n",
       "      <td>2150-2-crop.jpg</td>\n",
       "      <td></td>\n",
       "      <td></td>\n",
       "    </tr>\n",
       "    <tr>\n",
       "      <th>4</th>\n",
       "      <td>2150</td>\n",
       "      <td>2</td>\n",
       "      <td>2150-2.jpg</td>\n",
       "      <td>2180-1-crop.jpg</td>\n",
       "      <td></td>\n",
       "      <td></td>\n",
       "    </tr>\n",
       "  </tbody>\n",
       "</table>\n",
       "</div>"
      ],
      "text/plain": [
       "     ID  Pic Название файла Результат обрезки Статус Комментарий\n",
       "0   966    1      966-1.jpg   1649-1-crop.jpg                   \n",
       "1  1649    1     1649-1.jpg   2102-2-crop.jpg                   \n",
       "2  2102    2     2102-2.jpg   2150-1-crop.jpg                   \n",
       "3  2150    1     2150-1.jpg   2150-2-crop.jpg                   \n",
       "4  2150    2     2150-2.jpg   2180-1-crop.jpg                   "
      ]
     },
     "execution_count": 73,
     "metadata": {},
     "output_type": "execute_result"
    }
   ],
   "source": [
    "base_1_crop_opencv = cut_success_to_crop_opencv('pictures 1/cut-success/', 'pictures 1/crop-opencv/')\n",
    "base_1_crop_opencv.head()"
   ]
  },
  {
   "cell_type": "code",
   "execution_count": 57,
   "metadata": {},
   "outputs": [
    {
     "data": {
      "text/plain": [
       "(251, 6)"
      ]
     },
     "execution_count": 57,
     "metadata": {},
     "output_type": "execute_result"
    }
   ],
   "source": [
    "base_1_crop_opencv.shape"
   ]
  },
  {
   "cell_type": "code",
   "execution_count": 69,
   "metadata": {},
   "outputs": [
    {
     "data": {
      "text/html": [
       "<div>\n",
       "<style scoped>\n",
       "    .dataframe tbody tr th:only-of-type {\n",
       "        vertical-align: middle;\n",
       "    }\n",
       "\n",
       "    .dataframe tbody tr th {\n",
       "        vertical-align: top;\n",
       "    }\n",
       "\n",
       "    .dataframe thead th {\n",
       "        text-align: right;\n",
       "    }\n",
       "</style>\n",
       "<table border=\"1\" class=\"dataframe\">\n",
       "  <thead>\n",
       "    <tr style=\"text-align: right;\">\n",
       "      <th></th>\n",
       "      <th>ID</th>\n",
       "      <th>Pic</th>\n",
       "      <th>Название файла</th>\n",
       "      <th>Результат обрезки</th>\n",
       "      <th>Статус</th>\n",
       "      <th>Комментарий</th>\n",
       "    </tr>\n",
       "  </thead>\n",
       "  <tbody>\n",
       "    <tr>\n",
       "      <th>60</th>\n",
       "      <td>57</td>\n",
       "      <td>2</td>\n",
       "      <td>57-2.jpg</td>\n",
       "      <td>57-2-crop.jpg</td>\n",
       "      <td></td>\n",
       "      <td></td>\n",
       "    </tr>\n",
       "    <tr>\n",
       "      <th>61</th>\n",
       "      <td>57</td>\n",
       "      <td>1</td>\n",
       "      <td>57-1.jpg</td>\n",
       "      <td>57-1-crop.jpg</td>\n",
       "      <td></td>\n",
       "      <td></td>\n",
       "    </tr>\n",
       "    <tr>\n",
       "      <th>317</th>\n",
       "      <td>148</td>\n",
       "      <td>2</td>\n",
       "      <td>148-2.jpg</td>\n",
       "      <td>148-2-crop.jpg</td>\n",
       "      <td></td>\n",
       "      <td></td>\n",
       "    </tr>\n",
       "    <tr>\n",
       "      <th>318</th>\n",
       "      <td>148</td>\n",
       "      <td>1</td>\n",
       "      <td>148-1.jpg</td>\n",
       "      <td>148-1-crop.jpg</td>\n",
       "      <td></td>\n",
       "      <td></td>\n",
       "    </tr>\n",
       "    <tr>\n",
       "      <th>315</th>\n",
       "      <td>177</td>\n",
       "      <td>2</td>\n",
       "      <td>177-2.jpg</td>\n",
       "      <td>177-2-crop.jpg</td>\n",
       "      <td></td>\n",
       "      <td></td>\n",
       "    </tr>\n",
       "  </tbody>\n",
       "</table>\n",
       "</div>"
      ],
      "text/plain": [
       "      ID  Pic Название файла Результат обрезки Статус Комментарий\n",
       "60    57    2       57-2.jpg     57-2-crop.jpg                   \n",
       "61    57    1       57-1.jpg     57-1-crop.jpg                   \n",
       "317  148    2      148-2.jpg    148-2-crop.jpg                   \n",
       "318  148    1      148-1.jpg    148-1-crop.jpg                   \n",
       "315  177    2      177-2.jpg    177-2-crop.jpg                   "
      ]
     },
     "execution_count": 69,
     "metadata": {},
     "output_type": "execute_result"
    }
   ],
   "source": [
    "base_2_crop_opencv = cut_success_to_crop_opencv('pictures 2/cut-success/', 'pictures 2/crop-opencv/')\n",
    "base_2_crop_opencv.head()"
   ]
  },
  {
   "cell_type": "code",
   "execution_count": 64,
   "metadata": {},
   "outputs": [
    {
     "data": {
      "text/plain": [
       "(325, 6)"
      ]
     },
     "execution_count": 64,
     "metadata": {},
     "output_type": "execute_result"
    }
   ],
   "source": [
    "base_2_crop_opencv.shape"
   ]
  },
  {
   "cell_type": "code",
   "execution_count": 85,
   "metadata": {},
   "outputs": [
    {
     "data": {
      "text/html": [
       "<div>\n",
       "<style scoped>\n",
       "    .dataframe tbody tr th:only-of-type {\n",
       "        vertical-align: middle;\n",
       "    }\n",
       "\n",
       "    .dataframe tbody tr th {\n",
       "        vertical-align: top;\n",
       "    }\n",
       "\n",
       "    .dataframe thead th {\n",
       "        text-align: right;\n",
       "    }\n",
       "</style>\n",
       "<table border=\"1\" class=\"dataframe\">\n",
       "  <thead>\n",
       "    <tr style=\"text-align: right;\">\n",
       "      <th></th>\n",
       "      <th>ID</th>\n",
       "      <th>Pic</th>\n",
       "      <th>Название файла</th>\n",
       "      <th>Результат обрезки</th>\n",
       "      <th>Статус</th>\n",
       "      <th>Комментарий</th>\n",
       "    </tr>\n",
       "  </thead>\n",
       "  <tbody>\n",
       "    <tr>\n",
       "      <th>3233</th>\n",
       "      <td>4974</td>\n",
       "      <td>2</td>\n",
       "      <td>4974-2.jpg</td>\n",
       "      <td>4975-2-crop.jpg</td>\n",
       "      <td></td>\n",
       "      <td></td>\n",
       "    </tr>\n",
       "    <tr>\n",
       "      <th>3232</th>\n",
       "      <td>4974</td>\n",
       "      <td>1</td>\n",
       "      <td>4974-1.jpg</td>\n",
       "      <td>4974-2-crop.jpg</td>\n",
       "      <td></td>\n",
       "      <td></td>\n",
       "    </tr>\n",
       "    <tr>\n",
       "      <th>3234</th>\n",
       "      <td>4975</td>\n",
       "      <td>2</td>\n",
       "      <td>4975-2.jpg</td>\n",
       "      <td>4977-1-crop.jpg</td>\n",
       "      <td></td>\n",
       "      <td></td>\n",
       "    </tr>\n",
       "    <tr>\n",
       "      <th>3236</th>\n",
       "      <td>4977</td>\n",
       "      <td>2</td>\n",
       "      <td>4977-2.jpg</td>\n",
       "      <td>4987-2-crop.jpg</td>\n",
       "      <td></td>\n",
       "      <td></td>\n",
       "    </tr>\n",
       "    <tr>\n",
       "      <th>3235</th>\n",
       "      <td>4977</td>\n",
       "      <td>1</td>\n",
       "      <td>4977-1.jpg</td>\n",
       "      <td>4977-2-crop.jpg</td>\n",
       "      <td></td>\n",
       "      <td></td>\n",
       "    </tr>\n",
       "  </tbody>\n",
       "</table>\n",
       "</div>"
      ],
      "text/plain": [
       "        ID  Pic Название файла Результат обрезки Статус Комментарий\n",
       "3233  4974    2     4974-2.jpg   4975-2-crop.jpg                   \n",
       "3232  4974    1     4974-1.jpg   4974-2-crop.jpg                   \n",
       "3234  4975    2     4975-2.jpg   4977-1-crop.jpg                   \n",
       "3236  4977    2     4977-2.jpg   4987-2-crop.jpg                   \n",
       "3235  4977    1     4977-1.jpg   4977-2-crop.jpg                   "
      ]
     },
     "execution_count": 85,
     "metadata": {},
     "output_type": "execute_result"
    }
   ],
   "source": [
    "base_3_crop_opencv = cut_success_to_crop_opencv('pictures 3/cut-success/', 'pictures 3/crop-opencv/')\n",
    "base_3_crop_opencv.head()"
   ]
  },
  {
   "cell_type": "code",
   "execution_count": 86,
   "metadata": {},
   "outputs": [
    {
     "data": {
      "text/plain": [
       "(3256, 6)"
      ]
     },
     "execution_count": 86,
     "metadata": {},
     "output_type": "execute_result"
    }
   ],
   "source": [
    "base_3_crop_opencv.shape"
   ]
  },
  {
   "cell_type": "markdown",
   "metadata": {},
   "source": [
    "## Обработка директории cut-fail"
   ]
  },
  {
   "cell_type": "code",
   "execution_count": 117,
   "metadata": {},
   "outputs": [],
   "source": [
    "def cut_fail_to_crop_opencv(cut_fail_dir_str, crop_opencv_dir_str, crop_rembg_dir_str, crop_alg_dir_str):\n",
    "    cut_fail_dir = os.fsencode(cut_fail_dir_str)\n",
    "    os.mkdir(crop_opencv_dir_str)\n",
    "    os.mkdir(crop_rembg_dir_str)\n",
    "    os.mkdir(crop_alg_dir_str)\n",
    "    df_crop = []\n",
    "\n",
    "    for file in reversed(sorted(os.listdir(cut_fail_dir_str))):\n",
    "        filename = os.fsdecode(file)\n",
    "        if 'rembg' in filename:\n",
    "            new_filename = '-crop'.join(filename.split('-cut-rembg'))\n",
    "            os.rename(cut_fail_dir_str + filename, crop_rembg_dir_str + new_filename)\n",
    "            df_crop.append([postcard_id, pic, filename_orig, new_filename])\n",
    "        \n",
    "        elif 'opencv' in filename:\n",
    "            new_filename = '-crop'.join(filename.split('-cut-opencv'))\n",
    "            os.rename(cut_fail_dir_str + filename, crop_opencv_dir_str + new_filename)\n",
    "            \n",
    "        elif 'alg' in filename:\n",
    "            new_filename = '-crop'.join(filename.split('-cut-alg'))\n",
    "            os.rename(cut_fail_dir_str + filename, crop_alg_dir_str + new_filename)\n",
    "        \n",
    "        else:\n",
    "            name, extension = filename.split('.')\n",
    "            name = name.split('-')\n",
    "            postcard_id, pic = int(name[0]), int(name[1])\n",
    "            filename_orig = filename\n",
    "            shutil.copyfile(cut_fail_dir_str + filename, crop_opencv_dir_str + filename)\n",
    "            shutil.copyfile(cut_fail_dir_str + filename, crop_rembg_dir_str + filename)\n",
    "            shutil.copyfile(cut_fail_dir_str + filename, crop_alg_dir_str + filename)\n",
    "            \n",
    "    df_crop = pd.DataFrame(df_crop, columns=['ID', 'Pic', 'Название файла', 'Результат обрезки'])\n",
    "    df_crop['Статус'] = ''\n",
    "    df_crop['Комментарий'] = ''\n",
    "    df_crop = df_crop.sort_values(by='ID')\n",
    "    return df_crop"
   ]
  },
  {
   "cell_type": "code",
   "execution_count": 107,
   "metadata": {},
   "outputs": [
    {
     "data": {
      "text/html": [
       "<div>\n",
       "<style scoped>\n",
       "    .dataframe tbody tr th:only-of-type {\n",
       "        vertical-align: middle;\n",
       "    }\n",
       "\n",
       "    .dataframe tbody tr th {\n",
       "        vertical-align: top;\n",
       "    }\n",
       "\n",
       "    .dataframe thead th {\n",
       "        text-align: right;\n",
       "    }\n",
       "</style>\n",
       "<table border=\"1\" class=\"dataframe\">\n",
       "  <thead>\n",
       "    <tr style=\"text-align: right;\">\n",
       "      <th></th>\n",
       "      <th>ID</th>\n",
       "      <th>Pic</th>\n",
       "      <th>Название файла</th>\n",
       "      <th>Результат обрезки</th>\n",
       "      <th>Статус</th>\n",
       "      <th>Комментарий</th>\n",
       "    </tr>\n",
       "  </thead>\n",
       "  <tbody>\n",
       "    <tr>\n",
       "      <th>0</th>\n",
       "      <td>952</td>\n",
       "      <td>2</td>\n",
       "      <td>952-2.jpg</td>\n",
       "      <td>952-2-crop.jpg</td>\n",
       "      <td></td>\n",
       "      <td></td>\n",
       "    </tr>\n",
       "    <tr>\n",
       "      <th>1</th>\n",
       "      <td>952</td>\n",
       "      <td>1</td>\n",
       "      <td>952-1.jpg</td>\n",
       "      <td>952-1-crop.jpg</td>\n",
       "      <td></td>\n",
       "      <td></td>\n",
       "    </tr>\n",
       "    <tr>\n",
       "      <th>54</th>\n",
       "      <td>1024</td>\n",
       "      <td>2</td>\n",
       "      <td>1024-2.jpg</td>\n",
       "      <td>1024-2-crop.jpg</td>\n",
       "      <td></td>\n",
       "      <td></td>\n",
       "    </tr>\n",
       "    <tr>\n",
       "      <th>55</th>\n",
       "      <td>1024</td>\n",
       "      <td>1</td>\n",
       "      <td>1024-1.jpg</td>\n",
       "      <td>1024-1-crop.jpg</td>\n",
       "      <td></td>\n",
       "      <td></td>\n",
       "    </tr>\n",
       "    <tr>\n",
       "      <th>53</th>\n",
       "      <td>2102</td>\n",
       "      <td>1</td>\n",
       "      <td>2102-1.jpg</td>\n",
       "      <td>2102-1-crop.jpg</td>\n",
       "      <td></td>\n",
       "      <td></td>\n",
       "    </tr>\n",
       "  </tbody>\n",
       "</table>\n",
       "</div>"
      ],
      "text/plain": [
       "      ID  Pic Название файла Результат обрезки Статус Комментарий\n",
       "0    952    2      952-2.jpg    952-2-crop.jpg                   \n",
       "1    952    1      952-1.jpg    952-1-crop.jpg                   \n",
       "54  1024    2     1024-2.jpg   1024-2-crop.jpg                   \n",
       "55  1024    1     1024-1.jpg   1024-1-crop.jpg                   \n",
       "53  2102    1     2102-1.jpg   2102-1-crop.jpg                   "
      ]
     },
     "execution_count": 107,
     "metadata": {},
     "output_type": "execute_result"
    }
   ],
   "source": [
    "base_1_fail_crop = cut_fail_to_crop_opencv(\n",
    "    'pictures 1/cut-fail/',\n",
    "    'pictures 1/crop-opencv-fail/',\n",
    "    'pictures 1/crop-rembg/',\n",
    "    'pictures 1/crop-alg/'\n",
    ")\n",
    "base_1_fail_crop.head()"
   ]
  },
  {
   "cell_type": "code",
   "execution_count": 121,
   "metadata": {},
   "outputs": [
    {
     "data": {
      "text/plain": [
       "(56, 6)"
      ]
     },
     "execution_count": 121,
     "metadata": {},
     "output_type": "execute_result"
    }
   ],
   "source": [
    "base_1_fail_crop.shape"
   ]
  },
  {
   "cell_type": "code",
   "execution_count": null,
   "metadata": {},
   "outputs": [],
   "source": [
    "base_2_fail_crop = cut_fail_to_crop_opencv(\n",
    "    'pictures 2/cut-fail/',\n",
    "    'pictures 2/crop-opencv-fail/',\n",
    "    'pictures 2/crop-rembg/',\n",
    "    'pictures 2/crop-alg/'\n",
    ")"
   ]
  },
  {
   "cell_type": "code",
   "execution_count": 115,
   "metadata": {},
   "outputs": [
    {
     "data": {
      "text/html": [
       "<div>\n",
       "<style scoped>\n",
       "    .dataframe tbody tr th:only-of-type {\n",
       "        vertical-align: middle;\n",
       "    }\n",
       "\n",
       "    .dataframe tbody tr th {\n",
       "        vertical-align: top;\n",
       "    }\n",
       "\n",
       "    .dataframe thead th {\n",
       "        text-align: right;\n",
       "    }\n",
       "</style>\n",
       "<table border=\"1\" class=\"dataframe\">\n",
       "  <thead>\n",
       "    <tr style=\"text-align: right;\">\n",
       "      <th></th>\n",
       "      <th>ID</th>\n",
       "      <th>Pic</th>\n",
       "      <th>Название файла</th>\n",
       "      <th>Результат обрезки</th>\n",
       "      <th>Статус</th>\n",
       "      <th>Комментарий</th>\n",
       "    </tr>\n",
       "  </thead>\n",
       "  <tbody>\n",
       "    <tr>\n",
       "      <th>703</th>\n",
       "      <td>177</td>\n",
       "      <td>1</td>\n",
       "      <td>177-1.jpg</td>\n",
       "      <td>177-1-crop.jpg</td>\n",
       "      <td></td>\n",
       "      <td></td>\n",
       "    </tr>\n",
       "    <tr>\n",
       "      <th>701</th>\n",
       "      <td>182</td>\n",
       "      <td>1</td>\n",
       "      <td>182-1.jpg</td>\n",
       "      <td>182-1-crop.jpg</td>\n",
       "      <td></td>\n",
       "      <td></td>\n",
       "    </tr>\n",
       "    <tr>\n",
       "      <th>695</th>\n",
       "      <td>198</td>\n",
       "      <td>1</td>\n",
       "      <td>198-1.jpg</td>\n",
       "      <td>198-1-crop.jpg</td>\n",
       "      <td></td>\n",
       "      <td></td>\n",
       "    </tr>\n",
       "    <tr>\n",
       "      <th>692</th>\n",
       "      <td>207</td>\n",
       "      <td>1</td>\n",
       "      <td>207-1.jpg</td>\n",
       "      <td>207-1-crop.jpg</td>\n",
       "      <td></td>\n",
       "      <td></td>\n",
       "    </tr>\n",
       "    <tr>\n",
       "      <th>689</th>\n",
       "      <td>209</td>\n",
       "      <td>1</td>\n",
       "      <td>209-1.jpg</td>\n",
       "      <td>209-1-crop.jpg</td>\n",
       "      <td></td>\n",
       "      <td></td>\n",
       "    </tr>\n",
       "  </tbody>\n",
       "</table>\n",
       "</div>"
      ],
      "text/plain": [
       "      ID  Pic Название файла Результат обрезки Статус Комментарий\n",
       "703  177    1      177-1.jpg    177-1-crop.jpg                   \n",
       "701  182    1      182-1.jpg    182-1-crop.jpg                   \n",
       "695  198    1      198-1.jpg    198-1-crop.jpg                   \n",
       "692  207    1      207-1.jpg    207-1-crop.jpg                   \n",
       "689  209    1      209-1.jpg    209-1-crop.jpg                   "
      ]
     },
     "execution_count": 115,
     "metadata": {},
     "output_type": "execute_result"
    }
   ],
   "source": [
    "base_2_fail_crop = base_2_fail_crop.drop_duplicates()\n",
    "base_2_fail_crop.head()"
   ]
  },
  {
   "cell_type": "code",
   "execution_count": 116,
   "metadata": {},
   "outputs": [
    {
     "data": {
      "text/plain": [
       "(266, 6)"
      ]
     },
     "execution_count": 116,
     "metadata": {},
     "output_type": "execute_result"
    }
   ],
   "source": [
    "base_2_fail_crop.shape"
   ]
  },
  {
   "cell_type": "code",
   "execution_count": 118,
   "metadata": {},
   "outputs": [
    {
     "data": {
      "text/html": [
       "<div>\n",
       "<style scoped>\n",
       "    .dataframe tbody tr th:only-of-type {\n",
       "        vertical-align: middle;\n",
       "    }\n",
       "\n",
       "    .dataframe tbody tr th {\n",
       "        vertical-align: top;\n",
       "    }\n",
       "\n",
       "    .dataframe thead th {\n",
       "        text-align: right;\n",
       "    }\n",
       "</style>\n",
       "<table border=\"1\" class=\"dataframe\">\n",
       "  <thead>\n",
       "    <tr style=\"text-align: right;\">\n",
       "      <th></th>\n",
       "      <th>ID</th>\n",
       "      <th>Pic</th>\n",
       "      <th>Название файла</th>\n",
       "      <th>Результат обрезки</th>\n",
       "      <th>Статус</th>\n",
       "      <th>Комментарий</th>\n",
       "    </tr>\n",
       "  </thead>\n",
       "  <tbody>\n",
       "    <tr>\n",
       "      <th>10</th>\n",
       "      <td>4975</td>\n",
       "      <td>1</td>\n",
       "      <td>4975-1.jpg</td>\n",
       "      <td>4975-1-crop.jpg</td>\n",
       "      <td></td>\n",
       "      <td></td>\n",
       "    </tr>\n",
       "    <tr>\n",
       "      <th>9</th>\n",
       "      <td>4987</td>\n",
       "      <td>1</td>\n",
       "      <td>4987-1.jpg</td>\n",
       "      <td>4987-1-crop.jpg</td>\n",
       "      <td></td>\n",
       "      <td></td>\n",
       "    </tr>\n",
       "    <tr>\n",
       "      <th>8</th>\n",
       "      <td>5016</td>\n",
       "      <td>1</td>\n",
       "      <td>5016-1.jpg</td>\n",
       "      <td>5016-1-crop.jpg</td>\n",
       "      <td></td>\n",
       "      <td></td>\n",
       "    </tr>\n",
       "    <tr>\n",
       "      <th>6</th>\n",
       "      <td>5110</td>\n",
       "      <td>2</td>\n",
       "      <td>5110-2.jpg</td>\n",
       "      <td>5110-2-crop.jpg</td>\n",
       "      <td></td>\n",
       "      <td></td>\n",
       "    </tr>\n",
       "    <tr>\n",
       "      <th>7</th>\n",
       "      <td>5110</td>\n",
       "      <td>1</td>\n",
       "      <td>5110-1.jpg</td>\n",
       "      <td>5110-1-crop.jpg</td>\n",
       "      <td></td>\n",
       "      <td></td>\n",
       "    </tr>\n",
       "  </tbody>\n",
       "</table>\n",
       "</div>"
      ],
      "text/plain": [
       "      ID  Pic Название файла Результат обрезки Статус Комментарий\n",
       "10  4975    1     4975-1.jpg   4975-1-crop.jpg                   \n",
       "9   4987    1     4987-1.jpg   4987-1-crop.jpg                   \n",
       "8   5016    1     5016-1.jpg   5016-1-crop.jpg                   \n",
       "6   5110    2     5110-2.jpg   5110-2-crop.jpg                   \n",
       "7   5110    1     5110-1.jpg   5110-1-crop.jpg                   "
      ]
     },
     "execution_count": 118,
     "metadata": {},
     "output_type": "execute_result"
    }
   ],
   "source": [
    "base_3_fail_crop = cut_fail_to_crop_opencv(\n",
    "    'pictures 3/cut-fail/',\n",
    "    'pictures 3/crop-opencv-fail/',\n",
    "    'pictures 3/crop-rembg/',\n",
    "    'pictures 3/crop-alg/'\n",
    ")\n",
    "base_3_fail_crop.head()"
   ]
  },
  {
   "cell_type": "code",
   "execution_count": 119,
   "metadata": {},
   "outputs": [
    {
     "data": {
      "text/plain": [
       "(1907, 6)"
      ]
     },
     "execution_count": 119,
     "metadata": {},
     "output_type": "execute_result"
    }
   ],
   "source": [
    "base_3_fail_crop.shape"
   ]
  },
  {
   "cell_type": "markdown",
   "metadata": {},
   "source": [
    "## Завершающие шаги форматирования таблиц и папок\n",
    "Объединяем таблицы по opencv вместе (из success и fail)"
   ]
  },
  {
   "cell_type": "code",
   "execution_count": 120,
   "metadata": {},
   "outputs": [
    {
     "data": {
      "text/plain": [
       "((307, 6), (591, 6), (5163, 6))"
      ]
     },
     "execution_count": 120,
     "metadata": {},
     "output_type": "execute_result"
    }
   ],
   "source": [
    "base_1_crop_opencv = pd.concat([base_1_crop_opencv, base_1_fail_crop], sort=True)\n",
    "base_2_crop_opencv = pd.concat([base_2_crop_opencv, base_2_fail_crop], sort=True)\n",
    "base_3_crop_opencv = pd.concat([base_3_crop_opencv, base_3_fail_crop], sort=True)\n",
    "base_1_crop_opencv.shape, base_2_crop_opencv.shape, base_3_crop_opencv.shape"
   ]
  },
  {
   "cell_type": "markdown",
   "metadata": {},
   "source": [
    "Записываем в один документ excel"
   ]
  },
  {
   "cell_type": "code",
   "execution_count": 122,
   "metadata": {},
   "outputs": [],
   "source": [
    "writer = pd.ExcelWriter('Обрезка открыток рабочая таблица для волонтеров 2.xlsx', engine='openpyxl')\n",
    "\n",
    "base_1_crop_opencv.to_excel(writer, sheet_name='База 1 метод OpenCV', index=False)\n",
    "base_2_crop_opencv.to_excel(writer, sheet_name='База 2 метод OpenCV', index=False)\n",
    "base_3_crop_opencv.to_excel(writer, sheet_name='База 3 метод OpenCV', index=False)\n",
    "\n",
    "base_1_fail_crop.to_excel(writer, sheet_name='База 1 метод rembg', index=False)\n",
    "base_2_fail_crop.to_excel(writer, sheet_name='База 2 метод rembg', index=False)\n",
    "base_3_fail_crop.to_excel(writer, sheet_name='База 3 метод rembg', index=False)\n",
    "\n",
    "base_1_fail_crop.to_excel(writer, sheet_name='База 1 метод algorithm', index=False)\n",
    "base_2_fail_crop.to_excel(writer, sheet_name='База 2 метод algorithm', index=False)\n",
    "base_3_fail_crop.to_excel(writer, sheet_name='База 3 метод algorithm', index=False)\n",
    "\n",
    "writer.save()"
   ]
  },
  {
   "cell_type": "markdown",
   "metadata": {},
   "source": [
    "Объединяем папки по opencv"
   ]
  },
  {
   "cell_type": "code",
   "execution_count": 124,
   "metadata": {},
   "outputs": [],
   "source": [
    "for file in os.listdir('pictures 1/crop-opencv-fail/'):\n",
    "    filename = os.fsdecode(file)\n",
    "    os.rename('pictures 1/crop-opencv-fail/' + filename, 'pictures 1/crop-opencv/' + filename)"
   ]
  },
  {
   "cell_type": "code",
   "execution_count": 127,
   "metadata": {},
   "outputs": [
    {
     "data": {
      "text/plain": [
       "307"
      ]
     },
     "execution_count": 127,
     "metadata": {},
     "output_type": "execute_result"
    }
   ],
   "source": [
    "len(os.listdir('pictures 1/crop-opencv/')) // 2"
   ]
  },
  {
   "cell_type": "code",
   "execution_count": 128,
   "metadata": {},
   "outputs": [
    {
     "data": {
      "text/plain": [
       "591"
      ]
     },
     "execution_count": 128,
     "metadata": {},
     "output_type": "execute_result"
    }
   ],
   "source": [
    "for file in os.listdir('pictures 2/crop-opencv-fail/'):\n",
    "    filename = os.fsdecode(file)\n",
    "    os.rename('pictures 2/crop-opencv-fail/' + filename, 'pictures 2/crop-opencv/' + filename)\n",
    "len(os.listdir('pictures 2/crop-opencv/')) // 2"
   ]
  },
  {
   "cell_type": "code",
   "execution_count": 129,
   "metadata": {},
   "outputs": [
    {
     "data": {
      "text/plain": [
       "5163"
      ]
     },
     "execution_count": 129,
     "metadata": {},
     "output_type": "execute_result"
    }
   ],
   "source": [
    "for file in os.listdir('pictures 3/crop-opencv-fail/'):\n",
    "    filename = os.fsdecode(file)\n",
    "    os.rename('pictures 3/crop-opencv-fail/' + filename, 'pictures 3/crop-opencv/' + filename)\n",
    "len(os.listdir('pictures 3/crop-opencv/')) // 2"
   ]
  },
  {
   "cell_type": "markdown",
   "metadata": {},
   "source": [
    "Удаляем папки cut-fail (в них остались копии исходников, они больше не нужны)"
   ]
  },
  {
   "cell_type": "code",
   "execution_count": 130,
   "metadata": {},
   "outputs": [],
   "source": [
    "shutil.rmtree('pictures 1/cut-fail/')\n",
    "shutil.rmtree('pictures 2/cut-fail/')\n",
    "shutil.rmtree('pictures 3/cut-fail/')"
   ]
  },
  {
   "cell_type": "markdown",
   "metadata": {},
   "source": [
    "# Точность метода"
   ]
  },
  {
   "cell_type": "markdown",
   "metadata": {},
   "source": [
    "## Точность сканнера OpenCV\n",
    "Предварительная оценка на основе автоматической сортировки на success и fail"
   ]
  },
  {
   "cell_type": "code",
   "execution_count": 113,
   "metadata": {},
   "outputs": [
    {
     "data": {
      "text/plain": [
       "0.6322389044712093"
      ]
     },
     "execution_count": 113,
     "metadata": {},
     "output_type": "execute_result"
    }
   ],
   "source": [
    "success_count = base_1_cut_success.shape[0] + base_2_cut_success.shape[0] + base_3_cut_success.shape[0]\n",
    "fail_count = base_1_cut_fail.shape[0] + base_2_cut_fail.shape[0] + base_3_cut_fail.shape[0]\n",
    "success_count / (success_count + fail_count)"
   ]
  }
 ],
 "metadata": {
  "colab": {
   "provenance": [],
   "toc_visible": true
  },
  "kernelspec": {
   "display_name": "Python 3 (ipykernel)",
   "language": "python",
   "name": "python3"
  },
  "language_info": {
   "codemirror_mode": {
    "name": "ipython",
    "version": 3
   },
   "file_extension": ".py",
   "mimetype": "text/x-python",
   "name": "python",
   "nbconvert_exporter": "python",
   "pygments_lexer": "ipython3",
   "version": "3.9.10"
  }
 },
 "nbformat": 4,
 "nbformat_minor": 1
}
