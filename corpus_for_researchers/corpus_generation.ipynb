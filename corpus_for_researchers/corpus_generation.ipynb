{
  "nbformat": 4,
  "nbformat_minor": 0,
  "metadata": {
    "colab": {
      "provenance": [],
      "toc_visible": true
    },
    "kernelspec": {
      "name": "python3",
      "display_name": "Python 3"
    },
    "language_info": {
      "name": "python"
    }
  },
  "cells": [
    {
      "cell_type": "markdown",
      "source": [
        "# Читаем базы"
      ],
      "metadata": {
        "id": "TdTCi5H5Qo8_"
      }
    },
    {
      "cell_type": "code",
      "execution_count": 6,
      "metadata": {
        "id": "910xkhDHQi6G"
      },
      "outputs": [],
      "source": [
        "import pandas as pd"
      ]
    },
    {
      "cell_type": "code",
      "source": [
        "from google.colab import drive\n",
        "drive.mount('/content/drive')"
      ],
      "metadata": {
        "colab": {
          "base_uri": "https://localhost:8080/"
        },
        "id": "rO54DlQEKDBz",
        "outputId": "c4a64c62-5a6a-43e9-e94e-2428c5d8bdc2"
      },
      "execution_count": null,
      "outputs": [
        {
          "output_type": "stream",
          "name": "stdout",
          "text": [
            "Mounted at /content/drive\n"
          ]
        }
      ]
    },
    {
      "cell_type": "markdown",
      "source": [
        "## База 1"
      ],
      "metadata": {
        "id": "CLaATX0LSUn3"
      }
    },
    {
      "cell_type": "code",
      "source": [
        "base_1 = pd.ExcelFile('/content/drive/MyDrive/Системный Блок/пишу тебе/открытки базы/Расшифровка открыток (основная база).xlsx')\n",
        "base_1 = pd.read_excel(base_1, 'Открытки')\n",
        "base_1['Номер открытки'] = base_1['Номер открытки'].astype(int)\n",
        "base_1 = base_1[~(((base_1['Pic_url_1'].isna()) | (base_1['Pic_url_1'] == 0.0)) &\n",
        "                ((base_1['Pic_url_2'].isna()) | (base_1['Pic_url_2'] == 0.0)))\n",
        "                ]\n",
        "base_1.head()"
      ],
      "metadata": {
        "id": "a5qe88L7QrP4"
      },
      "execution_count": null,
      "outputs": []
    },
    {
      "cell_type": "code",
      "source": [
        "base_1.shape"
      ],
      "metadata": {
        "colab": {
          "base_uri": "https://localhost:8080/"
        },
        "id": "r4Vvoq2USr16",
        "outputId": "519a988b-74a8-45a3-8da7-74cade63c905"
      },
      "execution_count": null,
      "outputs": [
        {
          "output_type": "execute_result",
          "data": {
            "text/plain": [
              "(6031, 61)"
            ]
          },
          "metadata": {},
          "execution_count": 5
        }
      ]
    },
    {
      "cell_type": "markdown",
      "source": [
        "## База 2"
      ],
      "metadata": {
        "id": "szN-Q0vCSgzJ"
      }
    },
    {
      "cell_type": "code",
      "source": [
        "base_2 = pd.ExcelFile('/content/drive/MyDrive/Системный Блок/пишу тебе/открытки базы/Расшифровка открыток 2 (Ярмарка проектов).xlsx')\n",
        "base_2 = pd.read_excel(base_2, 'Открытки')\n",
        "base_2['Номер открытки'] = base_2['Номер открытки'].astype(int)\n",
        "base_2.head()"
      ],
      "metadata": {
        "id": "sQ37LFP6SiCL"
      },
      "execution_count": null,
      "outputs": []
    },
    {
      "cell_type": "code",
      "source": [
        "base_2.shape"
      ],
      "metadata": {
        "colab": {
          "base_uri": "https://localhost:8080/"
        },
        "id": "WSCUYuYQRia5",
        "outputId": "884d0e17-0c3e-4aea-c082-ec1524aaeb9a"
      },
      "execution_count": null,
      "outputs": [
        {
          "output_type": "execute_result",
          "data": {
            "text/plain": [
              "(4968, 61)"
            ]
          },
          "metadata": {},
          "execution_count": 7
        }
      ]
    },
    {
      "cell_type": "markdown",
      "source": [
        "## База 3"
      ],
      "metadata": {
        "id": "uLHW4Gp-THbB"
      }
    },
    {
      "cell_type": "code",
      "source": [
        "base_3 = pd.ExcelFile('/content/drive/MyDrive/Системный Блок/пишу тебе/открытки базы/Расшифровка открыток 3 (Ярмарка проектов).xlsx')\n",
        "base_3 = pd.read_excel(base_3, 'Открытки')\n",
        "base_3 = base_3[~base_3['Номер открытки'].isna()]\n",
        "base_3['Номер открытки'] = base_3['Номер открытки'].astype(int)\n",
        "base_3 = base_3.rename(columns={'Resize_ur_1': 'Resize_url_1', 'Resize_ur_2': 'Resize_url_2'})\n",
        "base_3.head()"
      ],
      "metadata": {
        "id": "PuYWAHGUTG_C"
      },
      "execution_count": null,
      "outputs": []
    },
    {
      "cell_type": "code",
      "source": [
        "base_3.shape"
      ],
      "metadata": {
        "colab": {
          "base_uri": "https://localhost:8080/"
        },
        "id": "D60kWjioT62V",
        "outputId": "a8954186-1f81-4bb5-b967-c77ba445f328"
      },
      "execution_count": null,
      "outputs": [
        {
          "output_type": "execute_result",
          "data": {
            "text/plain": [
              "(10453, 61)"
            ]
          },
          "metadata": {},
          "execution_count": 9
        }
      ]
    },
    {
      "cell_type": "markdown",
      "source": [
        "## База 4"
      ],
      "metadata": {
        "id": "0OFtqxac6_R6"
      }
    },
    {
      "cell_type": "code",
      "source": [
        "base_4 = pd.ExcelFile('/content/drive/MyDrive/Системный Блок/пишу тебе/открытки базы/Расшифровка открыток 4 (ярмарка проектов).xlsx')\n",
        "base_4 = pd.read_excel(base_4, 'Открытки')\n",
        "base_4 = base_4[~base_4['Номер открытки'].isna()]\n",
        "base_4['Номер открытки'] = base_4['Номер открытки'].astype(int)\n",
        "base_4 = base_4[~(((base_4['Pic_url_1'].isna()) | (base_4['Pic_url_1'] == 0.0)) &\n",
        "                ((base_4['Pic_url_2'].isna()) | (base_4['Pic_url_2'] == 0.0)))\n",
        "                ]\n",
        "base_4.head()"
      ],
      "metadata": {
        "id": "Lwva781f7Cnf"
      },
      "execution_count": null,
      "outputs": []
    },
    {
      "cell_type": "code",
      "source": [
        "base_4.shape"
      ],
      "metadata": {
        "colab": {
          "base_uri": "https://localhost:8080/"
        },
        "outputId": "c36a2951-a257-4d92-a462-b364616811ae",
        "id": "Qcq0766F7Cnh"
      },
      "execution_count": null,
      "outputs": [
        {
          "output_type": "execute_result",
          "data": {
            "text/plain": [
              "(9381, 61)"
            ]
          },
          "metadata": {},
          "execution_count": 12
        }
      ]
    },
    {
      "cell_type": "markdown",
      "source": [
        "## Объединяем базы"
      ],
      "metadata": {
        "id": "7uWvqj98VkvN"
      }
    },
    {
      "cell_type": "code",
      "source": [
        "base_1['base'] = 1\n",
        "base_2['base'] = 2\n",
        "base_3['base'] = 3\n",
        "base_4['base'] = 4"
      ],
      "metadata": {
        "id": "trstgNbaVtuW"
      },
      "execution_count": null,
      "outputs": []
    },
    {
      "cell_type": "code",
      "source": [
        "df = pd.concat([base_1, base_2, base_3, base_4])\n",
        "df.shape"
      ],
      "metadata": {
        "id": "cfHBmrpuUQja",
        "colab": {
          "base_uri": "https://localhost:8080/"
        },
        "outputId": "a0eb8ad1-c800-4b26-9ce2-ee24089138b2"
      },
      "execution_count": null,
      "outputs": [
        {
          "output_type": "execute_result",
          "data": {
            "text/plain": [
              "(30833, 67)"
            ]
          },
          "metadata": {},
          "execution_count": 213
        }
      ]
    },
    {
      "cell_type": "code",
      "source": [
        "df['base'].value_counts()"
      ],
      "metadata": {
        "colab": {
          "base_uri": "https://localhost:8080/"
        },
        "id": "im3_kOIEVqI7",
        "outputId": "ff3a5e45-0073-4f25-80ef-df07560b9267"
      },
      "execution_count": null,
      "outputs": [
        {
          "output_type": "execute_result",
          "data": {
            "text/plain": [
              "3    10453\n",
              "4     9381\n",
              "1     6031\n",
              "2     4968\n",
              "Name: base, dtype: int64"
            ]
          },
          "metadata": {},
          "execution_count": 9
        }
      ]
    },
    {
      "cell_type": "markdown",
      "source": [
        "# Фильтрация\n",
        "Оставляем открытки, которые проходят фильтры"
      ],
      "metadata": {
        "id": "YxE0qTQcUGxX"
      }
    },
    {
      "cell_type": "code",
      "source": [
        "df = df[\n",
        "    (df['Разрешение на публикацию'] == 'Разрешаю публикацию') &\n",
        "    (df['Статус (распределено, в процессе, завершено, проблема)'] == 'Проверено') &\n",
        "    (df['Проблема'] == 'Отсутствует') &\n",
        "    (~df['Resize_url_1'].isna()) & (~df['Resize_url_2'].isna())\n",
        "]\n",
        "df.shape"
      ],
      "metadata": {
        "colab": {
          "base_uri": "https://localhost:8080/"
        },
        "id": "4QpShn3wV4Dg",
        "outputId": "372b4924-1838-4bb4-d75d-405ff5a794f5"
      },
      "execution_count": null,
      "outputs": [
        {
          "output_type": "execute_result",
          "data": {
            "text/plain": [
              "(17727, 67)"
            ]
          },
          "metadata": {},
          "execution_count": 214
        }
      ]
    },
    {
      "cell_type": "markdown",
      "source": [
        "Оставляем только нужные столбцы"
      ],
      "metadata": {
        "id": "Ebw57tFPK8u9"
      }
    },
    {
      "cell_type": "code",
      "source": [
        "df = df[[\n",
        "    'Номер открытки',  # синяя секция (базовая)\n",
        "    'Pic_url_1',\n",
        "    'Pic_url_2',\n",
        "    'Resize_url_1',\n",
        "    'Resize_url_2',\n",
        "\n",
        "    'Язык текста открытки',\t # зеленая секция (расшифровка)\n",
        "    'Текст открытки',\t\n",
        "    'Перевод текста открытки (если на иностранном языке)',\t\n",
        "    'Вид орфографии',\t\n",
        "    'Дата написания текста (если автор указал явно, не штемпели)',\n",
        "    'Адрес отправителя',\n",
        "    'Имя отправителя',\t\n",
        "    'Адрес получателя',\t\n",
        "    'Индекс получателя',\t\n",
        "    'Имя получателя',\t\n",
        "    'Дата открытки со штемпеля (место отправления)',\n",
        "    'Дата открытки со штемпеля (место, куда открытка прибыла)',\t\n",
        "    'Тип изображения (фотография, картина, другое)',\n",
        "    'Описание изображения. Обычно приводится на задней стороне или лицевой. Там обычно указывается, что изображено на открытке, автор, год фотографии/картины',\n",
        "    'Дата печати открытки',\t\n",
        "    'Описание открытки. Например, это может быть издательство, цена открытки и прочая интересная метаинформация',\t\n",
        "    'Доп. сведения о получателе (например, титул, \"дядя\", \"товарищ\")',\n",
        "    'Доп. сведения об отправителе (например, титул, \"твой дядя\", \"князь\")',\n",
        "\n",
        "    'Период (дореволюционный, советский, постсоветский)',\t # оранжевая секция (модерация)\n",
        "    'Страна (откуда)',\t\n",
        "    'Населенный пункт (откуда)',\n",
        "    'Страна (куда)',\t\n",
        "    'Населенный пункт (куда)',\n",
        "    'Тег_1',\t\n",
        "    'Тег_2',\n",
        "    'Тег_3',\t\n",
        "    'Тег_4',\t\n",
        "    'Тег_5',\t\n",
        "    'Тег_6',\t\n",
        "    'Тег_7'\n",
        "    ]]"
      ],
      "metadata": {
        "id": "Vv2KjTFPK7of"
      },
      "execution_count": null,
      "outputs": []
    },
    {
      "cell_type": "markdown",
      "source": [
        "# Предобработка (валидация)"
      ],
      "metadata": {
        "id": "TnFH8KxeKvJE"
      }
    },
    {
      "cell_type": "code",
      "source": [
        "import re\n",
        "import numpy as np\n",
        "from datetime import datetime"
      ],
      "metadata": {
        "id": "GNl--pUmnii8"
      },
      "execution_count": null,
      "outputs": []
    },
    {
      "cell_type": "code",
      "source": [
        "import warnings\n",
        "warnings.filterwarnings(\"ignore\")"
      ],
      "metadata": {
        "id": "hPO7ctj9aQUG"
      },
      "execution_count": null,
      "outputs": []
    },
    {
      "cell_type": "code",
      "source": [
        "df_cols = list(df.columns)\n",
        "df_cols = [col for col in df_cols if col not in \n",
        "           ['Номер открытки', 'Pic_url_1', 'Pic_url_2', 'Resize_url_1', 'Resize_url_2']]"
      ],
      "metadata": {
        "id": "IfFP7eBLgn1a"
      },
      "execution_count": null,
      "outputs": []
    },
    {
      "cell_type": "markdown",
      "source": [
        "## Подготовка\n",
        "* копируем исходное состояние столбцов \n",
        "* создаем столбцы для логирования ошибок"
      ],
      "metadata": {
        "id": "RpICy4yzvzxe"
      }
    },
    {
      "cell_type": "code",
      "source": [
        "for col in df_cols:\n",
        "  df[f'{col}_old'] = df[col]  # исходное значение\n",
        "  df[f'{col}_error'] = False  # была ли ошибка\n",
        "  df[f'{col}_fixed'] = True  # была ли ошибка исправлена"
      ],
      "metadata": {
        "id": "V8Mfl92RwKjp"
      },
      "execution_count": null,
      "outputs": []
    },
    {
      "cell_type": "markdown",
      "source": [
        "## [отсутствует]\n",
        "* если текст/дата отсутствует, ставится [отсутствует] \n",
        "* [отсутствует] - только такое написание (без точки, опечаток, с маленькой буквы)\n"
      ],
      "metadata": {
        "id": "wEOcgZebN9Xv"
      }
    },
    {
      "cell_type": "code",
      "source": [
        "ots = '[отсутствует]'"
      ],
      "metadata": {
        "id": "ZodsANGzgKvv"
      },
      "execution_count": null,
      "outputs": []
    },
    {
      "cell_type": "code",
      "source": [
        "ots_variations = [\n",
        " 'Отсутствует',\n",
        " '[ отсутствует]',\n",
        " '{отсутствует]',\n",
        " '[отсутвствует]',\n",
        " '[отсутсмтвует]',\n",
        " 'отсутсвует',\n",
        " 'отсутствует',\n",
        " '[отcутствует]',\n",
        " '[отсуствует]',\n",
        " '[отсутствует[',\n",
        " '[отсутствут]',\n",
        " '[отсутствует ]',\n",
        " '[отсустствует]',\n",
        " '[отсутствует',\n",
        " 'отсутствует',\n",
        " '[отсутствует}',\n",
        " '[отсутствуют]',\n",
        " '[отсутствует]',\n",
        " '[отстутсвует]',\n",
        " '[отсутсвует]',\n",
        " '[отсцутствует]',\n",
        " '[Отсутствует]',\n",
        " '[отсутстсвует]',\n",
        " '[отсутсвтует]',\n",
        " '[отстутствует]',\n",
        " '[отсутствтует]',\n",
        " '[отсутствие]',\n",
        " 'отсутсnвует',\n",
        " '[отсутсnвует]',\n",
        " '[? отсутствует]',\n",
        " '[отсутвтует]'\n",
        " ]"
      ],
      "metadata": {
        "id": "FaEbenBFibYh"
      },
      "execution_count": null,
      "outputs": []
    },
    {
      "cell_type": "code",
      "source": [
        "def do_replace(s):\n",
        "  # если пусто, ставим [отсутствует]\n",
        "  if pd.isna(s):\n",
        "    return ots\n",
        "\n",
        "  # иначе приводим к строковому виду, обрезаем пробелы\n",
        "  s = str(s).lstrip().rstrip()\n",
        "\n",
        "  # если [отсутствует] написано с ошибкой, исправляем\n",
        "  if s == '' or s in ots_variations:\n",
        "    return ots\n",
        "\n",
        "  return s"
      ],
      "metadata": {
        "id": "l8t9Z6LU1NQ2"
      },
      "execution_count": null,
      "outputs": []
    },
    {
      "cell_type": "markdown",
      "source": [
        "Обрабатываем все столбцы"
      ],
      "metadata": {
        "id": "jxINDz-J1vkw"
      }
    },
    {
      "cell_type": "code",
      "source": [
        "for col in df_cols:\n",
        "  df[col] = df[col].apply(do_replace)"
      ],
      "metadata": {
        "id": "Ik8sx_EU1psf"
      },
      "execution_count": null,
      "outputs": []
    },
    {
      "cell_type": "markdown",
      "source": [
        "## [нрзб]"
      ],
      "metadata": {
        "id": "2k8V48vbXegH"
      }
    },
    {
      "cell_type": "markdown",
      "source": [
        "Смотрим, какие есть вариации написания нрзб"
      ],
      "metadata": {
        "id": "qBkPGtNLLSN3"
      }
    },
    {
      "cell_type": "code",
      "source": [
        "nrzb = '[нрзб]'"
      ],
      "metadata": {
        "id": "PaKq-ZkdLXZ7"
      },
      "execution_count": null,
      "outputs": []
    },
    {
      "cell_type": "code",
      "source": [
        "for col in df.columns:\n",
        "  values = df[col].to_list()\n",
        "  for v in values:\n",
        "    if not isinstance(v, str):\n",
        "      continue\n",
        "    if nrzb not in v and 'нрзб' in v:\n",
        "      print(v)"
      ],
      "metadata": {
        "id": "LrFmziUTXmO0"
      },
      "execution_count": null,
      "outputs": []
    },
    {
      "cell_type": "markdown",
      "source": [
        "Составляем список"
      ],
      "metadata": {
        "id": "KetYkJouLX6m"
      }
    },
    {
      "cell_type": "code",
      "source": [
        "nrzb_variations = [\n",
        " '[нрзб.]',\n",
        " '[нрзб ]',\n",
        " '<нрзб>',\n",
        " '<нрзб.>',\n",
        " '[нрзбр]',\n",
        " '[нрзбр.]',\n",
        " '[нрзбр.,]',\n",
        " '<нрбр>',\n",
        " '[?нрзб]',\n",
        " '[нрзб[',\n",
        " '[]нрзб',\n",
        " '[ нрзб]',\n",
        " '[ нрзб.]',\n",
        " '[нрзб. ]',\n",
        " '{нрзб.}',\n",
        " '{нрзб}',\n",
        " '[ нрзб ]'\n",
        " ]\n",
        "\n",
        "nrzb_replacement_dict = {v: nrzb for v in nrzb_variations}\n",
        "\n",
        "nrzb_replacement_dict['нрзб] Б[...] Городская больница'] = '[нрзб] Б[...] Городская больница'\n",
        "nrzb_replacement_dict['Гор. Кострома Царевская улица, дом Леонтьева, кв. № 3 (В Казарме 183 нрзб)'] = \\\n",
        "  'Гор. Кострома Царевская улица, дом Леонтьева, кв. № 3 (В Казарме 183 [нрзб])'\n",
        "nrzb_replacement_dict['Мадемуазель Ольга нрзб'] = 'Мадемуазель Ольга [нрзб]'\n",
        "nrzb_replacement_dict[\n",
        "    'Доктор сказал, что мне полезно не только легкое чтение, но и какое-либо серьезное  нрзб.'\n",
        "    ] = 'Доктор сказал, что мне полезно не только легкое чтение, но и какое-либо серьезное [нрзб]'\n",
        "nrzb_replacement_dict['<u>нрзб]'] = '<u>[нрзб]'\n",
        "nrzb_replacement_dict['[<s>нрзб</s>]'] = '<s>[нрзб]</s>'\n",
        "\n",
        "# nrzb_variations += [\n",
        "# '[нрзб.?мечеть]',\n",
        "# '[нрзб. художник Г. Рожков?]',\n",
        "# '[нрзб - ва]',\n",
        "# '[Лит А - нрзб]',\n",
        "# '[нрзб.59].',\n",
        "# '[отсутствует*нрзб.]',\n",
        "# '[нрзб. *?г. Петербург]',\n",
        "# '[нрзб. подпись]',\n",
        "# '[нрзб.?фамилия] '\n",
        "# '[нрзб *Костя? *Коля?]',\n",
        "# '[срочно нрзб]',\n",
        "# '[П-нрзб]',\n",
        "# '[Евсе-нрзб]',\n",
        "# '[нрзб - ва]',\n",
        "# '[Лит А - нрзб]',\n",
        "# ]"
      ],
      "metadata": {
        "id": "CrTrfZg0XeIz"
      },
      "execution_count": null,
      "outputs": []
    },
    {
      "cell_type": "markdown",
      "source": [
        "Убираем вариативность [нрзб] и логируем"
      ],
      "metadata": {
        "id": "GjP0IfQrbkdL"
      }
    },
    {
      "cell_type": "code",
      "source": [
        "def replace_log(row, col):\n",
        "  s = row[col]\n",
        "  err = row[f'{col}_error']\n",
        "  fix = row[f'{col}_fixed']\n",
        "\n",
        "  if not isinstance(s, str):\n",
        "    return s, err, fix\n",
        "    \n",
        "  if s == 'нрзб':\n",
        "    return nrzb, err, fix\n",
        "\n",
        "  if 'нрзб' in s and nrzb not in s:\n",
        "    err = True\n",
        "\n",
        "  for v in nrzb_replacement_dict:\n",
        "    s = s.replace(v, nrzb_replacement_dict[v])\n",
        "\n",
        "  if 'нрзб' in s and nrzb not in s:\n",
        "    fix = False\n",
        "\n",
        "  return s, err, fix"
      ],
      "metadata": {
        "id": "Mhi-lHmmTAHB"
      },
      "execution_count": null,
      "outputs": []
    },
    {
      "cell_type": "code",
      "source": [
        "for col in df_cols:\n",
        "  replace_log_res = df.apply(lambda row: replace_log(row, col), axis=1)\n",
        "  df[col] = replace_log_res.apply(lambda t: t[0])\n",
        "  df[f'{col}_error'] = replace_log_res.apply(lambda t: t[1])\n",
        "  df[f'{col}_fixed'] = replace_log_res.apply(lambda t: t[2])"
      ],
      "metadata": {
        "id": "5PAAce5abm7r"
      },
      "execution_count": null,
      "outputs": []
    },
    {
      "cell_type": "markdown",
      "source": [
        "Где осталось нрзб в нестандартизированном виде (залогировано, но исправлено)"
      ],
      "metadata": {
        "id": "wFr7cq-gtDSV"
      }
    },
    {
      "cell_type": "code",
      "source": [
        "for col in df_cols:\n",
        "  values = df[col].to_list()\n",
        "  for v in values:\n",
        "    if not isinstance(v, str):\n",
        "      continue\n",
        "    if nrzb not in v and 'нрзб' in v:\n",
        "      print(v)"
      ],
      "metadata": {
        "colab": {
          "base_uri": "https://localhost:8080/"
        },
        "id": "aRO6v6vRc7oi",
        "outputId": "7ad62f39-f5f0-42d5-9ee5-5c30fdd10001"
      },
      "execution_count": null,
      "outputs": [
        {
          "output_type": "stream",
          "name": "stdout",
          "text": [
            "Дорогая Леля. Сейчас получив письмо твое и Симы от 14 нояб. [ноября]. Спасибо за поздравление. Живем по прежнему; здоровы. Сейчас поеду в Стрельну.  21 го возможно там соберется целая компания. Рисую теперь редко. Недавно получила [получил] в подарок от Кузнецова один из его рисунков углем. Продолжай рисовать. Твоя [твой] [нрзб. подпись]\n",
            "Дорогие Екатерина Степановна, Дима и Зойка! Хочу в двадцатых числах прокатиться до Вас, но в то же время боюсь как бы вас не задержать, быть может вы тоже куда нибудь собираетесь поехать. Напишите пожалуйста когда лучше избрать время. Надя [нрзб.?фамилия]\n",
            "{г. Одесса, 13 августа 1910 г.} Поздравляю и крепко целую дорогую Наташеньку. Лизочка. Дорогая Наташа, целую и поздраляю тебя с днем рождения. Поцелуй маму, папу, Митю, Раю, Леночку, Колю и Мишеньку. Кланяюсь т. Тане. Будь здорова. Еще раз целую, твой дядя [нрзб *Костя? *Коля?]\n",
            "30 июня. Милые Варя и папуля! Вот уже с 14-го июня я в Симеизи. Лька, наверное, уже писала Вам об этом. Устроился не плохо. Столовой здесь в этом году нет, но я устроился обедать у частных лиц. Правда стоит это все дорого и денег уходит много. Беру в день литр молока у тети Эсмы. Видел ее один раз. На следующий-же день после моего приезда она утром пришла чтобы договориться насчет молока и тогда я с ней поговорил. Вспоминала вас. Из прошлогодней молодежи здесь только Всеволод Ильич. Он теперь устроился на работу в обсерваторию и работает вычислителем. В общем такой веселой компании, как прошлый год нет, но я не скучаю, т.к. много работы. Наблюдаю почти каждую ночь по 7 часов, т.к. здесь очень много ясной погоды, пасмурных ночей почти не бывает. Стоят жаркие солнечные дни и голубое небо и темно синее море приятно ласкают взгляд. Фруктов пока еще никаких нет и в этом году они будут поздно, т.к. была в Крыму холодная весна. Привет Жене тете Мане и тете Лене [нрзб. подпись]\n",
            "24/V 07 г.\n",
            "Бедный мой! Ты совсем не имеешь и свободной минуты, так устал, что не можешь уделить несколько минут, чтобы написать мне письмо, а я, дура, жду письмо, как будто бы тебя самого, но я ничего, не обвиняю тебя, а наоборот прошу не загружать себя и я постараюсь не беспокоить тебя своими письмами. Карточка уж должна быть готова 19-го а теперь 24 и уж давно можно было ее прислать, я только жалею, что побеспокоила тебя — [срочно нрзб] могла прислать ее мне.\n",
            "Когда ты получишь сие послание я уже буду на пути в твои объятия. Положим молчание золото, но почему ты не ответила на мое письмо. Положили 2 головки нарезки и сыра и ​селёдки​ на стол. Ты [?выброси] [​?передачку​] перед обедом после завтрака и [​нрзб​]. Ну да я не злопамятен . Как – [?ты] решился на путешествия?  А язык-то какой собачий. Ничего понять нельзя. Ну до [?скорого] [​?свидания]. К 24 [​нрзб​][?в Питере]. Поклон от нас тебе, ​жене​ и семье.\n",
            "[нрзб. подпись]\n",
            "[нрзб. подпись]\n",
            "Надя [нрзб.?фамилия]\n",
            "Лизочка, [нрзб *Костя? *Коля?]\n",
            "В. [П-нрзб]\n",
            "А. [Евсе-нрзб]\n",
            "г. Оса, дом Амерханова над магомет. [нрзб.?мечеть]\n",
            "<u>Гор. Кострома</u> Царевская улица, дом Леонтьева, кв. № 3 (<s>В Казарме 183 нрзб</s>)\n",
            "[нрзб. художник Г. Рожков?]\n",
            "[нрзб - ва] Храм Христа Спасителя\n",
            "В пользу общины Св. Евгении [Лит А - нрзб]\n",
            "Издание Министерства связи СССР. Ш 04502 16/V 1958. Моск. печ. ф-ка Госзнака. Зак. [нрзб.59]. Цена художественной карточки с маркой [?10?40] коп.\n",
            "[отсутствует*нрзб.]\n",
            "[отсутствует*нрзб.]\n",
            "[нрзб. *?г. Петербург]\n"
          ]
        }
      ]
    },
    {
      "cell_type": "code",
      "source": [
        "df = pd.concat([df], axis=1)"
      ],
      "metadata": {
        "id": "PUxnUuV0S19a"
      },
      "execution_count": null,
      "outputs": []
    },
    {
      "cell_type": "markdown",
      "source": [
        "## Номер открытки + ссылки\n",
        "* заполнение обязательно\n",
        "* только числа / строки\n"
      ],
      "metadata": {
        "id": "gzOvv3KLMr-t"
      }
    },
    {
      "cell_type": "code",
      "source": [
        "cols = ['Номер открытки', 'Pic_url_1', 'Pic_url_2', 'Resize_url_1','Resize_url_2']\n",
        "for col in cols:\n",
        "  if (df[col] == ots).sum() > 0:\n",
        "    print(col)"
      ],
      "metadata": {
        "id": "E-iuvoHOM7zg"
      },
      "execution_count": null,
      "outputs": []
    },
    {
      "cell_type": "code",
      "source": [
        "df[['Номер открытки', 'Pic_url_1', 'Pic_url_2', 'Resize_url_1','Resize_url_2']].dtypes"
      ],
      "metadata": {
        "colab": {
          "base_uri": "https://localhost:8080/"
        },
        "id": "01vEZ_RdNCvm",
        "outputId": "e818c195-f91d-4b73-a268-9eae06fba555"
      },
      "execution_count": null,
      "outputs": [
        {
          "output_type": "execute_result",
          "data": {
            "text/plain": [
              "Номер открытки     int64\n",
              "Pic_url_1         object\n",
              "Pic_url_2         object\n",
              "Resize_url_1      object\n",
              "Resize_url_2      object\n",
              "dtype: object"
            ]
          },
          "metadata": {},
          "execution_count": 270
        }
      ]
    },
    {
      "cell_type": "markdown",
      "source": [
        "## Язык текста открытки\n",
        "* название языка\n",
        "* “непонятно”, \"иностранный язык\" - выгружаем, но логируем\n"
      ],
      "metadata": {
        "id": "jXP36myZNfBQ"
      }
    },
    {
      "cell_type": "code",
      "source": [
        "col = 'Язык текста открытки'"
      ],
      "metadata": {
        "id": "V3SazaZafMef"
      },
      "execution_count": null,
      "outputs": []
    },
    {
      "cell_type": "code",
      "source": [
        "df[col].value_counts()"
      ],
      "metadata": {
        "colab": {
          "base_uri": "https://localhost:8080/"
        },
        "id": "nKBsrOJ_MjoO",
        "outputId": "08ff87c2-71ec-43a8-e121-beb99f9310e2"
      },
      "execution_count": null,
      "outputs": [
        {
          "output_type": "execute_result",
          "data": {
            "text/plain": [
              "русский             17587\n",
              "английский             33\n",
              "украинский             29\n",
              "польский               21\n",
              "французский            19\n",
              "немецкий               17\n",
              "болгарский              5\n",
              "латышский               3\n",
              "эстонский               2\n",
              "белорусский             2\n",
              "эсперанто               1\n",
              "чешский                 1\n",
              "иностранный язык        1\n",
              "шведский                1\n",
              "непонятно               1\n",
              "чувашский               1\n",
              "финский                 1\n",
              "сербский                1\n",
              "татарский               1\n",
              "Name: Язык текста открытки, dtype: int64"
            ]
          },
          "metadata": {},
          "execution_count": 360
        }
      ]
    },
    {
      "cell_type": "markdown",
      "source": [
        "Логирование ошибок"
      ],
      "metadata": {
        "id": "LZ_hAyxOTfl_"
      }
    },
    {
      "cell_type": "code",
      "source": [
        "df[f'{col}_error'] = df.apply(\n",
        "    lambda row: True if row[col] in ('непонятно', 'иностранный язык') else row[f'{col}_error'],\n",
        "    axis=1\n",
        "    )\n",
        "df[f'{col}_error'].value_counts()"
      ],
      "metadata": {
        "colab": {
          "base_uri": "https://localhost:8080/"
        },
        "id": "4ayQlk_9fDm9",
        "outputId": "9351b76f-e74b-4dbe-b932-4f943e22bbcf"
      },
      "execution_count": null,
      "outputs": [
        {
          "output_type": "execute_result",
          "data": {
            "text/plain": [
              "False    17725\n",
              "True         2\n",
              "Name: Язык текста открытки_error, dtype: int64"
            ]
          },
          "metadata": {},
          "execution_count": 224
        }
      ]
    },
    {
      "cell_type": "markdown",
      "source": [
        "## Перевод текста открытки\n",
        "* удаляем [отсутствует] (если перевод не требуется, поле оставляется пустым)"
      ],
      "metadata": {
        "id": "Y5_IyYvHkcal"
      }
    },
    {
      "cell_type": "code",
      "source": [
        "col = 'Перевод текста открытки (если на иностранном языке)'"
      ],
      "metadata": {
        "id": "d1i9EHDQkfFA"
      },
      "execution_count": null,
      "outputs": []
    },
    {
      "cell_type": "code",
      "source": [
        "df[col] = df[col].apply(lambda s: '' if s == ots else s)"
      ],
      "metadata": {
        "id": "yV2gV4ntZwuw"
      },
      "execution_count": null,
      "outputs": []
    },
    {
      "cell_type": "markdown",
      "source": [
        "Проверка"
      ],
      "metadata": {
        "id": "ylLB1_Jln_fO"
      }
    },
    {
      "cell_type": "code",
      "source": [
        "df[col].value_counts()"
      ],
      "metadata": {
        "id": "nrR3U03Zkg7w"
      },
      "execution_count": null,
      "outputs": []
    },
    {
      "cell_type": "markdown",
      "source": [
        "## Вид орфографии\n",
        "Допускается:\n",
        "* Современная\n",
        "* Дореволюционная\n",
        "* Латиница/современная\n",
        "* Латиница/дореволюционная\n",
        "* Латиница \n"
      ],
      "metadata": {
        "id": "qDQz6_DqoSR_"
      }
    },
    {
      "cell_type": "code",
      "source": [
        "col = 'Вид орфографии'"
      ],
      "metadata": {
        "id": "htDNJDlBoV0u"
      },
      "execution_count": null,
      "outputs": []
    },
    {
      "cell_type": "code",
      "source": [
        "df[col].value_counts()"
      ],
      "metadata": {
        "colab": {
          "base_uri": "https://localhost:8080/"
        },
        "id": "V4Zo70HYoYfX",
        "outputId": "98d0dd68-b957-433c-cfbf-06b43ccd9916"
      },
      "execution_count": null,
      "outputs": [
        {
          "output_type": "execute_result",
          "data": {
            "text/plain": [
              "Дореволюционная (ъ,ѣ и т.д.)    9217\n",
              "Современная                     8334\n",
              "Латиница/дореволюционная          64\n",
              "Латиница                          47\n",
              "Латиница/современная              33\n",
              "[отсутствует]                     14\n",
              "Дореволюционная                   10\n",
              "дореволюционная                    6\n",
              "современная                        1\n",
              "0                                  1\n",
              "Name: Вид орфографии, dtype: int64"
            ]
          },
          "metadata": {},
          "execution_count": 277
        }
      ]
    },
    {
      "cell_type": "code",
      "source": [
        "orthography_replacement_dict = {\n",
        "    'Дореволюционная (ъ,ѣ и т.д.)': 'Дореволюционная',\n",
        "    'дореволюционная': 'Дореволюционная',\n",
        "    'современная': 'Современная',\n",
        "    '0': ots\n",
        "}"
      ],
      "metadata": {
        "id": "0Ig9-1rbonZ6"
      },
      "execution_count": null,
      "outputs": []
    },
    {
      "cell_type": "code",
      "source": [
        "df[col] = df[col].replace(orthography_replacement_dict)"
      ],
      "metadata": {
        "id": "1suvSSnO8Te4"
      },
      "execution_count": null,
      "outputs": []
    },
    {
      "cell_type": "code",
      "source": [
        "df[col].value_counts()"
      ],
      "metadata": {
        "colab": {
          "base_uri": "https://localhost:8080/"
        },
        "id": "FZ5MlcmBqtf7",
        "outputId": "67e18043-bfed-4d2a-e15a-1e007d56b4cf"
      },
      "execution_count": null,
      "outputs": [
        {
          "output_type": "execute_result",
          "data": {
            "text/plain": [
              "Дореволюционная             9233\n",
              "Современная                 8335\n",
              "Латиница/дореволюционная      64\n",
              "Латиница                      47\n",
              "Латиница/современная          33\n",
              "[отсутствует]                 15\n",
              "Name: Вид орфографии, dtype: int64"
            ]
          },
          "metadata": {},
          "execution_count": 230
        }
      ]
    },
    {
      "cell_type": "markdown",
      "source": [
        "## Индекс получателя\n",
        "* только число \n",
        "* или [отсутствует]"
      ],
      "metadata": {
        "id": "zDBbRgGnq51G"
      }
    },
    {
      "cell_type": "code",
      "source": [
        "col = 'Индекс получателя'"
      ],
      "metadata": {
        "id": "QqW85iLLq8RO"
      },
      "execution_count": null,
      "outputs": []
    },
    {
      "cell_type": "code",
      "source": [
        "def replace_log(row):\n",
        "  s = row[col]\n",
        "  err = row[f'{col}_error']\n",
        "  fix = row[f'{col}_fixed']\n",
        "\n",
        "  if s == ots or s == nrzb:\n",
        "    return s, err, fix\n",
        "  \n",
        "  if not s.isnumeric():\n",
        "    return s, True, False\n",
        "  \n",
        "  return s, err, fix"
      ],
      "metadata": {
        "id": "pWiTMZpGoAbR"
      },
      "execution_count": null,
      "outputs": []
    },
    {
      "cell_type": "code",
      "source": [
        "df[col] = df[col].astype(str)\n",
        "replace_log_res = df.apply(replace_log, axis=1)\n",
        "df[col] = replace_log_res.apply(lambda t: t[0])\n",
        "df[f'{col}_error'] = replace_log_res.apply(lambda t: t[1])\n",
        "df[f'{col}_fixed'] = replace_log_res.apply(lambda t: t[2])"
      ],
      "metadata": {
        "id": "_7c07ZsApRXU"
      },
      "execution_count": null,
      "outputs": []
    },
    {
      "cell_type": "code",
      "source": [
        "df[col].value_counts()"
      ],
      "metadata": {
        "colab": {
          "base_uri": "https://localhost:8080/"
        },
        "id": "qEeS3Jr3sqkm",
        "outputId": "82007b82-eae9-4503-9cd6-580bec895c34"
      },
      "execution_count": null,
      "outputs": [
        {
          "output_type": "execute_result",
          "data": {
            "text/plain": [
              "[отсутствует]    15270\n",
              "622042             145\n",
              "125008             129\n",
              "428017              71\n",
              "603059              70\n",
              "                 ...  \n",
              "142410               1\n",
              "300028               1\n",
              "348011               1\n",
              "340005               1\n",
              "312080               1\n",
              "Name: Индекс получателя, Length: 707, dtype: int64"
            ]
          },
          "metadata": {},
          "execution_count": 36
        }
      ]
    },
    {
      "cell_type": "markdown",
      "source": [
        "Нечисленные индексы (залогированы, но не исправлены)"
      ],
      "metadata": {
        "id": "xpgbibNR54bM"
      }
    },
    {
      "cell_type": "code",
      "source": [
        "df[(~df[f'{col}_fixed']) & (df[f'{col}_error'])][[f'{col}_old', col, f'{col}_error', f'{col}_fixed']]"
      ],
      "metadata": {
        "id": "1kXb52VTlcAm"
      },
      "execution_count": null,
      "outputs": []
    },
    {
      "cell_type": "markdown",
      "source": [
        "## Тип изображения\n",
        "* Допускается:\n",
        "* Фотография\n",
        "* Картинка/рисунок\n",
        "* Другое\n",
        "* Рисунок отсутствует\n"
      ],
      "metadata": {
        "id": "kFcxy-NZ6G0x"
      }
    },
    {
      "cell_type": "code",
      "source": [
        "col = 'Тип изображения (фотография, картина, другое)'"
      ],
      "metadata": {
        "id": "KugNPfGz6sbd"
      },
      "execution_count": null,
      "outputs": []
    },
    {
      "cell_type": "code",
      "source": [
        "df[col].value_counts()"
      ],
      "metadata": {
        "colab": {
          "base_uri": "https://localhost:8080/"
        },
        "outputId": "4d39917d-6911-40a2-cf99-8096d3449635",
        "id": "tcTen_pn6sbe"
      },
      "execution_count": null,
      "outputs": [
        {
          "output_type": "execute_result",
          "data": {
            "text/plain": [
              "Картинка/рисунок        9869\n",
              "Фотография              7519\n",
              "Рисунок отсутствует      168\n",
              "Другое                   139\n",
              "[отсутствует]             12\n",
              "Картинка                   7\n",
              "картинка                   2\n",
              "[?Фотография]              2\n",
              "[? Фотография]             1\n",
              "[? Картинка/рисунок]       1\n",
              "хх.хх.хххх                 1\n",
              "Name: Тип изображения (фотография, картина, другое), dtype: int64"
            ]
          },
          "metadata": {},
          "execution_count": 77
        }
      ]
    },
    {
      "cell_type": "code",
      "source": [
        "pic_ots = 'Рисунок отсутствует'\n",
        "\n",
        "pic_type_replacement_dict = {\n",
        "    'Картинка': 'Картинка/рисунок',\n",
        "    'картинка': 'Картинка/рисунок',\n",
        "    '[? Картинка/рисунок]': 'Картинка/рисунок',\n",
        "    'хх.хх.хххх': 'Картинка/рисунок',\n",
        "    '[?Фотография]': 'Фотография',\n",
        "    '[? Фотография]': 'Фотография',\n",
        "    'современная': 'Современная',\n",
        "    ots: pic_ots,\n",
        "}"
      ],
      "metadata": {
        "id": "EzXfGe156sbe"
      },
      "execution_count": null,
      "outputs": []
    },
    {
      "cell_type": "code",
      "source": [
        "df[col] = df[col].replace(pic_type_replacement_dict)"
      ],
      "metadata": {
        "id": "aA9967jJ6sbe"
      },
      "execution_count": null,
      "outputs": []
    },
    {
      "cell_type": "markdown",
      "source": [
        "Проверка"
      ],
      "metadata": {
        "id": "5B_OoB9j8nGw"
      }
    },
    {
      "cell_type": "code",
      "source": [
        "df[col].value_counts()"
      ],
      "metadata": {
        "colab": {
          "base_uri": "https://localhost:8080/"
        },
        "outputId": "9d24e0ec-46f7-457a-ff47-65ca27357d47",
        "id": "70_G6w-I6sbe"
      },
      "execution_count": null,
      "outputs": [
        {
          "output_type": "execute_result",
          "data": {
            "text/plain": [
              "Картинка/рисунок       9881\n",
              "Фотография             7525\n",
              "Рисунок отсутствует     181\n",
              "Другое                  140\n",
              "Name: Тип изображения (фотография, картина, другое), dtype: int64"
            ]
          },
          "metadata": {},
          "execution_count": 119
        }
      ]
    },
    {
      "cell_type": "markdown",
      "source": [
        "## Период \n",
        "Допускается:\n",
        "* дореволюционный\n",
        "* советский\n",
        "* постсоветский"
      ],
      "metadata": {
        "id": "3wEiWqlz6Rck"
      }
    },
    {
      "cell_type": "code",
      "source": [
        "col = 'Период (дореволюционный, советский, постсоветский)'"
      ],
      "metadata": {
        "id": "mr3-Wfsn9Mvy"
      },
      "execution_count": null,
      "outputs": []
    },
    {
      "cell_type": "code",
      "source": [
        "df[col].value_counts()"
      ],
      "metadata": {
        "colab": {
          "base_uri": "https://localhost:8080/"
        },
        "outputId": "b46547ff-261a-4f0d-ce47-b287d8bf0704",
        "id": "nU0WMDfD9Mv0"
      },
      "execution_count": null,
      "outputs": [
        {
          "output_type": "execute_result",
          "data": {
            "text/plain": [
              "Дореволюционные        9374\n",
              "Советские              7808\n",
              "Постсоветские           431\n",
              "[отсутствует]            84\n",
              "дореволюционный           7\n",
              "дореволюционная           5\n",
              "Советская                 2\n",
              "Дореволюционный           2\n",
              "Российская Империя        1\n",
              "советский                 1\n",
              "Гражданская война         1\n",
              "[непонятно]               1\n",
              "Советский                 1\n",
              "Доревалюционный           1\n",
              "[?Дореволюционные]        1\n",
              "[? Дореволюционные]       1\n",
              "Name: Период (дореволюционный, советский, постсоветский), dtype: int64"
            ]
          },
          "metadata": {},
          "execution_count": 82
        }
      ]
    },
    {
      "cell_type": "code",
      "source": [
        "period_replacement_dict = {\n",
        "    'дореволюционный': 'Дореволюционные',\n",
        "    'дореволюционная': 'Дореволюционные',\n",
        "    'Дореволюционный': 'Дореволюционные',\n",
        "    'Российская Империя': 'Дореволюционные',\n",
        "    'Советская': 'Советские',\n",
        "    'советский': 'Советские',\n",
        "    'Советский': 'Советские',\n",
        "    'Доревалюционный ': 'Дореволюционные',\n",
        "    'Доревалюционный': 'Дореволюционные',\n",
        "    '[?Дореволюционные]': 'Дореволюционные',\n",
        "    '[? Дореволюционные]': 'Дореволюционные',\n",
        "    'Гражданская война': 'Советские',\n",
        "    '[непонятно]': 'Советские'\n",
        "}"
      ],
      "metadata": {
        "id": "9JxDEUAP9Mv2"
      },
      "execution_count": null,
      "outputs": []
    },
    {
      "cell_type": "code",
      "source": [
        "df[col] = df[col].replace(period_replacement_dict)"
      ],
      "metadata": {
        "id": "7wCf_19S9Mv2"
      },
      "execution_count": null,
      "outputs": []
    },
    {
      "cell_type": "markdown",
      "source": [
        "Проверка"
      ],
      "metadata": {
        "id": "BLN8BWSj9Mv2"
      }
    },
    {
      "cell_type": "code",
      "source": [
        "df[col].value_counts()"
      ],
      "metadata": {
        "colab": {
          "base_uri": "https://localhost:8080/"
        },
        "outputId": "39b1d2db-e543-4550-82c7-3d022bee82fb",
        "id": "TIqZgl_k9Mv3"
      },
      "execution_count": null,
      "outputs": [
        {
          "output_type": "execute_result",
          "data": {
            "text/plain": [
              "Дореволюционные    9397\n",
              "Советские          7814\n",
              "Постсоветские       432\n",
              "[отсутствует]        84\n",
              "Name: Период (дореволюционный, советский, постсоветский), dtype: int64"
            ]
          },
          "metadata": {},
          "execution_count": 240
        }
      ]
    },
    {
      "cell_type": "code",
      "source": [
        "with pd.option_context('display.max_colwidth', None):\n",
        "  display(df[df[col] == '[непонятно]'][['Pic_url_1', 'Pic_url_2']])"
      ],
      "metadata": {
        "id": "rI_G0xk3-bJ8"
      },
      "execution_count": null,
      "outputs": []
    },
    {
      "cell_type": "markdown",
      "source": [
        "## Страна (откуда)"
      ],
      "metadata": {
        "id": "zbfeILhd6SSw"
      }
    },
    {
      "cell_type": "code",
      "source": [
        "col = 'Страна (откуда)'"
      ],
      "metadata": {
        "id": "bKfGwIxk9DpP"
      },
      "execution_count": null,
      "outputs": []
    },
    {
      "cell_type": "markdown",
      "source": [
        "Смотрим существующие страны"
      ],
      "metadata": {
        "id": "KCGBt1xR9bmu"
      }
    },
    {
      "cell_type": "code",
      "source": [
        "pd.Series(df[col].unique()).to_csv('countries_from.csv', index=False)"
      ],
      "metadata": {
        "id": "rMxL50w4_gG5"
      },
      "execution_count": null,
      "outputs": []
    },
    {
      "cell_type": "code",
      "source": [
        "df[col].value_counts()"
      ],
      "metadata": {
        "colab": {
          "base_uri": "https://localhost:8080/"
        },
        "outputId": "e2f3f2ab-cea2-479f-9ee6-7a30a0e9c366",
        "id": "gnN5vBXOEPPL"
      },
      "execution_count": null,
      "outputs": [
        {
          "output_type": "execute_result",
          "data": {
            "text/plain": [
              "Российская Империя             6557\n",
              "СССР                           5603\n",
              "[отсутствует]                  4384\n",
              "Россия                          329\n",
              "Германия                        206\n",
              "                               ... \n",
              "Португалия                        1\n",
              "Российская империя                1\n",
              "[Отсутствует]                     1\n",
              "Ямайка                            1\n",
              "Южно-Африканская Республика       1\n",
              "Name: Страна (откуда), Length: 89, dtype: int64"
            ]
          },
          "metadata": {},
          "execution_count": 320
        }
      ]
    },
    {
      "cell_type": "code",
      "source": [
        "countries_replacement = {\n",
        "    'Российская империя': 'Российская Империя',\n",
        "    'Российская имерия': 'Российская Империя',\n",
        "    'Российская имеперия': 'Российская Империя',\n",
        "    '[?Российская Империя]': 'Российская Империя',\n",
        "    'Российска империя': 'Российская Империя',\n",
        "    'Виленская губерния, Дисненский уезд, г. Дисна': 'Российская Империя',\n",
        "    'Советская Россия': 'Россия',\n",
        "    'ссср': 'СССР',\n",
        "    'Российская Республика': 'Россия',\n",
        "    '[?РСФСР]': 'СССР',\n",
        "    'РСФСР, г. Ленинград ': 'СССР',\n",
        "    'CCCР': 'СССР',\n",
        "    '[? СССР]': 'СССР',\n",
        "    '[?Чехословакия]': 'Чехословакия',\n",
        "    '[непонятно]': 'СССР'\n",
        "}"
      ],
      "metadata": {
        "id": "Kelsm-xeCjcL"
      },
      "execution_count": null,
      "outputs": []
    },
    {
      "cell_type": "code",
      "source": [
        "df[col] = df[col].replace(countries_replacement)"
      ],
      "metadata": {
        "id": "q-ti75__EPPP"
      },
      "execution_count": null,
      "outputs": []
    },
    {
      "cell_type": "code",
      "source": [
        "with pd.option_context('display.max_colwidth', None):\n",
        "  display(df[df[col] == 'Российская Республика'][['Pic_url_1', 'Pic_url_2']])"
      ],
      "metadata": {
        "id": "X0JSthaI_d5J"
      },
      "execution_count": null,
      "outputs": []
    },
    {
      "cell_type": "markdown",
      "source": [
        "Проверка"
      ],
      "metadata": {
        "id": "wDrsj14YEPPP"
      }
    },
    {
      "cell_type": "code",
      "source": [
        "df[col].value_counts()"
      ],
      "metadata": {
        "colab": {
          "base_uri": "https://localhost:8080/"
        },
        "outputId": "e22d5872-c11e-4d6c-ba8a-0824cb87d6cb",
        "id": "HAX1ZlHPEPPP"
      },
      "execution_count": null,
      "outputs": [
        {
          "output_type": "execute_result",
          "data": {
            "text/plain": [
              "Российская Империя             6620\n",
              "СССР                           5610\n",
              "[отсутствует]                  4462\n",
              "Россия                          332\n",
              "Германия                        206\n",
              "                               ... \n",
              "Германская империя                1\n",
              "Ямайка                            1\n",
              "Греция                            1\n",
              "Монако                            1\n",
              "Южно-Африканская Республика       1\n",
              "Name: Страна (откуда), Length: 65, dtype: int64"
            ]
          },
          "metadata": {},
          "execution_count": 245
        }
      ]
    },
    {
      "cell_type": "markdown",
      "source": [
        "Выгружаем результат"
      ],
      "metadata": {
        "id": "-RrTHljV97MX"
      }
    },
    {
      "cell_type": "code",
      "source": [
        "pd.Series(df[col].unique()).to_csv('countries_from_fix.csv', index=False)"
      ],
      "metadata": {
        "id": "CBxt3eJaEvrB"
      },
      "execution_count": null,
      "outputs": []
    },
    {
      "cell_type": "markdown",
      "source": [
        "## Страна (куда)"
      ],
      "metadata": {
        "id": "-s5wWjki6Xep"
      }
    },
    {
      "cell_type": "code",
      "source": [
        "col = 'Страна (куда)'"
      ],
      "metadata": {
        "id": "dbt3TuYEB4Qf"
      },
      "execution_count": null,
      "outputs": []
    },
    {
      "cell_type": "code",
      "source": [
        "pd.Series(df[col].unique()).to_csv('countries_to.csv', index=False)"
      ],
      "metadata": {
        "id": "pIgJ25jBB4Qg"
      },
      "execution_count": null,
      "outputs": []
    },
    {
      "cell_type": "code",
      "source": [
        "df[col] = df[col].replace(countries_replacement)"
      ],
      "metadata": {
        "id": "bqJVZ-GtFlHT"
      },
      "execution_count": null,
      "outputs": []
    },
    {
      "cell_type": "markdown",
      "source": [
        "Проверка"
      ],
      "metadata": {
        "id": "8UcBKXvSFlHT"
      }
    },
    {
      "cell_type": "code",
      "source": [
        "df[col].value_counts()"
      ],
      "metadata": {
        "id": "-QLamjvTFlHT"
      },
      "execution_count": null,
      "outputs": []
    },
    {
      "cell_type": "markdown",
      "source": [
        "## Теги"
      ],
      "metadata": {
        "id": "4SJ1MX4i6Zgg"
      }
    },
    {
      "cell_type": "code",
      "source": [
        "tag_cols = [f'Тег_{i}' for i in range(1, 8)]"
      ],
      "metadata": {
        "id": "lWbAByA4LRGk"
      },
      "execution_count": null,
      "outputs": []
    },
    {
      "cell_type": "markdown",
      "source": [
        "Допустимые"
      ],
      "metadata": {
        "id": "CrFBDxaVROWt"
      }
    },
    {
      "cell_type": "code",
      "source": [
        "tags_allowed = [\n",
        "  '',\n",
        " 'Открытка - благодарность',\n",
        " 'Открытка-приглашение',\n",
        " 'Репродукции картин',\n",
        " 'Изображения животных',\n",
        " 'Дети на картинке',\n",
        " 'Изображения кораблей и пароходов',\n",
        " 'Поздравление на картинке',\n",
        " 'Шлю привет',\n",
        " 'Житейское',\n",
        " 'Новости',\n",
        " 'Поцелуи из писем',\n",
        " 'С фронта',\n",
        " 'Поездка',\n",
        " 'Просьба',\n",
        " 'Письма от семьи',\n",
        " 'Учеба',\n",
        " 'Благодарность в тексте',\n",
        " 'В пути',\n",
        " 'Адрес',\n",
        " 'Деньги',\n",
        " 'Отдых',\n",
        " 'Погода',\n",
        " 'Дурные вести',\n",
        " 'Военная служба',\n",
        " 'Полевая почта',\n",
        " 'Письма маме',\n",
        " 'Приглашение в тексте',\n",
        " 'Письма от мамы',\n",
        " 'Встреча',\n",
        " 'Рассказ об искусстве',\n",
        " 'Рассказ о животных',\n",
        " 'Загадочная открытка',\n",
        " 'Письма от отца',\n",
        " 'Написано детьми',\n",
        " 'Написано о детях',\n",
        " 'Письма с парохода',\n",
        " 'Социальное',\n",
        " 'Иностранный язык',\n",
        " 'На фронт',\n",
        " 'Поздравление в тексте',\n",
        " 'Деловая переписка',\n",
        " 'Совет',\n",
        " 'На память',\n",
        " 'Простите, что долго не писал',\n",
        " 'Позже напишу подробнее',\n",
        " 'Письма отцу',\n",
        " 'Письма семье',\n",
        " 'Любовное',\n",
        " 'Почему долго не писал?',\n",
        " 'Военное',\n",
        " 'Новый год',\n",
        " 'Восьмое марта',\n",
        " 'Первое мая',\n",
        " 'День победы',\n",
        " 'Октябрьская революция',\n",
        " 'Прочие советские праздники',\n",
        " 'Пасха',\n",
        " 'Рождество',\n",
        " 'Прочие религиозные праздники',\n",
        " 'День рождения',\n",
        " 'День свадьбы',\n",
        " 'Прочие личные праздники',\n",
        " 'Прочие праздники',\n",
        " 'Фронтовая',\n",
        " 'Из путешествия',\n",
        " 'Именины',\n",
        " '1 сентября',\n",
        " 'День космонавтики',\n",
        " 'Написано иностранцем по-русски',\n",
        " '23 февраля',\n",
        " 'День учителя'\n",
        " ]"
      ],
      "metadata": {
        "id": "wQfbuEf96W4C"
      },
      "execution_count": null,
      "outputs": []
    },
    {
      "cell_type": "markdown",
      "source": [
        "Смотрим вариативность"
      ],
      "metadata": {
        "id": "lUApEzAERROD"
      }
    },
    {
      "cell_type": "code",
      "source": [
        "tags_variations = []\n",
        "for col in cols:\n",
        "  tags_variations += list(df[col].unique())\n",
        "tags_variations = list(set(tags_variations))\n",
        "tags_variations = [t for t in tags_variations if t not in tags_allowed]\n",
        "tags_variations"
      ],
      "metadata": {
        "id": "yZv1dl2ULIK2"
      },
      "execution_count": null,
      "outputs": []
    },
    {
      "cell_type": "markdown",
      "source": [
        "Составляем словарь замены"
      ],
      "metadata": {
        "id": "wDM5GsnO-uTv"
      }
    },
    {
      "cell_type": "code",
      "source": [
        "tags_replacement_dict = {\n",
        " '[? житейское]': 'Житейское',\n",
        " '2022-09-01 00:00:00': '1 сентября',\n",
        " '2022-05-01 00:00:00': 'Первое мая',\n",
        " '[?репродукции картин]': 'Репродукции картин',\n",
        " '[? благодарность в тексте]': 'Благодарность в тексте',\n",
        " '[? просьба]': 'Просьба',\n",
        " '[отсутствует]': '',\n",
        " 'Учёба': 'Учеба',\n",
        " 'Др': 'День рождения',\n",
        " 'День ангела': 'Именины',\n",
        " '[?любовное]': 'Любовное',\n",
        " 'Новы': 'Новый год',\n",
        " '2023-09-01 00:00:00': '1 сентября',\n",
        " '[?шлю привет]': 'Шлю привет',\n",
        " '[? социальное]': 'Социальное',\n",
        " 'Дет': '',  # написано детям, но не детьми и не о детях\n",
        " 'Письма': '',  # все нужные \"письмовые\" теги там уже есть\n",
        " 'Сердечный привет': 'Шлю привет',\n",
        " 'Долго не пишите': 'Почему долго не писал?',\n",
        " 'Уведомление о приезде': 'В пути',\n",
        " 'От всей души': 'Поздравление в тексте',\n",
        " 'День защитников отечества': '23 февраля',\n",
        " }"
      ],
      "metadata": {
        "id": "94WxgZlYNNbi"
      },
      "execution_count": null,
      "outputs": []
    },
    {
      "cell_type": "code",
      "source": [
        "for col in tag_cols:\n",
        "  df[col] = df[col].apply(lambda x: x.capitalize()).replace(tags_replacement_dict)\n",
        "  df[f'{col}_fixed'] = df.apply(\n",
        "    lambda row: False if row[col] not in tags_allowed else row[f'{col}_fixed'],\n",
        "    axis=1\n",
        "  )"
      ],
      "metadata": {
        "id": "Ma_NBkFWN4yt"
      },
      "execution_count": null,
      "outputs": []
    },
    {
      "cell_type": "markdown",
      "source": [
        "Проверка"
      ],
      "metadata": {
        "id": "yvtKhdgp-tBN"
      }
    },
    {
      "cell_type": "code",
      "source": [
        "tags_variations = []\n",
        "for col in tag_cols:\n",
        "  tags_variations += list(df[col].unique())\n",
        "tags_variations = list(set(tags_variations))\n",
        "tags_variations = [t for t in tags_variations if t not in tags_allowed]\n",
        "\n",
        "print('\\n'.join(tags_variations))"
      ],
      "metadata": {
        "colab": {
          "base_uri": "https://localhost:8080/"
        },
        "id": "1J2JPUJLRZ55",
        "outputId": "12036458-6b57-4e8e-9267-d34a6692bbec"
      },
      "execution_count": null,
      "outputs": [
        {
          "output_type": "stream",
          "name": "stdout",
          "text": [
            "[? новый год * рождество]\n",
            "Пасха, день рождения\n",
            "День рождения, новый год\n"
          ]
        }
      ]
    },
    {
      "cell_type": "code",
      "source": [
        "col = tag_cols[2]\n",
        "with pd.option_context('display.max_colwidth', None):\n",
        "  display(df[df[col] == 'День защитника отечества'][['Pic_url_1', 'Pic_url_2']])"
      ],
      "metadata": {
        "colab": {
          "base_uri": "https://localhost:8080/",
          "height": 49
        },
        "id": "lqAGNjk6Aa1R",
        "outputId": "cd5ac69d-91c9-4534-b69d-6698e00686a6"
      },
      "execution_count": null,
      "outputs": [
        {
          "output_type": "display_data",
          "data": {
            "text/plain": [
              "Empty DataFrame\n",
              "Columns: [Pic_url_1, Pic_url_2]\n",
              "Index: []"
            ],
            "text/html": [
              "\n",
              "  <div id=\"df-63defb83-5d35-46e5-b11b-945d2b717552\">\n",
              "    <div class=\"colab-df-container\">\n",
              "      <div>\n",
              "<style scoped>\n",
              "    .dataframe tbody tr th:only-of-type {\n",
              "        vertical-align: middle;\n",
              "    }\n",
              "\n",
              "    .dataframe tbody tr th {\n",
              "        vertical-align: top;\n",
              "    }\n",
              "\n",
              "    .dataframe thead th {\n",
              "        text-align: right;\n",
              "    }\n",
              "</style>\n",
              "<table border=\"1\" class=\"dataframe\">\n",
              "  <thead>\n",
              "    <tr style=\"text-align: right;\">\n",
              "      <th></th>\n",
              "      <th>Pic_url_1</th>\n",
              "      <th>Pic_url_2</th>\n",
              "    </tr>\n",
              "  </thead>\n",
              "  <tbody>\n",
              "  </tbody>\n",
              "</table>\n",
              "</div>\n",
              "      <button class=\"colab-df-convert\" onclick=\"convertToInteractive('df-63defb83-5d35-46e5-b11b-945d2b717552')\"\n",
              "              title=\"Convert this dataframe to an interactive table.\"\n",
              "              style=\"display:none;\">\n",
              "        \n",
              "  <svg xmlns=\"http://www.w3.org/2000/svg\" height=\"24px\"viewBox=\"0 0 24 24\"\n",
              "       width=\"24px\">\n",
              "    <path d=\"M0 0h24v24H0V0z\" fill=\"none\"/>\n",
              "    <path d=\"M18.56 5.44l.94 2.06.94-2.06 2.06-.94-2.06-.94-.94-2.06-.94 2.06-2.06.94zm-11 1L8.5 8.5l.94-2.06 2.06-.94-2.06-.94L8.5 2.5l-.94 2.06-2.06.94zm10 10l.94 2.06.94-2.06 2.06-.94-2.06-.94-.94-2.06-.94 2.06-2.06.94z\"/><path d=\"M17.41 7.96l-1.37-1.37c-.4-.4-.92-.59-1.43-.59-.52 0-1.04.2-1.43.59L10.3 9.45l-7.72 7.72c-.78.78-.78 2.05 0 2.83L4 21.41c.39.39.9.59 1.41.59.51 0 1.02-.2 1.41-.59l7.78-7.78 2.81-2.81c.8-.78.8-2.07 0-2.86zM5.41 20L4 18.59l7.72-7.72 1.47 1.35L5.41 20z\"/>\n",
              "  </svg>\n",
              "      </button>\n",
              "      \n",
              "  <style>\n",
              "    .colab-df-container {\n",
              "      display:flex;\n",
              "      flex-wrap:wrap;\n",
              "      gap: 12px;\n",
              "    }\n",
              "\n",
              "    .colab-df-convert {\n",
              "      background-color: #E8F0FE;\n",
              "      border: none;\n",
              "      border-radius: 50%;\n",
              "      cursor: pointer;\n",
              "      display: none;\n",
              "      fill: #1967D2;\n",
              "      height: 32px;\n",
              "      padding: 0 0 0 0;\n",
              "      width: 32px;\n",
              "    }\n",
              "\n",
              "    .colab-df-convert:hover {\n",
              "      background-color: #E2EBFA;\n",
              "      box-shadow: 0px 1px 2px rgba(60, 64, 67, 0.3), 0px 1px 3px 1px rgba(60, 64, 67, 0.15);\n",
              "      fill: #174EA6;\n",
              "    }\n",
              "\n",
              "    [theme=dark] .colab-df-convert {\n",
              "      background-color: #3B4455;\n",
              "      fill: #D2E3FC;\n",
              "    }\n",
              "\n",
              "    [theme=dark] .colab-df-convert:hover {\n",
              "      background-color: #434B5C;\n",
              "      box-shadow: 0px 1px 3px 1px rgba(0, 0, 0, 0.15);\n",
              "      filter: drop-shadow(0px 1px 2px rgba(0, 0, 0, 0.3));\n",
              "      fill: #FFFFFF;\n",
              "    }\n",
              "  </style>\n",
              "\n",
              "      <script>\n",
              "        const buttonEl =\n",
              "          document.querySelector('#df-63defb83-5d35-46e5-b11b-945d2b717552 button.colab-df-convert');\n",
              "        buttonEl.style.display =\n",
              "          google.colab.kernel.accessAllowed ? 'block' : 'none';\n",
              "\n",
              "        async function convertToInteractive(key) {\n",
              "          const element = document.querySelector('#df-63defb83-5d35-46e5-b11b-945d2b717552');\n",
              "          const dataTable =\n",
              "            await google.colab.kernel.invokeFunction('convertToInteractive',\n",
              "                                                     [key], {});\n",
              "          if (!dataTable) return;\n",
              "\n",
              "          const docLinkHtml = 'Like what you see? Visit the ' +\n",
              "            '<a target=\"_blank\" href=https://colab.research.google.com/notebooks/data_table.ipynb>data table notebook</a>'\n",
              "            + ' to learn more about interactive tables.';\n",
              "          element.innerHTML = '';\n",
              "          dataTable['output_type'] = 'display_data';\n",
              "          await google.colab.output.renderOutput(dataTable, element);\n",
              "          const docLink = document.createElement('div');\n",
              "          docLink.innerHTML = docLinkHtml;\n",
              "          element.appendChild(docLink);\n",
              "        }\n",
              "      </script>\n",
              "    </div>\n",
              "  </div>\n",
              "  "
            ]
          },
          "metadata": {}
        }
      ]
    },
    {
      "cell_type": "markdown",
      "source": [
        "## Даты"
      ],
      "metadata": {
        "id": "9Gw37Tbnqzn5"
      }
    },
    {
      "cell_type": "code",
      "source": [
        "date_cols = [\n",
        "    'Дата написания текста (если автор указал явно, не штемпели)',\n",
        "    'Дата открытки со штемпеля (место отправления)',\n",
        "    'Дата открытки со штемпеля (место, куда открытка прибыла)',\n",
        "    'Дата печати открытки'\n",
        "    ]"
      ],
      "metadata": {
        "id": "QTye-jXQqzKw"
      },
      "execution_count": null,
      "outputs": []
    },
    {
      "cell_type": "markdown",
      "source": [
        "Словарь для исправления отдельных случаев"
      ],
      "metadata": {
        "id": "0Y_LV4spIY14"
      }
    },
    {
      "cell_type": "code",
      "source": [
        "date_variations = [\n",
        "    '12.18.1944',\n",
        "    '14 сентября 1914 года',\n",
        "    '1914',\n",
        "    '6/6 19 авг[уста] г.Пенза 11 ч[асов] дня',\n",
        "    'Петербург',\n",
        "    'xx.xx.xx',\n",
        "    '26.12.07',\n",
        "    '08.xx.xx',\n",
        "    '16.09.07',\n",
        "    '26.01.10',\n",
        "    'отсутствует*30.12.1986',\n",
        "    '23.12.xx',\n",
        "    '29.07.12',\n",
        "    '8 марта - международных женский день С праздником',\n",
        "    'хх.хх.1993/04.12.1992',\n",
        "    '26.12.1911/ 08.01.1912',\n",
        "    'xx.xx.xxxxx',\n",
        "    '20.06.1909\\n21.06.1909',\n",
        "    '18*19.08.1917',\n",
        "    '30*31.12.1972',\n",
        "    'Июль 1912 г.',\n",
        " 'Его высокоблагородие',\n",
        " '14.12.88',\n",
        " '17.0[?6].81',\n",
        " 'хх.хх.1993/04.12.1992',\n",
        " '1961 год',\n",
        " '23.01.80',\n",
        " 'März',\n",
        " 'господин',\n",
        " '[?23].01.[?80]',\n",
        " '30/IX-76г.',\n",
        " '06.0[2*3].1972',\n",
        " '11.2x.1962',\n",
        " '30.31.1901',\n",
        "'26.12.1911/ 08.01.1912',\n",
        "'18/31.07.1914',\n",
        "]\n",
        "\n",
        "date_replacement_dict = {\n",
        "    '12.18.1944': '18.12.1944',\n",
        "    '14 сентября 1914 года': '14.09.1914',\n",
        "    '1914': 'xx.xx.1914',\n",
        "    '6/6 19 авг[уста] г.Пенза 11 ч[асов] дня': '19.08.xxxx',\n",
        "    'Петербург': ots,\n",
        "    'xx.xx.xx': 'xx.xx.xxxx',\n",
        "    'xx.xx.xxxxx': 'xx.xx.xxxx',\n",
        "    '8 марта - международных женский день С праздником': ots,\n",
        "    # 'хх.хх.1993/04.12.1992',\n",
        "    # '26.12.1911/ 08.01.1912'\n",
        "    # '20.06.1909\\n21.06.1909'\n",
        "    'Июль 1912 г.': 'xx.07.1912',\n",
        "#  'Его высокоблагородие',\n",
        "#  'März',\n",
        "#  'господин',\n",
        " '30/IX-76г.': '30.09.1976',\n",
        "#  '06.0[2*3].1972'\n",
        "'11.2x.1962': '2x.11.1962',\n",
        "# '30.31.1901',\n",
        "# '26.12.1911/ 08.01.1912',\n",
        "# '18/31.07.1914',\n",
        " '[отсутствует*30.12.1986]': '30.12.1986',\n",
        "}"
      ],
      "metadata": {
        "id": "qvLgsdOKO7gk"
      },
      "execution_count": null,
      "outputs": []
    },
    {
      "cell_type": "markdown",
      "source": [
        "Форматирование даты"
      ],
      "metadata": {
        "id": "jFx08oo6IcYu"
      }
    },
    {
      "cell_type": "code",
      "source": [
        "def format_date(s, period):\n",
        "  # убираем г, г. или год в конце\n",
        "  s = re.sub('г(\\.|од)?$', '', s)\n",
        "\n",
        "  # убираем [], {}, ?, !, ^, лишние точки\n",
        "  s = re.sub('\\[', '', s)\n",
        "  s = re.sub('\\]', '', s)\n",
        "  s = re.sub('\\{', '', s)\n",
        "  s = re.sub('\\}', '', s)\n",
        "  s = re.sub('\\?', '', s)\n",
        "  s = re.sub('!', '', s)\n",
        "  s = re.sub('^', '', s)\n",
        "\n",
        "  s = s.lstrip().rstrip()\n",
        "  s = re.sub('\\.\\.', '.', s)\n",
        "  s = re.sub('\\.$', '', s)\n",
        "\n",
        "  # заменяем x кириллицей на латиницу\n",
        "  s = re.sub('х', 'x', s)\n",
        "\n",
        "  # если указан только год\n",
        "  m = re.match('[0-9]{4}', s)\n",
        "  if m is not None and m.group(0) == s:\n",
        "    s = f'xx.xx.{s}'\n",
        "    return s\n",
        "\n",
        "  # приводим к формату dd.mm.yyyy\n",
        "  # если в формате yyyy-mm-dd 00:00:00\n",
        "  m = re.match(timestamp_pattern, s)\n",
        "  if m is not None and m.group(0) == s:\n",
        "    s = datetime.strptime(s, '%Y-%m-%d %H:%M:%S').strftime(\"%d.%m.%Y\")\n",
        "    return s\n",
        "\n",
        "  # если день / месяц указан одной цифрой, год указан двумя цифрами\n",
        "  try:\n",
        "    day, month, year = s.split('.')\n",
        "    day = day.lstrip().rstrip()\n",
        "    month = month.lstrip().rstrip()\n",
        "    year = year.lstrip().rstrip()\n",
        "    \n",
        "    if len(day) == 1:\n",
        "      if day == 'x':\n",
        "        day = 'xx'\n",
        "      else:\n",
        "        day = f'0{day}'\n",
        "    \n",
        "    if len(month) == 1:\n",
        "      if month == 'x':\n",
        "        month = 'xx'\n",
        "      else:\n",
        "        month = f'0{month}'\n",
        "    \n",
        "    if len(year) == 2:\n",
        "      if 'x' in year:\n",
        "        year = f'xx{year}'\n",
        "      else:\n",
        "        year = get_year_from_period(year, period)\n",
        "    \n",
        "    s = f'{day}.{month}.{year}'\n",
        "  \n",
        "  except:\n",
        "    pass\n",
        "\n",
        "  return s"
      ],
      "metadata": {
        "id": "zcE58TqsO7gs"
      },
      "execution_count": null,
      "outputs": []
    },
    {
      "cell_type": "markdown",
      "source": [
        "Верный формат даты"
      ],
      "metadata": {
        "id": "HO9-NbFlIfXy"
      }
    },
    {
      "cell_type": "code",
      "source": [
        "# xx.xx.xxxx\n",
        "# date_pattern = '[0-3x][0-9x]\\.[0-1x][0-9x]\\.[0-9x]{4}(\\s?\\-\\s?[0-3x][0-9x]\\.[0-1x][0-9x]\\.[0-9x]{4})?'\n",
        "date_pattern = '[0-3x][0-9x]\\.[0-1x][0-9x]\\.[0-9x]{4}'\n",
        "\n",
        "# yyyy-mm-dd 00:00:00\n",
        "timestamp_pattern = '[0-9]{4}-[0-1][0-9]-[0-3][0-9] 00:00:00'"
      ],
      "metadata": {
        "id": "P0KHe4N1ID2W"
      },
      "execution_count": null,
      "outputs": []
    },
    {
      "cell_type": "markdown",
      "source": [
        "Доопределение года по периоду\n",
        "* 1869 - 1917 - дореволюционные\n",
        "* 1918 - 1991 - советские\n",
        "* 1992 - … - постсоветские\n"
      ],
      "metadata": {
        "id": "7kKbm4ypi89d"
      }
    },
    {
      "cell_type": "code",
      "source": [
        "def get_year_from_period(year, period):\n",
        "  year = int(year)\n",
        "  if period == 'Дореволюционные':\n",
        "    if 69 <= year <= 99:\n",
        "      year = f'18{year}'\n",
        "    else:\n",
        "      year = f'19{year}'\n",
        "  if period in ('Советские', 'Постсоветские'):\n",
        "      year = f'19{year}'\n",
        "  return year"
      ],
      "metadata": {
        "id": "XmpBPTHvi2U3"
      },
      "execution_count": null,
      "outputs": []
    },
    {
      "cell_type": "code",
      "source": [
        "get_year_from_period(61, 'Советские')"
      ],
      "metadata": {
        "colab": {
          "base_uri": "https://localhost:8080/",
          "height": 35
        },
        "id": "ZYBldTvZlVZQ",
        "outputId": "652bf66c-814e-47b6-aa36-c915e0e61a4a"
      },
      "execution_count": null,
      "outputs": [
        {
          "output_type": "execute_result",
          "data": {
            "text/plain": [
              "'1961'"
            ],
            "application/vnd.google.colaboratory.intrinsic+json": {
              "type": "string"
            }
          },
          "metadata": {},
          "execution_count": 66
        }
      ]
    },
    {
      "cell_type": "markdown",
      "source": [
        "Главная функция замены и логирования"
      ],
      "metadata": {
        "id": "GqVzJ4QBIhca"
      }
    },
    {
      "cell_type": "code",
      "source": [
        "def replace_log(row):\n",
        "  s = row[col]\n",
        "  err = row[f'{col}_error']\n",
        "  fix = row[f'{col}_fixed']\n",
        "  period = row['Период (дореволюционный, советский, постсоветский)']\n",
        "  \n",
        "  if s == ots or s == nrzb:\n",
        "    return s, err, fix\n",
        "\n",
        "  if s in date_replacement_dict:\n",
        "    return date_replacement_dict[s], True, fix\n",
        "\n",
        "  m = re.match(date_pattern, s)\n",
        "  if m is not None and m.group(0) == s:\n",
        "    return s, err, fix\n",
        "\n",
        "  s = format_date(s, period)\n",
        "  m = re.match(date_pattern, s)\n",
        "  fix = False\n",
        "  if m is not None and m.group(0) == s:\n",
        "    fix = True\n",
        "  return s, True, fix"
      ],
      "metadata": {
        "id": "P_FysW3jXFe1"
      },
      "execution_count": null,
      "outputs": []
    },
    {
      "cell_type": "code",
      "source": [
        "for col in date_cols:\n",
        "  replace_log_res = df.apply(replace_log, axis=1)\n",
        "  df[col] = replace_log_res.apply(lambda t: t[0])\n",
        "  df[f'{col}_error'] = replace_log_res.apply(lambda t: t[1])\n",
        "  df[f'{col}_fixed'] = replace_log_res.apply(lambda t: t[2])"
      ],
      "metadata": {
        "id": "PFtbAHliYQqz"
      },
      "execution_count": null,
      "outputs": []
    },
    {
      "cell_type": "markdown",
      "source": [
        "Проверка"
      ],
      "metadata": {
        "id": "acC63UxZ9X_4"
      }
    },
    {
      "cell_type": "code",
      "source": [
        "col = date_cols[3]\n",
        "df[df[f'{col}_error']][[f'{col}_old', col, f'{col}_error']].sample(10)"
      ],
      "metadata": {
        "colab": {
          "base_uri": "https://localhost:8080/",
          "height": 363
        },
        "id": "ckNhhDza84gu",
        "outputId": "68103f37-0c73-4da2-9ef2-14706ff1ec51"
      },
      "execution_count": null,
      "outputs": [
        {
          "output_type": "execute_result",
          "data": {
            "text/plain": [
              "     Дата печати открытки_old Дата печати открытки  Дата печати открытки_error\n",
              "1495      1973-05-14 00:00:00           14.05.1973                        True\n",
              "2368      1976-09-06 00:00:00           06.09.1976                        True\n",
              "5940      1978-05-25 00:00:00           25.05.1978                        True\n",
              "1280      1971-12-20 00:00:00           20.12.1971                        True\n",
              "1318                     1973           xx.xx.1973                        True\n",
              "2764      1985-03-11 00:00:00           11.03.1985                        True\n",
              "1279                     1963           xx.xx.1963                        True\n",
              "1169      2013-03-26 00:00:00           26.03.2013                        True\n",
              "6002      1991-05-22 00:00:00           22.05.1991                        True\n",
              "330       1983-12-16 00:00:00           16.12.1983                        True"
            ],
            "text/html": [
              "\n",
              "  <div id=\"df-f412997c-e168-4da5-84e7-1dbad21d2c19\">\n",
              "    <div class=\"colab-df-container\">\n",
              "      <div>\n",
              "<style scoped>\n",
              "    .dataframe tbody tr th:only-of-type {\n",
              "        vertical-align: middle;\n",
              "    }\n",
              "\n",
              "    .dataframe tbody tr th {\n",
              "        vertical-align: top;\n",
              "    }\n",
              "\n",
              "    .dataframe thead th {\n",
              "        text-align: right;\n",
              "    }\n",
              "</style>\n",
              "<table border=\"1\" class=\"dataframe\">\n",
              "  <thead>\n",
              "    <tr style=\"text-align: right;\">\n",
              "      <th></th>\n",
              "      <th>Дата печати открытки_old</th>\n",
              "      <th>Дата печати открытки</th>\n",
              "      <th>Дата печати открытки_error</th>\n",
              "    </tr>\n",
              "  </thead>\n",
              "  <tbody>\n",
              "    <tr>\n",
              "      <th>1495</th>\n",
              "      <td>1973-05-14 00:00:00</td>\n",
              "      <td>14.05.1973</td>\n",
              "      <td>True</td>\n",
              "    </tr>\n",
              "    <tr>\n",
              "      <th>2368</th>\n",
              "      <td>1976-09-06 00:00:00</td>\n",
              "      <td>06.09.1976</td>\n",
              "      <td>True</td>\n",
              "    </tr>\n",
              "    <tr>\n",
              "      <th>5940</th>\n",
              "      <td>1978-05-25 00:00:00</td>\n",
              "      <td>25.05.1978</td>\n",
              "      <td>True</td>\n",
              "    </tr>\n",
              "    <tr>\n",
              "      <th>1280</th>\n",
              "      <td>1971-12-20 00:00:00</td>\n",
              "      <td>20.12.1971</td>\n",
              "      <td>True</td>\n",
              "    </tr>\n",
              "    <tr>\n",
              "      <th>1318</th>\n",
              "      <td>1973</td>\n",
              "      <td>xx.xx.1973</td>\n",
              "      <td>True</td>\n",
              "    </tr>\n",
              "    <tr>\n",
              "      <th>2764</th>\n",
              "      <td>1985-03-11 00:00:00</td>\n",
              "      <td>11.03.1985</td>\n",
              "      <td>True</td>\n",
              "    </tr>\n",
              "    <tr>\n",
              "      <th>1279</th>\n",
              "      <td>1963</td>\n",
              "      <td>xx.xx.1963</td>\n",
              "      <td>True</td>\n",
              "    </tr>\n",
              "    <tr>\n",
              "      <th>1169</th>\n",
              "      <td>2013-03-26 00:00:00</td>\n",
              "      <td>26.03.2013</td>\n",
              "      <td>True</td>\n",
              "    </tr>\n",
              "    <tr>\n",
              "      <th>6002</th>\n",
              "      <td>1991-05-22 00:00:00</td>\n",
              "      <td>22.05.1991</td>\n",
              "      <td>True</td>\n",
              "    </tr>\n",
              "    <tr>\n",
              "      <th>330</th>\n",
              "      <td>1983-12-16 00:00:00</td>\n",
              "      <td>16.12.1983</td>\n",
              "      <td>True</td>\n",
              "    </tr>\n",
              "  </tbody>\n",
              "</table>\n",
              "</div>\n",
              "      <button class=\"colab-df-convert\" onclick=\"convertToInteractive('df-f412997c-e168-4da5-84e7-1dbad21d2c19')\"\n",
              "              title=\"Convert this dataframe to an interactive table.\"\n",
              "              style=\"display:none;\">\n",
              "        \n",
              "  <svg xmlns=\"http://www.w3.org/2000/svg\" height=\"24px\"viewBox=\"0 0 24 24\"\n",
              "       width=\"24px\">\n",
              "    <path d=\"M0 0h24v24H0V0z\" fill=\"none\"/>\n",
              "    <path d=\"M18.56 5.44l.94 2.06.94-2.06 2.06-.94-2.06-.94-.94-2.06-.94 2.06-2.06.94zm-11 1L8.5 8.5l.94-2.06 2.06-.94-2.06-.94L8.5 2.5l-.94 2.06-2.06.94zm10 10l.94 2.06.94-2.06 2.06-.94-2.06-.94-.94-2.06-.94 2.06-2.06.94z\"/><path d=\"M17.41 7.96l-1.37-1.37c-.4-.4-.92-.59-1.43-.59-.52 0-1.04.2-1.43.59L10.3 9.45l-7.72 7.72c-.78.78-.78 2.05 0 2.83L4 21.41c.39.39.9.59 1.41.59.51 0 1.02-.2 1.41-.59l7.78-7.78 2.81-2.81c.8-.78.8-2.07 0-2.86zM5.41 20L4 18.59l7.72-7.72 1.47 1.35L5.41 20z\"/>\n",
              "  </svg>\n",
              "      </button>\n",
              "      \n",
              "  <style>\n",
              "    .colab-df-container {\n",
              "      display:flex;\n",
              "      flex-wrap:wrap;\n",
              "      gap: 12px;\n",
              "    }\n",
              "\n",
              "    .colab-df-convert {\n",
              "      background-color: #E8F0FE;\n",
              "      border: none;\n",
              "      border-radius: 50%;\n",
              "      cursor: pointer;\n",
              "      display: none;\n",
              "      fill: #1967D2;\n",
              "      height: 32px;\n",
              "      padding: 0 0 0 0;\n",
              "      width: 32px;\n",
              "    }\n",
              "\n",
              "    .colab-df-convert:hover {\n",
              "      background-color: #E2EBFA;\n",
              "      box-shadow: 0px 1px 2px rgba(60, 64, 67, 0.3), 0px 1px 3px 1px rgba(60, 64, 67, 0.15);\n",
              "      fill: #174EA6;\n",
              "    }\n",
              "\n",
              "    [theme=dark] .colab-df-convert {\n",
              "      background-color: #3B4455;\n",
              "      fill: #D2E3FC;\n",
              "    }\n",
              "\n",
              "    [theme=dark] .colab-df-convert:hover {\n",
              "      background-color: #434B5C;\n",
              "      box-shadow: 0px 1px 3px 1px rgba(0, 0, 0, 0.15);\n",
              "      filter: drop-shadow(0px 1px 2px rgba(0, 0, 0, 0.3));\n",
              "      fill: #FFFFFF;\n",
              "    }\n",
              "  </style>\n",
              "\n",
              "      <script>\n",
              "        const buttonEl =\n",
              "          document.querySelector('#df-f412997c-e168-4da5-84e7-1dbad21d2c19 button.colab-df-convert');\n",
              "        buttonEl.style.display =\n",
              "          google.colab.kernel.accessAllowed ? 'block' : 'none';\n",
              "\n",
              "        async function convertToInteractive(key) {\n",
              "          const element = document.querySelector('#df-f412997c-e168-4da5-84e7-1dbad21d2c19');\n",
              "          const dataTable =\n",
              "            await google.colab.kernel.invokeFunction('convertToInteractive',\n",
              "                                                     [key], {});\n",
              "          if (!dataTable) return;\n",
              "\n",
              "          const docLinkHtml = 'Like what you see? Visit the ' +\n",
              "            '<a target=\"_blank\" href=https://colab.research.google.com/notebooks/data_table.ipynb>data table notebook</a>'\n",
              "            + ' to learn more about interactive tables.';\n",
              "          element.innerHTML = '';\n",
              "          dataTable['output_type'] = 'display_data';\n",
              "          await google.colab.output.renderOutput(dataTable, element);\n",
              "          const docLink = document.createElement('div');\n",
              "          docLink.innerHTML = docLinkHtml;\n",
              "          element.appendChild(docLink);\n",
              "        }\n",
              "      </script>\n",
              "    </div>\n",
              "  </div>\n",
              "  "
            ]
          },
          "metadata": {},
          "execution_count": 77
        }
      ]
    },
    {
      "cell_type": "markdown",
      "source": [
        "Залогировано, но не исправлено"
      ],
      "metadata": {
        "id": "owSDzslfXTaJ"
      }
    },
    {
      "cell_type": "code",
      "source": [
        "not_fixed = pd.concat([\n",
        "  df[~df[f'{col}_fixed']][\n",
        "      ['Pic_url_1', 'Pic_url_2', f'{col}_old', col, f'{col}_error', f'{col}_fixed']\n",
        "      ].rename(columns={\n",
        "          f'{col}_old': 'old',\n",
        "          col: 'new',\n",
        "          f'{col}_error': 'error',\n",
        "          f'{col}_fixed': 'fixed'\n",
        "      }\n",
        "  )\n",
        "  for col in date_cols\n",
        "])\n",
        "\n",
        "with pd.option_context('display.max_colwidth', None):\n",
        "  display(not_fixed)"
      ],
      "metadata": {
        "id": "s2phuw1thf83"
      },
      "execution_count": null,
      "outputs": []
    },
    {
      "cell_type": "markdown",
      "source": [
        "# Логирование ошибок\n",
        "* ошибкой считается, если старое и новое значение ячейки не совпадают\n",
        "* или уже зарегистрирована ошибка\n",
        "\n",
        "* если старое и новое значение ячейки совпадают с точностью до пробелов в начале и в конце: \n",
        "  - если новое значение = [отсутствует] или [нрзб], считаем, что значения не совпадают\n",
        "  - иначе, считаем, что значения совпадают"
      ],
      "metadata": {
        "id": "gSHVxtYjCjVL"
      }
    },
    {
      "cell_type": "code",
      "source": [
        "def log_errors(row, col):\n",
        "  old_stripped = row[f'{col}_old']\n",
        "  if isinstance(old_stripped, str):\n",
        "    old_stripped = old_stripped.lstrip().rstrip()\n",
        "  new = row[col]\n",
        "  error = row[f'{col}_error']\n",
        "\n",
        "  if error:\n",
        "    return True\n",
        "\n",
        "  if old_stripped != new:\n",
        "    return True\n",
        "  \n",
        "  if old_stripped == new and (new == ots or new == nrzb):\n",
        "    return True\n",
        "\n",
        "  return False"
      ],
      "metadata": {
        "id": "mZllypOGC78t"
      },
      "execution_count": null,
      "outputs": []
    },
    {
      "cell_type": "code",
      "source": [
        "for col in df_cols:\n",
        "  df[f'{col}_error'] = df.apply(lambda row: log_errors(row, col), axis=1)"
      ],
      "metadata": {
        "id": "uQWT_QEjDvcv"
      },
      "execution_count": null,
      "outputs": []
    },
    {
      "cell_type": "markdown",
      "source": [
        "Готово к выгрузке в корпус, если ошибки не было или она была исправлена"
      ],
      "metadata": {
        "id": "kBBVEb2roTf1"
      }
    },
    {
      "cell_type": "code",
      "source": [
        "def get_dump_status(row):\n",
        "  for col in df_cols:\n",
        "    if not row[f'{col}_fixed']:\n",
        "      return False\n",
        "  return True"
      ],
      "metadata": {
        "id": "3hkaHOZWeZ7w"
      },
      "execution_count": null,
      "outputs": []
    },
    {
      "cell_type": "code",
      "source": [
        "df['dump_ready'] = df.apply(get_dump_status, axis=1)\n",
        "df['dump_ready'].value_counts()"
      ],
      "metadata": {
        "colab": {
          "base_uri": "https://localhost:8080/"
        },
        "id": "YcE_3NEfd3Mt",
        "outputId": "d19cc3a1-61fd-431c-d636-8952a753fb2e"
      },
      "execution_count": null,
      "outputs": [
        {
          "output_type": "execute_result",
          "data": {
            "text/plain": [
              "True     17653\n",
              "False       74\n",
              "Name: dump_ready, dtype: int64"
            ]
          },
          "metadata": {},
          "execution_count": 261
        }
      ]
    },
    {
      "cell_type": "markdown",
      "source": [
        "Выгрузка логов, где ошибка есть, но не исправлена"
      ],
      "metadata": {
        "id": "Ub6_8g_hqUkQ"
      }
    },
    {
      "cell_type": "code",
      "source": [
        "def get_error_cols(row):\n",
        "  res = []\n",
        "  for col in df_cols:\n",
        "    if row[f'{col}_error'] and not row[f'{col}_fixed']:\n",
        "      res.append(col)\n",
        "  return '\\n'.join(res)"
      ],
      "metadata": {
        "id": "_r4C42nLrTnk"
      },
      "execution_count": null,
      "outputs": []
    },
    {
      "cell_type": "code",
      "source": [
        "df_for_corr = df[~df['dump_ready']]\n",
        "df_for_corr['error_cols'] = df_for_corr.apply(get_error_cols, axis=1)\n",
        "df_for_corr['error_cols'].head()"
      ],
      "metadata": {
        "colab": {
          "base_uri": "https://localhost:8080/"
        },
        "id": "DfmY4p0eq8HQ",
        "outputId": "a29167b0-9c1c-4072-ed67-e5dfbc83545f"
      },
      "execution_count": null,
      "outputs": [
        {
          "output_type": "execute_result",
          "data": {
            "text/plain": [
              "11                                       Имя отправителя\n",
              "37                       Текст открытки\\nИмя отправителя\n",
              "65     Текст открытки\\nИмя отправителя\\nАдрес получателя\n",
              "723                      Текст открытки\\nИмя отправителя\n",
              "860                                 Дата печати открытки\n",
              "Name: error_cols, dtype: object"
            ]
          },
          "metadata": {},
          "execution_count": 263
        }
      ]
    },
    {
      "cell_type": "code",
      "source": [
        "with open('2023-06-05-corpus_logs_for_correction.txt', 'w') as corr_logs:\n",
        "  for ind, row in df_for_corr.iterrows():\n",
        "    corr_logs.write(\n",
        "        f\"{row['Номер открытки']}\\n{row['error_cols']}\\n\\n\"\n",
        "        )"
      ],
      "metadata": {
        "id": "YN0urL8oqbR4"
      },
      "execution_count": null,
      "outputs": []
    },
    {
      "cell_type": "code",
      "source": [
        "errors_dict = dict()\n",
        "\n",
        "with open('2023-06-05-corpus_logs_for_correction.txt', 'r') as fin:\n",
        "  for s in fin:\n",
        "    s = s.strip()\n",
        "    if s == '':\n",
        "      continue\n",
        "    if s.isnumeric():\n",
        "      postcard_id = int(s)\n",
        "      errors_dict[postcard_id] = []\n",
        "    else:\n",
        "      errors_dict[postcard_id].append(s)\n",
        "\n",
        "errors_dict"
      ],
      "metadata": {
        "id": "SOstoS17F2T5"
      },
      "execution_count": null,
      "outputs": []
    },
    {
      "cell_type": "code",
      "source": [
        "errors_df = []\n",
        "for postcard_id in errors_dict:\n",
        "  for col in errors_dict[postcard_id]:\n",
        "    errors_df.append([postcard_id, col])\n",
        "errors_df[:10]"
      ],
      "metadata": {
        "colab": {
          "base_uri": "https://localhost:8080/"
        },
        "id": "Hkw-r-21G2SG",
        "outputId": "0a825f2e-d61f-4d3d-9f75-94327b292aec"
      },
      "execution_count": 8,
      "outputs": [
        {
          "output_type": "execute_result",
          "data": {
            "text/plain": [
              "[[78, 'Имя отправителя'],\n",
              " [179, 'Текст открытки'],\n",
              " [179, 'Имя отправителя'],\n",
              " [231, 'Текст открытки'],\n",
              " [231, 'Имя отправителя'],\n",
              " [231, 'Адрес получателя'],\n",
              " [1573, 'Текст открытки'],\n",
              " [1573, 'Имя отправителя'],\n",
              " [1971, 'Дата печати открытки'],\n",
              " [2202, 'Текст открытки']]"
            ]
          },
          "metadata": {},
          "execution_count": 8
        }
      ]
    },
    {
      "cell_type": "code",
      "source": [
        "errors_df = pd.DataFrame(errors_df, columns=['Номер открытки', 'Столбец с ошибкой'])\n",
        "errors_df.head()"
      ],
      "metadata": {
        "colab": {
          "base_uri": "https://localhost:8080/",
          "height": 206
        },
        "id": "Oc2P9szKHx1B",
        "outputId": "3ebca4cf-4db1-4896-a712-2535988599d4"
      },
      "execution_count": 11,
      "outputs": [
        {
          "output_type": "execute_result",
          "data": {
            "text/plain": [
              "   Номер открытки Столбец с ошибкой\n",
              "0              78   Имя отправителя\n",
              "1             179    Текст открытки\n",
              "2             179   Имя отправителя\n",
              "3             231    Текст открытки\n",
              "4             231   Имя отправителя"
            ],
            "text/html": [
              "\n",
              "  <div id=\"df-1969f5cb-917d-452c-8c27-65d4029fa0ac\">\n",
              "    <div class=\"colab-df-container\">\n",
              "      <div>\n",
              "<style scoped>\n",
              "    .dataframe tbody tr th:only-of-type {\n",
              "        vertical-align: middle;\n",
              "    }\n",
              "\n",
              "    .dataframe tbody tr th {\n",
              "        vertical-align: top;\n",
              "    }\n",
              "\n",
              "    .dataframe thead th {\n",
              "        text-align: right;\n",
              "    }\n",
              "</style>\n",
              "<table border=\"1\" class=\"dataframe\">\n",
              "  <thead>\n",
              "    <tr style=\"text-align: right;\">\n",
              "      <th></th>\n",
              "      <th>Номер открытки</th>\n",
              "      <th>Столбец с ошибкой</th>\n",
              "    </tr>\n",
              "  </thead>\n",
              "  <tbody>\n",
              "    <tr>\n",
              "      <th>0</th>\n",
              "      <td>78</td>\n",
              "      <td>Имя отправителя</td>\n",
              "    </tr>\n",
              "    <tr>\n",
              "      <th>1</th>\n",
              "      <td>179</td>\n",
              "      <td>Текст открытки</td>\n",
              "    </tr>\n",
              "    <tr>\n",
              "      <th>2</th>\n",
              "      <td>179</td>\n",
              "      <td>Имя отправителя</td>\n",
              "    </tr>\n",
              "    <tr>\n",
              "      <th>3</th>\n",
              "      <td>231</td>\n",
              "      <td>Текст открытки</td>\n",
              "    </tr>\n",
              "    <tr>\n",
              "      <th>4</th>\n",
              "      <td>231</td>\n",
              "      <td>Имя отправителя</td>\n",
              "    </tr>\n",
              "  </tbody>\n",
              "</table>\n",
              "</div>\n",
              "      <button class=\"colab-df-convert\" onclick=\"convertToInteractive('df-1969f5cb-917d-452c-8c27-65d4029fa0ac')\"\n",
              "              title=\"Convert this dataframe to an interactive table.\"\n",
              "              style=\"display:none;\">\n",
              "        \n",
              "  <svg xmlns=\"http://www.w3.org/2000/svg\" height=\"24px\"viewBox=\"0 0 24 24\"\n",
              "       width=\"24px\">\n",
              "    <path d=\"M0 0h24v24H0V0z\" fill=\"none\"/>\n",
              "    <path d=\"M18.56 5.44l.94 2.06.94-2.06 2.06-.94-2.06-.94-.94-2.06-.94 2.06-2.06.94zm-11 1L8.5 8.5l.94-2.06 2.06-.94-2.06-.94L8.5 2.5l-.94 2.06-2.06.94zm10 10l.94 2.06.94-2.06 2.06-.94-2.06-.94-.94-2.06-.94 2.06-2.06.94z\"/><path d=\"M17.41 7.96l-1.37-1.37c-.4-.4-.92-.59-1.43-.59-.52 0-1.04.2-1.43.59L10.3 9.45l-7.72 7.72c-.78.78-.78 2.05 0 2.83L4 21.41c.39.39.9.59 1.41.59.51 0 1.02-.2 1.41-.59l7.78-7.78 2.81-2.81c.8-.78.8-2.07 0-2.86zM5.41 20L4 18.59l7.72-7.72 1.47 1.35L5.41 20z\"/>\n",
              "  </svg>\n",
              "      </button>\n",
              "      \n",
              "  <style>\n",
              "    .colab-df-container {\n",
              "      display:flex;\n",
              "      flex-wrap:wrap;\n",
              "      gap: 12px;\n",
              "    }\n",
              "\n",
              "    .colab-df-convert {\n",
              "      background-color: #E8F0FE;\n",
              "      border: none;\n",
              "      border-radius: 50%;\n",
              "      cursor: pointer;\n",
              "      display: none;\n",
              "      fill: #1967D2;\n",
              "      height: 32px;\n",
              "      padding: 0 0 0 0;\n",
              "      width: 32px;\n",
              "    }\n",
              "\n",
              "    .colab-df-convert:hover {\n",
              "      background-color: #E2EBFA;\n",
              "      box-shadow: 0px 1px 2px rgba(60, 64, 67, 0.3), 0px 1px 3px 1px rgba(60, 64, 67, 0.15);\n",
              "      fill: #174EA6;\n",
              "    }\n",
              "\n",
              "    [theme=dark] .colab-df-convert {\n",
              "      background-color: #3B4455;\n",
              "      fill: #D2E3FC;\n",
              "    }\n",
              "\n",
              "    [theme=dark] .colab-df-convert:hover {\n",
              "      background-color: #434B5C;\n",
              "      box-shadow: 0px 1px 3px 1px rgba(0, 0, 0, 0.15);\n",
              "      filter: drop-shadow(0px 1px 2px rgba(0, 0, 0, 0.3));\n",
              "      fill: #FFFFFF;\n",
              "    }\n",
              "  </style>\n",
              "\n",
              "      <script>\n",
              "        const buttonEl =\n",
              "          document.querySelector('#df-1969f5cb-917d-452c-8c27-65d4029fa0ac button.colab-df-convert');\n",
              "        buttonEl.style.display =\n",
              "          google.colab.kernel.accessAllowed ? 'block' : 'none';\n",
              "\n",
              "        async function convertToInteractive(key) {\n",
              "          const element = document.querySelector('#df-1969f5cb-917d-452c-8c27-65d4029fa0ac');\n",
              "          const dataTable =\n",
              "            await google.colab.kernel.invokeFunction('convertToInteractive',\n",
              "                                                     [key], {});\n",
              "          if (!dataTable) return;\n",
              "\n",
              "          const docLinkHtml = 'Like what you see? Visit the ' +\n",
              "            '<a target=\"_blank\" href=https://colab.research.google.com/notebooks/data_table.ipynb>data table notebook</a>'\n",
              "            + ' to learn more about interactive tables.';\n",
              "          element.innerHTML = '';\n",
              "          dataTable['output_type'] = 'display_data';\n",
              "          await google.colab.output.renderOutput(dataTable, element);\n",
              "          const docLink = document.createElement('div');\n",
              "          docLink.innerHTML = docLinkHtml;\n",
              "          element.appendChild(docLink);\n",
              "        }\n",
              "      </script>\n",
              "    </div>\n",
              "  </div>\n",
              "  "
            ]
          },
          "metadata": {},
          "execution_count": 11
        }
      ]
    },
    {
      "cell_type": "code",
      "source": [
        "errors_df['База'] = errors_df['Номер открытки'].apply(\n",
        "    lambda x: 1 if x < 100000\n",
        "    else 2 if x < 200000\n",
        "    else 3 if x < 215837\n",
        "    else 4 if x < 225880\n",
        "    else 'xxx'\n",
        ")"
      ],
      "metadata": {
        "id": "_zbc1IEgIH33"
      },
      "execution_count": 14,
      "outputs": []
    },
    {
      "cell_type": "code",
      "source": [
        "errors_df['База'].value_counts()"
      ],
      "metadata": {
        "colab": {
          "base_uri": "https://localhost:8080/"
        },
        "id": "bIrHJRIlI3az",
        "outputId": "47dbe715-d9fe-4856-f306-45be38bcfc66"
      },
      "execution_count": 15,
      "outputs": [
        {
          "output_type": "execute_result",
          "data": {
            "text/plain": [
              "3    36\n",
              "4    18\n",
              "2    15\n",
              "1    11\n",
              "Name: База, dtype: int64"
            ]
          },
          "metadata": {},
          "execution_count": 15
        }
      ]
    },
    {
      "cell_type": "code",
      "source": [
        "errors_df['Статус'] = 'Не исправлено'\n",
        "errors_df = errors_df[['База', 'Номер открытки', 'Столбец с ошибкой', 'Статус']]"
      ],
      "metadata": {
        "id": "i1Xt35b0JJDM"
      },
      "execution_count": 16,
      "outputs": []
    },
    {
      "cell_type": "code",
      "source": [
        "errors_df.to_csv('2023-06-05-corpus_logs.csv', index=False)"
      ],
      "metadata": {
        "id": "-TaE05K4JQlG"
      },
      "execution_count": 17,
      "outputs": []
    },
    {
      "cell_type": "markdown",
      "source": [
        "Проверка логики: нет такого, что ошибки нет и ошибка не исправлена"
      ],
      "metadata": {
        "id": "OU4-zhOXz6uz"
      }
    },
    {
      "cell_type": "code",
      "source": [
        "for ind, row in df.iterrows():\n",
        "  for col in df_cols:\n",
        "    if col in ['Номер открытки', 'Pic_url_1', 'Pic_url_2', 'Resize_url_1', 'Resize_url_2']:\n",
        "      continue\n",
        "    if not row[f'{col}_error'] and not row[f'{col}_fixed']:\n",
        "      print(row['Номер открытки'])\n",
        "      print(col)\n",
        "      print(row[f'{col}_old'], '\\t', row[col])\n",
        "      print()"
      ],
      "metadata": {
        "id": "5F7mHyBAuUct"
      },
      "execution_count": null,
      "outputs": []
    },
    {
      "cell_type": "markdown",
      "source": [
        "# Выгрузка корпуса"
      ],
      "metadata": {
        "id": "TfhkOzyXGaUG"
      }
    },
    {
      "cell_type": "markdown",
      "source": [
        "## Корпус - original"
      ],
      "metadata": {
        "id": "r78Ro0i8WqfZ"
      }
    },
    {
      "cell_type": "markdown",
      "source": [
        "* убираем ссылки на сжатые изображения\n",
        "* убираем технические столбцы\n",
        "* оставляем только открытки, готовые к выгрузке"
      ],
      "metadata": {
        "id": "zumPhS6SGB5f"
      }
    },
    {
      "cell_type": "code",
      "source": [
        "df_cols = ['Номер открытки', 'Pic_url_1', 'Pic_url_2', 'Resize_url_1', 'Resize_url_2'] + df_cols"
      ],
      "metadata": {
        "id": "LVibC4ATpLJU"
      },
      "execution_count": null,
      "outputs": []
    },
    {
      "cell_type": "code",
      "source": [
        "corpus = df[df['dump_ready']][df_cols]\n",
        "corpus = corpus.rename(\n",
        "    columns={'Pic_url_1': 'Лицевая сторона - ссылка', \n",
        "             'Pic_url_2': 'Оборотная сторона - ссылка'}\n",
        "             ).drop(['Resize_url_1', 'Resize_url_2'], axis=1)"
      ],
      "metadata": {
        "id": "9euGhLvkYx-0"
      },
      "execution_count": null,
      "outputs": []
    },
    {
      "cell_type": "code",
      "source": [
        "corpus.shape"
      ],
      "metadata": {
        "colab": {
          "base_uri": "https://localhost:8080/"
        },
        "id": "MwlEIBeN0FF7",
        "outputId": "e2ef7786-16aa-42d5-9af1-8065b3112b59"
      },
      "execution_count": null,
      "outputs": [
        {
          "output_type": "execute_result",
          "data": {
            "text/plain": [
              "(17653, 33)"
            ]
          },
          "metadata": {},
          "execution_count": 271
        }
      ]
    },
    {
      "cell_type": "code",
      "source": [
        "corpus.head()"
      ],
      "metadata": {
        "id": "4pm9iHA0pWXu"
      },
      "execution_count": null,
      "outputs": []
    },
    {
      "cell_type": "code",
      "source": [
        "cur_date = datetime.today().strftime('%Y.%m.%d')\n",
        "filename = f'[{cur_date}] Пишу тебе. Корпус (база 1-4) - original.csv'\n",
        "filename"
      ],
      "metadata": {
        "colab": {
          "base_uri": "https://localhost:8080/",
          "height": 35
        },
        "outputId": "04cd2f2d-0766-4a0c-eef6-13faf0b46c5b",
        "id": "a8o0lMduTdwG"
      },
      "execution_count": null,
      "outputs": [
        {
          "output_type": "execute_result",
          "data": {
            "text/plain": [
              "'[2023.05.06] Пишу тебе. Корпус (база 1-4) - original.csv'"
            ],
            "application/vnd.google.colaboratory.intrinsic+json": {
              "type": "string"
            }
          },
          "metadata": {},
          "execution_count": 272
        }
      ]
    },
    {
      "cell_type": "code",
      "source": [
        "corpus.to_csv(filename, index=False)"
      ],
      "metadata": {
        "id": "fnZoSYtITdwH"
      },
      "execution_count": null,
      "outputs": []
    },
    {
      "cell_type": "markdown",
      "source": [
        "## Корпус - версия наружу"
      ],
      "metadata": {
        "id": "QGZOQr60Tp5M"
      }
    },
    {
      "cell_type": "markdown",
      "source": [
        "* убираем ссылки на исходники изображений \n",
        "* убираем технические столбцы\n",
        "* оставляем только открытки, готовые к выгрузке"
      ],
      "metadata": {
        "id": "fGSZicphGJ_j"
      }
    },
    {
      "cell_type": "code",
      "source": [
        "corpus = df[df['dump_ready']][df_cols]\n",
        "corpus = corpus.rename(\n",
        "    columns={'Resize_url_1': 'Лицевая сторона - ссылка', \n",
        "             'Resize_url_2': 'Оборотная сторона - ссылка'}\n",
        "             ).drop(['Pic_url_1', 'Pic_url_2'], axis=1)"
      ],
      "metadata": {
        "id": "UfZd1n-vGJ_l"
      },
      "execution_count": null,
      "outputs": []
    },
    {
      "cell_type": "code",
      "source": [
        "corpus.shape"
      ],
      "metadata": {
        "colab": {
          "base_uri": "https://localhost:8080/"
        },
        "id": "fdGD6Rod0KBj",
        "outputId": "4d51c9e6-6ba7-484c-c228-9f733e7f1ca0"
      },
      "execution_count": null,
      "outputs": [
        {
          "output_type": "execute_result",
          "data": {
            "text/plain": [
              "(17653, 33)"
            ]
          },
          "metadata": {},
          "execution_count": 276
        }
      ]
    },
    {
      "cell_type": "code",
      "source": [
        "corpus.head()"
      ],
      "metadata": {
        "id": "PQLlcJW3Y9LI"
      },
      "execution_count": null,
      "outputs": []
    },
    {
      "cell_type": "code",
      "source": [
        "filename = f'[{cur_date}] Пишу тебе. Корпус (база 1-4).csv'\n",
        "filename"
      ],
      "metadata": {
        "colab": {
          "base_uri": "https://localhost:8080/",
          "height": 35
        },
        "id": "nzYWbH0gGYeo",
        "outputId": "64c0fd9a-cd54-4c7b-a560-914654a6a715"
      },
      "execution_count": null,
      "outputs": [
        {
          "output_type": "execute_result",
          "data": {
            "text/plain": [
              "'[2023.05.06] Пишу тебе. Корпус (база 1-4).csv'"
            ],
            "application/vnd.google.colaboratory.intrinsic+json": {
              "type": "string"
            }
          },
          "metadata": {},
          "execution_count": 278
        }
      ]
    },
    {
      "cell_type": "code",
      "source": [
        "corpus.to_csv(filename, index=False)"
      ],
      "metadata": {
        "id": "dmIWos0fZfQS"
      },
      "execution_count": null,
      "outputs": []
    }
  ]
}