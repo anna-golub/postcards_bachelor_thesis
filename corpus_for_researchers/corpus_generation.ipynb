{
  "nbformat": 4,
  "nbformat_minor": 0,
  "metadata": {
    "colab": {
      "provenance": [],
      "toc_visible": true
    },
    "kernelspec": {
      "name": "python3",
      "display_name": "Python 3"
    },
    "language_info": {
      "name": "python"
    }
  },
  "cells": [
    {
      "cell_type": "markdown",
      "source": [
        "# Читаем базы"
      ],
      "metadata": {
        "id": "TdTCi5H5Qo8_"
      }
    },
    {
      "cell_type": "code",
      "execution_count": 1,
      "metadata": {
        "id": "910xkhDHQi6G"
      },
      "outputs": [],
      "source": [
        "import pandas as pd"
      ]
    },
    {
      "cell_type": "code",
      "source": [
        "from google.colab import drive\n",
        "drive.mount('/content/drive')"
      ],
      "metadata": {
        "colab": {
          "base_uri": "https://localhost:8080/"
        },
        "id": "rO54DlQEKDBz",
        "outputId": "c661288c-3dbd-42d0-a681-063318a34484"
      },
      "execution_count": 2,
      "outputs": [
        {
          "output_type": "stream",
          "name": "stdout",
          "text": [
            "Mounted at /content/drive\n"
          ]
        }
      ]
    },
    {
      "cell_type": "markdown",
      "source": [
        "## База 1"
      ],
      "metadata": {
        "id": "CLaATX0LSUn3"
      }
    },
    {
      "cell_type": "code",
      "source": [
        "base_1 = pd.ExcelFile('/content/drive/MyDrive/Системный Блок/пишу тебе/открытки базы/Расшифровка открыток (основная база).xlsx')\n",
        "base_1 = pd.read_excel(base_1, 'Открытки')\n",
        "base_1['Номер открытки'] = base_1['Номер открытки'].astype(int)\n",
        "base_1 = base_1[~(((base_1['Pic_url_1'].isna()) | (base_1['Pic_url_1'] == 0.0)) &\n",
        "                ((base_1['Pic_url_2'].isna()) | (base_1['Pic_url_2'] == 0.0)))\n",
        "                ]\n",
        "base_1.head()"
      ],
      "metadata": {
        "id": "a5qe88L7QrP4",
        "colab": {
          "base_uri": "https://localhost:8080/",
          "height": 994
        },
        "outputId": "590be69b-e022-4a06-9e0e-0883a4db1564"
      },
      "execution_count": 3,
      "outputs": [
        {
          "output_type": "execute_result",
          "data": {
            "text/plain": [
              "   Номер открытки                                          Pic_url_1  \\\n",
              "0              50  https://forum.vgd.ru/file.php?fid=454520&key=1...   \n",
              "1              51  https://forum.vgd.ru/file.php?fid=454522&key=2...   \n",
              "2              52  https://forum.vgd.ru/file.php?fid=454524&key=1...   \n",
              "3              67  https://forum.vgd.ru/file.php?fid=448722&key=1...   \n",
              "4              68  https://forum.vgd.ru/file.php?fid=448737&key=1...   \n",
              "\n",
              "                                           Pic_url_2 Разрешение на публикацию  \\\n",
              "0  https://forum.vgd.ru/file.php?fid=454519&key=6...      Разрешаю публикацию   \n",
              "1  https://forum.vgd.ru/file.php?fid=454521&key=5...      Разрешаю публикацию   \n",
              "2  https://forum.vgd.ru/file.php?fid=454523&key=6...      Разрешаю публикацию   \n",
              "3  https://forum.vgd.ru/file.php?fid=448723&key=7...      Разрешаю публикацию   \n",
              "4  https://forum.vgd.ru/file.php?fid=448738&key=1...      Разрешаю публикацию   \n",
              "\n",
              "    Источник Была ли открытка отправлена по почте  \\\n",
              "0  Форум VGD                                   Да   \n",
              "1  Форум VGD                                   Да   \n",
              "2  Форум VGD                                   Да   \n",
              "3  Форум VGD                                   Да   \n",
              "4  Форум VGD                                   Да   \n",
              "\n",
              "  Название коллекции (если вы хотите подпись на сайте). Например, личная коллекция Василия Иванова.  \\\n",
              "0                                                NaN                                                  \n",
              "1                                                NaN                                                  \n",
              "2                                                NaN                                                  \n",
              "3                                                NaN                                                  \n",
              "4                                                NaN                                                  \n",
              "\n",
              "  Комментарий или метаинформация. Укажите тут любую метаинформацию про открытку, которую считаете важной. Например, какое-то знание или история, которую нельзя восстановить по тексту открытки.  \\\n",
              "0                                                NaN                                                                                                                                               \n",
              "1                                                NaN                                                                                                                                               \n",
              "2                                                NaN                                                                                                                                               \n",
              "3                                                NaN                                                                                                                                               \n",
              "4                                                NaN                                                                                                                                               \n",
              "\n",
              "  Заливщик Разметчик  ...                                       Дата заливки  \\\n",
              "0      NaN      Анна  ...  Thu Aug 25 2022 06:24:19 GMT-0400 (Восточная А...   \n",
              "1      NaN      Митя  ...  Thu Aug 25 2022 06:24:19 GMT-0400 (Восточная А...   \n",
              "2      NaN      Митя  ...  Thu Aug 25 2022 06:24:19 GMT-0400 (Восточная А...   \n",
              "3      NaN       Юля  ...  Thu Aug 25 2022 06:24:19 GMT-0400 (Восточная А...   \n",
              "4      NaN       Юля  ...  Thu Aug 25 2022 06:24:19 GMT-0400 (Восточная А...   \n",
              "\n",
              "  Оценка                                       Resize_url_1  \\\n",
              "0    NaN  https://storage.yandexcloud.net/postcards-resi...   \n",
              "1    NaN  https://storage.yandexcloud.net/postcards-resi...   \n",
              "2    NaN  https://storage.yandexcloud.net/postcards-resi...   \n",
              "3    NaN  https://storage.yandexcloud.net/postcards-resi...   \n",
              "4    NaN  https://storage.yandexcloud.net/postcards-resi...   \n",
              "\n",
              "                                        Resize_url_2  \\\n",
              "0  https://storage.yandexcloud.net/postcards-resi...   \n",
              "1  https://storage.yandexcloud.net/postcards-resi...   \n",
              "2  https://storage.yandexcloud.net/postcards-resi...   \n",
              "3  https://storage.yandexcloud.net/postcards-resi...   \n",
              "4  https://storage.yandexcloud.net/postcards-resi...   \n",
              "\n",
              "                           Сгенерированные заголовки image_tag_1  \\\n",
              "0  \\n\\n\"Привет, Жоржик! Давно не писала, но всё п...      дворец   \n",
              "1  \\n\\nЗапрос программы консерватории и информаци...   побережье   \n",
              "2  \\n\\nСочувствие по поводу утраты и приятный ден...      причал   \n",
              "3  \\n\\nSorry, als KI habe ich keine Information d...     площадь   \n",
              "4  К сожалению, не могу написать тему письма, так...       следы   \n",
              "\n",
              "     image_tag_2 image_tag_3 image_tag_4 image_tag_5  \n",
              "0        площадь       текст      здание         NaN  \n",
              "1  люди на пляже       берег  набережная         NaN  \n",
              "2  люди на пляже  набережная         NaN         NaN  \n",
              "3          рынок     городок  набережная         NaN  \n",
              "4        городок         NaN         NaN         NaN  \n",
              "\n",
              "[5 rows x 66 columns]"
            ],
            "text/html": [
              "\n",
              "  <div id=\"df-c4f54205-323c-42e1-b629-bdcdada622bf\">\n",
              "    <div class=\"colab-df-container\">\n",
              "      <div>\n",
              "<style scoped>\n",
              "    .dataframe tbody tr th:only-of-type {\n",
              "        vertical-align: middle;\n",
              "    }\n",
              "\n",
              "    .dataframe tbody tr th {\n",
              "        vertical-align: top;\n",
              "    }\n",
              "\n",
              "    .dataframe thead th {\n",
              "        text-align: right;\n",
              "    }\n",
              "</style>\n",
              "<table border=\"1\" class=\"dataframe\">\n",
              "  <thead>\n",
              "    <tr style=\"text-align: right;\">\n",
              "      <th></th>\n",
              "      <th>Номер открытки</th>\n",
              "      <th>Pic_url_1</th>\n",
              "      <th>Pic_url_2</th>\n",
              "      <th>Разрешение на публикацию</th>\n",
              "      <th>Источник</th>\n",
              "      <th>Была ли открытка отправлена по почте</th>\n",
              "      <th>Название коллекции (если вы хотите подпись на сайте). Например, личная коллекция Василия Иванова.</th>\n",
              "      <th>Комментарий или метаинформация. Укажите тут любую метаинформацию про открытку, которую считаете важной. Например, какое-то знание или история, которую нельзя восстановить по тексту открытки.</th>\n",
              "      <th>Заливщик</th>\n",
              "      <th>Разметчик</th>\n",
              "      <th>...</th>\n",
              "      <th>Дата заливки</th>\n",
              "      <th>Оценка</th>\n",
              "      <th>Resize_url_1</th>\n",
              "      <th>Resize_url_2</th>\n",
              "      <th>Сгенерированные заголовки</th>\n",
              "      <th>image_tag_1</th>\n",
              "      <th>image_tag_2</th>\n",
              "      <th>image_tag_3</th>\n",
              "      <th>image_tag_4</th>\n",
              "      <th>image_tag_5</th>\n",
              "    </tr>\n",
              "  </thead>\n",
              "  <tbody>\n",
              "    <tr>\n",
              "      <th>0</th>\n",
              "      <td>50</td>\n",
              "      <td>https://forum.vgd.ru/file.php?fid=454520&amp;key=1...</td>\n",
              "      <td>https://forum.vgd.ru/file.php?fid=454519&amp;key=6...</td>\n",
              "      <td>Разрешаю публикацию</td>\n",
              "      <td>Форум VGD</td>\n",
              "      <td>Да</td>\n",
              "      <td>NaN</td>\n",
              "      <td>NaN</td>\n",
              "      <td>NaN</td>\n",
              "      <td>Анна</td>\n",
              "      <td>...</td>\n",
              "      <td>Thu Aug 25 2022 06:24:19 GMT-0400 (Восточная А...</td>\n",
              "      <td>NaN</td>\n",
              "      <td>https://storage.yandexcloud.net/postcards-resi...</td>\n",
              "      <td>https://storage.yandexcloud.net/postcards-resi...</td>\n",
              "      <td>\\n\\n\"Привет, Жоржик! Давно не писала, но всё п...</td>\n",
              "      <td>дворец</td>\n",
              "      <td>площадь</td>\n",
              "      <td>текст</td>\n",
              "      <td>здание</td>\n",
              "      <td>NaN</td>\n",
              "    </tr>\n",
              "    <tr>\n",
              "      <th>1</th>\n",
              "      <td>51</td>\n",
              "      <td>https://forum.vgd.ru/file.php?fid=454522&amp;key=2...</td>\n",
              "      <td>https://forum.vgd.ru/file.php?fid=454521&amp;key=5...</td>\n",
              "      <td>Разрешаю публикацию</td>\n",
              "      <td>Форум VGD</td>\n",
              "      <td>Да</td>\n",
              "      <td>NaN</td>\n",
              "      <td>NaN</td>\n",
              "      <td>NaN</td>\n",
              "      <td>Митя</td>\n",
              "      <td>...</td>\n",
              "      <td>Thu Aug 25 2022 06:24:19 GMT-0400 (Восточная А...</td>\n",
              "      <td>NaN</td>\n",
              "      <td>https://storage.yandexcloud.net/postcards-resi...</td>\n",
              "      <td>https://storage.yandexcloud.net/postcards-resi...</td>\n",
              "      <td>\\n\\nЗапрос программы консерватории и информаци...</td>\n",
              "      <td>побережье</td>\n",
              "      <td>люди на пляже</td>\n",
              "      <td>берег</td>\n",
              "      <td>набережная</td>\n",
              "      <td>NaN</td>\n",
              "    </tr>\n",
              "    <tr>\n",
              "      <th>2</th>\n",
              "      <td>52</td>\n",
              "      <td>https://forum.vgd.ru/file.php?fid=454524&amp;key=1...</td>\n",
              "      <td>https://forum.vgd.ru/file.php?fid=454523&amp;key=6...</td>\n",
              "      <td>Разрешаю публикацию</td>\n",
              "      <td>Форум VGD</td>\n",
              "      <td>Да</td>\n",
              "      <td>NaN</td>\n",
              "      <td>NaN</td>\n",
              "      <td>NaN</td>\n",
              "      <td>Митя</td>\n",
              "      <td>...</td>\n",
              "      <td>Thu Aug 25 2022 06:24:19 GMT-0400 (Восточная А...</td>\n",
              "      <td>NaN</td>\n",
              "      <td>https://storage.yandexcloud.net/postcards-resi...</td>\n",
              "      <td>https://storage.yandexcloud.net/postcards-resi...</td>\n",
              "      <td>\\n\\nСочувствие по поводу утраты и приятный ден...</td>\n",
              "      <td>причал</td>\n",
              "      <td>люди на пляже</td>\n",
              "      <td>набережная</td>\n",
              "      <td>NaN</td>\n",
              "      <td>NaN</td>\n",
              "    </tr>\n",
              "    <tr>\n",
              "      <th>3</th>\n",
              "      <td>67</td>\n",
              "      <td>https://forum.vgd.ru/file.php?fid=448722&amp;key=1...</td>\n",
              "      <td>https://forum.vgd.ru/file.php?fid=448723&amp;key=7...</td>\n",
              "      <td>Разрешаю публикацию</td>\n",
              "      <td>Форум VGD</td>\n",
              "      <td>Да</td>\n",
              "      <td>NaN</td>\n",
              "      <td>NaN</td>\n",
              "      <td>NaN</td>\n",
              "      <td>Юля</td>\n",
              "      <td>...</td>\n",
              "      <td>Thu Aug 25 2022 06:24:19 GMT-0400 (Восточная А...</td>\n",
              "      <td>NaN</td>\n",
              "      <td>https://storage.yandexcloud.net/postcards-resi...</td>\n",
              "      <td>https://storage.yandexcloud.net/postcards-resi...</td>\n",
              "      <td>\\n\\nSorry, als KI habe ich keine Information d...</td>\n",
              "      <td>площадь</td>\n",
              "      <td>рынок</td>\n",
              "      <td>городок</td>\n",
              "      <td>набережная</td>\n",
              "      <td>NaN</td>\n",
              "    </tr>\n",
              "    <tr>\n",
              "      <th>4</th>\n",
              "      <td>68</td>\n",
              "      <td>https://forum.vgd.ru/file.php?fid=448737&amp;key=1...</td>\n",
              "      <td>https://forum.vgd.ru/file.php?fid=448738&amp;key=1...</td>\n",
              "      <td>Разрешаю публикацию</td>\n",
              "      <td>Форум VGD</td>\n",
              "      <td>Да</td>\n",
              "      <td>NaN</td>\n",
              "      <td>NaN</td>\n",
              "      <td>NaN</td>\n",
              "      <td>Юля</td>\n",
              "      <td>...</td>\n",
              "      <td>Thu Aug 25 2022 06:24:19 GMT-0400 (Восточная А...</td>\n",
              "      <td>NaN</td>\n",
              "      <td>https://storage.yandexcloud.net/postcards-resi...</td>\n",
              "      <td>https://storage.yandexcloud.net/postcards-resi...</td>\n",
              "      <td>К сожалению, не могу написать тему письма, так...</td>\n",
              "      <td>следы</td>\n",
              "      <td>городок</td>\n",
              "      <td>NaN</td>\n",
              "      <td>NaN</td>\n",
              "      <td>NaN</td>\n",
              "    </tr>\n",
              "  </tbody>\n",
              "</table>\n",
              "<p>5 rows × 66 columns</p>\n",
              "</div>\n",
              "      <button class=\"colab-df-convert\" onclick=\"convertToInteractive('df-c4f54205-323c-42e1-b629-bdcdada622bf')\"\n",
              "              title=\"Convert this dataframe to an interactive table.\"\n",
              "              style=\"display:none;\">\n",
              "        \n",
              "  <svg xmlns=\"http://www.w3.org/2000/svg\" height=\"24px\"viewBox=\"0 0 24 24\"\n",
              "       width=\"24px\">\n",
              "    <path d=\"M0 0h24v24H0V0z\" fill=\"none\"/>\n",
              "    <path d=\"M18.56 5.44l.94 2.06.94-2.06 2.06-.94-2.06-.94-.94-2.06-.94 2.06-2.06.94zm-11 1L8.5 8.5l.94-2.06 2.06-.94-2.06-.94L8.5 2.5l-.94 2.06-2.06.94zm10 10l.94 2.06.94-2.06 2.06-.94-2.06-.94-.94-2.06-.94 2.06-2.06.94z\"/><path d=\"M17.41 7.96l-1.37-1.37c-.4-.4-.92-.59-1.43-.59-.52 0-1.04.2-1.43.59L10.3 9.45l-7.72 7.72c-.78.78-.78 2.05 0 2.83L4 21.41c.39.39.9.59 1.41.59.51 0 1.02-.2 1.41-.59l7.78-7.78 2.81-2.81c.8-.78.8-2.07 0-2.86zM5.41 20L4 18.59l7.72-7.72 1.47 1.35L5.41 20z\"/>\n",
              "  </svg>\n",
              "      </button>\n",
              "      \n",
              "  <style>\n",
              "    .colab-df-container {\n",
              "      display:flex;\n",
              "      flex-wrap:wrap;\n",
              "      gap: 12px;\n",
              "    }\n",
              "\n",
              "    .colab-df-convert {\n",
              "      background-color: #E8F0FE;\n",
              "      border: none;\n",
              "      border-radius: 50%;\n",
              "      cursor: pointer;\n",
              "      display: none;\n",
              "      fill: #1967D2;\n",
              "      height: 32px;\n",
              "      padding: 0 0 0 0;\n",
              "      width: 32px;\n",
              "    }\n",
              "\n",
              "    .colab-df-convert:hover {\n",
              "      background-color: #E2EBFA;\n",
              "      box-shadow: 0px 1px 2px rgba(60, 64, 67, 0.3), 0px 1px 3px 1px rgba(60, 64, 67, 0.15);\n",
              "      fill: #174EA6;\n",
              "    }\n",
              "\n",
              "    [theme=dark] .colab-df-convert {\n",
              "      background-color: #3B4455;\n",
              "      fill: #D2E3FC;\n",
              "    }\n",
              "\n",
              "    [theme=dark] .colab-df-convert:hover {\n",
              "      background-color: #434B5C;\n",
              "      box-shadow: 0px 1px 3px 1px rgba(0, 0, 0, 0.15);\n",
              "      filter: drop-shadow(0px 1px 2px rgba(0, 0, 0, 0.3));\n",
              "      fill: #FFFFFF;\n",
              "    }\n",
              "  </style>\n",
              "\n",
              "      <script>\n",
              "        const buttonEl =\n",
              "          document.querySelector('#df-c4f54205-323c-42e1-b629-bdcdada622bf button.colab-df-convert');\n",
              "        buttonEl.style.display =\n",
              "          google.colab.kernel.accessAllowed ? 'block' : 'none';\n",
              "\n",
              "        async function convertToInteractive(key) {\n",
              "          const element = document.querySelector('#df-c4f54205-323c-42e1-b629-bdcdada622bf');\n",
              "          const dataTable =\n",
              "            await google.colab.kernel.invokeFunction('convertToInteractive',\n",
              "                                                     [key], {});\n",
              "          if (!dataTable) return;\n",
              "\n",
              "          const docLinkHtml = 'Like what you see? Visit the ' +\n",
              "            '<a target=\"_blank\" href=https://colab.research.google.com/notebooks/data_table.ipynb>data table notebook</a>'\n",
              "            + ' to learn more about interactive tables.';\n",
              "          element.innerHTML = '';\n",
              "          dataTable['output_type'] = 'display_data';\n",
              "          await google.colab.output.renderOutput(dataTable, element);\n",
              "          const docLink = document.createElement('div');\n",
              "          docLink.innerHTML = docLinkHtml;\n",
              "          element.appendChild(docLink);\n",
              "        }\n",
              "      </script>\n",
              "    </div>\n",
              "  </div>\n",
              "  "
            ]
          },
          "metadata": {},
          "execution_count": 3
        }
      ]
    },
    {
      "cell_type": "code",
      "source": [
        "base_1.shape"
      ],
      "metadata": {
        "colab": {
          "base_uri": "https://localhost:8080/"
        },
        "id": "r4Vvoq2USr16",
        "outputId": "fc625cbb-6311-4cae-dcd6-96d086f3ea47"
      },
      "execution_count": 4,
      "outputs": [
        {
          "output_type": "execute_result",
          "data": {
            "text/plain": [
              "(6037, 66)"
            ]
          },
          "metadata": {},
          "execution_count": 4
        }
      ]
    },
    {
      "cell_type": "markdown",
      "source": [
        "## База 2"
      ],
      "metadata": {
        "id": "szN-Q0vCSgzJ"
      }
    },
    {
      "cell_type": "code",
      "source": [
        "base_2 = pd.ExcelFile('/content/drive/MyDrive/Системный Блок/пишу тебе/открытки базы/Расшифровка открыток 2 (Ярмарка проектов).xlsx')\n",
        "base_2 = pd.read_excel(base_2, 'Открытки')\n",
        "base_2['Номер открытки'] = base_2['Номер открытки'].astype(int)\n",
        "base_2.head()"
      ],
      "metadata": {
        "id": "sQ37LFP6SiCL",
        "colab": {
          "base_uri": "https://localhost:8080/",
          "height": 994
        },
        "outputId": "a3960102-2d99-42d5-d805-44d9ce135a46"
      },
      "execution_count": 5,
      "outputs": [
        {
          "output_type": "execute_result",
          "data": {
            "text/plain": [
              "   Номер открытки                                          Pic_url_1  \\\n",
              "0          100001  https://storage.yandexcloud.net/postcards-open...   \n",
              "1          100002  https://storage.yandexcloud.net/postcards-open...   \n",
              "2          100003  https://storage.yandexcloud.net/postcards-open...   \n",
              "3          100004  https://storage.yandexcloud.net/postcards-open...   \n",
              "4          100005  https://storage.yandexcloud.net/postcards-open...   \n",
              "\n",
              "                                           Pic_url_2 Разрешение на публикацию  \\\n",
              "0  https://storage.yandexcloud.net/postcards-open...      Разрешаю публикацию   \n",
              "1  https://storage.yandexcloud.net/postcards-open...      Разрешаю публикацию   \n",
              "2  https://storage.yandexcloud.net/postcards-open...      Разрешаю публикацию   \n",
              "3  https://storage.yandexcloud.net/postcards-open...      Разрешаю публикацию   \n",
              "4  https://storage.yandexcloud.net/postcards-open...      Разрешаю публикацию   \n",
              "\n",
              "              Источник Была ли открытка отправлена по почте  \\\n",
              "0  Найдено в интернете                                  NaN   \n",
              "1  Найдено в интернете                                  NaN   \n",
              "2  Найдено в интернете                                  NaN   \n",
              "3  Найдено в интернете                                  NaN   \n",
              "4  Найдено в интернете                                  NaN   \n",
              "\n",
              "  Название коллекции (если вы хотите подпись на сайте). Например, личная коллекция Василия Иванова.  \\\n",
              "0                                                NaN                                                  \n",
              "1                                                NaN                                                  \n",
              "2                                                NaN                                                  \n",
              "3                                                NaN                                                  \n",
              "4                                                NaN                                                  \n",
              "\n",
              "  Комментарий или метаинформация. Укажите тут любую метаинформацию про открытку, которую считаете важной. Например, какое-то знание или история, которую нельзя восстановить по тексту открытки.  \\\n",
              "0                                                NaN                                                                                                                                               \n",
              "1                                                NaN                                                                                                                                               \n",
              "2                                                NaN                                                                                                                                               \n",
              "3                                                NaN                                                                                                                                               \n",
              "4                                                NaN                                                                                                                                               \n",
              "\n",
              "   Заливщик                 Разметчик  ...  \\\n",
              "0       NaN  Атрощенко Екатерина (ЯП)  ...   \n",
              "1       NaN         Зыкова Мария (ЯП)  ...   \n",
              "2       NaN         Залян Эдуард (ЯП)  ...   \n",
              "3       NaN      Никитина Полина (ЯП)  ...   \n",
              "4       NaN        Кошкина Мария (ЯП)  ...   \n",
              "\n",
              "                                        Дата заливки Оценка  \\\n",
              "0  Thu Aug 25 2022 15:04:40 GMT-0400 (Восточная А...      5   \n",
              "1  Thu Aug 25 2022 15:04:40 GMT-0400 (Восточная А...      4   \n",
              "2  Thu Aug 25 2022 15:04:40 GMT-0400 (Восточная А...      5   \n",
              "3  Thu Aug 25 2022 15:04:40 GMT-0400 (Восточная А...      4   \n",
              "4  Thu Aug 25 2022 15:04:40 GMT-0400 (Восточная А...      5   \n",
              "\n",
              "                                        Resize_url_1  \\\n",
              "0  https://storage.yandexcloud.net/postcards-resi...   \n",
              "1  https://storage.yandexcloud.net/postcards-resi...   \n",
              "2  https://storage.yandexcloud.net/postcards-resi...   \n",
              "3  https://storage.yandexcloud.net/postcards-resi...   \n",
              "4  https://storage.yandexcloud.net/postcards-resi...   \n",
              "\n",
              "                                        Resize_url_2  \\\n",
              "0  https://storage.yandexcloud.net/postcards-resi...   \n",
              "1  https://storage.yandexcloud.net/postcards-resi...   \n",
              "2  https://storage.yandexcloud.net/postcards-resi...   \n",
              "3  https://storage.yandexcloud.net/postcards-resi...   \n",
              "4  https://storage.yandexcloud.net/postcards-resi...   \n",
              "\n",
              "                           Сгенерированные заголовки image_tag_1 image_tag_2  \\\n",
              "0                   \\n\\nОткрытое письмо из Смоленска      дворец      здание   \n",
              "1  \\n\\nПисьмо с просьбой о пересылке денег и инте...      дворец        парк   \n",
              "2  К сожалению, необходимо предоставить дополните...      гавань  набережная   \n",
              "3   \\n\\nЛичные новости и планы на ближайшее будущее.        парк      фонтан   \n",
              "4       \\n\\nИнформация о новой акции магазина \"Сова\"  троллейбус        арка   \n",
              "\n",
              "  image_tag_3 image_tag_4 image_tag_5  \n",
              "0         NaN         NaN         NaN  \n",
              "1     площадь         NaN         NaN  \n",
              "2         NaN         NaN         NaN  \n",
              "3     площадь         NaN         NaN  \n",
              "4     коляска    карусель         NaN  \n",
              "\n",
              "[5 rows x 66 columns]"
            ],
            "text/html": [
              "\n",
              "  <div id=\"df-16f0a381-a4e5-4183-b616-c441ac8c87cf\">\n",
              "    <div class=\"colab-df-container\">\n",
              "      <div>\n",
              "<style scoped>\n",
              "    .dataframe tbody tr th:only-of-type {\n",
              "        vertical-align: middle;\n",
              "    }\n",
              "\n",
              "    .dataframe tbody tr th {\n",
              "        vertical-align: top;\n",
              "    }\n",
              "\n",
              "    .dataframe thead th {\n",
              "        text-align: right;\n",
              "    }\n",
              "</style>\n",
              "<table border=\"1\" class=\"dataframe\">\n",
              "  <thead>\n",
              "    <tr style=\"text-align: right;\">\n",
              "      <th></th>\n",
              "      <th>Номер открытки</th>\n",
              "      <th>Pic_url_1</th>\n",
              "      <th>Pic_url_2</th>\n",
              "      <th>Разрешение на публикацию</th>\n",
              "      <th>Источник</th>\n",
              "      <th>Была ли открытка отправлена по почте</th>\n",
              "      <th>Название коллекции (если вы хотите подпись на сайте). Например, личная коллекция Василия Иванова.</th>\n",
              "      <th>Комментарий или метаинформация. Укажите тут любую метаинформацию про открытку, которую считаете важной. Например, какое-то знание или история, которую нельзя восстановить по тексту открытки.</th>\n",
              "      <th>Заливщик</th>\n",
              "      <th>Разметчик</th>\n",
              "      <th>...</th>\n",
              "      <th>Дата заливки</th>\n",
              "      <th>Оценка</th>\n",
              "      <th>Resize_url_1</th>\n",
              "      <th>Resize_url_2</th>\n",
              "      <th>Сгенерированные заголовки</th>\n",
              "      <th>image_tag_1</th>\n",
              "      <th>image_tag_2</th>\n",
              "      <th>image_tag_3</th>\n",
              "      <th>image_tag_4</th>\n",
              "      <th>image_tag_5</th>\n",
              "    </tr>\n",
              "  </thead>\n",
              "  <tbody>\n",
              "    <tr>\n",
              "      <th>0</th>\n",
              "      <td>100001</td>\n",
              "      <td>https://storage.yandexcloud.net/postcards-open...</td>\n",
              "      <td>https://storage.yandexcloud.net/postcards-open...</td>\n",
              "      <td>Разрешаю публикацию</td>\n",
              "      <td>Найдено в интернете</td>\n",
              "      <td>NaN</td>\n",
              "      <td>NaN</td>\n",
              "      <td>NaN</td>\n",
              "      <td>NaN</td>\n",
              "      <td>Атрощенко Екатерина (ЯП)</td>\n",
              "      <td>...</td>\n",
              "      <td>Thu Aug 25 2022 15:04:40 GMT-0400 (Восточная А...</td>\n",
              "      <td>5</td>\n",
              "      <td>https://storage.yandexcloud.net/postcards-resi...</td>\n",
              "      <td>https://storage.yandexcloud.net/postcards-resi...</td>\n",
              "      <td>\\n\\nОткрытое письмо из Смоленска</td>\n",
              "      <td>дворец</td>\n",
              "      <td>здание</td>\n",
              "      <td>NaN</td>\n",
              "      <td>NaN</td>\n",
              "      <td>NaN</td>\n",
              "    </tr>\n",
              "    <tr>\n",
              "      <th>1</th>\n",
              "      <td>100002</td>\n",
              "      <td>https://storage.yandexcloud.net/postcards-open...</td>\n",
              "      <td>https://storage.yandexcloud.net/postcards-open...</td>\n",
              "      <td>Разрешаю публикацию</td>\n",
              "      <td>Найдено в интернете</td>\n",
              "      <td>NaN</td>\n",
              "      <td>NaN</td>\n",
              "      <td>NaN</td>\n",
              "      <td>NaN</td>\n",
              "      <td>Зыкова Мария (ЯП)</td>\n",
              "      <td>...</td>\n",
              "      <td>Thu Aug 25 2022 15:04:40 GMT-0400 (Восточная А...</td>\n",
              "      <td>4</td>\n",
              "      <td>https://storage.yandexcloud.net/postcards-resi...</td>\n",
              "      <td>https://storage.yandexcloud.net/postcards-resi...</td>\n",
              "      <td>\\n\\nПисьмо с просьбой о пересылке денег и инте...</td>\n",
              "      <td>дворец</td>\n",
              "      <td>парк</td>\n",
              "      <td>площадь</td>\n",
              "      <td>NaN</td>\n",
              "      <td>NaN</td>\n",
              "    </tr>\n",
              "    <tr>\n",
              "      <th>2</th>\n",
              "      <td>100003</td>\n",
              "      <td>https://storage.yandexcloud.net/postcards-open...</td>\n",
              "      <td>https://storage.yandexcloud.net/postcards-open...</td>\n",
              "      <td>Разрешаю публикацию</td>\n",
              "      <td>Найдено в интернете</td>\n",
              "      <td>NaN</td>\n",
              "      <td>NaN</td>\n",
              "      <td>NaN</td>\n",
              "      <td>NaN</td>\n",
              "      <td>Залян Эдуард (ЯП)</td>\n",
              "      <td>...</td>\n",
              "      <td>Thu Aug 25 2022 15:04:40 GMT-0400 (Восточная А...</td>\n",
              "      <td>5</td>\n",
              "      <td>https://storage.yandexcloud.net/postcards-resi...</td>\n",
              "      <td>https://storage.yandexcloud.net/postcards-resi...</td>\n",
              "      <td>К сожалению, необходимо предоставить дополните...</td>\n",
              "      <td>гавань</td>\n",
              "      <td>набережная</td>\n",
              "      <td>NaN</td>\n",
              "      <td>NaN</td>\n",
              "      <td>NaN</td>\n",
              "    </tr>\n",
              "    <tr>\n",
              "      <th>3</th>\n",
              "      <td>100004</td>\n",
              "      <td>https://storage.yandexcloud.net/postcards-open...</td>\n",
              "      <td>https://storage.yandexcloud.net/postcards-open...</td>\n",
              "      <td>Разрешаю публикацию</td>\n",
              "      <td>Найдено в интернете</td>\n",
              "      <td>NaN</td>\n",
              "      <td>NaN</td>\n",
              "      <td>NaN</td>\n",
              "      <td>NaN</td>\n",
              "      <td>Никитина Полина (ЯП)</td>\n",
              "      <td>...</td>\n",
              "      <td>Thu Aug 25 2022 15:04:40 GMT-0400 (Восточная А...</td>\n",
              "      <td>4</td>\n",
              "      <td>https://storage.yandexcloud.net/postcards-resi...</td>\n",
              "      <td>https://storage.yandexcloud.net/postcards-resi...</td>\n",
              "      <td>\\n\\nЛичные новости и планы на ближайшее будущее.</td>\n",
              "      <td>парк</td>\n",
              "      <td>фонтан</td>\n",
              "      <td>площадь</td>\n",
              "      <td>NaN</td>\n",
              "      <td>NaN</td>\n",
              "    </tr>\n",
              "    <tr>\n",
              "      <th>4</th>\n",
              "      <td>100005</td>\n",
              "      <td>https://storage.yandexcloud.net/postcards-open...</td>\n",
              "      <td>https://storage.yandexcloud.net/postcards-open...</td>\n",
              "      <td>Разрешаю публикацию</td>\n",
              "      <td>Найдено в интернете</td>\n",
              "      <td>NaN</td>\n",
              "      <td>NaN</td>\n",
              "      <td>NaN</td>\n",
              "      <td>NaN</td>\n",
              "      <td>Кошкина Мария (ЯП)</td>\n",
              "      <td>...</td>\n",
              "      <td>Thu Aug 25 2022 15:04:40 GMT-0400 (Восточная А...</td>\n",
              "      <td>5</td>\n",
              "      <td>https://storage.yandexcloud.net/postcards-resi...</td>\n",
              "      <td>https://storage.yandexcloud.net/postcards-resi...</td>\n",
              "      <td>\\n\\nИнформация о новой акции магазина \"Сова\"</td>\n",
              "      <td>троллейбус</td>\n",
              "      <td>арка</td>\n",
              "      <td>коляска</td>\n",
              "      <td>карусель</td>\n",
              "      <td>NaN</td>\n",
              "    </tr>\n",
              "  </tbody>\n",
              "</table>\n",
              "<p>5 rows × 66 columns</p>\n",
              "</div>\n",
              "      <button class=\"colab-df-convert\" onclick=\"convertToInteractive('df-16f0a381-a4e5-4183-b616-c441ac8c87cf')\"\n",
              "              title=\"Convert this dataframe to an interactive table.\"\n",
              "              style=\"display:none;\">\n",
              "        \n",
              "  <svg xmlns=\"http://www.w3.org/2000/svg\" height=\"24px\"viewBox=\"0 0 24 24\"\n",
              "       width=\"24px\">\n",
              "    <path d=\"M0 0h24v24H0V0z\" fill=\"none\"/>\n",
              "    <path d=\"M18.56 5.44l.94 2.06.94-2.06 2.06-.94-2.06-.94-.94-2.06-.94 2.06-2.06.94zm-11 1L8.5 8.5l.94-2.06 2.06-.94-2.06-.94L8.5 2.5l-.94 2.06-2.06.94zm10 10l.94 2.06.94-2.06 2.06-.94-2.06-.94-.94-2.06-.94 2.06-2.06.94z\"/><path d=\"M17.41 7.96l-1.37-1.37c-.4-.4-.92-.59-1.43-.59-.52 0-1.04.2-1.43.59L10.3 9.45l-7.72 7.72c-.78.78-.78 2.05 0 2.83L4 21.41c.39.39.9.59 1.41.59.51 0 1.02-.2 1.41-.59l7.78-7.78 2.81-2.81c.8-.78.8-2.07 0-2.86zM5.41 20L4 18.59l7.72-7.72 1.47 1.35L5.41 20z\"/>\n",
              "  </svg>\n",
              "      </button>\n",
              "      \n",
              "  <style>\n",
              "    .colab-df-container {\n",
              "      display:flex;\n",
              "      flex-wrap:wrap;\n",
              "      gap: 12px;\n",
              "    }\n",
              "\n",
              "    .colab-df-convert {\n",
              "      background-color: #E8F0FE;\n",
              "      border: none;\n",
              "      border-radius: 50%;\n",
              "      cursor: pointer;\n",
              "      display: none;\n",
              "      fill: #1967D2;\n",
              "      height: 32px;\n",
              "      padding: 0 0 0 0;\n",
              "      width: 32px;\n",
              "    }\n",
              "\n",
              "    .colab-df-convert:hover {\n",
              "      background-color: #E2EBFA;\n",
              "      box-shadow: 0px 1px 2px rgba(60, 64, 67, 0.3), 0px 1px 3px 1px rgba(60, 64, 67, 0.15);\n",
              "      fill: #174EA6;\n",
              "    }\n",
              "\n",
              "    [theme=dark] .colab-df-convert {\n",
              "      background-color: #3B4455;\n",
              "      fill: #D2E3FC;\n",
              "    }\n",
              "\n",
              "    [theme=dark] .colab-df-convert:hover {\n",
              "      background-color: #434B5C;\n",
              "      box-shadow: 0px 1px 3px 1px rgba(0, 0, 0, 0.15);\n",
              "      filter: drop-shadow(0px 1px 2px rgba(0, 0, 0, 0.3));\n",
              "      fill: #FFFFFF;\n",
              "    }\n",
              "  </style>\n",
              "\n",
              "      <script>\n",
              "        const buttonEl =\n",
              "          document.querySelector('#df-16f0a381-a4e5-4183-b616-c441ac8c87cf button.colab-df-convert');\n",
              "        buttonEl.style.display =\n",
              "          google.colab.kernel.accessAllowed ? 'block' : 'none';\n",
              "\n",
              "        async function convertToInteractive(key) {\n",
              "          const element = document.querySelector('#df-16f0a381-a4e5-4183-b616-c441ac8c87cf');\n",
              "          const dataTable =\n",
              "            await google.colab.kernel.invokeFunction('convertToInteractive',\n",
              "                                                     [key], {});\n",
              "          if (!dataTable) return;\n",
              "\n",
              "          const docLinkHtml = 'Like what you see? Visit the ' +\n",
              "            '<a target=\"_blank\" href=https://colab.research.google.com/notebooks/data_table.ipynb>data table notebook</a>'\n",
              "            + ' to learn more about interactive tables.';\n",
              "          element.innerHTML = '';\n",
              "          dataTable['output_type'] = 'display_data';\n",
              "          await google.colab.output.renderOutput(dataTable, element);\n",
              "          const docLink = document.createElement('div');\n",
              "          docLink.innerHTML = docLinkHtml;\n",
              "          element.appendChild(docLink);\n",
              "        }\n",
              "      </script>\n",
              "    </div>\n",
              "  </div>\n",
              "  "
            ]
          },
          "metadata": {},
          "execution_count": 5
        }
      ]
    },
    {
      "cell_type": "code",
      "source": [
        "base_2.shape"
      ],
      "metadata": {
        "colab": {
          "base_uri": "https://localhost:8080/"
        },
        "id": "WSCUYuYQRia5",
        "outputId": "4fe0ee4e-6a0e-48de-de87-6da5ec060b3e"
      },
      "execution_count": 6,
      "outputs": [
        {
          "output_type": "execute_result",
          "data": {
            "text/plain": [
              "(4968, 66)"
            ]
          },
          "metadata": {},
          "execution_count": 6
        }
      ]
    },
    {
      "cell_type": "markdown",
      "source": [
        "## База 3"
      ],
      "metadata": {
        "id": "uLHW4Gp-THbB"
      }
    },
    {
      "cell_type": "code",
      "source": [
        "base_3 = pd.ExcelFile('/content/drive/MyDrive/Системный Блок/пишу тебе/открытки базы/Расшифровка открыток 3 (Ярмарка проектов).xlsx')\n",
        "base_3 = pd.read_excel(base_3, 'Открытки')\n",
        "base_3 = base_3[~base_3['Номер открытки'].isna()]\n",
        "base_3['Номер открытки'] = base_3['Номер открытки'].astype(int)\n",
        "base_3 = base_3.rename(columns={'Resize_ur_1': 'Resize_url_1', 'Resize_ur_2': 'Resize_url_2'})\n",
        "base_3.head()"
      ],
      "metadata": {
        "id": "PuYWAHGUTG_C",
        "colab": {
          "base_uri": "https://localhost:8080/",
          "height": 751
        },
        "outputId": "7b6322fc-9b88-443c-83ba-3430a79810e2"
      },
      "execution_count": 7,
      "outputs": [
        {
          "output_type": "execute_result",
          "data": {
            "text/plain": [
              "   Номер открытки                                          Pic_url_1  \\\n",
              "0          205028  https://storage.yandexcloud.net/postcards-open...   \n",
              "1          205096  https://storage.yandexcloud.net/postcards-open...   \n",
              "2          204980  https://storage.yandexcloud.net/postcards-open...   \n",
              "3          205038  https://storage.yandexcloud.net/postcards-open...   \n",
              "4          205073  https://storage.yandexcloud.net/postcards-open...   \n",
              "\n",
              "                                           Pic_url_2 Разрешение на публикацию  \\\n",
              "0  https://storage.yandexcloud.net/postcards-open...      Разрешаю публикацию   \n",
              "1  https://storage.yandexcloud.net/postcards-open...      Разрешаю публикацию   \n",
              "2  https://storage.yandexcloud.net/postcards-open...      Разрешаю публикацию   \n",
              "3  https://storage.yandexcloud.net/postcards-open...      Разрешаю публикацию   \n",
              "4  https://storage.yandexcloud.net/postcards-open...      Разрешаю публикацию   \n",
              "\n",
              "              Источник Была ли открытка отправлена по почте  \\\n",
              "0  Найдено в интернете                                  NaN   \n",
              "1  Найдено в интернете                                  NaN   \n",
              "2  Найдено в интернете                                  NaN   \n",
              "3  Найдено в интернете                                  NaN   \n",
              "4  Найдено в интернете                                  NaN   \n",
              "\n",
              "  Название коллекции (если вы хотите подпись на сайте). Например, личная коллекция Василия Иванова.  \\\n",
              "0                                                NaN                                                  \n",
              "1                                                NaN                                                  \n",
              "2                                                NaN                                                  \n",
              "3                                                NaN                                                  \n",
              "4                                                NaN                                                  \n",
              "\n",
              "  Комментарий или метаинформация. Укажите тут любую метаинформацию про открытку, которую считаете важной. Например, какое-то знание или история, которую нельзя восстановить по тексту открытки.  \\\n",
              "0                                                NaN                                                                                                                                               \n",
              "1                                                NaN                                                                                                                                               \n",
              "2                                                NaN                                                                                                                                               \n",
              "3                                                NaN                                                                                                                                               \n",
              "4                                                NaN                                                                                                                                               \n",
              "\n",
              "   Заливщик                           Разметчик  ... Дата заливки Оценка  \\\n",
              "0       NaN                       Анна Макарова  ...          NaN      0   \n",
              "1       NaN                       Анна Макарова  ...          NaN      0   \n",
              "2       NaN        Бачинина Яна (ЯП4, 09-10.22)  ...          NaN      5   \n",
              "3       NaN        Бачинина Яна (ЯП4, 09-10.22)  ...          NaN      4   \n",
              "4       NaN  Бенедиктова Полина (ЯП4, 09-10.22)  ...          NaN      4   \n",
              "\n",
              "                                        Resize_url_1  \\\n",
              "0  https://storage.yandexcloud.net/postcards-resi...   \n",
              "1  https://storage.yandexcloud.net/postcards-resi...   \n",
              "2  https://storage.yandexcloud.net/postcards-resi...   \n",
              "3  https://storage.yandexcloud.net/postcards-resi...   \n",
              "4  https://storage.yandexcloud.net/postcards-resi...   \n",
              "\n",
              "                                        Resize_url_2  \\\n",
              "0  https://storage.yandexcloud.net/postcards-resi...   \n",
              "1  https://storage.yandexcloud.net/postcards-resi...   \n",
              "2  https://storage.yandexcloud.net/postcards-resi...   \n",
              "3  https://storage.yandexcloud.net/postcards-resi...   \n",
              "4  https://storage.yandexcloud.net/postcards-resi...   \n",
              "\n",
              "                           Сгенерированные заголовки image_tag_1 image_tag_2  \\\n",
              "0         \\n\\nСоболезнование в связи с утратой Миры.        пара       эльфы   \n",
              "1  Приветствие от отца: почему ты не пишешь и не ...     самолет     игрушка   \n",
              "2       Благодарственное письмо за высланные деньги.        арфа         NaN   \n",
              "3                     Праздничный привет в карантине      дворец         NaN   \n",
              "4  \\n\\nПередача привета и сообщение о местонахожд...         сад       рынок   \n",
              "\n",
              "         image_tag_3        image_tag_4 image_tag_5  \n",
              "0  мужчина с бородой  мужчина с бородой   священник  \n",
              "1               дети                NaN         NaN  \n",
              "2                NaN                NaN         NaN  \n",
              "3                NaN                NaN         NaN  \n",
              "4            площадь                NaN         NaN  \n",
              "\n",
              "[5 rows x 66 columns]"
            ],
            "text/html": [
              "\n",
              "  <div id=\"df-ee12b1e1-949b-46c5-b9a0-45dc32174644\">\n",
              "    <div class=\"colab-df-container\">\n",
              "      <div>\n",
              "<style scoped>\n",
              "    .dataframe tbody tr th:only-of-type {\n",
              "        vertical-align: middle;\n",
              "    }\n",
              "\n",
              "    .dataframe tbody tr th {\n",
              "        vertical-align: top;\n",
              "    }\n",
              "\n",
              "    .dataframe thead th {\n",
              "        text-align: right;\n",
              "    }\n",
              "</style>\n",
              "<table border=\"1\" class=\"dataframe\">\n",
              "  <thead>\n",
              "    <tr style=\"text-align: right;\">\n",
              "      <th></th>\n",
              "      <th>Номер открытки</th>\n",
              "      <th>Pic_url_1</th>\n",
              "      <th>Pic_url_2</th>\n",
              "      <th>Разрешение на публикацию</th>\n",
              "      <th>Источник</th>\n",
              "      <th>Была ли открытка отправлена по почте</th>\n",
              "      <th>Название коллекции (если вы хотите подпись на сайте). Например, личная коллекция Василия Иванова.</th>\n",
              "      <th>Комментарий или метаинформация. Укажите тут любую метаинформацию про открытку, которую считаете важной. Например, какое-то знание или история, которую нельзя восстановить по тексту открытки.</th>\n",
              "      <th>Заливщик</th>\n",
              "      <th>Разметчик</th>\n",
              "      <th>...</th>\n",
              "      <th>Дата заливки</th>\n",
              "      <th>Оценка</th>\n",
              "      <th>Resize_url_1</th>\n",
              "      <th>Resize_url_2</th>\n",
              "      <th>Сгенерированные заголовки</th>\n",
              "      <th>image_tag_1</th>\n",
              "      <th>image_tag_2</th>\n",
              "      <th>image_tag_3</th>\n",
              "      <th>image_tag_4</th>\n",
              "      <th>image_tag_5</th>\n",
              "    </tr>\n",
              "  </thead>\n",
              "  <tbody>\n",
              "    <tr>\n",
              "      <th>0</th>\n",
              "      <td>205028</td>\n",
              "      <td>https://storage.yandexcloud.net/postcards-open...</td>\n",
              "      <td>https://storage.yandexcloud.net/postcards-open...</td>\n",
              "      <td>Разрешаю публикацию</td>\n",
              "      <td>Найдено в интернете</td>\n",
              "      <td>NaN</td>\n",
              "      <td>NaN</td>\n",
              "      <td>NaN</td>\n",
              "      <td>NaN</td>\n",
              "      <td>Анна Макарова</td>\n",
              "      <td>...</td>\n",
              "      <td>NaN</td>\n",
              "      <td>0</td>\n",
              "      <td>https://storage.yandexcloud.net/postcards-resi...</td>\n",
              "      <td>https://storage.yandexcloud.net/postcards-resi...</td>\n",
              "      <td>\\n\\nСоболезнование в связи с утратой Миры.</td>\n",
              "      <td>пара</td>\n",
              "      <td>эльфы</td>\n",
              "      <td>мужчина с бородой</td>\n",
              "      <td>мужчина с бородой</td>\n",
              "      <td>священник</td>\n",
              "    </tr>\n",
              "    <tr>\n",
              "      <th>1</th>\n",
              "      <td>205096</td>\n",
              "      <td>https://storage.yandexcloud.net/postcards-open...</td>\n",
              "      <td>https://storage.yandexcloud.net/postcards-open...</td>\n",
              "      <td>Разрешаю публикацию</td>\n",
              "      <td>Найдено в интернете</td>\n",
              "      <td>NaN</td>\n",
              "      <td>NaN</td>\n",
              "      <td>NaN</td>\n",
              "      <td>NaN</td>\n",
              "      <td>Анна Макарова</td>\n",
              "      <td>...</td>\n",
              "      <td>NaN</td>\n",
              "      <td>0</td>\n",
              "      <td>https://storage.yandexcloud.net/postcards-resi...</td>\n",
              "      <td>https://storage.yandexcloud.net/postcards-resi...</td>\n",
              "      <td>Приветствие от отца: почему ты не пишешь и не ...</td>\n",
              "      <td>самолет</td>\n",
              "      <td>игрушка</td>\n",
              "      <td>дети</td>\n",
              "      <td>NaN</td>\n",
              "      <td>NaN</td>\n",
              "    </tr>\n",
              "    <tr>\n",
              "      <th>2</th>\n",
              "      <td>204980</td>\n",
              "      <td>https://storage.yandexcloud.net/postcards-open...</td>\n",
              "      <td>https://storage.yandexcloud.net/postcards-open...</td>\n",
              "      <td>Разрешаю публикацию</td>\n",
              "      <td>Найдено в интернете</td>\n",
              "      <td>NaN</td>\n",
              "      <td>NaN</td>\n",
              "      <td>NaN</td>\n",
              "      <td>NaN</td>\n",
              "      <td>Бачинина Яна (ЯП4, 09-10.22)</td>\n",
              "      <td>...</td>\n",
              "      <td>NaN</td>\n",
              "      <td>5</td>\n",
              "      <td>https://storage.yandexcloud.net/postcards-resi...</td>\n",
              "      <td>https://storage.yandexcloud.net/postcards-resi...</td>\n",
              "      <td>Благодарственное письмо за высланные деньги.</td>\n",
              "      <td>арфа</td>\n",
              "      <td>NaN</td>\n",
              "      <td>NaN</td>\n",
              "      <td>NaN</td>\n",
              "      <td>NaN</td>\n",
              "    </tr>\n",
              "    <tr>\n",
              "      <th>3</th>\n",
              "      <td>205038</td>\n",
              "      <td>https://storage.yandexcloud.net/postcards-open...</td>\n",
              "      <td>https://storage.yandexcloud.net/postcards-open...</td>\n",
              "      <td>Разрешаю публикацию</td>\n",
              "      <td>Найдено в интернете</td>\n",
              "      <td>NaN</td>\n",
              "      <td>NaN</td>\n",
              "      <td>NaN</td>\n",
              "      <td>NaN</td>\n",
              "      <td>Бачинина Яна (ЯП4, 09-10.22)</td>\n",
              "      <td>...</td>\n",
              "      <td>NaN</td>\n",
              "      <td>4</td>\n",
              "      <td>https://storage.yandexcloud.net/postcards-resi...</td>\n",
              "      <td>https://storage.yandexcloud.net/postcards-resi...</td>\n",
              "      <td>Праздничный привет в карантине</td>\n",
              "      <td>дворец</td>\n",
              "      <td>NaN</td>\n",
              "      <td>NaN</td>\n",
              "      <td>NaN</td>\n",
              "      <td>NaN</td>\n",
              "    </tr>\n",
              "    <tr>\n",
              "      <th>4</th>\n",
              "      <td>205073</td>\n",
              "      <td>https://storage.yandexcloud.net/postcards-open...</td>\n",
              "      <td>https://storage.yandexcloud.net/postcards-open...</td>\n",
              "      <td>Разрешаю публикацию</td>\n",
              "      <td>Найдено в интернете</td>\n",
              "      <td>NaN</td>\n",
              "      <td>NaN</td>\n",
              "      <td>NaN</td>\n",
              "      <td>NaN</td>\n",
              "      <td>Бенедиктова Полина (ЯП4, 09-10.22)</td>\n",
              "      <td>...</td>\n",
              "      <td>NaN</td>\n",
              "      <td>4</td>\n",
              "      <td>https://storage.yandexcloud.net/postcards-resi...</td>\n",
              "      <td>https://storage.yandexcloud.net/postcards-resi...</td>\n",
              "      <td>\\n\\nПередача привета и сообщение о местонахожд...</td>\n",
              "      <td>сад</td>\n",
              "      <td>рынок</td>\n",
              "      <td>площадь</td>\n",
              "      <td>NaN</td>\n",
              "      <td>NaN</td>\n",
              "    </tr>\n",
              "  </tbody>\n",
              "</table>\n",
              "<p>5 rows × 66 columns</p>\n",
              "</div>\n",
              "      <button class=\"colab-df-convert\" onclick=\"convertToInteractive('df-ee12b1e1-949b-46c5-b9a0-45dc32174644')\"\n",
              "              title=\"Convert this dataframe to an interactive table.\"\n",
              "              style=\"display:none;\">\n",
              "        \n",
              "  <svg xmlns=\"http://www.w3.org/2000/svg\" height=\"24px\"viewBox=\"0 0 24 24\"\n",
              "       width=\"24px\">\n",
              "    <path d=\"M0 0h24v24H0V0z\" fill=\"none\"/>\n",
              "    <path d=\"M18.56 5.44l.94 2.06.94-2.06 2.06-.94-2.06-.94-.94-2.06-.94 2.06-2.06.94zm-11 1L8.5 8.5l.94-2.06 2.06-.94-2.06-.94L8.5 2.5l-.94 2.06-2.06.94zm10 10l.94 2.06.94-2.06 2.06-.94-2.06-.94-.94-2.06-.94 2.06-2.06.94z\"/><path d=\"M17.41 7.96l-1.37-1.37c-.4-.4-.92-.59-1.43-.59-.52 0-1.04.2-1.43.59L10.3 9.45l-7.72 7.72c-.78.78-.78 2.05 0 2.83L4 21.41c.39.39.9.59 1.41.59.51 0 1.02-.2 1.41-.59l7.78-7.78 2.81-2.81c.8-.78.8-2.07 0-2.86zM5.41 20L4 18.59l7.72-7.72 1.47 1.35L5.41 20z\"/>\n",
              "  </svg>\n",
              "      </button>\n",
              "      \n",
              "  <style>\n",
              "    .colab-df-container {\n",
              "      display:flex;\n",
              "      flex-wrap:wrap;\n",
              "      gap: 12px;\n",
              "    }\n",
              "\n",
              "    .colab-df-convert {\n",
              "      background-color: #E8F0FE;\n",
              "      border: none;\n",
              "      border-radius: 50%;\n",
              "      cursor: pointer;\n",
              "      display: none;\n",
              "      fill: #1967D2;\n",
              "      height: 32px;\n",
              "      padding: 0 0 0 0;\n",
              "      width: 32px;\n",
              "    }\n",
              "\n",
              "    .colab-df-convert:hover {\n",
              "      background-color: #E2EBFA;\n",
              "      box-shadow: 0px 1px 2px rgba(60, 64, 67, 0.3), 0px 1px 3px 1px rgba(60, 64, 67, 0.15);\n",
              "      fill: #174EA6;\n",
              "    }\n",
              "\n",
              "    [theme=dark] .colab-df-convert {\n",
              "      background-color: #3B4455;\n",
              "      fill: #D2E3FC;\n",
              "    }\n",
              "\n",
              "    [theme=dark] .colab-df-convert:hover {\n",
              "      background-color: #434B5C;\n",
              "      box-shadow: 0px 1px 3px 1px rgba(0, 0, 0, 0.15);\n",
              "      filter: drop-shadow(0px 1px 2px rgba(0, 0, 0, 0.3));\n",
              "      fill: #FFFFFF;\n",
              "    }\n",
              "  </style>\n",
              "\n",
              "      <script>\n",
              "        const buttonEl =\n",
              "          document.querySelector('#df-ee12b1e1-949b-46c5-b9a0-45dc32174644 button.colab-df-convert');\n",
              "        buttonEl.style.display =\n",
              "          google.colab.kernel.accessAllowed ? 'block' : 'none';\n",
              "\n",
              "        async function convertToInteractive(key) {\n",
              "          const element = document.querySelector('#df-ee12b1e1-949b-46c5-b9a0-45dc32174644');\n",
              "          const dataTable =\n",
              "            await google.colab.kernel.invokeFunction('convertToInteractive',\n",
              "                                                     [key], {});\n",
              "          if (!dataTable) return;\n",
              "\n",
              "          const docLinkHtml = 'Like what you see? Visit the ' +\n",
              "            '<a target=\"_blank\" href=https://colab.research.google.com/notebooks/data_table.ipynb>data table notebook</a>'\n",
              "            + ' to learn more about interactive tables.';\n",
              "          element.innerHTML = '';\n",
              "          dataTable['output_type'] = 'display_data';\n",
              "          await google.colab.output.renderOutput(dataTable, element);\n",
              "          const docLink = document.createElement('div');\n",
              "          docLink.innerHTML = docLinkHtml;\n",
              "          element.appendChild(docLink);\n",
              "        }\n",
              "      </script>\n",
              "    </div>\n",
              "  </div>\n",
              "  "
            ]
          },
          "metadata": {},
          "execution_count": 7
        }
      ]
    },
    {
      "cell_type": "code",
      "source": [
        "base_3.shape"
      ],
      "metadata": {
        "colab": {
          "base_uri": "https://localhost:8080/"
        },
        "id": "D60kWjioT62V",
        "outputId": "b8c9c1bc-8080-45f6-db32-0ab675a8ef99"
      },
      "execution_count": 8,
      "outputs": [
        {
          "output_type": "execute_result",
          "data": {
            "text/plain": [
              "(10453, 66)"
            ]
          },
          "metadata": {},
          "execution_count": 8
        }
      ]
    },
    {
      "cell_type": "markdown",
      "source": [
        "## База 4"
      ],
      "metadata": {
        "id": "0OFtqxac6_R6"
      }
    },
    {
      "cell_type": "code",
      "source": [
        "base_4 = pd.ExcelFile('/content/drive/MyDrive/Системный Блок/пишу тебе/открытки базы/Расшифровка открыток 4 (ярмарка проектов).xlsx')\n",
        "base_4 = pd.read_excel(base_4, 'Открытки')\n",
        "base_4 = base_4[~base_4['Номер открытки'].isna()]\n",
        "base_4['Номер открытки'] = base_4['Номер открытки'].astype(int)\n",
        "base_4 = base_4[~(((base_4['Pic_url_1'].isna()) | (base_4['Pic_url_1'] == 0.0)) &\n",
        "                ((base_4['Pic_url_2'].isna()) | (base_4['Pic_url_2'] == 0.0)))\n",
        "                ]\n",
        "base_4.head()"
      ],
      "metadata": {
        "id": "Lwva781f7Cnf",
        "colab": {
          "base_uri": "https://localhost:8080/",
          "height": 768
        },
        "outputId": "c446433f-e322-478c-859a-e3ff6788a877"
      },
      "execution_count": 9,
      "outputs": [
        {
          "output_type": "execute_result",
          "data": {
            "text/plain": [
              "   Номер открытки                                          Pic_url_1  \\\n",
              "2          215837  https://storage.yandexcloud.net/postcards-open...   \n",
              "3          215467  https://storage.yandexcloud.net/postcards-open...   \n",
              "4          215518  https://storage.yandexcloud.net/postcards-open...   \n",
              "5          215600  https://storage.yandexcloud.net/postcards-open...   \n",
              "6          215678  https://storage.yandexcloud.net/postcards-open...   \n",
              "\n",
              "                                           Pic_url_2 Разрешение на публикацию  \\\n",
              "2  https://storage.yandexcloud.net/postcards-open...      Разрешаю публикацию   \n",
              "3  https://storage.yandexcloud.net/postcards-open...      Разрешаю публикацию   \n",
              "4  https://storage.yandexcloud.net/postcards-open...      Разрешаю публикацию   \n",
              "5  https://storage.yandexcloud.net/postcards-open...      Разрешаю публикацию   \n",
              "6  https://storage.yandexcloud.net/postcards-open...      Разрешаю публикацию   \n",
              "\n",
              "              Источник Была ли открытка отправлена по почте  \\\n",
              "2  Найдено в интернете                                  NaN   \n",
              "3  Найдено в интернете                                  NaN   \n",
              "4  Найдено в интернете                                  NaN   \n",
              "5  Найдено в интернете                                  NaN   \n",
              "6  Найдено в интернете                                  NaN   \n",
              "\n",
              "  Название коллекции (если вы хотите подпись на сайте). Например, личная коллекция Василия Иванова.  \\\n",
              "2                                                NaN                                                  \n",
              "3                                                NaN                                                  \n",
              "4                                                NaN                                                  \n",
              "5                                                NaN                                                  \n",
              "6                                                NaN                                                  \n",
              "\n",
              "   Комментарий или метаинформация. Укажите тут любую метаинформацию про открытку, которую считаете важной. Например, какое-то знание или история, которую нельзя восстановить по тексту открытки.  \\\n",
              "2                                                NaN                                                                                                                                                \n",
              "3                                                NaN                                                                                                                                                \n",
              "4                                                NaN                                                                                                                                                \n",
              "5                                                NaN                                                                                                                                                \n",
              "6                                                NaN                                                                                                                                                \n",
              "\n",
              "   Заливщик                 Разметчик  ... Дата заливки Оценка  \\\n",
              "2       NaN       Абатуров Иван (ЯП5)  ...          NaN    5.0   \n",
              "3       NaN  Абузярова Вероника (ЯП5)  ...          NaN    5.0   \n",
              "4       NaN  Абузярова Вероника (ЯП5)  ...          NaN    5.0   \n",
              "5       NaN       Абатуров Иван (ЯП5)  ...          NaN    5.0   \n",
              "6       NaN  Абузярова Вероника (ЯП5)  ...          NaN    4.0   \n",
              "\n",
              "                                        Resize_url_1  \\\n",
              "2  https://storage.yandexcloud.net/postcards-resi...   \n",
              "3  https://storage.yandexcloud.net/postcards-resi...   \n",
              "4  https://storage.yandexcloud.net/postcards-resi...   \n",
              "5  https://storage.yandexcloud.net/postcards-resi...   \n",
              "6  https://storage.yandexcloud.net/postcards-resi...   \n",
              "\n",
              "                                        Resize_url_2  \\\n",
              "2  https://storage.yandexcloud.net/postcards-resi...   \n",
              "3  https://storage.yandexcloud.net/postcards-resi...   \n",
              "4  https://storage.yandexcloud.net/postcards-resi...   \n",
              "5  https://storage.yandexcloud.net/postcards-resi...   \n",
              "6  https://storage.yandexcloud.net/postcards-resi...   \n",
              "\n",
              "                           Сгенерированные заголовки        image_tag_1  \\\n",
              "2  Отчет о новом месте службы и путешествии: прив...            церковь   \n",
              "3         Письмо о своих последних событиях в жизни.  человек на лошади   \n",
              "4                             Поздравление с Пасхой.            площадь   \n",
              "5                       Поздравление с Днем 8 Марта!               куры   \n",
              "6       Поздравление с днем Ангела и тезоименитства.             дворец   \n",
              "\n",
              "  image_tag_2 image_tag_3 image_tag_4 image_tag_5  \n",
              "2       собор         NaN         NaN         NaN  \n",
              "3      статуя         NaN         NaN         NaN  \n",
              "4       текст   почтальон         NaN         NaN  \n",
              "5       текст       петух    животные         NaN  \n",
              "6     площадь        парк         NaN         NaN  \n",
              "\n",
              "[5 rows x 66 columns]"
            ],
            "text/html": [
              "\n",
              "  <div id=\"df-1e80f779-3c28-444e-af63-618745d2cc51\">\n",
              "    <div class=\"colab-df-container\">\n",
              "      <div>\n",
              "<style scoped>\n",
              "    .dataframe tbody tr th:only-of-type {\n",
              "        vertical-align: middle;\n",
              "    }\n",
              "\n",
              "    .dataframe tbody tr th {\n",
              "        vertical-align: top;\n",
              "    }\n",
              "\n",
              "    .dataframe thead th {\n",
              "        text-align: right;\n",
              "    }\n",
              "</style>\n",
              "<table border=\"1\" class=\"dataframe\">\n",
              "  <thead>\n",
              "    <tr style=\"text-align: right;\">\n",
              "      <th></th>\n",
              "      <th>Номер открытки</th>\n",
              "      <th>Pic_url_1</th>\n",
              "      <th>Pic_url_2</th>\n",
              "      <th>Разрешение на публикацию</th>\n",
              "      <th>Источник</th>\n",
              "      <th>Была ли открытка отправлена по почте</th>\n",
              "      <th>Название коллекции (если вы хотите подпись на сайте). Например, личная коллекция Василия Иванова.</th>\n",
              "      <th>Комментарий или метаинформация. Укажите тут любую метаинформацию про открытку, которую считаете важной. Например, какое-то знание или история, которую нельзя восстановить по тексту открытки.</th>\n",
              "      <th>Заливщик</th>\n",
              "      <th>Разметчик</th>\n",
              "      <th>...</th>\n",
              "      <th>Дата заливки</th>\n",
              "      <th>Оценка</th>\n",
              "      <th>Resize_url_1</th>\n",
              "      <th>Resize_url_2</th>\n",
              "      <th>Сгенерированные заголовки</th>\n",
              "      <th>image_tag_1</th>\n",
              "      <th>image_tag_2</th>\n",
              "      <th>image_tag_3</th>\n",
              "      <th>image_tag_4</th>\n",
              "      <th>image_tag_5</th>\n",
              "    </tr>\n",
              "  </thead>\n",
              "  <tbody>\n",
              "    <tr>\n",
              "      <th>2</th>\n",
              "      <td>215837</td>\n",
              "      <td>https://storage.yandexcloud.net/postcards-open...</td>\n",
              "      <td>https://storage.yandexcloud.net/postcards-open...</td>\n",
              "      <td>Разрешаю публикацию</td>\n",
              "      <td>Найдено в интернете</td>\n",
              "      <td>NaN</td>\n",
              "      <td>NaN</td>\n",
              "      <td>NaN</td>\n",
              "      <td>NaN</td>\n",
              "      <td>Абатуров Иван (ЯП5)</td>\n",
              "      <td>...</td>\n",
              "      <td>NaN</td>\n",
              "      <td>5.0</td>\n",
              "      <td>https://storage.yandexcloud.net/postcards-resi...</td>\n",
              "      <td>https://storage.yandexcloud.net/postcards-resi...</td>\n",
              "      <td>Отчет о новом месте службы и путешествии: прив...</td>\n",
              "      <td>церковь</td>\n",
              "      <td>собор</td>\n",
              "      <td>NaN</td>\n",
              "      <td>NaN</td>\n",
              "      <td>NaN</td>\n",
              "    </tr>\n",
              "    <tr>\n",
              "      <th>3</th>\n",
              "      <td>215467</td>\n",
              "      <td>https://storage.yandexcloud.net/postcards-open...</td>\n",
              "      <td>https://storage.yandexcloud.net/postcards-open...</td>\n",
              "      <td>Разрешаю публикацию</td>\n",
              "      <td>Найдено в интернете</td>\n",
              "      <td>NaN</td>\n",
              "      <td>NaN</td>\n",
              "      <td>NaN</td>\n",
              "      <td>NaN</td>\n",
              "      <td>Абузярова Вероника (ЯП5)</td>\n",
              "      <td>...</td>\n",
              "      <td>NaN</td>\n",
              "      <td>5.0</td>\n",
              "      <td>https://storage.yandexcloud.net/postcards-resi...</td>\n",
              "      <td>https://storage.yandexcloud.net/postcards-resi...</td>\n",
              "      <td>Письмо о своих последних событиях в жизни.</td>\n",
              "      <td>человек на лошади</td>\n",
              "      <td>статуя</td>\n",
              "      <td>NaN</td>\n",
              "      <td>NaN</td>\n",
              "      <td>NaN</td>\n",
              "    </tr>\n",
              "    <tr>\n",
              "      <th>4</th>\n",
              "      <td>215518</td>\n",
              "      <td>https://storage.yandexcloud.net/postcards-open...</td>\n",
              "      <td>https://storage.yandexcloud.net/postcards-open...</td>\n",
              "      <td>Разрешаю публикацию</td>\n",
              "      <td>Найдено в интернете</td>\n",
              "      <td>NaN</td>\n",
              "      <td>NaN</td>\n",
              "      <td>NaN</td>\n",
              "      <td>NaN</td>\n",
              "      <td>Абузярова Вероника (ЯП5)</td>\n",
              "      <td>...</td>\n",
              "      <td>NaN</td>\n",
              "      <td>5.0</td>\n",
              "      <td>https://storage.yandexcloud.net/postcards-resi...</td>\n",
              "      <td>https://storage.yandexcloud.net/postcards-resi...</td>\n",
              "      <td>Поздравление с Пасхой.</td>\n",
              "      <td>площадь</td>\n",
              "      <td>текст</td>\n",
              "      <td>почтальон</td>\n",
              "      <td>NaN</td>\n",
              "      <td>NaN</td>\n",
              "    </tr>\n",
              "    <tr>\n",
              "      <th>5</th>\n",
              "      <td>215600</td>\n",
              "      <td>https://storage.yandexcloud.net/postcards-open...</td>\n",
              "      <td>https://storage.yandexcloud.net/postcards-open...</td>\n",
              "      <td>Разрешаю публикацию</td>\n",
              "      <td>Найдено в интернете</td>\n",
              "      <td>NaN</td>\n",
              "      <td>NaN</td>\n",
              "      <td>NaN</td>\n",
              "      <td>NaN</td>\n",
              "      <td>Абатуров Иван (ЯП5)</td>\n",
              "      <td>...</td>\n",
              "      <td>NaN</td>\n",
              "      <td>5.0</td>\n",
              "      <td>https://storage.yandexcloud.net/postcards-resi...</td>\n",
              "      <td>https://storage.yandexcloud.net/postcards-resi...</td>\n",
              "      <td>Поздравление с Днем 8 Марта!</td>\n",
              "      <td>куры</td>\n",
              "      <td>текст</td>\n",
              "      <td>петух</td>\n",
              "      <td>животные</td>\n",
              "      <td>NaN</td>\n",
              "    </tr>\n",
              "    <tr>\n",
              "      <th>6</th>\n",
              "      <td>215678</td>\n",
              "      <td>https://storage.yandexcloud.net/postcards-open...</td>\n",
              "      <td>https://storage.yandexcloud.net/postcards-open...</td>\n",
              "      <td>Разрешаю публикацию</td>\n",
              "      <td>Найдено в интернете</td>\n",
              "      <td>NaN</td>\n",
              "      <td>NaN</td>\n",
              "      <td>NaN</td>\n",
              "      <td>NaN</td>\n",
              "      <td>Абузярова Вероника (ЯП5)</td>\n",
              "      <td>...</td>\n",
              "      <td>NaN</td>\n",
              "      <td>4.0</td>\n",
              "      <td>https://storage.yandexcloud.net/postcards-resi...</td>\n",
              "      <td>https://storage.yandexcloud.net/postcards-resi...</td>\n",
              "      <td>Поздравление с днем Ангела и тезоименитства.</td>\n",
              "      <td>дворец</td>\n",
              "      <td>площадь</td>\n",
              "      <td>парк</td>\n",
              "      <td>NaN</td>\n",
              "      <td>NaN</td>\n",
              "    </tr>\n",
              "  </tbody>\n",
              "</table>\n",
              "<p>5 rows × 66 columns</p>\n",
              "</div>\n",
              "      <button class=\"colab-df-convert\" onclick=\"convertToInteractive('df-1e80f779-3c28-444e-af63-618745d2cc51')\"\n",
              "              title=\"Convert this dataframe to an interactive table.\"\n",
              "              style=\"display:none;\">\n",
              "        \n",
              "  <svg xmlns=\"http://www.w3.org/2000/svg\" height=\"24px\"viewBox=\"0 0 24 24\"\n",
              "       width=\"24px\">\n",
              "    <path d=\"M0 0h24v24H0V0z\" fill=\"none\"/>\n",
              "    <path d=\"M18.56 5.44l.94 2.06.94-2.06 2.06-.94-2.06-.94-.94-2.06-.94 2.06-2.06.94zm-11 1L8.5 8.5l.94-2.06 2.06-.94-2.06-.94L8.5 2.5l-.94 2.06-2.06.94zm10 10l.94 2.06.94-2.06 2.06-.94-2.06-.94-.94-2.06-.94 2.06-2.06.94z\"/><path d=\"M17.41 7.96l-1.37-1.37c-.4-.4-.92-.59-1.43-.59-.52 0-1.04.2-1.43.59L10.3 9.45l-7.72 7.72c-.78.78-.78 2.05 0 2.83L4 21.41c.39.39.9.59 1.41.59.51 0 1.02-.2 1.41-.59l7.78-7.78 2.81-2.81c.8-.78.8-2.07 0-2.86zM5.41 20L4 18.59l7.72-7.72 1.47 1.35L5.41 20z\"/>\n",
              "  </svg>\n",
              "      </button>\n",
              "      \n",
              "  <style>\n",
              "    .colab-df-container {\n",
              "      display:flex;\n",
              "      flex-wrap:wrap;\n",
              "      gap: 12px;\n",
              "    }\n",
              "\n",
              "    .colab-df-convert {\n",
              "      background-color: #E8F0FE;\n",
              "      border: none;\n",
              "      border-radius: 50%;\n",
              "      cursor: pointer;\n",
              "      display: none;\n",
              "      fill: #1967D2;\n",
              "      height: 32px;\n",
              "      padding: 0 0 0 0;\n",
              "      width: 32px;\n",
              "    }\n",
              "\n",
              "    .colab-df-convert:hover {\n",
              "      background-color: #E2EBFA;\n",
              "      box-shadow: 0px 1px 2px rgba(60, 64, 67, 0.3), 0px 1px 3px 1px rgba(60, 64, 67, 0.15);\n",
              "      fill: #174EA6;\n",
              "    }\n",
              "\n",
              "    [theme=dark] .colab-df-convert {\n",
              "      background-color: #3B4455;\n",
              "      fill: #D2E3FC;\n",
              "    }\n",
              "\n",
              "    [theme=dark] .colab-df-convert:hover {\n",
              "      background-color: #434B5C;\n",
              "      box-shadow: 0px 1px 3px 1px rgba(0, 0, 0, 0.15);\n",
              "      filter: drop-shadow(0px 1px 2px rgba(0, 0, 0, 0.3));\n",
              "      fill: #FFFFFF;\n",
              "    }\n",
              "  </style>\n",
              "\n",
              "      <script>\n",
              "        const buttonEl =\n",
              "          document.querySelector('#df-1e80f779-3c28-444e-af63-618745d2cc51 button.colab-df-convert');\n",
              "        buttonEl.style.display =\n",
              "          google.colab.kernel.accessAllowed ? 'block' : 'none';\n",
              "\n",
              "        async function convertToInteractive(key) {\n",
              "          const element = document.querySelector('#df-1e80f779-3c28-444e-af63-618745d2cc51');\n",
              "          const dataTable =\n",
              "            await google.colab.kernel.invokeFunction('convertToInteractive',\n",
              "                                                     [key], {});\n",
              "          if (!dataTable) return;\n",
              "\n",
              "          const docLinkHtml = 'Like what you see? Visit the ' +\n",
              "            '<a target=\"_blank\" href=https://colab.research.google.com/notebooks/data_table.ipynb>data table notebook</a>'\n",
              "            + ' to learn more about interactive tables.';\n",
              "          element.innerHTML = '';\n",
              "          dataTable['output_type'] = 'display_data';\n",
              "          await google.colab.output.renderOutput(dataTable, element);\n",
              "          const docLink = document.createElement('div');\n",
              "          docLink.innerHTML = docLinkHtml;\n",
              "          element.appendChild(docLink);\n",
              "        }\n",
              "      </script>\n",
              "    </div>\n",
              "  </div>\n",
              "  "
            ]
          },
          "metadata": {},
          "execution_count": 9
        }
      ]
    },
    {
      "cell_type": "code",
      "source": [
        "base_4.shape"
      ],
      "metadata": {
        "colab": {
          "base_uri": "https://localhost:8080/"
        },
        "outputId": "33baa765-8674-40a5-d90a-9cc3a170b941",
        "id": "Qcq0766F7Cnh"
      },
      "execution_count": 10,
      "outputs": [
        {
          "output_type": "execute_result",
          "data": {
            "text/plain": [
              "(9381, 66)"
            ]
          },
          "metadata": {},
          "execution_count": 10
        }
      ]
    },
    {
      "cell_type": "markdown",
      "source": [
        "## Объединяем базы"
      ],
      "metadata": {
        "id": "7uWvqj98VkvN"
      }
    },
    {
      "cell_type": "code",
      "source": [
        "base_1['base'] = 1\n",
        "base_2['base'] = 2\n",
        "base_3['base'] = 3\n",
        "base_4['base'] = 4"
      ],
      "metadata": {
        "id": "trstgNbaVtuW"
      },
      "execution_count": 11,
      "outputs": []
    },
    {
      "cell_type": "code",
      "source": [
        "df = pd.concat([base_1, base_2, base_3, base_4])\n",
        "df.shape"
      ],
      "metadata": {
        "id": "cfHBmrpuUQja",
        "colab": {
          "base_uri": "https://localhost:8080/"
        },
        "outputId": "566c8f89-8f1a-4130-9efa-8c43f498523e"
      },
      "execution_count": 12,
      "outputs": [
        {
          "output_type": "execute_result",
          "data": {
            "text/plain": [
              "(30839, 67)"
            ]
          },
          "metadata": {},
          "execution_count": 12
        }
      ]
    },
    {
      "cell_type": "code",
      "source": [
        "df['base'].value_counts()"
      ],
      "metadata": {
        "colab": {
          "base_uri": "https://localhost:8080/"
        },
        "id": "im3_kOIEVqI7",
        "outputId": "8c625141-37cd-41c6-8531-13e56ddeb7dc"
      },
      "execution_count": 13,
      "outputs": [
        {
          "output_type": "execute_result",
          "data": {
            "text/plain": [
              "3    10453\n",
              "4     9381\n",
              "1     6037\n",
              "2     4968\n",
              "Name: base, dtype: int64"
            ]
          },
          "metadata": {},
          "execution_count": 13
        }
      ]
    },
    {
      "cell_type": "markdown",
      "source": [
        "# Фильтрация\n",
        "Оставляем открытки, которые проходят фильтры"
      ],
      "metadata": {
        "id": "YxE0qTQcUGxX"
      }
    },
    {
      "cell_type": "code",
      "source": [
        "df = df[\n",
        "    (df['Разрешение на публикацию'] == 'Разрешаю публикацию') &\n",
        "    (df['Статус (распределено, в процессе, завершено, проблема)'] == 'Проверено') &\n",
        "    (df['Проблема'] == 'Отсутствует') &\n",
        "    (~df['Resize_url_1'].isna()) & (~df['Resize_url_2'].isna())\n",
        "]\n",
        "df.shape"
      ],
      "metadata": {
        "colab": {
          "base_uri": "https://localhost:8080/"
        },
        "id": "4QpShn3wV4Dg",
        "outputId": "ef973604-6717-4ebf-fcb9-3edc457d9a82"
      },
      "execution_count": 14,
      "outputs": [
        {
          "output_type": "execute_result",
          "data": {
            "text/plain": [
              "(17728, 67)"
            ]
          },
          "metadata": {},
          "execution_count": 14
        }
      ]
    },
    {
      "cell_type": "markdown",
      "source": [
        "Оставляем только нужные столбцы"
      ],
      "metadata": {
        "id": "Ebw57tFPK8u9"
      }
    },
    {
      "cell_type": "code",
      "source": [
        "df = df[[\n",
        "    'Номер открытки',  # синяя секция (базовая)\n",
        "    'Pic_url_1',\n",
        "    'Pic_url_2',\n",
        "    'Resize_url_1',\n",
        "    'Resize_url_2',\n",
        "\n",
        "    'Язык текста открытки',\t # зеленая секция (расшифровка)\n",
        "    'Текст открытки',\t\n",
        "    'Перевод текста открытки (если на иностранном языке)',\t\n",
        "    'Вид орфографии',\t\n",
        "    'Дата написания текста (если автор указал явно, не штемпели)',\n",
        "    'Адрес отправителя',\n",
        "    'Имя отправителя',\t\n",
        "    'Адрес получателя',\t\n",
        "    'Индекс получателя',\t\n",
        "    'Имя получателя',\t\n",
        "    'Дата открытки со штемпеля (место отправления)',\n",
        "    'Дата открытки со штемпеля (место, куда открытка прибыла)',\t\n",
        "    'Тип изображения (фотография, картина, другое)',\n",
        "    'Описание изображения. Обычно приводится на задней стороне или лицевой. Там обычно указывается, что изображено на открытке, автор, год фотографии/картины',\n",
        "    'Дата печати открытки',\t\n",
        "    'Описание открытки. Например, это может быть издательство, цена открытки и прочая интересная метаинформация',\t\n",
        "    'Доп. сведения о получателе (например, титул, \"дядя\", \"товарищ\")',\n",
        "    'Доп. сведения об отправителе (например, титул, \"твой дядя\", \"князь\")',\n",
        "\n",
        "    'Период (дореволюционный, советский, постсоветский)',\t # оранжевая секция (модерация)\n",
        "    'Страна (откуда)',\t\n",
        "    'Населенный пункт (откуда)',\n",
        "    'Страна (куда)',\t\n",
        "    'Населенный пункт (куда)',\n",
        "    'Тег_1',\t\n",
        "    'Тег_2',\n",
        "    'Тег_3',\t\n",
        "    'Тег_4',\t\n",
        "    'Тег_5',\t\n",
        "    'Тег_6',\t\n",
        "    'Тег_7'\n",
        "    ]]"
      ],
      "metadata": {
        "id": "Vv2KjTFPK7of"
      },
      "execution_count": 15,
      "outputs": []
    },
    {
      "cell_type": "markdown",
      "source": [
        "# Предобработка (валидация)"
      ],
      "metadata": {
        "id": "TnFH8KxeKvJE"
      }
    },
    {
      "cell_type": "code",
      "source": [
        "import re\n",
        "import numpy as np\n",
        "from datetime import datetime"
      ],
      "metadata": {
        "id": "GNl--pUmnii8"
      },
      "execution_count": 16,
      "outputs": []
    },
    {
      "cell_type": "code",
      "source": [
        "import warnings\n",
        "warnings.filterwarnings(\"ignore\")"
      ],
      "metadata": {
        "id": "hPO7ctj9aQUG"
      },
      "execution_count": 17,
      "outputs": []
    },
    {
      "cell_type": "code",
      "source": [
        "df_cols = list(df.columns)\n",
        "df_cols = [col for col in df_cols if col not in \n",
        "           ['Номер открытки', 'Pic_url_1', 'Pic_url_2', 'Resize_url_1', 'Resize_url_2']]"
      ],
      "metadata": {
        "id": "IfFP7eBLgn1a"
      },
      "execution_count": 18,
      "outputs": []
    },
    {
      "cell_type": "markdown",
      "source": [
        "## Подготовка\n",
        "* копируем исходное состояние столбцов \n",
        "* создаем столбцы для логирования ошибок"
      ],
      "metadata": {
        "id": "RpICy4yzvzxe"
      }
    },
    {
      "cell_type": "code",
      "source": [
        "for col in df_cols:\n",
        "  df[f'{col}_old'] = df[col]  # исходное значение\n",
        "  df[f'{col}_error'] = False  # была ли ошибка\n",
        "  df[f'{col}_fixed'] = True  # была ли ошибка исправлена"
      ],
      "metadata": {
        "id": "V8Mfl92RwKjp"
      },
      "execution_count": 19,
      "outputs": []
    },
    {
      "cell_type": "markdown",
      "source": [
        "## [отсутствует]\n",
        "* если текст/дата отсутствует, ставится [отсутствует] \n",
        "* [отсутствует] - только такое написание (без точки, опечаток, с маленькой буквы)\n"
      ],
      "metadata": {
        "id": "wEOcgZebN9Xv"
      }
    },
    {
      "cell_type": "code",
      "source": [
        "ots = '[отсутствует]'"
      ],
      "metadata": {
        "id": "ZodsANGzgKvv"
      },
      "execution_count": 20,
      "outputs": []
    },
    {
      "cell_type": "code",
      "source": [
        "ots_variations = [\n",
        " 'Отсутствует',\n",
        " '[ отсутствует]',\n",
        " '{отсутствует]',\n",
        " '[отсутвствует]',\n",
        " '[отсутсмтвует]',\n",
        " 'отсутсвует',\n",
        " 'отсутствует',\n",
        " '[отcутствует]',\n",
        " '[отсуствует]',\n",
        " '[отсутствует[',\n",
        " '[отсутствут]',\n",
        " '[отсутствует ]',\n",
        " '[отсустствует]',\n",
        " '[отсутствует',\n",
        " 'отсутствует',\n",
        " '[отсутствует}',\n",
        " '[отсутствуют]',\n",
        " '[отсутствует]',\n",
        " '[отстутсвует]',\n",
        " '[отсутсвует]',\n",
        " '[отсцутствует]',\n",
        " '[Отсутствует]',\n",
        " '[отсутстсвует]',\n",
        " '[отсутсвтует]',\n",
        " '[отстутствует]',\n",
        " '[отсутствтует]',\n",
        " '[отсутствие]',\n",
        " 'отсутсnвует',\n",
        " '[отсутсnвует]',\n",
        " '[? отсутствует]',\n",
        " '[отсутвтует]'\n",
        " ]"
      ],
      "metadata": {
        "id": "FaEbenBFibYh"
      },
      "execution_count": 21,
      "outputs": []
    },
    {
      "cell_type": "code",
      "source": [
        "def do_replace(s):\n",
        "  # если пусто, ставим [отсутствует]\n",
        "  if pd.isna(s):\n",
        "    return ots\n",
        "\n",
        "  # иначе приводим к строковому виду, обрезаем пробелы\n",
        "  s = str(s).lstrip().rstrip()\n",
        "\n",
        "  # если [отсутствует] написано с ошибкой, исправляем\n",
        "  if s == '' or s in ots_variations:\n",
        "    return ots\n",
        "\n",
        "  return s"
      ],
      "metadata": {
        "id": "l8t9Z6LU1NQ2"
      },
      "execution_count": 22,
      "outputs": []
    },
    {
      "cell_type": "markdown",
      "source": [
        "Обрабатываем все столбцы"
      ],
      "metadata": {
        "id": "jxINDz-J1vkw"
      }
    },
    {
      "cell_type": "code",
      "source": [
        "for col in df_cols:\n",
        "  df[col] = df[col].apply(do_replace)"
      ],
      "metadata": {
        "id": "Ik8sx_EU1psf"
      },
      "execution_count": 23,
      "outputs": []
    },
    {
      "cell_type": "markdown",
      "source": [
        "## [нрзб]"
      ],
      "metadata": {
        "id": "2k8V48vbXegH"
      }
    },
    {
      "cell_type": "markdown",
      "source": [
        "Смотрим, какие есть вариации написания нрзб"
      ],
      "metadata": {
        "id": "qBkPGtNLLSN3"
      }
    },
    {
      "cell_type": "code",
      "source": [
        "nrzb = '[нрзб]'"
      ],
      "metadata": {
        "id": "PaKq-ZkdLXZ7"
      },
      "execution_count": 24,
      "outputs": []
    },
    {
      "cell_type": "code",
      "source": [
        "for col in df.columns:\n",
        "  values = df[col].to_list()\n",
        "  for v in values:\n",
        "    if not isinstance(v, str):\n",
        "      continue\n",
        "    if nrzb not in v and 'нрзб' in v:\n",
        "      print(v)"
      ],
      "metadata": {
        "id": "LrFmziUTXmO0"
      },
      "execution_count": null,
      "outputs": []
    },
    {
      "cell_type": "markdown",
      "source": [
        "Составляем список"
      ],
      "metadata": {
        "id": "KetYkJouLX6m"
      }
    },
    {
      "cell_type": "code",
      "source": [
        "nrzb_variations = [\n",
        " '[нрзб.]',\n",
        " '[нрзб ]',\n",
        " '<нрзб>',\n",
        " '<нрзб.>',\n",
        " '[нрзбр]',\n",
        " '[нрзбр.]',\n",
        " '[нрзбр.,]',\n",
        " '<нрбр>',\n",
        " '[?нрзб]',\n",
        " '[нрзб[',\n",
        " '[]нрзб',\n",
        " '[ нрзб]',\n",
        " '[ нрзб.]',\n",
        " '[нрзб. ]',\n",
        " '{нрзб.}',\n",
        " '{нрзб}',\n",
        " '[ нрзб ]'\n",
        " ]\n",
        "\n",
        "nrzb_replacement_dict = {v: nrzb for v in nrzb_variations}\n",
        "\n",
        "nrzb_replacement_dict['нрзб] Б[...] Городская больница'] = '[нрзб] Б[...] Городская больница'\n",
        "nrzb_replacement_dict['Гор. Кострома Царевская улица, дом Леонтьева, кв. № 3 (В Казарме 183 нрзб)'] = \\\n",
        "  'Гор. Кострома Царевская улица, дом Леонтьева, кв. № 3 (В Казарме 183 [нрзб])'\n",
        "nrzb_replacement_dict['Мадемуазель Ольга нрзб'] = 'Мадемуазель Ольга [нрзб]'\n",
        "nrzb_replacement_dict[\n",
        "    'Доктор сказал, что мне полезно не только легкое чтение, но и какое-либо серьезное  нрзб.'\n",
        "    ] = 'Доктор сказал, что мне полезно не только легкое чтение, но и какое-либо серьезное [нрзб]'\n",
        "nrzb_replacement_dict['<u>нрзб]'] = '<u>[нрзб]'\n",
        "nrzb_replacement_dict['[<s>нрзб</s>]'] = '<s>[нрзб]</s>'\n",
        "\n",
        "# nrzb_variations += [\n",
        "# '[нрзб.?мечеть]',\n",
        "# '[нрзб. художник Г. Рожков?]',\n",
        "# '[нрзб - ва]',\n",
        "# '[Лит А - нрзб]',\n",
        "# '[нрзб.59].',\n",
        "# '[отсутствует*нрзб.]',\n",
        "# '[нрзб. *?г. Петербург]',\n",
        "# '[нрзб. подпись]',\n",
        "# '[нрзб.?фамилия] '\n",
        "# '[нрзб *Костя? *Коля?]',\n",
        "# '[срочно нрзб]',\n",
        "# '[П-нрзб]',\n",
        "# '[Евсе-нрзб]',\n",
        "# '[нрзб - ва]',\n",
        "# '[Лит А - нрзб]',\n",
        "# ]"
      ],
      "metadata": {
        "id": "CrTrfZg0XeIz"
      },
      "execution_count": 25,
      "outputs": []
    },
    {
      "cell_type": "markdown",
      "source": [
        "Убираем вариативность [нрзб] и логируем"
      ],
      "metadata": {
        "id": "GjP0IfQrbkdL"
      }
    },
    {
      "cell_type": "code",
      "source": [
        "def replace_log(row, col):\n",
        "  s = row[col]\n",
        "  err = row[f'{col}_error']\n",
        "  fix = row[f'{col}_fixed']\n",
        "\n",
        "  if not isinstance(s, str):\n",
        "    return s, err, fix\n",
        "    \n",
        "  if s == 'нрзб':\n",
        "    return nrzb, err, fix\n",
        "\n",
        "  if 'нрзб' in s and nrzb not in s:\n",
        "    err = True\n",
        "\n",
        "  for v in nrzb_replacement_dict:\n",
        "    s = s.replace(v, nrzb_replacement_dict[v])\n",
        "\n",
        "  if 'нрзб' in s and nrzb not in s:\n",
        "    fix = False\n",
        "\n",
        "  return s, err, fix"
      ],
      "metadata": {
        "id": "Mhi-lHmmTAHB"
      },
      "execution_count": 26,
      "outputs": []
    },
    {
      "cell_type": "code",
      "source": [
        "for col in df_cols:\n",
        "  replace_log_res = df.apply(lambda row: replace_log(row, col), axis=1)\n",
        "  df[col] = replace_log_res.apply(lambda t: t[0])\n",
        "  df[f'{col}_error'] = replace_log_res.apply(lambda t: t[1])\n",
        "  df[f'{col}_fixed'] = replace_log_res.apply(lambda t: t[2])"
      ],
      "metadata": {
        "id": "5PAAce5abm7r"
      },
      "execution_count": 27,
      "outputs": []
    },
    {
      "cell_type": "markdown",
      "source": [
        "Где осталось нрзб в нестандартизированном виде (залогировано, но исправлено)"
      ],
      "metadata": {
        "id": "wFr7cq-gtDSV"
      }
    },
    {
      "cell_type": "code",
      "source": [
        "for col in df_cols:\n",
        "  values = df[col].to_list()\n",
        "  for v in values:\n",
        "    if not isinstance(v, str):\n",
        "      continue\n",
        "    if nrzb not in v and 'нрзб' in v:\n",
        "      print(v)"
      ],
      "metadata": {
        "id": "aRO6v6vRc7oi"
      },
      "execution_count": 28,
      "outputs": []
    },
    {
      "cell_type": "code",
      "source": [
        "df = pd.concat([df], axis=1)"
      ],
      "metadata": {
        "id": "PUxnUuV0S19a"
      },
      "execution_count": null,
      "outputs": []
    },
    {
      "cell_type": "markdown",
      "source": [
        "## Номер открытки + ссылки\n",
        "* заполнение обязательно\n",
        "* только числа / строки\n"
      ],
      "metadata": {
        "id": "gzOvv3KLMr-t"
      }
    },
    {
      "cell_type": "code",
      "source": [
        "cols = ['Номер открытки', 'Pic_url_1', 'Pic_url_2', 'Resize_url_1','Resize_url_2']\n",
        "for col in cols:\n",
        "  if (df[col] == ots).sum() > 0:\n",
        "    print(col)"
      ],
      "metadata": {
        "id": "E-iuvoHOM7zg"
      },
      "execution_count": 29,
      "outputs": []
    },
    {
      "cell_type": "code",
      "source": [
        "df[['Номер открытки', 'Pic_url_1', 'Pic_url_2', 'Resize_url_1','Resize_url_2']].dtypes"
      ],
      "metadata": {
        "colab": {
          "base_uri": "https://localhost:8080/"
        },
        "id": "01vEZ_RdNCvm",
        "outputId": "e818c195-f91d-4b73-a268-9eae06fba555"
      },
      "execution_count": null,
      "outputs": [
        {
          "output_type": "execute_result",
          "data": {
            "text/plain": [
              "Номер открытки     int64\n",
              "Pic_url_1         object\n",
              "Pic_url_2         object\n",
              "Resize_url_1      object\n",
              "Resize_url_2      object\n",
              "dtype: object"
            ]
          },
          "metadata": {},
          "execution_count": 270
        }
      ]
    },
    {
      "cell_type": "markdown",
      "source": [
        "## Язык текста открытки\n",
        "* название языка\n",
        "* “непонятно”, \"иностранный язык\" - выгружаем, но логируем\n"
      ],
      "metadata": {
        "id": "jXP36myZNfBQ"
      }
    },
    {
      "cell_type": "code",
      "source": [
        "col = 'Язык текста открытки'"
      ],
      "metadata": {
        "id": "V3SazaZafMef"
      },
      "execution_count": 30,
      "outputs": []
    },
    {
      "cell_type": "code",
      "source": [
        "df[col].value_counts()"
      ],
      "metadata": {
        "colab": {
          "base_uri": "https://localhost:8080/"
        },
        "id": "nKBsrOJ_MjoO",
        "outputId": "a816b15a-d4ae-425a-9d0d-f8e406b1d489"
      },
      "execution_count": 32,
      "outputs": [
        {
          "output_type": "execute_result",
          "data": {
            "text/plain": [
              "русский             17588\n",
              "английский             33\n",
              "украинский             29\n",
              "польский               21\n",
              "французский            19\n",
              "немецкий               17\n",
              "болгарский              5\n",
              "латышский               3\n",
              "эстонский               2\n",
              "белорусский             2\n",
              "эсперанто               1\n",
              "чешский                 1\n",
              "иностранный язык        1\n",
              "шведский                1\n",
              "непонятно               1\n",
              "чувашский               1\n",
              "финский                 1\n",
              "сербский                1\n",
              "татарский               1\n",
              "Name: Язык текста открытки, dtype: int64"
            ]
          },
          "metadata": {},
          "execution_count": 32
        }
      ]
    },
    {
      "cell_type": "markdown",
      "source": [
        "Логирование ошибок"
      ],
      "metadata": {
        "id": "LZ_hAyxOTfl_"
      }
    },
    {
      "cell_type": "code",
      "source": [
        "df[f'{col}_error'] = df.apply(\n",
        "    lambda row: True if row[col] in ('непонятно', 'иностранный язык') else row[f'{col}_error'],\n",
        "    axis=1\n",
        "    )\n",
        "df[f'{col}_error'].value_counts()"
      ],
      "metadata": {
        "colab": {
          "base_uri": "https://localhost:8080/"
        },
        "id": "4ayQlk_9fDm9",
        "outputId": "57b37965-0158-4fd8-f5fb-cdb1e0edb051"
      },
      "execution_count": 31,
      "outputs": [
        {
          "output_type": "execute_result",
          "data": {
            "text/plain": [
              "False    17726\n",
              "True         2\n",
              "Name: Язык текста открытки_error, dtype: int64"
            ]
          },
          "metadata": {},
          "execution_count": 31
        }
      ]
    },
    {
      "cell_type": "markdown",
      "source": [
        "## Перевод текста открытки\n",
        "* удаляем [отсутствует] (если перевод не требуется, поле оставляется пустым)"
      ],
      "metadata": {
        "id": "Y5_IyYvHkcal"
      }
    },
    {
      "cell_type": "code",
      "source": [
        "col = 'Перевод текста открытки (если на иностранном языке)'"
      ],
      "metadata": {
        "id": "d1i9EHDQkfFA"
      },
      "execution_count": 33,
      "outputs": []
    },
    {
      "cell_type": "code",
      "source": [
        "df[col] = df[col].apply(lambda s: '' if s == ots else s)"
      ],
      "metadata": {
        "id": "yV2gV4ntZwuw"
      },
      "execution_count": 34,
      "outputs": []
    },
    {
      "cell_type": "markdown",
      "source": [
        "Проверка"
      ],
      "metadata": {
        "id": "ylLB1_Jln_fO"
      }
    },
    {
      "cell_type": "code",
      "source": [
        "df[col].value_counts()"
      ],
      "metadata": {
        "id": "nrR3U03Zkg7w"
      },
      "execution_count": null,
      "outputs": []
    },
    {
      "cell_type": "markdown",
      "source": [
        "## Вид орфографии\n",
        "Допускается:\n",
        "* Современная\n",
        "* Дореволюционная\n",
        "* Латиница/современная\n",
        "* Латиница/дореволюционная\n",
        "* Латиница \n"
      ],
      "metadata": {
        "id": "qDQz6_DqoSR_"
      }
    },
    {
      "cell_type": "code",
      "source": [
        "col = 'Вид орфографии'"
      ],
      "metadata": {
        "id": "htDNJDlBoV0u"
      },
      "execution_count": 35,
      "outputs": []
    },
    {
      "cell_type": "code",
      "source": [
        "df[col].value_counts()"
      ],
      "metadata": {
        "colab": {
          "base_uri": "https://localhost:8080/"
        },
        "id": "V4Zo70HYoYfX",
        "outputId": "063b0d9f-d77f-467b-c959-d137fd1b5c33"
      },
      "execution_count": null,
      "outputs": [
        {
          "output_type": "execute_result",
          "data": {
            "text/plain": [
              "Дореволюционная (ъ,ѣ и т.д.)    9218\n",
              "Современная                     8334\n",
              "Латиница/дореволюционная          64\n",
              "Латиница                          47\n",
              "Латиница/современная              33\n",
              "[отсутствует]                     14\n",
              "Дореволюционная                   10\n",
              "дореволюционная                    6\n",
              "современная                        1\n",
              "0                                  1\n",
              "Name: Вид орфографии, dtype: int64"
            ]
          },
          "metadata": {},
          "execution_count": 40
        }
      ]
    },
    {
      "cell_type": "code",
      "source": [
        "orthography_replacement_dict = {\n",
        "    'Дореволюционная (ъ,ѣ и т.д.)': 'Дореволюционная',\n",
        "    'дореволюционная': 'Дореволюционная',\n",
        "    'современная': 'Современная',\n",
        "    '0': ots\n",
        "}"
      ],
      "metadata": {
        "id": "0Ig9-1rbonZ6"
      },
      "execution_count": 36,
      "outputs": []
    },
    {
      "cell_type": "code",
      "source": [
        "df[col] = df[col].replace(orthography_replacement_dict)"
      ],
      "metadata": {
        "id": "1suvSSnO8Te4"
      },
      "execution_count": 37,
      "outputs": []
    },
    {
      "cell_type": "code",
      "source": [
        "df[col].value_counts()"
      ],
      "metadata": {
        "colab": {
          "base_uri": "https://localhost:8080/"
        },
        "id": "FZ5MlcmBqtf7",
        "outputId": "c1f809e1-7d26-43ef-d2dd-a0dfa16a69bc"
      },
      "execution_count": 38,
      "outputs": [
        {
          "output_type": "execute_result",
          "data": {
            "text/plain": [
              "Дореволюционная             9234\n",
              "Современная                 8335\n",
              "Латиница/дореволюционная      64\n",
              "Латиница                      47\n",
              "Латиница/современная          33\n",
              "[отсутствует]                 15\n",
              "Name: Вид орфографии, dtype: int64"
            ]
          },
          "metadata": {},
          "execution_count": 38
        }
      ]
    },
    {
      "cell_type": "markdown",
      "source": [
        "## Индекс получателя\n",
        "* только число \n",
        "* или [отсутствует]"
      ],
      "metadata": {
        "id": "zDBbRgGnq51G"
      }
    },
    {
      "cell_type": "code",
      "source": [
        "col = 'Индекс получателя'"
      ],
      "metadata": {
        "id": "QqW85iLLq8RO"
      },
      "execution_count": 39,
      "outputs": []
    },
    {
      "cell_type": "code",
      "source": [
        "def replace_log(row):\n",
        "  s = row[col]\n",
        "  err = row[f'{col}_error']\n",
        "  fix = row[f'{col}_fixed']\n",
        "\n",
        "  if s == ots or s == nrzb:\n",
        "    return s, err, fix\n",
        "  \n",
        "  if s.isnumeric() or s == 'Л-20':\n",
        "    return s, err, fix\n",
        "  \n",
        "  return s, True, False"
      ],
      "metadata": {
        "id": "pWiTMZpGoAbR"
      },
      "execution_count": 40,
      "outputs": []
    },
    {
      "cell_type": "code",
      "source": [
        "df[col] = df[col].astype(str)\n",
        "replace_log_res = df.apply(replace_log, axis=1)\n",
        "df[col] = replace_log_res.apply(lambda t: t[0])\n",
        "df[f'{col}_error'] = replace_log_res.apply(lambda t: t[1])\n",
        "df[f'{col}_fixed'] = replace_log_res.apply(lambda t: t[2])"
      ],
      "metadata": {
        "id": "_7c07ZsApRXU"
      },
      "execution_count": 41,
      "outputs": []
    },
    {
      "cell_type": "code",
      "source": [
        "df[col].value_counts()"
      ],
      "metadata": {
        "colab": {
          "base_uri": "https://localhost:8080/"
        },
        "id": "qEeS3Jr3sqkm",
        "outputId": "ee58e135-c100-48cd-c346-38fe2c74462d"
      },
      "execution_count": null,
      "outputs": [
        {
          "output_type": "execute_result",
          "data": {
            "text/plain": [
              "[отсутствует]    15299\n",
              "622042             145\n",
              "125008             129\n",
              "428017              71\n",
              "603059              70\n",
              "                 ...  \n",
              "620151               1\n",
              "334038               1\n",
              "109462               1\n",
              "142410               1\n",
              "312080               1\n",
              "Name: Индекс получателя, Length: 678, dtype: int64"
            ]
          },
          "metadata": {},
          "execution_count": 173
        }
      ]
    },
    {
      "cell_type": "markdown",
      "source": [
        "Нечисленные индексы (залогированы, но не исправлены)"
      ],
      "metadata": {
        "id": "xpgbibNR54bM"
      }
    },
    {
      "cell_type": "code",
      "source": [
        "df[(~df[f'{col}_fixed']) & (df[f'{col}_error'])][[\n",
        "    'Номер открытки', f'{col}_old', col, f'{col}_error', f'{col}_fixed']]"
      ],
      "metadata": {
        "id": "1kXb52VTlcAm",
        "colab": {
          "base_uri": "https://localhost:8080/",
          "height": 93
        },
        "outputId": "5ccaa6ab-9737-4e4e-e0a4-5f30a8c9d25d"
      },
      "execution_count": null,
      "outputs": [
        {
          "output_type": "execute_result",
          "data": {
            "text/plain": [
              "Empty DataFrame\n",
              "Columns: [Номер открытки, Индекс получателя_old, Индекс получателя, Индекс получателя_error, Индекс получателя_fixed]\n",
              "Index: []"
            ],
            "text/html": [
              "\n",
              "  <div id=\"df-1971c69a-cbc9-4fff-9526-36b4c2deaa75\">\n",
              "    <div class=\"colab-df-container\">\n",
              "      <div>\n",
              "<style scoped>\n",
              "    .dataframe tbody tr th:only-of-type {\n",
              "        vertical-align: middle;\n",
              "    }\n",
              "\n",
              "    .dataframe tbody tr th {\n",
              "        vertical-align: top;\n",
              "    }\n",
              "\n",
              "    .dataframe thead th {\n",
              "        text-align: right;\n",
              "    }\n",
              "</style>\n",
              "<table border=\"1\" class=\"dataframe\">\n",
              "  <thead>\n",
              "    <tr style=\"text-align: right;\">\n",
              "      <th></th>\n",
              "      <th>Номер открытки</th>\n",
              "      <th>Индекс получателя_old</th>\n",
              "      <th>Индекс получателя</th>\n",
              "      <th>Индекс получателя_error</th>\n",
              "      <th>Индекс получателя_fixed</th>\n",
              "    </tr>\n",
              "  </thead>\n",
              "  <tbody>\n",
              "  </tbody>\n",
              "</table>\n",
              "</div>\n",
              "      <button class=\"colab-df-convert\" onclick=\"convertToInteractive('df-1971c69a-cbc9-4fff-9526-36b4c2deaa75')\"\n",
              "              title=\"Convert this dataframe to an interactive table.\"\n",
              "              style=\"display:none;\">\n",
              "        \n",
              "  <svg xmlns=\"http://www.w3.org/2000/svg\" height=\"24px\"viewBox=\"0 0 24 24\"\n",
              "       width=\"24px\">\n",
              "    <path d=\"M0 0h24v24H0V0z\" fill=\"none\"/>\n",
              "    <path d=\"M18.56 5.44l.94 2.06.94-2.06 2.06-.94-2.06-.94-.94-2.06-.94 2.06-2.06.94zm-11 1L8.5 8.5l.94-2.06 2.06-.94-2.06-.94L8.5 2.5l-.94 2.06-2.06.94zm10 10l.94 2.06.94-2.06 2.06-.94-2.06-.94-.94-2.06-.94 2.06-2.06.94z\"/><path d=\"M17.41 7.96l-1.37-1.37c-.4-.4-.92-.59-1.43-.59-.52 0-1.04.2-1.43.59L10.3 9.45l-7.72 7.72c-.78.78-.78 2.05 0 2.83L4 21.41c.39.39.9.59 1.41.59.51 0 1.02-.2 1.41-.59l7.78-7.78 2.81-2.81c.8-.78.8-2.07 0-2.86zM5.41 20L4 18.59l7.72-7.72 1.47 1.35L5.41 20z\"/>\n",
              "  </svg>\n",
              "      </button>\n",
              "      \n",
              "  <style>\n",
              "    .colab-df-container {\n",
              "      display:flex;\n",
              "      flex-wrap:wrap;\n",
              "      gap: 12px;\n",
              "    }\n",
              "\n",
              "    .colab-df-convert {\n",
              "      background-color: #E8F0FE;\n",
              "      border: none;\n",
              "      border-radius: 50%;\n",
              "      cursor: pointer;\n",
              "      display: none;\n",
              "      fill: #1967D2;\n",
              "      height: 32px;\n",
              "      padding: 0 0 0 0;\n",
              "      width: 32px;\n",
              "    }\n",
              "\n",
              "    .colab-df-convert:hover {\n",
              "      background-color: #E2EBFA;\n",
              "      box-shadow: 0px 1px 2px rgba(60, 64, 67, 0.3), 0px 1px 3px 1px rgba(60, 64, 67, 0.15);\n",
              "      fill: #174EA6;\n",
              "    }\n",
              "\n",
              "    [theme=dark] .colab-df-convert {\n",
              "      background-color: #3B4455;\n",
              "      fill: #D2E3FC;\n",
              "    }\n",
              "\n",
              "    [theme=dark] .colab-df-convert:hover {\n",
              "      background-color: #434B5C;\n",
              "      box-shadow: 0px 1px 3px 1px rgba(0, 0, 0, 0.15);\n",
              "      filter: drop-shadow(0px 1px 2px rgba(0, 0, 0, 0.3));\n",
              "      fill: #FFFFFF;\n",
              "    }\n",
              "  </style>\n",
              "\n",
              "      <script>\n",
              "        const buttonEl =\n",
              "          document.querySelector('#df-1971c69a-cbc9-4fff-9526-36b4c2deaa75 button.colab-df-convert');\n",
              "        buttonEl.style.display =\n",
              "          google.colab.kernel.accessAllowed ? 'block' : 'none';\n",
              "\n",
              "        async function convertToInteractive(key) {\n",
              "          const element = document.querySelector('#df-1971c69a-cbc9-4fff-9526-36b4c2deaa75');\n",
              "          const dataTable =\n",
              "            await google.colab.kernel.invokeFunction('convertToInteractive',\n",
              "                                                     [key], {});\n",
              "          if (!dataTable) return;\n",
              "\n",
              "          const docLinkHtml = 'Like what you see? Visit the ' +\n",
              "            '<a target=\"_blank\" href=https://colab.research.google.com/notebooks/data_table.ipynb>data table notebook</a>'\n",
              "            + ' to learn more about interactive tables.';\n",
              "          element.innerHTML = '';\n",
              "          dataTable['output_type'] = 'display_data';\n",
              "          await google.colab.output.renderOutput(dataTable, element);\n",
              "          const docLink = document.createElement('div');\n",
              "          docLink.innerHTML = docLinkHtml;\n",
              "          element.appendChild(docLink);\n",
              "        }\n",
              "      </script>\n",
              "    </div>\n",
              "  </div>\n",
              "  "
            ]
          },
          "metadata": {},
          "execution_count": 290
        }
      ]
    },
    {
      "cell_type": "markdown",
      "source": [
        "## Тип изображения\n",
        "* Допускается:\n",
        "* Фотография\n",
        "* Картинка/рисунок\n",
        "* Другое\n",
        "* Рисунок отсутствует\n"
      ],
      "metadata": {
        "id": "kFcxy-NZ6G0x"
      }
    },
    {
      "cell_type": "code",
      "source": [
        "col = 'Тип изображения (фотография, картина, другое)'"
      ],
      "metadata": {
        "id": "KugNPfGz6sbd"
      },
      "execution_count": 42,
      "outputs": []
    },
    {
      "cell_type": "code",
      "source": [
        "df[col].value_counts()"
      ],
      "metadata": {
        "colab": {
          "base_uri": "https://localhost:8080/"
        },
        "outputId": "4d39917d-6911-40a2-cf99-8096d3449635",
        "id": "tcTen_pn6sbe"
      },
      "execution_count": null,
      "outputs": [
        {
          "output_type": "execute_result",
          "data": {
            "text/plain": [
              "Картинка/рисунок        9869\n",
              "Фотография              7519\n",
              "Рисунок отсутствует      168\n",
              "Другое                   139\n",
              "[отсутствует]             12\n",
              "Картинка                   7\n",
              "картинка                   2\n",
              "[?Фотография]              2\n",
              "[? Фотография]             1\n",
              "[? Картинка/рисунок]       1\n",
              "хх.хх.хххх                 1\n",
              "Name: Тип изображения (фотография, картина, другое), dtype: int64"
            ]
          },
          "metadata": {},
          "execution_count": 77
        }
      ]
    },
    {
      "cell_type": "code",
      "source": [
        "pic_ots = 'Рисунок отсутствует'\n",
        "\n",
        "pic_type_replacement_dict = {\n",
        "    'Картинка': 'Картинка/рисунок',\n",
        "    'картинка': 'Картинка/рисунок',\n",
        "    '[? Картинка/рисунок]': 'Картинка/рисунок',\n",
        "    'хх.хх.хххх': 'Картинка/рисунок',\n",
        "    '[?Фотография]': 'Фотография',\n",
        "    '[? Фотография]': 'Фотография',\n",
        "    'современная': 'Современная',\n",
        "    ots: pic_ots,\n",
        "}"
      ],
      "metadata": {
        "id": "EzXfGe156sbe"
      },
      "execution_count": 43,
      "outputs": []
    },
    {
      "cell_type": "code",
      "source": [
        "df[col] = df[col].replace(pic_type_replacement_dict)"
      ],
      "metadata": {
        "id": "aA9967jJ6sbe"
      },
      "execution_count": 44,
      "outputs": []
    },
    {
      "cell_type": "markdown",
      "source": [
        "Проверка"
      ],
      "metadata": {
        "id": "5B_OoB9j8nGw"
      }
    },
    {
      "cell_type": "code",
      "source": [
        "df[col].value_counts()"
      ],
      "metadata": {
        "colab": {
          "base_uri": "https://localhost:8080/"
        },
        "outputId": "c6995b60-e29e-49b3-f572-718bfb27df68",
        "id": "70_G6w-I6sbe"
      },
      "execution_count": null,
      "outputs": [
        {
          "output_type": "execute_result",
          "data": {
            "text/plain": [
              "Картинка/рисунок       9881\n",
              "Фотография             7526\n",
              "Рисунок отсутствует     181\n",
              "Другое                  140\n",
              "Name: Тип изображения (фотография, картина, другое), dtype: int64"
            ]
          },
          "metadata": {},
          "execution_count": 226
        }
      ]
    },
    {
      "cell_type": "markdown",
      "source": [
        "## Период \n",
        "Допускается:\n",
        "* дореволюционный\n",
        "* советский\n",
        "* постсоветский"
      ],
      "metadata": {
        "id": "3wEiWqlz6Rck"
      }
    },
    {
      "cell_type": "code",
      "source": [
        "col = 'Период (дореволюционный, советский, постсоветский)'"
      ],
      "metadata": {
        "id": "mr3-Wfsn9Mvy"
      },
      "execution_count": 45,
      "outputs": []
    },
    {
      "cell_type": "code",
      "source": [
        "df[col].value_counts()"
      ],
      "metadata": {
        "colab": {
          "base_uri": "https://localhost:8080/"
        },
        "outputId": "b46547ff-261a-4f0d-ce47-b287d8bf0704",
        "id": "nU0WMDfD9Mv0"
      },
      "execution_count": null,
      "outputs": [
        {
          "output_type": "execute_result",
          "data": {
            "text/plain": [
              "Дореволюционные        9374\n",
              "Советские              7808\n",
              "Постсоветские           431\n",
              "[отсутствует]            84\n",
              "дореволюционный           7\n",
              "дореволюционная           5\n",
              "Советская                 2\n",
              "Дореволюционный           2\n",
              "Российская Империя        1\n",
              "советский                 1\n",
              "Гражданская война         1\n",
              "[непонятно]               1\n",
              "Советский                 1\n",
              "Доревалюционный           1\n",
              "[?Дореволюционные]        1\n",
              "[? Дореволюционные]       1\n",
              "Name: Период (дореволюционный, советский, постсоветский), dtype: int64"
            ]
          },
          "metadata": {},
          "execution_count": 82
        }
      ]
    },
    {
      "cell_type": "code",
      "source": [
        "period_replacement_dict = {\n",
        "    'дореволюционный': 'Дореволюционные',\n",
        "    'дореволюционная': 'Дореволюционные',\n",
        "    'Дореволюционный': 'Дореволюционные',\n",
        "    'Российская Империя': 'Дореволюционные',\n",
        "    'Советская': 'Советские',\n",
        "    'советский': 'Советские',\n",
        "    'Советский': 'Советские',\n",
        "    'Доревалюционный ': 'Дореволюционные',\n",
        "    'Доревалюционный': 'Дореволюционные',\n",
        "    '[?Дореволюционные]': 'Дореволюционные',\n",
        "    '[? Дореволюционные]': 'Дореволюционные',\n",
        "    'Гражданская война': 'Советские',\n",
        "    '[непонятно]': 'Советские'\n",
        "}"
      ],
      "metadata": {
        "id": "9JxDEUAP9Mv2"
      },
      "execution_count": 46,
      "outputs": []
    },
    {
      "cell_type": "code",
      "source": [
        "df[col] = df[col].replace(period_replacement_dict)"
      ],
      "metadata": {
        "id": "7wCf_19S9Mv2"
      },
      "execution_count": 47,
      "outputs": []
    },
    {
      "cell_type": "markdown",
      "source": [
        "Проверка"
      ],
      "metadata": {
        "id": "BLN8BWSj9Mv2"
      }
    },
    {
      "cell_type": "code",
      "source": [
        "df[col].value_counts()"
      ],
      "metadata": {
        "colab": {
          "base_uri": "https://localhost:8080/"
        },
        "outputId": "ec6302a4-3225-4302-d65a-d77872e45a9b",
        "id": "TIqZgl_k9Mv3"
      },
      "execution_count": 48,
      "outputs": [
        {
          "output_type": "execute_result",
          "data": {
            "text/plain": [
              "Дореволюционные    9398\n",
              "Советские          7814\n",
              "Постсоветские       432\n",
              "[отсутствует]        84\n",
              "Name: Период (дореволюционный, советский, постсоветский), dtype: int64"
            ]
          },
          "metadata": {},
          "execution_count": 48
        }
      ]
    },
    {
      "cell_type": "code",
      "source": [
        "with pd.option_context('display.max_colwidth', None):\n",
        "  display(df[df[col] == '[непонятно]'][['Pic_url_1', 'Pic_url_2']])"
      ],
      "metadata": {
        "id": "rI_G0xk3-bJ8"
      },
      "execution_count": null,
      "outputs": []
    },
    {
      "cell_type": "markdown",
      "source": [
        "## Страна (откуда)"
      ],
      "metadata": {
        "id": "zbfeILhd6SSw"
      }
    },
    {
      "cell_type": "code",
      "source": [
        "col = 'Страна (откуда)'"
      ],
      "metadata": {
        "id": "bKfGwIxk9DpP"
      },
      "execution_count": 49,
      "outputs": []
    },
    {
      "cell_type": "markdown",
      "source": [
        "Смотрим существующие страны"
      ],
      "metadata": {
        "id": "KCGBt1xR9bmu"
      }
    },
    {
      "cell_type": "code",
      "source": [
        "pd.Series(df[col].unique()).to_csv('countries_from.csv', index=False)"
      ],
      "metadata": {
        "id": "rMxL50w4_gG5"
      },
      "execution_count": null,
      "outputs": []
    },
    {
      "cell_type": "code",
      "source": [
        "df[col].value_counts()"
      ],
      "metadata": {
        "colab": {
          "base_uri": "https://localhost:8080/"
        },
        "outputId": "80dd0e38-462a-4555-fe0e-118245fa19fe",
        "id": "gnN5vBXOEPPL"
      },
      "execution_count": null,
      "outputs": [
        {
          "output_type": "execute_result",
          "data": {
            "text/plain": [
              "Российская Империя             6563\n",
              "СССР                           5604\n",
              "[отсутствует]                  4462\n",
              "Россия                          329\n",
              "Германия                        206\n",
              "                               ... \n",
              "Германская империя                1\n",
              "Ямайка                            1\n",
              "Греция                            1\n",
              "Монако                            1\n",
              "Южно-Африканская Республика       1\n",
              "Name: Страна (откуда), Length: 76, dtype: int64"
            ]
          },
          "metadata": {},
          "execution_count": 57
        }
      ]
    },
    {
      "cell_type": "code",
      "source": [
        "countries_replacement = {\n",
        "    'Российская империя': 'Российская Империя',\n",
        "    'Российская имерия': 'Российская Империя',\n",
        "    'Российская имеперия': 'Российская Империя',\n",
        "    '[?Российская Империя]': 'Российская Империя',\n",
        "    'Российска империя': 'Российская Империя',\n",
        "    'Виленская губерния, Дисненский уезд, г. Дисна': 'Российская Империя',\n",
        "    'Советская Россия': 'Россия',\n",
        "    'ссср': 'СССР',\n",
        "    'Российская Республика': 'Россия',\n",
        "    '[?РСФСР]': 'СССР',\n",
        "    'РСФСР, г. Ленинград': 'СССР',\n",
        "    'CCCР': 'СССР',\n",
        "    '[? СССР]': 'СССР',\n",
        "    '[?Чехословакия]': 'Чехословакия',\n",
        "    '[непонятно]': 'СССР',\n",
        "    'РСФСР': 'СССР',\n",
        "    'УССР': 'СССР',\n",
        "}"
      ],
      "metadata": {
        "id": "Kelsm-xeCjcL"
      },
      "execution_count": 50,
      "outputs": []
    },
    {
      "cell_type": "code",
      "source": [
        "df[col] = df[col].replace(countries_replacement)"
      ],
      "metadata": {
        "id": "q-ti75__EPPP"
      },
      "execution_count": 51,
      "outputs": []
    },
    {
      "cell_type": "code",
      "source": [
        "with pd.option_context('display.max_colwidth', None):\n",
        "  display(df[df[col] == 'Германская империя'][['Pic_url_1', 'Pic_url_2']])"
      ],
      "metadata": {
        "id": "X0JSthaI_d5J",
        "colab": {
          "base_uri": "https://localhost:8080/",
          "height": 142
        },
        "outputId": "98ba39f2-c8bc-40e3-a956-a8fe64b19323"
      },
      "execution_count": null,
      "outputs": [
        {
          "output_type": "display_data",
          "data": {
            "text/plain": [
              "                                                                     Pic_url_1  \\\n",
              "570  https://storage.yandexcloud.net/postcards-open-sources/Konros887 (27).jpg   \n",
              "\n",
              "                                                                     Pic_url_2  \n",
              "570  https://storage.yandexcloud.net/postcards-open-sources/Konros887 (28).jpg  "
            ],
            "text/html": [
              "\n",
              "  <div id=\"df-dbc16aee-33b8-4fb7-af6d-27d662fe7f88\">\n",
              "    <div class=\"colab-df-container\">\n",
              "      <div>\n",
              "<style scoped>\n",
              "    .dataframe tbody tr th:only-of-type {\n",
              "        vertical-align: middle;\n",
              "    }\n",
              "\n",
              "    .dataframe tbody tr th {\n",
              "        vertical-align: top;\n",
              "    }\n",
              "\n",
              "    .dataframe thead th {\n",
              "        text-align: right;\n",
              "    }\n",
              "</style>\n",
              "<table border=\"1\" class=\"dataframe\">\n",
              "  <thead>\n",
              "    <tr style=\"text-align: right;\">\n",
              "      <th></th>\n",
              "      <th>Pic_url_1</th>\n",
              "      <th>Pic_url_2</th>\n",
              "    </tr>\n",
              "  </thead>\n",
              "  <tbody>\n",
              "    <tr>\n",
              "      <th>570</th>\n",
              "      <td>https://storage.yandexcloud.net/postcards-open-sources/Konros887 (27).jpg</td>\n",
              "      <td>https://storage.yandexcloud.net/postcards-open-sources/Konros887 (28).jpg</td>\n",
              "    </tr>\n",
              "  </tbody>\n",
              "</table>\n",
              "</div>\n",
              "      <button class=\"colab-df-convert\" onclick=\"convertToInteractive('df-dbc16aee-33b8-4fb7-af6d-27d662fe7f88')\"\n",
              "              title=\"Convert this dataframe to an interactive table.\"\n",
              "              style=\"display:none;\">\n",
              "        \n",
              "  <svg xmlns=\"http://www.w3.org/2000/svg\" height=\"24px\"viewBox=\"0 0 24 24\"\n",
              "       width=\"24px\">\n",
              "    <path d=\"M0 0h24v24H0V0z\" fill=\"none\"/>\n",
              "    <path d=\"M18.56 5.44l.94 2.06.94-2.06 2.06-.94-2.06-.94-.94-2.06-.94 2.06-2.06.94zm-11 1L8.5 8.5l.94-2.06 2.06-.94-2.06-.94L8.5 2.5l-.94 2.06-2.06.94zm10 10l.94 2.06.94-2.06 2.06-.94-2.06-.94-.94-2.06-.94 2.06-2.06.94z\"/><path d=\"M17.41 7.96l-1.37-1.37c-.4-.4-.92-.59-1.43-.59-.52 0-1.04.2-1.43.59L10.3 9.45l-7.72 7.72c-.78.78-.78 2.05 0 2.83L4 21.41c.39.39.9.59 1.41.59.51 0 1.02-.2 1.41-.59l7.78-7.78 2.81-2.81c.8-.78.8-2.07 0-2.86zM5.41 20L4 18.59l7.72-7.72 1.47 1.35L5.41 20z\"/>\n",
              "  </svg>\n",
              "      </button>\n",
              "      \n",
              "  <style>\n",
              "    .colab-df-container {\n",
              "      display:flex;\n",
              "      flex-wrap:wrap;\n",
              "      gap: 12px;\n",
              "    }\n",
              "\n",
              "    .colab-df-convert {\n",
              "      background-color: #E8F0FE;\n",
              "      border: none;\n",
              "      border-radius: 50%;\n",
              "      cursor: pointer;\n",
              "      display: none;\n",
              "      fill: #1967D2;\n",
              "      height: 32px;\n",
              "      padding: 0 0 0 0;\n",
              "      width: 32px;\n",
              "    }\n",
              "\n",
              "    .colab-df-convert:hover {\n",
              "      background-color: #E2EBFA;\n",
              "      box-shadow: 0px 1px 2px rgba(60, 64, 67, 0.3), 0px 1px 3px 1px rgba(60, 64, 67, 0.15);\n",
              "      fill: #174EA6;\n",
              "    }\n",
              "\n",
              "    [theme=dark] .colab-df-convert {\n",
              "      background-color: #3B4455;\n",
              "      fill: #D2E3FC;\n",
              "    }\n",
              "\n",
              "    [theme=dark] .colab-df-convert:hover {\n",
              "      background-color: #434B5C;\n",
              "      box-shadow: 0px 1px 3px 1px rgba(0, 0, 0, 0.15);\n",
              "      filter: drop-shadow(0px 1px 2px rgba(0, 0, 0, 0.3));\n",
              "      fill: #FFFFFF;\n",
              "    }\n",
              "  </style>\n",
              "\n",
              "      <script>\n",
              "        const buttonEl =\n",
              "          document.querySelector('#df-dbc16aee-33b8-4fb7-af6d-27d662fe7f88 button.colab-df-convert');\n",
              "        buttonEl.style.display =\n",
              "          google.colab.kernel.accessAllowed ? 'block' : 'none';\n",
              "\n",
              "        async function convertToInteractive(key) {\n",
              "          const element = document.querySelector('#df-dbc16aee-33b8-4fb7-af6d-27d662fe7f88');\n",
              "          const dataTable =\n",
              "            await google.colab.kernel.invokeFunction('convertToInteractive',\n",
              "                                                     [key], {});\n",
              "          if (!dataTable) return;\n",
              "\n",
              "          const docLinkHtml = 'Like what you see? Visit the ' +\n",
              "            '<a target=\"_blank\" href=https://colab.research.google.com/notebooks/data_table.ipynb>data table notebook</a>'\n",
              "            + ' to learn more about interactive tables.';\n",
              "          element.innerHTML = '';\n",
              "          dataTable['output_type'] = 'display_data';\n",
              "          await google.colab.output.renderOutput(dataTable, element);\n",
              "          const docLink = document.createElement('div');\n",
              "          docLink.innerHTML = docLinkHtml;\n",
              "          element.appendChild(docLink);\n",
              "        }\n",
              "      </script>\n",
              "    </div>\n",
              "  </div>\n",
              "  "
            ]
          },
          "metadata": {}
        }
      ]
    },
    {
      "cell_type": "markdown",
      "source": [
        "Проверка"
      ],
      "metadata": {
        "id": "wDrsj14YEPPP"
      }
    },
    {
      "cell_type": "code",
      "source": [
        "df[col].value_counts()"
      ],
      "metadata": {
        "colab": {
          "base_uri": "https://localhost:8080/"
        },
        "outputId": "f8fc7ab0-ba23-419e-e89e-f75146103d90",
        "id": "HAX1ZlHPEPPP"
      },
      "execution_count": null,
      "outputs": [
        {
          "output_type": "execute_result",
          "data": {
            "text/plain": [
              "Российская Империя             6621\n",
              "СССР                           5613\n",
              "[отсутствует]                  4462\n",
              "Россия                          332\n",
              "Германия                        206\n",
              "                               ... \n",
              "Германская империя                1\n",
              "Греция                            1\n",
              "Португалия                        1\n",
              "Ямайка                            1\n",
              "Южно-Африканская Республика       1\n",
              "Name: Страна (откуда), Length: 63, dtype: int64"
            ]
          },
          "metadata": {},
          "execution_count": 71
        }
      ]
    },
    {
      "cell_type": "markdown",
      "source": [
        "Выгружаем результат"
      ],
      "metadata": {
        "id": "-RrTHljV97MX"
      }
    },
    {
      "cell_type": "code",
      "source": [
        "pd.Series(df[col].unique()).to_csv('countries_from_fix.csv', index=False)"
      ],
      "metadata": {
        "id": "CBxt3eJaEvrB"
      },
      "execution_count": null,
      "outputs": []
    },
    {
      "cell_type": "markdown",
      "source": [
        "## Страна (куда)"
      ],
      "metadata": {
        "id": "-s5wWjki6Xep"
      }
    },
    {
      "cell_type": "code",
      "source": [
        "col = 'Страна (куда)'"
      ],
      "metadata": {
        "id": "dbt3TuYEB4Qf"
      },
      "execution_count": 52,
      "outputs": []
    },
    {
      "cell_type": "code",
      "source": [
        "pd.Series(df[col].unique()).to_csv('countries_to.csv', index=False)"
      ],
      "metadata": {
        "id": "pIgJ25jBB4Qg"
      },
      "execution_count": null,
      "outputs": []
    },
    {
      "cell_type": "code",
      "source": [
        "df[col] = df[col].replace(countries_replacement)"
      ],
      "metadata": {
        "id": "bqJVZ-GtFlHT"
      },
      "execution_count": 53,
      "outputs": []
    },
    {
      "cell_type": "markdown",
      "source": [
        "Проверка"
      ],
      "metadata": {
        "id": "8UcBKXvSFlHT"
      }
    },
    {
      "cell_type": "code",
      "source": [
        "df[col].value_counts()"
      ],
      "metadata": {
        "id": "-QLamjvTFlHT",
        "colab": {
          "base_uri": "https://localhost:8080/"
        },
        "outputId": "5f8c480b-c433-4409-afd0-0291f8c8cb3c"
      },
      "execution_count": null,
      "outputs": [
        {
          "output_type": "execute_result",
          "data": {
            "text/plain": [
              "Российская Империя           7849\n",
              "СССР                         5989\n",
              "[отсутствует]                3006\n",
              "Россия                        463\n",
              "Германия                      124\n",
              "Франция                        65\n",
              "Швейцария                      40\n",
              "Австрия                        23\n",
              "Финляндия                      21\n",
              "Соединённые Штаты Америки      18\n",
              "Эстония                        12\n",
              "Латвия                         12\n",
              "Италия                         11\n",
              "Болгария                       10\n",
              "Украина                         9\n",
              "Бельгия                         9\n",
              "Великобритания                  9\n",
              "Чехия                           7\n",
              "Китай                           6\n",
              "Австро-Венгрия                  5\n",
              "Румыния                         5\n",
              "Польша                          4\n",
              "Грузия                          4\n",
              "Литва                           3\n",
              "Австралия                       3\n",
              "Турция                          3\n",
              "Белоруссия                      2\n",
              "Узбекистан                      2\n",
              "Чехословакия                    2\n",
              "Норвегия                        2\n",
              "Сербия                          2\n",
              "Сингапур                        1\n",
              "Канада                          1\n",
              "Испания                         1\n",
              "Азербайджан                     1\n",
              "ГДР                             1\n",
              "Шотландия                       1\n",
              "Япония                          1\n",
              "Монако                          1\n",
              "Name: Страна (куда), dtype: int64"
            ]
          },
          "metadata": {},
          "execution_count": 300
        }
      ]
    },
    {
      "cell_type": "code",
      "source": [
        "with pd.option_context('display.max_colwidth', None):\n",
        "  display(df[df[col] == 'ГДР'][['Pic_url_1', 'Pic_url_2']])"
      ],
      "metadata": {
        "colab": {
          "base_uri": "https://localhost:8080/",
          "height": 142
        },
        "id": "6vV-xg2O7vhz",
        "outputId": "75c00a49-5ee7-43b3-e237-6a07ca34e4e4"
      },
      "execution_count": null,
      "outputs": [
        {
          "output_type": "display_data",
          "data": {
            "text/plain": [
              "                                                                   Pic_url_1  \\\n",
              "240  https://storage.yandexcloud.net/postcards-open-sources/Auction-1105.jpg   \n",
              "\n",
              "                                                                   Pic_url_2  \n",
              "240  https://storage.yandexcloud.net/postcards-open-sources/Auction-1106.jpg  "
            ],
            "text/html": [
              "\n",
              "  <div id=\"df-144f15fd-3051-4645-bc41-2fffb6961a5c\">\n",
              "    <div class=\"colab-df-container\">\n",
              "      <div>\n",
              "<style scoped>\n",
              "    .dataframe tbody tr th:only-of-type {\n",
              "        vertical-align: middle;\n",
              "    }\n",
              "\n",
              "    .dataframe tbody tr th {\n",
              "        vertical-align: top;\n",
              "    }\n",
              "\n",
              "    .dataframe thead th {\n",
              "        text-align: right;\n",
              "    }\n",
              "</style>\n",
              "<table border=\"1\" class=\"dataframe\">\n",
              "  <thead>\n",
              "    <tr style=\"text-align: right;\">\n",
              "      <th></th>\n",
              "      <th>Pic_url_1</th>\n",
              "      <th>Pic_url_2</th>\n",
              "    </tr>\n",
              "  </thead>\n",
              "  <tbody>\n",
              "    <tr>\n",
              "      <th>240</th>\n",
              "      <td>https://storage.yandexcloud.net/postcards-open-sources/Auction-1105.jpg</td>\n",
              "      <td>https://storage.yandexcloud.net/postcards-open-sources/Auction-1106.jpg</td>\n",
              "    </tr>\n",
              "  </tbody>\n",
              "</table>\n",
              "</div>\n",
              "      <button class=\"colab-df-convert\" onclick=\"convertToInteractive('df-144f15fd-3051-4645-bc41-2fffb6961a5c')\"\n",
              "              title=\"Convert this dataframe to an interactive table.\"\n",
              "              style=\"display:none;\">\n",
              "        \n",
              "  <svg xmlns=\"http://www.w3.org/2000/svg\" height=\"24px\"viewBox=\"0 0 24 24\"\n",
              "       width=\"24px\">\n",
              "    <path d=\"M0 0h24v24H0V0z\" fill=\"none\"/>\n",
              "    <path d=\"M18.56 5.44l.94 2.06.94-2.06 2.06-.94-2.06-.94-.94-2.06-.94 2.06-2.06.94zm-11 1L8.5 8.5l.94-2.06 2.06-.94-2.06-.94L8.5 2.5l-.94 2.06-2.06.94zm10 10l.94 2.06.94-2.06 2.06-.94-2.06-.94-.94-2.06-.94 2.06-2.06.94z\"/><path d=\"M17.41 7.96l-1.37-1.37c-.4-.4-.92-.59-1.43-.59-.52 0-1.04.2-1.43.59L10.3 9.45l-7.72 7.72c-.78.78-.78 2.05 0 2.83L4 21.41c.39.39.9.59 1.41.59.51 0 1.02-.2 1.41-.59l7.78-7.78 2.81-2.81c.8-.78.8-2.07 0-2.86zM5.41 20L4 18.59l7.72-7.72 1.47 1.35L5.41 20z\"/>\n",
              "  </svg>\n",
              "      </button>\n",
              "      \n",
              "  <style>\n",
              "    .colab-df-container {\n",
              "      display:flex;\n",
              "      flex-wrap:wrap;\n",
              "      gap: 12px;\n",
              "    }\n",
              "\n",
              "    .colab-df-convert {\n",
              "      background-color: #E8F0FE;\n",
              "      border: none;\n",
              "      border-radius: 50%;\n",
              "      cursor: pointer;\n",
              "      display: none;\n",
              "      fill: #1967D2;\n",
              "      height: 32px;\n",
              "      padding: 0 0 0 0;\n",
              "      width: 32px;\n",
              "    }\n",
              "\n",
              "    .colab-df-convert:hover {\n",
              "      background-color: #E2EBFA;\n",
              "      box-shadow: 0px 1px 2px rgba(60, 64, 67, 0.3), 0px 1px 3px 1px rgba(60, 64, 67, 0.15);\n",
              "      fill: #174EA6;\n",
              "    }\n",
              "\n",
              "    [theme=dark] .colab-df-convert {\n",
              "      background-color: #3B4455;\n",
              "      fill: #D2E3FC;\n",
              "    }\n",
              "\n",
              "    [theme=dark] .colab-df-convert:hover {\n",
              "      background-color: #434B5C;\n",
              "      box-shadow: 0px 1px 3px 1px rgba(0, 0, 0, 0.15);\n",
              "      filter: drop-shadow(0px 1px 2px rgba(0, 0, 0, 0.3));\n",
              "      fill: #FFFFFF;\n",
              "    }\n",
              "  </style>\n",
              "\n",
              "      <script>\n",
              "        const buttonEl =\n",
              "          document.querySelector('#df-144f15fd-3051-4645-bc41-2fffb6961a5c button.colab-df-convert');\n",
              "        buttonEl.style.display =\n",
              "          google.colab.kernel.accessAllowed ? 'block' : 'none';\n",
              "\n",
              "        async function convertToInteractive(key) {\n",
              "          const element = document.querySelector('#df-144f15fd-3051-4645-bc41-2fffb6961a5c');\n",
              "          const dataTable =\n",
              "            await google.colab.kernel.invokeFunction('convertToInteractive',\n",
              "                                                     [key], {});\n",
              "          if (!dataTable) return;\n",
              "\n",
              "          const docLinkHtml = 'Like what you see? Visit the ' +\n",
              "            '<a target=\"_blank\" href=https://colab.research.google.com/notebooks/data_table.ipynb>data table notebook</a>'\n",
              "            + ' to learn more about interactive tables.';\n",
              "          element.innerHTML = '';\n",
              "          dataTable['output_type'] = 'display_data';\n",
              "          await google.colab.output.renderOutput(dataTable, element);\n",
              "          const docLink = document.createElement('div');\n",
              "          docLink.innerHTML = docLinkHtml;\n",
              "          element.appendChild(docLink);\n",
              "        }\n",
              "      </script>\n",
              "    </div>\n",
              "  </div>\n",
              "  "
            ]
          },
          "metadata": {}
        }
      ]
    },
    {
      "cell_type": "markdown",
      "source": [
        "## Теги"
      ],
      "metadata": {
        "id": "4SJ1MX4i6Zgg"
      }
    },
    {
      "cell_type": "code",
      "source": [
        "tag_cols = [f'Тег_{i}' for i in range(1, 8)]"
      ],
      "metadata": {
        "id": "lWbAByA4LRGk"
      },
      "execution_count": 54,
      "outputs": []
    },
    {
      "cell_type": "markdown",
      "source": [
        "Допустимые"
      ],
      "metadata": {
        "id": "CrFBDxaVROWt"
      }
    },
    {
      "cell_type": "code",
      "source": [
        "tags_allowed = [\n",
        "  '',\n",
        " 'Открытка - благодарность',\n",
        " 'Открытка-приглашение',\n",
        " 'Репродукции картин',\n",
        " 'Изображения животных',\n",
        " 'Дети на картинке',\n",
        " 'Изображения кораблей и пароходов',\n",
        " 'Поздравление на картинке',\n",
        " 'Шлю привет',\n",
        " 'Житейское',\n",
        " 'Новости',\n",
        " 'Поцелуи из писем',\n",
        " 'С фронта',\n",
        " 'Поездка',\n",
        " 'Просьба',\n",
        " 'Письма от семьи',\n",
        " 'Учеба',\n",
        " 'Благодарность в тексте',\n",
        " 'В пути',\n",
        " 'Адрес',\n",
        " 'Деньги',\n",
        " 'Отдых',\n",
        " 'Погода',\n",
        " 'Дурные вести',\n",
        " 'Военная служба',\n",
        " 'Полевая почта',\n",
        " 'Письма маме',\n",
        " 'Приглашение в тексте',\n",
        " 'Письма от мамы',\n",
        " 'Встреча',\n",
        " 'Рассказ об искусстве',\n",
        " 'Рассказ о животных',\n",
        " 'Загадочная открытка',\n",
        " 'Письма от отца',\n",
        " 'Написано детьми',\n",
        " 'Написано о детях',\n",
        " 'Письма с парохода',\n",
        " 'Социальное',\n",
        " 'Иностранный язык',\n",
        " 'На фронт',\n",
        " 'Поздравление в тексте',\n",
        " 'Деловая переписка',\n",
        " 'Совет',\n",
        " 'На память',\n",
        " 'Простите, что долго не писал',\n",
        " 'Позже напишу подробнее',\n",
        " 'Письма отцу',\n",
        " 'Письма семье',\n",
        " 'Любовное',\n",
        " 'Почему долго не писал?',\n",
        " 'Военное',\n",
        " 'Новый год',\n",
        " 'Восьмое марта',\n",
        " 'Первое мая',\n",
        " 'День победы',\n",
        " 'Октябрьская революция',\n",
        " 'Прочие советские праздники',\n",
        " 'Пасха',\n",
        " 'Рождество',\n",
        " 'Прочие религиозные праздники',\n",
        " 'День рождения',\n",
        " 'День свадьбы',\n",
        " 'Прочие личные праздники',\n",
        " 'Прочие праздники',\n",
        " 'Фронтовая',\n",
        " 'Из путешествия',\n",
        " 'Именины',\n",
        " '1 сентября',\n",
        " 'День космонавтики',\n",
        " 'Написано иностранцем по-русски',\n",
        " '23 февраля',\n",
        " 'День учителя'\n",
        " ]"
      ],
      "metadata": {
        "id": "wQfbuEf96W4C"
      },
      "execution_count": 55,
      "outputs": []
    },
    {
      "cell_type": "markdown",
      "source": [
        "Смотрим вариативность"
      ],
      "metadata": {
        "id": "lUApEzAERROD"
      }
    },
    {
      "cell_type": "code",
      "source": [
        "tags_variations = []\n",
        "for col in cols:\n",
        "  tags_variations += list(df[col].unique())\n",
        "tags_variations = list(set(tags_variations))\n",
        "tags_variations = [t for t in tags_variations if t not in tags_allowed]\n",
        "tags_variations"
      ],
      "metadata": {
        "id": "yZv1dl2ULIK2"
      },
      "execution_count": null,
      "outputs": []
    },
    {
      "cell_type": "markdown",
      "source": [
        "Составляем словарь замены"
      ],
      "metadata": {
        "id": "wDM5GsnO-uTv"
      }
    },
    {
      "cell_type": "code",
      "source": [
        "tags_replacement_dict = {\n",
        " '[? житейское]': 'Житейское',\n",
        " '2022-09-01 00:00:00': '1 сентября',\n",
        " '2022-05-01 00:00:00': 'Первое мая',\n",
        " '[?репродукции картин]': 'Репродукции картин',\n",
        " '[? благодарность в тексте]': 'Благодарность в тексте',\n",
        " '[? просьба]': 'Просьба',\n",
        " '[отсутствует]': '',\n",
        " 'Учёба': 'Учеба',\n",
        " 'Др': 'День рождения',\n",
        " 'День ангела': 'Именины',\n",
        " '[?любовное]': 'Любовное',\n",
        " 'Новы': 'Новый год',\n",
        " '2023-09-01 00:00:00': '1 сентября',\n",
        " '[?шлю привет]': 'Шлю привет',\n",
        " '[? социальное]': 'Социальное',\n",
        " 'Дет': '',  # написано детям, но не детьми и не о детях\n",
        " 'Письма': '',  # все нужные \"письмовые\" теги там уже есть\n",
        " 'Сердечный привет': 'Шлю привет',\n",
        " 'Долго не пишите': 'Почему долго не писал?',\n",
        " 'Уведомление о приезде': 'В пути',\n",
        " 'От всей души': 'Поздравление в тексте',\n",
        " 'День защитников отечества': '23 февраля',\n",
        " }"
      ],
      "metadata": {
        "id": "94WxgZlYNNbi"
      },
      "execution_count": 56,
      "outputs": []
    },
    {
      "cell_type": "code",
      "source": [
        "for col in tag_cols:\n",
        "  df[col] = df[col].apply(lambda x: x.capitalize()).replace(tags_replacement_dict)\n",
        "  df[f'{col}_fixed'] = df.apply(\n",
        "    lambda row: False if row[col] not in tags_allowed else row[f'{col}_fixed'],\n",
        "    axis=1\n",
        "  )"
      ],
      "metadata": {
        "id": "Ma_NBkFWN4yt"
      },
      "execution_count": 57,
      "outputs": []
    },
    {
      "cell_type": "markdown",
      "source": [
        "Проверка"
      ],
      "metadata": {
        "id": "yvtKhdgp-tBN"
      }
    },
    {
      "cell_type": "code",
      "source": [
        "tags_variations = []\n",
        "for col in tag_cols:\n",
        "  tags_variations += list(df[col].unique())\n",
        "tags_variations = list(set(tags_variations))\n",
        "tags_variations = [t for t in tags_variations if t not in tags_allowed]\n",
        "\n",
        "print('\\n'.join(tags_variations))"
      ],
      "metadata": {
        "colab": {
          "base_uri": "https://localhost:8080/"
        },
        "id": "1J2JPUJLRZ55",
        "outputId": "76678a73-8154-40db-e9b8-9a9d64a77db4"
      },
      "execution_count": 58,
      "outputs": [
        {
          "output_type": "stream",
          "name": "stdout",
          "text": [
            "\n"
          ]
        }
      ]
    },
    {
      "cell_type": "code",
      "source": [
        "col = tag_cols[2]\n",
        "with pd.option_context('display.max_colwidth', None):\n",
        "  display(df[df[col] == 'День защитника отечества'][['Pic_url_1', 'Pic_url_2']])"
      ],
      "metadata": {
        "colab": {
          "base_uri": "https://localhost:8080/",
          "height": 49
        },
        "id": "lqAGNjk6Aa1R",
        "outputId": "cd5ac69d-91c9-4534-b69d-6698e00686a6"
      },
      "execution_count": null,
      "outputs": [
        {
          "output_type": "display_data",
          "data": {
            "text/plain": [
              "Empty DataFrame\n",
              "Columns: [Pic_url_1, Pic_url_2]\n",
              "Index: []"
            ],
            "text/html": [
              "\n",
              "  <div id=\"df-63defb83-5d35-46e5-b11b-945d2b717552\">\n",
              "    <div class=\"colab-df-container\">\n",
              "      <div>\n",
              "<style scoped>\n",
              "    .dataframe tbody tr th:only-of-type {\n",
              "        vertical-align: middle;\n",
              "    }\n",
              "\n",
              "    .dataframe tbody tr th {\n",
              "        vertical-align: top;\n",
              "    }\n",
              "\n",
              "    .dataframe thead th {\n",
              "        text-align: right;\n",
              "    }\n",
              "</style>\n",
              "<table border=\"1\" class=\"dataframe\">\n",
              "  <thead>\n",
              "    <tr style=\"text-align: right;\">\n",
              "      <th></th>\n",
              "      <th>Pic_url_1</th>\n",
              "      <th>Pic_url_2</th>\n",
              "    </tr>\n",
              "  </thead>\n",
              "  <tbody>\n",
              "  </tbody>\n",
              "</table>\n",
              "</div>\n",
              "      <button class=\"colab-df-convert\" onclick=\"convertToInteractive('df-63defb83-5d35-46e5-b11b-945d2b717552')\"\n",
              "              title=\"Convert this dataframe to an interactive table.\"\n",
              "              style=\"display:none;\">\n",
              "        \n",
              "  <svg xmlns=\"http://www.w3.org/2000/svg\" height=\"24px\"viewBox=\"0 0 24 24\"\n",
              "       width=\"24px\">\n",
              "    <path d=\"M0 0h24v24H0V0z\" fill=\"none\"/>\n",
              "    <path d=\"M18.56 5.44l.94 2.06.94-2.06 2.06-.94-2.06-.94-.94-2.06-.94 2.06-2.06.94zm-11 1L8.5 8.5l.94-2.06 2.06-.94-2.06-.94L8.5 2.5l-.94 2.06-2.06.94zm10 10l.94 2.06.94-2.06 2.06-.94-2.06-.94-.94-2.06-.94 2.06-2.06.94z\"/><path d=\"M17.41 7.96l-1.37-1.37c-.4-.4-.92-.59-1.43-.59-.52 0-1.04.2-1.43.59L10.3 9.45l-7.72 7.72c-.78.78-.78 2.05 0 2.83L4 21.41c.39.39.9.59 1.41.59.51 0 1.02-.2 1.41-.59l7.78-7.78 2.81-2.81c.8-.78.8-2.07 0-2.86zM5.41 20L4 18.59l7.72-7.72 1.47 1.35L5.41 20z\"/>\n",
              "  </svg>\n",
              "      </button>\n",
              "      \n",
              "  <style>\n",
              "    .colab-df-container {\n",
              "      display:flex;\n",
              "      flex-wrap:wrap;\n",
              "      gap: 12px;\n",
              "    }\n",
              "\n",
              "    .colab-df-convert {\n",
              "      background-color: #E8F0FE;\n",
              "      border: none;\n",
              "      border-radius: 50%;\n",
              "      cursor: pointer;\n",
              "      display: none;\n",
              "      fill: #1967D2;\n",
              "      height: 32px;\n",
              "      padding: 0 0 0 0;\n",
              "      width: 32px;\n",
              "    }\n",
              "\n",
              "    .colab-df-convert:hover {\n",
              "      background-color: #E2EBFA;\n",
              "      box-shadow: 0px 1px 2px rgba(60, 64, 67, 0.3), 0px 1px 3px 1px rgba(60, 64, 67, 0.15);\n",
              "      fill: #174EA6;\n",
              "    }\n",
              "\n",
              "    [theme=dark] .colab-df-convert {\n",
              "      background-color: #3B4455;\n",
              "      fill: #D2E3FC;\n",
              "    }\n",
              "\n",
              "    [theme=dark] .colab-df-convert:hover {\n",
              "      background-color: #434B5C;\n",
              "      box-shadow: 0px 1px 3px 1px rgba(0, 0, 0, 0.15);\n",
              "      filter: drop-shadow(0px 1px 2px rgba(0, 0, 0, 0.3));\n",
              "      fill: #FFFFFF;\n",
              "    }\n",
              "  </style>\n",
              "\n",
              "      <script>\n",
              "        const buttonEl =\n",
              "          document.querySelector('#df-63defb83-5d35-46e5-b11b-945d2b717552 button.colab-df-convert');\n",
              "        buttonEl.style.display =\n",
              "          google.colab.kernel.accessAllowed ? 'block' : 'none';\n",
              "\n",
              "        async function convertToInteractive(key) {\n",
              "          const element = document.querySelector('#df-63defb83-5d35-46e5-b11b-945d2b717552');\n",
              "          const dataTable =\n",
              "            await google.colab.kernel.invokeFunction('convertToInteractive',\n",
              "                                                     [key], {});\n",
              "          if (!dataTable) return;\n",
              "\n",
              "          const docLinkHtml = 'Like what you see? Visit the ' +\n",
              "            '<a target=\"_blank\" href=https://colab.research.google.com/notebooks/data_table.ipynb>data table notebook</a>'\n",
              "            + ' to learn more about interactive tables.';\n",
              "          element.innerHTML = '';\n",
              "          dataTable['output_type'] = 'display_data';\n",
              "          await google.colab.output.renderOutput(dataTable, element);\n",
              "          const docLink = document.createElement('div');\n",
              "          docLink.innerHTML = docLinkHtml;\n",
              "          element.appendChild(docLink);\n",
              "        }\n",
              "      </script>\n",
              "    </div>\n",
              "  </div>\n",
              "  "
            ]
          },
          "metadata": {}
        }
      ]
    },
    {
      "cell_type": "markdown",
      "source": [
        "## Даты"
      ],
      "metadata": {
        "id": "9Gw37Tbnqzn5"
      }
    },
    {
      "cell_type": "code",
      "source": [
        "date_cols = [\n",
        "    'Дата написания текста (если автор указал явно, не штемпели)',\n",
        "    'Дата открытки со штемпеля (место отправления)',\n",
        "    'Дата открытки со штемпеля (место, куда открытка прибыла)',\n",
        "    'Дата печати открытки'\n",
        "    ]"
      ],
      "metadata": {
        "id": "QTye-jXQqzKw"
      },
      "execution_count": 59,
      "outputs": []
    },
    {
      "cell_type": "markdown",
      "source": [
        "Словарь для исправления отдельных случаев"
      ],
      "metadata": {
        "id": "0Y_LV4spIY14"
      }
    },
    {
      "cell_type": "code",
      "source": [
        "date_replacement_dict = {\n",
        "    '12.18.1944': '18.12.1944',\n",
        "    '14 сентября 1914 года': '14.09.1914',\n",
        "    '1914': 'xx.xx.1914',\n",
        "    '6/6 19 авг[уста] г.Пенза 11 ч[асов] дня': '19.08.xxxx',\n",
        "    'Петербург': ots,\n",
        "    'xx.xx.xx': 'xx.xx.xxxx',\n",
        "    'xx.xx.xxxxx': 'xx.xx.xxxx',\n",
        "    '8 марта - международных женский день С праздником': ots,\n",
        "    'Июль 1912 г.': 'xx.07.1912',\n",
        "    '30/IX-76г.': '30.09.1976',\n",
        "    '11.2x.1962': '2x.11.1962',\n",
        "    '[отсутствует*30.12.1986]': '30.12.1986',\n",
        "}"
      ],
      "metadata": {
        "id": "qvLgsdOKO7gk"
      },
      "execution_count": 60,
      "outputs": []
    },
    {
      "cell_type": "markdown",
      "source": [
        "Форматирование даты"
      ],
      "metadata": {
        "id": "jFx08oo6IcYu"
      }
    },
    {
      "cell_type": "code",
      "source": [
        "def format_date(s, period):\n",
        "  # убираем г, г. или год в конце\n",
        "  s = re.sub('г(\\.|од)?$', '', s)\n",
        "\n",
        "  # убираем [], {}, ?, !, ^, лишние точки\n",
        "  s = re.sub('\\[', '', s)\n",
        "  s = re.sub('\\]', '', s)\n",
        "  s = re.sub('\\{', '', s)\n",
        "  s = re.sub('\\}', '', s)\n",
        "  s = re.sub('\\?', '', s)\n",
        "  s = re.sub('!', '', s)\n",
        "  s = re.sub('^', '', s)\n",
        "\n",
        "  s = s.lstrip().rstrip()\n",
        "  s = re.sub('\\.\\.', '.', s)\n",
        "  s = re.sub('\\.$', '', s)\n",
        "\n",
        "  # заменяем x кириллицей на латиницу\n",
        "  s = re.sub('х', 'x', s)\n",
        "\n",
        "  # если указан только год\n",
        "  m = re.match('[0-9]{4}', s)\n",
        "  if m is not None and m.group(0) == s:\n",
        "    s = f'xx.xx.{s}'\n",
        "    return s\n",
        "\n",
        "  # приводим к формату dd.mm.yyyy\n",
        "  # если в формате yyyy-mm-dd 00:00:00\n",
        "  m = re.match(timestamp_pattern, s)\n",
        "  if m is not None and m.group(0) == s:\n",
        "    s = datetime.strptime(s, '%Y-%m-%d %H:%M:%S').strftime(\"%d.%m.%Y\")\n",
        "    return s\n",
        "\n",
        "  # если день / месяц указан одной цифрой, год указан двумя цифрами\n",
        "  try:\n",
        "    day, month, year = s.split('.')\n",
        "    day = day.lstrip().rstrip()\n",
        "    month = month.lstrip().rstrip()\n",
        "    year = year.lstrip().rstrip()\n",
        "    \n",
        "    if len(day) == 1:\n",
        "      if day == 'x':\n",
        "        day = 'xx'\n",
        "      else:\n",
        "        day = f'0{day}'\n",
        "    \n",
        "    if len(month) == 1:\n",
        "      if month == 'x':\n",
        "        month = 'xx'\n",
        "      else:\n",
        "        month = f'0{month}'\n",
        "    \n",
        "    if len(year) == 2:\n",
        "      year = get_year_from_period(year, period)\n",
        "    \n",
        "    s = f'{day}.{month}.{year}'\n",
        "  \n",
        "  except:\n",
        "    pass\n",
        "\n",
        "  return s"
      ],
      "metadata": {
        "id": "zcE58TqsO7gs"
      },
      "execution_count": 61,
      "outputs": []
    },
    {
      "cell_type": "markdown",
      "source": [
        "Верный формат даты"
      ],
      "metadata": {
        "id": "HO9-NbFlIfXy"
      }
    },
    {
      "cell_type": "code",
      "source": [
        "# xx.xx.xxxx\n",
        "# date_pattern = '[0-3x][0-9x]\\.[0-1x][0-9x]\\.[0-9x]{4}(\\s?\\-\\s?[0-3x][0-9x]\\.[0-1x][0-9x]\\.[0-9x]{4})?'\n",
        "date_pattern = '[0-3x][0-9x]\\.[0-1x][0-9x]\\.[0-9x]{4}'\n",
        "\n",
        "# yyyy-mm-dd 00:00:00\n",
        "timestamp_pattern = '[0-9]{4}-[0-1][0-9]-[0-3][0-9] 00:00:00'"
      ],
      "metadata": {
        "id": "P0KHe4N1ID2W"
      },
      "execution_count": 62,
      "outputs": []
    },
    {
      "cell_type": "markdown",
      "source": [
        "Доопределение года по периоду\n",
        "* 1869 - 1917 - дореволюционные\n",
        "* 1918 - 1991 - советские\n",
        "* 1992 - … - постсоветские\n",
        "\n",
        "Дописывает год без проверки на соответствие периоду. Проверка в следующей функции"
      ],
      "metadata": {
        "id": "7kKbm4ypi89d"
      }
    },
    {
      "cell_type": "code",
      "source": [
        "def get_year_from_period(year, period):\n",
        "  decade = year[0]\n",
        "  if decade == 'x':\n",
        "    return f'xx{year}'\n",
        "\n",
        "  decade = int(decade)\n",
        "  if period == 'Дореволюционные':\n",
        "    if 6 <= decade <= 9:\n",
        "      return f'18{year}'\n",
        "    if 0 <= decade <= 1:\n",
        "      return f'19{year}'\n",
        "  \n",
        "  if period == 'Советские':\n",
        "      return f'19{year}'\n",
        "\n",
        "  if period == 'Постсоветские':\n",
        "    if decade == 9:\n",
        "      return f'19{year}'\n",
        "    if 0 <= decade <= 2:\n",
        "      return f'20{year}'\n",
        "  \n",
        "  return f'xx{year}'"
      ],
      "metadata": {
        "id": "XmpBPTHvi2U3"
      },
      "execution_count": 63,
      "outputs": []
    },
    {
      "cell_type": "code",
      "source": [
        "get_year_from_period('07', 'Дореволюционные')"
      ],
      "metadata": {
        "colab": {
          "base_uri": "https://localhost:8080/",
          "height": 35
        },
        "id": "ZYBldTvZlVZQ",
        "outputId": "50a7eef4-9952-4c68-abf4-e62a185af77b"
      },
      "execution_count": null,
      "outputs": [
        {
          "output_type": "execute_result",
          "data": {
            "text/plain": [
              "'1907'"
            ],
            "application/vnd.google.colaboratory.intrinsic+json": {
              "type": "string"
            }
          },
          "metadata": {},
          "execution_count": 142
        }
      ]
    },
    {
      "cell_type": "code",
      "source": [
        "get_year_from_period('37', 'Постсоветские')"
      ],
      "metadata": {
        "colab": {
          "base_uri": "https://localhost:8080/",
          "height": 35
        },
        "id": "ueQdt_g59znp",
        "outputId": "4e74c19a-8002-4cb9-abf8-aff23c872dcc"
      },
      "execution_count": null,
      "outputs": [
        {
          "output_type": "execute_result",
          "data": {
            "text/plain": [
              "'xx37'"
            ],
            "application/vnd.google.colaboratory.intrinsic+json": {
              "type": "string"
            }
          },
          "metadata": {},
          "execution_count": 146
        }
      ]
    },
    {
      "cell_type": "markdown",
      "source": [
        "Проверка, что год соответствует периоду"
      ],
      "metadata": {
        "id": "g9vsXFpN3OBK"
      }
    },
    {
      "cell_type": "code",
      "source": [
        "def is_period_year_consistent(year, period):\n",
        "  if period == ots or period == nrzb:\n",
        "    return True\n",
        "  for pattern in period_year_patterns[period]:\n",
        "    m = re.match(pattern, year)\n",
        "    if m is not None and m.group(0) == year:\n",
        "      return True\n",
        "  return False"
      ],
      "metadata": {
        "id": "GNCwdFvKwKJY"
      },
      "execution_count": 71,
      "outputs": []
    },
    {
      "cell_type": "code",
      "source": [
        "period_year_patterns = {\n",
        "    'Дореволюционные': [\n",
        "    '[1x][8x][6x][9x]',  # 1869\n",
        "    '[1x][8x][7-9x][0-9x]',  # 1870 - 1899\n",
        "    '[1x][9x][0x][0-9x]',  # 1900 - 1909\n",
        "    '[1x][9x][1x][0-7x]'  # 1910 - 1917\n",
        "],\n",
        "    'Советские': [\n",
        "    '[1x][9x][1x][8-9x]',  # 1918 - 1919\n",
        "    '[1x][9x][2-8x][0-9x]',  # 1920 - 1989\n",
        "    '[1x][9x][9x][0-1x]',  # 1990 - 1991\n",
        "],\n",
        "    'Постсоветские': [\n",
        "    '[1x][9x][9x][2-9x]',  # 1992 - 1999\n",
        "    '[2x][0x][0-1x][0-9x]',  # 2000 - 2019\n",
        "    '[2x][0x][2x][0-3x]',  # 2020 - 2023\n",
        "]}"
      ],
      "metadata": {
        "id": "jmeVSdmB5DtQ"
      },
      "execution_count": 65,
      "outputs": []
    },
    {
      "cell_type": "code",
      "source": [
        "is_period_year_consistent('1907', 'Дореволюционные')"
      ],
      "metadata": {
        "colab": {
          "base_uri": "https://localhost:8080/"
        },
        "id": "cdOmuZgKGTp7",
        "outputId": "bc53a34c-1349-41b7-b8ab-d671fb239e78"
      },
      "execution_count": null,
      "outputs": [
        {
          "output_type": "execute_result",
          "data": {
            "text/plain": [
              "True"
            ]
          },
          "metadata": {},
          "execution_count": 152
        }
      ]
    },
    {
      "cell_type": "code",
      "source": [
        "is_period_year_consistent('xx37', 'Постсоветские')"
      ],
      "metadata": {
        "colab": {
          "base_uri": "https://localhost:8080/"
        },
        "id": "yw4pmAqP4dHC",
        "outputId": "9aabf858-3794-4e33-b6f4-90ddda88c254"
      },
      "execution_count": null,
      "outputs": [
        {
          "output_type": "execute_result",
          "data": {
            "text/plain": [
              "False"
            ]
          },
          "metadata": {},
          "execution_count": 151
        }
      ]
    },
    {
      "cell_type": "markdown",
      "source": [
        "Главная функция замены и логирования"
      ],
      "metadata": {
        "id": "GqVzJ4QBIhca"
      }
    },
    {
      "cell_type": "code",
      "source": [
        "def replace_log(row):\n",
        "  s = row[col]\n",
        "  err = row[f'{col}_error']\n",
        "  fix = row[f'{col}_fixed']\n",
        "  period = row['Период (дореволюционный, советский, постсоветский)']\n",
        "  \n",
        "  # дата == [отсутствует] или [нрзб] \n",
        "  # -> итог. форматирование корректно, ошибок нет\n",
        "  if s == ots or s == nrzb:\n",
        "    return s, err, fix\n",
        "\n",
        "  # дата в словаре спец. замен \n",
        "  # -> итог. форматирование корректно, но есть ошибка\n",
        "  if s in date_replacement_dict:\n",
        "    return date_replacement_dict[s], True, fix\n",
        "\n",
        "  # дата исходно отформатирована корректно\n",
        "  # -> проверяем на соответствие года и периода\n",
        "  # соотв. -> итог. форматирование корректно, ошибок нет\n",
        "  # не соотв. -> итог. форматирование некорректно, есть ошибка\n",
        "  m = re.match(date_pattern, s)\n",
        "  if m is not None and m.group(0) == s:\n",
        "    year = s.split('.')[-1]\n",
        "    try:\n",
        "      if is_period_year_consistent(year, period):\n",
        "        return s, err, fix\n",
        "    except:\n",
        "      print(row['Номер открытки'], '- error:', s)\n",
        "      raise\n",
        "    else:\n",
        "      return s, True, False\n",
        "\n",
        "  # дата исходно отформатирована некорректно\n",
        "  # -> пробуем отформатировать\n",
        "  # -> проверяем на соответствие года и периода\n",
        "  # форматир. корректно, соотв. -> итог. форматирование корректно, ошибок нет\n",
        "  # форматир. некорректно или не соотв. -> итог. форматирование некорректно, есть ошибка\n",
        "  s = format_date(s, period)\n",
        "  m = re.match(date_pattern, s)\n",
        "  year = s.split('.')[-1] \n",
        "  if m is not None and m.group(0) == s:\n",
        "    try:\n",
        "      if is_period_year_consistent(year, period):\n",
        "        return s, True, fix\n",
        "    except:\n",
        "      print(row['Номер открытки'], '- error:', s)\n",
        "      raise\n",
        "  return s, True, False"
      ],
      "metadata": {
        "id": "P_FysW3jXFe1"
      },
      "execution_count": 66,
      "outputs": []
    },
    {
      "cell_type": "markdown",
      "source": [
        "Обработка столбцов"
      ],
      "metadata": {
        "id": "iee_t3Sz3RlS"
      }
    },
    {
      "cell_type": "code",
      "source": [
        "for col in date_cols:\n",
        "  replace_log_res = df.apply(replace_log, axis=1)\n",
        "  df[col] = replace_log_res.apply(lambda t: t[0])\n",
        "  df[f'{col}_error'] = replace_log_res.apply(lambda t: t[1])\n",
        "  df[f'{col}_fixed'] = replace_log_res.apply(lambda t: t[2])"
      ],
      "metadata": {
        "id": "PFtbAHliYQqz"
      },
      "execution_count": 67,
      "outputs": []
    },
    {
      "cell_type": "markdown",
      "source": [
        "Проверка"
      ],
      "metadata": {
        "id": "acC63UxZ9X_4"
      }
    },
    {
      "cell_type": "code",
      "source": [
        "col = date_cols[2]\n",
        "df[df[f'{col}_error']][[f'{col}_old', col, f'{col}_error']].sample(10)"
      ],
      "metadata": {
        "colab": {
          "base_uri": "https://localhost:8080/",
          "height": 424
        },
        "id": "ckNhhDza84gu",
        "outputId": "4dac49fa-7fa7-465e-e050-1c11a9f0988a"
      },
      "execution_count": null,
      "outputs": [
        {
          "output_type": "execute_result",
          "data": {
            "text/plain": [
              "      Дата открытки со штемпеля (место, куда открытка прибыла)_old  \\\n",
              "5191                                          23.09.1921             \n",
              "1801                                          28.12.1919             \n",
              "6942                                       25.06.[?1911]             \n",
              "3689                                 1913-05-24 00:00:00             \n",
              "3491                                 1912-03-26 00:00:00             \n",
              "5105                                 1914-04-03 00:00:00             \n",
              "621                                        23.01.[?1904]             \n",
              "4146                                            xx.xx.xx             \n",
              "62                                         27.[?04].1976             \n",
              "10311                                      25.xx.[?1978]             \n",
              "\n",
              "      Дата открытки со штемпеля (место, куда открытка прибыла)  \\\n",
              "5191                                          23.09.1921         \n",
              "1801                                          28.12.1919         \n",
              "6942                                          25.06.1911         \n",
              "3689                                          24.05.1913         \n",
              "3491                                          26.03.1912         \n",
              "5105                                          03.04.1914         \n",
              "621                                           23.01.1904         \n",
              "4146                                          xx.xx.xxxx         \n",
              "62                                            27.04.1976         \n",
              "10311                                         25.xx.1978         \n",
              "\n",
              "       Дата открытки со штемпеля (место, куда открытка прибыла)_error  \n",
              "5191                                                True               \n",
              "1801                                                True               \n",
              "6942                                                True               \n",
              "3689                                                True               \n",
              "3491                                                True               \n",
              "5105                                                True               \n",
              "621                                                 True               \n",
              "4146                                                True               \n",
              "62                                                  True               \n",
              "10311                                               True               "
            ],
            "text/html": [
              "\n",
              "  <div id=\"df-2115a3b1-789b-477b-bb28-701a72d7d265\">\n",
              "    <div class=\"colab-df-container\">\n",
              "      <div>\n",
              "<style scoped>\n",
              "    .dataframe tbody tr th:only-of-type {\n",
              "        vertical-align: middle;\n",
              "    }\n",
              "\n",
              "    .dataframe tbody tr th {\n",
              "        vertical-align: top;\n",
              "    }\n",
              "\n",
              "    .dataframe thead th {\n",
              "        text-align: right;\n",
              "    }\n",
              "</style>\n",
              "<table border=\"1\" class=\"dataframe\">\n",
              "  <thead>\n",
              "    <tr style=\"text-align: right;\">\n",
              "      <th></th>\n",
              "      <th>Дата открытки со штемпеля (место, куда открытка прибыла)_old</th>\n",
              "      <th>Дата открытки со штемпеля (место, куда открытка прибыла)</th>\n",
              "      <th>Дата открытки со штемпеля (место, куда открытка прибыла)_error</th>\n",
              "    </tr>\n",
              "  </thead>\n",
              "  <tbody>\n",
              "    <tr>\n",
              "      <th>5191</th>\n",
              "      <td>23.09.1921</td>\n",
              "      <td>23.09.1921</td>\n",
              "      <td>True</td>\n",
              "    </tr>\n",
              "    <tr>\n",
              "      <th>1801</th>\n",
              "      <td>28.12.1919</td>\n",
              "      <td>28.12.1919</td>\n",
              "      <td>True</td>\n",
              "    </tr>\n",
              "    <tr>\n",
              "      <th>6942</th>\n",
              "      <td>25.06.[?1911]</td>\n",
              "      <td>25.06.1911</td>\n",
              "      <td>True</td>\n",
              "    </tr>\n",
              "    <tr>\n",
              "      <th>3689</th>\n",
              "      <td>1913-05-24 00:00:00</td>\n",
              "      <td>24.05.1913</td>\n",
              "      <td>True</td>\n",
              "    </tr>\n",
              "    <tr>\n",
              "      <th>3491</th>\n",
              "      <td>1912-03-26 00:00:00</td>\n",
              "      <td>26.03.1912</td>\n",
              "      <td>True</td>\n",
              "    </tr>\n",
              "    <tr>\n",
              "      <th>5105</th>\n",
              "      <td>1914-04-03 00:00:00</td>\n",
              "      <td>03.04.1914</td>\n",
              "      <td>True</td>\n",
              "    </tr>\n",
              "    <tr>\n",
              "      <th>621</th>\n",
              "      <td>23.01.[?1904]</td>\n",
              "      <td>23.01.1904</td>\n",
              "      <td>True</td>\n",
              "    </tr>\n",
              "    <tr>\n",
              "      <th>4146</th>\n",
              "      <td>xx.xx.xx</td>\n",
              "      <td>xx.xx.xxxx</td>\n",
              "      <td>True</td>\n",
              "    </tr>\n",
              "    <tr>\n",
              "      <th>62</th>\n",
              "      <td>27.[?04].1976</td>\n",
              "      <td>27.04.1976</td>\n",
              "      <td>True</td>\n",
              "    </tr>\n",
              "    <tr>\n",
              "      <th>10311</th>\n",
              "      <td>25.xx.[?1978]</td>\n",
              "      <td>25.xx.1978</td>\n",
              "      <td>True</td>\n",
              "    </tr>\n",
              "  </tbody>\n",
              "</table>\n",
              "</div>\n",
              "      <button class=\"colab-df-convert\" onclick=\"convertToInteractive('df-2115a3b1-789b-477b-bb28-701a72d7d265')\"\n",
              "              title=\"Convert this dataframe to an interactive table.\"\n",
              "              style=\"display:none;\">\n",
              "        \n",
              "  <svg xmlns=\"http://www.w3.org/2000/svg\" height=\"24px\"viewBox=\"0 0 24 24\"\n",
              "       width=\"24px\">\n",
              "    <path d=\"M0 0h24v24H0V0z\" fill=\"none\"/>\n",
              "    <path d=\"M18.56 5.44l.94 2.06.94-2.06 2.06-.94-2.06-.94-.94-2.06-.94 2.06-2.06.94zm-11 1L8.5 8.5l.94-2.06 2.06-.94-2.06-.94L8.5 2.5l-.94 2.06-2.06.94zm10 10l.94 2.06.94-2.06 2.06-.94-2.06-.94-.94-2.06-.94 2.06-2.06.94z\"/><path d=\"M17.41 7.96l-1.37-1.37c-.4-.4-.92-.59-1.43-.59-.52 0-1.04.2-1.43.59L10.3 9.45l-7.72 7.72c-.78.78-.78 2.05 0 2.83L4 21.41c.39.39.9.59 1.41.59.51 0 1.02-.2 1.41-.59l7.78-7.78 2.81-2.81c.8-.78.8-2.07 0-2.86zM5.41 20L4 18.59l7.72-7.72 1.47 1.35L5.41 20z\"/>\n",
              "  </svg>\n",
              "      </button>\n",
              "      \n",
              "  <style>\n",
              "    .colab-df-container {\n",
              "      display:flex;\n",
              "      flex-wrap:wrap;\n",
              "      gap: 12px;\n",
              "    }\n",
              "\n",
              "    .colab-df-convert {\n",
              "      background-color: #E8F0FE;\n",
              "      border: none;\n",
              "      border-radius: 50%;\n",
              "      cursor: pointer;\n",
              "      display: none;\n",
              "      fill: #1967D2;\n",
              "      height: 32px;\n",
              "      padding: 0 0 0 0;\n",
              "      width: 32px;\n",
              "    }\n",
              "\n",
              "    .colab-df-convert:hover {\n",
              "      background-color: #E2EBFA;\n",
              "      box-shadow: 0px 1px 2px rgba(60, 64, 67, 0.3), 0px 1px 3px 1px rgba(60, 64, 67, 0.15);\n",
              "      fill: #174EA6;\n",
              "    }\n",
              "\n",
              "    [theme=dark] .colab-df-convert {\n",
              "      background-color: #3B4455;\n",
              "      fill: #D2E3FC;\n",
              "    }\n",
              "\n",
              "    [theme=dark] .colab-df-convert:hover {\n",
              "      background-color: #434B5C;\n",
              "      box-shadow: 0px 1px 3px 1px rgba(0, 0, 0, 0.15);\n",
              "      filter: drop-shadow(0px 1px 2px rgba(0, 0, 0, 0.3));\n",
              "      fill: #FFFFFF;\n",
              "    }\n",
              "  </style>\n",
              "\n",
              "      <script>\n",
              "        const buttonEl =\n",
              "          document.querySelector('#df-2115a3b1-789b-477b-bb28-701a72d7d265 button.colab-df-convert');\n",
              "        buttonEl.style.display =\n",
              "          google.colab.kernel.accessAllowed ? 'block' : 'none';\n",
              "\n",
              "        async function convertToInteractive(key) {\n",
              "          const element = document.querySelector('#df-2115a3b1-789b-477b-bb28-701a72d7d265');\n",
              "          const dataTable =\n",
              "            await google.colab.kernel.invokeFunction('convertToInteractive',\n",
              "                                                     [key], {});\n",
              "          if (!dataTable) return;\n",
              "\n",
              "          const docLinkHtml = 'Like what you see? Visit the ' +\n",
              "            '<a target=\"_blank\" href=https://colab.research.google.com/notebooks/data_table.ipynb>data table notebook</a>'\n",
              "            + ' to learn more about interactive tables.';\n",
              "          element.innerHTML = '';\n",
              "          dataTable['output_type'] = 'display_data';\n",
              "          await google.colab.output.renderOutput(dataTable, element);\n",
              "          const docLink = document.createElement('div');\n",
              "          docLink.innerHTML = docLinkHtml;\n",
              "          element.appendChild(docLink);\n",
              "        }\n",
              "      </script>\n",
              "    </div>\n",
              "  </div>\n",
              "  "
            ]
          },
          "metadata": {},
          "execution_count": 244
        }
      ]
    },
    {
      "cell_type": "markdown",
      "source": [
        "Залогировано, но не исправлено"
      ],
      "metadata": {
        "id": "owSDzslfXTaJ"
      }
    },
    {
      "cell_type": "code",
      "source": [
        "not_fixed = pd.concat([\n",
        "  df[~df[f'{col}_fixed']][\n",
        "      ['Pic_url_1', 'Pic_url_2', 'Период (дореволюционный, советский, постсоветский)'] + \\\n",
        "      [f'{col}_old' for col in date_cols]\n",
        "      ].rename(columns={\n",
        "          'Период (дореволюционный, советский, постсоветский)': 'Период',\n",
        "          # f'{col}_error': 'error',\n",
        "          # f'{col}_fixed': 'fixed'\n",
        "      }\n",
        "  )\n",
        "  for col in date_cols\n",
        "])\n",
        "\n",
        "not_fixed = not_fixed.drop_duplicates()\n",
        "\n",
        "with pd.option_context('display.max_colwidth', None):\n",
        "  display(not_fixed.sample(15))"
      ],
      "metadata": {
        "id": "s2phuw1thf83",
        "colab": {
          "base_uri": "https://localhost:8080/",
          "height": 931
        },
        "outputId": "ebd17505-af9d-41eb-815c-5a269ca39390"
      },
      "execution_count": null,
      "outputs": [
        {
          "output_type": "display_data",
          "data": {
            "text/plain": [
              "                                                                           Pic_url_1  \\\n",
              "136           https://storage.yandexcloud.net/postcards-open-sources/Auction-821.jpg   \n",
              "705        https://storage.yandexcloud.net/postcards-open-sources/auction04 (97).jpg   \n",
              "4405     https://storage.yandexcloud.net/postcards-open-sources/auction04 (9141).jpg   \n",
              "1312             https://storage.yandexcloud.net/postcards-open-sources/1-2584-1.jpg   \n",
              "180            https://storage.yandexcloud.net/postcards-open-sources/conros1689.jpg   \n",
              "1801      https://storage.yandexcloud.net/postcards-open-sources/auction04 (685).jpg   \n",
              "138           https://storage.yandexcloud.net/postcards-open-sources/Auction-825.jpg   \n",
              "2292     https://storage.yandexcloud.net/postcards-open-sources/auction04 (3597).jpg   \n",
              "354                          https://forum.vgd.ru/file.php?fid=191261&key=1931982353   \n",
              "1273      https://storage.yandexcloud.net/postcards-open-sources/auction04 (619).jpg   \n",
              "10358  https://storage.yandexcloud.net/postcards-museum-cut/29-10-4/446-2003 1_1.jpg   \n",
              "3765         https://storage.yandexcloud.net/postcards-museums/detmuseum/polina5.png   \n",
              "333                          https://forum.vgd.ru/file.php?fid=191198&key=2041532906   \n",
              "1602             https://storage.yandexcloud.net/postcards-open-sources/1-2874-1.jpg   \n",
              "1143     https://storage.yandexcloud.net/postcards-open-sources/auction04 (4213).jpg   \n",
              "\n",
              "                                                                           Pic_url_2  \\\n",
              "136           https://storage.yandexcloud.net/postcards-open-sources/Auction-822.jpg   \n",
              "705        https://storage.yandexcloud.net/postcards-open-sources/auction04 (98).jpg   \n",
              "4405     https://storage.yandexcloud.net/postcards-open-sources/auction04 (9142).jpg   \n",
              "1312             https://storage.yandexcloud.net/postcards-open-sources/1-2584-2.jpg   \n",
              "180            https://storage.yandexcloud.net/postcards-open-sources/conros1690.jpg   \n",
              "1801      https://storage.yandexcloud.net/postcards-open-sources/auction04 (686).jpg   \n",
              "138           https://storage.yandexcloud.net/postcards-open-sources/Auction-826.jpg   \n",
              "2292     https://storage.yandexcloud.net/postcards-open-sources/auction04 (3598).jpg   \n",
              "354                           https://forum.vgd.ru/file.php?fid=191262&key=317345921   \n",
              "1273      https://storage.yandexcloud.net/postcards-open-sources/auction04 (620).jpg   \n",
              "10358  https://storage.yandexcloud.net/postcards-museum-cut/29-10-4/446-2003 1_2.jpg   \n",
              "3765         https://storage.yandexcloud.net/postcards-museums/detmuseum/polina6.png   \n",
              "333                           https://forum.vgd.ru/file.php?fid=191199&key=673089414   \n",
              "1602             https://storage.yandexcloud.net/postcards-open-sources/1-2874-2.jpg   \n",
              "1143     https://storage.yandexcloud.net/postcards-open-sources/auction04 (4214).jpg   \n",
              "\n",
              "                Период  \\\n",
              "136          Советские   \n",
              "705    Дореволюционные   \n",
              "4405         Советские   \n",
              "1312     Постсоветские   \n",
              "180          Советские   \n",
              "1801   Дореволюционные   \n",
              "138      Постсоветские   \n",
              "2292     Постсоветские   \n",
              "354    Дореволюционные   \n",
              "1273   Дореволюционные   \n",
              "10358        Советские   \n",
              "3765   Дореволюционные   \n",
              "333    Дореволюционные   \n",
              "1602     Постсоветские   \n",
              "1143         Советские   \n",
              "\n",
              "      Дата написания текста (если автор указал явно, не штемпели)_old  \\\n",
              "136                                                     [отсутствует]   \n",
              "705                                                        22.01.1918   \n",
              "4405                                                    [отсутствует]   \n",
              "1312                                                    [отсутствует]   \n",
              "180                                                     [отсутствует]   \n",
              "1801                                                    [отсутствует]   \n",
              "138                                                     [отсутствует]   \n",
              "2292                                                    [отсутствует]   \n",
              "354                                                     [отсутствует]   \n",
              "1273                                                       01.04.xxxx   \n",
              "10358                                                   [отсутствует]   \n",
              "3765                                                        1.05.1924   \n",
              "333                                                     [отсутствует]   \n",
              "1602                                                    [отсутствует]   \n",
              "1143                                                    [отсутствует]   \n",
              "\n",
              "      Дата открытки со штемпеля (место отправления)_old  \\\n",
              "136                                       [отсутствует]   \n",
              "705                                       [отсутствует]   \n",
              "4405                                      [отсутствует]   \n",
              "1312                                         xx.xx.xxxx   \n",
              "180                                          23.12.xx10   \n",
              "1801                                         24.12.1919   \n",
              "138                                          xx.xx.xxxx   \n",
              "2292                                      [отсутствует]   \n",
              "354                                          2x.xx.1933   \n",
              "1273                                      [отсутствует]   \n",
              "10358                                        26.04.2004   \n",
              "3765                                      [отсутствует]   \n",
              "333                                          19.07.1925   \n",
              "1602                                         21.02.1997   \n",
              "1143                                         11.12.1992   \n",
              "\n",
              "      Дата открытки со штемпеля (место, куда открытка прибыла)_old  \\\n",
              "136                                                  [отсутствует]   \n",
              "705                                            1918-01-26 00:00:00   \n",
              "4405                                                 [отсутствует]   \n",
              "1312                                                    16.01.1992   \n",
              "180                                                  [отсутствует]   \n",
              "1801                                                    28.12.1919   \n",
              "138                                                     24.12.1993   \n",
              "2292                                                 [отсутствует]   \n",
              "354                                                     26.xx.1933   \n",
              "1273                                                    03.04.xxxx   \n",
              "10358                                                   03.05.2004   \n",
              "3765                                                 [отсутствует]   \n",
              "333                                                     21.07.1925   \n",
              "1602                                                 [отсутствует]   \n",
              "1143                                                    19.12.1992   \n",
              "\n",
              "      Дата печати открытки_old  \n",
              "136                 04.12.1992  \n",
              "705                 xx.xx.1917  \n",
              "4405                xx.xx.1905  \n",
              "1312                13.12.1990  \n",
              "180              [отсутствует]  \n",
              "1801             [отсутствует]  \n",
              "138                 15.02.1990  \n",
              "2292       1991-11-28 00:00:00  \n",
              "354                 19.05.1933  \n",
              "1273                xx.xx.1926  \n",
              "10358               24.10.2002  \n",
              "3765             [отсутствует]  \n",
              "333              [отсутствует]  \n",
              "1602                22.05.1991  \n",
              "1143                13.12.1990  "
            ],
            "text/html": [
              "\n",
              "  <div id=\"df-94fce71f-0456-44ca-8be3-dda3ea306dc9\">\n",
              "    <div class=\"colab-df-container\">\n",
              "      <div>\n",
              "<style scoped>\n",
              "    .dataframe tbody tr th:only-of-type {\n",
              "        vertical-align: middle;\n",
              "    }\n",
              "\n",
              "    .dataframe tbody tr th {\n",
              "        vertical-align: top;\n",
              "    }\n",
              "\n",
              "    .dataframe thead th {\n",
              "        text-align: right;\n",
              "    }\n",
              "</style>\n",
              "<table border=\"1\" class=\"dataframe\">\n",
              "  <thead>\n",
              "    <tr style=\"text-align: right;\">\n",
              "      <th></th>\n",
              "      <th>Pic_url_1</th>\n",
              "      <th>Pic_url_2</th>\n",
              "      <th>Период</th>\n",
              "      <th>Дата написания текста (если автор указал явно, не штемпели)_old</th>\n",
              "      <th>Дата открытки со штемпеля (место отправления)_old</th>\n",
              "      <th>Дата открытки со штемпеля (место, куда открытка прибыла)_old</th>\n",
              "      <th>Дата печати открытки_old</th>\n",
              "    </tr>\n",
              "  </thead>\n",
              "  <tbody>\n",
              "    <tr>\n",
              "      <th>136</th>\n",
              "      <td>https://storage.yandexcloud.net/postcards-open-sources/Auction-821.jpg</td>\n",
              "      <td>https://storage.yandexcloud.net/postcards-open-sources/Auction-822.jpg</td>\n",
              "      <td>Советские</td>\n",
              "      <td>[отсутствует]</td>\n",
              "      <td>[отсутствует]</td>\n",
              "      <td>[отсутствует]</td>\n",
              "      <td>04.12.1992</td>\n",
              "    </tr>\n",
              "    <tr>\n",
              "      <th>705</th>\n",
              "      <td>https://storage.yandexcloud.net/postcards-open-sources/auction04 (97).jpg</td>\n",
              "      <td>https://storage.yandexcloud.net/postcards-open-sources/auction04 (98).jpg</td>\n",
              "      <td>Дореволюционные</td>\n",
              "      <td>22.01.1918</td>\n",
              "      <td>[отсутствует]</td>\n",
              "      <td>1918-01-26 00:00:00</td>\n",
              "      <td>xx.xx.1917</td>\n",
              "    </tr>\n",
              "    <tr>\n",
              "      <th>4405</th>\n",
              "      <td>https://storage.yandexcloud.net/postcards-open-sources/auction04 (9141).jpg</td>\n",
              "      <td>https://storage.yandexcloud.net/postcards-open-sources/auction04 (9142).jpg</td>\n",
              "      <td>Советские</td>\n",
              "      <td>[отсутствует]</td>\n",
              "      <td>[отсутствует]</td>\n",
              "      <td>[отсутствует]</td>\n",
              "      <td>xx.xx.1905</td>\n",
              "    </tr>\n",
              "    <tr>\n",
              "      <th>1312</th>\n",
              "      <td>https://storage.yandexcloud.net/postcards-open-sources/1-2584-1.jpg</td>\n",
              "      <td>https://storage.yandexcloud.net/postcards-open-sources/1-2584-2.jpg</td>\n",
              "      <td>Постсоветские</td>\n",
              "      <td>[отсутствует]</td>\n",
              "      <td>xx.xx.xxxx</td>\n",
              "      <td>16.01.1992</td>\n",
              "      <td>13.12.1990</td>\n",
              "    </tr>\n",
              "    <tr>\n",
              "      <th>180</th>\n",
              "      <td>https://storage.yandexcloud.net/postcards-open-sources/conros1689.jpg</td>\n",
              "      <td>https://storage.yandexcloud.net/postcards-open-sources/conros1690.jpg</td>\n",
              "      <td>Советские</td>\n",
              "      <td>[отсутствует]</td>\n",
              "      <td>23.12.xx10</td>\n",
              "      <td>[отсутствует]</td>\n",
              "      <td>[отсутствует]</td>\n",
              "    </tr>\n",
              "    <tr>\n",
              "      <th>1801</th>\n",
              "      <td>https://storage.yandexcloud.net/postcards-open-sources/auction04 (685).jpg</td>\n",
              "      <td>https://storage.yandexcloud.net/postcards-open-sources/auction04 (686).jpg</td>\n",
              "      <td>Дореволюционные</td>\n",
              "      <td>[отсутствует]</td>\n",
              "      <td>24.12.1919</td>\n",
              "      <td>28.12.1919</td>\n",
              "      <td>[отсутствует]</td>\n",
              "    </tr>\n",
              "    <tr>\n",
              "      <th>138</th>\n",
              "      <td>https://storage.yandexcloud.net/postcards-open-sources/Auction-825.jpg</td>\n",
              "      <td>https://storage.yandexcloud.net/postcards-open-sources/Auction-826.jpg</td>\n",
              "      <td>Постсоветские</td>\n",
              "      <td>[отсутствует]</td>\n",
              "      <td>xx.xx.xxxx</td>\n",
              "      <td>24.12.1993</td>\n",
              "      <td>15.02.1990</td>\n",
              "    </tr>\n",
              "    <tr>\n",
              "      <th>2292</th>\n",
              "      <td>https://storage.yandexcloud.net/postcards-open-sources/auction04 (3597).jpg</td>\n",
              "      <td>https://storage.yandexcloud.net/postcards-open-sources/auction04 (3598).jpg</td>\n",
              "      <td>Постсоветские</td>\n",
              "      <td>[отсутствует]</td>\n",
              "      <td>[отсутствует]</td>\n",
              "      <td>[отсутствует]</td>\n",
              "      <td>1991-11-28 00:00:00</td>\n",
              "    </tr>\n",
              "    <tr>\n",
              "      <th>354</th>\n",
              "      <td>https://forum.vgd.ru/file.php?fid=191261&amp;key=1931982353</td>\n",
              "      <td>https://forum.vgd.ru/file.php?fid=191262&amp;key=317345921</td>\n",
              "      <td>Дореволюционные</td>\n",
              "      <td>[отсутствует]</td>\n",
              "      <td>2x.xx.1933</td>\n",
              "      <td>26.xx.1933</td>\n",
              "      <td>19.05.1933</td>\n",
              "    </tr>\n",
              "    <tr>\n",
              "      <th>1273</th>\n",
              "      <td>https://storage.yandexcloud.net/postcards-open-sources/auction04 (619).jpg</td>\n",
              "      <td>https://storage.yandexcloud.net/postcards-open-sources/auction04 (620).jpg</td>\n",
              "      <td>Дореволюционные</td>\n",
              "      <td>01.04.xxxx</td>\n",
              "      <td>[отсутствует]</td>\n",
              "      <td>03.04.xxxx</td>\n",
              "      <td>xx.xx.1926</td>\n",
              "    </tr>\n",
              "    <tr>\n",
              "      <th>10358</th>\n",
              "      <td>https://storage.yandexcloud.net/postcards-museum-cut/29-10-4/446-2003 1_1.jpg</td>\n",
              "      <td>https://storage.yandexcloud.net/postcards-museum-cut/29-10-4/446-2003 1_2.jpg</td>\n",
              "      <td>Советские</td>\n",
              "      <td>[отсутствует]</td>\n",
              "      <td>26.04.2004</td>\n",
              "      <td>03.05.2004</td>\n",
              "      <td>24.10.2002</td>\n",
              "    </tr>\n",
              "    <tr>\n",
              "      <th>3765</th>\n",
              "      <td>https://storage.yandexcloud.net/postcards-museums/detmuseum/polina5.png</td>\n",
              "      <td>https://storage.yandexcloud.net/postcards-museums/detmuseum/polina6.png</td>\n",
              "      <td>Дореволюционные</td>\n",
              "      <td>1.05.1924</td>\n",
              "      <td>[отсутствует]</td>\n",
              "      <td>[отсутствует]</td>\n",
              "      <td>[отсутствует]</td>\n",
              "    </tr>\n",
              "    <tr>\n",
              "      <th>333</th>\n",
              "      <td>https://forum.vgd.ru/file.php?fid=191198&amp;key=2041532906</td>\n",
              "      <td>https://forum.vgd.ru/file.php?fid=191199&amp;key=673089414</td>\n",
              "      <td>Дореволюционные</td>\n",
              "      <td>[отсутствует]</td>\n",
              "      <td>19.07.1925</td>\n",
              "      <td>21.07.1925</td>\n",
              "      <td>[отсутствует]</td>\n",
              "    </tr>\n",
              "    <tr>\n",
              "      <th>1602</th>\n",
              "      <td>https://storage.yandexcloud.net/postcards-open-sources/1-2874-1.jpg</td>\n",
              "      <td>https://storage.yandexcloud.net/postcards-open-sources/1-2874-2.jpg</td>\n",
              "      <td>Постсоветские</td>\n",
              "      <td>[отсутствует]</td>\n",
              "      <td>21.02.1997</td>\n",
              "      <td>[отсутствует]</td>\n",
              "      <td>22.05.1991</td>\n",
              "    </tr>\n",
              "    <tr>\n",
              "      <th>1143</th>\n",
              "      <td>https://storage.yandexcloud.net/postcards-open-sources/auction04 (4213).jpg</td>\n",
              "      <td>https://storage.yandexcloud.net/postcards-open-sources/auction04 (4214).jpg</td>\n",
              "      <td>Советские</td>\n",
              "      <td>[отсутствует]</td>\n",
              "      <td>11.12.1992</td>\n",
              "      <td>19.12.1992</td>\n",
              "      <td>13.12.1990</td>\n",
              "    </tr>\n",
              "  </tbody>\n",
              "</table>\n",
              "</div>\n",
              "      <button class=\"colab-df-convert\" onclick=\"convertToInteractive('df-94fce71f-0456-44ca-8be3-dda3ea306dc9')\"\n",
              "              title=\"Convert this dataframe to an interactive table.\"\n",
              "              style=\"display:none;\">\n",
              "        \n",
              "  <svg xmlns=\"http://www.w3.org/2000/svg\" height=\"24px\"viewBox=\"0 0 24 24\"\n",
              "       width=\"24px\">\n",
              "    <path d=\"M0 0h24v24H0V0z\" fill=\"none\"/>\n",
              "    <path d=\"M18.56 5.44l.94 2.06.94-2.06 2.06-.94-2.06-.94-.94-2.06-.94 2.06-2.06.94zm-11 1L8.5 8.5l.94-2.06 2.06-.94-2.06-.94L8.5 2.5l-.94 2.06-2.06.94zm10 10l.94 2.06.94-2.06 2.06-.94-2.06-.94-.94-2.06-.94 2.06-2.06.94z\"/><path d=\"M17.41 7.96l-1.37-1.37c-.4-.4-.92-.59-1.43-.59-.52 0-1.04.2-1.43.59L10.3 9.45l-7.72 7.72c-.78.78-.78 2.05 0 2.83L4 21.41c.39.39.9.59 1.41.59.51 0 1.02-.2 1.41-.59l7.78-7.78 2.81-2.81c.8-.78.8-2.07 0-2.86zM5.41 20L4 18.59l7.72-7.72 1.47 1.35L5.41 20z\"/>\n",
              "  </svg>\n",
              "      </button>\n",
              "      \n",
              "  <style>\n",
              "    .colab-df-container {\n",
              "      display:flex;\n",
              "      flex-wrap:wrap;\n",
              "      gap: 12px;\n",
              "    }\n",
              "\n",
              "    .colab-df-convert {\n",
              "      background-color: #E8F0FE;\n",
              "      border: none;\n",
              "      border-radius: 50%;\n",
              "      cursor: pointer;\n",
              "      display: none;\n",
              "      fill: #1967D2;\n",
              "      height: 32px;\n",
              "      padding: 0 0 0 0;\n",
              "      width: 32px;\n",
              "    }\n",
              "\n",
              "    .colab-df-convert:hover {\n",
              "      background-color: #E2EBFA;\n",
              "      box-shadow: 0px 1px 2px rgba(60, 64, 67, 0.3), 0px 1px 3px 1px rgba(60, 64, 67, 0.15);\n",
              "      fill: #174EA6;\n",
              "    }\n",
              "\n",
              "    [theme=dark] .colab-df-convert {\n",
              "      background-color: #3B4455;\n",
              "      fill: #D2E3FC;\n",
              "    }\n",
              "\n",
              "    [theme=dark] .colab-df-convert:hover {\n",
              "      background-color: #434B5C;\n",
              "      box-shadow: 0px 1px 3px 1px rgba(0, 0, 0, 0.15);\n",
              "      filter: drop-shadow(0px 1px 2px rgba(0, 0, 0, 0.3));\n",
              "      fill: #FFFFFF;\n",
              "    }\n",
              "  </style>\n",
              "\n",
              "      <script>\n",
              "        const buttonEl =\n",
              "          document.querySelector('#df-94fce71f-0456-44ca-8be3-dda3ea306dc9 button.colab-df-convert');\n",
              "        buttonEl.style.display =\n",
              "          google.colab.kernel.accessAllowed ? 'block' : 'none';\n",
              "\n",
              "        async function convertToInteractive(key) {\n",
              "          const element = document.querySelector('#df-94fce71f-0456-44ca-8be3-dda3ea306dc9');\n",
              "          const dataTable =\n",
              "            await google.colab.kernel.invokeFunction('convertToInteractive',\n",
              "                                                     [key], {});\n",
              "          if (!dataTable) return;\n",
              "\n",
              "          const docLinkHtml = 'Like what you see? Visit the ' +\n",
              "            '<a target=\"_blank\" href=https://colab.research.google.com/notebooks/data_table.ipynb>data table notebook</a>'\n",
              "            + ' to learn more about interactive tables.';\n",
              "          element.innerHTML = '';\n",
              "          dataTable['output_type'] = 'display_data';\n",
              "          await google.colab.output.renderOutput(dataTable, element);\n",
              "          const docLink = document.createElement('div');\n",
              "          docLink.innerHTML = docLinkHtml;\n",
              "          element.appendChild(docLink);\n",
              "        }\n",
              "      </script>\n",
              "    </div>\n",
              "  </div>\n",
              "  "
            ]
          },
          "metadata": {}
        }
      ]
    },
    {
      "cell_type": "code",
      "source": [
        "not_fixed.shape"
      ],
      "metadata": {
        "colab": {
          "base_uri": "https://localhost:8080/"
        },
        "id": "fnu75RbYLY5-",
        "outputId": "e9ce025b-30bc-441f-a8c7-90c8481bc342"
      },
      "execution_count": null,
      "outputs": [
        {
          "output_type": "execute_result",
          "data": {
            "text/plain": [
              "(415, 6)"
            ]
          },
          "metadata": {},
          "execution_count": 266
        }
      ]
    },
    {
      "cell_type": "code",
      "source": [
        "not_fixed['Pic_url_2'].nunique()"
      ],
      "metadata": {
        "colab": {
          "base_uri": "https://localhost:8080/"
        },
        "id": "enUxh_oCJ8QP",
        "outputId": "f10bf676-99a6-43dc-e989-c4ee6ce4eeba"
      },
      "execution_count": null,
      "outputs": [
        {
          "output_type": "execute_result",
          "data": {
            "text/plain": [
              "415"
            ]
          },
          "metadata": {},
          "execution_count": 259
        }
      ]
    },
    {
      "cell_type": "markdown",
      "source": [
        "## Несоответствие дат"
      ],
      "metadata": {
        "id": "ihTF2UqcJLY6"
      }
    },
    {
      "cell_type": "markdown",
      "source": [
        "### Дата печати и период --- 33"
      ],
      "metadata": {
        "id": "HvrCestOH2xh"
      }
    },
    {
      "cell_type": "code",
      "source": [
        "def check_print_date_period(print_date, period):\n",
        "  year = print_date.split('.')[-1]\n",
        "  if period in (ots, nrzb) or year in (ots, nrzb):\n",
        "    return True\n",
        "\n",
        "  if period == 'Дореволюционные':\n",
        "    for pattern in period_year_patterns['Дореволюционные']:\n",
        "      m = re.match(pattern, year)\n",
        "      if m is not None and m.group(0) == year:\n",
        "        return True\n",
        "    return False\n",
        "\n",
        "  if period == 'Советские':\n",
        "    for pattern in period_year_patterns['Дореволюционные'] + period_year_patterns['Советские']:\n",
        "      m = re.match(pattern, year)\n",
        "      if m is not None and m.group(0) == year:\n",
        "        return True\n",
        "    return False"
      ],
      "metadata": {
        "id": "hC1ve34pJXUr"
      },
      "execution_count": 96,
      "outputs": []
    },
    {
      "cell_type": "code",
      "source": [
        "df['print_date_period_cons'] = df.apply(\n",
        "    lambda row: check_print_date_period(\n",
        "        row['Дата печати открытки'], \n",
        "        row['Период (дореволюционный, советский, постсоветский)']\n",
        "        ),\n",
        "    axis=1\n",
        ")"
      ],
      "metadata": {
        "id": "y-VihsPPH5q7"
      },
      "execution_count": 97,
      "outputs": []
    },
    {
      "cell_type": "code",
      "source": [
        "df['print_date_period_cons'].value_counts()"
      ],
      "metadata": {
        "colab": {
          "base_uri": "https://localhost:8080/"
        },
        "id": "w9gnTb1TIeg6",
        "outputId": "5ec74d81-5505-4f2b-e813-b10c80431381"
      },
      "execution_count": 98,
      "outputs": [
        {
          "output_type": "execute_result",
          "data": {
            "text/plain": [
              "True     17462\n",
              "False       33\n",
              "Name: print_date_period_cons, dtype: int64"
            ]
          },
          "metadata": {},
          "execution_count": 98
        }
      ]
    },
    {
      "cell_type": "code",
      "source": [
        "df[df['print_date_period_cons'] == False][\n",
        "    ['Дата печати открытки', 'Период (дореволюционный, советский, постсоветский)', \n",
        "     'print_date_period_cons']\n",
        "    ]"
      ],
      "metadata": {
        "colab": {
          "base_uri": "https://localhost:8080/",
          "height": 1000
        },
        "id": "_trJShDyIkAd",
        "outputId": "09478a7b-4ac6-4086-b7f5-8d11f24d21c2"
      },
      "execution_count": 99,
      "outputs": [
        {
          "output_type": "execute_result",
          "data": {
            "text/plain": [
              "      Дата печати открытки Период (дореволюционный, советский, постсоветский)  \\\n",
              "127             xx.xx.1918                                    Дореволюционные   \n",
              "229             15.12.193x                                    Дореволюционные   \n",
              "354             19.05.1933                                    Дореволюционные   \n",
              "136             04.12.1992                                          Советские   \n",
              "945             01.04.1961                                    Дореволюционные   \n",
              "1361            xx.xx.1924                                    Дореволюционные   \n",
              "3888            20.09.1950                                    Дореволюционные   \n",
              "4158            xx.xx.1992                                          Советские   \n",
              "4830            27.02.1991                                    Дореволюционные   \n",
              "285             xx.xx.1756                                    Дореволюционные   \n",
              "672             xx.xx.1825                                    Дореволюционные   \n",
              "3413            xx.xx.1979                                    Дореволюционные   \n",
              "3440            xx.xx.1783                                          Советские   \n",
              "3452            27.09.1973                                    Дореволюционные   \n",
              "4071            xx.xx.1922                                    Дореволюционные   \n",
              "5089            12.09.1993                                          Советские   \n",
              "5253            xx.xx.1992                                          Советские   \n",
              "5293            xx.xx.1992                                          Советские   \n",
              "5342            06.12.1985                                    Дореволюционные   \n",
              "5622            19.12.1996                                          Советские   \n",
              "6825            xx.xx.1997                                          Советские   \n",
              "7001            xx.xx.1918                                    Дореволюционные   \n",
              "10358           24.10.2002                                          Советские   \n",
              "1152            31.03.1075                                          Советские   \n",
              "1273            xx.xx.1926                                    Дореволюционные   \n",
              "2763            01.12.1819                                          Советские   \n",
              "2775            04.12.1992                                          Советские   \n",
              "3429            12.01.1968                                    Дореволюционные   \n",
              "4019            xx.xx.1625                                    Дореволюционные   \n",
              "5003            xx.xx.1846                                          Советские   \n",
              "6651            09.12.2021                                          Советские   \n",
              "6764            xx.xx.1918                                    Дореволюционные   \n",
              "6844            xx.xx.1918                                    Дореволюционные   \n",
              "\n",
              "      print_date_period_cons  \n",
              "127                    False  \n",
              "229                    False  \n",
              "354                    False  \n",
              "136                    False  \n",
              "945                    False  \n",
              "1361                   False  \n",
              "3888                   False  \n",
              "4158                   False  \n",
              "4830                   False  \n",
              "285                    False  \n",
              "672                    False  \n",
              "3413                   False  \n",
              "3440                   False  \n",
              "3452                   False  \n",
              "4071                   False  \n",
              "5089                   False  \n",
              "5253                   False  \n",
              "5293                   False  \n",
              "5342                   False  \n",
              "5622                   False  \n",
              "6825                   False  \n",
              "7001                   False  \n",
              "10358                  False  \n",
              "1152                   False  \n",
              "1273                   False  \n",
              "2763                   False  \n",
              "2775                   False  \n",
              "3429                   False  \n",
              "4019                   False  \n",
              "5003                   False  \n",
              "6651                   False  \n",
              "6764                   False  \n",
              "6844                   False  "
            ],
            "text/html": [
              "\n",
              "  <div id=\"df-42038c64-a0bb-474c-8b94-119119117583\">\n",
              "    <div class=\"colab-df-container\">\n",
              "      <div>\n",
              "<style scoped>\n",
              "    .dataframe tbody tr th:only-of-type {\n",
              "        vertical-align: middle;\n",
              "    }\n",
              "\n",
              "    .dataframe tbody tr th {\n",
              "        vertical-align: top;\n",
              "    }\n",
              "\n",
              "    .dataframe thead th {\n",
              "        text-align: right;\n",
              "    }\n",
              "</style>\n",
              "<table border=\"1\" class=\"dataframe\">\n",
              "  <thead>\n",
              "    <tr style=\"text-align: right;\">\n",
              "      <th></th>\n",
              "      <th>Дата печати открытки</th>\n",
              "      <th>Период (дореволюционный, советский, постсоветский)</th>\n",
              "      <th>print_date_period_cons</th>\n",
              "    </tr>\n",
              "  </thead>\n",
              "  <tbody>\n",
              "    <tr>\n",
              "      <th>127</th>\n",
              "      <td>xx.xx.1918</td>\n",
              "      <td>Дореволюционные</td>\n",
              "      <td>False</td>\n",
              "    </tr>\n",
              "    <tr>\n",
              "      <th>229</th>\n",
              "      <td>15.12.193x</td>\n",
              "      <td>Дореволюционные</td>\n",
              "      <td>False</td>\n",
              "    </tr>\n",
              "    <tr>\n",
              "      <th>354</th>\n",
              "      <td>19.05.1933</td>\n",
              "      <td>Дореволюционные</td>\n",
              "      <td>False</td>\n",
              "    </tr>\n",
              "    <tr>\n",
              "      <th>136</th>\n",
              "      <td>04.12.1992</td>\n",
              "      <td>Советские</td>\n",
              "      <td>False</td>\n",
              "    </tr>\n",
              "    <tr>\n",
              "      <th>945</th>\n",
              "      <td>01.04.1961</td>\n",
              "      <td>Дореволюционные</td>\n",
              "      <td>False</td>\n",
              "    </tr>\n",
              "    <tr>\n",
              "      <th>1361</th>\n",
              "      <td>xx.xx.1924</td>\n",
              "      <td>Дореволюционные</td>\n",
              "      <td>False</td>\n",
              "    </tr>\n",
              "    <tr>\n",
              "      <th>3888</th>\n",
              "      <td>20.09.1950</td>\n",
              "      <td>Дореволюционные</td>\n",
              "      <td>False</td>\n",
              "    </tr>\n",
              "    <tr>\n",
              "      <th>4158</th>\n",
              "      <td>xx.xx.1992</td>\n",
              "      <td>Советские</td>\n",
              "      <td>False</td>\n",
              "    </tr>\n",
              "    <tr>\n",
              "      <th>4830</th>\n",
              "      <td>27.02.1991</td>\n",
              "      <td>Дореволюционные</td>\n",
              "      <td>False</td>\n",
              "    </tr>\n",
              "    <tr>\n",
              "      <th>285</th>\n",
              "      <td>xx.xx.1756</td>\n",
              "      <td>Дореволюционные</td>\n",
              "      <td>False</td>\n",
              "    </tr>\n",
              "    <tr>\n",
              "      <th>672</th>\n",
              "      <td>xx.xx.1825</td>\n",
              "      <td>Дореволюционные</td>\n",
              "      <td>False</td>\n",
              "    </tr>\n",
              "    <tr>\n",
              "      <th>3413</th>\n",
              "      <td>xx.xx.1979</td>\n",
              "      <td>Дореволюционные</td>\n",
              "      <td>False</td>\n",
              "    </tr>\n",
              "    <tr>\n",
              "      <th>3440</th>\n",
              "      <td>xx.xx.1783</td>\n",
              "      <td>Советские</td>\n",
              "      <td>False</td>\n",
              "    </tr>\n",
              "    <tr>\n",
              "      <th>3452</th>\n",
              "      <td>27.09.1973</td>\n",
              "      <td>Дореволюционные</td>\n",
              "      <td>False</td>\n",
              "    </tr>\n",
              "    <tr>\n",
              "      <th>4071</th>\n",
              "      <td>xx.xx.1922</td>\n",
              "      <td>Дореволюционные</td>\n",
              "      <td>False</td>\n",
              "    </tr>\n",
              "    <tr>\n",
              "      <th>5089</th>\n",
              "      <td>12.09.1993</td>\n",
              "      <td>Советские</td>\n",
              "      <td>False</td>\n",
              "    </tr>\n",
              "    <tr>\n",
              "      <th>5253</th>\n",
              "      <td>xx.xx.1992</td>\n",
              "      <td>Советские</td>\n",
              "      <td>False</td>\n",
              "    </tr>\n",
              "    <tr>\n",
              "      <th>5293</th>\n",
              "      <td>xx.xx.1992</td>\n",
              "      <td>Советские</td>\n",
              "      <td>False</td>\n",
              "    </tr>\n",
              "    <tr>\n",
              "      <th>5342</th>\n",
              "      <td>06.12.1985</td>\n",
              "      <td>Дореволюционные</td>\n",
              "      <td>False</td>\n",
              "    </tr>\n",
              "    <tr>\n",
              "      <th>5622</th>\n",
              "      <td>19.12.1996</td>\n",
              "      <td>Советские</td>\n",
              "      <td>False</td>\n",
              "    </tr>\n",
              "    <tr>\n",
              "      <th>6825</th>\n",
              "      <td>xx.xx.1997</td>\n",
              "      <td>Советские</td>\n",
              "      <td>False</td>\n",
              "    </tr>\n",
              "    <tr>\n",
              "      <th>7001</th>\n",
              "      <td>xx.xx.1918</td>\n",
              "      <td>Дореволюционные</td>\n",
              "      <td>False</td>\n",
              "    </tr>\n",
              "    <tr>\n",
              "      <th>10358</th>\n",
              "      <td>24.10.2002</td>\n",
              "      <td>Советские</td>\n",
              "      <td>False</td>\n",
              "    </tr>\n",
              "    <tr>\n",
              "      <th>1152</th>\n",
              "      <td>31.03.1075</td>\n",
              "      <td>Советские</td>\n",
              "      <td>False</td>\n",
              "    </tr>\n",
              "    <tr>\n",
              "      <th>1273</th>\n",
              "      <td>xx.xx.1926</td>\n",
              "      <td>Дореволюционные</td>\n",
              "      <td>False</td>\n",
              "    </tr>\n",
              "    <tr>\n",
              "      <th>2763</th>\n",
              "      <td>01.12.1819</td>\n",
              "      <td>Советские</td>\n",
              "      <td>False</td>\n",
              "    </tr>\n",
              "    <tr>\n",
              "      <th>2775</th>\n",
              "      <td>04.12.1992</td>\n",
              "      <td>Советские</td>\n",
              "      <td>False</td>\n",
              "    </tr>\n",
              "    <tr>\n",
              "      <th>3429</th>\n",
              "      <td>12.01.1968</td>\n",
              "      <td>Дореволюционные</td>\n",
              "      <td>False</td>\n",
              "    </tr>\n",
              "    <tr>\n",
              "      <th>4019</th>\n",
              "      <td>xx.xx.1625</td>\n",
              "      <td>Дореволюционные</td>\n",
              "      <td>False</td>\n",
              "    </tr>\n",
              "    <tr>\n",
              "      <th>5003</th>\n",
              "      <td>xx.xx.1846</td>\n",
              "      <td>Советские</td>\n",
              "      <td>False</td>\n",
              "    </tr>\n",
              "    <tr>\n",
              "      <th>6651</th>\n",
              "      <td>09.12.2021</td>\n",
              "      <td>Советские</td>\n",
              "      <td>False</td>\n",
              "    </tr>\n",
              "    <tr>\n",
              "      <th>6764</th>\n",
              "      <td>xx.xx.1918</td>\n",
              "      <td>Дореволюционные</td>\n",
              "      <td>False</td>\n",
              "    </tr>\n",
              "    <tr>\n",
              "      <th>6844</th>\n",
              "      <td>xx.xx.1918</td>\n",
              "      <td>Дореволюционные</td>\n",
              "      <td>False</td>\n",
              "    </tr>\n",
              "  </tbody>\n",
              "</table>\n",
              "</div>\n",
              "      <button class=\"colab-df-convert\" onclick=\"convertToInteractive('df-42038c64-a0bb-474c-8b94-119119117583')\"\n",
              "              title=\"Convert this dataframe to an interactive table.\"\n",
              "              style=\"display:none;\">\n",
              "        \n",
              "  <svg xmlns=\"http://www.w3.org/2000/svg\" height=\"24px\"viewBox=\"0 0 24 24\"\n",
              "       width=\"24px\">\n",
              "    <path d=\"M0 0h24v24H0V0z\" fill=\"none\"/>\n",
              "    <path d=\"M18.56 5.44l.94 2.06.94-2.06 2.06-.94-2.06-.94-.94-2.06-.94 2.06-2.06.94zm-11 1L8.5 8.5l.94-2.06 2.06-.94-2.06-.94L8.5 2.5l-.94 2.06-2.06.94zm10 10l.94 2.06.94-2.06 2.06-.94-2.06-.94-.94-2.06-.94 2.06-2.06.94z\"/><path d=\"M17.41 7.96l-1.37-1.37c-.4-.4-.92-.59-1.43-.59-.52 0-1.04.2-1.43.59L10.3 9.45l-7.72 7.72c-.78.78-.78 2.05 0 2.83L4 21.41c.39.39.9.59 1.41.59.51 0 1.02-.2 1.41-.59l7.78-7.78 2.81-2.81c.8-.78.8-2.07 0-2.86zM5.41 20L4 18.59l7.72-7.72 1.47 1.35L5.41 20z\"/>\n",
              "  </svg>\n",
              "      </button>\n",
              "      \n",
              "  <style>\n",
              "    .colab-df-container {\n",
              "      display:flex;\n",
              "      flex-wrap:wrap;\n",
              "      gap: 12px;\n",
              "    }\n",
              "\n",
              "    .colab-df-convert {\n",
              "      background-color: #E8F0FE;\n",
              "      border: none;\n",
              "      border-radius: 50%;\n",
              "      cursor: pointer;\n",
              "      display: none;\n",
              "      fill: #1967D2;\n",
              "      height: 32px;\n",
              "      padding: 0 0 0 0;\n",
              "      width: 32px;\n",
              "    }\n",
              "\n",
              "    .colab-df-convert:hover {\n",
              "      background-color: #E2EBFA;\n",
              "      box-shadow: 0px 1px 2px rgba(60, 64, 67, 0.3), 0px 1px 3px 1px rgba(60, 64, 67, 0.15);\n",
              "      fill: #174EA6;\n",
              "    }\n",
              "\n",
              "    [theme=dark] .colab-df-convert {\n",
              "      background-color: #3B4455;\n",
              "      fill: #D2E3FC;\n",
              "    }\n",
              "\n",
              "    [theme=dark] .colab-df-convert:hover {\n",
              "      background-color: #434B5C;\n",
              "      box-shadow: 0px 1px 3px 1px rgba(0, 0, 0, 0.15);\n",
              "      filter: drop-shadow(0px 1px 2px rgba(0, 0, 0, 0.3));\n",
              "      fill: #FFFFFF;\n",
              "    }\n",
              "  </style>\n",
              "\n",
              "      <script>\n",
              "        const buttonEl =\n",
              "          document.querySelector('#df-42038c64-a0bb-474c-8b94-119119117583 button.colab-df-convert');\n",
              "        buttonEl.style.display =\n",
              "          google.colab.kernel.accessAllowed ? 'block' : 'none';\n",
              "\n",
              "        async function convertToInteractive(key) {\n",
              "          const element = document.querySelector('#df-42038c64-a0bb-474c-8b94-119119117583');\n",
              "          const dataTable =\n",
              "            await google.colab.kernel.invokeFunction('convertToInteractive',\n",
              "                                                     [key], {});\n",
              "          if (!dataTable) return;\n",
              "\n",
              "          const docLinkHtml = 'Like what you see? Visit the ' +\n",
              "            '<a target=\"_blank\" href=https://colab.research.google.com/notebooks/data_table.ipynb>data table notebook</a>'\n",
              "            + ' to learn more about interactive tables.';\n",
              "          element.innerHTML = '';\n",
              "          dataTable['output_type'] = 'display_data';\n",
              "          await google.colab.output.renderOutput(dataTable, element);\n",
              "          const docLink = document.createElement('div');\n",
              "          docLink.innerHTML = docLinkHtml;\n",
              "          element.appendChild(docLink);\n",
              "        }\n",
              "      </script>\n",
              "    </div>\n",
              "  </div>\n",
              "  "
            ]
          },
          "metadata": {},
          "execution_count": 99
        }
      ]
    },
    {
      "cell_type": "markdown",
      "source": [
        "### Дата написания и период --- 112"
      ],
      "metadata": {
        "id": "DWBARu6RMuaF"
      }
    },
    {
      "cell_type": "code",
      "source": [
        "def is_period_date_consistent(date, period):\n",
        "  year = date.split('.')[-1]\n",
        "  if period in (ots, nrzb) or year in (ots, nrzb):\n",
        "    return True\n",
        "  for pattern in period_year_patterns[period]:\n",
        "    m = re.match(pattern, year)\n",
        "    if m is not None and m.group(0) == year:\n",
        "      return True\n",
        "  return False"
      ],
      "metadata": {
        "id": "42knY2QfMuaG"
      },
      "execution_count": 107,
      "outputs": []
    },
    {
      "cell_type": "code",
      "source": [
        "df['write_date_period_cons'] = df.apply(\n",
        "    lambda row: check_print_date_period(\n",
        "        row['Дата написания текста (если автор указал явно, не штемпели)'], \n",
        "        row['Период (дореволюционный, советский, постсоветский)']\n",
        "        ),\n",
        "    axis=1\n",
        ")"
      ],
      "metadata": {
        "id": "y7mCJN2ZMuaI"
      },
      "execution_count": 108,
      "outputs": []
    },
    {
      "cell_type": "code",
      "source": [
        "df['write_date_period_cons'].value_counts()"
      ],
      "metadata": {
        "colab": {
          "base_uri": "https://localhost:8080/"
        },
        "outputId": "6ff94dd2-bbc2-4177-91ed-2d1477ce29b6",
        "id": "LVKlNQPDMuaJ"
      },
      "execution_count": 109,
      "outputs": [
        {
          "output_type": "execute_result",
          "data": {
            "text/plain": [
              "True     17470\n",
              "False      112\n",
              "Name: write_date_period_cons, dtype: int64"
            ]
          },
          "metadata": {},
          "execution_count": 109
        }
      ]
    },
    {
      "cell_type": "code",
      "source": [
        "df[df['write_date_period_cons'] == False][\n",
        "    ['Дата написания текста (если автор указал явно, не штемпели)', \n",
        "     'Период (дореволюционный, советский, постсоветский)', \n",
        "     'write_date_period_cons']\n",
        "    ]"
      ],
      "metadata": {
        "colab": {
          "base_uri": "https://localhost:8080/",
          "height": 485
        },
        "outputId": "dfac2d44-8e38-475a-bbf5-f1294b1a18d1",
        "id": "VH4f2to6MuaJ"
      },
      "execution_count": 110,
      "outputs": [
        {
          "output_type": "execute_result",
          "data": {
            "text/plain": [
              "     Дата написания текста (если автор указал явно, не штемпели)  \\\n",
              "22                                           04.01.1918            \n",
              "27                                           31.12.1919            \n",
              "141                                          18.10.1925            \n",
              "402                                          15.06.1920            \n",
              "455                                          15.01.1925            \n",
              "...                                                 ...            \n",
              "7493                                         31.01.1933            \n",
              "7613                                         22.12.1945            \n",
              "8775                                         18.03.1919            \n",
              "8798                                         18.01.1919            \n",
              "8967                                         03.11.1926            \n",
              "\n",
              "     Период (дореволюционный, советский, постсоветский) write_date_period_cons  \n",
              "22                                      Дореволюционные                  False  \n",
              "27                                      Дореволюционные                  False  \n",
              "141                                     Дореволюционные                  False  \n",
              "402                                     Дореволюционные                  False  \n",
              "455                                     Дореволюционные                  False  \n",
              "...                                                 ...                    ...  \n",
              "7493                                    Дореволюционные                  False  \n",
              "7613                                    Дореволюционные                  False  \n",
              "8775                                    Дореволюционные                  False  \n",
              "8798                                    Дореволюционные                  False  \n",
              "8967                                    Дореволюционные                  False  \n",
              "\n",
              "[112 rows x 3 columns]"
            ],
            "text/html": [
              "\n",
              "  <div id=\"df-93351931-a55b-4769-bbd5-9e6ec6217b54\">\n",
              "    <div class=\"colab-df-container\">\n",
              "      <div>\n",
              "<style scoped>\n",
              "    .dataframe tbody tr th:only-of-type {\n",
              "        vertical-align: middle;\n",
              "    }\n",
              "\n",
              "    .dataframe tbody tr th {\n",
              "        vertical-align: top;\n",
              "    }\n",
              "\n",
              "    .dataframe thead th {\n",
              "        text-align: right;\n",
              "    }\n",
              "</style>\n",
              "<table border=\"1\" class=\"dataframe\">\n",
              "  <thead>\n",
              "    <tr style=\"text-align: right;\">\n",
              "      <th></th>\n",
              "      <th>Дата написания текста (если автор указал явно, не штемпели)</th>\n",
              "      <th>Период (дореволюционный, советский, постсоветский)</th>\n",
              "      <th>write_date_period_cons</th>\n",
              "    </tr>\n",
              "  </thead>\n",
              "  <tbody>\n",
              "    <tr>\n",
              "      <th>22</th>\n",
              "      <td>04.01.1918</td>\n",
              "      <td>Дореволюционные</td>\n",
              "      <td>False</td>\n",
              "    </tr>\n",
              "    <tr>\n",
              "      <th>27</th>\n",
              "      <td>31.12.1919</td>\n",
              "      <td>Дореволюционные</td>\n",
              "      <td>False</td>\n",
              "    </tr>\n",
              "    <tr>\n",
              "      <th>141</th>\n",
              "      <td>18.10.1925</td>\n",
              "      <td>Дореволюционные</td>\n",
              "      <td>False</td>\n",
              "    </tr>\n",
              "    <tr>\n",
              "      <th>402</th>\n",
              "      <td>15.06.1920</td>\n",
              "      <td>Дореволюционные</td>\n",
              "      <td>False</td>\n",
              "    </tr>\n",
              "    <tr>\n",
              "      <th>455</th>\n",
              "      <td>15.01.1925</td>\n",
              "      <td>Дореволюционные</td>\n",
              "      <td>False</td>\n",
              "    </tr>\n",
              "    <tr>\n",
              "      <th>...</th>\n",
              "      <td>...</td>\n",
              "      <td>...</td>\n",
              "      <td>...</td>\n",
              "    </tr>\n",
              "    <tr>\n",
              "      <th>7493</th>\n",
              "      <td>31.01.1933</td>\n",
              "      <td>Дореволюционные</td>\n",
              "      <td>False</td>\n",
              "    </tr>\n",
              "    <tr>\n",
              "      <th>7613</th>\n",
              "      <td>22.12.1945</td>\n",
              "      <td>Дореволюционные</td>\n",
              "      <td>False</td>\n",
              "    </tr>\n",
              "    <tr>\n",
              "      <th>8775</th>\n",
              "      <td>18.03.1919</td>\n",
              "      <td>Дореволюционные</td>\n",
              "      <td>False</td>\n",
              "    </tr>\n",
              "    <tr>\n",
              "      <th>8798</th>\n",
              "      <td>18.01.1919</td>\n",
              "      <td>Дореволюционные</td>\n",
              "      <td>False</td>\n",
              "    </tr>\n",
              "    <tr>\n",
              "      <th>8967</th>\n",
              "      <td>03.11.1926</td>\n",
              "      <td>Дореволюционные</td>\n",
              "      <td>False</td>\n",
              "    </tr>\n",
              "  </tbody>\n",
              "</table>\n",
              "<p>112 rows × 3 columns</p>\n",
              "</div>\n",
              "      <button class=\"colab-df-convert\" onclick=\"convertToInteractive('df-93351931-a55b-4769-bbd5-9e6ec6217b54')\"\n",
              "              title=\"Convert this dataframe to an interactive table.\"\n",
              "              style=\"display:none;\">\n",
              "        \n",
              "  <svg xmlns=\"http://www.w3.org/2000/svg\" height=\"24px\"viewBox=\"0 0 24 24\"\n",
              "       width=\"24px\">\n",
              "    <path d=\"M0 0h24v24H0V0z\" fill=\"none\"/>\n",
              "    <path d=\"M18.56 5.44l.94 2.06.94-2.06 2.06-.94-2.06-.94-.94-2.06-.94 2.06-2.06.94zm-11 1L8.5 8.5l.94-2.06 2.06-.94-2.06-.94L8.5 2.5l-.94 2.06-2.06.94zm10 10l.94 2.06.94-2.06 2.06-.94-2.06-.94-.94-2.06-.94 2.06-2.06.94z\"/><path d=\"M17.41 7.96l-1.37-1.37c-.4-.4-.92-.59-1.43-.59-.52 0-1.04.2-1.43.59L10.3 9.45l-7.72 7.72c-.78.78-.78 2.05 0 2.83L4 21.41c.39.39.9.59 1.41.59.51 0 1.02-.2 1.41-.59l7.78-7.78 2.81-2.81c.8-.78.8-2.07 0-2.86zM5.41 20L4 18.59l7.72-7.72 1.47 1.35L5.41 20z\"/>\n",
              "  </svg>\n",
              "      </button>\n",
              "      \n",
              "  <style>\n",
              "    .colab-df-container {\n",
              "      display:flex;\n",
              "      flex-wrap:wrap;\n",
              "      gap: 12px;\n",
              "    }\n",
              "\n",
              "    .colab-df-convert {\n",
              "      background-color: #E8F0FE;\n",
              "      border: none;\n",
              "      border-radius: 50%;\n",
              "      cursor: pointer;\n",
              "      display: none;\n",
              "      fill: #1967D2;\n",
              "      height: 32px;\n",
              "      padding: 0 0 0 0;\n",
              "      width: 32px;\n",
              "    }\n",
              "\n",
              "    .colab-df-convert:hover {\n",
              "      background-color: #E2EBFA;\n",
              "      box-shadow: 0px 1px 2px rgba(60, 64, 67, 0.3), 0px 1px 3px 1px rgba(60, 64, 67, 0.15);\n",
              "      fill: #174EA6;\n",
              "    }\n",
              "\n",
              "    [theme=dark] .colab-df-convert {\n",
              "      background-color: #3B4455;\n",
              "      fill: #D2E3FC;\n",
              "    }\n",
              "\n",
              "    [theme=dark] .colab-df-convert:hover {\n",
              "      background-color: #434B5C;\n",
              "      box-shadow: 0px 1px 3px 1px rgba(0, 0, 0, 0.15);\n",
              "      filter: drop-shadow(0px 1px 2px rgba(0, 0, 0, 0.3));\n",
              "      fill: #FFFFFF;\n",
              "    }\n",
              "  </style>\n",
              "\n",
              "      <script>\n",
              "        const buttonEl =\n",
              "          document.querySelector('#df-93351931-a55b-4769-bbd5-9e6ec6217b54 button.colab-df-convert');\n",
              "        buttonEl.style.display =\n",
              "          google.colab.kernel.accessAllowed ? 'block' : 'none';\n",
              "\n",
              "        async function convertToInteractive(key) {\n",
              "          const element = document.querySelector('#df-93351931-a55b-4769-bbd5-9e6ec6217b54');\n",
              "          const dataTable =\n",
              "            await google.colab.kernel.invokeFunction('convertToInteractive',\n",
              "                                                     [key], {});\n",
              "          if (!dataTable) return;\n",
              "\n",
              "          const docLinkHtml = 'Like what you see? Visit the ' +\n",
              "            '<a target=\"_blank\" href=https://colab.research.google.com/notebooks/data_table.ipynb>data table notebook</a>'\n",
              "            + ' to learn more about interactive tables.';\n",
              "          element.innerHTML = '';\n",
              "          dataTable['output_type'] = 'display_data';\n",
              "          await google.colab.output.renderOutput(dataTable, element);\n",
              "          const docLink = document.createElement('div');\n",
              "          docLink.innerHTML = docLinkHtml;\n",
              "          element.appendChild(docLink);\n",
              "        }\n",
              "      </script>\n",
              "    </div>\n",
              "  </div>\n",
              "  "
            ]
          },
          "metadata": {},
          "execution_count": 110
        }
      ]
    },
    {
      "cell_type": "markdown",
      "source": [
        "### Дата отправки и период --- 132"
      ],
      "metadata": {
        "id": "iio_uIoxNXfb"
      }
    },
    {
      "cell_type": "code",
      "source": [
        "df['send_date_period_cons'] = df.apply(\n",
        "    lambda row: check_print_date_period(\n",
        "        row['Дата открытки со штемпеля (место отправления)'], \n",
        "        row['Период (дореволюционный, советский, постсоветский)']\n",
        "        ),\n",
        "    axis=1\n",
        ")\n",
        "    # 'Дата открытки со штемпеля (место, куда открытка прибыла)',"
      ],
      "metadata": {
        "id": "LCmMjAwHNXfy"
      },
      "execution_count": 111,
      "outputs": []
    },
    {
      "cell_type": "code",
      "source": [
        "df['send_date_period_cons'].value_counts()"
      ],
      "metadata": {
        "colab": {
          "base_uri": "https://localhost:8080/"
        },
        "outputId": "c4fd74b1-ef3d-444f-fc6a-3e43eeada5e4",
        "id": "nwd3uHlnNXfz"
      },
      "execution_count": 112,
      "outputs": [
        {
          "output_type": "execute_result",
          "data": {
            "text/plain": [
              "True     17295\n",
              "False      132\n",
              "Name: send_date_period_cons, dtype: int64"
            ]
          },
          "metadata": {},
          "execution_count": 112
        }
      ]
    },
    {
      "cell_type": "code",
      "source": [
        "df[df['send_date_period_cons'] == False][\n",
        "    ['Дата открытки со штемпеля (место отправления)', \n",
        "     'Период (дореволюционный, советский, постсоветский)', \n",
        "     'send_date_period_cons']\n",
        "    ]"
      ],
      "metadata": {
        "colab": {
          "base_uri": "https://localhost:8080/",
          "height": 485
        },
        "outputId": "ad380f96-313c-426d-9874-adbe7edc626e",
        "id": "ApOoYnsRNXf0"
      },
      "execution_count": 114,
      "outputs": [
        {
          "output_type": "execute_result",
          "data": {
            "text/plain": [
              "     Дата открытки со штемпеля (место отправления)  \\\n",
              "22                                      05.01.1918   \n",
              "148                                     24.12.1918   \n",
              "150                                     13.02.1918   \n",
              "178                                     31.12.1927   \n",
              "322                                     xx.10.1919   \n",
              "...                                            ...   \n",
              "7575                                    13.01.1919   \n",
              "7675                                    11.03.1921   \n",
              "7777                                    29.08.1918   \n",
              "7922                                    xx.12.1918   \n",
              "8775                                    19.03.1919   \n",
              "\n",
              "     Период (дореволюционный, советский, постсоветский) send_date_period_cons  \n",
              "22                                      Дореволюционные                 False  \n",
              "148                                     Дореволюционные                 False  \n",
              "150                                     Дореволюционные                 False  \n",
              "178                                     Дореволюционные                 False  \n",
              "322                                     Дореволюционные                 False  \n",
              "...                                                 ...                   ...  \n",
              "7575                                    Дореволюционные                 False  \n",
              "7675                                    Дореволюционные                 False  \n",
              "7777                                    Дореволюционные                 False  \n",
              "7922                                    Дореволюционные                 False  \n",
              "8775                                    Дореволюционные                 False  \n",
              "\n",
              "[132 rows x 3 columns]"
            ],
            "text/html": [
              "\n",
              "  <div id=\"df-a66f5ab3-2372-4953-9309-80214676f157\">\n",
              "    <div class=\"colab-df-container\">\n",
              "      <div>\n",
              "<style scoped>\n",
              "    .dataframe tbody tr th:only-of-type {\n",
              "        vertical-align: middle;\n",
              "    }\n",
              "\n",
              "    .dataframe tbody tr th {\n",
              "        vertical-align: top;\n",
              "    }\n",
              "\n",
              "    .dataframe thead th {\n",
              "        text-align: right;\n",
              "    }\n",
              "</style>\n",
              "<table border=\"1\" class=\"dataframe\">\n",
              "  <thead>\n",
              "    <tr style=\"text-align: right;\">\n",
              "      <th></th>\n",
              "      <th>Дата открытки со штемпеля (место отправления)</th>\n",
              "      <th>Период (дореволюционный, советский, постсоветский)</th>\n",
              "      <th>send_date_period_cons</th>\n",
              "    </tr>\n",
              "  </thead>\n",
              "  <tbody>\n",
              "    <tr>\n",
              "      <th>22</th>\n",
              "      <td>05.01.1918</td>\n",
              "      <td>Дореволюционные</td>\n",
              "      <td>False</td>\n",
              "    </tr>\n",
              "    <tr>\n",
              "      <th>148</th>\n",
              "      <td>24.12.1918</td>\n",
              "      <td>Дореволюционные</td>\n",
              "      <td>False</td>\n",
              "    </tr>\n",
              "    <tr>\n",
              "      <th>150</th>\n",
              "      <td>13.02.1918</td>\n",
              "      <td>Дореволюционные</td>\n",
              "      <td>False</td>\n",
              "    </tr>\n",
              "    <tr>\n",
              "      <th>178</th>\n",
              "      <td>31.12.1927</td>\n",
              "      <td>Дореволюционные</td>\n",
              "      <td>False</td>\n",
              "    </tr>\n",
              "    <tr>\n",
              "      <th>322</th>\n",
              "      <td>xx.10.1919</td>\n",
              "      <td>Дореволюционные</td>\n",
              "      <td>False</td>\n",
              "    </tr>\n",
              "    <tr>\n",
              "      <th>...</th>\n",
              "      <td>...</td>\n",
              "      <td>...</td>\n",
              "      <td>...</td>\n",
              "    </tr>\n",
              "    <tr>\n",
              "      <th>7575</th>\n",
              "      <td>13.01.1919</td>\n",
              "      <td>Дореволюционные</td>\n",
              "      <td>False</td>\n",
              "    </tr>\n",
              "    <tr>\n",
              "      <th>7675</th>\n",
              "      <td>11.03.1921</td>\n",
              "      <td>Дореволюционные</td>\n",
              "      <td>False</td>\n",
              "    </tr>\n",
              "    <tr>\n",
              "      <th>7777</th>\n",
              "      <td>29.08.1918</td>\n",
              "      <td>Дореволюционные</td>\n",
              "      <td>False</td>\n",
              "    </tr>\n",
              "    <tr>\n",
              "      <th>7922</th>\n",
              "      <td>xx.12.1918</td>\n",
              "      <td>Дореволюционные</td>\n",
              "      <td>False</td>\n",
              "    </tr>\n",
              "    <tr>\n",
              "      <th>8775</th>\n",
              "      <td>19.03.1919</td>\n",
              "      <td>Дореволюционные</td>\n",
              "      <td>False</td>\n",
              "    </tr>\n",
              "  </tbody>\n",
              "</table>\n",
              "<p>132 rows × 3 columns</p>\n",
              "</div>\n",
              "      <button class=\"colab-df-convert\" onclick=\"convertToInteractive('df-a66f5ab3-2372-4953-9309-80214676f157')\"\n",
              "              title=\"Convert this dataframe to an interactive table.\"\n",
              "              style=\"display:none;\">\n",
              "        \n",
              "  <svg xmlns=\"http://www.w3.org/2000/svg\" height=\"24px\"viewBox=\"0 0 24 24\"\n",
              "       width=\"24px\">\n",
              "    <path d=\"M0 0h24v24H0V0z\" fill=\"none\"/>\n",
              "    <path d=\"M18.56 5.44l.94 2.06.94-2.06 2.06-.94-2.06-.94-.94-2.06-.94 2.06-2.06.94zm-11 1L8.5 8.5l.94-2.06 2.06-.94-2.06-.94L8.5 2.5l-.94 2.06-2.06.94zm10 10l.94 2.06.94-2.06 2.06-.94-2.06-.94-.94-2.06-.94 2.06-2.06.94z\"/><path d=\"M17.41 7.96l-1.37-1.37c-.4-.4-.92-.59-1.43-.59-.52 0-1.04.2-1.43.59L10.3 9.45l-7.72 7.72c-.78.78-.78 2.05 0 2.83L4 21.41c.39.39.9.59 1.41.59.51 0 1.02-.2 1.41-.59l7.78-7.78 2.81-2.81c.8-.78.8-2.07 0-2.86zM5.41 20L4 18.59l7.72-7.72 1.47 1.35L5.41 20z\"/>\n",
              "  </svg>\n",
              "      </button>\n",
              "      \n",
              "  <style>\n",
              "    .colab-df-container {\n",
              "      display:flex;\n",
              "      flex-wrap:wrap;\n",
              "      gap: 12px;\n",
              "    }\n",
              "\n",
              "    .colab-df-convert {\n",
              "      background-color: #E8F0FE;\n",
              "      border: none;\n",
              "      border-radius: 50%;\n",
              "      cursor: pointer;\n",
              "      display: none;\n",
              "      fill: #1967D2;\n",
              "      height: 32px;\n",
              "      padding: 0 0 0 0;\n",
              "      width: 32px;\n",
              "    }\n",
              "\n",
              "    .colab-df-convert:hover {\n",
              "      background-color: #E2EBFA;\n",
              "      box-shadow: 0px 1px 2px rgba(60, 64, 67, 0.3), 0px 1px 3px 1px rgba(60, 64, 67, 0.15);\n",
              "      fill: #174EA6;\n",
              "    }\n",
              "\n",
              "    [theme=dark] .colab-df-convert {\n",
              "      background-color: #3B4455;\n",
              "      fill: #D2E3FC;\n",
              "    }\n",
              "\n",
              "    [theme=dark] .colab-df-convert:hover {\n",
              "      background-color: #434B5C;\n",
              "      box-shadow: 0px 1px 3px 1px rgba(0, 0, 0, 0.15);\n",
              "      filter: drop-shadow(0px 1px 2px rgba(0, 0, 0, 0.3));\n",
              "      fill: #FFFFFF;\n",
              "    }\n",
              "  </style>\n",
              "\n",
              "      <script>\n",
              "        const buttonEl =\n",
              "          document.querySelector('#df-a66f5ab3-2372-4953-9309-80214676f157 button.colab-df-convert');\n",
              "        buttonEl.style.display =\n",
              "          google.colab.kernel.accessAllowed ? 'block' : 'none';\n",
              "\n",
              "        async function convertToInteractive(key) {\n",
              "          const element = document.querySelector('#df-a66f5ab3-2372-4953-9309-80214676f157');\n",
              "          const dataTable =\n",
              "            await google.colab.kernel.invokeFunction('convertToInteractive',\n",
              "                                                     [key], {});\n",
              "          if (!dataTable) return;\n",
              "\n",
              "          const docLinkHtml = 'Like what you see? Visit the ' +\n",
              "            '<a target=\"_blank\" href=https://colab.research.google.com/notebooks/data_table.ipynb>data table notebook</a>'\n",
              "            + ' to learn more about interactive tables.';\n",
              "          element.innerHTML = '';\n",
              "          dataTable['output_type'] = 'display_data';\n",
              "          await google.colab.output.renderOutput(dataTable, element);\n",
              "          const docLink = document.createElement('div');\n",
              "          docLink.innerHTML = docLinkHtml;\n",
              "          element.appendChild(docLink);\n",
              "        }\n",
              "      </script>\n",
              "    </div>\n",
              "  </div>\n",
              "  "
            ]
          },
          "metadata": {},
          "execution_count": 114
        }
      ]
    },
    {
      "cell_type": "markdown",
      "source": [
        "### Дата получения и период --- 120"
      ],
      "metadata": {
        "id": "Ae9fY-jXNofm"
      }
    },
    {
      "cell_type": "code",
      "source": [
        "df['receive_date_period_cons'] = df.apply(\n",
        "    lambda row: check_print_date_period(\n",
        "        row['Дата открытки со штемпеля (место, куда открытка прибыла)'], \n",
        "        row['Период (дореволюционный, советский, постсоветский)']\n",
        "        ),\n",
        "    axis=1\n",
        ")"
      ],
      "metadata": {
        "id": "xMBT6tyfNofx"
      },
      "execution_count": 115,
      "outputs": []
    },
    {
      "cell_type": "code",
      "source": [
        "df['receive_date_period_cons'].value_counts()"
      ],
      "metadata": {
        "colab": {
          "base_uri": "https://localhost:8080/"
        },
        "outputId": "57a4af24-8df2-4f2e-e866-b6798e3b2e5a",
        "id": "E-ftG0alNofx"
      },
      "execution_count": 116,
      "outputs": [
        {
          "output_type": "execute_result",
          "data": {
            "text/plain": [
              "True     17451\n",
              "False      120\n",
              "Name: receive_date_period_cons, dtype: int64"
            ]
          },
          "metadata": {},
          "execution_count": 116
        }
      ]
    },
    {
      "cell_type": "code",
      "source": [
        "df[df['receive_date_period_cons'] == False][\n",
        "    ['Дата открытки со штемпеля (место, куда открытка прибыла)', \n",
        "     'Период (дореволюционный, советский, постсоветский)', \n",
        "     'receive_date_period_cons']\n",
        "    ]"
      ],
      "metadata": {
        "colab": {
          "base_uri": "https://localhost:8080/",
          "height": 485
        },
        "outputId": "74147819-83d8-4093-ce25-00d3b6f8b1be",
        "id": "5prT8hhDNofx"
      },
      "execution_count": 117,
      "outputs": [
        {
          "output_type": "execute_result",
          "data": {
            "text/plain": [
              "     Дата открытки со штемпеля (место, куда открытка прибыла)  \\\n",
              "127                                          30.08.1922         \n",
              "148                                          30.12.1918         \n",
              "150                                          28.02.1918         \n",
              "178                                          02.01.1928         \n",
              "229                                          01.01.1941         \n",
              "...                                                 ...         \n",
              "7451                                         19.06.1918         \n",
              "7503                                         18.09.1923         \n",
              "7675                                         20.03.1921         \n",
              "7922                                         17.12.1918         \n",
              "9251                                         20.07.1811         \n",
              "\n",
              "     Период (дореволюционный, советский, постсоветский)  \\\n",
              "127                                     Дореволюционные   \n",
              "148                                     Дореволюционные   \n",
              "150                                     Дореволюционные   \n",
              "178                                     Дореволюционные   \n",
              "229                                     Дореволюционные   \n",
              "...                                                 ...   \n",
              "7451                                    Дореволюционные   \n",
              "7503                                    Дореволюционные   \n",
              "7675                                    Дореволюционные   \n",
              "7922                                    Дореволюционные   \n",
              "9251                                    Дореволюционные   \n",
              "\n",
              "     receive_date_period_cons  \n",
              "127                     False  \n",
              "148                     False  \n",
              "150                     False  \n",
              "178                     False  \n",
              "229                     False  \n",
              "...                       ...  \n",
              "7451                    False  \n",
              "7503                    False  \n",
              "7675                    False  \n",
              "7922                    False  \n",
              "9251                    False  \n",
              "\n",
              "[120 rows x 3 columns]"
            ],
            "text/html": [
              "\n",
              "  <div id=\"df-7586c071-13ad-4e5c-9f5a-b7bbe97a14fe\">\n",
              "    <div class=\"colab-df-container\">\n",
              "      <div>\n",
              "<style scoped>\n",
              "    .dataframe tbody tr th:only-of-type {\n",
              "        vertical-align: middle;\n",
              "    }\n",
              "\n",
              "    .dataframe tbody tr th {\n",
              "        vertical-align: top;\n",
              "    }\n",
              "\n",
              "    .dataframe thead th {\n",
              "        text-align: right;\n",
              "    }\n",
              "</style>\n",
              "<table border=\"1\" class=\"dataframe\">\n",
              "  <thead>\n",
              "    <tr style=\"text-align: right;\">\n",
              "      <th></th>\n",
              "      <th>Дата открытки со штемпеля (место, куда открытка прибыла)</th>\n",
              "      <th>Период (дореволюционный, советский, постсоветский)</th>\n",
              "      <th>receive_date_period_cons</th>\n",
              "    </tr>\n",
              "  </thead>\n",
              "  <tbody>\n",
              "    <tr>\n",
              "      <th>127</th>\n",
              "      <td>30.08.1922</td>\n",
              "      <td>Дореволюционные</td>\n",
              "      <td>False</td>\n",
              "    </tr>\n",
              "    <tr>\n",
              "      <th>148</th>\n",
              "      <td>30.12.1918</td>\n",
              "      <td>Дореволюционные</td>\n",
              "      <td>False</td>\n",
              "    </tr>\n",
              "    <tr>\n",
              "      <th>150</th>\n",
              "      <td>28.02.1918</td>\n",
              "      <td>Дореволюционные</td>\n",
              "      <td>False</td>\n",
              "    </tr>\n",
              "    <tr>\n",
              "      <th>178</th>\n",
              "      <td>02.01.1928</td>\n",
              "      <td>Дореволюционные</td>\n",
              "      <td>False</td>\n",
              "    </tr>\n",
              "    <tr>\n",
              "      <th>229</th>\n",
              "      <td>01.01.1941</td>\n",
              "      <td>Дореволюционные</td>\n",
              "      <td>False</td>\n",
              "    </tr>\n",
              "    <tr>\n",
              "      <th>...</th>\n",
              "      <td>...</td>\n",
              "      <td>...</td>\n",
              "      <td>...</td>\n",
              "    </tr>\n",
              "    <tr>\n",
              "      <th>7451</th>\n",
              "      <td>19.06.1918</td>\n",
              "      <td>Дореволюционные</td>\n",
              "      <td>False</td>\n",
              "    </tr>\n",
              "    <tr>\n",
              "      <th>7503</th>\n",
              "      <td>18.09.1923</td>\n",
              "      <td>Дореволюционные</td>\n",
              "      <td>False</td>\n",
              "    </tr>\n",
              "    <tr>\n",
              "      <th>7675</th>\n",
              "      <td>20.03.1921</td>\n",
              "      <td>Дореволюционные</td>\n",
              "      <td>False</td>\n",
              "    </tr>\n",
              "    <tr>\n",
              "      <th>7922</th>\n",
              "      <td>17.12.1918</td>\n",
              "      <td>Дореволюционные</td>\n",
              "      <td>False</td>\n",
              "    </tr>\n",
              "    <tr>\n",
              "      <th>9251</th>\n",
              "      <td>20.07.1811</td>\n",
              "      <td>Дореволюционные</td>\n",
              "      <td>False</td>\n",
              "    </tr>\n",
              "  </tbody>\n",
              "</table>\n",
              "<p>120 rows × 3 columns</p>\n",
              "</div>\n",
              "      <button class=\"colab-df-convert\" onclick=\"convertToInteractive('df-7586c071-13ad-4e5c-9f5a-b7bbe97a14fe')\"\n",
              "              title=\"Convert this dataframe to an interactive table.\"\n",
              "              style=\"display:none;\">\n",
              "        \n",
              "  <svg xmlns=\"http://www.w3.org/2000/svg\" height=\"24px\"viewBox=\"0 0 24 24\"\n",
              "       width=\"24px\">\n",
              "    <path d=\"M0 0h24v24H0V0z\" fill=\"none\"/>\n",
              "    <path d=\"M18.56 5.44l.94 2.06.94-2.06 2.06-.94-2.06-.94-.94-2.06-.94 2.06-2.06.94zm-11 1L8.5 8.5l.94-2.06 2.06-.94-2.06-.94L8.5 2.5l-.94 2.06-2.06.94zm10 10l.94 2.06.94-2.06 2.06-.94-2.06-.94-.94-2.06-.94 2.06-2.06.94z\"/><path d=\"M17.41 7.96l-1.37-1.37c-.4-.4-.92-.59-1.43-.59-.52 0-1.04.2-1.43.59L10.3 9.45l-7.72 7.72c-.78.78-.78 2.05 0 2.83L4 21.41c.39.39.9.59 1.41.59.51 0 1.02-.2 1.41-.59l7.78-7.78 2.81-2.81c.8-.78.8-2.07 0-2.86zM5.41 20L4 18.59l7.72-7.72 1.47 1.35L5.41 20z\"/>\n",
              "  </svg>\n",
              "      </button>\n",
              "      \n",
              "  <style>\n",
              "    .colab-df-container {\n",
              "      display:flex;\n",
              "      flex-wrap:wrap;\n",
              "      gap: 12px;\n",
              "    }\n",
              "\n",
              "    .colab-df-convert {\n",
              "      background-color: #E8F0FE;\n",
              "      border: none;\n",
              "      border-radius: 50%;\n",
              "      cursor: pointer;\n",
              "      display: none;\n",
              "      fill: #1967D2;\n",
              "      height: 32px;\n",
              "      padding: 0 0 0 0;\n",
              "      width: 32px;\n",
              "    }\n",
              "\n",
              "    .colab-df-convert:hover {\n",
              "      background-color: #E2EBFA;\n",
              "      box-shadow: 0px 1px 2px rgba(60, 64, 67, 0.3), 0px 1px 3px 1px rgba(60, 64, 67, 0.15);\n",
              "      fill: #174EA6;\n",
              "    }\n",
              "\n",
              "    [theme=dark] .colab-df-convert {\n",
              "      background-color: #3B4455;\n",
              "      fill: #D2E3FC;\n",
              "    }\n",
              "\n",
              "    [theme=dark] .colab-df-convert:hover {\n",
              "      background-color: #434B5C;\n",
              "      box-shadow: 0px 1px 3px 1px rgba(0, 0, 0, 0.15);\n",
              "      filter: drop-shadow(0px 1px 2px rgba(0, 0, 0, 0.3));\n",
              "      fill: #FFFFFF;\n",
              "    }\n",
              "  </style>\n",
              "\n",
              "      <script>\n",
              "        const buttonEl =\n",
              "          document.querySelector('#df-7586c071-13ad-4e5c-9f5a-b7bbe97a14fe button.colab-df-convert');\n",
              "        buttonEl.style.display =\n",
              "          google.colab.kernel.accessAllowed ? 'block' : 'none';\n",
              "\n",
              "        async function convertToInteractive(key) {\n",
              "          const element = document.querySelector('#df-7586c071-13ad-4e5c-9f5a-b7bbe97a14fe');\n",
              "          const dataTable =\n",
              "            await google.colab.kernel.invokeFunction('convertToInteractive',\n",
              "                                                     [key], {});\n",
              "          if (!dataTable) return;\n",
              "\n",
              "          const docLinkHtml = 'Like what you see? Visit the ' +\n",
              "            '<a target=\"_blank\" href=https://colab.research.google.com/notebooks/data_table.ipynb>data table notebook</a>'\n",
              "            + ' to learn more about interactive tables.';\n",
              "          element.innerHTML = '';\n",
              "          dataTable['output_type'] = 'display_data';\n",
              "          await google.colab.output.renderOutput(dataTable, element);\n",
              "          const docLink = document.createElement('div');\n",
              "          docLink.innerHTML = docLinkHtml;\n",
              "          element.appendChild(docLink);\n",
              "        }\n",
              "      </script>\n",
              "    </div>\n",
              "  </div>\n",
              "  "
            ]
          },
          "metadata": {},
          "execution_count": 117
        }
      ]
    },
    {
      "cell_type": "markdown",
      "source": [
        "### Общее число открыток с несоответствием"
      ],
      "metadata": {
        "id": "Pahz6mj3Oavn"
      }
    },
    {
      "cell_type": "code",
      "source": [
        "df[(df['print_date_period_cons'] == False) | \n",
        "   (df['write_date_period_cons'] == False) | \n",
        "   (df['send_date_period_cons'] == False) | \n",
        "   (df['receive_date_period_cons'] == False)].shape"
      ],
      "metadata": {
        "colab": {
          "base_uri": "https://localhost:8080/"
        },
        "id": "w4FSLdmLOelP",
        "outputId": "f07e2580-7017-4204-f232-ff2ff15ea28b"
      },
      "execution_count": 119,
      "outputs": [
        {
          "output_type": "execute_result",
          "data": {
            "text/plain": [
              "(272, 129)"
            ]
          },
          "metadata": {},
          "execution_count": 119
        }
      ]
    },
    {
      "cell_type": "markdown",
      "source": [
        "# Логирование ошибок\n",
        "* ошибкой считается, если старое и новое значение ячейки не совпадают\n",
        "* или уже зарегистрирована ошибка\n",
        "\n",
        "* если старое и новое значение ячейки совпадают с точностью до пробелов в начале и в конце: \n",
        "  - если новое значение = [отсутствует] или [нрзб], считаем, что значения не совпадают\n",
        "  - иначе, считаем, что значения совпадают"
      ],
      "metadata": {
        "id": "gSHVxtYjCjVL"
      }
    },
    {
      "cell_type": "code",
      "source": [
        "def log_errors(row, col):\n",
        "  old_stripped = row[f'{col}_old']\n",
        "  if isinstance(old_stripped, str):\n",
        "    old_stripped = old_stripped.lstrip().rstrip()\n",
        "  new = row[col]\n",
        "  error = row[f'{col}_error']\n",
        "\n",
        "  if error:\n",
        "    return True\n",
        "\n",
        "  if old_stripped != new:\n",
        "    return True\n",
        "  \n",
        "  if old_stripped == new and (new == ots or new == nrzb):\n",
        "    return True\n",
        "\n",
        "  return False"
      ],
      "metadata": {
        "id": "mZllypOGC78t"
      },
      "execution_count": null,
      "outputs": []
    },
    {
      "cell_type": "code",
      "source": [
        "for col in df_cols:\n",
        "  df[f'{col}_error'] = df.apply(lambda row: log_errors(row, col), axis=1)"
      ],
      "metadata": {
        "id": "uQWT_QEjDvcv"
      },
      "execution_count": null,
      "outputs": []
    },
    {
      "cell_type": "markdown",
      "source": [
        "Готово к выгрузке в корпус, если ошибки не было или она была исправлена"
      ],
      "metadata": {
        "id": "kBBVEb2roTf1"
      }
    },
    {
      "cell_type": "code",
      "source": [
        "def get_dump_status(row):\n",
        "  for col in df_cols:\n",
        "    if not row[f'{col}_fixed']:\n",
        "      return False\n",
        "  return True"
      ],
      "metadata": {
        "id": "3hkaHOZWeZ7w"
      },
      "execution_count": null,
      "outputs": []
    },
    {
      "cell_type": "code",
      "source": [
        "df['dump_ready'] = df.apply(get_dump_status, axis=1)\n",
        "df['dump_ready'].value_counts()"
      ],
      "metadata": {
        "colab": {
          "base_uri": "https://localhost:8080/"
        },
        "id": "YcE_3NEfd3Mt",
        "outputId": "7f621430-9690-4714-c5d7-f83cbbe1fc21"
      },
      "execution_count": null,
      "outputs": [
        {
          "output_type": "execute_result",
          "data": {
            "text/plain": [
              "True     17726\n",
              "False        2\n",
              "Name: dump_ready, dtype: int64"
            ]
          },
          "metadata": {},
          "execution_count": 91
        }
      ]
    },
    {
      "cell_type": "markdown",
      "source": [
        "Выгрузка логов, где ошибка есть, но не исправлена"
      ],
      "metadata": {
        "id": "Ub6_8g_hqUkQ"
      }
    },
    {
      "cell_type": "code",
      "source": [
        "def get_error_cols(row):\n",
        "  res = []\n",
        "  for col in df_cols:\n",
        "    if row[f'{col}_error'] and not row[f'{col}_fixed']:\n",
        "      res.append(col)\n",
        "  return res"
      ],
      "metadata": {
        "id": "_r4C42nLrTnk"
      },
      "execution_count": null,
      "outputs": []
    },
    {
      "cell_type": "code",
      "source": [
        "errors_df = df[~df['dump_ready']]\n",
        "errors_df['error_cols'] = errors_df.apply(get_error_cols, axis=1)\n",
        "errors_df = errors_df[['Номер открытки', 'error_cols']]\n",
        "errors_df = errors_df.explode('error_cols').rename(columns={'error_cols': 'Столбец с ошибкой'})\n",
        "errors_df"
      ],
      "metadata": {
        "colab": {
          "base_uri": "https://localhost:8080/",
          "height": 112
        },
        "id": "DfmY4p0eq8HQ",
        "outputId": "37c5479b-89eb-4c8f-c007-b1eef9926bcb"
      },
      "execution_count": null,
      "outputs": [
        {
          "output_type": "execute_result",
          "data": {
            "text/plain": [
              "      Номер открытки  Столбец с ошибкой\n",
              "1145          206112     Текст открытки\n",
              "7340          212307  Индекс получателя"
            ],
            "text/html": [
              "\n",
              "  <div id=\"df-766de4d8-caad-4133-b799-585bd62ef4f2\">\n",
              "    <div class=\"colab-df-container\">\n",
              "      <div>\n",
              "<style scoped>\n",
              "    .dataframe tbody tr th:only-of-type {\n",
              "        vertical-align: middle;\n",
              "    }\n",
              "\n",
              "    .dataframe tbody tr th {\n",
              "        vertical-align: top;\n",
              "    }\n",
              "\n",
              "    .dataframe thead th {\n",
              "        text-align: right;\n",
              "    }\n",
              "</style>\n",
              "<table border=\"1\" class=\"dataframe\">\n",
              "  <thead>\n",
              "    <tr style=\"text-align: right;\">\n",
              "      <th></th>\n",
              "      <th>Номер открытки</th>\n",
              "      <th>Столбец с ошибкой</th>\n",
              "    </tr>\n",
              "  </thead>\n",
              "  <tbody>\n",
              "    <tr>\n",
              "      <th>1145</th>\n",
              "      <td>206112</td>\n",
              "      <td>Текст открытки</td>\n",
              "    </tr>\n",
              "    <tr>\n",
              "      <th>7340</th>\n",
              "      <td>212307</td>\n",
              "      <td>Индекс получателя</td>\n",
              "    </tr>\n",
              "  </tbody>\n",
              "</table>\n",
              "</div>\n",
              "      <button class=\"colab-df-convert\" onclick=\"convertToInteractive('df-766de4d8-caad-4133-b799-585bd62ef4f2')\"\n",
              "              title=\"Convert this dataframe to an interactive table.\"\n",
              "              style=\"display:none;\">\n",
              "        \n",
              "  <svg xmlns=\"http://www.w3.org/2000/svg\" height=\"24px\"viewBox=\"0 0 24 24\"\n",
              "       width=\"24px\">\n",
              "    <path d=\"M0 0h24v24H0V0z\" fill=\"none\"/>\n",
              "    <path d=\"M18.56 5.44l.94 2.06.94-2.06 2.06-.94-2.06-.94-.94-2.06-.94 2.06-2.06.94zm-11 1L8.5 8.5l.94-2.06 2.06-.94-2.06-.94L8.5 2.5l-.94 2.06-2.06.94zm10 10l.94 2.06.94-2.06 2.06-.94-2.06-.94-.94-2.06-.94 2.06-2.06.94z\"/><path d=\"M17.41 7.96l-1.37-1.37c-.4-.4-.92-.59-1.43-.59-.52 0-1.04.2-1.43.59L10.3 9.45l-7.72 7.72c-.78.78-.78 2.05 0 2.83L4 21.41c.39.39.9.59 1.41.59.51 0 1.02-.2 1.41-.59l7.78-7.78 2.81-2.81c.8-.78.8-2.07 0-2.86zM5.41 20L4 18.59l7.72-7.72 1.47 1.35L5.41 20z\"/>\n",
              "  </svg>\n",
              "      </button>\n",
              "      \n",
              "  <style>\n",
              "    .colab-df-container {\n",
              "      display:flex;\n",
              "      flex-wrap:wrap;\n",
              "      gap: 12px;\n",
              "    }\n",
              "\n",
              "    .colab-df-convert {\n",
              "      background-color: #E8F0FE;\n",
              "      border: none;\n",
              "      border-radius: 50%;\n",
              "      cursor: pointer;\n",
              "      display: none;\n",
              "      fill: #1967D2;\n",
              "      height: 32px;\n",
              "      padding: 0 0 0 0;\n",
              "      width: 32px;\n",
              "    }\n",
              "\n",
              "    .colab-df-convert:hover {\n",
              "      background-color: #E2EBFA;\n",
              "      box-shadow: 0px 1px 2px rgba(60, 64, 67, 0.3), 0px 1px 3px 1px rgba(60, 64, 67, 0.15);\n",
              "      fill: #174EA6;\n",
              "    }\n",
              "\n",
              "    [theme=dark] .colab-df-convert {\n",
              "      background-color: #3B4455;\n",
              "      fill: #D2E3FC;\n",
              "    }\n",
              "\n",
              "    [theme=dark] .colab-df-convert:hover {\n",
              "      background-color: #434B5C;\n",
              "      box-shadow: 0px 1px 3px 1px rgba(0, 0, 0, 0.15);\n",
              "      filter: drop-shadow(0px 1px 2px rgba(0, 0, 0, 0.3));\n",
              "      fill: #FFFFFF;\n",
              "    }\n",
              "  </style>\n",
              "\n",
              "      <script>\n",
              "        const buttonEl =\n",
              "          document.querySelector('#df-766de4d8-caad-4133-b799-585bd62ef4f2 button.colab-df-convert');\n",
              "        buttonEl.style.display =\n",
              "          google.colab.kernel.accessAllowed ? 'block' : 'none';\n",
              "\n",
              "        async function convertToInteractive(key) {\n",
              "          const element = document.querySelector('#df-766de4d8-caad-4133-b799-585bd62ef4f2');\n",
              "          const dataTable =\n",
              "            await google.colab.kernel.invokeFunction('convertToInteractive',\n",
              "                                                     [key], {});\n",
              "          if (!dataTable) return;\n",
              "\n",
              "          const docLinkHtml = 'Like what you see? Visit the ' +\n",
              "            '<a target=\"_blank\" href=https://colab.research.google.com/notebooks/data_table.ipynb>data table notebook</a>'\n",
              "            + ' to learn more about interactive tables.';\n",
              "          element.innerHTML = '';\n",
              "          dataTable['output_type'] = 'display_data';\n",
              "          await google.colab.output.renderOutput(dataTable, element);\n",
              "          const docLink = document.createElement('div');\n",
              "          docLink.innerHTML = docLinkHtml;\n",
              "          element.appendChild(docLink);\n",
              "        }\n",
              "      </script>\n",
              "    </div>\n",
              "  </div>\n",
              "  "
            ]
          },
          "metadata": {},
          "execution_count": 103
        }
      ]
    },
    {
      "cell_type": "code",
      "source": [
        "errors_df['База'] = errors_df['Номер открытки'].apply(\n",
        "    lambda x: 1 if x < 100000\n",
        "    else 2 if x < 200000\n",
        "    else 3 if x < 215837\n",
        "    else 4 if x < 225880\n",
        "    else 'xxx'\n",
        ")"
      ],
      "metadata": {
        "id": "_zbc1IEgIH33"
      },
      "execution_count": null,
      "outputs": []
    },
    {
      "cell_type": "code",
      "source": [
        "errors_df['База'].value_counts()"
      ],
      "metadata": {
        "colab": {
          "base_uri": "https://localhost:8080/"
        },
        "id": "bIrHJRIlI3az",
        "outputId": "3e51aa28-15f5-4277-c2af-41d8f61acc0a"
      },
      "execution_count": null,
      "outputs": [
        {
          "output_type": "execute_result",
          "data": {
            "text/plain": [
              "3    2\n",
              "Name: База, dtype: int64"
            ]
          },
          "metadata": {},
          "execution_count": 105
        }
      ]
    },
    {
      "cell_type": "code",
      "source": [
        "errors_df['Статус'] = 'Не исправлено'\n",
        "errors_df = errors_df[['База', 'Номер открытки', 'Столбец с ошибкой', 'Статус']]"
      ],
      "metadata": {
        "id": "i1Xt35b0JJDM"
      },
      "execution_count": null,
      "outputs": []
    },
    {
      "cell_type": "code",
      "source": [
        "errors_df.to_csv('2023-21-05-corpus_logs.csv', index=False)"
      ],
      "metadata": {
        "id": "-TaE05K4JQlG"
      },
      "execution_count": null,
      "outputs": []
    },
    {
      "cell_type": "markdown",
      "source": [
        "Проверка логики: нет такого, что ошибки нет и ошибка не исправлена"
      ],
      "metadata": {
        "id": "OU4-zhOXz6uz"
      }
    },
    {
      "cell_type": "code",
      "source": [
        "for ind, row in df.iterrows():\n",
        "  for col in df_cols:\n",
        "    if col in ['Номер открытки', 'Pic_url_1', 'Pic_url_2', 'Resize_url_1', 'Resize_url_2']:\n",
        "      continue\n",
        "    if not row[f'{col}_error'] and not row[f'{col}_fixed']:\n",
        "      print(row['Номер открытки'])\n",
        "      print(col)\n",
        "      print(row[f'{col}_old'], '\\t', row[col])\n",
        "      print()"
      ],
      "metadata": {
        "id": "5F7mHyBAuUct"
      },
      "execution_count": null,
      "outputs": []
    },
    {
      "cell_type": "markdown",
      "source": [
        "# Нормализованная дата\n",
        "Код переписан с sendData.gs  \n",
        "https://github.com/sysblok/sysblok-tools/blob/main/PishuTebe/TableScripts/sendData.gs"
      ],
      "metadata": {
        "id": "_-VCw4S1U2TV"
      }
    },
    {
      "cell_type": "code",
      "source": [
        "class UpdateableDate:\n",
        "  def __init__(self, arr=[None, None, None]):\n",
        "    self.day, self.month, self.year = arr\n",
        "\n",
        "  def is_complete(self):\n",
        "    return self.year and self.month and self.day\n",
        "\n",
        "  def to_date(self):  # не используется\n",
        "    if self.year is None:\n",
        "      return None\n",
        "    # return new Date(Date.UTC(this.year, (this.month || 1) - 1, this.day || 1));\n",
        "    return datetime.date(self.year, \n",
        "                         self.month if self.month is not None else 1,\n",
        "                         self.day if self.day is not None else 1)\n",
        "    \n",
        "  def __str__(self): \n",
        "    arr = []\n",
        "    if self.year is not None:\n",
        "      arr.append(self.year)\n",
        "      if self.month is None:\n",
        "        self.month = 1\n",
        "      arr.append(self.month)\n",
        "      if self.day is None:\n",
        "        self.day = 1\n",
        "      arr.append(self.day)\n",
        "    return '.'.join([f'{s:02}' for s in arr[::-1]])\n",
        "\n",
        "  def update(self, other):\n",
        "    if self.year is None:\n",
        "      self.year = other.year\n",
        "      self.month = other.month\n",
        "      self.day = other.day\n",
        "      return\n",
        "    if self.year != other.year:\n",
        "      return\n",
        "    if self.month is None:\n",
        "      self.month = other.month\n",
        "      self.day = other.day\n",
        "      return\n",
        "    if self.month != other.month:\n",
        "      return\n",
        "    self.day = other.day"
      ],
      "metadata": {
        "id": "aa2kN3duVe0c"
      },
      "execution_count": null,
      "outputs": []
    },
    {
      "cell_type": "code",
      "source": [
        "d = UpdateableDate([8, 3, 1968])\n",
        "print(d)"
      ],
      "metadata": {
        "colab": {
          "base_uri": "https://localhost:8080/"
        },
        "id": "eN-RxxkFhAv2",
        "outputId": "73c12aec-3214-421f-a207-183ce2453595"
      },
      "execution_count": null,
      "outputs": [
        {
          "output_type": "stream",
          "name": "stdout",
          "text": [
            "08.03.1968\n"
          ]
        }
      ]
    },
    {
      "cell_type": "code",
      "source": [
        "def parse_date(date_str):\n",
        "  if date_str == ots or date_str == nrzb:\n",
        "    return None\n",
        "  parsed = date_str.split('.')\n",
        "  # print(parsed)\n",
        "  parsed = [int(v) if v.isnumeric() else None for v in parsed]\n",
        "  # print(parsed)\n",
        "  parsed = [None] * (3 - len(parsed)) + parsed[:3]\n",
        "  parsed = UpdateableDate(parsed)\n",
        "  # print(parsed)\n",
        "  return parsed"
      ],
      "metadata": {
        "id": "ZzKeHuXtZigI"
      },
      "execution_count": null,
      "outputs": []
    },
    {
      "cell_type": "code",
      "source": [
        "p = parse_date('8 марта - международныx женский день С праздником')\n",
        "print(p.year, p.day, p.month)"
      ],
      "metadata": {
        "colab": {
          "base_uri": "https://localhost:8080/"
        },
        "id": "n8lY7Yf3BDPx",
        "outputId": "e1ea3bb0-50f0-4c55-94ad-0ed5aeca5947"
      },
      "execution_count": null,
      "outputs": [
        {
          "output_type": "stream",
          "name": "stdout",
          "text": [
            "None None None\n"
          ]
        }
      ]
    },
    {
      "cell_type": "code",
      "source": [
        "def get_normalized_date(row):\n",
        "  normalized = UpdateableDate()\n",
        "  # print('normalized =', normalized)\n",
        "  sources = row[date_cols]\n",
        "  for date_str in sources:\n",
        "    # print(date_str)\n",
        "    parsed = parse_date(date_str)\n",
        "    # print('parsed =', parsed)\n",
        "    if parsed is None:\n",
        "      continue\n",
        "    normalized.update(parsed)\n",
        "    # print('normalized =', normalized)\n",
        "    if normalized.is_complete():\n",
        "      break\n",
        "  # return str(normalized)\n",
        "  return normalized"
      ],
      "metadata": {
        "id": "4FZs5DqlaOtn"
      },
      "execution_count": null,
      "outputs": []
    },
    {
      "cell_type": "code",
      "source": [
        "postcard_id = 2967\n",
        "normalized = get_normalized_date(df[df['Номер открытки'] == postcard_id].iloc[0])\n",
        "print('normalized =', normalized)"
      ],
      "metadata": {
        "colab": {
          "base_uri": "https://localhost:8080/"
        },
        "id": "-mPOM8_pdu-J",
        "outputId": "84e95493-b4e5-41a5-a587-1f97895d8a19"
      },
      "execution_count": null,
      "outputs": [
        {
          "output_type": "stream",
          "name": "stdout",
          "text": [
            "normalized = 01.01.1969\n"
          ]
        }
      ]
    },
    {
      "cell_type": "code",
      "source": [
        "df[df['Дата написания текста (если автор указал явно, не штемпели)'] == 'xx.xx.1969']"
      ],
      "metadata": {
        "id": "D3I9gVGJiOAg"
      },
      "execution_count": null,
      "outputs": []
    },
    {
      "cell_type": "markdown",
      "source": [
        "Генерируем столбец"
      ],
      "metadata": {
        "id": "DTT5J8ZYE29S"
      }
    },
    {
      "cell_type": "code",
      "source": [
        "df['Дата открытки (нормализованная)'] = df.apply(get_normalized_date, axis=1)"
      ],
      "metadata": {
        "id": "J7fnA8ZO_ycV"
      },
      "execution_count": null,
      "outputs": []
    },
    {
      "cell_type": "markdown",
      "source": [
        "Проверка"
      ],
      "metadata": {
        "id": "A3l8mIm-Bcrb"
      }
    },
    {
      "cell_type": "code",
      "source": [
        "df[['Номер открытки'] + date_cols + ['Дата открытки (нормализованная)']].sample(15)"
      ],
      "metadata": {
        "colab": {
          "base_uri": "https://localhost:8080/",
          "height": 616
        },
        "id": "u8R5GxdNBdh-",
        "outputId": "463ba935-55f0-4dc0-985c-d9c595c4f70e"
      },
      "execution_count": null,
      "outputs": [
        {
          "output_type": "execute_result",
          "data": {
            "text/plain": [
              "      Номер открытки  \\\n",
              "155              476   \n",
              "2912          218576   \n",
              "4667          104668   \n",
              "2693          102694   \n",
              "3415          103416   \n",
              "272           100273   \n",
              "5559          210526   \n",
              "359              807   \n",
              "3935          219716   \n",
              "3237          208204   \n",
              "1692          206659   \n",
              "358           205325   \n",
              "1192          101193   \n",
              "4491          220339   \n",
              "5847          221779   \n",
              "\n",
              "     Дата написания текста (если автор указал явно, не штемпели)  \\\n",
              "155                                       [отсутствует]            \n",
              "2912                                      [отсутствует]            \n",
              "4667                                      [отсутствует]            \n",
              "2693                                         26.xx.1913            \n",
              "3415                                      [отсутствует]            \n",
              "272                                       [отсутствует]            \n",
              "5559                                      [отсутствует]            \n",
              "359                                          07.04.1911            \n",
              "3935                                         26.12.1956            \n",
              "3237                                      [отсутствует]            \n",
              "1692                                      [отсутствует]            \n",
              "358                                       [отсутствует]            \n",
              "1192                                      [отсутствует]            \n",
              "4491                                      [отсутствует]            \n",
              "5847                                         25.04.1985            \n",
              "\n",
              "     Дата открытки со штемпеля (место отправления)  \\\n",
              "155                                  [отсутствует]   \n",
              "2912                                    05.04.1964   \n",
              "4667                                    2x.12.1961   \n",
              "2693                                 [отсутствует]   \n",
              "3415                                    xx.xx.1900   \n",
              "272                                  [отсутствует]   \n",
              "5559                                 [отсутствует]   \n",
              "359                                     xx.xx.xxxx   \n",
              "3935                                 [отсутствует]   \n",
              "3237                                 [отсутствует]   \n",
              "1692                                    22.08.1914   \n",
              "358                                  [отсутствует]   \n",
              "1192                                 [отсутствует]   \n",
              "4491                                 [отсутствует]   \n",
              "5847                                 [отсутствует]   \n",
              "\n",
              "     Дата открытки со штемпеля (место, куда открытка прибыла)  \\\n",
              "155                                          03.01.1910         \n",
              "2912                                      [отсутствует]         \n",
              "4667                                         31.12.1961         \n",
              "2693                                      [отсутствует]         \n",
              "3415                                         09.06.1900         \n",
              "272                                       [отсутствует]         \n",
              "5559                                      [отсутствует]         \n",
              "359                                          xx.xx.xxxx         \n",
              "3935                                      [отсутствует]         \n",
              "3237                                      [отсутствует]         \n",
              "1692                                      [отсутствует]         \n",
              "358                                       [отсутствует]         \n",
              "1192                                         29.04.1964         \n",
              "4491                                      [отсутствует]         \n",
              "5847                                      [отсутствует]         \n",
              "\n",
              "     Дата печати открытки normalized_date  \n",
              "155         [отсутствует]      03.01.1910  \n",
              "2912           20.10.1962      05.04.1964  \n",
              "4667        [отсутствует]      31.12.1961  \n",
              "2693        [отсутствует]            1913  \n",
              "3415        [отсутствует]      09.06.1900  \n",
              "272         [отсутствует]                  \n",
              "5559           xx.xx.1956            1956  \n",
              "359         [отсутствует]      07.04.1911  \n",
              "3935        [отсутствует]      26.12.1956  \n",
              "3237        [отсутствует]                  \n",
              "1692        [отсутствует]      22.08.1914  \n",
              "358         [отсутствует]                  \n",
              "1192           01.03.1962      29.04.1964  \n",
              "4491        [отсутствует]                  \n",
              "5847           xx.xx.1984      25.04.1985  "
            ],
            "text/html": [
              "\n",
              "  <div id=\"df-65ad0bb7-6139-4e7c-81c8-59f2608360c1\">\n",
              "    <div class=\"colab-df-container\">\n",
              "      <div>\n",
              "<style scoped>\n",
              "    .dataframe tbody tr th:only-of-type {\n",
              "        vertical-align: middle;\n",
              "    }\n",
              "\n",
              "    .dataframe tbody tr th {\n",
              "        vertical-align: top;\n",
              "    }\n",
              "\n",
              "    .dataframe thead th {\n",
              "        text-align: right;\n",
              "    }\n",
              "</style>\n",
              "<table border=\"1\" class=\"dataframe\">\n",
              "  <thead>\n",
              "    <tr style=\"text-align: right;\">\n",
              "      <th></th>\n",
              "      <th>Номер открытки</th>\n",
              "      <th>Дата написания текста (если автор указал явно, не штемпели)</th>\n",
              "      <th>Дата открытки со штемпеля (место отправления)</th>\n",
              "      <th>Дата открытки со штемпеля (место, куда открытка прибыла)</th>\n",
              "      <th>Дата печати открытки</th>\n",
              "      <th>normalized_date</th>\n",
              "    </tr>\n",
              "  </thead>\n",
              "  <tbody>\n",
              "    <tr>\n",
              "      <th>155</th>\n",
              "      <td>476</td>\n",
              "      <td>[отсутствует]</td>\n",
              "      <td>[отсутствует]</td>\n",
              "      <td>03.01.1910</td>\n",
              "      <td>[отсутствует]</td>\n",
              "      <td>03.01.1910</td>\n",
              "    </tr>\n",
              "    <tr>\n",
              "      <th>2912</th>\n",
              "      <td>218576</td>\n",
              "      <td>[отсутствует]</td>\n",
              "      <td>05.04.1964</td>\n",
              "      <td>[отсутствует]</td>\n",
              "      <td>20.10.1962</td>\n",
              "      <td>05.04.1964</td>\n",
              "    </tr>\n",
              "    <tr>\n",
              "      <th>4667</th>\n",
              "      <td>104668</td>\n",
              "      <td>[отсутствует]</td>\n",
              "      <td>2x.12.1961</td>\n",
              "      <td>31.12.1961</td>\n",
              "      <td>[отсутствует]</td>\n",
              "      <td>31.12.1961</td>\n",
              "    </tr>\n",
              "    <tr>\n",
              "      <th>2693</th>\n",
              "      <td>102694</td>\n",
              "      <td>26.xx.1913</td>\n",
              "      <td>[отсутствует]</td>\n",
              "      <td>[отсутствует]</td>\n",
              "      <td>[отсутствует]</td>\n",
              "      <td>1913</td>\n",
              "    </tr>\n",
              "    <tr>\n",
              "      <th>3415</th>\n",
              "      <td>103416</td>\n",
              "      <td>[отсутствует]</td>\n",
              "      <td>xx.xx.1900</td>\n",
              "      <td>09.06.1900</td>\n",
              "      <td>[отсутствует]</td>\n",
              "      <td>09.06.1900</td>\n",
              "    </tr>\n",
              "    <tr>\n",
              "      <th>272</th>\n",
              "      <td>100273</td>\n",
              "      <td>[отсутствует]</td>\n",
              "      <td>[отсутствует]</td>\n",
              "      <td>[отсутствует]</td>\n",
              "      <td>[отсутствует]</td>\n",
              "      <td></td>\n",
              "    </tr>\n",
              "    <tr>\n",
              "      <th>5559</th>\n",
              "      <td>210526</td>\n",
              "      <td>[отсутствует]</td>\n",
              "      <td>[отсутствует]</td>\n",
              "      <td>[отсутствует]</td>\n",
              "      <td>xx.xx.1956</td>\n",
              "      <td>1956</td>\n",
              "    </tr>\n",
              "    <tr>\n",
              "      <th>359</th>\n",
              "      <td>807</td>\n",
              "      <td>07.04.1911</td>\n",
              "      <td>xx.xx.xxxx</td>\n",
              "      <td>xx.xx.xxxx</td>\n",
              "      <td>[отсутствует]</td>\n",
              "      <td>07.04.1911</td>\n",
              "    </tr>\n",
              "    <tr>\n",
              "      <th>3935</th>\n",
              "      <td>219716</td>\n",
              "      <td>26.12.1956</td>\n",
              "      <td>[отсутствует]</td>\n",
              "      <td>[отсутствует]</td>\n",
              "      <td>[отсутствует]</td>\n",
              "      <td>26.12.1956</td>\n",
              "    </tr>\n",
              "    <tr>\n",
              "      <th>3237</th>\n",
              "      <td>208204</td>\n",
              "      <td>[отсутствует]</td>\n",
              "      <td>[отсутствует]</td>\n",
              "      <td>[отсутствует]</td>\n",
              "      <td>[отсутствует]</td>\n",
              "      <td></td>\n",
              "    </tr>\n",
              "    <tr>\n",
              "      <th>1692</th>\n",
              "      <td>206659</td>\n",
              "      <td>[отсутствует]</td>\n",
              "      <td>22.08.1914</td>\n",
              "      <td>[отсутствует]</td>\n",
              "      <td>[отсутствует]</td>\n",
              "      <td>22.08.1914</td>\n",
              "    </tr>\n",
              "    <tr>\n",
              "      <th>358</th>\n",
              "      <td>205325</td>\n",
              "      <td>[отсутствует]</td>\n",
              "      <td>[отсутствует]</td>\n",
              "      <td>[отсутствует]</td>\n",
              "      <td>[отсутствует]</td>\n",
              "      <td></td>\n",
              "    </tr>\n",
              "    <tr>\n",
              "      <th>1192</th>\n",
              "      <td>101193</td>\n",
              "      <td>[отсутствует]</td>\n",
              "      <td>[отсутствует]</td>\n",
              "      <td>29.04.1964</td>\n",
              "      <td>01.03.1962</td>\n",
              "      <td>29.04.1964</td>\n",
              "    </tr>\n",
              "    <tr>\n",
              "      <th>4491</th>\n",
              "      <td>220339</td>\n",
              "      <td>[отсутствует]</td>\n",
              "      <td>[отсутствует]</td>\n",
              "      <td>[отсутствует]</td>\n",
              "      <td>[отсутствует]</td>\n",
              "      <td></td>\n",
              "    </tr>\n",
              "    <tr>\n",
              "      <th>5847</th>\n",
              "      <td>221779</td>\n",
              "      <td>25.04.1985</td>\n",
              "      <td>[отсутствует]</td>\n",
              "      <td>[отсутствует]</td>\n",
              "      <td>xx.xx.1984</td>\n",
              "      <td>25.04.1985</td>\n",
              "    </tr>\n",
              "  </tbody>\n",
              "</table>\n",
              "</div>\n",
              "      <button class=\"colab-df-convert\" onclick=\"convertToInteractive('df-65ad0bb7-6139-4e7c-81c8-59f2608360c1')\"\n",
              "              title=\"Convert this dataframe to an interactive table.\"\n",
              "              style=\"display:none;\">\n",
              "        \n",
              "  <svg xmlns=\"http://www.w3.org/2000/svg\" height=\"24px\"viewBox=\"0 0 24 24\"\n",
              "       width=\"24px\">\n",
              "    <path d=\"M0 0h24v24H0V0z\" fill=\"none\"/>\n",
              "    <path d=\"M18.56 5.44l.94 2.06.94-2.06 2.06-.94-2.06-.94-.94-2.06-.94 2.06-2.06.94zm-11 1L8.5 8.5l.94-2.06 2.06-.94-2.06-.94L8.5 2.5l-.94 2.06-2.06.94zm10 10l.94 2.06.94-2.06 2.06-.94-2.06-.94-.94-2.06-.94 2.06-2.06.94z\"/><path d=\"M17.41 7.96l-1.37-1.37c-.4-.4-.92-.59-1.43-.59-.52 0-1.04.2-1.43.59L10.3 9.45l-7.72 7.72c-.78.78-.78 2.05 0 2.83L4 21.41c.39.39.9.59 1.41.59.51 0 1.02-.2 1.41-.59l7.78-7.78 2.81-2.81c.8-.78.8-2.07 0-2.86zM5.41 20L4 18.59l7.72-7.72 1.47 1.35L5.41 20z\"/>\n",
              "  </svg>\n",
              "      </button>\n",
              "      \n",
              "  <style>\n",
              "    .colab-df-container {\n",
              "      display:flex;\n",
              "      flex-wrap:wrap;\n",
              "      gap: 12px;\n",
              "    }\n",
              "\n",
              "    .colab-df-convert {\n",
              "      background-color: #E8F0FE;\n",
              "      border: none;\n",
              "      border-radius: 50%;\n",
              "      cursor: pointer;\n",
              "      display: none;\n",
              "      fill: #1967D2;\n",
              "      height: 32px;\n",
              "      padding: 0 0 0 0;\n",
              "      width: 32px;\n",
              "    }\n",
              "\n",
              "    .colab-df-convert:hover {\n",
              "      background-color: #E2EBFA;\n",
              "      box-shadow: 0px 1px 2px rgba(60, 64, 67, 0.3), 0px 1px 3px 1px rgba(60, 64, 67, 0.15);\n",
              "      fill: #174EA6;\n",
              "    }\n",
              "\n",
              "    [theme=dark] .colab-df-convert {\n",
              "      background-color: #3B4455;\n",
              "      fill: #D2E3FC;\n",
              "    }\n",
              "\n",
              "    [theme=dark] .colab-df-convert:hover {\n",
              "      background-color: #434B5C;\n",
              "      box-shadow: 0px 1px 3px 1px rgba(0, 0, 0, 0.15);\n",
              "      filter: drop-shadow(0px 1px 2px rgba(0, 0, 0, 0.3));\n",
              "      fill: #FFFFFF;\n",
              "    }\n",
              "  </style>\n",
              "\n",
              "      <script>\n",
              "        const buttonEl =\n",
              "          document.querySelector('#df-65ad0bb7-6139-4e7c-81c8-59f2608360c1 button.colab-df-convert');\n",
              "        buttonEl.style.display =\n",
              "          google.colab.kernel.accessAllowed ? 'block' : 'none';\n",
              "\n",
              "        async function convertToInteractive(key) {\n",
              "          const element = document.querySelector('#df-65ad0bb7-6139-4e7c-81c8-59f2608360c1');\n",
              "          const dataTable =\n",
              "            await google.colab.kernel.invokeFunction('convertToInteractive',\n",
              "                                                     [key], {});\n",
              "          if (!dataTable) return;\n",
              "\n",
              "          const docLinkHtml = 'Like what you see? Visit the ' +\n",
              "            '<a target=\"_blank\" href=https://colab.research.google.com/notebooks/data_table.ipynb>data table notebook</a>'\n",
              "            + ' to learn more about interactive tables.';\n",
              "          element.innerHTML = '';\n",
              "          dataTable['output_type'] = 'display_data';\n",
              "          await google.colab.output.renderOutput(dataTable, element);\n",
              "          const docLink = document.createElement('div');\n",
              "          docLink.innerHTML = docLinkHtml;\n",
              "          element.appendChild(docLink);\n",
              "        }\n",
              "      </script>\n",
              "    </div>\n",
              "  </div>\n",
              "  "
            ]
          },
          "metadata": {},
          "execution_count": 113
        }
      ]
    },
    {
      "cell_type": "markdown",
      "source": [
        "# Выгрузка корпуса"
      ],
      "metadata": {
        "id": "TfhkOzyXGaUG"
      }
    },
    {
      "cell_type": "code",
      "source": [
        "df_cols = [\n",
        "    'Номер открытки',  # синяя секция (базовая)\n",
        "    'Pic_url_1',\n",
        "    'Pic_url_2',\n",
        "    'Resize_url_1',\n",
        "    'Resize_url_2',\n",
        "\n",
        "    'Язык текста открытки',\t # зеленая секция (расшифровка)\n",
        "    'Текст открытки',\t\n",
        "    'Перевод текста открытки (если на иностранном языке)',\t\n",
        "    'Вид орфографии',\t\n",
        "    'Дата написания текста (если автор указал явно, не штемпели)',\n",
        "    'Адрес отправителя',\n",
        "    'Имя отправителя',\t\n",
        "    'Адрес получателя',\t\n",
        "    'Индекс получателя',\t\n",
        "    'Имя получателя',\t\n",
        "    'Дата открытки со штемпеля (место отправления)',\n",
        "    'Дата открытки со штемпеля (место, куда открытка прибыла)',\t\n",
        "    'Тип изображения (фотография, картина, другое)',\n",
        "    'Описание изображения. Обычно приводится на задней стороне или лицевой. Там обычно указывается, что изображено на открытке, автор, год фотографии/картины',\n",
        "    'Дата печати открытки',\t\n",
        "    'Описание открытки. Например, это может быть издательство, цена открытки и прочая интересная метаинформация',\t\n",
        "    'Доп. сведения о получателе (например, титул, \"дядя\", \"товарищ\")',\n",
        "    'Доп. сведения об отправителе (например, титул, \"твой дядя\", \"князь\")',\n",
        "\n",
        "    'Период (дореволюционный, советский, постсоветский)',\t # оранжевая секция (модерация)\n",
        "    'Дата открытки (нормализованная)',  # <---\n",
        "    'Страна (откуда)',\t\n",
        "    'Населенный пункт (откуда)',\n",
        "    'Страна (куда)',\t\n",
        "    'Населенный пункт (куда)',\n",
        "    'Тег_1',\t\n",
        "    'Тег_2',\n",
        "    'Тег_3',\t\n",
        "    'Тег_4',\t\n",
        "    'Тег_5',\t\n",
        "    'Тег_6',\t\n",
        "    'Тег_7'\n",
        "    ]"
      ],
      "metadata": {
        "id": "uS9AwnavoBiC"
      },
      "execution_count": null,
      "outputs": []
    },
    {
      "cell_type": "markdown",
      "source": [
        "## Корпус - original"
      ],
      "metadata": {
        "id": "r78Ro0i8WqfZ"
      }
    },
    {
      "cell_type": "markdown",
      "source": [
        "* убираем ссылки на сжатые изображения\n",
        "* убираем технические столбцы\n",
        "* оставляем только открытки, готовые к выгрузке"
      ],
      "metadata": {
        "id": "zumPhS6SGB5f"
      }
    },
    {
      "cell_type": "code",
      "source": [
        "corpus = df[df['dump_ready']][df_cols]\n",
        "corpus = corpus.rename(\n",
        "    columns={'Pic_url_1': 'Лицевая сторона - ссылка', \n",
        "             'Pic_url_2': 'Оборотная сторона - ссылка'}\n",
        "             ).drop(['Resize_url_1', 'Resize_url_2'], axis=1)"
      ],
      "metadata": {
        "id": "9euGhLvkYx-0"
      },
      "execution_count": null,
      "outputs": []
    },
    {
      "cell_type": "code",
      "source": [
        "corpus.shape"
      ],
      "metadata": {
        "colab": {
          "base_uri": "https://localhost:8080/"
        },
        "id": "MwlEIBeN0FF7",
        "outputId": "0337b98c-6af3-4095-fc2c-c2a753027df6"
      },
      "execution_count": null,
      "outputs": [
        {
          "output_type": "execute_result",
          "data": {
            "text/plain": [
              "(17726, 34)"
            ]
          },
          "metadata": {},
          "execution_count": 116
        }
      ]
    },
    {
      "cell_type": "code",
      "source": [
        "corpus.head()"
      ],
      "metadata": {
        "id": "4pm9iHA0pWXu",
        "colab": {
          "base_uri": "https://localhost:8080/",
          "height": 733
        },
        "outputId": "e18b43ce-18b5-4f6c-cc6a-ffea2244aa82"
      },
      "execution_count": null,
      "outputs": [
        {
          "output_type": "execute_result",
          "data": {
            "text/plain": [
              "   Номер открытки                           Лицевая сторона - ссылка  \\\n",
              "0              50  https://forum.vgd.ru/file.php?fid=454520&key=1...   \n",
              "1              51  https://forum.vgd.ru/file.php?fid=454522&key=2...   \n",
              "2              52  https://forum.vgd.ru/file.php?fid=454524&key=1...   \n",
              "3              67  https://forum.vgd.ru/file.php?fid=448722&key=1...   \n",
              "4              68  https://forum.vgd.ru/file.php?fid=448737&key=1...   \n",
              "\n",
              "                          Оборотная сторона - ссылка Язык текста открытки  \\\n",
              "0  https://forum.vgd.ru/file.php?fid=454519&key=6...              русский   \n",
              "1  https://forum.vgd.ru/file.php?fid=454521&key=5...              русский   \n",
              "2  https://forum.vgd.ru/file.php?fid=454523&key=6...              русский   \n",
              "3  https://forum.vgd.ru/file.php?fid=448723&key=7...             немецкий   \n",
              "4  https://forum.vgd.ru/file.php?fid=448738&key=1...     иностранный язык   \n",
              "\n",
              "                                      Текст открытки  \\\n",
              "0  {Милый Жоржик! Простите, голубчик, за молчание...   \n",
              "1  Добрейший Паша! Будь добр вышли мне на консерв...   \n",
              "2  Милая моя Олечка! Открытку твою получила. Спас...   \n",
              "3  Odessa. 30. 7. 01. Herzliche Grüße von [?M.Cho...   \n",
              "4                                      [отсутствует]   \n",
              "\n",
              "  Перевод текста открытки (если на иностранном языке)  \\\n",
              "0                                                       \n",
              "1                                                       \n",
              "2                                                       \n",
              "3                Сердечный привет от [?М. Холоденко]    \n",
              "4                                                       \n",
              "\n",
              "             Вид орфографии  \\\n",
              "0           Дореволюционная   \n",
              "1           Дореволюционная   \n",
              "2           Дореволюционная   \n",
              "3  Латиница/дореволюционная   \n",
              "4                  Латиница   \n",
              "\n",
              "  Дата написания текста (если автор указал явно, не штемпели)  \\\n",
              "0                                      [отсутствует]            \n",
              "1                                         xx.xx.xxxx            \n",
              "2                                         07.12.1910            \n",
              "3                                         30.07.1901            \n",
              "4                                      [отсутствует]            \n",
              "\n",
              "  Адрес отправителя                            Имя отправителя  ...  \\\n",
              "0         г. Одесса                              [отсутствует]  ...   \n",
              "1            Москва                                 М.Каневски  ...   \n",
              "2            Одесса                              [отсутствует]  ...   \n",
              "3            Одесса  [?M.Cholodenko] [Перевод] [?М. Холоденко]  ...   \n",
              "4     [отсутствует]                              [отсутствует]  ...   \n",
              "\n",
              "                           Населенный пункт (откуда)       Страна (куда)  \\\n",
              "0       Херсонская губерния,Одесский уезд, г. Одесса  Российская Империя   \n",
              "1  Московская губерния, Московский уезд, город Мо...  Российская Империя   \n",
              "2   Херсонская губерния, Одесский уезд, город Одесса  Российская Империя   \n",
              "3                                       город Одесса            Германия   \n",
              "4                                      [отсутствует]       [отсутствует]   \n",
              "\n",
              "                             Населенный пункт (куда)       Тег_1  \\\n",
              "0    Тифлисская губерния, Тифлисский уезд, г. Тифлис  Шлю привет   \n",
              "1  Область Войска Донского, Ростовский уезд, горо...     Просьба   \n",
              "2  Тифлисская губерния, Тифлисский уезд, город Ти...     Новости   \n",
              "3                            Саксония, город Дрезден  Шлю привет   \n",
              "4                                      [отсутствует]               \n",
              "\n",
              "                  Тег_2         Тег_3            Тег_4  \\\n",
              "0             Житейское  Дурные вести            Учеба   \n",
              "1  Рассказ об искусстве    Шлю привет                    \n",
              "2             Житейское  Дурные вести  Письма от семьи   \n",
              "3      Иностранный язык                                  \n",
              "4                                                        \n",
              "\n",
              "                          Тег_5       Тег_6 Тег_7  \n",
              "0  Простите, что долго не писал                    \n",
              "1                                                  \n",
              "2                Письма от мамы  Шлю привет        \n",
              "3                                                  \n",
              "4                                                  \n",
              "\n",
              "[5 rows x 34 columns]"
            ],
            "text/html": [
              "\n",
              "  <div id=\"df-73d67f8f-9e0b-4c05-8d36-c381826ee924\">\n",
              "    <div class=\"colab-df-container\">\n",
              "      <div>\n",
              "<style scoped>\n",
              "    .dataframe tbody tr th:only-of-type {\n",
              "        vertical-align: middle;\n",
              "    }\n",
              "\n",
              "    .dataframe tbody tr th {\n",
              "        vertical-align: top;\n",
              "    }\n",
              "\n",
              "    .dataframe thead th {\n",
              "        text-align: right;\n",
              "    }\n",
              "</style>\n",
              "<table border=\"1\" class=\"dataframe\">\n",
              "  <thead>\n",
              "    <tr style=\"text-align: right;\">\n",
              "      <th></th>\n",
              "      <th>Номер открытки</th>\n",
              "      <th>Лицевая сторона - ссылка</th>\n",
              "      <th>Оборотная сторона - ссылка</th>\n",
              "      <th>Язык текста открытки</th>\n",
              "      <th>Текст открытки</th>\n",
              "      <th>Перевод текста открытки (если на иностранном языке)</th>\n",
              "      <th>Вид орфографии</th>\n",
              "      <th>Дата написания текста (если автор указал явно, не штемпели)</th>\n",
              "      <th>Адрес отправителя</th>\n",
              "      <th>Имя отправителя</th>\n",
              "      <th>...</th>\n",
              "      <th>Населенный пункт (откуда)</th>\n",
              "      <th>Страна (куда)</th>\n",
              "      <th>Населенный пункт (куда)</th>\n",
              "      <th>Тег_1</th>\n",
              "      <th>Тег_2</th>\n",
              "      <th>Тег_3</th>\n",
              "      <th>Тег_4</th>\n",
              "      <th>Тег_5</th>\n",
              "      <th>Тег_6</th>\n",
              "      <th>Тег_7</th>\n",
              "    </tr>\n",
              "  </thead>\n",
              "  <tbody>\n",
              "    <tr>\n",
              "      <th>0</th>\n",
              "      <td>50</td>\n",
              "      <td>https://forum.vgd.ru/file.php?fid=454520&amp;key=1...</td>\n",
              "      <td>https://forum.vgd.ru/file.php?fid=454519&amp;key=6...</td>\n",
              "      <td>русский</td>\n",
              "      <td>{Милый Жоржик! Простите, голубчик, за молчание...</td>\n",
              "      <td></td>\n",
              "      <td>Дореволюционная</td>\n",
              "      <td>[отсутствует]</td>\n",
              "      <td>г. Одесса</td>\n",
              "      <td>[отсутствует]</td>\n",
              "      <td>...</td>\n",
              "      <td>Херсонская губерния,Одесский уезд, г. Одесса</td>\n",
              "      <td>Российская Империя</td>\n",
              "      <td>Тифлисская губерния, Тифлисский уезд, г. Тифлис</td>\n",
              "      <td>Шлю привет</td>\n",
              "      <td>Житейское</td>\n",
              "      <td>Дурные вести</td>\n",
              "      <td>Учеба</td>\n",
              "      <td>Простите, что долго не писал</td>\n",
              "      <td></td>\n",
              "      <td></td>\n",
              "    </tr>\n",
              "    <tr>\n",
              "      <th>1</th>\n",
              "      <td>51</td>\n",
              "      <td>https://forum.vgd.ru/file.php?fid=454522&amp;key=2...</td>\n",
              "      <td>https://forum.vgd.ru/file.php?fid=454521&amp;key=5...</td>\n",
              "      <td>русский</td>\n",
              "      <td>Добрейший Паша! Будь добр вышли мне на консерв...</td>\n",
              "      <td></td>\n",
              "      <td>Дореволюционная</td>\n",
              "      <td>xx.xx.xxxx</td>\n",
              "      <td>Москва</td>\n",
              "      <td>М.Каневски</td>\n",
              "      <td>...</td>\n",
              "      <td>Московская губерния, Московский уезд, город Мо...</td>\n",
              "      <td>Российская Империя</td>\n",
              "      <td>Область Войска Донского, Ростовский уезд, горо...</td>\n",
              "      <td>Просьба</td>\n",
              "      <td>Рассказ об искусстве</td>\n",
              "      <td>Шлю привет</td>\n",
              "      <td></td>\n",
              "      <td></td>\n",
              "      <td></td>\n",
              "      <td></td>\n",
              "    </tr>\n",
              "    <tr>\n",
              "      <th>2</th>\n",
              "      <td>52</td>\n",
              "      <td>https://forum.vgd.ru/file.php?fid=454524&amp;key=1...</td>\n",
              "      <td>https://forum.vgd.ru/file.php?fid=454523&amp;key=6...</td>\n",
              "      <td>русский</td>\n",
              "      <td>Милая моя Олечка! Открытку твою получила. Спас...</td>\n",
              "      <td></td>\n",
              "      <td>Дореволюционная</td>\n",
              "      <td>07.12.1910</td>\n",
              "      <td>Одесса</td>\n",
              "      <td>[отсутствует]</td>\n",
              "      <td>...</td>\n",
              "      <td>Херсонская губерния, Одесский уезд, город Одесса</td>\n",
              "      <td>Российская Империя</td>\n",
              "      <td>Тифлисская губерния, Тифлисский уезд, город Ти...</td>\n",
              "      <td>Новости</td>\n",
              "      <td>Житейское</td>\n",
              "      <td>Дурные вести</td>\n",
              "      <td>Письма от семьи</td>\n",
              "      <td>Письма от мамы</td>\n",
              "      <td>Шлю привет</td>\n",
              "      <td></td>\n",
              "    </tr>\n",
              "    <tr>\n",
              "      <th>3</th>\n",
              "      <td>67</td>\n",
              "      <td>https://forum.vgd.ru/file.php?fid=448722&amp;key=1...</td>\n",
              "      <td>https://forum.vgd.ru/file.php?fid=448723&amp;key=7...</td>\n",
              "      <td>немецкий</td>\n",
              "      <td>Odessa. 30. 7. 01. Herzliche Grüße von [?M.Cho...</td>\n",
              "      <td>Сердечный привет от [?М. Холоденко]</td>\n",
              "      <td>Латиница/дореволюционная</td>\n",
              "      <td>30.07.1901</td>\n",
              "      <td>Одесса</td>\n",
              "      <td>[?M.Cholodenko] [Перевод] [?М. Холоденко]</td>\n",
              "      <td>...</td>\n",
              "      <td>город Одесса</td>\n",
              "      <td>Германия</td>\n",
              "      <td>Саксония, город Дрезден</td>\n",
              "      <td>Шлю привет</td>\n",
              "      <td>Иностранный язык</td>\n",
              "      <td></td>\n",
              "      <td></td>\n",
              "      <td></td>\n",
              "      <td></td>\n",
              "      <td></td>\n",
              "    </tr>\n",
              "    <tr>\n",
              "      <th>4</th>\n",
              "      <td>68</td>\n",
              "      <td>https://forum.vgd.ru/file.php?fid=448737&amp;key=1...</td>\n",
              "      <td>https://forum.vgd.ru/file.php?fid=448738&amp;key=1...</td>\n",
              "      <td>иностранный язык</td>\n",
              "      <td>[отсутствует]</td>\n",
              "      <td></td>\n",
              "      <td>Латиница</td>\n",
              "      <td>[отсутствует]</td>\n",
              "      <td>[отсутствует]</td>\n",
              "      <td>[отсутствует]</td>\n",
              "      <td>...</td>\n",
              "      <td>[отсутствует]</td>\n",
              "      <td>[отсутствует]</td>\n",
              "      <td>[отсутствует]</td>\n",
              "      <td></td>\n",
              "      <td></td>\n",
              "      <td></td>\n",
              "      <td></td>\n",
              "      <td></td>\n",
              "      <td></td>\n",
              "      <td></td>\n",
              "    </tr>\n",
              "  </tbody>\n",
              "</table>\n",
              "<p>5 rows × 34 columns</p>\n",
              "</div>\n",
              "      <button class=\"colab-df-convert\" onclick=\"convertToInteractive('df-73d67f8f-9e0b-4c05-8d36-c381826ee924')\"\n",
              "              title=\"Convert this dataframe to an interactive table.\"\n",
              "              style=\"display:none;\">\n",
              "        \n",
              "  <svg xmlns=\"http://www.w3.org/2000/svg\" height=\"24px\"viewBox=\"0 0 24 24\"\n",
              "       width=\"24px\">\n",
              "    <path d=\"M0 0h24v24H0V0z\" fill=\"none\"/>\n",
              "    <path d=\"M18.56 5.44l.94 2.06.94-2.06 2.06-.94-2.06-.94-.94-2.06-.94 2.06-2.06.94zm-11 1L8.5 8.5l.94-2.06 2.06-.94-2.06-.94L8.5 2.5l-.94 2.06-2.06.94zm10 10l.94 2.06.94-2.06 2.06-.94-2.06-.94-.94-2.06-.94 2.06-2.06.94z\"/><path d=\"M17.41 7.96l-1.37-1.37c-.4-.4-.92-.59-1.43-.59-.52 0-1.04.2-1.43.59L10.3 9.45l-7.72 7.72c-.78.78-.78 2.05 0 2.83L4 21.41c.39.39.9.59 1.41.59.51 0 1.02-.2 1.41-.59l7.78-7.78 2.81-2.81c.8-.78.8-2.07 0-2.86zM5.41 20L4 18.59l7.72-7.72 1.47 1.35L5.41 20z\"/>\n",
              "  </svg>\n",
              "      </button>\n",
              "      \n",
              "  <style>\n",
              "    .colab-df-container {\n",
              "      display:flex;\n",
              "      flex-wrap:wrap;\n",
              "      gap: 12px;\n",
              "    }\n",
              "\n",
              "    .colab-df-convert {\n",
              "      background-color: #E8F0FE;\n",
              "      border: none;\n",
              "      border-radius: 50%;\n",
              "      cursor: pointer;\n",
              "      display: none;\n",
              "      fill: #1967D2;\n",
              "      height: 32px;\n",
              "      padding: 0 0 0 0;\n",
              "      width: 32px;\n",
              "    }\n",
              "\n",
              "    .colab-df-convert:hover {\n",
              "      background-color: #E2EBFA;\n",
              "      box-shadow: 0px 1px 2px rgba(60, 64, 67, 0.3), 0px 1px 3px 1px rgba(60, 64, 67, 0.15);\n",
              "      fill: #174EA6;\n",
              "    }\n",
              "\n",
              "    [theme=dark] .colab-df-convert {\n",
              "      background-color: #3B4455;\n",
              "      fill: #D2E3FC;\n",
              "    }\n",
              "\n",
              "    [theme=dark] .colab-df-convert:hover {\n",
              "      background-color: #434B5C;\n",
              "      box-shadow: 0px 1px 3px 1px rgba(0, 0, 0, 0.15);\n",
              "      filter: drop-shadow(0px 1px 2px rgba(0, 0, 0, 0.3));\n",
              "      fill: #FFFFFF;\n",
              "    }\n",
              "  </style>\n",
              "\n",
              "      <script>\n",
              "        const buttonEl =\n",
              "          document.querySelector('#df-73d67f8f-9e0b-4c05-8d36-c381826ee924 button.colab-df-convert');\n",
              "        buttonEl.style.display =\n",
              "          google.colab.kernel.accessAllowed ? 'block' : 'none';\n",
              "\n",
              "        async function convertToInteractive(key) {\n",
              "          const element = document.querySelector('#df-73d67f8f-9e0b-4c05-8d36-c381826ee924');\n",
              "          const dataTable =\n",
              "            await google.colab.kernel.invokeFunction('convertToInteractive',\n",
              "                                                     [key], {});\n",
              "          if (!dataTable) return;\n",
              "\n",
              "          const docLinkHtml = 'Like what you see? Visit the ' +\n",
              "            '<a target=\"_blank\" href=https://colab.research.google.com/notebooks/data_table.ipynb>data table notebook</a>'\n",
              "            + ' to learn more about interactive tables.';\n",
              "          element.innerHTML = '';\n",
              "          dataTable['output_type'] = 'display_data';\n",
              "          await google.colab.output.renderOutput(dataTable, element);\n",
              "          const docLink = document.createElement('div');\n",
              "          docLink.innerHTML = docLinkHtml;\n",
              "          element.appendChild(docLink);\n",
              "        }\n",
              "      </script>\n",
              "    </div>\n",
              "  </div>\n",
              "  "
            ]
          },
          "metadata": {},
          "execution_count": 117
        }
      ]
    },
    {
      "cell_type": "code",
      "source": [
        "cur_date = datetime.today().strftime('%Y.%m.%d')\n",
        "filename = f'[{cur_date}] Пишу тебе. Корпус (база 1-4) - original.csv'\n",
        "filename"
      ],
      "metadata": {
        "colab": {
          "base_uri": "https://localhost:8080/",
          "height": 35
        },
        "outputId": "1038eeef-a24c-46c6-e22f-3413dc700419",
        "id": "a8o0lMduTdwG"
      },
      "execution_count": null,
      "outputs": [
        {
          "output_type": "execute_result",
          "data": {
            "text/plain": [
              "'[2023.05.21] Пишу тебе. Корпус (база 1-4) - original.csv'"
            ],
            "application/vnd.google.colaboratory.intrinsic+json": {
              "type": "string"
            }
          },
          "metadata": {},
          "execution_count": 118
        }
      ]
    },
    {
      "cell_type": "code",
      "source": [
        "corpus.to_csv(filename, index=False)"
      ],
      "metadata": {
        "id": "fnZoSYtITdwH"
      },
      "execution_count": null,
      "outputs": []
    },
    {
      "cell_type": "markdown",
      "source": [
        "## Корпус - версия наружу"
      ],
      "metadata": {
        "id": "QGZOQr60Tp5M"
      }
    },
    {
      "cell_type": "markdown",
      "source": [
        "* убираем ссылки на исходники изображений \n",
        "* убираем технические столбцы\n",
        "* оставляем только открытки, готовые к выгрузке"
      ],
      "metadata": {
        "id": "fGSZicphGJ_j"
      }
    },
    {
      "cell_type": "code",
      "source": [
        "corpus = df[df['dump_ready']][df_cols]\n",
        "corpus = corpus.rename(\n",
        "    columns={'Resize_url_1': 'Лицевая сторона - ссылка', \n",
        "             'Resize_url_2': 'Оборотная сторона - ссылка'}\n",
        "             ).drop(['Pic_url_1', 'Pic_url_2'], axis=1)"
      ],
      "metadata": {
        "id": "UfZd1n-vGJ_l"
      },
      "execution_count": null,
      "outputs": []
    },
    {
      "cell_type": "code",
      "source": [
        "corpus.shape"
      ],
      "metadata": {
        "colab": {
          "base_uri": "https://localhost:8080/"
        },
        "id": "fdGD6Rod0KBj",
        "outputId": "cc376416-c7c3-45f7-fd7e-8eedea0e80dd"
      },
      "execution_count": null,
      "outputs": [
        {
          "output_type": "execute_result",
          "data": {
            "text/plain": [
              "(17726, 34)"
            ]
          },
          "metadata": {},
          "execution_count": 121
        }
      ]
    },
    {
      "cell_type": "code",
      "source": [
        "corpus.head()"
      ],
      "metadata": {
        "id": "PQLlcJW3Y9LI",
        "colab": {
          "base_uri": "https://localhost:8080/",
          "height": 733
        },
        "outputId": "3084947c-a65e-462a-fe08-b5d15b0c602c"
      },
      "execution_count": null,
      "outputs": [
        {
          "output_type": "execute_result",
          "data": {
            "text/plain": [
              "   Номер открытки                           Лицевая сторона - ссылка  \\\n",
              "0              50  https://storage.yandexcloud.net/postcards-resi...   \n",
              "1              51  https://storage.yandexcloud.net/postcards-resi...   \n",
              "2              52  https://storage.yandexcloud.net/postcards-resi...   \n",
              "3              67  https://storage.yandexcloud.net/postcards-resi...   \n",
              "4              68  https://storage.yandexcloud.net/postcards-resi...   \n",
              "\n",
              "                          Оборотная сторона - ссылка Язык текста открытки  \\\n",
              "0  https://storage.yandexcloud.net/postcards-resi...              русский   \n",
              "1  https://storage.yandexcloud.net/postcards-resi...              русский   \n",
              "2  https://storage.yandexcloud.net/postcards-resi...              русский   \n",
              "3  https://storage.yandexcloud.net/postcards-resi...             немецкий   \n",
              "4  https://storage.yandexcloud.net/postcards-resi...     иностранный язык   \n",
              "\n",
              "                                      Текст открытки  \\\n",
              "0  {Милый Жоржик! Простите, голубчик, за молчание...   \n",
              "1  Добрейший Паша! Будь добр вышли мне на консерв...   \n",
              "2  Милая моя Олечка! Открытку твою получила. Спас...   \n",
              "3  Odessa. 30. 7. 01. Herzliche Grüße von [?M.Cho...   \n",
              "4                                      [отсутствует]   \n",
              "\n",
              "  Перевод текста открытки (если на иностранном языке)  \\\n",
              "0                                                       \n",
              "1                                                       \n",
              "2                                                       \n",
              "3                Сердечный привет от [?М. Холоденко]    \n",
              "4                                                       \n",
              "\n",
              "             Вид орфографии  \\\n",
              "0           Дореволюционная   \n",
              "1           Дореволюционная   \n",
              "2           Дореволюционная   \n",
              "3  Латиница/дореволюционная   \n",
              "4                  Латиница   \n",
              "\n",
              "  Дата написания текста (если автор указал явно, не штемпели)  \\\n",
              "0                                      [отсутствует]            \n",
              "1                                         xx.xx.xxxx            \n",
              "2                                         07.12.1910            \n",
              "3                                         30.07.1901            \n",
              "4                                      [отсутствует]            \n",
              "\n",
              "  Адрес отправителя                            Имя отправителя  ...  \\\n",
              "0         г. Одесса                              [отсутствует]  ...   \n",
              "1            Москва                                 М.Каневски  ...   \n",
              "2            Одесса                              [отсутствует]  ...   \n",
              "3            Одесса  [?M.Cholodenko] [Перевод] [?М. Холоденко]  ...   \n",
              "4     [отсутствует]                              [отсутствует]  ...   \n",
              "\n",
              "                           Населенный пункт (откуда)       Страна (куда)  \\\n",
              "0       Херсонская губерния,Одесский уезд, г. Одесса  Российская Империя   \n",
              "1  Московская губерния, Московский уезд, город Мо...  Российская Империя   \n",
              "2   Херсонская губерния, Одесский уезд, город Одесса  Российская Империя   \n",
              "3                                       город Одесса            Германия   \n",
              "4                                      [отсутствует]       [отсутствует]   \n",
              "\n",
              "                             Населенный пункт (куда)       Тег_1  \\\n",
              "0    Тифлисская губерния, Тифлисский уезд, г. Тифлис  Шлю привет   \n",
              "1  Область Войска Донского, Ростовский уезд, горо...     Просьба   \n",
              "2  Тифлисская губерния, Тифлисский уезд, город Ти...     Новости   \n",
              "3                            Саксония, город Дрезден  Шлю привет   \n",
              "4                                      [отсутствует]               \n",
              "\n",
              "                  Тег_2         Тег_3            Тег_4  \\\n",
              "0             Житейское  Дурные вести            Учеба   \n",
              "1  Рассказ об искусстве    Шлю привет                    \n",
              "2             Житейское  Дурные вести  Письма от семьи   \n",
              "3      Иностранный язык                                  \n",
              "4                                                        \n",
              "\n",
              "                          Тег_5       Тег_6 Тег_7  \n",
              "0  Простите, что долго не писал                    \n",
              "1                                                  \n",
              "2                Письма от мамы  Шлю привет        \n",
              "3                                                  \n",
              "4                                                  \n",
              "\n",
              "[5 rows x 34 columns]"
            ],
            "text/html": [
              "\n",
              "  <div id=\"df-2da2d720-8877-4ccc-be0b-23588a38abbd\">\n",
              "    <div class=\"colab-df-container\">\n",
              "      <div>\n",
              "<style scoped>\n",
              "    .dataframe tbody tr th:only-of-type {\n",
              "        vertical-align: middle;\n",
              "    }\n",
              "\n",
              "    .dataframe tbody tr th {\n",
              "        vertical-align: top;\n",
              "    }\n",
              "\n",
              "    .dataframe thead th {\n",
              "        text-align: right;\n",
              "    }\n",
              "</style>\n",
              "<table border=\"1\" class=\"dataframe\">\n",
              "  <thead>\n",
              "    <tr style=\"text-align: right;\">\n",
              "      <th></th>\n",
              "      <th>Номер открытки</th>\n",
              "      <th>Лицевая сторона - ссылка</th>\n",
              "      <th>Оборотная сторона - ссылка</th>\n",
              "      <th>Язык текста открытки</th>\n",
              "      <th>Текст открытки</th>\n",
              "      <th>Перевод текста открытки (если на иностранном языке)</th>\n",
              "      <th>Вид орфографии</th>\n",
              "      <th>Дата написания текста (если автор указал явно, не штемпели)</th>\n",
              "      <th>Адрес отправителя</th>\n",
              "      <th>Имя отправителя</th>\n",
              "      <th>...</th>\n",
              "      <th>Населенный пункт (откуда)</th>\n",
              "      <th>Страна (куда)</th>\n",
              "      <th>Населенный пункт (куда)</th>\n",
              "      <th>Тег_1</th>\n",
              "      <th>Тег_2</th>\n",
              "      <th>Тег_3</th>\n",
              "      <th>Тег_4</th>\n",
              "      <th>Тег_5</th>\n",
              "      <th>Тег_6</th>\n",
              "      <th>Тег_7</th>\n",
              "    </tr>\n",
              "  </thead>\n",
              "  <tbody>\n",
              "    <tr>\n",
              "      <th>0</th>\n",
              "      <td>50</td>\n",
              "      <td>https://storage.yandexcloud.net/postcards-resi...</td>\n",
              "      <td>https://storage.yandexcloud.net/postcards-resi...</td>\n",
              "      <td>русский</td>\n",
              "      <td>{Милый Жоржик! Простите, голубчик, за молчание...</td>\n",
              "      <td></td>\n",
              "      <td>Дореволюционная</td>\n",
              "      <td>[отсутствует]</td>\n",
              "      <td>г. Одесса</td>\n",
              "      <td>[отсутствует]</td>\n",
              "      <td>...</td>\n",
              "      <td>Херсонская губерния,Одесский уезд, г. Одесса</td>\n",
              "      <td>Российская Империя</td>\n",
              "      <td>Тифлисская губерния, Тифлисский уезд, г. Тифлис</td>\n",
              "      <td>Шлю привет</td>\n",
              "      <td>Житейское</td>\n",
              "      <td>Дурные вести</td>\n",
              "      <td>Учеба</td>\n",
              "      <td>Простите, что долго не писал</td>\n",
              "      <td></td>\n",
              "      <td></td>\n",
              "    </tr>\n",
              "    <tr>\n",
              "      <th>1</th>\n",
              "      <td>51</td>\n",
              "      <td>https://storage.yandexcloud.net/postcards-resi...</td>\n",
              "      <td>https://storage.yandexcloud.net/postcards-resi...</td>\n",
              "      <td>русский</td>\n",
              "      <td>Добрейший Паша! Будь добр вышли мне на консерв...</td>\n",
              "      <td></td>\n",
              "      <td>Дореволюционная</td>\n",
              "      <td>xx.xx.xxxx</td>\n",
              "      <td>Москва</td>\n",
              "      <td>М.Каневски</td>\n",
              "      <td>...</td>\n",
              "      <td>Московская губерния, Московский уезд, город Мо...</td>\n",
              "      <td>Российская Империя</td>\n",
              "      <td>Область Войска Донского, Ростовский уезд, горо...</td>\n",
              "      <td>Просьба</td>\n",
              "      <td>Рассказ об искусстве</td>\n",
              "      <td>Шлю привет</td>\n",
              "      <td></td>\n",
              "      <td></td>\n",
              "      <td></td>\n",
              "      <td></td>\n",
              "    </tr>\n",
              "    <tr>\n",
              "      <th>2</th>\n",
              "      <td>52</td>\n",
              "      <td>https://storage.yandexcloud.net/postcards-resi...</td>\n",
              "      <td>https://storage.yandexcloud.net/postcards-resi...</td>\n",
              "      <td>русский</td>\n",
              "      <td>Милая моя Олечка! Открытку твою получила. Спас...</td>\n",
              "      <td></td>\n",
              "      <td>Дореволюционная</td>\n",
              "      <td>07.12.1910</td>\n",
              "      <td>Одесса</td>\n",
              "      <td>[отсутствует]</td>\n",
              "      <td>...</td>\n",
              "      <td>Херсонская губерния, Одесский уезд, город Одесса</td>\n",
              "      <td>Российская Империя</td>\n",
              "      <td>Тифлисская губерния, Тифлисский уезд, город Ти...</td>\n",
              "      <td>Новости</td>\n",
              "      <td>Житейское</td>\n",
              "      <td>Дурные вести</td>\n",
              "      <td>Письма от семьи</td>\n",
              "      <td>Письма от мамы</td>\n",
              "      <td>Шлю привет</td>\n",
              "      <td></td>\n",
              "    </tr>\n",
              "    <tr>\n",
              "      <th>3</th>\n",
              "      <td>67</td>\n",
              "      <td>https://storage.yandexcloud.net/postcards-resi...</td>\n",
              "      <td>https://storage.yandexcloud.net/postcards-resi...</td>\n",
              "      <td>немецкий</td>\n",
              "      <td>Odessa. 30. 7. 01. Herzliche Grüße von [?M.Cho...</td>\n",
              "      <td>Сердечный привет от [?М. Холоденко]</td>\n",
              "      <td>Латиница/дореволюционная</td>\n",
              "      <td>30.07.1901</td>\n",
              "      <td>Одесса</td>\n",
              "      <td>[?M.Cholodenko] [Перевод] [?М. Холоденко]</td>\n",
              "      <td>...</td>\n",
              "      <td>город Одесса</td>\n",
              "      <td>Германия</td>\n",
              "      <td>Саксония, город Дрезден</td>\n",
              "      <td>Шлю привет</td>\n",
              "      <td>Иностранный язык</td>\n",
              "      <td></td>\n",
              "      <td></td>\n",
              "      <td></td>\n",
              "      <td></td>\n",
              "      <td></td>\n",
              "    </tr>\n",
              "    <tr>\n",
              "      <th>4</th>\n",
              "      <td>68</td>\n",
              "      <td>https://storage.yandexcloud.net/postcards-resi...</td>\n",
              "      <td>https://storage.yandexcloud.net/postcards-resi...</td>\n",
              "      <td>иностранный язык</td>\n",
              "      <td>[отсутствует]</td>\n",
              "      <td></td>\n",
              "      <td>Латиница</td>\n",
              "      <td>[отсутствует]</td>\n",
              "      <td>[отсутствует]</td>\n",
              "      <td>[отсутствует]</td>\n",
              "      <td>...</td>\n",
              "      <td>[отсутствует]</td>\n",
              "      <td>[отсутствует]</td>\n",
              "      <td>[отсутствует]</td>\n",
              "      <td></td>\n",
              "      <td></td>\n",
              "      <td></td>\n",
              "      <td></td>\n",
              "      <td></td>\n",
              "      <td></td>\n",
              "      <td></td>\n",
              "    </tr>\n",
              "  </tbody>\n",
              "</table>\n",
              "<p>5 rows × 34 columns</p>\n",
              "</div>\n",
              "      <button class=\"colab-df-convert\" onclick=\"convertToInteractive('df-2da2d720-8877-4ccc-be0b-23588a38abbd')\"\n",
              "              title=\"Convert this dataframe to an interactive table.\"\n",
              "              style=\"display:none;\">\n",
              "        \n",
              "  <svg xmlns=\"http://www.w3.org/2000/svg\" height=\"24px\"viewBox=\"0 0 24 24\"\n",
              "       width=\"24px\">\n",
              "    <path d=\"M0 0h24v24H0V0z\" fill=\"none\"/>\n",
              "    <path d=\"M18.56 5.44l.94 2.06.94-2.06 2.06-.94-2.06-.94-.94-2.06-.94 2.06-2.06.94zm-11 1L8.5 8.5l.94-2.06 2.06-.94-2.06-.94L8.5 2.5l-.94 2.06-2.06.94zm10 10l.94 2.06.94-2.06 2.06-.94-2.06-.94-.94-2.06-.94 2.06-2.06.94z\"/><path d=\"M17.41 7.96l-1.37-1.37c-.4-.4-.92-.59-1.43-.59-.52 0-1.04.2-1.43.59L10.3 9.45l-7.72 7.72c-.78.78-.78 2.05 0 2.83L4 21.41c.39.39.9.59 1.41.59.51 0 1.02-.2 1.41-.59l7.78-7.78 2.81-2.81c.8-.78.8-2.07 0-2.86zM5.41 20L4 18.59l7.72-7.72 1.47 1.35L5.41 20z\"/>\n",
              "  </svg>\n",
              "      </button>\n",
              "      \n",
              "  <style>\n",
              "    .colab-df-container {\n",
              "      display:flex;\n",
              "      flex-wrap:wrap;\n",
              "      gap: 12px;\n",
              "    }\n",
              "\n",
              "    .colab-df-convert {\n",
              "      background-color: #E8F0FE;\n",
              "      border: none;\n",
              "      border-radius: 50%;\n",
              "      cursor: pointer;\n",
              "      display: none;\n",
              "      fill: #1967D2;\n",
              "      height: 32px;\n",
              "      padding: 0 0 0 0;\n",
              "      width: 32px;\n",
              "    }\n",
              "\n",
              "    .colab-df-convert:hover {\n",
              "      background-color: #E2EBFA;\n",
              "      box-shadow: 0px 1px 2px rgba(60, 64, 67, 0.3), 0px 1px 3px 1px rgba(60, 64, 67, 0.15);\n",
              "      fill: #174EA6;\n",
              "    }\n",
              "\n",
              "    [theme=dark] .colab-df-convert {\n",
              "      background-color: #3B4455;\n",
              "      fill: #D2E3FC;\n",
              "    }\n",
              "\n",
              "    [theme=dark] .colab-df-convert:hover {\n",
              "      background-color: #434B5C;\n",
              "      box-shadow: 0px 1px 3px 1px rgba(0, 0, 0, 0.15);\n",
              "      filter: drop-shadow(0px 1px 2px rgba(0, 0, 0, 0.3));\n",
              "      fill: #FFFFFF;\n",
              "    }\n",
              "  </style>\n",
              "\n",
              "      <script>\n",
              "        const buttonEl =\n",
              "          document.querySelector('#df-2da2d720-8877-4ccc-be0b-23588a38abbd button.colab-df-convert');\n",
              "        buttonEl.style.display =\n",
              "          google.colab.kernel.accessAllowed ? 'block' : 'none';\n",
              "\n",
              "        async function convertToInteractive(key) {\n",
              "          const element = document.querySelector('#df-2da2d720-8877-4ccc-be0b-23588a38abbd');\n",
              "          const dataTable =\n",
              "            await google.colab.kernel.invokeFunction('convertToInteractive',\n",
              "                                                     [key], {});\n",
              "          if (!dataTable) return;\n",
              "\n",
              "          const docLinkHtml = 'Like what you see? Visit the ' +\n",
              "            '<a target=\"_blank\" href=https://colab.research.google.com/notebooks/data_table.ipynb>data table notebook</a>'\n",
              "            + ' to learn more about interactive tables.';\n",
              "          element.innerHTML = '';\n",
              "          dataTable['output_type'] = 'display_data';\n",
              "          await google.colab.output.renderOutput(dataTable, element);\n",
              "          const docLink = document.createElement('div');\n",
              "          docLink.innerHTML = docLinkHtml;\n",
              "          element.appendChild(docLink);\n",
              "        }\n",
              "      </script>\n",
              "    </div>\n",
              "  </div>\n",
              "  "
            ]
          },
          "metadata": {},
          "execution_count": 124
        }
      ]
    },
    {
      "cell_type": "code",
      "source": [
        "filename = f'[{cur_date}] Пишу тебе. Корпус (база 1-4).csv'\n",
        "filename"
      ],
      "metadata": {
        "colab": {
          "base_uri": "https://localhost:8080/",
          "height": 35
        },
        "id": "nzYWbH0gGYeo",
        "outputId": "89ba26e2-cfd9-4462-f82b-dcb65e2cd3e8"
      },
      "execution_count": null,
      "outputs": [
        {
          "output_type": "execute_result",
          "data": {
            "text/plain": [
              "'[2023.05.21] Пишу тебе. Корпус (база 1-4).csv'"
            ],
            "application/vnd.google.colaboratory.intrinsic+json": {
              "type": "string"
            }
          },
          "metadata": {},
          "execution_count": 122
        }
      ]
    },
    {
      "cell_type": "code",
      "source": [
        "corpus.to_csv(filename, index=False)"
      ],
      "metadata": {
        "id": "dmIWos0fZfQS"
      },
      "execution_count": null,
      "outputs": []
    }
  ]
}